{
 "cells": [
  {
   "cell_type": "code",
   "execution_count": 76,
   "metadata": {},
   "outputs": [],
   "source": [
    "import fastf1 as ff1\n",
    "from fastf1 import plotting\n",
    "from fastf1 import utils\n",
    "plotting.setup_mpl()\n",
    "ff1.Cache.enable_cache('../cache/')\n",
    "import pandas as pd\n",
    "import numpy as np\n",
    "import plotly.express as px\n",
    "import plotly.graph_objects as go\n",
    "import plotly.io as pio\n",
    "from plotly.subplots import make_subplots\n",
    "import matplotlib as mpl\n",
    "import matplotlib.pyplot as plt\n",
    "from matplotlib.collections import LineCollection\n",
    "pio.templates.default = \"plotly_dark\"\n",
    "import warnings\n",
    "warnings.simplefilter(action='ignore', category=FutureWarning)\n",
    "pd.options.display.max_rows = 75\n",
    "pd.options.display.max_columns = 99"
   ]
  },
  {
   "cell_type": "code",
   "execution_count": 46,
   "metadata": {},
   "outputs": [],
   "source": [
    "year = 2022\n",
    "gp_round = 5\n",
    "ses = 'R'"
   ]
  },
  {
   "cell_type": "code",
   "execution_count": 47,
   "metadata": {},
   "outputs": [],
   "source": [
    "driver_1 = 'VER'\n",
    "driver_2 = 'HAM'"
   ]
  },
  {
   "cell_type": "code",
   "execution_count": 48,
   "metadata": {},
   "outputs": [
    {
     "name": "stderr",
     "output_type": "stream",
     "text": [
      "core           INFO \tLoading data for Miami Grand Prix - Race [v2.2.8]\n",
      "api            INFO \tUsing cached data for driver_info\n",
      "api            INFO \tUsing cached data for timing_data\n",
      "api            INFO \tUsing cached data for timing_app_data\n",
      "core           INFO \tProcessing timing data...\n",
      "api            INFO \tUsing cached data for session_status_data\n",
      "api            INFO \tUsing cached data for track_status_data\n",
      "api            INFO \tUsing cached data for car_data\n",
      "api            INFO \tUsing cached data for position_data\n",
      "api            INFO \tUsing cached data for weather_data\n",
      "api            INFO \tUsing cached data for race_control_messages\n",
      "core           INFO \tFinished loading data for 20 drivers: ['1', '16', '55', '11', '63', '44', '77', '31', '23', '18', '14', '22', '3', '6', '47', '20', '5', '10', '4', '24']\n"
     ]
    }
   ],
   "source": [
    "events_list = ff1.get_event_schedule(2022)[2:]\n",
    "\n",
    "session = ff1.get_session(year, gp_round, ses)\n",
    "session.load(weather=True, telemetry=True)"
   ]
  },
  {
   "cell_type": "code",
   "execution_count": 49,
   "metadata": {},
   "outputs": [
    {
     "data": {
      "text/html": [
       "<div><div id=66c1d327-a266-4895-98fe-b1863e4afc22 style=\"display:none; background-color:#9D6CFF; color:white; width:200px; height:30px; padding-left:5px; border-radius:4px; flex-direction:row; justify-content:space-around; align-items:center;\" onmouseover=\"this.style.backgroundColor='#BA9BF8'\" onmouseout=\"this.style.backgroundColor='#9D6CFF'\" onclick=\"window.commands?.execute('create-mitosheet-from-dataframe-output');\">See Full Dataframe in Mito</div> <script> if (window.commands.hasCommand('create-mitosheet-from-dataframe-output')) document.getElementById('66c1d327-a266-4895-98fe-b1863e4afc22').style.display = 'flex' </script> <table border=\"1\" class=\"dataframe\">\n",
       "  <thead>\n",
       "    <tr style=\"text-align: right;\">\n",
       "      <th></th>\n",
       "      <th>RoundNumber</th>\n",
       "      <th>Country</th>\n",
       "      <th>Location</th>\n",
       "      <th>OfficialEventName</th>\n",
       "      <th>EventDate</th>\n",
       "      <th>EventName</th>\n",
       "      <th>EventFormat</th>\n",
       "      <th>Session1</th>\n",
       "      <th>Session1Date</th>\n",
       "      <th>Session2</th>\n",
       "      <th>Session2Date</th>\n",
       "      <th>Session3</th>\n",
       "      <th>Session3Date</th>\n",
       "      <th>Session4</th>\n",
       "      <th>Session4Date</th>\n",
       "      <th>Session5</th>\n",
       "      <th>Session5Date</th>\n",
       "      <th>F1ApiSupport</th>\n",
       "    </tr>\n",
       "  </thead>\n",
       "  <tbody>\n",
       "    <tr>\n",
       "      <th>2</th>\n",
       "      <td>1</td>\n",
       "      <td>Bahrain</td>\n",
       "      <td>Sakhir</td>\n",
       "      <td>FORMULA 1 GULF AIR BAHRAIN GRAND PRIX 2022</td>\n",
       "      <td>2022-03-20 20:00:00</td>\n",
       "      <td>Bahrain Grand Prix</td>\n",
       "      <td>conventional</td>\n",
       "      <td>Practice 1</td>\n",
       "      <td>2022-03-18 15:00:00</td>\n",
       "      <td>Practice 2</td>\n",
       "      <td>2022-03-18 18:00:00</td>\n",
       "      <td>Practice 3</td>\n",
       "      <td>2022-03-19 15:00:00</td>\n",
       "      <td>Qualifying</td>\n",
       "      <td>2022-03-19 18:00:00</td>\n",
       "      <td>Race</td>\n",
       "      <td>2022-03-20 18:00:00</td>\n",
       "      <td>True</td>\n",
       "    </tr>\n",
       "    <tr>\n",
       "      <th>3</th>\n",
       "      <td>2</td>\n",
       "      <td>Saudi Arabia</td>\n",
       "      <td>Jeddah</td>\n",
       "      <td>FORMULA 1 STC SAUDI ARABIAN GRAND PRIX 2022</td>\n",
       "      <td>2022-03-27 22:00:00</td>\n",
       "      <td>Saudi Arabian Grand Prix</td>\n",
       "      <td>conventional</td>\n",
       "      <td>Practice 1</td>\n",
       "      <td>2022-03-25 17:00:00</td>\n",
       "      <td>Practice 2</td>\n",
       "      <td>2022-03-25 20:00:00</td>\n",
       "      <td>Practice 3</td>\n",
       "      <td>2022-03-26 17:00:00</td>\n",
       "      <td>Qualifying</td>\n",
       "      <td>2022-03-26 20:00:00</td>\n",
       "      <td>Race</td>\n",
       "      <td>2022-03-27 20:00:00</td>\n",
       "      <td>True</td>\n",
       "    </tr>\n",
       "    <tr>\n",
       "      <th>4</th>\n",
       "      <td>3</td>\n",
       "      <td>Australia</td>\n",
       "      <td>Melbourne</td>\n",
       "      <td>FORMULA 1 HEINEKEN AUSTRALIAN GRAND PRIX 2022</td>\n",
       "      <td>2022-04-10 17:00:00</td>\n",
       "      <td>Australian Grand Prix</td>\n",
       "      <td>conventional</td>\n",
       "      <td>Practice 1</td>\n",
       "      <td>2022-04-08 13:00:00</td>\n",
       "      <td>Practice 2</td>\n",
       "      <td>2022-04-08 16:00:00</td>\n",
       "      <td>Practice 3</td>\n",
       "      <td>2022-04-09 13:00:00</td>\n",
       "      <td>Qualifying</td>\n",
       "      <td>2022-04-09 16:00:00</td>\n",
       "      <td>Race</td>\n",
       "      <td>2022-04-10 15:00:00</td>\n",
       "      <td>True</td>\n",
       "    </tr>\n",
       "    <tr>\n",
       "      <th>5</th>\n",
       "      <td>4</td>\n",
       "      <td>Italy</td>\n",
       "      <td>Imola</td>\n",
       "      <td>FORMULA 1 ROLEX GRAN PREMIO DEL MADE IN ITALY E DELL'EMILIA-ROMAGNA 2022</td>\n",
       "      <td>2022-04-24 17:00:00</td>\n",
       "      <td>Emilia Romagna Grand Prix</td>\n",
       "      <td>sprint</td>\n",
       "      <td>Practice 1</td>\n",
       "      <td>2022-04-22 13:30:00</td>\n",
       "      <td>Qualifying</td>\n",
       "      <td>2022-04-22 17:00:00</td>\n",
       "      <td>Practice 2</td>\n",
       "      <td>2022-04-23 12:30:00</td>\n",
       "      <td>Sprint</td>\n",
       "      <td>2022-04-23 16:30:00</td>\n",
       "      <td>Race</td>\n",
       "      <td>2022-04-24 15:00:00</td>\n",
       "      <td>True</td>\n",
       "    </tr>\n",
       "    <tr>\n",
       "      <th>6</th>\n",
       "      <td>5</td>\n",
       "      <td>United States</td>\n",
       "      <td>Miami</td>\n",
       "      <td>FORMULA 1 CRYPTO.COM MIAMI GRAND PRIX 2022</td>\n",
       "      <td>2022-05-08 17:30:00</td>\n",
       "      <td>Miami Grand Prix</td>\n",
       "      <td>conventional</td>\n",
       "      <td>Practice 1</td>\n",
       "      <td>2022-05-06 14:30:00</td>\n",
       "      <td>Practice 2</td>\n",
       "      <td>2022-05-06 17:30:00</td>\n",
       "      <td>Practice 3</td>\n",
       "      <td>2022-05-07 13:00:00</td>\n",
       "      <td>Qualifying</td>\n",
       "      <td>2022-05-07 16:00:00</td>\n",
       "      <td>Race</td>\n",
       "      <td>2022-05-08 15:30:00</td>\n",
       "      <td>True</td>\n",
       "    </tr>\n",
       "    <tr>\n",
       "      <th>...</th>\n",
       "      <td>...</td>\n",
       "      <td>...</td>\n",
       "      <td>...</td>\n",
       "      <td>...</td>\n",
       "      <td>...</td>\n",
       "      <td>...</td>\n",
       "      <td>...</td>\n",
       "      <td>...</td>\n",
       "      <td>...</td>\n",
       "      <td>...</td>\n",
       "      <td>...</td>\n",
       "      <td>...</td>\n",
       "      <td>...</td>\n",
       "      <td>...</td>\n",
       "      <td>...</td>\n",
       "      <td>...</td>\n",
       "      <td>...</td>\n",
       "      <td>...</td>\n",
       "    </tr>\n",
       "    <tr>\n",
       "      <th>19</th>\n",
       "      <td>18</td>\n",
       "      <td>Japan</td>\n",
       "      <td>Suzuka</td>\n",
       "      <td>FORMULA 1 JAPANESE GRAND PRIX 2022</td>\n",
       "      <td>2022-10-09 16:00:00</td>\n",
       "      <td>Japanese Grand Prix</td>\n",
       "      <td>conventional</td>\n",
       "      <td>Practice 1</td>\n",
       "      <td>2022-10-07 13:00:00</td>\n",
       "      <td>Practice 2</td>\n",
       "      <td>2022-10-07 16:00:00</td>\n",
       "      <td>Practice 3</td>\n",
       "      <td>2022-10-08 13:00:00</td>\n",
       "      <td>Qualifying</td>\n",
       "      <td>2022-10-08 16:00:00</td>\n",
       "      <td>Race</td>\n",
       "      <td>2022-10-09 14:00:00</td>\n",
       "      <td>True</td>\n",
       "    </tr>\n",
       "    <tr>\n",
       "      <th>20</th>\n",
       "      <td>19</td>\n",
       "      <td>United States</td>\n",
       "      <td>Austin</td>\n",
       "      <td>FORMULA 1 ARAMCO UNITED STATES GRAND PRIX 2022</td>\n",
       "      <td>2022-10-23 16:00:00</td>\n",
       "      <td>United States Grand Prix</td>\n",
       "      <td>conventional</td>\n",
       "      <td>Practice 1</td>\n",
       "      <td>2022-10-21 14:00:00</td>\n",
       "      <td>Practice 2</td>\n",
       "      <td>2022-10-21 17:00:00</td>\n",
       "      <td>Practice 3</td>\n",
       "      <td>2022-10-22 14:00:00</td>\n",
       "      <td>Qualifying</td>\n",
       "      <td>2022-10-22 17:00:00</td>\n",
       "      <td>Race</td>\n",
       "      <td>2022-10-23 14:00:00</td>\n",
       "      <td>True</td>\n",
       "    </tr>\n",
       "    <tr>\n",
       "      <th>21</th>\n",
       "      <td>20</td>\n",
       "      <td>Mexico</td>\n",
       "      <td>Mexico City</td>\n",
       "      <td>FORMULA 1 GRAN PREMIO DE LA CIUDAD DE MÉXICO 2022</td>\n",
       "      <td>2022-10-30 16:00:00</td>\n",
       "      <td>Mexico City Grand Prix</td>\n",
       "      <td>conventional</td>\n",
       "      <td>Practice 1</td>\n",
       "      <td>2022-10-28 13:00:00</td>\n",
       "      <td>Practice 2</td>\n",
       "      <td>2022-10-28 16:00:00</td>\n",
       "      <td>Practice 3</td>\n",
       "      <td>2022-10-29 12:00:00</td>\n",
       "      <td>Qualifying</td>\n",
       "      <td>2022-10-29 15:00:00</td>\n",
       "      <td>Race</td>\n",
       "      <td>2022-10-30 14:00:00</td>\n",
       "      <td>True</td>\n",
       "    </tr>\n",
       "    <tr>\n",
       "      <th>22</th>\n",
       "      <td>21</td>\n",
       "      <td>Brazil</td>\n",
       "      <td>São Paulo</td>\n",
       "      <td>FORMULA 1 HEINEKEN GRANDE PRÊMIO DE SÃO PAULO 2022</td>\n",
       "      <td>2022-11-13 17:00:00</td>\n",
       "      <td>São Paulo Grand Prix</td>\n",
       "      <td>sprint</td>\n",
       "      <td>Practice 1</td>\n",
       "      <td>2022-11-11 12:30:00</td>\n",
       "      <td>Qualifying</td>\n",
       "      <td>2022-11-11 16:00:00</td>\n",
       "      <td>Practice 2</td>\n",
       "      <td>2022-11-12 12:30:00</td>\n",
       "      <td>Sprint</td>\n",
       "      <td>2022-11-12 16:30:00</td>\n",
       "      <td>Race</td>\n",
       "      <td>2022-11-13 15:00:00</td>\n",
       "      <td>True</td>\n",
       "    </tr>\n",
       "    <tr>\n",
       "      <th>23</th>\n",
       "      <td>22</td>\n",
       "      <td>Abu Dhabi</td>\n",
       "      <td>Yas Island</td>\n",
       "      <td>FORMULA 1 ETIHAD AIRWAYS ABU DHABI GRAND PRIX 2022</td>\n",
       "      <td>2022-11-20 19:00:00</td>\n",
       "      <td>Abu Dhabi Grand Prix</td>\n",
       "      <td>conventional</td>\n",
       "      <td>Practice 1</td>\n",
       "      <td>2022-11-18 14:00:00</td>\n",
       "      <td>Practice 2</td>\n",
       "      <td>2022-11-18 17:00:00</td>\n",
       "      <td>Practice 3</td>\n",
       "      <td>2022-11-19 15:00:00</td>\n",
       "      <td>Qualifying</td>\n",
       "      <td>2022-11-19 18:00:00</td>\n",
       "      <td>Race</td>\n",
       "      <td>2022-11-20 17:00:00</td>\n",
       "      <td>True</td>\n",
       "    </tr>\n",
       "  </tbody>\n",
       "</table></div>"
      ],
      "text/plain": [
       "    RoundNumber        Country           Location  \\\n",
       "2             1        Bahrain             Sakhir   \n",
       "3             2   Saudi Arabia             Jeddah   \n",
       "4             3      Australia          Melbourne   \n",
       "5             4          Italy              Imola   \n",
       "6             5  United States              Miami   \n",
       "7             6          Spain          Barcelona   \n",
       "8             7         Monaco        Monte Carlo   \n",
       "9             8     Azerbaijan               Baku   \n",
       "10            9         Canada           Montréal   \n",
       "11           10  Great Britain        Silverstone   \n",
       "12           11        Austria          Spielberg   \n",
       "13           12         France       Le Castellet   \n",
       "14           13        Hungary           Budapest   \n",
       "15           14        Belgium  Spa-Francorchamps   \n",
       "16           15    Netherlands          Zandvoort   \n",
       "17           16          Italy              Monza   \n",
       "18           17      Singapore         Marina Bay   \n",
       "19           18          Japan             Suzuka   \n",
       "20           19  United States             Austin   \n",
       "21           20         Mexico        Mexico City   \n",
       "22           21         Brazil          São Paulo   \n",
       "23           22      Abu Dhabi         Yas Island   \n",
       "\n",
       "                                    OfficialEventName           EventDate  \\\n",
       "2          FORMULA 1 GULF AIR BAHRAIN GRAND PRIX 2022 2022-03-20 20:00:00   \n",
       "3         FORMULA 1 STC SAUDI ARABIAN GRAND PRIX 2022 2022-03-27 22:00:00   \n",
       "4       FORMULA 1 HEINEKEN AUSTRALIAN GRAND PRIX 2022 2022-04-10 17:00:00   \n",
       "5   FORMULA 1 ROLEX GRAN PREMIO DEL MADE IN ITALY ... 2022-04-24 17:00:00   \n",
       "6          FORMULA 1 CRYPTO.COM MIAMI GRAND PRIX 2022 2022-05-08 17:30:00   \n",
       "7        FORMULA 1 PIRELLI GRAN PREMIO DE ESPAÑA 2022 2022-05-22 17:00:00   \n",
       "8                 FORMULA 1 GRAND PRIX DE MONACO 2022 2022-05-29 17:00:00   \n",
       "9                FORMULA 1 AZERBAIJAN GRAND PRIX 2022 2022-06-12 17:00:00   \n",
       "10                FORMULA 1 GRAND PRIX DU CANADA 2022 2022-06-19 16:00:00   \n",
       "11                  FORMULA 1 BRITISH GRAND PRIX 2022 2022-07-03 17:00:00   \n",
       "12        FORMULA 1 GROSSER PREIS VON ÖSTERREICH 2022 2022-07-10 17:00:00   \n",
       "13                FORMULA 1 GRAND PRIX DE FRANCE 2022 2022-07-24 17:00:00   \n",
       "14                      FORMULA 1 MAGYAR NAGYDÍJ 2022 2022-07-31 17:00:00   \n",
       "15            FORMULA 1 ROLEX BELGIAN GRAND PRIX 2022 2022-08-28 17:00:00   \n",
       "16           FORMULA 1 HEINEKEN DUTCH GRAND PRIX 2022 2022-09-04 17:00:00   \n",
       "17        FORMULA 1 PIRELLI GRAN PREMIO D’ITALIA 2022 2022-09-11 17:00:00   \n",
       "18                FORMULA 1 SINGAPORE GRAND PRIX 2022 2022-10-02 22:00:00   \n",
       "19                 FORMULA 1 JAPANESE GRAND PRIX 2022 2022-10-09 16:00:00   \n",
       "20     FORMULA 1 ARAMCO UNITED STATES GRAND PRIX 2022 2022-10-23 16:00:00   \n",
       "21  FORMULA 1 GRAN PREMIO DE LA CIUDAD DE MÉXICO 2022 2022-10-30 16:00:00   \n",
       "22  FORMULA 1 HEINEKEN GRANDE PRÊMIO DE SÃO PAULO ... 2022-11-13 17:00:00   \n",
       "23  FORMULA 1 ETIHAD AIRWAYS ABU DHABI GRAND PRIX ... 2022-11-20 19:00:00   \n",
       "\n",
       "                    EventName   EventFormat    Session1        Session1Date  \\\n",
       "2          Bahrain Grand Prix  conventional  Practice 1 2022-03-18 15:00:00   \n",
       "3    Saudi Arabian Grand Prix  conventional  Practice 1 2022-03-25 17:00:00   \n",
       "4       Australian Grand Prix  conventional  Practice 1 2022-04-08 13:00:00   \n",
       "5   Emilia Romagna Grand Prix        sprint  Practice 1 2022-04-22 13:30:00   \n",
       "6            Miami Grand Prix  conventional  Practice 1 2022-05-06 14:30:00   \n",
       "7          Spanish Grand Prix  conventional  Practice 1 2022-05-20 14:00:00   \n",
       "8           Monaco Grand Prix  conventional  Practice 1 2022-05-27 14:00:00   \n",
       "9       Azerbaijan Grand Prix  conventional  Practice 1 2022-06-10 15:00:00   \n",
       "10        Canadian Grand Prix  conventional  Practice 1 2022-06-17 14:00:00   \n",
       "11         British Grand Prix  conventional  Practice 1 2022-07-01 13:00:00   \n",
       "12        Austrian Grand Prix        sprint  Practice 1 2022-07-08 13:30:00   \n",
       "13          French Grand Prix  conventional  Practice 1 2022-07-22 14:00:00   \n",
       "14       Hungarian Grand Prix  conventional  Practice 1 2022-07-29 14:00:00   \n",
       "15         Belgian Grand Prix  conventional  Practice 1 2022-08-26 14:00:00   \n",
       "16           Dutch Grand Prix  conventional  Practice 1 2022-09-02 14:00:00   \n",
       "17         Italian Grand Prix  conventional  Practice 1 2022-09-09 14:00:00   \n",
       "18       Singapore Grand Prix  conventional  Practice 1 2022-09-30 18:00:00   \n",
       "19        Japanese Grand Prix  conventional  Practice 1 2022-10-07 13:00:00   \n",
       "20   United States Grand Prix  conventional  Practice 1 2022-10-21 14:00:00   \n",
       "21     Mexico City Grand Prix  conventional  Practice 1 2022-10-28 13:00:00   \n",
       "22       São Paulo Grand Prix        sprint  Practice 1 2022-11-11 12:30:00   \n",
       "23       Abu Dhabi Grand Prix  conventional  Practice 1 2022-11-18 14:00:00   \n",
       "\n",
       "      Session2        Session2Date    Session3        Session3Date  \\\n",
       "2   Practice 2 2022-03-18 18:00:00  Practice 3 2022-03-19 15:00:00   \n",
       "3   Practice 2 2022-03-25 20:00:00  Practice 3 2022-03-26 17:00:00   \n",
       "4   Practice 2 2022-04-08 16:00:00  Practice 3 2022-04-09 13:00:00   \n",
       "5   Qualifying 2022-04-22 17:00:00  Practice 2 2022-04-23 12:30:00   \n",
       "6   Practice 2 2022-05-06 17:30:00  Practice 3 2022-05-07 13:00:00   \n",
       "7   Practice 2 2022-05-20 17:00:00  Practice 3 2022-05-21 13:00:00   \n",
       "8   Practice 2 2022-05-27 17:00:00  Practice 3 2022-05-28 13:00:00   \n",
       "9   Practice 2 2022-06-10 18:00:00  Practice 3 2022-06-11 15:00:00   \n",
       "10  Practice 2 2022-06-17 17:00:00  Practice 3 2022-06-18 13:00:00   \n",
       "11  Practice 2 2022-07-01 16:00:00  Practice 3 2022-07-02 12:00:00   \n",
       "12  Qualifying 2022-07-08 17:00:00  Practice 2 2022-07-09 12:30:00   \n",
       "13  Practice 2 2022-07-22 17:00:00  Practice 3 2022-07-23 13:00:00   \n",
       "14  Practice 2 2022-07-29 17:00:00  Practice 3 2022-07-30 13:00:00   \n",
       "15  Practice 2 2022-08-26 17:00:00  Practice 3 2022-08-27 13:00:00   \n",
       "16  Practice 2 2022-09-02 17:00:00  Practice 3 2022-09-03 13:00:00   \n",
       "17  Practice 2 2022-09-09 17:00:00  Practice 3 2022-09-10 13:00:00   \n",
       "18  Practice 2 2022-09-30 21:00:00  Practice 3 2022-10-01 18:00:00   \n",
       "19  Practice 2 2022-10-07 16:00:00  Practice 3 2022-10-08 13:00:00   \n",
       "20  Practice 2 2022-10-21 17:00:00  Practice 3 2022-10-22 14:00:00   \n",
       "21  Practice 2 2022-10-28 16:00:00  Practice 3 2022-10-29 12:00:00   \n",
       "22  Qualifying 2022-11-11 16:00:00  Practice 2 2022-11-12 12:30:00   \n",
       "23  Practice 2 2022-11-18 17:00:00  Practice 3 2022-11-19 15:00:00   \n",
       "\n",
       "      Session4        Session4Date Session5        Session5Date  F1ApiSupport  \n",
       "2   Qualifying 2022-03-19 18:00:00     Race 2022-03-20 18:00:00          True  \n",
       "3   Qualifying 2022-03-26 20:00:00     Race 2022-03-27 20:00:00          True  \n",
       "4   Qualifying 2022-04-09 16:00:00     Race 2022-04-10 15:00:00          True  \n",
       "5       Sprint 2022-04-23 16:30:00     Race 2022-04-24 15:00:00          True  \n",
       "6   Qualifying 2022-05-07 16:00:00     Race 2022-05-08 15:30:00          True  \n",
       "7   Qualifying 2022-05-21 16:00:00     Race 2022-05-22 15:00:00          True  \n",
       "8   Qualifying 2022-05-28 16:00:00     Race 2022-05-29 15:00:00          True  \n",
       "9   Qualifying 2022-06-11 18:00:00     Race 2022-06-12 15:00:00          True  \n",
       "10  Qualifying 2022-06-18 16:00:00     Race 2022-06-19 14:00:00          True  \n",
       "11  Qualifying 2022-07-02 15:00:00     Race 2022-07-03 15:00:00          True  \n",
       "12      Sprint 2022-07-09 16:30:00     Race 2022-07-10 15:00:00          True  \n",
       "13  Qualifying 2022-07-23 16:00:00     Race 2022-07-24 15:00:00          True  \n",
       "14  Qualifying 2022-07-30 16:00:00     Race 2022-07-31 15:00:00          True  \n",
       "15  Qualifying 2022-08-27 16:00:00     Race 2022-08-28 15:00:00          True  \n",
       "16  Qualifying 2022-09-03 16:00:00     Race 2022-09-04 15:00:00          True  \n",
       "17  Qualifying 2022-09-10 16:00:00     Race 2022-09-11 15:00:00          True  \n",
       "18  Qualifying 2022-10-01 21:00:00     Race 2022-10-02 20:00:00          True  \n",
       "19  Qualifying 2022-10-08 16:00:00     Race 2022-10-09 14:00:00          True  \n",
       "20  Qualifying 2022-10-22 17:00:00     Race 2022-10-23 14:00:00          True  \n",
       "21  Qualifying 2022-10-29 15:00:00     Race 2022-10-30 14:00:00          True  \n",
       "22      Sprint 2022-11-12 16:30:00     Race 2022-11-13 15:00:00          True  \n",
       "23  Qualifying 2022-11-19 18:00:00     Race 2022-11-20 17:00:00          True  "
      ]
     },
     "execution_count": 49,
     "metadata": {},
     "output_type": "execute_result"
    }
   ],
   "source": [
    "events_list"
   ]
  },
  {
   "cell_type": "code",
   "execution_count": 50,
   "metadata": {},
   "outputs": [
    {
     "data": {
      "text/html": [
       "<div><div id=32660d92-0d1c-4f53-b213-688144c40b5d style=\"display:none; background-color:#9D6CFF; color:white; width:200px; height:30px; padding-left:5px; border-radius:4px; flex-direction:row; justify-content:space-around; align-items:center;\" onmouseover=\"this.style.backgroundColor='#BA9BF8'\" onmouseout=\"this.style.backgroundColor='#9D6CFF'\" onclick=\"window.commands?.execute('create-mitosheet-from-dataframe-output');\">See Full Dataframe in Mito</div> <script> if (window.commands.hasCommand('create-mitosheet-from-dataframe-output')) document.getElementById('32660d92-0d1c-4f53-b213-688144c40b5d').style.display = 'flex' </script> <table border=\"1\" class=\"dataframe\">\n",
       "  <thead>\n",
       "    <tr style=\"text-align: right;\">\n",
       "      <th></th>\n",
       "      <th>DriverNumber</th>\n",
       "      <th>BroadcastName</th>\n",
       "      <th>Abbreviation</th>\n",
       "      <th>TeamName</th>\n",
       "      <th>TeamColor</th>\n",
       "      <th>FirstName</th>\n",
       "      <th>LastName</th>\n",
       "      <th>FullName</th>\n",
       "      <th>Position</th>\n",
       "      <th>GridPosition</th>\n",
       "      <th>Q1</th>\n",
       "      <th>Q2</th>\n",
       "      <th>Q3</th>\n",
       "      <th>Time</th>\n",
       "      <th>Status</th>\n",
       "      <th>Points</th>\n",
       "    </tr>\n",
       "  </thead>\n",
       "  <tbody>\n",
       "    <tr>\n",
       "      <th>1</th>\n",
       "      <td>1</td>\n",
       "      <td>M VERSTAPPEN</td>\n",
       "      <td>VER</td>\n",
       "      <td>Red Bull Racing</td>\n",
       "      <td>1e5bc6</td>\n",
       "      <td>Max</td>\n",
       "      <td>Verstappen</td>\n",
       "      <td>Max Verstappen</td>\n",
       "      <td>1.0</td>\n",
       "      <td>3.0</td>\n",
       "      <td>NaT</td>\n",
       "      <td>NaT</td>\n",
       "      <td>NaT</td>\n",
       "      <td>0 days 01:34:24.258000</td>\n",
       "      <td>Finished</td>\n",
       "      <td>26.0</td>\n",
       "    </tr>\n",
       "    <tr>\n",
       "      <th>16</th>\n",
       "      <td>16</td>\n",
       "      <td>C LECLERC</td>\n",
       "      <td>LEC</td>\n",
       "      <td>Ferrari</td>\n",
       "      <td>ed1c24</td>\n",
       "      <td>Charles</td>\n",
       "      <td>Leclerc</td>\n",
       "      <td>Charles Leclerc</td>\n",
       "      <td>2.0</td>\n",
       "      <td>1.0</td>\n",
       "      <td>NaT</td>\n",
       "      <td>NaT</td>\n",
       "      <td>NaT</td>\n",
       "      <td>0 days 01:34:28.044000</td>\n",
       "      <td>Finished</td>\n",
       "      <td>18.0</td>\n",
       "    </tr>\n",
       "    <tr>\n",
       "      <th>55</th>\n",
       "      <td>55</td>\n",
       "      <td>C SAINZ</td>\n",
       "      <td>SAI</td>\n",
       "      <td>Ferrari</td>\n",
       "      <td>ed1c24</td>\n",
       "      <td>Carlos</td>\n",
       "      <td>Sainz</td>\n",
       "      <td>Carlos Sainz</td>\n",
       "      <td>3.0</td>\n",
       "      <td>2.0</td>\n",
       "      <td>NaT</td>\n",
       "      <td>NaT</td>\n",
       "      <td>NaT</td>\n",
       "      <td>0 days 01:34:32.487000</td>\n",
       "      <td>Finished</td>\n",
       "      <td>15.0</td>\n",
       "    </tr>\n",
       "    <tr>\n",
       "      <th>11</th>\n",
       "      <td>11</td>\n",
       "      <td>S PEREZ</td>\n",
       "      <td>PER</td>\n",
       "      <td>Red Bull Racing</td>\n",
       "      <td>1e5bc6</td>\n",
       "      <td>Sergio</td>\n",
       "      <td>Perez</td>\n",
       "      <td>Sergio Perez</td>\n",
       "      <td>4.0</td>\n",
       "      <td>4.0</td>\n",
       "      <td>NaT</td>\n",
       "      <td>NaT</td>\n",
       "      <td>NaT</td>\n",
       "      <td>0 days 01:34:34.896000</td>\n",
       "      <td>Finished</td>\n",
       "      <td>12.0</td>\n",
       "    </tr>\n",
       "    <tr>\n",
       "      <th>63</th>\n",
       "      <td>63</td>\n",
       "      <td>G RUSSELL</td>\n",
       "      <td>RUS</td>\n",
       "      <td>Mercedes</td>\n",
       "      <td>6cd3bf</td>\n",
       "      <td>George</td>\n",
       "      <td>Russell</td>\n",
       "      <td>George Russell</td>\n",
       "      <td>5.0</td>\n",
       "      <td>12.0</td>\n",
       "      <td>NaT</td>\n",
       "      <td>NaT</td>\n",
       "      <td>NaT</td>\n",
       "      <td>0 days 01:34:42.840000</td>\n",
       "      <td>Finished</td>\n",
       "      <td>10.0</td>\n",
       "    </tr>\n",
       "    <tr>\n",
       "      <th>...</th>\n",
       "      <td>...</td>\n",
       "      <td>...</td>\n",
       "      <td>...</td>\n",
       "      <td>...</td>\n",
       "      <td>...</td>\n",
       "      <td>...</td>\n",
       "      <td>...</td>\n",
       "      <td>...</td>\n",
       "      <td>...</td>\n",
       "      <td>...</td>\n",
       "      <td>...</td>\n",
       "      <td>...</td>\n",
       "      <td>...</td>\n",
       "      <td>...</td>\n",
       "      <td>...</td>\n",
       "      <td>...</td>\n",
       "    </tr>\n",
       "    <tr>\n",
       "      <th>20</th>\n",
       "      <td>20</td>\n",
       "      <td>K MAGNUSSEN</td>\n",
       "      <td>MAG</td>\n",
       "      <td>Haas F1 Team</td>\n",
       "      <td>b6babd</td>\n",
       "      <td>Kevin</td>\n",
       "      <td>Magnussen</td>\n",
       "      <td>Kevin Magnussen</td>\n",
       "      <td>16.0</td>\n",
       "      <td>16.0</td>\n",
       "      <td>NaT</td>\n",
       "      <td>NaT</td>\n",
       "      <td>NaT</td>\n",
       "      <td>NaT</td>\n",
       "      <td>Front wing</td>\n",
       "      <td>0.0</td>\n",
       "    </tr>\n",
       "    <tr>\n",
       "      <th>5</th>\n",
       "      <td>5</td>\n",
       "      <td>S VETTEL</td>\n",
       "      <td>VET</td>\n",
       "      <td>Aston Martin</td>\n",
       "      <td>2d826d</td>\n",
       "      <td>Sebastian</td>\n",
       "      <td>Vettel</td>\n",
       "      <td>Sebastian Vettel</td>\n",
       "      <td>17.0</td>\n",
       "      <td>0.0</td>\n",
       "      <td>NaT</td>\n",
       "      <td>NaT</td>\n",
       "      <td>NaT</td>\n",
       "      <td>NaT</td>\n",
       "      <td>Collision</td>\n",
       "      <td>0.0</td>\n",
       "    </tr>\n",
       "    <tr>\n",
       "      <th>10</th>\n",
       "      <td>10</td>\n",
       "      <td>P GASLY</td>\n",
       "      <td>GAS</td>\n",
       "      <td>AlphaTauri</td>\n",
       "      <td>4e7c9b</td>\n",
       "      <td>Pierre</td>\n",
       "      <td>Gasly</td>\n",
       "      <td>Pierre Gasly</td>\n",
       "      <td>18.0</td>\n",
       "      <td>7.0</td>\n",
       "      <td>NaT</td>\n",
       "      <td>NaT</td>\n",
       "      <td>NaT</td>\n",
       "      <td>NaT</td>\n",
       "      <td>Suspension</td>\n",
       "      <td>0.0</td>\n",
       "    </tr>\n",
       "    <tr>\n",
       "      <th>4</th>\n",
       "      <td>4</td>\n",
       "      <td>L NORRIS</td>\n",
       "      <td>NOR</td>\n",
       "      <td>McLaren</td>\n",
       "      <td>f58020</td>\n",
       "      <td>Lando</td>\n",
       "      <td>Norris</td>\n",
       "      <td>Lando Norris</td>\n",
       "      <td>19.0</td>\n",
       "      <td>8.0</td>\n",
       "      <td>NaT</td>\n",
       "      <td>NaT</td>\n",
       "      <td>NaT</td>\n",
       "      <td>NaT</td>\n",
       "      <td>Collision</td>\n",
       "      <td>0.0</td>\n",
       "    </tr>\n",
       "    <tr>\n",
       "      <th>24</th>\n",
       "      <td>24</td>\n",
       "      <td>G ZHOU</td>\n",
       "      <td>ZHO</td>\n",
       "      <td>Alfa Romeo</td>\n",
       "      <td>b12039</td>\n",
       "      <td>Guanyu</td>\n",
       "      <td>Zhou</td>\n",
       "      <td>Guanyu Zhou</td>\n",
       "      <td>20.0</td>\n",
       "      <td>17.0</td>\n",
       "      <td>NaT</td>\n",
       "      <td>NaT</td>\n",
       "      <td>NaT</td>\n",
       "      <td>NaT</td>\n",
       "      <td>Water leak</td>\n",
       "      <td>0.0</td>\n",
       "    </tr>\n",
       "  </tbody>\n",
       "</table></div>"
      ],
      "text/plain": [
       "   DriverNumber BroadcastName Abbreviation         TeamName TeamColor  \\\n",
       "1             1  M VERSTAPPEN          VER  Red Bull Racing    1e5bc6   \n",
       "16           16     C LECLERC          LEC          Ferrari    ed1c24   \n",
       "55           55       C SAINZ          SAI          Ferrari    ed1c24   \n",
       "11           11       S PEREZ          PER  Red Bull Racing    1e5bc6   \n",
       "63           63     G RUSSELL          RUS         Mercedes    6cd3bf   \n",
       "44           44    L HAMILTON          HAM         Mercedes    6cd3bf   \n",
       "77           77      V BOTTAS          BOT       Alfa Romeo    b12039   \n",
       "31           31        E OCON          OCO           Alpine    2293d1   \n",
       "23           23       A ALBON          ALB         Williams    37bedd   \n",
       "18           18      L STROLL          STR     Aston Martin    2d826d   \n",
       "14           14      F ALONSO          ALO           Alpine    2293d1   \n",
       "22           22     Y TSUNODA          TSU       AlphaTauri    4e7c9b   \n",
       "3             3   D RICCIARDO          RIC          McLaren    f58020   \n",
       "6             6      N LATIFI          LAT         Williams    37bedd   \n",
       "47           47  M SCHUMACHER          MSC     Haas F1 Team    b6babd   \n",
       "20           20   K MAGNUSSEN          MAG     Haas F1 Team    b6babd   \n",
       "5             5      S VETTEL          VET     Aston Martin    2d826d   \n",
       "10           10       P GASLY          GAS       AlphaTauri    4e7c9b   \n",
       "4             4      L NORRIS          NOR          McLaren    f58020   \n",
       "24           24        G ZHOU          ZHO       Alfa Romeo    b12039   \n",
       "\n",
       "    FirstName    LastName          FullName  Position  GridPosition  Q1  Q2  \\\n",
       "1         Max  Verstappen    Max Verstappen       1.0           3.0 NaT NaT   \n",
       "16    Charles     Leclerc   Charles Leclerc       2.0           1.0 NaT NaT   \n",
       "55     Carlos       Sainz      Carlos Sainz       3.0           2.0 NaT NaT   \n",
       "11     Sergio       Perez      Sergio Perez       4.0           4.0 NaT NaT   \n",
       "63     George     Russell    George Russell       5.0          12.0 NaT NaT   \n",
       "44      Lewis    Hamilton    Lewis Hamilton       6.0           6.0 NaT NaT   \n",
       "77   Valtteri      Bottas   Valtteri Bottas       7.0           5.0 NaT NaT   \n",
       "31    Esteban        Ocon      Esteban Ocon       8.0          20.0 NaT NaT   \n",
       "23  Alexander       Albon   Alexander Albon       9.0          18.0 NaT NaT   \n",
       "18      Lance      Stroll      Lance Stroll      10.0           0.0 NaT NaT   \n",
       "14   Fernando      Alonso   Fernando Alonso      11.0          11.0 NaT NaT   \n",
       "22       Yuki     Tsunoda      Yuki Tsunoda      12.0           9.0 NaT NaT   \n",
       "3      Daniel   Ricciardo  Daniel Ricciardo      13.0          14.0 NaT NaT   \n",
       "6    Nicholas      Latifi   Nicholas Latifi      14.0          19.0 NaT NaT   \n",
       "47       Mick  Schumacher   Mick Schumacher      15.0          15.0 NaT NaT   \n",
       "20      Kevin   Magnussen   Kevin Magnussen      16.0          16.0 NaT NaT   \n",
       "5   Sebastian      Vettel  Sebastian Vettel      17.0           0.0 NaT NaT   \n",
       "10     Pierre       Gasly      Pierre Gasly      18.0           7.0 NaT NaT   \n",
       "4       Lando      Norris      Lando Norris      19.0           8.0 NaT NaT   \n",
       "24     Guanyu        Zhou       Guanyu Zhou      20.0          17.0 NaT NaT   \n",
       "\n",
       "    Q3                   Time      Status  Points  \n",
       "1  NaT 0 days 01:34:24.258000    Finished    26.0  \n",
       "16 NaT 0 days 01:34:28.044000    Finished    18.0  \n",
       "55 NaT 0 days 01:34:32.487000    Finished    15.0  \n",
       "11 NaT 0 days 01:34:34.896000    Finished    12.0  \n",
       "63 NaT 0 days 01:34:42.840000    Finished    10.0  \n",
       "44 NaT 0 days 01:34:45.626000    Finished     8.0  \n",
       "77 NaT 0 days 01:34:49.331000    Finished     6.0  \n",
       "31 NaT 0 days 01:34:52.644000    Finished     4.0  \n",
       "23 NaT 0 days 01:34:56.623000    Finished     2.0  \n",
       "18 NaT 0 days 01:35:01.284000    Finished     1.0  \n",
       "14 NaT 0 days 01:35:01.386000    Finished     0.0  \n",
       "22 NaT 0 days 01:35:04.404000    Finished     0.0  \n",
       "3  NaT 0 days 01:35:05.160000    Finished     0.0  \n",
       "6  NaT 0 days 01:35:14.194000    Finished     0.0  \n",
       "47 NaT 0 days 01:35:37.563000    Finished     0.0  \n",
       "20 NaT                    NaT  Front wing     0.0  \n",
       "5  NaT                    NaT   Collision     0.0  \n",
       "10 NaT                    NaT  Suspension     0.0  \n",
       "4  NaT                    NaT   Collision     0.0  \n",
       "24 NaT                    NaT  Water leak     0.0  "
      ]
     },
     "execution_count": 50,
     "metadata": {},
     "output_type": "execute_result"
    }
   ],
   "source": [
    "session.results"
   ]
  },
  {
   "cell_type": "code",
   "execution_count": 51,
   "metadata": {},
   "outputs": [
    {
     "data": {
      "text/html": [
       "<div><div id=89f92818-5433-4154-a229-3c77e8e743f3 style=\"display:none; background-color:#9D6CFF; color:white; width:200px; height:30px; padding-left:5px; border-radius:4px; flex-direction:row; justify-content:space-around; align-items:center;\" onmouseover=\"this.style.backgroundColor='#BA9BF8'\" onmouseout=\"this.style.backgroundColor='#9D6CFF'\" onclick=\"window.commands?.execute('create-mitosheet-from-dataframe-output');\">See Full Dataframe in Mito</div> <script> if (window.commands.hasCommand('create-mitosheet-from-dataframe-output')) document.getElementById('89f92818-5433-4154-a229-3c77e8e743f3').style.display = 'flex' </script> <table border=\"1\" class=\"dataframe\">\n",
       "  <thead>\n",
       "    <tr style=\"text-align: right;\">\n",
       "      <th></th>\n",
       "      <th>Date</th>\n",
       "      <th>SessionTime</th>\n",
       "      <th>DriverAhead</th>\n",
       "      <th>DistanceToDriverAhead</th>\n",
       "      <th>Time</th>\n",
       "      <th>RPM</th>\n",
       "      <th>Speed</th>\n",
       "      <th>nGear</th>\n",
       "      <th>Throttle</th>\n",
       "      <th>Brake</th>\n",
       "      <th>DRS</th>\n",
       "      <th>Source</th>\n",
       "      <th>Distance</th>\n",
       "      <th>RelativeDistance</th>\n",
       "      <th>Status</th>\n",
       "      <th>X</th>\n",
       "      <th>Y</th>\n",
       "      <th>Z</th>\n",
       "    </tr>\n",
       "  </thead>\n",
       "  <tbody>\n",
       "    <tr>\n",
       "      <th>2</th>\n",
       "      <td>2022-05-08 21:01:33.852</td>\n",
       "      <td>0 days 02:30:33.844000</td>\n",
       "      <td></td>\n",
       "      <td>NaN</td>\n",
       "      <td>0 days 00:00:00</td>\n",
       "      <td>11084</td>\n",
       "      <td>279</td>\n",
       "      <td>7</td>\n",
       "      <td>100</td>\n",
       "      <td>False</td>\n",
       "      <td>0</td>\n",
       "      <td>interpolation</td>\n",
       "      <td>0.026871</td>\n",
       "      <td>0.000005</td>\n",
       "      <td>OnTrack</td>\n",
       "      <td>1839</td>\n",
       "      <td>127</td>\n",
       "      <td>249</td>\n",
       "    </tr>\n",
       "    <tr>\n",
       "      <th>3</th>\n",
       "      <td>2022-05-08 21:01:33.883</td>\n",
       "      <td>0 days 02:30:33.875000</td>\n",
       "      <td></td>\n",
       "      <td>NaN</td>\n",
       "      <td>0 days 00:00:00.031000</td>\n",
       "      <td>11112</td>\n",
       "      <td>280</td>\n",
       "      <td>7</td>\n",
       "      <td>100</td>\n",
       "      <td>False</td>\n",
       "      <td>0</td>\n",
       "      <td>pos</td>\n",
       "      <td>2.444936</td>\n",
       "      <td>0.000457</td>\n",
       "      <td>OnTrack</td>\n",
       "      <td>1860</td>\n",
       "      <td>115</td>\n",
       "      <td>250</td>\n",
       "    </tr>\n",
       "    <tr>\n",
       "      <th>4</th>\n",
       "      <td>2022-05-08 21:01:34.022</td>\n",
       "      <td>0 days 02:30:34.014000</td>\n",
       "      <td></td>\n",
       "      <td>NaN</td>\n",
       "      <td>0 days 00:00:00.170000</td>\n",
       "      <td>11168</td>\n",
       "      <td>281</td>\n",
       "      <td>7</td>\n",
       "      <td>100</td>\n",
       "      <td>False</td>\n",
       "      <td>0</td>\n",
       "      <td>car</td>\n",
       "      <td>13.330556</td>\n",
       "      <td>0.002493</td>\n",
       "      <td>OnTrack</td>\n",
       "      <td>1951</td>\n",
       "      <td>56</td>\n",
       "      <td>249</td>\n",
       "    </tr>\n",
       "    <tr>\n",
       "      <th>5</th>\n",
       "      <td>2022-05-08 21:01:34.183</td>\n",
       "      <td>0 days 02:30:34.175000</td>\n",
       "      <td></td>\n",
       "      <td>NaN</td>\n",
       "      <td>0 days 00:00:00.331000</td>\n",
       "      <td>11212</td>\n",
       "      <td>282</td>\n",
       "      <td>7</td>\n",
       "      <td>100</td>\n",
       "      <td>False</td>\n",
       "      <td>0</td>\n",
       "      <td>pos</td>\n",
       "      <td>26.027523</td>\n",
       "      <td>0.004867</td>\n",
       "      <td>OnTrack</td>\n",
       "      <td>2059</td>\n",
       "      <td>-11</td>\n",
       "      <td>250</td>\n",
       "    </tr>\n",
       "    <tr>\n",
       "      <th>6</th>\n",
       "      <td>2022-05-08 21:01:34.363</td>\n",
       "      <td>0 days 02:30:34.355000</td>\n",
       "      <td></td>\n",
       "      <td>NaN</td>\n",
       "      <td>0 days 00:00:00.511000</td>\n",
       "      <td>11257</td>\n",
       "      <td>283</td>\n",
       "      <td>7</td>\n",
       "      <td>100</td>\n",
       "      <td>False</td>\n",
       "      <td>0</td>\n",
       "      <td>pos</td>\n",
       "      <td>40.317748</td>\n",
       "      <td>0.007539</td>\n",
       "      <td>OnTrack</td>\n",
       "      <td>2180</td>\n",
       "      <td>-87</td>\n",
       "      <td>251</td>\n",
       "    </tr>\n",
       "    <tr>\n",
       "      <th>...</th>\n",
       "      <td>...</td>\n",
       "      <td>...</td>\n",
       "      <td>...</td>\n",
       "      <td>...</td>\n",
       "      <td>...</td>\n",
       "      <td>...</td>\n",
       "      <td>...</td>\n",
       "      <td>...</td>\n",
       "      <td>...</td>\n",
       "      <td>...</td>\n",
       "      <td>...</td>\n",
       "      <td>...</td>\n",
       "      <td>...</td>\n",
       "      <td>...</td>\n",
       "      <td>...</td>\n",
       "      <td>...</td>\n",
       "      <td>...</td>\n",
       "      <td>...</td>\n",
       "    </tr>\n",
       "    <tr>\n",
       "      <th>668</th>\n",
       "      <td>2022-05-08 21:03:04.823</td>\n",
       "      <td>0 days 02:32:04.815000</td>\n",
       "      <td></td>\n",
       "      <td>NaN</td>\n",
       "      <td>0 days 00:01:30.971000</td>\n",
       "      <td>11040</td>\n",
       "      <td>277</td>\n",
       "      <td>7</td>\n",
       "      <td>100</td>\n",
       "      <td>False</td>\n",
       "      <td>0</td>\n",
       "      <td>pos</td>\n",
       "      <td>5294.664440</td>\n",
       "      <td>0.990072</td>\n",
       "      <td>OnTrack</td>\n",
       "      <td>1610</td>\n",
       "      <td>267</td>\n",
       "      <td>249</td>\n",
       "    </tr>\n",
       "    <tr>\n",
       "      <th>669</th>\n",
       "      <td>2022-05-08 21:03:04.862</td>\n",
       "      <td>0 days 02:32:04.854000</td>\n",
       "      <td></td>\n",
       "      <td>NaN</td>\n",
       "      <td>0 days 00:01:31.010000</td>\n",
       "      <td>11063</td>\n",
       "      <td>278</td>\n",
       "      <td>7</td>\n",
       "      <td>100</td>\n",
       "      <td>False</td>\n",
       "      <td>0</td>\n",
       "      <td>car</td>\n",
       "      <td>5297.679167</td>\n",
       "      <td>0.990636</td>\n",
       "      <td>OnTrack</td>\n",
       "      <td>1636</td>\n",
       "      <td>251</td>\n",
       "      <td>249</td>\n",
       "    </tr>\n",
       "    <tr>\n",
       "      <th>670</th>\n",
       "      <td>2022-05-08 21:03:05.142</td>\n",
       "      <td>0 days 02:32:05.134000</td>\n",
       "      <td></td>\n",
       "      <td>NaN</td>\n",
       "      <td>0 days 00:01:31.290000</td>\n",
       "      <td>11062</td>\n",
       "      <td>279</td>\n",
       "      <td>7</td>\n",
       "      <td>100</td>\n",
       "      <td>False</td>\n",
       "      <td>0</td>\n",
       "      <td>car</td>\n",
       "      <td>5319.379167</td>\n",
       "      <td>0.994693</td>\n",
       "      <td>OnTrack</td>\n",
       "      <td>1822</td>\n",
       "      <td>137</td>\n",
       "      <td>249</td>\n",
       "    </tr>\n",
       "    <tr>\n",
       "      <th>671</th>\n",
       "      <td>2022-05-08 21:03:05.183</td>\n",
       "      <td>0 days 02:32:05.175000</td>\n",
       "      <td></td>\n",
       "      <td>NaN</td>\n",
       "      <td>0 days 00:01:31.331000</td>\n",
       "      <td>11132</td>\n",
       "      <td>280</td>\n",
       "      <td>7</td>\n",
       "      <td>100</td>\n",
       "      <td>False</td>\n",
       "      <td>0</td>\n",
       "      <td>pos</td>\n",
       "      <td>5322.577110</td>\n",
       "      <td>0.995291</td>\n",
       "      <td>OnTrack</td>\n",
       "      <td>1850</td>\n",
       "      <td>121</td>\n",
       "      <td>250</td>\n",
       "    </tr>\n",
       "    <tr>\n",
       "      <th>672</th>\n",
       "      <td>2022-05-08 21:03:05.213</td>\n",
       "      <td>0 days 02:32:05.205000</td>\n",
       "      <td></td>\n",
       "      <td>NaN</td>\n",
       "      <td>0 days 00:01:31.361000</td>\n",
       "      <td>11167</td>\n",
       "      <td>280</td>\n",
       "      <td>7</td>\n",
       "      <td>100</td>\n",
       "      <td>False</td>\n",
       "      <td>0</td>\n",
       "      <td>interpolation</td>\n",
       "      <td>5324.921138</td>\n",
       "      <td>0.995730</td>\n",
       "      <td>OnTrack</td>\n",
       "      <td>1870</td>\n",
       "      <td>109</td>\n",
       "      <td>250</td>\n",
       "    </tr>\n",
       "  </tbody>\n",
       "</table></div>"
      ],
      "text/plain": [
       "                       Date            SessionTime DriverAhead  \\\n",
       "2   2022-05-08 21:01:33.852 0 days 02:30:33.844000               \n",
       "3   2022-05-08 21:01:33.883 0 days 02:30:33.875000               \n",
       "4   2022-05-08 21:01:34.022 0 days 02:30:34.014000               \n",
       "5   2022-05-08 21:01:34.183 0 days 02:30:34.175000               \n",
       "6   2022-05-08 21:01:34.363 0 days 02:30:34.355000               \n",
       "..                      ...                    ...         ...   \n",
       "668 2022-05-08 21:03:04.823 0 days 02:32:04.815000               \n",
       "669 2022-05-08 21:03:04.862 0 days 02:32:04.854000               \n",
       "670 2022-05-08 21:03:05.142 0 days 02:32:05.134000               \n",
       "671 2022-05-08 21:03:05.183 0 days 02:32:05.175000               \n",
       "672 2022-05-08 21:03:05.213 0 days 02:32:05.205000               \n",
       "\n",
       "     DistanceToDriverAhead                   Time    RPM  Speed  nGear  \\\n",
       "2                      NaN        0 days 00:00:00  11084    279      7   \n",
       "3                      NaN 0 days 00:00:00.031000  11112    280      7   \n",
       "4                      NaN 0 days 00:00:00.170000  11168    281      7   \n",
       "5                      NaN 0 days 00:00:00.331000  11212    282      7   \n",
       "6                      NaN 0 days 00:00:00.511000  11257    283      7   \n",
       "..                     ...                    ...    ...    ...    ...   \n",
       "668                    NaN 0 days 00:01:30.971000  11040    277      7   \n",
       "669                    NaN 0 days 00:01:31.010000  11063    278      7   \n",
       "670                    NaN 0 days 00:01:31.290000  11062    279      7   \n",
       "671                    NaN 0 days 00:01:31.331000  11132    280      7   \n",
       "672                    NaN 0 days 00:01:31.361000  11167    280      7   \n",
       "\n",
       "     Throttle  Brake  DRS         Source     Distance  RelativeDistance  \\\n",
       "2         100  False    0  interpolation     0.026871          0.000005   \n",
       "3         100  False    0            pos     2.444936          0.000457   \n",
       "4         100  False    0            car    13.330556          0.002493   \n",
       "5         100  False    0            pos    26.027523          0.004867   \n",
       "6         100  False    0            pos    40.317748          0.007539   \n",
       "..        ...    ...  ...            ...          ...               ...   \n",
       "668       100  False    0            pos  5294.664440          0.990072   \n",
       "669       100  False    0            car  5297.679167          0.990636   \n",
       "670       100  False    0            car  5319.379167          0.994693   \n",
       "671       100  False    0            pos  5322.577110          0.995291   \n",
       "672       100  False    0  interpolation  5324.921138          0.995730   \n",
       "\n",
       "      Status     X    Y    Z  \n",
       "2    OnTrack  1839  127  249  \n",
       "3    OnTrack  1860  115  250  \n",
       "4    OnTrack  1951   56  249  \n",
       "5    OnTrack  2059  -11  250  \n",
       "6    OnTrack  2180  -87  251  \n",
       "..       ...   ...  ...  ...  \n",
       "668  OnTrack  1610  267  249  \n",
       "669  OnTrack  1636  251  249  \n",
       "670  OnTrack  1822  137  249  \n",
       "671  OnTrack  1850  121  250  \n",
       "672  OnTrack  1870  109  250  \n",
       "\n",
       "[671 rows x 18 columns]"
      ]
     },
     "execution_count": 51,
     "metadata": {},
     "output_type": "execute_result"
    }
   ],
   "source": [
    "fastest_lap = session.laps.pick_fastest()\n",
    "tel = fastest_lap.telemetry\n",
    "tel"
   ]
  },
  {
   "cell_type": "code",
   "execution_count": 52,
   "metadata": {},
   "outputs": [
    {
     "data": {
      "text/html": [
       "<div><div id=c3b0f94b-c726-48f0-9eb4-f5c8ca15365d style=\"display:none; background-color:#9D6CFF; color:white; width:200px; height:30px; padding-left:5px; border-radius:4px; flex-direction:row; justify-content:space-around; align-items:center;\" onmouseover=\"this.style.backgroundColor='#BA9BF8'\" onmouseout=\"this.style.backgroundColor='#9D6CFF'\" onclick=\"window.commands?.execute('create-mitosheet-from-dataframe-output');\">See Full Dataframe in Mito</div> <script> if (window.commands.hasCommand('create-mitosheet-from-dataframe-output')) document.getElementById('c3b0f94b-c726-48f0-9eb4-f5c8ca15365d').style.display = 'flex' </script> <table border=\"1\" class=\"dataframe\">\n",
       "  <thead>\n",
       "    <tr style=\"text-align: right;\">\n",
       "      <th></th>\n",
       "      <th>Time</th>\n",
       "      <th>AirTemp</th>\n",
       "      <th>Humidity</th>\n",
       "      <th>Pressure</th>\n",
       "      <th>Rainfall</th>\n",
       "      <th>TrackTemp</th>\n",
       "      <th>WindDirection</th>\n",
       "      <th>WindSpeed</th>\n",
       "    </tr>\n",
       "  </thead>\n",
       "  <tbody>\n",
       "    <tr>\n",
       "      <th>0</th>\n",
       "      <td>0 days 00:00:30.789000</td>\n",
       "      <td>31.7</td>\n",
       "      <td>49.0</td>\n",
       "      <td>1010.0</td>\n",
       "      <td>True</td>\n",
       "      <td>42.8</td>\n",
       "      <td>322</td>\n",
       "      <td>3.5</td>\n",
       "    </tr>\n",
       "    <tr>\n",
       "      <th>1</th>\n",
       "      <td>0 days 00:01:30.783000</td>\n",
       "      <td>31.4</td>\n",
       "      <td>49.0</td>\n",
       "      <td>1010.0</td>\n",
       "      <td>True</td>\n",
       "      <td>42.8</td>\n",
       "      <td>322</td>\n",
       "      <td>3.5</td>\n",
       "    </tr>\n",
       "    <tr>\n",
       "      <th>2</th>\n",
       "      <td>0 days 00:02:30.788000</td>\n",
       "      <td>31.3</td>\n",
       "      <td>49.0</td>\n",
       "      <td>1010.0</td>\n",
       "      <td>True</td>\n",
       "      <td>42.8</td>\n",
       "      <td>322</td>\n",
       "      <td>3.5</td>\n",
       "    </tr>\n",
       "    <tr>\n",
       "      <th>3</th>\n",
       "      <td>0 days 00:03:30.789000</td>\n",
       "      <td>31.2</td>\n",
       "      <td>49.0</td>\n",
       "      <td>1010.0</td>\n",
       "      <td>True</td>\n",
       "      <td>42.8</td>\n",
       "      <td>322</td>\n",
       "      <td>3.5</td>\n",
       "    </tr>\n",
       "    <tr>\n",
       "      <th>4</th>\n",
       "      <td>0 days 00:04:30.788000</td>\n",
       "      <td>30.8</td>\n",
       "      <td>53.0</td>\n",
       "      <td>1010.0</td>\n",
       "      <td>True</td>\n",
       "      <td>36.2</td>\n",
       "      <td>312</td>\n",
       "      <td>2.7</td>\n",
       "    </tr>\n",
       "    <tr>\n",
       "      <th>...</th>\n",
       "      <td>...</td>\n",
       "      <td>...</td>\n",
       "      <td>...</td>\n",
       "      <td>...</td>\n",
       "      <td>...</td>\n",
       "      <td>...</td>\n",
       "      <td>...</td>\n",
       "      <td>...</td>\n",
       "    </tr>\n",
       "    <tr>\n",
       "      <th>157</th>\n",
       "      <td>0 days 02:37:31.353000</td>\n",
       "      <td>29.7</td>\n",
       "      <td>67.0</td>\n",
       "      <td>1008.9</td>\n",
       "      <td>False</td>\n",
       "      <td>40.0</td>\n",
       "      <td>69</td>\n",
       "      <td>1.7</td>\n",
       "    </tr>\n",
       "    <tr>\n",
       "      <th>158</th>\n",
       "      <td>0 days 02:38:31.368000</td>\n",
       "      <td>29.7</td>\n",
       "      <td>67.0</td>\n",
       "      <td>1008.9</td>\n",
       "      <td>False</td>\n",
       "      <td>40.6</td>\n",
       "      <td>119</td>\n",
       "      <td>2.5</td>\n",
       "    </tr>\n",
       "    <tr>\n",
       "      <th>159</th>\n",
       "      <td>0 days 02:39:31.380000</td>\n",
       "      <td>29.8</td>\n",
       "      <td>67.0</td>\n",
       "      <td>1008.7</td>\n",
       "      <td>False</td>\n",
       "      <td>41.3</td>\n",
       "      <td>146</td>\n",
       "      <td>2.4</td>\n",
       "    </tr>\n",
       "    <tr>\n",
       "      <th>160</th>\n",
       "      <td>0 days 02:40:31.396000</td>\n",
       "      <td>29.9</td>\n",
       "      <td>66.0</td>\n",
       "      <td>1008.7</td>\n",
       "      <td>False</td>\n",
       "      <td>41.0</td>\n",
       "      <td>142</td>\n",
       "      <td>1.7</td>\n",
       "    </tr>\n",
       "    <tr>\n",
       "      <th>161</th>\n",
       "      <td>0 days 02:41:31.381000</td>\n",
       "      <td>30.0</td>\n",
       "      <td>66.0</td>\n",
       "      <td>1008.7</td>\n",
       "      <td>False</td>\n",
       "      <td>40.8</td>\n",
       "      <td>124</td>\n",
       "      <td>2.5</td>\n",
       "    </tr>\n",
       "  </tbody>\n",
       "</table></div>"
      ],
      "text/plain": [
       "                      Time  AirTemp  Humidity  Pressure  Rainfall  TrackTemp  \\\n",
       "0   0 days 00:00:30.789000     31.7      49.0    1010.0      True       42.8   \n",
       "1   0 days 00:01:30.783000     31.4      49.0    1010.0      True       42.8   \n",
       "2   0 days 00:02:30.788000     31.3      49.0    1010.0      True       42.8   \n",
       "3   0 days 00:03:30.789000     31.2      49.0    1010.0      True       42.8   \n",
       "4   0 days 00:04:30.788000     30.8      53.0    1010.0      True       36.2   \n",
       "..                     ...      ...       ...       ...       ...        ...   \n",
       "157 0 days 02:37:31.353000     29.7      67.0    1008.9     False       40.0   \n",
       "158 0 days 02:38:31.368000     29.7      67.0    1008.9     False       40.6   \n",
       "159 0 days 02:39:31.380000     29.8      67.0    1008.7     False       41.3   \n",
       "160 0 days 02:40:31.396000     29.9      66.0    1008.7     False       41.0   \n",
       "161 0 days 02:41:31.381000     30.0      66.0    1008.7     False       40.8   \n",
       "\n",
       "     WindDirection  WindSpeed  \n",
       "0              322        3.5  \n",
       "1              322        3.5  \n",
       "2              322        3.5  \n",
       "3              322        3.5  \n",
       "4              312        2.7  \n",
       "..             ...        ...  \n",
       "157             69        1.7  \n",
       "158            119        2.5  \n",
       "159            146        2.4  \n",
       "160            142        1.7  \n",
       "161            124        2.5  \n",
       "\n",
       "[162 rows x 8 columns]"
      ]
     },
     "execution_count": 52,
     "metadata": {},
     "output_type": "execute_result"
    }
   ],
   "source": [
    "session_weather = session.weather_data\n",
    "session_weather"
   ]
  },
  {
   "cell_type": "code",
   "execution_count": 53,
   "metadata": {},
   "outputs": [],
   "source": [
    "# Function to format timedelta Series as string if necessary\n",
    "def format_time(timedelta_series):\n",
    "    t_list_str = []\n",
    "    for i in timedelta_series:\n",
    "        i = str(i)\n",
    "        t_list_str.append(i[10:-3])\n",
    "        \n",
    "    return t_list_str"
   ]
  },
  {
   "cell_type": "code",
   "execution_count": 54,
   "metadata": {},
   "outputs": [],
   "source": [
    "fastest_driver_1 = session.laps.pick_driver(driver_1).pick_fastest()\n",
    "fastest_driver_2 = session.laps.pick_driver(driver_2).pick_fastest()"
   ]
  },
  {
   "cell_type": "code",
   "execution_count": 55,
   "metadata": {},
   "outputs": [],
   "source": [
    "car_data_1 = fastest_driver_1.get_car_data().add_distance()\n",
    "car_data_1['Distance'] = round(car_data_1['Distance'])\n",
    "car_data_2 = fastest_driver_2.get_car_data().add_distance()\n",
    "car_data_2['Distance'] = round(car_data_2['Distance'])\n",
    "# t_list_lec = format_time(t_lec)\n",
    "# t_list_msc = format_time(t_msc)"
   ]
  },
  {
   "cell_type": "code",
   "execution_count": 56,
   "metadata": {},
   "outputs": [],
   "source": [
    "delta_time, ref_tel, compare_tel = utils.delta_time(fastest_driver_1, fastest_driver_2)\n",
    "plot_title = f\"{session.event.year} {session.event.EventName} - {session.name} - {driver_1} vs {driver_2}\""
   ]
  },
  {
   "cell_type": "code",
   "execution_count": 57,
   "metadata": {},
   "outputs": [
    {
     "data": {
      "text/html": [
       "<div><div id=948765dc-b370-467d-9f0d-b703076b9179 style=\"display:none; background-color:#9D6CFF; color:white; width:200px; height:30px; padding-left:5px; border-radius:4px; flex-direction:row; justify-content:space-around; align-items:center;\" onmouseover=\"this.style.backgroundColor='#BA9BF8'\" onmouseout=\"this.style.backgroundColor='#9D6CFF'\" onclick=\"window.commands?.execute('create-mitosheet-from-dataframe-output');\">See Full Dataframe in Mito</div> <script> if (window.commands.hasCommand('create-mitosheet-from-dataframe-output')) document.getElementById('948765dc-b370-467d-9f0d-b703076b9179').style.display = 'flex' </script> <table border=\"1\" class=\"dataframe\">\n",
       "  <thead>\n",
       "    <tr style=\"text-align: right;\">\n",
       "      <th></th>\n",
       "      <th>Date</th>\n",
       "      <th>SessionTime</th>\n",
       "      <th>RPM</th>\n",
       "      <th>Speed</th>\n",
       "      <th>nGear</th>\n",
       "      <th>Throttle</th>\n",
       "      <th>Brake</th>\n",
       "      <th>DRS</th>\n",
       "      <th>Source</th>\n",
       "      <th>Time</th>\n",
       "      <th>Distance</th>\n",
       "    </tr>\n",
       "  </thead>\n",
       "  <tbody>\n",
       "    <tr>\n",
       "      <th>0</th>\n",
       "      <td>2022-05-08 21:01:33.852</td>\n",
       "      <td>0 days 02:30:33.844000</td>\n",
       "      <td>11112</td>\n",
       "      <td>280</td>\n",
       "      <td>7</td>\n",
       "      <td>100</td>\n",
       "      <td>False</td>\n",
       "      <td>0</td>\n",
       "      <td>interpolation</td>\n",
       "      <td>0 days 00:00:00</td>\n",
       "      <td>0.000000</td>\n",
       "    </tr>\n",
       "    <tr>\n",
       "      <th>1</th>\n",
       "      <td>2022-05-08 21:01:34.022</td>\n",
       "      <td>0 days 02:30:34.014000</td>\n",
       "      <td>11168</td>\n",
       "      <td>281</td>\n",
       "      <td>7</td>\n",
       "      <td>100</td>\n",
       "      <td>False</td>\n",
       "      <td>0</td>\n",
       "      <td>car</td>\n",
       "      <td>0 days 00:00:00.170000</td>\n",
       "      <td>13.269444</td>\n",
       "    </tr>\n",
       "    <tr>\n",
       "      <th>2</th>\n",
       "      <td>2022-05-08 21:01:34.382</td>\n",
       "      <td>0 days 02:30:34.374000</td>\n",
       "      <td>11302</td>\n",
       "      <td>285</td>\n",
       "      <td>7</td>\n",
       "      <td>100</td>\n",
       "      <td>False</td>\n",
       "      <td>0</td>\n",
       "      <td>car</td>\n",
       "      <td>0 days 00:00:00.530000</td>\n",
       "      <td>41.769444</td>\n",
       "    </tr>\n",
       "    <tr>\n",
       "      <th>3</th>\n",
       "      <td>2022-05-08 21:01:34.822</td>\n",
       "      <td>0 days 02:30:34.814000</td>\n",
       "      <td>11310</td>\n",
       "      <td>288</td>\n",
       "      <td>7</td>\n",
       "      <td>100</td>\n",
       "      <td>False</td>\n",
       "      <td>0</td>\n",
       "      <td>car</td>\n",
       "      <td>0 days 00:00:00.970000</td>\n",
       "      <td>76.969444</td>\n",
       "    </tr>\n",
       "    <tr>\n",
       "      <th>4</th>\n",
       "      <td>2022-05-08 21:01:35.182</td>\n",
       "      <td>0 days 02:30:35.174000</td>\n",
       "      <td>11357</td>\n",
       "      <td>288</td>\n",
       "      <td>7</td>\n",
       "      <td>100</td>\n",
       "      <td>False</td>\n",
       "      <td>0</td>\n",
       "      <td>car</td>\n",
       "      <td>0 days 00:00:01.330000</td>\n",
       "      <td>105.769444</td>\n",
       "    </tr>\n",
       "    <tr>\n",
       "      <th>...</th>\n",
       "      <td>...</td>\n",
       "      <td>...</td>\n",
       "      <td>...</td>\n",
       "      <td>...</td>\n",
       "      <td>...</td>\n",
       "      <td>...</td>\n",
       "      <td>...</td>\n",
       "      <td>...</td>\n",
       "      <td>...</td>\n",
       "      <td>...</td>\n",
       "      <td>...</td>\n",
       "    </tr>\n",
       "    <tr>\n",
       "      <th>330</th>\n",
       "      <td>2022-05-08 21:03:04.422</td>\n",
       "      <td>0 days 02:32:04.414000</td>\n",
       "      <td>10896</td>\n",
       "      <td>272</td>\n",
       "      <td>7</td>\n",
       "      <td>100</td>\n",
       "      <td>False</td>\n",
       "      <td>0</td>\n",
       "      <td>car</td>\n",
       "      <td>0 days 00:01:30.570000</td>\n",
       "      <td>5263.773611</td>\n",
       "    </tr>\n",
       "    <tr>\n",
       "      <th>331</th>\n",
       "      <td>2022-05-08 21:03:04.662</td>\n",
       "      <td>0 days 02:32:04.654000</td>\n",
       "      <td>10994</td>\n",
       "      <td>276</td>\n",
       "      <td>7</td>\n",
       "      <td>100</td>\n",
       "      <td>False</td>\n",
       "      <td>0</td>\n",
       "      <td>car</td>\n",
       "      <td>0 days 00:01:30.810000</td>\n",
       "      <td>5282.173611</td>\n",
       "    </tr>\n",
       "    <tr>\n",
       "      <th>332</th>\n",
       "      <td>2022-05-08 21:03:04.862</td>\n",
       "      <td>0 days 02:32:04.854000</td>\n",
       "      <td>11063</td>\n",
       "      <td>278</td>\n",
       "      <td>7</td>\n",
       "      <td>100</td>\n",
       "      <td>False</td>\n",
       "      <td>0</td>\n",
       "      <td>car</td>\n",
       "      <td>0 days 00:01:31.010000</td>\n",
       "      <td>5297.618056</td>\n",
       "    </tr>\n",
       "    <tr>\n",
       "      <th>333</th>\n",
       "      <td>2022-05-08 21:03:05.142</td>\n",
       "      <td>0 days 02:32:05.134000</td>\n",
       "      <td>11062</td>\n",
       "      <td>279</td>\n",
       "      <td>7</td>\n",
       "      <td>100</td>\n",
       "      <td>False</td>\n",
       "      <td>0</td>\n",
       "      <td>car</td>\n",
       "      <td>0 days 00:01:31.290000</td>\n",
       "      <td>5319.318056</td>\n",
       "    </tr>\n",
       "    <tr>\n",
       "      <th>334</th>\n",
       "      <td>2022-05-08 21:03:05.213</td>\n",
       "      <td>0 days 02:32:05.205000</td>\n",
       "      <td>11168</td>\n",
       "      <td>281</td>\n",
       "      <td>7</td>\n",
       "      <td>100</td>\n",
       "      <td>False</td>\n",
       "      <td>0</td>\n",
       "      <td>interpolation</td>\n",
       "      <td>0 days 00:01:31.361000</td>\n",
       "      <td>5324.860000</td>\n",
       "    </tr>\n",
       "  </tbody>\n",
       "</table></div>"
      ],
      "text/plain": [
       "                       Date            SessionTime    RPM  Speed  nGear  \\\n",
       "0   2022-05-08 21:01:33.852 0 days 02:30:33.844000  11112    280      7   \n",
       "1   2022-05-08 21:01:34.022 0 days 02:30:34.014000  11168    281      7   \n",
       "2   2022-05-08 21:01:34.382 0 days 02:30:34.374000  11302    285      7   \n",
       "3   2022-05-08 21:01:34.822 0 days 02:30:34.814000  11310    288      7   \n",
       "4   2022-05-08 21:01:35.182 0 days 02:30:35.174000  11357    288      7   \n",
       "..                      ...                    ...    ...    ...    ...   \n",
       "330 2022-05-08 21:03:04.422 0 days 02:32:04.414000  10896    272      7   \n",
       "331 2022-05-08 21:03:04.662 0 days 02:32:04.654000  10994    276      7   \n",
       "332 2022-05-08 21:03:04.862 0 days 02:32:04.854000  11063    278      7   \n",
       "333 2022-05-08 21:03:05.142 0 days 02:32:05.134000  11062    279      7   \n",
       "334 2022-05-08 21:03:05.213 0 days 02:32:05.205000  11168    281      7   \n",
       "\n",
       "     Throttle  Brake  DRS         Source                   Time     Distance  \n",
       "0         100  False    0  interpolation        0 days 00:00:00     0.000000  \n",
       "1         100  False    0            car 0 days 00:00:00.170000    13.269444  \n",
       "2         100  False    0            car 0 days 00:00:00.530000    41.769444  \n",
       "3         100  False    0            car 0 days 00:00:00.970000    76.969444  \n",
       "4         100  False    0            car 0 days 00:00:01.330000   105.769444  \n",
       "..        ...    ...  ...            ...                    ...          ...  \n",
       "330       100  False    0            car 0 days 00:01:30.570000  5263.773611  \n",
       "331       100  False    0            car 0 days 00:01:30.810000  5282.173611  \n",
       "332       100  False    0            car 0 days 00:01:31.010000  5297.618056  \n",
       "333       100  False    0            car 0 days 00:01:31.290000  5319.318056  \n",
       "334       100  False    0  interpolation 0 days 00:01:31.361000  5324.860000  \n",
       "\n",
       "[335 rows x 11 columns]"
      ]
     },
     "execution_count": 57,
     "metadata": {},
     "output_type": "execute_result"
    }
   ],
   "source": [
    "ref_tel"
   ]
  },
  {
   "cell_type": "code",
   "execution_count": 58,
   "metadata": {},
   "outputs": [
    {
     "data": {
      "application/vnd.plotly.v1+json": {
       "config": {
        "plotlyServerURL": "https://plot.ly"
       },
       "data": [
        {
         "hovertemplate": "Speed: %{y} km/h<br>Distance: %{x} meters",
         "line": {
          "color": "#0600ef"
         },
         "name": "VER",
         "opacity": 0.8,
         "type": "scatter",
         "x": [
          13,
          42,
          77,
          106,
          131,
          151,
          167,
          195,
          221,
          243,
          256,
          288,
          303,
          323,
          332,
          339,
          349,
          355,
          365,
          376,
          385,
          390,
          398,
          403,
          408,
          419,
          424,
          436,
          442,
          452,
          461,
          471,
          478,
          487,
          498,
          509,
          521,
          532,
          549,
          576,
          589,
          611,
          623,
          651,
          664,
          674,
          704,
          734,
          749,
          760,
          780,
          795,
          822,
          840,
          852,
          867,
          880,
          895,
          917,
          949,
          961,
          980,
          1000,
          1015,
          1044,
          1066,
          1085,
          1105,
          1122,
          1142,
          1166,
          1191,
          1213,
          1226,
          1238,
          1256,
          1270,
          1280,
          1294,
          1304,
          1327,
          1339,
          1352,
          1365,
          1378,
          1391,
          1404,
          1414,
          1432,
          1450,
          1462,
          1484,
          1504,
          1519,
          1538,
          1549,
          1557,
          1569,
          1580,
          1589,
          1600,
          1611,
          1620,
          1627,
          1635,
          1643,
          1662,
          1677,
          1691,
          1699,
          1715,
          1740,
          1755,
          1772,
          1790,
          1820,
          1844,
          1856,
          1876,
          1896,
          1919,
          1937,
          1961,
          1980,
          1998,
          2014,
          2049,
          2068,
          2103,
          2135,
          2149,
          2168,
          2194,
          2220,
          2247,
          2260,
          2283,
          2297,
          2313,
          2347,
          2370,
          2394,
          2408,
          2424,
          2445,
          2469,
          2486,
          2503,
          2523,
          2557,
          2595,
          2619,
          2639,
          2653,
          2673,
          2691,
          2711,
          2736,
          2753,
          2767,
          2794,
          2825,
          2849,
          2877,
          2907,
          2931,
          2951,
          2983,
          3005,
          3018,
          3036,
          3042,
          3051,
          3064,
          3075,
          3082,
          3087,
          3095,
          3100,
          3110,
          3123,
          3134,
          3139,
          3147,
          3161,
          3193,
          3200,
          3208,
          3215,
          3220,
          3228,
          3235,
          3242,
          3253,
          3266,
          3281,
          3299,
          3312,
          3320,
          3340,
          3348,
          3354,
          3362,
          3374,
          3380,
          3386,
          3390,
          3396,
          3401,
          3406,
          3411,
          3415,
          3419,
          3426,
          3433,
          3437,
          3442,
          3446,
          3457,
          3462,
          3467,
          3473,
          3480,
          3490,
          3499,
          3505,
          3511,
          3515,
          3522,
          3525,
          3532,
          3540,
          3574,
          3582,
          3598,
          3619,
          3627,
          3641,
          3650,
          3665,
          3687,
          3700,
          3721,
          3748,
          3759,
          3779,
          3790,
          3819,
          3855,
          3877,
          3892,
          3908,
          3930,
          3942,
          3965,
          3987,
          4020,
          4046,
          4075,
          4092,
          4112,
          4142,
          4159,
          4180,
          4197,
          4227,
          4251,
          4265,
          4300,
          4334,
          4373,
          4397,
          4418,
          4440,
          4461,
          4489,
          4514,
          4531,
          4545,
          4567,
          4598,
          4612,
          4643,
          4664,
          4681,
          4703,
          4718,
          4734,
          4750,
          4763,
          4778,
          4786,
          4792,
          4804,
          4809,
          4817,
          4820,
          4825,
          4830,
          4832,
          4839,
          4844,
          4849,
          4853,
          4860,
          4872,
          4885,
          4894,
          4906,
          4912,
          4936,
          4951,
          4961,
          4977,
          4989,
          5000,
          5031,
          5059,
          5072,
          5100,
          5128,
          5140,
          5154,
          5165,
          5183,
          5198,
          5213,
          5234,
          5252,
          5264,
          5282,
          5298,
          5319
         ],
         "xaxis": "x",
         "y": [
          281,
          285,
          288,
          288,
          288,
          288,
          288,
          288,
          289,
          288,
          288,
          263,
          224,
          177,
          160,
          152,
          134,
          124,
          112,
          101,
          96,
          92,
          92,
          94,
          96,
          109,
          113,
          133,
          139,
          150,
          152,
          154,
          155,
          160,
          165,
          169,
          183,
          192,
          197,
          199,
          203,
          215,
          220,
          226,
          232,
          235,
          243,
          252,
          255,
          255,
          261,
          263,
          269,
          272,
          274,
          276,
          278,
          280,
          282,
          284,
          284,
          285,
          286,
          287,
          289,
          282,
          273,
          265,
          256,
          249,
          248,
          248,
          243,
          234,
          228,
          223,
          217,
          215,
          219,
          221,
          225,
          228,
          232,
          235,
          233,
          233,
          229,
          229,
          227,
          230,
          231,
          216,
          201,
          196,
          170,
          159,
          152,
          146,
          143,
          138,
          135,
          129,
          129,
          134,
          141,
          144,
          153,
          168,
          181,
          193,
          198,
          210,
          219,
          224,
          232,
          242,
          246,
          250,
          257,
          260,
          265,
          268,
          272,
          276,
          278,
          281,
          284,
          286,
          289,
          292,
          293,
          293,
          294,
          296,
          297,
          298,
          299,
          300,
          300,
          301,
          303,
          304,
          304,
          304,
          305,
          306,
          306,
          306,
          307,
          307,
          307,
          308,
          308,
          308,
          309,
          310,
          311,
          311,
          311,
          312,
          311,
          309,
          308,
          307,
          306,
          304,
          298,
          267,
          218,
          195,
          159,
          144,
          133,
          114,
          101,
          94,
          91,
          88,
          91,
          100,
          111,
          124,
          129,
          137,
          127,
          106,
          103,
          101,
          101,
          103,
          103,
          109,
          116,
          127,
          143,
          154,
          163,
          171,
          171,
          153,
          143,
          132,
          121,
          102,
          91,
          84,
          81,
          73,
          70,
          71,
          76,
          76,
          74,
          72,
          76,
          79,
          86,
          94,
          106,
          115,
          113,
          105,
          100,
          87,
          82,
          77,
          76,
          75,
          80,
          82,
          91,
          102,
          143,
          154,
          173,
          190,
          194,
          203,
          206,
          216,
          224,
          229,
          236,
          245,
          250,
          255,
          257,
          263,
          271,
          275,
          277,
          280,
          282,
          284,
          285,
          290,
          292,
          294,
          298,
          299,
          299,
          303,
          303,
          304,
          306,
          308,
          310,
          310,
          311,
          313,
          314,
          315,
          316,
          317,
          317,
          317,
          319,
          318,
          318,
          316,
          315,
          314,
          313,
          311,
          308,
          286,
          261,
          247,
          197,
          167,
          135,
          121,
          110,
          98,
          87,
          76,
          71,
          67,
          63,
          62,
          65,
          71,
          76,
          80,
          92,
          108,
          126,
          134,
          150,
          155,
          177,
          188,
          195,
          203,
          205,
          214,
          226,
          234,
          239,
          248,
          253,
          256,
          259,
          260,
          263,
          265,
          268,
          269,
          272,
          272,
          276,
          278,
          279
         ],
         "yaxis": "y"
        },
        {
         "hovertemplate": "Speed: %{y} km/h<br>Distance: %{x} meters",
         "line": {
          "color": "#00d2be"
         },
         "name": "HAM",
         "opacity": 0.8,
         "type": "scatter",
         "x": [
          10,
          26,
          45,
          72,
          85,
          105,
          125,
          139,
          166,
          193,
          210,
          223,
          240,
          256,
          271,
          291,
          300,
          309,
          324,
          332,
          343,
          352,
          360,
          372,
          382,
          392,
          396,
          403,
          412,
          417,
          429,
          434,
          448,
          460,
          470,
          478,
          485,
          492,
          501,
          508,
          526,
          536,
          545,
          564,
          572,
          583,
          603,
          615,
          636,
          653,
          666,
          687,
          703,
          714,
          739,
          761,
          785,
          808,
          832,
          844,
          862,
          878,
          900,
          912,
          937,
          956,
          975,
          1001,
          1013,
          1039,
          1052,
          1071,
          1083,
          1110,
          1130,
          1141,
          1155,
          1166,
          1190,
          1203,
          1228,
          1250,
          1261,
          1271,
          1289,
          1313,
          1340,
          1355,
          1375,
          1388,
          1407,
          1417,
          1444,
          1453,
          1465,
          1477,
          1494,
          1508,
          1521,
          1531,
          1547,
          1558,
          1570,
          1578,
          1590,
          1597,
          1602,
          1612,
          1622,
          1627,
          1637,
          1649,
          1660,
          1666,
          1684,
          1704,
          1712,
          1733,
          1754,
          1768,
          1778,
          1793,
          1811,
          1825,
          1835,
          1866,
          1878,
          1895,
          1906,
          1930,
          1960,
          1994,
          2025,
          2041,
          2070,
          2089,
          2105,
          2118,
          2140,
          2153,
          2173,
          2192,
          2225,
          2242,
          2262,
          2278,
          2299,
          2312,
          2352,
          2379,
          2403,
          2440,
          2468,
          2495,
          2508,
          2543,
          2556,
          2584,
          2601,
          2618,
          2639,
          2674,
          2701,
          2715,
          2747,
          2784,
          2798,
          2816,
          2857,
          2880,
          2897,
          2924,
          2954,
          2975,
          2988,
          3004,
          3018,
          3031,
          3042,
          3050,
          3059,
          3064,
          3071,
          3079,
          3085,
          3096,
          3101,
          3109,
          3113,
          3118,
          3127,
          3139,
          3147,
          3161,
          3176,
          3187,
          3193,
          3205,
          3216,
          3227,
          3260,
          3266,
          3278,
          3292,
          3299,
          3306,
          3319,
          3332,
          3345,
          3355,
          3368,
          3374,
          3385,
          3390,
          3395,
          3402,
          3410,
          3416,
          3425,
          3433,
          3443,
          3452,
          3463,
          3474,
          3482,
          3487,
          3492,
          3496,
          3504,
          3509,
          3514,
          3519,
          3523,
          3530,
          3537,
          3541,
          3550,
          3556,
          3566,
          3578,
          3587,
          3598,
          3614,
          3626,
          3648,
          3660,
          3675,
          3689,
          3700,
          3710,
          3726,
          3742,
          3756,
          3770,
          3781,
          3804,
          3822,
          3834,
          3846,
          3912,
          3934,
          3966,
          3978,
          4014,
          4027,
          4050,
          4067,
          4083,
          4107,
          4130,
          4144,
          4168,
          4181,
          4195,
          4219,
          4243,
          4257,
          4278,
          4298,
          4326,
          4347,
          4361,
          4389,
          4417,
          4435,
          4459,
          4473,
          4498,
          4516,
          4537,
          4551,
          4579,
          4596,
          4617,
          4631,
          4648,
          4672,
          4696,
          4708,
          4729,
          4752,
          4764,
          4777,
          4784,
          4795,
          4802,
          4807,
          4811,
          4818,
          4823,
          4828,
          4835,
          4841,
          4845,
          4849,
          4856,
          4864,
          4873,
          4883,
          4888,
          4897,
          4904,
          4911,
          4926,
          4938,
          4959,
          4970,
          4993,
          5018,
          5027,
          5038,
          5050,
          5069,
          5085,
          5102,
          5133,
          5147,
          5167,
          5194,
          5215,
          5230,
          5254,
          5266,
          5284,
          5303,
          5322
         ],
         "xaxis": "x",
         "y": [
          287,
          290,
          293,
          297,
          299,
          301,
          301,
          302,
          303,
          304,
          305,
          305,
          301,
          290,
          267,
          229,
          203,
          191,
          152,
          138,
          119,
          113,
          105,
          94,
          88,
          86,
          90,
          92,
          101,
          103,
          118,
          122,
          141,
          147,
          149,
          150,
          154,
          156,
          160,
          166,
          181,
          185,
          187,
          191,
          190,
          191,
          202,
          208,
          217,
          222,
          227,
          236,
          240,
          244,
          249,
          254,
          261,
          265,
          269,
          272,
          274,
          276,
          280,
          281,
          283,
          284,
          284,
          286,
          287,
          287,
          288,
          284,
          279,
          267,
          259,
          254,
          251,
          247,
          241,
          240,
          225,
          212,
          212,
          207,
          207,
          214,
          220,
          224,
          229,
          228,
          222,
          220,
          216,
          216,
          218,
          218,
          215,
          205,
          196,
          187,
          175,
          163,
          156,
          150,
          140,
          137,
          131,
          125,
          123,
          120,
          127,
          133,
          141,
          146,
          162,
          179,
          187,
          201,
          211,
          219,
          219,
          227,
          235,
          239,
          244,
          252,
          255,
          258,
          262,
          267,
          272,
          278,
          280,
          282,
          285,
          287,
          288,
          289,
          291,
          292,
          293,
          294,
          296,
          298,
          300,
          299,
          301,
          301,
          303,
          304,
          305,
          305,
          307,
          307,
          307,
          308,
          308,
          310,
          310,
          310,
          310,
          311,
          312,
          312,
          313,
          310,
          311,
          310,
          308,
          307,
          305,
          305,
          296,
          268,
          239,
          205,
          183,
          159,
          140,
          129,
          117,
          112,
          107,
          100,
          96,
          90,
          88,
          93,
          95,
          98,
          101,
          114,
          123,
          123,
          114,
          110,
          107,
          100,
          97,
          98,
          120,
          127,
          141,
          155,
          161,
          163,
          159,
          151,
          141,
          133,
          114,
          101,
          89,
          85,
          80,
          77,
          70,
          71,
          73,
          74,
          81,
          87,
          100,
          109,
          98,
          92,
          88,
          84,
          78,
          75,
          73,
          74,
          77,
          82,
          88,
          91,
          101,
          109,
          124,
          140,
          151,
          166,
          179,
          183,
          202,
          209,
          218,
          223,
          228,
          231,
          239,
          243,
          248,
          252,
          255,
          261,
          264,
          267,
          270,
          282,
          282,
          288,
          290,
          293,
          293,
          296,
          297,
          300,
          302,
          303,
          304,
          305,
          306,
          307,
          309,
          310,
          311,
          311,
          312,
          313,
          314,
          313,
          315,
          315,
          315,
          317,
          316,
          317,
          317,
          316,
          315,
          314,
          313,
          312,
          311,
          311,
          310,
          305,
          289,
          262,
          209,
          177,
          149,
          132,
          114,
          98,
          92,
          87,
          82,
          77,
          74,
          67,
          66,
          68,
          69,
          78,
          88,
          99,
          112,
          122,
          135,
          140,
          140,
          165,
          176,
          191,
          197,
          209,
          220,
          220,
          227,
          232,
          239,
          243,
          249,
          254,
          257,
          261,
          265,
          266,
          270,
          273,
          274,
          276,
          278,
          280
         ],
         "yaxis": "y"
        },
        {
         "hovertemplate": "Delta Time: %{y:.3f} sec",
         "line": {
          "color": "white",
          "width": 1
         },
         "name": "Delta Time",
         "opacity": 0.8,
         "type": "scatter",
         "x": [
          0,
          13.269444444444446,
          41.769444444444446,
          76.96944444444445,
          105.76944444444445,
          131.36944444444444,
          150.56944444444443,
          166.56944444444446,
          195.36944444444444,
          221.0583333333333,
          243.45833333333331,
          256.2583333333333,
          288.40277777777777,
          303.3361111111111,
          323.0027777777778,
          331.8916666666667,
          338.6472222222223,
          349.0694444444445,
          354.58055555555563,
          364.53611111111115,
          375.7583333333334,
          385.38500000000005,
          390.4705555555556,
          397.6261111111112,
          402.8483333333334,
          408.18166666666673,
          419.0816666666667,
          424.10388888888895,
          435.9261111111112,
          442.103888888889,
          452.103888888889,
          460.5483333333334,
          470.81500000000005,
          477.70388888888897,
          486.5927777777778,
          497.5927777777778,
          508.8594444444445,
          521.0594444444445,
          531.7261111111111,
          549.2372222222223,
          575.7705555555556,
          589.3038888888889,
          610.8038888888889,
          623.0261111111112,
          650.6483333333333,
          663.5372222222221,
          673.9816666666666,
          703.7491666666666,
          734.4791666666666,
          748.6458333333333,
          759.9791666666666,
          780.2791666666667,
          794.8902777777778,
          821.7902777777778,
          839.9236111111111,
          852.1013888888889,
          867.4347222222223,
          879.7902777777779,
          895.3458333333334,
          917.2791666666667,
          948.8347222222225,
          961.4569444444447,
          980.4569444444446,
          999.5236111111111,
          1015.4680555555558,
          1044.3680555555557,
          1066.3013888888888,
          1084.5013888888889,
          1105.1125,
          1122.1791666666666,
          1141.5458333333333,
          1166.3458333333333,
          1191.2147222222222,
          1212.7472222222223,
          1225.7472222222223,
          1238.4138888888888,
          1255.7583333333332,
          1270.225,
          1279.7805555555553,
          1294.3805555555555,
          1304.2027777777778,
          1326.7027777777778,
          1339.3694444444443,
          1352.2583333333332,
          1365.3138888888889,
          1378.2583333333332,
          1391.2027777777776,
          1403.9249999999997,
          1414.1027777777774,
          1431.758333333333,
          1449.647222222222,
          1462.4805555555552,
          1484.080555555555,
          1504.180555555555,
          1519.4249999999995,
          1538.3138888888884,
          1548.9138888888886,
          1557.358333333333,
          1568.754444444444,
          1579.8766666666663,
          1589.038333333333,
          1599.538333333333,
          1611.0049999999997,
          1619.6049999999998,
          1627.0494444444441,
          1634.8827777777774,
          1642.8827777777774,
          1661.5827777777774,
          1676.5161111111108,
          1690.5938888888886,
          1699.1716666666664,
          1714.5716666666663,
          1740.238333333333,
          1754.838333333333,
          1772.2605555555551,
          1790.3049999999996,
          1819.8827777777772,
          1844.4827777777773,
          1855.5938888888884,
          1875.5827777777772,
          1895.8049999999996,
          1919.4341666666664,
          1937.3008333333328,
          1961.4786111111105,
          1979.8019444444442,
          1998.3352777777777,
          2013.9463888888886,
          2048.6574999999993,
          2067.724166666666,
          2103.0463888888885,
          2135.490833333333,
          2148.5130555555547,
          2168.046388888888,
          2194.1797222222212,
          2220.4908333333324,
          2246.8908333333325,
          2260.1352777777765,
          2283.390833333332,
          2296.7241666666655,
          2313.390833333332,
          2346.8352777777764,
          2370.401944444443,
          2394.0463888888876,
          2407.557499999999,
          2424.4463888888877,
          2444.779722222221,
          2468.664722222221,
          2485.6647222222214,
          2502.664722222221,
          2523.0461111111103,
          2557.157222222221,
          2594.679444444443,
          2618.634999999999,
          2639.168333333332,
          2652.8572222222206,
          2673.457222222221,
          2690.6794444444436,
          2711.4127777777762,
          2735.601666666665,
          2752.879444444443,
          2766.7461111111093,
          2794.390555555554,
          2825.290555555554,
          2849.2461111111097,
          2876.5349999999985,
          2907.1349999999984,
          2930.779444444443,
          2950.64611111111,
          2983.279444444443,
          3005.1399999999985,
          3018.1399999999985,
          3035.806666666665,
          3042.206666666665,
          3051.0363888888874,
          3063.703055555554,
          3074.925277777776,
          3082.236388888887,
          3087.291944444443,
          3095.114166666665,
          3100.1697222222206,
          3110.1697222222206,
          3122.503055555554,
          3133.5252777777764,
          3139.2586111111095,
          3146.869722222221,
          3160.9808333333317,
          3192.7808333333314,
          3199.647499999998,
          3207.5030555555536,
          3215.3866666666645,
          3219.9644444444425,
          3227.9755555555535,
          3235.24222222222,
          3241.686666666664,
          3252.940277777775,
          3265.6513888888862,
          3281.0513888888863,
          3299.162499999997,
          3312.4624999999974,
          3320.0624999999973,
          3340.4624999999974,
          3348.4069444444417,
          3354.2736111111085,
          3362.340277777775,
          3373.6736111111086,
          3379.740277777775,
          3386.2736111111085,
          3389.8736111111084,
          3395.551388888886,
          3400.99583333333,
          3405.729166666664,
          3410.7958333333304,
          3415.0180555555526,
          3419.129166666664,
          3426.3491666666637,
          3433.104722222219,
          3437.4936111111083,
          3442.271388888886,
          3446.449166666664,
          3457.0197222222196,
          3462.1308333333304,
          3467.153055555553,
          3472.986388888886,
          3479.6530555555523,
          3490.2863888888855,
          3499.3974999999964,
          3504.5308333333296,
          3511.286388888885,
          3515.4530555555516,
          3521.6752777777738,
          3525.319722222218,
          3532.397499999996,
          3540.3308333333293,
          3573.6974999999957,
          3582.2530555555513,
          3597.6308333333286,
          3618.74194444444,
          3627.4180555555513,
          3640.951388888884,
          3650.10694444444,
          3664.50694444444,
          3686.90694444444,
          3699.565555555551,
          3720.543333333329,
          3747.7655555555507,
          3758.8766666666615,
          3778.709999999995,
          3790.132222222218,
          3819.3544444444397,
          3855.4877777777733,
          3876.8766666666625,
          3892.2655555555516,
          3907.8211111111063,
          3929.7544444444397,
          3942.376666666663,
          3964.54333333333,
          3987.098888888884,
          4019.543333333329,
          4045.676666666663,
          4075.476666666663,
          4092.0877777777728,
          4112.1041666666615,
          4142.404166666662,
          4159.237499999996,
          4179.504166666663,
          4196.504166666662,
          4227.218611111107,
          4251.329722222218,
          4265.1074999999955,
          4299.663055555551,
          4334.440833333329,
          4372.818611111106,
          4397.318611111106,
          4418.385277777774,
          4439.518611111107,
          4460.65194444444,
          4488.829722222219,
          4513.64083333333,
          4531.307499999996,
          4545.44083333333,
          4566.507499999997,
          4598.007499999997,
          4611.963055555552,
          4643.2630555555525,
          4663.996388888887,
          4681.193055555553,
          4703.437499999997,
          4717.937499999997,
          4734.4041666666635,
          4749.726388888886,
          4762.715277777775,
          4777.677777777774,
          4785.744444444441,
          4791.855555555552,
          4803.83333333333,
          4808.666666666663,
          4817.111111111108,
          4820.266666666663,
          4824.733333333329,
          4829.633333333329,
          4832.388888888884,
          4838.888888888884,
          4843.622222222218,
          4848.688888888884,
          4853.133333333329,
          4860.288888888885,
          4872.288888888885,
          4884.888888888885,
          4893.822222222218,
          4905.530555555552,
          4912.419444444441,
          4936.019444444441,
          4950.641666666664,
          4961.474999999997,
          4977.263888888886,
          4988.59583333333,
          5000.484722222219,
          5030.618055555552,
          5059.2180555555515,
          5072.49583333333,
          5100.051388888885,
          5128.162499999996,
          5139.540277777774,
          5153.929166666662,
          5165.484722222218,
          5183.018055555552,
          5197.740277777774,
          5212.629166666662,
          5233.5513888888845,
          5251.684722222219,
          5263.773611111107,
          5282.173611111107,
          5297.618055555551,
          5319.318055555551,
          5324.859999999995
         ],
         "xaxis": "x",
         "y": [
          0,
          -0.0040137931034482655,
          -0.012245733788395885,
          -0.025404682274247414,
          -0.04030564784053148,
          -0.05437086092715249,
          -0.06596699669967032,
          -0.07590789473684234,
          -0.09496393442622963,
          -0.1117508196721313,
          -0.12253448275862144,
          -0.123348314606742,
          -0.0906026200873371,
          -0.06786387434555108,
          -0.02795394736842116,
          0.0032100840336131142,
          0.04757983193277404,
          0.09189380530973512,
          0.11321904761904822,
          0.15123404255319173,
          0.19118181818181856,
          0.22755813953488424,
          0.24144186046511695,
          0.24952173913043563,
          0.2538695652173928,
          0.24558415841584225,
          0.25955932203389853,
          0.25277966101694993,
          0.2788936170212768,
          0.2766241134751777,
          0.28786394557823236,
          0.2943624161073828,
          0.30221333333333256,
          0.3075466666666671,
          0.3148974358974357,
          0.32535000000000025,
          0.3305469613259664,
          0.333198895027623,
          0.34292432432432385,
          0.3591570680628262,
          0.3800994764397885,
          0.3885247524752433,
          0.40766346153845845,
          0.4130967741935443,
          0.4259549549549515,
          0.4313744493392022,
          0.4322457627118599,
          0.44092213114753775,
          0.4492248995983896,
          0.4512480314960605,
          0.45187795275590226,
          0.45241762452107004,
          0.45180754716980864,
          0.4544869888475809,
          0.45600367647058526,
          0.4564124087591228,
          0.4573949275362299,
          0.4581749999999989,
          0.45817500000000067,
          0.45889399293286104,
          0.4597887323943688,
          0.4597887323943688,
          0.46016083916084227,
          0.4601608391608387,
          0.4602055749128944,
          0.4624722222222246,
          0.45922535211267856,
          0.45400374531835297,
          0.4519063670411967,
          0.4472702702702662,
          0.4397888446215106,
          0.4382863070539358,
          0.44884583333332984,
          0.46222222222221987,
          0.470222222222219,
          0.4827547169811268,
          0.4972830188679147,
          0.5065893719806667,
          0.5127729468598936,
          0.5235887850467194,
          0.5288224299065334,
          0.5409090909090857,
          0.5481818181818099,
          0.5553928571428521,
          0.5614323144104745,
          0.565153508771921,
          0.5710675675675603,
          0.5773738738738672,
          0.5834136363636269,
          0.5967546296296184,
          0.6149027777777683,
          0.6273623853210886,
          0.625609302325568,
          0.6104195121951079,
          0.6075918367346773,
          0.5795199999999809,
          0.5609325153374023,
          0.5474355828220645,
          0.5292179487179283,
          0.5184428571428334,
          0.5150285714285481,
          0.5137099236640985,
          0.5201919999999731,
          0.5313821138211168,
          0.5531338582676959,
          0.5751811023621833,
          0.5942857142856965,
          0.6390136986301229,
          0.6620246913580132,
          0.6813910614525014,
          0.6939050279329493,
          0.7117164179104378,
          0.7248578199052034,
          0.7331917808219082,
          0.7395844748858345,
          0.7490440528634252,
          0.7614602510460173,
          0.7616071428571338,
          0.7603373015872918,
          0.7643176470588138,
          0.7665839694656462,
          0.7669026217228421,
          0.7660220588235305,
          0.7656978417266131,
          0.7639784172661805,
          0.7636071428571398,
          0.7643214285714279,
          0.7674736842105219,
          0.7683157894736752,
          0.7709236111111011,
          0.7736151202748971,
          0.7743664383561466,
          0.7745665529010068,
          0.7746182432432249,
          0.7746182432432249,
          0.7735299999999867,
          0.7724633333333131,
          0.7719999999999771,
          0.7714684385381858,
          0.7706864686468435,
          0.7680462046204468,
          0.7673355263157688,
          0.7667606557376843,
          0.7662360655737572,
          0.7655803278688396,
          0.7652312703582922,
          0.764315960912036,
          0.7636644951139999,
          0.7630130293159496,
          0.7624577922077833,
          0.7610999999999919,
          0.7568419354838625,
          0.7550354838709552,
          0.7534823151125281,
          0.7519389067524003,
          0.7503954983922725,
          0.7491185897435813,
          0.7483493589743446,
          0.7467028753993503,
          0.7461258064516016,
          0.747158064516114,
          0.7478199356913109,
          0.7472499999999869,
          0.7472499999999869,
          0.7469706840390771,
          0.7478491803278544,
          0.7492094594594434,
          0.750831081081067,
          0.7585857740585666,
          0.7715027322404282,
          0.7872404371584523,
          0.802371428571405,
          0.8083023255813657,
          0.8181452991452716,
          0.8139553571428308,
          0.7989899999999679,
          0.7867812499999758,
          0.7833222222221892,
          0.776211111111067,
          0.782647727272682,
          0.8111999999999497,
          0.8627920792078854,
          0.910271929824539,
          0.9299837398373683,
          0.9527479674796453,
          0.9667631578947038,
          0.9163899999999643,
          0.9235899999999617,
          0.9293092783504733,
          0.940896907216441,
          0.9491632653060762,
          0.9538333333332929,
          0.9318333333332873,
          0.9251666666666125,
          0.9437749999999383,
          0.9952127659573975,
          1.0215032258064056,
          1.0357607361962664,
          1.0529371069181863,
          1.0667086092714655,
          1.0872553191488805,
          1.0959323308269973,
          1.0947293233082007,
          1.1064210526315037,
          1.0889405940593235,
          1.0910898876403508,
          1.0773529411763647,
          1.06982352941165,
          1.0455974025972665,
          1.0201428571427158,
          1.0183857142855643,
          1.0382957746477288,
          1.0523802816899845,
          1.0567534246573942,
          1.0509864864863516,
          1.0596351351349966,
          1.0556790123455642,
          1.0680246913579126,
          1.0838620689654164,
          1.134929999999919,
          1.1589299999999128,
          1.1675321100916634,
          1.160192660550372,
          1.1615204081631632,
          1.1393749999998732,
          1.1376282051280455,
          1.1354133333331546,
          1.142602739725838,
          1.147067567567369,
          1.1644415584413608,
          1.1686219512193148,
          1.193465909090726,
          1.2338901098899342,
          1.4308928571427373,
          1.4436887417217577,
          1.4669698795179755,
          1.4897322404370783,
          1.4967376237623,
          1.497925742574182,
          1.5000861244018466,
          1.5049403669724057,
          1.510278026905766,
          1.5120432900432235,
          1.5133807531380086,
          1.5162338709676817,
          1.516817460317398,
          1.5186549019607298,
          1.5169923371646945,
          1.5177045454544924,
          1.5165531914893222,
          1.5096028368793952,
          1.5060567375886222,
          1.5046382978723045,
          1.5046382978723045,
          1.5034236111110744,
          1.5005069444444104,
          1.4994914675767603,
          1.4981262798634418,
          1.4969155405405132,
          1.4972499999999656,
          1.4958907284767804,
          1.4932904290428723,
          1.4928223684210167,
          1.4915704918032446,
          1.4903267973855918,
          1.4896213592232783,
          1.488148387096743,
          1.4878392282957833,
          1.487324758842405,
          1.486466453674069,
          1.4861687898088718,
          1.4862539682539193,
          1.4862539682539193,
          1.487015873015821,
          1.4881892744479046,
          1.4882373417721055,
          1.4886940063091032,
          1.4904605678232912,
          1.4916550632910912,
          1.4929841269840693,
          1.4943216560509,
          1.4962596153845737,
          1.4972852564102084,
          1.4994244372989982,
          1.500029032258027,
          1.5004983606556976,
          1.4881522491348989,
          1.480912213740396,
          1.486488038277443,
          1.470411483253514,
          1.4472542372880355,
          1.4070151515149973,
          1.392543859648967,
          1.3855263157893205,
          1.375043478260693,
          1.3671149425285165,
          1.3313902439021916,
          1.3175194805192092,
          1.2901351351348467,
          1.2584925373130886,
          1.24655223880562,
          1.23887878787842,
          1.2528235294114012,
          1.2774615384612389,
          1.2825897435894262,
          1.3124090909088295,
          1.366616161615923,
          1.4094344262293248,
          1.417533333333182,
          1.440978571428431,
          1.4540121212120027,
          1.4753011363635267,
          1.473706806282621,
          1.47646700507606,
          1.4773014354066305,
          1.4734928229664348,
          1.4719636363635544,
          1.4834493392069703,
          1.4856025104601827,
          1.4847366255143442,
          1.4876666666665983,
          1.4865905511810382,
          1.4867431906614144,
          1.4868390804596885,
          1.4862260536397685,
          1.48481886792446,
          1.4846240601503098,
          1.4861278195487984,
          1.4849120879120221,
          1.4840329670329027,
          1.482967153284605,
          1.4831775362318211,
          1.4833848920862636,
          1.482874999999936,
          1.4828297872339675
         ],
         "yaxis": "y2"
        }
       ],
       "layout": {
        "height": 600,
        "template": {
         "data": {
          "bar": [
           {
            "error_x": {
             "color": "#f2f5fa"
            },
            "error_y": {
             "color": "#f2f5fa"
            },
            "marker": {
             "line": {
              "color": "rgb(17,17,17)",
              "width": 0.5
             },
             "pattern": {
              "fillmode": "overlay",
              "size": 10,
              "solidity": 0.2
             }
            },
            "type": "bar"
           }
          ],
          "barpolar": [
           {
            "marker": {
             "line": {
              "color": "rgb(17,17,17)",
              "width": 0.5
             },
             "pattern": {
              "fillmode": "overlay",
              "size": 10,
              "solidity": 0.2
             }
            },
            "type": "barpolar"
           }
          ],
          "carpet": [
           {
            "aaxis": {
             "endlinecolor": "#A2B1C6",
             "gridcolor": "#506784",
             "linecolor": "#506784",
             "minorgridcolor": "#506784",
             "startlinecolor": "#A2B1C6"
            },
            "baxis": {
             "endlinecolor": "#A2B1C6",
             "gridcolor": "#506784",
             "linecolor": "#506784",
             "minorgridcolor": "#506784",
             "startlinecolor": "#A2B1C6"
            },
            "type": "carpet"
           }
          ],
          "choropleth": [
           {
            "colorbar": {
             "outlinewidth": 0,
             "ticks": ""
            },
            "type": "choropleth"
           }
          ],
          "contour": [
           {
            "colorbar": {
             "outlinewidth": 0,
             "ticks": ""
            },
            "colorscale": [
             [
              0,
              "#0d0887"
             ],
             [
              0.1111111111111111,
              "#46039f"
             ],
             [
              0.2222222222222222,
              "#7201a8"
             ],
             [
              0.3333333333333333,
              "#9c179e"
             ],
             [
              0.4444444444444444,
              "#bd3786"
             ],
             [
              0.5555555555555556,
              "#d8576b"
             ],
             [
              0.6666666666666666,
              "#ed7953"
             ],
             [
              0.7777777777777778,
              "#fb9f3a"
             ],
             [
              0.8888888888888888,
              "#fdca26"
             ],
             [
              1,
              "#f0f921"
             ]
            ],
            "type": "contour"
           }
          ],
          "contourcarpet": [
           {
            "colorbar": {
             "outlinewidth": 0,
             "ticks": ""
            },
            "type": "contourcarpet"
           }
          ],
          "heatmap": [
           {
            "colorbar": {
             "outlinewidth": 0,
             "ticks": ""
            },
            "colorscale": [
             [
              0,
              "#0d0887"
             ],
             [
              0.1111111111111111,
              "#46039f"
             ],
             [
              0.2222222222222222,
              "#7201a8"
             ],
             [
              0.3333333333333333,
              "#9c179e"
             ],
             [
              0.4444444444444444,
              "#bd3786"
             ],
             [
              0.5555555555555556,
              "#d8576b"
             ],
             [
              0.6666666666666666,
              "#ed7953"
             ],
             [
              0.7777777777777778,
              "#fb9f3a"
             ],
             [
              0.8888888888888888,
              "#fdca26"
             ],
             [
              1,
              "#f0f921"
             ]
            ],
            "type": "heatmap"
           }
          ],
          "heatmapgl": [
           {
            "colorbar": {
             "outlinewidth": 0,
             "ticks": ""
            },
            "colorscale": [
             [
              0,
              "#0d0887"
             ],
             [
              0.1111111111111111,
              "#46039f"
             ],
             [
              0.2222222222222222,
              "#7201a8"
             ],
             [
              0.3333333333333333,
              "#9c179e"
             ],
             [
              0.4444444444444444,
              "#bd3786"
             ],
             [
              0.5555555555555556,
              "#d8576b"
             ],
             [
              0.6666666666666666,
              "#ed7953"
             ],
             [
              0.7777777777777778,
              "#fb9f3a"
             ],
             [
              0.8888888888888888,
              "#fdca26"
             ],
             [
              1,
              "#f0f921"
             ]
            ],
            "type": "heatmapgl"
           }
          ],
          "histogram": [
           {
            "marker": {
             "pattern": {
              "fillmode": "overlay",
              "size": 10,
              "solidity": 0.2
             }
            },
            "type": "histogram"
           }
          ],
          "histogram2d": [
           {
            "colorbar": {
             "outlinewidth": 0,
             "ticks": ""
            },
            "colorscale": [
             [
              0,
              "#0d0887"
             ],
             [
              0.1111111111111111,
              "#46039f"
             ],
             [
              0.2222222222222222,
              "#7201a8"
             ],
             [
              0.3333333333333333,
              "#9c179e"
             ],
             [
              0.4444444444444444,
              "#bd3786"
             ],
             [
              0.5555555555555556,
              "#d8576b"
             ],
             [
              0.6666666666666666,
              "#ed7953"
             ],
             [
              0.7777777777777778,
              "#fb9f3a"
             ],
             [
              0.8888888888888888,
              "#fdca26"
             ],
             [
              1,
              "#f0f921"
             ]
            ],
            "type": "histogram2d"
           }
          ],
          "histogram2dcontour": [
           {
            "colorbar": {
             "outlinewidth": 0,
             "ticks": ""
            },
            "colorscale": [
             [
              0,
              "#0d0887"
             ],
             [
              0.1111111111111111,
              "#46039f"
             ],
             [
              0.2222222222222222,
              "#7201a8"
             ],
             [
              0.3333333333333333,
              "#9c179e"
             ],
             [
              0.4444444444444444,
              "#bd3786"
             ],
             [
              0.5555555555555556,
              "#d8576b"
             ],
             [
              0.6666666666666666,
              "#ed7953"
             ],
             [
              0.7777777777777778,
              "#fb9f3a"
             ],
             [
              0.8888888888888888,
              "#fdca26"
             ],
             [
              1,
              "#f0f921"
             ]
            ],
            "type": "histogram2dcontour"
           }
          ],
          "mesh3d": [
           {
            "colorbar": {
             "outlinewidth": 0,
             "ticks": ""
            },
            "type": "mesh3d"
           }
          ],
          "parcoords": [
           {
            "line": {
             "colorbar": {
              "outlinewidth": 0,
              "ticks": ""
             }
            },
            "type": "parcoords"
           }
          ],
          "pie": [
           {
            "automargin": true,
            "type": "pie"
           }
          ],
          "scatter": [
           {
            "marker": {
             "line": {
              "color": "#283442"
             }
            },
            "type": "scatter"
           }
          ],
          "scatter3d": [
           {
            "line": {
             "colorbar": {
              "outlinewidth": 0,
              "ticks": ""
             }
            },
            "marker": {
             "colorbar": {
              "outlinewidth": 0,
              "ticks": ""
             }
            },
            "type": "scatter3d"
           }
          ],
          "scattercarpet": [
           {
            "marker": {
             "colorbar": {
              "outlinewidth": 0,
              "ticks": ""
             }
            },
            "type": "scattercarpet"
           }
          ],
          "scattergeo": [
           {
            "marker": {
             "colorbar": {
              "outlinewidth": 0,
              "ticks": ""
             }
            },
            "type": "scattergeo"
           }
          ],
          "scattergl": [
           {
            "marker": {
             "line": {
              "color": "#283442"
             }
            },
            "type": "scattergl"
           }
          ],
          "scattermapbox": [
           {
            "marker": {
             "colorbar": {
              "outlinewidth": 0,
              "ticks": ""
             }
            },
            "type": "scattermapbox"
           }
          ],
          "scatterpolar": [
           {
            "marker": {
             "colorbar": {
              "outlinewidth": 0,
              "ticks": ""
             }
            },
            "type": "scatterpolar"
           }
          ],
          "scatterpolargl": [
           {
            "marker": {
             "colorbar": {
              "outlinewidth": 0,
              "ticks": ""
             }
            },
            "type": "scatterpolargl"
           }
          ],
          "scatterternary": [
           {
            "marker": {
             "colorbar": {
              "outlinewidth": 0,
              "ticks": ""
             }
            },
            "type": "scatterternary"
           }
          ],
          "surface": [
           {
            "colorbar": {
             "outlinewidth": 0,
             "ticks": ""
            },
            "colorscale": [
             [
              0,
              "#0d0887"
             ],
             [
              0.1111111111111111,
              "#46039f"
             ],
             [
              0.2222222222222222,
              "#7201a8"
             ],
             [
              0.3333333333333333,
              "#9c179e"
             ],
             [
              0.4444444444444444,
              "#bd3786"
             ],
             [
              0.5555555555555556,
              "#d8576b"
             ],
             [
              0.6666666666666666,
              "#ed7953"
             ],
             [
              0.7777777777777778,
              "#fb9f3a"
             ],
             [
              0.8888888888888888,
              "#fdca26"
             ],
             [
              1,
              "#f0f921"
             ]
            ],
            "type": "surface"
           }
          ],
          "table": [
           {
            "cells": {
             "fill": {
              "color": "#506784"
             },
             "line": {
              "color": "rgb(17,17,17)"
             }
            },
            "header": {
             "fill": {
              "color": "#2a3f5f"
             },
             "line": {
              "color": "rgb(17,17,17)"
             }
            },
            "type": "table"
           }
          ]
         },
         "layout": {
          "annotationdefaults": {
           "arrowcolor": "#f2f5fa",
           "arrowhead": 0,
           "arrowwidth": 1
          },
          "autotypenumbers": "strict",
          "coloraxis": {
           "colorbar": {
            "outlinewidth": 0,
            "ticks": ""
           }
          },
          "colorscale": {
           "diverging": [
            [
             0,
             "#8e0152"
            ],
            [
             0.1,
             "#c51b7d"
            ],
            [
             0.2,
             "#de77ae"
            ],
            [
             0.3,
             "#f1b6da"
            ],
            [
             0.4,
             "#fde0ef"
            ],
            [
             0.5,
             "#f7f7f7"
            ],
            [
             0.6,
             "#e6f5d0"
            ],
            [
             0.7,
             "#b8e186"
            ],
            [
             0.8,
             "#7fbc41"
            ],
            [
             0.9,
             "#4d9221"
            ],
            [
             1,
             "#276419"
            ]
           ],
           "sequential": [
            [
             0,
             "#0d0887"
            ],
            [
             0.1111111111111111,
             "#46039f"
            ],
            [
             0.2222222222222222,
             "#7201a8"
            ],
            [
             0.3333333333333333,
             "#9c179e"
            ],
            [
             0.4444444444444444,
             "#bd3786"
            ],
            [
             0.5555555555555556,
             "#d8576b"
            ],
            [
             0.6666666666666666,
             "#ed7953"
            ],
            [
             0.7777777777777778,
             "#fb9f3a"
            ],
            [
             0.8888888888888888,
             "#fdca26"
            ],
            [
             1,
             "#f0f921"
            ]
           ],
           "sequentialminus": [
            [
             0,
             "#0d0887"
            ],
            [
             0.1111111111111111,
             "#46039f"
            ],
            [
             0.2222222222222222,
             "#7201a8"
            ],
            [
             0.3333333333333333,
             "#9c179e"
            ],
            [
             0.4444444444444444,
             "#bd3786"
            ],
            [
             0.5555555555555556,
             "#d8576b"
            ],
            [
             0.6666666666666666,
             "#ed7953"
            ],
            [
             0.7777777777777778,
             "#fb9f3a"
            ],
            [
             0.8888888888888888,
             "#fdca26"
            ],
            [
             1,
             "#f0f921"
            ]
           ]
          },
          "colorway": [
           "#636efa",
           "#EF553B",
           "#00cc96",
           "#ab63fa",
           "#FFA15A",
           "#19d3f3",
           "#FF6692",
           "#B6E880",
           "#FF97FF",
           "#FECB52"
          ],
          "font": {
           "color": "#f2f5fa"
          },
          "geo": {
           "bgcolor": "rgb(17,17,17)",
           "lakecolor": "rgb(17,17,17)",
           "landcolor": "rgb(17,17,17)",
           "showlakes": true,
           "showland": true,
           "subunitcolor": "#506784"
          },
          "hoverlabel": {
           "align": "left"
          },
          "hovermode": "closest",
          "mapbox": {
           "style": "dark"
          },
          "paper_bgcolor": "rgb(17,17,17)",
          "plot_bgcolor": "rgb(17,17,17)",
          "polar": {
           "angularaxis": {
            "gridcolor": "#506784",
            "linecolor": "#506784",
            "ticks": ""
           },
           "bgcolor": "rgb(17,17,17)",
           "radialaxis": {
            "gridcolor": "#506784",
            "linecolor": "#506784",
            "ticks": ""
           }
          },
          "scene": {
           "xaxis": {
            "backgroundcolor": "rgb(17,17,17)",
            "gridcolor": "#506784",
            "gridwidth": 2,
            "linecolor": "#506784",
            "showbackground": true,
            "ticks": "",
            "zerolinecolor": "#C8D4E3"
           },
           "yaxis": {
            "backgroundcolor": "rgb(17,17,17)",
            "gridcolor": "#506784",
            "gridwidth": 2,
            "linecolor": "#506784",
            "showbackground": true,
            "ticks": "",
            "zerolinecolor": "#C8D4E3"
           },
           "zaxis": {
            "backgroundcolor": "rgb(17,17,17)",
            "gridcolor": "#506784",
            "gridwidth": 2,
            "linecolor": "#506784",
            "showbackground": true,
            "ticks": "",
            "zerolinecolor": "#C8D4E3"
           }
          },
          "shapedefaults": {
           "line": {
            "color": "#f2f5fa"
           }
          },
          "sliderdefaults": {
           "bgcolor": "#C8D4E3",
           "bordercolor": "rgb(17,17,17)",
           "borderwidth": 1,
           "tickwidth": 0
          },
          "ternary": {
           "aaxis": {
            "gridcolor": "#506784",
            "linecolor": "#506784",
            "ticks": ""
           },
           "baxis": {
            "gridcolor": "#506784",
            "linecolor": "#506784",
            "ticks": ""
           },
           "bgcolor": "rgb(17,17,17)",
           "caxis": {
            "gridcolor": "#506784",
            "linecolor": "#506784",
            "ticks": ""
           }
          },
          "title": {
           "x": 0.05
          },
          "updatemenudefaults": {
           "bgcolor": "#506784",
           "borderwidth": 0
          },
          "xaxis": {
           "automargin": true,
           "gridcolor": "#283442",
           "linecolor": "#506784",
           "ticks": "",
           "title": {
            "standoff": 15
           },
           "zerolinecolor": "#283442",
           "zerolinewidth": 2
          },
          "yaxis": {
           "automargin": true,
           "gridcolor": "#283442",
           "linecolor": "#506784",
           "ticks": "",
           "title": {
            "standoff": 15
           },
           "zerolinecolor": "#283442",
           "zerolinewidth": 2
          }
         }
        },
        "title": {
         "text": "2022 Miami Grand Prix - Race - VER vs HAM",
         "x": 0.5
        },
        "width": 1200,
        "xaxis": {
         "anchor": "y",
         "domain": [
          0,
          0.94
         ],
         "title": {
          "text": "Distance (m)"
         }
        },
        "yaxis": {
         "anchor": "x",
         "domain": [
          0,
          1
         ],
         "title": {
          "text": "Speed (km/h)"
         }
        },
        "yaxis2": {
         "anchor": "x",
         "overlaying": "y",
         "side": "right",
         "title": {
          "text": "<-- HAM ahead | VER ahead -->"
         }
        }
       }
      }
     },
     "metadata": {},
     "output_type": "display_data"
    }
   ],
   "source": [
    "hovertemplate_speed = 'Speed: %{y} km/h'+'<br>Distance: %{x} meters'\n",
    "hovertemplate_gear = 'Gear: %{y}'+'<br>Distance: %{x} meters'\n",
    "fig = make_subplots(specs=[[{\"secondary_y\": True}]])\n",
    "\n",
    "fig.add_trace(go.Scatter(x=car_data_1['Distance'], y=car_data_1['Speed'], name=driver_1, line_color=ff1.plotting.driver_color(driver_1), hovertemplate = hovertemplate_speed, opacity=0.8), secondary_y=False)\n",
    "fig.add_trace(go.Scatter(x=car_data_2['Distance'], y=car_data_2['Speed'], name=driver_2, line_color=ff1.plotting.driver_color(driver_2), hovertemplate = hovertemplate_speed, opacity=0.8), secondary_y=False)\n",
    "fig.add_trace(go.Scatter(x=ref_tel['Distance'], y=delta_time, line_color='white', name='Delta Time', hovertemplate = 'Delta Time: %{y:.3f} sec', opacity=0.8, line_width=1), secondary_y=True)\n",
    "\n",
    "fig.update_yaxes(title_text=\"Speed (km/h)\", secondary_y=False)\n",
    "fig.update_yaxes(title_text=f\"<-- {driver_2} ahead | {driver_1} ahead -->\", secondary_y=True)\n",
    "fig.update_layout(width=1200, height=600, title_text=plot_title, xaxis_title='Distance (m)', title_x=0.5)\n",
    "fig.show()"
   ]
  },
  {
   "cell_type": "code",
   "execution_count": 59,
   "metadata": {},
   "outputs": [
    {
     "data": {
      "application/vnd.plotly.v1+json": {
       "config": {
        "plotlyServerURL": "https://plot.ly"
       },
       "data": [
        {
         "hovertemplate": "Speed: %{y} km/h<br>Distance: %{x} meters",
         "line": {
          "color": "#0600ef"
         },
         "name": "VER",
         "opacity": 0.8,
         "type": "scatter",
         "x": [
          13,
          42,
          77,
          106,
          131,
          151,
          167,
          195,
          221,
          243,
          256,
          288,
          303,
          323,
          332,
          339,
          349,
          355,
          365,
          376,
          385,
          390,
          398,
          403,
          408,
          419,
          424,
          436,
          442,
          452,
          461,
          471,
          478,
          487,
          498,
          509,
          521,
          532,
          549,
          576,
          589,
          611,
          623,
          651,
          664,
          674,
          704,
          734,
          749,
          760,
          780,
          795,
          822,
          840,
          852,
          867,
          880,
          895,
          917,
          949,
          961,
          980,
          1000,
          1015,
          1044,
          1066,
          1085,
          1105,
          1122,
          1142,
          1166,
          1191,
          1213,
          1226,
          1238,
          1256,
          1270,
          1280,
          1294,
          1304,
          1327,
          1339,
          1352,
          1365,
          1378,
          1391,
          1404,
          1414,
          1432,
          1450,
          1462,
          1484,
          1504,
          1519,
          1538,
          1549,
          1557,
          1569,
          1580,
          1589,
          1600,
          1611,
          1620,
          1627,
          1635,
          1643,
          1662,
          1677,
          1691,
          1699,
          1715,
          1740,
          1755,
          1772,
          1790,
          1820,
          1844,
          1856,
          1876,
          1896,
          1919,
          1937,
          1961,
          1980,
          1998,
          2014,
          2049,
          2068,
          2103,
          2135,
          2149,
          2168,
          2194,
          2220,
          2247,
          2260,
          2283,
          2297,
          2313,
          2347,
          2370,
          2394,
          2408,
          2424,
          2445,
          2469,
          2486,
          2503,
          2523,
          2557,
          2595,
          2619,
          2639,
          2653,
          2673,
          2691,
          2711,
          2736,
          2753,
          2767,
          2794,
          2825,
          2849,
          2877,
          2907,
          2931,
          2951,
          2983,
          3005,
          3018,
          3036,
          3042,
          3051,
          3064,
          3075,
          3082,
          3087,
          3095,
          3100,
          3110,
          3123,
          3134,
          3139,
          3147,
          3161,
          3193,
          3200,
          3208,
          3215,
          3220,
          3228,
          3235,
          3242,
          3253,
          3266,
          3281,
          3299,
          3312,
          3320,
          3340,
          3348,
          3354,
          3362,
          3374,
          3380,
          3386,
          3390,
          3396,
          3401,
          3406,
          3411,
          3415,
          3419,
          3426,
          3433,
          3437,
          3442,
          3446,
          3457,
          3462,
          3467,
          3473,
          3480,
          3490,
          3499,
          3505,
          3511,
          3515,
          3522,
          3525,
          3532,
          3540,
          3574,
          3582,
          3598,
          3619,
          3627,
          3641,
          3650,
          3665,
          3687,
          3700,
          3721,
          3748,
          3759,
          3779,
          3790,
          3819,
          3855,
          3877,
          3892,
          3908,
          3930,
          3942,
          3965,
          3987,
          4020,
          4046,
          4075,
          4092,
          4112,
          4142,
          4159,
          4180,
          4197,
          4227,
          4251,
          4265,
          4300,
          4334,
          4373,
          4397,
          4418,
          4440,
          4461,
          4489,
          4514,
          4531,
          4545,
          4567,
          4598,
          4612,
          4643,
          4664,
          4681,
          4703,
          4718,
          4734,
          4750,
          4763,
          4778,
          4786,
          4792,
          4804,
          4809,
          4817,
          4820,
          4825,
          4830,
          4832,
          4839,
          4844,
          4849,
          4853,
          4860,
          4872,
          4885,
          4894,
          4906,
          4912,
          4936,
          4951,
          4961,
          4977,
          4989,
          5000,
          5031,
          5059,
          5072,
          5100,
          5128,
          5140,
          5154,
          5165,
          5183,
          5198,
          5213,
          5234,
          5252,
          5264,
          5282,
          5298,
          5319
         ],
         "xaxis": "x",
         "y": [
          281,
          285,
          288,
          288,
          288,
          288,
          288,
          288,
          289,
          288,
          288,
          263,
          224,
          177,
          160,
          152,
          134,
          124,
          112,
          101,
          96,
          92,
          92,
          94,
          96,
          109,
          113,
          133,
          139,
          150,
          152,
          154,
          155,
          160,
          165,
          169,
          183,
          192,
          197,
          199,
          203,
          215,
          220,
          226,
          232,
          235,
          243,
          252,
          255,
          255,
          261,
          263,
          269,
          272,
          274,
          276,
          278,
          280,
          282,
          284,
          284,
          285,
          286,
          287,
          289,
          282,
          273,
          265,
          256,
          249,
          248,
          248,
          243,
          234,
          228,
          223,
          217,
          215,
          219,
          221,
          225,
          228,
          232,
          235,
          233,
          233,
          229,
          229,
          227,
          230,
          231,
          216,
          201,
          196,
          170,
          159,
          152,
          146,
          143,
          138,
          135,
          129,
          129,
          134,
          141,
          144,
          153,
          168,
          181,
          193,
          198,
          210,
          219,
          224,
          232,
          242,
          246,
          250,
          257,
          260,
          265,
          268,
          272,
          276,
          278,
          281,
          284,
          286,
          289,
          292,
          293,
          293,
          294,
          296,
          297,
          298,
          299,
          300,
          300,
          301,
          303,
          304,
          304,
          304,
          305,
          306,
          306,
          306,
          307,
          307,
          307,
          308,
          308,
          308,
          309,
          310,
          311,
          311,
          311,
          312,
          311,
          309,
          308,
          307,
          306,
          304,
          298,
          267,
          218,
          195,
          159,
          144,
          133,
          114,
          101,
          94,
          91,
          88,
          91,
          100,
          111,
          124,
          129,
          137,
          127,
          106,
          103,
          101,
          101,
          103,
          103,
          109,
          116,
          127,
          143,
          154,
          163,
          171,
          171,
          153,
          143,
          132,
          121,
          102,
          91,
          84,
          81,
          73,
          70,
          71,
          76,
          76,
          74,
          72,
          76,
          79,
          86,
          94,
          106,
          115,
          113,
          105,
          100,
          87,
          82,
          77,
          76,
          75,
          80,
          82,
          91,
          102,
          143,
          154,
          173,
          190,
          194,
          203,
          206,
          216,
          224,
          229,
          236,
          245,
          250,
          255,
          257,
          263,
          271,
          275,
          277,
          280,
          282,
          284,
          285,
          290,
          292,
          294,
          298,
          299,
          299,
          303,
          303,
          304,
          306,
          308,
          310,
          310,
          311,
          313,
          314,
          315,
          316,
          317,
          317,
          317,
          319,
          318,
          318,
          316,
          315,
          314,
          313,
          311,
          308,
          286,
          261,
          247,
          197,
          167,
          135,
          121,
          110,
          98,
          87,
          76,
          71,
          67,
          63,
          62,
          65,
          71,
          76,
          80,
          92,
          108,
          126,
          134,
          150,
          155,
          177,
          188,
          195,
          203,
          205,
          214,
          226,
          234,
          239,
          248,
          253,
          256,
          259,
          260,
          263,
          265,
          268,
          269,
          272,
          272,
          276,
          278,
          279
         ],
         "yaxis": "y"
        },
        {
         "hovertemplate": "Speed: %{y} km/h<br>Distance: %{x} meters",
         "line": {
          "color": "#00d2be"
         },
         "name": "HAM",
         "opacity": 0.8,
         "type": "scatter",
         "x": [
          10,
          26,
          45,
          72,
          85,
          105,
          125,
          139,
          166,
          193,
          210,
          223,
          240,
          256,
          271,
          291,
          300,
          309,
          324,
          332,
          343,
          352,
          360,
          372,
          382,
          392,
          396,
          403,
          412,
          417,
          429,
          434,
          448,
          460,
          470,
          478,
          485,
          492,
          501,
          508,
          526,
          536,
          545,
          564,
          572,
          583,
          603,
          615,
          636,
          653,
          666,
          687,
          703,
          714,
          739,
          761,
          785,
          808,
          832,
          844,
          862,
          878,
          900,
          912,
          937,
          956,
          975,
          1001,
          1013,
          1039,
          1052,
          1071,
          1083,
          1110,
          1130,
          1141,
          1155,
          1166,
          1190,
          1203,
          1228,
          1250,
          1261,
          1271,
          1289,
          1313,
          1340,
          1355,
          1375,
          1388,
          1407,
          1417,
          1444,
          1453,
          1465,
          1477,
          1494,
          1508,
          1521,
          1531,
          1547,
          1558,
          1570,
          1578,
          1590,
          1597,
          1602,
          1612,
          1622,
          1627,
          1637,
          1649,
          1660,
          1666,
          1684,
          1704,
          1712,
          1733,
          1754,
          1768,
          1778,
          1793,
          1811,
          1825,
          1835,
          1866,
          1878,
          1895,
          1906,
          1930,
          1960,
          1994,
          2025,
          2041,
          2070,
          2089,
          2105,
          2118,
          2140,
          2153,
          2173,
          2192,
          2225,
          2242,
          2262,
          2278,
          2299,
          2312,
          2352,
          2379,
          2403,
          2440,
          2468,
          2495,
          2508,
          2543,
          2556,
          2584,
          2601,
          2618,
          2639,
          2674,
          2701,
          2715,
          2747,
          2784,
          2798,
          2816,
          2857,
          2880,
          2897,
          2924,
          2954,
          2975,
          2988,
          3004,
          3018,
          3031,
          3042,
          3050,
          3059,
          3064,
          3071,
          3079,
          3085,
          3096,
          3101,
          3109,
          3113,
          3118,
          3127,
          3139,
          3147,
          3161,
          3176,
          3187,
          3193,
          3205,
          3216,
          3227,
          3260,
          3266,
          3278,
          3292,
          3299,
          3306,
          3319,
          3332,
          3345,
          3355,
          3368,
          3374,
          3385,
          3390,
          3395,
          3402,
          3410,
          3416,
          3425,
          3433,
          3443,
          3452,
          3463,
          3474,
          3482,
          3487,
          3492,
          3496,
          3504,
          3509,
          3514,
          3519,
          3523,
          3530,
          3537,
          3541,
          3550,
          3556,
          3566,
          3578,
          3587,
          3598,
          3614,
          3626,
          3648,
          3660,
          3675,
          3689,
          3700,
          3710,
          3726,
          3742,
          3756,
          3770,
          3781,
          3804,
          3822,
          3834,
          3846,
          3912,
          3934,
          3966,
          3978,
          4014,
          4027,
          4050,
          4067,
          4083,
          4107,
          4130,
          4144,
          4168,
          4181,
          4195,
          4219,
          4243,
          4257,
          4278,
          4298,
          4326,
          4347,
          4361,
          4389,
          4417,
          4435,
          4459,
          4473,
          4498,
          4516,
          4537,
          4551,
          4579,
          4596,
          4617,
          4631,
          4648,
          4672,
          4696,
          4708,
          4729,
          4752,
          4764,
          4777,
          4784,
          4795,
          4802,
          4807,
          4811,
          4818,
          4823,
          4828,
          4835,
          4841,
          4845,
          4849,
          4856,
          4864,
          4873,
          4883,
          4888,
          4897,
          4904,
          4911,
          4926,
          4938,
          4959,
          4970,
          4993,
          5018,
          5027,
          5038,
          5050,
          5069,
          5085,
          5102,
          5133,
          5147,
          5167,
          5194,
          5215,
          5230,
          5254,
          5266,
          5284,
          5303,
          5322
         ],
         "xaxis": "x",
         "y": [
          287,
          290,
          293,
          297,
          299,
          301,
          301,
          302,
          303,
          304,
          305,
          305,
          301,
          290,
          267,
          229,
          203,
          191,
          152,
          138,
          119,
          113,
          105,
          94,
          88,
          86,
          90,
          92,
          101,
          103,
          118,
          122,
          141,
          147,
          149,
          150,
          154,
          156,
          160,
          166,
          181,
          185,
          187,
          191,
          190,
          191,
          202,
          208,
          217,
          222,
          227,
          236,
          240,
          244,
          249,
          254,
          261,
          265,
          269,
          272,
          274,
          276,
          280,
          281,
          283,
          284,
          284,
          286,
          287,
          287,
          288,
          284,
          279,
          267,
          259,
          254,
          251,
          247,
          241,
          240,
          225,
          212,
          212,
          207,
          207,
          214,
          220,
          224,
          229,
          228,
          222,
          220,
          216,
          216,
          218,
          218,
          215,
          205,
          196,
          187,
          175,
          163,
          156,
          150,
          140,
          137,
          131,
          125,
          123,
          120,
          127,
          133,
          141,
          146,
          162,
          179,
          187,
          201,
          211,
          219,
          219,
          227,
          235,
          239,
          244,
          252,
          255,
          258,
          262,
          267,
          272,
          278,
          280,
          282,
          285,
          287,
          288,
          289,
          291,
          292,
          293,
          294,
          296,
          298,
          300,
          299,
          301,
          301,
          303,
          304,
          305,
          305,
          307,
          307,
          307,
          308,
          308,
          310,
          310,
          310,
          310,
          311,
          312,
          312,
          313,
          310,
          311,
          310,
          308,
          307,
          305,
          305,
          296,
          268,
          239,
          205,
          183,
          159,
          140,
          129,
          117,
          112,
          107,
          100,
          96,
          90,
          88,
          93,
          95,
          98,
          101,
          114,
          123,
          123,
          114,
          110,
          107,
          100,
          97,
          98,
          120,
          127,
          141,
          155,
          161,
          163,
          159,
          151,
          141,
          133,
          114,
          101,
          89,
          85,
          80,
          77,
          70,
          71,
          73,
          74,
          81,
          87,
          100,
          109,
          98,
          92,
          88,
          84,
          78,
          75,
          73,
          74,
          77,
          82,
          88,
          91,
          101,
          109,
          124,
          140,
          151,
          166,
          179,
          183,
          202,
          209,
          218,
          223,
          228,
          231,
          239,
          243,
          248,
          252,
          255,
          261,
          264,
          267,
          270,
          282,
          282,
          288,
          290,
          293,
          293,
          296,
          297,
          300,
          302,
          303,
          304,
          305,
          306,
          307,
          309,
          310,
          311,
          311,
          312,
          313,
          314,
          313,
          315,
          315,
          315,
          317,
          316,
          317,
          317,
          316,
          315,
          314,
          313,
          312,
          311,
          311,
          310,
          305,
          289,
          262,
          209,
          177,
          149,
          132,
          114,
          98,
          92,
          87,
          82,
          77,
          74,
          67,
          66,
          68,
          69,
          78,
          88,
          99,
          112,
          122,
          135,
          140,
          140,
          165,
          176,
          191,
          197,
          209,
          220,
          220,
          227,
          232,
          239,
          243,
          249,
          254,
          257,
          261,
          265,
          266,
          270,
          273,
          274,
          276,
          278,
          280
         ],
         "yaxis": "y"
        },
        {
         "hovertemplate": "Gear: %{y}<br>Distance: %{x} meters",
         "line": {
          "color": "#0600ef"
         },
         "name": "VER",
         "opacity": 0.8,
         "showlegend": false,
         "type": "scatter",
         "x": [
          13,
          42,
          77,
          106,
          131,
          151,
          167,
          195,
          221,
          243,
          256,
          288,
          303,
          323,
          332,
          339,
          349,
          355,
          365,
          376,
          385,
          390,
          398,
          403,
          408,
          419,
          424,
          436,
          442,
          452,
          461,
          471,
          478,
          487,
          498,
          509,
          521,
          532,
          549,
          576,
          589,
          611,
          623,
          651,
          664,
          674,
          704,
          734,
          749,
          760,
          780,
          795,
          822,
          840,
          852,
          867,
          880,
          895,
          917,
          949,
          961,
          980,
          1000,
          1015,
          1044,
          1066,
          1085,
          1105,
          1122,
          1142,
          1166,
          1191,
          1213,
          1226,
          1238,
          1256,
          1270,
          1280,
          1294,
          1304,
          1327,
          1339,
          1352,
          1365,
          1378,
          1391,
          1404,
          1414,
          1432,
          1450,
          1462,
          1484,
          1504,
          1519,
          1538,
          1549,
          1557,
          1569,
          1580,
          1589,
          1600,
          1611,
          1620,
          1627,
          1635,
          1643,
          1662,
          1677,
          1691,
          1699,
          1715,
          1740,
          1755,
          1772,
          1790,
          1820,
          1844,
          1856,
          1876,
          1896,
          1919,
          1937,
          1961,
          1980,
          1998,
          2014,
          2049,
          2068,
          2103,
          2135,
          2149,
          2168,
          2194,
          2220,
          2247,
          2260,
          2283,
          2297,
          2313,
          2347,
          2370,
          2394,
          2408,
          2424,
          2445,
          2469,
          2486,
          2503,
          2523,
          2557,
          2595,
          2619,
          2639,
          2653,
          2673,
          2691,
          2711,
          2736,
          2753,
          2767,
          2794,
          2825,
          2849,
          2877,
          2907,
          2931,
          2951,
          2983,
          3005,
          3018,
          3036,
          3042,
          3051,
          3064,
          3075,
          3082,
          3087,
          3095,
          3100,
          3110,
          3123,
          3134,
          3139,
          3147,
          3161,
          3193,
          3200,
          3208,
          3215,
          3220,
          3228,
          3235,
          3242,
          3253,
          3266,
          3281,
          3299,
          3312,
          3320,
          3340,
          3348,
          3354,
          3362,
          3374,
          3380,
          3386,
          3390,
          3396,
          3401,
          3406,
          3411,
          3415,
          3419,
          3426,
          3433,
          3437,
          3442,
          3446,
          3457,
          3462,
          3467,
          3473,
          3480,
          3490,
          3499,
          3505,
          3511,
          3515,
          3522,
          3525,
          3532,
          3540,
          3574,
          3582,
          3598,
          3619,
          3627,
          3641,
          3650,
          3665,
          3687,
          3700,
          3721,
          3748,
          3759,
          3779,
          3790,
          3819,
          3855,
          3877,
          3892,
          3908,
          3930,
          3942,
          3965,
          3987,
          4020,
          4046,
          4075,
          4092,
          4112,
          4142,
          4159,
          4180,
          4197,
          4227,
          4251,
          4265,
          4300,
          4334,
          4373,
          4397,
          4418,
          4440,
          4461,
          4489,
          4514,
          4531,
          4545,
          4567,
          4598,
          4612,
          4643,
          4664,
          4681,
          4703,
          4718,
          4734,
          4750,
          4763,
          4778,
          4786,
          4792,
          4804,
          4809,
          4817,
          4820,
          4825,
          4830,
          4832,
          4839,
          4844,
          4849,
          4853,
          4860,
          4872,
          4885,
          4894,
          4906,
          4912,
          4936,
          4951,
          4961,
          4977,
          4989,
          5000,
          5031,
          5059,
          5072,
          5100,
          5128,
          5140,
          5154,
          5165,
          5183,
          5198,
          5213,
          5234,
          5252,
          5264,
          5282,
          5298,
          5319
         ],
         "xaxis": "x2",
         "y": [
          7,
          7,
          7,
          7,
          7,
          7,
          7,
          7,
          7,
          7,
          7,
          7,
          7,
          7,
          5,
          3,
          3,
          3,
          3,
          3,
          3,
          3,
          3,
          3,
          3,
          3,
          3,
          3,
          3,
          3,
          4,
          4,
          4,
          4,
          4,
          4,
          4,
          4,
          4,
          5,
          5,
          5,
          5,
          5,
          5,
          6,
          6,
          6,
          6,
          6,
          6,
          7,
          7,
          7,
          7,
          7,
          7,
          7,
          7,
          7,
          7,
          7,
          7,
          7,
          7,
          7,
          7,
          6,
          6,
          6,
          6,
          6,
          6,
          6,
          5,
          5,
          5,
          5,
          5,
          5,
          5,
          5,
          5,
          5,
          5,
          5,
          5,
          5,
          5,
          5,
          5,
          5,
          4,
          4,
          4,
          4,
          4,
          4,
          4,
          4,
          4,
          4,
          4,
          4,
          4,
          4,
          4,
          4,
          4,
          4,
          4,
          5,
          5,
          5,
          5,
          6,
          6,
          6,
          6,
          6,
          7,
          7,
          7,
          7,
          7,
          7,
          7,
          7,
          7,
          7,
          7,
          7,
          8,
          8,
          8,
          8,
          8,
          8,
          8,
          8,
          8,
          8,
          8,
          8,
          8,
          8,
          8,
          8,
          8,
          8,
          8,
          8,
          8,
          8,
          8,
          8,
          8,
          8,
          8,
          8,
          8,
          8,
          8,
          8,
          8,
          8,
          8,
          8,
          8,
          8,
          5,
          4,
          3,
          3,
          3,
          3,
          3,
          3,
          3,
          3,
          3,
          3,
          3,
          3,
          3,
          3,
          3,
          3,
          3,
          3,
          3,
          3,
          3,
          3,
          3,
          3,
          4,
          4,
          4,
          3,
          3,
          2,
          2,
          2,
          2,
          2,
          2,
          2,
          2,
          2,
          2,
          2,
          2,
          2,
          2,
          2,
          2,
          2,
          2,
          2,
          2,
          2,
          2,
          2,
          2,
          2,
          2,
          2,
          2,
          2,
          2,
          2,
          3,
          3,
          3,
          4,
          4,
          4,
          5,
          5,
          5,
          5,
          6,
          6,
          6,
          6,
          6,
          7,
          7,
          7,
          7,
          7,
          7,
          7,
          7,
          7,
          7,
          8,
          8,
          8,
          8,
          8,
          8,
          8,
          8,
          8,
          8,
          8,
          8,
          8,
          8,
          8,
          8,
          8,
          8,
          8,
          8,
          8,
          8,
          8,
          8,
          8,
          8,
          8,
          8,
          8,
          8,
          8,
          8,
          6,
          3,
          2,
          2,
          2,
          2,
          2,
          2,
          2,
          2,
          2,
          2,
          2,
          2,
          2,
          2,
          2,
          2,
          2,
          3,
          3,
          4,
          4,
          4,
          4,
          5,
          5,
          5,
          6,
          6,
          6,
          6,
          6,
          6,
          6,
          6,
          7,
          7,
          7,
          7,
          7,
          7,
          7,
          7
         ],
         "yaxis": "y2"
        },
        {
         "hovertemplate": "Gear: %{y}<br>Distance: %{x} meters",
         "line": {
          "color": "#00d2be"
         },
         "name": "HAM",
         "opacity": 0.8,
         "showlegend": false,
         "type": "scatter",
         "x": [
          10,
          26,
          45,
          72,
          85,
          105,
          125,
          139,
          166,
          193,
          210,
          223,
          240,
          256,
          271,
          291,
          300,
          309,
          324,
          332,
          343,
          352,
          360,
          372,
          382,
          392,
          396,
          403,
          412,
          417,
          429,
          434,
          448,
          460,
          470,
          478,
          485,
          492,
          501,
          508,
          526,
          536,
          545,
          564,
          572,
          583,
          603,
          615,
          636,
          653,
          666,
          687,
          703,
          714,
          739,
          761,
          785,
          808,
          832,
          844,
          862,
          878,
          900,
          912,
          937,
          956,
          975,
          1001,
          1013,
          1039,
          1052,
          1071,
          1083,
          1110,
          1130,
          1141,
          1155,
          1166,
          1190,
          1203,
          1228,
          1250,
          1261,
          1271,
          1289,
          1313,
          1340,
          1355,
          1375,
          1388,
          1407,
          1417,
          1444,
          1453,
          1465,
          1477,
          1494,
          1508,
          1521,
          1531,
          1547,
          1558,
          1570,
          1578,
          1590,
          1597,
          1602,
          1612,
          1622,
          1627,
          1637,
          1649,
          1660,
          1666,
          1684,
          1704,
          1712,
          1733,
          1754,
          1768,
          1778,
          1793,
          1811,
          1825,
          1835,
          1866,
          1878,
          1895,
          1906,
          1930,
          1960,
          1994,
          2025,
          2041,
          2070,
          2089,
          2105,
          2118,
          2140,
          2153,
          2173,
          2192,
          2225,
          2242,
          2262,
          2278,
          2299,
          2312,
          2352,
          2379,
          2403,
          2440,
          2468,
          2495,
          2508,
          2543,
          2556,
          2584,
          2601,
          2618,
          2639,
          2674,
          2701,
          2715,
          2747,
          2784,
          2798,
          2816,
          2857,
          2880,
          2897,
          2924,
          2954,
          2975,
          2988,
          3004,
          3018,
          3031,
          3042,
          3050,
          3059,
          3064,
          3071,
          3079,
          3085,
          3096,
          3101,
          3109,
          3113,
          3118,
          3127,
          3139,
          3147,
          3161,
          3176,
          3187,
          3193,
          3205,
          3216,
          3227,
          3260,
          3266,
          3278,
          3292,
          3299,
          3306,
          3319,
          3332,
          3345,
          3355,
          3368,
          3374,
          3385,
          3390,
          3395,
          3402,
          3410,
          3416,
          3425,
          3433,
          3443,
          3452,
          3463,
          3474,
          3482,
          3487,
          3492,
          3496,
          3504,
          3509,
          3514,
          3519,
          3523,
          3530,
          3537,
          3541,
          3550,
          3556,
          3566,
          3578,
          3587,
          3598,
          3614,
          3626,
          3648,
          3660,
          3675,
          3689,
          3700,
          3710,
          3726,
          3742,
          3756,
          3770,
          3781,
          3804,
          3822,
          3834,
          3846,
          3912,
          3934,
          3966,
          3978,
          4014,
          4027,
          4050,
          4067,
          4083,
          4107,
          4130,
          4144,
          4168,
          4181,
          4195,
          4219,
          4243,
          4257,
          4278,
          4298,
          4326,
          4347,
          4361,
          4389,
          4417,
          4435,
          4459,
          4473,
          4498,
          4516,
          4537,
          4551,
          4579,
          4596,
          4617,
          4631,
          4648,
          4672,
          4696,
          4708,
          4729,
          4752,
          4764,
          4777,
          4784,
          4795,
          4802,
          4807,
          4811,
          4818,
          4823,
          4828,
          4835,
          4841,
          4845,
          4849,
          4856,
          4864,
          4873,
          4883,
          4888,
          4897,
          4904,
          4911,
          4926,
          4938,
          4959,
          4970,
          4993,
          5018,
          5027,
          5038,
          5050,
          5069,
          5085,
          5102,
          5133,
          5147,
          5167,
          5194,
          5215,
          5230,
          5254,
          5266,
          5284,
          5303,
          5322
         ],
         "xaxis": "x2",
         "y": [
          8,
          8,
          8,
          8,
          8,
          8,
          8,
          8,
          8,
          8,
          8,
          8,
          8,
          8,
          8,
          8,
          8,
          8,
          7,
          7,
          7,
          4,
          3,
          3,
          3,
          3,
          3,
          3,
          3,
          3,
          3,
          3,
          3,
          4,
          4,
          4,
          4,
          4,
          4,
          4,
          4,
          4,
          5,
          5,
          5,
          5,
          5,
          5,
          5,
          6,
          6,
          6,
          6,
          6,
          6,
          7,
          7,
          7,
          7,
          7,
          7,
          7,
          7,
          7,
          8,
          8,
          8,
          8,
          8,
          8,
          8,
          8,
          8,
          8,
          8,
          8,
          8,
          8,
          8,
          8,
          8,
          6,
          6,
          6,
          6,
          6,
          6,
          6,
          6,
          6,
          6,
          6,
          6,
          6,
          6,
          6,
          6,
          6,
          6,
          6,
          5,
          4,
          4,
          4,
          4,
          4,
          4,
          4,
          3,
          3,
          3,
          3,
          3,
          3,
          3,
          4,
          4,
          5,
          5,
          5,
          6,
          6,
          6,
          6,
          6,
          7,
          7,
          7,
          7,
          7,
          7,
          7,
          7,
          8,
          8,
          8,
          8,
          8,
          8,
          8,
          8,
          8,
          8,
          8,
          8,
          8,
          8,
          8,
          8,
          8,
          8,
          8,
          8,
          8,
          8,
          8,
          8,
          8,
          8,
          8,
          8,
          8,
          8,
          8,
          8,
          8,
          8,
          8,
          8,
          8,
          8,
          8,
          8,
          8,
          8,
          8,
          8,
          7,
          7,
          7,
          5,
          4,
          3,
          3,
          3,
          3,
          3,
          3,
          3,
          3,
          3,
          3,
          3,
          3,
          3,
          3,
          3,
          3,
          3,
          3,
          3,
          3,
          3,
          3,
          3,
          4,
          4,
          4,
          4,
          3,
          3,
          2,
          2,
          2,
          2,
          2,
          2,
          2,
          2,
          2,
          2,
          2,
          2,
          2,
          2,
          2,
          2,
          2,
          2,
          2,
          2,
          2,
          2,
          2,
          2,
          2,
          2,
          2,
          2,
          2,
          3,
          3,
          4,
          4,
          5,
          5,
          5,
          5,
          6,
          6,
          6,
          6,
          6,
          6,
          7,
          7,
          7,
          7,
          7,
          7,
          8,
          8,
          8,
          8,
          8,
          8,
          8,
          8,
          8,
          8,
          8,
          8,
          8,
          8,
          8,
          8,
          8,
          8,
          8,
          8,
          8,
          8,
          8,
          8,
          8,
          8,
          8,
          8,
          8,
          8,
          8,
          8,
          8,
          8,
          8,
          8,
          8,
          8,
          8,
          8,
          8,
          7,
          6,
          6,
          6,
          6,
          4,
          2,
          2,
          2,
          2,
          2,
          2,
          2,
          2,
          2,
          2,
          2,
          2,
          2,
          2,
          2,
          3,
          3,
          4,
          4,
          4,
          5,
          5,
          6,
          6,
          6,
          6,
          6,
          6,
          7,
          7,
          7,
          7,
          7,
          7,
          7,
          7,
          7,
          7,
          7
         ],
         "yaxis": "y2"
        },
        {
         "hovertemplate": "Delta Time: %{y:.3f} sec",
         "line": {
          "color": "white"
         },
         "mode": "lines",
         "name": "Delta Time",
         "opacity": 0.8,
         "type": "scatter",
         "x": [
          0,
          13.269444444444446,
          41.769444444444446,
          76.96944444444445,
          105.76944444444445,
          131.36944444444444,
          150.56944444444443,
          166.56944444444446,
          195.36944444444444,
          221.0583333333333,
          243.45833333333331,
          256.2583333333333,
          288.40277777777777,
          303.3361111111111,
          323.0027777777778,
          331.8916666666667,
          338.6472222222223,
          349.0694444444445,
          354.58055555555563,
          364.53611111111115,
          375.7583333333334,
          385.38500000000005,
          390.4705555555556,
          397.6261111111112,
          402.8483333333334,
          408.18166666666673,
          419.0816666666667,
          424.10388888888895,
          435.9261111111112,
          442.103888888889,
          452.103888888889,
          460.5483333333334,
          470.81500000000005,
          477.70388888888897,
          486.5927777777778,
          497.5927777777778,
          508.8594444444445,
          521.0594444444445,
          531.7261111111111,
          549.2372222222223,
          575.7705555555556,
          589.3038888888889,
          610.8038888888889,
          623.0261111111112,
          650.6483333333333,
          663.5372222222221,
          673.9816666666666,
          703.7491666666666,
          734.4791666666666,
          748.6458333333333,
          759.9791666666666,
          780.2791666666667,
          794.8902777777778,
          821.7902777777778,
          839.9236111111111,
          852.1013888888889,
          867.4347222222223,
          879.7902777777779,
          895.3458333333334,
          917.2791666666667,
          948.8347222222225,
          961.4569444444447,
          980.4569444444446,
          999.5236111111111,
          1015.4680555555558,
          1044.3680555555557,
          1066.3013888888888,
          1084.5013888888889,
          1105.1125,
          1122.1791666666666,
          1141.5458333333333,
          1166.3458333333333,
          1191.2147222222222,
          1212.7472222222223,
          1225.7472222222223,
          1238.4138888888888,
          1255.7583333333332,
          1270.225,
          1279.7805555555553,
          1294.3805555555555,
          1304.2027777777778,
          1326.7027777777778,
          1339.3694444444443,
          1352.2583333333332,
          1365.3138888888889,
          1378.2583333333332,
          1391.2027777777776,
          1403.9249999999997,
          1414.1027777777774,
          1431.758333333333,
          1449.647222222222,
          1462.4805555555552,
          1484.080555555555,
          1504.180555555555,
          1519.4249999999995,
          1538.3138888888884,
          1548.9138888888886,
          1557.358333333333,
          1568.754444444444,
          1579.8766666666663,
          1589.038333333333,
          1599.538333333333,
          1611.0049999999997,
          1619.6049999999998,
          1627.0494444444441,
          1634.8827777777774,
          1642.8827777777774,
          1661.5827777777774,
          1676.5161111111108,
          1690.5938888888886,
          1699.1716666666664,
          1714.5716666666663,
          1740.238333333333,
          1754.838333333333,
          1772.2605555555551,
          1790.3049999999996,
          1819.8827777777772,
          1844.4827777777773,
          1855.5938888888884,
          1875.5827777777772,
          1895.8049999999996,
          1919.4341666666664,
          1937.3008333333328,
          1961.4786111111105,
          1979.8019444444442,
          1998.3352777777777,
          2013.9463888888886,
          2048.6574999999993,
          2067.724166666666,
          2103.0463888888885,
          2135.490833333333,
          2148.5130555555547,
          2168.046388888888,
          2194.1797222222212,
          2220.4908333333324,
          2246.8908333333325,
          2260.1352777777765,
          2283.390833333332,
          2296.7241666666655,
          2313.390833333332,
          2346.8352777777764,
          2370.401944444443,
          2394.0463888888876,
          2407.557499999999,
          2424.4463888888877,
          2444.779722222221,
          2468.664722222221,
          2485.6647222222214,
          2502.664722222221,
          2523.0461111111103,
          2557.157222222221,
          2594.679444444443,
          2618.634999999999,
          2639.168333333332,
          2652.8572222222206,
          2673.457222222221,
          2690.6794444444436,
          2711.4127777777762,
          2735.601666666665,
          2752.879444444443,
          2766.7461111111093,
          2794.390555555554,
          2825.290555555554,
          2849.2461111111097,
          2876.5349999999985,
          2907.1349999999984,
          2930.779444444443,
          2950.64611111111,
          2983.279444444443,
          3005.1399999999985,
          3018.1399999999985,
          3035.806666666665,
          3042.206666666665,
          3051.0363888888874,
          3063.703055555554,
          3074.925277777776,
          3082.236388888887,
          3087.291944444443,
          3095.114166666665,
          3100.1697222222206,
          3110.1697222222206,
          3122.503055555554,
          3133.5252777777764,
          3139.2586111111095,
          3146.869722222221,
          3160.9808333333317,
          3192.7808333333314,
          3199.647499999998,
          3207.5030555555536,
          3215.3866666666645,
          3219.9644444444425,
          3227.9755555555535,
          3235.24222222222,
          3241.686666666664,
          3252.940277777775,
          3265.6513888888862,
          3281.0513888888863,
          3299.162499999997,
          3312.4624999999974,
          3320.0624999999973,
          3340.4624999999974,
          3348.4069444444417,
          3354.2736111111085,
          3362.340277777775,
          3373.6736111111086,
          3379.740277777775,
          3386.2736111111085,
          3389.8736111111084,
          3395.551388888886,
          3400.99583333333,
          3405.729166666664,
          3410.7958333333304,
          3415.0180555555526,
          3419.129166666664,
          3426.3491666666637,
          3433.104722222219,
          3437.4936111111083,
          3442.271388888886,
          3446.449166666664,
          3457.0197222222196,
          3462.1308333333304,
          3467.153055555553,
          3472.986388888886,
          3479.6530555555523,
          3490.2863888888855,
          3499.3974999999964,
          3504.5308333333296,
          3511.286388888885,
          3515.4530555555516,
          3521.6752777777738,
          3525.319722222218,
          3532.397499999996,
          3540.3308333333293,
          3573.6974999999957,
          3582.2530555555513,
          3597.6308333333286,
          3618.74194444444,
          3627.4180555555513,
          3640.951388888884,
          3650.10694444444,
          3664.50694444444,
          3686.90694444444,
          3699.565555555551,
          3720.543333333329,
          3747.7655555555507,
          3758.8766666666615,
          3778.709999999995,
          3790.132222222218,
          3819.3544444444397,
          3855.4877777777733,
          3876.8766666666625,
          3892.2655555555516,
          3907.8211111111063,
          3929.7544444444397,
          3942.376666666663,
          3964.54333333333,
          3987.098888888884,
          4019.543333333329,
          4045.676666666663,
          4075.476666666663,
          4092.0877777777728,
          4112.1041666666615,
          4142.404166666662,
          4159.237499999996,
          4179.504166666663,
          4196.504166666662,
          4227.218611111107,
          4251.329722222218,
          4265.1074999999955,
          4299.663055555551,
          4334.440833333329,
          4372.818611111106,
          4397.318611111106,
          4418.385277777774,
          4439.518611111107,
          4460.65194444444,
          4488.829722222219,
          4513.64083333333,
          4531.307499999996,
          4545.44083333333,
          4566.507499999997,
          4598.007499999997,
          4611.963055555552,
          4643.2630555555525,
          4663.996388888887,
          4681.193055555553,
          4703.437499999997,
          4717.937499999997,
          4734.4041666666635,
          4749.726388888886,
          4762.715277777775,
          4777.677777777774,
          4785.744444444441,
          4791.855555555552,
          4803.83333333333,
          4808.666666666663,
          4817.111111111108,
          4820.266666666663,
          4824.733333333329,
          4829.633333333329,
          4832.388888888884,
          4838.888888888884,
          4843.622222222218,
          4848.688888888884,
          4853.133333333329,
          4860.288888888885,
          4872.288888888885,
          4884.888888888885,
          4893.822222222218,
          4905.530555555552,
          4912.419444444441,
          4936.019444444441,
          4950.641666666664,
          4961.474999999997,
          4977.263888888886,
          4988.59583333333,
          5000.484722222219,
          5030.618055555552,
          5059.2180555555515,
          5072.49583333333,
          5100.051388888885,
          5128.162499999996,
          5139.540277777774,
          5153.929166666662,
          5165.484722222218,
          5183.018055555552,
          5197.740277777774,
          5212.629166666662,
          5233.5513888888845,
          5251.684722222219,
          5263.773611111107,
          5282.173611111107,
          5297.618055555551,
          5319.318055555551,
          5324.859999999995
         ],
         "xaxis": "x3",
         "y": [
          0,
          -0.0040137931034482655,
          -0.012245733788395885,
          -0.025404682274247414,
          -0.04030564784053148,
          -0.05437086092715249,
          -0.06596699669967032,
          -0.07590789473684234,
          -0.09496393442622963,
          -0.1117508196721313,
          -0.12253448275862144,
          -0.123348314606742,
          -0.0906026200873371,
          -0.06786387434555108,
          -0.02795394736842116,
          0.0032100840336131142,
          0.04757983193277404,
          0.09189380530973512,
          0.11321904761904822,
          0.15123404255319173,
          0.19118181818181856,
          0.22755813953488424,
          0.24144186046511695,
          0.24952173913043563,
          0.2538695652173928,
          0.24558415841584225,
          0.25955932203389853,
          0.25277966101694993,
          0.2788936170212768,
          0.2766241134751777,
          0.28786394557823236,
          0.2943624161073828,
          0.30221333333333256,
          0.3075466666666671,
          0.3148974358974357,
          0.32535000000000025,
          0.3305469613259664,
          0.333198895027623,
          0.34292432432432385,
          0.3591570680628262,
          0.3800994764397885,
          0.3885247524752433,
          0.40766346153845845,
          0.4130967741935443,
          0.4259549549549515,
          0.4313744493392022,
          0.4322457627118599,
          0.44092213114753775,
          0.4492248995983896,
          0.4512480314960605,
          0.45187795275590226,
          0.45241762452107004,
          0.45180754716980864,
          0.4544869888475809,
          0.45600367647058526,
          0.4564124087591228,
          0.4573949275362299,
          0.4581749999999989,
          0.45817500000000067,
          0.45889399293286104,
          0.4597887323943688,
          0.4597887323943688,
          0.46016083916084227,
          0.4601608391608387,
          0.4602055749128944,
          0.4624722222222246,
          0.45922535211267856,
          0.45400374531835297,
          0.4519063670411967,
          0.4472702702702662,
          0.4397888446215106,
          0.4382863070539358,
          0.44884583333332984,
          0.46222222222221987,
          0.470222222222219,
          0.4827547169811268,
          0.4972830188679147,
          0.5065893719806667,
          0.5127729468598936,
          0.5235887850467194,
          0.5288224299065334,
          0.5409090909090857,
          0.5481818181818099,
          0.5553928571428521,
          0.5614323144104745,
          0.565153508771921,
          0.5710675675675603,
          0.5773738738738672,
          0.5834136363636269,
          0.5967546296296184,
          0.6149027777777683,
          0.6273623853210886,
          0.625609302325568,
          0.6104195121951079,
          0.6075918367346773,
          0.5795199999999809,
          0.5609325153374023,
          0.5474355828220645,
          0.5292179487179283,
          0.5184428571428334,
          0.5150285714285481,
          0.5137099236640985,
          0.5201919999999731,
          0.5313821138211168,
          0.5531338582676959,
          0.5751811023621833,
          0.5942857142856965,
          0.6390136986301229,
          0.6620246913580132,
          0.6813910614525014,
          0.6939050279329493,
          0.7117164179104378,
          0.7248578199052034,
          0.7331917808219082,
          0.7395844748858345,
          0.7490440528634252,
          0.7614602510460173,
          0.7616071428571338,
          0.7603373015872918,
          0.7643176470588138,
          0.7665839694656462,
          0.7669026217228421,
          0.7660220588235305,
          0.7656978417266131,
          0.7639784172661805,
          0.7636071428571398,
          0.7643214285714279,
          0.7674736842105219,
          0.7683157894736752,
          0.7709236111111011,
          0.7736151202748971,
          0.7743664383561466,
          0.7745665529010068,
          0.7746182432432249,
          0.7746182432432249,
          0.7735299999999867,
          0.7724633333333131,
          0.7719999999999771,
          0.7714684385381858,
          0.7706864686468435,
          0.7680462046204468,
          0.7673355263157688,
          0.7667606557376843,
          0.7662360655737572,
          0.7655803278688396,
          0.7652312703582922,
          0.764315960912036,
          0.7636644951139999,
          0.7630130293159496,
          0.7624577922077833,
          0.7610999999999919,
          0.7568419354838625,
          0.7550354838709552,
          0.7534823151125281,
          0.7519389067524003,
          0.7503954983922725,
          0.7491185897435813,
          0.7483493589743446,
          0.7467028753993503,
          0.7461258064516016,
          0.747158064516114,
          0.7478199356913109,
          0.7472499999999869,
          0.7472499999999869,
          0.7469706840390771,
          0.7478491803278544,
          0.7492094594594434,
          0.750831081081067,
          0.7585857740585666,
          0.7715027322404282,
          0.7872404371584523,
          0.802371428571405,
          0.8083023255813657,
          0.8181452991452716,
          0.8139553571428308,
          0.7989899999999679,
          0.7867812499999758,
          0.7833222222221892,
          0.776211111111067,
          0.782647727272682,
          0.8111999999999497,
          0.8627920792078854,
          0.910271929824539,
          0.9299837398373683,
          0.9527479674796453,
          0.9667631578947038,
          0.9163899999999643,
          0.9235899999999617,
          0.9293092783504733,
          0.940896907216441,
          0.9491632653060762,
          0.9538333333332929,
          0.9318333333332873,
          0.9251666666666125,
          0.9437749999999383,
          0.9952127659573975,
          1.0215032258064056,
          1.0357607361962664,
          1.0529371069181863,
          1.0667086092714655,
          1.0872553191488805,
          1.0959323308269973,
          1.0947293233082007,
          1.1064210526315037,
          1.0889405940593235,
          1.0910898876403508,
          1.0773529411763647,
          1.06982352941165,
          1.0455974025972665,
          1.0201428571427158,
          1.0183857142855643,
          1.0382957746477288,
          1.0523802816899845,
          1.0567534246573942,
          1.0509864864863516,
          1.0596351351349966,
          1.0556790123455642,
          1.0680246913579126,
          1.0838620689654164,
          1.134929999999919,
          1.1589299999999128,
          1.1675321100916634,
          1.160192660550372,
          1.1615204081631632,
          1.1393749999998732,
          1.1376282051280455,
          1.1354133333331546,
          1.142602739725838,
          1.147067567567369,
          1.1644415584413608,
          1.1686219512193148,
          1.193465909090726,
          1.2338901098899342,
          1.4308928571427373,
          1.4436887417217577,
          1.4669698795179755,
          1.4897322404370783,
          1.4967376237623,
          1.497925742574182,
          1.5000861244018466,
          1.5049403669724057,
          1.510278026905766,
          1.5120432900432235,
          1.5133807531380086,
          1.5162338709676817,
          1.516817460317398,
          1.5186549019607298,
          1.5169923371646945,
          1.5177045454544924,
          1.5165531914893222,
          1.5096028368793952,
          1.5060567375886222,
          1.5046382978723045,
          1.5046382978723045,
          1.5034236111110744,
          1.5005069444444104,
          1.4994914675767603,
          1.4981262798634418,
          1.4969155405405132,
          1.4972499999999656,
          1.4958907284767804,
          1.4932904290428723,
          1.4928223684210167,
          1.4915704918032446,
          1.4903267973855918,
          1.4896213592232783,
          1.488148387096743,
          1.4878392282957833,
          1.487324758842405,
          1.486466453674069,
          1.4861687898088718,
          1.4862539682539193,
          1.4862539682539193,
          1.487015873015821,
          1.4881892744479046,
          1.4882373417721055,
          1.4886940063091032,
          1.4904605678232912,
          1.4916550632910912,
          1.4929841269840693,
          1.4943216560509,
          1.4962596153845737,
          1.4972852564102084,
          1.4994244372989982,
          1.500029032258027,
          1.5004983606556976,
          1.4881522491348989,
          1.480912213740396,
          1.486488038277443,
          1.470411483253514,
          1.4472542372880355,
          1.4070151515149973,
          1.392543859648967,
          1.3855263157893205,
          1.375043478260693,
          1.3671149425285165,
          1.3313902439021916,
          1.3175194805192092,
          1.2901351351348467,
          1.2584925373130886,
          1.24655223880562,
          1.23887878787842,
          1.2528235294114012,
          1.2774615384612389,
          1.2825897435894262,
          1.3124090909088295,
          1.366616161615923,
          1.4094344262293248,
          1.417533333333182,
          1.440978571428431,
          1.4540121212120027,
          1.4753011363635267,
          1.473706806282621,
          1.47646700507606,
          1.4773014354066305,
          1.4734928229664348,
          1.4719636363635544,
          1.4834493392069703,
          1.4856025104601827,
          1.4847366255143442,
          1.4876666666665983,
          1.4865905511810382,
          1.4867431906614144,
          1.4868390804596885,
          1.4862260536397685,
          1.48481886792446,
          1.4846240601503098,
          1.4861278195487984,
          1.4849120879120221,
          1.4840329670329027,
          1.482967153284605,
          1.4831775362318211,
          1.4833848920862636,
          1.482874999999936,
          1.4828297872339675
         ],
         "yaxis": "y3"
        }
       ],
       "layout": {
        "annotations": [
         {
          "font": {
           "size": 16
          },
          "showarrow": false,
          "text": "Speed",
          "x": 0.5,
          "xanchor": "center",
          "xref": "paper",
          "y": 1,
          "yanchor": "bottom",
          "yref": "paper"
         },
         {
          "font": {
           "size": 16
          },
          "showarrow": false,
          "text": "Gear",
          "x": 0.5,
          "xanchor": "center",
          "xref": "paper",
          "y": 0.6333333333333333,
          "yanchor": "bottom",
          "yref": "paper"
         },
         {
          "font": {
           "size": 16
          },
          "showarrow": false,
          "text": "Delta Time",
          "x": 0.5,
          "xanchor": "center",
          "xref": "paper",
          "y": 0.26666666666666666,
          "yanchor": "bottom",
          "yref": "paper"
         }
        ],
        "height": 1200,
        "template": {
         "data": {
          "bar": [
           {
            "error_x": {
             "color": "#f2f5fa"
            },
            "error_y": {
             "color": "#f2f5fa"
            },
            "marker": {
             "line": {
              "color": "rgb(17,17,17)",
              "width": 0.5
             },
             "pattern": {
              "fillmode": "overlay",
              "size": 10,
              "solidity": 0.2
             }
            },
            "type": "bar"
           }
          ],
          "barpolar": [
           {
            "marker": {
             "line": {
              "color": "rgb(17,17,17)",
              "width": 0.5
             },
             "pattern": {
              "fillmode": "overlay",
              "size": 10,
              "solidity": 0.2
             }
            },
            "type": "barpolar"
           }
          ],
          "carpet": [
           {
            "aaxis": {
             "endlinecolor": "#A2B1C6",
             "gridcolor": "#506784",
             "linecolor": "#506784",
             "minorgridcolor": "#506784",
             "startlinecolor": "#A2B1C6"
            },
            "baxis": {
             "endlinecolor": "#A2B1C6",
             "gridcolor": "#506784",
             "linecolor": "#506784",
             "minorgridcolor": "#506784",
             "startlinecolor": "#A2B1C6"
            },
            "type": "carpet"
           }
          ],
          "choropleth": [
           {
            "colorbar": {
             "outlinewidth": 0,
             "ticks": ""
            },
            "type": "choropleth"
           }
          ],
          "contour": [
           {
            "colorbar": {
             "outlinewidth": 0,
             "ticks": ""
            },
            "colorscale": [
             [
              0,
              "#0d0887"
             ],
             [
              0.1111111111111111,
              "#46039f"
             ],
             [
              0.2222222222222222,
              "#7201a8"
             ],
             [
              0.3333333333333333,
              "#9c179e"
             ],
             [
              0.4444444444444444,
              "#bd3786"
             ],
             [
              0.5555555555555556,
              "#d8576b"
             ],
             [
              0.6666666666666666,
              "#ed7953"
             ],
             [
              0.7777777777777778,
              "#fb9f3a"
             ],
             [
              0.8888888888888888,
              "#fdca26"
             ],
             [
              1,
              "#f0f921"
             ]
            ],
            "type": "contour"
           }
          ],
          "contourcarpet": [
           {
            "colorbar": {
             "outlinewidth": 0,
             "ticks": ""
            },
            "type": "contourcarpet"
           }
          ],
          "heatmap": [
           {
            "colorbar": {
             "outlinewidth": 0,
             "ticks": ""
            },
            "colorscale": [
             [
              0,
              "#0d0887"
             ],
             [
              0.1111111111111111,
              "#46039f"
             ],
             [
              0.2222222222222222,
              "#7201a8"
             ],
             [
              0.3333333333333333,
              "#9c179e"
             ],
             [
              0.4444444444444444,
              "#bd3786"
             ],
             [
              0.5555555555555556,
              "#d8576b"
             ],
             [
              0.6666666666666666,
              "#ed7953"
             ],
             [
              0.7777777777777778,
              "#fb9f3a"
             ],
             [
              0.8888888888888888,
              "#fdca26"
             ],
             [
              1,
              "#f0f921"
             ]
            ],
            "type": "heatmap"
           }
          ],
          "heatmapgl": [
           {
            "colorbar": {
             "outlinewidth": 0,
             "ticks": ""
            },
            "colorscale": [
             [
              0,
              "#0d0887"
             ],
             [
              0.1111111111111111,
              "#46039f"
             ],
             [
              0.2222222222222222,
              "#7201a8"
             ],
             [
              0.3333333333333333,
              "#9c179e"
             ],
             [
              0.4444444444444444,
              "#bd3786"
             ],
             [
              0.5555555555555556,
              "#d8576b"
             ],
             [
              0.6666666666666666,
              "#ed7953"
             ],
             [
              0.7777777777777778,
              "#fb9f3a"
             ],
             [
              0.8888888888888888,
              "#fdca26"
             ],
             [
              1,
              "#f0f921"
             ]
            ],
            "type": "heatmapgl"
           }
          ],
          "histogram": [
           {
            "marker": {
             "pattern": {
              "fillmode": "overlay",
              "size": 10,
              "solidity": 0.2
             }
            },
            "type": "histogram"
           }
          ],
          "histogram2d": [
           {
            "colorbar": {
             "outlinewidth": 0,
             "ticks": ""
            },
            "colorscale": [
             [
              0,
              "#0d0887"
             ],
             [
              0.1111111111111111,
              "#46039f"
             ],
             [
              0.2222222222222222,
              "#7201a8"
             ],
             [
              0.3333333333333333,
              "#9c179e"
             ],
             [
              0.4444444444444444,
              "#bd3786"
             ],
             [
              0.5555555555555556,
              "#d8576b"
             ],
             [
              0.6666666666666666,
              "#ed7953"
             ],
             [
              0.7777777777777778,
              "#fb9f3a"
             ],
             [
              0.8888888888888888,
              "#fdca26"
             ],
             [
              1,
              "#f0f921"
             ]
            ],
            "type": "histogram2d"
           }
          ],
          "histogram2dcontour": [
           {
            "colorbar": {
             "outlinewidth": 0,
             "ticks": ""
            },
            "colorscale": [
             [
              0,
              "#0d0887"
             ],
             [
              0.1111111111111111,
              "#46039f"
             ],
             [
              0.2222222222222222,
              "#7201a8"
             ],
             [
              0.3333333333333333,
              "#9c179e"
             ],
             [
              0.4444444444444444,
              "#bd3786"
             ],
             [
              0.5555555555555556,
              "#d8576b"
             ],
             [
              0.6666666666666666,
              "#ed7953"
             ],
             [
              0.7777777777777778,
              "#fb9f3a"
             ],
             [
              0.8888888888888888,
              "#fdca26"
             ],
             [
              1,
              "#f0f921"
             ]
            ],
            "type": "histogram2dcontour"
           }
          ],
          "mesh3d": [
           {
            "colorbar": {
             "outlinewidth": 0,
             "ticks": ""
            },
            "type": "mesh3d"
           }
          ],
          "parcoords": [
           {
            "line": {
             "colorbar": {
              "outlinewidth": 0,
              "ticks": ""
             }
            },
            "type": "parcoords"
           }
          ],
          "pie": [
           {
            "automargin": true,
            "type": "pie"
           }
          ],
          "scatter": [
           {
            "marker": {
             "line": {
              "color": "#283442"
             }
            },
            "type": "scatter"
           }
          ],
          "scatter3d": [
           {
            "line": {
             "colorbar": {
              "outlinewidth": 0,
              "ticks": ""
             }
            },
            "marker": {
             "colorbar": {
              "outlinewidth": 0,
              "ticks": ""
             }
            },
            "type": "scatter3d"
           }
          ],
          "scattercarpet": [
           {
            "marker": {
             "colorbar": {
              "outlinewidth": 0,
              "ticks": ""
             }
            },
            "type": "scattercarpet"
           }
          ],
          "scattergeo": [
           {
            "marker": {
             "colorbar": {
              "outlinewidth": 0,
              "ticks": ""
             }
            },
            "type": "scattergeo"
           }
          ],
          "scattergl": [
           {
            "marker": {
             "line": {
              "color": "#283442"
             }
            },
            "type": "scattergl"
           }
          ],
          "scattermapbox": [
           {
            "marker": {
             "colorbar": {
              "outlinewidth": 0,
              "ticks": ""
             }
            },
            "type": "scattermapbox"
           }
          ],
          "scatterpolar": [
           {
            "marker": {
             "colorbar": {
              "outlinewidth": 0,
              "ticks": ""
             }
            },
            "type": "scatterpolar"
           }
          ],
          "scatterpolargl": [
           {
            "marker": {
             "colorbar": {
              "outlinewidth": 0,
              "ticks": ""
             }
            },
            "type": "scatterpolargl"
           }
          ],
          "scatterternary": [
           {
            "marker": {
             "colorbar": {
              "outlinewidth": 0,
              "ticks": ""
             }
            },
            "type": "scatterternary"
           }
          ],
          "surface": [
           {
            "colorbar": {
             "outlinewidth": 0,
             "ticks": ""
            },
            "colorscale": [
             [
              0,
              "#0d0887"
             ],
             [
              0.1111111111111111,
              "#46039f"
             ],
             [
              0.2222222222222222,
              "#7201a8"
             ],
             [
              0.3333333333333333,
              "#9c179e"
             ],
             [
              0.4444444444444444,
              "#bd3786"
             ],
             [
              0.5555555555555556,
              "#d8576b"
             ],
             [
              0.6666666666666666,
              "#ed7953"
             ],
             [
              0.7777777777777778,
              "#fb9f3a"
             ],
             [
              0.8888888888888888,
              "#fdca26"
             ],
             [
              1,
              "#f0f921"
             ]
            ],
            "type": "surface"
           }
          ],
          "table": [
           {
            "cells": {
             "fill": {
              "color": "#506784"
             },
             "line": {
              "color": "rgb(17,17,17)"
             }
            },
            "header": {
             "fill": {
              "color": "#2a3f5f"
             },
             "line": {
              "color": "rgb(17,17,17)"
             }
            },
            "type": "table"
           }
          ]
         },
         "layout": {
          "annotationdefaults": {
           "arrowcolor": "#f2f5fa",
           "arrowhead": 0,
           "arrowwidth": 1
          },
          "autotypenumbers": "strict",
          "coloraxis": {
           "colorbar": {
            "outlinewidth": 0,
            "ticks": ""
           }
          },
          "colorscale": {
           "diverging": [
            [
             0,
             "#8e0152"
            ],
            [
             0.1,
             "#c51b7d"
            ],
            [
             0.2,
             "#de77ae"
            ],
            [
             0.3,
             "#f1b6da"
            ],
            [
             0.4,
             "#fde0ef"
            ],
            [
             0.5,
             "#f7f7f7"
            ],
            [
             0.6,
             "#e6f5d0"
            ],
            [
             0.7,
             "#b8e186"
            ],
            [
             0.8,
             "#7fbc41"
            ],
            [
             0.9,
             "#4d9221"
            ],
            [
             1,
             "#276419"
            ]
           ],
           "sequential": [
            [
             0,
             "#0d0887"
            ],
            [
             0.1111111111111111,
             "#46039f"
            ],
            [
             0.2222222222222222,
             "#7201a8"
            ],
            [
             0.3333333333333333,
             "#9c179e"
            ],
            [
             0.4444444444444444,
             "#bd3786"
            ],
            [
             0.5555555555555556,
             "#d8576b"
            ],
            [
             0.6666666666666666,
             "#ed7953"
            ],
            [
             0.7777777777777778,
             "#fb9f3a"
            ],
            [
             0.8888888888888888,
             "#fdca26"
            ],
            [
             1,
             "#f0f921"
            ]
           ],
           "sequentialminus": [
            [
             0,
             "#0d0887"
            ],
            [
             0.1111111111111111,
             "#46039f"
            ],
            [
             0.2222222222222222,
             "#7201a8"
            ],
            [
             0.3333333333333333,
             "#9c179e"
            ],
            [
             0.4444444444444444,
             "#bd3786"
            ],
            [
             0.5555555555555556,
             "#d8576b"
            ],
            [
             0.6666666666666666,
             "#ed7953"
            ],
            [
             0.7777777777777778,
             "#fb9f3a"
            ],
            [
             0.8888888888888888,
             "#fdca26"
            ],
            [
             1,
             "#f0f921"
            ]
           ]
          },
          "colorway": [
           "#636efa",
           "#EF553B",
           "#00cc96",
           "#ab63fa",
           "#FFA15A",
           "#19d3f3",
           "#FF6692",
           "#B6E880",
           "#FF97FF",
           "#FECB52"
          ],
          "font": {
           "color": "#f2f5fa"
          },
          "geo": {
           "bgcolor": "rgb(17,17,17)",
           "lakecolor": "rgb(17,17,17)",
           "landcolor": "rgb(17,17,17)",
           "showlakes": true,
           "showland": true,
           "subunitcolor": "#506784"
          },
          "hoverlabel": {
           "align": "left"
          },
          "hovermode": "closest",
          "mapbox": {
           "style": "dark"
          },
          "paper_bgcolor": "rgb(17,17,17)",
          "plot_bgcolor": "rgb(17,17,17)",
          "polar": {
           "angularaxis": {
            "gridcolor": "#506784",
            "linecolor": "#506784",
            "ticks": ""
           },
           "bgcolor": "rgb(17,17,17)",
           "radialaxis": {
            "gridcolor": "#506784",
            "linecolor": "#506784",
            "ticks": ""
           }
          },
          "scene": {
           "xaxis": {
            "backgroundcolor": "rgb(17,17,17)",
            "gridcolor": "#506784",
            "gridwidth": 2,
            "linecolor": "#506784",
            "showbackground": true,
            "ticks": "",
            "zerolinecolor": "#C8D4E3"
           },
           "yaxis": {
            "backgroundcolor": "rgb(17,17,17)",
            "gridcolor": "#506784",
            "gridwidth": 2,
            "linecolor": "#506784",
            "showbackground": true,
            "ticks": "",
            "zerolinecolor": "#C8D4E3"
           },
           "zaxis": {
            "backgroundcolor": "rgb(17,17,17)",
            "gridcolor": "#506784",
            "gridwidth": 2,
            "linecolor": "#506784",
            "showbackground": true,
            "ticks": "",
            "zerolinecolor": "#C8D4E3"
           }
          },
          "shapedefaults": {
           "line": {
            "color": "#f2f5fa"
           }
          },
          "sliderdefaults": {
           "bgcolor": "#C8D4E3",
           "bordercolor": "rgb(17,17,17)",
           "borderwidth": 1,
           "tickwidth": 0
          },
          "ternary": {
           "aaxis": {
            "gridcolor": "#506784",
            "linecolor": "#506784",
            "ticks": ""
           },
           "baxis": {
            "gridcolor": "#506784",
            "linecolor": "#506784",
            "ticks": ""
           },
           "bgcolor": "rgb(17,17,17)",
           "caxis": {
            "gridcolor": "#506784",
            "linecolor": "#506784",
            "ticks": ""
           }
          },
          "title": {
           "x": 0.05
          },
          "updatemenudefaults": {
           "bgcolor": "#506784",
           "borderwidth": 0
          },
          "xaxis": {
           "automargin": true,
           "gridcolor": "#283442",
           "linecolor": "#506784",
           "ticks": "",
           "title": {
            "standoff": 15
           },
           "zerolinecolor": "#283442",
           "zerolinewidth": 2
          },
          "yaxis": {
           "automargin": true,
           "gridcolor": "#283442",
           "linecolor": "#506784",
           "ticks": "",
           "title": {
            "standoff": 15
           },
           "zerolinecolor": "#283442",
           "zerolinewidth": 2
          }
         }
        },
        "title": {
         "text": "2022 Miami Grand Prix - Race - VER vs HAM",
         "x": 0.1
        },
        "width": 1200,
        "xaxis": {
         "anchor": "y",
         "domain": [
          0,
          1
         ],
         "matches": "x3",
         "showticklabels": false
        },
        "xaxis2": {
         "anchor": "y2",
         "domain": [
          0,
          1
         ],
         "matches": "x3",
         "showticklabels": false
        },
        "xaxis3": {
         "anchor": "y3",
         "domain": [
          0,
          1
         ],
         "title": {
          "text": "Distance (m)"
         }
        },
        "yaxis": {
         "anchor": "x",
         "domain": [
          0.7333333333333334,
          1
         ],
         "title": {
          "text": "Speed (km/h)"
         }
        },
        "yaxis2": {
         "anchor": "x2",
         "domain": [
          0.3666666666666667,
          0.6333333333333333
         ],
         "title": {
          "text": "Gear"
         }
        },
        "yaxis3": {
         "anchor": "x3",
         "domain": [
          0,
          0.26666666666666666
         ],
         "title": {
          "text": "<-- HAM ahead | VER ahead -->"
         }
        }
       }
      }
     },
     "metadata": {},
     "output_type": "display_data"
    }
   ],
   "source": [
    "fig = make_subplots(rows=3, cols=1, shared_xaxes=True, subplot_titles=('Speed', 'Gear', 'Delta Time'), vertical_spacing=0.1)\n",
    "\n",
    "fig.append_trace(go.Scatter(x=car_data_1['Distance'], y=car_data_1['Speed'], name=driver_1, line_color=ff1.plotting.driver_color(driver_1), hovertemplate = hovertemplate_speed, opacity=0.8), 1, 1)\n",
    "fig.append_trace(go.Scatter(x=car_data_2['Distance'], y=car_data_2['Speed'], name=driver_2, line_color=ff1.plotting.driver_color(driver_2), hovertemplate = hovertemplate_speed, opacity=0.8), 1, 1)\n",
    "\n",
    "fig.append_trace(go.Scatter(x=car_data_1['Distance'], y=car_data_1['nGear'], name=driver_1, line_color=ff1.plotting.driver_color(driver_1), hovertemplate = hovertemplate_gear, opacity=0.8, showlegend=False), 2, 1)\n",
    "fig.append_trace(go.Scatter(x=car_data_2['Distance'], y=car_data_2['nGear'], name=driver_2, line_color=ff1.plotting.driver_color(driver_2), hovertemplate = hovertemplate_gear, opacity=0.8, showlegend=False), 2, 1)\n",
    "\n",
    "fig.append_trace(go.Scatter(x=ref_tel['Distance'], y=delta_time, line_color='white', mode='lines', name='Delta Time', hovertemplate = 'Delta Time: %{y:.3f} sec', opacity=0.8), 3, 1)\n",
    "\n",
    "fig.update_yaxes(title_text=\"Speed (km/h)\", row=1, col=1)\n",
    "fig.update_yaxes(title_text=\"Gear\", row=2, col=1)\n",
    "fig.update_yaxes(title_text=f\"<-- {driver_2} ahead | {driver_1} ahead -->\", row=3, col=1)\n",
    "fig.update_xaxes(title_text=\"Distance (m)\", row=3, col=1)\n",
    "\n",
    "fig.update_layout(width=1200, height=1200, title_text=plot_title, title_x=0.1)\n",
    "fig.show()"
   ]
  },
  {
   "cell_type": "code",
   "execution_count": 60,
   "metadata": {},
   "outputs": [
    {
     "data": {
      "text/html": [
       "<div><div id=e2c3836d-8a25-4ded-bafc-979a076d10d0 style=\"display:none; background-color:#9D6CFF; color:white; width:200px; height:30px; padding-left:5px; border-radius:4px; flex-direction:row; justify-content:space-around; align-items:center;\" onmouseover=\"this.style.backgroundColor='#BA9BF8'\" onmouseout=\"this.style.backgroundColor='#9D6CFF'\" onclick=\"window.commands?.execute('create-mitosheet-from-dataframe-output');\">See Full Dataframe in Mito</div> <script> if (window.commands.hasCommand('create-mitosheet-from-dataframe-output')) document.getElementById('e2c3836d-8a25-4ded-bafc-979a076d10d0').style.display = 'flex' </script> <table border=\"1\" class=\"dataframe\">\n",
       "  <thead>\n",
       "    <tr style=\"text-align: right;\">\n",
       "      <th></th>\n",
       "      <th>Time</th>\n",
       "      <th>DriverNumber</th>\n",
       "      <th>LapTime</th>\n",
       "      <th>LapNumber</th>\n",
       "      <th>Stint</th>\n",
       "      <th>PitOutTime</th>\n",
       "      <th>PitInTime</th>\n",
       "      <th>Sector1Time</th>\n",
       "      <th>Sector2Time</th>\n",
       "      <th>Sector3Time</th>\n",
       "      <th>Sector1SessionTime</th>\n",
       "      <th>Sector2SessionTime</th>\n",
       "      <th>Sector3SessionTime</th>\n",
       "      <th>SpeedI1</th>\n",
       "      <th>SpeedI2</th>\n",
       "      <th>SpeedFL</th>\n",
       "      <th>SpeedST</th>\n",
       "      <th>IsPersonalBest</th>\n",
       "      <th>Compound</th>\n",
       "      <th>TyreLife</th>\n",
       "      <th>FreshTyre</th>\n",
       "      <th>LapStartTime</th>\n",
       "      <th>Team</th>\n",
       "      <th>Driver</th>\n",
       "      <th>TrackStatus</th>\n",
       "      <th>IsAccurate</th>\n",
       "      <th>LapStartDate</th>\n",
       "    </tr>\n",
       "  </thead>\n",
       "  <tbody>\n",
       "    <tr>\n",
       "      <th>1</th>\n",
       "      <td>0 days 01:05:27.943000</td>\n",
       "      <td>1</td>\n",
       "      <td>0 days 00:01:34.542000</td>\n",
       "      <td>2</td>\n",
       "      <td>1</td>\n",
       "      <td>NaT</td>\n",
       "      <td>NaT</td>\n",
       "      <td>0 days 00:00:32.267000</td>\n",
       "      <td>0 days 00:00:35.970000</td>\n",
       "      <td>0 days 00:00:26.305000</td>\n",
       "      <td>0 days 01:04:25.668000</td>\n",
       "      <td>0 days 01:05:01.638000</td>\n",
       "      <td>0 days 01:05:27.943000</td>\n",
       "      <td>212.0</td>\n",
       "      <td>186.0</td>\n",
       "      <td>271.0</td>\n",
       "      <td>301.0</td>\n",
       "      <td>False</td>\n",
       "      <td>MEDIUM</td>\n",
       "      <td>2.0</td>\n",
       "      <td>True</td>\n",
       "      <td>0 days 01:03:53.401000</td>\n",
       "      <td>Red Bull Racing</td>\n",
       "      <td>VER</td>\n",
       "      <td>1</td>\n",
       "      <td>True</td>\n",
       "      <td>2022-05-08 19:34:53.409</td>\n",
       "    </tr>\n",
       "    <tr>\n",
       "      <th>2</th>\n",
       "      <td>0 days 01:07:02.493000</td>\n",
       "      <td>1</td>\n",
       "      <td>0 days 00:01:34.550000</td>\n",
       "      <td>3</td>\n",
       "      <td>1</td>\n",
       "      <td>NaT</td>\n",
       "      <td>NaT</td>\n",
       "      <td>0 days 00:00:32.182000</td>\n",
       "      <td>0 days 00:00:36.062000</td>\n",
       "      <td>0 days 00:00:26.306000</td>\n",
       "      <td>0 days 01:06:00.125000</td>\n",
       "      <td>0 days 01:06:36.187000</td>\n",
       "      <td>0 days 01:07:02.493000</td>\n",
       "      <td>211.0</td>\n",
       "      <td>184.0</td>\n",
       "      <td>275.0</td>\n",
       "      <td>307.0</td>\n",
       "      <td>False</td>\n",
       "      <td>MEDIUM</td>\n",
       "      <td>3.0</td>\n",
       "      <td>True</td>\n",
       "      <td>0 days 01:05:27.943000</td>\n",
       "      <td>Red Bull Racing</td>\n",
       "      <td>VER</td>\n",
       "      <td>1</td>\n",
       "      <td>True</td>\n",
       "      <td>2022-05-08 19:36:27.951</td>\n",
       "    </tr>\n",
       "    <tr>\n",
       "      <th>3</th>\n",
       "      <td>0 days 01:08:36.780000</td>\n",
       "      <td>1</td>\n",
       "      <td>0 days 00:01:34.287000</td>\n",
       "      <td>4</td>\n",
       "      <td>1</td>\n",
       "      <td>NaT</td>\n",
       "      <td>NaT</td>\n",
       "      <td>0 days 00:00:32.092000</td>\n",
       "      <td>0 days 00:00:35.968000</td>\n",
       "      <td>0 days 00:00:26.227000</td>\n",
       "      <td>0 days 01:07:34.585000</td>\n",
       "      <td>0 days 01:08:10.553000</td>\n",
       "      <td>0 days 01:08:36.780000</td>\n",
       "      <td>NaN</td>\n",
       "      <td>183.0</td>\n",
       "      <td>274.0</td>\n",
       "      <td>309.0</td>\n",
       "      <td>False</td>\n",
       "      <td>MEDIUM</td>\n",
       "      <td>4.0</td>\n",
       "      <td>True</td>\n",
       "      <td>0 days 01:07:02.493000</td>\n",
       "      <td>Red Bull Racing</td>\n",
       "      <td>VER</td>\n",
       "      <td>1</td>\n",
       "      <td>True</td>\n",
       "      <td>2022-05-08 19:38:02.501</td>\n",
       "    </tr>\n",
       "    <tr>\n",
       "      <th>4</th>\n",
       "      <td>0 days 01:10:11.100000</td>\n",
       "      <td>1</td>\n",
       "      <td>0 days 00:01:34.320000</td>\n",
       "      <td>5</td>\n",
       "      <td>1</td>\n",
       "      <td>NaT</td>\n",
       "      <td>NaT</td>\n",
       "      <td>0 days 00:00:32.028000</td>\n",
       "      <td>0 days 00:00:35.942000</td>\n",
       "      <td>0 days 00:00:26.350000</td>\n",
       "      <td>0 days 01:09:08.808000</td>\n",
       "      <td>0 days 01:09:44.750000</td>\n",
       "      <td>0 days 01:10:11.100000</td>\n",
       "      <td>212.0</td>\n",
       "      <td>183.0</td>\n",
       "      <td>274.0</td>\n",
       "      <td>309.0</td>\n",
       "      <td>False</td>\n",
       "      <td>MEDIUM</td>\n",
       "      <td>5.0</td>\n",
       "      <td>True</td>\n",
       "      <td>0 days 01:08:36.780000</td>\n",
       "      <td>Red Bull Racing</td>\n",
       "      <td>VER</td>\n",
       "      <td>1</td>\n",
       "      <td>True</td>\n",
       "      <td>2022-05-08 19:39:36.788</td>\n",
       "    </tr>\n",
       "    <tr>\n",
       "      <th>5</th>\n",
       "      <td>0 days 01:11:45.327000</td>\n",
       "      <td>1</td>\n",
       "      <td>0 days 00:01:34.227000</td>\n",
       "      <td>6</td>\n",
       "      <td>1</td>\n",
       "      <td>NaT</td>\n",
       "      <td>NaT</td>\n",
       "      <td>0 days 00:00:31.891000</td>\n",
       "      <td>0 days 00:00:35.971000</td>\n",
       "      <td>0 days 00:00:26.365000</td>\n",
       "      <td>0 days 01:10:42.991000</td>\n",
       "      <td>0 days 01:11:18.962000</td>\n",
       "      <td>0 days 01:11:45.327000</td>\n",
       "      <td>NaN</td>\n",
       "      <td>184.0</td>\n",
       "      <td>274.0</td>\n",
       "      <td>311.0</td>\n",
       "      <td>False</td>\n",
       "      <td>MEDIUM</td>\n",
       "      <td>6.0</td>\n",
       "      <td>True</td>\n",
       "      <td>0 days 01:10:11.100000</td>\n",
       "      <td>Red Bull Racing</td>\n",
       "      <td>VER</td>\n",
       "      <td>1</td>\n",
       "      <td>True</td>\n",
       "      <td>2022-05-08 19:41:11.108</td>\n",
       "    </tr>\n",
       "    <tr>\n",
       "      <th>...</th>\n",
       "      <td>...</td>\n",
       "      <td>...</td>\n",
       "      <td>...</td>\n",
       "      <td>...</td>\n",
       "      <td>...</td>\n",
       "      <td>...</td>\n",
       "      <td>...</td>\n",
       "      <td>...</td>\n",
       "      <td>...</td>\n",
       "      <td>...</td>\n",
       "      <td>...</td>\n",
       "      <td>...</td>\n",
       "      <td>...</td>\n",
       "      <td>...</td>\n",
       "      <td>...</td>\n",
       "      <td>...</td>\n",
       "      <td>...</td>\n",
       "      <td>...</td>\n",
       "      <td>...</td>\n",
       "      <td>...</td>\n",
       "      <td>...</td>\n",
       "      <td>...</td>\n",
       "      <td>...</td>\n",
       "      <td>...</td>\n",
       "      <td>...</td>\n",
       "      <td>...</td>\n",
       "      <td>...</td>\n",
       "    </tr>\n",
       "    <tr>\n",
       "      <th>1049</th>\n",
       "      <td>0 days 02:04:45.333000</td>\n",
       "      <td>4</td>\n",
       "      <td>0 days 00:01:34.190000</td>\n",
       "      <td>39</td>\n",
       "      <td>2</td>\n",
       "      <td>NaT</td>\n",
       "      <td>NaT</td>\n",
       "      <td>0 days 00:00:31.813000</td>\n",
       "      <td>0 days 00:00:36.293000</td>\n",
       "      <td>0 days 00:00:26.084000</td>\n",
       "      <td>0 days 02:03:42.956000</td>\n",
       "      <td>0 days 02:04:19.249000</td>\n",
       "      <td>0 days 02:04:45.333000</td>\n",
       "      <td>210.0</td>\n",
       "      <td>185.0</td>\n",
       "      <td>281.0</td>\n",
       "      <td>319.0</td>\n",
       "      <td>False</td>\n",
       "      <td>HARD</td>\n",
       "      <td>21.0</td>\n",
       "      <td>True</td>\n",
       "      <td>0 days 02:03:11.143000</td>\n",
       "      <td>McLaren</td>\n",
       "      <td>NOR</td>\n",
       "      <td>1</td>\n",
       "      <td>True</td>\n",
       "      <td>2022-05-08 20:34:11.151</td>\n",
       "    </tr>\n",
       "    <tr>\n",
       "      <th>1051</th>\n",
       "      <td>0 days 01:05:38.876000</td>\n",
       "      <td>24</td>\n",
       "      <td>0 days 00:01:37.487000</td>\n",
       "      <td>2</td>\n",
       "      <td>1</td>\n",
       "      <td>NaT</td>\n",
       "      <td>NaT</td>\n",
       "      <td>0 days 00:00:33.346000</td>\n",
       "      <td>0 days 00:00:37.351000</td>\n",
       "      <td>0 days 00:00:26.790000</td>\n",
       "      <td>0 days 01:04:34.735000</td>\n",
       "      <td>0 days 01:05:12.086000</td>\n",
       "      <td>0 days 01:05:38.876000</td>\n",
       "      <td>211.0</td>\n",
       "      <td>185.0</td>\n",
       "      <td>276.0</td>\n",
       "      <td>279.0</td>\n",
       "      <td>False</td>\n",
       "      <td>MEDIUM</td>\n",
       "      <td>2.0</td>\n",
       "      <td>True</td>\n",
       "      <td>0 days 01:04:01.389000</td>\n",
       "      <td>Alfa Romeo</td>\n",
       "      <td>ZHO</td>\n",
       "      <td>1</td>\n",
       "      <td>True</td>\n",
       "      <td>2022-05-08 19:35:01.397</td>\n",
       "    </tr>\n",
       "    <tr>\n",
       "      <th>1052</th>\n",
       "      <td>0 days 01:07:15.603000</td>\n",
       "      <td>24</td>\n",
       "      <td>0 days 00:01:36.727000</td>\n",
       "      <td>3</td>\n",
       "      <td>1</td>\n",
       "      <td>NaT</td>\n",
       "      <td>NaT</td>\n",
       "      <td>0 days 00:00:33.214000</td>\n",
       "      <td>0 days 00:00:36.851000</td>\n",
       "      <td>0 days 00:00:26.662000</td>\n",
       "      <td>0 days 01:06:12.090000</td>\n",
       "      <td>0 days 01:06:48.941000</td>\n",
       "      <td>0 days 01:07:15.603000</td>\n",
       "      <td>212.0</td>\n",
       "      <td>183.0</td>\n",
       "      <td>276.0</td>\n",
       "      <td>292.0</td>\n",
       "      <td>False</td>\n",
       "      <td>MEDIUM</td>\n",
       "      <td>3.0</td>\n",
       "      <td>True</td>\n",
       "      <td>0 days 01:05:38.876000</td>\n",
       "      <td>Alfa Romeo</td>\n",
       "      <td>ZHO</td>\n",
       "      <td>1</td>\n",
       "      <td>True</td>\n",
       "      <td>2022-05-08 19:36:38.884</td>\n",
       "    </tr>\n",
       "    <tr>\n",
       "      <th>1053</th>\n",
       "      <td>0 days 01:08:51.334000</td>\n",
       "      <td>24</td>\n",
       "      <td>0 days 00:01:35.731000</td>\n",
       "      <td>4</td>\n",
       "      <td>1</td>\n",
       "      <td>NaT</td>\n",
       "      <td>NaT</td>\n",
       "      <td>0 days 00:00:32.737000</td>\n",
       "      <td>0 days 00:00:36.503000</td>\n",
       "      <td>0 days 00:00:26.491000</td>\n",
       "      <td>0 days 01:07:48.340000</td>\n",
       "      <td>0 days 01:08:24.843000</td>\n",
       "      <td>0 days 01:08:51.334000</td>\n",
       "      <td>207.0</td>\n",
       "      <td>185.0</td>\n",
       "      <td>278.0</td>\n",
       "      <td>287.0</td>\n",
       "      <td>True</td>\n",
       "      <td>MEDIUM</td>\n",
       "      <td>4.0</td>\n",
       "      <td>True</td>\n",
       "      <td>0 days 01:07:15.603000</td>\n",
       "      <td>Alfa Romeo</td>\n",
       "      <td>ZHO</td>\n",
       "      <td>1</td>\n",
       "      <td>True</td>\n",
       "      <td>2022-05-08 19:38:15.611</td>\n",
       "    </tr>\n",
       "    <tr>\n",
       "      <th>1054</th>\n",
       "      <td>0 days 01:10:27.217000</td>\n",
       "      <td>24</td>\n",
       "      <td>0 days 00:01:35.883000</td>\n",
       "      <td>5</td>\n",
       "      <td>1</td>\n",
       "      <td>NaT</td>\n",
       "      <td>NaT</td>\n",
       "      <td>0 days 00:00:32.771000</td>\n",
       "      <td>0 days 00:00:36.636000</td>\n",
       "      <td>0 days 00:00:26.476000</td>\n",
       "      <td>0 days 01:09:24.105000</td>\n",
       "      <td>0 days 01:10:00.741000</td>\n",
       "      <td>0 days 01:10:27.217000</td>\n",
       "      <td>NaN</td>\n",
       "      <td>182.0</td>\n",
       "      <td>281.0</td>\n",
       "      <td>300.0</td>\n",
       "      <td>False</td>\n",
       "      <td>MEDIUM</td>\n",
       "      <td>5.0</td>\n",
       "      <td>True</td>\n",
       "      <td>0 days 01:08:51.334000</td>\n",
       "      <td>Alfa Romeo</td>\n",
       "      <td>ZHO</td>\n",
       "      <td>1</td>\n",
       "      <td>True</td>\n",
       "      <td>2022-05-08 19:39:51.342</td>\n",
       "    </tr>\n",
       "  </tbody>\n",
       "</table></div>"
      ],
      "text/plain": [
       "                       Time DriverNumber                LapTime  LapNumber  \\\n",
       "1    0 days 01:05:27.943000            1 0 days 00:01:34.542000          2   \n",
       "2    0 days 01:07:02.493000            1 0 days 00:01:34.550000          3   \n",
       "3    0 days 01:08:36.780000            1 0 days 00:01:34.287000          4   \n",
       "4    0 days 01:10:11.100000            1 0 days 00:01:34.320000          5   \n",
       "5    0 days 01:11:45.327000            1 0 days 00:01:34.227000          6   \n",
       "...                     ...          ...                    ...        ...   \n",
       "1049 0 days 02:04:45.333000            4 0 days 00:01:34.190000         39   \n",
       "1051 0 days 01:05:38.876000           24 0 days 00:01:37.487000          2   \n",
       "1052 0 days 01:07:15.603000           24 0 days 00:01:36.727000          3   \n",
       "1053 0 days 01:08:51.334000           24 0 days 00:01:35.731000          4   \n",
       "1054 0 days 01:10:27.217000           24 0 days 00:01:35.883000          5   \n",
       "\n",
       "      Stint PitOutTime PitInTime            Sector1Time  \\\n",
       "1         1        NaT       NaT 0 days 00:00:32.267000   \n",
       "2         1        NaT       NaT 0 days 00:00:32.182000   \n",
       "3         1        NaT       NaT 0 days 00:00:32.092000   \n",
       "4         1        NaT       NaT 0 days 00:00:32.028000   \n",
       "5         1        NaT       NaT 0 days 00:00:31.891000   \n",
       "...     ...        ...       ...                    ...   \n",
       "1049      2        NaT       NaT 0 days 00:00:31.813000   \n",
       "1051      1        NaT       NaT 0 days 00:00:33.346000   \n",
       "1052      1        NaT       NaT 0 days 00:00:33.214000   \n",
       "1053      1        NaT       NaT 0 days 00:00:32.737000   \n",
       "1054      1        NaT       NaT 0 days 00:00:32.771000   \n",
       "\n",
       "                Sector2Time            Sector3Time     Sector1SessionTime  \\\n",
       "1    0 days 00:00:35.970000 0 days 00:00:26.305000 0 days 01:04:25.668000   \n",
       "2    0 days 00:00:36.062000 0 days 00:00:26.306000 0 days 01:06:00.125000   \n",
       "3    0 days 00:00:35.968000 0 days 00:00:26.227000 0 days 01:07:34.585000   \n",
       "4    0 days 00:00:35.942000 0 days 00:00:26.350000 0 days 01:09:08.808000   \n",
       "5    0 days 00:00:35.971000 0 days 00:00:26.365000 0 days 01:10:42.991000   \n",
       "...                     ...                    ...                    ...   \n",
       "1049 0 days 00:00:36.293000 0 days 00:00:26.084000 0 days 02:03:42.956000   \n",
       "1051 0 days 00:00:37.351000 0 days 00:00:26.790000 0 days 01:04:34.735000   \n",
       "1052 0 days 00:00:36.851000 0 days 00:00:26.662000 0 days 01:06:12.090000   \n",
       "1053 0 days 00:00:36.503000 0 days 00:00:26.491000 0 days 01:07:48.340000   \n",
       "1054 0 days 00:00:36.636000 0 days 00:00:26.476000 0 days 01:09:24.105000   \n",
       "\n",
       "         Sector2SessionTime     Sector3SessionTime  SpeedI1  SpeedI2  SpeedFL  \\\n",
       "1    0 days 01:05:01.638000 0 days 01:05:27.943000    212.0    186.0    271.0   \n",
       "2    0 days 01:06:36.187000 0 days 01:07:02.493000    211.0    184.0    275.0   \n",
       "3    0 days 01:08:10.553000 0 days 01:08:36.780000      NaN    183.0    274.0   \n",
       "4    0 days 01:09:44.750000 0 days 01:10:11.100000    212.0    183.0    274.0   \n",
       "5    0 days 01:11:18.962000 0 days 01:11:45.327000      NaN    184.0    274.0   \n",
       "...                     ...                    ...      ...      ...      ...   \n",
       "1049 0 days 02:04:19.249000 0 days 02:04:45.333000    210.0    185.0    281.0   \n",
       "1051 0 days 01:05:12.086000 0 days 01:05:38.876000    211.0    185.0    276.0   \n",
       "1052 0 days 01:06:48.941000 0 days 01:07:15.603000    212.0    183.0    276.0   \n",
       "1053 0 days 01:08:24.843000 0 days 01:08:51.334000    207.0    185.0    278.0   \n",
       "1054 0 days 01:10:00.741000 0 days 01:10:27.217000      NaN    182.0    281.0   \n",
       "\n",
       "      SpeedST  IsPersonalBest Compound  TyreLife FreshTyre  \\\n",
       "1       301.0           False   MEDIUM       2.0      True   \n",
       "2       307.0           False   MEDIUM       3.0      True   \n",
       "3       309.0           False   MEDIUM       4.0      True   \n",
       "4       309.0           False   MEDIUM       5.0      True   \n",
       "5       311.0           False   MEDIUM       6.0      True   \n",
       "...       ...             ...      ...       ...       ...   \n",
       "1049    319.0           False     HARD      21.0      True   \n",
       "1051    279.0           False   MEDIUM       2.0      True   \n",
       "1052    292.0           False   MEDIUM       3.0      True   \n",
       "1053    287.0            True   MEDIUM       4.0      True   \n",
       "1054    300.0           False   MEDIUM       5.0      True   \n",
       "\n",
       "               LapStartTime             Team Driver TrackStatus IsAccurate  \\\n",
       "1    0 days 01:03:53.401000  Red Bull Racing    VER           1       True   \n",
       "2    0 days 01:05:27.943000  Red Bull Racing    VER           1       True   \n",
       "3    0 days 01:07:02.493000  Red Bull Racing    VER           1       True   \n",
       "4    0 days 01:08:36.780000  Red Bull Racing    VER           1       True   \n",
       "5    0 days 01:10:11.100000  Red Bull Racing    VER           1       True   \n",
       "...                     ...              ...    ...         ...        ...   \n",
       "1049 0 days 02:03:11.143000          McLaren    NOR           1       True   \n",
       "1051 0 days 01:04:01.389000       Alfa Romeo    ZHO           1       True   \n",
       "1052 0 days 01:05:38.876000       Alfa Romeo    ZHO           1       True   \n",
       "1053 0 days 01:07:15.603000       Alfa Romeo    ZHO           1       True   \n",
       "1054 0 days 01:08:51.334000       Alfa Romeo    ZHO           1       True   \n",
       "\n",
       "                LapStartDate  \n",
       "1    2022-05-08 19:34:53.409  \n",
       "2    2022-05-08 19:36:27.951  \n",
       "3    2022-05-08 19:38:02.501  \n",
       "4    2022-05-08 19:39:36.788  \n",
       "5    2022-05-08 19:41:11.108  \n",
       "...                      ...  \n",
       "1049 2022-05-08 20:34:11.151  \n",
       "1051 2022-05-08 19:35:01.397  \n",
       "1052 2022-05-08 19:36:38.884  \n",
       "1053 2022-05-08 19:38:15.611  \n",
       "1054 2022-05-08 19:39:51.342  \n",
       "\n",
       "[863 rows x 27 columns]"
      ]
     },
     "execution_count": 60,
     "metadata": {},
     "output_type": "execute_result"
    }
   ],
   "source": [
    "# Returns only laps quicker than 107% of the quickest lap of the session, removing outlaps and inlaps.\n",
    "session.laps.pick_quicklaps()"
   ]
  },
  {
   "cell_type": "code",
   "execution_count": 61,
   "metadata": {},
   "outputs": [],
   "source": [
    "lap_1 = fastest_driver_1.telemetry\n",
    "lap_2 = fastest_driver_2.telemetry"
   ]
  },
  {
   "cell_type": "code",
   "execution_count": 62,
   "metadata": {},
   "outputs": [],
   "source": [
    "start_line_dict = {1: [120, 1280, '^'],\n",
    "                   2: [-1341, 2800, '<'],\n",
    "                   3: [-1228, 100, '<'],\n",
    "                   4: [-1533, -650, '<'],\n",
    "                   5: [2633, 128, '>'],\n",
    "                   6: [25, -469, '<'],\n",
    "                   7: [-8065, -6549, '^']\n",
    "}"
   ]
  },
  {
   "cell_type": "code",
   "execution_count": 63,
   "metadata": {},
   "outputs": [],
   "source": [
    "colormap_speed = mpl.cm.RdYlGn\n",
    "colormap_gear = mpl.cm.get_cmap('RdYlGn', 8)\n",
    "points = np.array([lap_1['X'], lap_1['Y']]).T.reshape(-1, 1, 2)\n",
    "segments = np.concatenate([points[:-1], points[1:]], axis=1)\n",
    "start_x = points[0][0][0]\n",
    "start_y = points[0][0][1]\n",
    "direction_x = start_line_dict[gp_round][0]\n",
    "direction_y = start_line_dict[gp_round][1]\n",
    "direction_marker = start_line_dict[gp_round][2]\n",
    "px = 1/plt.rcParams['figure.dpi']"
   ]
  },
  {
   "cell_type": "code",
   "execution_count": 64,
   "metadata": {},
   "outputs": [
    {
     "data": {
      "text/plain": [
       "1839"
      ]
     },
     "execution_count": 64,
     "metadata": {},
     "output_type": "execute_result"
    }
   ],
   "source": [
    "start_x"
   ]
  },
  {
   "cell_type": "code",
   "execution_count": 65,
   "metadata": {},
   "outputs": [
    {
     "data": {
      "image/png": "[encoded data removed]",
      "text/plain": [
       "<Figure size 1100x600 with 2 Axes>"
      ]
     },
     "metadata": {},
     "output_type": "display_data"
    }
   ],
   "source": [
    "# Setup plot\n",
    "fig, ax = plt.subplots(sharex=True, sharey=True, figsize=(1100*px, 600*px))\n",
    "fig.suptitle(f\"{session.event.year} {session.event.EventName} - {session.name} - {driver_1}\", size=24, y=0.97)\n",
    "\n",
    "# Adjust margins and turn of axis\n",
    "plt.subplots_adjust(left=0.1, right=0.9, top=0.9, bottom=0.12)\n",
    "ax.axis('off')\n",
    "\n",
    "# After this, we plot the data itself.\n",
    "# Create background track line\n",
    "ax.plot(lap_1['X'], lap_1['Y'], color='black', linestyle='-', linewidth=16, zorder=1)\n",
    "\n",
    "# Add start line marker\n",
    "plt.scatter(start_x, start_y, color='white', s=400, zorder=1)\n",
    "plt.scatter(direction_x, direction_y, color='white', s=400, zorder=1, marker=direction_marker)\n",
    "\n",
    "# Create a continuous norm to map from data points to colors\n",
    "norm = plt.Normalize(lap_1['Speed'].min(), lap_1['Speed'].max())\n",
    "lc = LineCollection(segments, cmap=colormap_speed, norm=norm, linestyle='-', linewidth=5)\n",
    "\n",
    "# Set the values used for colormapping\n",
    "lc.set_array(lap_1['Speed'])\n",
    "\n",
    "# Merge all line segments together\n",
    "line = ax.add_collection(lc)\n",
    "\n",
    "# Finally, we create a color bar as a legend.\n",
    "cbaxes = fig.add_axes([0.25, 0.05, 0.5, 0.05])\n",
    "normlegend = mpl.colors.Normalize(vmin=lap_1['Speed'].min(), vmax=lap_1['Speed'].max())\n",
    "legend = mpl.colorbar.ColorbarBase(cbaxes, norm=normlegend, cmap=colormap_speed, orientation=\"horizontal\", label='Speed (km/h)')\n",
    "\n",
    "# Set background color to transparent\n",
    "# fig.patch.set_alpha(0)\n",
    "fig.patch.set_facecolor('#111111')\n",
    "\n",
    "# Show the plot\n",
    "plt.show()"
   ]
  },
  {
   "cell_type": "code",
   "execution_count": 66,
   "metadata": {},
   "outputs": [
    {
     "data": {
      "image/png": "[encoded data removed]",
      "text/plain": [
       "<Figure size 1100x600 with 2 Axes>"
      ]
     },
     "metadata": {},
     "output_type": "display_data"
    }
   ],
   "source": [
    "# Setup plot\n",
    "fig, ax = plt.subplots(sharex=True, sharey=True, figsize=(1100*px, 600*px))\n",
    "fig.suptitle(f\"{session.event.year} {session.event.EventName} - {session.name} - {driver_1}\", size=24, y=0.97)\n",
    "\n",
    "# Adjust margins and turn of axis\n",
    "plt.subplots_adjust(left=0.1, right=0.9, top=0.9, bottom=0.12)\n",
    "ax.axis('off')\n",
    "\n",
    "# After this, we plot the data itself.\n",
    "# Create background track line\n",
    "ax.plot(lap_1['X'], lap_1['Y'], color='black', linestyle='-', linewidth=16, zorder=1)\n",
    "\n",
    "# Add start line marker\n",
    "plt.scatter(start_x, start_y, color='white', s=400, zorder=1)\n",
    "plt.scatter(direction_x, direction_y, color='white', s=400, zorder=1, marker=direction_marker)\n",
    "\n",
    "# Create a norm to map from data points to colors\n",
    "norm = plt.Normalize(1, colormap_gear.N+1)\n",
    "lc = LineCollection(segments, cmap=colormap_gear, norm=norm, linestyle='-', linewidth=5)\n",
    "\n",
    "# Set the values used for colormapping\n",
    "lc.set_array(lap_1['nGear'].to_numpy().astype(float))\n",
    "\n",
    "# Merge all line segments together\n",
    "line = ax.add_collection(lc)\n",
    "\n",
    "# Create a color bar as a legend\n",
    "cbaxes = fig.add_axes([0.25, 0.05, 0.5, 0.05])\n",
    "normlegend = mpl.colors.Normalize(vmin=1, vmax=8)\n",
    "legend = mpl.colorbar.ColorbarBase(cbaxes, norm=normlegend, cmap=colormap_gear, orientation=\"horizontal\", label='Gear')\n",
    "\n",
    "# Set background color to transparent\n",
    "# fig.patch.set_alpha(0)\n",
    "fig.patch.set_facecolor('#111111')\n",
    "\n",
    "# Show the plot\n",
    "plt.show()"
   ]
  },
  {
   "cell_type": "code",
   "execution_count": 67,
   "metadata": {},
   "outputs": [],
   "source": [
    "def delta_bounds(vmin, vmax):\n",
    "    if abs(vmin) < abs(vmax):\n",
    "        vmin = -(vmax)\n",
    "    else:\n",
    "        vmax = -(vmin)\n",
    "    return vmin, vmax"
   ]
  },
  {
   "cell_type": "code",
   "execution_count": 68,
   "metadata": {},
   "outputs": [
    {
     "data": {
      "image/png": "[encoded data removed]",
      "text/plain": [
       "<Figure size 1100x600 with 2 Axes>"
      ]
     },
     "metadata": {},
     "output_type": "display_data"
    }
   ],
   "source": [
    "# Determine boundaries for the colorbar\n",
    "vmin, vmax = delta_bounds(delta_time.min(), delta_time.max())\n",
    "\n",
    "# Setup plot\n",
    "fig, ax = plt.subplots(sharex=True, sharey=True, figsize=(1100*px, 600*px))\n",
    "fig.suptitle(f\"{session.event.year} {session.event.EventName} - {session.name} - {driver_1} vs {driver_2}\", size=24, y=0.97)\n",
    "\n",
    "# Adjust margins and turn of axis\n",
    "plt.subplots_adjust(left=0.1, right=0.9, top=0.9, bottom=0.12)\n",
    "ax.axis('off')\n",
    "\n",
    "# After this, we plot the data itself.\n",
    "# Create background track line\n",
    "ax.plot(lap_2['X'], lap_2['Y'], color='black', linestyle='-', linewidth=16, zorder=1)\n",
    "\n",
    "# Add start line marker\n",
    "plt.scatter(start_x, start_y, color='white', s=400, zorder=1)\n",
    "plt.scatter(direction_x, direction_y, color='white', s=400, zorder=1, marker=direction_marker)\n",
    "\n",
    "# Create a continuous norm to map from data points to colors\n",
    "norm = plt.Normalize(vmin, vmax)\n",
    "lc = LineCollection(segments, cmap=colormap_speed, norm=norm, linestyle='-', linewidth=5)\n",
    "\n",
    "# Set the values used for colormapping\n",
    "lc.set_array(delta_time)\n",
    "\n",
    "# Merge all line segments together\n",
    "line = ax.add_collection(lc)\n",
    "\n",
    "# Finally, we create a color bar as a legend.\n",
    "cbaxes = fig.add_axes([0.25, 0.05, 0.5, 0.05])\n",
    "normlegend = mpl.colors.Normalize(vmin=vmin, vmax=vmax)\n",
    "legend = mpl.colorbar.ColorbarBase(cbaxes, norm=normlegend, cmap=colormap_speed, orientation=\"horizontal\", label=f\"<-- {driver_2} ahead | {driver_1} ahead -->\")\n",
    "\n",
    "# Set background color to transparent\n",
    "# fig.patch.set_alpha(0)\n",
    "fig.patch.set_facecolor('#111111')\n",
    "\n",
    "# Show the plot\n",
    "plt.show()"
   ]
  },
  {
   "cell_type": "code",
   "execution_count": 69,
   "metadata": {},
   "outputs": [
    {
     "name": "stdout",
     "output_type": "stream",
     "text": [
      "<class 'fastf1.core.Laps'>\n",
      "RangeIndex: 1056 entries, 0 to 1055\n",
      "Data columns (total 27 columns):\n",
      " #   Column              Non-Null Count  Dtype          \n",
      "---  ------              --------------  -----          \n",
      " 0   Time                1056 non-null   timedelta64[ns]\n",
      " 1   DriverNumber        1056 non-null   object         \n",
      " 2   LapTime             1001 non-null   timedelta64[ns]\n",
      " 3   LapNumber           1056 non-null   int64          \n",
      " 4   Stint               1056 non-null   int64          \n",
      " 5   PitOutTime          45 non-null     timedelta64[ns]\n",
      " 6   PitInTime           29 non-null     timedelta64[ns]\n",
      " 7   Sector1Time         1028 non-null   timedelta64[ns]\n",
      " 8   Sector2Time         1056 non-null   timedelta64[ns]\n",
      " 9   Sector3Time         1055 non-null   timedelta64[ns]\n",
      " 10  Sector1SessionTime  1028 non-null   timedelta64[ns]\n",
      " 11  Sector2SessionTime  1056 non-null   timedelta64[ns]\n",
      " 12  Sector3SessionTime  1055 non-null   timedelta64[ns]\n",
      " 13  SpeedI1             875 non-null    float64        \n",
      " 14  SpeedI2             1056 non-null   float64        \n",
      " 15  SpeedFL             1027 non-null   float64        \n",
      " 16  SpeedST             1056 non-null   float64        \n",
      " 17  IsPersonalBest      1056 non-null   bool           \n",
      " 18  Compound            1056 non-null   object         \n",
      " 19  TyreLife            993 non-null    float64        \n",
      " 20  FreshTyre           1021 non-null   object         \n",
      " 21  LapStartTime        1056 non-null   timedelta64[ns]\n",
      " 22  Team                1056 non-null   object         \n",
      " 23  Driver              1056 non-null   object         \n",
      " 24  TrackStatus         1056 non-null   object         \n",
      " 25  IsAccurate          1056 non-null   object         \n",
      " 26  LapStartDate        1056 non-null   datetime64[ns] \n",
      "dtypes: bool(1), datetime64[ns](1), float64(5), int64(2), object(7), timedelta64[ns](11)\n",
      "memory usage: 215.7+ KB\n"
     ]
    }
   ],
   "source": [
    "race = session.laps\n",
    "race.info()"
   ]
  },
  {
   "cell_type": "code",
   "execution_count": 78,
   "metadata": {},
   "outputs": [
    {
     "data": {
      "text/html": [
       "<div><div id=9dfb90bb-1225-4a19-bfc0-b8a5679b270c style=\"display:none; background-color:#9D6CFF; color:white; width:200px; height:30px; padding-left:5px; border-radius:4px; flex-direction:row; justify-content:space-around; align-items:center;\" onmouseover=\"this.style.backgroundColor='#BA9BF8'\" onmouseout=\"this.style.backgroundColor='#9D6CFF'\" onclick=\"window.commands?.execute('create-mitosheet-from-dataframe-output');\">See Full Dataframe in Mito</div> <script> if (window.commands.hasCommand('create-mitosheet-from-dataframe-output')) document.getElementById('9dfb90bb-1225-4a19-bfc0-b8a5679b270c').style.display = 'flex' </script> <table border=\"1\" class=\"dataframe\">\n",
       "  <thead>\n",
       "    <tr style=\"text-align: right;\">\n",
       "      <th></th>\n",
       "      <th>Time</th>\n",
       "      <th>DriverNumber</th>\n",
       "      <th>LapTime</th>\n",
       "      <th>LapNumber</th>\n",
       "      <th>Stint</th>\n",
       "      <th>PitOutTime</th>\n",
       "      <th>PitInTime</th>\n",
       "      <th>Sector1Time</th>\n",
       "      <th>Sector2Time</th>\n",
       "      <th>Sector3Time</th>\n",
       "      <th>Sector1SessionTime</th>\n",
       "      <th>Sector2SessionTime</th>\n",
       "      <th>Sector3SessionTime</th>\n",
       "      <th>SpeedI1</th>\n",
       "      <th>SpeedI2</th>\n",
       "      <th>SpeedFL</th>\n",
       "      <th>SpeedST</th>\n",
       "      <th>IsPersonalBest</th>\n",
       "      <th>Compound</th>\n",
       "      <th>TyreLife</th>\n",
       "      <th>FreshTyre</th>\n",
       "      <th>LapStartTime</th>\n",
       "      <th>Team</th>\n",
       "      <th>Driver</th>\n",
       "      <th>TrackStatus</th>\n",
       "      <th>IsAccurate</th>\n",
       "      <th>LapStartDate</th>\n",
       "    </tr>\n",
       "  </thead>\n",
       "  <tbody>\n",
       "    <tr>\n",
       "      <th>0</th>\n",
       "      <td>0 days 01:03:52.571000</td>\n",
       "      <td>16</td>\n",
       "      <td>NaT</td>\n",
       "      <td>1</td>\n",
       "      <td>1</td>\n",
       "      <td>0 days 00:23:43.508000</td>\n",
       "      <td>NaT</td>\n",
       "      <td>NaT</td>\n",
       "      <td>0 days 00:00:36.055000</td>\n",
       "      <td>0 days 00:00:26.572000</td>\n",
       "      <td>NaT</td>\n",
       "      <td>0 days 01:03:26.054000</td>\n",
       "      <td>0 days 01:03:52.632000</td>\n",
       "      <td>210.0</td>\n",
       "      <td>186.0</td>\n",
       "      <td>269.0</td>\n",
       "      <td>308.0</td>\n",
       "      <td>False</td>\n",
       "      <td>MEDIUM</td>\n",
       "      <td>1.0</td>\n",
       "      <td>True</td>\n",
       "      <td>0 days 01:02:16.435000</td>\n",
       "      <td>Ferrari</td>\n",
       "      <td>LEC</td>\n",
       "      <td>1</td>\n",
       "      <td>False</td>\n",
       "      <td>2022-05-08 19:33:16.443</td>\n",
       "    </tr>\n",
       "    <tr>\n",
       "      <th>1</th>\n",
       "      <td>0 days 01:03:53.401000</td>\n",
       "      <td>1</td>\n",
       "      <td>NaT</td>\n",
       "      <td>1</td>\n",
       "      <td>1</td>\n",
       "      <td>0 days 00:23:51.168000</td>\n",
       "      <td>NaT</td>\n",
       "      <td>NaT</td>\n",
       "      <td>0 days 00:00:35.848000</td>\n",
       "      <td>0 days 00:00:26.431000</td>\n",
       "      <td>NaT</td>\n",
       "      <td>0 days 01:03:27.035000</td>\n",
       "      <td>0 days 01:03:53.493000</td>\n",
       "      <td>209.0</td>\n",
       "      <td>185.0</td>\n",
       "      <td>268.0</td>\n",
       "      <td>304.0</td>\n",
       "      <td>False</td>\n",
       "      <td>MEDIUM</td>\n",
       "      <td>1.0</td>\n",
       "      <td>True</td>\n",
       "      <td>0 days 01:02:16.435000</td>\n",
       "      <td>Red Bull Racing</td>\n",
       "      <td>VER</td>\n",
       "      <td>1</td>\n",
       "      <td>False</td>\n",
       "      <td>2022-05-08 19:33:16.443</td>\n",
       "    </tr>\n",
       "    <tr>\n",
       "      <th>2</th>\n",
       "      <td>0 days 01:03:54.269000</td>\n",
       "      <td>55</td>\n",
       "      <td>NaT</td>\n",
       "      <td>1</td>\n",
       "      <td>1</td>\n",
       "      <td>0 days 00:25:08.834000</td>\n",
       "      <td>NaT</td>\n",
       "      <td>NaT</td>\n",
       "      <td>0 days 00:00:36.162000</td>\n",
       "      <td>0 days 00:00:26.429000</td>\n",
       "      <td>NaT</td>\n",
       "      <td>0 days 01:03:27.879000</td>\n",
       "      <td>0 days 01:03:54.359000</td>\n",
       "      <td>214.0</td>\n",
       "      <td>186.0</td>\n",
       "      <td>272.0</td>\n",
       "      <td>308.0</td>\n",
       "      <td>False</td>\n",
       "      <td>MEDIUM</td>\n",
       "      <td>1.0</td>\n",
       "      <td>True</td>\n",
       "      <td>0 days 01:02:16.435000</td>\n",
       "      <td>Ferrari</td>\n",
       "      <td>SAI</td>\n",
       "      <td>1</td>\n",
       "      <td>False</td>\n",
       "      <td>2022-05-08 19:33:16.443</td>\n",
       "    </tr>\n",
       "    <tr>\n",
       "      <th>3</th>\n",
       "      <td>0 days 01:03:54.930000</td>\n",
       "      <td>11</td>\n",
       "      <td>NaT</td>\n",
       "      <td>1</td>\n",
       "      <td>1</td>\n",
       "      <td>0 days 00:22:21.429000</td>\n",
       "      <td>NaT</td>\n",
       "      <td>NaT</td>\n",
       "      <td>0 days 00:00:36.308000</td>\n",
       "      <td>0 days 00:00:26.397000</td>\n",
       "      <td>NaT</td>\n",
       "      <td>0 days 01:03:28.563000</td>\n",
       "      <td>0 days 01:03:54.988000</td>\n",
       "      <td>208.0</td>\n",
       "      <td>185.0</td>\n",
       "      <td>272.0</td>\n",
       "      <td>296.0</td>\n",
       "      <td>False</td>\n",
       "      <td>MEDIUM</td>\n",
       "      <td>1.0</td>\n",
       "      <td>True</td>\n",
       "      <td>0 days 01:02:16.435000</td>\n",
       "      <td>Red Bull Racing</td>\n",
       "      <td>PER</td>\n",
       "      <td>1</td>\n",
       "      <td>False</td>\n",
       "      <td>2022-05-08 19:33:16.443</td>\n",
       "    </tr>\n",
       "    <tr>\n",
       "      <th>4</th>\n",
       "      <td>0 days 01:03:55.855000</td>\n",
       "      <td>77</td>\n",
       "      <td>NaT</td>\n",
       "      <td>1</td>\n",
       "      <td>1</td>\n",
       "      <td>0 days 00:23:02.283000</td>\n",
       "      <td>NaT</td>\n",
       "      <td>NaT</td>\n",
       "      <td>0 days 00:00:36.545000</td>\n",
       "      <td>0 days 00:00:26.522000</td>\n",
       "      <td>NaT</td>\n",
       "      <td>0 days 01:03:29.454000</td>\n",
       "      <td>0 days 01:03:55.949000</td>\n",
       "      <td>210.0</td>\n",
       "      <td>186.0</td>\n",
       "      <td>272.0</td>\n",
       "      <td>305.0</td>\n",
       "      <td>False</td>\n",
       "      <td>MEDIUM</td>\n",
       "      <td>1.0</td>\n",
       "      <td>True</td>\n",
       "      <td>0 days 01:02:16.435000</td>\n",
       "      <td>Alfa Romeo</td>\n",
       "      <td>BOT</td>\n",
       "      <td>1</td>\n",
       "      <td>False</td>\n",
       "      <td>2022-05-08 19:33:16.443</td>\n",
       "    </tr>\n",
       "    <tr>\n",
       "      <th>...</th>\n",
       "      <td>...</td>\n",
       "      <td>...</td>\n",
       "      <td>...</td>\n",
       "      <td>...</td>\n",
       "      <td>...</td>\n",
       "      <td>...</td>\n",
       "      <td>...</td>\n",
       "      <td>...</td>\n",
       "      <td>...</td>\n",
       "      <td>...</td>\n",
       "      <td>...</td>\n",
       "      <td>...</td>\n",
       "      <td>...</td>\n",
       "      <td>...</td>\n",
       "      <td>...</td>\n",
       "      <td>...</td>\n",
       "      <td>...</td>\n",
       "      <td>...</td>\n",
       "      <td>...</td>\n",
       "      <td>...</td>\n",
       "      <td>...</td>\n",
       "      <td>...</td>\n",
       "      <td>...</td>\n",
       "      <td>...</td>\n",
       "      <td>...</td>\n",
       "      <td>...</td>\n",
       "      <td>...</td>\n",
       "    </tr>\n",
       "    <tr>\n",
       "      <th>10</th>\n",
       "      <td>0 days 01:04:00.006000</td>\n",
       "      <td>3</td>\n",
       "      <td>NaT</td>\n",
       "      <td>1</td>\n",
       "      <td>1</td>\n",
       "      <td>0 days 00:22:23.286000</td>\n",
       "      <td>NaT</td>\n",
       "      <td>NaT</td>\n",
       "      <td>0 days 00:00:37.260000</td>\n",
       "      <td>0 days 00:00:27.075000</td>\n",
       "      <td>NaT</td>\n",
       "      <td>0 days 01:03:32.953000</td>\n",
       "      <td>0 days 01:04:00.062000</td>\n",
       "      <td>205.0</td>\n",
       "      <td>183.0</td>\n",
       "      <td>265.0</td>\n",
       "      <td>295.0</td>\n",
       "      <td>False</td>\n",
       "      <td>MEDIUM</td>\n",
       "      <td>1.0</td>\n",
       "      <td>True</td>\n",
       "      <td>0 days 01:02:16.435000</td>\n",
       "      <td>McLaren</td>\n",
       "      <td>RIC</td>\n",
       "      <td>1</td>\n",
       "      <td>False</td>\n",
       "      <td>2022-05-08 19:33:16.443</td>\n",
       "    </tr>\n",
       "    <tr>\n",
       "      <th>11</th>\n",
       "      <td>0 days 01:04:00.265000</td>\n",
       "      <td>47</td>\n",
       "      <td>NaT</td>\n",
       "      <td>1</td>\n",
       "      <td>1</td>\n",
       "      <td>0 days 00:23:52.421000</td>\n",
       "      <td>NaT</td>\n",
       "      <td>NaT</td>\n",
       "      <td>0 days 00:00:37.421000</td>\n",
       "      <td>0 days 00:00:26.766000</td>\n",
       "      <td>NaT</td>\n",
       "      <td>0 days 01:03:33.558000</td>\n",
       "      <td>0 days 01:04:00.338000</td>\n",
       "      <td>204.0</td>\n",
       "      <td>185.0</td>\n",
       "      <td>275.0</td>\n",
       "      <td>298.0</td>\n",
       "      <td>False</td>\n",
       "      <td>MEDIUM</td>\n",
       "      <td>1.0</td>\n",
       "      <td>True</td>\n",
       "      <td>0 days 01:02:16.435000</td>\n",
       "      <td>Haas F1 Team</td>\n",
       "      <td>MSC</td>\n",
       "      <td>1</td>\n",
       "      <td>False</td>\n",
       "      <td>2022-05-08 19:33:16.443</td>\n",
       "    </tr>\n",
       "    <tr>\n",
       "      <th>12</th>\n",
       "      <td>0 days 01:04:00.825000</td>\n",
       "      <td>20</td>\n",
       "      <td>NaT</td>\n",
       "      <td>1</td>\n",
       "      <td>1</td>\n",
       "      <td>0 days 00:23:15.664000</td>\n",
       "      <td>NaT</td>\n",
       "      <td>NaT</td>\n",
       "      <td>0 days 00:00:37.772000</td>\n",
       "      <td>0 days 00:00:26.878000</td>\n",
       "      <td>NaT</td>\n",
       "      <td>0 days 01:03:34.020000</td>\n",
       "      <td>0 days 01:04:00.923000</td>\n",
       "      <td>209.0</td>\n",
       "      <td>185.0</td>\n",
       "      <td>272.0</td>\n",
       "      <td>294.0</td>\n",
       "      <td>False</td>\n",
       "      <td>MEDIUM</td>\n",
       "      <td>1.0</td>\n",
       "      <td>True</td>\n",
       "      <td>0 days 01:02:16.435000</td>\n",
       "      <td>Haas F1 Team</td>\n",
       "      <td>MAG</td>\n",
       "      <td>1</td>\n",
       "      <td>False</td>\n",
       "      <td>2022-05-08 19:33:16.443</td>\n",
       "    </tr>\n",
       "    <tr>\n",
       "      <th>13</th>\n",
       "      <td>0 days 01:04:01.389000</td>\n",
       "      <td>24</td>\n",
       "      <td>NaT</td>\n",
       "      <td>1</td>\n",
       "      <td>1</td>\n",
       "      <td>0 days 00:23:24.857000</td>\n",
       "      <td>NaT</td>\n",
       "      <td>NaT</td>\n",
       "      <td>0 days 00:00:37.684000</td>\n",
       "      <td>0 days 00:00:26.913000</td>\n",
       "      <td>NaT</td>\n",
       "      <td>0 days 01:03:34.537000</td>\n",
       "      <td>0 days 01:04:01.389000</td>\n",
       "      <td>210.0</td>\n",
       "      <td>185.0</td>\n",
       "      <td>273.0</td>\n",
       "      <td>292.0</td>\n",
       "      <td>False</td>\n",
       "      <td>MEDIUM</td>\n",
       "      <td>1.0</td>\n",
       "      <td>True</td>\n",
       "      <td>0 days 01:02:16.435000</td>\n",
       "      <td>Alfa Romeo</td>\n",
       "      <td>ZHO</td>\n",
       "      <td>1</td>\n",
       "      <td>False</td>\n",
       "      <td>2022-05-08 19:33:16.443</td>\n",
       "    </tr>\n",
       "    <tr>\n",
       "      <th>14</th>\n",
       "      <td>0 days 01:04:02.046000</td>\n",
       "      <td>63</td>\n",
       "      <td>NaT</td>\n",
       "      <td>1</td>\n",
       "      <td>1</td>\n",
       "      <td>0 days 00:24:00.270000</td>\n",
       "      <td>NaT</td>\n",
       "      <td>NaT</td>\n",
       "      <td>0 days 00:00:38.433000</td>\n",
       "      <td>0 days 00:00:27.128000</td>\n",
       "      <td>NaT</td>\n",
       "      <td>0 days 01:03:34.986000</td>\n",
       "      <td>0 days 01:04:02.140000</td>\n",
       "      <td>208.0</td>\n",
       "      <td>182.0</td>\n",
       "      <td>273.0</td>\n",
       "      <td>287.0</td>\n",
       "      <td>False</td>\n",
       "      <td>HARD</td>\n",
       "      <td>1.0</td>\n",
       "      <td>True</td>\n",
       "      <td>0 days 01:02:16.435000</td>\n",
       "      <td>Mercedes</td>\n",
       "      <td>RUS</td>\n",
       "      <td>1</td>\n",
       "      <td>False</td>\n",
       "      <td>2022-05-08 19:33:16.443</td>\n",
       "    </tr>\n",
       "  </tbody>\n",
       "</table></div>"
      ],
      "text/plain": [
       "                     Time DriverNumber LapTime  LapNumber  Stint  \\\n",
       "0  0 days 01:03:52.571000           16     NaT          1      1   \n",
       "1  0 days 01:03:53.401000            1     NaT          1      1   \n",
       "2  0 days 01:03:54.269000           55     NaT          1      1   \n",
       "3  0 days 01:03:54.930000           11     NaT          1      1   \n",
       "4  0 days 01:03:55.855000           77     NaT          1      1   \n",
       "5  0 days 01:03:56.556000           10     NaT          1      1   \n",
       "6  0 days 01:03:57.370000           14     NaT          1      1   \n",
       "7  0 days 01:03:57.658000           44     NaT          1      1   \n",
       "8  0 days 01:03:58.756000            4     NaT          1      1   \n",
       "9  0 days 01:03:59.243000           22     NaT          1      1   \n",
       "10 0 days 01:04:00.006000            3     NaT          1      1   \n",
       "11 0 days 01:04:00.265000           47     NaT          1      1   \n",
       "12 0 days 01:04:00.825000           20     NaT          1      1   \n",
       "13 0 days 01:04:01.389000           24     NaT          1      1   \n",
       "14 0 days 01:04:02.046000           63     NaT          1      1   \n",
       "\n",
       "               PitOutTime PitInTime Sector1Time            Sector2Time  \\\n",
       "0  0 days 00:23:43.508000       NaT         NaT 0 days 00:00:36.055000   \n",
       "1  0 days 00:23:51.168000       NaT         NaT 0 days 00:00:35.848000   \n",
       "2  0 days 00:25:08.834000       NaT         NaT 0 days 00:00:36.162000   \n",
       "3  0 days 00:22:21.429000       NaT         NaT 0 days 00:00:36.308000   \n",
       "4  0 days 00:23:02.283000       NaT         NaT 0 days 00:00:36.545000   \n",
       "5  0 days 00:23:33.603000       NaT         NaT 0 days 00:00:36.641000   \n",
       "6  0 days 00:22:13.875000       NaT         NaT 0 days 00:00:36.595000   \n",
       "7  0 days 00:24:56.991000       NaT         NaT 0 days 00:00:36.743000   \n",
       "8  0 days 00:25:29.572000       NaT         NaT 0 days 00:00:36.975000   \n",
       "9  0 days 00:24:04.188000       NaT         NaT 0 days 00:00:37.047000   \n",
       "10 0 days 00:22:23.286000       NaT         NaT 0 days 00:00:37.260000   \n",
       "11 0 days 00:23:52.421000       NaT         NaT 0 days 00:00:37.421000   \n",
       "12 0 days 00:23:15.664000       NaT         NaT 0 days 00:00:37.772000   \n",
       "13 0 days 00:23:24.857000       NaT         NaT 0 days 00:00:37.684000   \n",
       "14 0 days 00:24:00.270000       NaT         NaT 0 days 00:00:38.433000   \n",
       "\n",
       "              Sector3Time Sector1SessionTime     Sector2SessionTime  \\\n",
       "0  0 days 00:00:26.572000                NaT 0 days 01:03:26.054000   \n",
       "1  0 days 00:00:26.431000                NaT 0 days 01:03:27.035000   \n",
       "2  0 days 00:00:26.429000                NaT 0 days 01:03:27.879000   \n",
       "3  0 days 00:00:26.397000                NaT 0 days 01:03:28.563000   \n",
       "4  0 days 00:00:26.522000                NaT 0 days 01:03:29.454000   \n",
       "5  0 days 00:00:26.556000                NaT 0 days 01:03:30.043000   \n",
       "6  0 days 00:00:26.938000                NaT 0 days 01:03:30.507000   \n",
       "7  0 days 00:00:26.513000                NaT 0 days 01:03:31.210000   \n",
       "8  0 days 00:00:26.885000                NaT 0 days 01:03:31.893000   \n",
       "9  0 days 00:00:26.856000                NaT 0 days 01:03:32.426000   \n",
       "10 0 days 00:00:27.075000                NaT 0 days 01:03:32.953000   \n",
       "11 0 days 00:00:26.766000                NaT 0 days 01:03:33.558000   \n",
       "12 0 days 00:00:26.878000                NaT 0 days 01:03:34.020000   \n",
       "13 0 days 00:00:26.913000                NaT 0 days 01:03:34.537000   \n",
       "14 0 days 00:00:27.128000                NaT 0 days 01:03:34.986000   \n",
       "\n",
       "       Sector3SessionTime  SpeedI1  SpeedI2  SpeedFL  SpeedST  IsPersonalBest  \\\n",
       "0  0 days 01:03:52.632000    210.0    186.0    269.0    308.0           False   \n",
       "1  0 days 01:03:53.493000    209.0    185.0    268.0    304.0           False   \n",
       "2  0 days 01:03:54.359000    214.0    186.0    272.0    308.0           False   \n",
       "3  0 days 01:03:54.988000    208.0    185.0    272.0    296.0           False   \n",
       "4  0 days 01:03:55.949000    210.0    186.0    272.0    305.0           False   \n",
       "5  0 days 01:03:56.620000    210.0    183.0    272.0    311.0           False   \n",
       "6  0 days 01:03:57.437000    207.0    183.0    267.0    308.0           False   \n",
       "7  0 days 01:03:57.750000    210.0    185.0    276.0    298.0           False   \n",
       "8  0 days 01:03:58.829000    207.0    184.0    265.0    307.0           False   \n",
       "9  0 days 01:03:59.329000    209.0    184.0    270.0    294.0           False   \n",
       "10 0 days 01:04:00.062000    205.0    183.0    265.0    295.0           False   \n",
       "11 0 days 01:04:00.338000    204.0    185.0    275.0    298.0           False   \n",
       "12 0 days 01:04:00.923000    209.0    185.0    272.0    294.0           False   \n",
       "13 0 days 01:04:01.389000    210.0    185.0    273.0    292.0           False   \n",
       "14 0 days 01:04:02.140000    208.0    182.0    273.0    287.0           False   \n",
       "\n",
       "   Compound  TyreLife FreshTyre           LapStartTime             Team  \\\n",
       "0    MEDIUM       1.0      True 0 days 01:02:16.435000          Ferrari   \n",
       "1    MEDIUM       1.0      True 0 days 01:02:16.435000  Red Bull Racing   \n",
       "2    MEDIUM       1.0      True 0 days 01:02:16.435000          Ferrari   \n",
       "3    MEDIUM       1.0      True 0 days 01:02:16.435000  Red Bull Racing   \n",
       "4    MEDIUM       1.0      True 0 days 01:02:16.435000       Alfa Romeo   \n",
       "5    MEDIUM       1.0      True 0 days 01:02:16.435000       AlphaTauri   \n",
       "6    MEDIUM       1.0      True 0 days 01:02:16.435000           Alpine   \n",
       "7    MEDIUM       1.0      True 0 days 01:02:16.435000         Mercedes   \n",
       "8    MEDIUM       1.0      True 0 days 01:02:16.435000          McLaren   \n",
       "9    MEDIUM       1.0      True 0 days 01:02:16.435000       AlphaTauri   \n",
       "10   MEDIUM       1.0      True 0 days 01:02:16.435000          McLaren   \n",
       "11   MEDIUM       1.0      True 0 days 01:02:16.435000     Haas F1 Team   \n",
       "12   MEDIUM       1.0      True 0 days 01:02:16.435000     Haas F1 Team   \n",
       "13   MEDIUM       1.0      True 0 days 01:02:16.435000       Alfa Romeo   \n",
       "14     HARD       1.0      True 0 days 01:02:16.435000         Mercedes   \n",
       "\n",
       "   Driver TrackStatus IsAccurate            LapStartDate  \n",
       "0     LEC           1      False 2022-05-08 19:33:16.443  \n",
       "1     VER           1      False 2022-05-08 19:33:16.443  \n",
       "2     SAI           1      False 2022-05-08 19:33:16.443  \n",
       "3     PER           1      False 2022-05-08 19:33:16.443  \n",
       "4     BOT           1      False 2022-05-08 19:33:16.443  \n",
       "5     GAS           1      False 2022-05-08 19:33:16.443  \n",
       "6     ALO           1      False 2022-05-08 19:33:16.443  \n",
       "7     HAM           1      False 2022-05-08 19:33:16.443  \n",
       "8     NOR           1      False 2022-05-08 19:33:16.443  \n",
       "9     TSU           1      False 2022-05-08 19:33:16.443  \n",
       "10    RIC           1      False 2022-05-08 19:33:16.443  \n",
       "11    MSC           1      False 2022-05-08 19:33:16.443  \n",
       "12    MAG           1      False 2022-05-08 19:33:16.443  \n",
       "13    ZHO           1      False 2022-05-08 19:33:16.443  \n",
       "14    RUS           1      False 2022-05-08 19:33:16.443  "
      ]
     },
     "execution_count": 78,
     "metadata": {},
     "output_type": "execute_result"
    }
   ],
   "source": [
    "race = race.sort_values('Time').reset_index(drop=True)\n",
    "race.head(15)"
   ]
  },
  {
   "cell_type": "code",
   "execution_count": 84,
   "metadata": {},
   "outputs": [
    {
     "data": {
      "text/html": [
       "<div><div id=21f6ad36-5642-4125-a7a4-2f8a00501a8f style=\"display:none; background-color:#9D6CFF; color:white; width:200px; height:30px; padding-left:5px; border-radius:4px; flex-direction:row; justify-content:space-around; align-items:center;\" onmouseover=\"this.style.backgroundColor='#BA9BF8'\" onmouseout=\"this.style.backgroundColor='#9D6CFF'\" onclick=\"window.commands?.execute('create-mitosheet-from-dataframe-output');\">See Full Dataframe in Mito</div> <script> if (window.commands.hasCommand('create-mitosheet-from-dataframe-output')) document.getElementById('21f6ad36-5642-4125-a7a4-2f8a00501a8f').style.display = 'flex' </script> <table border=\"1\" class=\"dataframe\">\n",
       "  <thead>\n",
       "    <tr style=\"text-align: right;\">\n",
       "      <th></th>\n",
       "      <th>Time</th>\n",
       "      <th>Category</th>\n",
       "      <th>Message</th>\n",
       "      <th>Status</th>\n",
       "      <th>Flag</th>\n",
       "      <th>Scope</th>\n",
       "      <th>Sector</th>\n",
       "      <th>RacingNumber</th>\n",
       "    </tr>\n",
       "  </thead>\n",
       "  <tbody>\n",
       "    <tr>\n",
       "      <th>0</th>\n",
       "      <td>2022-05-08 18:32:25</td>\n",
       "      <td>Other</td>\n",
       "      <td>BLUE HEAD PADDING MATERIAL MUST BE USED</td>\n",
       "      <td>None</td>\n",
       "      <td>None</td>\n",
       "      <td>None</td>\n",
       "      <td>NaN</td>\n",
       "      <td>None</td>\n",
       "    </tr>\n",
       "    <tr>\n",
       "      <th>1</th>\n",
       "      <td>2022-05-08 18:50:00</td>\n",
       "      <td>Flag</td>\n",
       "      <td>GREEN LIGHT - PIT EXIT OPEN</td>\n",
       "      <td>None</td>\n",
       "      <td>GREEN</td>\n",
       "      <td>Track</td>\n",
       "      <td>NaN</td>\n",
       "      <td>None</td>\n",
       "    </tr>\n",
       "    <tr>\n",
       "      <th>2</th>\n",
       "      <td>2022-05-08 19:00:00</td>\n",
       "      <td>Other</td>\n",
       "      <td>PIT EXIT CLOSED</td>\n",
       "      <td>None</td>\n",
       "      <td>None</td>\n",
       "      <td>None</td>\n",
       "      <td>NaN</td>\n",
       "      <td>None</td>\n",
       "    </tr>\n",
       "    <tr>\n",
       "      <th>3</th>\n",
       "      <td>2022-05-08 19:15:23</td>\n",
       "      <td>Other</td>\n",
       "      <td>RISK OF RAIN FOR THIS SESSION IS 40%</td>\n",
       "      <td>None</td>\n",
       "      <td>None</td>\n",
       "      <td>None</td>\n",
       "      <td>NaN</td>\n",
       "      <td>None</td>\n",
       "    </tr>\n",
       "    <tr>\n",
       "      <th>4</th>\n",
       "      <td>2022-05-08 19:27:04</td>\n",
       "      <td>Drs</td>\n",
       "      <td>DRS DISABLED</td>\n",
       "      <td>DISABLED</td>\n",
       "      <td>None</td>\n",
       "      <td>None</td>\n",
       "      <td>NaN</td>\n",
       "      <td>None</td>\n",
       "    </tr>\n",
       "    <tr>\n",
       "      <th>...</th>\n",
       "      <td>...</td>\n",
       "      <td>...</td>\n",
       "      <td>...</td>\n",
       "      <td>...</td>\n",
       "      <td>...</td>\n",
       "      <td>...</td>\n",
       "      <td>...</td>\n",
       "      <td>...</td>\n",
       "    </tr>\n",
       "    <tr>\n",
       "      <th>71</th>\n",
       "      <td>2022-05-08 21:18:44</td>\n",
       "      <td>Flag</td>\n",
       "      <td>YELLOW IN TRACK SECTOR 15</td>\n",
       "      <td>None</td>\n",
       "      <td>YELLOW</td>\n",
       "      <td>Sector</td>\n",
       "      <td>15.0</td>\n",
       "      <td>None</td>\n",
       "    </tr>\n",
       "    <tr>\n",
       "      <th>72</th>\n",
       "      <td>2022-05-08 21:18:46</td>\n",
       "      <td>Flag</td>\n",
       "      <td>CLEAR IN TRACK SECTOR 15</td>\n",
       "      <td>None</td>\n",
       "      <td>CLEAR</td>\n",
       "      <td>Sector</td>\n",
       "      <td>15.0</td>\n",
       "      <td>None</td>\n",
       "    </tr>\n",
       "    <tr>\n",
       "      <th>73</th>\n",
       "      <td>2022-05-08 21:19:54</td>\n",
       "      <td>Other</td>\n",
       "      <td>FIA STEWARDS: 5 SECOND TIME PENALTY FOR CAR 20 (MAG) - CAUSING A COLLISION</td>\n",
       "      <td>None</td>\n",
       "      <td>None</td>\n",
       "      <td>None</td>\n",
       "      <td>NaN</td>\n",
       "      <td>None</td>\n",
       "    </tr>\n",
       "    <tr>\n",
       "      <th>74</th>\n",
       "      <td>2022-05-08 21:22:16</td>\n",
       "      <td>Other</td>\n",
       "      <td>FIA STEWARDS: 5 SECOND TIME PENALTY FOR CAR 3 (RIC) - LEAVING THE TRACK AND GAINING AN ADVANTAGE</td>\n",
       "      <td>None</td>\n",
       "      <td>None</td>\n",
       "      <td>None</td>\n",
       "      <td>NaN</td>\n",
       "      <td>None</td>\n",
       "    </tr>\n",
       "    <tr>\n",
       "      <th>75</th>\n",
       "      <td>2022-05-08 21:24:32</td>\n",
       "      <td>Flag</td>\n",
       "      <td>BLACK AND WHITE FLAG FOR CAR 14 (ALO) - TRACK LIMITS</td>\n",
       "      <td>None</td>\n",
       "      <td>BLACK AND WHITE</td>\n",
       "      <td>Driver</td>\n",
       "      <td>NaN</td>\n",
       "      <td>14</td>\n",
       "    </tr>\n",
       "  </tbody>\n",
       "</table></div>"
      ],
      "text/plain": [
       "                  Time Category  \\\n",
       "0  2022-05-08 18:32:25    Other   \n",
       "1  2022-05-08 18:50:00     Flag   \n",
       "2  2022-05-08 19:00:00    Other   \n",
       "3  2022-05-08 19:15:23    Other   \n",
       "4  2022-05-08 19:27:04      Drs   \n",
       "..                 ...      ...   \n",
       "71 2022-05-08 21:18:44     Flag   \n",
       "72 2022-05-08 21:18:46     Flag   \n",
       "73 2022-05-08 21:19:54    Other   \n",
       "74 2022-05-08 21:22:16    Other   \n",
       "75 2022-05-08 21:24:32     Flag   \n",
       "\n",
       "                                              Message    Status  \\\n",
       "0             BLUE HEAD PADDING MATERIAL MUST BE USED      None   \n",
       "1                         GREEN LIGHT - PIT EXIT OPEN      None   \n",
       "2                                     PIT EXIT CLOSED      None   \n",
       "3                RISK OF RAIN FOR THIS SESSION IS 40%      None   \n",
       "4                                        DRS DISABLED  DISABLED   \n",
       "..                                                ...       ...   \n",
       "71                          YELLOW IN TRACK SECTOR 15      None   \n",
       "72                           CLEAR IN TRACK SECTOR 15      None   \n",
       "73  FIA STEWARDS: 5 SECOND TIME PENALTY FOR CAR 20...      None   \n",
       "74  FIA STEWARDS: 5 SECOND TIME PENALTY FOR CAR 3 ...      None   \n",
       "75  BLACK AND WHITE FLAG FOR CAR 14 (ALO) - TRACK ...      None   \n",
       "\n",
       "               Flag   Scope  Sector RacingNumber  \n",
       "0              None    None     NaN         None  \n",
       "1             GREEN   Track     NaN         None  \n",
       "2              None    None     NaN         None  \n",
       "3              None    None     NaN         None  \n",
       "4              None    None     NaN         None  \n",
       "..              ...     ...     ...          ...  \n",
       "71           YELLOW  Sector    15.0         None  \n",
       "72            CLEAR  Sector    15.0         None  \n",
       "73             None    None     NaN         None  \n",
       "74             None    None     NaN         None  \n",
       "75  BLACK AND WHITE  Driver     NaN           14  \n",
       "\n",
       "[76 rows x 8 columns]"
      ]
     },
     "execution_count": 84,
     "metadata": {},
     "output_type": "execute_result"
    }
   ],
   "source": [
    "session.race_control_messages"
   ]
  },
  {
   "cell_type": "code",
   "execution_count": 89,
   "metadata": {},
   "outputs": [],
   "source": [
    "from raceplotly.plots import barplot"
   ]
  },
  {
   "cell_type": "code",
   "execution_count": 94,
   "metadata": {},
   "outputs": [
    {
     "data": {
      "application/vnd.plotly.v1+json": {
       "config": {
        "plotlyServerURL": "https://plot.ly"
       },
       "data": [
        {
         "cliponaxis": false,
         "hoverinfo": "all",
         "marker": {
          "color": [
           "rgb(11, 90, 253)",
           "rgb(80, 16, 92)",
           "rgb(244, 79, 138)",
           "rgb(26, 190, 242)",
           "rgb(45, 24, 141)",
           "rgb(174, 43, 143)",
           "rgb(183, 107, 4)",
           "rgb(199, 224, 183)",
           "rgb(109, 22, 130)",
           "rgb(33, 40, 2)"
          ]
         },
         "orientation": "h",
         "textangle": 0,
         "textposition": "outside",
         "texttemplate": "%{y}<br>%{x:.4s}",
         "type": "bar",
         "x": [
          3840006000000,
          3840265000000,
          3840825000000,
          3841389000000,
          3842046000000,
          3842210000000,
          3843185000000,
          3843322000000,
          3849252000000,
          3849987000000
         ],
         "y": [
          "RIC",
          "MSC",
          "MAG",
          "ZHO",
          "RUS",
          "ALB",
          "LAT",
          "OCO",
          "STR",
          "VET"
         ]
        }
       ],
       "frames": [
        {
         "data": [
          {
           "cliponaxis": false,
           "hoverinfo": "all",
           "hovertemplate": "<extra></extra>",
           "marker": {
            "color": [
             "rgb(11, 90, 253)",
             "rgb(80, 16, 92)",
             "rgb(244, 79, 138)",
             "rgb(26, 190, 242)",
             "rgb(45, 24, 141)",
             "rgb(174, 43, 143)",
             "rgb(183, 107, 4)",
             "rgb(199, 224, 183)",
             "rgb(109, 22, 130)",
             "rgb(33, 40, 2)"
            ]
           },
           "orientation": "h",
           "textangle": 0,
           "textposition": "outside",
           "texttemplate": "%{y}<br>%{x:.4s}",
           "type": "bar",
           "x": [
            3840006000000,
            3840265000000,
            3840825000000,
            3841389000000,
            3842046000000,
            3842210000000,
            3843185000000,
            3843322000000,
            3849252000000,
            3849987000000
           ],
           "y": [
            "RIC",
            "MSC",
            "MAG",
            "ZHO",
            "RUS",
            "ALB",
            "LAT",
            "OCO",
            "STR",
            "VET"
           ]
          }
         ],
         "layout": {
          "bargap": 0.15,
          "font": {
           "size": 14
          },
          "plot_bgcolor": "#FFFFFF",
          "xaxis": {
           "range": [
            0,
            "P0DT2H37M53.429S"
           ],
           "showline": true,
           "visible": true
          },
          "yaxis": {
           "showline": false,
           "visible": true
          }
         },
         "name": "1"
        },
        {
         "data": [
          {
           "cliponaxis": false,
           "hoverinfo": "all",
           "hovertemplate": "<extra></extra>",
           "marker": {
            "color": [
             "rgb(80, 16, 92)",
             "rgb(11, 90, 253)",
             "rgb(244, 79, 138)",
             "rgb(26, 190, 242)",
             "rgb(45, 24, 141)",
             "rgb(174, 43, 143)",
             "rgb(199, 224, 183)",
             "rgb(183, 107, 4)",
             "rgb(109, 22, 130)",
             "rgb(33, 40, 2)"
            ]
           },
           "orientation": "h",
           "textangle": 0,
           "textposition": "outside",
           "texttemplate": "%{y}<br>%{x:.4s}",
           "type": "bar",
           "x": [
            3937339000000,
            3938130000000,
            3938401000000,
            3938876000000,
            3939669000000,
            3939992000000,
            3940718000000,
            3942235000000,
            3946791000000,
            3947851000000
           ],
           "y": [
            "MSC",
            "RIC",
            "MAG",
            "ZHO",
            "RUS",
            "ALB",
            "OCO",
            "LAT",
            "STR",
            "VET"
           ]
          }
         ],
         "layout": {
          "bargap": 0.15,
          "font": {
           "size": 14
          },
          "plot_bgcolor": "#FFFFFF",
          "xaxis": {
           "range": [
            0,
            "P0DT2H37M53.429S"
           ],
           "showline": true,
           "visible": true
          },
          "yaxis": {
           "showline": false,
           "visible": true
          }
         },
         "name": "2"
        },
        {
         "data": [
          {
           "cliponaxis": false,
           "hoverinfo": "all",
           "hovertemplate": "<extra></extra>",
           "marker": {
            "color": [
             "rgb(80, 16, 92)",
             "rgb(244, 79, 138)",
             "rgb(11, 90, 253)",
             "rgb(26, 190, 242)",
             "rgb(45, 24, 141)",
             "rgb(174, 43, 143)",
             "rgb(199, 224, 183)",
             "rgb(183, 107, 4)",
             "rgb(109, 22, 130)",
             "rgb(33, 40, 2)"
            ]
           },
           "orientation": "h",
           "textangle": 0,
           "textposition": "outside",
           "texttemplate": "%{y}<br>%{x:.4s}",
           "type": "bar",
           "x": [
            4033549000000,
            4034163000000,
            4035080000000,
            4035603000000,
            4036159000000,
            4036658000000,
            4037916000000,
            4039985000000,
            4043833000000,
            4045093000000
           ],
           "y": [
            "MSC",
            "MAG",
            "RIC",
            "ZHO",
            "RUS",
            "ALB",
            "OCO",
            "LAT",
            "STR",
            "VET"
           ]
          }
         ],
         "layout": {
          "bargap": 0.15,
          "font": {
           "size": 14
          },
          "plot_bgcolor": "#FFFFFF",
          "xaxis": {
           "range": [
            0,
            "P0DT2H37M53.429S"
           ],
           "showline": true,
           "visible": true
          },
          "yaxis": {
           "showline": false,
           "visible": true
          }
         },
         "name": "3"
        },
        {
         "data": [
          {
           "cliponaxis": false,
           "hoverinfo": "all",
           "hovertemplate": "<extra></extra>",
           "marker": {
            "color": [
             "rgb(80, 16, 92)",
             "rgb(244, 79, 138)",
             "rgb(11, 90, 253)",
             "rgb(26, 190, 242)",
             "rgb(45, 24, 141)",
             "rgb(174, 43, 143)",
             "rgb(199, 224, 183)",
             "rgb(183, 107, 4)",
             "rgb(109, 22, 130)",
             "rgb(33, 40, 2)"
            ]
           },
           "orientation": "h",
           "textangle": 0,
           "textposition": "outside",
           "texttemplate": "%{y}<br>%{x:.4s}",
           "type": "bar",
           "x": [
            4129429000000,
            4129805000000,
            4130579000000,
            4131334000000,
            4132095000000,
            4132543000000,
            4134736000000,
            4136951000000,
            4140745000000,
            4141874000000
           ],
           "y": [
            "MSC",
            "MAG",
            "RIC",
            "ZHO",
            "RUS",
            "ALB",
            "OCO",
            "LAT",
            "STR",
            "VET"
           ]
          }
         ],
         "layout": {
          "bargap": 0.15,
          "font": {
           "size": 14
          },
          "plot_bgcolor": "#FFFFFF",
          "xaxis": {
           "range": [
            0,
            "P0DT2H37M53.429S"
           ],
           "showline": true,
           "visible": true
          },
          "yaxis": {
           "showline": false,
           "visible": true
          }
         },
         "name": "4"
        },
        {
         "data": [
          {
           "cliponaxis": false,
           "hoverinfo": "all",
           "hovertemplate": "<extra></extra>",
           "marker": {
            "color": [
             "rgb(80, 16, 92)",
             "rgb(244, 79, 138)",
             "rgb(11, 90, 253)",
             "rgb(26, 190, 242)",
             "rgb(45, 24, 141)",
             "rgb(174, 43, 143)",
             "rgb(199, 224, 183)",
             "rgb(183, 107, 4)",
             "rgb(109, 22, 130)",
             "rgb(33, 40, 2)"
            ]
           },
           "orientation": "h",
           "textangle": 0,
           "textposition": "outside",
           "texttemplate": "%{y}<br>%{x:.4s}",
           "type": "bar",
           "x": [
            4225699000000,
            4225941000000,
            4226964000000,
            4227217000000,
            4227880000000,
            4228505000000,
            4231051000000,
            4233808000000,
            4237366000000,
            4239415000000
           ],
           "y": [
            "MSC",
            "MAG",
            "RIC",
            "ZHO",
            "RUS",
            "ALB",
            "OCO",
            "LAT",
            "STR",
            "VET"
           ]
          }
         ],
         "layout": {
          "bargap": 0.15,
          "font": {
           "size": 14
          },
          "plot_bgcolor": "#FFFFFF",
          "xaxis": {
           "range": [
            0,
            "P0DT2H37M53.429S"
           ],
           "showline": true,
           "visible": true
          },
          "yaxis": {
           "showline": false,
           "visible": true
          }
         },
         "name": "5"
        },
        {
         "data": [
          {
           "cliponaxis": false,
           "hoverinfo": "all",
           "hovertemplate": "<extra></extra>",
           "marker": {
            "color": [
             "rgb(244, 79, 138)",
             "rgb(58, 48, 17)",
             "rgb(11, 90, 253)",
             "rgb(45, 24, 141)",
             "rgb(174, 43, 143)",
             "rgb(199, 224, 183)",
             "rgb(183, 107, 4)",
             "rgb(109, 22, 130)",
             "rgb(33, 40, 2)",
             "rgb(26, 190, 242)"
            ]
           },
           "orientation": "h",
           "textangle": 0,
           "textposition": "outside",
           "texttemplate": "%{y}<br>%{x:.4s}",
           "type": "bar",
           "x": [
            4324264000000,
            4324567000000,
            4325253000000,
            4326428000000,
            4326696000000,
            4327764000000,
            4330749000000,
            4334194000000,
            4335919000000,
            4348922000000
           ],
           "y": [
            "MAG",
            "TSU",
            "RIC",
            "RUS",
            "ALB",
            "OCO",
            "LAT",
            "STR",
            "VET",
            "ZHO"
           ]
          }
         ],
         "layout": {
          "bargap": 0.15,
          "font": {
           "size": 14
          },
          "plot_bgcolor": "#FFFFFF",
          "xaxis": {
           "range": [
            0,
            "P0DT2H37M53.429S"
           ],
           "showline": true,
           "visible": true
          },
          "yaxis": {
           "showline": false,
           "visible": true
          }
         },
         "name": "6"
        },
        {
         "data": [
          {
           "cliponaxis": false,
           "hoverinfo": "all",
           "hovertemplate": "<extra></extra>",
           "marker": {
            "color": [
             "rgb(80, 16, 92)",
             "rgb(244, 79, 138)",
             "rgb(58, 48, 17)",
             "rgb(11, 90, 253)",
             "rgb(174, 43, 143)",
             "rgb(45, 24, 141)",
             "rgb(199, 224, 183)",
             "rgb(183, 107, 4)",
             "rgb(109, 22, 130)",
             "rgb(33, 40, 2)"
            ]
           },
           "orientation": "h",
           "textangle": 0,
           "textposition": "outside",
           "texttemplate": "%{y}<br>%{x:.4s}",
           "type": "bar",
           "x": [
            4418343000000,
            4420709000000,
            4421255000000,
            4421956000000,
            4423347000000,
            4423439000000,
            4424351000000,
            4428134000000,
            4430853000000,
            4432220000000
           ],
           "y": [
            "MSC",
            "MAG",
            "TSU",
            "RIC",
            "ALB",
            "RUS",
            "OCO",
            "LAT",
            "STR",
            "VET"
           ]
          }
         ],
         "layout": {
          "bargap": 0.15,
          "font": {
           "size": 14
          },
          "plot_bgcolor": "#FFFFFF",
          "xaxis": {
           "range": [
            0,
            "P0DT2H37M53.429S"
           ],
           "showline": true,
           "visible": true
          },
          "yaxis": {
           "showline": false,
           "visible": true
          }
         },
         "name": "7"
        },
        {
         "data": [
          {
           "cliponaxis": false,
           "hoverinfo": "all",
           "hovertemplate": "<extra></extra>",
           "marker": {
            "color": [
             "rgb(80, 16, 92)",
             "rgb(244, 79, 138)",
             "rgb(58, 48, 17)",
             "rgb(11, 90, 253)",
             "rgb(45, 24, 141)",
             "rgb(174, 43, 143)",
             "rgb(199, 224, 183)",
             "rgb(183, 107, 4)",
             "rgb(109, 22, 130)",
             "rgb(33, 40, 2)"
            ]
           },
           "orientation": "h",
           "textangle": 0,
           "textposition": "outside",
           "texttemplate": "%{y}<br>%{x:.4s}",
           "type": "bar",
           "x": [
            4514830000000,
            4516891000000,
            4517638000000,
            4518404000000,
            4520125000000,
            4520348000000,
            4521411000000,
            4525246000000,
            4528974000000,
            4529317000000
           ],
           "y": [
            "MSC",
            "MAG",
            "TSU",
            "RIC",
            "RUS",
            "ALB",
            "OCO",
            "LAT",
            "STR",
            "VET"
           ]
          }
         ],
         "layout": {
          "bargap": 0.15,
          "font": {
           "size": 14
          },
          "plot_bgcolor": "#FFFFFF",
          "xaxis": {
           "range": [
            0,
            "P0DT2H37M53.429S"
           ],
           "showline": true,
           "visible": true
          },
          "yaxis": {
           "showline": false,
           "visible": true
          }
         },
         "name": "8"
        },
        {
         "data": [
          {
           "cliponaxis": false,
           "hoverinfo": "all",
           "hovertemplate": "<extra></extra>",
           "marker": {
            "color": [
             "rgb(80, 16, 92)",
             "rgb(244, 79, 138)",
             "rgb(58, 48, 17)",
             "rgb(11, 90, 253)",
             "rgb(45, 24, 141)",
             "rgb(174, 43, 143)",
             "rgb(199, 224, 183)",
             "rgb(183, 107, 4)",
             "rgb(109, 22, 130)",
             "rgb(33, 40, 2)"
            ]
           },
           "orientation": "h",
           "textangle": 0,
           "textposition": "outside",
           "texttemplate": "%{y}<br>%{x:.4s}",
           "type": "bar",
           "x": [
            4611178000000,
            4612543000000,
            4615014000000,
            4615366000000,
            4616401000000,
            4616569000000,
            4617910000000,
            4622158000000,
            4625956000000,
            4626249000000
           ],
           "y": [
            "MSC",
            "MAG",
            "TSU",
            "RIC",
            "RUS",
            "ALB",
            "OCO",
            "LAT",
            "STR",
            "VET"
           ]
          }
         ],
         "layout": {
          "bargap": 0.15,
          "font": {
           "size": 14
          },
          "plot_bgcolor": "#FFFFFF",
          "xaxis": {
           "range": [
            0,
            "P0DT2H37M53.429S"
           ],
           "showline": true,
           "visible": true
          },
          "yaxis": {
           "showline": false,
           "visible": true
          }
         },
         "name": "9"
        },
        {
         "data": [
          {
           "cliponaxis": false,
           "hoverinfo": "all",
           "hovertemplate": "<extra></extra>",
           "marker": {
            "color": [
             "rgb(80, 16, 92)",
             "rgb(244, 79, 138)",
             "rgb(11, 90, 253)",
             "rgb(58, 48, 17)",
             "rgb(45, 24, 141)",
             "rgb(174, 43, 143)",
             "rgb(199, 224, 183)",
             "rgb(183, 107, 4)",
             "rgb(109, 22, 130)",
             "rgb(33, 40, 2)"
            ]
           },
           "orientation": "h",
           "textangle": 0,
           "textposition": "outside",
           "texttemplate": "%{y}<br>%{x:.4s}",
           "type": "bar",
           "x": [
            4707019000000,
            4707829000000,
            4711579000000,
            4712236000000,
            4712626000000,
            4713516000000,
            4714107000000,
            4719075000000,
            4721994000000,
            4722425000000
           ],
           "y": [
            "MSC",
            "MAG",
            "RIC",
            "TSU",
            "RUS",
            "ALB",
            "OCO",
            "LAT",
            "STR",
            "VET"
           ]
          }
         ],
         "layout": {
          "bargap": 0.15,
          "font": {
           "size": 14
          },
          "plot_bgcolor": "#FFFFFF",
          "xaxis": {
           "range": [
            0,
            "P0DT2H37M53.429S"
           ],
           "showline": true,
           "visible": true
          },
          "yaxis": {
           "showline": false,
           "visible": true
          }
         },
         "name": "10"
        },
        {
         "data": [
          {
           "cliponaxis": false,
           "hoverinfo": "all",
           "hovertemplate": "<extra></extra>",
           "marker": {
            "color": [
             "rgb(244, 79, 138)",
             "rgb(80, 16, 92)",
             "rgb(11, 90, 253)",
             "rgb(45, 24, 141)",
             "rgb(174, 43, 143)",
             "rgb(199, 224, 183)",
             "rgb(58, 48, 17)",
             "rgb(183, 107, 4)",
             "rgb(109, 22, 130)",
             "rgb(33, 40, 2)"
            ]
           },
           "orientation": "h",
           "textangle": 0,
           "textposition": "outside",
           "texttemplate": "%{y}<br>%{x:.4s}",
           "type": "bar",
           "x": [
            4804057000000,
            4804463000000,
            4807606000000,
            4808740000000,
            4809415000000,
            4811464000000,
            4813621000000,
            4816108000000,
            4818055000000,
            4818772000000
           ],
           "y": [
            "MAG",
            "MSC",
            "RIC",
            "RUS",
            "ALB",
            "OCO",
            "TSU",
            "LAT",
            "STR",
            "VET"
           ]
          }
         ],
         "layout": {
          "bargap": 0.15,
          "font": {
           "size": 14
          },
          "plot_bgcolor": "#FFFFFF",
          "xaxis": {
           "range": [
            0,
            "P0DT2H37M53.429S"
           ],
           "showline": true,
           "visible": true
          },
          "yaxis": {
           "showline": false,
           "visible": true
          }
         },
         "name": "11"
        },
        {
         "data": [
          {
           "cliponaxis": false,
           "hoverinfo": "all",
           "hovertemplate": "<extra></extra>",
           "marker": {
            "color": [
             "rgb(80, 16, 92)",
             "rgb(11, 90, 253)",
             "rgb(45, 24, 141)",
             "rgb(244, 79, 138)",
             "rgb(174, 43, 143)",
             "rgb(199, 224, 183)",
             "rgb(183, 107, 4)",
             "rgb(109, 22, 130)",
             "rgb(33, 40, 2)",
             "rgb(58, 48, 17)"
            ]
           },
           "orientation": "h",
           "textangle": 0,
           "textposition": "outside",
           "texttemplate": "%{y}<br>%{x:.4s}",
           "type": "bar",
           "x": [
            4900457000000,
            4903542000000,
            4904369000000,
            4905446000000,
            4906069000000,
            4907634000000,
            4912825000000,
            4914000000000,
            4914932000000,
            4924665000000
           ],
           "y": [
            "MSC",
            "RIC",
            "RUS",
            "MAG",
            "ALB",
            "OCO",
            "LAT",
            "STR",
            "VET",
            "TSU"
           ]
          }
         ],
         "layout": {
          "bargap": 0.15,
          "font": {
           "size": 14
          },
          "plot_bgcolor": "#FFFFFF",
          "xaxis": {
           "range": [
            0,
            "P0DT2H37M53.429S"
           ],
           "showline": true,
           "visible": true
          },
          "yaxis": {
           "showline": false,
           "visible": true
          }
         },
         "name": "12"
        },
        {
         "data": [
          {
           "cliponaxis": false,
           "hoverinfo": "all",
           "hovertemplate": "<extra></extra>",
           "marker": {
            "color": [
             "rgb(80, 16, 92)",
             "rgb(45, 24, 141)",
             "rgb(11, 90, 253)",
             "rgb(174, 43, 143)",
             "rgb(199, 224, 183)",
             "rgb(183, 107, 4)",
             "rgb(109, 22, 130)",
             "rgb(33, 40, 2)",
             "rgb(244, 79, 138)",
             "rgb(58, 48, 17)"
            ]
           },
           "orientation": "h",
           "textangle": 0,
           "textposition": "outside",
           "texttemplate": "%{y}<br>%{x:.4s}",
           "type": "bar",
           "x": [
            4996057000000,
            4999644000000,
            5000455000000,
            5002114000000,
            5003655000000,
            5009319000000,
            5009874000000,
            5011300000000,
            5015648000000,
            5020395000000
           ],
           "y": [
            "MSC",
            "RUS",
            "RIC",
            "ALB",
            "OCO",
            "LAT",
            "STR",
            "VET",
            "MAG",
            "TSU"
           ]
          }
         ],
         "layout": {
          "bargap": 0.15,
          "font": {
           "size": 14
          },
          "plot_bgcolor": "#FFFFFF",
          "xaxis": {
           "range": [
            0,
            "P0DT2H37M53.429S"
           ],
           "showline": true,
           "visible": true
          },
          "yaxis": {
           "showline": false,
           "visible": true
          }
         },
         "name": "13"
        },
        {
         "data": [
          {
           "cliponaxis": false,
           "hoverinfo": "all",
           "hovertemplate": "<extra></extra>",
           "marker": {
            "color": [
             "rgb(45, 24, 141)",
             "rgb(11, 90, 253)",
             "rgb(80, 16, 92)",
             "rgb(174, 43, 143)",
             "rgb(199, 224, 183)",
             "rgb(183, 107, 4)",
             "rgb(109, 22, 130)",
             "rgb(33, 40, 2)",
             "rgb(244, 79, 138)",
             "rgb(58, 48, 17)"
            ]
           },
           "orientation": "h",
           "textangle": 0,
           "textposition": "outside",
           "texttemplate": "%{y}<br>%{x:.4s}",
           "type": "bar",
           "x": [
            5094902000000,
            5096751000000,
            5097363000000,
            5097762000000,
            5099473000000,
            5106002000000,
            5106470000000,
            5107542000000,
            5110409000000,
            5116196000000
           ],
           "y": [
            "RUS",
            "RIC",
            "MSC",
            "ALB",
            "OCO",
            "LAT",
            "STR",
            "VET",
            "MAG",
            "TSU"
           ]
          }
         ],
         "layout": {
          "bargap": 0.15,
          "font": {
           "size": 14
          },
          "plot_bgcolor": "#FFFFFF",
          "xaxis": {
           "range": [
            0,
            "P0DT2H37M53.429S"
           ],
           "showline": true,
           "visible": true
          },
          "yaxis": {
           "showline": false,
           "visible": true
          }
         },
         "name": "14"
        },
        {
         "data": [
          {
           "cliponaxis": false,
           "hoverinfo": "all",
           "hovertemplate": "<extra></extra>",
           "marker": {
            "color": [
             "rgb(45, 24, 141)",
             "rgb(11, 90, 253)",
             "rgb(174, 43, 143)",
             "rgb(199, 224, 183)",
             "rgb(109, 22, 130)",
             "rgb(183, 107, 4)",
             "rgb(33, 40, 2)",
             "rgb(244, 79, 138)",
             "rgb(80, 16, 92)",
             "rgb(58, 48, 17)"
            ]
           },
           "orientation": "h",
           "textangle": 0,
           "textposition": "outside",
           "texttemplate": "%{y}<br>%{x:.4s}",
           "type": "bar",
           "x": [
            5190100000000,
            5192565000000,
            5193482000000,
            5195490000000,
            5202707000000,
            5203428000000,
            5203728000000,
            5205850000000,
            5208936000000,
            5212105000000
           ],
           "y": [
            "RUS",
            "RIC",
            "ALB",
            "OCO",
            "STR",
            "LAT",
            "VET",
            "MAG",
            "MSC",
            "TSU"
           ]
          }
         ],
         "layout": {
          "bargap": 0.15,
          "font": {
           "size": 14
          },
          "plot_bgcolor": "#FFFFFF",
          "xaxis": {
           "range": [
            0,
            "P0DT2H37M53.429S"
           ],
           "showline": true,
           "visible": true
          },
          "yaxis": {
           "showline": false,
           "visible": true
          }
         },
         "name": "15"
        },
        {
         "data": [
          {
           "cliponaxis": false,
           "hoverinfo": "all",
           "hovertemplate": "<extra></extra>",
           "marker": {
            "color": [
             "rgb(11, 90, 253)",
             "rgb(199, 224, 183)",
             "rgb(174, 43, 143)",
             "rgb(159, 103, 248)",
             "rgb(109, 22, 130)",
             "rgb(33, 40, 2)",
             "rgb(244, 79, 138)",
             "rgb(183, 107, 4)",
             "rgb(80, 16, 92)",
             "rgb(58, 48, 17)"
            ]
           },
           "orientation": "h",
           "textangle": 0,
           "textposition": "outside",
           "texttemplate": "%{y}<br>%{x:.4s}",
           "type": "bar",
           "x": [
            5288401000000,
            5291632000000,
            5294268000000,
            5298559000000,
            5299313000000,
            5300730000000,
            5302244000000,
            5302653000000,
            5303924000000,
            5307984000000
           ],
           "y": [
            "RIC",
            "OCO",
            "ALB",
            "ALO",
            "STR",
            "VET",
            "MAG",
            "LAT",
            "MSC",
            "TSU"
           ]
          }
         ],
         "layout": {
          "bargap": 0.15,
          "font": {
           "size": 14
          },
          "plot_bgcolor": "#FFFFFF",
          "xaxis": {
           "range": [
            0,
            "P0DT2H37M53.429S"
           ],
           "showline": true,
           "visible": true
          },
          "yaxis": {
           "showline": false,
           "visible": true
          }
         },
         "name": "16"
        },
        {
         "data": [
          {
           "cliponaxis": false,
           "hoverinfo": "all",
           "hovertemplate": "<extra></extra>",
           "marker": {
            "color": [
             "rgb(199, 224, 183)",
             "rgb(106, 130, 29)",
             "rgb(159, 103, 248)",
             "rgb(109, 22, 130)",
             "rgb(33, 40, 2)",
             "rgb(244, 79, 138)",
             "rgb(80, 16, 92)",
             "rgb(183, 107, 4)",
             "rgb(58, 48, 17)",
             "rgb(174, 43, 143)"
            ]
           },
           "orientation": "h",
           "textangle": 0,
           "textposition": "outside",
           "texttemplate": "%{y}<br>%{x:.4s}",
           "type": "bar",
           "x": [
            5387217000000,
            5389738000000,
            5394221000000,
            5394944000000,
            5395853000000,
            5397261000000,
            5399278000000,
            5400500000000,
            5404159000000,
            5406006000000
           ],
           "y": [
            "OCO",
            "GAS",
            "ALO",
            "STR",
            "VET",
            "MAG",
            "MSC",
            "LAT",
            "TSU",
            "ALB"
           ]
          }
         ],
         "layout": {
          "bargap": 0.15,
          "font": {
           "size": 14
          },
          "plot_bgcolor": "#FFFFFF",
          "xaxis": {
           "range": [
            0,
            "P0DT2H37M53.429S"
           ],
           "showline": true,
           "visible": true
          },
          "yaxis": {
           "showline": false,
           "visible": true
          }
         },
         "name": "17"
        },
        {
         "data": [
          {
           "cliponaxis": false,
           "hoverinfo": "all",
           "hovertemplate": "<extra></extra>",
           "marker": {
            "color": [
             "rgb(199, 224, 183)",
             "rgb(106, 130, 29)",
             "rgb(159, 103, 248)",
             "rgb(109, 22, 130)",
             "rgb(33, 40, 2)",
             "rgb(244, 79, 138)",
             "rgb(80, 16, 92)",
             "rgb(183, 107, 4)",
             "rgb(58, 48, 17)",
             "rgb(174, 43, 143)"
            ]
           },
           "orientation": "h",
           "textangle": 0,
           "textposition": "outside",
           "texttemplate": "%{y}<br>%{x:.4s}",
           "type": "bar",
           "x": [
            5482673000000,
            5484923000000,
            5489638000000,
            5490595000000,
            5491096000000,
            5491822000000,
            5494206000000,
            5497716000000,
            5500388000000,
            5501146000000
           ],
           "y": [
            "OCO",
            "GAS",
            "ALO",
            "STR",
            "VET",
            "MAG",
            "MSC",
            "LAT",
            "TSU",
            "ALB"
           ]
          }
         ],
         "layout": {
          "bargap": 0.15,
          "font": {
           "size": 14
          },
          "plot_bgcolor": "#FFFFFF",
          "xaxis": {
           "range": [
            0,
            "P0DT2H37M53.429S"
           ],
           "showline": true,
           "visible": true
          },
          "yaxis": {
           "showline": false,
           "visible": true
          }
         },
         "name": "18"
        },
        {
         "data": [
          {
           "cliponaxis": false,
           "hoverinfo": "all",
           "hovertemplate": "<extra></extra>",
           "marker": {
            "color": [
             "rgb(106, 130, 29)",
             "rgb(159, 103, 248)",
             "rgb(109, 22, 130)",
             "rgb(33, 40, 2)",
             "rgb(244, 79, 138)",
             "rgb(80, 16, 92)",
             "rgb(198, 101, 147)",
             "rgb(183, 107, 4)",
             "rgb(174, 43, 143)",
             "rgb(58, 48, 17)"
            ]
           },
           "orientation": "h",
           "textangle": 0,
           "textposition": "outside",
           "texttemplate": "%{y}<br>%{x:.4s}",
           "type": "bar",
           "x": [
            5579976000000,
            5584744000000,
            5585927000000,
            5587197000000,
            5587940000000,
            5589123000000,
            5590595000000,
            5594514000000,
            5596172000000,
            5597865000000
           ],
           "y": [
            "GAS",
            "ALO",
            "STR",
            "VET",
            "MAG",
            "MSC",
            "NOR",
            "LAT",
            "ALB",
            "TSU"
           ]
          }
         ],
         "layout": {
          "bargap": 0.15,
          "font": {
           "size": 14
          },
          "plot_bgcolor": "#FFFFFF",
          "xaxis": {
           "range": [
            0,
            "P0DT2H37M53.429S"
           ],
           "showline": true,
           "visible": true
          },
          "yaxis": {
           "showline": false,
           "visible": true
          }
         },
         "name": "19"
        },
        {
         "data": [
          {
           "cliponaxis": false,
           "hoverinfo": "all",
           "hovertemplate": "<extra></extra>",
           "marker": {
            "color": [
             "rgb(106, 130, 29)",
             "rgb(159, 103, 248)",
             "rgb(109, 22, 130)",
             "rgb(33, 40, 2)",
             "rgb(244, 79, 138)",
             "rgb(80, 16, 92)",
             "rgb(198, 101, 147)",
             "rgb(174, 43, 143)",
             "rgb(183, 107, 4)",
             "rgb(58, 48, 17)"
            ]
           },
           "orientation": "h",
           "textangle": 0,
           "textposition": "outside",
           "texttemplate": "%{y}<br>%{x:.4s}",
           "type": "bar",
           "x": [
            5675232000000,
            5679858000000,
            5681102000000,
            5682043000000,
            5683030000000,
            5684443000000,
            5686757000000,
            5691231000000,
            5692073000000,
            5693692000000
           ],
           "y": [
            "GAS",
            "ALO",
            "STR",
            "VET",
            "MAG",
            "MSC",
            "NOR",
            "ALB",
            "LAT",
            "TSU"
           ]
          }
         ],
         "layout": {
          "bargap": 0.15,
          "font": {
           "size": 14
          },
          "plot_bgcolor": "#FFFFFF",
          "xaxis": {
           "range": [
            0,
            "P0DT2H37M53.429S"
           ],
           "showline": true,
           "visible": true
          },
          "yaxis": {
           "showline": false,
           "visible": true
          }
         },
         "name": "20"
        },
        {
         "data": [
          {
           "cliponaxis": false,
           "hoverinfo": "all",
           "hovertemplate": "<extra></extra>",
           "marker": {
            "color": [
             "rgb(106, 130, 29)",
             "rgb(159, 103, 248)",
             "rgb(109, 22, 130)",
             "rgb(33, 40, 2)",
             "rgb(244, 79, 138)",
             "rgb(80, 16, 92)",
             "rgb(198, 101, 147)",
             "rgb(174, 43, 143)",
             "rgb(183, 107, 4)",
             "rgb(58, 48, 17)"
            ]
           },
           "orientation": "h",
           "textangle": 0,
           "textposition": "outside",
           "texttemplate": "%{y}<br>%{x:.4s}",
           "type": "bar",
           "x": [
            5770485000000,
            5774892000000,
            5776025000000,
            5776751000000,
            5777878000000,
            5779354000000,
            5781803000000,
            5786343000000,
            5788639000000,
            5790362000000
           ],
           "y": [
            "GAS",
            "ALO",
            "STR",
            "VET",
            "MAG",
            "MSC",
            "NOR",
            "ALB",
            "LAT",
            "TSU"
           ]
          }
         ],
         "layout": {
          "bargap": 0.15,
          "font": {
           "size": 14
          },
          "plot_bgcolor": "#FFFFFF",
          "xaxis": {
           "range": [
            0,
            "P0DT2H37M53.429S"
           ],
           "showline": true,
           "visible": true
          },
          "yaxis": {
           "showline": false,
           "visible": true
          }
         },
         "name": "21"
        },
        {
         "data": [
          {
           "cliponaxis": false,
           "hoverinfo": "all",
           "hovertemplate": "<extra></extra>",
           "marker": {
            "color": [
             "rgb(106, 130, 29)",
             "rgb(159, 103, 248)",
             "rgb(109, 22, 130)",
             "rgb(33, 40, 2)",
             "rgb(244, 79, 138)",
             "rgb(80, 16, 92)",
             "rgb(198, 101, 147)",
             "rgb(174, 43, 143)",
             "rgb(183, 107, 4)",
             "rgb(58, 48, 17)"
            ]
           },
           "orientation": "h",
           "textangle": 0,
           "textposition": "outside",
           "texttemplate": "%{y}<br>%{x:.4s}",
           "type": "bar",
           "x": [
            5865590000000,
            5870234000000,
            5871080000000,
            5871738000000,
            5872627000000,
            5874042000000,
            5876273000000,
            5881307000000,
            5885106000000,
            5885767000000
           ],
           "y": [
            "GAS",
            "ALO",
            "STR",
            "VET",
            "MAG",
            "MSC",
            "NOR",
            "ALB",
            "LAT",
            "TSU"
           ]
          }
         ],
         "layout": {
          "bargap": 0.15,
          "font": {
           "size": 14
          },
          "plot_bgcolor": "#FFFFFF",
          "xaxis": {
           "range": [
            0,
            "P0DT2H37M53.429S"
           ],
           "showline": true,
           "visible": true
          },
          "yaxis": {
           "showline": false,
           "visible": true
          }
         },
         "name": "22"
        },
        {
         "data": [
          {
           "cliponaxis": false,
           "hoverinfo": "all",
           "hovertemplate": "<extra></extra>",
           "marker": {
            "color": [
             "rgb(106, 130, 29)",
             "rgb(159, 103, 248)",
             "rgb(109, 22, 130)",
             "rgb(33, 40, 2)",
             "rgb(244, 79, 138)",
             "rgb(80, 16, 92)",
             "rgb(198, 101, 147)",
             "rgb(174, 43, 143)",
             "rgb(183, 107, 4)",
             "rgb(58, 48, 17)"
            ]
           },
           "orientation": "h",
           "textangle": 0,
           "textposition": "outside",
           "texttemplate": "%{y}<br>%{x:.4s}",
           "type": "bar",
           "x": [
            5960469000000,
            5965163000000,
            5965980000000,
            5966597000000,
            5967572000000,
            5969112000000,
            5971063000000,
            5976306000000,
            5981355000000,
            5982010000000
           ],
           "y": [
            "GAS",
            "ALO",
            "STR",
            "VET",
            "MAG",
            "MSC",
            "NOR",
            "ALB",
            "LAT",
            "TSU"
           ]
          }
         ],
         "layout": {
          "bargap": 0.15,
          "font": {
           "size": 14
          },
          "plot_bgcolor": "#FFFFFF",
          "xaxis": {
           "range": [
            0,
            "P0DT2H37M53.429S"
           ],
           "showline": true,
           "visible": true
          },
          "yaxis": {
           "showline": false,
           "visible": true
          }
         },
         "name": "23"
        },
        {
         "data": [
          {
           "cliponaxis": false,
           "hoverinfo": "all",
           "hovertemplate": "<extra></extra>",
           "marker": {
            "color": [
             "rgb(106, 130, 29)",
             "rgb(159, 103, 248)",
             "rgb(109, 22, 130)",
             "rgb(33, 40, 2)",
             "rgb(244, 79, 138)",
             "rgb(80, 16, 92)",
             "rgb(198, 101, 147)",
             "rgb(174, 43, 143)",
             "rgb(58, 48, 17)",
             "rgb(183, 107, 4)"
            ]
           },
           "orientation": "h",
           "textangle": 0,
           "textposition": "outside",
           "texttemplate": "%{y}<br>%{x:.4s}",
           "type": "bar",
           "x": [
            6057062000000,
            6060031000000,
            6060830000000,
            6061202000000,
            6062236000000,
            6063679000000,
            6066421000000,
            6071133000000,
            6078969000000,
            6079426000000
           ],
           "y": [
            "GAS",
            "ALO",
            "STR",
            "VET",
            "MAG",
            "MSC",
            "NOR",
            "ALB",
            "TSU",
            "LAT"
           ]
          }
         ],
         "layout": {
          "bargap": 0.15,
          "font": {
           "size": 14
          },
          "plot_bgcolor": "#FFFFFF",
          "xaxis": {
           "range": [
            0,
            "P0DT2H37M53.429S"
           ],
           "showline": true,
           "visible": true
          },
          "yaxis": {
           "showline": false,
           "visible": true
          }
         },
         "name": "24"
        },
        {
         "data": [
          {
           "cliponaxis": false,
           "hoverinfo": "all",
           "hovertemplate": "<extra></extra>",
           "marker": {
            "color": [
             "rgb(106, 130, 29)",
             "rgb(159, 103, 248)",
             "rgb(109, 22, 130)",
             "rgb(33, 40, 2)",
             "rgb(244, 79, 138)",
             "rgb(80, 16, 92)",
             "rgb(198, 101, 147)",
             "rgb(174, 43, 143)",
             "rgb(58, 48, 17)",
             "rgb(183, 107, 4)"
            ]
           },
           "orientation": "h",
           "textangle": 0,
           "textposition": "outside",
           "texttemplate": "%{y}<br>%{x:.4s}",
           "type": "bar",
           "x": [
            6152235000000,
            6155137000000,
            6156013000000,
            6156766000000,
            6157331000000,
            6158964000000,
            6161081000000,
            6165947000000,
            6174281000000,
            6175779000000
           ],
           "y": [
            "GAS",
            "ALO",
            "STR",
            "VET",
            "MAG",
            "MSC",
            "NOR",
            "ALB",
            "TSU",
            "LAT"
           ]
          }
         ],
         "layout": {
          "bargap": 0.15,
          "font": {
           "size": 14
          },
          "plot_bgcolor": "#FFFFFF",
          "xaxis": {
           "range": [
            0,
            "P0DT2H37M53.429S"
           ],
           "showline": true,
           "visible": true
          },
          "yaxis": {
           "showline": false,
           "visible": true
          }
         },
         "name": "25"
        },
        {
         "data": [
          {
           "cliponaxis": false,
           "hoverinfo": "all",
           "hovertemplate": "<extra></extra>",
           "marker": {
            "color": [
             "rgb(106, 130, 29)",
             "rgb(159, 103, 248)",
             "rgb(109, 22, 130)",
             "rgb(33, 40, 2)",
             "rgb(244, 79, 138)",
             "rgb(80, 16, 92)",
             "rgb(198, 101, 147)",
             "rgb(174, 43, 143)",
             "rgb(58, 48, 17)",
             "rgb(183, 107, 4)"
            ]
           },
           "orientation": "h",
           "textangle": 0,
           "textposition": "outside",
           "texttemplate": "%{y}<br>%{x:.4s}",
           "type": "bar",
           "x": [
            6246921000000,
            6250012000000,
            6250873000000,
            6251270000000,
            6252150000000,
            6253872000000,
            6256332000000,
            6260824000000,
            6269622000000,
            6271757000000
           ],
           "y": [
            "GAS",
            "ALO",
            "STR",
            "VET",
            "MAG",
            "MSC",
            "NOR",
            "ALB",
            "TSU",
            "LAT"
           ]
          }
         ],
         "layout": {
          "bargap": 0.15,
          "font": {
           "size": 14
          },
          "plot_bgcolor": "#FFFFFF",
          "xaxis": {
           "range": [
            0,
            "P0DT2H37M53.429S"
           ],
           "showline": true,
           "visible": true
          },
          "yaxis": {
           "showline": false,
           "visible": true
          }
         },
         "name": "26"
        },
        {
         "data": [
          {
           "cliponaxis": false,
           "hoverinfo": "all",
           "hovertemplate": "<extra></extra>",
           "marker": {
            "color": [
             "rgb(106, 130, 29)",
             "rgb(159, 103, 248)",
             "rgb(109, 22, 130)",
             "rgb(244, 79, 138)",
             "rgb(33, 40, 2)",
             "rgb(80, 16, 92)",
             "rgb(198, 101, 147)",
             "rgb(174, 43, 143)",
             "rgb(58, 48, 17)",
             "rgb(183, 107, 4)"
            ]
           },
           "orientation": "h",
           "textangle": 0,
           "textposition": "outside",
           "texttemplate": "%{y}<br>%{x:.4s}",
           "type": "bar",
           "x": [
            6341836000000,
            6344794000000,
            6345848000000,
            6346983000000,
            6347257000000,
            6348628000000,
            6351104000000,
            6356222000000,
            6364879000000,
            6368442000000
           ],
           "y": [
            "GAS",
            "ALO",
            "STR",
            "MAG",
            "VET",
            "MSC",
            "NOR",
            "ALB",
            "TSU",
            "LAT"
           ]
          }
         ],
         "layout": {
          "bargap": 0.15,
          "font": {
           "size": 14
          },
          "plot_bgcolor": "#FFFFFF",
          "xaxis": {
           "range": [
            0,
            "P0DT2H37M53.429S"
           ],
           "showline": true,
           "visible": true
          },
          "yaxis": {
           "showline": false,
           "visible": true
          }
         },
         "name": "27"
        },
        {
         "data": [
          {
           "cliponaxis": false,
           "hoverinfo": "all",
           "hovertemplate": "<extra></extra>",
           "marker": {
            "color": [
             "rgb(106, 130, 29)",
             "rgb(159, 103, 248)",
             "rgb(109, 22, 130)",
             "rgb(244, 79, 138)",
             "rgb(33, 40, 2)",
             "rgb(80, 16, 92)",
             "rgb(198, 101, 147)",
             "rgb(174, 43, 143)",
             "rgb(58, 48, 17)",
             "rgb(183, 107, 4)"
            ]
           },
           "orientation": "h",
           "textangle": 0,
           "textposition": "outside",
           "texttemplate": "%{y}<br>%{x:.4s}",
           "type": "bar",
           "x": [
            6436800000000,
            6439850000000,
            6440676000000,
            6442007000000,
            6442343000000,
            6443199000000,
            6445704000000,
            6450870000000,
            6460169000000,
            6463698000000
           ],
           "y": [
            "GAS",
            "ALO",
            "STR",
            "MAG",
            "VET",
            "MSC",
            "NOR",
            "ALB",
            "TSU",
            "LAT"
           ]
          }
         ],
         "layout": {
          "bargap": 0.15,
          "font": {
           "size": 14
          },
          "plot_bgcolor": "#FFFFFF",
          "xaxis": {
           "range": [
            0,
            "P0DT2H37M53.429S"
           ],
           "showline": true,
           "visible": true
          },
          "yaxis": {
           "showline": false,
           "visible": true
          }
         },
         "name": "28"
        },
        {
         "data": [
          {
           "cliponaxis": false,
           "hoverinfo": "all",
           "hovertemplate": "<extra></extra>",
           "marker": {
            "color": [
             "rgb(106, 130, 29)",
             "rgb(159, 103, 248)",
             "rgb(109, 22, 130)",
             "rgb(244, 79, 138)",
             "rgb(33, 40, 2)",
             "rgb(80, 16, 92)",
             "rgb(198, 101, 147)",
             "rgb(174, 43, 143)",
             "rgb(58, 48, 17)",
             "rgb(183, 107, 4)"
            ]
           },
           "orientation": "h",
           "textangle": 0,
           "textposition": "outside",
           "texttemplate": "%{y}<br>%{x:.4s}",
           "type": "bar",
           "x": [
            6531783000000,
            6534735000000,
            6535368000000,
            6536275000000,
            6536791000000,
            6537886000000,
            6540514000000,
            6547251000000,
            6555519000000,
            6559208000000
           ],
           "y": [
            "GAS",
            "ALO",
            "STR",
            "MAG",
            "VET",
            "MSC",
            "NOR",
            "ALB",
            "TSU",
            "LAT"
           ]
          }
         ],
         "layout": {
          "bargap": 0.15,
          "font": {
           "size": 14
          },
          "plot_bgcolor": "#FFFFFF",
          "xaxis": {
           "range": [
            0,
            "P0DT2H37M53.429S"
           ],
           "showline": true,
           "visible": true
          },
          "yaxis": {
           "showline": false,
           "visible": true
          }
         },
         "name": "29"
        },
        {
         "data": [
          {
           "cliponaxis": false,
           "hoverinfo": "all",
           "hovertemplate": "<extra></extra>",
           "marker": {
            "color": [
             "rgb(11, 90, 253)",
             "rgb(159, 103, 248)",
             "rgb(109, 22, 130)",
             "rgb(33, 40, 2)",
             "rgb(244, 79, 138)",
             "rgb(80, 16, 92)",
             "rgb(198, 101, 147)",
             "rgb(174, 43, 143)",
             "rgb(58, 48, 17)",
             "rgb(183, 107, 4)"
            ]
           },
           "orientation": "h",
           "textangle": 0,
           "textposition": "outside",
           "texttemplate": "%{y}<br>%{x:.4s}",
           "type": "bar",
           "x": [
            6627759000000,
            6629557000000,
            6630801000000,
            6632079000000,
            6632378000000,
            6632709000000,
            6634941000000,
            6642101000000,
            6651248000000,
            6654619000000
           ],
           "y": [
            "RIC",
            "ALO",
            "STR",
            "VET",
            "MAG",
            "MSC",
            "NOR",
            "ALB",
            "TSU",
            "LAT"
           ]
          }
         ],
         "layout": {
          "bargap": 0.15,
          "font": {
           "size": 14
          },
          "plot_bgcolor": "#FFFFFF",
          "xaxis": {
           "range": [
            0,
            "P0DT2H37M53.429S"
           ],
           "showline": true,
           "visible": true
          },
          "yaxis": {
           "showline": false,
           "visible": true
          }
         },
         "name": "30"
        },
        {
         "data": [
          {
           "cliponaxis": false,
           "hoverinfo": "all",
           "hovertemplate": "<extra></extra>",
           "marker": {
            "color": [
             "rgb(159, 103, 248)",
             "rgb(109, 22, 130)",
             "rgb(244, 79, 138)",
             "rgb(80, 16, 92)",
             "rgb(33, 40, 2)",
             "rgb(198, 101, 147)",
             "rgb(174, 43, 143)",
             "rgb(11, 90, 253)",
             "rgb(58, 48, 17)",
             "rgb(183, 107, 4)"
            ]
           },
           "orientation": "h",
           "textangle": 0,
           "textposition": "outside",
           "texttemplate": "%{y}<br>%{x:.4s}",
           "type": "bar",
           "x": [
            6724370000000,
            6725394000000,
            6728761000000,
            6729072000000,
            6729464000000,
            6730004000000,
            6737139000000,
            6739646000000,
            6746343000000,
            6750883000000
           ],
           "y": [
            "ALO",
            "STR",
            "MAG",
            "MSC",
            "VET",
            "NOR",
            "ALB",
            "RIC",
            "TSU",
            "LAT"
           ]
          }
         ],
         "layout": {
          "bargap": 0.15,
          "font": {
           "size": 14
          },
          "plot_bgcolor": "#FFFFFF",
          "xaxis": {
           "range": [
            0,
            "P0DT2H37M53.429S"
           ],
           "showline": true,
           "visible": true
          },
          "yaxis": {
           "showline": false,
           "visible": true
          }
         },
         "name": "31"
        },
        {
         "data": [
          {
           "cliponaxis": false,
           "hoverinfo": "all",
           "hovertemplate": "<extra></extra>",
           "marker": {
            "color": [
             "rgb(159, 103, 248)",
             "rgb(109, 22, 130)",
             "rgb(244, 79, 138)",
             "rgb(80, 16, 92)",
             "rgb(33, 40, 2)",
             "rgb(198, 101, 147)",
             "rgb(174, 43, 143)",
             "rgb(11, 90, 253)",
             "rgb(58, 48, 17)",
             "rgb(183, 107, 4)"
            ]
           },
           "orientation": "h",
           "textangle": 0,
           "textposition": "outside",
           "texttemplate": "%{y}<br>%{x:.4s}",
           "type": "bar",
           "x": [
            6818772000000,
            6820117000000,
            6824141000000,
            6824715000000,
            6825188000000,
            6825601000000,
            6832016000000,
            6834993000000,
            6841183000000,
            6846392000000
           ],
           "y": [
            "ALO",
            "STR",
            "MAG",
            "MSC",
            "VET",
            "NOR",
            "ALB",
            "RIC",
            "TSU",
            "LAT"
           ]
          }
         ],
         "layout": {
          "bargap": 0.15,
          "font": {
           "size": 14
          },
          "plot_bgcolor": "#FFFFFF",
          "xaxis": {
           "range": [
            0,
            "P0DT2H37M53.429S"
           ],
           "showline": true,
           "visible": true
          },
          "yaxis": {
           "showline": false,
           "visible": true
          }
         },
         "name": "32"
        },
        {
         "data": [
          {
           "cliponaxis": false,
           "hoverinfo": "all",
           "hovertemplate": "<extra></extra>",
           "marker": {
            "color": [
             "rgb(159, 103, 248)",
             "rgb(109, 22, 130)",
             "rgb(244, 79, 138)",
             "rgb(80, 16, 92)",
             "rgb(33, 40, 2)",
             "rgb(198, 101, 147)",
             "rgb(174, 43, 143)",
             "rgb(11, 90, 253)",
             "rgb(58, 48, 17)",
             "rgb(183, 107, 4)"
            ]
           },
           "orientation": "h",
           "textangle": 0,
           "textposition": "outside",
           "texttemplate": "%{y}<br>%{x:.4s}",
           "type": "bar",
           "x": [
            6913556000000,
            6914692000000,
            6919035000000,
            6919785000000,
            6920023000000,
            6920766000000,
            6926515000000,
            6929940000000,
            6935715000000,
            6941810000000
           ],
           "y": [
            "ALO",
            "STR",
            "MAG",
            "MSC",
            "VET",
            "NOR",
            "ALB",
            "RIC",
            "TSU",
            "LAT"
           ]
          }
         ],
         "layout": {
          "bargap": 0.15,
          "font": {
           "size": 14
          },
          "plot_bgcolor": "#FFFFFF",
          "xaxis": {
           "range": [
            0,
            "P0DT2H37M53.429S"
           ],
           "showline": true,
           "visible": true
          },
          "yaxis": {
           "showline": false,
           "visible": true
          }
         },
         "name": "33"
        },
        {
         "data": [
          {
           "cliponaxis": false,
           "hoverinfo": "all",
           "hovertemplate": "<extra></extra>",
           "marker": {
            "color": [
             "rgb(159, 103, 248)",
             "rgb(109, 22, 130)",
             "rgb(80, 16, 92)",
             "rgb(244, 79, 138)",
             "rgb(33, 40, 2)",
             "rgb(198, 101, 147)",
             "rgb(174, 43, 143)",
             "rgb(11, 90, 253)",
             "rgb(58, 48, 17)",
             "rgb(183, 107, 4)"
            ]
           },
           "orientation": "h",
           "textangle": 0,
           "textposition": "outside",
           "texttemplate": "%{y}<br>%{x:.4s}",
           "type": "bar",
           "x": [
            7007798000000,
            7009190000000,
            7013980000000,
            7014221000000,
            7014495000000,
            7015075000000,
            7021137000000,
            7025021000000,
            7030459000000,
            7042699000000
           ],
           "y": [
            "ALO",
            "STR",
            "MSC",
            "MAG",
            "VET",
            "NOR",
            "ALB",
            "RIC",
            "TSU",
            "LAT"
           ]
          }
         ],
         "layout": {
          "bargap": 0.15,
          "font": {
           "size": 14
          },
          "plot_bgcolor": "#FFFFFF",
          "xaxis": {
           "range": [
            0,
            "P0DT2H37M53.429S"
           ],
           "showline": true,
           "visible": true
          },
          "yaxis": {
           "showline": false,
           "visible": true
          }
         },
         "name": "34"
        },
        {
         "data": [
          {
           "cliponaxis": false,
           "hoverinfo": "all",
           "hovertemplate": "<extra></extra>",
           "marker": {
            "color": [
             "rgb(159, 103, 248)",
             "rgb(109, 22, 130)",
             "rgb(80, 16, 92)",
             "rgb(244, 79, 138)",
             "rgb(198, 101, 147)",
             "rgb(33, 40, 2)",
             "rgb(174, 43, 143)",
             "rgb(11, 90, 253)",
             "rgb(58, 48, 17)",
             "rgb(183, 107, 4)"
            ]
           },
           "orientation": "h",
           "textangle": 0,
           "textposition": "outside",
           "texttemplate": "%{y}<br>%{x:.4s}",
           "type": "bar",
           "x": [
            7102117000000,
            7103847000000,
            7108406000000,
            7109174000000,
            7110247000000,
            7111870000000,
            7115501000000,
            7119733000000,
            7124873000000,
            7156700000000
           ],
           "y": [
            "ALO",
            "STR",
            "MSC",
            "MAG",
            "NOR",
            "VET",
            "ALB",
            "RIC",
            "TSU",
            "LAT"
           ]
          }
         ],
         "layout": {
          "bargap": 0.15,
          "font": {
           "size": 14
          },
          "plot_bgcolor": "#FFFFFF",
          "xaxis": {
           "range": [
            0,
            "P0DT2H37M53.429S"
           ],
           "showline": true,
           "visible": true
          },
          "yaxis": {
           "showline": false,
           "visible": true
          }
         },
         "name": "35"
        },
        {
         "data": [
          {
           "cliponaxis": false,
           "hoverinfo": "all",
           "hovertemplate": "<extra></extra>",
           "marker": {
            "color": [
             "rgb(159, 103, 248)",
             "rgb(109, 22, 130)",
             "rgb(80, 16, 92)",
             "rgb(244, 79, 138)",
             "rgb(198, 101, 147)",
             "rgb(33, 40, 2)",
             "rgb(174, 43, 143)",
             "rgb(11, 90, 253)",
             "rgb(58, 48, 17)",
             "rgb(183, 107, 4)"
            ]
           },
           "orientation": "h",
           "textangle": 0,
           "textposition": "outside",
           "texttemplate": "%{y}<br>%{x:.4s}",
           "type": "bar",
           "x": [
            7196435000000,
            7198578000000,
            7202350000000,
            7203098000000,
            7203815000000,
            7205841000000,
            7209563000000,
            7213967000000,
            7218957000000,
            7255102000000
           ],
           "y": [
            "ALO",
            "STR",
            "MSC",
            "MAG",
            "NOR",
            "VET",
            "ALB",
            "RIC",
            "TSU",
            "LAT"
           ]
          }
         ],
         "layout": {
          "bargap": 0.15,
          "font": {
           "size": 14
          },
          "plot_bgcolor": "#FFFFFF",
          "xaxis": {
           "range": [
            0,
            "P0DT2H37M53.429S"
           ],
           "showline": true,
           "visible": true
          },
          "yaxis": {
           "showline": false,
           "visible": true
          }
         },
         "name": "36"
        },
        {
         "data": [
          {
           "cliponaxis": false,
           "hoverinfo": "all",
           "hovertemplate": "<extra></extra>",
           "marker": {
            "color": [
             "rgb(159, 103, 248)",
             "rgb(109, 22, 130)",
             "rgb(80, 16, 92)",
             "rgb(244, 79, 138)",
             "rgb(198, 101, 147)",
             "rgb(33, 40, 2)",
             "rgb(174, 43, 143)",
             "rgb(11, 90, 253)",
             "rgb(58, 48, 17)",
             "rgb(183, 107, 4)"
            ]
           },
           "orientation": "h",
           "textangle": 0,
           "textposition": "outside",
           "texttemplate": "%{y}<br>%{x:.4s}",
           "type": "bar",
           "x": [
            7290562000000,
            7292642000000,
            7296024000000,
            7296872000000,
            7297234000000,
            7299978000000,
            7303256000000,
            7308092000000,
            7312996000000,
            7350509000000
           ],
           "y": [
            "ALO",
            "STR",
            "MSC",
            "MAG",
            "NOR",
            "VET",
            "ALB",
            "RIC",
            "TSU",
            "LAT"
           ]
          }
         ],
         "layout": {
          "bargap": 0.15,
          "font": {
           "size": 14
          },
          "plot_bgcolor": "#FFFFFF",
          "xaxis": {
           "range": [
            0,
            "P0DT2H37M53.429S"
           ],
           "showline": true,
           "visible": true
          },
          "yaxis": {
           "showline": false,
           "visible": true
          }
         },
         "name": "37"
        },
        {
         "data": [
          {
           "cliponaxis": false,
           "hoverinfo": "all",
           "hovertemplate": "<extra></extra>",
           "marker": {
            "color": [
             "rgb(159, 103, 248)",
             "rgb(109, 22, 130)",
             "rgb(80, 16, 92)",
             "rgb(244, 79, 138)",
             "rgb(198, 101, 147)",
             "rgb(33, 40, 2)",
             "rgb(174, 43, 143)",
             "rgb(11, 90, 253)",
             "rgb(58, 48, 17)",
             "rgb(183, 107, 4)"
            ]
           },
           "orientation": "h",
           "textangle": 0,
           "textposition": "outside",
           "texttemplate": "%{y}<br>%{x:.4s}",
           "type": "bar",
           "x": [
            7384688000000,
            7386932000000,
            7390038000000,
            7390619000000,
            7391143000000,
            7393922000000,
            7397165000000,
            7402648000000,
            7409175000000,
            7445673000000
           ],
           "y": [
            "ALO",
            "STR",
            "MSC",
            "MAG",
            "NOR",
            "VET",
            "ALB",
            "RIC",
            "TSU",
            "LAT"
           ]
          }
         ],
         "layout": {
          "bargap": 0.15,
          "font": {
           "size": 14
          },
          "plot_bgcolor": "#FFFFFF",
          "xaxis": {
           "range": [
            0,
            "P0DT2H37M53.429S"
           ],
           "showline": true,
           "visible": true
          },
          "yaxis": {
           "showline": false,
           "visible": true
          }
         },
         "name": "38"
        },
        {
         "data": [
          {
           "cliponaxis": false,
           "hoverinfo": "all",
           "hovertemplate": "<extra></extra>",
           "marker": {
            "color": [
             "rgb(109, 22, 130)",
             "rgb(106, 130, 29)",
             "rgb(80, 16, 92)",
             "rgb(244, 79, 138)",
             "rgb(198, 101, 147)",
             "rgb(33, 40, 2)",
             "rgb(174, 43, 143)",
             "rgb(11, 90, 253)",
             "rgb(58, 48, 17)",
             "rgb(183, 107, 4)"
            ]
           },
           "orientation": "h",
           "textangle": 0,
           "textposition": "outside",
           "texttemplate": "%{y}<br>%{x:.4s}",
           "type": "bar",
           "x": [
            7481555000000,
            7482738000000,
            7484035000000,
            7485046000000,
            7485333000000,
            7487518000000,
            7490871000000,
            7496597000000,
            7503407000000,
            7544186000000
           ],
           "y": [
            "STR",
            "GAS",
            "MSC",
            "MAG",
            "NOR",
            "VET",
            "ALB",
            "RIC",
            "TSU",
            "LAT"
           ]
          }
         ],
         "layout": {
          "bargap": 0.15,
          "font": {
           "size": 14
          },
          "plot_bgcolor": "#FFFFFF",
          "xaxis": {
           "range": [
            0,
            "P0DT2H37M53.429S"
           ],
           "showline": true,
           "visible": true
          },
          "yaxis": {
           "showline": false,
           "visible": true
          }
         },
         "name": "39"
        },
        {
         "data": [
          {
           "cliponaxis": false,
           "hoverinfo": "all",
           "hovertemplate": "<extra></extra>",
           "marker": {
            "color": [
             "rgb(159, 103, 248)",
             "rgb(80, 16, 92)",
             "rgb(109, 22, 130)",
             "rgb(244, 79, 138)",
             "rgb(33, 40, 2)",
             "rgb(174, 43, 143)",
             "rgb(106, 130, 29)",
             "rgb(11, 90, 253)",
             "rgb(58, 48, 17)",
             "rgb(183, 107, 4)"
            ]
           },
           "orientation": "h",
           "textangle": 0,
           "textposition": "outside",
           "texttemplate": "%{y}<br>%{x:.4s}",
           "type": "bar",
           "x": [
            7585853000000,
            7590517000000,
            7591001000000,
            7591988000000,
            7599620000000,
            7601831000000,
            7606265000000,
            7607102000000,
            7615832000000,
            7663225000000
           ],
           "y": [
            "ALO",
            "MSC",
            "STR",
            "MAG",
            "VET",
            "ALB",
            "GAS",
            "RIC",
            "TSU",
            "LAT"
           ]
          }
         ],
         "layout": {
          "bargap": 0.15,
          "font": {
           "size": 14
          },
          "plot_bgcolor": "#FFFFFF",
          "xaxis": {
           "range": [
            0,
            "P0DT2H37M53.429S"
           ],
           "showline": true,
           "visible": true
          },
          "yaxis": {
           "showline": false,
           "visible": true
          }
         },
         "name": "40"
        },
        {
         "data": [
          {
           "cliponaxis": false,
           "hoverinfo": "all",
           "hovertemplate": "<extra></extra>",
           "marker": {
            "color": [
             "rgb(159, 103, 248)",
             "rgb(80, 16, 92)",
             "rgb(244, 79, 138)",
             "rgb(174, 43, 143)",
             "rgb(109, 22, 130)",
             "rgb(33, 40, 2)",
             "rgb(11, 90, 253)",
             "rgb(106, 130, 29)",
             "rgb(58, 48, 17)",
             "rgb(183, 107, 4)"
            ]
           },
           "orientation": "h",
           "textangle": 0,
           "textposition": "outside",
           "texttemplate": "%{y}<br>%{x:.4s}",
           "type": "bar",
           "x": [
            7705109000000,
            7713311000000,
            7715979000000,
            7721606000000,
            7722777000000,
            7725160000000,
            7731946000000,
            7783920000000,
            7785972000000,
            7788824000000
           ],
           "y": [
            "ALO",
            "MSC",
            "MAG",
            "ALB",
            "STR",
            "VET",
            "RIC",
            "GAS",
            "TSU",
            "LAT"
           ]
          }
         ],
         "layout": {
          "bargap": 0.15,
          "font": {
           "size": 14
          },
          "plot_bgcolor": "#FFFFFF",
          "xaxis": {
           "range": [
            0,
            "P0DT2H37M53.429S"
           ],
           "showline": true,
           "visible": true
          },
          "yaxis": {
           "showline": false,
           "visible": true
          }
         },
         "name": "41"
        },
        {
         "data": [
          {
           "cliponaxis": false,
           "hoverinfo": "all",
           "hovertemplate": "<extra></extra>",
           "marker": {
            "color": [
             "rgb(80, 16, 92)",
             "rgb(199, 224, 183)",
             "rgb(244, 79, 138)",
             "rgb(174, 43, 143)",
             "rgb(109, 22, 130)",
             "rgb(33, 40, 2)",
             "rgb(11, 90, 253)",
             "rgb(106, 130, 29)",
             "rgb(183, 107, 4)",
             "rgb(58, 48, 17)"
            ]
           },
           "orientation": "h",
           "textangle": 0,
           "textposition": "outside",
           "texttemplate": "%{y}<br>%{x:.4s}",
           "type": "bar",
           "x": [
            7830556000000,
            7835572000000,
            7836962000000,
            7843116000000,
            7844239000000,
            7858154000000,
            7863576000000,
            7944892000000,
            7951047000000,
            7957402000000
           ],
           "y": [
            "MSC",
            "OCO",
            "MAG",
            "ALB",
            "STR",
            "VET",
            "RIC",
            "GAS",
            "LAT",
            "TSU"
           ]
          }
         ],
         "layout": {
          "bargap": 0.15,
          "font": {
           "size": 14
          },
          "plot_bgcolor": "#FFFFFF",
          "xaxis": {
           "range": [
            0,
            "P0DT2H37M53.429S"
           ],
           "showline": true,
           "visible": true
          },
          "yaxis": {
           "showline": false,
           "visible": true
          }
         },
         "name": "42"
        },
        {
         "data": [
          {
           "cliponaxis": false,
           "hoverinfo": "all",
           "hovertemplate": "<extra></extra>",
           "marker": {
            "color": [
             "rgb(80, 16, 92)",
             "rgb(199, 224, 183)",
             "rgb(174, 43, 143)",
             "rgb(109, 22, 130)",
             "rgb(244, 79, 138)",
             "rgb(33, 40, 2)",
             "rgb(11, 90, 253)",
             "rgb(106, 130, 29)",
             "rgb(183, 107, 4)",
             "rgb(58, 48, 17)"
            ]
           },
           "orientation": "h",
           "textangle": 0,
           "textposition": "outside",
           "texttemplate": "%{y}<br>%{x:.4s}",
           "type": "bar",
           "x": [
            7962053000000,
            7963201000000,
            7964403000000,
            7965315000000,
            7965946000000,
            7971297000000,
            7972243000000,
            8094998000000,
            8101450000000,
            8109674000000
           ],
           "y": [
            "MSC",
            "OCO",
            "ALB",
            "STR",
            "MAG",
            "VET",
            "RIC",
            "GAS",
            "LAT",
            "TSU"
           ]
          }
         ],
         "layout": {
          "bargap": 0.15,
          "font": {
           "size": 14
          },
          "plot_bgcolor": "#FFFFFF",
          "xaxis": {
           "range": [
            0,
            "P0DT2H37M53.429S"
           ],
           "showline": true,
           "visible": true
          },
          "yaxis": {
           "showline": false,
           "visible": true
          }
         },
         "name": "43"
        },
        {
         "data": [
          {
           "cliponaxis": false,
           "hoverinfo": "all",
           "hovertemplate": "<extra></extra>",
           "marker": {
            "color": [
             "rgb(80, 16, 92)",
             "rgb(199, 224, 183)",
             "rgb(174, 43, 143)",
             "rgb(109, 22, 130)",
             "rgb(244, 79, 138)",
             "rgb(33, 40, 2)",
             "rgb(11, 90, 253)",
             "rgb(106, 130, 29)",
             "rgb(183, 107, 4)",
             "rgb(58, 48, 17)"
            ]
           },
           "orientation": "h",
           "textangle": 0,
           "textposition": "outside",
           "texttemplate": "%{y}<br>%{x:.4s}",
           "type": "bar",
           "x": [
            8114074000000,
            8115368000000,
            8117070000000,
            8118132000000,
            8118979000000,
            8121516000000,
            8124593000000,
            8209708000000,
            8210523000000,
            8217549000000
           ],
           "y": [
            "MSC",
            "OCO",
            "ALB",
            "STR",
            "MAG",
            "VET",
            "RIC",
            "GAS",
            "LAT",
            "TSU"
           ]
          }
         ],
         "layout": {
          "bargap": 0.15,
          "font": {
           "size": 14
          },
          "plot_bgcolor": "#FFFFFF",
          "xaxis": {
           "range": [
            0,
            "P0DT2H37M53.429S"
           ],
           "showline": true,
           "visible": true
          },
          "yaxis": {
           "showline": false,
           "visible": true
          }
         },
         "name": "44"
        },
        {
         "data": [
          {
           "cliponaxis": false,
           "hoverinfo": "all",
           "hovertemplate": "<extra></extra>",
           "marker": {
            "color": [
             "rgb(80, 16, 92)",
             "rgb(199, 224, 183)",
             "rgb(174, 43, 143)",
             "rgb(109, 22, 130)",
             "rgb(244, 79, 138)",
             "rgb(33, 40, 2)",
             "rgb(11, 90, 253)",
             "rgb(183, 107, 4)",
             "rgb(58, 48, 17)",
             "rgb(106, 130, 29)"
            ]
           },
           "orientation": "h",
           "textangle": 0,
           "textposition": "outside",
           "texttemplate": "%{y}<br>%{x:.4s}",
           "type": "bar",
           "x": [
            8247057000000,
            8248283000000,
            8249452000000,
            8250976000000,
            8252627000000,
            8255411000000,
            8257264000000,
            8312135000000,
            8312878000000,
            8322670000000
           ],
           "y": [
            "MSC",
            "OCO",
            "ALB",
            "STR",
            "MAG",
            "VET",
            "RIC",
            "LAT",
            "TSU",
            "GAS"
           ]
          }
         ],
         "layout": {
          "bargap": 0.15,
          "font": {
           "size": 14
          },
          "plot_bgcolor": "#FFFFFF",
          "xaxis": {
           "range": [
            0,
            "P0DT2H37M53.429S"
           ],
           "showline": true,
           "visible": true
          },
          "yaxis": {
           "showline": false,
           "visible": true
          }
         },
         "name": "45"
        },
        {
         "data": [
          {
           "cliponaxis": false,
           "hoverinfo": "all",
           "hovertemplate": "<extra></extra>",
           "marker": {
            "color": [
             "rgb(159, 103, 248)",
             "rgb(80, 16, 92)",
             "rgb(199, 224, 183)",
             "rgb(174, 43, 143)",
             "rgb(109, 22, 130)",
             "rgb(244, 79, 138)",
             "rgb(33, 40, 2)",
             "rgb(11, 90, 253)",
             "rgb(183, 107, 4)",
             "rgb(58, 48, 17)"
            ]
           },
           "orientation": "h",
           "textangle": 0,
           "textposition": "outside",
           "texttemplate": "%{y}<br>%{x:.4s}",
           "type": "bar",
           "x": [
            8391676000000,
            8392449000000,
            8392802000000,
            8393247000000,
            8393790000000,
            8393960000000,
            8394557000000,
            8395246000000,
            8407934000000,
            8408520000000
           ],
           "y": [
            "ALO",
            "MSC",
            "OCO",
            "ALB",
            "STR",
            "MAG",
            "VET",
            "RIC",
            "LAT",
            "TSU"
           ]
          }
         ],
         "layout": {
          "bargap": 0.15,
          "font": {
           "size": 14
          },
          "plot_bgcolor": "#FFFFFF",
          "xaxis": {
           "range": [
            0,
            "P0DT2H37M53.429S"
           ],
           "showline": true,
           "visible": true
          },
          "yaxis": {
           "showline": false,
           "visible": true
          }
         },
         "name": "46"
        },
        {
         "data": [
          {
           "cliponaxis": false,
           "hoverinfo": "all",
           "hovertemplate": "<extra></extra>",
           "marker": {
            "color": [
             "rgb(159, 103, 248)",
             "rgb(80, 16, 92)",
             "rgb(199, 224, 183)",
             "rgb(174, 43, 143)",
             "rgb(33, 40, 2)",
             "rgb(11, 90, 253)",
             "rgb(244, 79, 138)",
             "rgb(109, 22, 130)",
             "rgb(183, 107, 4)",
             "rgb(58, 48, 17)"
            ]
           },
           "orientation": "h",
           "textangle": 0,
           "textposition": "outside",
           "texttemplate": "%{y}<br>%{x:.4s}",
           "type": "bar",
           "x": [
            8487915000000,
            8489044000000,
            8489478000000,
            8489998000000,
            8490501000000,
            8491007000000,
            8491446000000,
            8493572000000,
            8502509000000,
            8503107000000
           ],
           "y": [
            "ALO",
            "MSC",
            "OCO",
            "ALB",
            "VET",
            "RIC",
            "MAG",
            "STR",
            "LAT",
            "TSU"
           ]
          }
         ],
         "layout": {
          "bargap": 0.15,
          "font": {
           "size": 14
          },
          "plot_bgcolor": "#FFFFFF",
          "xaxis": {
           "range": [
            0,
            "P0DT2H37M53.429S"
           ],
           "showline": true,
           "visible": true
          },
          "yaxis": {
           "showline": false,
           "visible": true
          }
         },
         "name": "47"
        },
        {
         "data": [
          {
           "cliponaxis": false,
           "hoverinfo": "all",
           "hovertemplate": "<extra></extra>",
           "marker": {
            "color": [
             "rgb(159, 103, 248)",
             "rgb(80, 16, 92)",
             "rgb(199, 224, 183)",
             "rgb(174, 43, 143)",
             "rgb(33, 40, 2)",
             "rgb(11, 90, 253)",
             "rgb(244, 79, 138)",
             "rgb(109, 22, 130)",
             "rgb(183, 107, 4)",
             "rgb(58, 48, 17)"
            ]
           },
           "orientation": "h",
           "textangle": 0,
           "textposition": "outside",
           "texttemplate": "%{y}<br>%{x:.4s}",
           "type": "bar",
           "x": [
            8582277000000,
            8583418000000,
            8583915000000,
            8584957000000,
            8585438000000,
            8586629000000,
            8587111000000,
            8588171000000,
            8596836000000,
            8597383000000
           ],
           "y": [
            "ALO",
            "MSC",
            "OCO",
            "ALB",
            "VET",
            "RIC",
            "MAG",
            "STR",
            "LAT",
            "TSU"
           ]
          }
         ],
         "layout": {
          "bargap": 0.15,
          "font": {
           "size": 14
          },
          "plot_bgcolor": "#FFFFFF",
          "xaxis": {
           "range": [
            0,
            "P0DT2H37M53.429S"
           ],
           "showline": true,
           "visible": true
          },
          "yaxis": {
           "showline": false,
           "visible": true
          }
         },
         "name": "48"
        },
        {
         "data": [
          {
           "cliponaxis": false,
           "hoverinfo": "all",
           "hovertemplate": "<extra></extra>",
           "marker": {
            "color": [
             "rgb(159, 103, 248)",
             "rgb(80, 16, 92)",
             "rgb(199, 224, 183)",
             "rgb(33, 40, 2)",
             "rgb(174, 43, 143)",
             "rgb(11, 90, 253)",
             "rgb(109, 22, 130)",
             "rgb(244, 79, 138)",
             "rgb(58, 48, 17)",
             "rgb(183, 107, 4)"
            ]
           },
           "orientation": "h",
           "textangle": 0,
           "textposition": "outside",
           "texttemplate": "%{y}<br>%{x:.4s}",
           "type": "bar",
           "x": [
            8676237000000,
            8677259000000,
            8677619000000,
            8679224000000,
            8680715000000,
            8681097000000,
            8681925000000,
            8682112000000,
            8691171000000,
            8692110000000
           ],
           "y": [
            "ALO",
            "MSC",
            "OCO",
            "VET",
            "ALB",
            "RIC",
            "STR",
            "MAG",
            "TSU",
            "LAT"
           ]
          }
         ],
         "layout": {
          "bargap": 0.15,
          "font": {
           "size": 14
          },
          "plot_bgcolor": "#FFFFFF",
          "xaxis": {
           "range": [
            0,
            "P0DT2H37M53.429S"
           ],
           "showline": true,
           "visible": true
          },
          "yaxis": {
           "showline": false,
           "visible": true
          }
         },
         "name": "49"
        },
        {
         "data": [
          {
           "cliponaxis": false,
           "hoverinfo": "all",
           "hovertemplate": "<extra></extra>",
           "marker": {
            "color": [
             "rgb(159, 103, 248)",
             "rgb(80, 16, 92)",
             "rgb(199, 224, 183)",
             "rgb(33, 40, 2)",
             "rgb(174, 43, 143)",
             "rgb(11, 90, 253)",
             "rgb(244, 79, 138)",
             "rgb(109, 22, 130)",
             "rgb(58, 48, 17)",
             "rgb(183, 107, 4)"
            ]
           },
           "orientation": "h",
           "textangle": 0,
           "textposition": "outside",
           "texttemplate": "%{y}<br>%{x:.4s}",
           "type": "bar",
           "x": [
            8770968000000,
            8771459000000,
            8771991000000,
            8772703000000,
            8775165000000,
            8775952000000,
            8776539000000,
            8777150000000,
            8784622000000,
            8787093000000
           ],
           "y": [
            "ALO",
            "MSC",
            "OCO",
            "VET",
            "ALB",
            "RIC",
            "MAG",
            "STR",
            "TSU",
            "LAT"
           ]
          }
         ],
         "layout": {
          "bargap": 0.15,
          "font": {
           "size": 14
          },
          "plot_bgcolor": "#FFFFFF",
          "xaxis": {
           "range": [
            0,
            "P0DT2H37M53.429S"
           ],
           "showline": true,
           "visible": true
          },
          "yaxis": {
           "showline": false,
           "visible": true
          }
         },
         "name": "50"
        },
        {
         "data": [
          {
           "cliponaxis": false,
           "hoverinfo": "all",
           "hovertemplate": "<extra></extra>",
           "marker": {
            "color": [
             "rgb(159, 103, 248)",
             "rgb(80, 16, 92)",
             "rgb(199, 224, 183)",
             "rgb(33, 40, 2)",
             "rgb(174, 43, 143)",
             "rgb(11, 90, 253)",
             "rgb(244, 79, 138)",
             "rgb(109, 22, 130)",
             "rgb(58, 48, 17)",
             "rgb(183, 107, 4)"
            ]
           },
           "orientation": "h",
           "textangle": 0,
           "textposition": "outside",
           "texttemplate": "%{y}<br>%{x:.4s}",
           "type": "bar",
           "x": [
            8865733000000,
            8866391000000,
            8866563000000,
            8867001000000,
            8869042000000,
            8869690000000,
            8870282000000,
            8870780000000,
            8877940000000,
            8881790000000
           ],
           "y": [
            "ALO",
            "MSC",
            "OCO",
            "VET",
            "ALB",
            "RIC",
            "MAG",
            "STR",
            "TSU",
            "LAT"
           ]
          }
         ],
         "layout": {
          "bargap": 0.15,
          "font": {
           "size": 14
          },
          "plot_bgcolor": "#FFFFFF",
          "xaxis": {
           "range": [
            0,
            "P0DT2H37M53.429S"
           ],
           "showline": true,
           "visible": true
          },
          "yaxis": {
           "showline": false,
           "visible": true
          }
         },
         "name": "51"
        },
        {
         "data": [
          {
           "cliponaxis": false,
           "hoverinfo": "all",
           "hovertemplate": "<extra></extra>",
           "marker": {
            "color": [
             "rgb(159, 103, 248)",
             "rgb(80, 16, 92)",
             "rgb(199, 224, 183)",
             "rgb(33, 40, 2)",
             "rgb(174, 43, 143)",
             "rgb(11, 90, 253)",
             "rgb(244, 79, 138)",
             "rgb(109, 22, 130)",
             "rgb(58, 48, 17)",
             "rgb(183, 107, 4)"
            ]
           },
           "orientation": "h",
           "textangle": 0,
           "textposition": "outside",
           "texttemplate": "%{y}<br>%{x:.4s}",
           "type": "bar",
           "x": [
            8959903000000,
            8960271000000,
            8960760000000,
            8961218000000,
            8962605000000,
            8963055000000,
            8963793000000,
            8964092000000,
            8971252000000,
            8976091000000
           ],
           "y": [
            "ALO",
            "MSC",
            "OCO",
            "VET",
            "ALB",
            "RIC",
            "MAG",
            "STR",
            "TSU",
            "LAT"
           ]
          }
         ],
         "layout": {
          "bargap": 0.15,
          "font": {
           "size": 14
          },
          "plot_bgcolor": "#FFFFFF",
          "xaxis": {
           "range": [
            0,
            "P0DT2H37M53.429S"
           ],
           "showline": true,
           "visible": true
          },
          "yaxis": {
           "showline": false,
           "visible": true
          }
         },
         "name": "52"
        },
        {
         "data": [
          {
           "cliponaxis": false,
           "hoverinfo": "all",
           "hovertemplate": "<extra></extra>",
           "marker": {
            "color": [
             "rgb(159, 103, 248)",
             "rgb(33, 40, 2)",
             "rgb(80, 16, 92)",
             "rgb(199, 224, 183)",
             "rgb(174, 43, 143)",
             "rgb(11, 90, 253)",
             "rgb(244, 79, 138)",
             "rgb(109, 22, 130)",
             "rgb(58, 48, 17)",
             "rgb(183, 107, 4)"
            ]
           },
           "orientation": "h",
           "textangle": 0,
           "textposition": "outside",
           "texttemplate": "%{y}<br>%{x:.4s}",
           "type": "bar",
           "x": [
            9053234000000,
            9054849000000,
            9055120000000,
            9055332000000,
            9056242000000,
            9057033000000,
            9058881000000,
            9059214000000,
            9064345000000,
            9070260000000
           ],
           "y": [
            "ALO",
            "VET",
            "MSC",
            "OCO",
            "ALB",
            "RIC",
            "MAG",
            "STR",
            "TSU",
            "LAT"
           ]
          }
         ],
         "layout": {
          "bargap": 0.15,
          "font": {
           "size": 14
          },
          "plot_bgcolor": "#FFFFFF",
          "xaxis": {
           "range": [
            0,
            "P0DT2H37M53.429S"
           ],
           "showline": true,
           "visible": true
          },
          "yaxis": {
           "showline": false,
           "visible": true
          }
         },
         "name": "53"
        },
        {
         "data": [
          {
           "cliponaxis": false,
           "hoverinfo": "all",
           "hovertemplate": "<extra></extra>",
           "marker": {
            "color": [
             "rgb(159, 103, 248)",
             "rgb(199, 224, 183)",
             "rgb(174, 43, 143)",
             "rgb(244, 79, 138)",
             "rgb(109, 22, 130)",
             "rgb(11, 90, 253)",
             "rgb(58, 48, 17)",
             "rgb(183, 107, 4)",
             "rgb(80, 16, 92)",
             "rgb(33, 40, 2)"
            ]
           },
           "orientation": "h",
           "textangle": 0,
           "textposition": "outside",
           "texttemplate": "%{y}<br>%{x:.4s}",
           "type": "bar",
           "x": [
            9146654000000,
            9148855000000,
            9151432000000,
            9154108000000,
            9154583000000,
            9155564000000,
            9158450000000,
            9165300000000,
            9166140000000,
            9174819000000
           ],
           "y": [
            "ALO",
            "OCO",
            "ALB",
            "MAG",
            "STR",
            "RIC",
            "TSU",
            "LAT",
            "MSC",
            "VET"
           ]
          }
         ],
         "layout": {
          "bargap": 0.15,
          "font": {
           "size": 14
          },
          "plot_bgcolor": "#FFFFFF",
          "xaxis": {
           "range": [
            0,
            "P0DT2H37M53.429S"
           ],
           "showline": true,
           "visible": true
          },
          "yaxis": {
           "showline": false,
           "visible": true
          }
         },
         "name": "54"
        },
        {
         "data": [
          {
           "cliponaxis": false,
           "hoverinfo": "all",
           "hovertemplate": "<extra></extra>",
           "marker": {
            "color": [
             "rgb(119, 72, 213)",
             "rgb(159, 103, 248)",
             "rgb(199, 224, 183)",
             "rgb(174, 43, 143)",
             "rgb(244, 79, 138)",
             "rgb(109, 22, 130)",
             "rgb(11, 90, 253)",
             "rgb(58, 48, 17)",
             "rgb(183, 107, 4)",
             "rgb(80, 16, 92)"
            ]
           },
           "orientation": "h",
           "textangle": 0,
           "textposition": "outside",
           "texttemplate": "%{y}<br>%{x:.4s}",
           "type": "bar",
           "x": [
            9238543000000,
            9240095000000,
            9242122000000,
            9245415000000,
            9248129000000,
            9248423000000,
            9249136000000,
            9251485000000,
            9260100000000,
            9287696000000
           ],
           "y": [
            "BOT",
            "ALO",
            "OCO",
            "ALB",
            "MAG",
            "STR",
            "RIC",
            "TSU",
            "LAT",
            "MSC"
           ]
          }
         ],
         "layout": {
          "bargap": 0.15,
          "font": {
           "size": 14
          },
          "plot_bgcolor": "#FFFFFF",
          "xaxis": {
           "range": [
            0,
            "P0DT2H37M53.429S"
           ],
           "showline": true,
           "visible": true
          },
          "yaxis": {
           "showline": false,
           "visible": true
          }
         },
         "name": "55"
        },
        {
         "data": [
          {
           "cliponaxis": false,
           "hoverinfo": "all",
           "hovertemplate": "<extra></extra>",
           "marker": {
            "color": [
             "rgb(119, 72, 213)",
             "rgb(159, 103, 248)",
             "rgb(199, 224, 183)",
             "rgb(174, 43, 143)",
             "rgb(11, 90, 253)",
             "rgb(109, 22, 130)",
             "rgb(244, 79, 138)",
             "rgb(58, 48, 17)",
             "rgb(183, 107, 4)",
             "rgb(80, 16, 92)"
            ]
           },
           "orientation": "h",
           "textangle": 0,
           "textposition": "outside",
           "texttemplate": "%{y}<br>%{x:.4s}",
           "type": "bar",
           "x": [
            9331727000000,
            9333439000000,
            9335285000000,
            9339052000000,
            9342401000000,
            9343730000000,
            9344763000000,
            9345175000000,
            9354501000000,
            9380901000000
           ],
           "y": [
            "BOT",
            "ALO",
            "OCO",
            "ALB",
            "RIC",
            "STR",
            "MAG",
            "TSU",
            "LAT",
            "MSC"
           ]
          }
         ],
         "layout": {
          "bargap": 0.15,
          "font": {
           "size": 14
          },
          "plot_bgcolor": "#FFFFFF",
          "xaxis": {
           "range": [
            0,
            "P0DT2H37M53.429S"
           ],
           "showline": true,
           "visible": true
          },
          "yaxis": {
           "showline": false,
           "visible": true
          }
         },
         "name": "56"
        },
        {
         "data": [
          {
           "cliponaxis": false,
           "hoverinfo": "all",
           "hovertemplate": "<extra></extra>",
           "marker": {
            "color": [
             "rgb(119, 72, 213)",
             "rgb(159, 103, 248)",
             "rgb(199, 224, 183)",
             "rgb(174, 43, 143)",
             "rgb(11, 90, 253)",
             "rgb(109, 22, 130)",
             "rgb(58, 48, 17)",
             "rgb(183, 107, 4)",
             "rgb(244, 79, 138)",
             "rgb(80, 16, 92)"
            ]
           },
           "orientation": "h",
           "textangle": 0,
           "textposition": "outside",
           "texttemplate": "%{y}<br>%{x:.4s}",
           "type": "bar",
           "x": [
            9425247000000,
            9427323000000,
            9428544000000,
            9432499000000,
            9436014000000,
            9437244000000,
            9440308000000,
            9450089000000,
            9461284000000,
            9473429000000
           ],
           "y": [
            "BOT",
            "ALO",
            "OCO",
            "ALB",
            "RIC",
            "STR",
            "TSU",
            "LAT",
            "MAG",
            "MSC"
           ]
          }
         ],
         "layout": {
          "bargap": 0.15,
          "font": {
           "size": 14
          },
          "plot_bgcolor": "#FFFFFF",
          "xaxis": {
           "range": [
            0,
            "P0DT2H37M53.429S"
           ],
           "showline": true,
           "visible": true
          },
          "yaxis": {
           "showline": false,
           "visible": true
          }
         },
         "name": "57"
        }
       ],
       "layout": {
        "bargap": 0.15,
        "font": {
         "size": 14
        },
        "plot_bgcolor": "#FFFFFF",
        "sliders": [
         {
          "active": 0,
          "currentvalue": {
           "font": {
            "size": 20
           },
           "prefix": "Date: ",
           "visible": true,
           "xanchor": "right"
          },
          "len": 0.9,
          "pad": {
           "b": 10,
           "t": 50
          },
          "steps": [
           {
            "args": [
             [
              "1"
             ],
             {
              "frame": {
               "duration": 500,
               "redraw": false
              },
              "mode": "immediate",
              "transition": {
               "duration": 500
              }
             }
            ],
            "label": "1",
            "method": "animate"
           },
           {
            "args": [
             [
              "2"
             ],
             {
              "frame": {
               "duration": 500,
               "redraw": false
              },
              "mode": "immediate",
              "transition": {
               "duration": 500
              }
             }
            ],
            "label": "2",
            "method": "animate"
           },
           {
            "args": [
             [
              "3"
             ],
             {
              "frame": {
               "duration": 500,
               "redraw": false
              },
              "mode": "immediate",
              "transition": {
               "duration": 500
              }
             }
            ],
            "label": "3",
            "method": "animate"
           },
           {
            "args": [
             [
              "4"
             ],
             {
              "frame": {
               "duration": 500,
               "redraw": false
              },
              "mode": "immediate",
              "transition": {
               "duration": 500
              }
             }
            ],
            "label": "4",
            "method": "animate"
           },
           {
            "args": [
             [
              "5"
             ],
             {
              "frame": {
               "duration": 500,
               "redraw": false
              },
              "mode": "immediate",
              "transition": {
               "duration": 500
              }
             }
            ],
            "label": "5",
            "method": "animate"
           },
           {
            "args": [
             [
              "6"
             ],
             {
              "frame": {
               "duration": 500,
               "redraw": false
              },
              "mode": "immediate",
              "transition": {
               "duration": 500
              }
             }
            ],
            "label": "6",
            "method": "animate"
           },
           {
            "args": [
             [
              "7"
             ],
             {
              "frame": {
               "duration": 500,
               "redraw": false
              },
              "mode": "immediate",
              "transition": {
               "duration": 500
              }
             }
            ],
            "label": "7",
            "method": "animate"
           },
           {
            "args": [
             [
              "8"
             ],
             {
              "frame": {
               "duration": 500,
               "redraw": false
              },
              "mode": "immediate",
              "transition": {
               "duration": 500
              }
             }
            ],
            "label": "8",
            "method": "animate"
           },
           {
            "args": [
             [
              "9"
             ],
             {
              "frame": {
               "duration": 500,
               "redraw": false
              },
              "mode": "immediate",
              "transition": {
               "duration": 500
              }
             }
            ],
            "label": "9",
            "method": "animate"
           },
           {
            "args": [
             [
              "10"
             ],
             {
              "frame": {
               "duration": 500,
               "redraw": false
              },
              "mode": "immediate",
              "transition": {
               "duration": 500
              }
             }
            ],
            "label": "10",
            "method": "animate"
           },
           {
            "args": [
             [
              "11"
             ],
             {
              "frame": {
               "duration": 500,
               "redraw": false
              },
              "mode": "immediate",
              "transition": {
               "duration": 500
              }
             }
            ],
            "label": "11",
            "method": "animate"
           },
           {
            "args": [
             [
              "12"
             ],
             {
              "frame": {
               "duration": 500,
               "redraw": false
              },
              "mode": "immediate",
              "transition": {
               "duration": 500
              }
             }
            ],
            "label": "12",
            "method": "animate"
           },
           {
            "args": [
             [
              "13"
             ],
             {
              "frame": {
               "duration": 500,
               "redraw": false
              },
              "mode": "immediate",
              "transition": {
               "duration": 500
              }
             }
            ],
            "label": "13",
            "method": "animate"
           },
           {
            "args": [
             [
              "14"
             ],
             {
              "frame": {
               "duration": 500,
               "redraw": false
              },
              "mode": "immediate",
              "transition": {
               "duration": 500
              }
             }
            ],
            "label": "14",
            "method": "animate"
           },
           {
            "args": [
             [
              "15"
             ],
             {
              "frame": {
               "duration": 500,
               "redraw": false
              },
              "mode": "immediate",
              "transition": {
               "duration": 500
              }
             }
            ],
            "label": "15",
            "method": "animate"
           },
           {
            "args": [
             [
              "16"
             ],
             {
              "frame": {
               "duration": 500,
               "redraw": false
              },
              "mode": "immediate",
              "transition": {
               "duration": 500
              }
             }
            ],
            "label": "16",
            "method": "animate"
           },
           {
            "args": [
             [
              "17"
             ],
             {
              "frame": {
               "duration": 500,
               "redraw": false
              },
              "mode": "immediate",
              "transition": {
               "duration": 500
              }
             }
            ],
            "label": "17",
            "method": "animate"
           },
           {
            "args": [
             [
              "18"
             ],
             {
              "frame": {
               "duration": 500,
               "redraw": false
              },
              "mode": "immediate",
              "transition": {
               "duration": 500
              }
             }
            ],
            "label": "18",
            "method": "animate"
           },
           {
            "args": [
             [
              "19"
             ],
             {
              "frame": {
               "duration": 500,
               "redraw": false
              },
              "mode": "immediate",
              "transition": {
               "duration": 500
              }
             }
            ],
            "label": "19",
            "method": "animate"
           },
           {
            "args": [
             [
              "20"
             ],
             {
              "frame": {
               "duration": 500,
               "redraw": false
              },
              "mode": "immediate",
              "transition": {
               "duration": 500
              }
             }
            ],
            "label": "20",
            "method": "animate"
           },
           {
            "args": [
             [
              "21"
             ],
             {
              "frame": {
               "duration": 500,
               "redraw": false
              },
              "mode": "immediate",
              "transition": {
               "duration": 500
              }
             }
            ],
            "label": "21",
            "method": "animate"
           },
           {
            "args": [
             [
              "22"
             ],
             {
              "frame": {
               "duration": 500,
               "redraw": false
              },
              "mode": "immediate",
              "transition": {
               "duration": 500
              }
             }
            ],
            "label": "22",
            "method": "animate"
           },
           {
            "args": [
             [
              "23"
             ],
             {
              "frame": {
               "duration": 500,
               "redraw": false
              },
              "mode": "immediate",
              "transition": {
               "duration": 500
              }
             }
            ],
            "label": "23",
            "method": "animate"
           },
           {
            "args": [
             [
              "24"
             ],
             {
              "frame": {
               "duration": 500,
               "redraw": false
              },
              "mode": "immediate",
              "transition": {
               "duration": 500
              }
             }
            ],
            "label": "24",
            "method": "animate"
           },
           {
            "args": [
             [
              "25"
             ],
             {
              "frame": {
               "duration": 500,
               "redraw": false
              },
              "mode": "immediate",
              "transition": {
               "duration": 500
              }
             }
            ],
            "label": "25",
            "method": "animate"
           },
           {
            "args": [
             [
              "26"
             ],
             {
              "frame": {
               "duration": 500,
               "redraw": false
              },
              "mode": "immediate",
              "transition": {
               "duration": 500
              }
             }
            ],
            "label": "26",
            "method": "animate"
           },
           {
            "args": [
             [
              "27"
             ],
             {
              "frame": {
               "duration": 500,
               "redraw": false
              },
              "mode": "immediate",
              "transition": {
               "duration": 500
              }
             }
            ],
            "label": "27",
            "method": "animate"
           },
           {
            "args": [
             [
              "28"
             ],
             {
              "frame": {
               "duration": 500,
               "redraw": false
              },
              "mode": "immediate",
              "transition": {
               "duration": 500
              }
             }
            ],
            "label": "28",
            "method": "animate"
           },
           {
            "args": [
             [
              "29"
             ],
             {
              "frame": {
               "duration": 500,
               "redraw": false
              },
              "mode": "immediate",
              "transition": {
               "duration": 500
              }
             }
            ],
            "label": "29",
            "method": "animate"
           },
           {
            "args": [
             [
              "30"
             ],
             {
              "frame": {
               "duration": 500,
               "redraw": false
              },
              "mode": "immediate",
              "transition": {
               "duration": 500
              }
             }
            ],
            "label": "30",
            "method": "animate"
           },
           {
            "args": [
             [
              "31"
             ],
             {
              "frame": {
               "duration": 500,
               "redraw": false
              },
              "mode": "immediate",
              "transition": {
               "duration": 500
              }
             }
            ],
            "label": "31",
            "method": "animate"
           },
           {
            "args": [
             [
              "32"
             ],
             {
              "frame": {
               "duration": 500,
               "redraw": false
              },
              "mode": "immediate",
              "transition": {
               "duration": 500
              }
             }
            ],
            "label": "32",
            "method": "animate"
           },
           {
            "args": [
             [
              "33"
             ],
             {
              "frame": {
               "duration": 500,
               "redraw": false
              },
              "mode": "immediate",
              "transition": {
               "duration": 500
              }
             }
            ],
            "label": "33",
            "method": "animate"
           },
           {
            "args": [
             [
              "34"
             ],
             {
              "frame": {
               "duration": 500,
               "redraw": false
              },
              "mode": "immediate",
              "transition": {
               "duration": 500
              }
             }
            ],
            "label": "34",
            "method": "animate"
           },
           {
            "args": [
             [
              "35"
             ],
             {
              "frame": {
               "duration": 500,
               "redraw": false
              },
              "mode": "immediate",
              "transition": {
               "duration": 500
              }
             }
            ],
            "label": "35",
            "method": "animate"
           },
           {
            "args": [
             [
              "36"
             ],
             {
              "frame": {
               "duration": 500,
               "redraw": false
              },
              "mode": "immediate",
              "transition": {
               "duration": 500
              }
             }
            ],
            "label": "36",
            "method": "animate"
           },
           {
            "args": [
             [
              "37"
             ],
             {
              "frame": {
               "duration": 500,
               "redraw": false
              },
              "mode": "immediate",
              "transition": {
               "duration": 500
              }
             }
            ],
            "label": "37",
            "method": "animate"
           },
           {
            "args": [
             [
              "38"
             ],
             {
              "frame": {
               "duration": 500,
               "redraw": false
              },
              "mode": "immediate",
              "transition": {
               "duration": 500
              }
             }
            ],
            "label": "38",
            "method": "animate"
           },
           {
            "args": [
             [
              "39"
             ],
             {
              "frame": {
               "duration": 500,
               "redraw": false
              },
              "mode": "immediate",
              "transition": {
               "duration": 500
              }
             }
            ],
            "label": "39",
            "method": "animate"
           },
           {
            "args": [
             [
              "40"
             ],
             {
              "frame": {
               "duration": 500,
               "redraw": false
              },
              "mode": "immediate",
              "transition": {
               "duration": 500
              }
             }
            ],
            "label": "40",
            "method": "animate"
           },
           {
            "args": [
             [
              "41"
             ],
             {
              "frame": {
               "duration": 500,
               "redraw": false
              },
              "mode": "immediate",
              "transition": {
               "duration": 500
              }
             }
            ],
            "label": "41",
            "method": "animate"
           },
           {
            "args": [
             [
              "42"
             ],
             {
              "frame": {
               "duration": 500,
               "redraw": false
              },
              "mode": "immediate",
              "transition": {
               "duration": 500
              }
             }
            ],
            "label": "42",
            "method": "animate"
           },
           {
            "args": [
             [
              "43"
             ],
             {
              "frame": {
               "duration": 500,
               "redraw": false
              },
              "mode": "immediate",
              "transition": {
               "duration": 500
              }
             }
            ],
            "label": "43",
            "method": "animate"
           },
           {
            "args": [
             [
              "44"
             ],
             {
              "frame": {
               "duration": 500,
               "redraw": false
              },
              "mode": "immediate",
              "transition": {
               "duration": 500
              }
             }
            ],
            "label": "44",
            "method": "animate"
           },
           {
            "args": [
             [
              "45"
             ],
             {
              "frame": {
               "duration": 500,
               "redraw": false
              },
              "mode": "immediate",
              "transition": {
               "duration": 500
              }
             }
            ],
            "label": "45",
            "method": "animate"
           },
           {
            "args": [
             [
              "46"
             ],
             {
              "frame": {
               "duration": 500,
               "redraw": false
              },
              "mode": "immediate",
              "transition": {
               "duration": 500
              }
             }
            ],
            "label": "46",
            "method": "animate"
           },
           {
            "args": [
             [
              "47"
             ],
             {
              "frame": {
               "duration": 500,
               "redraw": false
              },
              "mode": "immediate",
              "transition": {
               "duration": 500
              }
             }
            ],
            "label": "47",
            "method": "animate"
           },
           {
            "args": [
             [
              "48"
             ],
             {
              "frame": {
               "duration": 500,
               "redraw": false
              },
              "mode": "immediate",
              "transition": {
               "duration": 500
              }
             }
            ],
            "label": "48",
            "method": "animate"
           },
           {
            "args": [
             [
              "49"
             ],
             {
              "frame": {
               "duration": 500,
               "redraw": false
              },
              "mode": "immediate",
              "transition": {
               "duration": 500
              }
             }
            ],
            "label": "49",
            "method": "animate"
           },
           {
            "args": [
             [
              "50"
             ],
             {
              "frame": {
               "duration": 500,
               "redraw": false
              },
              "mode": "immediate",
              "transition": {
               "duration": 500
              }
             }
            ],
            "label": "50",
            "method": "animate"
           },
           {
            "args": [
             [
              "51"
             ],
             {
              "frame": {
               "duration": 500,
               "redraw": false
              },
              "mode": "immediate",
              "transition": {
               "duration": 500
              }
             }
            ],
            "label": "51",
            "method": "animate"
           },
           {
            "args": [
             [
              "52"
             ],
             {
              "frame": {
               "duration": 500,
               "redraw": false
              },
              "mode": "immediate",
              "transition": {
               "duration": 500
              }
             }
            ],
            "label": "52",
            "method": "animate"
           },
           {
            "args": [
             [
              "53"
             ],
             {
              "frame": {
               "duration": 500,
               "redraw": false
              },
              "mode": "immediate",
              "transition": {
               "duration": 500
              }
             }
            ],
            "label": "53",
            "method": "animate"
           },
           {
            "args": [
             [
              "54"
             ],
             {
              "frame": {
               "duration": 500,
               "redraw": false
              },
              "mode": "immediate",
              "transition": {
               "duration": 500
              }
             }
            ],
            "label": "54",
            "method": "animate"
           },
           {
            "args": [
             [
              "55"
             ],
             {
              "frame": {
               "duration": 500,
               "redraw": false
              },
              "mode": "immediate",
              "transition": {
               "duration": 500
              }
             }
            ],
            "label": "55",
            "method": "animate"
           },
           {
            "args": [
             [
              "56"
             ],
             {
              "frame": {
               "duration": 500,
               "redraw": false
              },
              "mode": "immediate",
              "transition": {
               "duration": 500
              }
             }
            ],
            "label": "56",
            "method": "animate"
           },
           {
            "args": [
             [
              "57"
             ],
             {
              "frame": {
               "duration": 500,
               "redraw": false
              },
              "mode": "immediate",
              "transition": {
               "duration": 500
              }
             }
            ],
            "label": "57",
            "method": "animate"
           }
          ],
          "transition": {
           "duration": 300,
           "easing": "cubic-in-out"
          },
          "x": 0.1,
          "xanchor": "left",
          "y": 0,
          "yanchor": "top"
         }
        ],
        "template": {
         "data": {
          "bar": [
           {
            "error_x": {
             "color": "#f2f5fa"
            },
            "error_y": {
             "color": "#f2f5fa"
            },
            "marker": {
             "line": {
              "color": "rgb(17,17,17)",
              "width": 0.5
             },
             "pattern": {
              "fillmode": "overlay",
              "size": 10,
              "solidity": 0.2
             }
            },
            "type": "bar"
           }
          ],
          "barpolar": [
           {
            "marker": {
             "line": {
              "color": "rgb(17,17,17)",
              "width": 0.5
             },
             "pattern": {
              "fillmode": "overlay",
              "size": 10,
              "solidity": 0.2
             }
            },
            "type": "barpolar"
           }
          ],
          "carpet": [
           {
            "aaxis": {
             "endlinecolor": "#A2B1C6",
             "gridcolor": "#506784",
             "linecolor": "#506784",
             "minorgridcolor": "#506784",
             "startlinecolor": "#A2B1C6"
            },
            "baxis": {
             "endlinecolor": "#A2B1C6",
             "gridcolor": "#506784",
             "linecolor": "#506784",
             "minorgridcolor": "#506784",
             "startlinecolor": "#A2B1C6"
            },
            "type": "carpet"
           }
          ],
          "choropleth": [
           {
            "colorbar": {
             "outlinewidth": 0,
             "ticks": ""
            },
            "type": "choropleth"
           }
          ],
          "contour": [
           {
            "colorbar": {
             "outlinewidth": 0,
             "ticks": ""
            },
            "colorscale": [
             [
              0,
              "#0d0887"
             ],
             [
              0.1111111111111111,
              "#46039f"
             ],
             [
              0.2222222222222222,
              "#7201a8"
             ],
             [
              0.3333333333333333,
              "#9c179e"
             ],
             [
              0.4444444444444444,
              "#bd3786"
             ],
             [
              0.5555555555555556,
              "#d8576b"
             ],
             [
              0.6666666666666666,
              "#ed7953"
             ],
             [
              0.7777777777777778,
              "#fb9f3a"
             ],
             [
              0.8888888888888888,
              "#fdca26"
             ],
             [
              1,
              "#f0f921"
             ]
            ],
            "type": "contour"
           }
          ],
          "contourcarpet": [
           {
            "colorbar": {
             "outlinewidth": 0,
             "ticks": ""
            },
            "type": "contourcarpet"
           }
          ],
          "heatmap": [
           {
            "colorbar": {
             "outlinewidth": 0,
             "ticks": ""
            },
            "colorscale": [
             [
              0,
              "#0d0887"
             ],
             [
              0.1111111111111111,
              "#46039f"
             ],
             [
              0.2222222222222222,
              "#7201a8"
             ],
             [
              0.3333333333333333,
              "#9c179e"
             ],
             [
              0.4444444444444444,
              "#bd3786"
             ],
             [
              0.5555555555555556,
              "#d8576b"
             ],
             [
              0.6666666666666666,
              "#ed7953"
             ],
             [
              0.7777777777777778,
              "#fb9f3a"
             ],
             [
              0.8888888888888888,
              "#fdca26"
             ],
             [
              1,
              "#f0f921"
             ]
            ],
            "type": "heatmap"
           }
          ],
          "heatmapgl": [
           {
            "colorbar": {
             "outlinewidth": 0,
             "ticks": ""
            },
            "colorscale": [
             [
              0,
              "#0d0887"
             ],
             [
              0.1111111111111111,
              "#46039f"
             ],
             [
              0.2222222222222222,
              "#7201a8"
             ],
             [
              0.3333333333333333,
              "#9c179e"
             ],
             [
              0.4444444444444444,
              "#bd3786"
             ],
             [
              0.5555555555555556,
              "#d8576b"
             ],
             [
              0.6666666666666666,
              "#ed7953"
             ],
             [
              0.7777777777777778,
              "#fb9f3a"
             ],
             [
              0.8888888888888888,
              "#fdca26"
             ],
             [
              1,
              "#f0f921"
             ]
            ],
            "type": "heatmapgl"
           }
          ],
          "histogram": [
           {
            "marker": {
             "pattern": {
              "fillmode": "overlay",
              "size": 10,
              "solidity": 0.2
             }
            },
            "type": "histogram"
           }
          ],
          "histogram2d": [
           {
            "colorbar": {
             "outlinewidth": 0,
             "ticks": ""
            },
            "colorscale": [
             [
              0,
              "#0d0887"
             ],
             [
              0.1111111111111111,
              "#46039f"
             ],
             [
              0.2222222222222222,
              "#7201a8"
             ],
             [
              0.3333333333333333,
              "#9c179e"
             ],
             [
              0.4444444444444444,
              "#bd3786"
             ],
             [
              0.5555555555555556,
              "#d8576b"
             ],
             [
              0.6666666666666666,
              "#ed7953"
             ],
             [
              0.7777777777777778,
              "#fb9f3a"
             ],
             [
              0.8888888888888888,
              "#fdca26"
             ],
             [
              1,
              "#f0f921"
             ]
            ],
            "type": "histogram2d"
           }
          ],
          "histogram2dcontour": [
           {
            "colorbar": {
             "outlinewidth": 0,
             "ticks": ""
            },
            "colorscale": [
             [
              0,
              "#0d0887"
             ],
             [
              0.1111111111111111,
              "#46039f"
             ],
             [
              0.2222222222222222,
              "#7201a8"
             ],
             [
              0.3333333333333333,
              "#9c179e"
             ],
             [
              0.4444444444444444,
              "#bd3786"
             ],
             [
              0.5555555555555556,
              "#d8576b"
             ],
             [
              0.6666666666666666,
              "#ed7953"
             ],
             [
              0.7777777777777778,
              "#fb9f3a"
             ],
             [
              0.8888888888888888,
              "#fdca26"
             ],
             [
              1,
              "#f0f921"
             ]
            ],
            "type": "histogram2dcontour"
           }
          ],
          "mesh3d": [
           {
            "colorbar": {
             "outlinewidth": 0,
             "ticks": ""
            },
            "type": "mesh3d"
           }
          ],
          "parcoords": [
           {
            "line": {
             "colorbar": {
              "outlinewidth": 0,
              "ticks": ""
             }
            },
            "type": "parcoords"
           }
          ],
          "pie": [
           {
            "automargin": true,
            "type": "pie"
           }
          ],
          "scatter": [
           {
            "marker": {
             "line": {
              "color": "#283442"
             }
            },
            "type": "scatter"
           }
          ],
          "scatter3d": [
           {
            "line": {
             "colorbar": {
              "outlinewidth": 0,
              "ticks": ""
             }
            },
            "marker": {
             "colorbar": {
              "outlinewidth": 0,
              "ticks": ""
             }
            },
            "type": "scatter3d"
           }
          ],
          "scattercarpet": [
           {
            "marker": {
             "colorbar": {
              "outlinewidth": 0,
              "ticks": ""
             }
            },
            "type": "scattercarpet"
           }
          ],
          "scattergeo": [
           {
            "marker": {
             "colorbar": {
              "outlinewidth": 0,
              "ticks": ""
             }
            },
            "type": "scattergeo"
           }
          ],
          "scattergl": [
           {
            "marker": {
             "line": {
              "color": "#283442"
             }
            },
            "type": "scattergl"
           }
          ],
          "scattermapbox": [
           {
            "marker": {
             "colorbar": {
              "outlinewidth": 0,
              "ticks": ""
             }
            },
            "type": "scattermapbox"
           }
          ],
          "scatterpolar": [
           {
            "marker": {
             "colorbar": {
              "outlinewidth": 0,
              "ticks": ""
             }
            },
            "type": "scatterpolar"
           }
          ],
          "scatterpolargl": [
           {
            "marker": {
             "colorbar": {
              "outlinewidth": 0,
              "ticks": ""
             }
            },
            "type": "scatterpolargl"
           }
          ],
          "scatterternary": [
           {
            "marker": {
             "colorbar": {
              "outlinewidth": 0,
              "ticks": ""
             }
            },
            "type": "scatterternary"
           }
          ],
          "surface": [
           {
            "colorbar": {
             "outlinewidth": 0,
             "ticks": ""
            },
            "colorscale": [
             [
              0,
              "#0d0887"
             ],
             [
              0.1111111111111111,
              "#46039f"
             ],
             [
              0.2222222222222222,
              "#7201a8"
             ],
             [
              0.3333333333333333,
              "#9c179e"
             ],
             [
              0.4444444444444444,
              "#bd3786"
             ],
             [
              0.5555555555555556,
              "#d8576b"
             ],
             [
              0.6666666666666666,
              "#ed7953"
             ],
             [
              0.7777777777777778,
              "#fb9f3a"
             ],
             [
              0.8888888888888888,
              "#fdca26"
             ],
             [
              1,
              "#f0f921"
             ]
            ],
            "type": "surface"
           }
          ],
          "table": [
           {
            "cells": {
             "fill": {
              "color": "#506784"
             },
             "line": {
              "color": "rgb(17,17,17)"
             }
            },
            "header": {
             "fill": {
              "color": "#2a3f5f"
             },
             "line": {
              "color": "rgb(17,17,17)"
             }
            },
            "type": "table"
           }
          ]
         },
         "layout": {
          "annotationdefaults": {
           "arrowcolor": "#f2f5fa",
           "arrowhead": 0,
           "arrowwidth": 1
          },
          "autotypenumbers": "strict",
          "coloraxis": {
           "colorbar": {
            "outlinewidth": 0,
            "ticks": ""
           }
          },
          "colorscale": {
           "diverging": [
            [
             0,
             "#8e0152"
            ],
            [
             0.1,
             "#c51b7d"
            ],
            [
             0.2,
             "#de77ae"
            ],
            [
             0.3,
             "#f1b6da"
            ],
            [
             0.4,
             "#fde0ef"
            ],
            [
             0.5,
             "#f7f7f7"
            ],
            [
             0.6,
             "#e6f5d0"
            ],
            [
             0.7,
             "#b8e186"
            ],
            [
             0.8,
             "#7fbc41"
            ],
            [
             0.9,
             "#4d9221"
            ],
            [
             1,
             "#276419"
            ]
           ],
           "sequential": [
            [
             0,
             "#0d0887"
            ],
            [
             0.1111111111111111,
             "#46039f"
            ],
            [
             0.2222222222222222,
             "#7201a8"
            ],
            [
             0.3333333333333333,
             "#9c179e"
            ],
            [
             0.4444444444444444,
             "#bd3786"
            ],
            [
             0.5555555555555556,
             "#d8576b"
            ],
            [
             0.6666666666666666,
             "#ed7953"
            ],
            [
             0.7777777777777778,
             "#fb9f3a"
            ],
            [
             0.8888888888888888,
             "#fdca26"
            ],
            [
             1,
             "#f0f921"
            ]
           ],
           "sequentialminus": [
            [
             0,
             "#0d0887"
            ],
            [
             0.1111111111111111,
             "#46039f"
            ],
            [
             0.2222222222222222,
             "#7201a8"
            ],
            [
             0.3333333333333333,
             "#9c179e"
            ],
            [
             0.4444444444444444,
             "#bd3786"
            ],
            [
             0.5555555555555556,
             "#d8576b"
            ],
            [
             0.6666666666666666,
             "#ed7953"
            ],
            [
             0.7777777777777778,
             "#fb9f3a"
            ],
            [
             0.8888888888888888,
             "#fdca26"
            ],
            [
             1,
             "#f0f921"
            ]
           ]
          },
          "colorway": [
           "#636efa",
           "#EF553B",
           "#00cc96",
           "#ab63fa",
           "#FFA15A",
           "#19d3f3",
           "#FF6692",
           "#B6E880",
           "#FF97FF",
           "#FECB52"
          ],
          "font": {
           "color": "#f2f5fa"
          },
          "geo": {
           "bgcolor": "rgb(17,17,17)",
           "lakecolor": "rgb(17,17,17)",
           "landcolor": "rgb(17,17,17)",
           "showlakes": true,
           "showland": true,
           "subunitcolor": "#506784"
          },
          "hoverlabel": {
           "align": "left"
          },
          "hovermode": "closest",
          "mapbox": {
           "style": "dark"
          },
          "paper_bgcolor": "rgb(17,17,17)",
          "plot_bgcolor": "rgb(17,17,17)",
          "polar": {
           "angularaxis": {
            "gridcolor": "#506784",
            "linecolor": "#506784",
            "ticks": ""
           },
           "bgcolor": "rgb(17,17,17)",
           "radialaxis": {
            "gridcolor": "#506784",
            "linecolor": "#506784",
            "ticks": ""
           }
          },
          "scene": {
           "xaxis": {
            "backgroundcolor": "rgb(17,17,17)",
            "gridcolor": "#506784",
            "gridwidth": 2,
            "linecolor": "#506784",
            "showbackground": true,
            "ticks": "",
            "zerolinecolor": "#C8D4E3"
           },
           "yaxis": {
            "backgroundcolor": "rgb(17,17,17)",
            "gridcolor": "#506784",
            "gridwidth": 2,
            "linecolor": "#506784",
            "showbackground": true,
            "ticks": "",
            "zerolinecolor": "#C8D4E3"
           },
           "zaxis": {
            "backgroundcolor": "rgb(17,17,17)",
            "gridcolor": "#506784",
            "gridwidth": 2,
            "linecolor": "#506784",
            "showbackground": true,
            "ticks": "",
            "zerolinecolor": "#C8D4E3"
           }
          },
          "shapedefaults": {
           "line": {
            "color": "#f2f5fa"
           }
          },
          "sliderdefaults": {
           "bgcolor": "#C8D4E3",
           "bordercolor": "rgb(17,17,17)",
           "borderwidth": 1,
           "tickwidth": 0
          },
          "ternary": {
           "aaxis": {
            "gridcolor": "#506784",
            "linecolor": "#506784",
            "ticks": ""
           },
           "baxis": {
            "gridcolor": "#506784",
            "linecolor": "#506784",
            "ticks": ""
           },
           "bgcolor": "rgb(17,17,17)",
           "caxis": {
            "gridcolor": "#506784",
            "linecolor": "#506784",
            "ticks": ""
           }
          },
          "title": {
           "x": 0.05
          },
          "updatemenudefaults": {
           "bgcolor": "#506784",
           "borderwidth": 0
          },
          "xaxis": {
           "automargin": true,
           "gridcolor": "#283442",
           "linecolor": "#506784",
           "ticks": "",
           "title": {
            "standoff": 15
           },
           "zerolinecolor": "#283442",
           "zerolinewidth": 2
          },
          "yaxis": {
           "automargin": true,
           "gridcolor": "#283442",
           "linecolor": "#506784",
           "ticks": "",
           "title": {
            "standoff": 15
           },
           "zerolinecolor": "#283442",
           "zerolinewidth": 2
          }
         }
        },
        "updatemenus": [
         {
          "buttons": [
           {
            "args": [
             null,
             {
              "frame": {
               "duration": 500,
               "redraw": false
              },
              "fromcurrent": true,
              "transition": {
               "duration": 500,
               "easing": "quadratic-in-out"
              }
             }
            ],
            "label": "Play",
            "method": "animate"
           },
           {
            "args": [
             [
              null
             ],
             {
              "frame": {
               "duration": 0,
               "redraw": false
              },
              "mode": "immediate",
              "transition": {
               "duration": 0
              }
             }
            ],
            "label": "Pause",
            "method": "animate"
           }
          ],
          "direction": "left",
          "pad": {
           "r": 10,
           "t": 87
          },
          "showactive": true,
          "type": "buttons",
          "x": 0.1,
          "xanchor": "right",
          "y": 0,
          "yanchor": "top"
         }
        ],
        "xaxis": {
         "range": [
          0,
          "P0DT2H37M53.429S"
         ],
         "showline": true,
         "visible": true
        },
        "yaxis": {
         "showline": false,
         "visible": false
        }
       }
      }
     },
     "metadata": {},
     "output_type": "display_data"
    }
   ],
   "source": [
    "raceplot = barplot(df = race, item_column='Driver', time_column='LapNumber', value_column='Time')\n",
    "raceplot.plot()"
   ]
  },
  {
   "cell_type": "code",
   "execution_count": null,
   "metadata": {},
   "outputs": [],
   "source": []
  }
 ],
 "metadata": {
  "interpreter": {
   "hash": "398748c372d42d99dcfa9ac8f694c5d292e22baf2e524ae29249ce2ce8b32818"
  },
  "kernelspec": {
   "display_name": "Python 3.9.12 ('base')",
   "language": "python",
   "name": "python3"
  },
  "language_info": {
   "codemirror_mode": {
    "name": "ipython",
    "version": 3
   },
   "file_extension": ".py",
   "mimetype": "text/x-python",
   "name": "python",
   "nbconvert_exporter": "python",
   "pygments_lexer": "ipython3",
   "version": "3.9.12"
  },
  "orig_nbformat": 4
 },
 "nbformat": 4,
 "nbformat_minor": 2
}
