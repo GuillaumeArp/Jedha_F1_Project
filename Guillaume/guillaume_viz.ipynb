{
 "cells": [
  {
   "cell_type": "markdown",
   "metadata": {},
   "source": [
    "# Imports"
   ]
  },
  {
   "cell_type": "code",
   "execution_count": 391,
   "metadata": {},
   "outputs": [],
   "source": [
    "\n",
    "import fastf1 as ff1\n",
    "from fastf1 import plotting\n",
    "from fastf1 import utils\n",
    "plotting.setup_mpl()\n",
    "ff1.Cache.enable_cache('../cache/')\n",
    "import pandas as pd\n",
    "import numpy as np\n",
    "import plotly.express as px\n",
    "import plotly.graph_objects as go\n",
    "import plotly.io as pio\n",
    "from plotly.subplots import make_subplots\n",
    "import matplotlib as mpl\n",
    "import matplotlib.pyplot as plt\n",
    "from matplotlib.collections import LineCollection\n",
    "import requests\n",
    "import re\n",
    "pio.templates.default = \"plotly_dark\"\n",
    "import warnings\n",
    "warnings.simplefilter(action='ignore', category=FutureWarning)\n",
    "pd.options.display.max_rows = 75\n",
    "pd.options.display.max_columns = 99"
   ]
  },
  {
   "cell_type": "code",
   "execution_count": 445,
   "metadata": {},
   "outputs": [],
   "source": [
    "year = 2022\n",
    "gp_round = 6\n",
    "ses = 'FP1'"
   ]
  },
  {
   "cell_type": "code",
   "execution_count": 446,
   "metadata": {},
   "outputs": [],
   "source": [
    "driver_1 = 'VER'\n",
    "driver_2 = 'LEC'"
   ]
  },
  {
   "cell_type": "code",
   "execution_count": 447,
   "metadata": {},
   "outputs": [],
   "source": [
    "events_list = ff1.get_event_schedule(2022)[2:]\n",
    "events_list_2021 = ff1.get_event_schedule(2021)[2:]\n",
    "country_abbrev = ['BHR','SAU','AUS','ERO','MIA','ESP','MCO','AZE','CAN','GBR','AUT','FRA','HUN','BEL','NLD','ITA','SGP','JPN','USA','MXC','SAO','ABD']\n",
    "events_list['CountryAbbreviation'] = country_abbrev"
   ]
  },
  {
   "cell_type": "code",
   "execution_count": 395,
   "metadata": {},
   "outputs": [
    {
     "data": {
      "text/html": [
       "<div><div id=8c742083-f270-4c2f-95ae-8d721aace688 style=\"display:none; background-color:#9D6CFF; color:white; width:200px; height:30px; padding-left:5px; border-radius:4px; flex-direction:row; justify-content:space-around; align-items:center;\" onmouseover=\"this.style.backgroundColor='#BA9BF8'\" onmouseout=\"this.style.backgroundColor='#9D6CFF'\" onclick=\"window.commands?.execute('create-mitosheet-from-dataframe-output');\">See Full Dataframe in Mito</div> <script> if (window.commands.hasCommand('create-mitosheet-from-dataframe-output')) document.getElementById('8c742083-f270-4c2f-95ae-8d721aace688').style.display = 'flex' </script> <table border=\"1\" class=\"dataframe\">\n",
       "  <thead>\n",
       "    <tr style=\"text-align: right;\">\n",
       "      <th></th>\n",
       "      <th>RoundNumber</th>\n",
       "      <th>Country</th>\n",
       "      <th>Location</th>\n",
       "      <th>OfficialEventName</th>\n",
       "      <th>EventDate</th>\n",
       "      <th>EventName</th>\n",
       "      <th>EventFormat</th>\n",
       "      <th>Session1</th>\n",
       "      <th>Session1Date</th>\n",
       "      <th>Session2</th>\n",
       "      <th>Session2Date</th>\n",
       "      <th>Session3</th>\n",
       "      <th>Session3Date</th>\n",
       "      <th>Session4</th>\n",
       "      <th>Session4Date</th>\n",
       "      <th>Session5</th>\n",
       "      <th>Session5Date</th>\n",
       "      <th>F1ApiSupport</th>\n",
       "    </tr>\n",
       "  </thead>\n",
       "  <tbody>\n",
       "    <tr>\n",
       "      <th>2</th>\n",
       "      <td>2</td>\n",
       "      <td>Italy</td>\n",
       "      <td>Imola</td>\n",
       "      <td>FORMULA 1 PIRELLI GRAN PREMIO DEL MADE IN ITALY E DELL’EMILIA ROMAGNA 2021</td>\n",
       "      <td>2021-04-18</td>\n",
       "      <td>Emilia Romagna Grand Prix</td>\n",
       "      <td>conventional</td>\n",
       "      <td>Practice 1</td>\n",
       "      <td>2021-04-16</td>\n",
       "      <td>Practice 2</td>\n",
       "      <td>2021-04-16</td>\n",
       "      <td>Practice 3</td>\n",
       "      <td>2021-04-17</td>\n",
       "      <td>Qualifying</td>\n",
       "      <td>2021-04-17</td>\n",
       "      <td>Race</td>\n",
       "      <td>2021-04-18</td>\n",
       "      <td>True</td>\n",
       "    </tr>\n",
       "    <tr>\n",
       "      <th>3</th>\n",
       "      <td>3</td>\n",
       "      <td>Portugal</td>\n",
       "      <td>Portimão</td>\n",
       "      <td>FORMULA 1 HEINEKEN GRANDE PRÉMIO DE PORTUGAL 2021</td>\n",
       "      <td>2021-05-02</td>\n",
       "      <td>Portuguese Grand Prix</td>\n",
       "      <td>conventional</td>\n",
       "      <td>Practice 1</td>\n",
       "      <td>2021-04-30</td>\n",
       "      <td>Practice 2</td>\n",
       "      <td>2021-04-30</td>\n",
       "      <td>Practice 3</td>\n",
       "      <td>2021-05-01</td>\n",
       "      <td>Qualifying</td>\n",
       "      <td>2021-05-01</td>\n",
       "      <td>Race</td>\n",
       "      <td>2021-05-02</td>\n",
       "      <td>True</td>\n",
       "    </tr>\n",
       "    <tr>\n",
       "      <th>4</th>\n",
       "      <td>4</td>\n",
       "      <td>Spain</td>\n",
       "      <td>Montmeló</td>\n",
       "      <td>FORMULA 1 ARAMCO GRAN PREMIO DE ESPAÑA 2021</td>\n",
       "      <td>2021-05-09</td>\n",
       "      <td>Spanish Grand Prix</td>\n",
       "      <td>conventional</td>\n",
       "      <td>Practice 1</td>\n",
       "      <td>2021-05-07</td>\n",
       "      <td>Practice 2</td>\n",
       "      <td>2021-05-07</td>\n",
       "      <td>Practice 3</td>\n",
       "      <td>2021-05-08</td>\n",
       "      <td>Qualifying</td>\n",
       "      <td>2021-05-08</td>\n",
       "      <td>Race</td>\n",
       "      <td>2021-05-09</td>\n",
       "      <td>True</td>\n",
       "    </tr>\n",
       "    <tr>\n",
       "      <th>5</th>\n",
       "      <td>5</td>\n",
       "      <td>Monaco</td>\n",
       "      <td>Monte-Carlo</td>\n",
       "      <td>FORMULA 1 GRAND PRIX DE MONACO 2021</td>\n",
       "      <td>2021-05-23</td>\n",
       "      <td>Monaco Grand Prix</td>\n",
       "      <td>conventional</td>\n",
       "      <td>Practice 1</td>\n",
       "      <td>2021-05-20</td>\n",
       "      <td>Practice 2</td>\n",
       "      <td>2021-05-20</td>\n",
       "      <td>Practice 3</td>\n",
       "      <td>2021-05-22</td>\n",
       "      <td>Qualifying</td>\n",
       "      <td>2021-05-22</td>\n",
       "      <td>Race</td>\n",
       "      <td>2021-05-23</td>\n",
       "      <td>True</td>\n",
       "    </tr>\n",
       "    <tr>\n",
       "      <th>6</th>\n",
       "      <td>6</td>\n",
       "      <td>Azerbaijan</td>\n",
       "      <td>Baku</td>\n",
       "      <td>FORMULA 1 AZERBAIJAN GRAND PRIX 2021</td>\n",
       "      <td>2021-06-06</td>\n",
       "      <td>Azerbaijan Grand Prix</td>\n",
       "      <td>conventional</td>\n",
       "      <td>Practice 1</td>\n",
       "      <td>2021-06-04</td>\n",
       "      <td>Practice 2</td>\n",
       "      <td>2021-06-04</td>\n",
       "      <td>Practice 3</td>\n",
       "      <td>2021-06-05</td>\n",
       "      <td>Qualifying</td>\n",
       "      <td>2021-06-05</td>\n",
       "      <td>Race</td>\n",
       "      <td>2021-06-06</td>\n",
       "      <td>True</td>\n",
       "    </tr>\n",
       "    <tr>\n",
       "      <th>...</th>\n",
       "      <td>...</td>\n",
       "      <td>...</td>\n",
       "      <td>...</td>\n",
       "      <td>...</td>\n",
       "      <td>...</td>\n",
       "      <td>...</td>\n",
       "      <td>...</td>\n",
       "      <td>...</td>\n",
       "      <td>...</td>\n",
       "      <td>...</td>\n",
       "      <td>...</td>\n",
       "      <td>...</td>\n",
       "      <td>...</td>\n",
       "      <td>...</td>\n",
       "      <td>...</td>\n",
       "      <td>...</td>\n",
       "      <td>...</td>\n",
       "      <td>...</td>\n",
       "    </tr>\n",
       "    <tr>\n",
       "      <th>18</th>\n",
       "      <td>18</td>\n",
       "      <td>Mexico</td>\n",
       "      <td>Mexico City</td>\n",
       "      <td>FORMULA 1 GRAN PREMIO DE LA CIUDAD DE MÉXICO 2021</td>\n",
       "      <td>2021-11-07</td>\n",
       "      <td>Mexico City Grand Prix</td>\n",
       "      <td>conventional</td>\n",
       "      <td>Practice 1</td>\n",
       "      <td>2021-11-05</td>\n",
       "      <td>Practice 2</td>\n",
       "      <td>2021-11-05</td>\n",
       "      <td>Practice 3</td>\n",
       "      <td>2021-11-06</td>\n",
       "      <td>Qualifying</td>\n",
       "      <td>2021-11-06</td>\n",
       "      <td>Race</td>\n",
       "      <td>2021-11-07</td>\n",
       "      <td>True</td>\n",
       "    </tr>\n",
       "    <tr>\n",
       "      <th>19</th>\n",
       "      <td>19</td>\n",
       "      <td>Brazil</td>\n",
       "      <td>São Paulo</td>\n",
       "      <td>FORMULA 1 HEINEKEN GRANDE PRÊMIO DE SÃO PAULO 2021</td>\n",
       "      <td>2021-11-14</td>\n",
       "      <td>São Paulo Grand Prix</td>\n",
       "      <td>sprint</td>\n",
       "      <td>Practice 1</td>\n",
       "      <td>2021-11-12</td>\n",
       "      <td>Qualifying</td>\n",
       "      <td>2021-11-12</td>\n",
       "      <td>Practice 2</td>\n",
       "      <td>2021-11-13</td>\n",
       "      <td>Sprint Qualifying</td>\n",
       "      <td>2021-11-13</td>\n",
       "      <td>Race</td>\n",
       "      <td>2021-11-14</td>\n",
       "      <td>True</td>\n",
       "    </tr>\n",
       "    <tr>\n",
       "      <th>20</th>\n",
       "      <td>20</td>\n",
       "      <td>Qatar</td>\n",
       "      <td>Al Daayen</td>\n",
       "      <td>FORMULA 1 OOREDOO QATAR GRAND PRIX 2021</td>\n",
       "      <td>2021-11-21</td>\n",
       "      <td>Qatar Grand Prix</td>\n",
       "      <td>conventional</td>\n",
       "      <td>Practice 1</td>\n",
       "      <td>2021-11-19</td>\n",
       "      <td>Practice 2</td>\n",
       "      <td>2021-11-19</td>\n",
       "      <td>Practice 3</td>\n",
       "      <td>2021-11-20</td>\n",
       "      <td>Qualifying</td>\n",
       "      <td>2021-11-20</td>\n",
       "      <td>Race</td>\n",
       "      <td>2021-11-21</td>\n",
       "      <td>True</td>\n",
       "    </tr>\n",
       "    <tr>\n",
       "      <th>21</th>\n",
       "      <td>21</td>\n",
       "      <td>Saudi Arabia</td>\n",
       "      <td>Jeddah</td>\n",
       "      <td>FORMULA 1 STC SAUDI ARABIAN GRAND PRIX 2021</td>\n",
       "      <td>2021-12-05</td>\n",
       "      <td>Saudi Arabian Grand Prix</td>\n",
       "      <td>conventional</td>\n",
       "      <td>Practice 1</td>\n",
       "      <td>2021-12-03</td>\n",
       "      <td>Practice 2</td>\n",
       "      <td>2021-12-03</td>\n",
       "      <td>Practice 3</td>\n",
       "      <td>2021-12-04</td>\n",
       "      <td>Qualifying</td>\n",
       "      <td>2021-12-04</td>\n",
       "      <td>Race</td>\n",
       "      <td>2021-12-05</td>\n",
       "      <td>True</td>\n",
       "    </tr>\n",
       "    <tr>\n",
       "      <th>22</th>\n",
       "      <td>22</td>\n",
       "      <td>UAE</td>\n",
       "      <td>Abu Dhabi</td>\n",
       "      <td>FORMULA 1 ETIHAD AIRWAYS ABU DHABI GRAND PRIX 2021</td>\n",
       "      <td>2021-12-12</td>\n",
       "      <td>Abu Dhabi Grand Prix</td>\n",
       "      <td>conventional</td>\n",
       "      <td>Practice 1</td>\n",
       "      <td>2021-12-10</td>\n",
       "      <td>Practice 2</td>\n",
       "      <td>2021-12-10</td>\n",
       "      <td>Practice 3</td>\n",
       "      <td>2021-12-11</td>\n",
       "      <td>Qualifying</td>\n",
       "      <td>2021-12-11</td>\n",
       "      <td>Race</td>\n",
       "      <td>2021-12-12</td>\n",
       "      <td>True</td>\n",
       "    </tr>\n",
       "  </tbody>\n",
       "</table></div>"
      ],
      "text/plain": [
       "    RoundNumber       Country      Location  \\\n",
       "2             2         Italy         Imola   \n",
       "3             3      Portugal      Portimão   \n",
       "4             4         Spain      Montmeló   \n",
       "5             5        Monaco   Monte-Carlo   \n",
       "6             6    Azerbaijan          Baku   \n",
       "7             7        France  Le Castellet   \n",
       "8             8       Austria     Spielberg   \n",
       "9             9       Austria     Spielberg   \n",
       "10           10            UK   Silverstone   \n",
       "11           11       Hungary      Budapest   \n",
       "12           12       Belgium           Spa   \n",
       "13           13   Netherlands     Zandvoort   \n",
       "14           14         Italy         Monza   \n",
       "15           15        Russia         Sochi   \n",
       "16           16        Turkey      Istanbul   \n",
       "17           17           USA        Austin   \n",
       "18           18        Mexico   Mexico City   \n",
       "19           19        Brazil     São Paulo   \n",
       "20           20         Qatar     Al Daayen   \n",
       "21           21  Saudi Arabia        Jeddah   \n",
       "22           22           UAE     Abu Dhabi   \n",
       "\n",
       "                                    OfficialEventName  EventDate  \\\n",
       "2   FORMULA 1 PIRELLI GRAN PREMIO DEL MADE IN ITAL... 2021-04-18   \n",
       "3   FORMULA 1 HEINEKEN GRANDE PRÉMIO DE PORTUGAL 2021 2021-05-02   \n",
       "4         FORMULA 1 ARAMCO GRAN PREMIO DE ESPAÑA 2021 2021-05-09   \n",
       "5                 FORMULA 1 GRAND PRIX DE MONACO 2021 2021-05-23   \n",
       "6                FORMULA 1 AZERBAIJAN GRAND PRIX 2021 2021-06-06   \n",
       "7        FORMULA 1 EMIRATES GRAND PRIX DE FRANCE 2021 2021-06-20   \n",
       "8     FORMULA 1 BWT GROSSER PREIS DER STEIERMARK 2021 2021-06-27   \n",
       "9     FORMULA 1 BWT GROSSER PREIS VON ÖSTERREICH 2021 2021-07-04   \n",
       "10          FORMULA 1 PIRELLI BRITISH GRAND PRIX 2021 2021-07-18   \n",
       "11                FORMULA 1 ROLEX MAGYAR NAGYDÍJ 2021 2021-08-01   \n",
       "12            FORMULA 1 ROLEX BELGIAN GRAND PRIX 2021 2021-08-29   \n",
       "13           FORMULA 1 HEINEKEN DUTCH GRAND PRIX 2021 2021-09-05   \n",
       "14       FORMULA 1 HEINEKEN GRAN PREMIO D’ITALIA 2021 2021-09-12   \n",
       "15              FORMULA 1 VTB RUSSIAN GRAND PRIX 2021 2021-09-26   \n",
       "16            FORMULA 1 ROLEX TURKISH GRAND PRIX 2021 2021-10-10   \n",
       "17     FORMULA 1 ARAMCO UNITED STATES GRAND PRIX 2021 2021-10-24   \n",
       "18  FORMULA 1 GRAN PREMIO DE LA CIUDAD DE MÉXICO 2021 2021-11-07   \n",
       "19  FORMULA 1 HEINEKEN GRANDE PRÊMIO DE SÃO PAULO ... 2021-11-14   \n",
       "20            FORMULA 1 OOREDOO QATAR GRAND PRIX 2021 2021-11-21   \n",
       "21        FORMULA 1 STC SAUDI ARABIAN GRAND PRIX 2021 2021-12-05   \n",
       "22  FORMULA 1 ETIHAD AIRWAYS ABU DHABI GRAND PRIX ... 2021-12-12   \n",
       "\n",
       "                    EventName   EventFormat    Session1 Session1Date  \\\n",
       "2   Emilia Romagna Grand Prix  conventional  Practice 1   2021-04-16   \n",
       "3       Portuguese Grand Prix  conventional  Practice 1   2021-04-30   \n",
       "4          Spanish Grand Prix  conventional  Practice 1   2021-05-07   \n",
       "5           Monaco Grand Prix  conventional  Practice 1   2021-05-20   \n",
       "6       Azerbaijan Grand Prix  conventional  Practice 1   2021-06-04   \n",
       "7           French Grand Prix  conventional  Practice 1   2021-06-18   \n",
       "8          Styrian Grand Prix  conventional  Practice 1   2021-06-25   \n",
       "9         Austrian Grand Prix  conventional  Practice 1   2021-07-02   \n",
       "10         British Grand Prix        sprint  Practice 1   2021-07-16   \n",
       "11       Hungarian Grand Prix  conventional  Practice 1   2021-07-30   \n",
       "12         Belgian Grand Prix  conventional  Practice 1   2021-08-27   \n",
       "13           Dutch Grand Prix  conventional  Practice 1   2021-09-03   \n",
       "14         Italian Grand Prix        sprint  Practice 1   2021-09-10   \n",
       "15         Russian Grand Prix  conventional  Practice 1   2021-09-24   \n",
       "16         Turkish Grand Prix  conventional  Practice 1   2021-10-08   \n",
       "17   United States Grand Prix  conventional  Practice 1   2021-10-22   \n",
       "18     Mexico City Grand Prix  conventional  Practice 1   2021-11-05   \n",
       "19       São Paulo Grand Prix        sprint  Practice 1   2021-11-12   \n",
       "20           Qatar Grand Prix  conventional  Practice 1   2021-11-19   \n",
       "21   Saudi Arabian Grand Prix  conventional  Practice 1   2021-12-03   \n",
       "22       Abu Dhabi Grand Prix  conventional  Practice 1   2021-12-10   \n",
       "\n",
       "      Session2 Session2Date    Session3 Session3Date           Session4  \\\n",
       "2   Practice 2   2021-04-16  Practice 3   2021-04-17         Qualifying   \n",
       "3   Practice 2   2021-04-30  Practice 3   2021-05-01         Qualifying   \n",
       "4   Practice 2   2021-05-07  Practice 3   2021-05-08         Qualifying   \n",
       "5   Practice 2   2021-05-20  Practice 3   2021-05-22         Qualifying   \n",
       "6   Practice 2   2021-06-04  Practice 3   2021-06-05         Qualifying   \n",
       "7   Practice 2   2021-06-18  Practice 3   2021-06-19         Qualifying   \n",
       "8   Practice 2   2021-06-25  Practice 3   2021-06-26         Qualifying   \n",
       "9   Practice 2   2021-07-02  Practice 3   2021-07-03         Qualifying   \n",
       "10  Qualifying   2021-07-16  Practice 2   2021-07-17  Sprint Qualifying   \n",
       "11  Practice 2   2021-07-30  Practice 3   2021-07-31         Qualifying   \n",
       "12  Practice 2   2021-08-27  Practice 3   2021-08-28         Qualifying   \n",
       "13  Practice 2   2021-09-03  Practice 3   2021-09-04         Qualifying   \n",
       "14  Qualifying   2021-09-10  Practice 2   2021-09-11  Sprint Qualifying   \n",
       "15  Practice 2   2021-09-24  Practice 3   2021-09-25         Qualifying   \n",
       "16  Practice 2   2021-10-08  Practice 3   2021-10-09         Qualifying   \n",
       "17  Practice 2   2021-10-22  Practice 3   2021-10-23         Qualifying   \n",
       "18  Practice 2   2021-11-05  Practice 3   2021-11-06         Qualifying   \n",
       "19  Qualifying   2021-11-12  Practice 2   2021-11-13  Sprint Qualifying   \n",
       "20  Practice 2   2021-11-19  Practice 3   2021-11-20         Qualifying   \n",
       "21  Practice 2   2021-12-03  Practice 3   2021-12-04         Qualifying   \n",
       "22  Practice 2   2021-12-10  Practice 3   2021-12-11         Qualifying   \n",
       "\n",
       "   Session4Date Session5 Session5Date  F1ApiSupport  \n",
       "2    2021-04-17     Race   2021-04-18          True  \n",
       "3    2021-05-01     Race   2021-05-02          True  \n",
       "4    2021-05-08     Race   2021-05-09          True  \n",
       "5    2021-05-22     Race   2021-05-23          True  \n",
       "6    2021-06-05     Race   2021-06-06          True  \n",
       "7    2021-06-19     Race   2021-06-20          True  \n",
       "8    2021-06-26     Race   2021-06-27          True  \n",
       "9    2021-07-03     Race   2021-07-04          True  \n",
       "10   2021-07-17     Race   2021-07-18          True  \n",
       "11   2021-07-31     Race   2021-08-01          True  \n",
       "12   2021-08-28     Race   2021-08-29          True  \n",
       "13   2021-09-04     Race   2021-09-05          True  \n",
       "14   2021-09-11     Race   2021-09-12          True  \n",
       "15   2021-09-25     Race   2021-09-26          True  \n",
       "16   2021-10-09     Race   2021-10-10          True  \n",
       "17   2021-10-23     Race   2021-10-24          True  \n",
       "18   2021-11-06     Race   2021-11-07          True  \n",
       "19   2021-11-13     Race   2021-11-14          True  \n",
       "20   2021-11-20     Race   2021-11-21          True  \n",
       "21   2021-12-04     Race   2021-12-05          True  \n",
       "22   2021-12-11     Race   2021-12-12          True  "
      ]
     },
     "execution_count": 395,
     "metadata": {},
     "output_type": "execute_result"
    }
   ],
   "source": [
    "events_list_2021"
   ]
  },
  {
   "cell_type": "code",
   "execution_count": 448,
   "metadata": {},
   "outputs": [
    {
     "name": "stderr",
     "output_type": "stream",
     "text": [
      "core           INFO \tLoading data for Spanish Grand Prix - Practice 1 [v2.2.8]\n",
      "api            INFO \tUsing cached data for driver_info\n",
      "api            INFO \tUsing cached data for timing_data\n",
      "api            INFO \tUsing cached data for timing_app_data\n",
      "core           INFO \tProcessing timing data...\n",
      "api            INFO \tUsing cached data for session_status_data\n",
      "api            INFO \tUsing cached data for track_status_data\n",
      "api            INFO \tUsing cached data for car_data\n",
      "api            INFO \tUsing cached data for position_data\n",
      "api            INFO \tUsing cached data for weather_data\n",
      "api            INFO \tUsing cached data for race_control_messages\n",
      "core           INFO \tFinished loading data for 20 drivers: ['1', '63', '55', '47', '45', '44', '36', '31', '22', '20', '18', '16', '14', '10', '6', '5', '4', '3', '77', '88']\n"
     ]
    }
   ],
   "source": [
    "session = ff1.get_session(year, gp_round, ses)\n",
    "session.load(weather=True, telemetry=True)"
   ]
  },
  {
   "cell_type": "code",
   "execution_count": 444,
   "metadata": {},
   "outputs": [
    {
     "data": {
      "text/html": [
       "<div><div id=78418fe7-2ee4-4049-b857-75d1e1c30948 style=\"display:none; background-color:#9D6CFF; color:white; width:200px; height:30px; padding-left:5px; border-radius:4px; flex-direction:row; justify-content:space-around; align-items:center;\" onmouseover=\"this.style.backgroundColor='#BA9BF8'\" onmouseout=\"this.style.backgroundColor='#9D6CFF'\" onclick=\"window.commands?.execute('create-mitosheet-from-dataframe-output');\">See Full Dataframe in Mito</div> <script> if (window.commands.hasCommand('create-mitosheet-from-dataframe-output')) document.getElementById('78418fe7-2ee4-4049-b857-75d1e1c30948').style.display = 'flex' </script> <table border=\"1\" class=\"dataframe\">\n",
       "  <thead>\n",
       "    <tr style=\"text-align: right;\">\n",
       "      <th></th>\n",
       "      <th>RoundNumber</th>\n",
       "      <th>Country</th>\n",
       "      <th>Location</th>\n",
       "      <th>OfficialEventName</th>\n",
       "      <th>EventDate</th>\n",
       "      <th>EventName</th>\n",
       "      <th>EventFormat</th>\n",
       "      <th>Session1</th>\n",
       "      <th>Session1Date</th>\n",
       "      <th>Session2</th>\n",
       "      <th>Session2Date</th>\n",
       "      <th>Session3</th>\n",
       "      <th>Session3Date</th>\n",
       "      <th>Session4</th>\n",
       "      <th>Session4Date</th>\n",
       "      <th>Session5</th>\n",
       "      <th>Session5Date</th>\n",
       "      <th>F1ApiSupport</th>\n",
       "      <th>CountryAbbreviation</th>\n",
       "    </tr>\n",
       "  </thead>\n",
       "  <tbody>\n",
       "    <tr>\n",
       "      <th>2</th>\n",
       "      <td>1</td>\n",
       "      <td>Bahrain</td>\n",
       "      <td>Sakhir</td>\n",
       "      <td>FORMULA 1 GULF AIR BAHRAIN GRAND PRIX 2022</td>\n",
       "      <td>2022-03-20 20:00:00</td>\n",
       "      <td>Bahrain Grand Prix</td>\n",
       "      <td>conventional</td>\n",
       "      <td>Practice 1</td>\n",
       "      <td>2022-03-18 15:00:00</td>\n",
       "      <td>Practice 2</td>\n",
       "      <td>2022-03-18 18:00:00</td>\n",
       "      <td>Practice 3</td>\n",
       "      <td>2022-03-19 15:00:00</td>\n",
       "      <td>Qualifying</td>\n",
       "      <td>2022-03-19 18:00:00</td>\n",
       "      <td>Race</td>\n",
       "      <td>2022-03-20 18:00:00</td>\n",
       "      <td>True</td>\n",
       "      <td>BHR</td>\n",
       "    </tr>\n",
       "    <tr>\n",
       "      <th>3</th>\n",
       "      <td>2</td>\n",
       "      <td>Saudi Arabia</td>\n",
       "      <td>Jeddah</td>\n",
       "      <td>FORMULA 1 STC SAUDI ARABIAN GRAND PRIX 2022</td>\n",
       "      <td>2022-03-27 22:00:00</td>\n",
       "      <td>Saudi Arabian Grand Prix</td>\n",
       "      <td>conventional</td>\n",
       "      <td>Practice 1</td>\n",
       "      <td>2022-03-25 17:00:00</td>\n",
       "      <td>Practice 2</td>\n",
       "      <td>2022-03-25 20:00:00</td>\n",
       "      <td>Practice 3</td>\n",
       "      <td>2022-03-26 17:00:00</td>\n",
       "      <td>Qualifying</td>\n",
       "      <td>2022-03-26 20:00:00</td>\n",
       "      <td>Race</td>\n",
       "      <td>2022-03-27 20:00:00</td>\n",
       "      <td>True</td>\n",
       "      <td>SAU</td>\n",
       "    </tr>\n",
       "    <tr>\n",
       "      <th>4</th>\n",
       "      <td>3</td>\n",
       "      <td>Australia</td>\n",
       "      <td>Melbourne</td>\n",
       "      <td>FORMULA 1 HEINEKEN AUSTRALIAN GRAND PRIX 2022</td>\n",
       "      <td>2022-04-10 17:00:00</td>\n",
       "      <td>Australian Grand Prix</td>\n",
       "      <td>conventional</td>\n",
       "      <td>Practice 1</td>\n",
       "      <td>2022-04-08 13:00:00</td>\n",
       "      <td>Practice 2</td>\n",
       "      <td>2022-04-08 16:00:00</td>\n",
       "      <td>Practice 3</td>\n",
       "      <td>2022-04-09 13:00:00</td>\n",
       "      <td>Qualifying</td>\n",
       "      <td>2022-04-09 16:00:00</td>\n",
       "      <td>Race</td>\n",
       "      <td>2022-04-10 15:00:00</td>\n",
       "      <td>True</td>\n",
       "      <td>AUS</td>\n",
       "    </tr>\n",
       "    <tr>\n",
       "      <th>5</th>\n",
       "      <td>4</td>\n",
       "      <td>Italy</td>\n",
       "      <td>Imola</td>\n",
       "      <td>FORMULA 1 ROLEX GRAN PREMIO DEL MADE IN ITALY E DELL'EMILIA-ROMAGNA 2022</td>\n",
       "      <td>2022-04-24 17:00:00</td>\n",
       "      <td>Emilia Romagna Grand Prix</td>\n",
       "      <td>sprint</td>\n",
       "      <td>Practice 1</td>\n",
       "      <td>2022-04-22 13:30:00</td>\n",
       "      <td>Qualifying</td>\n",
       "      <td>2022-04-22 17:00:00</td>\n",
       "      <td>Practice 2</td>\n",
       "      <td>2022-04-23 12:30:00</td>\n",
       "      <td>Sprint</td>\n",
       "      <td>2022-04-23 16:30:00</td>\n",
       "      <td>Race</td>\n",
       "      <td>2022-04-24 15:00:00</td>\n",
       "      <td>True</td>\n",
       "      <td>ERO</td>\n",
       "    </tr>\n",
       "    <tr>\n",
       "      <th>6</th>\n",
       "      <td>5</td>\n",
       "      <td>United States</td>\n",
       "      <td>Miami</td>\n",
       "      <td>FORMULA 1 CRYPTO.COM MIAMI GRAND PRIX 2022</td>\n",
       "      <td>2022-05-08 17:30:00</td>\n",
       "      <td>Miami Grand Prix</td>\n",
       "      <td>conventional</td>\n",
       "      <td>Practice 1</td>\n",
       "      <td>2022-05-06 14:30:00</td>\n",
       "      <td>Practice 2</td>\n",
       "      <td>2022-05-06 17:30:00</td>\n",
       "      <td>Practice 3</td>\n",
       "      <td>2022-05-07 13:00:00</td>\n",
       "      <td>Qualifying</td>\n",
       "      <td>2022-05-07 16:00:00</td>\n",
       "      <td>Race</td>\n",
       "      <td>2022-05-08 15:30:00</td>\n",
       "      <td>True</td>\n",
       "      <td>MIA</td>\n",
       "    </tr>\n",
       "    <tr>\n",
       "      <th>7</th>\n",
       "      <td>6</td>\n",
       "      <td>Spain</td>\n",
       "      <td>Barcelona</td>\n",
       "      <td>FORMULA 1 PIRELLI GRAN PREMIO DE ESPAÑA 2022</td>\n",
       "      <td>2022-05-22 17:00:00</td>\n",
       "      <td>Spanish Grand Prix</td>\n",
       "      <td>conventional</td>\n",
       "      <td>Practice 1</td>\n",
       "      <td>2022-05-20 14:00:00</td>\n",
       "      <td>Practice 2</td>\n",
       "      <td>2022-05-20 17:00:00</td>\n",
       "      <td>Practice 3</td>\n",
       "      <td>2022-05-21 13:00:00</td>\n",
       "      <td>Qualifying</td>\n",
       "      <td>2022-05-21 16:00:00</td>\n",
       "      <td>Race</td>\n",
       "      <td>2022-05-22 15:00:00</td>\n",
       "      <td>True</td>\n",
       "      <td>ESP</td>\n",
       "    </tr>\n",
       "    <tr>\n",
       "      <th>8</th>\n",
       "      <td>7</td>\n",
       "      <td>Monaco</td>\n",
       "      <td>Monte Carlo</td>\n",
       "      <td>FORMULA 1 GRAND PRIX DE MONACO 2022</td>\n",
       "      <td>2022-05-29 17:00:00</td>\n",
       "      <td>Monaco Grand Prix</td>\n",
       "      <td>conventional</td>\n",
       "      <td>Practice 1</td>\n",
       "      <td>2022-05-27 14:00:00</td>\n",
       "      <td>Practice 2</td>\n",
       "      <td>2022-05-27 17:00:00</td>\n",
       "      <td>Practice 3</td>\n",
       "      <td>2022-05-28 13:00:00</td>\n",
       "      <td>Qualifying</td>\n",
       "      <td>2022-05-28 16:00:00</td>\n",
       "      <td>Race</td>\n",
       "      <td>2022-05-29 15:00:00</td>\n",
       "      <td>True</td>\n",
       "      <td>MCO</td>\n",
       "    </tr>\n",
       "    <tr>\n",
       "      <th>9</th>\n",
       "      <td>8</td>\n",
       "      <td>Azerbaijan</td>\n",
       "      <td>Baku</td>\n",
       "      <td>FORMULA 1 AZERBAIJAN GRAND PRIX 2022</td>\n",
       "      <td>2022-06-12 17:00:00</td>\n",
       "      <td>Azerbaijan Grand Prix</td>\n",
       "      <td>conventional</td>\n",
       "      <td>Practice 1</td>\n",
       "      <td>2022-06-10 15:00:00</td>\n",
       "      <td>Practice 2</td>\n",
       "      <td>2022-06-10 18:00:00</td>\n",
       "      <td>Practice 3</td>\n",
       "      <td>2022-06-11 15:00:00</td>\n",
       "      <td>Qualifying</td>\n",
       "      <td>2022-06-11 18:00:00</td>\n",
       "      <td>Race</td>\n",
       "      <td>2022-06-12 15:00:00</td>\n",
       "      <td>True</td>\n",
       "      <td>AZE</td>\n",
       "    </tr>\n",
       "    <tr>\n",
       "      <th>10</th>\n",
       "      <td>9</td>\n",
       "      <td>Canada</td>\n",
       "      <td>Montréal</td>\n",
       "      <td>FORMULA 1 GRAND PRIX DU CANADA 2022</td>\n",
       "      <td>2022-06-19 16:00:00</td>\n",
       "      <td>Canadian Grand Prix</td>\n",
       "      <td>conventional</td>\n",
       "      <td>Practice 1</td>\n",
       "      <td>2022-06-17 14:00:00</td>\n",
       "      <td>Practice 2</td>\n",
       "      <td>2022-06-17 17:00:00</td>\n",
       "      <td>Practice 3</td>\n",
       "      <td>2022-06-18 13:00:00</td>\n",
       "      <td>Qualifying</td>\n",
       "      <td>2022-06-18 16:00:00</td>\n",
       "      <td>Race</td>\n",
       "      <td>2022-06-19 14:00:00</td>\n",
       "      <td>True</td>\n",
       "      <td>CAN</td>\n",
       "    </tr>\n",
       "    <tr>\n",
       "      <th>11</th>\n",
       "      <td>10</td>\n",
       "      <td>Great Britain</td>\n",
       "      <td>Silverstone</td>\n",
       "      <td>FORMULA 1 BRITISH GRAND PRIX 2022</td>\n",
       "      <td>2022-07-03 17:00:00</td>\n",
       "      <td>British Grand Prix</td>\n",
       "      <td>conventional</td>\n",
       "      <td>Practice 1</td>\n",
       "      <td>2022-07-01 13:00:00</td>\n",
       "      <td>Practice 2</td>\n",
       "      <td>2022-07-01 16:00:00</td>\n",
       "      <td>Practice 3</td>\n",
       "      <td>2022-07-02 12:00:00</td>\n",
       "      <td>Qualifying</td>\n",
       "      <td>2022-07-02 15:00:00</td>\n",
       "      <td>Race</td>\n",
       "      <td>2022-07-03 15:00:00</td>\n",
       "      <td>True</td>\n",
       "      <td>GBR</td>\n",
       "    </tr>\n",
       "  </tbody>\n",
       "</table></div>"
      ],
      "text/plain": [
       "    RoundNumber        Country     Location  \\\n",
       "2             1        Bahrain       Sakhir   \n",
       "3             2   Saudi Arabia       Jeddah   \n",
       "4             3      Australia    Melbourne   \n",
       "5             4          Italy        Imola   \n",
       "6             5  United States        Miami   \n",
       "7             6          Spain    Barcelona   \n",
       "8             7         Monaco  Monte Carlo   \n",
       "9             8     Azerbaijan         Baku   \n",
       "10            9         Canada     Montréal   \n",
       "11           10  Great Britain  Silverstone   \n",
       "\n",
       "                                    OfficialEventName           EventDate  \\\n",
       "2          FORMULA 1 GULF AIR BAHRAIN GRAND PRIX 2022 2022-03-20 20:00:00   \n",
       "3         FORMULA 1 STC SAUDI ARABIAN GRAND PRIX 2022 2022-03-27 22:00:00   \n",
       "4       FORMULA 1 HEINEKEN AUSTRALIAN GRAND PRIX 2022 2022-04-10 17:00:00   \n",
       "5   FORMULA 1 ROLEX GRAN PREMIO DEL MADE IN ITALY ... 2022-04-24 17:00:00   \n",
       "6          FORMULA 1 CRYPTO.COM MIAMI GRAND PRIX 2022 2022-05-08 17:30:00   \n",
       "7        FORMULA 1 PIRELLI GRAN PREMIO DE ESPAÑA 2022 2022-05-22 17:00:00   \n",
       "8                 FORMULA 1 GRAND PRIX DE MONACO 2022 2022-05-29 17:00:00   \n",
       "9                FORMULA 1 AZERBAIJAN GRAND PRIX 2022 2022-06-12 17:00:00   \n",
       "10                FORMULA 1 GRAND PRIX DU CANADA 2022 2022-06-19 16:00:00   \n",
       "11                  FORMULA 1 BRITISH GRAND PRIX 2022 2022-07-03 17:00:00   \n",
       "\n",
       "                    EventName   EventFormat    Session1        Session1Date  \\\n",
       "2          Bahrain Grand Prix  conventional  Practice 1 2022-03-18 15:00:00   \n",
       "3    Saudi Arabian Grand Prix  conventional  Practice 1 2022-03-25 17:00:00   \n",
       "4       Australian Grand Prix  conventional  Practice 1 2022-04-08 13:00:00   \n",
       "5   Emilia Romagna Grand Prix        sprint  Practice 1 2022-04-22 13:30:00   \n",
       "6            Miami Grand Prix  conventional  Practice 1 2022-05-06 14:30:00   \n",
       "7          Spanish Grand Prix  conventional  Practice 1 2022-05-20 14:00:00   \n",
       "8           Monaco Grand Prix  conventional  Practice 1 2022-05-27 14:00:00   \n",
       "9       Azerbaijan Grand Prix  conventional  Practice 1 2022-06-10 15:00:00   \n",
       "10        Canadian Grand Prix  conventional  Practice 1 2022-06-17 14:00:00   \n",
       "11         British Grand Prix  conventional  Practice 1 2022-07-01 13:00:00   \n",
       "\n",
       "      Session2        Session2Date    Session3        Session3Date  \\\n",
       "2   Practice 2 2022-03-18 18:00:00  Practice 3 2022-03-19 15:00:00   \n",
       "3   Practice 2 2022-03-25 20:00:00  Practice 3 2022-03-26 17:00:00   \n",
       "4   Practice 2 2022-04-08 16:00:00  Practice 3 2022-04-09 13:00:00   \n",
       "5   Qualifying 2022-04-22 17:00:00  Practice 2 2022-04-23 12:30:00   \n",
       "6   Practice 2 2022-05-06 17:30:00  Practice 3 2022-05-07 13:00:00   \n",
       "7   Practice 2 2022-05-20 17:00:00  Practice 3 2022-05-21 13:00:00   \n",
       "8   Practice 2 2022-05-27 17:00:00  Practice 3 2022-05-28 13:00:00   \n",
       "9   Practice 2 2022-06-10 18:00:00  Practice 3 2022-06-11 15:00:00   \n",
       "10  Practice 2 2022-06-17 17:00:00  Practice 3 2022-06-18 13:00:00   \n",
       "11  Practice 2 2022-07-01 16:00:00  Practice 3 2022-07-02 12:00:00   \n",
       "\n",
       "      Session4        Session4Date Session5        Session5Date  F1ApiSupport  \\\n",
       "2   Qualifying 2022-03-19 18:00:00     Race 2022-03-20 18:00:00          True   \n",
       "3   Qualifying 2022-03-26 20:00:00     Race 2022-03-27 20:00:00          True   \n",
       "4   Qualifying 2022-04-09 16:00:00     Race 2022-04-10 15:00:00          True   \n",
       "5       Sprint 2022-04-23 16:30:00     Race 2022-04-24 15:00:00          True   \n",
       "6   Qualifying 2022-05-07 16:00:00     Race 2022-05-08 15:30:00          True   \n",
       "7   Qualifying 2022-05-21 16:00:00     Race 2022-05-22 15:00:00          True   \n",
       "8   Qualifying 2022-05-28 16:00:00     Race 2022-05-29 15:00:00          True   \n",
       "9   Qualifying 2022-06-11 18:00:00     Race 2022-06-12 15:00:00          True   \n",
       "10  Qualifying 2022-06-18 16:00:00     Race 2022-06-19 14:00:00          True   \n",
       "11  Qualifying 2022-07-02 15:00:00     Race 2022-07-03 15:00:00          True   \n",
       "\n",
       "   CountryAbbreviation  \n",
       "2                  BHR  \n",
       "3                  SAU  \n",
       "4                  AUS  \n",
       "5                  ERO  \n",
       "6                  MIA  \n",
       "7                  ESP  \n",
       "8                  MCO  \n",
       "9                  AZE  \n",
       "10                 CAN  \n",
       "11                 GBR  "
      ]
     },
     "execution_count": 444,
     "metadata": {},
     "output_type": "execute_result"
    }
   ],
   "source": [
    "events_list.head(10)"
   ]
  },
  {
   "cell_type": "code",
   "execution_count": 398,
   "metadata": {},
   "outputs": [],
   "source": [
    "session_dict = {'conventional': ['Practice 1', 'Practice 2', 'Practice 3', 'Qualifying', 'Race'],\n",
    "                'sprint': ['Practice 1', 'Qualifying', 'Practice 2', 'Sprint', 'Race']}"
   ]
  },
  {
   "cell_type": "code",
   "execution_count": 449,
   "metadata": {},
   "outputs": [
    {
     "data": {
      "text/html": [
       "<div><div id=581bbdb8-545b-45e9-95a9-28c16d79d1c9 style=\"display:none; background-color:#9D6CFF; color:white; width:200px; height:30px; padding-left:5px; border-radius:4px; flex-direction:row; justify-content:space-around; align-items:center;\" onmouseover=\"this.style.backgroundColor='#BA9BF8'\" onmouseout=\"this.style.backgroundColor='#9D6CFF'\" onclick=\"window.commands?.execute('create-mitosheet-from-dataframe-output');\">See Full Dataframe in Mito</div> <script> if (window.commands.hasCommand('create-mitosheet-from-dataframe-output')) document.getElementById('581bbdb8-545b-45e9-95a9-28c16d79d1c9').style.display = 'flex' </script> <table border=\"1\" class=\"dataframe\">\n",
       "  <thead>\n",
       "    <tr style=\"text-align: right;\">\n",
       "      <th></th>\n",
       "      <th>DriverNumber</th>\n",
       "      <th>BroadcastName</th>\n",
       "      <th>Abbreviation</th>\n",
       "      <th>TeamName</th>\n",
       "      <th>TeamColor</th>\n",
       "      <th>FirstName</th>\n",
       "      <th>LastName</th>\n",
       "      <th>FullName</th>\n",
       "      <th>Position</th>\n",
       "      <th>GridPosition</th>\n",
       "      <th>Q1</th>\n",
       "      <th>Q2</th>\n",
       "      <th>Q3</th>\n",
       "      <th>Time</th>\n",
       "      <th>Status</th>\n",
       "      <th>Points</th>\n",
       "    </tr>\n",
       "  </thead>\n",
       "  <tbody>\n",
       "    <tr>\n",
       "      <th>1</th>\n",
       "      <td>1</td>\n",
       "      <td>M VERSTAPPEN</td>\n",
       "      <td>VER</td>\n",
       "      <td>Red Bull Racing</td>\n",
       "      <td>1e5bc6</td>\n",
       "      <td>Max</td>\n",
       "      <td>Verstappen</td>\n",
       "      <td>Max Verstappen</td>\n",
       "      <td>0.0</td>\n",
       "      <td>0.0</td>\n",
       "      <td>NaT</td>\n",
       "      <td>NaT</td>\n",
       "      <td>NaT</td>\n",
       "      <td>NaT</td>\n",
       "      <td></td>\n",
       "      <td>0.0</td>\n",
       "    </tr>\n",
       "    <tr>\n",
       "      <th>63</th>\n",
       "      <td>63</td>\n",
       "      <td>G RUSSELL</td>\n",
       "      <td>RUS</td>\n",
       "      <td>Mercedes</td>\n",
       "      <td>6cd3bf</td>\n",
       "      <td>George</td>\n",
       "      <td>Russell</td>\n",
       "      <td>George Russell</td>\n",
       "      <td>0.0</td>\n",
       "      <td>0.0</td>\n",
       "      <td>NaT</td>\n",
       "      <td>NaT</td>\n",
       "      <td>NaT</td>\n",
       "      <td>NaT</td>\n",
       "      <td></td>\n",
       "      <td>0.0</td>\n",
       "    </tr>\n",
       "    <tr>\n",
       "      <th>55</th>\n",
       "      <td>55</td>\n",
       "      <td>C SAINZ</td>\n",
       "      <td>SAI</td>\n",
       "      <td>Ferrari</td>\n",
       "      <td>ed1c24</td>\n",
       "      <td>Carlos</td>\n",
       "      <td>Sainz</td>\n",
       "      <td>Carlos Sainz</td>\n",
       "      <td>0.0</td>\n",
       "      <td>0.0</td>\n",
       "      <td>NaT</td>\n",
       "      <td>NaT</td>\n",
       "      <td>NaT</td>\n",
       "      <td>NaT</td>\n",
       "      <td></td>\n",
       "      <td>0.0</td>\n",
       "    </tr>\n",
       "    <tr>\n",
       "      <th>47</th>\n",
       "      <td>47</td>\n",
       "      <td>M SCHUMACHER</td>\n",
       "      <td>MSC</td>\n",
       "      <td>Haas F1 Team</td>\n",
       "      <td>b6babd</td>\n",
       "      <td>Mick</td>\n",
       "      <td>Schumacher</td>\n",
       "      <td>Mick Schumacher</td>\n",
       "      <td>0.0</td>\n",
       "      <td>0.0</td>\n",
       "      <td>NaT</td>\n",
       "      <td>NaT</td>\n",
       "      <td>NaT</td>\n",
       "      <td>NaT</td>\n",
       "      <td></td>\n",
       "      <td>0.0</td>\n",
       "    </tr>\n",
       "    <tr>\n",
       "      <th>45</th>\n",
       "      <td>45</td>\n",
       "      <td>N DE VRIES</td>\n",
       "      <td>DEV</td>\n",
       "      <td>Williams</td>\n",
       "      <td>37bedd</td>\n",
       "      <td>Nyck</td>\n",
       "      <td>De Vries</td>\n",
       "      <td>Nyck De Vries</td>\n",
       "      <td>0.0</td>\n",
       "      <td>0.0</td>\n",
       "      <td>NaT</td>\n",
       "      <td>NaT</td>\n",
       "      <td>NaT</td>\n",
       "      <td>NaT</td>\n",
       "      <td></td>\n",
       "      <td>0.0</td>\n",
       "    </tr>\n",
       "    <tr>\n",
       "      <th>...</th>\n",
       "      <td>...</td>\n",
       "      <td>...</td>\n",
       "      <td>...</td>\n",
       "      <td>...</td>\n",
       "      <td>...</td>\n",
       "      <td>...</td>\n",
       "      <td>...</td>\n",
       "      <td>...</td>\n",
       "      <td>...</td>\n",
       "      <td>...</td>\n",
       "      <td>...</td>\n",
       "      <td>...</td>\n",
       "      <td>...</td>\n",
       "      <td>...</td>\n",
       "      <td>...</td>\n",
       "      <td>...</td>\n",
       "    </tr>\n",
       "    <tr>\n",
       "      <th>5</th>\n",
       "      <td>5</td>\n",
       "      <td>S VETTEL</td>\n",
       "      <td>VET</td>\n",
       "      <td>Aston Martin</td>\n",
       "      <td>2d826d</td>\n",
       "      <td>Sebastian</td>\n",
       "      <td>Vettel</td>\n",
       "      <td>Sebastian Vettel</td>\n",
       "      <td>0.0</td>\n",
       "      <td>0.0</td>\n",
       "      <td>NaT</td>\n",
       "      <td>NaT</td>\n",
       "      <td>NaT</td>\n",
       "      <td>NaT</td>\n",
       "      <td></td>\n",
       "      <td>0.0</td>\n",
       "    </tr>\n",
       "    <tr>\n",
       "      <th>4</th>\n",
       "      <td>4</td>\n",
       "      <td>L NORRIS</td>\n",
       "      <td>NOR</td>\n",
       "      <td>McLaren</td>\n",
       "      <td>f58020</td>\n",
       "      <td>Lando</td>\n",
       "      <td>Norris</td>\n",
       "      <td>Lando Norris</td>\n",
       "      <td>0.0</td>\n",
       "      <td>0.0</td>\n",
       "      <td>NaT</td>\n",
       "      <td>NaT</td>\n",
       "      <td>NaT</td>\n",
       "      <td>NaT</td>\n",
       "      <td></td>\n",
       "      <td>0.0</td>\n",
       "    </tr>\n",
       "    <tr>\n",
       "      <th>3</th>\n",
       "      <td>3</td>\n",
       "      <td>D RICCIARDO</td>\n",
       "      <td>RIC</td>\n",
       "      <td>McLaren</td>\n",
       "      <td>f58020</td>\n",
       "      <td>Daniel</td>\n",
       "      <td>Ricciardo</td>\n",
       "      <td>Daniel Ricciardo</td>\n",
       "      <td>0.0</td>\n",
       "      <td>0.0</td>\n",
       "      <td>NaT</td>\n",
       "      <td>NaT</td>\n",
       "      <td>NaT</td>\n",
       "      <td>NaT</td>\n",
       "      <td></td>\n",
       "      <td>0.0</td>\n",
       "    </tr>\n",
       "    <tr>\n",
       "      <th>77</th>\n",
       "      <td>77</td>\n",
       "      <td>V BOTTAS</td>\n",
       "      <td>BOT</td>\n",
       "      <td>Alfa Romeo</td>\n",
       "      <td>b12039</td>\n",
       "      <td>Valtteri</td>\n",
       "      <td>Bottas</td>\n",
       "      <td>Valtteri Bottas</td>\n",
       "      <td>0.0</td>\n",
       "      <td>0.0</td>\n",
       "      <td>NaT</td>\n",
       "      <td>NaT</td>\n",
       "      <td>NaT</td>\n",
       "      <td>NaT</td>\n",
       "      <td></td>\n",
       "      <td>0.0</td>\n",
       "    </tr>\n",
       "    <tr>\n",
       "      <th>88</th>\n",
       "      <td>88</td>\n",
       "      <td>R KUBICA</td>\n",
       "      <td>KUB</td>\n",
       "      <td>Alfa Romeo</td>\n",
       "      <td>b12039</td>\n",
       "      <td>Robert</td>\n",
       "      <td>Kubica</td>\n",
       "      <td>Robert Kubica</td>\n",
       "      <td>0.0</td>\n",
       "      <td>0.0</td>\n",
       "      <td>NaT</td>\n",
       "      <td>NaT</td>\n",
       "      <td>NaT</td>\n",
       "      <td>NaT</td>\n",
       "      <td></td>\n",
       "      <td>0.0</td>\n",
       "    </tr>\n",
       "  </tbody>\n",
       "</table></div>"
      ],
      "text/plain": [
       "   DriverNumber BroadcastName Abbreviation         TeamName TeamColor  \\\n",
       "1             1  M VERSTAPPEN          VER  Red Bull Racing    1e5bc6   \n",
       "63           63     G RUSSELL          RUS         Mercedes    6cd3bf   \n",
       "55           55       C SAINZ          SAI          Ferrari    ed1c24   \n",
       "47           47  M SCHUMACHER          MSC     Haas F1 Team    b6babd   \n",
       "45           45    N DE VRIES          DEV         Williams    37bedd   \n",
       "44           44    L HAMILTON          HAM         Mercedes    6cd3bf   \n",
       "36           36        J VIPS          VIP  Red Bull Racing    1e5bc6   \n",
       "31           31        E OCON          OCO           Alpine    2293d1   \n",
       "22           22     Y TSUNODA          TSU       AlphaTauri    4e7c9b   \n",
       "20           20   K MAGNUSSEN          MAG     Haas F1 Team    b6babd   \n",
       "18           18      L STROLL          STR     Aston Martin    2d826d   \n",
       "16           16     C LECLERC          LEC          Ferrari    ed1c24   \n",
       "14           14      F ALONSO          ALO           Alpine    2293d1   \n",
       "10           10       P GASLY          GAS       AlphaTauri    4e7c9b   \n",
       "6             6      N LATIFI          LAT         Williams    37bedd   \n",
       "5             5      S VETTEL          VET     Aston Martin    2d826d   \n",
       "4             4      L NORRIS          NOR          McLaren    f58020   \n",
       "3             3   D RICCIARDO          RIC          McLaren    f58020   \n",
       "77           77      V BOTTAS          BOT       Alfa Romeo    b12039   \n",
       "88           88      R KUBICA          KUB       Alfa Romeo    b12039   \n",
       "\n",
       "    FirstName    LastName          FullName  Position  GridPosition  Q1  Q2  \\\n",
       "1         Max  Verstappen    Max Verstappen       0.0           0.0 NaT NaT   \n",
       "63     George     Russell    George Russell       0.0           0.0 NaT NaT   \n",
       "55     Carlos       Sainz      Carlos Sainz       0.0           0.0 NaT NaT   \n",
       "47       Mick  Schumacher   Mick Schumacher       0.0           0.0 NaT NaT   \n",
       "45       Nyck    De Vries     Nyck De Vries       0.0           0.0 NaT NaT   \n",
       "44      Lewis    Hamilton    Lewis Hamilton       0.0           0.0 NaT NaT   \n",
       "36       Juri        Vips         Juri Vips       0.0           0.0 NaT NaT   \n",
       "31    Esteban        Ocon      Esteban Ocon       0.0           0.0 NaT NaT   \n",
       "22       Yuki     Tsunoda      Yuki Tsunoda       0.0           0.0 NaT NaT   \n",
       "20      Kevin   Magnussen   Kevin Magnussen       0.0           0.0 NaT NaT   \n",
       "18      Lance      Stroll      Lance Stroll       0.0           0.0 NaT NaT   \n",
       "16    Charles     Leclerc   Charles Leclerc       0.0           0.0 NaT NaT   \n",
       "14   Fernando      Alonso   Fernando Alonso       0.0           0.0 NaT NaT   \n",
       "10     Pierre       Gasly      Pierre Gasly       0.0           0.0 NaT NaT   \n",
       "6    Nicholas      Latifi   Nicholas Latifi       0.0           0.0 NaT NaT   \n",
       "5   Sebastian      Vettel  Sebastian Vettel       0.0           0.0 NaT NaT   \n",
       "4       Lando      Norris      Lando Norris       0.0           0.0 NaT NaT   \n",
       "3      Daniel   Ricciardo  Daniel Ricciardo       0.0           0.0 NaT NaT   \n",
       "77   Valtteri      Bottas   Valtteri Bottas       0.0           0.0 NaT NaT   \n",
       "88     Robert      Kubica     Robert Kubica       0.0           0.0 NaT NaT   \n",
       "\n",
       "    Q3 Time Status  Points  \n",
       "1  NaT  NaT            0.0  \n",
       "63 NaT  NaT            0.0  \n",
       "55 NaT  NaT            0.0  \n",
       "47 NaT  NaT            0.0  \n",
       "45 NaT  NaT            0.0  \n",
       "44 NaT  NaT            0.0  \n",
       "36 NaT  NaT            0.0  \n",
       "31 NaT  NaT            0.0  \n",
       "22 NaT  NaT            0.0  \n",
       "20 NaT  NaT            0.0  \n",
       "18 NaT  NaT            0.0  \n",
       "16 NaT  NaT            0.0  \n",
       "14 NaT  NaT            0.0  \n",
       "10 NaT  NaT            0.0  \n",
       "6  NaT  NaT            0.0  \n",
       "5  NaT  NaT            0.0  \n",
       "4  NaT  NaT            0.0  \n",
       "3  NaT  NaT            0.0  \n",
       "77 NaT  NaT            0.0  \n",
       "88 NaT  NaT            0.0  "
      ]
     },
     "execution_count": 449,
     "metadata": {},
     "output_type": "execute_result"
    }
   ],
   "source": [
    "results = session.results\n",
    "results"
   ]
  },
  {
   "cell_type": "code",
   "execution_count": 400,
   "metadata": {},
   "outputs": [
    {
     "data": {
      "text/html": [
       "<div><div id=cff82977-b485-4d06-bc4a-6e0c9168be82 style=\"display:none; background-color:#9D6CFF; color:white; width:200px; height:30px; padding-left:5px; border-radius:4px; flex-direction:row; justify-content:space-around; align-items:center;\" onmouseover=\"this.style.backgroundColor='#BA9BF8'\" onmouseout=\"this.style.backgroundColor='#9D6CFF'\" onclick=\"window.commands?.execute('create-mitosheet-from-dataframe-output');\">See Full Dataframe in Mito</div> <script> if (window.commands.hasCommand('create-mitosheet-from-dataframe-output')) document.getElementById('cff82977-b485-4d06-bc4a-6e0c9168be82').style.display = 'flex' </script> <table border=\"1\" class=\"dataframe\">\n",
       "  <thead>\n",
       "    <tr style=\"text-align: right;\">\n",
       "      <th></th>\n",
       "      <th>Date</th>\n",
       "      <th>SessionTime</th>\n",
       "      <th>DriverAhead</th>\n",
       "      <th>DistanceToDriverAhead</th>\n",
       "      <th>Time</th>\n",
       "      <th>RPM</th>\n",
       "      <th>Speed</th>\n",
       "      <th>nGear</th>\n",
       "      <th>Throttle</th>\n",
       "      <th>Brake</th>\n",
       "      <th>DRS</th>\n",
       "      <th>Source</th>\n",
       "      <th>Distance</th>\n",
       "      <th>RelativeDistance</th>\n",
       "      <th>Status</th>\n",
       "      <th>X</th>\n",
       "      <th>Y</th>\n",
       "      <th>Z</th>\n",
       "    </tr>\n",
       "  </thead>\n",
       "  <tbody>\n",
       "    <tr>\n",
       "      <th>2</th>\n",
       "      <td>2022-04-10 06:29:39.980</td>\n",
       "      <td>0 days 02:28:39.969000</td>\n",
       "      <td></td>\n",
       "      <td>NaN</td>\n",
       "      <td>0 days 00:00:00</td>\n",
       "      <td>10861</td>\n",
       "      <td>304</td>\n",
       "      <td>8</td>\n",
       "      <td>100</td>\n",
       "      <td>False</td>\n",
       "      <td>12</td>\n",
       "      <td>interpolation</td>\n",
       "      <td>0.181566</td>\n",
       "      <td>0.000035</td>\n",
       "      <td>OnTrack</td>\n",
       "      <td>-1194</td>\n",
       "      <td>-1333</td>\n",
       "      <td>85</td>\n",
       "    </tr>\n",
       "    <tr>\n",
       "      <th>3</th>\n",
       "      <td>2022-04-10 06:29:40.018</td>\n",
       "      <td>0 days 02:28:40.007000</td>\n",
       "      <td></td>\n",
       "      <td>NaN</td>\n",
       "      <td>0 days 00:00:00.038000</td>\n",
       "      <td>10869</td>\n",
       "      <td>305</td>\n",
       "      <td>8</td>\n",
       "      <td>100</td>\n",
       "      <td>False</td>\n",
       "      <td>12</td>\n",
       "      <td>pos</td>\n",
       "      <td>3.420203</td>\n",
       "      <td>0.000657</td>\n",
       "      <td>OnTrack</td>\n",
       "      <td>-1217</td>\n",
       "      <td>-1312</td>\n",
       "      <td>85</td>\n",
       "    </tr>\n",
       "    <tr>\n",
       "      <th>4</th>\n",
       "      <td>2022-04-10 06:29:40.057</td>\n",
       "      <td>0 days 02:28:40.046000</td>\n",
       "      <td></td>\n",
       "      <td>NaN</td>\n",
       "      <td>0 days 00:00:00.077000</td>\n",
       "      <td>10884</td>\n",
       "      <td>306</td>\n",
       "      <td>8</td>\n",
       "      <td>100</td>\n",
       "      <td>False</td>\n",
       "      <td>12</td>\n",
       "      <td>car</td>\n",
       "      <td>6.747500</td>\n",
       "      <td>0.001296</td>\n",
       "      <td>OnTrack</td>\n",
       "      <td>-1239</td>\n",
       "      <td>-1290</td>\n",
       "      <td>84</td>\n",
       "    </tr>\n",
       "    <tr>\n",
       "      <th>5</th>\n",
       "      <td>2022-04-10 06:29:40.199</td>\n",
       "      <td>0 days 02:28:40.188000</td>\n",
       "      <td></td>\n",
       "      <td>NaN</td>\n",
       "      <td>0 days 00:00:00.219000</td>\n",
       "      <td>10952</td>\n",
       "      <td>307</td>\n",
       "      <td>8</td>\n",
       "      <td>100</td>\n",
       "      <td>False</td>\n",
       "      <td>12</td>\n",
       "      <td>pos</td>\n",
       "      <td>18.891086</td>\n",
       "      <td>0.003629</td>\n",
       "      <td>OnTrack</td>\n",
       "      <td>-1328</td>\n",
       "      <td>-1206</td>\n",
       "      <td>84</td>\n",
       "    </tr>\n",
       "    <tr>\n",
       "      <th>6</th>\n",
       "      <td>2022-04-10 06:29:40.337</td>\n",
       "      <td>0 days 02:28:40.326000</td>\n",
       "      <td></td>\n",
       "      <td>NaN</td>\n",
       "      <td>0 days 00:00:00.357000</td>\n",
       "      <td>11021</td>\n",
       "      <td>308</td>\n",
       "      <td>8</td>\n",
       "      <td>100</td>\n",
       "      <td>False</td>\n",
       "      <td>12</td>\n",
       "      <td>car</td>\n",
       "      <td>30.703056</td>\n",
       "      <td>0.005899</td>\n",
       "      <td>OnTrack</td>\n",
       "      <td>-1450</td>\n",
       "      <td>-1089</td>\n",
       "      <td>82</td>\n",
       "    </tr>\n",
       "    <tr>\n",
       "      <th>...</th>\n",
       "      <td>...</td>\n",
       "      <td>...</td>\n",
       "      <td>...</td>\n",
       "      <td>...</td>\n",
       "      <td>...</td>\n",
       "      <td>...</td>\n",
       "      <td>...</td>\n",
       "      <td>...</td>\n",
       "      <td>...</td>\n",
       "      <td>...</td>\n",
       "      <td>...</td>\n",
       "      <td>...</td>\n",
       "      <td>...</td>\n",
       "      <td>...</td>\n",
       "      <td>...</td>\n",
       "      <td>...</td>\n",
       "      <td>...</td>\n",
       "      <td>...</td>\n",
       "    </tr>\n",
       "    <tr>\n",
       "      <th>597</th>\n",
       "      <td>2022-04-10 06:30:59.778</td>\n",
       "      <td>0 days 02:29:59.767000</td>\n",
       "      <td></td>\n",
       "      <td>NaN</td>\n",
       "      <td>0 days 00:01:19.798000</td>\n",
       "      <td>11600</td>\n",
       "      <td>287</td>\n",
       "      <td>7</td>\n",
       "      <td>100</td>\n",
       "      <td>False</td>\n",
       "      <td>0</td>\n",
       "      <td>car</td>\n",
       "      <td>5166.352500</td>\n",
       "      <td>0.992559</td>\n",
       "      <td>OnTrack</td>\n",
       "      <td>-911</td>\n",
       "      <td>-1602</td>\n",
       "      <td>86</td>\n",
       "    </tr>\n",
       "    <tr>\n",
       "      <th>598</th>\n",
       "      <td>2022-04-10 06:30:59.779</td>\n",
       "      <td>0 days 02:29:59.768000</td>\n",
       "      <td></td>\n",
       "      <td>NaN</td>\n",
       "      <td>0 days 00:01:19.799000</td>\n",
       "      <td>11621</td>\n",
       "      <td>288</td>\n",
       "      <td>7</td>\n",
       "      <td>100</td>\n",
       "      <td>False</td>\n",
       "      <td>0</td>\n",
       "      <td>pos</td>\n",
       "      <td>5166.432675</td>\n",
       "      <td>0.992574</td>\n",
       "      <td>OnTrack</td>\n",
       "      <td>-912</td>\n",
       "      <td>-1602</td>\n",
       "      <td>86</td>\n",
       "    </tr>\n",
       "    <tr>\n",
       "      <th>599</th>\n",
       "      <td>2022-04-10 06:31:00.018</td>\n",
       "      <td>0 days 02:30:00.007000</td>\n",
       "      <td></td>\n",
       "      <td>NaN</td>\n",
       "      <td>0 days 00:01:20.038000</td>\n",
       "      <td>11642</td>\n",
       "      <td>290</td>\n",
       "      <td>7</td>\n",
       "      <td>100</td>\n",
       "      <td>False</td>\n",
       "      <td>0</td>\n",
       "      <td>car</td>\n",
       "      <td>5185.685833</td>\n",
       "      <td>0.996273</td>\n",
       "      <td>OnTrack</td>\n",
       "      <td>-1059</td>\n",
       "      <td>-1462</td>\n",
       "      <td>85</td>\n",
       "    </tr>\n",
       "    <tr>\n",
       "      <th>600</th>\n",
       "      <td>2022-04-10 06:31:00.059</td>\n",
       "      <td>0 days 02:30:00.048000</td>\n",
       "      <td></td>\n",
       "      <td>NaN</td>\n",
       "      <td>0 days 00:01:20.079000</td>\n",
       "      <td>11673</td>\n",
       "      <td>290</td>\n",
       "      <td>7</td>\n",
       "      <td>100</td>\n",
       "      <td>False</td>\n",
       "      <td>0</td>\n",
       "      <td>pos</td>\n",
       "      <td>5188.997055</td>\n",
       "      <td>0.996909</td>\n",
       "      <td>OnTrack</td>\n",
       "      <td>-1085</td>\n",
       "      <td>-1438</td>\n",
       "      <td>85</td>\n",
       "    </tr>\n",
       "    <tr>\n",
       "      <th>601</th>\n",
       "      <td>2022-04-10 06:31:00.240</td>\n",
       "      <td>0 days 02:30:00.229000</td>\n",
       "      <td></td>\n",
       "      <td>NaN</td>\n",
       "      <td>0 days 00:01:20.260000</td>\n",
       "      <td>11689</td>\n",
       "      <td>290</td>\n",
       "      <td>7</td>\n",
       "      <td>100</td>\n",
       "      <td>False</td>\n",
       "      <td>0</td>\n",
       "      <td>interpolation</td>\n",
       "      <td>5203.629394</td>\n",
       "      <td>0.999720</td>\n",
       "      <td>OnTrack</td>\n",
       "      <td>-1184</td>\n",
       "      <td>-1327</td>\n",
       "      <td>68</td>\n",
       "    </tr>\n",
       "  </tbody>\n",
       "</table></div>"
      ],
      "text/plain": [
       "                       Date            SessionTime DriverAhead  \\\n",
       "2   2022-04-10 06:29:39.980 0 days 02:28:39.969000               \n",
       "3   2022-04-10 06:29:40.018 0 days 02:28:40.007000               \n",
       "4   2022-04-10 06:29:40.057 0 days 02:28:40.046000               \n",
       "5   2022-04-10 06:29:40.199 0 days 02:28:40.188000               \n",
       "6   2022-04-10 06:29:40.337 0 days 02:28:40.326000               \n",
       "..                      ...                    ...         ...   \n",
       "597 2022-04-10 06:30:59.778 0 days 02:29:59.767000               \n",
       "598 2022-04-10 06:30:59.779 0 days 02:29:59.768000               \n",
       "599 2022-04-10 06:31:00.018 0 days 02:30:00.007000               \n",
       "600 2022-04-10 06:31:00.059 0 days 02:30:00.048000               \n",
       "601 2022-04-10 06:31:00.240 0 days 02:30:00.229000               \n",
       "\n",
       "     DistanceToDriverAhead                   Time    RPM  Speed  nGear  \\\n",
       "2                      NaN        0 days 00:00:00  10861    304      8   \n",
       "3                      NaN 0 days 00:00:00.038000  10869    305      8   \n",
       "4                      NaN 0 days 00:00:00.077000  10884    306      8   \n",
       "5                      NaN 0 days 00:00:00.219000  10952    307      8   \n",
       "6                      NaN 0 days 00:00:00.357000  11021    308      8   \n",
       "..                     ...                    ...    ...    ...    ...   \n",
       "597                    NaN 0 days 00:01:19.798000  11600    287      7   \n",
       "598                    NaN 0 days 00:01:19.799000  11621    288      7   \n",
       "599                    NaN 0 days 00:01:20.038000  11642    290      7   \n",
       "600                    NaN 0 days 00:01:20.079000  11673    290      7   \n",
       "601                    NaN 0 days 00:01:20.260000  11689    290      7   \n",
       "\n",
       "     Throttle  Brake  DRS         Source     Distance  RelativeDistance  \\\n",
       "2         100  False   12  interpolation     0.181566          0.000035   \n",
       "3         100  False   12            pos     3.420203          0.000657   \n",
       "4         100  False   12            car     6.747500          0.001296   \n",
       "5         100  False   12            pos    18.891086          0.003629   \n",
       "6         100  False   12            car    30.703056          0.005899   \n",
       "..        ...    ...  ...            ...          ...               ...   \n",
       "597       100  False    0            car  5166.352500          0.992559   \n",
       "598       100  False    0            pos  5166.432675          0.992574   \n",
       "599       100  False    0            car  5185.685833          0.996273   \n",
       "600       100  False    0            pos  5188.997055          0.996909   \n",
       "601       100  False    0  interpolation  5203.629394          0.999720   \n",
       "\n",
       "      Status     X     Y   Z  \n",
       "2    OnTrack -1194 -1333  85  \n",
       "3    OnTrack -1217 -1312  85  \n",
       "4    OnTrack -1239 -1290  84  \n",
       "5    OnTrack -1328 -1206  84  \n",
       "6    OnTrack -1450 -1089  82  \n",
       "..       ...   ...   ...  ..  \n",
       "597  OnTrack  -911 -1602  86  \n",
       "598  OnTrack  -912 -1602  86  \n",
       "599  OnTrack -1059 -1462  85  \n",
       "600  OnTrack -1085 -1438  85  \n",
       "601  OnTrack -1184 -1327  68  \n",
       "\n",
       "[600 rows x 18 columns]"
      ]
     },
     "execution_count": 400,
     "metadata": {},
     "output_type": "execute_result"
    }
   ],
   "source": [
    "fastest_lap = session.laps.pick_fastest()\n",
    "tel = fastest_lap.telemetry\n",
    "tel"
   ]
  },
  {
   "cell_type": "code",
   "execution_count": 401,
   "metadata": {},
   "outputs": [
    {
     "data": {
      "text/html": [
       "<div><div id=47357e63-01b1-49ef-8416-99a8d41cf4fa style=\"display:none; background-color:#9D6CFF; color:white; width:200px; height:30px; padding-left:5px; border-radius:4px; flex-direction:row; justify-content:space-around; align-items:center;\" onmouseover=\"this.style.backgroundColor='#BA9BF8'\" onmouseout=\"this.style.backgroundColor='#9D6CFF'\" onclick=\"window.commands?.execute('create-mitosheet-from-dataframe-output');\">See Full Dataframe in Mito</div> <script> if (window.commands.hasCommand('create-mitosheet-from-dataframe-output')) document.getElementById('47357e63-01b1-49ef-8416-99a8d41cf4fa').style.display = 'flex' </script> <table border=\"1\" class=\"dataframe\">\n",
       "  <thead>\n",
       "    <tr style=\"text-align: right;\">\n",
       "      <th></th>\n",
       "      <th>Time</th>\n",
       "      <th>AirTemp</th>\n",
       "      <th>Humidity</th>\n",
       "      <th>Pressure</th>\n",
       "      <th>Rainfall</th>\n",
       "      <th>TrackTemp</th>\n",
       "      <th>WindDirection</th>\n",
       "      <th>WindSpeed</th>\n",
       "    </tr>\n",
       "  </thead>\n",
       "  <tbody>\n",
       "    <tr>\n",
       "      <th>0</th>\n",
       "      <td>0 days 00:00:27.733000</td>\n",
       "      <td>26.0</td>\n",
       "      <td>48.0</td>\n",
       "      <td>1014.5</td>\n",
       "      <td>False</td>\n",
       "      <td>40.6</td>\n",
       "      <td>299</td>\n",
       "      <td>2.9</td>\n",
       "    </tr>\n",
       "    <tr>\n",
       "      <th>1</th>\n",
       "      <td>0 days 00:01:27.730000</td>\n",
       "      <td>25.9</td>\n",
       "      <td>48.0</td>\n",
       "      <td>1014.5</td>\n",
       "      <td>False</td>\n",
       "      <td>40.6</td>\n",
       "      <td>284</td>\n",
       "      <td>2.5</td>\n",
       "    </tr>\n",
       "    <tr>\n",
       "      <th>2</th>\n",
       "      <td>0 days 00:02:27.732000</td>\n",
       "      <td>25.9</td>\n",
       "      <td>48.0</td>\n",
       "      <td>1014.5</td>\n",
       "      <td>False</td>\n",
       "      <td>40.6</td>\n",
       "      <td>342</td>\n",
       "      <td>2.4</td>\n",
       "    </tr>\n",
       "    <tr>\n",
       "      <th>3</th>\n",
       "      <td>0 days 00:03:27.735000</td>\n",
       "      <td>25.9</td>\n",
       "      <td>48.0</td>\n",
       "      <td>1014.5</td>\n",
       "      <td>False</td>\n",
       "      <td>40.7</td>\n",
       "      <td>295</td>\n",
       "      <td>2.4</td>\n",
       "    </tr>\n",
       "    <tr>\n",
       "      <th>4</th>\n",
       "      <td>0 days 00:04:27.764000</td>\n",
       "      <td>25.8</td>\n",
       "      <td>48.0</td>\n",
       "      <td>1014.5</td>\n",
       "      <td>False</td>\n",
       "      <td>41.2</td>\n",
       "      <td>289</td>\n",
       "      <td>2.7</td>\n",
       "    </tr>\n",
       "    <tr>\n",
       "      <th>...</th>\n",
       "      <td>...</td>\n",
       "      <td>...</td>\n",
       "      <td>...</td>\n",
       "      <td>...</td>\n",
       "      <td>...</td>\n",
       "      <td>...</td>\n",
       "      <td>...</td>\n",
       "      <td>...</td>\n",
       "    </tr>\n",
       "    <tr>\n",
       "      <th>151</th>\n",
       "      <td>0 days 02:31:27.982000</td>\n",
       "      <td>27.3</td>\n",
       "      <td>42.0</td>\n",
       "      <td>1014.0</td>\n",
       "      <td>False</td>\n",
       "      <td>34.0</td>\n",
       "      <td>318</td>\n",
       "      <td>1.2</td>\n",
       "    </tr>\n",
       "    <tr>\n",
       "      <th>152</th>\n",
       "      <td>0 days 02:32:27.983000</td>\n",
       "      <td>27.2</td>\n",
       "      <td>42.0</td>\n",
       "      <td>1014.0</td>\n",
       "      <td>False</td>\n",
       "      <td>34.0</td>\n",
       "      <td>184</td>\n",
       "      <td>0.8</td>\n",
       "    </tr>\n",
       "    <tr>\n",
       "      <th>153</th>\n",
       "      <td>0 days 02:33:27.981000</td>\n",
       "      <td>27.1</td>\n",
       "      <td>41.0</td>\n",
       "      <td>1013.9</td>\n",
       "      <td>False</td>\n",
       "      <td>34.0</td>\n",
       "      <td>285</td>\n",
       "      <td>1.5</td>\n",
       "    </tr>\n",
       "    <tr>\n",
       "      <th>154</th>\n",
       "      <td>0 days 02:34:27.983000</td>\n",
       "      <td>27.1</td>\n",
       "      <td>40.0</td>\n",
       "      <td>1014.0</td>\n",
       "      <td>False</td>\n",
       "      <td>33.8</td>\n",
       "      <td>305</td>\n",
       "      <td>1.8</td>\n",
       "    </tr>\n",
       "    <tr>\n",
       "      <th>155</th>\n",
       "      <td>0 days 02:35:27.985000</td>\n",
       "      <td>27.0</td>\n",
       "      <td>42.0</td>\n",
       "      <td>1014.0</td>\n",
       "      <td>False</td>\n",
       "      <td>33.4</td>\n",
       "      <td>286</td>\n",
       "      <td>2.0</td>\n",
       "    </tr>\n",
       "  </tbody>\n",
       "</table></div>"
      ],
      "text/plain": [
       "                      Time  AirTemp  Humidity  Pressure  Rainfall  TrackTemp  \\\n",
       "0   0 days 00:00:27.733000     26.0      48.0    1014.5     False       40.6   \n",
       "1   0 days 00:01:27.730000     25.9      48.0    1014.5     False       40.6   \n",
       "2   0 days 00:02:27.732000     25.9      48.0    1014.5     False       40.6   \n",
       "3   0 days 00:03:27.735000     25.9      48.0    1014.5     False       40.7   \n",
       "4   0 days 00:04:27.764000     25.8      48.0    1014.5     False       41.2   \n",
       "..                     ...      ...       ...       ...       ...        ...   \n",
       "151 0 days 02:31:27.982000     27.3      42.0    1014.0     False       34.0   \n",
       "152 0 days 02:32:27.983000     27.2      42.0    1014.0     False       34.0   \n",
       "153 0 days 02:33:27.981000     27.1      41.0    1013.9     False       34.0   \n",
       "154 0 days 02:34:27.983000     27.1      40.0    1014.0     False       33.8   \n",
       "155 0 days 02:35:27.985000     27.0      42.0    1014.0     False       33.4   \n",
       "\n",
       "     WindDirection  WindSpeed  \n",
       "0              299        2.9  \n",
       "1              284        2.5  \n",
       "2              342        2.4  \n",
       "3              295        2.4  \n",
       "4              289        2.7  \n",
       "..             ...        ...  \n",
       "151            318        1.2  \n",
       "152            184        0.8  \n",
       "153            285        1.5  \n",
       "154            305        1.8  \n",
       "155            286        2.0  \n",
       "\n",
       "[156 rows x 8 columns]"
      ]
     },
     "execution_count": 401,
     "metadata": {},
     "output_type": "execute_result"
    }
   ],
   "source": [
    "session_weather = session.weather_data\n",
    "session_weather"
   ]
  },
  {
   "cell_type": "code",
   "execution_count": 402,
   "metadata": {},
   "outputs": [],
   "source": [
    "# Function to format timedelta Series as string if necessary\n",
    "def format_time(timedelta_series, num):\n",
    "    t_list_str = []\n",
    "    for i in timedelta_series:\n",
    "        i = str(i)\n",
    "        t_list_str.append(i[num:-3])\n",
    "        \n",
    "    return t_list_str"
   ]
  },
  {
   "cell_type": "code",
   "execution_count": 403,
   "metadata": {},
   "outputs": [],
   "source": [
    "fastest_driver_1 = session.laps.pick_driver(driver_1).pick_fastest()\n",
    "fastest_driver_2 = session.laps.pick_driver(driver_2).pick_fastest()"
   ]
  },
  {
   "cell_type": "code",
   "execution_count": 404,
   "metadata": {},
   "outputs": [],
   "source": [
    "lap_1 = fastest_driver_1.telemetry"
   ]
  },
  {
   "cell_type": "code",
   "execution_count": 405,
   "metadata": {},
   "outputs": [],
   "source": [
    "car_data_1 = fastest_driver_1.get_car_data().add_distance()\n",
    "car_data_1['Distance'] = round(car_data_1['Distance'])\n",
    "car_data_2 = fastest_driver_2.get_car_data().add_distance()\n",
    "car_data_2['Distance'] = round(car_data_2['Distance'])"
   ]
  },
  {
   "cell_type": "code",
   "execution_count": 406,
   "metadata": {},
   "outputs": [],
   "source": [
    "delta_time, ref_tel, compare_tel = utils.delta_time(fastest_driver_1, fastest_driver_2)\n",
    "plot_title = f\"{session.event.year} {session.event.EventName} - {session.name} - {driver_1} vs {driver_2}\""
   ]
  },
  {
   "cell_type": "code",
   "execution_count": 407,
   "metadata": {},
   "outputs": [
    {
     "data": {
      "application/vnd.plotly.v1+json": {
       "config": {
        "plotlyServerURL": "https://plot.ly"
       },
       "data": [
        {
         "hovertemplate": "Speed: %{y} km/h<br>Distance: %{x} meters",
         "line": {
          "color": "#0600ef"
         },
         "name": "VER",
         "opacity": 0.8,
         "type": "scatter",
         "x": [
          11,
          27,
          56,
          89,
          121,
          137,
          153,
          169,
          194,
          219,
          232,
          254,
          279,
          290,
          306,
          326,
          336,
          345,
          357,
          366,
          373,
          387,
          395,
          408,
          421,
          432,
          446,
          467,
          484,
          512,
          528,
          554,
          568,
          590,
          610,
          627,
          650,
          665,
          683,
          704,
          719,
          749,
          765,
          789,
          811,
          830,
          854,
          879,
          891,
          910,
          922,
          934,
          958,
          983,
          1002,
          1018,
          1031,
          1037,
          1045,
          1052,
          1059,
          1068,
          1074,
          1084,
          1095,
          1101,
          1108,
          1118,
          1123,
          1132,
          1139,
          1147,
          1169,
          1186,
          1195,
          1208,
          1214,
          1224,
          1238,
          1249,
          1261,
          1275,
          1284,
          1304,
          1329,
          1368,
          1378,
          1398,
          1408,
          1424,
          1452,
          1470,
          1489,
          1503,
          1514,
          1533,
          1550,
          1564,
          1576,
          1590,
          1608,
          1626,
          1644,
          1655,
          1673,
          1691,
          1714,
          1729,
          1752,
          1778,
          1806,
          1828,
          1845,
          1860,
          1872,
          1881,
          1895,
          1919,
          1942,
          1960,
          1971,
          1987,
          2008,
          2034,
          2051,
          2071,
          2094,
          2115,
          2133,
          2157,
          2184,
          2197,
          2209,
          2228,
          2243,
          2262,
          2278,
          2297,
          2323,
          2352,
          2368,
          2388,
          2404,
          2451,
          2470,
          2490,
          2517,
          2541,
          2557,
          2581,
          2608,
          2632,
          2652,
          2670,
          2687,
          2700,
          2714,
          2742,
          2762,
          2776,
          2790,
          2804,
          2831,
          2852,
          2890,
          2921,
          2959,
          2980,
          3011,
          3045,
          3061,
          3085,
          3098,
          3118,
          3151,
          3171,
          3193,
          3217,
          3229,
          3243,
          3261,
          3279,
          3289,
          3314,
          3324,
          3349,
          3361,
          3382,
          3401,
          3426,
          3447,
          3465,
          3479,
          3498,
          3509,
          3540,
          3558,
          3587,
          3620,
          3638,
          3660,
          3672,
          3694,
          3716,
          3732,
          3744,
          3773,
          3793,
          3815,
          3835,
          3864,
          3881,
          3904,
          3930,
          3946,
          3958,
          3986,
          4006,
          4019,
          4027,
          4041,
          4057,
          4062,
          4072,
          4079,
          4087,
          4096,
          4107,
          4117,
          4133,
          4140,
          4157,
          4173,
          4200,
          4211,
          4227,
          4241,
          4261,
          4270,
          4285,
          4295,
          4304,
          4325,
          4334,
          4354,
          4371,
          4382,
          4399,
          4421,
          4434,
          4462,
          4472,
          4482,
          4500,
          4514,
          4531,
          4541,
          4553,
          4567,
          4572,
          4580,
          4589,
          4593,
          4603,
          4607,
          4613,
          4621,
          4635,
          4644,
          4662,
          4717,
          4724,
          4731,
          4741,
          4759,
          4769,
          4787,
          4800,
          4819,
          4839,
          4864,
          4877,
          4907,
          4920,
          4937,
          4966,
          4980,
          4995,
          5006,
          5024,
          5036,
          5048,
          5063,
          5082,
          5097,
          5110,
          5141,
          5154,
          5170,
          5189,
          5211
         ],
         "xaxis": "x",
         "y": [
          288,
          289,
          291,
          291,
          290,
          288,
          287,
          287,
          286,
          284,
          283,
          280,
          256,
          234,
          205,
          182,
          177,
          173,
          170,
          168,
          168,
          176,
          179,
          190,
          197,
          201,
          203,
          215,
          221,
          228,
          233,
          240,
          244,
          249,
          254,
          257,
          261,
          264,
          267,
          269,
          272,
          276,
          277,
          278,
          278,
          278,
          278,
          277,
          277,
          277,
          277,
          276,
          269,
          248,
          214,
          175,
          151,
          144,
          134,
          125,
          115,
          110,
          105,
          101,
          102,
          105,
          111,
          116,
          122,
          130,
          138,
          142,
          164,
          155,
          152,
          147,
          147,
          150,
          158,
          166,
          173,
          184,
          190,
          199,
          211,
          219,
          224,
          226,
          227,
          227,
          233,
          236,
          241,
          241,
          247,
          250,
          255,
          258,
          258,
          262,
          264,
          266,
          268,
          268,
          266,
          264,
          264,
          264,
          265,
          253,
          209,
          197,
          196,
          199,
          203,
          206,
          212,
          220,
          227,
          232,
          236,
          239,
          245,
          253,
          256,
          260,
          262,
          266,
          269,
          272,
          275,
          276,
          277,
          279,
          281,
          283,
          284,
          287,
          289,
          292,
          293,
          294,
          295,
          298,
          298,
          300,
          301,
          301,
          303,
          304,
          304,
          306,
          308,
          308,
          308,
          309,
          309,
          309,
          310,
          310,
          310,
          311,
          312,
          312,
          312,
          311,
          310,
          309,
          307,
          305,
          303,
          301,
          300,
          299,
          296,
          296,
          291,
          269,
          256,
          251,
          237,
          233,
          227,
          226,
          228,
          218,
          214,
          213,
          219,
          226,
          231,
          238,
          241,
          246,
          249,
          256,
          260,
          265,
          271,
          274,
          276,
          278,
          280,
          283,
          284,
          285,
          289,
          290,
          291,
          293,
          295,
          295,
          294,
          293,
          289,
          284,
          249,
          225,
          194,
          174,
          158,
          131,
          126,
          119,
          116,
          114,
          116,
          125,
          127,
          145,
          154,
          170,
          182,
          198,
          202,
          207,
          213,
          219,
          222,
          223,
          217,
          215,
          205,
          204,
          203,
          208,
          212,
          217,
          221,
          223,
          230,
          231,
          234,
          230,
          205,
          169,
          154,
          134,
          115,
          108,
          101,
          95,
          92,
          96,
          97,
          101,
          104,
          122,
          137,
          152,
          163,
          165,
          167,
          169,
          182,
          188,
          196,
          202,
          212,
          220,
          230,
          234,
          241,
          245,
          250,
          257,
          261,
          263,
          264,
          268,
          269,
          271,
          274,
          275,
          278,
          280,
          283,
          284,
          286,
          288,
          290
         ],
         "yaxis": "y"
        },
        {
         "hovertemplate": "Speed: %{y} km/h<br>Distance: %{x} meters",
         "line": {
          "color": "#dc0000"
         },
         "name": "LEC",
         "opacity": 0.8,
         "type": "scatter",
         "x": [
          7,
          31,
          58,
          79,
          96,
          131,
          144,
          158,
          182,
          265,
          278,
          294,
          306,
          314,
          332,
          343,
          357,
          372,
          380,
          390,
          402,
          422,
          431,
          443,
          454,
          467,
          477,
          497,
          521,
          534,
          556,
          575,
          595,
          624,
          642,
          673,
          689,
          708,
          739,
          759,
          782,
          808,
          821,
          834,
          851,
          864,
          887,
          900,
          920,
          946,
          957,
          970,
          984,
          995,
          1007,
          1015,
          1022,
          1030,
          1042,
          1052,
          1058,
          1064,
          1070,
          1077,
          1089,
          1097,
          1105,
          1122,
          1129,
          1139,
          1149,
          1164,
          1173,
          1187,
          1204,
          1210,
          1226,
          1235,
          1254,
          1272,
          1283,
          1299,
          1315,
          1337,
          1349,
          1368,
          1389,
          1415,
          1431,
          1441,
          1460,
          1476,
          1493,
          1510,
          1524,
          1539,
          1562,
          1586,
          1610,
          1635,
          1653,
          1672,
          1697,
          1719,
          1744,
          1762,
          1783,
          1802,
          1813,
          1839,
          1850,
          1872,
          1881,
          1895,
          1912,
          1934,
          1947,
          1968,
          1984,
          2001,
          2017,
          2029,
          2046,
          2081,
          2111,
          2145,
          2164,
          2186,
          2204,
          2227,
          2255,
          2298,
          2311,
          2330,
          2357,
          2377,
          2394,
          2414,
          2451,
          2471,
          2505,
          2522,
          2543,
          2560,
          2580,
          2601,
          2636,
          2667,
          2688,
          2705,
          2736,
          2764,
          2803,
          2817,
          2831,
          2855,
          2869,
          2890,
          2905,
          2919,
          2933,
          2957,
          2982,
          3003,
          3021,
          3035,
          3049,
          3071,
          3110,
          3131,
          3166,
          3185,
          3198,
          3210,
          3232,
          3253,
          3271,
          3300,
          3321,
          3340,
          3350,
          3376,
          3389,
          3399,
          3412,
          3428,
          3445,
          3459,
          3476,
          3496,
          3572,
          3594,
          3613,
          3629,
          3645,
          3661,
          3687,
          3707,
          3736,
          3750,
          3791,
          3808,
          3825,
          3845,
          3870,
          3887,
          3908,
          3936,
          3964,
          3983,
          4002,
          4012,
          4026,
          4033,
          4040,
          4050,
          4057,
          4067,
          4075,
          4087,
          4094,
          4104,
          4110,
          4122,
          4128,
          4140,
          4156,
          4163,
          4178,
          4193,
          4202,
          4219,
          4241,
          4259,
          4269,
          4294,
          4324,
          4336,
          4353,
          4370,
          4379,
          4389,
          4404,
          4415,
          4435,
          4446,
          4459,
          4476,
          4487,
          4501,
          4520,
          4547,
          4554,
          4561,
          4572,
          4581,
          4585,
          4596,
          4606,
          4611,
          4617,
          4625,
          4635,
          4642,
          4649,
          4655,
          4667,
          4674,
          4687,
          4703,
          4712,
          4722,
          4730,
          4743,
          4754,
          4775,
          4787,
          4805,
          4823,
          4848,
          4861,
          4875,
          4894,
          4916,
          4930,
          4945,
          4965,
          4980,
          4992,
          5013,
          5031,
          5043,
          5068,
          5090,
          5109,
          5144,
          5166,
          5185
         ],
         "xaxis": "x",
         "y": [
          306,
          308,
          308,
          311,
          311,
          311,
          311,
          311,
          312,
          256,
          235,
          203,
          188,
          177,
          165,
          161,
          161,
          165,
          171,
          176,
          189,
          198,
          204,
          210,
          212,
          218,
          223,
          230,
          237,
          237,
          245,
          251,
          257,
          265,
          270,
          277,
          278,
          282,
          287,
          290,
          293,
          294,
          296,
          297,
          298,
          299,
          299,
          299,
          298,
          288,
          259,
          232,
          212,
          194,
          170,
          152,
          146,
          130,
          119,
          113,
          109,
          105,
          102,
          100,
          102,
          109,
          115,
          126,
          133,
          145,
          153,
          155,
          151,
          146,
          147,
          149,
          153,
          158,
          171,
          186,
          194,
          203,
          212,
          218,
          226,
          233,
          236,
          237,
          237,
          237,
          241,
          244,
          249,
          254,
          257,
          260,
          265,
          269,
          274,
          276,
          278,
          279,
          281,
          281,
          280,
          276,
          233,
          214,
          206,
          193,
          194,
          199,
          201,
          210,
          216,
          223,
          231,
          237,
          243,
          248,
          251,
          255,
          258,
          265,
          270,
          276,
          279,
          282,
          282,
          286,
          287,
          293,
          294,
          297,
          299,
          299,
          300,
          302,
          303,
          305,
          306,
          307,
          307,
          308,
          309,
          310,
          312,
          312,
          313,
          312,
          313,
          314,
          315,
          315,
          316,
          316,
          316,
          316,
          317,
          317,
          318,
          317,
          317,
          318,
          318,
          319,
          320,
          319,
          318,
          318,
          316,
          293,
          281,
          266,
          249,
          237,
          232,
          234,
          240,
          240,
          236,
          232,
          231,
          235,
          238,
          243,
          246,
          249,
          253,
          258,
          276,
          279,
          283,
          285,
          287,
          290,
          293,
          295,
          299,
          301,
          305,
          306,
          309,
          310,
          313,
          314,
          314,
          316,
          282,
          245,
          214,
          214,
          178,
          160,
          153,
          137,
          129,
          118,
          112,
          109,
          112,
          119,
          126,
          137,
          141,
          156,
          170,
          178,
          183,
          200,
          200,
          212,
          223,
          229,
          233,
          229,
          220,
          218,
          216,
          217,
          219,
          222,
          226,
          230,
          235,
          238,
          242,
          247,
          248,
          244,
          195,
          135,
          126,
          117,
          105,
          98,
          96,
          97,
          103,
          105,
          110,
          118,
          126,
          136,
          145,
          149,
          153,
          155,
          150,
          154,
          157,
          161,
          167,
          176,
          183,
          196,
          203,
          212,
          221,
          231,
          235,
          241,
          244,
          253,
          255,
          258,
          263,
          265,
          269,
          271,
          273,
          276,
          278,
          281,
          283,
          286,
          287,
          290
         ],
         "yaxis": "y"
        },
        {
         "hovertemplate": "Delta Time: %{y:.3f} sec",
         "line": {
          "color": "white",
          "width": 1
         },
         "name": "Delta Time",
         "opacity": 0.8,
         "type": "scatter",
         "x": [
          0,
          11.120000000000001,
          27.175555555555555,
          56.275555555555556,
          88.60888888888888,
          120.83111111111111,
          136.8311111111111,
          152.69583333333333,
          168.64027777777778,
          194.0625,
          219.30694444444444,
          231.88472222222222,
          253.74027777777778,
          279.34027777777777,
          289.7402777777778,
          305.68472222222226,
          325.9069444444445,
          335.7402777777778,
          345.3513888888889,
          356.68472222222226,
          366.0180555555556,
          373.4847222222223,
          387.1736111111112,
          395.1291666666667,
          407.7958333333334,
          420.92916666666673,
          432.0958333333334,
          445.6291666666668,
          467.1291666666667,
          484.31805555555565,
          512.1847222222224,
          527.7180555555557,
          554.3847222222224,
          567.8725000000002,
          590.0058333333334,
          609.761388888889,
          626.8947222222223,
          650.1672222222223,
          664.833888888889,
          682.633888888889,
          703.5561111111114,
          718.6672222222224,
          749.3338888888892,
          764.722777777778,
          789.4338888888891,
          811.0561111111112,
          829.5894444444446,
          854.3005555555557,
          878.9227777777779,
          891.233888888889,
          909.7005555555558,
          922.0116666666669,
          934.2783333333335,
          958.1894444444446,
          982.9894444444446,
          1002.0116666666669,
          1017.5672222222224,
          1030.9894444444446,
          1037.3494444444448,
          1044.7938888888891,
          1051.7383333333337,
          1059.4050000000004,
          1067.9911111111114,
          1073.8244444444447,
          1083.9244444444448,
          1095.257777777778,
          1101.0911111111113,
          1108.4911111111114,
          1117.5133333333335,
          1122.9355555555558,
          1131.6022222222225,
          1139.2688888888893,
          1147.1577777777782,
          1169.024444444445,
          1186.2466666666671,
          1194.6911111111117,
          1207.7577777777783,
          1214.2911111111116,
          1224.2911111111116,
          1238.335555555556,
          1249.4022222222227,
          1260.9355555555562,
          1275.2466666666671,
          1283.6911111111115,
          1303.5358333333338,
          1329.3247222222228,
          1368.3188888888894,
          1378.274444444445,
          1398.363333333334,
          1408.4522222222229,
          1423.585555555556,
          1452.063333333334,
          1470.4188888888896,
          1489.1633333333339,
          1502.552222222223,
          1513.5300000000009,
          1532.9744444444452,
          1549.9744444444455,
          1564.3077777777787,
          1575.7744444444454,
          1590.3300000000008,
          1607.9300000000007,
          1625.6633333333343,
          1643.5300000000009,
          1655.441111111112,
          1673.1744444444455,
          1690.7744444444454,
          1714.241111111112,
          1728.9077777777786,
          1752.3897222222233,
          1777.6897222222233,
          1805.6144444444453,
          1827.5033333333342,
          1844.9255555555565,
          1860.403333333334,
          1871.681111111112,
          1880.8366666666675,
          1894.9700000000007,
          1919.414444444445,
          1942.1144444444453,
          1960.1588888888896,
          1970.6477777777786,
          1986.5811111111116,
          2008.3588888888894,
          2033.6588888888894,
          2050.725555555556,
          2070.9477777777784,
          2094.236666666667,
          2114.925555555556,
          2132.858888888889,
          2157.036666666667,
          2184.460277777778,
          2196.726944444445,
          2209.0380555555557,
          2227.7155555555555,
          2243.326666666667,
          2262.1933333333336,
          2277.971111111111,
          2297.1044444444447,
          2322.7933333333335,
          2351.9933333333333,
          2368.2711111111107,
          2387.871111111111,
          2404.26,
          2450.615555555555,
          2470.482222222222,
          2490.482222222222,
          2517.2377777777774,
          2540.6488888888885,
          2557.4822222222215,
          2581.126666666666,
          2608.1488888888885,
          2631.9488888888886,
          2652.482222222222,
          2669.593333333333,
          2686.704444444444,
          2700.4377777777772,
          2714.171111111111,
          2741.5519444444444,
          2762.2186111111105,
          2776.0824999999995,
          2789.860277777778,
          2803.6825,
          2831.4158333333335,
          2852.2158333333336,
          2890.349166666667,
          2921.4491666666668,
          2959.3380555555555,
          2979.938055555556,
          3010.6380555555556,
          3044.5269444444443,
          3061.360277777778,
          3084.771388888889,
          3098.104722222222,
          3118.0380555555553,
          3150.926944444444,
          3170.6602777777775,
          3193.2936111111107,
          3217.204722222222,
          3228.5824999999995,
          3242.5269444444443,
          3260.9602777777777,
          3279.0825,
          3289.108333333333,
          3314.2822222222217,
          3324.4155555555553,
          3348.6377777777775,
          3360.5266666666666,
          3381.826666666667,
          3401.2933333333335,
          3426.4044444444444,
          3446.9377777777777,
          3465.448888888889,
          3478.837777777778,
          3497.971111111111,
          3509.037777777778,
          3540.326666666667,
          3557.6600000000003,
          3587.1044444444447,
          3620.226666666667,
          3638.493333333334,
          3659.9600000000005,
          3672.315555555556,
          3694.0933333333337,
          3716.104444444445,
          3731.8822222222225,
          3744.469722222223,
          3773.4500000000007,
          3792.783333333334,
          3815.4166666666674,
          3834.9500000000003,
          3864.4500000000003,
          3880.8388888888894,
          3903.705555555556,
          3929.7500000000005,
          3945.8055555555557,
          3958.4277777777784,
          3986.094444444445,
          4006.094444444445,
          4019.0277777777783,
          4026.7611111111114,
          4040.8055555555557,
          4056.816666666667,
          4062.416666666667,
          4071.6722222222224,
          4079.405555555556,
          4087.005555555556,
          4096.027777777778,
          4107.13888888889,
          4117.016666666667,
          4133.087500000001,
          4139.974722222223,
          4156.974722222223,
          4173.152500000001,
          4199.552500000001,
          4210.774722222223,
          4226.874722222224,
          4241.0747222222235,
          4260.541388888891,
          4270.408055555557,
          4285.274722222224,
          4294.919166666668,
          4304.474722222225,
          4324.974722222225,
          4334.041388888892,
          4354.341388888892,
          4370.51916666667,
          4382.296944444448,
          4399.174722222226,
          4421.274722222226,
          4433.663611111115,
          4461.774722222226,
          4472.0413888888925,
          4482.441388888892,
          4500.330277777781,
          4513.996944444447,
          4530.8969444444465,
          4541.163611111114,
          4553.074722222224,
          4567.13027777778,
          4571.93027777778,
          4579.785833333336,
          4589.285833333336,
          4593.374722222225,
          4602.974722222225,
          4607.285833333336,
          4612.896944444447,
          4620.985833333336,
          4634.541388888892,
          4643.674722222225,
          4662.252500000002,
          4716.585833333335,
          4723.919166666668,
          4731.341388888891,
          4740.7302777777795,
          4758.930277777779,
          4769.426944444446,
          4786.794722222224,
          4800.261388888891,
          4819.105833333335,
          4838.6613888888905,
          4864.216944444445,
          4877.216944444445,
          4906.672500000001,
          4920.283611111112,
          4936.950277777779,
          4965.505833333334,
          4980.005833333334,
          4994.616944444445,
          5006.350277777778,
          5024.2169444444435,
          5036.1725,
          5048.2169444444435,
          5063.439166666666,
          5081.772499999999,
          5097.2169444444435,
          5109.661388888888,
          5141.105833333333,
          5153.728055555555,
          5169.616944444444,
          5188.816944444444,
          5211.3724999999995,
          5212.827499999999
         ],
         "xaxis": "x",
         "y": [
          0,
          -0.00852597402597402,
          -0.020863636363636417,
          -0.040733766233766344,
          -0.06626688102893885,
          -0.09327652733118974,
          -0.1080675241157556,
          -0.12342443729903563,
          -0.13924679487179503,
          -0.13658203125000012,
          -0.10158203124999998,
          -0.08470703125000023,
          -0.058363281250000565,
          -0.03672413793103502,
          -0.012290640394088559,
          0.007420212765957501,
          0.0355212121212114,
          0.05185714285714127,
          0.06676397515527821,
          0.08018012422360155,
          0.08424848484848368,
          0.08613450292397573,
          0.08988068181818143,
          0.08472486772486754,
          0.08108585858585826,
          0.07987373737373726,
          0.07690952380952343,
          0.06842924528301886,
          0.06737668161434929,
          0.061034782608696325,
          0.05017299578059209,
          0.04612236286920002,
          0.04099183673469575,
          0.03587250996016067,
          0.02834241245136404,
          0.018883018867926538,
          0.011033333333333672,
          -0.0022527075812259767,
          -0.011638989169673764,
          -0.02074100719424088,
          -0.032531914893613845,
          -0.042104529616722175,
          -0.058724137931031706,
          -0.06845051194538954,
          -0.08516326530611806,
          -0.10068243243242847,
          -0.11563636363636043,
          -0.13708361204013286,
          -0.1606287625418048,
          -0.17240133779264077,
          -0.18968456375838727,
          -0.20022916666666468,
          -0.2068958333333324,
          -0.20945689655172295,
          -0.16610377358490425,
          -0.11771764705882148,
          -0.07827397260273727,
          -0.03647899159663304,
          -0.0030756302520913437,
          0.02649557522124546,
          0.04773451327434408,
          0.062038095238108326,
          0.07946078431373138,
          0.08829000000000775,
          0.08730392156863687,
          0.0725779816513814,
          0.05860000000000554,
          0.04045238095238446,
          0.01823015873016587,
          0.011300751879705473,
          0.0002689655172467553,
          -0.010045751633978028,
          -0.02442483660129824,
          0.006801324503321382,
          0.028335616438369016,
          0.0353401360544332,
          0.03403355704698896,
          0.0294313725490305,
          0.02472549019609005,
          0.019210526315799115,
          0.012192982456149082,
          0.002419354838718135,
          -0.003082474226797416,
          -0.007029556650238078,
          -0.017749999999992383,
          -0.026435779816509353,
          -0.05097457627118018,
          -0.0591101694915217,
          -0.07329957805906773,
          -0.08005063291138725,
          -0.09017721518986832,
          -0.10033195020746533,
          -0.10805737704917817,
          -0.1153253012048161,
          -0.1245118110236163,
          -0.12954085603112375,
          -0.1386076923076871,
          -0.14621886792452088,
          -0.1519553903345674,
          -0.1584981412639337,
          -0.16476642335765845,
          -0.17352554744524795,
          -0.1819927536231809,
          -0.18975539568344857,
          -0.1956021505376313,
          -0.20688612099643677,
          -0.22140569395017096,
          -0.24076512455515342,
          -0.2524071428571375,
          -0.2678949275362257,
          -0.2605965665235992,
          -0.2765825242718414,
          -0.27742487046631936,
          -0.27301546391752396,
          -0.27072864321608137,
          -0.2667085427135696,
          -0.26268159203980446,
          -0.2604120370370424,
          -0.25705381165920116,
          -0.255147186147191,
          -0.25920253164557394,
          -0.2609176954732533,
          -0.26561693548387666,
          -0.270832669322715,
          -0.2724534883721006,
          -0.2761018867924534,
          -0.28138490566038143,
          -0.2882666666666722,
          -0.29347101449275925,
          -0.2995579710145009,
          -0.30588172043011497,
          -0.3138900709219925,
          -0.3172943262411465,
          -0.3209685314685444,
          -0.3269163763066345,
          -0.33109756097562126,
          -0.336215017064859,
          -0.34235836177475676,
          -0.3472730375426707,
          -0.35420538720540407,
          -0.3620167224080433,
          -0.3660301003344699,
          -0.3704833333333539,
          -0.3746655629139255,
          -0.3835346534653681,
          -0.38903278688527365,
          -0.3937156862745397,
          -0.39941042345279953,
          -0.40488273615638093,
          -0.4080551948052218,
          -0.4125322580645445,
          -0.4192596153846395,
          -0.4246442307692533,
          -0.4277211538461785,
          -0.43038338658149655,
          -0.4335782747604071,
          -0.4351570512820757,
          -0.43702875399363705,
          -0.44129299363059715,
          -0.44435031847136486,
          -0.4468285714285969,
          -0.44936825396828084,
          -0.4514000000000209,
          -0.4549746835443216,
          -0.4580126582278652,
          -0.4635822784810273,
          -0.4704905660377534,
          -0.48061198738172095,
          -0.48666876971610407,
          -0.49904402515724655,
          -0.5165625000000134,
          -0.526764890282152,
          -0.542062893081777,
          -0.5511194968553639,
          -0.5654591194968717,
          -0.5916835443038195,
          -0.6025460750853426,
          -0.600334519572975,
          -0.5931807228915957,
          -0.5886827309237148,
          -0.5792827004219632,
          -0.5766594827586431,
          -0.5765256410256683,
          -0.5812820512820807,
          -0.6006416666666965,
          -0.6086416666666921,
          -0.6430084745762912,
          -0.6589051724138173,
          -0.6879870129870369,
          -0.708399159663891,
          -0.7329588477366542,
          -0.7524538152610702,
          -0.7663596837944908,
          -0.7767403100775425,
          -0.7918659420290055,
          -0.8075181159420524,
          -0.839402173913065,
          -0.8533152173913194,
          -0.871329749103964,
          -0.889378947368435,
          -0.8995017421602896,
          -0.9122172413793237,
          -0.9202935153583738,
          -0.9333152542373,
          -0.9462608695652222,
          -0.9562943143812817,
          -0.9643787375415371,
          -0.9824721311475457,
          -0.9943627450980443,
          -1.008990291262144,
          -1.0218032258064582,
          -1.0413482428115088,
          -1.0532579617834443,
          -1.071092356687899,
          -1.0940727848101304,
          -1.0977978723404291,
          -1.0966631205673778,
          -1.0955280373831826,
          -1.0790794392523466,
          -1.077140449438211,
          -1.0783437500000161,
          -1.0708686131387068,
          -1.0794806201550529,
          -1.070262711864423,
          -1.0596339285714578,
          -1.047458715596349,
          -1.0364495412844192,
          -1.0304705882353105,
          -1.0191507936508017,
          -1.0333138686131491,
          -1.0299487179487201,
          -1.0320128205128114,
          -1.0324494382022422,
          -1.030606557377041,
          -1.027789999999996,
          -1.0345754716981048,
          -1.048076233183842,
          -1.0589213973798977,
          -1.0733948497853945,
          -1.0805807860261751,
          -1.0868689956331536,
          -1.0949772727272347,
          -1.098613636363595,
          -1.1229862385320644,
          -1.1332614678898665,
          -1.1553410138248381,
          -1.167091324200868,
          -1.1741396396395913,
          -1.1833053097344788,
          -1.1982340425531532,
          -1.208446808510601,
          -1.227546558704418,
          -1.2379109311740564,
          -1.2467137096773797,
          -1.2638565573770109,
          -1.2522666666666282,
          -1.2110518518518063,
          -1.1772740740740204,
          -1.168119047619001,
          -1.154495238095194,
          -1.14992380952377,
          -1.1419897959183345,
          -1.1481855670102732,
          -1.1564329896906997,
          -1.175398058252398,
          -1.1854285714285453,
          -1.196181818181799,
          -1.2203050847457604,
          -1.2254920634920694,
          -1.225862068965526,
          -1.218078431372561,
          -1.1489316770186377,
          -1.1462514970060056,
          -1.1480284090909123,
          -1.1559829545454647,
          -1.1628214285714478,
          -1.1710255102041032,
          -1.178382075471717,
          -1.1897028301886934,
          -1.1991221719457172,
          -1.211844155844176,
          -1.2188630705394417,
          -1.2251188524590333,
          -1.237304347826111,
          -1.2440862745098258,
          -1.249875968992285,
          -1.2569886792453104,
          -1.2600371747212336,
          -1.2647749077491142,
          -1.2689077490775276,
          -1.2726666666667086,
          -1.275739130434829,
          -1.2790935251799027,
          -1.2819712230216282,
          -1.2864555160142856,
          -1.2892508833922847,
          -1.2910629370629891,
          -1.2952587412587775,
          -1.2968153310104924,
          -1.2979620689655604,
          -1.2996172413793516,
          -1.2996172413793516,
          -1.2995551724138465
         ],
         "yaxis": "y2"
        }
       ],
       "layout": {
        "height": 600,
        "template": {
         "data": {
          "bar": [
           {
            "error_x": {
             "color": "#f2f5fa"
            },
            "error_y": {
             "color": "#f2f5fa"
            },
            "marker": {
             "line": {
              "color": "rgb(17,17,17)",
              "width": 0.5
             },
             "pattern": {
              "fillmode": "overlay",
              "size": 10,
              "solidity": 0.2
             }
            },
            "type": "bar"
           }
          ],
          "barpolar": [
           {
            "marker": {
             "line": {
              "color": "rgb(17,17,17)",
              "width": 0.5
             },
             "pattern": {
              "fillmode": "overlay",
              "size": 10,
              "solidity": 0.2
             }
            },
            "type": "barpolar"
           }
          ],
          "carpet": [
           {
            "aaxis": {
             "endlinecolor": "#A2B1C6",
             "gridcolor": "#506784",
             "linecolor": "#506784",
             "minorgridcolor": "#506784",
             "startlinecolor": "#A2B1C6"
            },
            "baxis": {
             "endlinecolor": "#A2B1C6",
             "gridcolor": "#506784",
             "linecolor": "#506784",
             "minorgridcolor": "#506784",
             "startlinecolor": "#A2B1C6"
            },
            "type": "carpet"
           }
          ],
          "choropleth": [
           {
            "colorbar": {
             "outlinewidth": 0,
             "ticks": ""
            },
            "type": "choropleth"
           }
          ],
          "contour": [
           {
            "colorbar": {
             "outlinewidth": 0,
             "ticks": ""
            },
            "colorscale": [
             [
              0,
              "#0d0887"
             ],
             [
              0.1111111111111111,
              "#46039f"
             ],
             [
              0.2222222222222222,
              "#7201a8"
             ],
             [
              0.3333333333333333,
              "#9c179e"
             ],
             [
              0.4444444444444444,
              "#bd3786"
             ],
             [
              0.5555555555555556,
              "#d8576b"
             ],
             [
              0.6666666666666666,
              "#ed7953"
             ],
             [
              0.7777777777777778,
              "#fb9f3a"
             ],
             [
              0.8888888888888888,
              "#fdca26"
             ],
             [
              1,
              "#f0f921"
             ]
            ],
            "type": "contour"
           }
          ],
          "contourcarpet": [
           {
            "colorbar": {
             "outlinewidth": 0,
             "ticks": ""
            },
            "type": "contourcarpet"
           }
          ],
          "heatmap": [
           {
            "colorbar": {
             "outlinewidth": 0,
             "ticks": ""
            },
            "colorscale": [
             [
              0,
              "#0d0887"
             ],
             [
              0.1111111111111111,
              "#46039f"
             ],
             [
              0.2222222222222222,
              "#7201a8"
             ],
             [
              0.3333333333333333,
              "#9c179e"
             ],
             [
              0.4444444444444444,
              "#bd3786"
             ],
             [
              0.5555555555555556,
              "#d8576b"
             ],
             [
              0.6666666666666666,
              "#ed7953"
             ],
             [
              0.7777777777777778,
              "#fb9f3a"
             ],
             [
              0.8888888888888888,
              "#fdca26"
             ],
             [
              1,
              "#f0f921"
             ]
            ],
            "type": "heatmap"
           }
          ],
          "heatmapgl": [
           {
            "colorbar": {
             "outlinewidth": 0,
             "ticks": ""
            },
            "colorscale": [
             [
              0,
              "#0d0887"
             ],
             [
              0.1111111111111111,
              "#46039f"
             ],
             [
              0.2222222222222222,
              "#7201a8"
             ],
             [
              0.3333333333333333,
              "#9c179e"
             ],
             [
              0.4444444444444444,
              "#bd3786"
             ],
             [
              0.5555555555555556,
              "#d8576b"
             ],
             [
              0.6666666666666666,
              "#ed7953"
             ],
             [
              0.7777777777777778,
              "#fb9f3a"
             ],
             [
              0.8888888888888888,
              "#fdca26"
             ],
             [
              1,
              "#f0f921"
             ]
            ],
            "type": "heatmapgl"
           }
          ],
          "histogram": [
           {
            "marker": {
             "pattern": {
              "fillmode": "overlay",
              "size": 10,
              "solidity": 0.2
             }
            },
            "type": "histogram"
           }
          ],
          "histogram2d": [
           {
            "colorbar": {
             "outlinewidth": 0,
             "ticks": ""
            },
            "colorscale": [
             [
              0,
              "#0d0887"
             ],
             [
              0.1111111111111111,
              "#46039f"
             ],
             [
              0.2222222222222222,
              "#7201a8"
             ],
             [
              0.3333333333333333,
              "#9c179e"
             ],
             [
              0.4444444444444444,
              "#bd3786"
             ],
             [
              0.5555555555555556,
              "#d8576b"
             ],
             [
              0.6666666666666666,
              "#ed7953"
             ],
             [
              0.7777777777777778,
              "#fb9f3a"
             ],
             [
              0.8888888888888888,
              "#fdca26"
             ],
             [
              1,
              "#f0f921"
             ]
            ],
            "type": "histogram2d"
           }
          ],
          "histogram2dcontour": [
           {
            "colorbar": {
             "outlinewidth": 0,
             "ticks": ""
            },
            "colorscale": [
             [
              0,
              "#0d0887"
             ],
             [
              0.1111111111111111,
              "#46039f"
             ],
             [
              0.2222222222222222,
              "#7201a8"
             ],
             [
              0.3333333333333333,
              "#9c179e"
             ],
             [
              0.4444444444444444,
              "#bd3786"
             ],
             [
              0.5555555555555556,
              "#d8576b"
             ],
             [
              0.6666666666666666,
              "#ed7953"
             ],
             [
              0.7777777777777778,
              "#fb9f3a"
             ],
             [
              0.8888888888888888,
              "#fdca26"
             ],
             [
              1,
              "#f0f921"
             ]
            ],
            "type": "histogram2dcontour"
           }
          ],
          "mesh3d": [
           {
            "colorbar": {
             "outlinewidth": 0,
             "ticks": ""
            },
            "type": "mesh3d"
           }
          ],
          "parcoords": [
           {
            "line": {
             "colorbar": {
              "outlinewidth": 0,
              "ticks": ""
             }
            },
            "type": "parcoords"
           }
          ],
          "pie": [
           {
            "automargin": true,
            "type": "pie"
           }
          ],
          "scatter": [
           {
            "marker": {
             "line": {
              "color": "#283442"
             }
            },
            "type": "scatter"
           }
          ],
          "scatter3d": [
           {
            "line": {
             "colorbar": {
              "outlinewidth": 0,
              "ticks": ""
             }
            },
            "marker": {
             "colorbar": {
              "outlinewidth": 0,
              "ticks": ""
             }
            },
            "type": "scatter3d"
           }
          ],
          "scattercarpet": [
           {
            "marker": {
             "colorbar": {
              "outlinewidth": 0,
              "ticks": ""
             }
            },
            "type": "scattercarpet"
           }
          ],
          "scattergeo": [
           {
            "marker": {
             "colorbar": {
              "outlinewidth": 0,
              "ticks": ""
             }
            },
            "type": "scattergeo"
           }
          ],
          "scattergl": [
           {
            "marker": {
             "line": {
              "color": "#283442"
             }
            },
            "type": "scattergl"
           }
          ],
          "scattermapbox": [
           {
            "marker": {
             "colorbar": {
              "outlinewidth": 0,
              "ticks": ""
             }
            },
            "type": "scattermapbox"
           }
          ],
          "scatterpolar": [
           {
            "marker": {
             "colorbar": {
              "outlinewidth": 0,
              "ticks": ""
             }
            },
            "type": "scatterpolar"
           }
          ],
          "scatterpolargl": [
           {
            "marker": {
             "colorbar": {
              "outlinewidth": 0,
              "ticks": ""
             }
            },
            "type": "scatterpolargl"
           }
          ],
          "scatterternary": [
           {
            "marker": {
             "colorbar": {
              "outlinewidth": 0,
              "ticks": ""
             }
            },
            "type": "scatterternary"
           }
          ],
          "surface": [
           {
            "colorbar": {
             "outlinewidth": 0,
             "ticks": ""
            },
            "colorscale": [
             [
              0,
              "#0d0887"
             ],
             [
              0.1111111111111111,
              "#46039f"
             ],
             [
              0.2222222222222222,
              "#7201a8"
             ],
             [
              0.3333333333333333,
              "#9c179e"
             ],
             [
              0.4444444444444444,
              "#bd3786"
             ],
             [
              0.5555555555555556,
              "#d8576b"
             ],
             [
              0.6666666666666666,
              "#ed7953"
             ],
             [
              0.7777777777777778,
              "#fb9f3a"
             ],
             [
              0.8888888888888888,
              "#fdca26"
             ],
             [
              1,
              "#f0f921"
             ]
            ],
            "type": "surface"
           }
          ],
          "table": [
           {
            "cells": {
             "fill": {
              "color": "#506784"
             },
             "line": {
              "color": "rgb(17,17,17)"
             }
            },
            "header": {
             "fill": {
              "color": "#2a3f5f"
             },
             "line": {
              "color": "rgb(17,17,17)"
             }
            },
            "type": "table"
           }
          ]
         },
         "layout": {
          "annotationdefaults": {
           "arrowcolor": "#f2f5fa",
           "arrowhead": 0,
           "arrowwidth": 1
          },
          "autotypenumbers": "strict",
          "coloraxis": {
           "colorbar": {
            "outlinewidth": 0,
            "ticks": ""
           }
          },
          "colorscale": {
           "diverging": [
            [
             0,
             "#8e0152"
            ],
            [
             0.1,
             "#c51b7d"
            ],
            [
             0.2,
             "#de77ae"
            ],
            [
             0.3,
             "#f1b6da"
            ],
            [
             0.4,
             "#fde0ef"
            ],
            [
             0.5,
             "#f7f7f7"
            ],
            [
             0.6,
             "#e6f5d0"
            ],
            [
             0.7,
             "#b8e186"
            ],
            [
             0.8,
             "#7fbc41"
            ],
            [
             0.9,
             "#4d9221"
            ],
            [
             1,
             "#276419"
            ]
           ],
           "sequential": [
            [
             0,
             "#0d0887"
            ],
            [
             0.1111111111111111,
             "#46039f"
            ],
            [
             0.2222222222222222,
             "#7201a8"
            ],
            [
             0.3333333333333333,
             "#9c179e"
            ],
            [
             0.4444444444444444,
             "#bd3786"
            ],
            [
             0.5555555555555556,
             "#d8576b"
            ],
            [
             0.6666666666666666,
             "#ed7953"
            ],
            [
             0.7777777777777778,
             "#fb9f3a"
            ],
            [
             0.8888888888888888,
             "#fdca26"
            ],
            [
             1,
             "#f0f921"
            ]
           ],
           "sequentialminus": [
            [
             0,
             "#0d0887"
            ],
            [
             0.1111111111111111,
             "#46039f"
            ],
            [
             0.2222222222222222,
             "#7201a8"
            ],
            [
             0.3333333333333333,
             "#9c179e"
            ],
            [
             0.4444444444444444,
             "#bd3786"
            ],
            [
             0.5555555555555556,
             "#d8576b"
            ],
            [
             0.6666666666666666,
             "#ed7953"
            ],
            [
             0.7777777777777778,
             "#fb9f3a"
            ],
            [
             0.8888888888888888,
             "#fdca26"
            ],
            [
             1,
             "#f0f921"
            ]
           ]
          },
          "colorway": [
           "#636efa",
           "#EF553B",
           "#00cc96",
           "#ab63fa",
           "#FFA15A",
           "#19d3f3",
           "#FF6692",
           "#B6E880",
           "#FF97FF",
           "#FECB52"
          ],
          "font": {
           "color": "#f2f5fa"
          },
          "geo": {
           "bgcolor": "rgb(17,17,17)",
           "lakecolor": "rgb(17,17,17)",
           "landcolor": "rgb(17,17,17)",
           "showlakes": true,
           "showland": true,
           "subunitcolor": "#506784"
          },
          "hoverlabel": {
           "align": "left"
          },
          "hovermode": "closest",
          "mapbox": {
           "style": "dark"
          },
          "paper_bgcolor": "rgb(17,17,17)",
          "plot_bgcolor": "rgb(17,17,17)",
          "polar": {
           "angularaxis": {
            "gridcolor": "#506784",
            "linecolor": "#506784",
            "ticks": ""
           },
           "bgcolor": "rgb(17,17,17)",
           "radialaxis": {
            "gridcolor": "#506784",
            "linecolor": "#506784",
            "ticks": ""
           }
          },
          "scene": {
           "xaxis": {
            "backgroundcolor": "rgb(17,17,17)",
            "gridcolor": "#506784",
            "gridwidth": 2,
            "linecolor": "#506784",
            "showbackground": true,
            "ticks": "",
            "zerolinecolor": "#C8D4E3"
           },
           "yaxis": {
            "backgroundcolor": "rgb(17,17,17)",
            "gridcolor": "#506784",
            "gridwidth": 2,
            "linecolor": "#506784",
            "showbackground": true,
            "ticks": "",
            "zerolinecolor": "#C8D4E3"
           },
           "zaxis": {
            "backgroundcolor": "rgb(17,17,17)",
            "gridcolor": "#506784",
            "gridwidth": 2,
            "linecolor": "#506784",
            "showbackground": true,
            "ticks": "",
            "zerolinecolor": "#C8D4E3"
           }
          },
          "shapedefaults": {
           "line": {
            "color": "#f2f5fa"
           }
          },
          "sliderdefaults": {
           "bgcolor": "#C8D4E3",
           "bordercolor": "rgb(17,17,17)",
           "borderwidth": 1,
           "tickwidth": 0
          },
          "ternary": {
           "aaxis": {
            "gridcolor": "#506784",
            "linecolor": "#506784",
            "ticks": ""
           },
           "baxis": {
            "gridcolor": "#506784",
            "linecolor": "#506784",
            "ticks": ""
           },
           "bgcolor": "rgb(17,17,17)",
           "caxis": {
            "gridcolor": "#506784",
            "linecolor": "#506784",
            "ticks": ""
           }
          },
          "title": {
           "x": 0.05
          },
          "updatemenudefaults": {
           "bgcolor": "#506784",
           "borderwidth": 0
          },
          "xaxis": {
           "automargin": true,
           "gridcolor": "#283442",
           "linecolor": "#506784",
           "ticks": "",
           "title": {
            "standoff": 15
           },
           "zerolinecolor": "#283442",
           "zerolinewidth": 2
          },
          "yaxis": {
           "automargin": true,
           "gridcolor": "#283442",
           "linecolor": "#506784",
           "ticks": "",
           "title": {
            "standoff": 15
           },
           "zerolinecolor": "#283442",
           "zerolinewidth": 2
          }
         }
        },
        "title": {
         "text": "2022 Australian Grand Prix - Race - VER vs LEC",
         "x": 0.5
        },
        "width": 1200,
        "xaxis": {
         "anchor": "y",
         "domain": [
          0,
          0.94
         ],
         "title": {
          "text": "Distance (m)"
         }
        },
        "yaxis": {
         "anchor": "x",
         "domain": [
          0,
          1
         ],
         "title": {
          "text": "Speed (km/h)"
         }
        },
        "yaxis2": {
         "anchor": "x",
         "overlaying": "y",
         "side": "right",
         "title": {
          "text": "<-- LEC ahead | VER ahead -->"
         }
        }
       }
      }
     },
     "metadata": {},
     "output_type": "display_data"
    }
   ],
   "source": [
    "def plot_stacked_data():\n",
    "    \n",
    "    hovertemplate_speed = 'Speed: %{y} km/h'+'<br>Distance: %{x} meters'\n",
    "    \n",
    "    fig = make_subplots(specs=[[{\"secondary_y\": True}]])\n",
    "\n",
    "    fig.add_trace(go.Scatter(x=car_data_1['Distance'], y=car_data_1['Speed'], name=driver_1, line_color=ff1.plotting.driver_color(driver_1), hovertemplate = hovertemplate_speed, opacity=0.8), secondary_y=False)\n",
    "    fig.add_trace(go.Scatter(x=car_data_2['Distance'], y=car_data_2['Speed'], name=driver_2, line_color=ff1.plotting.driver_color(driver_2), hovertemplate = hovertemplate_speed, opacity=0.8), secondary_y=False)\n",
    "    fig.add_trace(go.Scatter(x=ref_tel['Distance'], y=delta_time, line_color='white', name='Delta Time', hovertemplate = 'Delta Time: %{y:.3f} sec', opacity=0.8, line_width=1), secondary_y=True)\n",
    "\n",
    "    fig.update_yaxes(title_text=\"Speed (km/h)\", secondary_y=False)\n",
    "    fig.update_yaxes(title_text=f\"<-- {driver_2} ahead | {driver_1} ahead -->\", secondary_y=True)\n",
    "    fig.update_layout(width=1200, height=600, title_text=plot_title, xaxis_title='Distance (m)', title_x=0.5)\n",
    "    \n",
    "    return fig\n",
    "\n",
    "plot_stacked_data()"
   ]
  },
  {
   "cell_type": "code",
   "execution_count": 408,
   "metadata": {},
   "outputs": [
    {
     "data": {
      "application/vnd.plotly.v1+json": {
       "config": {
        "plotlyServerURL": "https://plot.ly"
       },
       "data": [
        {
         "hovertemplate": "Speed: %{y} km/h<br>Distance: %{x} meters",
         "line": {
          "color": "#0600ef"
         },
         "name": "VER",
         "opacity": 0.8,
         "type": "scatter",
         "x": [
          11,
          27,
          56,
          89,
          121,
          137,
          153,
          169,
          194,
          219,
          232,
          254,
          279,
          290,
          306,
          326,
          336,
          345,
          357,
          366,
          373,
          387,
          395,
          408,
          421,
          432,
          446,
          467,
          484,
          512,
          528,
          554,
          568,
          590,
          610,
          627,
          650,
          665,
          683,
          704,
          719,
          749,
          765,
          789,
          811,
          830,
          854,
          879,
          891,
          910,
          922,
          934,
          958,
          983,
          1002,
          1018,
          1031,
          1037,
          1045,
          1052,
          1059,
          1068,
          1074,
          1084,
          1095,
          1101,
          1108,
          1118,
          1123,
          1132,
          1139,
          1147,
          1169,
          1186,
          1195,
          1208,
          1214,
          1224,
          1238,
          1249,
          1261,
          1275,
          1284,
          1304,
          1329,
          1368,
          1378,
          1398,
          1408,
          1424,
          1452,
          1470,
          1489,
          1503,
          1514,
          1533,
          1550,
          1564,
          1576,
          1590,
          1608,
          1626,
          1644,
          1655,
          1673,
          1691,
          1714,
          1729,
          1752,
          1778,
          1806,
          1828,
          1845,
          1860,
          1872,
          1881,
          1895,
          1919,
          1942,
          1960,
          1971,
          1987,
          2008,
          2034,
          2051,
          2071,
          2094,
          2115,
          2133,
          2157,
          2184,
          2197,
          2209,
          2228,
          2243,
          2262,
          2278,
          2297,
          2323,
          2352,
          2368,
          2388,
          2404,
          2451,
          2470,
          2490,
          2517,
          2541,
          2557,
          2581,
          2608,
          2632,
          2652,
          2670,
          2687,
          2700,
          2714,
          2742,
          2762,
          2776,
          2790,
          2804,
          2831,
          2852,
          2890,
          2921,
          2959,
          2980,
          3011,
          3045,
          3061,
          3085,
          3098,
          3118,
          3151,
          3171,
          3193,
          3217,
          3229,
          3243,
          3261,
          3279,
          3289,
          3314,
          3324,
          3349,
          3361,
          3382,
          3401,
          3426,
          3447,
          3465,
          3479,
          3498,
          3509,
          3540,
          3558,
          3587,
          3620,
          3638,
          3660,
          3672,
          3694,
          3716,
          3732,
          3744,
          3773,
          3793,
          3815,
          3835,
          3864,
          3881,
          3904,
          3930,
          3946,
          3958,
          3986,
          4006,
          4019,
          4027,
          4041,
          4057,
          4062,
          4072,
          4079,
          4087,
          4096,
          4107,
          4117,
          4133,
          4140,
          4157,
          4173,
          4200,
          4211,
          4227,
          4241,
          4261,
          4270,
          4285,
          4295,
          4304,
          4325,
          4334,
          4354,
          4371,
          4382,
          4399,
          4421,
          4434,
          4462,
          4472,
          4482,
          4500,
          4514,
          4531,
          4541,
          4553,
          4567,
          4572,
          4580,
          4589,
          4593,
          4603,
          4607,
          4613,
          4621,
          4635,
          4644,
          4662,
          4717,
          4724,
          4731,
          4741,
          4759,
          4769,
          4787,
          4800,
          4819,
          4839,
          4864,
          4877,
          4907,
          4920,
          4937,
          4966,
          4980,
          4995,
          5006,
          5024,
          5036,
          5048,
          5063,
          5082,
          5097,
          5110,
          5141,
          5154,
          5170,
          5189,
          5211
         ],
         "xaxis": "x",
         "y": [
          288,
          289,
          291,
          291,
          290,
          288,
          287,
          287,
          286,
          284,
          283,
          280,
          256,
          234,
          205,
          182,
          177,
          173,
          170,
          168,
          168,
          176,
          179,
          190,
          197,
          201,
          203,
          215,
          221,
          228,
          233,
          240,
          244,
          249,
          254,
          257,
          261,
          264,
          267,
          269,
          272,
          276,
          277,
          278,
          278,
          278,
          278,
          277,
          277,
          277,
          277,
          276,
          269,
          248,
          214,
          175,
          151,
          144,
          134,
          125,
          115,
          110,
          105,
          101,
          102,
          105,
          111,
          116,
          122,
          130,
          138,
          142,
          164,
          155,
          152,
          147,
          147,
          150,
          158,
          166,
          173,
          184,
          190,
          199,
          211,
          219,
          224,
          226,
          227,
          227,
          233,
          236,
          241,
          241,
          247,
          250,
          255,
          258,
          258,
          262,
          264,
          266,
          268,
          268,
          266,
          264,
          264,
          264,
          265,
          253,
          209,
          197,
          196,
          199,
          203,
          206,
          212,
          220,
          227,
          232,
          236,
          239,
          245,
          253,
          256,
          260,
          262,
          266,
          269,
          272,
          275,
          276,
          277,
          279,
          281,
          283,
          284,
          287,
          289,
          292,
          293,
          294,
          295,
          298,
          298,
          300,
          301,
          301,
          303,
          304,
          304,
          306,
          308,
          308,
          308,
          309,
          309,
          309,
          310,
          310,
          310,
          311,
          312,
          312,
          312,
          311,
          310,
          309,
          307,
          305,
          303,
          301,
          300,
          299,
          296,
          296,
          291,
          269,
          256,
          251,
          237,
          233,
          227,
          226,
          228,
          218,
          214,
          213,
          219,
          226,
          231,
          238,
          241,
          246,
          249,
          256,
          260,
          265,
          271,
          274,
          276,
          278,
          280,
          283,
          284,
          285,
          289,
          290,
          291,
          293,
          295,
          295,
          294,
          293,
          289,
          284,
          249,
          225,
          194,
          174,
          158,
          131,
          126,
          119,
          116,
          114,
          116,
          125,
          127,
          145,
          154,
          170,
          182,
          198,
          202,
          207,
          213,
          219,
          222,
          223,
          217,
          215,
          205,
          204,
          203,
          208,
          212,
          217,
          221,
          223,
          230,
          231,
          234,
          230,
          205,
          169,
          154,
          134,
          115,
          108,
          101,
          95,
          92,
          96,
          97,
          101,
          104,
          122,
          137,
          152,
          163,
          165,
          167,
          169,
          182,
          188,
          196,
          202,
          212,
          220,
          230,
          234,
          241,
          245,
          250,
          257,
          261,
          263,
          264,
          268,
          269,
          271,
          274,
          275,
          278,
          280,
          283,
          284,
          286,
          288,
          290
         ],
         "yaxis": "y"
        },
        {
         "hovertemplate": "Speed: %{y} km/h<br>Distance: %{x} meters",
         "line": {
          "color": "#dc0000"
         },
         "name": "LEC",
         "opacity": 0.8,
         "type": "scatter",
         "x": [
          7,
          31,
          58,
          79,
          96,
          131,
          144,
          158,
          182,
          265,
          278,
          294,
          306,
          314,
          332,
          343,
          357,
          372,
          380,
          390,
          402,
          422,
          431,
          443,
          454,
          467,
          477,
          497,
          521,
          534,
          556,
          575,
          595,
          624,
          642,
          673,
          689,
          708,
          739,
          759,
          782,
          808,
          821,
          834,
          851,
          864,
          887,
          900,
          920,
          946,
          957,
          970,
          984,
          995,
          1007,
          1015,
          1022,
          1030,
          1042,
          1052,
          1058,
          1064,
          1070,
          1077,
          1089,
          1097,
          1105,
          1122,
          1129,
          1139,
          1149,
          1164,
          1173,
          1187,
          1204,
          1210,
          1226,
          1235,
          1254,
          1272,
          1283,
          1299,
          1315,
          1337,
          1349,
          1368,
          1389,
          1415,
          1431,
          1441,
          1460,
          1476,
          1493,
          1510,
          1524,
          1539,
          1562,
          1586,
          1610,
          1635,
          1653,
          1672,
          1697,
          1719,
          1744,
          1762,
          1783,
          1802,
          1813,
          1839,
          1850,
          1872,
          1881,
          1895,
          1912,
          1934,
          1947,
          1968,
          1984,
          2001,
          2017,
          2029,
          2046,
          2081,
          2111,
          2145,
          2164,
          2186,
          2204,
          2227,
          2255,
          2298,
          2311,
          2330,
          2357,
          2377,
          2394,
          2414,
          2451,
          2471,
          2505,
          2522,
          2543,
          2560,
          2580,
          2601,
          2636,
          2667,
          2688,
          2705,
          2736,
          2764,
          2803,
          2817,
          2831,
          2855,
          2869,
          2890,
          2905,
          2919,
          2933,
          2957,
          2982,
          3003,
          3021,
          3035,
          3049,
          3071,
          3110,
          3131,
          3166,
          3185,
          3198,
          3210,
          3232,
          3253,
          3271,
          3300,
          3321,
          3340,
          3350,
          3376,
          3389,
          3399,
          3412,
          3428,
          3445,
          3459,
          3476,
          3496,
          3572,
          3594,
          3613,
          3629,
          3645,
          3661,
          3687,
          3707,
          3736,
          3750,
          3791,
          3808,
          3825,
          3845,
          3870,
          3887,
          3908,
          3936,
          3964,
          3983,
          4002,
          4012,
          4026,
          4033,
          4040,
          4050,
          4057,
          4067,
          4075,
          4087,
          4094,
          4104,
          4110,
          4122,
          4128,
          4140,
          4156,
          4163,
          4178,
          4193,
          4202,
          4219,
          4241,
          4259,
          4269,
          4294,
          4324,
          4336,
          4353,
          4370,
          4379,
          4389,
          4404,
          4415,
          4435,
          4446,
          4459,
          4476,
          4487,
          4501,
          4520,
          4547,
          4554,
          4561,
          4572,
          4581,
          4585,
          4596,
          4606,
          4611,
          4617,
          4625,
          4635,
          4642,
          4649,
          4655,
          4667,
          4674,
          4687,
          4703,
          4712,
          4722,
          4730,
          4743,
          4754,
          4775,
          4787,
          4805,
          4823,
          4848,
          4861,
          4875,
          4894,
          4916,
          4930,
          4945,
          4965,
          4980,
          4992,
          5013,
          5031,
          5043,
          5068,
          5090,
          5109,
          5144,
          5166,
          5185
         ],
         "xaxis": "x",
         "y": [
          306,
          308,
          308,
          311,
          311,
          311,
          311,
          311,
          312,
          256,
          235,
          203,
          188,
          177,
          165,
          161,
          161,
          165,
          171,
          176,
          189,
          198,
          204,
          210,
          212,
          218,
          223,
          230,
          237,
          237,
          245,
          251,
          257,
          265,
          270,
          277,
          278,
          282,
          287,
          290,
          293,
          294,
          296,
          297,
          298,
          299,
          299,
          299,
          298,
          288,
          259,
          232,
          212,
          194,
          170,
          152,
          146,
          130,
          119,
          113,
          109,
          105,
          102,
          100,
          102,
          109,
          115,
          126,
          133,
          145,
          153,
          155,
          151,
          146,
          147,
          149,
          153,
          158,
          171,
          186,
          194,
          203,
          212,
          218,
          226,
          233,
          236,
          237,
          237,
          237,
          241,
          244,
          249,
          254,
          257,
          260,
          265,
          269,
          274,
          276,
          278,
          279,
          281,
          281,
          280,
          276,
          233,
          214,
          206,
          193,
          194,
          199,
          201,
          210,
          216,
          223,
          231,
          237,
          243,
          248,
          251,
          255,
          258,
          265,
          270,
          276,
          279,
          282,
          282,
          286,
          287,
          293,
          294,
          297,
          299,
          299,
          300,
          302,
          303,
          305,
          306,
          307,
          307,
          308,
          309,
          310,
          312,
          312,
          313,
          312,
          313,
          314,
          315,
          315,
          316,
          316,
          316,
          316,
          317,
          317,
          318,
          317,
          317,
          318,
          318,
          319,
          320,
          319,
          318,
          318,
          316,
          293,
          281,
          266,
          249,
          237,
          232,
          234,
          240,
          240,
          236,
          232,
          231,
          235,
          238,
          243,
          246,
          249,
          253,
          258,
          276,
          279,
          283,
          285,
          287,
          290,
          293,
          295,
          299,
          301,
          305,
          306,
          309,
          310,
          313,
          314,
          314,
          316,
          282,
          245,
          214,
          214,
          178,
          160,
          153,
          137,
          129,
          118,
          112,
          109,
          112,
          119,
          126,
          137,
          141,
          156,
          170,
          178,
          183,
          200,
          200,
          212,
          223,
          229,
          233,
          229,
          220,
          218,
          216,
          217,
          219,
          222,
          226,
          230,
          235,
          238,
          242,
          247,
          248,
          244,
          195,
          135,
          126,
          117,
          105,
          98,
          96,
          97,
          103,
          105,
          110,
          118,
          126,
          136,
          145,
          149,
          153,
          155,
          150,
          154,
          157,
          161,
          167,
          176,
          183,
          196,
          203,
          212,
          221,
          231,
          235,
          241,
          244,
          253,
          255,
          258,
          263,
          265,
          269,
          271,
          273,
          276,
          278,
          281,
          283,
          286,
          287,
          290
         ],
         "yaxis": "y"
        },
        {
         "hovertemplate": "Gear: %{y}<br>Distance: %{x} meters",
         "line": {
          "color": "#0600ef"
         },
         "name": "VER",
         "opacity": 0.8,
         "showlegend": false,
         "type": "scatter",
         "x": [
          11,
          27,
          56,
          89,
          121,
          137,
          153,
          169,
          194,
          219,
          232,
          254,
          279,
          290,
          306,
          326,
          336,
          345,
          357,
          366,
          373,
          387,
          395,
          408,
          421,
          432,
          446,
          467,
          484,
          512,
          528,
          554,
          568,
          590,
          610,
          627,
          650,
          665,
          683,
          704,
          719,
          749,
          765,
          789,
          811,
          830,
          854,
          879,
          891,
          910,
          922,
          934,
          958,
          983,
          1002,
          1018,
          1031,
          1037,
          1045,
          1052,
          1059,
          1068,
          1074,
          1084,
          1095,
          1101,
          1108,
          1118,
          1123,
          1132,
          1139,
          1147,
          1169,
          1186,
          1195,
          1208,
          1214,
          1224,
          1238,
          1249,
          1261,
          1275,
          1284,
          1304,
          1329,
          1368,
          1378,
          1398,
          1408,
          1424,
          1452,
          1470,
          1489,
          1503,
          1514,
          1533,
          1550,
          1564,
          1576,
          1590,
          1608,
          1626,
          1644,
          1655,
          1673,
          1691,
          1714,
          1729,
          1752,
          1778,
          1806,
          1828,
          1845,
          1860,
          1872,
          1881,
          1895,
          1919,
          1942,
          1960,
          1971,
          1987,
          2008,
          2034,
          2051,
          2071,
          2094,
          2115,
          2133,
          2157,
          2184,
          2197,
          2209,
          2228,
          2243,
          2262,
          2278,
          2297,
          2323,
          2352,
          2368,
          2388,
          2404,
          2451,
          2470,
          2490,
          2517,
          2541,
          2557,
          2581,
          2608,
          2632,
          2652,
          2670,
          2687,
          2700,
          2714,
          2742,
          2762,
          2776,
          2790,
          2804,
          2831,
          2852,
          2890,
          2921,
          2959,
          2980,
          3011,
          3045,
          3061,
          3085,
          3098,
          3118,
          3151,
          3171,
          3193,
          3217,
          3229,
          3243,
          3261,
          3279,
          3289,
          3314,
          3324,
          3349,
          3361,
          3382,
          3401,
          3426,
          3447,
          3465,
          3479,
          3498,
          3509,
          3540,
          3558,
          3587,
          3620,
          3638,
          3660,
          3672,
          3694,
          3716,
          3732,
          3744,
          3773,
          3793,
          3815,
          3835,
          3864,
          3881,
          3904,
          3930,
          3946,
          3958,
          3986,
          4006,
          4019,
          4027,
          4041,
          4057,
          4062,
          4072,
          4079,
          4087,
          4096,
          4107,
          4117,
          4133,
          4140,
          4157,
          4173,
          4200,
          4211,
          4227,
          4241,
          4261,
          4270,
          4285,
          4295,
          4304,
          4325,
          4334,
          4354,
          4371,
          4382,
          4399,
          4421,
          4434,
          4462,
          4472,
          4482,
          4500,
          4514,
          4531,
          4541,
          4553,
          4567,
          4572,
          4580,
          4589,
          4593,
          4603,
          4607,
          4613,
          4621,
          4635,
          4644,
          4662,
          4717,
          4724,
          4731,
          4741,
          4759,
          4769,
          4787,
          4800,
          4819,
          4839,
          4864,
          4877,
          4907,
          4920,
          4937,
          4966,
          4980,
          4995,
          5006,
          5024,
          5036,
          5048,
          5063,
          5082,
          5097,
          5110,
          5141,
          5154,
          5170,
          5189,
          5211
         ],
         "xaxis": "x2",
         "y": [
          7,
          7,
          7,
          7,
          7,
          7,
          7,
          7,
          7,
          7,
          7,
          7,
          7,
          7,
          6,
          4,
          4,
          4,
          4,
          4,
          4,
          4,
          4,
          4,
          5,
          5,
          5,
          5,
          5,
          5,
          5,
          6,
          6,
          6,
          6,
          6,
          6,
          6,
          7,
          7,
          7,
          7,
          7,
          7,
          7,
          7,
          7,
          7,
          7,
          7,
          7,
          7,
          7,
          7,
          7,
          5,
          3,
          3,
          3,
          3,
          3,
          3,
          3,
          3,
          3,
          3,
          3,
          3,
          3,
          3,
          3,
          3,
          3,
          4,
          4,
          4,
          4,
          4,
          4,
          4,
          4,
          4,
          4,
          4,
          5,
          5,
          5,
          5,
          5,
          5,
          5,
          6,
          6,
          6,
          6,
          6,
          6,
          6,
          6,
          6,
          7,
          7,
          7,
          7,
          7,
          6,
          6,
          6,
          6,
          6,
          6,
          5,
          5,
          5,
          5,
          5,
          5,
          5,
          5,
          6,
          6,
          6,
          6,
          6,
          6,
          6,
          7,
          7,
          7,
          7,
          7,
          7,
          7,
          7,
          7,
          7,
          7,
          7,
          7,
          7,
          7,
          7,
          8,
          8,
          8,
          8,
          8,
          8,
          8,
          8,
          8,
          8,
          8,
          8,
          8,
          8,
          8,
          8,
          8,
          8,
          8,
          8,
          8,
          8,
          8,
          8,
          8,
          8,
          8,
          8,
          8,
          8,
          8,
          8,
          8,
          8,
          8,
          8,
          8,
          8,
          6,
          6,
          6,
          6,
          6,
          6,
          5,
          5,
          5,
          5,
          5,
          5,
          6,
          6,
          6,
          6,
          6,
          7,
          7,
          7,
          7,
          7,
          7,
          7,
          7,
          7,
          7,
          7,
          7,
          7,
          7,
          7,
          7,
          7,
          7,
          7,
          7,
          7,
          6,
          4,
          3,
          3,
          3,
          3,
          3,
          3,
          3,
          3,
          3,
          3,
          3,
          4,
          4,
          4,
          4,
          5,
          5,
          5,
          5,
          5,
          5,
          5,
          5,
          5,
          5,
          5,
          5,
          5,
          5,
          5,
          5,
          5,
          5,
          5,
          5,
          5,
          3,
          3,
          3,
          3,
          3,
          3,
          3,
          3,
          3,
          3,
          3,
          3,
          3,
          3,
          4,
          4,
          4,
          4,
          4,
          4,
          4,
          4,
          5,
          5,
          5,
          5,
          6,
          6,
          6,
          6,
          6,
          6,
          7,
          7,
          7,
          7,
          7,
          7,
          7,
          7,
          7,
          7,
          7,
          7,
          7
         ],
         "yaxis": "y2"
        },
        {
         "hovertemplate": "Gear: %{y}<br>Distance: %{x} meters",
         "line": {
          "color": "#dc0000"
         },
         "name": "LEC",
         "opacity": 0.8,
         "showlegend": false,
         "type": "scatter",
         "x": [
          7,
          31,
          58,
          79,
          96,
          131,
          144,
          158,
          182,
          265,
          278,
          294,
          306,
          314,
          332,
          343,
          357,
          372,
          380,
          390,
          402,
          422,
          431,
          443,
          454,
          467,
          477,
          497,
          521,
          534,
          556,
          575,
          595,
          624,
          642,
          673,
          689,
          708,
          739,
          759,
          782,
          808,
          821,
          834,
          851,
          864,
          887,
          900,
          920,
          946,
          957,
          970,
          984,
          995,
          1007,
          1015,
          1022,
          1030,
          1042,
          1052,
          1058,
          1064,
          1070,
          1077,
          1089,
          1097,
          1105,
          1122,
          1129,
          1139,
          1149,
          1164,
          1173,
          1187,
          1204,
          1210,
          1226,
          1235,
          1254,
          1272,
          1283,
          1299,
          1315,
          1337,
          1349,
          1368,
          1389,
          1415,
          1431,
          1441,
          1460,
          1476,
          1493,
          1510,
          1524,
          1539,
          1562,
          1586,
          1610,
          1635,
          1653,
          1672,
          1697,
          1719,
          1744,
          1762,
          1783,
          1802,
          1813,
          1839,
          1850,
          1872,
          1881,
          1895,
          1912,
          1934,
          1947,
          1968,
          1984,
          2001,
          2017,
          2029,
          2046,
          2081,
          2111,
          2145,
          2164,
          2186,
          2204,
          2227,
          2255,
          2298,
          2311,
          2330,
          2357,
          2377,
          2394,
          2414,
          2451,
          2471,
          2505,
          2522,
          2543,
          2560,
          2580,
          2601,
          2636,
          2667,
          2688,
          2705,
          2736,
          2764,
          2803,
          2817,
          2831,
          2855,
          2869,
          2890,
          2905,
          2919,
          2933,
          2957,
          2982,
          3003,
          3021,
          3035,
          3049,
          3071,
          3110,
          3131,
          3166,
          3185,
          3198,
          3210,
          3232,
          3253,
          3271,
          3300,
          3321,
          3340,
          3350,
          3376,
          3389,
          3399,
          3412,
          3428,
          3445,
          3459,
          3476,
          3496,
          3572,
          3594,
          3613,
          3629,
          3645,
          3661,
          3687,
          3707,
          3736,
          3750,
          3791,
          3808,
          3825,
          3845,
          3870,
          3887,
          3908,
          3936,
          3964,
          3983,
          4002,
          4012,
          4026,
          4033,
          4040,
          4050,
          4057,
          4067,
          4075,
          4087,
          4094,
          4104,
          4110,
          4122,
          4128,
          4140,
          4156,
          4163,
          4178,
          4193,
          4202,
          4219,
          4241,
          4259,
          4269,
          4294,
          4324,
          4336,
          4353,
          4370,
          4379,
          4389,
          4404,
          4415,
          4435,
          4446,
          4459,
          4476,
          4487,
          4501,
          4520,
          4547,
          4554,
          4561,
          4572,
          4581,
          4585,
          4596,
          4606,
          4611,
          4617,
          4625,
          4635,
          4642,
          4649,
          4655,
          4667,
          4674,
          4687,
          4703,
          4712,
          4722,
          4730,
          4743,
          4754,
          4775,
          4787,
          4805,
          4823,
          4848,
          4861,
          4875,
          4894,
          4916,
          4930,
          4945,
          4965,
          4980,
          4992,
          5013,
          5031,
          5043,
          5068,
          5090,
          5109,
          5144,
          5166,
          5185
         ],
         "xaxis": "x2",
         "y": [
          8,
          8,
          8,
          8,
          8,
          8,
          8,
          8,
          8,
          8,
          8,
          6,
          5,
          5,
          4,
          4,
          4,
          4,
          4,
          4,
          4,
          5,
          5,
          5,
          5,
          5,
          5,
          6,
          6,
          6,
          6,
          6,
          6,
          7,
          7,
          7,
          7,
          7,
          7,
          7,
          7,
          8,
          8,
          8,
          8,
          8,
          8,
          8,
          8,
          8,
          8,
          7,
          7,
          7,
          5,
          4,
          4,
          3,
          3,
          3,
          3,
          3,
          3,
          3,
          3,
          3,
          3,
          3,
          3,
          4,
          4,
          4,
          4,
          4,
          4,
          4,
          4,
          4,
          4,
          4,
          5,
          5,
          5,
          5,
          5,
          6,
          6,
          6,
          6,
          6,
          6,
          6,
          6,
          6,
          6,
          7,
          7,
          7,
          7,
          7,
          7,
          7,
          7,
          7,
          7,
          7,
          7,
          6,
          6,
          6,
          6,
          6,
          6,
          6,
          6,
          6,
          6,
          6,
          6,
          6,
          6,
          6,
          6,
          7,
          7,
          7,
          7,
          7,
          7,
          7,
          7,
          8,
          8,
          8,
          8,
          8,
          8,
          8,
          8,
          8,
          8,
          8,
          8,
          8,
          8,
          8,
          8,
          8,
          8,
          8,
          8,
          8,
          8,
          8,
          8,
          8,
          8,
          8,
          8,
          8,
          8,
          8,
          8,
          8,
          8,
          8,
          8,
          8,
          8,
          8,
          8,
          8,
          8,
          7,
          6,
          6,
          6,
          6,
          6,
          6,
          6,
          6,
          6,
          6,
          6,
          6,
          6,
          6,
          6,
          7,
          7,
          7,
          7,
          7,
          7,
          7,
          7,
          8,
          8,
          8,
          8,
          8,
          8,
          8,
          8,
          8,
          8,
          8,
          8,
          8,
          6,
          6,
          5,
          4,
          4,
          3,
          3,
          3,
          3,
          3,
          3,
          3,
          3,
          4,
          4,
          4,
          4,
          4,
          4,
          5,
          5,
          5,
          5,
          5,
          6,
          6,
          6,
          6,
          6,
          6,
          6,
          6,
          6,
          6,
          6,
          6,
          6,
          6,
          6,
          6,
          6,
          3,
          3,
          3,
          3,
          3,
          3,
          3,
          3,
          3,
          3,
          3,
          3,
          3,
          3,
          3,
          4,
          4,
          4,
          4,
          4,
          4,
          4,
          4,
          4,
          5,
          5,
          5,
          5,
          5,
          6,
          6,
          6,
          6,
          6,
          6,
          7,
          7,
          7,
          7,
          7,
          7,
          7,
          7,
          7,
          7,
          7,
          7
         ],
         "yaxis": "y2"
        },
        {
         "hovertemplate": "Delta Time: %{y:.3f} sec",
         "line": {
          "color": "white"
         },
         "mode": "lines",
         "name": "Delta Time",
         "opacity": 0.8,
         "type": "scatter",
         "x": [
          0,
          11.120000000000001,
          27.175555555555555,
          56.275555555555556,
          88.60888888888888,
          120.83111111111111,
          136.8311111111111,
          152.69583333333333,
          168.64027777777778,
          194.0625,
          219.30694444444444,
          231.88472222222222,
          253.74027777777778,
          279.34027777777777,
          289.7402777777778,
          305.68472222222226,
          325.9069444444445,
          335.7402777777778,
          345.3513888888889,
          356.68472222222226,
          366.0180555555556,
          373.4847222222223,
          387.1736111111112,
          395.1291666666667,
          407.7958333333334,
          420.92916666666673,
          432.0958333333334,
          445.6291666666668,
          467.1291666666667,
          484.31805555555565,
          512.1847222222224,
          527.7180555555557,
          554.3847222222224,
          567.8725000000002,
          590.0058333333334,
          609.761388888889,
          626.8947222222223,
          650.1672222222223,
          664.833888888889,
          682.633888888889,
          703.5561111111114,
          718.6672222222224,
          749.3338888888892,
          764.722777777778,
          789.4338888888891,
          811.0561111111112,
          829.5894444444446,
          854.3005555555557,
          878.9227777777779,
          891.233888888889,
          909.7005555555558,
          922.0116666666669,
          934.2783333333335,
          958.1894444444446,
          982.9894444444446,
          1002.0116666666669,
          1017.5672222222224,
          1030.9894444444446,
          1037.3494444444448,
          1044.7938888888891,
          1051.7383333333337,
          1059.4050000000004,
          1067.9911111111114,
          1073.8244444444447,
          1083.9244444444448,
          1095.257777777778,
          1101.0911111111113,
          1108.4911111111114,
          1117.5133333333335,
          1122.9355555555558,
          1131.6022222222225,
          1139.2688888888893,
          1147.1577777777782,
          1169.024444444445,
          1186.2466666666671,
          1194.6911111111117,
          1207.7577777777783,
          1214.2911111111116,
          1224.2911111111116,
          1238.335555555556,
          1249.4022222222227,
          1260.9355555555562,
          1275.2466666666671,
          1283.6911111111115,
          1303.5358333333338,
          1329.3247222222228,
          1368.3188888888894,
          1378.274444444445,
          1398.363333333334,
          1408.4522222222229,
          1423.585555555556,
          1452.063333333334,
          1470.4188888888896,
          1489.1633333333339,
          1502.552222222223,
          1513.5300000000009,
          1532.9744444444452,
          1549.9744444444455,
          1564.3077777777787,
          1575.7744444444454,
          1590.3300000000008,
          1607.9300000000007,
          1625.6633333333343,
          1643.5300000000009,
          1655.441111111112,
          1673.1744444444455,
          1690.7744444444454,
          1714.241111111112,
          1728.9077777777786,
          1752.3897222222233,
          1777.6897222222233,
          1805.6144444444453,
          1827.5033333333342,
          1844.9255555555565,
          1860.403333333334,
          1871.681111111112,
          1880.8366666666675,
          1894.9700000000007,
          1919.414444444445,
          1942.1144444444453,
          1960.1588888888896,
          1970.6477777777786,
          1986.5811111111116,
          2008.3588888888894,
          2033.6588888888894,
          2050.725555555556,
          2070.9477777777784,
          2094.236666666667,
          2114.925555555556,
          2132.858888888889,
          2157.036666666667,
          2184.460277777778,
          2196.726944444445,
          2209.0380555555557,
          2227.7155555555555,
          2243.326666666667,
          2262.1933333333336,
          2277.971111111111,
          2297.1044444444447,
          2322.7933333333335,
          2351.9933333333333,
          2368.2711111111107,
          2387.871111111111,
          2404.26,
          2450.615555555555,
          2470.482222222222,
          2490.482222222222,
          2517.2377777777774,
          2540.6488888888885,
          2557.4822222222215,
          2581.126666666666,
          2608.1488888888885,
          2631.9488888888886,
          2652.482222222222,
          2669.593333333333,
          2686.704444444444,
          2700.4377777777772,
          2714.171111111111,
          2741.5519444444444,
          2762.2186111111105,
          2776.0824999999995,
          2789.860277777778,
          2803.6825,
          2831.4158333333335,
          2852.2158333333336,
          2890.349166666667,
          2921.4491666666668,
          2959.3380555555555,
          2979.938055555556,
          3010.6380555555556,
          3044.5269444444443,
          3061.360277777778,
          3084.771388888889,
          3098.104722222222,
          3118.0380555555553,
          3150.926944444444,
          3170.6602777777775,
          3193.2936111111107,
          3217.204722222222,
          3228.5824999999995,
          3242.5269444444443,
          3260.9602777777777,
          3279.0825,
          3289.108333333333,
          3314.2822222222217,
          3324.4155555555553,
          3348.6377777777775,
          3360.5266666666666,
          3381.826666666667,
          3401.2933333333335,
          3426.4044444444444,
          3446.9377777777777,
          3465.448888888889,
          3478.837777777778,
          3497.971111111111,
          3509.037777777778,
          3540.326666666667,
          3557.6600000000003,
          3587.1044444444447,
          3620.226666666667,
          3638.493333333334,
          3659.9600000000005,
          3672.315555555556,
          3694.0933333333337,
          3716.104444444445,
          3731.8822222222225,
          3744.469722222223,
          3773.4500000000007,
          3792.783333333334,
          3815.4166666666674,
          3834.9500000000003,
          3864.4500000000003,
          3880.8388888888894,
          3903.705555555556,
          3929.7500000000005,
          3945.8055555555557,
          3958.4277777777784,
          3986.094444444445,
          4006.094444444445,
          4019.0277777777783,
          4026.7611111111114,
          4040.8055555555557,
          4056.816666666667,
          4062.416666666667,
          4071.6722222222224,
          4079.405555555556,
          4087.005555555556,
          4096.027777777778,
          4107.13888888889,
          4117.016666666667,
          4133.087500000001,
          4139.974722222223,
          4156.974722222223,
          4173.152500000001,
          4199.552500000001,
          4210.774722222223,
          4226.874722222224,
          4241.0747222222235,
          4260.541388888891,
          4270.408055555557,
          4285.274722222224,
          4294.919166666668,
          4304.474722222225,
          4324.974722222225,
          4334.041388888892,
          4354.341388888892,
          4370.51916666667,
          4382.296944444448,
          4399.174722222226,
          4421.274722222226,
          4433.663611111115,
          4461.774722222226,
          4472.0413888888925,
          4482.441388888892,
          4500.330277777781,
          4513.996944444447,
          4530.8969444444465,
          4541.163611111114,
          4553.074722222224,
          4567.13027777778,
          4571.93027777778,
          4579.785833333336,
          4589.285833333336,
          4593.374722222225,
          4602.974722222225,
          4607.285833333336,
          4612.896944444447,
          4620.985833333336,
          4634.541388888892,
          4643.674722222225,
          4662.252500000002,
          4716.585833333335,
          4723.919166666668,
          4731.341388888891,
          4740.7302777777795,
          4758.930277777779,
          4769.426944444446,
          4786.794722222224,
          4800.261388888891,
          4819.105833333335,
          4838.6613888888905,
          4864.216944444445,
          4877.216944444445,
          4906.672500000001,
          4920.283611111112,
          4936.950277777779,
          4965.505833333334,
          4980.005833333334,
          4994.616944444445,
          5006.350277777778,
          5024.2169444444435,
          5036.1725,
          5048.2169444444435,
          5063.439166666666,
          5081.772499999999,
          5097.2169444444435,
          5109.661388888888,
          5141.105833333333,
          5153.728055555555,
          5169.616944444444,
          5188.816944444444,
          5211.3724999999995,
          5212.827499999999
         ],
         "xaxis": "x3",
         "y": [
          0,
          -0.00852597402597402,
          -0.020863636363636417,
          -0.040733766233766344,
          -0.06626688102893885,
          -0.09327652733118974,
          -0.1080675241157556,
          -0.12342443729903563,
          -0.13924679487179503,
          -0.13658203125000012,
          -0.10158203124999998,
          -0.08470703125000023,
          -0.058363281250000565,
          -0.03672413793103502,
          -0.012290640394088559,
          0.007420212765957501,
          0.0355212121212114,
          0.05185714285714127,
          0.06676397515527821,
          0.08018012422360155,
          0.08424848484848368,
          0.08613450292397573,
          0.08988068181818143,
          0.08472486772486754,
          0.08108585858585826,
          0.07987373737373726,
          0.07690952380952343,
          0.06842924528301886,
          0.06737668161434929,
          0.061034782608696325,
          0.05017299578059209,
          0.04612236286920002,
          0.04099183673469575,
          0.03587250996016067,
          0.02834241245136404,
          0.018883018867926538,
          0.011033333333333672,
          -0.0022527075812259767,
          -0.011638989169673764,
          -0.02074100719424088,
          -0.032531914893613845,
          -0.042104529616722175,
          -0.058724137931031706,
          -0.06845051194538954,
          -0.08516326530611806,
          -0.10068243243242847,
          -0.11563636363636043,
          -0.13708361204013286,
          -0.1606287625418048,
          -0.17240133779264077,
          -0.18968456375838727,
          -0.20022916666666468,
          -0.2068958333333324,
          -0.20945689655172295,
          -0.16610377358490425,
          -0.11771764705882148,
          -0.07827397260273727,
          -0.03647899159663304,
          -0.0030756302520913437,
          0.02649557522124546,
          0.04773451327434408,
          0.062038095238108326,
          0.07946078431373138,
          0.08829000000000775,
          0.08730392156863687,
          0.0725779816513814,
          0.05860000000000554,
          0.04045238095238446,
          0.01823015873016587,
          0.011300751879705473,
          0.0002689655172467553,
          -0.010045751633978028,
          -0.02442483660129824,
          0.006801324503321382,
          0.028335616438369016,
          0.0353401360544332,
          0.03403355704698896,
          0.0294313725490305,
          0.02472549019609005,
          0.019210526315799115,
          0.012192982456149082,
          0.002419354838718135,
          -0.003082474226797416,
          -0.007029556650238078,
          -0.017749999999992383,
          -0.026435779816509353,
          -0.05097457627118018,
          -0.0591101694915217,
          -0.07329957805906773,
          -0.08005063291138725,
          -0.09017721518986832,
          -0.10033195020746533,
          -0.10805737704917817,
          -0.1153253012048161,
          -0.1245118110236163,
          -0.12954085603112375,
          -0.1386076923076871,
          -0.14621886792452088,
          -0.1519553903345674,
          -0.1584981412639337,
          -0.16476642335765845,
          -0.17352554744524795,
          -0.1819927536231809,
          -0.18975539568344857,
          -0.1956021505376313,
          -0.20688612099643677,
          -0.22140569395017096,
          -0.24076512455515342,
          -0.2524071428571375,
          -0.2678949275362257,
          -0.2605965665235992,
          -0.2765825242718414,
          -0.27742487046631936,
          -0.27301546391752396,
          -0.27072864321608137,
          -0.2667085427135696,
          -0.26268159203980446,
          -0.2604120370370424,
          -0.25705381165920116,
          -0.255147186147191,
          -0.25920253164557394,
          -0.2609176954732533,
          -0.26561693548387666,
          -0.270832669322715,
          -0.2724534883721006,
          -0.2761018867924534,
          -0.28138490566038143,
          -0.2882666666666722,
          -0.29347101449275925,
          -0.2995579710145009,
          -0.30588172043011497,
          -0.3138900709219925,
          -0.3172943262411465,
          -0.3209685314685444,
          -0.3269163763066345,
          -0.33109756097562126,
          -0.336215017064859,
          -0.34235836177475676,
          -0.3472730375426707,
          -0.35420538720540407,
          -0.3620167224080433,
          -0.3660301003344699,
          -0.3704833333333539,
          -0.3746655629139255,
          -0.3835346534653681,
          -0.38903278688527365,
          -0.3937156862745397,
          -0.39941042345279953,
          -0.40488273615638093,
          -0.4080551948052218,
          -0.4125322580645445,
          -0.4192596153846395,
          -0.4246442307692533,
          -0.4277211538461785,
          -0.43038338658149655,
          -0.4335782747604071,
          -0.4351570512820757,
          -0.43702875399363705,
          -0.44129299363059715,
          -0.44435031847136486,
          -0.4468285714285969,
          -0.44936825396828084,
          -0.4514000000000209,
          -0.4549746835443216,
          -0.4580126582278652,
          -0.4635822784810273,
          -0.4704905660377534,
          -0.48061198738172095,
          -0.48666876971610407,
          -0.49904402515724655,
          -0.5165625000000134,
          -0.526764890282152,
          -0.542062893081777,
          -0.5511194968553639,
          -0.5654591194968717,
          -0.5916835443038195,
          -0.6025460750853426,
          -0.600334519572975,
          -0.5931807228915957,
          -0.5886827309237148,
          -0.5792827004219632,
          -0.5766594827586431,
          -0.5765256410256683,
          -0.5812820512820807,
          -0.6006416666666965,
          -0.6086416666666921,
          -0.6430084745762912,
          -0.6589051724138173,
          -0.6879870129870369,
          -0.708399159663891,
          -0.7329588477366542,
          -0.7524538152610702,
          -0.7663596837944908,
          -0.7767403100775425,
          -0.7918659420290055,
          -0.8075181159420524,
          -0.839402173913065,
          -0.8533152173913194,
          -0.871329749103964,
          -0.889378947368435,
          -0.8995017421602896,
          -0.9122172413793237,
          -0.9202935153583738,
          -0.9333152542373,
          -0.9462608695652222,
          -0.9562943143812817,
          -0.9643787375415371,
          -0.9824721311475457,
          -0.9943627450980443,
          -1.008990291262144,
          -1.0218032258064582,
          -1.0413482428115088,
          -1.0532579617834443,
          -1.071092356687899,
          -1.0940727848101304,
          -1.0977978723404291,
          -1.0966631205673778,
          -1.0955280373831826,
          -1.0790794392523466,
          -1.077140449438211,
          -1.0783437500000161,
          -1.0708686131387068,
          -1.0794806201550529,
          -1.070262711864423,
          -1.0596339285714578,
          -1.047458715596349,
          -1.0364495412844192,
          -1.0304705882353105,
          -1.0191507936508017,
          -1.0333138686131491,
          -1.0299487179487201,
          -1.0320128205128114,
          -1.0324494382022422,
          -1.030606557377041,
          -1.027789999999996,
          -1.0345754716981048,
          -1.048076233183842,
          -1.0589213973798977,
          -1.0733948497853945,
          -1.0805807860261751,
          -1.0868689956331536,
          -1.0949772727272347,
          -1.098613636363595,
          -1.1229862385320644,
          -1.1332614678898665,
          -1.1553410138248381,
          -1.167091324200868,
          -1.1741396396395913,
          -1.1833053097344788,
          -1.1982340425531532,
          -1.208446808510601,
          -1.227546558704418,
          -1.2379109311740564,
          -1.2467137096773797,
          -1.2638565573770109,
          -1.2522666666666282,
          -1.2110518518518063,
          -1.1772740740740204,
          -1.168119047619001,
          -1.154495238095194,
          -1.14992380952377,
          -1.1419897959183345,
          -1.1481855670102732,
          -1.1564329896906997,
          -1.175398058252398,
          -1.1854285714285453,
          -1.196181818181799,
          -1.2203050847457604,
          -1.2254920634920694,
          -1.225862068965526,
          -1.218078431372561,
          -1.1489316770186377,
          -1.1462514970060056,
          -1.1480284090909123,
          -1.1559829545454647,
          -1.1628214285714478,
          -1.1710255102041032,
          -1.178382075471717,
          -1.1897028301886934,
          -1.1991221719457172,
          -1.211844155844176,
          -1.2188630705394417,
          -1.2251188524590333,
          -1.237304347826111,
          -1.2440862745098258,
          -1.249875968992285,
          -1.2569886792453104,
          -1.2600371747212336,
          -1.2647749077491142,
          -1.2689077490775276,
          -1.2726666666667086,
          -1.275739130434829,
          -1.2790935251799027,
          -1.2819712230216282,
          -1.2864555160142856,
          -1.2892508833922847,
          -1.2910629370629891,
          -1.2952587412587775,
          -1.2968153310104924,
          -1.2979620689655604,
          -1.2996172413793516,
          -1.2996172413793516,
          -1.2995551724138465
         ],
         "yaxis": "y3"
        }
       ],
       "layout": {
        "annotations": [
         {
          "font": {
           "size": 16
          },
          "showarrow": false,
          "text": "Speed",
          "x": 0.5,
          "xanchor": "center",
          "xref": "paper",
          "y": 1,
          "yanchor": "bottom",
          "yref": "paper"
         },
         {
          "font": {
           "size": 16
          },
          "showarrow": false,
          "text": "Gear",
          "x": 0.5,
          "xanchor": "center",
          "xref": "paper",
          "y": 0.6333333333333333,
          "yanchor": "bottom",
          "yref": "paper"
         },
         {
          "font": {
           "size": 16
          },
          "showarrow": false,
          "text": "Delta Time",
          "x": 0.5,
          "xanchor": "center",
          "xref": "paper",
          "y": 0.26666666666666666,
          "yanchor": "bottom",
          "yref": "paper"
         }
        ],
        "height": 1200,
        "template": {
         "data": {
          "bar": [
           {
            "error_x": {
             "color": "#f2f5fa"
            },
            "error_y": {
             "color": "#f2f5fa"
            },
            "marker": {
             "line": {
              "color": "rgb(17,17,17)",
              "width": 0.5
             },
             "pattern": {
              "fillmode": "overlay",
              "size": 10,
              "solidity": 0.2
             }
            },
            "type": "bar"
           }
          ],
          "barpolar": [
           {
            "marker": {
             "line": {
              "color": "rgb(17,17,17)",
              "width": 0.5
             },
             "pattern": {
              "fillmode": "overlay",
              "size": 10,
              "solidity": 0.2
             }
            },
            "type": "barpolar"
           }
          ],
          "carpet": [
           {
            "aaxis": {
             "endlinecolor": "#A2B1C6",
             "gridcolor": "#506784",
             "linecolor": "#506784",
             "minorgridcolor": "#506784",
             "startlinecolor": "#A2B1C6"
            },
            "baxis": {
             "endlinecolor": "#A2B1C6",
             "gridcolor": "#506784",
             "linecolor": "#506784",
             "minorgridcolor": "#506784",
             "startlinecolor": "#A2B1C6"
            },
            "type": "carpet"
           }
          ],
          "choropleth": [
           {
            "colorbar": {
             "outlinewidth": 0,
             "ticks": ""
            },
            "type": "choropleth"
           }
          ],
          "contour": [
           {
            "colorbar": {
             "outlinewidth": 0,
             "ticks": ""
            },
            "colorscale": [
             [
              0,
              "#0d0887"
             ],
             [
              0.1111111111111111,
              "#46039f"
             ],
             [
              0.2222222222222222,
              "#7201a8"
             ],
             [
              0.3333333333333333,
              "#9c179e"
             ],
             [
              0.4444444444444444,
              "#bd3786"
             ],
             [
              0.5555555555555556,
              "#d8576b"
             ],
             [
              0.6666666666666666,
              "#ed7953"
             ],
             [
              0.7777777777777778,
              "#fb9f3a"
             ],
             [
              0.8888888888888888,
              "#fdca26"
             ],
             [
              1,
              "#f0f921"
             ]
            ],
            "type": "contour"
           }
          ],
          "contourcarpet": [
           {
            "colorbar": {
             "outlinewidth": 0,
             "ticks": ""
            },
            "type": "contourcarpet"
           }
          ],
          "heatmap": [
           {
            "colorbar": {
             "outlinewidth": 0,
             "ticks": ""
            },
            "colorscale": [
             [
              0,
              "#0d0887"
             ],
             [
              0.1111111111111111,
              "#46039f"
             ],
             [
              0.2222222222222222,
              "#7201a8"
             ],
             [
              0.3333333333333333,
              "#9c179e"
             ],
             [
              0.4444444444444444,
              "#bd3786"
             ],
             [
              0.5555555555555556,
              "#d8576b"
             ],
             [
              0.6666666666666666,
              "#ed7953"
             ],
             [
              0.7777777777777778,
              "#fb9f3a"
             ],
             [
              0.8888888888888888,
              "#fdca26"
             ],
             [
              1,
              "#f0f921"
             ]
            ],
            "type": "heatmap"
           }
          ],
          "heatmapgl": [
           {
            "colorbar": {
             "outlinewidth": 0,
             "ticks": ""
            },
            "colorscale": [
             [
              0,
              "#0d0887"
             ],
             [
              0.1111111111111111,
              "#46039f"
             ],
             [
              0.2222222222222222,
              "#7201a8"
             ],
             [
              0.3333333333333333,
              "#9c179e"
             ],
             [
              0.4444444444444444,
              "#bd3786"
             ],
             [
              0.5555555555555556,
              "#d8576b"
             ],
             [
              0.6666666666666666,
              "#ed7953"
             ],
             [
              0.7777777777777778,
              "#fb9f3a"
             ],
             [
              0.8888888888888888,
              "#fdca26"
             ],
             [
              1,
              "#f0f921"
             ]
            ],
            "type": "heatmapgl"
           }
          ],
          "histogram": [
           {
            "marker": {
             "pattern": {
              "fillmode": "overlay",
              "size": 10,
              "solidity": 0.2
             }
            },
            "type": "histogram"
           }
          ],
          "histogram2d": [
           {
            "colorbar": {
             "outlinewidth": 0,
             "ticks": ""
            },
            "colorscale": [
             [
              0,
              "#0d0887"
             ],
             [
              0.1111111111111111,
              "#46039f"
             ],
             [
              0.2222222222222222,
              "#7201a8"
             ],
             [
              0.3333333333333333,
              "#9c179e"
             ],
             [
              0.4444444444444444,
              "#bd3786"
             ],
             [
              0.5555555555555556,
              "#d8576b"
             ],
             [
              0.6666666666666666,
              "#ed7953"
             ],
             [
              0.7777777777777778,
              "#fb9f3a"
             ],
             [
              0.8888888888888888,
              "#fdca26"
             ],
             [
              1,
              "#f0f921"
             ]
            ],
            "type": "histogram2d"
           }
          ],
          "histogram2dcontour": [
           {
            "colorbar": {
             "outlinewidth": 0,
             "ticks": ""
            },
            "colorscale": [
             [
              0,
              "#0d0887"
             ],
             [
              0.1111111111111111,
              "#46039f"
             ],
             [
              0.2222222222222222,
              "#7201a8"
             ],
             [
              0.3333333333333333,
              "#9c179e"
             ],
             [
              0.4444444444444444,
              "#bd3786"
             ],
             [
              0.5555555555555556,
              "#d8576b"
             ],
             [
              0.6666666666666666,
              "#ed7953"
             ],
             [
              0.7777777777777778,
              "#fb9f3a"
             ],
             [
              0.8888888888888888,
              "#fdca26"
             ],
             [
              1,
              "#f0f921"
             ]
            ],
            "type": "histogram2dcontour"
           }
          ],
          "mesh3d": [
           {
            "colorbar": {
             "outlinewidth": 0,
             "ticks": ""
            },
            "type": "mesh3d"
           }
          ],
          "parcoords": [
           {
            "line": {
             "colorbar": {
              "outlinewidth": 0,
              "ticks": ""
             }
            },
            "type": "parcoords"
           }
          ],
          "pie": [
           {
            "automargin": true,
            "type": "pie"
           }
          ],
          "scatter": [
           {
            "marker": {
             "line": {
              "color": "#283442"
             }
            },
            "type": "scatter"
           }
          ],
          "scatter3d": [
           {
            "line": {
             "colorbar": {
              "outlinewidth": 0,
              "ticks": ""
             }
            },
            "marker": {
             "colorbar": {
              "outlinewidth": 0,
              "ticks": ""
             }
            },
            "type": "scatter3d"
           }
          ],
          "scattercarpet": [
           {
            "marker": {
             "colorbar": {
              "outlinewidth": 0,
              "ticks": ""
             }
            },
            "type": "scattercarpet"
           }
          ],
          "scattergeo": [
           {
            "marker": {
             "colorbar": {
              "outlinewidth": 0,
              "ticks": ""
             }
            },
            "type": "scattergeo"
           }
          ],
          "scattergl": [
           {
            "marker": {
             "line": {
              "color": "#283442"
             }
            },
            "type": "scattergl"
           }
          ],
          "scattermapbox": [
           {
            "marker": {
             "colorbar": {
              "outlinewidth": 0,
              "ticks": ""
             }
            },
            "type": "scattermapbox"
           }
          ],
          "scatterpolar": [
           {
            "marker": {
             "colorbar": {
              "outlinewidth": 0,
              "ticks": ""
             }
            },
            "type": "scatterpolar"
           }
          ],
          "scatterpolargl": [
           {
            "marker": {
             "colorbar": {
              "outlinewidth": 0,
              "ticks": ""
             }
            },
            "type": "scatterpolargl"
           }
          ],
          "scatterternary": [
           {
            "marker": {
             "colorbar": {
              "outlinewidth": 0,
              "ticks": ""
             }
            },
            "type": "scatterternary"
           }
          ],
          "surface": [
           {
            "colorbar": {
             "outlinewidth": 0,
             "ticks": ""
            },
            "colorscale": [
             [
              0,
              "#0d0887"
             ],
             [
              0.1111111111111111,
              "#46039f"
             ],
             [
              0.2222222222222222,
              "#7201a8"
             ],
             [
              0.3333333333333333,
              "#9c179e"
             ],
             [
              0.4444444444444444,
              "#bd3786"
             ],
             [
              0.5555555555555556,
              "#d8576b"
             ],
             [
              0.6666666666666666,
              "#ed7953"
             ],
             [
              0.7777777777777778,
              "#fb9f3a"
             ],
             [
              0.8888888888888888,
              "#fdca26"
             ],
             [
              1,
              "#f0f921"
             ]
            ],
            "type": "surface"
           }
          ],
          "table": [
           {
            "cells": {
             "fill": {
              "color": "#506784"
             },
             "line": {
              "color": "rgb(17,17,17)"
             }
            },
            "header": {
             "fill": {
              "color": "#2a3f5f"
             },
             "line": {
              "color": "rgb(17,17,17)"
             }
            },
            "type": "table"
           }
          ]
         },
         "layout": {
          "annotationdefaults": {
           "arrowcolor": "#f2f5fa",
           "arrowhead": 0,
           "arrowwidth": 1
          },
          "autotypenumbers": "strict",
          "coloraxis": {
           "colorbar": {
            "outlinewidth": 0,
            "ticks": ""
           }
          },
          "colorscale": {
           "diverging": [
            [
             0,
             "#8e0152"
            ],
            [
             0.1,
             "#c51b7d"
            ],
            [
             0.2,
             "#de77ae"
            ],
            [
             0.3,
             "#f1b6da"
            ],
            [
             0.4,
             "#fde0ef"
            ],
            [
             0.5,
             "#f7f7f7"
            ],
            [
             0.6,
             "#e6f5d0"
            ],
            [
             0.7,
             "#b8e186"
            ],
            [
             0.8,
             "#7fbc41"
            ],
            [
             0.9,
             "#4d9221"
            ],
            [
             1,
             "#276419"
            ]
           ],
           "sequential": [
            [
             0,
             "#0d0887"
            ],
            [
             0.1111111111111111,
             "#46039f"
            ],
            [
             0.2222222222222222,
             "#7201a8"
            ],
            [
             0.3333333333333333,
             "#9c179e"
            ],
            [
             0.4444444444444444,
             "#bd3786"
            ],
            [
             0.5555555555555556,
             "#d8576b"
            ],
            [
             0.6666666666666666,
             "#ed7953"
            ],
            [
             0.7777777777777778,
             "#fb9f3a"
            ],
            [
             0.8888888888888888,
             "#fdca26"
            ],
            [
             1,
             "#f0f921"
            ]
           ],
           "sequentialminus": [
            [
             0,
             "#0d0887"
            ],
            [
             0.1111111111111111,
             "#46039f"
            ],
            [
             0.2222222222222222,
             "#7201a8"
            ],
            [
             0.3333333333333333,
             "#9c179e"
            ],
            [
             0.4444444444444444,
             "#bd3786"
            ],
            [
             0.5555555555555556,
             "#d8576b"
            ],
            [
             0.6666666666666666,
             "#ed7953"
            ],
            [
             0.7777777777777778,
             "#fb9f3a"
            ],
            [
             0.8888888888888888,
             "#fdca26"
            ],
            [
             1,
             "#f0f921"
            ]
           ]
          },
          "colorway": [
           "#636efa",
           "#EF553B",
           "#00cc96",
           "#ab63fa",
           "#FFA15A",
           "#19d3f3",
           "#FF6692",
           "#B6E880",
           "#FF97FF",
           "#FECB52"
          ],
          "font": {
           "color": "#f2f5fa"
          },
          "geo": {
           "bgcolor": "rgb(17,17,17)",
           "lakecolor": "rgb(17,17,17)",
           "landcolor": "rgb(17,17,17)",
           "showlakes": true,
           "showland": true,
           "subunitcolor": "#506784"
          },
          "hoverlabel": {
           "align": "left"
          },
          "hovermode": "closest",
          "mapbox": {
           "style": "dark"
          },
          "paper_bgcolor": "rgb(17,17,17)",
          "plot_bgcolor": "rgb(17,17,17)",
          "polar": {
           "angularaxis": {
            "gridcolor": "#506784",
            "linecolor": "#506784",
            "ticks": ""
           },
           "bgcolor": "rgb(17,17,17)",
           "radialaxis": {
            "gridcolor": "#506784",
            "linecolor": "#506784",
            "ticks": ""
           }
          },
          "scene": {
           "xaxis": {
            "backgroundcolor": "rgb(17,17,17)",
            "gridcolor": "#506784",
            "gridwidth": 2,
            "linecolor": "#506784",
            "showbackground": true,
            "ticks": "",
            "zerolinecolor": "#C8D4E3"
           },
           "yaxis": {
            "backgroundcolor": "rgb(17,17,17)",
            "gridcolor": "#506784",
            "gridwidth": 2,
            "linecolor": "#506784",
            "showbackground": true,
            "ticks": "",
            "zerolinecolor": "#C8D4E3"
           },
           "zaxis": {
            "backgroundcolor": "rgb(17,17,17)",
            "gridcolor": "#506784",
            "gridwidth": 2,
            "linecolor": "#506784",
            "showbackground": true,
            "ticks": "",
            "zerolinecolor": "#C8D4E3"
           }
          },
          "shapedefaults": {
           "line": {
            "color": "#f2f5fa"
           }
          },
          "sliderdefaults": {
           "bgcolor": "#C8D4E3",
           "bordercolor": "rgb(17,17,17)",
           "borderwidth": 1,
           "tickwidth": 0
          },
          "ternary": {
           "aaxis": {
            "gridcolor": "#506784",
            "linecolor": "#506784",
            "ticks": ""
           },
           "baxis": {
            "gridcolor": "#506784",
            "linecolor": "#506784",
            "ticks": ""
           },
           "bgcolor": "rgb(17,17,17)",
           "caxis": {
            "gridcolor": "#506784",
            "linecolor": "#506784",
            "ticks": ""
           }
          },
          "title": {
           "x": 0.05
          },
          "updatemenudefaults": {
           "bgcolor": "#506784",
           "borderwidth": 0
          },
          "xaxis": {
           "automargin": true,
           "gridcolor": "#283442",
           "linecolor": "#506784",
           "ticks": "",
           "title": {
            "standoff": 15
           },
           "zerolinecolor": "#283442",
           "zerolinewidth": 2
          },
          "yaxis": {
           "automargin": true,
           "gridcolor": "#283442",
           "linecolor": "#506784",
           "ticks": "",
           "title": {
            "standoff": 15
           },
           "zerolinecolor": "#283442",
           "zerolinewidth": 2
          }
         }
        },
        "title": {
         "text": "2022 Australian Grand Prix - Race - VER vs LEC",
         "x": 0.1
        },
        "width": 1200,
        "xaxis": {
         "anchor": "y",
         "domain": [
          0,
          1
         ],
         "matches": "x3",
         "showticklabels": false
        },
        "xaxis2": {
         "anchor": "y2",
         "domain": [
          0,
          1
         ],
         "matches": "x3",
         "showticklabels": false
        },
        "xaxis3": {
         "anchor": "y3",
         "domain": [
          0,
          1
         ],
         "title": {
          "text": "Distance (m)"
         }
        },
        "yaxis": {
         "anchor": "x",
         "domain": [
          0.7333333333333334,
          1
         ],
         "title": {
          "text": "Speed (km/h)"
         }
        },
        "yaxis2": {
         "anchor": "x2",
         "domain": [
          0.3666666666666667,
          0.6333333333333333
         ],
         "title": {
          "text": "Gear"
         }
        },
        "yaxis3": {
         "anchor": "x3",
         "domain": [
          0,
          0.26666666666666666
         ],
         "title": {
          "text": "<-- LEC ahead | VER ahead -->"
         }
        }
       }
      }
     },
     "metadata": {},
     "output_type": "display_data"
    }
   ],
   "source": [
    "def plot_unstacked_data():\n",
    "\n",
    "    hovertemplate_speed = 'Speed: %{y} km/h'+'<br>Distance: %{x} meters'\n",
    "    hovertemplate_gear = 'Gear: %{y}'+'<br>Distance: %{x} meters'\n",
    "    \n",
    "    fig = make_subplots(rows=3, cols=1, shared_xaxes=True, subplot_titles=('Speed', 'Gear', 'Delta Time'), vertical_spacing=0.1)\n",
    "\n",
    "    fig.append_trace(go.Scatter(x=car_data_1['Distance'], y=car_data_1['Speed'], name=driver_1, line_color=ff1.plotting.driver_color(driver_1), hovertemplate = hovertemplate_speed, opacity=0.8), 1, 1)\n",
    "    fig.append_trace(go.Scatter(x=car_data_2['Distance'], y=car_data_2['Speed'], name=driver_2, line_color=ff1.plotting.driver_color(driver_2), hovertemplate = hovertemplate_speed, opacity=0.8), 1, 1)\n",
    "\n",
    "    fig.append_trace(go.Scatter(x=car_data_1['Distance'], y=car_data_1['nGear'], name=driver_1, line_color=ff1.plotting.driver_color(driver_1), hovertemplate = hovertemplate_gear, opacity=0.8, showlegend=False), 2, 1)\n",
    "    fig.append_trace(go.Scatter(x=car_data_2['Distance'], y=car_data_2['nGear'], name=driver_2, line_color=ff1.plotting.driver_color(driver_2), hovertemplate = hovertemplate_gear, opacity=0.8, showlegend=False), 2, 1)\n",
    "\n",
    "    fig.append_trace(go.Scatter(x=ref_tel['Distance'], y=delta_time, line_color='white', mode='lines', name='Delta Time', hovertemplate = 'Delta Time: %{y:.3f} sec', opacity=0.8), 3, 1)\n",
    "\n",
    "    fig.update_yaxes(title_text=\"Speed (km/h)\", row=1, col=1)\n",
    "    fig.update_yaxes(title_text=\"Gear\", row=2, col=1)\n",
    "    fig.update_yaxes(title_text=f\"<-- {driver_2} ahead | {driver_1} ahead -->\", row=3, col=1)\n",
    "    fig.update_xaxes(title_text=\"Distance (m)\", row=3, col=1)\n",
    "\n",
    "    fig.update_layout(width=1200, height=1200, title_text=plot_title, title_x=0.1)\n",
    "    return fig\n",
    "\n",
    "plot_unstacked_data()"
   ]
  },
  {
   "cell_type": "code",
   "execution_count": 409,
   "metadata": {},
   "outputs": [
    {
     "data": {
      "text/html": [
       "<div><div id=f1b537fd-d4b7-47d9-8dfd-6cee83c9a897 style=\"display:none; background-color:#9D6CFF; color:white; width:200px; height:30px; padding-left:5px; border-radius:4px; flex-direction:row; justify-content:space-around; align-items:center;\" onmouseover=\"this.style.backgroundColor='#BA9BF8'\" onmouseout=\"this.style.backgroundColor='#9D6CFF'\" onclick=\"window.commands?.execute('create-mitosheet-from-dataframe-output');\">See Full Dataframe in Mito</div> <script> if (window.commands.hasCommand('create-mitosheet-from-dataframe-output')) document.getElementById('f1b537fd-d4b7-47d9-8dfd-6cee83c9a897').style.display = 'flex' </script> <table border=\"1\" class=\"dataframe\">\n",
       "  <thead>\n",
       "    <tr style=\"text-align: right;\">\n",
       "      <th></th>\n",
       "      <th>Time</th>\n",
       "      <th>DriverNumber</th>\n",
       "      <th>LapTime</th>\n",
       "      <th>LapNumber</th>\n",
       "      <th>Stint</th>\n",
       "      <th>PitOutTime</th>\n",
       "      <th>PitInTime</th>\n",
       "      <th>Sector1Time</th>\n",
       "      <th>Sector2Time</th>\n",
       "      <th>Sector3Time</th>\n",
       "      <th>Sector1SessionTime</th>\n",
       "      <th>Sector2SessionTime</th>\n",
       "      <th>Sector3SessionTime</th>\n",
       "      <th>SpeedI1</th>\n",
       "      <th>SpeedI2</th>\n",
       "      <th>SpeedFL</th>\n",
       "      <th>SpeedST</th>\n",
       "      <th>IsPersonalBest</th>\n",
       "      <th>Compound</th>\n",
       "      <th>TyreLife</th>\n",
       "      <th>FreshTyre</th>\n",
       "      <th>LapStartTime</th>\n",
       "      <th>Team</th>\n",
       "      <th>Driver</th>\n",
       "      <th>TrackStatus</th>\n",
       "      <th>IsAccurate</th>\n",
       "      <th>LapStartDate</th>\n",
       "    </tr>\n",
       "  </thead>\n",
       "  <tbody>\n",
       "    <tr>\n",
       "      <th>1</th>\n",
       "      <td>0 days 01:05:08.114000</td>\n",
       "      <td>16</td>\n",
       "      <td>0 days 00:01:24.746000</td>\n",
       "      <td>2</td>\n",
       "      <td>1</td>\n",
       "      <td>NaT</td>\n",
       "      <td>NaT</td>\n",
       "      <td>0 days 00:00:29.566000</td>\n",
       "      <td>0 days 00:00:18.608000</td>\n",
       "      <td>0 days 00:00:36.572000</td>\n",
       "      <td>0 days 01:04:12.934000</td>\n",
       "      <td>0 days 01:04:31.542000</td>\n",
       "      <td>0 days 01:05:08.114000</td>\n",
       "      <td>262.0</td>\n",
       "      <td>293.0</td>\n",
       "      <td>280.0</td>\n",
       "      <td>280.0</td>\n",
       "      <td>False</td>\n",
       "      <td>MEDIUM</td>\n",
       "      <td>2.0</td>\n",
       "      <td>True</td>\n",
       "      <td>0 days 01:03:43.368000</td>\n",
       "      <td>Ferrari</td>\n",
       "      <td>LEC</td>\n",
       "      <td>2</td>\n",
       "      <td>True</td>\n",
       "      <td>2022-04-10 05:04:43.379</td>\n",
       "    </tr>\n",
       "    <tr>\n",
       "      <th>6</th>\n",
       "      <td>0 days 01:15:10.407000</td>\n",
       "      <td>16</td>\n",
       "      <td>0 days 00:01:23.957000</td>\n",
       "      <td>7</td>\n",
       "      <td>1</td>\n",
       "      <td>NaT</td>\n",
       "      <td>NaT</td>\n",
       "      <td>0 days 00:00:29.295000</td>\n",
       "      <td>0 days 00:00:18.446000</td>\n",
       "      <td>0 days 00:00:36.216000</td>\n",
       "      <td>0 days 01:14:15.745000</td>\n",
       "      <td>0 days 01:14:34.191000</td>\n",
       "      <td>0 days 01:15:10.407000</td>\n",
       "      <td>263.0</td>\n",
       "      <td>299.0</td>\n",
       "      <td>281.0</td>\n",
       "      <td>280.0</td>\n",
       "      <td>False</td>\n",
       "      <td>MEDIUM</td>\n",
       "      <td>7.0</td>\n",
       "      <td>True</td>\n",
       "      <td>0 days 01:13:46.450000</td>\n",
       "      <td>Ferrari</td>\n",
       "      <td>LEC</td>\n",
       "      <td>1</td>\n",
       "      <td>False</td>\n",
       "      <td>2022-04-10 05:14:46.461</td>\n",
       "    </tr>\n",
       "    <tr>\n",
       "      <th>7</th>\n",
       "      <td>0 days 01:16:33.996000</td>\n",
       "      <td>16</td>\n",
       "      <td>0 days 00:01:23.589000</td>\n",
       "      <td>8</td>\n",
       "      <td>1</td>\n",
       "      <td>NaT</td>\n",
       "      <td>NaT</td>\n",
       "      <td>0 days 00:00:29.198000</td>\n",
       "      <td>0 days 00:00:18.450000</td>\n",
       "      <td>0 days 00:00:35.941000</td>\n",
       "      <td>0 days 01:15:39.605000</td>\n",
       "      <td>0 days 01:15:58.055000</td>\n",
       "      <td>0 days 01:16:33.996000</td>\n",
       "      <td>265.0</td>\n",
       "      <td>294.0</td>\n",
       "      <td>282.0</td>\n",
       "      <td>284.0</td>\n",
       "      <td>False</td>\n",
       "      <td>MEDIUM</td>\n",
       "      <td>8.0</td>\n",
       "      <td>True</td>\n",
       "      <td>0 days 01:15:10.407000</td>\n",
       "      <td>Ferrari</td>\n",
       "      <td>LEC</td>\n",
       "      <td>1</td>\n",
       "      <td>True</td>\n",
       "      <td>2022-04-10 05:16:10.418</td>\n",
       "    </tr>\n",
       "    <tr>\n",
       "      <th>8</th>\n",
       "      <td>0 days 01:17:57.386000</td>\n",
       "      <td>16</td>\n",
       "      <td>0 days 00:01:23.390000</td>\n",
       "      <td>9</td>\n",
       "      <td>1</td>\n",
       "      <td>NaT</td>\n",
       "      <td>NaT</td>\n",
       "      <td>0 days 00:00:28.887000</td>\n",
       "      <td>0 days 00:00:18.477000</td>\n",
       "      <td>0 days 00:00:36.026000</td>\n",
       "      <td>0 days 01:17:02.883000</td>\n",
       "      <td>0 days 01:17:21.360000</td>\n",
       "      <td>0 days 01:17:57.386000</td>\n",
       "      <td>270.0</td>\n",
       "      <td>297.0</td>\n",
       "      <td>281.0</td>\n",
       "      <td>286.0</td>\n",
       "      <td>False</td>\n",
       "      <td>MEDIUM</td>\n",
       "      <td>9.0</td>\n",
       "      <td>True</td>\n",
       "      <td>0 days 01:16:33.996000</td>\n",
       "      <td>Ferrari</td>\n",
       "      <td>LEC</td>\n",
       "      <td>1</td>\n",
       "      <td>True</td>\n",
       "      <td>2022-04-10 05:17:34.007</td>\n",
       "    </tr>\n",
       "    <tr>\n",
       "      <th>9</th>\n",
       "      <td>0 days 01:19:20.746000</td>\n",
       "      <td>16</td>\n",
       "      <td>0 days 00:01:23.360000</td>\n",
       "      <td>10</td>\n",
       "      <td>1</td>\n",
       "      <td>NaT</td>\n",
       "      <td>NaT</td>\n",
       "      <td>0 days 00:00:28.936000</td>\n",
       "      <td>0 days 00:00:18.476000</td>\n",
       "      <td>0 days 00:00:35.948000</td>\n",
       "      <td>0 days 01:18:26.322000</td>\n",
       "      <td>0 days 01:18:44.798000</td>\n",
       "      <td>0 days 01:19:20.746000</td>\n",
       "      <td>272.0</td>\n",
       "      <td>300.0</td>\n",
       "      <td>282.0</td>\n",
       "      <td>283.0</td>\n",
       "      <td>False</td>\n",
       "      <td>MEDIUM</td>\n",
       "      <td>10.0</td>\n",
       "      <td>True</td>\n",
       "      <td>0 days 01:17:57.386000</td>\n",
       "      <td>Ferrari</td>\n",
       "      <td>LEC</td>\n",
       "      <td>1</td>\n",
       "      <td>True</td>\n",
       "      <td>2022-04-10 05:18:57.397</td>\n",
       "    </tr>\n",
       "    <tr>\n",
       "      <th>...</th>\n",
       "      <td>...</td>\n",
       "      <td>...</td>\n",
       "      <td>...</td>\n",
       "      <td>...</td>\n",
       "      <td>...</td>\n",
       "      <td>...</td>\n",
       "      <td>...</td>\n",
       "      <td>...</td>\n",
       "      <td>...</td>\n",
       "      <td>...</td>\n",
       "      <td>...</td>\n",
       "      <td>...</td>\n",
       "      <td>...</td>\n",
       "      <td>...</td>\n",
       "      <td>...</td>\n",
       "      <td>...</td>\n",
       "      <td>...</td>\n",
       "      <td>...</td>\n",
       "      <td>...</td>\n",
       "      <td>...</td>\n",
       "      <td>...</td>\n",
       "      <td>...</td>\n",
       "      <td>...</td>\n",
       "      <td>...</td>\n",
       "      <td>...</td>\n",
       "      <td>...</td>\n",
       "      <td>...</td>\n",
       "    </tr>\n",
       "    <tr>\n",
       "      <th>1035</th>\n",
       "      <td>0 days 01:29:48.214000</td>\n",
       "      <td>5</td>\n",
       "      <td>0 days 00:01:25.189000</td>\n",
       "      <td>17</td>\n",
       "      <td>1</td>\n",
       "      <td>NaT</td>\n",
       "      <td>NaT</td>\n",
       "      <td>0 days 00:00:29.513000</td>\n",
       "      <td>0 days 00:00:18.708000</td>\n",
       "      <td>0 days 00:00:36.968000</td>\n",
       "      <td>0 days 01:28:52.538000</td>\n",
       "      <td>0 days 01:29:11.246000</td>\n",
       "      <td>0 days 01:29:48.214000</td>\n",
       "      <td>271.0</td>\n",
       "      <td>300.0</td>\n",
       "      <td>286.0</td>\n",
       "      <td>291.0</td>\n",
       "      <td>True</td>\n",
       "      <td>HARD</td>\n",
       "      <td>18.0</td>\n",
       "      <td>False</td>\n",
       "      <td>0 days 01:28:23.025000</td>\n",
       "      <td>Aston Martin</td>\n",
       "      <td>VET</td>\n",
       "      <td>1</td>\n",
       "      <td>True</td>\n",
       "      <td>2022-04-10 05:29:23.036</td>\n",
       "    </tr>\n",
       "    <tr>\n",
       "      <th>1036</th>\n",
       "      <td>0 days 01:31:13.581000</td>\n",
       "      <td>5</td>\n",
       "      <td>0 days 00:01:25.367000</td>\n",
       "      <td>18</td>\n",
       "      <td>1</td>\n",
       "      <td>NaT</td>\n",
       "      <td>NaT</td>\n",
       "      <td>0 days 00:00:29.641000</td>\n",
       "      <td>0 days 00:00:18.758000</td>\n",
       "      <td>0 days 00:00:36.968000</td>\n",
       "      <td>0 days 01:30:17.855000</td>\n",
       "      <td>0 days 01:30:36.613000</td>\n",
       "      <td>0 days 01:31:13.581000</td>\n",
       "      <td>264.0</td>\n",
       "      <td>303.0</td>\n",
       "      <td>286.0</td>\n",
       "      <td>289.0</td>\n",
       "      <td>False</td>\n",
       "      <td>HARD</td>\n",
       "      <td>19.0</td>\n",
       "      <td>False</td>\n",
       "      <td>0 days 01:29:48.214000</td>\n",
       "      <td>Aston Martin</td>\n",
       "      <td>VET</td>\n",
       "      <td>1</td>\n",
       "      <td>True</td>\n",
       "      <td>2022-04-10 05:30:48.225</td>\n",
       "    </tr>\n",
       "    <tr>\n",
       "      <th>1037</th>\n",
       "      <td>0 days 01:32:39.084000</td>\n",
       "      <td>5</td>\n",
       "      <td>0 days 00:01:25.503000</td>\n",
       "      <td>19</td>\n",
       "      <td>1</td>\n",
       "      <td>NaT</td>\n",
       "      <td>NaT</td>\n",
       "      <td>0 days 00:00:29.519000</td>\n",
       "      <td>0 days 00:00:18.562000</td>\n",
       "      <td>0 days 00:00:37.422000</td>\n",
       "      <td>0 days 01:31:43.100000</td>\n",
       "      <td>0 days 01:32:01.662000</td>\n",
       "      <td>0 days 01:32:39.084000</td>\n",
       "      <td>273.0</td>\n",
       "      <td>303.0</td>\n",
       "      <td>285.0</td>\n",
       "      <td>290.0</td>\n",
       "      <td>False</td>\n",
       "      <td>HARD</td>\n",
       "      <td>20.0</td>\n",
       "      <td>False</td>\n",
       "      <td>0 days 01:31:13.581000</td>\n",
       "      <td>Aston Martin</td>\n",
       "      <td>VET</td>\n",
       "      <td>1</td>\n",
       "      <td>True</td>\n",
       "      <td>2022-04-10 05:32:13.592</td>\n",
       "    </tr>\n",
       "    <tr>\n",
       "      <th>1038</th>\n",
       "      <td>0 days 01:34:04.482000</td>\n",
       "      <td>5</td>\n",
       "      <td>0 days 00:01:25.398000</td>\n",
       "      <td>20</td>\n",
       "      <td>1</td>\n",
       "      <td>NaT</td>\n",
       "      <td>NaT</td>\n",
       "      <td>0 days 00:00:29.553000</td>\n",
       "      <td>0 days 00:00:18.662000</td>\n",
       "      <td>0 days 00:00:37.183000</td>\n",
       "      <td>0 days 01:33:08.637000</td>\n",
       "      <td>0 days 01:33:27.299000</td>\n",
       "      <td>0 days 01:34:04.482000</td>\n",
       "      <td>NaN</td>\n",
       "      <td>300.0</td>\n",
       "      <td>286.0</td>\n",
       "      <td>291.0</td>\n",
       "      <td>False</td>\n",
       "      <td>HARD</td>\n",
       "      <td>21.0</td>\n",
       "      <td>False</td>\n",
       "      <td>0 days 01:32:39.084000</td>\n",
       "      <td>Aston Martin</td>\n",
       "      <td>VET</td>\n",
       "      <td>1</td>\n",
       "      <td>True</td>\n",
       "      <td>2022-04-10 05:33:39.095</td>\n",
       "    </tr>\n",
       "    <tr>\n",
       "      <th>1039</th>\n",
       "      <td>0 days 01:35:29.987000</td>\n",
       "      <td>5</td>\n",
       "      <td>0 days 00:01:25.505000</td>\n",
       "      <td>21</td>\n",
       "      <td>1</td>\n",
       "      <td>NaT</td>\n",
       "      <td>NaT</td>\n",
       "      <td>0 days 00:00:29.668000</td>\n",
       "      <td>0 days 00:00:18.606000</td>\n",
       "      <td>0 days 00:00:37.231000</td>\n",
       "      <td>0 days 01:34:34.150000</td>\n",
       "      <td>0 days 01:34:52.756000</td>\n",
       "      <td>0 days 01:35:29.987000</td>\n",
       "      <td>263.0</td>\n",
       "      <td>300.0</td>\n",
       "      <td>288.0</td>\n",
       "      <td>293.0</td>\n",
       "      <td>False</td>\n",
       "      <td>HARD</td>\n",
       "      <td>22.0</td>\n",
       "      <td>False</td>\n",
       "      <td>0 days 01:34:04.482000</td>\n",
       "      <td>Aston Martin</td>\n",
       "      <td>VET</td>\n",
       "      <td>1</td>\n",
       "      <td>True</td>\n",
       "      <td>2022-04-10 05:35:04.493</td>\n",
       "    </tr>\n",
       "  </tbody>\n",
       "</table></div>"
      ],
      "text/plain": [
       "                       Time DriverNumber                LapTime  LapNumber  \\\n",
       "1    0 days 01:05:08.114000           16 0 days 00:01:24.746000          2   \n",
       "6    0 days 01:15:10.407000           16 0 days 00:01:23.957000          7   \n",
       "7    0 days 01:16:33.996000           16 0 days 00:01:23.589000          8   \n",
       "8    0 days 01:17:57.386000           16 0 days 00:01:23.390000          9   \n",
       "9    0 days 01:19:20.746000           16 0 days 00:01:23.360000         10   \n",
       "...                     ...          ...                    ...        ...   \n",
       "1035 0 days 01:29:48.214000            5 0 days 00:01:25.189000         17   \n",
       "1036 0 days 01:31:13.581000            5 0 days 00:01:25.367000         18   \n",
       "1037 0 days 01:32:39.084000            5 0 days 00:01:25.503000         19   \n",
       "1038 0 days 01:34:04.482000            5 0 days 00:01:25.398000         20   \n",
       "1039 0 days 01:35:29.987000            5 0 days 00:01:25.505000         21   \n",
       "\n",
       "      Stint PitOutTime PitInTime            Sector1Time  \\\n",
       "1         1        NaT       NaT 0 days 00:00:29.566000   \n",
       "6         1        NaT       NaT 0 days 00:00:29.295000   \n",
       "7         1        NaT       NaT 0 days 00:00:29.198000   \n",
       "8         1        NaT       NaT 0 days 00:00:28.887000   \n",
       "9         1        NaT       NaT 0 days 00:00:28.936000   \n",
       "...     ...        ...       ...                    ...   \n",
       "1035      1        NaT       NaT 0 days 00:00:29.513000   \n",
       "1036      1        NaT       NaT 0 days 00:00:29.641000   \n",
       "1037      1        NaT       NaT 0 days 00:00:29.519000   \n",
       "1038      1        NaT       NaT 0 days 00:00:29.553000   \n",
       "1039      1        NaT       NaT 0 days 00:00:29.668000   \n",
       "\n",
       "                Sector2Time            Sector3Time     Sector1SessionTime  \\\n",
       "1    0 days 00:00:18.608000 0 days 00:00:36.572000 0 days 01:04:12.934000   \n",
       "6    0 days 00:00:18.446000 0 days 00:00:36.216000 0 days 01:14:15.745000   \n",
       "7    0 days 00:00:18.450000 0 days 00:00:35.941000 0 days 01:15:39.605000   \n",
       "8    0 days 00:00:18.477000 0 days 00:00:36.026000 0 days 01:17:02.883000   \n",
       "9    0 days 00:00:18.476000 0 days 00:00:35.948000 0 days 01:18:26.322000   \n",
       "...                     ...                    ...                    ...   \n",
       "1035 0 days 00:00:18.708000 0 days 00:00:36.968000 0 days 01:28:52.538000   \n",
       "1036 0 days 00:00:18.758000 0 days 00:00:36.968000 0 days 01:30:17.855000   \n",
       "1037 0 days 00:00:18.562000 0 days 00:00:37.422000 0 days 01:31:43.100000   \n",
       "1038 0 days 00:00:18.662000 0 days 00:00:37.183000 0 days 01:33:08.637000   \n",
       "1039 0 days 00:00:18.606000 0 days 00:00:37.231000 0 days 01:34:34.150000   \n",
       "\n",
       "         Sector2SessionTime     Sector3SessionTime  SpeedI1  SpeedI2  SpeedFL  \\\n",
       "1    0 days 01:04:31.542000 0 days 01:05:08.114000    262.0    293.0    280.0   \n",
       "6    0 days 01:14:34.191000 0 days 01:15:10.407000    263.0    299.0    281.0   \n",
       "7    0 days 01:15:58.055000 0 days 01:16:33.996000    265.0    294.0    282.0   \n",
       "8    0 days 01:17:21.360000 0 days 01:17:57.386000    270.0    297.0    281.0   \n",
       "9    0 days 01:18:44.798000 0 days 01:19:20.746000    272.0    300.0    282.0   \n",
       "...                     ...                    ...      ...      ...      ...   \n",
       "1035 0 days 01:29:11.246000 0 days 01:29:48.214000    271.0    300.0    286.0   \n",
       "1036 0 days 01:30:36.613000 0 days 01:31:13.581000    264.0    303.0    286.0   \n",
       "1037 0 days 01:32:01.662000 0 days 01:32:39.084000    273.0    303.0    285.0   \n",
       "1038 0 days 01:33:27.299000 0 days 01:34:04.482000      NaN    300.0    286.0   \n",
       "1039 0 days 01:34:52.756000 0 days 01:35:29.987000    263.0    300.0    288.0   \n",
       "\n",
       "      SpeedST  IsPersonalBest Compound  TyreLife FreshTyre  \\\n",
       "1       280.0           False   MEDIUM       2.0      True   \n",
       "6       280.0           False   MEDIUM       7.0      True   \n",
       "7       284.0           False   MEDIUM       8.0      True   \n",
       "8       286.0           False   MEDIUM       9.0      True   \n",
       "9       283.0           False   MEDIUM      10.0      True   \n",
       "...       ...             ...      ...       ...       ...   \n",
       "1035    291.0            True     HARD      18.0     False   \n",
       "1036    289.0           False     HARD      19.0     False   \n",
       "1037    290.0           False     HARD      20.0     False   \n",
       "1038    291.0           False     HARD      21.0     False   \n",
       "1039    293.0           False     HARD      22.0     False   \n",
       "\n",
       "               LapStartTime          Team Driver TrackStatus IsAccurate  \\\n",
       "1    0 days 01:03:43.368000       Ferrari    LEC           2       True   \n",
       "6    0 days 01:13:46.450000       Ferrari    LEC           1      False   \n",
       "7    0 days 01:15:10.407000       Ferrari    LEC           1       True   \n",
       "8    0 days 01:16:33.996000       Ferrari    LEC           1       True   \n",
       "9    0 days 01:17:57.386000       Ferrari    LEC           1       True   \n",
       "...                     ...           ...    ...         ...        ...   \n",
       "1035 0 days 01:28:23.025000  Aston Martin    VET           1       True   \n",
       "1036 0 days 01:29:48.214000  Aston Martin    VET           1       True   \n",
       "1037 0 days 01:31:13.581000  Aston Martin    VET           1       True   \n",
       "1038 0 days 01:32:39.084000  Aston Martin    VET           1       True   \n",
       "1039 0 days 01:34:04.482000  Aston Martin    VET           1       True   \n",
       "\n",
       "                LapStartDate  \n",
       "1    2022-04-10 05:04:43.379  \n",
       "6    2022-04-10 05:14:46.461  \n",
       "7    2022-04-10 05:16:10.418  \n",
       "8    2022-04-10 05:17:34.007  \n",
       "9    2022-04-10 05:18:57.397  \n",
       "...                      ...  \n",
       "1035 2022-04-10 05:29:23.036  \n",
       "1036 2022-04-10 05:30:48.225  \n",
       "1037 2022-04-10 05:32:13.592  \n",
       "1038 2022-04-10 05:33:39.095  \n",
       "1039 2022-04-10 05:35:04.493  \n",
       "\n",
       "[688 rows x 27 columns]"
      ]
     },
     "execution_count": 409,
     "metadata": {},
     "output_type": "execute_result"
    }
   ],
   "source": [
    "# Returns only laps quicker than 107% of the quickest lap of the session, removing outlaps and inlaps.\n",
    "session.laps.pick_quicklaps()"
   ]
  },
  {
   "cell_type": "code",
   "execution_count": 410,
   "metadata": {},
   "outputs": [],
   "source": [
    "lap_1 = fastest_driver_1.telemetry\n",
    "lap_2 = fastest_driver_2.telemetry\n",
    "lap_1 = lap_1[lap_1['Source'] != 'pos'].reset_index(drop=True)\n",
    "lap_2 = lap_2[lap_2['Source'] != 'pos'].reset_index(drop=True)"
   ]
  },
  {
   "cell_type": "code",
   "execution_count": 411,
   "metadata": {},
   "outputs": [
    {
     "data": {
      "text/plain": [
       "{1: [120, 1280, '^'],\n",
       " 2: [-1341, 2800, '<'],\n",
       " 3: [-1228, 100, '<'],\n",
       " 4: [-1533, -650, '<'],\n",
       " 5: [2633, 128, '>'],\n",
       " 6: [25, -469, '<'],\n",
       " 7: [-8065, -6549, '^'],\n",
       " 8: [700, 350, '>'],\n",
       " 9: [0, 0, '<'],\n",
       " 10: [0, 0, '<'],\n",
       " 11: [0, 0, '<'],\n",
       " 12: [0, 0, '<'],\n",
       " 13: [0, 0, '<'],\n",
       " 14: [0, 0, '<'],\n",
       " 15: [0, 0, '<'],\n",
       " 16: [0, 0, '<'],\n",
       " 17: [0, 0, '<'],\n",
       " 18: [0, 0, '<'],\n",
       " 19: [0, 0, '<'],\n",
       " 20: [0, 0, '<'],\n",
       " 21: [0, 0, '<'],\n",
       " 22: [0, 0, '<']}"
      ]
     },
     "execution_count": 411,
     "metadata": {},
     "output_type": "execute_result"
    }
   ],
   "source": [
    "start_line_dict = {1: [120, 1280, '^'],\n",
    "                   2: [-1341, 2800, '<'],\n",
    "                   3: [-1228, 100, '<'],\n",
    "                   4: [-1533, -650, '<'],\n",
    "                   5: [2633, 128, '>'],\n",
    "                   6: [25, -469, '<'],\n",
    "                   7: [-8065, -6549, '^'],\n",
    "                   8: [700, 350, '>'],\n",
    "}\n",
    "\n",
    "for i in range(1,23):\n",
    "    if i in start_line_dict:\n",
    "        continue\n",
    "    else:\n",
    "        start_line_dict[i] = [0, 0, '<']\n",
    "    \n",
    "start_line_dict"
   ]
  },
  {
   "cell_type": "code",
   "execution_count": 412,
   "metadata": {},
   "outputs": [],
   "source": [
    "colormap_speed = mpl.cm.RdYlGn\n",
    "colormap_gear = mpl.cm.get_cmap('RdYlGn', 8)\n",
    "points = np.array([lap_1['X'], lap_1['Y']]).T.reshape(-1, 1, 2)\n",
    "segments = np.concatenate([points[:-1], points[1:]], axis=1)\n",
    "start_x = points[0][0][0]\n",
    "start_y = points[0][0][1]\n",
    "direction_x = start_line_dict[gp_round][0]\n",
    "direction_y = start_line_dict[gp_round][1]\n",
    "direction_marker = start_line_dict[gp_round][2]\n",
    "pix = 1/plt.rcParams['figure.dpi']"
   ]
  },
  {
   "cell_type": "code",
   "execution_count": 413,
   "metadata": {},
   "outputs": [
    {
     "data": {
      "image/png": "[encoded data removed]",
      "text/plain": [
       "<Figure size 800x800 with 2 Axes>"
      ]
     },
     "execution_count": 413,
     "metadata": {},
     "output_type": "execute_result"
    },
    {
     "data": {
      "image/png": "[encoded data removed]",
      "text/plain": [
       "<Figure size 800x800 with 2 Axes>"
      ]
     },
     "metadata": {},
     "output_type": "display_data"
    }
   ],
   "source": [
    "def plot_track_speed():\n",
    "\n",
    "    # Setup plot\n",
    "    fig, ax = plt.subplots(sharex=True, sharey=True, figsize=(800*pix, 800*pix))\n",
    "    fig.suptitle(f\"{session.event.year} {session.event.EventName} - {session.name} - {driver_1}\", size=24, y=0.97)\n",
    "\n",
    "    # Adjust margins and turn of axis\n",
    "    plt.subplots_adjust(left=0.1, right=0.9, top=0.9, bottom=0.12)\n",
    "    ax.axis('off')\n",
    "\n",
    "    # After this, we plot the data itself.\n",
    "    # Create background track line\n",
    "    ax.plot(lap_1['X'], lap_1['Y'], color='black', linestyle='-', linewidth=16, zorder=1)\n",
    "\n",
    "    # Add start line marker\n",
    "    plt.scatter(start_x, start_y, color='white', s=400, zorder=1)\n",
    "    plt.scatter(direction_x, direction_y, color='white', s=400, zorder=1, marker=direction_marker)\n",
    "\n",
    "    # Create a continuous norm to map from data points to colors\n",
    "    norm = plt.Normalize(lap_1['Speed'].min(), lap_1['Speed'].max())\n",
    "    lc = LineCollection(segments, cmap=colormap_speed, norm=norm, linestyle='-', linewidth=5)\n",
    "\n",
    "    # Set the values used for colormapping\n",
    "    lc.set_array(lap_1['Speed'])\n",
    "\n",
    "    # Merge all line segments together\n",
    "    line = ax.add_collection(lc)\n",
    "\n",
    "    # Finally, we create a color bar as a legend.\n",
    "    cbaxes = fig.add_axes([0.25, 0.05, 0.5, 0.05])\n",
    "    normlegend = mpl.colors.Normalize(vmin=lap_1['Speed'].min(), vmax=lap_1['Speed'].max())\n",
    "    legend = mpl.colorbar.ColorbarBase(cbaxes, norm=normlegend, cmap=colormap_speed, orientation=\"horizontal\", label='Speed (km/h)')\n",
    "\n",
    "    # Set background color to transparent\n",
    "    # fig.patch.set_alpha(0)\n",
    "    fig.patch.set_facecolor('#111111')\n",
    "\n",
    "    # Show the plot\n",
    "    return fig\n",
    "\n",
    "plot_track_speed()"
   ]
  },
  {
   "cell_type": "code",
   "execution_count": 414,
   "metadata": {},
   "outputs": [
    {
     "data": {
      "image/png": "[encoded data removed]",
      "text/plain": [
       "<Figure size 800x800 with 2 Axes>"
      ]
     },
     "execution_count": 414,
     "metadata": {},
     "output_type": "execute_result"
    },
    {
     "data": {
      "image/png": "[encoded data removed]",
      "text/plain": [
       "<Figure size 800x800 with 2 Axes>"
      ]
     },
     "metadata": {},
     "output_type": "display_data"
    }
   ],
   "source": [
    "def plot_track_gear():\n",
    "\n",
    "    # Setup plot\n",
    "    fig, ax = plt.subplots(sharex=True, sharey=True, figsize=(800*pix, 800*pix))\n",
    "    fig.suptitle(f\"{session.event.year} {session.event.EventName} - {session.name} - {driver_1}\", size=24, y=0.97)\n",
    "\n",
    "    # Adjust margins and turn of axis\n",
    "    plt.subplots_adjust(left=0.1, right=0.9, top=0.9, bottom=0.12)\n",
    "    ax.axis('off')\n",
    "\n",
    "    # After this, we plot the data itself.\n",
    "    # Create background track line\n",
    "    ax.plot(lap_1['X'], lap_1['Y'], color='black', linestyle='-', linewidth=16, zorder=1)\n",
    "\n",
    "    # Add start line marker\n",
    "    plt.scatter(start_x, start_y, color='white', s=400, zorder=1)\n",
    "    plt.scatter(direction_x, direction_y, color='white', s=400, zorder=1, marker=direction_marker)\n",
    "\n",
    "    # Create a norm to map from data points to colors\n",
    "    norm = plt.Normalize(1, colormap_gear.N+1)\n",
    "    lc = LineCollection(segments, cmap=colormap_gear, norm=norm, linestyle='-', linewidth=5)\n",
    "\n",
    "    # Set the values used for colormapping\n",
    "    lc.set_array(lap_1['nGear'].to_numpy().astype(float))\n",
    "\n",
    "    # Merge all line segments together\n",
    "    line = ax.add_collection(lc)\n",
    "\n",
    "    # Create a color bar as a legend\n",
    "    cbaxes = fig.add_axes([0.25, 0.05, 0.5, 0.05])\n",
    "    normlegend = mpl.colors.Normalize(vmin=1, vmax=8)\n",
    "    legend = mpl.colorbar.ColorbarBase(cbaxes, norm=normlegend, cmap=colormap_gear, orientation=\"horizontal\", label='Gear')\n",
    "\n",
    "    # Set background color to transparent\n",
    "    # fig.patch.set_alpha(0)\n",
    "    fig.patch.set_facecolor('#111111')\n",
    "\n",
    "    # Show the plot\n",
    "    return fig\n",
    "\n",
    "plot_track_gear()"
   ]
  },
  {
   "cell_type": "code",
   "execution_count": 415,
   "metadata": {},
   "outputs": [],
   "source": [
    "def delta_bounds(vmin, vmax):\n",
    "    if abs(vmin) < abs(vmax):\n",
    "        vmin = -(vmax)\n",
    "    else:\n",
    "        vmax = -(vmin)\n",
    "    return vmin, vmax"
   ]
  },
  {
   "cell_type": "code",
   "execution_count": 416,
   "metadata": {},
   "outputs": [
    {
     "data": {
      "image/png": "[encoded data removed]",
      "text/plain": [
       "<Figure size 800x800 with 2 Axes>"
      ]
     },
     "execution_count": 416,
     "metadata": {},
     "output_type": "execute_result"
    },
    {
     "data": {
      "image/png": "[encoded data removed]",
      "text/plain": [
       "<Figure size 800x800 with 2 Axes>"
      ]
     },
     "metadata": {},
     "output_type": "display_data"
    }
   ],
   "source": [
    "def plot_track_delta():\n",
    "\n",
    "    # Determine boundaries for the colorbar\n",
    "    vmin, vmax = delta_bounds(delta_time.min(), delta_time.max())\n",
    "\n",
    "    # Setup plot\n",
    "    fig, ax = plt.subplots(sharex=True, sharey=True, figsize=(800*pix, 800*pix))\n",
    "    fig.suptitle(f\"{session.event.year} {session.event.EventName} - {session.name} - {driver_1} vs {driver_2}\", size=24, y=0.97)\n",
    "\n",
    "    # Adjust margins and turn of axis\n",
    "    plt.subplots_adjust(left=0.1, right=0.9, top=0.9, bottom=0.12)\n",
    "    ax.axis('off')\n",
    "\n",
    "    # After this, we plot the data itself.\n",
    "    # Create background track line\n",
    "    ax.plot(lap_1['X'], lap_1['Y'], color='black', linestyle='-', linewidth=16, zorder=1)\n",
    "\n",
    "    # Add start line marker\n",
    "    plt.scatter(start_x, start_y, color='white', s=400, zorder=1)\n",
    "    plt.scatter(direction_x, direction_y, color='white', s=400, zorder=1, marker=direction_marker)\n",
    "\n",
    "    # Create a continuous norm to map from data points to colors\n",
    "    norm = plt.Normalize(vmin, vmax)\n",
    "    lc = LineCollection(segments, cmap=colormap_speed, norm=norm, linestyle='-', linewidth=5)\n",
    "\n",
    "    # Set the values used for colormapping\n",
    "    lc.set_array(delta_time)\n",
    "\n",
    "    # Merge all line segments together\n",
    "    line = ax.add_collection(lc)\n",
    "\n",
    "    # Finally, we create a color bar as a legend.\n",
    "    cbaxes = fig.add_axes([0.25, 0.05, 0.5, 0.05])\n",
    "    normlegend = mpl.colors.Normalize(vmin=vmin, vmax=vmax)\n",
    "    legend = mpl.colorbar.ColorbarBase(cbaxes, norm=normlegend, cmap=colormap_speed, orientation=\"horizontal\", label=f\"<-- {driver_2} ahead | {driver_1} ahead -->\")\n",
    "\n",
    "    # Set background color to transparent\n",
    "    # fig.patch.set_alpha(0)\n",
    "    fig.patch.set_facecolor('#111111')\n",
    "\n",
    "    # Show the plot\n",
    "    return fig\n",
    "\n",
    "plot_track_delta()"
   ]
  },
  {
   "cell_type": "code",
   "execution_count": 417,
   "metadata": {},
   "outputs": [],
   "source": [
    "race = session.laps\n",
    "race = race.sort_values('Time').reset_index(drop=True)"
   ]
  },
  {
   "cell_type": "markdown",
   "metadata": {},
   "source": [
    "# Tests"
   ]
  },
  {
   "cell_type": "code",
   "execution_count": 418,
   "metadata": {},
   "outputs": [],
   "source": [
    "# Ergast API base request\n",
    "def ergast_retrieve(api_endpoint: str):\n",
    "    url = f'https://ergast.com/api/f1/{api_endpoint}.json'\n",
    "    response = requests.get(url).json()\n",
    "    \n",
    "    return response['MRData']"
   ]
  },
  {
   "cell_type": "code",
   "execution_count": 419,
   "metadata": {},
   "outputs": [],
   "source": [
    "# Get drivers standings\n",
    "def update_driver_standings(rounds):\n",
    "    standings_dict = {}\n",
    "    for i in range(1, rounds+1):\n",
    "        try:\n",
    "            r = ergast_retrieve(f'current/{i}/driverStandings')\n",
    "            standings = r['StandingsTable']['StandingsLists'][0]['DriverStandings']\n",
    "            for j in standings:\n",
    "                if j['Driver']['code'] not in standings_dict:\n",
    "                    if i > 1:\n",
    "                        num = i - 1\n",
    "                        standings_dict[j['Driver']['code']] = [0] * num\n",
    "                        standings_dict[j['Driver']['code']].append(j['points'])\n",
    "                    else:\n",
    "                        standings_dict[j['Driver']['code']] = [j['points']]\n",
    "                else:\n",
    "                    if len(standings_dict[j['Driver']['code']]) < (i - 1):\n",
    "                        num_missing = (i + 1) - len(standings_dict[j['Driver']['code']])\n",
    "                        print(num_missing)\n",
    "                        standings_dict[j['Driver']['code']] = standings_dict[j['Driver']['code']] + [0] * num_missing\n",
    "                        standings_dict[j['Driver']['code']].append(j['points'])\n",
    "                    else:\n",
    "                        standings_dict[j['Driver']['code']].append(j['points'])\n",
    "        except IndexError:\n",
    "            break\n",
    "    \n",
    "    df_drivers = pd.DataFrame.from_dict(standings_dict, orient='index')\n",
    "    df_drivers.columns = df_drivers.columns + 1\n",
    "    df_drivers[df_drivers.columns] = df_drivers[df_drivers.columns].apply(pd.to_numeric)\n",
    "    df_drivers.sort_values(by=df_drivers.columns[-1], ascending=False, inplace=True)\n",
    "    return df_drivers\n",
    "\n",
    "df_drivers = update_driver_standings(22)\n",
    "df_drivers.to_csv('../data/drivers_standings.csv')"
   ]
  },
  {
   "cell_type": "code",
   "execution_count": 420,
   "metadata": {},
   "outputs": [],
   "source": [
    "# Get constructors standings\n",
    "def update_constructor_standings(rounds):\n",
    "    standings_dict = {}\n",
    "    for i in range(1, rounds+1):\n",
    "        try:\n",
    "            r = ergast_retrieve(f'current/{i}/constructorStandings')\n",
    "            standings = r['StandingsTable']['StandingsLists'][0]['ConstructorStandings']\n",
    "            for i in standings:\n",
    "                if i['Constructor']['name'] not in standings_dict:\n",
    "                    standings_dict[i['Constructor']['name']] = [i['points']]\n",
    "                else:\n",
    "                    standings_dict[i['Constructor']['name']].append(i['points'])\n",
    "        except IndexError:\n",
    "            break\n",
    "        \n",
    "    df_constructors = pd.DataFrame.from_dict(standings_dict, orient='index')\n",
    "    df_constructors.columns = df_constructors.columns + 1\n",
    "    df_constructors[df_constructors.columns] = df_constructors[df_constructors.columns].apply(pd.to_numeric)\n",
    "    df_constructors.sort_values(by=df_constructors.columns[-1], ascending=False, inplace=True)\n",
    "    return df_constructors\n",
    "\n",
    "df_constructors = update_constructor_standings(22)\n",
    "df_constructors.to_csv('../data/constructors_standings.csv')"
   ]
  },
  {
   "cell_type": "code",
   "execution_count": 421,
   "metadata": {},
   "outputs": [
    {
     "data": {
      "text/html": [
       "<div><div id=5ce8f428-ca19-4e9a-a2c9-f05b05b22f11 style=\"display:none; background-color:#9D6CFF; color:white; width:200px; height:30px; padding-left:5px; border-radius:4px; flex-direction:row; justify-content:space-around; align-items:center;\" onmouseover=\"this.style.backgroundColor='#BA9BF8'\" onmouseout=\"this.style.backgroundColor='#9D6CFF'\" onclick=\"window.commands?.execute('create-mitosheet-from-dataframe-output');\">See Full Dataframe in Mito</div> <script> if (window.commands.hasCommand('create-mitosheet-from-dataframe-output')) document.getElementById('5ce8f428-ca19-4e9a-a2c9-f05b05b22f11').style.display = 'flex' </script> <table border=\"1\" class=\"dataframe\">\n",
       "  <thead>\n",
       "    <tr style=\"text-align: right;\">\n",
       "      <th></th>\n",
       "      <th>1</th>\n",
       "      <th>2</th>\n",
       "      <th>3</th>\n",
       "      <th>4</th>\n",
       "      <th>5</th>\n",
       "      <th>6</th>\n",
       "      <th>7</th>\n",
       "    </tr>\n",
       "  </thead>\n",
       "  <tbody>\n",
       "    <tr>\n",
       "      <th>VER</th>\n",
       "      <td>0</td>\n",
       "      <td>25</td>\n",
       "      <td>25</td>\n",
       "      <td>59</td>\n",
       "      <td>85</td>\n",
       "      <td>110</td>\n",
       "      <td>125</td>\n",
       "    </tr>\n",
       "    <tr>\n",
       "      <th>LEC</th>\n",
       "      <td>26</td>\n",
       "      <td>45</td>\n",
       "      <td>71</td>\n",
       "      <td>86</td>\n",
       "      <td>104</td>\n",
       "      <td>104</td>\n",
       "      <td>116</td>\n",
       "    </tr>\n",
       "    <tr>\n",
       "      <th>PER</th>\n",
       "      <td>0</td>\n",
       "      <td>12</td>\n",
       "      <td>30</td>\n",
       "      <td>54</td>\n",
       "      <td>66</td>\n",
       "      <td>85</td>\n",
       "      <td>110</td>\n",
       "    </tr>\n",
       "    <tr>\n",
       "      <th>RUS</th>\n",
       "      <td>12</td>\n",
       "      <td>22</td>\n",
       "      <td>37</td>\n",
       "      <td>49</td>\n",
       "      <td>59</td>\n",
       "      <td>74</td>\n",
       "      <td>84</td>\n",
       "    </tr>\n",
       "    <tr>\n",
       "      <th>SAI</th>\n",
       "      <td>18</td>\n",
       "      <td>33</td>\n",
       "      <td>33</td>\n",
       "      <td>38</td>\n",
       "      <td>53</td>\n",
       "      <td>65</td>\n",
       "      <td>83</td>\n",
       "    </tr>\n",
       "    <tr>\n",
       "      <th>...</th>\n",
       "      <td>...</td>\n",
       "      <td>...</td>\n",
       "      <td>...</td>\n",
       "      <td>...</td>\n",
       "      <td>...</td>\n",
       "      <td>...</td>\n",
       "      <td>...</td>\n",
       "    </tr>\n",
       "    <tr>\n",
       "      <th>STR</th>\n",
       "      <td>0</td>\n",
       "      <td>0</td>\n",
       "      <td>0</td>\n",
       "      <td>1</td>\n",
       "      <td>2</td>\n",
       "      <td>2</td>\n",
       "      <td>2</td>\n",
       "    </tr>\n",
       "    <tr>\n",
       "      <th>ZHO</th>\n",
       "      <td>1</td>\n",
       "      <td>1</td>\n",
       "      <td>1</td>\n",
       "      <td>1</td>\n",
       "      <td>1</td>\n",
       "      <td>1</td>\n",
       "      <td>1</td>\n",
       "    </tr>\n",
       "    <tr>\n",
       "      <th>LAT</th>\n",
       "      <td>0</td>\n",
       "      <td>0</td>\n",
       "      <td>0</td>\n",
       "      <td>0</td>\n",
       "      <td>0</td>\n",
       "      <td>0</td>\n",
       "      <td>0</td>\n",
       "    </tr>\n",
       "    <tr>\n",
       "      <th>HUL</th>\n",
       "      <td>0</td>\n",
       "      <td>0</td>\n",
       "      <td>0</td>\n",
       "      <td>0</td>\n",
       "      <td>0</td>\n",
       "      <td>0</td>\n",
       "      <td>0</td>\n",
       "    </tr>\n",
       "    <tr>\n",
       "      <th>MSC</th>\n",
       "      <td>0</td>\n",
       "      <td>0</td>\n",
       "      <td>0</td>\n",
       "      <td>0</td>\n",
       "      <td>0</td>\n",
       "      <td>0</td>\n",
       "      <td>0</td>\n",
       "    </tr>\n",
       "  </tbody>\n",
       "</table></div>"
      ],
      "text/plain": [
       "      1   2   3   4    5    6    7\n",
       "VER   0  25  25  59   85  110  125\n",
       "LEC  26  45  71  86  104  104  116\n",
       "PER   0  12  30  54   66   85  110\n",
       "RUS  12  22  37  49   59   74   84\n",
       "SAI  18  33  33  38   53   65   83\n",
       "HAM  15  16  28  28   36   46   50\n",
       "NOR   0   6  16  35   35   39   48\n",
       "BOT   8   8  12  24   30   38   40\n",
       "OCO   6  14  20  20   24   30   30\n",
       "MAG  10  12  12  15   15   15   15\n",
       "TSU   4   4   4  10   10   11   11\n",
       "RIC   0   0   8  11   11   11   11\n",
       "ALO   2   2   2   2    2    4   10\n",
       "GAS   0   4   6   6    6    6    6\n",
       "VET   0   0   0   4    4    4    5\n",
       "ALB   0   0   1   1    3    3    3\n",
       "STR   0   0   0   1    2    2    2\n",
       "ZHO   1   1   1   1    1    1    1\n",
       "LAT   0   0   0   0    0    0    0\n",
       "HUL   0   0   0   0    0    0    0\n",
       "MSC   0   0   0   0    0    0    0"
      ]
     },
     "execution_count": 421,
     "metadata": {},
     "output_type": "execute_result"
    }
   ],
   "source": [
    "df_drivers_standings = pd.read_csv('../data/drivers_standings.csv', index_col=0)\n",
    "df_drivers_standings"
   ]
  },
  {
   "cell_type": "code",
   "execution_count": 422,
   "metadata": {},
   "outputs": [],
   "source": [
    "def plot_compare_points(df_drivers):\n",
    "    \n",
    "    round_mapping = {}\n",
    "    for i in events_list.itertuples():\n",
    "        round_mapping[str(i.RoundNumber)] = i.CountryAbbreviation\n",
    "\n",
    "    df_drivers_line = df_drivers[(df_drivers.index == driver_1) | (df_drivers.index == driver_2)].transpose().reset_index().rename(columns={'index': 'Round'})\n",
    "    df_drivers_line['country'] = df_drivers_line['Round'].map(round_mapping)\n",
    "    df_drivers_line\n",
    "    \n",
    "    driver_1_team_color = '#' + results[results['Abbreviation'] == driver_1]['TeamColor'][0]\n",
    "    driver_2_team_color = '#' + results[results['Abbreviation'] == driver_2]['TeamColor'][0]\n",
    "    hovertemplate = 'Points: %{y}'\n",
    "\n",
    "    fig = go.Figure()\n",
    "\n",
    "    fig.add_trace(go.Scatter(x=df_drivers_line['country'], y=df_drivers_line[driver_1], name=driver_1, line_color=driver_1_team_color, hovertemplate=hovertemplate))\n",
    "    fig.add_trace(go.Scatter(x=df_drivers_line['country'], y=df_drivers_line[driver_2], name=driver_2, line_color=driver_2_team_color, hovertemplate=hovertemplate))\n",
    "\n",
    "    fig.update_xaxes(tickangle=45)\n",
    "    fig.update_layout(width= 800, height = 600, title_text=f\"Current Standings - {driver_1} vs {driver_2}\", yaxis_title=\"Points\", title_x=0.5)\n",
    "    return fig"
   ]
  },
  {
   "cell_type": "code",
   "execution_count": 423,
   "metadata": {},
   "outputs": [
    {
     "data": {
      "application/vnd.plotly.v1+json": {
       "config": {
        "plotlyServerURL": "https://plot.ly"
       },
       "data": [
        {
         "hovertemplate": "Points: %{y}",
         "line": {
          "color": "#1e5bc6"
         },
         "name": "VER",
         "type": "scatter",
         "x": [
          "BHR",
          "SAU",
          "AUS",
          "ERO",
          "MIA",
          "ESP",
          "MCO"
         ],
         "y": [
          0,
          25,
          25,
          59,
          85,
          110,
          125
         ]
        },
        {
         "hovertemplate": "Points: %{y}",
         "line": {
          "color": "#ed1c24"
         },
         "name": "LEC",
         "type": "scatter",
         "x": [
          "BHR",
          "SAU",
          "AUS",
          "ERO",
          "MIA",
          "ESP",
          "MCO"
         ],
         "y": [
          26,
          45,
          71,
          86,
          104,
          104,
          116
         ]
        }
       ],
       "layout": {
        "height": 600,
        "template": {
         "data": {
          "bar": [
           {
            "error_x": {
             "color": "#f2f5fa"
            },
            "error_y": {
             "color": "#f2f5fa"
            },
            "marker": {
             "line": {
              "color": "rgb(17,17,17)",
              "width": 0.5
             },
             "pattern": {
              "fillmode": "overlay",
              "size": 10,
              "solidity": 0.2
             }
            },
            "type": "bar"
           }
          ],
          "barpolar": [
           {
            "marker": {
             "line": {
              "color": "rgb(17,17,17)",
              "width": 0.5
             },
             "pattern": {
              "fillmode": "overlay",
              "size": 10,
              "solidity": 0.2
             }
            },
            "type": "barpolar"
           }
          ],
          "carpet": [
           {
            "aaxis": {
             "endlinecolor": "#A2B1C6",
             "gridcolor": "#506784",
             "linecolor": "#506784",
             "minorgridcolor": "#506784",
             "startlinecolor": "#A2B1C6"
            },
            "baxis": {
             "endlinecolor": "#A2B1C6",
             "gridcolor": "#506784",
             "linecolor": "#506784",
             "minorgridcolor": "#506784",
             "startlinecolor": "#A2B1C6"
            },
            "type": "carpet"
           }
          ],
          "choropleth": [
           {
            "colorbar": {
             "outlinewidth": 0,
             "ticks": ""
            },
            "type": "choropleth"
           }
          ],
          "contour": [
           {
            "colorbar": {
             "outlinewidth": 0,
             "ticks": ""
            },
            "colorscale": [
             [
              0,
              "#0d0887"
             ],
             [
              0.1111111111111111,
              "#46039f"
             ],
             [
              0.2222222222222222,
              "#7201a8"
             ],
             [
              0.3333333333333333,
              "#9c179e"
             ],
             [
              0.4444444444444444,
              "#bd3786"
             ],
             [
              0.5555555555555556,
              "#d8576b"
             ],
             [
              0.6666666666666666,
              "#ed7953"
             ],
             [
              0.7777777777777778,
              "#fb9f3a"
             ],
             [
              0.8888888888888888,
              "#fdca26"
             ],
             [
              1,
              "#f0f921"
             ]
            ],
            "type": "contour"
           }
          ],
          "contourcarpet": [
           {
            "colorbar": {
             "outlinewidth": 0,
             "ticks": ""
            },
            "type": "contourcarpet"
           }
          ],
          "heatmap": [
           {
            "colorbar": {
             "outlinewidth": 0,
             "ticks": ""
            },
            "colorscale": [
             [
              0,
              "#0d0887"
             ],
             [
              0.1111111111111111,
              "#46039f"
             ],
             [
              0.2222222222222222,
              "#7201a8"
             ],
             [
              0.3333333333333333,
              "#9c179e"
             ],
             [
              0.4444444444444444,
              "#bd3786"
             ],
             [
              0.5555555555555556,
              "#d8576b"
             ],
             [
              0.6666666666666666,
              "#ed7953"
             ],
             [
              0.7777777777777778,
              "#fb9f3a"
             ],
             [
              0.8888888888888888,
              "#fdca26"
             ],
             [
              1,
              "#f0f921"
             ]
            ],
            "type": "heatmap"
           }
          ],
          "heatmapgl": [
           {
            "colorbar": {
             "outlinewidth": 0,
             "ticks": ""
            },
            "colorscale": [
             [
              0,
              "#0d0887"
             ],
             [
              0.1111111111111111,
              "#46039f"
             ],
             [
              0.2222222222222222,
              "#7201a8"
             ],
             [
              0.3333333333333333,
              "#9c179e"
             ],
             [
              0.4444444444444444,
              "#bd3786"
             ],
             [
              0.5555555555555556,
              "#d8576b"
             ],
             [
              0.6666666666666666,
              "#ed7953"
             ],
             [
              0.7777777777777778,
              "#fb9f3a"
             ],
             [
              0.8888888888888888,
              "#fdca26"
             ],
             [
              1,
              "#f0f921"
             ]
            ],
            "type": "heatmapgl"
           }
          ],
          "histogram": [
           {
            "marker": {
             "pattern": {
              "fillmode": "overlay",
              "size": 10,
              "solidity": 0.2
             }
            },
            "type": "histogram"
           }
          ],
          "histogram2d": [
           {
            "colorbar": {
             "outlinewidth": 0,
             "ticks": ""
            },
            "colorscale": [
             [
              0,
              "#0d0887"
             ],
             [
              0.1111111111111111,
              "#46039f"
             ],
             [
              0.2222222222222222,
              "#7201a8"
             ],
             [
              0.3333333333333333,
              "#9c179e"
             ],
             [
              0.4444444444444444,
              "#bd3786"
             ],
             [
              0.5555555555555556,
              "#d8576b"
             ],
             [
              0.6666666666666666,
              "#ed7953"
             ],
             [
              0.7777777777777778,
              "#fb9f3a"
             ],
             [
              0.8888888888888888,
              "#fdca26"
             ],
             [
              1,
              "#f0f921"
             ]
            ],
            "type": "histogram2d"
           }
          ],
          "histogram2dcontour": [
           {
            "colorbar": {
             "outlinewidth": 0,
             "ticks": ""
            },
            "colorscale": [
             [
              0,
              "#0d0887"
             ],
             [
              0.1111111111111111,
              "#46039f"
             ],
             [
              0.2222222222222222,
              "#7201a8"
             ],
             [
              0.3333333333333333,
              "#9c179e"
             ],
             [
              0.4444444444444444,
              "#bd3786"
             ],
             [
              0.5555555555555556,
              "#d8576b"
             ],
             [
              0.6666666666666666,
              "#ed7953"
             ],
             [
              0.7777777777777778,
              "#fb9f3a"
             ],
             [
              0.8888888888888888,
              "#fdca26"
             ],
             [
              1,
              "#f0f921"
             ]
            ],
            "type": "histogram2dcontour"
           }
          ],
          "mesh3d": [
           {
            "colorbar": {
             "outlinewidth": 0,
             "ticks": ""
            },
            "type": "mesh3d"
           }
          ],
          "parcoords": [
           {
            "line": {
             "colorbar": {
              "outlinewidth": 0,
              "ticks": ""
             }
            },
            "type": "parcoords"
           }
          ],
          "pie": [
           {
            "automargin": true,
            "type": "pie"
           }
          ],
          "scatter": [
           {
            "marker": {
             "line": {
              "color": "#283442"
             }
            },
            "type": "scatter"
           }
          ],
          "scatter3d": [
           {
            "line": {
             "colorbar": {
              "outlinewidth": 0,
              "ticks": ""
             }
            },
            "marker": {
             "colorbar": {
              "outlinewidth": 0,
              "ticks": ""
             }
            },
            "type": "scatter3d"
           }
          ],
          "scattercarpet": [
           {
            "marker": {
             "colorbar": {
              "outlinewidth": 0,
              "ticks": ""
             }
            },
            "type": "scattercarpet"
           }
          ],
          "scattergeo": [
           {
            "marker": {
             "colorbar": {
              "outlinewidth": 0,
              "ticks": ""
             }
            },
            "type": "scattergeo"
           }
          ],
          "scattergl": [
           {
            "marker": {
             "line": {
              "color": "#283442"
             }
            },
            "type": "scattergl"
           }
          ],
          "scattermapbox": [
           {
            "marker": {
             "colorbar": {
              "outlinewidth": 0,
              "ticks": ""
             }
            },
            "type": "scattermapbox"
           }
          ],
          "scatterpolar": [
           {
            "marker": {
             "colorbar": {
              "outlinewidth": 0,
              "ticks": ""
             }
            },
            "type": "scatterpolar"
           }
          ],
          "scatterpolargl": [
           {
            "marker": {
             "colorbar": {
              "outlinewidth": 0,
              "ticks": ""
             }
            },
            "type": "scatterpolargl"
           }
          ],
          "scatterternary": [
           {
            "marker": {
             "colorbar": {
              "outlinewidth": 0,
              "ticks": ""
             }
            },
            "type": "scatterternary"
           }
          ],
          "surface": [
           {
            "colorbar": {
             "outlinewidth": 0,
             "ticks": ""
            },
            "colorscale": [
             [
              0,
              "#0d0887"
             ],
             [
              0.1111111111111111,
              "#46039f"
             ],
             [
              0.2222222222222222,
              "#7201a8"
             ],
             [
              0.3333333333333333,
              "#9c179e"
             ],
             [
              0.4444444444444444,
              "#bd3786"
             ],
             [
              0.5555555555555556,
              "#d8576b"
             ],
             [
              0.6666666666666666,
              "#ed7953"
             ],
             [
              0.7777777777777778,
              "#fb9f3a"
             ],
             [
              0.8888888888888888,
              "#fdca26"
             ],
             [
              1,
              "#f0f921"
             ]
            ],
            "type": "surface"
           }
          ],
          "table": [
           {
            "cells": {
             "fill": {
              "color": "#506784"
             },
             "line": {
              "color": "rgb(17,17,17)"
             }
            },
            "header": {
             "fill": {
              "color": "#2a3f5f"
             },
             "line": {
              "color": "rgb(17,17,17)"
             }
            },
            "type": "table"
           }
          ]
         },
         "layout": {
          "annotationdefaults": {
           "arrowcolor": "#f2f5fa",
           "arrowhead": 0,
           "arrowwidth": 1
          },
          "autotypenumbers": "strict",
          "coloraxis": {
           "colorbar": {
            "outlinewidth": 0,
            "ticks": ""
           }
          },
          "colorscale": {
           "diverging": [
            [
             0,
             "#8e0152"
            ],
            [
             0.1,
             "#c51b7d"
            ],
            [
             0.2,
             "#de77ae"
            ],
            [
             0.3,
             "#f1b6da"
            ],
            [
             0.4,
             "#fde0ef"
            ],
            [
             0.5,
             "#f7f7f7"
            ],
            [
             0.6,
             "#e6f5d0"
            ],
            [
             0.7,
             "#b8e186"
            ],
            [
             0.8,
             "#7fbc41"
            ],
            [
             0.9,
             "#4d9221"
            ],
            [
             1,
             "#276419"
            ]
           ],
           "sequential": [
            [
             0,
             "#0d0887"
            ],
            [
             0.1111111111111111,
             "#46039f"
            ],
            [
             0.2222222222222222,
             "#7201a8"
            ],
            [
             0.3333333333333333,
             "#9c179e"
            ],
            [
             0.4444444444444444,
             "#bd3786"
            ],
            [
             0.5555555555555556,
             "#d8576b"
            ],
            [
             0.6666666666666666,
             "#ed7953"
            ],
            [
             0.7777777777777778,
             "#fb9f3a"
            ],
            [
             0.8888888888888888,
             "#fdca26"
            ],
            [
             1,
             "#f0f921"
            ]
           ],
           "sequentialminus": [
            [
             0,
             "#0d0887"
            ],
            [
             0.1111111111111111,
             "#46039f"
            ],
            [
             0.2222222222222222,
             "#7201a8"
            ],
            [
             0.3333333333333333,
             "#9c179e"
            ],
            [
             0.4444444444444444,
             "#bd3786"
            ],
            [
             0.5555555555555556,
             "#d8576b"
            ],
            [
             0.6666666666666666,
             "#ed7953"
            ],
            [
             0.7777777777777778,
             "#fb9f3a"
            ],
            [
             0.8888888888888888,
             "#fdca26"
            ],
            [
             1,
             "#f0f921"
            ]
           ]
          },
          "colorway": [
           "#636efa",
           "#EF553B",
           "#00cc96",
           "#ab63fa",
           "#FFA15A",
           "#19d3f3",
           "#FF6692",
           "#B6E880",
           "#FF97FF",
           "#FECB52"
          ],
          "font": {
           "color": "#f2f5fa"
          },
          "geo": {
           "bgcolor": "rgb(17,17,17)",
           "lakecolor": "rgb(17,17,17)",
           "landcolor": "rgb(17,17,17)",
           "showlakes": true,
           "showland": true,
           "subunitcolor": "#506784"
          },
          "hoverlabel": {
           "align": "left"
          },
          "hovermode": "closest",
          "mapbox": {
           "style": "dark"
          },
          "paper_bgcolor": "rgb(17,17,17)",
          "plot_bgcolor": "rgb(17,17,17)",
          "polar": {
           "angularaxis": {
            "gridcolor": "#506784",
            "linecolor": "#506784",
            "ticks": ""
           },
           "bgcolor": "rgb(17,17,17)",
           "radialaxis": {
            "gridcolor": "#506784",
            "linecolor": "#506784",
            "ticks": ""
           }
          },
          "scene": {
           "xaxis": {
            "backgroundcolor": "rgb(17,17,17)",
            "gridcolor": "#506784",
            "gridwidth": 2,
            "linecolor": "#506784",
            "showbackground": true,
            "ticks": "",
            "zerolinecolor": "#C8D4E3"
           },
           "yaxis": {
            "backgroundcolor": "rgb(17,17,17)",
            "gridcolor": "#506784",
            "gridwidth": 2,
            "linecolor": "#506784",
            "showbackground": true,
            "ticks": "",
            "zerolinecolor": "#C8D4E3"
           },
           "zaxis": {
            "backgroundcolor": "rgb(17,17,17)",
            "gridcolor": "#506784",
            "gridwidth": 2,
            "linecolor": "#506784",
            "showbackground": true,
            "ticks": "",
            "zerolinecolor": "#C8D4E3"
           }
          },
          "shapedefaults": {
           "line": {
            "color": "#f2f5fa"
           }
          },
          "sliderdefaults": {
           "bgcolor": "#C8D4E3",
           "bordercolor": "rgb(17,17,17)",
           "borderwidth": 1,
           "tickwidth": 0
          },
          "ternary": {
           "aaxis": {
            "gridcolor": "#506784",
            "linecolor": "#506784",
            "ticks": ""
           },
           "baxis": {
            "gridcolor": "#506784",
            "linecolor": "#506784",
            "ticks": ""
           },
           "bgcolor": "rgb(17,17,17)",
           "caxis": {
            "gridcolor": "#506784",
            "linecolor": "#506784",
            "ticks": ""
           }
          },
          "title": {
           "x": 0.05
          },
          "updatemenudefaults": {
           "bgcolor": "#506784",
           "borderwidth": 0
          },
          "xaxis": {
           "automargin": true,
           "gridcolor": "#283442",
           "linecolor": "#506784",
           "ticks": "",
           "title": {
            "standoff": 15
           },
           "zerolinecolor": "#283442",
           "zerolinewidth": 2
          },
          "yaxis": {
           "automargin": true,
           "gridcolor": "#283442",
           "linecolor": "#506784",
           "ticks": "",
           "title": {
            "standoff": 15
           },
           "zerolinecolor": "#283442",
           "zerolinewidth": 2
          }
         }
        },
        "title": {
         "text": "Current Standings - VER vs LEC",
         "x": 0.5
        },
        "width": 800,
        "xaxis": {
         "tickangle": 45
        },
        "yaxis": {
         "title": {
          "text": "Points"
         }
        }
       }
      }
     },
     "metadata": {},
     "output_type": "display_data"
    }
   ],
   "source": [
    "plot_compare_points(df_drivers_standings)"
   ]
  },
  {
   "cell_type": "code",
   "execution_count": 424,
   "metadata": {},
   "outputs": [
    {
     "data": {
      "text/html": [
       "<div><div id=437cb3d6-db56-4fcb-8e9b-124188980a58 style=\"display:none; background-color:#9D6CFF; color:white; width:200px; height:30px; padding-left:5px; border-radius:4px; flex-direction:row; justify-content:space-around; align-items:center;\" onmouseover=\"this.style.backgroundColor='#BA9BF8'\" onmouseout=\"this.style.backgroundColor='#9D6CFF'\" onclick=\"window.commands?.execute('create-mitosheet-from-dataframe-output');\">See Full Dataframe in Mito</div> <script> if (window.commands.hasCommand('create-mitosheet-from-dataframe-output')) document.getElementById('437cb3d6-db56-4fcb-8e9b-124188980a58').style.display = 'flex' </script> <table border=\"1\" class=\"dataframe\">\n",
       "  <thead>\n",
       "    <tr style=\"text-align: right;\">\n",
       "      <th></th>\n",
       "      <th>nan</th>\n",
       "      <th>nan</th>\n",
       "      <th>nan</th>\n",
       "      <th>nan</th>\n",
       "      <th>nan</th>\n",
       "      <th>nan</th>\n",
       "      <th>nan</th>\n",
       "    </tr>\n",
       "  </thead>\n",
       "  <tbody>\n",
       "    <tr>\n",
       "      <th>Red Bull</th>\n",
       "      <td>0</td>\n",
       "      <td>37</td>\n",
       "      <td>55</td>\n",
       "      <td>113</td>\n",
       "      <td>151</td>\n",
       "      <td>195</td>\n",
       "      <td>235</td>\n",
       "    </tr>\n",
       "    <tr>\n",
       "      <th>Ferrari</th>\n",
       "      <td>44</td>\n",
       "      <td>78</td>\n",
       "      <td>104</td>\n",
       "      <td>124</td>\n",
       "      <td>157</td>\n",
       "      <td>169</td>\n",
       "      <td>199</td>\n",
       "    </tr>\n",
       "    <tr>\n",
       "      <th>Mercedes</th>\n",
       "      <td>27</td>\n",
       "      <td>38</td>\n",
       "      <td>65</td>\n",
       "      <td>77</td>\n",
       "      <td>95</td>\n",
       "      <td>120</td>\n",
       "      <td>134</td>\n",
       "    </tr>\n",
       "    <tr>\n",
       "      <th>McLaren</th>\n",
       "      <td>0</td>\n",
       "      <td>6</td>\n",
       "      <td>24</td>\n",
       "      <td>46</td>\n",
       "      <td>46</td>\n",
       "      <td>50</td>\n",
       "      <td>59</td>\n",
       "    </tr>\n",
       "    <tr>\n",
       "      <th>Alfa Romeo</th>\n",
       "      <td>9</td>\n",
       "      <td>9</td>\n",
       "      <td>13</td>\n",
       "      <td>25</td>\n",
       "      <td>31</td>\n",
       "      <td>39</td>\n",
       "      <td>41</td>\n",
       "    </tr>\n",
       "    <tr>\n",
       "      <th>Alpine F1 Team</th>\n",
       "      <td>8</td>\n",
       "      <td>16</td>\n",
       "      <td>22</td>\n",
       "      <td>22</td>\n",
       "      <td>26</td>\n",
       "      <td>34</td>\n",
       "      <td>40</td>\n",
       "    </tr>\n",
       "    <tr>\n",
       "      <th>AlphaTauri</th>\n",
       "      <td>4</td>\n",
       "      <td>8</td>\n",
       "      <td>10</td>\n",
       "      <td>16</td>\n",
       "      <td>16</td>\n",
       "      <td>17</td>\n",
       "      <td>17</td>\n",
       "    </tr>\n",
       "    <tr>\n",
       "      <th>Haas F1 Team</th>\n",
       "      <td>10</td>\n",
       "      <td>12</td>\n",
       "      <td>12</td>\n",
       "      <td>15</td>\n",
       "      <td>15</td>\n",
       "      <td>15</td>\n",
       "      <td>15</td>\n",
       "    </tr>\n",
       "    <tr>\n",
       "      <th>Aston Martin</th>\n",
       "      <td>0</td>\n",
       "      <td>0</td>\n",
       "      <td>0</td>\n",
       "      <td>5</td>\n",
       "      <td>6</td>\n",
       "      <td>6</td>\n",
       "      <td>7</td>\n",
       "    </tr>\n",
       "    <tr>\n",
       "      <th>Williams</th>\n",
       "      <td>0</td>\n",
       "      <td>0</td>\n",
       "      <td>1</td>\n",
       "      <td>1</td>\n",
       "      <td>3</td>\n",
       "      <td>3</td>\n",
       "      <td>3</td>\n",
       "    </tr>\n",
       "  </tbody>\n",
       "</table></div>"
      ],
      "text/plain": [
       "                NaN  NaN  NaN  NaN  NaN  NaN  NaN\n",
       "Red Bull          0   37   55  113  151  195  235\n",
       "Ferrari          44   78  104  124  157  169  199\n",
       "Mercedes         27   38   65   77   95  120  134\n",
       "McLaren           0    6   24   46   46   50   59\n",
       "Alfa Romeo        9    9   13   25   31   39   41\n",
       "Alpine F1 Team    8   16   22   22   26   34   40\n",
       "AlphaTauri        4    8   10   16   16   17   17\n",
       "Haas F1 Team     10   12   12   15   15   15   15\n",
       "Aston Martin      0    0    0    5    6    6    7\n",
       "Williams          0    0    1    1    3    3    3"
      ]
     },
     "execution_count": 424,
     "metadata": {},
     "output_type": "execute_result"
    }
   ],
   "source": [
    "round_mapping = {}\n",
    "for i in events_list.itertuples():\n",
    "    round_mapping[str(i.RoundNumber)] = i.CountryAbbreviation\n",
    "\n",
    "df_constructors.columns = df_constructors.columns.map(round_mapping)\n",
    "df_constructors"
   ]
  },
  {
   "cell_type": "code",
   "execution_count": 425,
   "metadata": {},
   "outputs": [
    {
     "data": {
      "text/html": [
       "<div><div id=0ce6ff94-cebd-4976-960b-aa17527cc608 style=\"display:none; background-color:#9D6CFF; color:white; width:200px; height:30px; padding-left:5px; border-radius:4px; flex-direction:row; justify-content:space-around; align-items:center;\" onmouseover=\"this.style.backgroundColor='#BA9BF8'\" onmouseout=\"this.style.backgroundColor='#9D6CFF'\" onclick=\"window.commands?.execute('create-mitosheet-from-dataframe-output');\">See Full Dataframe in Mito</div> <script> if (window.commands.hasCommand('create-mitosheet-from-dataframe-output')) document.getElementById('0ce6ff94-cebd-4976-960b-aa17527cc608').style.display = 'flex' </script> <table border=\"1\" class=\"dataframe\">\n",
       "  <thead>\n",
       "    <tr style=\"text-align: right;\">\n",
       "      <th></th>\n",
       "      <th>1</th>\n",
       "      <th>2</th>\n",
       "      <th>3</th>\n",
       "      <th>4</th>\n",
       "      <th>5</th>\n",
       "      <th>6</th>\n",
       "      <th>7</th>\n",
       "    </tr>\n",
       "  </thead>\n",
       "  <tbody>\n",
       "    <tr>\n",
       "      <th>Red Bull</th>\n",
       "      <td>0</td>\n",
       "      <td>37</td>\n",
       "      <td>55</td>\n",
       "      <td>113</td>\n",
       "      <td>151</td>\n",
       "      <td>195</td>\n",
       "      <td>235</td>\n",
       "    </tr>\n",
       "    <tr>\n",
       "      <th>Ferrari</th>\n",
       "      <td>44</td>\n",
       "      <td>78</td>\n",
       "      <td>104</td>\n",
       "      <td>124</td>\n",
       "      <td>157</td>\n",
       "      <td>169</td>\n",
       "      <td>199</td>\n",
       "    </tr>\n",
       "    <tr>\n",
       "      <th>Mercedes</th>\n",
       "      <td>27</td>\n",
       "      <td>38</td>\n",
       "      <td>65</td>\n",
       "      <td>77</td>\n",
       "      <td>95</td>\n",
       "      <td>120</td>\n",
       "      <td>134</td>\n",
       "    </tr>\n",
       "    <tr>\n",
       "      <th>McLaren</th>\n",
       "      <td>0</td>\n",
       "      <td>6</td>\n",
       "      <td>24</td>\n",
       "      <td>46</td>\n",
       "      <td>46</td>\n",
       "      <td>50</td>\n",
       "      <td>59</td>\n",
       "    </tr>\n",
       "    <tr>\n",
       "      <th>Alfa Romeo</th>\n",
       "      <td>9</td>\n",
       "      <td>9</td>\n",
       "      <td>13</td>\n",
       "      <td>25</td>\n",
       "      <td>31</td>\n",
       "      <td>39</td>\n",
       "      <td>41</td>\n",
       "    </tr>\n",
       "    <tr>\n",
       "      <th>Alpine F1 Team</th>\n",
       "      <td>8</td>\n",
       "      <td>16</td>\n",
       "      <td>22</td>\n",
       "      <td>22</td>\n",
       "      <td>26</td>\n",
       "      <td>34</td>\n",
       "      <td>40</td>\n",
       "    </tr>\n",
       "    <tr>\n",
       "      <th>AlphaTauri</th>\n",
       "      <td>4</td>\n",
       "      <td>8</td>\n",
       "      <td>10</td>\n",
       "      <td>16</td>\n",
       "      <td>16</td>\n",
       "      <td>17</td>\n",
       "      <td>17</td>\n",
       "    </tr>\n",
       "    <tr>\n",
       "      <th>Haas F1 Team</th>\n",
       "      <td>10</td>\n",
       "      <td>12</td>\n",
       "      <td>12</td>\n",
       "      <td>15</td>\n",
       "      <td>15</td>\n",
       "      <td>15</td>\n",
       "      <td>15</td>\n",
       "    </tr>\n",
       "    <tr>\n",
       "      <th>Aston Martin</th>\n",
       "      <td>0</td>\n",
       "      <td>0</td>\n",
       "      <td>0</td>\n",
       "      <td>5</td>\n",
       "      <td>6</td>\n",
       "      <td>6</td>\n",
       "      <td>7</td>\n",
       "    </tr>\n",
       "    <tr>\n",
       "      <th>Williams</th>\n",
       "      <td>0</td>\n",
       "      <td>0</td>\n",
       "      <td>1</td>\n",
       "      <td>1</td>\n",
       "      <td>3</td>\n",
       "      <td>3</td>\n",
       "      <td>3</td>\n",
       "    </tr>\n",
       "  </tbody>\n",
       "</table></div>"
      ],
      "text/plain": [
       "                 1   2    3    4    5    6    7\n",
       "Red Bull         0  37   55  113  151  195  235\n",
       "Ferrari         44  78  104  124  157  169  199\n",
       "Mercedes        27  38   65   77   95  120  134\n",
       "McLaren          0   6   24   46   46   50   59\n",
       "Alfa Romeo       9   9   13   25   31   39   41\n",
       "Alpine F1 Team   8  16   22   22   26   34   40\n",
       "AlphaTauri       4   8   10   16   16   17   17\n",
       "Haas F1 Team    10  12   12   15   15   15   15\n",
       "Aston Martin     0   0    0    5    6    6    7\n",
       "Williams         0   0    1    1    3    3    3"
      ]
     },
     "execution_count": 425,
     "metadata": {},
     "output_type": "execute_result"
    }
   ],
   "source": [
    "df_constructors_standings = pd.read_csv('../data/constructors_standings.csv', index_col=0)\n",
    "df_constructors_standings"
   ]
  },
  {
   "cell_type": "code",
   "execution_count": 426,
   "metadata": {},
   "outputs": [
    {
     "data": {
      "text/html": [
       "<div><div id=2597f257-5192-412a-a704-e6f9f69d8328 style=\"display:none; background-color:#9D6CFF; color:white; width:200px; height:30px; padding-left:5px; border-radius:4px; flex-direction:row; justify-content:space-around; align-items:center;\" onmouseover=\"this.style.backgroundColor='#BA9BF8'\" onmouseout=\"this.style.backgroundColor='#9D6CFF'\" onclick=\"window.commands?.execute('create-mitosheet-from-dataframe-output');\">See Full Dataframe in Mito</div> <script> if (window.commands.hasCommand('create-mitosheet-from-dataframe-output')) document.getElementById('2597f257-5192-412a-a704-e6f9f69d8328').style.display = 'flex' </script> <table border=\"1\" class=\"dataframe\">\n",
       "  <thead>\n",
       "    <tr style=\"text-align: right;\">\n",
       "      <th></th>\n",
       "      <th>1</th>\n",
       "      <th>2</th>\n",
       "      <th>3</th>\n",
       "      <th>4</th>\n",
       "      <th>5</th>\n",
       "      <th>6</th>\n",
       "      <th>7</th>\n",
       "    </tr>\n",
       "  </thead>\n",
       "  <tbody>\n",
       "    <tr>\n",
       "      <th>VER</th>\n",
       "      <td>0</td>\n",
       "      <td>25</td>\n",
       "      <td>25</td>\n",
       "      <td>59</td>\n",
       "      <td>85</td>\n",
       "      <td>110</td>\n",
       "      <td>125</td>\n",
       "    </tr>\n",
       "    <tr>\n",
       "      <th>LEC</th>\n",
       "      <td>26</td>\n",
       "      <td>45</td>\n",
       "      <td>71</td>\n",
       "      <td>86</td>\n",
       "      <td>104</td>\n",
       "      <td>104</td>\n",
       "      <td>116</td>\n",
       "    </tr>\n",
       "    <tr>\n",
       "      <th>PER</th>\n",
       "      <td>0</td>\n",
       "      <td>12</td>\n",
       "      <td>30</td>\n",
       "      <td>54</td>\n",
       "      <td>66</td>\n",
       "      <td>85</td>\n",
       "      <td>110</td>\n",
       "    </tr>\n",
       "    <tr>\n",
       "      <th>RUS</th>\n",
       "      <td>12</td>\n",
       "      <td>22</td>\n",
       "      <td>37</td>\n",
       "      <td>49</td>\n",
       "      <td>59</td>\n",
       "      <td>74</td>\n",
       "      <td>84</td>\n",
       "    </tr>\n",
       "    <tr>\n",
       "      <th>SAI</th>\n",
       "      <td>18</td>\n",
       "      <td>33</td>\n",
       "      <td>33</td>\n",
       "      <td>38</td>\n",
       "      <td>53</td>\n",
       "      <td>65</td>\n",
       "      <td>83</td>\n",
       "    </tr>\n",
       "    <tr>\n",
       "      <th>...</th>\n",
       "      <td>...</td>\n",
       "      <td>...</td>\n",
       "      <td>...</td>\n",
       "      <td>...</td>\n",
       "      <td>...</td>\n",
       "      <td>...</td>\n",
       "      <td>...</td>\n",
       "    </tr>\n",
       "    <tr>\n",
       "      <th>STR</th>\n",
       "      <td>0</td>\n",
       "      <td>0</td>\n",
       "      <td>0</td>\n",
       "      <td>1</td>\n",
       "      <td>2</td>\n",
       "      <td>2</td>\n",
       "      <td>2</td>\n",
       "    </tr>\n",
       "    <tr>\n",
       "      <th>ZHO</th>\n",
       "      <td>1</td>\n",
       "      <td>1</td>\n",
       "      <td>1</td>\n",
       "      <td>1</td>\n",
       "      <td>1</td>\n",
       "      <td>1</td>\n",
       "      <td>1</td>\n",
       "    </tr>\n",
       "    <tr>\n",
       "      <th>LAT</th>\n",
       "      <td>0</td>\n",
       "      <td>0</td>\n",
       "      <td>0</td>\n",
       "      <td>0</td>\n",
       "      <td>0</td>\n",
       "      <td>0</td>\n",
       "      <td>0</td>\n",
       "    </tr>\n",
       "    <tr>\n",
       "      <th>HUL</th>\n",
       "      <td>0</td>\n",
       "      <td>0</td>\n",
       "      <td>0</td>\n",
       "      <td>0</td>\n",
       "      <td>0</td>\n",
       "      <td>0</td>\n",
       "      <td>0</td>\n",
       "    </tr>\n",
       "    <tr>\n",
       "      <th>MSC</th>\n",
       "      <td>0</td>\n",
       "      <td>0</td>\n",
       "      <td>0</td>\n",
       "      <td>0</td>\n",
       "      <td>0</td>\n",
       "      <td>0</td>\n",
       "      <td>0</td>\n",
       "    </tr>\n",
       "  </tbody>\n",
       "</table></div>"
      ],
      "text/plain": [
       "      1   2   3   4    5    6    7\n",
       "VER   0  25  25  59   85  110  125\n",
       "LEC  26  45  71  86  104  104  116\n",
       "PER   0  12  30  54   66   85  110\n",
       "RUS  12  22  37  49   59   74   84\n",
       "SAI  18  33  33  38   53   65   83\n",
       "HAM  15  16  28  28   36   46   50\n",
       "NOR   0   6  16  35   35   39   48\n",
       "BOT   8   8  12  24   30   38   40\n",
       "OCO   6  14  20  20   24   30   30\n",
       "MAG  10  12  12  15   15   15   15\n",
       "TSU   4   4   4  10   10   11   11\n",
       "RIC   0   0   8  11   11   11   11\n",
       "ALO   2   2   2   2    2    4   10\n",
       "GAS   0   4   6   6    6    6    6\n",
       "VET   0   0   0   4    4    4    5\n",
       "ALB   0   0   1   1    3    3    3\n",
       "STR   0   0   0   1    2    2    2\n",
       "ZHO   1   1   1   1    1    1    1\n",
       "LAT   0   0   0   0    0    0    0\n",
       "HUL   0   0   0   0    0    0    0\n",
       "MSC   0   0   0   0    0    0    0"
      ]
     },
     "execution_count": 426,
     "metadata": {},
     "output_type": "execute_result"
    }
   ],
   "source": [
    "df_drivers_standings_test = pd.read_csv('../data/drivers_standings.csv', index_col=0)\n",
    "df_drivers_standings"
   ]
  },
  {
   "cell_type": "code",
   "execution_count": 427,
   "metadata": {},
   "outputs": [],
   "source": [
    "def get_drivers_standings_df():\n",
    "    \n",
    "    df = pd.read_csv('../data/drivers_standings.csv', index_col=0)\n",
    "    round_mapping = {}\n",
    "    for i in events_list.itertuples():\n",
    "        round_mapping[str(i.RoundNumber)] = i.CountryAbbreviation\n",
    "        \n",
    "    df.columns = df.columns.map(round_mapping)\n",
    "    return df\n",
    "\n",
    "def get_constructors_standings_df():\n",
    "    \n",
    "    df = pd.read_csv('../data/constructors_standings.csv', index_col=0)\n",
    "    round_mapping = {}\n",
    "    for i in events_list.itertuples():\n",
    "        round_mapping[str(i.RoundNumber)] = i.CountryAbbreviation\n",
    "        \n",
    "    df.columns = df.columns.map(round_mapping)\n",
    "    return df"
   ]
  },
  {
   "cell_type": "code",
   "execution_count": 428,
   "metadata": {},
   "outputs": [
    {
     "data": {
      "text/html": [
       "<div><div id=3dc00079-c26e-4032-a507-1dd75db06347 style=\"display:none; background-color:#9D6CFF; color:white; width:200px; height:30px; padding-left:5px; border-radius:4px; flex-direction:row; justify-content:space-around; align-items:center;\" onmouseover=\"this.style.backgroundColor='#BA9BF8'\" onmouseout=\"this.style.backgroundColor='#9D6CFF'\" onclick=\"window.commands?.execute('create-mitosheet-from-dataframe-output');\">See Full Dataframe in Mito</div> <script> if (window.commands.hasCommand('create-mitosheet-from-dataframe-output')) document.getElementById('3dc00079-c26e-4032-a507-1dd75db06347').style.display = 'flex' </script> <table border=\"1\" class=\"dataframe\">\n",
       "  <thead>\n",
       "    <tr style=\"text-align: right;\">\n",
       "      <th></th>\n",
       "      <th>BHR</th>\n",
       "      <th>SAU</th>\n",
       "      <th>AUS</th>\n",
       "      <th>ERO</th>\n",
       "      <th>MIA</th>\n",
       "      <th>ESP</th>\n",
       "      <th>MCO</th>\n",
       "    </tr>\n",
       "  </thead>\n",
       "  <tbody>\n",
       "    <tr>\n",
       "      <th>VER</th>\n",
       "      <td>0</td>\n",
       "      <td>25</td>\n",
       "      <td>25</td>\n",
       "      <td>59</td>\n",
       "      <td>85</td>\n",
       "      <td>110</td>\n",
       "      <td>125</td>\n",
       "    </tr>\n",
       "    <tr>\n",
       "      <th>LEC</th>\n",
       "      <td>26</td>\n",
       "      <td>45</td>\n",
       "      <td>71</td>\n",
       "      <td>86</td>\n",
       "      <td>104</td>\n",
       "      <td>104</td>\n",
       "      <td>116</td>\n",
       "    </tr>\n",
       "    <tr>\n",
       "      <th>PER</th>\n",
       "      <td>0</td>\n",
       "      <td>12</td>\n",
       "      <td>30</td>\n",
       "      <td>54</td>\n",
       "      <td>66</td>\n",
       "      <td>85</td>\n",
       "      <td>110</td>\n",
       "    </tr>\n",
       "    <tr>\n",
       "      <th>RUS</th>\n",
       "      <td>12</td>\n",
       "      <td>22</td>\n",
       "      <td>37</td>\n",
       "      <td>49</td>\n",
       "      <td>59</td>\n",
       "      <td>74</td>\n",
       "      <td>84</td>\n",
       "    </tr>\n",
       "    <tr>\n",
       "      <th>SAI</th>\n",
       "      <td>18</td>\n",
       "      <td>33</td>\n",
       "      <td>33</td>\n",
       "      <td>38</td>\n",
       "      <td>53</td>\n",
       "      <td>65</td>\n",
       "      <td>83</td>\n",
       "    </tr>\n",
       "    <tr>\n",
       "      <th>...</th>\n",
       "      <td>...</td>\n",
       "      <td>...</td>\n",
       "      <td>...</td>\n",
       "      <td>...</td>\n",
       "      <td>...</td>\n",
       "      <td>...</td>\n",
       "      <td>...</td>\n",
       "    </tr>\n",
       "    <tr>\n",
       "      <th>STR</th>\n",
       "      <td>0</td>\n",
       "      <td>0</td>\n",
       "      <td>0</td>\n",
       "      <td>1</td>\n",
       "      <td>2</td>\n",
       "      <td>2</td>\n",
       "      <td>2</td>\n",
       "    </tr>\n",
       "    <tr>\n",
       "      <th>ZHO</th>\n",
       "      <td>1</td>\n",
       "      <td>1</td>\n",
       "      <td>1</td>\n",
       "      <td>1</td>\n",
       "      <td>1</td>\n",
       "      <td>1</td>\n",
       "      <td>1</td>\n",
       "    </tr>\n",
       "    <tr>\n",
       "      <th>LAT</th>\n",
       "      <td>0</td>\n",
       "      <td>0</td>\n",
       "      <td>0</td>\n",
       "      <td>0</td>\n",
       "      <td>0</td>\n",
       "      <td>0</td>\n",
       "      <td>0</td>\n",
       "    </tr>\n",
       "    <tr>\n",
       "      <th>HUL</th>\n",
       "      <td>0</td>\n",
       "      <td>0</td>\n",
       "      <td>0</td>\n",
       "      <td>0</td>\n",
       "      <td>0</td>\n",
       "      <td>0</td>\n",
       "      <td>0</td>\n",
       "    </tr>\n",
       "    <tr>\n",
       "      <th>MSC</th>\n",
       "      <td>0</td>\n",
       "      <td>0</td>\n",
       "      <td>0</td>\n",
       "      <td>0</td>\n",
       "      <td>0</td>\n",
       "      <td>0</td>\n",
       "      <td>0</td>\n",
       "    </tr>\n",
       "  </tbody>\n",
       "</table></div>"
      ],
      "text/plain": [
       "     BHR  SAU  AUS  ERO  MIA  ESP  MCO\n",
       "VER    0   25   25   59   85  110  125\n",
       "LEC   26   45   71   86  104  104  116\n",
       "PER    0   12   30   54   66   85  110\n",
       "RUS   12   22   37   49   59   74   84\n",
       "SAI   18   33   33   38   53   65   83\n",
       "HAM   15   16   28   28   36   46   50\n",
       "NOR    0    6   16   35   35   39   48\n",
       "BOT    8    8   12   24   30   38   40\n",
       "OCO    6   14   20   20   24   30   30\n",
       "MAG   10   12   12   15   15   15   15\n",
       "TSU    4    4    4   10   10   11   11\n",
       "RIC    0    0    8   11   11   11   11\n",
       "ALO    2    2    2    2    2    4   10\n",
       "GAS    0    4    6    6    6    6    6\n",
       "VET    0    0    0    4    4    4    5\n",
       "ALB    0    0    1    1    3    3    3\n",
       "STR    0    0    0    1    2    2    2\n",
       "ZHO    1    1    1    1    1    1    1\n",
       "LAT    0    0    0    0    0    0    0\n",
       "HUL    0    0    0    0    0    0    0\n",
       "MSC    0    0    0    0    0    0    0"
      ]
     },
     "execution_count": 428,
     "metadata": {},
     "output_type": "execute_result"
    }
   ],
   "source": [
    "get_drivers_standings_df()"
   ]
  },
  {
   "cell_type": "code",
   "execution_count": 429,
   "metadata": {},
   "outputs": [
    {
     "data": {
      "text/html": [
       "<div><div id=e9c8d924-f9e0-453b-bc88-05315dd40244 style=\"display:none; background-color:#9D6CFF; color:white; width:200px; height:30px; padding-left:5px; border-radius:4px; flex-direction:row; justify-content:space-around; align-items:center;\" onmouseover=\"this.style.backgroundColor='#BA9BF8'\" onmouseout=\"this.style.backgroundColor='#9D6CFF'\" onclick=\"window.commands?.execute('create-mitosheet-from-dataframe-output');\">See Full Dataframe in Mito</div> <script> if (window.commands.hasCommand('create-mitosheet-from-dataframe-output')) document.getElementById('e9c8d924-f9e0-453b-bc88-05315dd40244').style.display = 'flex' </script> <table border=\"1\" class=\"dataframe\">\n",
       "  <thead>\n",
       "    <tr style=\"text-align: right;\">\n",
       "      <th></th>\n",
       "      <th>BHR</th>\n",
       "      <th>SAU</th>\n",
       "      <th>AUS</th>\n",
       "      <th>ERO</th>\n",
       "      <th>MIA</th>\n",
       "      <th>ESP</th>\n",
       "      <th>MCO</th>\n",
       "    </tr>\n",
       "  </thead>\n",
       "  <tbody>\n",
       "    <tr>\n",
       "      <th>Red Bull</th>\n",
       "      <td>0</td>\n",
       "      <td>37</td>\n",
       "      <td>55</td>\n",
       "      <td>113</td>\n",
       "      <td>151</td>\n",
       "      <td>195</td>\n",
       "      <td>235</td>\n",
       "    </tr>\n",
       "    <tr>\n",
       "      <th>Ferrari</th>\n",
       "      <td>44</td>\n",
       "      <td>78</td>\n",
       "      <td>104</td>\n",
       "      <td>124</td>\n",
       "      <td>157</td>\n",
       "      <td>169</td>\n",
       "      <td>199</td>\n",
       "    </tr>\n",
       "    <tr>\n",
       "      <th>Mercedes</th>\n",
       "      <td>27</td>\n",
       "      <td>38</td>\n",
       "      <td>65</td>\n",
       "      <td>77</td>\n",
       "      <td>95</td>\n",
       "      <td>120</td>\n",
       "      <td>134</td>\n",
       "    </tr>\n",
       "    <tr>\n",
       "      <th>McLaren</th>\n",
       "      <td>0</td>\n",
       "      <td>6</td>\n",
       "      <td>24</td>\n",
       "      <td>46</td>\n",
       "      <td>46</td>\n",
       "      <td>50</td>\n",
       "      <td>59</td>\n",
       "    </tr>\n",
       "    <tr>\n",
       "      <th>Alfa Romeo</th>\n",
       "      <td>9</td>\n",
       "      <td>9</td>\n",
       "      <td>13</td>\n",
       "      <td>25</td>\n",
       "      <td>31</td>\n",
       "      <td>39</td>\n",
       "      <td>41</td>\n",
       "    </tr>\n",
       "    <tr>\n",
       "      <th>Alpine F1 Team</th>\n",
       "      <td>8</td>\n",
       "      <td>16</td>\n",
       "      <td>22</td>\n",
       "      <td>22</td>\n",
       "      <td>26</td>\n",
       "      <td>34</td>\n",
       "      <td>40</td>\n",
       "    </tr>\n",
       "    <tr>\n",
       "      <th>AlphaTauri</th>\n",
       "      <td>4</td>\n",
       "      <td>8</td>\n",
       "      <td>10</td>\n",
       "      <td>16</td>\n",
       "      <td>16</td>\n",
       "      <td>17</td>\n",
       "      <td>17</td>\n",
       "    </tr>\n",
       "    <tr>\n",
       "      <th>Haas F1 Team</th>\n",
       "      <td>10</td>\n",
       "      <td>12</td>\n",
       "      <td>12</td>\n",
       "      <td>15</td>\n",
       "      <td>15</td>\n",
       "      <td>15</td>\n",
       "      <td>15</td>\n",
       "    </tr>\n",
       "    <tr>\n",
       "      <th>Aston Martin</th>\n",
       "      <td>0</td>\n",
       "      <td>0</td>\n",
       "      <td>0</td>\n",
       "      <td>5</td>\n",
       "      <td>6</td>\n",
       "      <td>6</td>\n",
       "      <td>7</td>\n",
       "    </tr>\n",
       "    <tr>\n",
       "      <th>Williams</th>\n",
       "      <td>0</td>\n",
       "      <td>0</td>\n",
       "      <td>1</td>\n",
       "      <td>1</td>\n",
       "      <td>3</td>\n",
       "      <td>3</td>\n",
       "      <td>3</td>\n",
       "    </tr>\n",
       "  </tbody>\n",
       "</table></div>"
      ],
      "text/plain": [
       "                BHR  SAU  AUS  ERO  MIA  ESP  MCO\n",
       "Red Bull          0   37   55  113  151  195  235\n",
       "Ferrari          44   78  104  124  157  169  199\n",
       "Mercedes         27   38   65   77   95  120  134\n",
       "McLaren           0    6   24   46   46   50   59\n",
       "Alfa Romeo        9    9   13   25   31   39   41\n",
       "Alpine F1 Team    8   16   22   22   26   34   40\n",
       "AlphaTauri        4    8   10   16   16   17   17\n",
       "Haas F1 Team     10   12   12   15   15   15   15\n",
       "Aston Martin      0    0    0    5    6    6    7\n",
       "Williams          0    0    1    1    3    3    3"
      ]
     },
     "execution_count": 429,
     "metadata": {},
     "output_type": "execute_result"
    }
   ],
   "source": [
    "get_constructors_standings_df()"
   ]
  },
  {
   "cell_type": "code",
   "execution_count": 430,
   "metadata": {},
   "outputs": [],
   "source": [
    "def format_results_race(results, session_type):\n",
    "    \n",
    "    \n",
    "    if session_type == 'R' or session_type == 'r' or session_type == 'Sprint':\n",
    "        # Get the results table, convert it to a dataframe and set the numeric columns to int        \n",
    "        results_formatted = pd.DataFrame(results[['FullName','TeamName','Position','GridPosition','Time','Status','Points']].copy())\n",
    "        results_formatted[['Points', 'Position', 'GridPosition']] = results_formatted[['Points', 'Position', 'GridPosition']].astype(int)\n",
    "        results_formatted = results_formatted.rename(columns = {'FullName': 'Name'})\n",
    "        \n",
    "        # Compute time difference at finish\n",
    "        time_difference = []\n",
    "        time_1 = results_formatted['Time'][0]\n",
    "        for i in results_formatted.itertuples():\n",
    "            time_difference.append(i.Time - time_1)\n",
    "            \n",
    "        time_difference[0] = results_formatted['Time'][0]\n",
    "        results_formatted['TimeDifference'] = time_difference\n",
    "        \n",
    "        # Format the time data as string\n",
    "        time_str = []\n",
    "        for i in results_formatted.itertuples():\n",
    "            if i.Status == 'Finished':\n",
    "                time = str(i.TimeDifference)\n",
    "                time_str.append(time[8:-3])\n",
    "            elif 'Lap' in i.Status:\n",
    "                time_str.append(i.Status)\n",
    "            else:\n",
    "                time_str.append('DNF')\n",
    "                \n",
    "        results_formatted['TimeStr'] = time_str\n",
    "        \n",
    "        # Format the time data correctly\n",
    "        time_str_2 = []\n",
    "        for i in results_formatted.itertuples():\n",
    "            if i.Position == 1 or len(i.TimeStr) != 11:\n",
    "                time_str_2.append(i.TimeStr)\n",
    "            elif len(i.TimeStr) == 11:\n",
    "                time_subbed = '+' + i.TimeStr[3:]\n",
    "                time_str_2.append(time_subbed)\n",
    "                \n",
    "        results_formatted['TimeFinish'] = time_str_2\n",
    "        \n",
    "        # Drop unnecessary columns\n",
    "        results_formatted.drop(columns=['Status', 'Time', 'TimeStr', 'TimeDifference'], inplace=True)\n",
    "        \n",
    "    elif session_type == 'Q' or session_type == 'q':\n",
    "        results_formatted = pd.DataFrame(results.copy())\n",
    "        temp_q1 = format_time(results['Q1'], 11)\n",
    "        results_formatted['Q1_time'] = temp_q1\n",
    "        temp_q2 = format_time(results['Q2'], 11)\n",
    "        results_formatted['Q2_time'] = temp_q2\n",
    "        temp_q3 = format_time(results['Q3'], 11)\n",
    "        results_formatted['Q3_time'] = temp_q3\n",
    "        results_formatted = results_formatted[['Name','TeamName','Position','Q1_time','Q2_time','Q3_time']]\n",
    "        results_formatted['Position'] = results_formatted['Position'].astype(int)\n",
    "            \n",
    "    return results_formatted  \n",
    "    "
   ]
  },
  {
   "cell_type": "code",
   "execution_count": 431,
   "metadata": {},
   "outputs": [
    {
     "data": {
      "text/html": [
       "<div><div id=a9dcdd59-be20-4dea-85a8-adde4208afa8 style=\"display:none; background-color:#9D6CFF; color:white; width:200px; height:30px; padding-left:5px; border-radius:4px; flex-direction:row; justify-content:space-around; align-items:center;\" onmouseover=\"this.style.backgroundColor='#BA9BF8'\" onmouseout=\"this.style.backgroundColor='#9D6CFF'\" onclick=\"window.commands?.execute('create-mitosheet-from-dataframe-output');\">See Full Dataframe in Mito</div> <script> if (window.commands.hasCommand('create-mitosheet-from-dataframe-output')) document.getElementById('a9dcdd59-be20-4dea-85a8-adde4208afa8').style.display = 'flex' </script> <table border=\"1\" class=\"dataframe\">\n",
       "  <thead>\n",
       "    <tr style=\"text-align: right;\">\n",
       "      <th></th>\n",
       "      <th>Name</th>\n",
       "      <th>TeamName</th>\n",
       "      <th>Position</th>\n",
       "      <th>GridPosition</th>\n",
       "      <th>Points</th>\n",
       "      <th>TimeFinish</th>\n",
       "    </tr>\n",
       "  </thead>\n",
       "  <tbody>\n",
       "    <tr>\n",
       "      <th>16</th>\n",
       "      <td>Charles Leclerc</td>\n",
       "      <td>Ferrari</td>\n",
       "      <td>1</td>\n",
       "      <td>1</td>\n",
       "      <td>26</td>\n",
       "      <td>1:27:46.548</td>\n",
       "    </tr>\n",
       "    <tr>\n",
       "      <th>11</th>\n",
       "      <td>Sergio Perez</td>\n",
       "      <td>Red Bull Racing</td>\n",
       "      <td>2</td>\n",
       "      <td>3</td>\n",
       "      <td>18</td>\n",
       "      <td>+0:20.524</td>\n",
       "    </tr>\n",
       "    <tr>\n",
       "      <th>63</th>\n",
       "      <td>George Russell</td>\n",
       "      <td>Mercedes</td>\n",
       "      <td>3</td>\n",
       "      <td>6</td>\n",
       "      <td>15</td>\n",
       "      <td>+0:25.593</td>\n",
       "    </tr>\n",
       "    <tr>\n",
       "      <th>44</th>\n",
       "      <td>Lewis Hamilton</td>\n",
       "      <td>Mercedes</td>\n",
       "      <td>4</td>\n",
       "      <td>5</td>\n",
       "      <td>12</td>\n",
       "      <td>+0:28.543</td>\n",
       "    </tr>\n",
       "    <tr>\n",
       "      <th>4</th>\n",
       "      <td>Lando Norris</td>\n",
       "      <td>McLaren</td>\n",
       "      <td>5</td>\n",
       "      <td>4</td>\n",
       "      <td>10</td>\n",
       "      <td>+0:53.303</td>\n",
       "    </tr>\n",
       "    <tr>\n",
       "      <th>3</th>\n",
       "      <td>Daniel Ricciardo</td>\n",
       "      <td>McLaren</td>\n",
       "      <td>6</td>\n",
       "      <td>7</td>\n",
       "      <td>8</td>\n",
       "      <td>+0:53.737</td>\n",
       "    </tr>\n",
       "    <tr>\n",
       "      <th>31</th>\n",
       "      <td>Esteban Ocon</td>\n",
       "      <td>Alpine</td>\n",
       "      <td>7</td>\n",
       "      <td>8</td>\n",
       "      <td>6</td>\n",
       "      <td>+1:01.683</td>\n",
       "    </tr>\n",
       "    <tr>\n",
       "      <th>77</th>\n",
       "      <td>Valtteri Bottas</td>\n",
       "      <td>Alfa Romeo</td>\n",
       "      <td>8</td>\n",
       "      <td>12</td>\n",
       "      <td>4</td>\n",
       "      <td>+1:08.439</td>\n",
       "    </tr>\n",
       "    <tr>\n",
       "      <th>10</th>\n",
       "      <td>Pierre Gasly</td>\n",
       "      <td>AlphaTauri</td>\n",
       "      <td>9</td>\n",
       "      <td>11</td>\n",
       "      <td>2</td>\n",
       "      <td>+1:16.221</td>\n",
       "    </tr>\n",
       "    <tr>\n",
       "      <th>23</th>\n",
       "      <td>Alexander Albon</td>\n",
       "      <td>Williams</td>\n",
       "      <td>10</td>\n",
       "      <td>20</td>\n",
       "      <td>1</td>\n",
       "      <td>+1:19.382</td>\n",
       "    </tr>\n",
       "  </tbody>\n",
       "</table></div>"
      ],
      "text/plain": [
       "                Name         TeamName  Position  GridPosition  Points  \\\n",
       "16   Charles Leclerc          Ferrari         1             1      26   \n",
       "11      Sergio Perez  Red Bull Racing         2             3      18   \n",
       "63    George Russell         Mercedes         3             6      15   \n",
       "44    Lewis Hamilton         Mercedes         4             5      12   \n",
       "4       Lando Norris          McLaren         5             4      10   \n",
       "3   Daniel Ricciardo          McLaren         6             7       8   \n",
       "31      Esteban Ocon           Alpine         7             8       6   \n",
       "77   Valtteri Bottas       Alfa Romeo         8            12       4   \n",
       "10      Pierre Gasly       AlphaTauri         9            11       2   \n",
       "23   Alexander Albon         Williams        10            20       1   \n",
       "\n",
       "     TimeFinish  \n",
       "16  1:27:46.548  \n",
       "11    +0:20.524  \n",
       "63    +0:25.593  \n",
       "44    +0:28.543  \n",
       "4     +0:53.303  \n",
       "3     +0:53.737  \n",
       "31    +1:01.683  \n",
       "77    +1:08.439  \n",
       "10    +1:16.221  \n",
       "23    +1:19.382  "
      ]
     },
     "execution_count": 431,
     "metadata": {},
     "output_type": "execute_result"
    }
   ],
   "source": [
    "format_results_race(session.results, ses).head(10)"
   ]
  },
  {
   "cell_type": "code",
   "execution_count": 432,
   "metadata": {},
   "outputs": [
    {
     "data": {
      "text/html": [
       "<div><div id=39fee826-cd9f-4c8a-b6f4-1103a33e4dc3 style=\"display:none; background-color:#9D6CFF; color:white; width:200px; height:30px; padding-left:5px; border-radius:4px; flex-direction:row; justify-content:space-around; align-items:center;\" onmouseover=\"this.style.backgroundColor='#BA9BF8'\" onmouseout=\"this.style.backgroundColor='#9D6CFF'\" onclick=\"window.commands?.execute('create-mitosheet-from-dataframe-output');\">See Full Dataframe in Mito</div> <script> if (window.commands.hasCommand('create-mitosheet-from-dataframe-output')) document.getElementById('39fee826-cd9f-4c8a-b6f4-1103a33e4dc3').style.display = 'flex' </script> <table border=\"1\" class=\"dataframe\">\n",
       "  <thead>\n",
       "    <tr style=\"text-align: right;\">\n",
       "      <th></th>\n",
       "      <th>Name</th>\n",
       "      <th>TeamName</th>\n",
       "      <th>Position</th>\n",
       "      <th>GridPosition</th>\n",
       "      <th>Points</th>\n",
       "      <th>TimeFinish</th>\n",
       "    </tr>\n",
       "  </thead>\n",
       "  <tbody>\n",
       "    <tr>\n",
       "      <th>24</th>\n",
       "      <td>Guanyu Zhou</td>\n",
       "      <td>Alfa Romeo</td>\n",
       "      <td>11</td>\n",
       "      <td>14</td>\n",
       "      <td>0</td>\n",
       "      <td>+1:21.695</td>\n",
       "    </tr>\n",
       "    <tr>\n",
       "      <th>18</th>\n",
       "      <td>Lance Stroll</td>\n",
       "      <td>Aston Martin</td>\n",
       "      <td>12</td>\n",
       "      <td>19</td>\n",
       "      <td>0</td>\n",
       "      <td>+1:28.598</td>\n",
       "    </tr>\n",
       "    <tr>\n",
       "      <th>47</th>\n",
       "      <td>Mick Schumacher</td>\n",
       "      <td>Haas F1 Team</td>\n",
       "      <td>13</td>\n",
       "      <td>15</td>\n",
       "      <td>0</td>\n",
       "      <td>+1 Lap</td>\n",
       "    </tr>\n",
       "    <tr>\n",
       "      <th>20</th>\n",
       "      <td>Kevin Magnussen</td>\n",
       "      <td>Haas F1 Team</td>\n",
       "      <td>14</td>\n",
       "      <td>16</td>\n",
       "      <td>0</td>\n",
       "      <td>+1 Lap</td>\n",
       "    </tr>\n",
       "    <tr>\n",
       "      <th>22</th>\n",
       "      <td>Yuki Tsunoda</td>\n",
       "      <td>AlphaTauri</td>\n",
       "      <td>15</td>\n",
       "      <td>13</td>\n",
       "      <td>0</td>\n",
       "      <td>+1 Lap</td>\n",
       "    </tr>\n",
       "    <tr>\n",
       "      <th>6</th>\n",
       "      <td>Nicholas Latifi</td>\n",
       "      <td>Williams</td>\n",
       "      <td>16</td>\n",
       "      <td>18</td>\n",
       "      <td>0</td>\n",
       "      <td>+1 Lap</td>\n",
       "    </tr>\n",
       "    <tr>\n",
       "      <th>14</th>\n",
       "      <td>Fernando Alonso</td>\n",
       "      <td>Alpine</td>\n",
       "      <td>17</td>\n",
       "      <td>10</td>\n",
       "      <td>0</td>\n",
       "      <td>+1 Lap</td>\n",
       "    </tr>\n",
       "    <tr>\n",
       "      <th>1</th>\n",
       "      <td>Max Verstappen</td>\n",
       "      <td>Red Bull Racing</td>\n",
       "      <td>18</td>\n",
       "      <td>2</td>\n",
       "      <td>0</td>\n",
       "      <td>DNF</td>\n",
       "    </tr>\n",
       "    <tr>\n",
       "      <th>5</th>\n",
       "      <td>Sebastian Vettel</td>\n",
       "      <td>Aston Martin</td>\n",
       "      <td>19</td>\n",
       "      <td>17</td>\n",
       "      <td>0</td>\n",
       "      <td>DNF</td>\n",
       "    </tr>\n",
       "    <tr>\n",
       "      <th>55</th>\n",
       "      <td>Carlos Sainz</td>\n",
       "      <td>Ferrari</td>\n",
       "      <td>20</td>\n",
       "      <td>9</td>\n",
       "      <td>0</td>\n",
       "      <td>DNF</td>\n",
       "    </tr>\n",
       "  </tbody>\n",
       "</table></div>"
      ],
      "text/plain": [
       "                Name         TeamName  Position  GridPosition  Points  \\\n",
       "24       Guanyu Zhou       Alfa Romeo        11            14       0   \n",
       "18      Lance Stroll     Aston Martin        12            19       0   \n",
       "47   Mick Schumacher     Haas F1 Team        13            15       0   \n",
       "20   Kevin Magnussen     Haas F1 Team        14            16       0   \n",
       "22      Yuki Tsunoda       AlphaTauri        15            13       0   \n",
       "6    Nicholas Latifi         Williams        16            18       0   \n",
       "14   Fernando Alonso           Alpine        17            10       0   \n",
       "1     Max Verstappen  Red Bull Racing        18             2       0   \n",
       "5   Sebastian Vettel     Aston Martin        19            17       0   \n",
       "55      Carlos Sainz          Ferrari        20             9       0   \n",
       "\n",
       "   TimeFinish  \n",
       "24  +1:21.695  \n",
       "18  +1:28.598  \n",
       "47     +1 Lap  \n",
       "20     +1 Lap  \n",
       "22     +1 Lap  \n",
       "6      +1 Lap  \n",
       "14     +1 Lap  \n",
       "1         DNF  \n",
       "5         DNF  \n",
       "55        DNF  "
      ]
     },
     "execution_count": 432,
     "metadata": {},
     "output_type": "execute_result"
    }
   ],
   "source": [
    "format_results_race(session.results, ses).tail(10)"
   ]
  },
  {
   "cell_type": "code",
   "execution_count": 433,
   "metadata": {},
   "outputs": [
    {
     "data": {
      "text/html": [
       "<div><div id=31b1a3bd-bd5e-4b11-a0f2-4fd51bd9cb36 style=\"display:none; background-color:#9D6CFF; color:white; width:200px; height:30px; padding-left:5px; border-radius:4px; flex-direction:row; justify-content:space-around; align-items:center;\" onmouseover=\"this.style.backgroundColor='#BA9BF8'\" onmouseout=\"this.style.backgroundColor='#9D6CFF'\" onclick=\"window.commands?.execute('create-mitosheet-from-dataframe-output');\">See Full Dataframe in Mito</div> <script> if (window.commands.hasCommand('create-mitosheet-from-dataframe-output')) document.getElementById('31b1a3bd-bd5e-4b11-a0f2-4fd51bd9cb36').style.display = 'flex' </script> <table border=\"1\" class=\"dataframe\">\n",
       "  <thead>\n",
       "    <tr style=\"text-align: right;\">\n",
       "      <th></th>\n",
       "      <th>DriverNumber</th>\n",
       "      <th>BroadcastName</th>\n",
       "      <th>Abbreviation</th>\n",
       "      <th>TeamName</th>\n",
       "      <th>TeamColor</th>\n",
       "      <th>FirstName</th>\n",
       "      <th>LastName</th>\n",
       "      <th>FullName</th>\n",
       "      <th>Position</th>\n",
       "      <th>GridPosition</th>\n",
       "      <th>Q1</th>\n",
       "      <th>Q2</th>\n",
       "      <th>Q3</th>\n",
       "      <th>Time</th>\n",
       "      <th>Status</th>\n",
       "      <th>Points</th>\n",
       "    </tr>\n",
       "  </thead>\n",
       "  <tbody>\n",
       "    <tr>\n",
       "      <th>16</th>\n",
       "      <td>16</td>\n",
       "      <td>C LECLERC</td>\n",
       "      <td>LEC</td>\n",
       "      <td>Ferrari</td>\n",
       "      <td>ed1c24</td>\n",
       "      <td>Charles</td>\n",
       "      <td>Leclerc</td>\n",
       "      <td>Charles Leclerc</td>\n",
       "      <td>1.0</td>\n",
       "      <td>1.0</td>\n",
       "      <td>NaT</td>\n",
       "      <td>NaT</td>\n",
       "      <td>NaT</td>\n",
       "      <td>0 days 01:27:46.548000</td>\n",
       "      <td>Finished</td>\n",
       "      <td>26.0</td>\n",
       "    </tr>\n",
       "    <tr>\n",
       "      <th>11</th>\n",
       "      <td>11</td>\n",
       "      <td>S PEREZ</td>\n",
       "      <td>PER</td>\n",
       "      <td>Red Bull Racing</td>\n",
       "      <td>1e5bc6</td>\n",
       "      <td>Sergio</td>\n",
       "      <td>Perez</td>\n",
       "      <td>Sergio Perez</td>\n",
       "      <td>2.0</td>\n",
       "      <td>3.0</td>\n",
       "      <td>NaT</td>\n",
       "      <td>NaT</td>\n",
       "      <td>NaT</td>\n",
       "      <td>0 days 01:28:07.072000</td>\n",
       "      <td>Finished</td>\n",
       "      <td>18.0</td>\n",
       "    </tr>\n",
       "    <tr>\n",
       "      <th>63</th>\n",
       "      <td>63</td>\n",
       "      <td>G RUSSELL</td>\n",
       "      <td>RUS</td>\n",
       "      <td>Mercedes</td>\n",
       "      <td>6cd3bf</td>\n",
       "      <td>George</td>\n",
       "      <td>Russell</td>\n",
       "      <td>George Russell</td>\n",
       "      <td>3.0</td>\n",
       "      <td>6.0</td>\n",
       "      <td>NaT</td>\n",
       "      <td>NaT</td>\n",
       "      <td>NaT</td>\n",
       "      <td>0 days 01:28:12.141000</td>\n",
       "      <td>Finished</td>\n",
       "      <td>15.0</td>\n",
       "    </tr>\n",
       "    <tr>\n",
       "      <th>44</th>\n",
       "      <td>44</td>\n",
       "      <td>L HAMILTON</td>\n",
       "      <td>HAM</td>\n",
       "      <td>Mercedes</td>\n",
       "      <td>6cd3bf</td>\n",
       "      <td>Lewis</td>\n",
       "      <td>Hamilton</td>\n",
       "      <td>Lewis Hamilton</td>\n",
       "      <td>4.0</td>\n",
       "      <td>5.0</td>\n",
       "      <td>NaT</td>\n",
       "      <td>NaT</td>\n",
       "      <td>NaT</td>\n",
       "      <td>0 days 01:28:15.091000</td>\n",
       "      <td>Finished</td>\n",
       "      <td>12.0</td>\n",
       "    </tr>\n",
       "    <tr>\n",
       "      <th>4</th>\n",
       "      <td>4</td>\n",
       "      <td>L NORRIS</td>\n",
       "      <td>NOR</td>\n",
       "      <td>McLaren</td>\n",
       "      <td>f58020</td>\n",
       "      <td>Lando</td>\n",
       "      <td>Norris</td>\n",
       "      <td>Lando Norris</td>\n",
       "      <td>5.0</td>\n",
       "      <td>4.0</td>\n",
       "      <td>NaT</td>\n",
       "      <td>NaT</td>\n",
       "      <td>NaT</td>\n",
       "      <td>0 days 01:28:39.851000</td>\n",
       "      <td>Finished</td>\n",
       "      <td>10.0</td>\n",
       "    </tr>\n",
       "    <tr>\n",
       "      <th>...</th>\n",
       "      <td>...</td>\n",
       "      <td>...</td>\n",
       "      <td>...</td>\n",
       "      <td>...</td>\n",
       "      <td>...</td>\n",
       "      <td>...</td>\n",
       "      <td>...</td>\n",
       "      <td>...</td>\n",
       "      <td>...</td>\n",
       "      <td>...</td>\n",
       "      <td>...</td>\n",
       "      <td>...</td>\n",
       "      <td>...</td>\n",
       "      <td>...</td>\n",
       "      <td>...</td>\n",
       "      <td>...</td>\n",
       "    </tr>\n",
       "    <tr>\n",
       "      <th>6</th>\n",
       "      <td>6</td>\n",
       "      <td>N LATIFI</td>\n",
       "      <td>LAT</td>\n",
       "      <td>Williams</td>\n",
       "      <td>37bedd</td>\n",
       "      <td>Nicholas</td>\n",
       "      <td>Latifi</td>\n",
       "      <td>Nicholas Latifi</td>\n",
       "      <td>16.0</td>\n",
       "      <td>18.0</td>\n",
       "      <td>NaT</td>\n",
       "      <td>NaT</td>\n",
       "      <td>NaT</td>\n",
       "      <td>NaT</td>\n",
       "      <td>+1 Lap</td>\n",
       "      <td>0.0</td>\n",
       "    </tr>\n",
       "    <tr>\n",
       "      <th>14</th>\n",
       "      <td>14</td>\n",
       "      <td>F ALONSO</td>\n",
       "      <td>ALO</td>\n",
       "      <td>Alpine</td>\n",
       "      <td>2293d1</td>\n",
       "      <td>Fernando</td>\n",
       "      <td>Alonso</td>\n",
       "      <td>Fernando Alonso</td>\n",
       "      <td>17.0</td>\n",
       "      <td>10.0</td>\n",
       "      <td>NaT</td>\n",
       "      <td>NaT</td>\n",
       "      <td>NaT</td>\n",
       "      <td>NaT</td>\n",
       "      <td>+1 Lap</td>\n",
       "      <td>0.0</td>\n",
       "    </tr>\n",
       "    <tr>\n",
       "      <th>1</th>\n",
       "      <td>1</td>\n",
       "      <td>M VERSTAPPEN</td>\n",
       "      <td>VER</td>\n",
       "      <td>Red Bull Racing</td>\n",
       "      <td>1e5bc6</td>\n",
       "      <td>Max</td>\n",
       "      <td>Verstappen</td>\n",
       "      <td>Max Verstappen</td>\n",
       "      <td>18.0</td>\n",
       "      <td>2.0</td>\n",
       "      <td>NaT</td>\n",
       "      <td>NaT</td>\n",
       "      <td>NaT</td>\n",
       "      <td>NaT</td>\n",
       "      <td>Hydraulics</td>\n",
       "      <td>0.0</td>\n",
       "    </tr>\n",
       "    <tr>\n",
       "      <th>5</th>\n",
       "      <td>5</td>\n",
       "      <td>S VETTEL</td>\n",
       "      <td>VET</td>\n",
       "      <td>Aston Martin</td>\n",
       "      <td>2d826d</td>\n",
       "      <td>Sebastian</td>\n",
       "      <td>Vettel</td>\n",
       "      <td>Sebastian Vettel</td>\n",
       "      <td>19.0</td>\n",
       "      <td>17.0</td>\n",
       "      <td>NaT</td>\n",
       "      <td>NaT</td>\n",
       "      <td>NaT</td>\n",
       "      <td>NaT</td>\n",
       "      <td>Accident</td>\n",
       "      <td>0.0</td>\n",
       "    </tr>\n",
       "    <tr>\n",
       "      <th>55</th>\n",
       "      <td>55</td>\n",
       "      <td>C SAINZ</td>\n",
       "      <td>SAI</td>\n",
       "      <td>Ferrari</td>\n",
       "      <td>ed1c24</td>\n",
       "      <td>Carlos</td>\n",
       "      <td>Sainz</td>\n",
       "      <td>Carlos Sainz</td>\n",
       "      <td>20.0</td>\n",
       "      <td>9.0</td>\n",
       "      <td>NaT</td>\n",
       "      <td>NaT</td>\n",
       "      <td>NaT</td>\n",
       "      <td>NaT</td>\n",
       "      <td>Spun off</td>\n",
       "      <td>0.0</td>\n",
       "    </tr>\n",
       "  </tbody>\n",
       "</table></div>"
      ],
      "text/plain": [
       "   DriverNumber BroadcastName Abbreviation         TeamName TeamColor  \\\n",
       "16           16     C LECLERC          LEC          Ferrari    ed1c24   \n",
       "11           11       S PEREZ          PER  Red Bull Racing    1e5bc6   \n",
       "63           63     G RUSSELL          RUS         Mercedes    6cd3bf   \n",
       "44           44    L HAMILTON          HAM         Mercedes    6cd3bf   \n",
       "4             4      L NORRIS          NOR          McLaren    f58020   \n",
       "3             3   D RICCIARDO          RIC          McLaren    f58020   \n",
       "31           31        E OCON          OCO           Alpine    2293d1   \n",
       "77           77      V BOTTAS          BOT       Alfa Romeo    b12039   \n",
       "10           10       P GASLY          GAS       AlphaTauri    4e7c9b   \n",
       "23           23       A ALBON          ALB         Williams    37bedd   \n",
       "24           24        G ZHOU          ZHO       Alfa Romeo    b12039   \n",
       "18           18      L STROLL          STR     Aston Martin    2d826d   \n",
       "47           47  M SCHUMACHER          MSC     Haas F1 Team    b6babd   \n",
       "20           20   K MAGNUSSEN          MAG     Haas F1 Team    b6babd   \n",
       "22           22     Y TSUNODA          TSU       AlphaTauri    4e7c9b   \n",
       "6             6      N LATIFI          LAT         Williams    37bedd   \n",
       "14           14      F ALONSO          ALO           Alpine    2293d1   \n",
       "1             1  M VERSTAPPEN          VER  Red Bull Racing    1e5bc6   \n",
       "5             5      S VETTEL          VET     Aston Martin    2d826d   \n",
       "55           55       C SAINZ          SAI          Ferrari    ed1c24   \n",
       "\n",
       "    FirstName    LastName          FullName  Position  GridPosition  Q1  Q2  \\\n",
       "16    Charles     Leclerc   Charles Leclerc       1.0           1.0 NaT NaT   \n",
       "11     Sergio       Perez      Sergio Perez       2.0           3.0 NaT NaT   \n",
       "63     George     Russell    George Russell       3.0           6.0 NaT NaT   \n",
       "44      Lewis    Hamilton    Lewis Hamilton       4.0           5.0 NaT NaT   \n",
       "4       Lando      Norris      Lando Norris       5.0           4.0 NaT NaT   \n",
       "3      Daniel   Ricciardo  Daniel Ricciardo       6.0           7.0 NaT NaT   \n",
       "31    Esteban        Ocon      Esteban Ocon       7.0           8.0 NaT NaT   \n",
       "77   Valtteri      Bottas   Valtteri Bottas       8.0          12.0 NaT NaT   \n",
       "10     Pierre       Gasly      Pierre Gasly       9.0          11.0 NaT NaT   \n",
       "23  Alexander       Albon   Alexander Albon      10.0          20.0 NaT NaT   \n",
       "24     Guanyu        Zhou       Guanyu Zhou      11.0          14.0 NaT NaT   \n",
       "18      Lance      Stroll      Lance Stroll      12.0          19.0 NaT NaT   \n",
       "47       Mick  Schumacher   Mick Schumacher      13.0          15.0 NaT NaT   \n",
       "20      Kevin   Magnussen   Kevin Magnussen      14.0          16.0 NaT NaT   \n",
       "22       Yuki     Tsunoda      Yuki Tsunoda      15.0          13.0 NaT NaT   \n",
       "6    Nicholas      Latifi   Nicholas Latifi      16.0          18.0 NaT NaT   \n",
       "14   Fernando      Alonso   Fernando Alonso      17.0          10.0 NaT NaT   \n",
       "1         Max  Verstappen    Max Verstappen      18.0           2.0 NaT NaT   \n",
       "5   Sebastian      Vettel  Sebastian Vettel      19.0          17.0 NaT NaT   \n",
       "55     Carlos       Sainz      Carlos Sainz      20.0           9.0 NaT NaT   \n",
       "\n",
       "    Q3                   Time      Status  Points  \n",
       "16 NaT 0 days 01:27:46.548000    Finished    26.0  \n",
       "11 NaT 0 days 01:28:07.072000    Finished    18.0  \n",
       "63 NaT 0 days 01:28:12.141000    Finished    15.0  \n",
       "44 NaT 0 days 01:28:15.091000    Finished    12.0  \n",
       "4  NaT 0 days 01:28:39.851000    Finished    10.0  \n",
       "3  NaT 0 days 01:28:40.285000    Finished     8.0  \n",
       "31 NaT 0 days 01:28:48.231000    Finished     6.0  \n",
       "77 NaT 0 days 01:28:54.987000    Finished     4.0  \n",
       "10 NaT 0 days 01:29:02.769000    Finished     2.0  \n",
       "23 NaT 0 days 01:29:05.930000    Finished     1.0  \n",
       "24 NaT 0 days 01:29:08.243000    Finished     0.0  \n",
       "18 NaT 0 days 01:29:15.146000    Finished     0.0  \n",
       "47 NaT                    NaT      +1 Lap     0.0  \n",
       "20 NaT                    NaT      +1 Lap     0.0  \n",
       "22 NaT                    NaT      +1 Lap     0.0  \n",
       "6  NaT                    NaT      +1 Lap     0.0  \n",
       "14 NaT                    NaT      +1 Lap     0.0  \n",
       "1  NaT                    NaT  Hydraulics     0.0  \n",
       "5  NaT                    NaT    Accident     0.0  \n",
       "55 NaT                    NaT    Spun off     0.0  "
      ]
     },
     "execution_count": 433,
     "metadata": {},
     "output_type": "execute_result"
    }
   ],
   "source": [
    "session.results"
   ]
  },
  {
   "cell_type": "code",
   "execution_count": 451,
   "metadata": {},
   "outputs": [
    {
     "name": "stdout",
     "output_type": "stream",
     "text": [
      "[]\n"
     ]
    }
   ],
   "source": [
    "def add_driver_info(session):\n",
    "    drivers_info = pd.read_csv('../data/drivers_info.csv', index_col=0)\n",
    "    drivers_standings = pd.read_csv('../data/drivers_standings.csv', index_col=0)\n",
    "    missing_drivers = [x for x in drivers_standings.index.tolist() if x not in drivers_info['Abbreviation'].tolist()]\n",
    "    if len(missing_drivers) > 0:\n",
    "        df = session.results.copy().drop(columns=[\"Position\", \"GridPosition\", \"Q1\", \"Q2\", \"Q3\", \"Time\", \"Status\", \"Points\"])\n",
    "        for i in missing_drivers:\n",
    "            df_missing = df[df['Abbreviation'] == i]\n",
    "            df_full = pd.concat([drivers_info, df_missing])\n",
    "        df_full.to_csv('../data/drivers_info.csv')\n",
    "        \n",
    "add_driver_info(session)"
   ]
  },
  {
   "cell_type": "code",
   "execution_count": 452,
   "metadata": {},
   "outputs": [
    {
     "data": {
      "application/vnd.plotly.v1+json": {
       "config": {
        "plotlyServerURL": "https://plot.ly"
       },
       "data": [
        {
         "alignmentgroup": "True",
         "hovertemplate": "Points: %{y}",
         "legendgroup": "VER",
         "marker": {
          "color": "#1e5bc6",
          "pattern": {
           "shape": ""
          }
         },
         "name": "VER",
         "offsetgroup": "VER",
         "orientation": "v",
         "showlegend": true,
         "text": [
          1
         ],
         "textposition": "inside",
         "type": "bar",
         "x": [
          "VER"
         ],
         "xaxis": "x",
         "y": [
          0
         ],
         "yaxis": "y"
        },
        {
         "alignmentgroup": "True",
         "hovertemplate": "Points: %{y}",
         "legendgroup": "LEC",
         "marker": {
          "color": "#ed1c24",
          "pattern": {
           "shape": ""
          }
         },
         "name": "LEC",
         "offsetgroup": "LEC",
         "orientation": "v",
         "showlegend": true,
         "text": [
          2
         ],
         "textposition": "inside",
         "type": "bar",
         "x": [
          "LEC"
         ],
         "xaxis": "x",
         "y": [
          0
         ],
         "yaxis": "y"
        },
        {
         "alignmentgroup": "True",
         "hovertemplate": "Points: %{y}",
         "legendgroup": "PER",
         "marker": {
          "color": "#1e5bc6",
          "pattern": {
           "shape": ""
          }
         },
         "name": "PER",
         "offsetgroup": "PER",
         "orientation": "v",
         "showlegend": true,
         "text": [
          3
         ],
         "textposition": "inside",
         "type": "bar",
         "x": [
          "PER"
         ],
         "xaxis": "x",
         "y": [
          0
         ],
         "yaxis": "y"
        },
        {
         "alignmentgroup": "True",
         "hovertemplate": "Points: %{y}",
         "legendgroup": "RUS",
         "marker": {
          "color": "#6cd3bf",
          "pattern": {
           "shape": ""
          }
         },
         "name": "RUS",
         "offsetgroup": "RUS",
         "orientation": "v",
         "showlegend": true,
         "text": [
          4
         ],
         "textposition": "inside",
         "type": "bar",
         "x": [
          "RUS"
         ],
         "xaxis": "x",
         "y": [
          0
         ],
         "yaxis": "y"
        },
        {
         "alignmentgroup": "True",
         "hovertemplate": "Points: %{y}",
         "legendgroup": "SAI",
         "marker": {
          "color": "#ed1c24",
          "pattern": {
           "shape": ""
          }
         },
         "name": "SAI",
         "offsetgroup": "SAI",
         "orientation": "v",
         "showlegend": true,
         "text": [
          5
         ],
         "textposition": "inside",
         "type": "bar",
         "x": [
          "SAI"
         ],
         "xaxis": "x",
         "y": [
          0
         ],
         "yaxis": "y"
        },
        {
         "alignmentgroup": "True",
         "hovertemplate": "Points: %{y}",
         "legendgroup": "HAM",
         "marker": {
          "color": "#6cd3bf",
          "pattern": {
           "shape": ""
          }
         },
         "name": "HAM",
         "offsetgroup": "HAM",
         "orientation": "v",
         "showlegend": true,
         "text": [
          6
         ],
         "textposition": "inside",
         "type": "bar",
         "x": [
          "HAM"
         ],
         "xaxis": "x",
         "y": [
          0
         ],
         "yaxis": "y"
        },
        {
         "alignmentgroup": "True",
         "hovertemplate": "Points: %{y}",
         "legendgroup": "NOR",
         "marker": {
          "color": "#f58020",
          "pattern": {
           "shape": ""
          }
         },
         "name": "NOR",
         "offsetgroup": "NOR",
         "orientation": "v",
         "showlegend": true,
         "text": [
          7
         ],
         "textposition": "inside",
         "type": "bar",
         "x": [
          "NOR"
         ],
         "xaxis": "x",
         "y": [
          0
         ],
         "yaxis": "y"
        },
        {
         "alignmentgroup": "True",
         "hovertemplate": "Points: %{y}",
         "legendgroup": "BOT",
         "marker": {
          "color": "#b12039",
          "pattern": {
           "shape": ""
          }
         },
         "name": "BOT",
         "offsetgroup": "BOT",
         "orientation": "v",
         "showlegend": true,
         "text": [
          8
         ],
         "textposition": "inside",
         "type": "bar",
         "x": [
          "BOT"
         ],
         "xaxis": "x",
         "y": [
          0
         ],
         "yaxis": "y"
        },
        {
         "alignmentgroup": "True",
         "hovertemplate": "Points: %{y}",
         "legendgroup": "OCO",
         "marker": {
          "color": "#2293d1",
          "pattern": {
           "shape": ""
          }
         },
         "name": "OCO",
         "offsetgroup": "OCO",
         "orientation": "v",
         "showlegend": true,
         "text": [
          9
         ],
         "textposition": "inside",
         "type": "bar",
         "x": [
          "OCO"
         ],
         "xaxis": "x",
         "y": [
          0
         ],
         "yaxis": "y"
        },
        {
         "alignmentgroup": "True",
         "hovertemplate": "Points: %{y}",
         "legendgroup": "MAG",
         "marker": {
          "color": "#b6babd",
          "pattern": {
           "shape": ""
          }
         },
         "name": "MAG",
         "offsetgroup": "MAG",
         "orientation": "v",
         "showlegend": true,
         "text": [
          10
         ],
         "textposition": "inside",
         "type": "bar",
         "x": [
          "MAG"
         ],
         "xaxis": "x",
         "y": [
          0
         ],
         "yaxis": "y"
        },
        {
         "alignmentgroup": "True",
         "hovertemplate": "Points: %{y}",
         "legendgroup": "TSU",
         "marker": {
          "color": "#4e7c9b",
          "pattern": {
           "shape": ""
          }
         },
         "name": "TSU",
         "offsetgroup": "TSU",
         "orientation": "v",
         "showlegend": true,
         "text": [
          11
         ],
         "textposition": "inside",
         "type": "bar",
         "x": [
          "TSU"
         ],
         "xaxis": "x",
         "y": [
          0
         ],
         "yaxis": "y"
        },
        {
         "alignmentgroup": "True",
         "hovertemplate": "Points: %{y}",
         "legendgroup": "RIC",
         "marker": {
          "color": "#f58020",
          "pattern": {
           "shape": ""
          }
         },
         "name": "RIC",
         "offsetgroup": "RIC",
         "orientation": "v",
         "showlegend": true,
         "text": [
          12
         ],
         "textposition": "inside",
         "type": "bar",
         "x": [
          "RIC"
         ],
         "xaxis": "x",
         "y": [
          0
         ],
         "yaxis": "y"
        },
        {
         "alignmentgroup": "True",
         "hovertemplate": "Points: %{y}",
         "legendgroup": "ALO",
         "marker": {
          "color": "#2293d1",
          "pattern": {
           "shape": ""
          }
         },
         "name": "ALO",
         "offsetgroup": "ALO",
         "orientation": "v",
         "showlegend": true,
         "text": [
          13
         ],
         "textposition": "inside",
         "type": "bar",
         "x": [
          "ALO"
         ],
         "xaxis": "x",
         "y": [
          0
         ],
         "yaxis": "y"
        },
        {
         "alignmentgroup": "True",
         "hovertemplate": "Points: %{y}",
         "legendgroup": "GAS",
         "marker": {
          "color": "#4e7c9b",
          "pattern": {
           "shape": ""
          }
         },
         "name": "GAS",
         "offsetgroup": "GAS",
         "orientation": "v",
         "showlegend": true,
         "text": [
          14
         ],
         "textposition": "inside",
         "type": "bar",
         "x": [
          "GAS"
         ],
         "xaxis": "x",
         "y": [
          0
         ],
         "yaxis": "y"
        },
        {
         "alignmentgroup": "True",
         "hovertemplate": "Points: %{y}",
         "legendgroup": "VET",
         "marker": {
          "color": "#2d826d",
          "pattern": {
           "shape": ""
          }
         },
         "name": "VET",
         "offsetgroup": "VET",
         "orientation": "v",
         "showlegend": true,
         "text": [
          15
         ],
         "textposition": "inside",
         "type": "bar",
         "x": [
          "VET"
         ],
         "xaxis": "x",
         "y": [
          0
         ],
         "yaxis": "y"
        },
        {
         "alignmentgroup": "True",
         "hovertemplate": "Points: %{y}",
         "legendgroup": "ALB",
         "marker": {
          "color": "#37bedd",
          "pattern": {
           "shape": ""
          }
         },
         "name": "ALB",
         "offsetgroup": "ALB",
         "orientation": "v",
         "showlegend": true,
         "text": [
          16
         ],
         "textposition": "inside",
         "type": "bar",
         "x": [
          "ALB"
         ],
         "xaxis": "x",
         "y": [
          0
         ],
         "yaxis": "y"
        },
        {
         "alignmentgroup": "True",
         "hovertemplate": "Points: %{y}",
         "legendgroup": "STR",
         "marker": {
          "color": "#2d826d",
          "pattern": {
           "shape": ""
          }
         },
         "name": "STR",
         "offsetgroup": "STR",
         "orientation": "v",
         "showlegend": true,
         "text": [
          17
         ],
         "textposition": "inside",
         "type": "bar",
         "x": [
          "STR"
         ],
         "xaxis": "x",
         "y": [
          0
         ],
         "yaxis": "y"
        },
        {
         "alignmentgroup": "True",
         "hovertemplate": "Points: %{y}",
         "legendgroup": "ZHO",
         "marker": {
          "color": "#b12039",
          "pattern": {
           "shape": ""
          }
         },
         "name": "ZHO",
         "offsetgroup": "ZHO",
         "orientation": "v",
         "showlegend": true,
         "text": [
          18
         ],
         "textposition": "inside",
         "type": "bar",
         "x": [
          "ZHO"
         ],
         "xaxis": "x",
         "y": [
          0
         ],
         "yaxis": "y"
        },
        {
         "alignmentgroup": "True",
         "hovertemplate": "Points: %{y}",
         "legendgroup": "LAT",
         "marker": {
          "color": "#37bedd",
          "pattern": {
           "shape": ""
          }
         },
         "name": "LAT",
         "offsetgroup": "LAT",
         "orientation": "v",
         "showlegend": true,
         "text": [
          19
         ],
         "textposition": "inside",
         "type": "bar",
         "x": [
          "LAT"
         ],
         "xaxis": "x",
         "y": [
          0
         ],
         "yaxis": "y"
        },
        {
         "alignmentgroup": "True",
         "hovertemplate": "Points: %{y}",
         "legendgroup": "HUL",
         "marker": {
          "color": "#2d826d",
          "pattern": {
           "shape": ""
          }
         },
         "name": "HUL",
         "offsetgroup": "HUL",
         "orientation": "v",
         "showlegend": true,
         "text": [
          20
         ],
         "textposition": "inside",
         "type": "bar",
         "x": [
          "HUL"
         ],
         "xaxis": "x",
         "y": [
          0
         ],
         "yaxis": "y"
        },
        {
         "alignmentgroup": "True",
         "hovertemplate": "Points: %{y}",
         "legendgroup": "MSC",
         "marker": {
          "color": "#b6babd",
          "pattern": {
           "shape": ""
          }
         },
         "name": "MSC",
         "offsetgroup": "MSC",
         "orientation": "v",
         "showlegend": true,
         "text": [
          21
         ],
         "textposition": "inside",
         "type": "bar",
         "x": [
          "MSC"
         ],
         "xaxis": "x",
         "y": [
          0
         ],
         "yaxis": "y"
        }
       ],
       "frames": [
        {
         "data": [
          {
           "alignmentgroup": "True",
           "hovertemplate": "Name=%{x}<br>Race=0<br>Points=%{y}<br>Ranking=%{text}<extra></extra>",
           "legendgroup": "VER",
           "marker": {
            "color": "#1e5bc6",
            "pattern": {
             "shape": ""
            }
           },
           "name": "VER",
           "offsetgroup": "VER",
           "orientation": "v",
           "showlegend": true,
           "text": [
            1
           ],
           "textposition": "auto",
           "type": "bar",
           "x": [
            "VER"
           ],
           "xaxis": "x",
           "y": [
            0
           ],
           "yaxis": "y"
          },
          {
           "alignmentgroup": "True",
           "hovertemplate": "Name=%{x}<br>Race=0<br>Points=%{y}<br>Ranking=%{text}<extra></extra>",
           "legendgroup": "LEC",
           "marker": {
            "color": "#ed1c24",
            "pattern": {
             "shape": ""
            }
           },
           "name": "LEC",
           "offsetgroup": "LEC",
           "orientation": "v",
           "showlegend": true,
           "text": [
            2
           ],
           "textposition": "auto",
           "type": "bar",
           "x": [
            "LEC"
           ],
           "xaxis": "x",
           "y": [
            0
           ],
           "yaxis": "y"
          },
          {
           "alignmentgroup": "True",
           "hovertemplate": "Name=%{x}<br>Race=0<br>Points=%{y}<br>Ranking=%{text}<extra></extra>",
           "legendgroup": "PER",
           "marker": {
            "color": "#1e5bc6",
            "pattern": {
             "shape": ""
            }
           },
           "name": "PER",
           "offsetgroup": "PER",
           "orientation": "v",
           "showlegend": true,
           "text": [
            3
           ],
           "textposition": "auto",
           "type": "bar",
           "x": [
            "PER"
           ],
           "xaxis": "x",
           "y": [
            0
           ],
           "yaxis": "y"
          },
          {
           "alignmentgroup": "True",
           "hovertemplate": "Name=%{x}<br>Race=0<br>Points=%{y}<br>Ranking=%{text}<extra></extra>",
           "legendgroup": "RUS",
           "marker": {
            "color": "#6cd3bf",
            "pattern": {
             "shape": ""
            }
           },
           "name": "RUS",
           "offsetgroup": "RUS",
           "orientation": "v",
           "showlegend": true,
           "text": [
            4
           ],
           "textposition": "auto",
           "type": "bar",
           "x": [
            "RUS"
           ],
           "xaxis": "x",
           "y": [
            0
           ],
           "yaxis": "y"
          },
          {
           "alignmentgroup": "True",
           "hovertemplate": "Name=%{x}<br>Race=0<br>Points=%{y}<br>Ranking=%{text}<extra></extra>",
           "legendgroup": "SAI",
           "marker": {
            "color": "#ed1c24",
            "pattern": {
             "shape": ""
            }
           },
           "name": "SAI",
           "offsetgroup": "SAI",
           "orientation": "v",
           "showlegend": true,
           "text": [
            5
           ],
           "textposition": "auto",
           "type": "bar",
           "x": [
            "SAI"
           ],
           "xaxis": "x",
           "y": [
            0
           ],
           "yaxis": "y"
          },
          {
           "alignmentgroup": "True",
           "hovertemplate": "Name=%{x}<br>Race=0<br>Points=%{y}<br>Ranking=%{text}<extra></extra>",
           "legendgroup": "HAM",
           "marker": {
            "color": "#6cd3bf",
            "pattern": {
             "shape": ""
            }
           },
           "name": "HAM",
           "offsetgroup": "HAM",
           "orientation": "v",
           "showlegend": true,
           "text": [
            6
           ],
           "textposition": "auto",
           "type": "bar",
           "x": [
            "HAM"
           ],
           "xaxis": "x",
           "y": [
            0
           ],
           "yaxis": "y"
          },
          {
           "alignmentgroup": "True",
           "hovertemplate": "Name=%{x}<br>Race=0<br>Points=%{y}<br>Ranking=%{text}<extra></extra>",
           "legendgroup": "NOR",
           "marker": {
            "color": "#f58020",
            "pattern": {
             "shape": ""
            }
           },
           "name": "NOR",
           "offsetgroup": "NOR",
           "orientation": "v",
           "showlegend": true,
           "text": [
            7
           ],
           "textposition": "auto",
           "type": "bar",
           "x": [
            "NOR"
           ],
           "xaxis": "x",
           "y": [
            0
           ],
           "yaxis": "y"
          },
          {
           "alignmentgroup": "True",
           "hovertemplate": "Name=%{x}<br>Race=0<br>Points=%{y}<br>Ranking=%{text}<extra></extra>",
           "legendgroup": "BOT",
           "marker": {
            "color": "#b12039",
            "pattern": {
             "shape": ""
            }
           },
           "name": "BOT",
           "offsetgroup": "BOT",
           "orientation": "v",
           "showlegend": true,
           "text": [
            8
           ],
           "textposition": "auto",
           "type": "bar",
           "x": [
            "BOT"
           ],
           "xaxis": "x",
           "y": [
            0
           ],
           "yaxis": "y"
          },
          {
           "alignmentgroup": "True",
           "hovertemplate": "Name=%{x}<br>Race=0<br>Points=%{y}<br>Ranking=%{text}<extra></extra>",
           "legendgroup": "OCO",
           "marker": {
            "color": "#2293d1",
            "pattern": {
             "shape": ""
            }
           },
           "name": "OCO",
           "offsetgroup": "OCO",
           "orientation": "v",
           "showlegend": true,
           "text": [
            9
           ],
           "textposition": "auto",
           "type": "bar",
           "x": [
            "OCO"
           ],
           "xaxis": "x",
           "y": [
            0
           ],
           "yaxis": "y"
          },
          {
           "alignmentgroup": "True",
           "hovertemplate": "Name=%{x}<br>Race=0<br>Points=%{y}<br>Ranking=%{text}<extra></extra>",
           "legendgroup": "MAG",
           "marker": {
            "color": "#b6babd",
            "pattern": {
             "shape": ""
            }
           },
           "name": "MAG",
           "offsetgroup": "MAG",
           "orientation": "v",
           "showlegend": true,
           "text": [
            10
           ],
           "textposition": "auto",
           "type": "bar",
           "x": [
            "MAG"
           ],
           "xaxis": "x",
           "y": [
            0
           ],
           "yaxis": "y"
          },
          {
           "alignmentgroup": "True",
           "hovertemplate": "Name=%{x}<br>Race=0<br>Points=%{y}<br>Ranking=%{text}<extra></extra>",
           "legendgroup": "TSU",
           "marker": {
            "color": "#4e7c9b",
            "pattern": {
             "shape": ""
            }
           },
           "name": "TSU",
           "offsetgroup": "TSU",
           "orientation": "v",
           "showlegend": true,
           "text": [
            11
           ],
           "textposition": "auto",
           "type": "bar",
           "x": [
            "TSU"
           ],
           "xaxis": "x",
           "y": [
            0
           ],
           "yaxis": "y"
          },
          {
           "alignmentgroup": "True",
           "hovertemplate": "Name=%{x}<br>Race=0<br>Points=%{y}<br>Ranking=%{text}<extra></extra>",
           "legendgroup": "RIC",
           "marker": {
            "color": "#f58020",
            "pattern": {
             "shape": ""
            }
           },
           "name": "RIC",
           "offsetgroup": "RIC",
           "orientation": "v",
           "showlegend": true,
           "text": [
            12
           ],
           "textposition": "auto",
           "type": "bar",
           "x": [
            "RIC"
           ],
           "xaxis": "x",
           "y": [
            0
           ],
           "yaxis": "y"
          },
          {
           "alignmentgroup": "True",
           "hovertemplate": "Name=%{x}<br>Race=0<br>Points=%{y}<br>Ranking=%{text}<extra></extra>",
           "legendgroup": "ALO",
           "marker": {
            "color": "#2293d1",
            "pattern": {
             "shape": ""
            }
           },
           "name": "ALO",
           "offsetgroup": "ALO",
           "orientation": "v",
           "showlegend": true,
           "text": [
            13
           ],
           "textposition": "auto",
           "type": "bar",
           "x": [
            "ALO"
           ],
           "xaxis": "x",
           "y": [
            0
           ],
           "yaxis": "y"
          },
          {
           "alignmentgroup": "True",
           "hovertemplate": "Name=%{x}<br>Race=0<br>Points=%{y}<br>Ranking=%{text}<extra></extra>",
           "legendgroup": "GAS",
           "marker": {
            "color": "#4e7c9b",
            "pattern": {
             "shape": ""
            }
           },
           "name": "GAS",
           "offsetgroup": "GAS",
           "orientation": "v",
           "showlegend": true,
           "text": [
            14
           ],
           "textposition": "auto",
           "type": "bar",
           "x": [
            "GAS"
           ],
           "xaxis": "x",
           "y": [
            0
           ],
           "yaxis": "y"
          },
          {
           "alignmentgroup": "True",
           "hovertemplate": "Name=%{x}<br>Race=0<br>Points=%{y}<br>Ranking=%{text}<extra></extra>",
           "legendgroup": "VET",
           "marker": {
            "color": "#2d826d",
            "pattern": {
             "shape": ""
            }
           },
           "name": "VET",
           "offsetgroup": "VET",
           "orientation": "v",
           "showlegend": true,
           "text": [
            15
           ],
           "textposition": "auto",
           "type": "bar",
           "x": [
            "VET"
           ],
           "xaxis": "x",
           "y": [
            0
           ],
           "yaxis": "y"
          },
          {
           "alignmentgroup": "True",
           "hovertemplate": "Name=%{x}<br>Race=0<br>Points=%{y}<br>Ranking=%{text}<extra></extra>",
           "legendgroup": "ALB",
           "marker": {
            "color": "#37bedd",
            "pattern": {
             "shape": ""
            }
           },
           "name": "ALB",
           "offsetgroup": "ALB",
           "orientation": "v",
           "showlegend": true,
           "text": [
            16
           ],
           "textposition": "auto",
           "type": "bar",
           "x": [
            "ALB"
           ],
           "xaxis": "x",
           "y": [
            0
           ],
           "yaxis": "y"
          },
          {
           "alignmentgroup": "True",
           "hovertemplate": "Name=%{x}<br>Race=0<br>Points=%{y}<br>Ranking=%{text}<extra></extra>",
           "legendgroup": "STR",
           "marker": {
            "color": "#2d826d",
            "pattern": {
             "shape": ""
            }
           },
           "name": "STR",
           "offsetgroup": "STR",
           "orientation": "v",
           "showlegend": true,
           "text": [
            17
           ],
           "textposition": "auto",
           "type": "bar",
           "x": [
            "STR"
           ],
           "xaxis": "x",
           "y": [
            0
           ],
           "yaxis": "y"
          },
          {
           "alignmentgroup": "True",
           "hovertemplate": "Name=%{x}<br>Race=0<br>Points=%{y}<br>Ranking=%{text}<extra></extra>",
           "legendgroup": "ZHO",
           "marker": {
            "color": "#b12039",
            "pattern": {
             "shape": ""
            }
           },
           "name": "ZHO",
           "offsetgroup": "ZHO",
           "orientation": "v",
           "showlegend": true,
           "text": [
            18
           ],
           "textposition": "auto",
           "type": "bar",
           "x": [
            "ZHO"
           ],
           "xaxis": "x",
           "y": [
            0
           ],
           "yaxis": "y"
          },
          {
           "alignmentgroup": "True",
           "hovertemplate": "Name=%{x}<br>Race=0<br>Points=%{y}<br>Ranking=%{text}<extra></extra>",
           "legendgroup": "LAT",
           "marker": {
            "color": "#37bedd",
            "pattern": {
             "shape": ""
            }
           },
           "name": "LAT",
           "offsetgroup": "LAT",
           "orientation": "v",
           "showlegend": true,
           "text": [
            19
           ],
           "textposition": "auto",
           "type": "bar",
           "x": [
            "LAT"
           ],
           "xaxis": "x",
           "y": [
            0
           ],
           "yaxis": "y"
          },
          {
           "alignmentgroup": "True",
           "hovertemplate": "Name=%{x}<br>Race=0<br>Points=%{y}<br>Ranking=%{text}<extra></extra>",
           "legendgroup": "HUL",
           "marker": {
            "color": "#2d826d",
            "pattern": {
             "shape": ""
            }
           },
           "name": "HUL",
           "offsetgroup": "HUL",
           "orientation": "v",
           "showlegend": true,
           "text": [
            20
           ],
           "textposition": "auto",
           "type": "bar",
           "x": [
            "HUL"
           ],
           "xaxis": "x",
           "y": [
            0
           ],
           "yaxis": "y"
          },
          {
           "alignmentgroup": "True",
           "hovertemplate": "Name=%{x}<br>Race=0<br>Points=%{y}<br>Ranking=%{text}<extra></extra>",
           "legendgroup": "MSC",
           "marker": {
            "color": "#b6babd",
            "pattern": {
             "shape": ""
            }
           },
           "name": "MSC",
           "offsetgroup": "MSC",
           "orientation": "v",
           "showlegend": true,
           "text": [
            21
           ],
           "textposition": "auto",
           "type": "bar",
           "x": [
            "MSC"
           ],
           "xaxis": "x",
           "y": [
            0
           ],
           "yaxis": "y"
          }
         ],
         "name": "0"
        },
        {
         "data": [
          {
           "alignmentgroup": "True",
           "hovertemplate": "Name=%{x}<br>Race=1<br>Points=%{y}<br>Ranking=%{text}<extra></extra>",
           "legendgroup": "VER",
           "marker": {
            "color": "#1e5bc6",
            "pattern": {
             "shape": ""
            }
           },
           "name": "VER",
           "offsetgroup": "VER",
           "orientation": "v",
           "showlegend": true,
           "text": [
            11
           ],
           "textposition": "auto",
           "type": "bar",
           "x": [
            "VER"
           ],
           "xaxis": "x",
           "y": [
            0
           ],
           "yaxis": "y"
          },
          {
           "alignmentgroup": "True",
           "hovertemplate": "Name=%{x}<br>Race=1<br>Points=%{y}<br>Ranking=%{text}<extra></extra>",
           "legendgroup": "LEC",
           "marker": {
            "color": "#ed1c24",
            "pattern": {
             "shape": ""
            }
           },
           "name": "LEC",
           "offsetgroup": "LEC",
           "orientation": "v",
           "showlegend": true,
           "text": [
            1
           ],
           "textposition": "auto",
           "type": "bar",
           "x": [
            "LEC"
           ],
           "xaxis": "x",
           "y": [
            26
           ],
           "yaxis": "y"
          },
          {
           "alignmentgroup": "True",
           "hovertemplate": "Name=%{x}<br>Race=1<br>Points=%{y}<br>Ranking=%{text}<extra></extra>",
           "legendgroup": "PER",
           "marker": {
            "color": "#1e5bc6",
            "pattern": {
             "shape": ""
            }
           },
           "name": "PER",
           "offsetgroup": "PER",
           "orientation": "v",
           "showlegend": true,
           "text": [
            12
           ],
           "textposition": "auto",
           "type": "bar",
           "x": [
            "PER"
           ],
           "xaxis": "x",
           "y": [
            0
           ],
           "yaxis": "y"
          },
          {
           "alignmentgroup": "True",
           "hovertemplate": "Name=%{x}<br>Race=1<br>Points=%{y}<br>Ranking=%{text}<extra></extra>",
           "legendgroup": "RUS",
           "marker": {
            "color": "#6cd3bf",
            "pattern": {
             "shape": ""
            }
           },
           "name": "RUS",
           "offsetgroup": "RUS",
           "orientation": "v",
           "showlegend": true,
           "text": [
            4
           ],
           "textposition": "auto",
           "type": "bar",
           "x": [
            "RUS"
           ],
           "xaxis": "x",
           "y": [
            12
           ],
           "yaxis": "y"
          },
          {
           "alignmentgroup": "True",
           "hovertemplate": "Name=%{x}<br>Race=1<br>Points=%{y}<br>Ranking=%{text}<extra></extra>",
           "legendgroup": "SAI",
           "marker": {
            "color": "#ed1c24",
            "pattern": {
             "shape": ""
            }
           },
           "name": "SAI",
           "offsetgroup": "SAI",
           "orientation": "v",
           "showlegend": true,
           "text": [
            2
           ],
           "textposition": "auto",
           "type": "bar",
           "x": [
            "SAI"
           ],
           "xaxis": "x",
           "y": [
            18
           ],
           "yaxis": "y"
          },
          {
           "alignmentgroup": "True",
           "hovertemplate": "Name=%{x}<br>Race=1<br>Points=%{y}<br>Ranking=%{text}<extra></extra>",
           "legendgroup": "HAM",
           "marker": {
            "color": "#6cd3bf",
            "pattern": {
             "shape": ""
            }
           },
           "name": "HAM",
           "offsetgroup": "HAM",
           "orientation": "v",
           "showlegend": true,
           "text": [
            3
           ],
           "textposition": "auto",
           "type": "bar",
           "x": [
            "HAM"
           ],
           "xaxis": "x",
           "y": [
            15
           ],
           "yaxis": "y"
          },
          {
           "alignmentgroup": "True",
           "hovertemplate": "Name=%{x}<br>Race=1<br>Points=%{y}<br>Ranking=%{text}<extra></extra>",
           "legendgroup": "NOR",
           "marker": {
            "color": "#f58020",
            "pattern": {
             "shape": ""
            }
           },
           "name": "NOR",
           "offsetgroup": "NOR",
           "orientation": "v",
           "showlegend": true,
           "text": [
            13
           ],
           "textposition": "auto",
           "type": "bar",
           "x": [
            "NOR"
           ],
           "xaxis": "x",
           "y": [
            0
           ],
           "yaxis": "y"
          },
          {
           "alignmentgroup": "True",
           "hovertemplate": "Name=%{x}<br>Race=1<br>Points=%{y}<br>Ranking=%{text}<extra></extra>",
           "legendgroup": "BOT",
           "marker": {
            "color": "#b12039",
            "pattern": {
             "shape": ""
            }
           },
           "name": "BOT",
           "offsetgroup": "BOT",
           "orientation": "v",
           "showlegend": true,
           "text": [
            6
           ],
           "textposition": "auto",
           "type": "bar",
           "x": [
            "BOT"
           ],
           "xaxis": "x",
           "y": [
            8
           ],
           "yaxis": "y"
          },
          {
           "alignmentgroup": "True",
           "hovertemplate": "Name=%{x}<br>Race=1<br>Points=%{y}<br>Ranking=%{text}<extra></extra>",
           "legendgroup": "OCO",
           "marker": {
            "color": "#2293d1",
            "pattern": {
             "shape": ""
            }
           },
           "name": "OCO",
           "offsetgroup": "OCO",
           "orientation": "v",
           "showlegend": true,
           "text": [
            7
           ],
           "textposition": "auto",
           "type": "bar",
           "x": [
            "OCO"
           ],
           "xaxis": "x",
           "y": [
            6
           ],
           "yaxis": "y"
          },
          {
           "alignmentgroup": "True",
           "hovertemplate": "Name=%{x}<br>Race=1<br>Points=%{y}<br>Ranking=%{text}<extra></extra>",
           "legendgroup": "MAG",
           "marker": {
            "color": "#b6babd",
            "pattern": {
             "shape": ""
            }
           },
           "name": "MAG",
           "offsetgroup": "MAG",
           "orientation": "v",
           "showlegend": true,
           "text": [
            5
           ],
           "textposition": "auto",
           "type": "bar",
           "x": [
            "MAG"
           ],
           "xaxis": "x",
           "y": [
            10
           ],
           "yaxis": "y"
          },
          {
           "alignmentgroup": "True",
           "hovertemplate": "Name=%{x}<br>Race=1<br>Points=%{y}<br>Ranking=%{text}<extra></extra>",
           "legendgroup": "TSU",
           "marker": {
            "color": "#4e7c9b",
            "pattern": {
             "shape": ""
            }
           },
           "name": "TSU",
           "offsetgroup": "TSU",
           "orientation": "v",
           "showlegend": true,
           "text": [
            8
           ],
           "textposition": "auto",
           "type": "bar",
           "x": [
            "TSU"
           ],
           "xaxis": "x",
           "y": [
            4
           ],
           "yaxis": "y"
          },
          {
           "alignmentgroup": "True",
           "hovertemplate": "Name=%{x}<br>Race=1<br>Points=%{y}<br>Ranking=%{text}<extra></extra>",
           "legendgroup": "RIC",
           "marker": {
            "color": "#f58020",
            "pattern": {
             "shape": ""
            }
           },
           "name": "RIC",
           "offsetgroup": "RIC",
           "orientation": "v",
           "showlegend": true,
           "text": [
            14
           ],
           "textposition": "auto",
           "type": "bar",
           "x": [
            "RIC"
           ],
           "xaxis": "x",
           "y": [
            0
           ],
           "yaxis": "y"
          },
          {
           "alignmentgroup": "True",
           "hovertemplate": "Name=%{x}<br>Race=1<br>Points=%{y}<br>Ranking=%{text}<extra></extra>",
           "legendgroup": "ALO",
           "marker": {
            "color": "#2293d1",
            "pattern": {
             "shape": ""
            }
           },
           "name": "ALO",
           "offsetgroup": "ALO",
           "orientation": "v",
           "showlegend": true,
           "text": [
            9
           ],
           "textposition": "auto",
           "type": "bar",
           "x": [
            "ALO"
           ],
           "xaxis": "x",
           "y": [
            2
           ],
           "yaxis": "y"
          },
          {
           "alignmentgroup": "True",
           "hovertemplate": "Name=%{x}<br>Race=1<br>Points=%{y}<br>Ranking=%{text}<extra></extra>",
           "legendgroup": "GAS",
           "marker": {
            "color": "#4e7c9b",
            "pattern": {
             "shape": ""
            }
           },
           "name": "GAS",
           "offsetgroup": "GAS",
           "orientation": "v",
           "showlegend": true,
           "text": [
            15
           ],
           "textposition": "auto",
           "type": "bar",
           "x": [
            "GAS"
           ],
           "xaxis": "x",
           "y": [
            0
           ],
           "yaxis": "y"
          },
          {
           "alignmentgroup": "True",
           "hovertemplate": "Name=%{x}<br>Race=1<br>Points=%{y}<br>Ranking=%{text}<extra></extra>",
           "legendgroup": "VET",
           "marker": {
            "color": "#2d826d",
            "pattern": {
             "shape": ""
            }
           },
           "name": "VET",
           "offsetgroup": "VET",
           "orientation": "v",
           "showlegend": true,
           "text": [
            16
           ],
           "textposition": "auto",
           "type": "bar",
           "x": [
            "VET"
           ],
           "xaxis": "x",
           "y": [
            0
           ],
           "yaxis": "y"
          },
          {
           "alignmentgroup": "True",
           "hovertemplate": "Name=%{x}<br>Race=1<br>Points=%{y}<br>Ranking=%{text}<extra></extra>",
           "legendgroup": "ALB",
           "marker": {
            "color": "#37bedd",
            "pattern": {
             "shape": ""
            }
           },
           "name": "ALB",
           "offsetgroup": "ALB",
           "orientation": "v",
           "showlegend": true,
           "text": [
            17
           ],
           "textposition": "auto",
           "type": "bar",
           "x": [
            "ALB"
           ],
           "xaxis": "x",
           "y": [
            0
           ],
           "yaxis": "y"
          },
          {
           "alignmentgroup": "True",
           "hovertemplate": "Name=%{x}<br>Race=1<br>Points=%{y}<br>Ranking=%{text}<extra></extra>",
           "legendgroup": "STR",
           "marker": {
            "color": "#2d826d",
            "pattern": {
             "shape": ""
            }
           },
           "name": "STR",
           "offsetgroup": "STR",
           "orientation": "v",
           "showlegend": true,
           "text": [
            18
           ],
           "textposition": "auto",
           "type": "bar",
           "x": [
            "STR"
           ],
           "xaxis": "x",
           "y": [
            0
           ],
           "yaxis": "y"
          },
          {
           "alignmentgroup": "True",
           "hovertemplate": "Name=%{x}<br>Race=1<br>Points=%{y}<br>Ranking=%{text}<extra></extra>",
           "legendgroup": "ZHO",
           "marker": {
            "color": "#b12039",
            "pattern": {
             "shape": ""
            }
           },
           "name": "ZHO",
           "offsetgroup": "ZHO",
           "orientation": "v",
           "showlegend": true,
           "text": [
            10
           ],
           "textposition": "auto",
           "type": "bar",
           "x": [
            "ZHO"
           ],
           "xaxis": "x",
           "y": [
            1
           ],
           "yaxis": "y"
          },
          {
           "alignmentgroup": "True",
           "hovertemplate": "Name=%{x}<br>Race=1<br>Points=%{y}<br>Ranking=%{text}<extra></extra>",
           "legendgroup": "LAT",
           "marker": {
            "color": "#37bedd",
            "pattern": {
             "shape": ""
            }
           },
           "name": "LAT",
           "offsetgroup": "LAT",
           "orientation": "v",
           "showlegend": true,
           "text": [
            19
           ],
           "textposition": "auto",
           "type": "bar",
           "x": [
            "LAT"
           ],
           "xaxis": "x",
           "y": [
            0
           ],
           "yaxis": "y"
          },
          {
           "alignmentgroup": "True",
           "hovertemplate": "Name=%{x}<br>Race=1<br>Points=%{y}<br>Ranking=%{text}<extra></extra>",
           "legendgroup": "HUL",
           "marker": {
            "color": "#2d826d",
            "pattern": {
             "shape": ""
            }
           },
           "name": "HUL",
           "offsetgroup": "HUL",
           "orientation": "v",
           "showlegend": true,
           "text": [
            20
           ],
           "textposition": "auto",
           "type": "bar",
           "x": [
            "HUL"
           ],
           "xaxis": "x",
           "y": [
            0
           ],
           "yaxis": "y"
          },
          {
           "alignmentgroup": "True",
           "hovertemplate": "Name=%{x}<br>Race=1<br>Points=%{y}<br>Ranking=%{text}<extra></extra>",
           "legendgroup": "MSC",
           "marker": {
            "color": "#b6babd",
            "pattern": {
             "shape": ""
            }
           },
           "name": "MSC",
           "offsetgroup": "MSC",
           "orientation": "v",
           "showlegend": true,
           "text": [
            21
           ],
           "textposition": "auto",
           "type": "bar",
           "x": [
            "MSC"
           ],
           "xaxis": "x",
           "y": [
            0
           ],
           "yaxis": "y"
          }
         ],
         "name": "1"
        },
        {
         "data": [
          {
           "alignmentgroup": "True",
           "hovertemplate": "Name=%{x}<br>Race=2<br>Points=%{y}<br>Ranking=%{text}<extra></extra>",
           "legendgroup": "VER",
           "marker": {
            "color": "#1e5bc6",
            "pattern": {
             "shape": ""
            }
           },
           "name": "VER",
           "offsetgroup": "VER",
           "orientation": "v",
           "showlegend": true,
           "text": [
            3
           ],
           "textposition": "auto",
           "type": "bar",
           "x": [
            "VER"
           ],
           "xaxis": "x",
           "y": [
            25
           ],
           "yaxis": "y"
          },
          {
           "alignmentgroup": "True",
           "hovertemplate": "Name=%{x}<br>Race=2<br>Points=%{y}<br>Ranking=%{text}<extra></extra>",
           "legendgroup": "LEC",
           "marker": {
            "color": "#ed1c24",
            "pattern": {
             "shape": ""
            }
           },
           "name": "LEC",
           "offsetgroup": "LEC",
           "orientation": "v",
           "showlegend": true,
           "text": [
            1
           ],
           "textposition": "auto",
           "type": "bar",
           "x": [
            "LEC"
           ],
           "xaxis": "x",
           "y": [
            45
           ],
           "yaxis": "y"
          },
          {
           "alignmentgroup": "True",
           "hovertemplate": "Name=%{x}<br>Race=2<br>Points=%{y}<br>Ranking=%{text}<extra></extra>",
           "legendgroup": "PER",
           "marker": {
            "color": "#1e5bc6",
            "pattern": {
             "shape": ""
            }
           },
           "name": "PER",
           "offsetgroup": "PER",
           "orientation": "v",
           "showlegend": true,
           "text": [
            7
           ],
           "textposition": "auto",
           "type": "bar",
           "x": [
            "PER"
           ],
           "xaxis": "x",
           "y": [
            12
           ],
           "yaxis": "y"
          },
          {
           "alignmentgroup": "True",
           "hovertemplate": "Name=%{x}<br>Race=2<br>Points=%{y}<br>Ranking=%{text}<extra></extra>",
           "legendgroup": "RUS",
           "marker": {
            "color": "#6cd3bf",
            "pattern": {
             "shape": ""
            }
           },
           "name": "RUS",
           "offsetgroup": "RUS",
           "orientation": "v",
           "showlegend": true,
           "text": [
            4
           ],
           "textposition": "auto",
           "type": "bar",
           "x": [
            "RUS"
           ],
           "xaxis": "x",
           "y": [
            22
           ],
           "yaxis": "y"
          },
          {
           "alignmentgroup": "True",
           "hovertemplate": "Name=%{x}<br>Race=2<br>Points=%{y}<br>Ranking=%{text}<extra></extra>",
           "legendgroup": "SAI",
           "marker": {
            "color": "#ed1c24",
            "pattern": {
             "shape": ""
            }
           },
           "name": "SAI",
           "offsetgroup": "SAI",
           "orientation": "v",
           "showlegend": true,
           "text": [
            2
           ],
           "textposition": "auto",
           "type": "bar",
           "x": [
            "SAI"
           ],
           "xaxis": "x",
           "y": [
            33
           ],
           "yaxis": "y"
          },
          {
           "alignmentgroup": "True",
           "hovertemplate": "Name=%{x}<br>Race=2<br>Points=%{y}<br>Ranking=%{text}<extra></extra>",
           "legendgroup": "HAM",
           "marker": {
            "color": "#6cd3bf",
            "pattern": {
             "shape": ""
            }
           },
           "name": "HAM",
           "offsetgroup": "HAM",
           "orientation": "v",
           "showlegend": true,
           "text": [
            5
           ],
           "textposition": "auto",
           "type": "bar",
           "x": [
            "HAM"
           ],
           "xaxis": "x",
           "y": [
            16
           ],
           "yaxis": "y"
          },
          {
           "alignmentgroup": "True",
           "hovertemplate": "Name=%{x}<br>Race=2<br>Points=%{y}<br>Ranking=%{text}<extra></extra>",
           "legendgroup": "NOR",
           "marker": {
            "color": "#f58020",
            "pattern": {
             "shape": ""
            }
           },
           "name": "NOR",
           "offsetgroup": "NOR",
           "orientation": "v",
           "showlegend": true,
           "text": [
            10
           ],
           "textposition": "auto",
           "type": "bar",
           "x": [
            "NOR"
           ],
           "xaxis": "x",
           "y": [
            6
           ],
           "yaxis": "y"
          },
          {
           "alignmentgroup": "True",
           "hovertemplate": "Name=%{x}<br>Race=2<br>Points=%{y}<br>Ranking=%{text}<extra></extra>",
           "legendgroup": "BOT",
           "marker": {
            "color": "#b12039",
            "pattern": {
             "shape": ""
            }
           },
           "name": "BOT",
           "offsetgroup": "BOT",
           "orientation": "v",
           "showlegend": true,
           "text": [
            9
           ],
           "textposition": "auto",
           "type": "bar",
           "x": [
            "BOT"
           ],
           "xaxis": "x",
           "y": [
            8
           ],
           "yaxis": "y"
          },
          {
           "alignmentgroup": "True",
           "hovertemplate": "Name=%{x}<br>Race=2<br>Points=%{y}<br>Ranking=%{text}<extra></extra>",
           "legendgroup": "OCO",
           "marker": {
            "color": "#2293d1",
            "pattern": {
             "shape": ""
            }
           },
           "name": "OCO",
           "offsetgroup": "OCO",
           "orientation": "v",
           "showlegend": true,
           "text": [
            6
           ],
           "textposition": "auto",
           "type": "bar",
           "x": [
            "OCO"
           ],
           "xaxis": "x",
           "y": [
            14
           ],
           "yaxis": "y"
          },
          {
           "alignmentgroup": "True",
           "hovertemplate": "Name=%{x}<br>Race=2<br>Points=%{y}<br>Ranking=%{text}<extra></extra>",
           "legendgroup": "MAG",
           "marker": {
            "color": "#b6babd",
            "pattern": {
             "shape": ""
            }
           },
           "name": "MAG",
           "offsetgroup": "MAG",
           "orientation": "v",
           "showlegend": true,
           "text": [
            8
           ],
           "textposition": "auto",
           "type": "bar",
           "x": [
            "MAG"
           ],
           "xaxis": "x",
           "y": [
            12
           ],
           "yaxis": "y"
          },
          {
           "alignmentgroup": "True",
           "hovertemplate": "Name=%{x}<br>Race=2<br>Points=%{y}<br>Ranking=%{text}<extra></extra>",
           "legendgroup": "TSU",
           "marker": {
            "color": "#4e7c9b",
            "pattern": {
             "shape": ""
            }
           },
           "name": "TSU",
           "offsetgroup": "TSU",
           "orientation": "v",
           "showlegend": true,
           "text": [
            11
           ],
           "textposition": "auto",
           "type": "bar",
           "x": [
            "TSU"
           ],
           "xaxis": "x",
           "y": [
            4
           ],
           "yaxis": "y"
          },
          {
           "alignmentgroup": "True",
           "hovertemplate": "Name=%{x}<br>Race=2<br>Points=%{y}<br>Ranking=%{text}<extra></extra>",
           "legendgroup": "RIC",
           "marker": {
            "color": "#f58020",
            "pattern": {
             "shape": ""
            }
           },
           "name": "RIC",
           "offsetgroup": "RIC",
           "orientation": "v",
           "showlegend": true,
           "text": [
            15
           ],
           "textposition": "auto",
           "type": "bar",
           "x": [
            "RIC"
           ],
           "xaxis": "x",
           "y": [
            0
           ],
           "yaxis": "y"
          },
          {
           "alignmentgroup": "True",
           "hovertemplate": "Name=%{x}<br>Race=2<br>Points=%{y}<br>Ranking=%{text}<extra></extra>",
           "legendgroup": "ALO",
           "marker": {
            "color": "#2293d1",
            "pattern": {
             "shape": ""
            }
           },
           "name": "ALO",
           "offsetgroup": "ALO",
           "orientation": "v",
           "showlegend": true,
           "text": [
            13
           ],
           "textposition": "auto",
           "type": "bar",
           "x": [
            "ALO"
           ],
           "xaxis": "x",
           "y": [
            2
           ],
           "yaxis": "y"
          },
          {
           "alignmentgroup": "True",
           "hovertemplate": "Name=%{x}<br>Race=2<br>Points=%{y}<br>Ranking=%{text}<extra></extra>",
           "legendgroup": "GAS",
           "marker": {
            "color": "#4e7c9b",
            "pattern": {
             "shape": ""
            }
           },
           "name": "GAS",
           "offsetgroup": "GAS",
           "orientation": "v",
           "showlegend": true,
           "text": [
            12
           ],
           "textposition": "auto",
           "type": "bar",
           "x": [
            "GAS"
           ],
           "xaxis": "x",
           "y": [
            4
           ],
           "yaxis": "y"
          },
          {
           "alignmentgroup": "True",
           "hovertemplate": "Name=%{x}<br>Race=2<br>Points=%{y}<br>Ranking=%{text}<extra></extra>",
           "legendgroup": "VET",
           "marker": {
            "color": "#2d826d",
            "pattern": {
             "shape": ""
            }
           },
           "name": "VET",
           "offsetgroup": "VET",
           "orientation": "v",
           "showlegend": true,
           "text": [
            16
           ],
           "textposition": "auto",
           "type": "bar",
           "x": [
            "VET"
           ],
           "xaxis": "x",
           "y": [
            0
           ],
           "yaxis": "y"
          },
          {
           "alignmentgroup": "True",
           "hovertemplate": "Name=%{x}<br>Race=2<br>Points=%{y}<br>Ranking=%{text}<extra></extra>",
           "legendgroup": "ALB",
           "marker": {
            "color": "#37bedd",
            "pattern": {
             "shape": ""
            }
           },
           "name": "ALB",
           "offsetgroup": "ALB",
           "orientation": "v",
           "showlegend": true,
           "text": [
            17
           ],
           "textposition": "auto",
           "type": "bar",
           "x": [
            "ALB"
           ],
           "xaxis": "x",
           "y": [
            0
           ],
           "yaxis": "y"
          },
          {
           "alignmentgroup": "True",
           "hovertemplate": "Name=%{x}<br>Race=2<br>Points=%{y}<br>Ranking=%{text}<extra></extra>",
           "legendgroup": "STR",
           "marker": {
            "color": "#2d826d",
            "pattern": {
             "shape": ""
            }
           },
           "name": "STR",
           "offsetgroup": "STR",
           "orientation": "v",
           "showlegend": true,
           "text": [
            18
           ],
           "textposition": "auto",
           "type": "bar",
           "x": [
            "STR"
           ],
           "xaxis": "x",
           "y": [
            0
           ],
           "yaxis": "y"
          },
          {
           "alignmentgroup": "True",
           "hovertemplate": "Name=%{x}<br>Race=2<br>Points=%{y}<br>Ranking=%{text}<extra></extra>",
           "legendgroup": "ZHO",
           "marker": {
            "color": "#b12039",
            "pattern": {
             "shape": ""
            }
           },
           "name": "ZHO",
           "offsetgroup": "ZHO",
           "orientation": "v",
           "showlegend": true,
           "text": [
            14
           ],
           "textposition": "auto",
           "type": "bar",
           "x": [
            "ZHO"
           ],
           "xaxis": "x",
           "y": [
            1
           ],
           "yaxis": "y"
          },
          {
           "alignmentgroup": "True",
           "hovertemplate": "Name=%{x}<br>Race=2<br>Points=%{y}<br>Ranking=%{text}<extra></extra>",
           "legendgroup": "LAT",
           "marker": {
            "color": "#37bedd",
            "pattern": {
             "shape": ""
            }
           },
           "name": "LAT",
           "offsetgroup": "LAT",
           "orientation": "v",
           "showlegend": true,
           "text": [
            19
           ],
           "textposition": "auto",
           "type": "bar",
           "x": [
            "LAT"
           ],
           "xaxis": "x",
           "y": [
            0
           ],
           "yaxis": "y"
          },
          {
           "alignmentgroup": "True",
           "hovertemplate": "Name=%{x}<br>Race=2<br>Points=%{y}<br>Ranking=%{text}<extra></extra>",
           "legendgroup": "HUL",
           "marker": {
            "color": "#2d826d",
            "pattern": {
             "shape": ""
            }
           },
           "name": "HUL",
           "offsetgroup": "HUL",
           "orientation": "v",
           "showlegend": true,
           "text": [
            20
           ],
           "textposition": "auto",
           "type": "bar",
           "x": [
            "HUL"
           ],
           "xaxis": "x",
           "y": [
            0
           ],
           "yaxis": "y"
          },
          {
           "alignmentgroup": "True",
           "hovertemplate": "Name=%{x}<br>Race=2<br>Points=%{y}<br>Ranking=%{text}<extra></extra>",
           "legendgroup": "MSC",
           "marker": {
            "color": "#b6babd",
            "pattern": {
             "shape": ""
            }
           },
           "name": "MSC",
           "offsetgroup": "MSC",
           "orientation": "v",
           "showlegend": true,
           "text": [
            21
           ],
           "textposition": "auto",
           "type": "bar",
           "x": [
            "MSC"
           ],
           "xaxis": "x",
           "y": [
            0
           ],
           "yaxis": "y"
          }
         ],
         "name": "2"
        },
        {
         "data": [
          {
           "alignmentgroup": "True",
           "hovertemplate": "Name=%{x}<br>Race=3<br>Points=%{y}<br>Ranking=%{text}<extra></extra>",
           "legendgroup": "VER",
           "marker": {
            "color": "#1e5bc6",
            "pattern": {
             "shape": ""
            }
           },
           "name": "VER",
           "offsetgroup": "VER",
           "orientation": "v",
           "showlegend": true,
           "text": [
            6
           ],
           "textposition": "auto",
           "type": "bar",
           "x": [
            "VER"
           ],
           "xaxis": "x",
           "y": [
            25
           ],
           "yaxis": "y"
          },
          {
           "alignmentgroup": "True",
           "hovertemplate": "Name=%{x}<br>Race=3<br>Points=%{y}<br>Ranking=%{text}<extra></extra>",
           "legendgroup": "LEC",
           "marker": {
            "color": "#ed1c24",
            "pattern": {
             "shape": ""
            }
           },
           "name": "LEC",
           "offsetgroup": "LEC",
           "orientation": "v",
           "showlegend": true,
           "text": [
            1
           ],
           "textposition": "auto",
           "type": "bar",
           "x": [
            "LEC"
           ],
           "xaxis": "x",
           "y": [
            71
           ],
           "yaxis": "y"
          },
          {
           "alignmentgroup": "True",
           "hovertemplate": "Name=%{x}<br>Race=3<br>Points=%{y}<br>Ranking=%{text}<extra></extra>",
           "legendgroup": "PER",
           "marker": {
            "color": "#1e5bc6",
            "pattern": {
             "shape": ""
            }
           },
           "name": "PER",
           "offsetgroup": "PER",
           "orientation": "v",
           "showlegend": true,
           "text": [
            4
           ],
           "textposition": "auto",
           "type": "bar",
           "x": [
            "PER"
           ],
           "xaxis": "x",
           "y": [
            30
           ],
           "yaxis": "y"
          },
          {
           "alignmentgroup": "True",
           "hovertemplate": "Name=%{x}<br>Race=3<br>Points=%{y}<br>Ranking=%{text}<extra></extra>",
           "legendgroup": "RUS",
           "marker": {
            "color": "#6cd3bf",
            "pattern": {
             "shape": ""
            }
           },
           "name": "RUS",
           "offsetgroup": "RUS",
           "orientation": "v",
           "showlegend": true,
           "text": [
            2
           ],
           "textposition": "auto",
           "type": "bar",
           "x": [
            "RUS"
           ],
           "xaxis": "x",
           "y": [
            37
           ],
           "yaxis": "y"
          },
          {
           "alignmentgroup": "True",
           "hovertemplate": "Name=%{x}<br>Race=3<br>Points=%{y}<br>Ranking=%{text}<extra></extra>",
           "legendgroup": "SAI",
           "marker": {
            "color": "#ed1c24",
            "pattern": {
             "shape": ""
            }
           },
           "name": "SAI",
           "offsetgroup": "SAI",
           "orientation": "v",
           "showlegend": true,
           "text": [
            3
           ],
           "textposition": "auto",
           "type": "bar",
           "x": [
            "SAI"
           ],
           "xaxis": "x",
           "y": [
            33
           ],
           "yaxis": "y"
          },
          {
           "alignmentgroup": "True",
           "hovertemplate": "Name=%{x}<br>Race=3<br>Points=%{y}<br>Ranking=%{text}<extra></extra>",
           "legendgroup": "HAM",
           "marker": {
            "color": "#6cd3bf",
            "pattern": {
             "shape": ""
            }
           },
           "name": "HAM",
           "offsetgroup": "HAM",
           "orientation": "v",
           "showlegend": true,
           "text": [
            5
           ],
           "textposition": "auto",
           "type": "bar",
           "x": [
            "HAM"
           ],
           "xaxis": "x",
           "y": [
            28
           ],
           "yaxis": "y"
          },
          {
           "alignmentgroup": "True",
           "hovertemplate": "Name=%{x}<br>Race=3<br>Points=%{y}<br>Ranking=%{text}<extra></extra>",
           "legendgroup": "NOR",
           "marker": {
            "color": "#f58020",
            "pattern": {
             "shape": ""
            }
           },
           "name": "NOR",
           "offsetgroup": "NOR",
           "orientation": "v",
           "showlegend": true,
           "text": [
            8
           ],
           "textposition": "auto",
           "type": "bar",
           "x": [
            "NOR"
           ],
           "xaxis": "x",
           "y": [
            16
           ],
           "yaxis": "y"
          },
          {
           "alignmentgroup": "True",
           "hovertemplate": "Name=%{x}<br>Race=3<br>Points=%{y}<br>Ranking=%{text}<extra></extra>",
           "legendgroup": "BOT",
           "marker": {
            "color": "#b12039",
            "pattern": {
             "shape": ""
            }
           },
           "name": "BOT",
           "offsetgroup": "BOT",
           "orientation": "v",
           "showlegend": true,
           "text": [
            9
           ],
           "textposition": "auto",
           "type": "bar",
           "x": [
            "BOT"
           ],
           "xaxis": "x",
           "y": [
            12
           ],
           "yaxis": "y"
          },
          {
           "alignmentgroup": "True",
           "hovertemplate": "Name=%{x}<br>Race=3<br>Points=%{y}<br>Ranking=%{text}<extra></extra>",
           "legendgroup": "OCO",
           "marker": {
            "color": "#2293d1",
            "pattern": {
             "shape": ""
            }
           },
           "name": "OCO",
           "offsetgroup": "OCO",
           "orientation": "v",
           "showlegend": true,
           "text": [
            7
           ],
           "textposition": "auto",
           "type": "bar",
           "x": [
            "OCO"
           ],
           "xaxis": "x",
           "y": [
            20
           ],
           "yaxis": "y"
          },
          {
           "alignmentgroup": "True",
           "hovertemplate": "Name=%{x}<br>Race=3<br>Points=%{y}<br>Ranking=%{text}<extra></extra>",
           "legendgroup": "MAG",
           "marker": {
            "color": "#b6babd",
            "pattern": {
             "shape": ""
            }
           },
           "name": "MAG",
           "offsetgroup": "MAG",
           "orientation": "v",
           "showlegend": true,
           "text": [
            10
           ],
           "textposition": "auto",
           "type": "bar",
           "x": [
            "MAG"
           ],
           "xaxis": "x",
           "y": [
            12
           ],
           "yaxis": "y"
          },
          {
           "alignmentgroup": "True",
           "hovertemplate": "Name=%{x}<br>Race=3<br>Points=%{y}<br>Ranking=%{text}<extra></extra>",
           "legendgroup": "TSU",
           "marker": {
            "color": "#4e7c9b",
            "pattern": {
             "shape": ""
            }
           },
           "name": "TSU",
           "offsetgroup": "TSU",
           "orientation": "v",
           "showlegend": true,
           "text": [
            13
           ],
           "textposition": "auto",
           "type": "bar",
           "x": [
            "TSU"
           ],
           "xaxis": "x",
           "y": [
            4
           ],
           "yaxis": "y"
          },
          {
           "alignmentgroup": "True",
           "hovertemplate": "Name=%{x}<br>Race=3<br>Points=%{y}<br>Ranking=%{text}<extra></extra>",
           "legendgroup": "RIC",
           "marker": {
            "color": "#f58020",
            "pattern": {
             "shape": ""
            }
           },
           "name": "RIC",
           "offsetgroup": "RIC",
           "orientation": "v",
           "showlegend": true,
           "text": [
            11
           ],
           "textposition": "auto",
           "type": "bar",
           "x": [
            "RIC"
           ],
           "xaxis": "x",
           "y": [
            8
           ],
           "yaxis": "y"
          },
          {
           "alignmentgroup": "True",
           "hovertemplate": "Name=%{x}<br>Race=3<br>Points=%{y}<br>Ranking=%{text}<extra></extra>",
           "legendgroup": "ALO",
           "marker": {
            "color": "#2293d1",
            "pattern": {
             "shape": ""
            }
           },
           "name": "ALO",
           "offsetgroup": "ALO",
           "orientation": "v",
           "showlegend": true,
           "text": [
            14
           ],
           "textposition": "auto",
           "type": "bar",
           "x": [
            "ALO"
           ],
           "xaxis": "x",
           "y": [
            2
           ],
           "yaxis": "y"
          },
          {
           "alignmentgroup": "True",
           "hovertemplate": "Name=%{x}<br>Race=3<br>Points=%{y}<br>Ranking=%{text}<extra></extra>",
           "legendgroup": "GAS",
           "marker": {
            "color": "#4e7c9b",
            "pattern": {
             "shape": ""
            }
           },
           "name": "GAS",
           "offsetgroup": "GAS",
           "orientation": "v",
           "showlegend": true,
           "text": [
            12
           ],
           "textposition": "auto",
           "type": "bar",
           "x": [
            "GAS"
           ],
           "xaxis": "x",
           "y": [
            6
           ],
           "yaxis": "y"
          },
          {
           "alignmentgroup": "True",
           "hovertemplate": "Name=%{x}<br>Race=3<br>Points=%{y}<br>Ranking=%{text}<extra></extra>",
           "legendgroup": "VET",
           "marker": {
            "color": "#2d826d",
            "pattern": {
             "shape": ""
            }
           },
           "name": "VET",
           "offsetgroup": "VET",
           "orientation": "v",
           "showlegend": true,
           "text": [
            17
           ],
           "textposition": "auto",
           "type": "bar",
           "x": [
            "VET"
           ],
           "xaxis": "x",
           "y": [
            0
           ],
           "yaxis": "y"
          },
          {
           "alignmentgroup": "True",
           "hovertemplate": "Name=%{x}<br>Race=3<br>Points=%{y}<br>Ranking=%{text}<extra></extra>",
           "legendgroup": "ALB",
           "marker": {
            "color": "#37bedd",
            "pattern": {
             "shape": ""
            }
           },
           "name": "ALB",
           "offsetgroup": "ALB",
           "orientation": "v",
           "showlegend": true,
           "text": [
            15
           ],
           "textposition": "auto",
           "type": "bar",
           "x": [
            "ALB"
           ],
           "xaxis": "x",
           "y": [
            1
           ],
           "yaxis": "y"
          },
          {
           "alignmentgroup": "True",
           "hovertemplate": "Name=%{x}<br>Race=3<br>Points=%{y}<br>Ranking=%{text}<extra></extra>",
           "legendgroup": "STR",
           "marker": {
            "color": "#2d826d",
            "pattern": {
             "shape": ""
            }
           },
           "name": "STR",
           "offsetgroup": "STR",
           "orientation": "v",
           "showlegend": true,
           "text": [
            18
           ],
           "textposition": "auto",
           "type": "bar",
           "x": [
            "STR"
           ],
           "xaxis": "x",
           "y": [
            0
           ],
           "yaxis": "y"
          },
          {
           "alignmentgroup": "True",
           "hovertemplate": "Name=%{x}<br>Race=3<br>Points=%{y}<br>Ranking=%{text}<extra></extra>",
           "legendgroup": "ZHO",
           "marker": {
            "color": "#b12039",
            "pattern": {
             "shape": ""
            }
           },
           "name": "ZHO",
           "offsetgroup": "ZHO",
           "orientation": "v",
           "showlegend": true,
           "text": [
            16
           ],
           "textposition": "auto",
           "type": "bar",
           "x": [
            "ZHO"
           ],
           "xaxis": "x",
           "y": [
            1
           ],
           "yaxis": "y"
          },
          {
           "alignmentgroup": "True",
           "hovertemplate": "Name=%{x}<br>Race=3<br>Points=%{y}<br>Ranking=%{text}<extra></extra>",
           "legendgroup": "LAT",
           "marker": {
            "color": "#37bedd",
            "pattern": {
             "shape": ""
            }
           },
           "name": "LAT",
           "offsetgroup": "LAT",
           "orientation": "v",
           "showlegend": true,
           "text": [
            19
           ],
           "textposition": "auto",
           "type": "bar",
           "x": [
            "LAT"
           ],
           "xaxis": "x",
           "y": [
            0
           ],
           "yaxis": "y"
          },
          {
           "alignmentgroup": "True",
           "hovertemplate": "Name=%{x}<br>Race=3<br>Points=%{y}<br>Ranking=%{text}<extra></extra>",
           "legendgroup": "HUL",
           "marker": {
            "color": "#2d826d",
            "pattern": {
             "shape": ""
            }
           },
           "name": "HUL",
           "offsetgroup": "HUL",
           "orientation": "v",
           "showlegend": true,
           "text": [
            20
           ],
           "textposition": "auto",
           "type": "bar",
           "x": [
            "HUL"
           ],
           "xaxis": "x",
           "y": [
            0
           ],
           "yaxis": "y"
          },
          {
           "alignmentgroup": "True",
           "hovertemplate": "Name=%{x}<br>Race=3<br>Points=%{y}<br>Ranking=%{text}<extra></extra>",
           "legendgroup": "MSC",
           "marker": {
            "color": "#b6babd",
            "pattern": {
             "shape": ""
            }
           },
           "name": "MSC",
           "offsetgroup": "MSC",
           "orientation": "v",
           "showlegend": true,
           "text": [
            21
           ],
           "textposition": "auto",
           "type": "bar",
           "x": [
            "MSC"
           ],
           "xaxis": "x",
           "y": [
            0
           ],
           "yaxis": "y"
          }
         ],
         "name": "3"
        },
        {
         "data": [
          {
           "alignmentgroup": "True",
           "hovertemplate": "Name=%{x}<br>Race=4<br>Points=%{y}<br>Ranking=%{text}<extra></extra>",
           "legendgroup": "VER",
           "marker": {
            "color": "#1e5bc6",
            "pattern": {
             "shape": ""
            }
           },
           "name": "VER",
           "offsetgroup": "VER",
           "orientation": "v",
           "showlegend": true,
           "text": [
            2
           ],
           "textposition": "auto",
           "type": "bar",
           "x": [
            "VER"
           ],
           "xaxis": "x",
           "y": [
            59
           ],
           "yaxis": "y"
          },
          {
           "alignmentgroup": "True",
           "hovertemplate": "Name=%{x}<br>Race=4<br>Points=%{y}<br>Ranking=%{text}<extra></extra>",
           "legendgroup": "LEC",
           "marker": {
            "color": "#ed1c24",
            "pattern": {
             "shape": ""
            }
           },
           "name": "LEC",
           "offsetgroup": "LEC",
           "orientation": "v",
           "showlegend": true,
           "text": [
            1
           ],
           "textposition": "auto",
           "type": "bar",
           "x": [
            "LEC"
           ],
           "xaxis": "x",
           "y": [
            86
           ],
           "yaxis": "y"
          },
          {
           "alignmentgroup": "True",
           "hovertemplate": "Name=%{x}<br>Race=4<br>Points=%{y}<br>Ranking=%{text}<extra></extra>",
           "legendgroup": "PER",
           "marker": {
            "color": "#1e5bc6",
            "pattern": {
             "shape": ""
            }
           },
           "name": "PER",
           "offsetgroup": "PER",
           "orientation": "v",
           "showlegend": true,
           "text": [
            3
           ],
           "textposition": "auto",
           "type": "bar",
           "x": [
            "PER"
           ],
           "xaxis": "x",
           "y": [
            54
           ],
           "yaxis": "y"
          },
          {
           "alignmentgroup": "True",
           "hovertemplate": "Name=%{x}<br>Race=4<br>Points=%{y}<br>Ranking=%{text}<extra></extra>",
           "legendgroup": "RUS",
           "marker": {
            "color": "#6cd3bf",
            "pattern": {
             "shape": ""
            }
           },
           "name": "RUS",
           "offsetgroup": "RUS",
           "orientation": "v",
           "showlegend": true,
           "text": [
            4
           ],
           "textposition": "auto",
           "type": "bar",
           "x": [
            "RUS"
           ],
           "xaxis": "x",
           "y": [
            49
           ],
           "yaxis": "y"
          },
          {
           "alignmentgroup": "True",
           "hovertemplate": "Name=%{x}<br>Race=4<br>Points=%{y}<br>Ranking=%{text}<extra></extra>",
           "legendgroup": "SAI",
           "marker": {
            "color": "#ed1c24",
            "pattern": {
             "shape": ""
            }
           },
           "name": "SAI",
           "offsetgroup": "SAI",
           "orientation": "v",
           "showlegend": true,
           "text": [
            5
           ],
           "textposition": "auto",
           "type": "bar",
           "x": [
            "SAI"
           ],
           "xaxis": "x",
           "y": [
            38
           ],
           "yaxis": "y"
          },
          {
           "alignmentgroup": "True",
           "hovertemplate": "Name=%{x}<br>Race=4<br>Points=%{y}<br>Ranking=%{text}<extra></extra>",
           "legendgroup": "HAM",
           "marker": {
            "color": "#6cd3bf",
            "pattern": {
             "shape": ""
            }
           },
           "name": "HAM",
           "offsetgroup": "HAM",
           "orientation": "v",
           "showlegend": true,
           "text": [
            7
           ],
           "textposition": "auto",
           "type": "bar",
           "x": [
            "HAM"
           ],
           "xaxis": "x",
           "y": [
            28
           ],
           "yaxis": "y"
          },
          {
           "alignmentgroup": "True",
           "hovertemplate": "Name=%{x}<br>Race=4<br>Points=%{y}<br>Ranking=%{text}<extra></extra>",
           "legendgroup": "NOR",
           "marker": {
            "color": "#f58020",
            "pattern": {
             "shape": ""
            }
           },
           "name": "NOR",
           "offsetgroup": "NOR",
           "orientation": "v",
           "showlegend": true,
           "text": [
            6
           ],
           "textposition": "auto",
           "type": "bar",
           "x": [
            "NOR"
           ],
           "xaxis": "x",
           "y": [
            35
           ],
           "yaxis": "y"
          },
          {
           "alignmentgroup": "True",
           "hovertemplate": "Name=%{x}<br>Race=4<br>Points=%{y}<br>Ranking=%{text}<extra></extra>",
           "legendgroup": "BOT",
           "marker": {
            "color": "#b12039",
            "pattern": {
             "shape": ""
            }
           },
           "name": "BOT",
           "offsetgroup": "BOT",
           "orientation": "v",
           "showlegend": true,
           "text": [
            8
           ],
           "textposition": "auto",
           "type": "bar",
           "x": [
            "BOT"
           ],
           "xaxis": "x",
           "y": [
            24
           ],
           "yaxis": "y"
          },
          {
           "alignmentgroup": "True",
           "hovertemplate": "Name=%{x}<br>Race=4<br>Points=%{y}<br>Ranking=%{text}<extra></extra>",
           "legendgroup": "OCO",
           "marker": {
            "color": "#2293d1",
            "pattern": {
             "shape": ""
            }
           },
           "name": "OCO",
           "offsetgroup": "OCO",
           "orientation": "v",
           "showlegend": true,
           "text": [
            9
           ],
           "textposition": "auto",
           "type": "bar",
           "x": [
            "OCO"
           ],
           "xaxis": "x",
           "y": [
            20
           ],
           "yaxis": "y"
          },
          {
           "alignmentgroup": "True",
           "hovertemplate": "Name=%{x}<br>Race=4<br>Points=%{y}<br>Ranking=%{text}<extra></extra>",
           "legendgroup": "MAG",
           "marker": {
            "color": "#b6babd",
            "pattern": {
             "shape": ""
            }
           },
           "name": "MAG",
           "offsetgroup": "MAG",
           "orientation": "v",
           "showlegend": true,
           "text": [
            10
           ],
           "textposition": "auto",
           "type": "bar",
           "x": [
            "MAG"
           ],
           "xaxis": "x",
           "y": [
            15
           ],
           "yaxis": "y"
          },
          {
           "alignmentgroup": "True",
           "hovertemplate": "Name=%{x}<br>Race=4<br>Points=%{y}<br>Ranking=%{text}<extra></extra>",
           "legendgroup": "TSU",
           "marker": {
            "color": "#4e7c9b",
            "pattern": {
             "shape": ""
            }
           },
           "name": "TSU",
           "offsetgroup": "TSU",
           "orientation": "v",
           "showlegend": true,
           "text": [
            12
           ],
           "textposition": "auto",
           "type": "bar",
           "x": [
            "TSU"
           ],
           "xaxis": "x",
           "y": [
            10
           ],
           "yaxis": "y"
          },
          {
           "alignmentgroup": "True",
           "hovertemplate": "Name=%{x}<br>Race=4<br>Points=%{y}<br>Ranking=%{text}<extra></extra>",
           "legendgroup": "RIC",
           "marker": {
            "color": "#f58020",
            "pattern": {
             "shape": ""
            }
           },
           "name": "RIC",
           "offsetgroup": "RIC",
           "orientation": "v",
           "showlegend": true,
           "text": [
            11
           ],
           "textposition": "auto",
           "type": "bar",
           "x": [
            "RIC"
           ],
           "xaxis": "x",
           "y": [
            11
           ],
           "yaxis": "y"
          },
          {
           "alignmentgroup": "True",
           "hovertemplate": "Name=%{x}<br>Race=4<br>Points=%{y}<br>Ranking=%{text}<extra></extra>",
           "legendgroup": "ALO",
           "marker": {
            "color": "#2293d1",
            "pattern": {
             "shape": ""
            }
           },
           "name": "ALO",
           "offsetgroup": "ALO",
           "orientation": "v",
           "showlegend": true,
           "text": [
            15
           ],
           "textposition": "auto",
           "type": "bar",
           "x": [
            "ALO"
           ],
           "xaxis": "x",
           "y": [
            2
           ],
           "yaxis": "y"
          },
          {
           "alignmentgroup": "True",
           "hovertemplate": "Name=%{x}<br>Race=4<br>Points=%{y}<br>Ranking=%{text}<extra></extra>",
           "legendgroup": "GAS",
           "marker": {
            "color": "#4e7c9b",
            "pattern": {
             "shape": ""
            }
           },
           "name": "GAS",
           "offsetgroup": "GAS",
           "orientation": "v",
           "showlegend": true,
           "text": [
            13
           ],
           "textposition": "auto",
           "type": "bar",
           "x": [
            "GAS"
           ],
           "xaxis": "x",
           "y": [
            6
           ],
           "yaxis": "y"
          },
          {
           "alignmentgroup": "True",
           "hovertemplate": "Name=%{x}<br>Race=4<br>Points=%{y}<br>Ranking=%{text}<extra></extra>",
           "legendgroup": "VET",
           "marker": {
            "color": "#2d826d",
            "pattern": {
             "shape": ""
            }
           },
           "name": "VET",
           "offsetgroup": "VET",
           "orientation": "v",
           "showlegend": true,
           "text": [
            14
           ],
           "textposition": "auto",
           "type": "bar",
           "x": [
            "VET"
           ],
           "xaxis": "x",
           "y": [
            4
           ],
           "yaxis": "y"
          },
          {
           "alignmentgroup": "True",
           "hovertemplate": "Name=%{x}<br>Race=4<br>Points=%{y}<br>Ranking=%{text}<extra></extra>",
           "legendgroup": "ALB",
           "marker": {
            "color": "#37bedd",
            "pattern": {
             "shape": ""
            }
           },
           "name": "ALB",
           "offsetgroup": "ALB",
           "orientation": "v",
           "showlegend": true,
           "text": [
            16
           ],
           "textposition": "auto",
           "type": "bar",
           "x": [
            "ALB"
           ],
           "xaxis": "x",
           "y": [
            1
           ],
           "yaxis": "y"
          },
          {
           "alignmentgroup": "True",
           "hovertemplate": "Name=%{x}<br>Race=4<br>Points=%{y}<br>Ranking=%{text}<extra></extra>",
           "legendgroup": "STR",
           "marker": {
            "color": "#2d826d",
            "pattern": {
             "shape": ""
            }
           },
           "name": "STR",
           "offsetgroup": "STR",
           "orientation": "v",
           "showlegend": true,
           "text": [
            17
           ],
           "textposition": "auto",
           "type": "bar",
           "x": [
            "STR"
           ],
           "xaxis": "x",
           "y": [
            1
           ],
           "yaxis": "y"
          },
          {
           "alignmentgroup": "True",
           "hovertemplate": "Name=%{x}<br>Race=4<br>Points=%{y}<br>Ranking=%{text}<extra></extra>",
           "legendgroup": "ZHO",
           "marker": {
            "color": "#b12039",
            "pattern": {
             "shape": ""
            }
           },
           "name": "ZHO",
           "offsetgroup": "ZHO",
           "orientation": "v",
           "showlegend": true,
           "text": [
            18
           ],
           "textposition": "auto",
           "type": "bar",
           "x": [
            "ZHO"
           ],
           "xaxis": "x",
           "y": [
            1
           ],
           "yaxis": "y"
          },
          {
           "alignmentgroup": "True",
           "hovertemplate": "Name=%{x}<br>Race=4<br>Points=%{y}<br>Ranking=%{text}<extra></extra>",
           "legendgroup": "LAT",
           "marker": {
            "color": "#37bedd",
            "pattern": {
             "shape": ""
            }
           },
           "name": "LAT",
           "offsetgroup": "LAT",
           "orientation": "v",
           "showlegend": true,
           "text": [
            19
           ],
           "textposition": "auto",
           "type": "bar",
           "x": [
            "LAT"
           ],
           "xaxis": "x",
           "y": [
            0
           ],
           "yaxis": "y"
          },
          {
           "alignmentgroup": "True",
           "hovertemplate": "Name=%{x}<br>Race=4<br>Points=%{y}<br>Ranking=%{text}<extra></extra>",
           "legendgroup": "HUL",
           "marker": {
            "color": "#2d826d",
            "pattern": {
             "shape": ""
            }
           },
           "name": "HUL",
           "offsetgroup": "HUL",
           "orientation": "v",
           "showlegend": true,
           "text": [
            20
           ],
           "textposition": "auto",
           "type": "bar",
           "x": [
            "HUL"
           ],
           "xaxis": "x",
           "y": [
            0
           ],
           "yaxis": "y"
          },
          {
           "alignmentgroup": "True",
           "hovertemplate": "Name=%{x}<br>Race=4<br>Points=%{y}<br>Ranking=%{text}<extra></extra>",
           "legendgroup": "MSC",
           "marker": {
            "color": "#b6babd",
            "pattern": {
             "shape": ""
            }
           },
           "name": "MSC",
           "offsetgroup": "MSC",
           "orientation": "v",
           "showlegend": true,
           "text": [
            21
           ],
           "textposition": "auto",
           "type": "bar",
           "x": [
            "MSC"
           ],
           "xaxis": "x",
           "y": [
            0
           ],
           "yaxis": "y"
          }
         ],
         "name": "4"
        },
        {
         "data": [
          {
           "alignmentgroup": "True",
           "hovertemplate": "Name=%{x}<br>Race=5<br>Points=%{y}<br>Ranking=%{text}<extra></extra>",
           "legendgroup": "VER",
           "marker": {
            "color": "#1e5bc6",
            "pattern": {
             "shape": ""
            }
           },
           "name": "VER",
           "offsetgroup": "VER",
           "orientation": "v",
           "showlegend": true,
           "text": [
            2
           ],
           "textposition": "auto",
           "type": "bar",
           "x": [
            "VER"
           ],
           "xaxis": "x",
           "y": [
            85
           ],
           "yaxis": "y"
          },
          {
           "alignmentgroup": "True",
           "hovertemplate": "Name=%{x}<br>Race=5<br>Points=%{y}<br>Ranking=%{text}<extra></extra>",
           "legendgroup": "LEC",
           "marker": {
            "color": "#ed1c24",
            "pattern": {
             "shape": ""
            }
           },
           "name": "LEC",
           "offsetgroup": "LEC",
           "orientation": "v",
           "showlegend": true,
           "text": [
            1
           ],
           "textposition": "auto",
           "type": "bar",
           "x": [
            "LEC"
           ],
           "xaxis": "x",
           "y": [
            104
           ],
           "yaxis": "y"
          },
          {
           "alignmentgroup": "True",
           "hovertemplate": "Name=%{x}<br>Race=5<br>Points=%{y}<br>Ranking=%{text}<extra></extra>",
           "legendgroup": "PER",
           "marker": {
            "color": "#1e5bc6",
            "pattern": {
             "shape": ""
            }
           },
           "name": "PER",
           "offsetgroup": "PER",
           "orientation": "v",
           "showlegend": true,
           "text": [
            3
           ],
           "textposition": "auto",
           "type": "bar",
           "x": [
            "PER"
           ],
           "xaxis": "x",
           "y": [
            66
           ],
           "yaxis": "y"
          },
          {
           "alignmentgroup": "True",
           "hovertemplate": "Name=%{x}<br>Race=5<br>Points=%{y}<br>Ranking=%{text}<extra></extra>",
           "legendgroup": "RUS",
           "marker": {
            "color": "#6cd3bf",
            "pattern": {
             "shape": ""
            }
           },
           "name": "RUS",
           "offsetgroup": "RUS",
           "orientation": "v",
           "showlegend": true,
           "text": [
            4
           ],
           "textposition": "auto",
           "type": "bar",
           "x": [
            "RUS"
           ],
           "xaxis": "x",
           "y": [
            59
           ],
           "yaxis": "y"
          },
          {
           "alignmentgroup": "True",
           "hovertemplate": "Name=%{x}<br>Race=5<br>Points=%{y}<br>Ranking=%{text}<extra></extra>",
           "legendgroup": "SAI",
           "marker": {
            "color": "#ed1c24",
            "pattern": {
             "shape": ""
            }
           },
           "name": "SAI",
           "offsetgroup": "SAI",
           "orientation": "v",
           "showlegend": true,
           "text": [
            5
           ],
           "textposition": "auto",
           "type": "bar",
           "x": [
            "SAI"
           ],
           "xaxis": "x",
           "y": [
            53
           ],
           "yaxis": "y"
          },
          {
           "alignmentgroup": "True",
           "hovertemplate": "Name=%{x}<br>Race=5<br>Points=%{y}<br>Ranking=%{text}<extra></extra>",
           "legendgroup": "HAM",
           "marker": {
            "color": "#6cd3bf",
            "pattern": {
             "shape": ""
            }
           },
           "name": "HAM",
           "offsetgroup": "HAM",
           "orientation": "v",
           "showlegend": true,
           "text": [
            6
           ],
           "textposition": "auto",
           "type": "bar",
           "x": [
            "HAM"
           ],
           "xaxis": "x",
           "y": [
            36
           ],
           "yaxis": "y"
          },
          {
           "alignmentgroup": "True",
           "hovertemplate": "Name=%{x}<br>Race=5<br>Points=%{y}<br>Ranking=%{text}<extra></extra>",
           "legendgroup": "NOR",
           "marker": {
            "color": "#f58020",
            "pattern": {
             "shape": ""
            }
           },
           "name": "NOR",
           "offsetgroup": "NOR",
           "orientation": "v",
           "showlegend": true,
           "text": [
            7
           ],
           "textposition": "auto",
           "type": "bar",
           "x": [
            "NOR"
           ],
           "xaxis": "x",
           "y": [
            35
           ],
           "yaxis": "y"
          },
          {
           "alignmentgroup": "True",
           "hovertemplate": "Name=%{x}<br>Race=5<br>Points=%{y}<br>Ranking=%{text}<extra></extra>",
           "legendgroup": "BOT",
           "marker": {
            "color": "#b12039",
            "pattern": {
             "shape": ""
            }
           },
           "name": "BOT",
           "offsetgroup": "BOT",
           "orientation": "v",
           "showlegend": true,
           "text": [
            8
           ],
           "textposition": "auto",
           "type": "bar",
           "x": [
            "BOT"
           ],
           "xaxis": "x",
           "y": [
            30
           ],
           "yaxis": "y"
          },
          {
           "alignmentgroup": "True",
           "hovertemplate": "Name=%{x}<br>Race=5<br>Points=%{y}<br>Ranking=%{text}<extra></extra>",
           "legendgroup": "OCO",
           "marker": {
            "color": "#2293d1",
            "pattern": {
             "shape": ""
            }
           },
           "name": "OCO",
           "offsetgroup": "OCO",
           "orientation": "v",
           "showlegend": true,
           "text": [
            9
           ],
           "textposition": "auto",
           "type": "bar",
           "x": [
            "OCO"
           ],
           "xaxis": "x",
           "y": [
            24
           ],
           "yaxis": "y"
          },
          {
           "alignmentgroup": "True",
           "hovertemplate": "Name=%{x}<br>Race=5<br>Points=%{y}<br>Ranking=%{text}<extra></extra>",
           "legendgroup": "MAG",
           "marker": {
            "color": "#b6babd",
            "pattern": {
             "shape": ""
            }
           },
           "name": "MAG",
           "offsetgroup": "MAG",
           "orientation": "v",
           "showlegend": true,
           "text": [
            10
           ],
           "textposition": "auto",
           "type": "bar",
           "x": [
            "MAG"
           ],
           "xaxis": "x",
           "y": [
            15
           ],
           "yaxis": "y"
          },
          {
           "alignmentgroup": "True",
           "hovertemplate": "Name=%{x}<br>Race=5<br>Points=%{y}<br>Ranking=%{text}<extra></extra>",
           "legendgroup": "TSU",
           "marker": {
            "color": "#4e7c9b",
            "pattern": {
             "shape": ""
            }
           },
           "name": "TSU",
           "offsetgroup": "TSU",
           "orientation": "v",
           "showlegend": true,
           "text": [
            12
           ],
           "textposition": "auto",
           "type": "bar",
           "x": [
            "TSU"
           ],
           "xaxis": "x",
           "y": [
            10
           ],
           "yaxis": "y"
          },
          {
           "alignmentgroup": "True",
           "hovertemplate": "Name=%{x}<br>Race=5<br>Points=%{y}<br>Ranking=%{text}<extra></extra>",
           "legendgroup": "RIC",
           "marker": {
            "color": "#f58020",
            "pattern": {
             "shape": ""
            }
           },
           "name": "RIC",
           "offsetgroup": "RIC",
           "orientation": "v",
           "showlegend": true,
           "text": [
            11
           ],
           "textposition": "auto",
           "type": "bar",
           "x": [
            "RIC"
           ],
           "xaxis": "x",
           "y": [
            11
           ],
           "yaxis": "y"
          },
          {
           "alignmentgroup": "True",
           "hovertemplate": "Name=%{x}<br>Race=5<br>Points=%{y}<br>Ranking=%{text}<extra></extra>",
           "legendgroup": "ALO",
           "marker": {
            "color": "#2293d1",
            "pattern": {
             "shape": ""
            }
           },
           "name": "ALO",
           "offsetgroup": "ALO",
           "orientation": "v",
           "showlegend": true,
           "text": [
            16
           ],
           "textposition": "auto",
           "type": "bar",
           "x": [
            "ALO"
           ],
           "xaxis": "x",
           "y": [
            2
           ],
           "yaxis": "y"
          },
          {
           "alignmentgroup": "True",
           "hovertemplate": "Name=%{x}<br>Race=5<br>Points=%{y}<br>Ranking=%{text}<extra></extra>",
           "legendgroup": "GAS",
           "marker": {
            "color": "#4e7c9b",
            "pattern": {
             "shape": ""
            }
           },
           "name": "GAS",
           "offsetgroup": "GAS",
           "orientation": "v",
           "showlegend": true,
           "text": [
            13
           ],
           "textposition": "auto",
           "type": "bar",
           "x": [
            "GAS"
           ],
           "xaxis": "x",
           "y": [
            6
           ],
           "yaxis": "y"
          },
          {
           "alignmentgroup": "True",
           "hovertemplate": "Name=%{x}<br>Race=5<br>Points=%{y}<br>Ranking=%{text}<extra></extra>",
           "legendgroup": "VET",
           "marker": {
            "color": "#2d826d",
            "pattern": {
             "shape": ""
            }
           },
           "name": "VET",
           "offsetgroup": "VET",
           "orientation": "v",
           "showlegend": true,
           "text": [
            14
           ],
           "textposition": "auto",
           "type": "bar",
           "x": [
            "VET"
           ],
           "xaxis": "x",
           "y": [
            4
           ],
           "yaxis": "y"
          },
          {
           "alignmentgroup": "True",
           "hovertemplate": "Name=%{x}<br>Race=5<br>Points=%{y}<br>Ranking=%{text}<extra></extra>",
           "legendgroup": "ALB",
           "marker": {
            "color": "#37bedd",
            "pattern": {
             "shape": ""
            }
           },
           "name": "ALB",
           "offsetgroup": "ALB",
           "orientation": "v",
           "showlegend": true,
           "text": [
            15
           ],
           "textposition": "auto",
           "type": "bar",
           "x": [
            "ALB"
           ],
           "xaxis": "x",
           "y": [
            3
           ],
           "yaxis": "y"
          },
          {
           "alignmentgroup": "True",
           "hovertemplate": "Name=%{x}<br>Race=5<br>Points=%{y}<br>Ranking=%{text}<extra></extra>",
           "legendgroup": "STR",
           "marker": {
            "color": "#2d826d",
            "pattern": {
             "shape": ""
            }
           },
           "name": "STR",
           "offsetgroup": "STR",
           "orientation": "v",
           "showlegend": true,
           "text": [
            17
           ],
           "textposition": "auto",
           "type": "bar",
           "x": [
            "STR"
           ],
           "xaxis": "x",
           "y": [
            2
           ],
           "yaxis": "y"
          },
          {
           "alignmentgroup": "True",
           "hovertemplate": "Name=%{x}<br>Race=5<br>Points=%{y}<br>Ranking=%{text}<extra></extra>",
           "legendgroup": "ZHO",
           "marker": {
            "color": "#b12039",
            "pattern": {
             "shape": ""
            }
           },
           "name": "ZHO",
           "offsetgroup": "ZHO",
           "orientation": "v",
           "showlegend": true,
           "text": [
            18
           ],
           "textposition": "auto",
           "type": "bar",
           "x": [
            "ZHO"
           ],
           "xaxis": "x",
           "y": [
            1
           ],
           "yaxis": "y"
          },
          {
           "alignmentgroup": "True",
           "hovertemplate": "Name=%{x}<br>Race=5<br>Points=%{y}<br>Ranking=%{text}<extra></extra>",
           "legendgroup": "LAT",
           "marker": {
            "color": "#37bedd",
            "pattern": {
             "shape": ""
            }
           },
           "name": "LAT",
           "offsetgroup": "LAT",
           "orientation": "v",
           "showlegend": true,
           "text": [
            19
           ],
           "textposition": "auto",
           "type": "bar",
           "x": [
            "LAT"
           ],
           "xaxis": "x",
           "y": [
            0
           ],
           "yaxis": "y"
          },
          {
           "alignmentgroup": "True",
           "hovertemplate": "Name=%{x}<br>Race=5<br>Points=%{y}<br>Ranking=%{text}<extra></extra>",
           "legendgroup": "HUL",
           "marker": {
            "color": "#2d826d",
            "pattern": {
             "shape": ""
            }
           },
           "name": "HUL",
           "offsetgroup": "HUL",
           "orientation": "v",
           "showlegend": true,
           "text": [
            20
           ],
           "textposition": "auto",
           "type": "bar",
           "x": [
            "HUL"
           ],
           "xaxis": "x",
           "y": [
            0
           ],
           "yaxis": "y"
          },
          {
           "alignmentgroup": "True",
           "hovertemplate": "Name=%{x}<br>Race=5<br>Points=%{y}<br>Ranking=%{text}<extra></extra>",
           "legendgroup": "MSC",
           "marker": {
            "color": "#b6babd",
            "pattern": {
             "shape": ""
            }
           },
           "name": "MSC",
           "offsetgroup": "MSC",
           "orientation": "v",
           "showlegend": true,
           "text": [
            21
           ],
           "textposition": "auto",
           "type": "bar",
           "x": [
            "MSC"
           ],
           "xaxis": "x",
           "y": [
            0
           ],
           "yaxis": "y"
          }
         ],
         "name": "5"
        },
        {
         "data": [
          {
           "alignmentgroup": "True",
           "hovertemplate": "Name=%{x}<br>Race=6<br>Points=%{y}<br>Ranking=%{text}<extra></extra>",
           "legendgroup": "VER",
           "marker": {
            "color": "#1e5bc6",
            "pattern": {
             "shape": ""
            }
           },
           "name": "VER",
           "offsetgroup": "VER",
           "orientation": "v",
           "showlegend": true,
           "text": [
            1
           ],
           "textposition": "auto",
           "type": "bar",
           "x": [
            "VER"
           ],
           "xaxis": "x",
           "y": [
            110
           ],
           "yaxis": "y"
          },
          {
           "alignmentgroup": "True",
           "hovertemplate": "Name=%{x}<br>Race=6<br>Points=%{y}<br>Ranking=%{text}<extra></extra>",
           "legendgroup": "LEC",
           "marker": {
            "color": "#ed1c24",
            "pattern": {
             "shape": ""
            }
           },
           "name": "LEC",
           "offsetgroup": "LEC",
           "orientation": "v",
           "showlegend": true,
           "text": [
            2
           ],
           "textposition": "auto",
           "type": "bar",
           "x": [
            "LEC"
           ],
           "xaxis": "x",
           "y": [
            104
           ],
           "yaxis": "y"
          },
          {
           "alignmentgroup": "True",
           "hovertemplate": "Name=%{x}<br>Race=6<br>Points=%{y}<br>Ranking=%{text}<extra></extra>",
           "legendgroup": "PER",
           "marker": {
            "color": "#1e5bc6",
            "pattern": {
             "shape": ""
            }
           },
           "name": "PER",
           "offsetgroup": "PER",
           "orientation": "v",
           "showlegend": true,
           "text": [
            3
           ],
           "textposition": "auto",
           "type": "bar",
           "x": [
            "PER"
           ],
           "xaxis": "x",
           "y": [
            85
           ],
           "yaxis": "y"
          },
          {
           "alignmentgroup": "True",
           "hovertemplate": "Name=%{x}<br>Race=6<br>Points=%{y}<br>Ranking=%{text}<extra></extra>",
           "legendgroup": "RUS",
           "marker": {
            "color": "#6cd3bf",
            "pattern": {
             "shape": ""
            }
           },
           "name": "RUS",
           "offsetgroup": "RUS",
           "orientation": "v",
           "showlegend": true,
           "text": [
            4
           ],
           "textposition": "auto",
           "type": "bar",
           "x": [
            "RUS"
           ],
           "xaxis": "x",
           "y": [
            74
           ],
           "yaxis": "y"
          },
          {
           "alignmentgroup": "True",
           "hovertemplate": "Name=%{x}<br>Race=6<br>Points=%{y}<br>Ranking=%{text}<extra></extra>",
           "legendgroup": "SAI",
           "marker": {
            "color": "#ed1c24",
            "pattern": {
             "shape": ""
            }
           },
           "name": "SAI",
           "offsetgroup": "SAI",
           "orientation": "v",
           "showlegend": true,
           "text": [
            5
           ],
           "textposition": "auto",
           "type": "bar",
           "x": [
            "SAI"
           ],
           "xaxis": "x",
           "y": [
            65
           ],
           "yaxis": "y"
          },
          {
           "alignmentgroup": "True",
           "hovertemplate": "Name=%{x}<br>Race=6<br>Points=%{y}<br>Ranking=%{text}<extra></extra>",
           "legendgroup": "HAM",
           "marker": {
            "color": "#6cd3bf",
            "pattern": {
             "shape": ""
            }
           },
           "name": "HAM",
           "offsetgroup": "HAM",
           "orientation": "v",
           "showlegend": true,
           "text": [
            6
           ],
           "textposition": "auto",
           "type": "bar",
           "x": [
            "HAM"
           ],
           "xaxis": "x",
           "y": [
            46
           ],
           "yaxis": "y"
          },
          {
           "alignmentgroup": "True",
           "hovertemplate": "Name=%{x}<br>Race=6<br>Points=%{y}<br>Ranking=%{text}<extra></extra>",
           "legendgroup": "NOR",
           "marker": {
            "color": "#f58020",
            "pattern": {
             "shape": ""
            }
           },
           "name": "NOR",
           "offsetgroup": "NOR",
           "orientation": "v",
           "showlegend": true,
           "text": [
            7
           ],
           "textposition": "auto",
           "type": "bar",
           "x": [
            "NOR"
           ],
           "xaxis": "x",
           "y": [
            39
           ],
           "yaxis": "y"
          },
          {
           "alignmentgroup": "True",
           "hovertemplate": "Name=%{x}<br>Race=6<br>Points=%{y}<br>Ranking=%{text}<extra></extra>",
           "legendgroup": "BOT",
           "marker": {
            "color": "#b12039",
            "pattern": {
             "shape": ""
            }
           },
           "name": "BOT",
           "offsetgroup": "BOT",
           "orientation": "v",
           "showlegend": true,
           "text": [
            8
           ],
           "textposition": "auto",
           "type": "bar",
           "x": [
            "BOT"
           ],
           "xaxis": "x",
           "y": [
            38
           ],
           "yaxis": "y"
          },
          {
           "alignmentgroup": "True",
           "hovertemplate": "Name=%{x}<br>Race=6<br>Points=%{y}<br>Ranking=%{text}<extra></extra>",
           "legendgroup": "OCO",
           "marker": {
            "color": "#2293d1",
            "pattern": {
             "shape": ""
            }
           },
           "name": "OCO",
           "offsetgroup": "OCO",
           "orientation": "v",
           "showlegend": true,
           "text": [
            9
           ],
           "textposition": "auto",
           "type": "bar",
           "x": [
            "OCO"
           ],
           "xaxis": "x",
           "y": [
            30
           ],
           "yaxis": "y"
          },
          {
           "alignmentgroup": "True",
           "hovertemplate": "Name=%{x}<br>Race=6<br>Points=%{y}<br>Ranking=%{text}<extra></extra>",
           "legendgroup": "MAG",
           "marker": {
            "color": "#b6babd",
            "pattern": {
             "shape": ""
            }
           },
           "name": "MAG",
           "offsetgroup": "MAG",
           "orientation": "v",
           "showlegend": true,
           "text": [
            10
           ],
           "textposition": "auto",
           "type": "bar",
           "x": [
            "MAG"
           ],
           "xaxis": "x",
           "y": [
            15
           ],
           "yaxis": "y"
          },
          {
           "alignmentgroup": "True",
           "hovertemplate": "Name=%{x}<br>Race=6<br>Points=%{y}<br>Ranking=%{text}<extra></extra>",
           "legendgroup": "TSU",
           "marker": {
            "color": "#4e7c9b",
            "pattern": {
             "shape": ""
            }
           },
           "name": "TSU",
           "offsetgroup": "TSU",
           "orientation": "v",
           "showlegend": true,
           "text": [
            11
           ],
           "textposition": "auto",
           "type": "bar",
           "x": [
            "TSU"
           ],
           "xaxis": "x",
           "y": [
            11
           ],
           "yaxis": "y"
          },
          {
           "alignmentgroup": "True",
           "hovertemplate": "Name=%{x}<br>Race=6<br>Points=%{y}<br>Ranking=%{text}<extra></extra>",
           "legendgroup": "RIC",
           "marker": {
            "color": "#f58020",
            "pattern": {
             "shape": ""
            }
           },
           "name": "RIC",
           "offsetgroup": "RIC",
           "orientation": "v",
           "showlegend": true,
           "text": [
            12
           ],
           "textposition": "auto",
           "type": "bar",
           "x": [
            "RIC"
           ],
           "xaxis": "x",
           "y": [
            11
           ],
           "yaxis": "y"
          },
          {
           "alignmentgroup": "True",
           "hovertemplate": "Name=%{x}<br>Race=6<br>Points=%{y}<br>Ranking=%{text}<extra></extra>",
           "legendgroup": "ALO",
           "marker": {
            "color": "#2293d1",
            "pattern": {
             "shape": ""
            }
           },
           "name": "ALO",
           "offsetgroup": "ALO",
           "orientation": "v",
           "showlegend": true,
           "text": [
            14
           ],
           "textposition": "auto",
           "type": "bar",
           "x": [
            "ALO"
           ],
           "xaxis": "x",
           "y": [
            4
           ],
           "yaxis": "y"
          },
          {
           "alignmentgroup": "True",
           "hovertemplate": "Name=%{x}<br>Race=6<br>Points=%{y}<br>Ranking=%{text}<extra></extra>",
           "legendgroup": "GAS",
           "marker": {
            "color": "#4e7c9b",
            "pattern": {
             "shape": ""
            }
           },
           "name": "GAS",
           "offsetgroup": "GAS",
           "orientation": "v",
           "showlegend": true,
           "text": [
            13
           ],
           "textposition": "auto",
           "type": "bar",
           "x": [
            "GAS"
           ],
           "xaxis": "x",
           "y": [
            6
           ],
           "yaxis": "y"
          },
          {
           "alignmentgroup": "True",
           "hovertemplate": "Name=%{x}<br>Race=6<br>Points=%{y}<br>Ranking=%{text}<extra></extra>",
           "legendgroup": "VET",
           "marker": {
            "color": "#2d826d",
            "pattern": {
             "shape": ""
            }
           },
           "name": "VET",
           "offsetgroup": "VET",
           "orientation": "v",
           "showlegend": true,
           "text": [
            15
           ],
           "textposition": "auto",
           "type": "bar",
           "x": [
            "VET"
           ],
           "xaxis": "x",
           "y": [
            4
           ],
           "yaxis": "y"
          },
          {
           "alignmentgroup": "True",
           "hovertemplate": "Name=%{x}<br>Race=6<br>Points=%{y}<br>Ranking=%{text}<extra></extra>",
           "legendgroup": "ALB",
           "marker": {
            "color": "#37bedd",
            "pattern": {
             "shape": ""
            }
           },
           "name": "ALB",
           "offsetgroup": "ALB",
           "orientation": "v",
           "showlegend": true,
           "text": [
            16
           ],
           "textposition": "auto",
           "type": "bar",
           "x": [
            "ALB"
           ],
           "xaxis": "x",
           "y": [
            3
           ],
           "yaxis": "y"
          },
          {
           "alignmentgroup": "True",
           "hovertemplate": "Name=%{x}<br>Race=6<br>Points=%{y}<br>Ranking=%{text}<extra></extra>",
           "legendgroup": "STR",
           "marker": {
            "color": "#2d826d",
            "pattern": {
             "shape": ""
            }
           },
           "name": "STR",
           "offsetgroup": "STR",
           "orientation": "v",
           "showlegend": true,
           "text": [
            17
           ],
           "textposition": "auto",
           "type": "bar",
           "x": [
            "STR"
           ],
           "xaxis": "x",
           "y": [
            2
           ],
           "yaxis": "y"
          },
          {
           "alignmentgroup": "True",
           "hovertemplate": "Name=%{x}<br>Race=6<br>Points=%{y}<br>Ranking=%{text}<extra></extra>",
           "legendgroup": "ZHO",
           "marker": {
            "color": "#b12039",
            "pattern": {
             "shape": ""
            }
           },
           "name": "ZHO",
           "offsetgroup": "ZHO",
           "orientation": "v",
           "showlegend": true,
           "text": [
            18
           ],
           "textposition": "auto",
           "type": "bar",
           "x": [
            "ZHO"
           ],
           "xaxis": "x",
           "y": [
            1
           ],
           "yaxis": "y"
          },
          {
           "alignmentgroup": "True",
           "hovertemplate": "Name=%{x}<br>Race=6<br>Points=%{y}<br>Ranking=%{text}<extra></extra>",
           "legendgroup": "LAT",
           "marker": {
            "color": "#37bedd",
            "pattern": {
             "shape": ""
            }
           },
           "name": "LAT",
           "offsetgroup": "LAT",
           "orientation": "v",
           "showlegend": true,
           "text": [
            19
           ],
           "textposition": "auto",
           "type": "bar",
           "x": [
            "LAT"
           ],
           "xaxis": "x",
           "y": [
            0
           ],
           "yaxis": "y"
          },
          {
           "alignmentgroup": "True",
           "hovertemplate": "Name=%{x}<br>Race=6<br>Points=%{y}<br>Ranking=%{text}<extra></extra>",
           "legendgroup": "HUL",
           "marker": {
            "color": "#2d826d",
            "pattern": {
             "shape": ""
            }
           },
           "name": "HUL",
           "offsetgroup": "HUL",
           "orientation": "v",
           "showlegend": true,
           "text": [
            20
           ],
           "textposition": "auto",
           "type": "bar",
           "x": [
            "HUL"
           ],
           "xaxis": "x",
           "y": [
            0
           ],
           "yaxis": "y"
          },
          {
           "alignmentgroup": "True",
           "hovertemplate": "Name=%{x}<br>Race=6<br>Points=%{y}<br>Ranking=%{text}<extra></extra>",
           "legendgroup": "MSC",
           "marker": {
            "color": "#b6babd",
            "pattern": {
             "shape": ""
            }
           },
           "name": "MSC",
           "offsetgroup": "MSC",
           "orientation": "v",
           "showlegend": true,
           "text": [
            21
           ],
           "textposition": "auto",
           "type": "bar",
           "x": [
            "MSC"
           ],
           "xaxis": "x",
           "y": [
            0
           ],
           "yaxis": "y"
          }
         ],
         "name": "6"
        },
        {
         "data": [
          {
           "alignmentgroup": "True",
           "hovertemplate": "Name=%{x}<br>Race=7<br>Points=%{y}<br>Ranking=%{text}<extra></extra>",
           "legendgroup": "VER",
           "marker": {
            "color": "#1e5bc6",
            "pattern": {
             "shape": ""
            }
           },
           "name": "VER",
           "offsetgroup": "VER",
           "orientation": "v",
           "showlegend": true,
           "text": [
            1
           ],
           "textposition": "auto",
           "type": "bar",
           "x": [
            "VER"
           ],
           "xaxis": "x",
           "y": [
            125
           ],
           "yaxis": "y"
          },
          {
           "alignmentgroup": "True",
           "hovertemplate": "Name=%{x}<br>Race=7<br>Points=%{y}<br>Ranking=%{text}<extra></extra>",
           "legendgroup": "LEC",
           "marker": {
            "color": "#ed1c24",
            "pattern": {
             "shape": ""
            }
           },
           "name": "LEC",
           "offsetgroup": "LEC",
           "orientation": "v",
           "showlegend": true,
           "text": [
            2
           ],
           "textposition": "auto",
           "type": "bar",
           "x": [
            "LEC"
           ],
           "xaxis": "x",
           "y": [
            116
           ],
           "yaxis": "y"
          },
          {
           "alignmentgroup": "True",
           "hovertemplate": "Name=%{x}<br>Race=7<br>Points=%{y}<br>Ranking=%{text}<extra></extra>",
           "legendgroup": "PER",
           "marker": {
            "color": "#1e5bc6",
            "pattern": {
             "shape": ""
            }
           },
           "name": "PER",
           "offsetgroup": "PER",
           "orientation": "v",
           "showlegend": true,
           "text": [
            3
           ],
           "textposition": "auto",
           "type": "bar",
           "x": [
            "PER"
           ],
           "xaxis": "x",
           "y": [
            110
           ],
           "yaxis": "y"
          },
          {
           "alignmentgroup": "True",
           "hovertemplate": "Name=%{x}<br>Race=7<br>Points=%{y}<br>Ranking=%{text}<extra></extra>",
           "legendgroup": "RUS",
           "marker": {
            "color": "#6cd3bf",
            "pattern": {
             "shape": ""
            }
           },
           "name": "RUS",
           "offsetgroup": "RUS",
           "orientation": "v",
           "showlegend": true,
           "text": [
            4
           ],
           "textposition": "auto",
           "type": "bar",
           "x": [
            "RUS"
           ],
           "xaxis": "x",
           "y": [
            84
           ],
           "yaxis": "y"
          },
          {
           "alignmentgroup": "True",
           "hovertemplate": "Name=%{x}<br>Race=7<br>Points=%{y}<br>Ranking=%{text}<extra></extra>",
           "legendgroup": "SAI",
           "marker": {
            "color": "#ed1c24",
            "pattern": {
             "shape": ""
            }
           },
           "name": "SAI",
           "offsetgroup": "SAI",
           "orientation": "v",
           "showlegend": true,
           "text": [
            5
           ],
           "textposition": "auto",
           "type": "bar",
           "x": [
            "SAI"
           ],
           "xaxis": "x",
           "y": [
            83
           ],
           "yaxis": "y"
          },
          {
           "alignmentgroup": "True",
           "hovertemplate": "Name=%{x}<br>Race=7<br>Points=%{y}<br>Ranking=%{text}<extra></extra>",
           "legendgroup": "HAM",
           "marker": {
            "color": "#6cd3bf",
            "pattern": {
             "shape": ""
            }
           },
           "name": "HAM",
           "offsetgroup": "HAM",
           "orientation": "v",
           "showlegend": true,
           "text": [
            6
           ],
           "textposition": "auto",
           "type": "bar",
           "x": [
            "HAM"
           ],
           "xaxis": "x",
           "y": [
            50
           ],
           "yaxis": "y"
          },
          {
           "alignmentgroup": "True",
           "hovertemplate": "Name=%{x}<br>Race=7<br>Points=%{y}<br>Ranking=%{text}<extra></extra>",
           "legendgroup": "NOR",
           "marker": {
            "color": "#f58020",
            "pattern": {
             "shape": ""
            }
           },
           "name": "NOR",
           "offsetgroup": "NOR",
           "orientation": "v",
           "showlegend": true,
           "text": [
            7
           ],
           "textposition": "auto",
           "type": "bar",
           "x": [
            "NOR"
           ],
           "xaxis": "x",
           "y": [
            48
           ],
           "yaxis": "y"
          },
          {
           "alignmentgroup": "True",
           "hovertemplate": "Name=%{x}<br>Race=7<br>Points=%{y}<br>Ranking=%{text}<extra></extra>",
           "legendgroup": "BOT",
           "marker": {
            "color": "#b12039",
            "pattern": {
             "shape": ""
            }
           },
           "name": "BOT",
           "offsetgroup": "BOT",
           "orientation": "v",
           "showlegend": true,
           "text": [
            8
           ],
           "textposition": "auto",
           "type": "bar",
           "x": [
            "BOT"
           ],
           "xaxis": "x",
           "y": [
            40
           ],
           "yaxis": "y"
          },
          {
           "alignmentgroup": "True",
           "hovertemplate": "Name=%{x}<br>Race=7<br>Points=%{y}<br>Ranking=%{text}<extra></extra>",
           "legendgroup": "OCO",
           "marker": {
            "color": "#2293d1",
            "pattern": {
             "shape": ""
            }
           },
           "name": "OCO",
           "offsetgroup": "OCO",
           "orientation": "v",
           "showlegend": true,
           "text": [
            9
           ],
           "textposition": "auto",
           "type": "bar",
           "x": [
            "OCO"
           ],
           "xaxis": "x",
           "y": [
            30
           ],
           "yaxis": "y"
          },
          {
           "alignmentgroup": "True",
           "hovertemplate": "Name=%{x}<br>Race=7<br>Points=%{y}<br>Ranking=%{text}<extra></extra>",
           "legendgroup": "MAG",
           "marker": {
            "color": "#b6babd",
            "pattern": {
             "shape": ""
            }
           },
           "name": "MAG",
           "offsetgroup": "MAG",
           "orientation": "v",
           "showlegend": true,
           "text": [
            10
           ],
           "textposition": "auto",
           "type": "bar",
           "x": [
            "MAG"
           ],
           "xaxis": "x",
           "y": [
            15
           ],
           "yaxis": "y"
          },
          {
           "alignmentgroup": "True",
           "hovertemplate": "Name=%{x}<br>Race=7<br>Points=%{y}<br>Ranking=%{text}<extra></extra>",
           "legendgroup": "TSU",
           "marker": {
            "color": "#4e7c9b",
            "pattern": {
             "shape": ""
            }
           },
           "name": "TSU",
           "offsetgroup": "TSU",
           "orientation": "v",
           "showlegend": true,
           "text": [
            11
           ],
           "textposition": "auto",
           "type": "bar",
           "x": [
            "TSU"
           ],
           "xaxis": "x",
           "y": [
            11
           ],
           "yaxis": "y"
          },
          {
           "alignmentgroup": "True",
           "hovertemplate": "Name=%{x}<br>Race=7<br>Points=%{y}<br>Ranking=%{text}<extra></extra>",
           "legendgroup": "RIC",
           "marker": {
            "color": "#f58020",
            "pattern": {
             "shape": ""
            }
           },
           "name": "RIC",
           "offsetgroup": "RIC",
           "orientation": "v",
           "showlegend": true,
           "text": [
            12
           ],
           "textposition": "auto",
           "type": "bar",
           "x": [
            "RIC"
           ],
           "xaxis": "x",
           "y": [
            11
           ],
           "yaxis": "y"
          },
          {
           "alignmentgroup": "True",
           "hovertemplate": "Name=%{x}<br>Race=7<br>Points=%{y}<br>Ranking=%{text}<extra></extra>",
           "legendgroup": "ALO",
           "marker": {
            "color": "#2293d1",
            "pattern": {
             "shape": ""
            }
           },
           "name": "ALO",
           "offsetgroup": "ALO",
           "orientation": "v",
           "showlegend": true,
           "text": [
            13
           ],
           "textposition": "auto",
           "type": "bar",
           "x": [
            "ALO"
           ],
           "xaxis": "x",
           "y": [
            10
           ],
           "yaxis": "y"
          },
          {
           "alignmentgroup": "True",
           "hovertemplate": "Name=%{x}<br>Race=7<br>Points=%{y}<br>Ranking=%{text}<extra></extra>",
           "legendgroup": "GAS",
           "marker": {
            "color": "#4e7c9b",
            "pattern": {
             "shape": ""
            }
           },
           "name": "GAS",
           "offsetgroup": "GAS",
           "orientation": "v",
           "showlegend": true,
           "text": [
            14
           ],
           "textposition": "auto",
           "type": "bar",
           "x": [
            "GAS"
           ],
           "xaxis": "x",
           "y": [
            6
           ],
           "yaxis": "y"
          },
          {
           "alignmentgroup": "True",
           "hovertemplate": "Name=%{x}<br>Race=7<br>Points=%{y}<br>Ranking=%{text}<extra></extra>",
           "legendgroup": "VET",
           "marker": {
            "color": "#2d826d",
            "pattern": {
             "shape": ""
            }
           },
           "name": "VET",
           "offsetgroup": "VET",
           "orientation": "v",
           "showlegend": true,
           "text": [
            15
           ],
           "textposition": "auto",
           "type": "bar",
           "x": [
            "VET"
           ],
           "xaxis": "x",
           "y": [
            5
           ],
           "yaxis": "y"
          },
          {
           "alignmentgroup": "True",
           "hovertemplate": "Name=%{x}<br>Race=7<br>Points=%{y}<br>Ranking=%{text}<extra></extra>",
           "legendgroup": "ALB",
           "marker": {
            "color": "#37bedd",
            "pattern": {
             "shape": ""
            }
           },
           "name": "ALB",
           "offsetgroup": "ALB",
           "orientation": "v",
           "showlegend": true,
           "text": [
            16
           ],
           "textposition": "auto",
           "type": "bar",
           "x": [
            "ALB"
           ],
           "xaxis": "x",
           "y": [
            3
           ],
           "yaxis": "y"
          },
          {
           "alignmentgroup": "True",
           "hovertemplate": "Name=%{x}<br>Race=7<br>Points=%{y}<br>Ranking=%{text}<extra></extra>",
           "legendgroup": "STR",
           "marker": {
            "color": "#2d826d",
            "pattern": {
             "shape": ""
            }
           },
           "name": "STR",
           "offsetgroup": "STR",
           "orientation": "v",
           "showlegend": true,
           "text": [
            17
           ],
           "textposition": "auto",
           "type": "bar",
           "x": [
            "STR"
           ],
           "xaxis": "x",
           "y": [
            2
           ],
           "yaxis": "y"
          },
          {
           "alignmentgroup": "True",
           "hovertemplate": "Name=%{x}<br>Race=7<br>Points=%{y}<br>Ranking=%{text}<extra></extra>",
           "legendgroup": "ZHO",
           "marker": {
            "color": "#b12039",
            "pattern": {
             "shape": ""
            }
           },
           "name": "ZHO",
           "offsetgroup": "ZHO",
           "orientation": "v",
           "showlegend": true,
           "text": [
            18
           ],
           "textposition": "auto",
           "type": "bar",
           "x": [
            "ZHO"
           ],
           "xaxis": "x",
           "y": [
            1
           ],
           "yaxis": "y"
          },
          {
           "alignmentgroup": "True",
           "hovertemplate": "Name=%{x}<br>Race=7<br>Points=%{y}<br>Ranking=%{text}<extra></extra>",
           "legendgroup": "LAT",
           "marker": {
            "color": "#37bedd",
            "pattern": {
             "shape": ""
            }
           },
           "name": "LAT",
           "offsetgroup": "LAT",
           "orientation": "v",
           "showlegend": true,
           "text": [
            19
           ],
           "textposition": "auto",
           "type": "bar",
           "x": [
            "LAT"
           ],
           "xaxis": "x",
           "y": [
            0
           ],
           "yaxis": "y"
          },
          {
           "alignmentgroup": "True",
           "hovertemplate": "Name=%{x}<br>Race=7<br>Points=%{y}<br>Ranking=%{text}<extra></extra>",
           "legendgroup": "HUL",
           "marker": {
            "color": "#2d826d",
            "pattern": {
             "shape": ""
            }
           },
           "name": "HUL",
           "offsetgroup": "HUL",
           "orientation": "v",
           "showlegend": true,
           "text": [
            20
           ],
           "textposition": "auto",
           "type": "bar",
           "x": [
            "HUL"
           ],
           "xaxis": "x",
           "y": [
            0
           ],
           "yaxis": "y"
          },
          {
           "alignmentgroup": "True",
           "hovertemplate": "Name=%{x}<br>Race=7<br>Points=%{y}<br>Ranking=%{text}<extra></extra>",
           "legendgroup": "MSC",
           "marker": {
            "color": "#b6babd",
            "pattern": {
             "shape": ""
            }
           },
           "name": "MSC",
           "offsetgroup": "MSC",
           "orientation": "v",
           "showlegend": true,
           "text": [
            21
           ],
           "textposition": "auto",
           "type": "bar",
           "x": [
            "MSC"
           ],
           "xaxis": "x",
           "y": [
            0
           ],
           "yaxis": "y"
          }
         ],
         "name": "7"
        }
       ],
       "layout": {
        "barmode": "relative",
        "height": 800,
        "legend": {
         "title": {
          "text": "Name"
         },
         "tracegroupgap": 0
        },
        "margin": {
         "t": 60
        },
        "showlegend": false,
        "sliders": [
         {
          "active": 0,
          "currentvalue": {
           "prefix": "Race="
          },
          "len": 0.9,
          "pad": {
           "b": 10,
           "t": 60
          },
          "steps": [
           {
            "args": [
             [
              "0"
             ],
             {
              "frame": {
               "duration": 0,
               "redraw": true
              },
              "fromcurrent": true,
              "mode": "immediate",
              "transition": {
               "duration": 0,
               "easing": "linear"
              }
             }
            ],
            "label": "0",
            "method": "animate"
           },
           {
            "args": [
             [
              "1"
             ],
             {
              "frame": {
               "duration": 0,
               "redraw": true
              },
              "fromcurrent": true,
              "mode": "immediate",
              "transition": {
               "duration": 0,
               "easing": "linear"
              }
             }
            ],
            "label": "1",
            "method": "animate"
           },
           {
            "args": [
             [
              "2"
             ],
             {
              "frame": {
               "duration": 0,
               "redraw": true
              },
              "fromcurrent": true,
              "mode": "immediate",
              "transition": {
               "duration": 0,
               "easing": "linear"
              }
             }
            ],
            "label": "2",
            "method": "animate"
           },
           {
            "args": [
             [
              "3"
             ],
             {
              "frame": {
               "duration": 0,
               "redraw": true
              },
              "fromcurrent": true,
              "mode": "immediate",
              "transition": {
               "duration": 0,
               "easing": "linear"
              }
             }
            ],
            "label": "3",
            "method": "animate"
           },
           {
            "args": [
             [
              "4"
             ],
             {
              "frame": {
               "duration": 0,
               "redraw": true
              },
              "fromcurrent": true,
              "mode": "immediate",
              "transition": {
               "duration": 0,
               "easing": "linear"
              }
             }
            ],
            "label": "4",
            "method": "animate"
           },
           {
            "args": [
             [
              "5"
             ],
             {
              "frame": {
               "duration": 0,
               "redraw": true
              },
              "fromcurrent": true,
              "mode": "immediate",
              "transition": {
               "duration": 0,
               "easing": "linear"
              }
             }
            ],
            "label": "5",
            "method": "animate"
           },
           {
            "args": [
             [
              "6"
             ],
             {
              "frame": {
               "duration": 0,
               "redraw": true
              },
              "fromcurrent": true,
              "mode": "immediate",
              "transition": {
               "duration": 0,
               "easing": "linear"
              }
             }
            ],
            "label": "6",
            "method": "animate"
           },
           {
            "args": [
             [
              "7"
             ],
             {
              "frame": {
               "duration": 0,
               "redraw": true
              },
              "fromcurrent": true,
              "mode": "immediate",
              "transition": {
               "duration": 0,
               "easing": "linear"
              }
             }
            ],
            "label": "7",
            "method": "animate"
           }
          ],
          "x": 0.1,
          "xanchor": "left",
          "y": 0,
          "yanchor": "top"
         }
        ],
        "template": {
         "data": {
          "bar": [
           {
            "error_x": {
             "color": "#f2f5fa"
            },
            "error_y": {
             "color": "#f2f5fa"
            },
            "marker": {
             "line": {
              "color": "rgb(17,17,17)",
              "width": 0.5
             },
             "pattern": {
              "fillmode": "overlay",
              "size": 10,
              "solidity": 0.2
             }
            },
            "type": "bar"
           }
          ],
          "barpolar": [
           {
            "marker": {
             "line": {
              "color": "rgb(17,17,17)",
              "width": 0.5
             },
             "pattern": {
              "fillmode": "overlay",
              "size": 10,
              "solidity": 0.2
             }
            },
            "type": "barpolar"
           }
          ],
          "carpet": [
           {
            "aaxis": {
             "endlinecolor": "#A2B1C6",
             "gridcolor": "#506784",
             "linecolor": "#506784",
             "minorgridcolor": "#506784",
             "startlinecolor": "#A2B1C6"
            },
            "baxis": {
             "endlinecolor": "#A2B1C6",
             "gridcolor": "#506784",
             "linecolor": "#506784",
             "minorgridcolor": "#506784",
             "startlinecolor": "#A2B1C6"
            },
            "type": "carpet"
           }
          ],
          "choropleth": [
           {
            "colorbar": {
             "outlinewidth": 0,
             "ticks": ""
            },
            "type": "choropleth"
           }
          ],
          "contour": [
           {
            "colorbar": {
             "outlinewidth": 0,
             "ticks": ""
            },
            "colorscale": [
             [
              0,
              "#0d0887"
             ],
             [
              0.1111111111111111,
              "#46039f"
             ],
             [
              0.2222222222222222,
              "#7201a8"
             ],
             [
              0.3333333333333333,
              "#9c179e"
             ],
             [
              0.4444444444444444,
              "#bd3786"
             ],
             [
              0.5555555555555556,
              "#d8576b"
             ],
             [
              0.6666666666666666,
              "#ed7953"
             ],
             [
              0.7777777777777778,
              "#fb9f3a"
             ],
             [
              0.8888888888888888,
              "#fdca26"
             ],
             [
              1,
              "#f0f921"
             ]
            ],
            "type": "contour"
           }
          ],
          "contourcarpet": [
           {
            "colorbar": {
             "outlinewidth": 0,
             "ticks": ""
            },
            "type": "contourcarpet"
           }
          ],
          "heatmap": [
           {
            "colorbar": {
             "outlinewidth": 0,
             "ticks": ""
            },
            "colorscale": [
             [
              0,
              "#0d0887"
             ],
             [
              0.1111111111111111,
              "#46039f"
             ],
             [
              0.2222222222222222,
              "#7201a8"
             ],
             [
              0.3333333333333333,
              "#9c179e"
             ],
             [
              0.4444444444444444,
              "#bd3786"
             ],
             [
              0.5555555555555556,
              "#d8576b"
             ],
             [
              0.6666666666666666,
              "#ed7953"
             ],
             [
              0.7777777777777778,
              "#fb9f3a"
             ],
             [
              0.8888888888888888,
              "#fdca26"
             ],
             [
              1,
              "#f0f921"
             ]
            ],
            "type": "heatmap"
           }
          ],
          "heatmapgl": [
           {
            "colorbar": {
             "outlinewidth": 0,
             "ticks": ""
            },
            "colorscale": [
             [
              0,
              "#0d0887"
             ],
             [
              0.1111111111111111,
              "#46039f"
             ],
             [
              0.2222222222222222,
              "#7201a8"
             ],
             [
              0.3333333333333333,
              "#9c179e"
             ],
             [
              0.4444444444444444,
              "#bd3786"
             ],
             [
              0.5555555555555556,
              "#d8576b"
             ],
             [
              0.6666666666666666,
              "#ed7953"
             ],
             [
              0.7777777777777778,
              "#fb9f3a"
             ],
             [
              0.8888888888888888,
              "#fdca26"
             ],
             [
              1,
              "#f0f921"
             ]
            ],
            "type": "heatmapgl"
           }
          ],
          "histogram": [
           {
            "marker": {
             "pattern": {
              "fillmode": "overlay",
              "size": 10,
              "solidity": 0.2
             }
            },
            "type": "histogram"
           }
          ],
          "histogram2d": [
           {
            "colorbar": {
             "outlinewidth": 0,
             "ticks": ""
            },
            "colorscale": [
             [
              0,
              "#0d0887"
             ],
             [
              0.1111111111111111,
              "#46039f"
             ],
             [
              0.2222222222222222,
              "#7201a8"
             ],
             [
              0.3333333333333333,
              "#9c179e"
             ],
             [
              0.4444444444444444,
              "#bd3786"
             ],
             [
              0.5555555555555556,
              "#d8576b"
             ],
             [
              0.6666666666666666,
              "#ed7953"
             ],
             [
              0.7777777777777778,
              "#fb9f3a"
             ],
             [
              0.8888888888888888,
              "#fdca26"
             ],
             [
              1,
              "#f0f921"
             ]
            ],
            "type": "histogram2d"
           }
          ],
          "histogram2dcontour": [
           {
            "colorbar": {
             "outlinewidth": 0,
             "ticks": ""
            },
            "colorscale": [
             [
              0,
              "#0d0887"
             ],
             [
              0.1111111111111111,
              "#46039f"
             ],
             [
              0.2222222222222222,
              "#7201a8"
             ],
             [
              0.3333333333333333,
              "#9c179e"
             ],
             [
              0.4444444444444444,
              "#bd3786"
             ],
             [
              0.5555555555555556,
              "#d8576b"
             ],
             [
              0.6666666666666666,
              "#ed7953"
             ],
             [
              0.7777777777777778,
              "#fb9f3a"
             ],
             [
              0.8888888888888888,
              "#fdca26"
             ],
             [
              1,
              "#f0f921"
             ]
            ],
            "type": "histogram2dcontour"
           }
          ],
          "mesh3d": [
           {
            "colorbar": {
             "outlinewidth": 0,
             "ticks": ""
            },
            "type": "mesh3d"
           }
          ],
          "parcoords": [
           {
            "line": {
             "colorbar": {
              "outlinewidth": 0,
              "ticks": ""
             }
            },
            "type": "parcoords"
           }
          ],
          "pie": [
           {
            "automargin": true,
            "type": "pie"
           }
          ],
          "scatter": [
           {
            "marker": {
             "line": {
              "color": "#283442"
             }
            },
            "type": "scatter"
           }
          ],
          "scatter3d": [
           {
            "line": {
             "colorbar": {
              "outlinewidth": 0,
              "ticks": ""
             }
            },
            "marker": {
             "colorbar": {
              "outlinewidth": 0,
              "ticks": ""
             }
            },
            "type": "scatter3d"
           }
          ],
          "scattercarpet": [
           {
            "marker": {
             "colorbar": {
              "outlinewidth": 0,
              "ticks": ""
             }
            },
            "type": "scattercarpet"
           }
          ],
          "scattergeo": [
           {
            "marker": {
             "colorbar": {
              "outlinewidth": 0,
              "ticks": ""
             }
            },
            "type": "scattergeo"
           }
          ],
          "scattergl": [
           {
            "marker": {
             "line": {
              "color": "#283442"
             }
            },
            "type": "scattergl"
           }
          ],
          "scattermapbox": [
           {
            "marker": {
             "colorbar": {
              "outlinewidth": 0,
              "ticks": ""
             }
            },
            "type": "scattermapbox"
           }
          ],
          "scatterpolar": [
           {
            "marker": {
             "colorbar": {
              "outlinewidth": 0,
              "ticks": ""
             }
            },
            "type": "scatterpolar"
           }
          ],
          "scatterpolargl": [
           {
            "marker": {
             "colorbar": {
              "outlinewidth": 0,
              "ticks": ""
             }
            },
            "type": "scatterpolargl"
           }
          ],
          "scatterternary": [
           {
            "marker": {
             "colorbar": {
              "outlinewidth": 0,
              "ticks": ""
             }
            },
            "type": "scatterternary"
           }
          ],
          "surface": [
           {
            "colorbar": {
             "outlinewidth": 0,
             "ticks": ""
            },
            "colorscale": [
             [
              0,
              "#0d0887"
             ],
             [
              0.1111111111111111,
              "#46039f"
             ],
             [
              0.2222222222222222,
              "#7201a8"
             ],
             [
              0.3333333333333333,
              "#9c179e"
             ],
             [
              0.4444444444444444,
              "#bd3786"
             ],
             [
              0.5555555555555556,
              "#d8576b"
             ],
             [
              0.6666666666666666,
              "#ed7953"
             ],
             [
              0.7777777777777778,
              "#fb9f3a"
             ],
             [
              0.8888888888888888,
              "#fdca26"
             ],
             [
              1,
              "#f0f921"
             ]
            ],
            "type": "surface"
           }
          ],
          "table": [
           {
            "cells": {
             "fill": {
              "color": "#506784"
             },
             "line": {
              "color": "rgb(17,17,17)"
             }
            },
            "header": {
             "fill": {
              "color": "#2a3f5f"
             },
             "line": {
              "color": "rgb(17,17,17)"
             }
            },
            "type": "table"
           }
          ]
         },
         "layout": {
          "annotationdefaults": {
           "arrowcolor": "#f2f5fa",
           "arrowhead": 0,
           "arrowwidth": 1
          },
          "autotypenumbers": "strict",
          "coloraxis": {
           "colorbar": {
            "outlinewidth": 0,
            "ticks": ""
           }
          },
          "colorscale": {
           "diverging": [
            [
             0,
             "#8e0152"
            ],
            [
             0.1,
             "#c51b7d"
            ],
            [
             0.2,
             "#de77ae"
            ],
            [
             0.3,
             "#f1b6da"
            ],
            [
             0.4,
             "#fde0ef"
            ],
            [
             0.5,
             "#f7f7f7"
            ],
            [
             0.6,
             "#e6f5d0"
            ],
            [
             0.7,
             "#b8e186"
            ],
            [
             0.8,
             "#7fbc41"
            ],
            [
             0.9,
             "#4d9221"
            ],
            [
             1,
             "#276419"
            ]
           ],
           "sequential": [
            [
             0,
             "#0d0887"
            ],
            [
             0.1111111111111111,
             "#46039f"
            ],
            [
             0.2222222222222222,
             "#7201a8"
            ],
            [
             0.3333333333333333,
             "#9c179e"
            ],
            [
             0.4444444444444444,
             "#bd3786"
            ],
            [
             0.5555555555555556,
             "#d8576b"
            ],
            [
             0.6666666666666666,
             "#ed7953"
            ],
            [
             0.7777777777777778,
             "#fb9f3a"
            ],
            [
             0.8888888888888888,
             "#fdca26"
            ],
            [
             1,
             "#f0f921"
            ]
           ],
           "sequentialminus": [
            [
             0,
             "#0d0887"
            ],
            [
             0.1111111111111111,
             "#46039f"
            ],
            [
             0.2222222222222222,
             "#7201a8"
            ],
            [
             0.3333333333333333,
             "#9c179e"
            ],
            [
             0.4444444444444444,
             "#bd3786"
            ],
            [
             0.5555555555555556,
             "#d8576b"
            ],
            [
             0.6666666666666666,
             "#ed7953"
            ],
            [
             0.7777777777777778,
             "#fb9f3a"
            ],
            [
             0.8888888888888888,
             "#fdca26"
            ],
            [
             1,
             "#f0f921"
            ]
           ]
          },
          "colorway": [
           "#636efa",
           "#EF553B",
           "#00cc96",
           "#ab63fa",
           "#FFA15A",
           "#19d3f3",
           "#FF6692",
           "#B6E880",
           "#FF97FF",
           "#FECB52"
          ],
          "font": {
           "color": "#f2f5fa"
          },
          "geo": {
           "bgcolor": "rgb(17,17,17)",
           "lakecolor": "rgb(17,17,17)",
           "landcolor": "rgb(17,17,17)",
           "showlakes": true,
           "showland": true,
           "subunitcolor": "#506784"
          },
          "hoverlabel": {
           "align": "left"
          },
          "hovermode": "closest",
          "mapbox": {
           "style": "dark"
          },
          "paper_bgcolor": "rgb(17,17,17)",
          "plot_bgcolor": "rgb(17,17,17)",
          "polar": {
           "angularaxis": {
            "gridcolor": "#506784",
            "linecolor": "#506784",
            "ticks": ""
           },
           "bgcolor": "rgb(17,17,17)",
           "radialaxis": {
            "gridcolor": "#506784",
            "linecolor": "#506784",
            "ticks": ""
           }
          },
          "scene": {
           "xaxis": {
            "backgroundcolor": "rgb(17,17,17)",
            "gridcolor": "#506784",
            "gridwidth": 2,
            "linecolor": "#506784",
            "showbackground": true,
            "ticks": "",
            "zerolinecolor": "#C8D4E3"
           },
           "yaxis": {
            "backgroundcolor": "rgb(17,17,17)",
            "gridcolor": "#506784",
            "gridwidth": 2,
            "linecolor": "#506784",
            "showbackground": true,
            "ticks": "",
            "zerolinecolor": "#C8D4E3"
           },
           "zaxis": {
            "backgroundcolor": "rgb(17,17,17)",
            "gridcolor": "#506784",
            "gridwidth": 2,
            "linecolor": "#506784",
            "showbackground": true,
            "ticks": "",
            "zerolinecolor": "#C8D4E3"
           }
          },
          "shapedefaults": {
           "line": {
            "color": "#f2f5fa"
           }
          },
          "sliderdefaults": {
           "bgcolor": "#C8D4E3",
           "bordercolor": "rgb(17,17,17)",
           "borderwidth": 1,
           "tickwidth": 0
          },
          "ternary": {
           "aaxis": {
            "gridcolor": "#506784",
            "linecolor": "#506784",
            "ticks": ""
           },
           "baxis": {
            "gridcolor": "#506784",
            "linecolor": "#506784",
            "ticks": ""
           },
           "bgcolor": "rgb(17,17,17)",
           "caxis": {
            "gridcolor": "#506784",
            "linecolor": "#506784",
            "ticks": ""
           }
          },
          "title": {
           "x": 0.05
          },
          "updatemenudefaults": {
           "bgcolor": "#506784",
           "borderwidth": 0
          },
          "xaxis": {
           "automargin": true,
           "gridcolor": "#283442",
           "linecolor": "#506784",
           "ticks": "",
           "title": {
            "standoff": 15
           },
           "zerolinecolor": "#283442",
           "zerolinewidth": 2
          },
          "yaxis": {
           "automargin": true,
           "gridcolor": "#283442",
           "linecolor": "#506784",
           "ticks": "",
           "title": {
            "standoff": 15
           },
           "zerolinecolor": "#283442",
           "zerolinewidth": 2
          }
         }
        },
        "title": {
         "text": "Evolution of points in the championship",
         "x": 0.5
        },
        "transition": {
         "duration": 1000
        },
        "updatemenus": [
         {
          "buttons": [
           {
            "args": [
             null,
             {
              "frame": {
               "duration": 500,
               "redraw": true
              },
              "fromcurrent": true,
              "mode": "immediate",
              "transition": {
               "duration": 500,
               "easing": "linear"
              }
             }
            ],
            "label": "&#9654;",
            "method": "animate"
           },
           {
            "args": [
             [
              null
             ],
             {
              "frame": {
               "duration": 0,
               "redraw": true
              },
              "fromcurrent": true,
              "mode": "immediate",
              "transition": {
               "duration": 0,
               "easing": "linear"
              }
             }
            ],
            "label": "&#9724;",
            "method": "animate"
           }
          ],
          "direction": "left",
          "pad": {
           "r": 10,
           "t": 70
          },
          "showactive": false,
          "type": "buttons",
          "x": 0.1,
          "xanchor": "right",
          "y": 0,
          "yanchor": "top"
         }
        ],
        "width": 1000,
        "xaxis": {
         "anchor": "y",
         "categoryarray": [
          "VER",
          "LEC",
          "PER",
          "RUS",
          "SAI",
          "HAM",
          "NOR",
          "BOT",
          "OCO",
          "MAG",
          "TSU",
          "RIC",
          "ALO",
          "GAS",
          "VET",
          "ALB",
          "STR",
          "ZHO",
          "LAT",
          "HUL",
          "MSC"
         ],
         "categoryorder": "array",
         "domain": [
          0,
          1
         ],
         "title": {
          "text": "Name"
         }
        },
        "yaxis": {
         "anchor": "x",
         "domain": [
          0,
          1
         ],
         "range": [
          0,
          145
         ],
         "title": {
          "text": "Points"
         }
        }
       }
      }
     },
     "metadata": {},
     "output_type": "display_data"
    }
   ],
   "source": [
    "\n",
    "\n",
    "\n",
    "\n",
    "# def champ_pos(drv):\n",
    "\n",
    "#Récupération des noms et des couleurs à partir d'une course\n",
    "\n",
    "drv = pd.read_csv('../data/drivers_standings.csv', index_col=0)\n",
    "drivers_info = pd.read_csv('../data/drivers_info.csv', index_col=0)\n",
    "\n",
    "\n",
    "# #Jointure entre les deux dataframe\n",
    "\n",
    "df_class = drivers_info.merge(drv, how='right', left_on = ['Abbreviation'], right_index = True).reset_index()\n",
    "df_class\n",
    "\n",
    "#Modifie le dataframe pour avoir les courses en lignes\n",
    "\n",
    "nb = len(drv.transpose())+1\n",
    "df_final = pd.DataFrame(columns=['DriverNumber', 'BroadcastName', 'Abbreviation', 'TeamName', 'TeamColor', 'FirstName', 'LastName', 'FullName','Points', 'Race'])\n",
    "for i in range(1,nb):\n",
    "    df_class_ligne = df_class.loc[:,['DriverNumber', 'BroadcastName', 'Abbreviation', 'TeamName', 'TeamColor', 'FirstName', 'LastName', 'FullName',str(i)]]\n",
    "    df_class_ligne['Race'] = i\n",
    "    df_class_ligne.rename(columns={str(i): 'Points'}, inplace = True)\n",
    "    df_final = pd.concat([df_final, df_class_ligne])\n",
    "    \n",
    "df_final.reset_index(drop = True, inplace = True)\n",
    "\n",
    "\n",
    "#Ajoute une colonne classement avec la position au championnat à l'issue de chaque course\n",
    "\n",
    "df_final = df_final.sort_values(by=['Race', 'Points'], ascending = [True, False])\n",
    "df_final['classement']=len(drv)\n",
    "longueur = len(df_final)\n",
    "df_final.iloc[0,10] = 1\n",
    "\n",
    "for i in range(1,longueur -1):\n",
    "    if df_final.iloc[i,9] == df_final.iloc[i-1,9]:\n",
    "        df_final.iloc[i,10] = df_final.iloc[i-1,10] +  1\n",
    "    else :\n",
    "        df_final.iloc[i,10] = 1\n",
    "        \n",
    "        \n",
    "# #Génère une course 0 avec le classement cumulé de la dernière (permet de mettre les pilotes dans l'ordre du dernier classement)\n",
    "\n",
    "df_init = df_final[df_final['Race']==nb-1].copy()\n",
    "df_init['Race'] = 0\n",
    "df_init['Points'] = 0\n",
    "\n",
    "df_final = pd.concat([df_final, df_init])\n",
    "        \n",
    "# Paramétrage du dictionnaire des couleurs\n",
    "\n",
    "colorMap ={}\n",
    "df_class = pd.DataFrame(df_class)\n",
    "\n",
    "for i in df_class.itertuples() :\n",
    "    colorMap[i.Abbreviation] = '#' + i.TeamColor\n",
    "        \n",
    "        \n",
    "#Création du graphique\n",
    "\n",
    "\n",
    "#def champ_pos(df_final):\n",
    "\n",
    "df_final = df_final.sort_values(by=['Race', 'classement'], ascending = [True, True])\n",
    "\n",
    "maxY = df_final['Points'].max() + 20\n",
    "\n",
    "fig = px.bar(df_final, x=\"Abbreviation\", y=\"Points\",  color = \"Abbreviation\", color_discrete_map = colorMap, animation_frame=\"Race\", \n",
    "            labels=dict(Abbreviation=\"Name\", classement=\"Ranking\", FullName = \"Pilot\"), width = 1000, height=800, text = df_final['classement'])\n",
    "\n",
    "\n",
    "fig.update_layout(title_text='Evolution of points in the championship', title_x=0.5, transition = {'duration': 1000}, showlegend = False)\n",
    "\n",
    "fig.update_traces(textposition='inside', hovertemplate='Points: %{y}' )\n",
    "\n",
    "fig.update_yaxes(range=[0, maxY])\n",
    "\n",
    "fig.show()"
   ]
  },
  {
   "cell_type": "code",
   "execution_count": null,
   "metadata": {},
   "outputs": [],
   "source": []
  }
 ],
 "metadata": {
  "interpreter": {
   "hash": "398748c372d42d99dcfa9ac8f694c5d292e22baf2e524ae29249ce2ce8b32818"
  },
  "kernelspec": {
   "display_name": "Python 3.9.12 ('base')",
   "language": "python",
   "name": "python3"
  },
  "language_info": {
   "codemirror_mode": {
    "name": "ipython",
    "version": 3
   },
   "file_extension": ".py",
   "mimetype": "text/x-python",
   "name": "python",
   "nbconvert_exporter": "python",
   "pygments_lexer": "ipython3",
   "version": "3.9.12"
  },
  "orig_nbformat": 4
 },
 "nbformat": 4,
 "nbformat_minor": 2
}
