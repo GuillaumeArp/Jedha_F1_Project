{
 "cells": [
  {
   "cell_type": "code",
   "execution_count": 204,
   "metadata": {},
   "outputs": [],
   "source": [
    "import matplotlib.pyplot as plt\n",
    "import pandas as pd\n",
    "from timple.timedelta import strftimedelta\n",
    "import fastf1 as ff1\n",
    "import fastf1.plotting\n",
    "from fastf1.core import Laps\n",
    "import plotly.express as px\n",
    "import numpy as np\n",
    "import warnings\n",
    "import re\n",
    "import math\n",
    "warnings.simplefilter(action='ignore', category=FutureWarning)\n",
    "pd.options.display.max_rows = 75\n",
    "pd.options.display.max_columns = 99\n",
    "\n",
    "fastf1.Cache.enable_cache('../cache')\n",
    "fastf1.plotting.setup_mpl(mpl_timedelta_support=True, color_scheme=None, misc_mpl_mods=False)"
   ]
  },
  {
   "cell_type": "code",
   "execution_count": 205,
   "metadata": {},
   "outputs": [
    {
     "data": {
      "text/html": [
       "<div>\n",
       "<style scoped>\n",
       "    .dataframe tbody tr th:only-of-type {\n",
       "        vertical-align: middle;\n",
       "    }\n",
       "\n",
       "    .dataframe tbody tr th {\n",
       "        vertical-align: top;\n",
       "    }\n",
       "\n",
       "    .dataframe thead th {\n",
       "        text-align: right;\n",
       "    }\n",
       "</style>\n",
       "<table border=\"1\" class=\"dataframe\">\n",
       "  <thead>\n",
       "    <tr style=\"text-align: right;\">\n",
       "      <th></th>\n",
       "      <th>Time</th>\n",
       "      <th>DriverNumber</th>\n",
       "      <th>LapTime</th>\n",
       "      <th>LapNumber</th>\n",
       "      <th>Stint</th>\n",
       "      <th>PitOutTime</th>\n",
       "      <th>PitInTime</th>\n",
       "      <th>Sector1Time</th>\n",
       "      <th>Sector2Time</th>\n",
       "      <th>Sector3Time</th>\n",
       "      <th>Sector1SessionTime</th>\n",
       "      <th>Sector2SessionTime</th>\n",
       "      <th>Sector3SessionTime</th>\n",
       "      <th>SpeedI1</th>\n",
       "      <th>SpeedI2</th>\n",
       "      <th>SpeedFL</th>\n",
       "      <th>SpeedST</th>\n",
       "      <th>IsPersonalBest</th>\n",
       "      <th>Compound</th>\n",
       "      <th>TyreLife</th>\n",
       "      <th>FreshTyre</th>\n",
       "      <th>LapStartTime</th>\n",
       "      <th>Team</th>\n",
       "      <th>Driver</th>\n",
       "      <th>TrackStatus</th>\n",
       "      <th>IsAccurate</th>\n",
       "      <th>LapStartDate</th>\n",
       "      <th>Session</th>\n",
       "    </tr>\n",
       "  </thead>\n",
       "  <tbody>\n",
       "    <tr>\n",
       "      <th>2</th>\n",
       "      <td>0 days 00:21:57.674000</td>\n",
       "      <td>1</td>\n",
       "      <td>0 days 00:01:37.766000</td>\n",
       "      <td>3.0</td>\n",
       "      <td>1.0</td>\n",
       "      <td>NaN</td>\n",
       "      <td>NaN</td>\n",
       "      <td>0 days 00:00:30.695000</td>\n",
       "      <td>0 days 00:00:41.580000</td>\n",
       "      <td>0 days 00:00:25.491000</td>\n",
       "      <td>0 days 00:20:50.603000</td>\n",
       "      <td>0 days 00:21:32.183000</td>\n",
       "      <td>0 days 00:21:57.674000</td>\n",
       "      <td>228.0</td>\n",
       "      <td>263.0</td>\n",
       "      <td>176.0</td>\n",
       "      <td>306.0</td>\n",
       "      <td>False</td>\n",
       "      <td>HARD</td>\n",
       "      <td>3.0</td>\n",
       "      <td>True</td>\n",
       "      <td>0 days 00:20:19.908000</td>\n",
       "      <td>Red Bull Racing</td>\n",
       "      <td>VER</td>\n",
       "      <td>2</td>\n",
       "      <td>True</td>\n",
       "      <td>2022-03-18 12:05:19.921000</td>\n",
       "      <td>Practice 1</td>\n",
       "    </tr>\n",
       "    <tr>\n",
       "      <th>5</th>\n",
       "      <td>0 days 00:39:39.617000</td>\n",
       "      <td>1</td>\n",
       "      <td>0 days 00:01:34.783000</td>\n",
       "      <td>6.0</td>\n",
       "      <td>2.0</td>\n",
       "      <td>NaN</td>\n",
       "      <td>NaN</td>\n",
       "      <td>0 days 00:00:30.119000</td>\n",
       "      <td>0 days 00:00:40.789000</td>\n",
       "      <td>0 days 00:00:23.875000</td>\n",
       "      <td>0 days 00:38:34.953000</td>\n",
       "      <td>0 days 00:39:15.742000</td>\n",
       "      <td>0 days 00:39:39.617000</td>\n",
       "      <td>232.0</td>\n",
       "      <td>263.0</td>\n",
       "      <td>278.0</td>\n",
       "      <td>309.0</td>\n",
       "      <td>False</td>\n",
       "      <td>MEDIUM</td>\n",
       "      <td>3.0</td>\n",
       "      <td>True</td>\n",
       "      <td>0 days 00:38:04.834000</td>\n",
       "      <td>Red Bull Racing</td>\n",
       "      <td>VER</td>\n",
       "      <td>1</td>\n",
       "      <td>True</td>\n",
       "      <td>2022-03-18 12:23:04.847000</td>\n",
       "      <td>Practice 1</td>\n",
       "    </tr>\n",
       "    <tr>\n",
       "      <th>7</th>\n",
       "      <td>0 days 00:43:23.119000</td>\n",
       "      <td>1</td>\n",
       "      <td>0 days 00:01:34.742000</td>\n",
       "      <td>8.0</td>\n",
       "      <td>2.0</td>\n",
       "      <td>NaN</td>\n",
       "      <td>NaN</td>\n",
       "      <td>0 days 00:00:30.224000</td>\n",
       "      <td>0 days 00:00:40.815000</td>\n",
       "      <td>0 days 00:00:23.703000</td>\n",
       "      <td>0 days 00:42:18.601000</td>\n",
       "      <td>0 days 00:42:59.416000</td>\n",
       "      <td>0 days 00:43:23.119000</td>\n",
       "      <td>231.0</td>\n",
       "      <td>263.0</td>\n",
       "      <td>279.0</td>\n",
       "      <td>310.0</td>\n",
       "      <td>True</td>\n",
       "      <td>MEDIUM</td>\n",
       "      <td>5.0</td>\n",
       "      <td>True</td>\n",
       "      <td>0 days 00:41:48.377000</td>\n",
       "      <td>Red Bull Racing</td>\n",
       "      <td>VER</td>\n",
       "      <td>1</td>\n",
       "      <td>True</td>\n",
       "      <td>2022-03-18 12:26:48.390000</td>\n",
       "      <td>Practice 1</td>\n",
       "    </tr>\n",
       "    <tr>\n",
       "      <th>11</th>\n",
       "      <td>0 days 01:00:16.005000</td>\n",
       "      <td>1</td>\n",
       "      <td>0 days 00:01:38.702000</td>\n",
       "      <td>12.0</td>\n",
       "      <td>4.0</td>\n",
       "      <td>NaN</td>\n",
       "      <td>NaN</td>\n",
       "      <td>0 days 00:00:31.520000</td>\n",
       "      <td>0 days 00:00:42.499000</td>\n",
       "      <td>0 days 00:00:24.683000</td>\n",
       "      <td>0 days 00:59:08.823000</td>\n",
       "      <td>0 days 00:59:51.322000</td>\n",
       "      <td>0 days 01:00:16.005000</td>\n",
       "      <td>NaN</td>\n",
       "      <td>255.0</td>\n",
       "      <td>264.0</td>\n",
       "      <td>291.0</td>\n",
       "      <td>False</td>\n",
       "      <td>MEDIUM</td>\n",
       "      <td>9.0</td>\n",
       "      <td>False</td>\n",
       "      <td>0 days 00:58:37.303000</td>\n",
       "      <td>Red Bull Racing</td>\n",
       "      <td>VER</td>\n",
       "      <td>1</td>\n",
       "      <td>True</td>\n",
       "      <td>2022-03-18 12:43:37.316000</td>\n",
       "      <td>Practice 1</td>\n",
       "    </tr>\n",
       "    <tr>\n",
       "      <th>12</th>\n",
       "      <td>0 days 01:01:55.195000</td>\n",
       "      <td>1</td>\n",
       "      <td>0 days 00:01:39.190000</td>\n",
       "      <td>13.0</td>\n",
       "      <td>4.0</td>\n",
       "      <td>NaN</td>\n",
       "      <td>NaN</td>\n",
       "      <td>0 days 00:00:31.789000</td>\n",
       "      <td>0 days 00:00:42.890000</td>\n",
       "      <td>0 days 00:00:24.511000</td>\n",
       "      <td>0 days 01:00:47.794000</td>\n",
       "      <td>0 days 01:01:30.684000</td>\n",
       "      <td>0 days 01:01:55.195000</td>\n",
       "      <td>224.0</td>\n",
       "      <td>255.0</td>\n",
       "      <td>265.0</td>\n",
       "      <td>285.0</td>\n",
       "      <td>False</td>\n",
       "      <td>MEDIUM</td>\n",
       "      <td>10.0</td>\n",
       "      <td>False</td>\n",
       "      <td>0 days 01:00:16.005000</td>\n",
       "      <td>Red Bull Racing</td>\n",
       "      <td>VER</td>\n",
       "      <td>1</td>\n",
       "      <td>True</td>\n",
       "      <td>2022-03-18 12:45:16.018000</td>\n",
       "      <td>Practice 1</td>\n",
       "    </tr>\n",
       "    <tr>\n",
       "      <th>...</th>\n",
       "      <td>...</td>\n",
       "      <td>...</td>\n",
       "      <td>...</td>\n",
       "      <td>...</td>\n",
       "      <td>...</td>\n",
       "      <td>...</td>\n",
       "      <td>...</td>\n",
       "      <td>...</td>\n",
       "      <td>...</td>\n",
       "      <td>...</td>\n",
       "      <td>...</td>\n",
       "      <td>...</td>\n",
       "      <td>...</td>\n",
       "      <td>...</td>\n",
       "      <td>...</td>\n",
       "      <td>...</td>\n",
       "      <td>...</td>\n",
       "      <td>...</td>\n",
       "      <td>...</td>\n",
       "      <td>...</td>\n",
       "      <td>...</td>\n",
       "      <td>...</td>\n",
       "      <td>...</td>\n",
       "      <td>...</td>\n",
       "      <td>...</td>\n",
       "      <td>...</td>\n",
       "      <td>...</td>\n",
       "      <td>...</td>\n",
       "    </tr>\n",
       "    <tr>\n",
       "      <th>313</th>\n",
       "      <td>0 days 00:35:26.406000</td>\n",
       "      <td>77</td>\n",
       "      <td>0 days 00:01:35.365000</td>\n",
       "      <td>7.0</td>\n",
       "      <td>2.0</td>\n",
       "      <td>NaN</td>\n",
       "      <td>NaN</td>\n",
       "      <td>0 days 00:00:30.481000</td>\n",
       "      <td>0 days 00:00:41.119000</td>\n",
       "      <td>0 days 00:00:23.765000</td>\n",
       "      <td>0 days 00:34:21.522000</td>\n",
       "      <td>0 days 00:35:02.641000</td>\n",
       "      <td>0 days 00:35:26.406000</td>\n",
       "      <td>235.0</td>\n",
       "      <td>265.0</td>\n",
       "      <td>281.0</td>\n",
       "      <td>305.0</td>\n",
       "      <td>False</td>\n",
       "      <td>SOFT</td>\n",
       "      <td>5.0</td>\n",
       "      <td>True</td>\n",
       "      <td>0 days 00:33:51.041000</td>\n",
       "      <td>Alfa Romeo</td>\n",
       "      <td>BOT</td>\n",
       "      <td>1</td>\n",
       "      <td>True</td>\n",
       "      <td>2022-03-19 12:19:10.662000</td>\n",
       "      <td>Practice 3</td>\n",
       "    </tr>\n",
       "    <tr>\n",
       "      <th>315</th>\n",
       "      <td>0 days 00:39:19.139000</td>\n",
       "      <td>77</td>\n",
       "      <td>0 days 00:01:34.806000</td>\n",
       "      <td>9.0</td>\n",
       "      <td>2.0</td>\n",
       "      <td>NaN</td>\n",
       "      <td>NaN</td>\n",
       "      <td>0 days 00:00:30.338000</td>\n",
       "      <td>0 days 00:00:40.695000</td>\n",
       "      <td>0 days 00:00:23.773000</td>\n",
       "      <td>0 days 00:38:14.671000</td>\n",
       "      <td>0 days 00:38:55.366000</td>\n",
       "      <td>0 days 00:39:19.139000</td>\n",
       "      <td>236.0</td>\n",
       "      <td>266.0</td>\n",
       "      <td>282.0</td>\n",
       "      <td>309.0</td>\n",
       "      <td>False</td>\n",
       "      <td>SOFT</td>\n",
       "      <td>7.0</td>\n",
       "      <td>True</td>\n",
       "      <td>0 days 00:37:44.333000</td>\n",
       "      <td>Alfa Romeo</td>\n",
       "      <td>BOT</td>\n",
       "      <td>1</td>\n",
       "      <td>True</td>\n",
       "      <td>2022-03-19 12:23:03.954000</td>\n",
       "      <td>Practice 3</td>\n",
       "    </tr>\n",
       "    <tr>\n",
       "      <th>319</th>\n",
       "      <td>0 days 00:58:18.855000</td>\n",
       "      <td>77</td>\n",
       "      <td>0 days 00:01:33.733000</td>\n",
       "      <td>13.0</td>\n",
       "      <td>4.0</td>\n",
       "      <td>NaN</td>\n",
       "      <td>NaN</td>\n",
       "      <td>0 days 00:00:30.097000</td>\n",
       "      <td>0 days 00:00:40.138000</td>\n",
       "      <td>0 days 00:00:23.498000</td>\n",
       "      <td>0 days 00:57:15.219000</td>\n",
       "      <td>0 days 00:57:55.357000</td>\n",
       "      <td>0 days 00:58:18.855000</td>\n",
       "      <td>234.0</td>\n",
       "      <td>266.0</td>\n",
       "      <td>282.0</td>\n",
       "      <td>310.0</td>\n",
       "      <td>True</td>\n",
       "      <td>SOFT</td>\n",
       "      <td>3.0</td>\n",
       "      <td>True</td>\n",
       "      <td>0 days 00:56:45.122000</td>\n",
       "      <td>Alfa Romeo</td>\n",
       "      <td>BOT</td>\n",
       "      <td>1</td>\n",
       "      <td>True</td>\n",
       "      <td>2022-03-19 12:42:04.743000</td>\n",
       "      <td>Practice 3</td>\n",
       "    </tr>\n",
       "    <tr>\n",
       "      <th>321</th>\n",
       "      <td>0 days 01:02:03.424000</td>\n",
       "      <td>77</td>\n",
       "      <td>0 days 00:01:33.889000</td>\n",
       "      <td>15.0</td>\n",
       "      <td>4.0</td>\n",
       "      <td>NaN</td>\n",
       "      <td>NaN</td>\n",
       "      <td>0 days 00:00:29.995000</td>\n",
       "      <td>0 days 00:00:40.405000</td>\n",
       "      <td>0 days 00:00:23.489000</td>\n",
       "      <td>0 days 01:00:59.530000</td>\n",
       "      <td>0 days 01:01:39.935000</td>\n",
       "      <td>0 days 01:02:03.424000</td>\n",
       "      <td>236.0</td>\n",
       "      <td>267.0</td>\n",
       "      <td>282.0</td>\n",
       "      <td>310.0</td>\n",
       "      <td>False</td>\n",
       "      <td>SOFT</td>\n",
       "      <td>5.0</td>\n",
       "      <td>True</td>\n",
       "      <td>0 days 01:00:29.535000</td>\n",
       "      <td>Alfa Romeo</td>\n",
       "      <td>BOT</td>\n",
       "      <td>1</td>\n",
       "      <td>True</td>\n",
       "      <td>2022-03-19 12:45:49.156000</td>\n",
       "      <td>Practice 3</td>\n",
       "    </tr>\n",
       "    <tr>\n",
       "      <th>323</th>\n",
       "      <td>0 days 01:06:00.682000</td>\n",
       "      <td>77</td>\n",
       "      <td>0 days 00:01:33.861000</td>\n",
       "      <td>17.0</td>\n",
       "      <td>4.0</td>\n",
       "      <td>NaN</td>\n",
       "      <td>NaN</td>\n",
       "      <td>0 days 00:00:29.918000</td>\n",
       "      <td>0 days 00:00:40.595000</td>\n",
       "      <td>0 days 00:00:23.348000</td>\n",
       "      <td>0 days 01:04:56.739000</td>\n",
       "      <td>0 days 01:05:37.334000</td>\n",
       "      <td>0 days 01:06:00.682000</td>\n",
       "      <td>237.0</td>\n",
       "      <td>266.0</td>\n",
       "      <td>284.0</td>\n",
       "      <td>310.0</td>\n",
       "      <td>False</td>\n",
       "      <td>SOFT</td>\n",
       "      <td>7.0</td>\n",
       "      <td>True</td>\n",
       "      <td>0 days 01:04:26.821000</td>\n",
       "      <td>Alfa Romeo</td>\n",
       "      <td>BOT</td>\n",
       "      <td>1</td>\n",
       "      <td>True</td>\n",
       "      <td>2022-03-19 12:49:46.442000</td>\n",
       "      <td>Practice 3</td>\n",
       "    </tr>\n",
       "  </tbody>\n",
       "</table>\n",
       "<p>370 rows × 28 columns</p>\n",
       "</div>"
      ],
      "text/plain": [
       "                       Time  DriverNumber                 LapTime  LapNumber  \\\n",
       "2    0 days 00:21:57.674000             1  0 days 00:01:37.766000        3.0   \n",
       "5    0 days 00:39:39.617000             1  0 days 00:01:34.783000        6.0   \n",
       "7    0 days 00:43:23.119000             1  0 days 00:01:34.742000        8.0   \n",
       "11   0 days 01:00:16.005000             1  0 days 00:01:38.702000       12.0   \n",
       "12   0 days 01:01:55.195000             1  0 days 00:01:39.190000       13.0   \n",
       "..                      ...           ...                     ...        ...   \n",
       "313  0 days 00:35:26.406000            77  0 days 00:01:35.365000        7.0   \n",
       "315  0 days 00:39:19.139000            77  0 days 00:01:34.806000        9.0   \n",
       "319  0 days 00:58:18.855000            77  0 days 00:01:33.733000       13.0   \n",
       "321  0 days 01:02:03.424000            77  0 days 00:01:33.889000       15.0   \n",
       "323  0 days 01:06:00.682000            77  0 days 00:01:33.861000       17.0   \n",
       "\n",
       "     Stint  PitOutTime PitInTime             Sector1Time  \\\n",
       "2      1.0         NaN       NaN  0 days 00:00:30.695000   \n",
       "5      2.0         NaN       NaN  0 days 00:00:30.119000   \n",
       "7      2.0         NaN       NaN  0 days 00:00:30.224000   \n",
       "11     4.0         NaN       NaN  0 days 00:00:31.520000   \n",
       "12     4.0         NaN       NaN  0 days 00:00:31.789000   \n",
       "..     ...         ...       ...                     ...   \n",
       "313    2.0         NaN       NaN  0 days 00:00:30.481000   \n",
       "315    2.0         NaN       NaN  0 days 00:00:30.338000   \n",
       "319    4.0         NaN       NaN  0 days 00:00:30.097000   \n",
       "321    4.0         NaN       NaN  0 days 00:00:29.995000   \n",
       "323    4.0         NaN       NaN  0 days 00:00:29.918000   \n",
       "\n",
       "                Sector2Time             Sector3Time      Sector1SessionTime  \\\n",
       "2    0 days 00:00:41.580000  0 days 00:00:25.491000  0 days 00:20:50.603000   \n",
       "5    0 days 00:00:40.789000  0 days 00:00:23.875000  0 days 00:38:34.953000   \n",
       "7    0 days 00:00:40.815000  0 days 00:00:23.703000  0 days 00:42:18.601000   \n",
       "11   0 days 00:00:42.499000  0 days 00:00:24.683000  0 days 00:59:08.823000   \n",
       "12   0 days 00:00:42.890000  0 days 00:00:24.511000  0 days 01:00:47.794000   \n",
       "..                      ...                     ...                     ...   \n",
       "313  0 days 00:00:41.119000  0 days 00:00:23.765000  0 days 00:34:21.522000   \n",
       "315  0 days 00:00:40.695000  0 days 00:00:23.773000  0 days 00:38:14.671000   \n",
       "319  0 days 00:00:40.138000  0 days 00:00:23.498000  0 days 00:57:15.219000   \n",
       "321  0 days 00:00:40.405000  0 days 00:00:23.489000  0 days 01:00:59.530000   \n",
       "323  0 days 00:00:40.595000  0 days 00:00:23.348000  0 days 01:04:56.739000   \n",
       "\n",
       "         Sector2SessionTime      Sector3SessionTime  SpeedI1  SpeedI2  \\\n",
       "2    0 days 00:21:32.183000  0 days 00:21:57.674000    228.0    263.0   \n",
       "5    0 days 00:39:15.742000  0 days 00:39:39.617000    232.0    263.0   \n",
       "7    0 days 00:42:59.416000  0 days 00:43:23.119000    231.0    263.0   \n",
       "11   0 days 00:59:51.322000  0 days 01:00:16.005000      NaN    255.0   \n",
       "12   0 days 01:01:30.684000  0 days 01:01:55.195000    224.0    255.0   \n",
       "..                      ...                     ...      ...      ...   \n",
       "313  0 days 00:35:02.641000  0 days 00:35:26.406000    235.0    265.0   \n",
       "315  0 days 00:38:55.366000  0 days 00:39:19.139000    236.0    266.0   \n",
       "319  0 days 00:57:55.357000  0 days 00:58:18.855000    234.0    266.0   \n",
       "321  0 days 01:01:39.935000  0 days 01:02:03.424000    236.0    267.0   \n",
       "323  0 days 01:05:37.334000  0 days 01:06:00.682000    237.0    266.0   \n",
       "\n",
       "     SpeedFL  SpeedST  IsPersonalBest Compound  TyreLife FreshTyre  \\\n",
       "2      176.0    306.0           False     HARD       3.0      True   \n",
       "5      278.0    309.0           False   MEDIUM       3.0      True   \n",
       "7      279.0    310.0            True   MEDIUM       5.0      True   \n",
       "11     264.0    291.0           False   MEDIUM       9.0     False   \n",
       "12     265.0    285.0           False   MEDIUM      10.0     False   \n",
       "..       ...      ...             ...      ...       ...       ...   \n",
       "313    281.0    305.0           False     SOFT       5.0      True   \n",
       "315    282.0    309.0           False     SOFT       7.0      True   \n",
       "319    282.0    310.0            True     SOFT       3.0      True   \n",
       "321    282.0    310.0           False     SOFT       5.0      True   \n",
       "323    284.0    310.0           False     SOFT       7.0      True   \n",
       "\n",
       "               LapStartTime             Team Driver  TrackStatus  IsAccurate  \\\n",
       "2    0 days 00:20:19.908000  Red Bull Racing    VER            2        True   \n",
       "5    0 days 00:38:04.834000  Red Bull Racing    VER            1        True   \n",
       "7    0 days 00:41:48.377000  Red Bull Racing    VER            1        True   \n",
       "11   0 days 00:58:37.303000  Red Bull Racing    VER            1        True   \n",
       "12   0 days 01:00:16.005000  Red Bull Racing    VER            1        True   \n",
       "..                      ...              ...    ...          ...         ...   \n",
       "313  0 days 00:33:51.041000       Alfa Romeo    BOT            1        True   \n",
       "315  0 days 00:37:44.333000       Alfa Romeo    BOT            1        True   \n",
       "319  0 days 00:56:45.122000       Alfa Romeo    BOT            1        True   \n",
       "321  0 days 01:00:29.535000       Alfa Romeo    BOT            1        True   \n",
       "323  0 days 01:04:26.821000       Alfa Romeo    BOT            1        True   \n",
       "\n",
       "                   LapStartDate     Session  \n",
       "2    2022-03-18 12:05:19.921000  Practice 1  \n",
       "5    2022-03-18 12:23:04.847000  Practice 1  \n",
       "7    2022-03-18 12:26:48.390000  Practice 1  \n",
       "11   2022-03-18 12:43:37.316000  Practice 1  \n",
       "12   2022-03-18 12:45:16.018000  Practice 1  \n",
       "..                          ...         ...  \n",
       "313  2022-03-19 12:19:10.662000  Practice 3  \n",
       "315  2022-03-19 12:23:03.954000  Practice 3  \n",
       "319  2022-03-19 12:42:04.743000  Practice 3  \n",
       "321  2022-03-19 12:45:49.156000  Practice 3  \n",
       "323  2022-03-19 12:49:46.442000  Practice 3  \n",
       "\n",
       "[370 rows x 28 columns]"
      ]
     },
     "execution_count": 205,
     "metadata": {},
     "output_type": "execute_result"
    }
   ],
   "source": [
    "# maListe = ['FP1', 'FP2', 'FP3']\n",
    "# dffp = pd.DataFrame(columns=['Time', 'DriverNumber', 'LapTime', 'LapNumber', 'Stint', 'PitOutTime',\n",
    "#        'PitInTime', 'Sector1Time', 'Sector2Time', 'Sector3Time',\n",
    "#        'Sector1SessionTime', 'Sector2SessionTime', 'Sector3SessionTime',\n",
    "#        'SpeedI1', 'SpeedI2', 'SpeedFL', 'SpeedST', 'IsPersonalBest',\n",
    "#        'Compound', 'TyreLife', 'FreshTyre', 'LapStartTime', 'Team', 'Driver',\n",
    "#        'TrackStatus', 'IsAccurate', 'LapStartDate'])\n",
    "\n",
    "# for i in maListe:\n",
    "#     fp = ff1.get_session(2022, 7, i)\n",
    "#     fp.load(weather=True, telemetry=True)\n",
    "#     df1 = fp.laps.pick_quicklaps()\n",
    "#     df1 = pd.DataFrame(df1)\n",
    "#     df1['Session'] = i\n",
    "#     dffp = pd.concat([dffp, df1])\n",
    "\n",
    "dffp = pd.read_csv('https://f1-jedha-bucket.s3.eu-west-3.amazonaws.com/data/full_data-round_1.csv', index_col=0)\n",
    "dffp"
   ]
  },
  {
   "cell_type": "code",
   "execution_count": 206,
   "metadata": {},
   "outputs": [
    {
     "data": {
      "text/html": [
       "<div>\n",
       "<style scoped>\n",
       "    .dataframe tbody tr th:only-of-type {\n",
       "        vertical-align: middle;\n",
       "    }\n",
       "\n",
       "    .dataframe tbody tr th {\n",
       "        vertical-align: top;\n",
       "    }\n",
       "\n",
       "    .dataframe thead th {\n",
       "        text-align: right;\n",
       "    }\n",
       "</style>\n",
       "<table border=\"1\" class=\"dataframe\">\n",
       "  <thead>\n",
       "    <tr style=\"text-align: right;\">\n",
       "      <th></th>\n",
       "      <th>DriverNumber</th>\n",
       "      <th>LapTime</th>\n",
       "      <th>LapNumber</th>\n",
       "      <th>Stint</th>\n",
       "      <th>Compound</th>\n",
       "      <th>TyreLife</th>\n",
       "      <th>FreshTyre</th>\n",
       "      <th>Team</th>\n",
       "      <th>Driver</th>\n",
       "      <th>TrackStatus</th>\n",
       "      <th>Session</th>\n",
       "    </tr>\n",
       "  </thead>\n",
       "  <tbody>\n",
       "    <tr>\n",
       "      <th>2</th>\n",
       "      <td>1</td>\n",
       "      <td>0 days 00:01:37.766000</td>\n",
       "      <td>3.0</td>\n",
       "      <td>1.0</td>\n",
       "      <td>HARD</td>\n",
       "      <td>3.0</td>\n",
       "      <td>True</td>\n",
       "      <td>Red Bull Racing</td>\n",
       "      <td>VER</td>\n",
       "      <td>2</td>\n",
       "      <td>Practice 1</td>\n",
       "    </tr>\n",
       "    <tr>\n",
       "      <th>5</th>\n",
       "      <td>1</td>\n",
       "      <td>0 days 00:01:34.783000</td>\n",
       "      <td>6.0</td>\n",
       "      <td>2.0</td>\n",
       "      <td>MEDIUM</td>\n",
       "      <td>3.0</td>\n",
       "      <td>True</td>\n",
       "      <td>Red Bull Racing</td>\n",
       "      <td>VER</td>\n",
       "      <td>1</td>\n",
       "      <td>Practice 1</td>\n",
       "    </tr>\n",
       "    <tr>\n",
       "      <th>7</th>\n",
       "      <td>1</td>\n",
       "      <td>0 days 00:01:34.742000</td>\n",
       "      <td>8.0</td>\n",
       "      <td>2.0</td>\n",
       "      <td>MEDIUM</td>\n",
       "      <td>5.0</td>\n",
       "      <td>True</td>\n",
       "      <td>Red Bull Racing</td>\n",
       "      <td>VER</td>\n",
       "      <td>1</td>\n",
       "      <td>Practice 1</td>\n",
       "    </tr>\n",
       "    <tr>\n",
       "      <th>11</th>\n",
       "      <td>1</td>\n",
       "      <td>0 days 00:01:38.702000</td>\n",
       "      <td>12.0</td>\n",
       "      <td>4.0</td>\n",
       "      <td>MEDIUM</td>\n",
       "      <td>9.0</td>\n",
       "      <td>False</td>\n",
       "      <td>Red Bull Racing</td>\n",
       "      <td>VER</td>\n",
       "      <td>1</td>\n",
       "      <td>Practice 1</td>\n",
       "    </tr>\n",
       "    <tr>\n",
       "      <th>12</th>\n",
       "      <td>1</td>\n",
       "      <td>0 days 00:01:39.190000</td>\n",
       "      <td>13.0</td>\n",
       "      <td>4.0</td>\n",
       "      <td>MEDIUM</td>\n",
       "      <td>10.0</td>\n",
       "      <td>False</td>\n",
       "      <td>Red Bull Racing</td>\n",
       "      <td>VER</td>\n",
       "      <td>1</td>\n",
       "      <td>Practice 1</td>\n",
       "    </tr>\n",
       "    <tr>\n",
       "      <th>...</th>\n",
       "      <td>...</td>\n",
       "      <td>...</td>\n",
       "      <td>...</td>\n",
       "      <td>...</td>\n",
       "      <td>...</td>\n",
       "      <td>...</td>\n",
       "      <td>...</td>\n",
       "      <td>...</td>\n",
       "      <td>...</td>\n",
       "      <td>...</td>\n",
       "      <td>...</td>\n",
       "    </tr>\n",
       "    <tr>\n",
       "      <th>313</th>\n",
       "      <td>77</td>\n",
       "      <td>0 days 00:01:35.365000</td>\n",
       "      <td>7.0</td>\n",
       "      <td>2.0</td>\n",
       "      <td>SOFT</td>\n",
       "      <td>5.0</td>\n",
       "      <td>True</td>\n",
       "      <td>Alfa Romeo</td>\n",
       "      <td>BOT</td>\n",
       "      <td>1</td>\n",
       "      <td>Practice 3</td>\n",
       "    </tr>\n",
       "    <tr>\n",
       "      <th>315</th>\n",
       "      <td>77</td>\n",
       "      <td>0 days 00:01:34.806000</td>\n",
       "      <td>9.0</td>\n",
       "      <td>2.0</td>\n",
       "      <td>SOFT</td>\n",
       "      <td>7.0</td>\n",
       "      <td>True</td>\n",
       "      <td>Alfa Romeo</td>\n",
       "      <td>BOT</td>\n",
       "      <td>1</td>\n",
       "      <td>Practice 3</td>\n",
       "    </tr>\n",
       "    <tr>\n",
       "      <th>319</th>\n",
       "      <td>77</td>\n",
       "      <td>0 days 00:01:33.733000</td>\n",
       "      <td>13.0</td>\n",
       "      <td>4.0</td>\n",
       "      <td>SOFT</td>\n",
       "      <td>3.0</td>\n",
       "      <td>True</td>\n",
       "      <td>Alfa Romeo</td>\n",
       "      <td>BOT</td>\n",
       "      <td>1</td>\n",
       "      <td>Practice 3</td>\n",
       "    </tr>\n",
       "    <tr>\n",
       "      <th>321</th>\n",
       "      <td>77</td>\n",
       "      <td>0 days 00:01:33.889000</td>\n",
       "      <td>15.0</td>\n",
       "      <td>4.0</td>\n",
       "      <td>SOFT</td>\n",
       "      <td>5.0</td>\n",
       "      <td>True</td>\n",
       "      <td>Alfa Romeo</td>\n",
       "      <td>BOT</td>\n",
       "      <td>1</td>\n",
       "      <td>Practice 3</td>\n",
       "    </tr>\n",
       "    <tr>\n",
       "      <th>323</th>\n",
       "      <td>77</td>\n",
       "      <td>0 days 00:01:33.861000</td>\n",
       "      <td>17.0</td>\n",
       "      <td>4.0</td>\n",
       "      <td>SOFT</td>\n",
       "      <td>7.0</td>\n",
       "      <td>True</td>\n",
       "      <td>Alfa Romeo</td>\n",
       "      <td>BOT</td>\n",
       "      <td>1</td>\n",
       "      <td>Practice 3</td>\n",
       "    </tr>\n",
       "  </tbody>\n",
       "</table>\n",
       "<p>370 rows × 11 columns</p>\n",
       "</div>"
      ],
      "text/plain": [
       "     DriverNumber                 LapTime  LapNumber  Stint Compound  \\\n",
       "2               1  0 days 00:01:37.766000        3.0    1.0     HARD   \n",
       "5               1  0 days 00:01:34.783000        6.0    2.0   MEDIUM   \n",
       "7               1  0 days 00:01:34.742000        8.0    2.0   MEDIUM   \n",
       "11              1  0 days 00:01:38.702000       12.0    4.0   MEDIUM   \n",
       "12              1  0 days 00:01:39.190000       13.0    4.0   MEDIUM   \n",
       "..            ...                     ...        ...    ...      ...   \n",
       "313            77  0 days 00:01:35.365000        7.0    2.0     SOFT   \n",
       "315            77  0 days 00:01:34.806000        9.0    2.0     SOFT   \n",
       "319            77  0 days 00:01:33.733000       13.0    4.0     SOFT   \n",
       "321            77  0 days 00:01:33.889000       15.0    4.0     SOFT   \n",
       "323            77  0 days 00:01:33.861000       17.0    4.0     SOFT   \n",
       "\n",
       "     TyreLife FreshTyre             Team Driver  TrackStatus     Session  \n",
       "2         3.0      True  Red Bull Racing    VER            2  Practice 1  \n",
       "5         3.0      True  Red Bull Racing    VER            1  Practice 1  \n",
       "7         5.0      True  Red Bull Racing    VER            1  Practice 1  \n",
       "11        9.0     False  Red Bull Racing    VER            1  Practice 1  \n",
       "12       10.0     False  Red Bull Racing    VER            1  Practice 1  \n",
       "..        ...       ...              ...    ...          ...         ...  \n",
       "313       5.0      True       Alfa Romeo    BOT            1  Practice 3  \n",
       "315       7.0      True       Alfa Romeo    BOT            1  Practice 3  \n",
       "319       3.0      True       Alfa Romeo    BOT            1  Practice 3  \n",
       "321       5.0      True       Alfa Romeo    BOT            1  Practice 3  \n",
       "323       7.0      True       Alfa Romeo    BOT            1  Practice 3  \n",
       "\n",
       "[370 rows x 11 columns]"
      ]
     },
     "execution_count": 206,
     "metadata": {},
     "output_type": "execute_result"
    }
   ],
   "source": [
    "dffp = dffp.drop(dffp.columns[[0,5,6,7,8,9,10,11,12,13,14,15,16,17,21,25,26]], axis=1)\n",
    "dffp"
   ]
  },
  {
   "cell_type": "code",
   "execution_count": 207,
   "metadata": {},
   "outputs": [
    {
     "data": {
      "text/html": [
       "<div>\n",
       "<style scoped>\n",
       "    .dataframe tbody tr th:only-of-type {\n",
       "        vertical-align: middle;\n",
       "    }\n",
       "\n",
       "    .dataframe tbody tr th {\n",
       "        vertical-align: top;\n",
       "    }\n",
       "\n",
       "    .dataframe thead th {\n",
       "        text-align: right;\n",
       "    }\n",
       "</style>\n",
       "<table border=\"1\" class=\"dataframe\">\n",
       "  <thead>\n",
       "    <tr style=\"text-align: right;\">\n",
       "      <th></th>\n",
       "      <th>Compound</th>\n",
       "      <th>LapTime</th>\n",
       "    </tr>\n",
       "  </thead>\n",
       "  <tbody>\n",
       "    <tr>\n",
       "      <th>0</th>\n",
       "      <td>HARD</td>\n",
       "      <td>0 days 00:01:37.916250</td>\n",
       "    </tr>\n",
       "    <tr>\n",
       "      <th>1</th>\n",
       "      <td>MEDIUM</td>\n",
       "      <td>0 days 00:01:36.943102941</td>\n",
       "    </tr>\n",
       "    <tr>\n",
       "      <th>2</th>\n",
       "      <td>SOFT</td>\n",
       "      <td>0 days 00:01:35.426606741</td>\n",
       "    </tr>\n",
       "  </tbody>\n",
       "</table>\n",
       "</div>"
      ],
      "text/plain": [
       "  Compound                   LapTime\n",
       "0     HARD    0 days 00:01:37.916250\n",
       "1   MEDIUM 0 days 00:01:36.943102941\n",
       "2     SOFT 0 days 00:01:35.426606741"
      ]
     },
     "execution_count": 207,
     "metadata": {},
     "output_type": "execute_result"
    }
   ],
   "source": [
    "dffp_temp = dffp.copy()\n",
    "dffp_temp['LapTime'] = dffp_temp['LapTime'].apply(pd.to_timedelta)\n",
    "dffp_times = dffp_temp.groupby('Compound')['LapTime'].mean()\n",
    "dffp_times = pd.DataFrame(dffp_times).reset_index()\n",
    "dffp_times"
   ]
  },
  {
   "cell_type": "code",
   "execution_count": 208,
   "metadata": {},
   "outputs": [
    {
     "data": {
      "text/plain": [
       "Timedelta('0 days 00:00:01.867232444')"
      ]
     },
     "execution_count": 208,
     "metadata": {},
     "output_type": "execute_result"
    }
   ],
   "source": [
    "hard_to_soft = (dffp_times['LapTime'].iloc[0] - dffp_times['LapTime'].iloc[2]) * 0.75\n",
    "hard_to_soft"
   ]
  },
  {
   "cell_type": "code",
   "execution_count": 209,
   "metadata": {},
   "outputs": [
    {
     "data": {
      "text/plain": [
       "Timedelta('0 days 00:00:01.137372150')"
      ]
     },
     "execution_count": 209,
     "metadata": {},
     "output_type": "execute_result"
    }
   ],
   "source": [
    "medium_to_soft = (dffp_times['LapTime'].iloc[1] - dffp_times['LapTime'].iloc[2]) * 0.75\n",
    "medium_to_soft"
   ]
  },
  {
   "cell_type": "code",
   "execution_count": 210,
   "metadata": {},
   "outputs": [],
   "source": [
    "soft_baseline = 0.0"
   ]
  },
  {
   "cell_type": "code",
   "execution_count": 211,
   "metadata": {},
   "outputs": [
    {
     "data": {
      "text/html": [
       "<div>\n",
       "<style scoped>\n",
       "    .dataframe tbody tr th:only-of-type {\n",
       "        vertical-align: middle;\n",
       "    }\n",
       "\n",
       "    .dataframe tbody tr th {\n",
       "        vertical-align: top;\n",
       "    }\n",
       "\n",
       "    .dataframe thead th {\n",
       "        text-align: right;\n",
       "    }\n",
       "</style>\n",
       "<table border=\"1\" class=\"dataframe\">\n",
       "  <thead>\n",
       "    <tr style=\"text-align: right;\">\n",
       "      <th></th>\n",
       "      <th>DriverNumber</th>\n",
       "      <th>LapTime</th>\n",
       "      <th>LapNumber</th>\n",
       "      <th>Stint</th>\n",
       "      <th>Compound</th>\n",
       "      <th>TyreLife</th>\n",
       "      <th>FreshTyre</th>\n",
       "      <th>Team</th>\n",
       "      <th>Driver</th>\n",
       "      <th>TrackStatus</th>\n",
       "      <th>Session</th>\n",
       "    </tr>\n",
       "  </thead>\n",
       "  <tbody>\n",
       "    <tr>\n",
       "      <th>2</th>\n",
       "      <td>1</td>\n",
       "      <td>0 days 00:01:37.766000</td>\n",
       "      <td>3.0</td>\n",
       "      <td>1.0</td>\n",
       "      <td>HARD</td>\n",
       "      <td>3.0</td>\n",
       "      <td>True</td>\n",
       "      <td>Red Bull Racing</td>\n",
       "      <td>VER</td>\n",
       "      <td>2</td>\n",
       "      <td>Practice 1</td>\n",
       "    </tr>\n",
       "    <tr>\n",
       "      <th>5</th>\n",
       "      <td>1</td>\n",
       "      <td>0 days 00:01:34.783000</td>\n",
       "      <td>6.0</td>\n",
       "      <td>2.0</td>\n",
       "      <td>MEDIUM</td>\n",
       "      <td>3.0</td>\n",
       "      <td>True</td>\n",
       "      <td>Red Bull Racing</td>\n",
       "      <td>VER</td>\n",
       "      <td>1</td>\n",
       "      <td>Practice 1</td>\n",
       "    </tr>\n",
       "    <tr>\n",
       "      <th>7</th>\n",
       "      <td>1</td>\n",
       "      <td>0 days 00:01:34.742000</td>\n",
       "      <td>8.0</td>\n",
       "      <td>2.0</td>\n",
       "      <td>MEDIUM</td>\n",
       "      <td>5.0</td>\n",
       "      <td>True</td>\n",
       "      <td>Red Bull Racing</td>\n",
       "      <td>VER</td>\n",
       "      <td>1</td>\n",
       "      <td>Practice 1</td>\n",
       "    </tr>\n",
       "    <tr>\n",
       "      <th>11</th>\n",
       "      <td>1</td>\n",
       "      <td>0 days 00:01:38.702000</td>\n",
       "      <td>12.0</td>\n",
       "      <td>4.0</td>\n",
       "      <td>MEDIUM</td>\n",
       "      <td>9.0</td>\n",
       "      <td>False</td>\n",
       "      <td>Red Bull Racing</td>\n",
       "      <td>VER</td>\n",
       "      <td>1</td>\n",
       "      <td>Practice 1</td>\n",
       "    </tr>\n",
       "    <tr>\n",
       "      <th>12</th>\n",
       "      <td>1</td>\n",
       "      <td>0 days 00:01:39.190000</td>\n",
       "      <td>13.0</td>\n",
       "      <td>4.0</td>\n",
       "      <td>MEDIUM</td>\n",
       "      <td>10.0</td>\n",
       "      <td>False</td>\n",
       "      <td>Red Bull Racing</td>\n",
       "      <td>VER</td>\n",
       "      <td>1</td>\n",
       "      <td>Practice 1</td>\n",
       "    </tr>\n",
       "    <tr>\n",
       "      <th>...</th>\n",
       "      <td>...</td>\n",
       "      <td>...</td>\n",
       "      <td>...</td>\n",
       "      <td>...</td>\n",
       "      <td>...</td>\n",
       "      <td>...</td>\n",
       "      <td>...</td>\n",
       "      <td>...</td>\n",
       "      <td>...</td>\n",
       "      <td>...</td>\n",
       "      <td>...</td>\n",
       "    </tr>\n",
       "    <tr>\n",
       "      <th>313</th>\n",
       "      <td>77</td>\n",
       "      <td>0 days 00:01:35.365000</td>\n",
       "      <td>7.0</td>\n",
       "      <td>2.0</td>\n",
       "      <td>SOFT</td>\n",
       "      <td>5.0</td>\n",
       "      <td>True</td>\n",
       "      <td>Alfa Romeo</td>\n",
       "      <td>BOT</td>\n",
       "      <td>1</td>\n",
       "      <td>Practice 3</td>\n",
       "    </tr>\n",
       "    <tr>\n",
       "      <th>315</th>\n",
       "      <td>77</td>\n",
       "      <td>0 days 00:01:34.806000</td>\n",
       "      <td>9.0</td>\n",
       "      <td>2.0</td>\n",
       "      <td>SOFT</td>\n",
       "      <td>7.0</td>\n",
       "      <td>True</td>\n",
       "      <td>Alfa Romeo</td>\n",
       "      <td>BOT</td>\n",
       "      <td>1</td>\n",
       "      <td>Practice 3</td>\n",
       "    </tr>\n",
       "    <tr>\n",
       "      <th>319</th>\n",
       "      <td>77</td>\n",
       "      <td>0 days 00:01:33.733000</td>\n",
       "      <td>13.0</td>\n",
       "      <td>4.0</td>\n",
       "      <td>SOFT</td>\n",
       "      <td>3.0</td>\n",
       "      <td>True</td>\n",
       "      <td>Alfa Romeo</td>\n",
       "      <td>BOT</td>\n",
       "      <td>1</td>\n",
       "      <td>Practice 3</td>\n",
       "    </tr>\n",
       "    <tr>\n",
       "      <th>321</th>\n",
       "      <td>77</td>\n",
       "      <td>0 days 00:01:33.889000</td>\n",
       "      <td>15.0</td>\n",
       "      <td>4.0</td>\n",
       "      <td>SOFT</td>\n",
       "      <td>5.0</td>\n",
       "      <td>True</td>\n",
       "      <td>Alfa Romeo</td>\n",
       "      <td>BOT</td>\n",
       "      <td>1</td>\n",
       "      <td>Practice 3</td>\n",
       "    </tr>\n",
       "    <tr>\n",
       "      <th>323</th>\n",
       "      <td>77</td>\n",
       "      <td>0 days 00:01:33.861000</td>\n",
       "      <td>17.0</td>\n",
       "      <td>4.0</td>\n",
       "      <td>SOFT</td>\n",
       "      <td>7.0</td>\n",
       "      <td>True</td>\n",
       "      <td>Alfa Romeo</td>\n",
       "      <td>BOT</td>\n",
       "      <td>1</td>\n",
       "      <td>Practice 3</td>\n",
       "    </tr>\n",
       "  </tbody>\n",
       "</table>\n",
       "<p>357 rows × 11 columns</p>\n",
       "</div>"
      ],
      "text/plain": [
       "     DriverNumber                 LapTime  LapNumber  Stint Compound  \\\n",
       "2               1  0 days 00:01:37.766000        3.0    1.0     HARD   \n",
       "5               1  0 days 00:01:34.783000        6.0    2.0   MEDIUM   \n",
       "7               1  0 days 00:01:34.742000        8.0    2.0   MEDIUM   \n",
       "11              1  0 days 00:01:38.702000       12.0    4.0   MEDIUM   \n",
       "12              1  0 days 00:01:39.190000       13.0    4.0   MEDIUM   \n",
       "..            ...                     ...        ...    ...      ...   \n",
       "313            77  0 days 00:01:35.365000        7.0    2.0     SOFT   \n",
       "315            77  0 days 00:01:34.806000        9.0    2.0     SOFT   \n",
       "319            77  0 days 00:01:33.733000       13.0    4.0     SOFT   \n",
       "321            77  0 days 00:01:33.889000       15.0    4.0     SOFT   \n",
       "323            77  0 days 00:01:33.861000       17.0    4.0     SOFT   \n",
       "\n",
       "     TyreLife FreshTyre             Team Driver  TrackStatus     Session  \n",
       "2         3.0      True  Red Bull Racing    VER            2  Practice 1  \n",
       "5         3.0      True  Red Bull Racing    VER            1  Practice 1  \n",
       "7         5.0      True  Red Bull Racing    VER            1  Practice 1  \n",
       "11        9.0     False  Red Bull Racing    VER            1  Practice 1  \n",
       "12       10.0     False  Red Bull Racing    VER            1  Practice 1  \n",
       "..        ...       ...              ...    ...          ...         ...  \n",
       "313       5.0      True       Alfa Romeo    BOT            1  Practice 3  \n",
       "315       7.0      True       Alfa Romeo    BOT            1  Practice 3  \n",
       "319       3.0      True       Alfa Romeo    BOT            1  Practice 3  \n",
       "321       5.0      True       Alfa Romeo    BOT            1  Practice 3  \n",
       "323       7.0      True       Alfa Romeo    BOT            1  Practice 3  \n",
       "\n",
       "[357 rows x 11 columns]"
      ]
     },
     "execution_count": 211,
     "metadata": {},
     "output_type": "execute_result"
    }
   ],
   "source": [
    "dffp = dffp[dffp['TyreLife'].notna()]\n",
    "dffp"
   ]
  },
  {
   "cell_type": "code",
   "execution_count": 212,
   "metadata": {},
   "outputs": [
    {
     "name": "stderr",
     "output_type": "stream",
     "text": [
      "/tmp/ipykernel_1036451/467148075.py:1: SettingWithCopyWarning:\n",
      "\n",
      "\n",
      "A value is trying to be set on a copy of a slice from a DataFrame.\n",
      "Try using .loc[row_indexer,col_indexer] = value instead\n",
      "\n",
      "See the caveats in the documentation: https://pandas.pydata.org/pandas-docs/stable/user_guide/indexing.html#returning-a-view-versus-a-copy\n",
      "\n"
     ]
    }
   ],
   "source": [
    "dffp['LapTime'] = dffp['LapTime'].apply(pd.to_timedelta)"
   ]
  },
  {
   "cell_type": "code",
   "execution_count": 213,
   "metadata": {},
   "outputs": [
    {
     "name": "stdout",
     "output_type": "stream",
     "text": [
      "<class 'pandas.core.frame.DataFrame'>\n",
      "Int64Index: 357 entries, 2 to 323\n",
      "Data columns (total 11 columns):\n",
      " #   Column        Non-Null Count  Dtype          \n",
      "---  ------        --------------  -----          \n",
      " 0   DriverNumber  357 non-null    int64          \n",
      " 1   LapTime       357 non-null    timedelta64[ns]\n",
      " 2   LapNumber     357 non-null    float64        \n",
      " 3   Stint         357 non-null    float64        \n",
      " 4   Compound      357 non-null    object         \n",
      " 5   TyreLife      357 non-null    float64        \n",
      " 6   FreshTyre     347 non-null    object         \n",
      " 7   Team          357 non-null    object         \n",
      " 8   Driver        357 non-null    object         \n",
      " 9   TrackStatus   357 non-null    int64          \n",
      " 10  Session       357 non-null    object         \n",
      "dtypes: float64(3), int64(2), object(5), timedelta64[ns](1)\n",
      "memory usage: 33.5+ KB\n"
     ]
    }
   ],
   "source": [
    "dffp.info()"
   ]
  },
  {
   "cell_type": "code",
   "execution_count": 214,
   "metadata": {},
   "outputs": [
    {
     "name": "stderr",
     "output_type": "stream",
     "text": [
      "/tmp/ipykernel_1036451/2241231510.py:14: SettingWithCopyWarning:\n",
      "\n",
      "\n",
      "A value is trying to be set on a copy of a slice from a DataFrame.\n",
      "Try using .loc[row_indexer,col_indexer] = value instead\n",
      "\n",
      "See the caveats in the documentation: https://pandas.pydata.org/pandas-docs/stable/user_guide/indexing.html#returning-a-view-versus-a-copy\n",
      "\n"
     ]
    }
   ],
   "source": [
    "#Convertir temps en seconde (script de Bérenger : OK)\n",
    "\n",
    "def time_to_seconds(string):\n",
    "    array = re.findall(r'[0-9]+', str(string))\n",
    "    array = array[1:]\n",
    "    array[0] = int(array[0]) * 3600\n",
    "    array[1] = int(array[1]) * 60\n",
    "    try : \n",
    "        array = float(str(array[0] + array[1] + int(array[2])) + \".\" + array[3])\n",
    "        return array\n",
    "    except :\n",
    "        return float(str(int(array[-2]) + int(array[-1])) + \".0\")\n",
    "\n",
    "dffp[\"LapTimeSeconds\"] = dffp[\"LapTime\"].apply(time_to_seconds)"
   ]
  },
  {
   "cell_type": "code",
   "execution_count": 215,
   "metadata": {},
   "outputs": [],
   "source": [
    "compound_colors = {\n",
    "    'SOFT': '#FF3333',\n",
    "    'MEDIUM': '#FFF200',\n",
    "    'HARD': '#EBEBEB',\n",
    "}"
   ]
  },
  {
   "cell_type": "code",
   "execution_count": 216,
   "metadata": {},
   "outputs": [
    {
     "data": {
      "application/vnd.plotly.v1+json": {
       "config": {
        "plotlyServerURL": "https://plot.ly"
       },
       "data": [
        {
         "hovertemplate": "Compound=HARD<br>TyreLife=%{x}<br>LapTimeSeconds=%{y}<extra></extra>",
         "legendgroup": "HARD",
         "marker": {
          "color": "#EBEBEB",
          "symbol": "circle"
         },
         "mode": "markers",
         "name": "HARD",
         "orientation": "v",
         "showlegend": true,
         "type": "scatter",
         "x": [
          3,
          2,
          6,
          7,
          8,
          10,
          4,
          5,
          6,
          7,
          8,
          3,
          7,
          8,
          9,
          10,
          6,
          7,
          9,
          10,
          12,
          4,
          6,
          2,
          7,
          9,
          4,
          5,
          6,
          7,
          9,
          11,
          6,
          7,
          8,
          10,
          3,
          3,
          6,
          9,
          11,
          4,
          5,
          6,
          2,
          4,
          4,
          2,
          3,
          5,
          6,
          2,
          4,
          6,
          2
         ],
         "xaxis": "x",
         "y": [
          97.766,
          98.745,
          97.429,
          97.175,
          96.319,
          96.405,
          99.91,
          98.235,
          99.312,
          99.024,
          98.641,
          99.95,
          100.569,
          99.178,
          98.707,
          99.518,
          99.706,
          98.668,
          97.656,
          98.18,
          98.265,
          98.92,
          98.58,
          99.255,
          97.478,
          96.783,
          99.38,
          98.536,
          100.65,
          97.402,
          100.022,
          97.732,
          97.086,
          96.339,
          96.648,
          96.157,
          97.459,
          98.021,
          96.931,
          96.928,
          96.621,
          98.461,
          97.783,
          97.997,
          95.486,
          95.175,
          96.055,
          96.634,
          96.729,
          97.727,
          97.43,
          96.375,
          96.634,
          96.812,
          98.84
         ],
         "yaxis": "y"
        },
        {
         "hovertemplate": "<b>LOWESS trendline</b><br><br>Compound=HARD<br>TyreLife=%{x}<br>LapTimeSeconds=%{y} <b>(trend)</b><extra></extra>",
         "legendgroup": "HARD",
         "marker": {
          "color": "#EBEBEB",
          "symbol": "circle"
         },
         "mode": "lines",
         "name": "HARD",
         "showlegend": false,
         "type": "scatter",
         "x": [
          2,
          2,
          2,
          2,
          2,
          2,
          3,
          3,
          3,
          3,
          3,
          4,
          4,
          4,
          4,
          4,
          4,
          4,
          5,
          5,
          5,
          5,
          6,
          6,
          6,
          6,
          6,
          6,
          6,
          6,
          6,
          6,
          7,
          7,
          7,
          7,
          7,
          7,
          7,
          8,
          8,
          8,
          8,
          9,
          9,
          9,
          9,
          9,
          10,
          10,
          10,
          10,
          11,
          11,
          12
         ],
         "xaxis": "x",
         "y": [
          97.66520700976507,
          97.66520700976507,
          97.66520700976507,
          97.66520700976507,
          97.66520700976507,
          97.66520700976507,
          97.79674689756213,
          97.79674689756213,
          97.79674689756213,
          97.79674689756213,
          97.79674689756213,
          97.92826620604396,
          97.92826620604396,
          97.92826620604396,
          97.92826620604396,
          97.92826620604396,
          97.92826620604396,
          97.92826620604396,
          98.0102658249975,
          98.0102658249975,
          98.0102658249975,
          98.0102658249975,
          98.02975972941253,
          98.02975972941253,
          98.02975972941253,
          98.02975972941253,
          98.02975972941253,
          98.02975972941253,
          98.02975972941253,
          98.02975972941253,
          98.02975972941253,
          98.02975972941253,
          97.97461816068977,
          97.97461816068977,
          97.97461816068977,
          97.97461816068977,
          97.97461816068977,
          97.97461816068977,
          97.97461816068977,
          97.88133683577726,
          97.88133683577726,
          97.88133683577726,
          97.88133683577726,
          97.73241733280392,
          97.73241733280392,
          97.73241733280392,
          97.73241733280392,
          97.73241733280392,
          97.66228209906897,
          97.66228209906897,
          97.66228209906897,
          97.66228209906897,
          97.59006488058259,
          97.59006488058259,
          97.51374241036973
         ],
         "yaxis": "y"
        },
        {
         "hovertemplate": "Compound=MEDIUM<br>TyreLife=%{x}<br>LapTimeSeconds=%{y}<extra></extra>",
         "legendgroup": "MEDIUM",
         "marker": {
          "color": "#FFF200",
          "symbol": "circle"
         },
         "mode": "markers",
         "name": "MEDIUM",
         "orientation": "v",
         "showlegend": true,
         "type": "scatter",
         "x": [
          3,
          5,
          9,
          10,
          11,
          12,
          13,
          14,
          15,
          16,
          17,
          18,
          5,
          10,
          3,
          5,
          6,
          7,
          8,
          9,
          10,
          11,
          12,
          13,
          14,
          2,
          8,
          4,
          6,
          7,
          8,
          9,
          10,
          11,
          12,
          13,
          14,
          5,
          1,
          7,
          11,
          3,
          5,
          8,
          11,
          12,
          13,
          14,
          17,
          18,
          6,
          7,
          8,
          9,
          10,
          11,
          5,
          6,
          7,
          8,
          9,
          2,
          7,
          9,
          10,
          3,
          5,
          2,
          1,
          3,
          5,
          7,
          3,
          9,
          11,
          2,
          4,
          2,
          4,
          2,
          4,
          6,
          8,
          6,
          8,
          2,
          4,
          2,
          4,
          2,
          4,
          2,
          4,
          8,
          9,
          10,
          11,
          3,
          3,
          5,
          7,
          10,
          2,
          3,
          5,
          3,
          6,
          8,
          2,
          5,
          7,
          9,
          14,
          3,
          5,
          3,
          5,
          8,
          10,
          2,
          5,
          3,
          2,
          4,
          6,
          2,
          4,
          6,
          7,
          8,
          2,
          4,
          6
         ],
         "xaxis": "x",
         "y": [
          94.783,
          94.742,
          98.702,
          99.19,
          98.872,
          98.89,
          99.06,
          99.862,
          99.365,
          98.759,
          99.25,
          99.598,
          94.611,
          97.012,
          96.536,
          96.54,
          97.747,
          98.414,
          98.72,
          98.717,
          98.835,
          98.695,
          99.559,
          99.033,
          99.37,
          98.128,
          96.367,
          96.936,
          96.804,
          97.482,
          97.822,
          97.348,
          98.8,
          98.136,
          98.384,
          98.855,
          98.673,
          94.557,
          98.737,
          98.204,
          96.431,
          96.006,
          95.241,
          95.05,
          99.189,
          99.194,
          99.331,
          99.378,
          99.662,
          100.098,
          96.388,
          98.589,
          99.192,
          98.36,
          98.339,
          98.329,
          97.356,
          98.619,
          98.53,
          98.864,
          98.387,
          98.42,
          97.253,
          96.487,
          97.956,
          93.621,
          93.691,
          93.837,
          97.947,
          95.621,
          95.008,
          95.503,
          94.379,
          98.026,
          98.167,
          94.55,
          95.482,
          96.24,
          97.016,
          95.615,
          94.558,
          95.557,
          95.095,
          96.163,
          96.971,
          94.572,
          94.782,
          95.531,
          96.011,
          93.121,
          93.459,
          94.372,
          94.8,
          98.236,
          98.166,
          98.368,
          98.254,
          94.3,
          94.964,
          95.097,
          94.905,
          98.098,
          97.613,
          96.489,
          97.01,
          94.86,
          94.971,
          94.908,
          95.1,
          94.604,
          94.645,
          93.97,
          98.169,
          94.957,
          95.368,
          97.506,
          97.093,
          98.275,
          97.11,
          96.945,
          96.847,
          94.628,
          96.805,
          96.374,
          96.088,
          96.317,
          96.535,
          97.89,
          98.271,
          98.634,
          96.877,
          96.824,
          97.174
         ],
         "yaxis": "y"
        },
        {
         "hovertemplate": "<b>LOWESS trendline</b><br><br>Compound=MEDIUM<br>TyreLife=%{x}<br>LapTimeSeconds=%{y} <b>(trend)</b><extra></extra>",
         "legendgroup": "MEDIUM",
         "marker": {
          "color": "#FFF200",
          "symbol": "circle"
         },
         "mode": "lines",
         "name": "MEDIUM",
         "showlegend": false,
         "type": "scatter",
         "x": [
          1,
          1,
          2,
          2,
          2,
          2,
          2,
          2,
          2,
          2,
          2,
          2,
          2,
          2,
          2,
          2,
          2,
          2,
          3,
          3,
          3,
          3,
          3,
          3,
          3,
          3,
          3,
          3,
          3,
          3,
          3,
          4,
          4,
          4,
          4,
          4,
          4,
          4,
          4,
          4,
          4,
          4,
          5,
          5,
          5,
          5,
          5,
          5,
          5,
          5,
          5,
          5,
          5,
          5,
          5,
          5,
          6,
          6,
          6,
          6,
          6,
          6,
          6,
          6,
          6,
          6,
          7,
          7,
          7,
          7,
          7,
          7,
          7,
          7,
          7,
          7,
          8,
          8,
          8,
          8,
          8,
          8,
          8,
          8,
          8,
          8,
          8,
          8,
          9,
          9,
          9,
          9,
          9,
          9,
          9,
          9,
          9,
          10,
          10,
          10,
          10,
          10,
          10,
          10,
          10,
          10,
          11,
          11,
          11,
          11,
          11,
          11,
          11,
          11,
          12,
          12,
          12,
          12,
          13,
          13,
          13,
          13,
          14,
          14,
          14,
          14,
          14,
          15,
          16,
          17,
          17,
          18,
          18
         ],
         "xaxis": "x",
         "y": [
          95.79064578034475,
          95.79064578034475,
          95.75473486165978,
          95.75473486165978,
          95.75473486165978,
          95.75473486165978,
          95.75473486165978,
          95.75473486165978,
          95.75473486165978,
          95.75473486165978,
          95.75473486165978,
          95.75473486165978,
          95.75473486165978,
          95.75473486165978,
          95.75473486165978,
          95.75473486165978,
          95.75473486165978,
          95.75473486165978,
          95.76611960107141,
          95.76611960107141,
          95.76611960107141,
          95.76611960107141,
          95.76611960107141,
          95.76611960107141,
          95.76611960107141,
          95.76611960107141,
          95.76611960107141,
          95.76611960107141,
          95.76611960107141,
          95.76611960107141,
          95.76611960107141,
          95.82948225466055,
          95.82948225466055,
          95.82948225466055,
          95.82948225466055,
          95.82948225466055,
          95.82948225466055,
          95.82948225466055,
          95.82948225466055,
          95.82948225466055,
          95.82948225466055,
          95.82948225466055,
          96.13765798422686,
          96.13765798422686,
          96.13765798422686,
          96.13765798422686,
          96.13765798422686,
          96.13765798422686,
          96.13765798422686,
          96.13765798422686,
          96.13765798422686,
          96.13765798422686,
          96.13765798422686,
          96.13765798422686,
          96.13765798422686,
          96.13765798422686,
          96.55110738413143,
          96.55110738413143,
          96.55110738413143,
          96.55110738413143,
          96.55110738413143,
          96.55110738413143,
          96.55110738413143,
          96.55110738413143,
          96.55110738413143,
          96.55110738413143,
          97.01929163976334,
          97.01929163976334,
          97.01929163976334,
          97.01929163976334,
          97.01929163976334,
          97.01929163976334,
          97.01929163976334,
          97.01929163976334,
          97.01929163976334,
          97.01929163976334,
          97.41754716078161,
          97.41754716078161,
          97.41754716078161,
          97.41754716078161,
          97.41754716078161,
          97.41754716078161,
          97.41754716078161,
          97.41754716078161,
          97.41754716078161,
          97.41754716078161,
          97.41754716078161,
          97.41754716078161,
          97.82160477903287,
          97.82160477903287,
          97.82160477903287,
          97.82160477903287,
          97.82160477903287,
          97.82160477903287,
          97.82160477903287,
          97.82160477903287,
          97.82160477903287,
          98.13499993174702,
          98.13499993174702,
          98.13499993174702,
          98.13499993174702,
          98.13499993174702,
          98.13499993174702,
          98.13499993174702,
          98.13499993174702,
          98.13499993174702,
          98.4273553629172,
          98.4273553629172,
          98.4273553629172,
          98.4273553629172,
          98.4273553629172,
          98.4273553629172,
          98.4273553629172,
          98.4273553629172,
          98.65065106789272,
          98.65065106789272,
          98.65065106789272,
          98.65065106789272,
          98.85069432165693,
          98.85069432165693,
          98.85069432165693,
          98.85069432165693,
          99.05906904765207,
          99.05906904765207,
          99.05906904765207,
          99.05906904765207,
          99.05906904765207,
          99.27005575653173,
          99.47871673927634,
          99.68271486013168,
          99.68271486013168,
          99.88195301303531,
          99.88195301303531
         ],
         "yaxis": "y"
        },
        {
         "hovertemplate": "Compound=SOFT<br>TyreLife=%{x}<br>LapTimeSeconds=%{y}<extra></extra>",
         "legendgroup": "SOFT",
         "marker": {
          "color": "#FF3333",
          "symbol": "circle"
         },
         "mode": "markers",
         "name": "SOFT",
         "orientation": "v",
         "showlegend": true,
         "type": "scatter",
         "x": [
          4,
          5,
          7,
          3,
          5,
          3,
          5,
          9,
          12,
          3,
          5,
          6,
          8,
          10,
          3,
          6,
          9,
          10,
          2,
          4,
          8,
          3,
          5,
          3,
          5,
          7,
          8,
          9,
          10,
          11,
          3,
          6,
          2,
          6,
          8,
          10,
          2,
          6,
          8,
          10,
          3,
          6,
          9,
          11,
          3,
          7,
          8,
          9,
          10,
          11,
          12,
          13,
          14,
          15,
          3,
          5,
          3,
          5,
          9,
          3,
          6,
          7,
          3,
          5,
          3,
          5,
          3,
          6,
          9,
          3,
          9,
          10,
          11,
          3,
          6,
          3,
          6,
          9,
          10,
          3,
          5,
          8,
          3,
          9,
          10,
          12,
          13,
          14,
          3,
          6,
          3,
          5,
          4,
          3,
          8,
          9,
          13,
          3,
          5,
          7,
          10,
          11,
          12,
          3,
          8,
          9,
          10,
          6,
          9,
          12,
          3,
          6,
          9,
          10,
          3,
          5,
          7,
          4,
          6,
          3,
          5,
          3,
          1,
          3,
          6,
          3,
          5,
          3,
          6,
          2,
          6,
          3,
          6,
          3,
          4,
          6,
          3,
          6,
          5,
          3,
          7,
          2,
          6,
          9,
          10,
          11,
          12,
          3,
          6,
          3,
          6,
          2,
          3,
          6,
          4,
          3,
          5,
          6,
          7,
          3,
          6,
          8,
          3,
          3,
          5,
          7,
          3,
          5,
          7
         ],
         "xaxis": "x",
         "y": [
          94.943,
          95.776,
          95.417,
          95.151,
          95.196,
          95.815,
          96.699,
          96.133,
          98.244,
          95.728,
          95.053,
          96.05,
          95.923,
          98.768,
          94.814,
          95.369,
          99.989,
          99.865,
          95.247,
          95.179,
          95.852,
          95,
          95.271,
          94.193,
          95.469,
          97.632,
          97.592,
          98.035,
          98.119,
          97.693,
          95.644,
          96.564,
          96.584,
          96.649,
          96.398,
          96.304,
          96.918,
          96.745,
          96.878,
          96.402,
          94.629,
          95.589,
          94.964,
          95.209,
          91.936,
          97.165,
          97.132,
          97.137,
          97.743,
          97.498,
          97.618,
          97.818,
          97.512,
          97.624,
          92.52,
          93.144,
          93.36,
          93.834,
          98.358,
          94.061,
          97.631,
          98.266,
          93.953,
          94.018,
          94.735,
          95.32,
          94.403,
          93.789,
          94.028,
          93.183,
          98.126,
          98.139,
          98.333,
          93.958,
          94.489,
          92.263,
          92.023,
          97.169,
          97.83,
          92.877,
          93.396,
          97.274,
          92.958,
          97.218,
          97.961,
          98.018,
          98.365,
          98.32,
          93.621,
          93.809,
          94.486,
          94.943,
          93.28,
          92.529,
          98.25,
          98.318,
          98.329,
          92.951,
          93.463,
          93.057,
          97.808,
          98.211,
          97.99,
          93.035,
          96.584,
          96.67,
          96.648,
          94.217,
          94.148,
          94.312,
          93.053,
          93.265,
          97.586,
          97.753,
          94.629,
          97.057,
          95.226,
          94.295,
          94.321,
          94.256,
          94.396,
          93.121,
          97.904,
          93.971,
          95.204,
          95.318,
          95.366,
          93.88,
          94.302,
          95.805,
          96.064,
          94.868,
          95.353,
          94.263,
          93.437,
          93.881,
          93.92,
          94.684,
          93.797,
          92.64,
          93.724,
          94.16,
          94.346,
          95.796,
          96.115,
          96.255,
          96.305,
          92.791,
          93.222,
          94.176,
          94.406,
          95.961,
          95.667,
          96.226,
          93.955,
          94.378,
          95.004,
          97.102,
          97.711,
          94.47,
          94.642,
          94.433,
          92.935,
          94.617,
          95.365,
          94.806,
          93.733,
          93.889,
          93.861
         ],
         "yaxis": "y"
        },
        {
         "hovertemplate": "<b>LOWESS trendline</b><br><br>Compound=SOFT<br>TyreLife=%{x}<br>LapTimeSeconds=%{y} <b>(trend)</b><extra></extra>",
         "legendgroup": "SOFT",
         "marker": {
          "color": "#FF3333",
          "symbol": "circle"
         },
         "mode": "lines",
         "name": "SOFT",
         "showlegend": false,
         "type": "scatter",
         "x": [
          1,
          2,
          2,
          2,
          2,
          2,
          2,
          3,
          3,
          3,
          3,
          3,
          3,
          3,
          3,
          3,
          3,
          3,
          3,
          3,
          3,
          3,
          3,
          3,
          3,
          3,
          3,
          3,
          3,
          3,
          3,
          3,
          3,
          3,
          3,
          3,
          3,
          3,
          3,
          3,
          3,
          3,
          3,
          3,
          3,
          3,
          3,
          3,
          3,
          3,
          3,
          4,
          4,
          4,
          4,
          4,
          4,
          5,
          5,
          5,
          5,
          5,
          5,
          5,
          5,
          5,
          5,
          5,
          5,
          5,
          5,
          5,
          5,
          5,
          5,
          5,
          5,
          6,
          6,
          6,
          6,
          6,
          6,
          6,
          6,
          6,
          6,
          6,
          6,
          6,
          6,
          6,
          6,
          6,
          6,
          6,
          6,
          6,
          6,
          6,
          6,
          6,
          6,
          7,
          7,
          7,
          7,
          7,
          7,
          7,
          7,
          7,
          7,
          8,
          8,
          8,
          8,
          8,
          8,
          8,
          8,
          8,
          8,
          9,
          9,
          9,
          9,
          9,
          9,
          9,
          9,
          9,
          9,
          9,
          9,
          9,
          9,
          9,
          10,
          10,
          10,
          10,
          10,
          10,
          10,
          10,
          10,
          10,
          10,
          10,
          10,
          11,
          11,
          11,
          11,
          11,
          11,
          12,
          12,
          12,
          12,
          12,
          12,
          13,
          13,
          13,
          14,
          14,
          15
         ],
         "xaxis": "x",
         "y": [
          94.21660566705235,
          94.18397587734592,
          94.18397587734592,
          94.18397587734592,
          94.18397587734592,
          94.18397587734592,
          94.18397587734592,
          94.25800228645507,
          94.25800228645507,
          94.25800228645507,
          94.25800228645507,
          94.25800228645507,
          94.25800228645507,
          94.25800228645507,
          94.25800228645507,
          94.25800228645507,
          94.25800228645507,
          94.25800228645507,
          94.25800228645507,
          94.25800228645507,
          94.25800228645507,
          94.25800228645507,
          94.25800228645507,
          94.25800228645507,
          94.25800228645507,
          94.25800228645507,
          94.25800228645507,
          94.25800228645507,
          94.25800228645507,
          94.25800228645507,
          94.25800228645507,
          94.25800228645507,
          94.25800228645507,
          94.25800228645507,
          94.25800228645507,
          94.25800228645507,
          94.25800228645507,
          94.25800228645507,
          94.25800228645507,
          94.25800228645507,
          94.25800228645507,
          94.25800228645507,
          94.25800228645507,
          94.25800228645507,
          94.25800228645507,
          94.25800228645507,
          94.25800228645507,
          94.25800228645507,
          94.25800228645507,
          94.25800228645507,
          94.25800228645507,
          94.40271392854673,
          94.40271392854673,
          94.40271392854673,
          94.40271392854673,
          94.40271392854673,
          94.40271392854673,
          94.72776784881967,
          94.72776784881967,
          94.72776784881967,
          94.72776784881967,
          94.72776784881967,
          94.72776784881967,
          94.72776784881967,
          94.72776784881967,
          94.72776784881967,
          94.72776784881967,
          94.72776784881967,
          94.72776784881967,
          94.72776784881967,
          94.72776784881967,
          94.72776784881967,
          94.72776784881967,
          94.72776784881967,
          94.72776784881967,
          94.72776784881967,
          94.72776784881967,
          95.18734298528669,
          95.18734298528669,
          95.18734298528669,
          95.18734298528669,
          95.18734298528669,
          95.18734298528669,
          95.18734298528669,
          95.18734298528669,
          95.18734298528669,
          95.18734298528669,
          95.18734298528669,
          95.18734298528669,
          95.18734298528669,
          95.18734298528669,
          95.18734298528669,
          95.18734298528669,
          95.18734298528669,
          95.18734298528669,
          95.18734298528669,
          95.18734298528669,
          95.18734298528669,
          95.18734298528669,
          95.18734298528669,
          95.18734298528669,
          95.18734298528669,
          95.18734298528669,
          95.79609629084449,
          95.79609629084449,
          95.79609629084449,
          95.79609629084449,
          95.79609629084449,
          95.79609629084449,
          95.79609629084449,
          95.79609629084449,
          95.79609629084449,
          95.79609629084449,
          96.36116278478876,
          96.36116278478876,
          96.36116278478876,
          96.36116278478876,
          96.36116278478876,
          96.36116278478876,
          96.36116278478876,
          96.36116278478876,
          96.36116278478876,
          96.36116278478876,
          96.79809687529935,
          96.79809687529935,
          96.79809687529935,
          96.79809687529935,
          96.79809687529935,
          96.79809687529935,
          96.79809687529935,
          96.79809687529935,
          96.79809687529935,
          96.79809687529935,
          96.79809687529935,
          96.79809687529935,
          96.79809687529935,
          96.79809687529935,
          96.79809687529935,
          97.20898102641308,
          97.20898102641308,
          97.20898102641308,
          97.20898102641308,
          97.20898102641308,
          97.20898102641308,
          97.20898102641308,
          97.20898102641308,
          97.20898102641308,
          97.20898102641308,
          97.20898102641308,
          97.20898102641308,
          97.20898102641308,
          97.48023420426885,
          97.48023420426885,
          97.48023420426885,
          97.48023420426885,
          97.48023420426885,
          97.48023420426885,
          97.71660665941761,
          97.71660665941761,
          97.71660665941761,
          97.71660665941761,
          97.71660665941761,
          97.71660665941761,
          97.9387525618769,
          97.9387525618769,
          97.9387525618769,
          98.15008163477542,
          98.15008163477542,
          98.35030285790806
         ],
         "yaxis": "y"
        }
       ],
       "layout": {
        "height": 700,
        "legend": {
         "title": {
          "text": "Compound"
         },
         "tracegroupgap": 0
        },
        "margin": {
         "t": 60
        },
        "template": {
         "data": {
          "bar": [
           {
            "error_x": {
             "color": "#f2f5fa"
            },
            "error_y": {
             "color": "#f2f5fa"
            },
            "marker": {
             "line": {
              "color": "rgb(17,17,17)",
              "width": 0.5
             },
             "pattern": {
              "fillmode": "overlay",
              "size": 10,
              "solidity": 0.2
             }
            },
            "type": "bar"
           }
          ],
          "barpolar": [
           {
            "marker": {
             "line": {
              "color": "rgb(17,17,17)",
              "width": 0.5
             },
             "pattern": {
              "fillmode": "overlay",
              "size": 10,
              "solidity": 0.2
             }
            },
            "type": "barpolar"
           }
          ],
          "carpet": [
           {
            "aaxis": {
             "endlinecolor": "#A2B1C6",
             "gridcolor": "#506784",
             "linecolor": "#506784",
             "minorgridcolor": "#506784",
             "startlinecolor": "#A2B1C6"
            },
            "baxis": {
             "endlinecolor": "#A2B1C6",
             "gridcolor": "#506784",
             "linecolor": "#506784",
             "minorgridcolor": "#506784",
             "startlinecolor": "#A2B1C6"
            },
            "type": "carpet"
           }
          ],
          "choropleth": [
           {
            "colorbar": {
             "outlinewidth": 0,
             "ticks": ""
            },
            "type": "choropleth"
           }
          ],
          "contour": [
           {
            "colorbar": {
             "outlinewidth": 0,
             "ticks": ""
            },
            "colorscale": [
             [
              0,
              "#0d0887"
             ],
             [
              0.1111111111111111,
              "#46039f"
             ],
             [
              0.2222222222222222,
              "#7201a8"
             ],
             [
              0.3333333333333333,
              "#9c179e"
             ],
             [
              0.4444444444444444,
              "#bd3786"
             ],
             [
              0.5555555555555556,
              "#d8576b"
             ],
             [
              0.6666666666666666,
              "#ed7953"
             ],
             [
              0.7777777777777778,
              "#fb9f3a"
             ],
             [
              0.8888888888888888,
              "#fdca26"
             ],
             [
              1,
              "#f0f921"
             ]
            ],
            "type": "contour"
           }
          ],
          "contourcarpet": [
           {
            "colorbar": {
             "outlinewidth": 0,
             "ticks": ""
            },
            "type": "contourcarpet"
           }
          ],
          "heatmap": [
           {
            "colorbar": {
             "outlinewidth": 0,
             "ticks": ""
            },
            "colorscale": [
             [
              0,
              "#0d0887"
             ],
             [
              0.1111111111111111,
              "#46039f"
             ],
             [
              0.2222222222222222,
              "#7201a8"
             ],
             [
              0.3333333333333333,
              "#9c179e"
             ],
             [
              0.4444444444444444,
              "#bd3786"
             ],
             [
              0.5555555555555556,
              "#d8576b"
             ],
             [
              0.6666666666666666,
              "#ed7953"
             ],
             [
              0.7777777777777778,
              "#fb9f3a"
             ],
             [
              0.8888888888888888,
              "#fdca26"
             ],
             [
              1,
              "#f0f921"
             ]
            ],
            "type": "heatmap"
           }
          ],
          "heatmapgl": [
           {
            "colorbar": {
             "outlinewidth": 0,
             "ticks": ""
            },
            "colorscale": [
             [
              0,
              "#0d0887"
             ],
             [
              0.1111111111111111,
              "#46039f"
             ],
             [
              0.2222222222222222,
              "#7201a8"
             ],
             [
              0.3333333333333333,
              "#9c179e"
             ],
             [
              0.4444444444444444,
              "#bd3786"
             ],
             [
              0.5555555555555556,
              "#d8576b"
             ],
             [
              0.6666666666666666,
              "#ed7953"
             ],
             [
              0.7777777777777778,
              "#fb9f3a"
             ],
             [
              0.8888888888888888,
              "#fdca26"
             ],
             [
              1,
              "#f0f921"
             ]
            ],
            "type": "heatmapgl"
           }
          ],
          "histogram": [
           {
            "marker": {
             "pattern": {
              "fillmode": "overlay",
              "size": 10,
              "solidity": 0.2
             }
            },
            "type": "histogram"
           }
          ],
          "histogram2d": [
           {
            "colorbar": {
             "outlinewidth": 0,
             "ticks": ""
            },
            "colorscale": [
             [
              0,
              "#0d0887"
             ],
             [
              0.1111111111111111,
              "#46039f"
             ],
             [
              0.2222222222222222,
              "#7201a8"
             ],
             [
              0.3333333333333333,
              "#9c179e"
             ],
             [
              0.4444444444444444,
              "#bd3786"
             ],
             [
              0.5555555555555556,
              "#d8576b"
             ],
             [
              0.6666666666666666,
              "#ed7953"
             ],
             [
              0.7777777777777778,
              "#fb9f3a"
             ],
             [
              0.8888888888888888,
              "#fdca26"
             ],
             [
              1,
              "#f0f921"
             ]
            ],
            "type": "histogram2d"
           }
          ],
          "histogram2dcontour": [
           {
            "colorbar": {
             "outlinewidth": 0,
             "ticks": ""
            },
            "colorscale": [
             [
              0,
              "#0d0887"
             ],
             [
              0.1111111111111111,
              "#46039f"
             ],
             [
              0.2222222222222222,
              "#7201a8"
             ],
             [
              0.3333333333333333,
              "#9c179e"
             ],
             [
              0.4444444444444444,
              "#bd3786"
             ],
             [
              0.5555555555555556,
              "#d8576b"
             ],
             [
              0.6666666666666666,
              "#ed7953"
             ],
             [
              0.7777777777777778,
              "#fb9f3a"
             ],
             [
              0.8888888888888888,
              "#fdca26"
             ],
             [
              1,
              "#f0f921"
             ]
            ],
            "type": "histogram2dcontour"
           }
          ],
          "mesh3d": [
           {
            "colorbar": {
             "outlinewidth": 0,
             "ticks": ""
            },
            "type": "mesh3d"
           }
          ],
          "parcoords": [
           {
            "line": {
             "colorbar": {
              "outlinewidth": 0,
              "ticks": ""
             }
            },
            "type": "parcoords"
           }
          ],
          "pie": [
           {
            "automargin": true,
            "type": "pie"
           }
          ],
          "scatter": [
           {
            "marker": {
             "line": {
              "color": "#283442"
             }
            },
            "type": "scatter"
           }
          ],
          "scatter3d": [
           {
            "line": {
             "colorbar": {
              "outlinewidth": 0,
              "ticks": ""
             }
            },
            "marker": {
             "colorbar": {
              "outlinewidth": 0,
              "ticks": ""
             }
            },
            "type": "scatter3d"
           }
          ],
          "scattercarpet": [
           {
            "marker": {
             "colorbar": {
              "outlinewidth": 0,
              "ticks": ""
             }
            },
            "type": "scattercarpet"
           }
          ],
          "scattergeo": [
           {
            "marker": {
             "colorbar": {
              "outlinewidth": 0,
              "ticks": ""
             }
            },
            "type": "scattergeo"
           }
          ],
          "scattergl": [
           {
            "marker": {
             "line": {
              "color": "#283442"
             }
            },
            "type": "scattergl"
           }
          ],
          "scattermapbox": [
           {
            "marker": {
             "colorbar": {
              "outlinewidth": 0,
              "ticks": ""
             }
            },
            "type": "scattermapbox"
           }
          ],
          "scatterpolar": [
           {
            "marker": {
             "colorbar": {
              "outlinewidth": 0,
              "ticks": ""
             }
            },
            "type": "scatterpolar"
           }
          ],
          "scatterpolargl": [
           {
            "marker": {
             "colorbar": {
              "outlinewidth": 0,
              "ticks": ""
             }
            },
            "type": "scatterpolargl"
           }
          ],
          "scatterternary": [
           {
            "marker": {
             "colorbar": {
              "outlinewidth": 0,
              "ticks": ""
             }
            },
            "type": "scatterternary"
           }
          ],
          "surface": [
           {
            "colorbar": {
             "outlinewidth": 0,
             "ticks": ""
            },
            "colorscale": [
             [
              0,
              "#0d0887"
             ],
             [
              0.1111111111111111,
              "#46039f"
             ],
             [
              0.2222222222222222,
              "#7201a8"
             ],
             [
              0.3333333333333333,
              "#9c179e"
             ],
             [
              0.4444444444444444,
              "#bd3786"
             ],
             [
              0.5555555555555556,
              "#d8576b"
             ],
             [
              0.6666666666666666,
              "#ed7953"
             ],
             [
              0.7777777777777778,
              "#fb9f3a"
             ],
             [
              0.8888888888888888,
              "#fdca26"
             ],
             [
              1,
              "#f0f921"
             ]
            ],
            "type": "surface"
           }
          ],
          "table": [
           {
            "cells": {
             "fill": {
              "color": "#506784"
             },
             "line": {
              "color": "rgb(17,17,17)"
             }
            },
            "header": {
             "fill": {
              "color": "#2a3f5f"
             },
             "line": {
              "color": "rgb(17,17,17)"
             }
            },
            "type": "table"
           }
          ]
         },
         "layout": {
          "annotationdefaults": {
           "arrowcolor": "#f2f5fa",
           "arrowhead": 0,
           "arrowwidth": 1
          },
          "autotypenumbers": "strict",
          "coloraxis": {
           "colorbar": {
            "outlinewidth": 0,
            "ticks": ""
           }
          },
          "colorscale": {
           "diverging": [
            [
             0,
             "#8e0152"
            ],
            [
             0.1,
             "#c51b7d"
            ],
            [
             0.2,
             "#de77ae"
            ],
            [
             0.3,
             "#f1b6da"
            ],
            [
             0.4,
             "#fde0ef"
            ],
            [
             0.5,
             "#f7f7f7"
            ],
            [
             0.6,
             "#e6f5d0"
            ],
            [
             0.7,
             "#b8e186"
            ],
            [
             0.8,
             "#7fbc41"
            ],
            [
             0.9,
             "#4d9221"
            ],
            [
             1,
             "#276419"
            ]
           ],
           "sequential": [
            [
             0,
             "#0d0887"
            ],
            [
             0.1111111111111111,
             "#46039f"
            ],
            [
             0.2222222222222222,
             "#7201a8"
            ],
            [
             0.3333333333333333,
             "#9c179e"
            ],
            [
             0.4444444444444444,
             "#bd3786"
            ],
            [
             0.5555555555555556,
             "#d8576b"
            ],
            [
             0.6666666666666666,
             "#ed7953"
            ],
            [
             0.7777777777777778,
             "#fb9f3a"
            ],
            [
             0.8888888888888888,
             "#fdca26"
            ],
            [
             1,
             "#f0f921"
            ]
           ],
           "sequentialminus": [
            [
             0,
             "#0d0887"
            ],
            [
             0.1111111111111111,
             "#46039f"
            ],
            [
             0.2222222222222222,
             "#7201a8"
            ],
            [
             0.3333333333333333,
             "#9c179e"
            ],
            [
             0.4444444444444444,
             "#bd3786"
            ],
            [
             0.5555555555555556,
             "#d8576b"
            ],
            [
             0.6666666666666666,
             "#ed7953"
            ],
            [
             0.7777777777777778,
             "#fb9f3a"
            ],
            [
             0.8888888888888888,
             "#fdca26"
            ],
            [
             1,
             "#f0f921"
            ]
           ]
          },
          "colorway": [
           "#636efa",
           "#EF553B",
           "#00cc96",
           "#ab63fa",
           "#FFA15A",
           "#19d3f3",
           "#FF6692",
           "#B6E880",
           "#FF97FF",
           "#FECB52"
          ],
          "font": {
           "color": "#f2f5fa"
          },
          "geo": {
           "bgcolor": "rgb(17,17,17)",
           "lakecolor": "rgb(17,17,17)",
           "landcolor": "rgb(17,17,17)",
           "showlakes": true,
           "showland": true,
           "subunitcolor": "#506784"
          },
          "hoverlabel": {
           "align": "left"
          },
          "hovermode": "closest",
          "mapbox": {
           "style": "dark"
          },
          "paper_bgcolor": "rgb(17,17,17)",
          "plot_bgcolor": "rgb(17,17,17)",
          "polar": {
           "angularaxis": {
            "gridcolor": "#506784",
            "linecolor": "#506784",
            "ticks": ""
           },
           "bgcolor": "rgb(17,17,17)",
           "radialaxis": {
            "gridcolor": "#506784",
            "linecolor": "#506784",
            "ticks": ""
           }
          },
          "scene": {
           "xaxis": {
            "backgroundcolor": "rgb(17,17,17)",
            "gridcolor": "#506784",
            "gridwidth": 2,
            "linecolor": "#506784",
            "showbackground": true,
            "ticks": "",
            "zerolinecolor": "#C8D4E3"
           },
           "yaxis": {
            "backgroundcolor": "rgb(17,17,17)",
            "gridcolor": "#506784",
            "gridwidth": 2,
            "linecolor": "#506784",
            "showbackground": true,
            "ticks": "",
            "zerolinecolor": "#C8D4E3"
           },
           "zaxis": {
            "backgroundcolor": "rgb(17,17,17)",
            "gridcolor": "#506784",
            "gridwidth": 2,
            "linecolor": "#506784",
            "showbackground": true,
            "ticks": "",
            "zerolinecolor": "#C8D4E3"
           }
          },
          "shapedefaults": {
           "line": {
            "color": "#f2f5fa"
           }
          },
          "sliderdefaults": {
           "bgcolor": "#C8D4E3",
           "bordercolor": "rgb(17,17,17)",
           "borderwidth": 1,
           "tickwidth": 0
          },
          "ternary": {
           "aaxis": {
            "gridcolor": "#506784",
            "linecolor": "#506784",
            "ticks": ""
           },
           "baxis": {
            "gridcolor": "#506784",
            "linecolor": "#506784",
            "ticks": ""
           },
           "bgcolor": "rgb(17,17,17)",
           "caxis": {
            "gridcolor": "#506784",
            "linecolor": "#506784",
            "ticks": ""
           }
          },
          "title": {
           "x": 0.05
          },
          "updatemenudefaults": {
           "bgcolor": "#506784",
           "borderwidth": 0
          },
          "xaxis": {
           "automargin": true,
           "gridcolor": "#283442",
           "linecolor": "#506784",
           "ticks": "",
           "title": {
            "standoff": 15
           },
           "zerolinecolor": "#283442",
           "zerolinewidth": 2
          },
          "yaxis": {
           "automargin": true,
           "gridcolor": "#283442",
           "linecolor": "#506784",
           "ticks": "",
           "title": {
            "standoff": 15
           },
           "zerolinecolor": "#283442",
           "zerolinewidth": 2
          }
         }
        },
        "width": 1000,
        "xaxis": {
         "anchor": "y",
         "domain": [
          0,
          1
         ],
         "title": {
          "text": "TyreLife"
         }
        },
        "yaxis": {
         "anchor": "x",
         "domain": [
          0,
          1
         ],
         "title": {
          "text": "LapTimeSeconds"
         }
        }
       }
      }
     },
     "metadata": {},
     "output_type": "display_data"
    }
   ],
   "source": [
    "px.scatter(dffp, \n",
    "            x=dffp['TyreLife'] , \n",
    "            y='LapTimeSeconds', \n",
    "            color='Compound',\n",
    "            color_discrete_map=compound_colors, \n",
    "            width=1000, height=700,\n",
    "            template='plotly_dark',\n",
    "            trendline=\"lowess\",\n",
    "            )"
   ]
  },
  {
   "cell_type": "code",
   "execution_count": 217,
   "metadata": {},
   "outputs": [
    {
     "data": {
      "text/html": [
       "<div>\n",
       "<style scoped>\n",
       "    .dataframe tbody tr th:only-of-type {\n",
       "        vertical-align: middle;\n",
       "    }\n",
       "\n",
       "    .dataframe tbody tr th {\n",
       "        vertical-align: top;\n",
       "    }\n",
       "\n",
       "    .dataframe thead th {\n",
       "        text-align: right;\n",
       "    }\n",
       "</style>\n",
       "<table border=\"1\" class=\"dataframe\">\n",
       "  <thead>\n",
       "    <tr style=\"text-align: right;\">\n",
       "      <th></th>\n",
       "      <th>TyreLife</th>\n",
       "      <th>Compound</th>\n",
       "      <th>LapTimeSeconds</th>\n",
       "    </tr>\n",
       "  </thead>\n",
       "  <tbody>\n",
       "    <tr>\n",
       "      <th>2</th>\n",
       "      <td>2.0</td>\n",
       "      <td>HARD</td>\n",
       "      <td>97.555833</td>\n",
       "    </tr>\n",
       "    <tr>\n",
       "      <th>5</th>\n",
       "      <td>3.0</td>\n",
       "      <td>HARD</td>\n",
       "      <td>97.985000</td>\n",
       "    </tr>\n",
       "    <tr>\n",
       "      <th>8</th>\n",
       "      <td>4.0</td>\n",
       "      <td>HARD</td>\n",
       "      <td>97.790714</td>\n",
       "    </tr>\n",
       "    <tr>\n",
       "      <th>11</th>\n",
       "      <td>5.0</td>\n",
       "      <td>HARD</td>\n",
       "      <td>98.070250</td>\n",
       "    </tr>\n",
       "    <tr>\n",
       "      <th>14</th>\n",
       "      <td>6.0</td>\n",
       "      <td>HARD</td>\n",
       "      <td>98.193300</td>\n",
       "    </tr>\n",
       "    <tr>\n",
       "      <th>17</th>\n",
       "      <td>7.0</td>\n",
       "      <td>HARD</td>\n",
       "      <td>98.093571</td>\n",
       "    </tr>\n",
       "    <tr>\n",
       "      <th>20</th>\n",
       "      <td>8.0</td>\n",
       "      <td>HARD</td>\n",
       "      <td>97.696500</td>\n",
       "    </tr>\n",
       "    <tr>\n",
       "      <th>23</th>\n",
       "      <td>9.0</td>\n",
       "      <td>HARD</td>\n",
       "      <td>98.019200</td>\n",
       "    </tr>\n",
       "    <tr>\n",
       "      <th>26</th>\n",
       "      <td>10.0</td>\n",
       "      <td>HARD</td>\n",
       "      <td>97.565000</td>\n",
       "    </tr>\n",
       "    <tr>\n",
       "      <th>29</th>\n",
       "      <td>11.0</td>\n",
       "      <td>HARD</td>\n",
       "      <td>97.176500</td>\n",
       "    </tr>\n",
       "    <tr>\n",
       "      <th>32</th>\n",
       "      <td>12.0</td>\n",
       "      <td>HARD</td>\n",
       "      <td>98.265000</td>\n",
       "    </tr>\n",
       "    <tr>\n",
       "      <th>0</th>\n",
       "      <td>1.0</td>\n",
       "      <td>MEDIUM</td>\n",
       "      <td>98.342000</td>\n",
       "    </tr>\n",
       "    <tr>\n",
       "      <th>3</th>\n",
       "      <td>2.0</td>\n",
       "      <td>MEDIUM</td>\n",
       "      <td>95.877687</td>\n",
       "    </tr>\n",
       "    <tr>\n",
       "      <th>6</th>\n",
       "      <td>3.0</td>\n",
       "      <td>MEDIUM</td>\n",
       "      <td>95.280769</td>\n",
       "    </tr>\n",
       "    <tr>\n",
       "      <th>9</th>\n",
       "      <td>4.0</td>\n",
       "      <td>MEDIUM</td>\n",
       "      <td>95.707000</td>\n",
       "    </tr>\n",
       "    <tr>\n",
       "      <th>12</th>\n",
       "      <td>5.0</td>\n",
       "      <td>MEDIUM</td>\n",
       "      <td>95.554643</td>\n",
       "    </tr>\n",
       "    <tr>\n",
       "      <th>15</th>\n",
       "      <td>6.0</td>\n",
       "      <td>MEDIUM</td>\n",
       "      <td>96.740100</td>\n",
       "    </tr>\n",
       "    <tr>\n",
       "      <th>18</th>\n",
       "      <td>7.0</td>\n",
       "      <td>MEDIUM</td>\n",
       "      <td>97.179600</td>\n",
       "    </tr>\n",
       "    <tr>\n",
       "      <th>21</th>\n",
       "      <td>8.0</td>\n",
       "      <td>MEDIUM</td>\n",
       "      <td>97.344500</td>\n",
       "    </tr>\n",
       "    <tr>\n",
       "      <th>24</th>\n",
       "      <td>9.0</td>\n",
       "      <td>MEDIUM</td>\n",
       "      <td>97.573667</td>\n",
       "    </tr>\n",
       "    <tr>\n",
       "      <th>27</th>\n",
       "      <td>10.0</td>\n",
       "      <td>MEDIUM</td>\n",
       "      <td>98.189778</td>\n",
       "    </tr>\n",
       "    <tr>\n",
       "      <th>30</th>\n",
       "      <td>11.0</td>\n",
       "      <td>MEDIUM</td>\n",
       "      <td>98.259125</td>\n",
       "    </tr>\n",
       "    <tr>\n",
       "      <th>33</th>\n",
       "      <td>12.0</td>\n",
       "      <td>MEDIUM</td>\n",
       "      <td>99.006750</td>\n",
       "    </tr>\n",
       "    <tr>\n",
       "      <th>35</th>\n",
       "      <td>13.0</td>\n",
       "      <td>MEDIUM</td>\n",
       "      <td>99.069750</td>\n",
       "    </tr>\n",
       "    <tr>\n",
       "      <th>37</th>\n",
       "      <td>14.0</td>\n",
       "      <td>MEDIUM</td>\n",
       "      <td>99.090400</td>\n",
       "    </tr>\n",
       "    <tr>\n",
       "      <th>39</th>\n",
       "      <td>15.0</td>\n",
       "      <td>MEDIUM</td>\n",
       "      <td>99.365000</td>\n",
       "    </tr>\n",
       "    <tr>\n",
       "      <th>41</th>\n",
       "      <td>16.0</td>\n",
       "      <td>MEDIUM</td>\n",
       "      <td>98.759000</td>\n",
       "    </tr>\n",
       "    <tr>\n",
       "      <th>42</th>\n",
       "      <td>17.0</td>\n",
       "      <td>MEDIUM</td>\n",
       "      <td>99.456000</td>\n",
       "    </tr>\n",
       "    <tr>\n",
       "      <th>43</th>\n",
       "      <td>18.0</td>\n",
       "      <td>MEDIUM</td>\n",
       "      <td>99.848000</td>\n",
       "    </tr>\n",
       "    <tr>\n",
       "      <th>1</th>\n",
       "      <td>1.0</td>\n",
       "      <td>SOFT</td>\n",
       "      <td>97.904000</td>\n",
       "    </tr>\n",
       "    <tr>\n",
       "      <th>4</th>\n",
       "      <td>2.0</td>\n",
       "      <td>SOFT</td>\n",
       "      <td>95.779167</td>\n",
       "    </tr>\n",
       "    <tr>\n",
       "      <th>7</th>\n",
       "      <td>3.0</td>\n",
       "      <td>SOFT</td>\n",
       "      <td>93.965659</td>\n",
       "    </tr>\n",
       "    <tr>\n",
       "      <th>10</th>\n",
       "      <td>4.0</td>\n",
       "      <td>SOFT</td>\n",
       "      <td>94.181500</td>\n",
       "    </tr>\n",
       "    <tr>\n",
       "      <th>13</th>\n",
       "      <td>5.0</td>\n",
       "      <td>SOFT</td>\n",
       "      <td>94.822800</td>\n",
       "    </tr>\n",
       "    <tr>\n",
       "      <th>16</th>\n",
       "      <td>6.0</td>\n",
       "      <td>SOFT</td>\n",
       "      <td>94.997769</td>\n",
       "    </tr>\n",
       "    <tr>\n",
       "      <th>19</th>\n",
       "      <td>7.0</td>\n",
       "      <td>SOFT</td>\n",
       "      <td>95.686500</td>\n",
       "    </tr>\n",
       "    <tr>\n",
       "      <th>22</th>\n",
       "      <td>8.0</td>\n",
       "      <td>SOFT</td>\n",
       "      <td>96.631600</td>\n",
       "    </tr>\n",
       "    <tr>\n",
       "      <th>25</th>\n",
       "      <td>9.0</td>\n",
       "      <td>SOFT</td>\n",
       "      <td>96.911667</td>\n",
       "    </tr>\n",
       "    <tr>\n",
       "      <th>28</th>\n",
       "      <td>10.0</td>\n",
       "      <td>SOFT</td>\n",
       "      <td>97.650385</td>\n",
       "    </tr>\n",
       "    <tr>\n",
       "      <th>31</th>\n",
       "      <td>11.0</td>\n",
       "      <td>SOFT</td>\n",
       "      <td>97.199833</td>\n",
       "    </tr>\n",
       "    <tr>\n",
       "      <th>34</th>\n",
       "      <td>12.0</td>\n",
       "      <td>SOFT</td>\n",
       "      <td>97.081167</td>\n",
       "    </tr>\n",
       "    <tr>\n",
       "      <th>36</th>\n",
       "      <td>13.0</td>\n",
       "      <td>SOFT</td>\n",
       "      <td>98.170667</td>\n",
       "    </tr>\n",
       "    <tr>\n",
       "      <th>38</th>\n",
       "      <td>14.0</td>\n",
       "      <td>SOFT</td>\n",
       "      <td>97.916000</td>\n",
       "    </tr>\n",
       "    <tr>\n",
       "      <th>40</th>\n",
       "      <td>15.0</td>\n",
       "      <td>SOFT</td>\n",
       "      <td>97.624000</td>\n",
       "    </tr>\n",
       "  </tbody>\n",
       "</table>\n",
       "</div>"
      ],
      "text/plain": [
       "    TyreLife Compound  LapTimeSeconds\n",
       "2        2.0     HARD       97.555833\n",
       "5        3.0     HARD       97.985000\n",
       "8        4.0     HARD       97.790714\n",
       "11       5.0     HARD       98.070250\n",
       "14       6.0     HARD       98.193300\n",
       "17       7.0     HARD       98.093571\n",
       "20       8.0     HARD       97.696500\n",
       "23       9.0     HARD       98.019200\n",
       "26      10.0     HARD       97.565000\n",
       "29      11.0     HARD       97.176500\n",
       "32      12.0     HARD       98.265000\n",
       "0        1.0   MEDIUM       98.342000\n",
       "3        2.0   MEDIUM       95.877687\n",
       "6        3.0   MEDIUM       95.280769\n",
       "9        4.0   MEDIUM       95.707000\n",
       "12       5.0   MEDIUM       95.554643\n",
       "15       6.0   MEDIUM       96.740100\n",
       "18       7.0   MEDIUM       97.179600\n",
       "21       8.0   MEDIUM       97.344500\n",
       "24       9.0   MEDIUM       97.573667\n",
       "27      10.0   MEDIUM       98.189778\n",
       "30      11.0   MEDIUM       98.259125\n",
       "33      12.0   MEDIUM       99.006750\n",
       "35      13.0   MEDIUM       99.069750\n",
       "37      14.0   MEDIUM       99.090400\n",
       "39      15.0   MEDIUM       99.365000\n",
       "41      16.0   MEDIUM       98.759000\n",
       "42      17.0   MEDIUM       99.456000\n",
       "43      18.0   MEDIUM       99.848000\n",
       "1        1.0     SOFT       97.904000\n",
       "4        2.0     SOFT       95.779167\n",
       "7        3.0     SOFT       93.965659\n",
       "10       4.0     SOFT       94.181500\n",
       "13       5.0     SOFT       94.822800\n",
       "16       6.0     SOFT       94.997769\n",
       "19       7.0     SOFT       95.686500\n",
       "22       8.0     SOFT       96.631600\n",
       "25       9.0     SOFT       96.911667\n",
       "28      10.0     SOFT       97.650385\n",
       "31      11.0     SOFT       97.199833\n",
       "34      12.0     SOFT       97.081167\n",
       "36      13.0     SOFT       98.170667\n",
       "38      14.0     SOFT       97.916000\n",
       "40      15.0     SOFT       97.624000"
      ]
     },
     "execution_count": 217,
     "metadata": {},
     "output_type": "execute_result"
    }
   ],
   "source": [
    "dffp_full = dffp.groupby(['TyreLife','Compound'] ,as_index=False)[['LapTimeSeconds']].mean()\n",
    "dffp_full = dffp_full.sort_values(by= ['Compound','TyreLife'])\n",
    "dffp_full"
   ]
  },
  {
   "cell_type": "code",
   "execution_count": 218,
   "metadata": {},
   "outputs": [
    {
     "name": "stdout",
     "output_type": "stream",
     "text": [
      "<class 'pandas.core.frame.DataFrame'>\n",
      "Int64Index: 30 entries, 14 to 40\n",
      "Data columns (total 3 columns):\n",
      " #   Column          Non-Null Count  Dtype  \n",
      "---  ------          --------------  -----  \n",
      " 0   TyreLife        30 non-null     float64\n",
      " 1   Compound        30 non-null     object \n",
      " 2   LapTimeSeconds  30 non-null     float64\n",
      "dtypes: float64(2), object(1)\n",
      "memory usage: 960.0+ bytes\n"
     ]
    }
   ],
   "source": [
    "dffp_filtered = dffp_full.sort_values(by= ['Compound','TyreLife'])\n",
    "dffp_filtered = dffp_filtered[dffp_filtered['TyreLife'] > 5.0]\n",
    "dffp_filtered.info()"
   ]
  },
  {
   "cell_type": "code",
   "execution_count": 219,
   "metadata": {},
   "outputs": [],
   "source": [
    "dffp_soft = dffp_filtered[dffp_filtered['Compound'] == 'SOFT'].reset_index(drop=True)\n",
    "dffp_medium = dffp_filtered[dffp_filtered['Compound'] == 'MEDIUM'].reset_index(drop=True)\n",
    "dffp_hard = dffp_filtered[dffp_filtered['Compound'] == 'HARD'].reset_index(drop=True)"
   ]
  },
  {
   "cell_type": "code",
   "execution_count": 303,
   "metadata": {},
   "outputs": [
    {
     "data": {
      "text/plain": [
       "1.969673076923069"
      ]
     },
     "execution_count": 303,
     "metadata": {},
     "output_type": "execute_result"
    }
   ],
   "source": [
    "diff_soft = (dffp_soft['LapTimeSeconds'].iloc[-1] - dffp_soft['LapTimeSeconds'].iloc[0]) * 0.75\n",
    "diff_soft"
   ]
  },
  {
   "cell_type": "code",
   "execution_count": 304,
   "metadata": {},
   "outputs": [
    {
     "data": {
      "text/plain": [
       "2.33092499999999"
      ]
     },
     "execution_count": 304,
     "metadata": {},
     "output_type": "execute_result"
    }
   ],
   "source": [
    "diff_medium = (dffp_medium['LapTimeSeconds'].iloc[-1] - dffp_medium['LapTimeSeconds'].iloc[0]) * 0.75\n",
    "diff_medium"
   ]
  },
  {
   "cell_type": "code",
   "execution_count": 222,
   "metadata": {},
   "outputs": [
    {
     "data": {
      "text/plain": [
       "0.07170000000000698"
      ]
     },
     "execution_count": 222,
     "metadata": {},
     "output_type": "execute_result"
    }
   ],
   "source": [
    "diff_hard = dffp_hard['LapTimeSeconds'].iloc[-1] - dffp_hard['LapTimeSeconds'].iloc[0]\n",
    "diff_hard"
   ]
  },
  {
   "cell_type": "code",
   "execution_count": 223,
   "metadata": {},
   "outputs": [
    {
     "data": {
      "text/plain": [
       "0.06786703601108034"
      ]
     },
     "execution_count": 223,
     "metadata": {},
     "output_type": "execute_result"
    }
   ],
   "source": [
    "dict_nb_laps = {1: 57, 2: 50, 3: 58, 4: 63, 5: 57, 6: 66, 7: 78, 8: 51, 9: 70, 10: 52, 11: 71, 12: 53, 13: 70, 14: 44, 15: 72, 16: 53, 17: 61, 18: 53, 19: 56, 20: 71, 21: 71, 22: 58}\n",
    "fuel_per_lap_kg = 105 / dict_nb_laps[1]\n",
    "mean_laps = 60\n",
    "time_gain_per_kg = 0.035\n",
    "laps_coeff = mean_laps / dict_nb_laps[1]\n",
    "time_gained_per_lap = laps_coeff * time_gain_per_kg * fuel_per_lap_kg\n",
    "time_gained_per_lap"
   ]
  },
  {
   "cell_type": "code",
   "execution_count": 305,
   "metadata": {},
   "outputs": [
    {
     "data": {
      "text/plain": [
       "0.24277755699978593"
      ]
     },
     "execution_count": 305,
     "metadata": {},
     "output_type": "execute_result"
    }
   ],
   "source": [
    "dffp_soft['FuelGain'] = time_gained_per_lap\n",
    "dffp_soft['FuelGain'] = dffp_soft['FuelGain'].cumsum()\n",
    "dffp_soft['AdjustedTime'] = dffp_soft['LapTimeSeconds'] + dffp_soft['FuelGain']\n",
    "\n",
    "diff_soft = (dffp_soft['AdjustedTime'].iloc[-1] - dffp_soft['AdjustedTime'].iloc[0]) * 0.75\n",
    "diff_soft_per_lap = diff_soft / len(dffp_soft)\n",
    "diff_soft_per_lap"
   ]
  },
  {
   "cell_type": "code",
   "execution_count": 306,
   "metadata": {},
   "outputs": [
    {
     "data": {
      "text/html": [
       "<div>\n",
       "<style scoped>\n",
       "    .dataframe tbody tr th:only-of-type {\n",
       "        vertical-align: middle;\n",
       "    }\n",
       "\n",
       "    .dataframe tbody tr th {\n",
       "        vertical-align: top;\n",
       "    }\n",
       "\n",
       "    .dataframe thead th {\n",
       "        text-align: right;\n",
       "    }\n",
       "</style>\n",
       "<table border=\"1\" class=\"dataframe\">\n",
       "  <thead>\n",
       "    <tr style=\"text-align: right;\">\n",
       "      <th></th>\n",
       "      <th>TyreLife</th>\n",
       "      <th>Compound</th>\n",
       "      <th>LapTimeSeconds</th>\n",
       "      <th>FuelGain</th>\n",
       "      <th>AdjustedTime</th>\n",
       "    </tr>\n",
       "  </thead>\n",
       "  <tbody>\n",
       "    <tr>\n",
       "      <th>0</th>\n",
       "      <td>6.0</td>\n",
       "      <td>SOFT</td>\n",
       "      <td>94.997769</td>\n",
       "      <td>0.067867</td>\n",
       "      <td>95.065636</td>\n",
       "    </tr>\n",
       "    <tr>\n",
       "      <th>1</th>\n",
       "      <td>7.0</td>\n",
       "      <td>SOFT</td>\n",
       "      <td>95.686500</td>\n",
       "      <td>0.135734</td>\n",
       "      <td>95.822234</td>\n",
       "    </tr>\n",
       "    <tr>\n",
       "      <th>2</th>\n",
       "      <td>8.0</td>\n",
       "      <td>SOFT</td>\n",
       "      <td>96.631600</td>\n",
       "      <td>0.203601</td>\n",
       "      <td>96.835201</td>\n",
       "    </tr>\n",
       "    <tr>\n",
       "      <th>3</th>\n",
       "      <td>9.0</td>\n",
       "      <td>SOFT</td>\n",
       "      <td>96.911667</td>\n",
       "      <td>0.271468</td>\n",
       "      <td>97.183135</td>\n",
       "    </tr>\n",
       "    <tr>\n",
       "      <th>4</th>\n",
       "      <td>10.0</td>\n",
       "      <td>SOFT</td>\n",
       "      <td>97.650385</td>\n",
       "      <td>0.339335</td>\n",
       "      <td>97.989720</td>\n",
       "    </tr>\n",
       "    <tr>\n",
       "      <th>5</th>\n",
       "      <td>11.0</td>\n",
       "      <td>SOFT</td>\n",
       "      <td>97.199833</td>\n",
       "      <td>0.407202</td>\n",
       "      <td>97.607036</td>\n",
       "    </tr>\n",
       "    <tr>\n",
       "      <th>6</th>\n",
       "      <td>12.0</td>\n",
       "      <td>SOFT</td>\n",
       "      <td>97.081167</td>\n",
       "      <td>0.475069</td>\n",
       "      <td>97.556236</td>\n",
       "    </tr>\n",
       "    <tr>\n",
       "      <th>7</th>\n",
       "      <td>13.0</td>\n",
       "      <td>SOFT</td>\n",
       "      <td>98.170667</td>\n",
       "      <td>0.542936</td>\n",
       "      <td>98.713603</td>\n",
       "    </tr>\n",
       "    <tr>\n",
       "      <th>8</th>\n",
       "      <td>14.0</td>\n",
       "      <td>SOFT</td>\n",
       "      <td>97.916000</td>\n",
       "      <td>0.610803</td>\n",
       "      <td>98.526803</td>\n",
       "    </tr>\n",
       "    <tr>\n",
       "      <th>9</th>\n",
       "      <td>15.0</td>\n",
       "      <td>SOFT</td>\n",
       "      <td>97.624000</td>\n",
       "      <td>0.678670</td>\n",
       "      <td>98.302670</td>\n",
       "    </tr>\n",
       "  </tbody>\n",
       "</table>\n",
       "</div>"
      ],
      "text/plain": [
       "   TyreLife Compound  LapTimeSeconds  FuelGain  AdjustedTime\n",
       "0       6.0     SOFT       94.997769  0.067867     95.065636\n",
       "1       7.0     SOFT       95.686500  0.135734     95.822234\n",
       "2       8.0     SOFT       96.631600  0.203601     96.835201\n",
       "3       9.0     SOFT       96.911667  0.271468     97.183135\n",
       "4      10.0     SOFT       97.650385  0.339335     97.989720\n",
       "5      11.0     SOFT       97.199833  0.407202     97.607036\n",
       "6      12.0     SOFT       97.081167  0.475069     97.556236\n",
       "7      13.0     SOFT       98.170667  0.542936     98.713603\n",
       "8      14.0     SOFT       97.916000  0.610803     98.526803\n",
       "9      15.0     SOFT       97.624000  0.678670     98.302670"
      ]
     },
     "execution_count": 306,
     "metadata": {},
     "output_type": "execute_result"
    }
   ],
   "source": [
    "dffp_soft"
   ]
  },
  {
   "cell_type": "code",
   "execution_count": 307,
   "metadata": {},
   "outputs": [
    {
     "data": {
      "text/plain": [
       "{'TyreLife': 3.0, 'LapTimeSeconds': 93.96565909090909}"
      ]
     },
     "execution_count": 307,
     "metadata": {},
     "output_type": "execute_result"
    }
   ],
   "source": [
    "laptime_min_series = dffp_full[dffp_full['Compound'] == 'SOFT'].sort_values('LapTimeSeconds', ascending=True).iloc[0]\n",
    "laptime_min = {'TyreLife': laptime_min_series['TyreLife'], 'LapTimeSeconds': laptime_min_series['LapTimeSeconds']}\n",
    "laptime_min"
   ]
  },
  {
   "cell_type": "code",
   "execution_count": 308,
   "metadata": {},
   "outputs": [
    {
     "data": {
      "text/plain": [
       "97.3485250295411"
      ]
     },
     "execution_count": 308,
     "metadata": {},
     "output_type": "execute_result"
    }
   ],
   "source": [
    "laptime_min_calc_soft =  (laptime_min['LapTimeSeconds'] - ((laptime_min['TyreLife'] - 1) * diff_soft_per_lap)) + (dict_nb_laps[1] * time_gained_per_lap)\n",
    "laptime_min_calc_soft"
   ]
  },
  {
   "cell_type": "code",
   "execution_count": 309,
   "metadata": {},
   "outputs": [
    {
     "data": {
      "text/plain": [
       "98.4858971795411"
      ]
     },
     "execution_count": 309,
     "metadata": {},
     "output_type": "execute_result"
    }
   ],
   "source": [
    "laptime_min_calc_medium = (laptime_min_calc_soft + time_to_seconds(medium_to_soft))\n",
    "laptime_min_calc_medium"
   ]
  },
  {
   "cell_type": "code",
   "execution_count": 310,
   "metadata": {},
   "outputs": [
    {
     "data": {
      "text/plain": [
       "99.21575747354109"
      ]
     },
     "execution_count": 310,
     "metadata": {},
     "output_type": "execute_result"
    }
   ],
   "source": [
    "laptime_min_calc_hard = laptime_min_calc_soft + time_to_seconds(hard_to_soft)\n",
    "laptime_min_calc_hard"
   ]
  },
  {
   "cell_type": "code",
   "execution_count": 311,
   "metadata": {},
   "outputs": [],
   "source": [
    "dc = 0.1\n",
    "dr = 0.11329619326656674\n"
   ]
  },
  {
   "cell_type": "code",
   "execution_count": 312,
   "metadata": {},
   "outputs": [
    {
     "data": {
      "text/plain": [
       "0.12462581259322343"
      ]
     },
     "execution_count": 312,
     "metadata": {},
     "output_type": "execute_result"
    }
   ],
   "source": [
    "\n",
    "dr = dr * (1 + dc)\n",
    "dr"
   ]
  },
  {
   "cell_type": "code",
   "execution_count": 324,
   "metadata": {},
   "outputs": [
    {
     "data": {
      "text/plain": [
       "[0.2670553126997645,\n",
       " 0.293760843969741,\n",
       " 0.32313692836671515,\n",
       " 0.3554506212033867,\n",
       " 0.3909956833237254]"
      ]
     },
     "execution_count": 324,
     "metadata": {},
     "output_type": "execute_result"
    }
   ],
   "source": [
    "list_times_soft = []\n",
    "dc = 0.1\n",
    "dr = diff_soft_per_lap\n",
    "\n",
    "for i in range(1, dict_nb_laps[1] + 1):\n",
    "    dr = dr * (1 + dc)\n",
    "    list_times_soft.append(dr)\n",
    "    \n",
    "list_times_soft[:5]"
   ]
  },
  {
   "cell_type": "code",
   "execution_count": 325,
   "metadata": {},
   "outputs": [
    {
     "data": {
      "text/html": [
       "<div>\n",
       "<style scoped>\n",
       "    .dataframe tbody tr th:only-of-type {\n",
       "        vertical-align: middle;\n",
       "    }\n",
       "\n",
       "    .dataframe tbody tr th {\n",
       "        vertical-align: top;\n",
       "    }\n",
       "\n",
       "    .dataframe thead th {\n",
       "        text-align: right;\n",
       "    }\n",
       "</style>\n",
       "<table border=\"1\" class=\"dataframe\">\n",
       "  <thead>\n",
       "    <tr style=\"text-align: right;\">\n",
       "      <th></th>\n",
       "      <th>Lap</th>\n",
       "      <th>Tyre</th>\n",
       "      <th>LapTimeSeconds</th>\n",
       "      <th>DeltaDeg</th>\n",
       "      <th>FuelDeg</th>\n",
       "      <th>AdjustedTime</th>\n",
       "      <th>FinalLapTime</th>\n",
       "    </tr>\n",
       "  </thead>\n",
       "  <tbody>\n",
       "    <tr>\n",
       "      <th>0</th>\n",
       "      <td>1</td>\n",
       "      <td>SOFT</td>\n",
       "      <td>97.348525</td>\n",
       "      <td>0.267055</td>\n",
       "      <td>0.067867</td>\n",
       "      <td>97.615580</td>\n",
       "      <td>97.547713</td>\n",
       "    </tr>\n",
       "    <tr>\n",
       "      <th>1</th>\n",
       "      <td>2</td>\n",
       "      <td>SOFT</td>\n",
       "      <td>97.348525</td>\n",
       "      <td>0.293761</td>\n",
       "      <td>0.135734</td>\n",
       "      <td>97.642286</td>\n",
       "      <td>97.506552</td>\n",
       "    </tr>\n",
       "    <tr>\n",
       "      <th>2</th>\n",
       "      <td>3</td>\n",
       "      <td>SOFT</td>\n",
       "      <td>97.348525</td>\n",
       "      <td>0.323137</td>\n",
       "      <td>0.203601</td>\n",
       "      <td>97.671662</td>\n",
       "      <td>97.468061</td>\n",
       "    </tr>\n",
       "    <tr>\n",
       "      <th>3</th>\n",
       "      <td>4</td>\n",
       "      <td>SOFT</td>\n",
       "      <td>97.348525</td>\n",
       "      <td>0.355451</td>\n",
       "      <td>0.271468</td>\n",
       "      <td>97.703976</td>\n",
       "      <td>97.432508</td>\n",
       "    </tr>\n",
       "    <tr>\n",
       "      <th>4</th>\n",
       "      <td>5</td>\n",
       "      <td>SOFT</td>\n",
       "      <td>97.348525</td>\n",
       "      <td>0.390996</td>\n",
       "      <td>0.339335</td>\n",
       "      <td>97.739521</td>\n",
       "      <td>97.400186</td>\n",
       "    </tr>\n",
       "    <tr>\n",
       "      <th>5</th>\n",
       "      <td>6</td>\n",
       "      <td>SOFT</td>\n",
       "      <td>97.348525</td>\n",
       "      <td>0.430095</td>\n",
       "      <td>0.407202</td>\n",
       "      <td>97.778620</td>\n",
       "      <td>97.371418</td>\n",
       "    </tr>\n",
       "    <tr>\n",
       "      <th>6</th>\n",
       "      <td>7</td>\n",
       "      <td>SOFT</td>\n",
       "      <td>97.348525</td>\n",
       "      <td>0.473105</td>\n",
       "      <td>0.475069</td>\n",
       "      <td>97.821630</td>\n",
       "      <td>97.346561</td>\n",
       "    </tr>\n",
       "    <tr>\n",
       "      <th>7</th>\n",
       "      <td>8</td>\n",
       "      <td>SOFT</td>\n",
       "      <td>97.348525</td>\n",
       "      <td>0.520415</td>\n",
       "      <td>0.542936</td>\n",
       "      <td>97.868940</td>\n",
       "      <td>97.326004</td>\n",
       "    </tr>\n",
       "    <tr>\n",
       "      <th>8</th>\n",
       "      <td>9</td>\n",
       "      <td>SOFT</td>\n",
       "      <td>97.348525</td>\n",
       "      <td>0.572457</td>\n",
       "      <td>0.610803</td>\n",
       "      <td>97.920982</td>\n",
       "      <td>97.310178</td>\n",
       "    </tr>\n",
       "    <tr>\n",
       "      <th>9</th>\n",
       "      <td>10</td>\n",
       "      <td>SOFT</td>\n",
       "      <td>97.348525</td>\n",
       "      <td>0.629702</td>\n",
       "      <td>0.678670</td>\n",
       "      <td>97.978227</td>\n",
       "      <td>97.299557</td>\n",
       "    </tr>\n",
       "    <tr>\n",
       "      <th>10</th>\n",
       "      <td>11</td>\n",
       "      <td>SOFT</td>\n",
       "      <td>97.348525</td>\n",
       "      <td>0.692673</td>\n",
       "      <td>0.746537</td>\n",
       "      <td>98.041198</td>\n",
       "      <td>97.294660</td>\n",
       "    </tr>\n",
       "    <tr>\n",
       "      <th>11</th>\n",
       "      <td>12</td>\n",
       "      <td>SOFT</td>\n",
       "      <td>97.348525</td>\n",
       "      <td>0.761940</td>\n",
       "      <td>0.814404</td>\n",
       "      <td>98.110465</td>\n",
       "      <td>97.296061</td>\n",
       "    </tr>\n",
       "    <tr>\n",
       "      <th>12</th>\n",
       "      <td>13</td>\n",
       "      <td>SOFT</td>\n",
       "      <td>97.348525</td>\n",
       "      <td>0.838134</td>\n",
       "      <td>0.882271</td>\n",
       "      <td>98.186659</td>\n",
       "      <td>97.304388</td>\n",
       "    </tr>\n",
       "    <tr>\n",
       "      <th>13</th>\n",
       "      <td>14</td>\n",
       "      <td>SOFT</td>\n",
       "      <td>97.348525</td>\n",
       "      <td>0.921947</td>\n",
       "      <td>0.950139</td>\n",
       "      <td>98.270472</td>\n",
       "      <td>97.320334</td>\n",
       "    </tr>\n",
       "    <tr>\n",
       "      <th>14</th>\n",
       "      <td>15</td>\n",
       "      <td>SOFT</td>\n",
       "      <td>97.348525</td>\n",
       "      <td>1.014142</td>\n",
       "      <td>1.018006</td>\n",
       "      <td>98.362667</td>\n",
       "      <td>97.344662</td>\n",
       "    </tr>\n",
       "    <tr>\n",
       "      <th>15</th>\n",
       "      <td>16</td>\n",
       "      <td>SOFT</td>\n",
       "      <td>97.348525</td>\n",
       "      <td>1.115556</td>\n",
       "      <td>1.085873</td>\n",
       "      <td>98.464081</td>\n",
       "      <td>97.378209</td>\n",
       "    </tr>\n",
       "    <tr>\n",
       "      <th>16</th>\n",
       "      <td>17</td>\n",
       "      <td>SOFT</td>\n",
       "      <td>97.348525</td>\n",
       "      <td>1.227112</td>\n",
       "      <td>1.153740</td>\n",
       "      <td>98.575637</td>\n",
       "      <td>97.421897</td>\n",
       "    </tr>\n",
       "    <tr>\n",
       "      <th>17</th>\n",
       "      <td>18</td>\n",
       "      <td>SOFT</td>\n",
       "      <td>97.348525</td>\n",
       "      <td>1.349823</td>\n",
       "      <td>1.221607</td>\n",
       "      <td>98.698348</td>\n",
       "      <td>97.476742</td>\n",
       "    </tr>\n",
       "    <tr>\n",
       "      <th>18</th>\n",
       "      <td>19</td>\n",
       "      <td>SOFT</td>\n",
       "      <td>97.348525</td>\n",
       "      <td>1.484805</td>\n",
       "      <td>1.289474</td>\n",
       "      <td>98.833330</td>\n",
       "      <td>97.543857</td>\n",
       "    </tr>\n",
       "    <tr>\n",
       "      <th>19</th>\n",
       "      <td>20</td>\n",
       "      <td>SOFT</td>\n",
       "      <td>97.348525</td>\n",
       "      <td>1.633286</td>\n",
       "      <td>1.357341</td>\n",
       "      <td>98.981811</td>\n",
       "      <td>97.624470</td>\n",
       "    </tr>\n",
       "    <tr>\n",
       "      <th>20</th>\n",
       "      <td>21</td>\n",
       "      <td>SOFT</td>\n",
       "      <td>97.348525</td>\n",
       "      <td>1.796615</td>\n",
       "      <td>1.425208</td>\n",
       "      <td>99.145140</td>\n",
       "      <td>97.719932</td>\n",
       "    </tr>\n",
       "    <tr>\n",
       "      <th>21</th>\n",
       "      <td>22</td>\n",
       "      <td>SOFT</td>\n",
       "      <td>97.348525</td>\n",
       "      <td>1.976276</td>\n",
       "      <td>1.493075</td>\n",
       "      <td>99.324801</td>\n",
       "      <td>97.831726</td>\n",
       "    </tr>\n",
       "    <tr>\n",
       "      <th>22</th>\n",
       "      <td>23</td>\n",
       "      <td>SOFT</td>\n",
       "      <td>97.348525</td>\n",
       "      <td>2.173904</td>\n",
       "      <td>1.560942</td>\n",
       "      <td>99.522429</td>\n",
       "      <td>97.961487</td>\n",
       "    </tr>\n",
       "    <tr>\n",
       "      <th>23</th>\n",
       "      <td>24</td>\n",
       "      <td>SOFT</td>\n",
       "      <td>97.348525</td>\n",
       "      <td>2.391294</td>\n",
       "      <td>1.628809</td>\n",
       "      <td>99.739819</td>\n",
       "      <td>98.111010</td>\n",
       "    </tr>\n",
       "    <tr>\n",
       "      <th>24</th>\n",
       "      <td>25</td>\n",
       "      <td>SOFT</td>\n",
       "      <td>97.348525</td>\n",
       "      <td>2.630423</td>\n",
       "      <td>1.696676</td>\n",
       "      <td>99.978948</td>\n",
       "      <td>98.282273</td>\n",
       "    </tr>\n",
       "    <tr>\n",
       "      <th>25</th>\n",
       "      <td>26</td>\n",
       "      <td>SOFT</td>\n",
       "      <td>97.348525</td>\n",
       "      <td>2.893466</td>\n",
       "      <td>1.764543</td>\n",
       "      <td>100.241991</td>\n",
       "      <td>98.477448</td>\n",
       "    </tr>\n",
       "    <tr>\n",
       "      <th>26</th>\n",
       "      <td>27</td>\n",
       "      <td>SOFT</td>\n",
       "      <td>97.348525</td>\n",
       "      <td>3.182812</td>\n",
       "      <td>1.832410</td>\n",
       "      <td>100.531337</td>\n",
       "      <td>98.698927</td>\n",
       "    </tr>\n",
       "    <tr>\n",
       "      <th>27</th>\n",
       "      <td>28</td>\n",
       "      <td>SOFT</td>\n",
       "      <td>97.348525</td>\n",
       "      <td>3.501094</td>\n",
       "      <td>1.900277</td>\n",
       "      <td>100.849619</td>\n",
       "      <td>98.949342</td>\n",
       "    </tr>\n",
       "    <tr>\n",
       "      <th>28</th>\n",
       "      <td>29</td>\n",
       "      <td>SOFT</td>\n",
       "      <td>97.348525</td>\n",
       "      <td>3.851203</td>\n",
       "      <td>1.968144</td>\n",
       "      <td>101.199728</td>\n",
       "      <td>99.231584</td>\n",
       "    </tr>\n",
       "    <tr>\n",
       "      <th>29</th>\n",
       "      <td>30</td>\n",
       "      <td>SOFT</td>\n",
       "      <td>97.348525</td>\n",
       "      <td>4.236323</td>\n",
       "      <td>2.036011</td>\n",
       "      <td>101.584848</td>\n",
       "      <td>99.548837</td>\n",
       "    </tr>\n",
       "    <tr>\n",
       "      <th>30</th>\n",
       "      <td>31</td>\n",
       "      <td>SOFT</td>\n",
       "      <td>97.348525</td>\n",
       "      <td>4.659956</td>\n",
       "      <td>2.103878</td>\n",
       "      <td>102.008481</td>\n",
       "      <td>99.904602</td>\n",
       "    </tr>\n",
       "    <tr>\n",
       "      <th>31</th>\n",
       "      <td>32</td>\n",
       "      <td>SOFT</td>\n",
       "      <td>97.348525</td>\n",
       "      <td>5.125951</td>\n",
       "      <td>2.171745</td>\n",
       "      <td>102.474476</td>\n",
       "      <td>100.302731</td>\n",
       "    </tr>\n",
       "    <tr>\n",
       "      <th>32</th>\n",
       "      <td>33</td>\n",
       "      <td>SOFT</td>\n",
       "      <td>97.348525</td>\n",
       "      <td>5.638546</td>\n",
       "      <td>2.239612</td>\n",
       "      <td>102.987071</td>\n",
       "      <td>100.747459</td>\n",
       "    </tr>\n",
       "    <tr>\n",
       "      <th>33</th>\n",
       "      <td>34</td>\n",
       "      <td>SOFT</td>\n",
       "      <td>97.348525</td>\n",
       "      <td>6.202401</td>\n",
       "      <td>2.307479</td>\n",
       "      <td>103.550926</td>\n",
       "      <td>101.243447</td>\n",
       "    </tr>\n",
       "    <tr>\n",
       "      <th>34</th>\n",
       "      <td>35</td>\n",
       "      <td>SOFT</td>\n",
       "      <td>97.348525</td>\n",
       "      <td>6.822641</td>\n",
       "      <td>2.375346</td>\n",
       "      <td>104.171166</td>\n",
       "      <td>101.795820</td>\n",
       "    </tr>\n",
       "    <tr>\n",
       "      <th>35</th>\n",
       "      <td>36</td>\n",
       "      <td>SOFT</td>\n",
       "      <td>97.348525</td>\n",
       "      <td>7.504905</td>\n",
       "      <td>2.443213</td>\n",
       "      <td>104.853430</td>\n",
       "      <td>102.410217</td>\n",
       "    </tr>\n",
       "    <tr>\n",
       "      <th>36</th>\n",
       "      <td>37</td>\n",
       "      <td>SOFT</td>\n",
       "      <td>97.348525</td>\n",
       "      <td>8.255396</td>\n",
       "      <td>2.511080</td>\n",
       "      <td>105.603921</td>\n",
       "      <td>103.092840</td>\n",
       "    </tr>\n",
       "    <tr>\n",
       "      <th>37</th>\n",
       "      <td>38</td>\n",
       "      <td>SOFT</td>\n",
       "      <td>97.348525</td>\n",
       "      <td>9.080935</td>\n",
       "      <td>2.578947</td>\n",
       "      <td>106.429460</td>\n",
       "      <td>103.850513</td>\n",
       "    </tr>\n",
       "    <tr>\n",
       "      <th>38</th>\n",
       "      <td>39</td>\n",
       "      <td>SOFT</td>\n",
       "      <td>97.348525</td>\n",
       "      <td>9.989029</td>\n",
       "      <td>2.646814</td>\n",
       "      <td>107.337554</td>\n",
       "      <td>104.690739</td>\n",
       "    </tr>\n",
       "    <tr>\n",
       "      <th>39</th>\n",
       "      <td>40</td>\n",
       "      <td>SOFT</td>\n",
       "      <td>97.348525</td>\n",
       "      <td>10.987931</td>\n",
       "      <td>2.714681</td>\n",
       "      <td>108.336457</td>\n",
       "      <td>105.621775</td>\n",
       "    </tr>\n",
       "    <tr>\n",
       "      <th>40</th>\n",
       "      <td>41</td>\n",
       "      <td>SOFT</td>\n",
       "      <td>97.348525</td>\n",
       "      <td>12.086725</td>\n",
       "      <td>2.782548</td>\n",
       "      <td>109.435250</td>\n",
       "      <td>106.652701</td>\n",
       "    </tr>\n",
       "    <tr>\n",
       "      <th>41</th>\n",
       "      <td>42</td>\n",
       "      <td>SOFT</td>\n",
       "      <td>97.348525</td>\n",
       "      <td>13.295397</td>\n",
       "      <td>2.850416</td>\n",
       "      <td>110.643922</td>\n",
       "      <td>107.793507</td>\n",
       "    </tr>\n",
       "    <tr>\n",
       "      <th>42</th>\n",
       "      <td>43</td>\n",
       "      <td>SOFT</td>\n",
       "      <td>97.348525</td>\n",
       "      <td>14.624937</td>\n",
       "      <td>2.918283</td>\n",
       "      <td>111.973462</td>\n",
       "      <td>109.055179</td>\n",
       "    </tr>\n",
       "    <tr>\n",
       "      <th>43</th>\n",
       "      <td>44</td>\n",
       "      <td>SOFT</td>\n",
       "      <td>97.348525</td>\n",
       "      <td>16.087431</td>\n",
       "      <td>2.986150</td>\n",
       "      <td>113.435956</td>\n",
       "      <td>110.449806</td>\n",
       "    </tr>\n",
       "    <tr>\n",
       "      <th>44</th>\n",
       "      <td>45</td>\n",
       "      <td>SOFT</td>\n",
       "      <td>97.348525</td>\n",
       "      <td>17.696174</td>\n",
       "      <td>3.054017</td>\n",
       "      <td>115.044699</td>\n",
       "      <td>111.990682</td>\n",
       "    </tr>\n",
       "    <tr>\n",
       "      <th>45</th>\n",
       "      <td>46</td>\n",
       "      <td>SOFT</td>\n",
       "      <td>97.348525</td>\n",
       "      <td>19.465791</td>\n",
       "      <td>3.121884</td>\n",
       "      <td>116.814316</td>\n",
       "      <td>113.692432</td>\n",
       "    </tr>\n",
       "    <tr>\n",
       "      <th>46</th>\n",
       "      <td>47</td>\n",
       "      <td>SOFT</td>\n",
       "      <td>97.348525</td>\n",
       "      <td>21.412370</td>\n",
       "      <td>3.189751</td>\n",
       "      <td>118.760895</td>\n",
       "      <td>115.571144</td>\n",
       "    </tr>\n",
       "    <tr>\n",
       "      <th>47</th>\n",
       "      <td>48</td>\n",
       "      <td>SOFT</td>\n",
       "      <td>97.348525</td>\n",
       "      <td>23.553607</td>\n",
       "      <td>3.257618</td>\n",
       "      <td>120.902132</td>\n",
       "      <td>117.644514</td>\n",
       "    </tr>\n",
       "    <tr>\n",
       "      <th>48</th>\n",
       "      <td>49</td>\n",
       "      <td>SOFT</td>\n",
       "      <td>97.348525</td>\n",
       "      <td>25.908968</td>\n",
       "      <td>3.325485</td>\n",
       "      <td>123.257493</td>\n",
       "      <td>119.932008</td>\n",
       "    </tr>\n",
       "    <tr>\n",
       "      <th>49</th>\n",
       "      <td>50</td>\n",
       "      <td>SOFT</td>\n",
       "      <td>97.348525</td>\n",
       "      <td>28.499864</td>\n",
       "      <td>3.393352</td>\n",
       "      <td>125.848390</td>\n",
       "      <td>122.455038</td>\n",
       "    </tr>\n",
       "    <tr>\n",
       "      <th>50</th>\n",
       "      <td>51</td>\n",
       "      <td>SOFT</td>\n",
       "      <td>97.348525</td>\n",
       "      <td>31.349851</td>\n",
       "      <td>3.461219</td>\n",
       "      <td>128.698376</td>\n",
       "      <td>125.237157</td>\n",
       "    </tr>\n",
       "    <tr>\n",
       "      <th>51</th>\n",
       "      <td>52</td>\n",
       "      <td>SOFT</td>\n",
       "      <td>97.348525</td>\n",
       "      <td>34.484836</td>\n",
       "      <td>3.529086</td>\n",
       "      <td>131.833361</td>\n",
       "      <td>128.304275</td>\n",
       "    </tr>\n",
       "    <tr>\n",
       "      <th>52</th>\n",
       "      <td>53</td>\n",
       "      <td>SOFT</td>\n",
       "      <td>97.348525</td>\n",
       "      <td>37.933320</td>\n",
       "      <td>3.596953</td>\n",
       "      <td>135.281845</td>\n",
       "      <td>131.684892</td>\n",
       "    </tr>\n",
       "    <tr>\n",
       "      <th>53</th>\n",
       "      <td>54</td>\n",
       "      <td>SOFT</td>\n",
       "      <td>97.348525</td>\n",
       "      <td>41.726652</td>\n",
       "      <td>3.664820</td>\n",
       "      <td>139.075177</td>\n",
       "      <td>135.410357</td>\n",
       "    </tr>\n",
       "    <tr>\n",
       "      <th>54</th>\n",
       "      <td>55</td>\n",
       "      <td>SOFT</td>\n",
       "      <td>97.348525</td>\n",
       "      <td>45.899317</td>\n",
       "      <td>3.732687</td>\n",
       "      <td>143.247842</td>\n",
       "      <td>139.515155</td>\n",
       "    </tr>\n",
       "    <tr>\n",
       "      <th>55</th>\n",
       "      <td>56</td>\n",
       "      <td>SOFT</td>\n",
       "      <td>97.348525</td>\n",
       "      <td>50.489248</td>\n",
       "      <td>3.800554</td>\n",
       "      <td>147.837773</td>\n",
       "      <td>144.037219</td>\n",
       "    </tr>\n",
       "    <tr>\n",
       "      <th>56</th>\n",
       "      <td>57</td>\n",
       "      <td>SOFT</td>\n",
       "      <td>97.348525</td>\n",
       "      <td>55.538173</td>\n",
       "      <td>3.868421</td>\n",
       "      <td>152.886698</td>\n",
       "      <td>149.018277</td>\n",
       "    </tr>\n",
       "  </tbody>\n",
       "</table>\n",
       "</div>"
      ],
      "text/plain": [
       "    Lap  Tyre  LapTimeSeconds   DeltaDeg   FuelDeg  AdjustedTime  FinalLapTime\n",
       "0     1  SOFT       97.348525   0.267055  0.067867     97.615580     97.547713\n",
       "1     2  SOFT       97.348525   0.293761  0.135734     97.642286     97.506552\n",
       "2     3  SOFT       97.348525   0.323137  0.203601     97.671662     97.468061\n",
       "3     4  SOFT       97.348525   0.355451  0.271468     97.703976     97.432508\n",
       "4     5  SOFT       97.348525   0.390996  0.339335     97.739521     97.400186\n",
       "5     6  SOFT       97.348525   0.430095  0.407202     97.778620     97.371418\n",
       "6     7  SOFT       97.348525   0.473105  0.475069     97.821630     97.346561\n",
       "7     8  SOFT       97.348525   0.520415  0.542936     97.868940     97.326004\n",
       "8     9  SOFT       97.348525   0.572457  0.610803     97.920982     97.310178\n",
       "9    10  SOFT       97.348525   0.629702  0.678670     97.978227     97.299557\n",
       "10   11  SOFT       97.348525   0.692673  0.746537     98.041198     97.294660\n",
       "11   12  SOFT       97.348525   0.761940  0.814404     98.110465     97.296061\n",
       "12   13  SOFT       97.348525   0.838134  0.882271     98.186659     97.304388\n",
       "13   14  SOFT       97.348525   0.921947  0.950139     98.270472     97.320334\n",
       "14   15  SOFT       97.348525   1.014142  1.018006     98.362667     97.344662\n",
       "15   16  SOFT       97.348525   1.115556  1.085873     98.464081     97.378209\n",
       "16   17  SOFT       97.348525   1.227112  1.153740     98.575637     97.421897\n",
       "17   18  SOFT       97.348525   1.349823  1.221607     98.698348     97.476742\n",
       "18   19  SOFT       97.348525   1.484805  1.289474     98.833330     97.543857\n",
       "19   20  SOFT       97.348525   1.633286  1.357341     98.981811     97.624470\n",
       "20   21  SOFT       97.348525   1.796615  1.425208     99.145140     97.719932\n",
       "21   22  SOFT       97.348525   1.976276  1.493075     99.324801     97.831726\n",
       "22   23  SOFT       97.348525   2.173904  1.560942     99.522429     97.961487\n",
       "23   24  SOFT       97.348525   2.391294  1.628809     99.739819     98.111010\n",
       "24   25  SOFT       97.348525   2.630423  1.696676     99.978948     98.282273\n",
       "25   26  SOFT       97.348525   2.893466  1.764543    100.241991     98.477448\n",
       "26   27  SOFT       97.348525   3.182812  1.832410    100.531337     98.698927\n",
       "27   28  SOFT       97.348525   3.501094  1.900277    100.849619     98.949342\n",
       "28   29  SOFT       97.348525   3.851203  1.968144    101.199728     99.231584\n",
       "29   30  SOFT       97.348525   4.236323  2.036011    101.584848     99.548837\n",
       "30   31  SOFT       97.348525   4.659956  2.103878    102.008481     99.904602\n",
       "31   32  SOFT       97.348525   5.125951  2.171745    102.474476    100.302731\n",
       "32   33  SOFT       97.348525   5.638546  2.239612    102.987071    100.747459\n",
       "33   34  SOFT       97.348525   6.202401  2.307479    103.550926    101.243447\n",
       "34   35  SOFT       97.348525   6.822641  2.375346    104.171166    101.795820\n",
       "35   36  SOFT       97.348525   7.504905  2.443213    104.853430    102.410217\n",
       "36   37  SOFT       97.348525   8.255396  2.511080    105.603921    103.092840\n",
       "37   38  SOFT       97.348525   9.080935  2.578947    106.429460    103.850513\n",
       "38   39  SOFT       97.348525   9.989029  2.646814    107.337554    104.690739\n",
       "39   40  SOFT       97.348525  10.987931  2.714681    108.336457    105.621775\n",
       "40   41  SOFT       97.348525  12.086725  2.782548    109.435250    106.652701\n",
       "41   42  SOFT       97.348525  13.295397  2.850416    110.643922    107.793507\n",
       "42   43  SOFT       97.348525  14.624937  2.918283    111.973462    109.055179\n",
       "43   44  SOFT       97.348525  16.087431  2.986150    113.435956    110.449806\n",
       "44   45  SOFT       97.348525  17.696174  3.054017    115.044699    111.990682\n",
       "45   46  SOFT       97.348525  19.465791  3.121884    116.814316    113.692432\n",
       "46   47  SOFT       97.348525  21.412370  3.189751    118.760895    115.571144\n",
       "47   48  SOFT       97.348525  23.553607  3.257618    120.902132    117.644514\n",
       "48   49  SOFT       97.348525  25.908968  3.325485    123.257493    119.932008\n",
       "49   50  SOFT       97.348525  28.499864  3.393352    125.848390    122.455038\n",
       "50   51  SOFT       97.348525  31.349851  3.461219    128.698376    125.237157\n",
       "51   52  SOFT       97.348525  34.484836  3.529086    131.833361    128.304275\n",
       "52   53  SOFT       97.348525  37.933320  3.596953    135.281845    131.684892\n",
       "53   54  SOFT       97.348525  41.726652  3.664820    139.075177    135.410357\n",
       "54   55  SOFT       97.348525  45.899317  3.732687    143.247842    139.515155\n",
       "55   56  SOFT       97.348525  50.489248  3.800554    147.837773    144.037219\n",
       "56   57  SOFT       97.348525  55.538173  3.868421    152.886698    149.018277"
      ]
     },
     "execution_count": 325,
     "metadata": {},
     "output_type": "execute_result"
    }
   ],
   "source": [
    "df_times = pd.DataFrame(columns=['Lap', 'Tyre', 'LapTimeSeconds', 'DeltaDeg', 'FuelDeg', 'AdjustedTime'])\n",
    "\n",
    "\n",
    "\n",
    "df_times['Lap'] = list(range(1, dict_nb_laps[1] + 1))\n",
    "df_times['Tyre'] = 'SOFT'\n",
    "df_times['LapTimeSeconds'] = laptime_min_calc_soft\n",
    "df_times['DeltaDeg'] = list_times_soft\n",
    "df_times['FuelDeg'] = time_gained_per_lap * df_times['Lap']\n",
    "df_times['AdjustedTime'] = df_times.apply(lambda row: row['LapTimeSeconds'] + row['DeltaDeg'], axis=1)\n",
    "df_times['FinalLapTime'] = df_times.apply(lambda row: row['AdjustedTime'] - row['FuelDeg'], axis=1)\n",
    "\n",
    "\n",
    "df_times"
   ]
  },
  {
   "cell_type": "code",
   "execution_count": 326,
   "metadata": {},
   "outputs": [
    {
     "data": {
      "application/vnd.plotly.v1+json": {
       "config": {
        "plotlyServerURL": "https://plot.ly"
       },
       "data": [
        {
         "mode": "lines",
         "type": "scatter",
         "x": [
          1,
          2,
          3,
          4,
          5,
          6,
          7,
          8,
          9,
          10,
          11,
          12,
          13,
          14,
          15,
          16,
          17,
          18,
          19,
          20,
          21,
          22,
          23,
          24,
          25,
          26,
          27,
          28,
          29,
          30,
          31,
          32,
          33,
          34,
          35,
          36,
          37,
          38,
          39,
          40,
          41,
          42,
          43,
          44,
          45,
          46,
          47,
          48,
          49,
          50,
          51,
          52,
          53,
          54,
          55,
          56,
          57
         ],
         "y": [
          97.61558034224086,
          97.64228587351083,
          97.67166195790782,
          97.70397565074448,
          97.73952071286482,
          97.77862028119719,
          97.82162980636281,
          97.86894028404497,
          97.92098180949536,
          97.97822748749078,
          98.04119773328576,
          98.11046500366022,
          98.18665900107213,
          98.27047239822524,
          98.36266713509366,
          98.4640813456489,
          98.57563697725969,
          98.69834817203156,
          98.8333304862806,
          98.98181103195455,
          99.14513963219589,
          99.32480109246137,
          99.5224286987534,
          99.73981906567464,
          99.97894846928799,
          100.24199081326267,
          100.53133739163484,
          100.84961862784421,
          101.19972798767452,
          101.58484828348787,
          102.00848060888255,
          102.47447616681669,
          102.98707128054426,
          103.55092590564456,
          104.17116599325492,
          104.8534300896263,
          105.60392059563482,
          106.42946015224419,
          107.3375536645145,
          108.33645652801184,
          109.43524967785892,
          110.6439221426907,
          111.97346185400566,
          113.43595553645213,
          115.04469858714323,
          116.81431594290345,
          118.76089503423968,
          120.90213203470954,
          123.25749273522638,
          125.84838950579491,
          128.6983759534203,
          131.83336104580823,
          135.28184464743495,
          139.07517660922434,
          143.24784176719265,
          147.83777344095782,
          152.8866982820995
         ]
        }
       ],
       "layout": {
        "height": 700,
        "template": {
         "data": {
          "bar": [
           {
            "error_x": {
             "color": "#f2f5fa"
            },
            "error_y": {
             "color": "#f2f5fa"
            },
            "marker": {
             "line": {
              "color": "rgb(17,17,17)",
              "width": 0.5
             },
             "pattern": {
              "fillmode": "overlay",
              "size": 10,
              "solidity": 0.2
             }
            },
            "type": "bar"
           }
          ],
          "barpolar": [
           {
            "marker": {
             "line": {
              "color": "rgb(17,17,17)",
              "width": 0.5
             },
             "pattern": {
              "fillmode": "overlay",
              "size": 10,
              "solidity": 0.2
             }
            },
            "type": "barpolar"
           }
          ],
          "carpet": [
           {
            "aaxis": {
             "endlinecolor": "#A2B1C6",
             "gridcolor": "#506784",
             "linecolor": "#506784",
             "minorgridcolor": "#506784",
             "startlinecolor": "#A2B1C6"
            },
            "baxis": {
             "endlinecolor": "#A2B1C6",
             "gridcolor": "#506784",
             "linecolor": "#506784",
             "minorgridcolor": "#506784",
             "startlinecolor": "#A2B1C6"
            },
            "type": "carpet"
           }
          ],
          "choropleth": [
           {
            "colorbar": {
             "outlinewidth": 0,
             "ticks": ""
            },
            "type": "choropleth"
           }
          ],
          "contour": [
           {
            "colorbar": {
             "outlinewidth": 0,
             "ticks": ""
            },
            "colorscale": [
             [
              0,
              "#0d0887"
             ],
             [
              0.1111111111111111,
              "#46039f"
             ],
             [
              0.2222222222222222,
              "#7201a8"
             ],
             [
              0.3333333333333333,
              "#9c179e"
             ],
             [
              0.4444444444444444,
              "#bd3786"
             ],
             [
              0.5555555555555556,
              "#d8576b"
             ],
             [
              0.6666666666666666,
              "#ed7953"
             ],
             [
              0.7777777777777778,
              "#fb9f3a"
             ],
             [
              0.8888888888888888,
              "#fdca26"
             ],
             [
              1,
              "#f0f921"
             ]
            ],
            "type": "contour"
           }
          ],
          "contourcarpet": [
           {
            "colorbar": {
             "outlinewidth": 0,
             "ticks": ""
            },
            "type": "contourcarpet"
           }
          ],
          "heatmap": [
           {
            "colorbar": {
             "outlinewidth": 0,
             "ticks": ""
            },
            "colorscale": [
             [
              0,
              "#0d0887"
             ],
             [
              0.1111111111111111,
              "#46039f"
             ],
             [
              0.2222222222222222,
              "#7201a8"
             ],
             [
              0.3333333333333333,
              "#9c179e"
             ],
             [
              0.4444444444444444,
              "#bd3786"
             ],
             [
              0.5555555555555556,
              "#d8576b"
             ],
             [
              0.6666666666666666,
              "#ed7953"
             ],
             [
              0.7777777777777778,
              "#fb9f3a"
             ],
             [
              0.8888888888888888,
              "#fdca26"
             ],
             [
              1,
              "#f0f921"
             ]
            ],
            "type": "heatmap"
           }
          ],
          "heatmapgl": [
           {
            "colorbar": {
             "outlinewidth": 0,
             "ticks": ""
            },
            "colorscale": [
             [
              0,
              "#0d0887"
             ],
             [
              0.1111111111111111,
              "#46039f"
             ],
             [
              0.2222222222222222,
              "#7201a8"
             ],
             [
              0.3333333333333333,
              "#9c179e"
             ],
             [
              0.4444444444444444,
              "#bd3786"
             ],
             [
              0.5555555555555556,
              "#d8576b"
             ],
             [
              0.6666666666666666,
              "#ed7953"
             ],
             [
              0.7777777777777778,
              "#fb9f3a"
             ],
             [
              0.8888888888888888,
              "#fdca26"
             ],
             [
              1,
              "#f0f921"
             ]
            ],
            "type": "heatmapgl"
           }
          ],
          "histogram": [
           {
            "marker": {
             "pattern": {
              "fillmode": "overlay",
              "size": 10,
              "solidity": 0.2
             }
            },
            "type": "histogram"
           }
          ],
          "histogram2d": [
           {
            "colorbar": {
             "outlinewidth": 0,
             "ticks": ""
            },
            "colorscale": [
             [
              0,
              "#0d0887"
             ],
             [
              0.1111111111111111,
              "#46039f"
             ],
             [
              0.2222222222222222,
              "#7201a8"
             ],
             [
              0.3333333333333333,
              "#9c179e"
             ],
             [
              0.4444444444444444,
              "#bd3786"
             ],
             [
              0.5555555555555556,
              "#d8576b"
             ],
             [
              0.6666666666666666,
              "#ed7953"
             ],
             [
              0.7777777777777778,
              "#fb9f3a"
             ],
             [
              0.8888888888888888,
              "#fdca26"
             ],
             [
              1,
              "#f0f921"
             ]
            ],
            "type": "histogram2d"
           }
          ],
          "histogram2dcontour": [
           {
            "colorbar": {
             "outlinewidth": 0,
             "ticks": ""
            },
            "colorscale": [
             [
              0,
              "#0d0887"
             ],
             [
              0.1111111111111111,
              "#46039f"
             ],
             [
              0.2222222222222222,
              "#7201a8"
             ],
             [
              0.3333333333333333,
              "#9c179e"
             ],
             [
              0.4444444444444444,
              "#bd3786"
             ],
             [
              0.5555555555555556,
              "#d8576b"
             ],
             [
              0.6666666666666666,
              "#ed7953"
             ],
             [
              0.7777777777777778,
              "#fb9f3a"
             ],
             [
              0.8888888888888888,
              "#fdca26"
             ],
             [
              1,
              "#f0f921"
             ]
            ],
            "type": "histogram2dcontour"
           }
          ],
          "mesh3d": [
           {
            "colorbar": {
             "outlinewidth": 0,
             "ticks": ""
            },
            "type": "mesh3d"
           }
          ],
          "parcoords": [
           {
            "line": {
             "colorbar": {
              "outlinewidth": 0,
              "ticks": ""
             }
            },
            "type": "parcoords"
           }
          ],
          "pie": [
           {
            "automargin": true,
            "type": "pie"
           }
          ],
          "scatter": [
           {
            "marker": {
             "line": {
              "color": "#283442"
             }
            },
            "type": "scatter"
           }
          ],
          "scatter3d": [
           {
            "line": {
             "colorbar": {
              "outlinewidth": 0,
              "ticks": ""
             }
            },
            "marker": {
             "colorbar": {
              "outlinewidth": 0,
              "ticks": ""
             }
            },
            "type": "scatter3d"
           }
          ],
          "scattercarpet": [
           {
            "marker": {
             "colorbar": {
              "outlinewidth": 0,
              "ticks": ""
             }
            },
            "type": "scattercarpet"
           }
          ],
          "scattergeo": [
           {
            "marker": {
             "colorbar": {
              "outlinewidth": 0,
              "ticks": ""
             }
            },
            "type": "scattergeo"
           }
          ],
          "scattergl": [
           {
            "marker": {
             "line": {
              "color": "#283442"
             }
            },
            "type": "scattergl"
           }
          ],
          "scattermapbox": [
           {
            "marker": {
             "colorbar": {
              "outlinewidth": 0,
              "ticks": ""
             }
            },
            "type": "scattermapbox"
           }
          ],
          "scatterpolar": [
           {
            "marker": {
             "colorbar": {
              "outlinewidth": 0,
              "ticks": ""
             }
            },
            "type": "scatterpolar"
           }
          ],
          "scatterpolargl": [
           {
            "marker": {
             "colorbar": {
              "outlinewidth": 0,
              "ticks": ""
             }
            },
            "type": "scatterpolargl"
           }
          ],
          "scatterternary": [
           {
            "marker": {
             "colorbar": {
              "outlinewidth": 0,
              "ticks": ""
             }
            },
            "type": "scatterternary"
           }
          ],
          "surface": [
           {
            "colorbar": {
             "outlinewidth": 0,
             "ticks": ""
            },
            "colorscale": [
             [
              0,
              "#0d0887"
             ],
             [
              0.1111111111111111,
              "#46039f"
             ],
             [
              0.2222222222222222,
              "#7201a8"
             ],
             [
              0.3333333333333333,
              "#9c179e"
             ],
             [
              0.4444444444444444,
              "#bd3786"
             ],
             [
              0.5555555555555556,
              "#d8576b"
             ],
             [
              0.6666666666666666,
              "#ed7953"
             ],
             [
              0.7777777777777778,
              "#fb9f3a"
             ],
             [
              0.8888888888888888,
              "#fdca26"
             ],
             [
              1,
              "#f0f921"
             ]
            ],
            "type": "surface"
           }
          ],
          "table": [
           {
            "cells": {
             "fill": {
              "color": "#506784"
             },
             "line": {
              "color": "rgb(17,17,17)"
             }
            },
            "header": {
             "fill": {
              "color": "#2a3f5f"
             },
             "line": {
              "color": "rgb(17,17,17)"
             }
            },
            "type": "table"
           }
          ]
         },
         "layout": {
          "annotationdefaults": {
           "arrowcolor": "#f2f5fa",
           "arrowhead": 0,
           "arrowwidth": 1
          },
          "autotypenumbers": "strict",
          "coloraxis": {
           "colorbar": {
            "outlinewidth": 0,
            "ticks": ""
           }
          },
          "colorscale": {
           "diverging": [
            [
             0,
             "#8e0152"
            ],
            [
             0.1,
             "#c51b7d"
            ],
            [
             0.2,
             "#de77ae"
            ],
            [
             0.3,
             "#f1b6da"
            ],
            [
             0.4,
             "#fde0ef"
            ],
            [
             0.5,
             "#f7f7f7"
            ],
            [
             0.6,
             "#e6f5d0"
            ],
            [
             0.7,
             "#b8e186"
            ],
            [
             0.8,
             "#7fbc41"
            ],
            [
             0.9,
             "#4d9221"
            ],
            [
             1,
             "#276419"
            ]
           ],
           "sequential": [
            [
             0,
             "#0d0887"
            ],
            [
             0.1111111111111111,
             "#46039f"
            ],
            [
             0.2222222222222222,
             "#7201a8"
            ],
            [
             0.3333333333333333,
             "#9c179e"
            ],
            [
             0.4444444444444444,
             "#bd3786"
            ],
            [
             0.5555555555555556,
             "#d8576b"
            ],
            [
             0.6666666666666666,
             "#ed7953"
            ],
            [
             0.7777777777777778,
             "#fb9f3a"
            ],
            [
             0.8888888888888888,
             "#fdca26"
            ],
            [
             1,
             "#f0f921"
            ]
           ],
           "sequentialminus": [
            [
             0,
             "#0d0887"
            ],
            [
             0.1111111111111111,
             "#46039f"
            ],
            [
             0.2222222222222222,
             "#7201a8"
            ],
            [
             0.3333333333333333,
             "#9c179e"
            ],
            [
             0.4444444444444444,
             "#bd3786"
            ],
            [
             0.5555555555555556,
             "#d8576b"
            ],
            [
             0.6666666666666666,
             "#ed7953"
            ],
            [
             0.7777777777777778,
             "#fb9f3a"
            ],
            [
             0.8888888888888888,
             "#fdca26"
            ],
            [
             1,
             "#f0f921"
            ]
           ]
          },
          "colorway": [
           "#636efa",
           "#EF553B",
           "#00cc96",
           "#ab63fa",
           "#FFA15A",
           "#19d3f3",
           "#FF6692",
           "#B6E880",
           "#FF97FF",
           "#FECB52"
          ],
          "font": {
           "color": "#f2f5fa"
          },
          "geo": {
           "bgcolor": "rgb(17,17,17)",
           "lakecolor": "rgb(17,17,17)",
           "landcolor": "rgb(17,17,17)",
           "showlakes": true,
           "showland": true,
           "subunitcolor": "#506784"
          },
          "hoverlabel": {
           "align": "left"
          },
          "hovermode": "closest",
          "mapbox": {
           "style": "dark"
          },
          "paper_bgcolor": "rgb(17,17,17)",
          "plot_bgcolor": "rgb(17,17,17)",
          "polar": {
           "angularaxis": {
            "gridcolor": "#506784",
            "linecolor": "#506784",
            "ticks": ""
           },
           "bgcolor": "rgb(17,17,17)",
           "radialaxis": {
            "gridcolor": "#506784",
            "linecolor": "#506784",
            "ticks": ""
           }
          },
          "scene": {
           "xaxis": {
            "backgroundcolor": "rgb(17,17,17)",
            "gridcolor": "#506784",
            "gridwidth": 2,
            "linecolor": "#506784",
            "showbackground": true,
            "ticks": "",
            "zerolinecolor": "#C8D4E3"
           },
           "yaxis": {
            "backgroundcolor": "rgb(17,17,17)",
            "gridcolor": "#506784",
            "gridwidth": 2,
            "linecolor": "#506784",
            "showbackground": true,
            "ticks": "",
            "zerolinecolor": "#C8D4E3"
           },
           "zaxis": {
            "backgroundcolor": "rgb(17,17,17)",
            "gridcolor": "#506784",
            "gridwidth": 2,
            "linecolor": "#506784",
            "showbackground": true,
            "ticks": "",
            "zerolinecolor": "#C8D4E3"
           }
          },
          "shapedefaults": {
           "line": {
            "color": "#f2f5fa"
           }
          },
          "sliderdefaults": {
           "bgcolor": "#C8D4E3",
           "bordercolor": "rgb(17,17,17)",
           "borderwidth": 1,
           "tickwidth": 0
          },
          "ternary": {
           "aaxis": {
            "gridcolor": "#506784",
            "linecolor": "#506784",
            "ticks": ""
           },
           "baxis": {
            "gridcolor": "#506784",
            "linecolor": "#506784",
            "ticks": ""
           },
           "bgcolor": "rgb(17,17,17)",
           "caxis": {
            "gridcolor": "#506784",
            "linecolor": "#506784",
            "ticks": ""
           }
          },
          "title": {
           "x": 0.05
          },
          "updatemenudefaults": {
           "bgcolor": "#506784",
           "borderwidth": 0
          },
          "xaxis": {
           "automargin": true,
           "gridcolor": "#283442",
           "linecolor": "#506784",
           "ticks": "",
           "title": {
            "standoff": 15
           },
           "zerolinecolor": "#283442",
           "zerolinewidth": 2
          },
          "yaxis": {
           "automargin": true,
           "gridcolor": "#283442",
           "linecolor": "#506784",
           "ticks": "",
           "title": {
            "standoff": 15
           },
           "zerolinecolor": "#283442",
           "zerolinewidth": 2
          }
         }
        },
        "width": 1000
       }
      }
     },
     "metadata": {},
     "output_type": "display_data"
    }
   ],
   "source": [
    "import plotly.graph_objects as go\n",
    "\n",
    "fig = go.Figure()\n",
    "fig.add_trace(go.Scatter(x=df_times['Lap'].values, y=df_times['AdjustedTime'].values, mode='lines'))\n",
    "\n",
    "fig.update_layout(width=1000, height=700, template='plotly_dark')\n",
    "fig.show()"
   ]
  },
  {
   "cell_type": "code",
   "execution_count": null,
   "metadata": {},
   "outputs": [],
   "source": []
  },
  {
   "cell_type": "code",
   "execution_count": null,
   "metadata": {},
   "outputs": [],
   "source": []
  },
  {
   "cell_type": "code",
   "execution_count": null,
   "metadata": {},
   "outputs": [],
   "source": []
  },
  {
   "cell_type": "code",
   "execution_count": null,
   "metadata": {},
   "outputs": [],
   "source": []
  },
  {
   "cell_type": "code",
   "execution_count": null,
   "metadata": {},
   "outputs": [],
   "source": []
  },
  {
   "cell_type": "code",
   "execution_count": 235,
   "metadata": {},
   "outputs": [],
   "source": [
    "#ajout tours manquant en soft\n",
    "\n",
    "lapsS = pd.DataFrame({'TyreLife': [16,17,18,19,20,21,22,23,24,25,26,27,28,29,30,31,32,33,34,35,36,37,38,39,40,\n",
    "                    41,42,43,44,45,46,47,48,49,50,51,52,53,54,55,56,57,58,59,60,61,62,63,64,65,66,67,68,69,70,71,72,73,74,75,76,77,78], 'Compound' : 'SOFT'})\n",
    "\n",
    "lst = [dffp.iloc[40,2]*1.007]\n",
    "res = dffp.iloc[40,2]*1.007\n",
    "for i, row in lapsS.iloc[0:].iterrows():\n",
    "    res = (res * 1.007)\n",
    "    lst.append(res)\n",
    "\n",
    "lapsS['LapTime'] = pd.Series(lst)"
   ]
  },
  {
   "cell_type": "code",
   "execution_count": 236,
   "metadata": {},
   "outputs": [],
   "source": [
    "#ajout tours manquant en medium\n",
    "\n",
    "lapsM = pd.DataFrame({'TyreLife': [16,17,18,19,20,21,22,23,24,25,26,27,28,29,30,31,32,33,34,35,36,37,38,39,40,\n",
    "                    41,42,43,44,45,46,47,48,49,50,51,52,53,54,55,56,57,58,59,60,61,62,63,64,65,66,67,68,69,70,71,72,73,74,75,76,77,78], 'Compound' : 'MEDIUM'})\n",
    "\n",
    "lst = [dffp.iloc[39,2]*1.005]\n",
    "res = dffp.iloc[39,2]*1.005\n",
    "for i, row in lapsM.iloc[0:].iterrows():\n",
    "    res = (res * 1.005)\n",
    "    lst.append(res)\n",
    "\n",
    "lapsM['LapTime'] = pd.Series(lst)"
   ]
  },
  {
   "cell_type": "code",
   "execution_count": 237,
   "metadata": {},
   "outputs": [],
   "source": [
    "#ajout tours manquant en hard\n",
    "\n",
    "lapsH = pd.DataFrame({'TyreLife': [16,17,18,19,20,21,22,23,24,25,26,27,28,29,30,31,32,33,34,35,36,37,38,39,40,\n",
    "                    41,42,43,44,45,46,47,48,49,50,51,52,53,54,55,56,57,58,59,60,61,62,63,64,65,66,67,68,69,70,71,72,73,74,75,76,77,78], 'Compound' : 'HARD'})\n",
    "\n",
    "lst = [dffp.iloc[39,2]*1.003]\n",
    "res = dffp.iloc[39,2]*1.003\n",
    "for i, row in lapsH.iloc[0:].iterrows():\n",
    "    res = (res * 1.003)\n",
    "    lst.append(res)\n",
    "\n",
    "lapsH['LapTime'] = pd.Series(lst)"
   ]
  },
  {
   "cell_type": "code",
   "execution_count": 238,
   "metadata": {},
   "outputs": [],
   "source": [
    "#ajout tours 1 (et 2 pour les hards) à voir si il n'en manque pas pour d'autres GP\n",
    "\n",
    "lap1S = pd.DataFrame({'TyreLife': [1], 'Compound' : 'SOFT', 'LapTime': [dffp.iloc[1,2]+1]})\n",
    "lap1M = pd.DataFrame({'TyreLife': [1], 'Compound' : 'MEDIUM', 'LapTime': [dffp.iloc[0,2]+1]})\n",
    "lap1H = pd.DataFrame({'TyreLife': [1], 'Compound' : 'HARD', 'LapTime': [dffp.iloc[2,2]+2]})\n",
    "lap2H = pd.DataFrame({'TyreLife': [2], 'Compound' : 'HARD', 'LapTime': [dffp.iloc[2,2]+0.5]})"
   ]
  },
  {
   "cell_type": "code",
   "execution_count": 239,
   "metadata": {},
   "outputs": [],
   "source": [
    "alllaps = pd.concat([dffp, lapsH, lapsM, lapsS,lap1H,lap1M,lap1S,lap2H ])"
   ]
  },
  {
   "cell_type": "code",
   "execution_count": 240,
   "metadata": {},
   "outputs": [],
   "source": [
    "alllaps = alllaps.sort_values(by= ['Compound','TyreLife'])"
   ]
  },
  {
   "cell_type": "code",
   "execution_count": 241,
   "metadata": {},
   "outputs": [
    {
     "data": {
      "text/html": [
       "<div>\n",
       "<style scoped>\n",
       "    .dataframe tbody tr th:only-of-type {\n",
       "        vertical-align: middle;\n",
       "    }\n",
       "\n",
       "    .dataframe tbody tr th {\n",
       "        vertical-align: top;\n",
       "    }\n",
       "\n",
       "    .dataframe thead th {\n",
       "        text-align: right;\n",
       "    }\n",
       "</style>\n",
       "<table border=\"1\" class=\"dataframe\">\n",
       "  <thead>\n",
       "    <tr style=\"text-align: right;\">\n",
       "      <th></th>\n",
       "      <th>DriverNumber</th>\n",
       "      <th>LapTime</th>\n",
       "      <th>LapNumber</th>\n",
       "      <th>Stint</th>\n",
       "      <th>Compound</th>\n",
       "      <th>TyreLife</th>\n",
       "      <th>FreshTyre</th>\n",
       "      <th>Team</th>\n",
       "      <th>Driver</th>\n",
       "      <th>TrackStatus</th>\n",
       "      <th>Session</th>\n",
       "      <th>LapTimeSeconds</th>\n",
       "    </tr>\n",
       "  </thead>\n",
       "  <tbody>\n",
       "    <tr>\n",
       "      <th>0</th>\n",
       "      <td>NaN</td>\n",
       "      <td>10.0</td>\n",
       "      <td>NaN</td>\n",
       "      <td>NaN</td>\n",
       "      <td>HARD</td>\n",
       "      <td>1.0</td>\n",
       "      <td>NaN</td>\n",
       "      <td>NaN</td>\n",
       "      <td>NaN</td>\n",
       "      <td>NaN</td>\n",
       "      <td>NaN</td>\n",
       "      <td>NaN</td>\n",
       "    </tr>\n",
       "    <tr>\n",
       "      <th>24</th>\n",
       "      <td>55.0</td>\n",
       "      <td>0 days 00:01:38.745000</td>\n",
       "      <td>2.0</td>\n",
       "      <td>1.0</td>\n",
       "      <td>HARD</td>\n",
       "      <td>2.0</td>\n",
       "      <td>True</td>\n",
       "      <td>Ferrari</td>\n",
       "      <td>SAI</td>\n",
       "      <td>2.0</td>\n",
       "      <td>Practice 1</td>\n",
       "      <td>98.745</td>\n",
       "    </tr>\n",
       "    <tr>\n",
       "      <th>163</th>\n",
       "      <td>22.0</td>\n",
       "      <td>0 days 00:01:39.255000</td>\n",
       "      <td>2.0</td>\n",
       "      <td>1.0</td>\n",
       "      <td>HARD</td>\n",
       "      <td>2.0</td>\n",
       "      <td>True</td>\n",
       "      <td>AlphaTauri</td>\n",
       "      <td>TSU</td>\n",
       "      <td>1.0</td>\n",
       "      <td>Practice 1</td>\n",
       "      <td>99.255</td>\n",
       "    </tr>\n",
       "    <tr>\n",
       "      <th>385</th>\n",
       "      <td>4.0</td>\n",
       "      <td>0 days 00:01:35.486000</td>\n",
       "      <td>2.0</td>\n",
       "      <td>1.0</td>\n",
       "      <td>HARD</td>\n",
       "      <td>2.0</td>\n",
       "      <td>True</td>\n",
       "      <td>McLaren</td>\n",
       "      <td>NOR</td>\n",
       "      <td>1.0</td>\n",
       "      <td>Practice 2</td>\n",
       "      <td>95.486</td>\n",
       "    </tr>\n",
       "    <tr>\n",
       "      <th>71</th>\n",
       "      <td>31.0</td>\n",
       "      <td>0 days 00:01:36.634000</td>\n",
       "      <td>2.0</td>\n",
       "      <td>1.0</td>\n",
       "      <td>HARD</td>\n",
       "      <td>2.0</td>\n",
       "      <td>True</td>\n",
       "      <td>Alpine</td>\n",
       "      <td>OCO</td>\n",
       "      <td>1.0</td>\n",
       "      <td>Practice 3</td>\n",
       "      <td>96.634</td>\n",
       "    </tr>\n",
       "    <tr>\n",
       "      <th>...</th>\n",
       "      <td>...</td>\n",
       "      <td>...</td>\n",
       "      <td>...</td>\n",
       "      <td>...</td>\n",
       "      <td>...</td>\n",
       "      <td>...</td>\n",
       "      <td>...</td>\n",
       "      <td>...</td>\n",
       "      <td>...</td>\n",
       "      <td>...</td>\n",
       "      <td>...</td>\n",
       "      <td>...</td>\n",
       "    </tr>\n",
       "    <tr>\n",
       "      <th>58</th>\n",
       "      <td>NaN</td>\n",
       "      <td>9.055032</td>\n",
       "      <td>NaN</td>\n",
       "      <td>NaN</td>\n",
       "      <td>SOFT</td>\n",
       "      <td>74.0</td>\n",
       "      <td>NaN</td>\n",
       "      <td>NaN</td>\n",
       "      <td>NaN</td>\n",
       "      <td>NaN</td>\n",
       "      <td>NaN</td>\n",
       "      <td>NaN</td>\n",
       "    </tr>\n",
       "    <tr>\n",
       "      <th>59</th>\n",
       "      <td>NaN</td>\n",
       "      <td>9.118418</td>\n",
       "      <td>NaN</td>\n",
       "      <td>NaN</td>\n",
       "      <td>SOFT</td>\n",
       "      <td>75.0</td>\n",
       "      <td>NaN</td>\n",
       "      <td>NaN</td>\n",
       "      <td>NaN</td>\n",
       "      <td>NaN</td>\n",
       "      <td>NaN</td>\n",
       "      <td>NaN</td>\n",
       "    </tr>\n",
       "    <tr>\n",
       "      <th>60</th>\n",
       "      <td>NaN</td>\n",
       "      <td>9.182247</td>\n",
       "      <td>NaN</td>\n",
       "      <td>NaN</td>\n",
       "      <td>SOFT</td>\n",
       "      <td>76.0</td>\n",
       "      <td>NaN</td>\n",
       "      <td>NaN</td>\n",
       "      <td>NaN</td>\n",
       "      <td>NaN</td>\n",
       "      <td>NaN</td>\n",
       "      <td>NaN</td>\n",
       "    </tr>\n",
       "    <tr>\n",
       "      <th>61</th>\n",
       "      <td>NaN</td>\n",
       "      <td>9.246522</td>\n",
       "      <td>NaN</td>\n",
       "      <td>NaN</td>\n",
       "      <td>SOFT</td>\n",
       "      <td>77.0</td>\n",
       "      <td>NaN</td>\n",
       "      <td>NaN</td>\n",
       "      <td>NaN</td>\n",
       "      <td>NaN</td>\n",
       "      <td>NaN</td>\n",
       "      <td>NaN</td>\n",
       "    </tr>\n",
       "    <tr>\n",
       "      <th>62</th>\n",
       "      <td>NaN</td>\n",
       "      <td>9.311248</td>\n",
       "      <td>NaN</td>\n",
       "      <td>NaN</td>\n",
       "      <td>SOFT</td>\n",
       "      <td>78.0</td>\n",
       "      <td>NaN</td>\n",
       "      <td>NaN</td>\n",
       "      <td>NaN</td>\n",
       "      <td>NaN</td>\n",
       "      <td>NaN</td>\n",
       "      <td>NaN</td>\n",
       "    </tr>\n",
       "  </tbody>\n",
       "</table>\n",
       "<p>550 rows × 12 columns</p>\n",
       "</div>"
      ],
      "text/plain": [
       "     DriverNumber                 LapTime  LapNumber  Stint Compound  \\\n",
       "0             NaN                    10.0        NaN    NaN     HARD   \n",
       "24           55.0  0 days 00:01:38.745000        2.0    1.0     HARD   \n",
       "163          22.0  0 days 00:01:39.255000        2.0    1.0     HARD   \n",
       "385           4.0  0 days 00:01:35.486000        2.0    1.0     HARD   \n",
       "71           31.0  0 days 00:01:36.634000        2.0    1.0     HARD   \n",
       "..            ...                     ...        ...    ...      ...   \n",
       "58            NaN                9.055032        NaN    NaN     SOFT   \n",
       "59            NaN                9.118418        NaN    NaN     SOFT   \n",
       "60            NaN                9.182247        NaN    NaN     SOFT   \n",
       "61            NaN                9.246522        NaN    NaN     SOFT   \n",
       "62            NaN                9.311248        NaN    NaN     SOFT   \n",
       "\n",
       "     TyreLife FreshTyre        Team Driver  TrackStatus     Session  \\\n",
       "0         1.0       NaN         NaN    NaN          NaN         NaN   \n",
       "24        2.0      True     Ferrari    SAI          2.0  Practice 1   \n",
       "163       2.0      True  AlphaTauri    TSU          1.0  Practice 1   \n",
       "385       2.0      True     McLaren    NOR          1.0  Practice 2   \n",
       "71        2.0      True      Alpine    OCO          1.0  Practice 3   \n",
       "..        ...       ...         ...    ...          ...         ...   \n",
       "58       74.0       NaN         NaN    NaN          NaN         NaN   \n",
       "59       75.0       NaN         NaN    NaN          NaN         NaN   \n",
       "60       76.0       NaN         NaN    NaN          NaN         NaN   \n",
       "61       77.0       NaN         NaN    NaN          NaN         NaN   \n",
       "62       78.0       NaN         NaN    NaN          NaN         NaN   \n",
       "\n",
       "     LapTimeSeconds  \n",
       "0               NaN  \n",
       "24           98.745  \n",
       "163          99.255  \n",
       "385          95.486  \n",
       "71           96.634  \n",
       "..              ...  \n",
       "58              NaN  \n",
       "59              NaN  \n",
       "60              NaN  \n",
       "61              NaN  \n",
       "62              NaN  \n",
       "\n",
       "[550 rows x 12 columns]"
      ]
     },
     "execution_count": 241,
     "metadata": {},
     "output_type": "execute_result"
    }
   ],
   "source": [
    "alllaps"
   ]
  },
  {
   "cell_type": "code",
   "execution_count": null,
   "metadata": {},
   "outputs": [],
   "source": []
  }
 ],
 "metadata": {
  "kernelspec": {
   "display_name": "Python 3.10.4 ('f1')",
   "language": "python",
   "name": "python3"
  },
  "language_info": {
   "codemirror_mode": {
    "name": "ipython",
    "version": 3
   },
   "file_extension": ".py",
   "mimetype": "text/x-python",
   "name": "python",
   "nbconvert_exporter": "python",
   "pygments_lexer": "ipython3",
   "version": "3.10.4"
  },
  "orig_nbformat": 4,
  "vscode": {
   "interpreter": {
    "hash": "58d25e9b89f7c00a2984fe1f72a3df1166d93a6c0266e208eb7f7006621d45ea"
   }
  }
 },
 "nbformat": 4,
 "nbformat_minor": 2
}
