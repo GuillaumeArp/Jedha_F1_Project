{
 "cells": [
  {
   "cell_type": "code",
   "execution_count": 87,
   "metadata": {},
   "outputs": [],
   "source": [
    "\n",
    "import pandas as pd\n",
    "import fastf1 as ff1\n",
    "import fastf1.plotting\n",
    "import plotly.express as px\n",
    "import plotly.graph_objects as go\n",
    "import numpy as np\n",
    "import warnings\n",
    "import re\n",
    "import datetime\n",
    "warnings.simplefilter(action='ignore', category=FutureWarning)\n",
    "pd.options.display.max_rows = 75\n",
    "pd.options.display.max_columns = 99\n",
    "fastf1.Cache.enable_cache('../cache')"
   ]
  },
  {
   "cell_type": "code",
   "execution_count": 88,
   "metadata": {},
   "outputs": [],
   "source": [
    "gp_round = 2\n",
    "url = f'https://f1-jedha-bucket.s3.eu-west-3.amazonaws.com/data/full_data-round_{gp_round}.csv'\n",
    "dict_nb_laps = {1: 57, 2: 50, 3: 58, 4: 63, 5: 57, 6: 66, 7: 78, 8: 51, 9: 70, 10: 52, 11: 71, 12: 53, 13: 70, 14: 44, 15: 72, 16: 53, 17: 61, 18: 53, 19: 56, 20: 71, 21: 71, 22: 58}\n",
    "nb_laps = dict_nb_laps[gp_round]"
   ]
  },
  {
   "cell_type": "code",
   "execution_count": 89,
   "metadata": {},
   "outputs": [
    {
     "data": {
      "text/html": [
       "<div>\n",
       "<style scoped>\n",
       "    .dataframe tbody tr th:only-of-type {\n",
       "        vertical-align: middle;\n",
       "    }\n",
       "\n",
       "    .dataframe tbody tr th {\n",
       "        vertical-align: top;\n",
       "    }\n",
       "\n",
       "    .dataframe thead th {\n",
       "        text-align: right;\n",
       "    }\n",
       "</style>\n",
       "<table border=\"1\" class=\"dataframe\">\n",
       "  <thead>\n",
       "    <tr style=\"text-align: right;\">\n",
       "      <th></th>\n",
       "      <th>Time</th>\n",
       "      <th>DriverNumber</th>\n",
       "      <th>LapTime</th>\n",
       "      <th>LapNumber</th>\n",
       "      <th>Stint</th>\n",
       "      <th>PitOutTime</th>\n",
       "      <th>PitInTime</th>\n",
       "      <th>Sector1Time</th>\n",
       "      <th>Sector2Time</th>\n",
       "      <th>Sector3Time</th>\n",
       "      <th>Sector1SessionTime</th>\n",
       "      <th>Sector2SessionTime</th>\n",
       "      <th>Sector3SessionTime</th>\n",
       "      <th>SpeedI1</th>\n",
       "      <th>SpeedI2</th>\n",
       "      <th>SpeedFL</th>\n",
       "      <th>SpeedST</th>\n",
       "      <th>IsPersonalBest</th>\n",
       "      <th>Compound</th>\n",
       "      <th>TyreLife</th>\n",
       "      <th>FreshTyre</th>\n",
       "      <th>LapStartTime</th>\n",
       "      <th>Team</th>\n",
       "      <th>Driver</th>\n",
       "      <th>TrackStatus</th>\n",
       "      <th>IsAccurate</th>\n",
       "      <th>LapStartDate</th>\n",
       "      <th>Session</th>\n",
       "    </tr>\n",
       "  </thead>\n",
       "  <tbody>\n",
       "    <tr>\n",
       "      <th>1</th>\n",
       "      <td>0 days 00:19:49.757000</td>\n",
       "      <td>1</td>\n",
       "      <td>0 days 00:01:34.167000</td>\n",
       "      <td>2</td>\n",
       "      <td>1</td>\n",
       "      <td>NaN</td>\n",
       "      <td>NaN</td>\n",
       "      <td>0 days 00:00:35.003000</td>\n",
       "      <td>0 days 00:00:29.904000</td>\n",
       "      <td>0 days 00:00:29.260000</td>\n",
       "      <td>0 days 00:18:50.593000</td>\n",
       "      <td>0 days 00:19:20.497000</td>\n",
       "      <td>0 days 00:19:49.757000</td>\n",
       "      <td>277.0</td>\n",
       "      <td>321.0</td>\n",
       "      <td>294.0</td>\n",
       "      <td>327.0</td>\n",
       "      <td>False</td>\n",
       "      <td>HARD</td>\n",
       "      <td>2.0</td>\n",
       "      <td>True</td>\n",
       "      <td>0 days 00:18:15.590000</td>\n",
       "      <td>Red Bull Racing</td>\n",
       "      <td>VER</td>\n",
       "      <td>1</td>\n",
       "      <td>True</td>\n",
       "      <td>2022-03-25 14:03:17.023000</td>\n",
       "      <td>Practice 1</td>\n",
       "    </tr>\n",
       "    <tr>\n",
       "      <th>3</th>\n",
       "      <td>0 days 00:23:19.557000</td>\n",
       "      <td>1</td>\n",
       "      <td>0 days 00:01:31.885000</td>\n",
       "      <td>4</td>\n",
       "      <td>1</td>\n",
       "      <td>NaN</td>\n",
       "      <td>NaN</td>\n",
       "      <td>0 days 00:00:33.945000</td>\n",
       "      <td>0 days 00:00:29.226000</td>\n",
       "      <td>0 days 00:00:28.714000</td>\n",
       "      <td>0 days 00:22:21.617000</td>\n",
       "      <td>0 days 00:22:50.843000</td>\n",
       "      <td>0 days 00:23:19.557000</td>\n",
       "      <td>279.0</td>\n",
       "      <td>327.0</td>\n",
       "      <td>297.0</td>\n",
       "      <td>331.0</td>\n",
       "      <td>False</td>\n",
       "      <td>HARD</td>\n",
       "      <td>4.0</td>\n",
       "      <td>True</td>\n",
       "      <td>0 days 00:21:47.672000</td>\n",
       "      <td>Red Bull Racing</td>\n",
       "      <td>VER</td>\n",
       "      <td>1</td>\n",
       "      <td>True</td>\n",
       "      <td>2022-03-25 14:06:49.105000</td>\n",
       "      <td>Practice 1</td>\n",
       "    </tr>\n",
       "    <tr>\n",
       "      <th>5</th>\n",
       "      <td>0 days 00:27:10.263000</td>\n",
       "      <td>1</td>\n",
       "      <td>0 days 00:01:31.298000</td>\n",
       "      <td>6</td>\n",
       "      <td>1</td>\n",
       "      <td>NaN</td>\n",
       "      <td>NaN</td>\n",
       "      <td>0 days 00:00:33.825000</td>\n",
       "      <td>0 days 00:00:29.070000</td>\n",
       "      <td>0 days 00:00:28.403000</td>\n",
       "      <td>0 days 00:26:12.790000</td>\n",
       "      <td>0 days 00:26:41.860000</td>\n",
       "      <td>0 days 00:27:10.263000</td>\n",
       "      <td>279.0</td>\n",
       "      <td>325.0</td>\n",
       "      <td>296.0</td>\n",
       "      <td>330.0</td>\n",
       "      <td>False</td>\n",
       "      <td>HARD</td>\n",
       "      <td>6.0</td>\n",
       "      <td>True</td>\n",
       "      <td>0 days 00:25:38.965000</td>\n",
       "      <td>Red Bull Racing</td>\n",
       "      <td>VER</td>\n",
       "      <td>1</td>\n",
       "      <td>True</td>\n",
       "      <td>2022-03-25 14:10:40.398000</td>\n",
       "      <td>Practice 1</td>\n",
       "    </tr>\n",
       "    <tr>\n",
       "      <th>7</th>\n",
       "      <td>0 days 00:30:59.102000</td>\n",
       "      <td>1</td>\n",
       "      <td>0 days 00:01:30.888000</td>\n",
       "      <td>8</td>\n",
       "      <td>1</td>\n",
       "      <td>NaN</td>\n",
       "      <td>NaN</td>\n",
       "      <td>0 days 00:00:33.507000</td>\n",
       "      <td>0 days 00:00:28.980000</td>\n",
       "      <td>0 days 00:00:28.401000</td>\n",
       "      <td>0 days 00:30:01.721000</td>\n",
       "      <td>0 days 00:30:30.701000</td>\n",
       "      <td>0 days 00:30:59.102000</td>\n",
       "      <td>282.0</td>\n",
       "      <td>324.0</td>\n",
       "      <td>297.0</td>\n",
       "      <td>329.0</td>\n",
       "      <td>True</td>\n",
       "      <td>HARD</td>\n",
       "      <td>8.0</td>\n",
       "      <td>True</td>\n",
       "      <td>0 days 00:29:28.214000</td>\n",
       "      <td>Red Bull Racing</td>\n",
       "      <td>VER</td>\n",
       "      <td>1</td>\n",
       "      <td>True</td>\n",
       "      <td>2022-03-25 14:14:29.647000</td>\n",
       "      <td>Practice 1</td>\n",
       "    </tr>\n",
       "    <tr>\n",
       "      <th>14</th>\n",
       "      <td>0 days 01:04:01.265000</td>\n",
       "      <td>1</td>\n",
       "      <td>0 days 00:01:36.267000</td>\n",
       "      <td>15</td>\n",
       "      <td>3</td>\n",
       "      <td>NaN</td>\n",
       "      <td>NaN</td>\n",
       "      <td>0 days 00:00:35.633000</td>\n",
       "      <td>0 days 00:00:30.721000</td>\n",
       "      <td>0 days 00:00:29.913000</td>\n",
       "      <td>0 days 01:03:00.631000</td>\n",
       "      <td>0 days 01:03:31.352000</td>\n",
       "      <td>0 days 01:04:01.265000</td>\n",
       "      <td>276.0</td>\n",
       "      <td>299.0</td>\n",
       "      <td>281.0</td>\n",
       "      <td>305.0</td>\n",
       "      <td>False</td>\n",
       "      <td>SOFT</td>\n",
       "      <td>7.0</td>\n",
       "      <td>False</td>\n",
       "      <td>0 days 01:02:24.998000</td>\n",
       "      <td>Red Bull Racing</td>\n",
       "      <td>VER</td>\n",
       "      <td>1</td>\n",
       "      <td>True</td>\n",
       "      <td>2022-03-25 14:47:26.431000</td>\n",
       "      <td>Practice 1</td>\n",
       "    </tr>\n",
       "    <tr>\n",
       "      <th>...</th>\n",
       "      <td>...</td>\n",
       "      <td>...</td>\n",
       "      <td>...</td>\n",
       "      <td>...</td>\n",
       "      <td>...</td>\n",
       "      <td>...</td>\n",
       "      <td>...</td>\n",
       "      <td>...</td>\n",
       "      <td>...</td>\n",
       "      <td>...</td>\n",
       "      <td>...</td>\n",
       "      <td>...</td>\n",
       "      <td>...</td>\n",
       "      <td>...</td>\n",
       "      <td>...</td>\n",
       "      <td>...</td>\n",
       "      <td>...</td>\n",
       "      <td>...</td>\n",
       "      <td>...</td>\n",
       "      <td>...</td>\n",
       "      <td>...</td>\n",
       "      <td>...</td>\n",
       "      <td>...</td>\n",
       "      <td>...</td>\n",
       "      <td>...</td>\n",
       "      <td>...</td>\n",
       "      <td>...</td>\n",
       "      <td>...</td>\n",
       "    </tr>\n",
       "    <tr>\n",
       "      <th>329</th>\n",
       "      <td>0 days 00:53:13.399000</td>\n",
       "      <td>77</td>\n",
       "      <td>0 days 00:01:30.710000</td>\n",
       "      <td>10</td>\n",
       "      <td>4</td>\n",
       "      <td>NaN</td>\n",
       "      <td>NaN</td>\n",
       "      <td>0 days 00:00:33.099000</td>\n",
       "      <td>0 days 00:00:28.988000</td>\n",
       "      <td>0 days 00:00:28.623000</td>\n",
       "      <td>0 days 00:52:15.788000</td>\n",
       "      <td>0 days 00:52:44.776000</td>\n",
       "      <td>0 days 00:53:13.399000</td>\n",
       "      <td>279.0</td>\n",
       "      <td>322.0</td>\n",
       "      <td>291.0</td>\n",
       "      <td>325.0</td>\n",
       "      <td>False</td>\n",
       "      <td>SOFT</td>\n",
       "      <td>3.0</td>\n",
       "      <td>True</td>\n",
       "      <td>0 days 00:51:42.689000</td>\n",
       "      <td>Alfa Romeo</td>\n",
       "      <td>BOT</td>\n",
       "      <td>2</td>\n",
       "      <td>True</td>\n",
       "      <td>2022-03-26 14:36:42.698000</td>\n",
       "      <td>Practice 3</td>\n",
       "    </tr>\n",
       "    <tr>\n",
       "      <th>331</th>\n",
       "      <td>0 days 00:56:45.821000</td>\n",
       "      <td>77</td>\n",
       "      <td>0 days 00:01:30.030000</td>\n",
       "      <td>12</td>\n",
       "      <td>4</td>\n",
       "      <td>NaN</td>\n",
       "      <td>NaN</td>\n",
       "      <td>0 days 00:00:32.920000</td>\n",
       "      <td>0 days 00:00:28.811000</td>\n",
       "      <td>0 days 00:00:28.299000</td>\n",
       "      <td>0 days 00:55:48.711000</td>\n",
       "      <td>0 days 00:56:17.522000</td>\n",
       "      <td>0 days 00:56:45.821000</td>\n",
       "      <td>283.0</td>\n",
       "      <td>327.0</td>\n",
       "      <td>296.0</td>\n",
       "      <td>329.0</td>\n",
       "      <td>True</td>\n",
       "      <td>SOFT</td>\n",
       "      <td>5.0</td>\n",
       "      <td>True</td>\n",
       "      <td>0 days 00:55:15.791000</td>\n",
       "      <td>Alfa Romeo</td>\n",
       "      <td>BOT</td>\n",
       "      <td>1</td>\n",
       "      <td>True</td>\n",
       "      <td>2022-03-26 14:40:15.800000</td>\n",
       "      <td>Practice 3</td>\n",
       "    </tr>\n",
       "    <tr>\n",
       "      <th>333</th>\n",
       "      <td>0 days 01:00:31.074000</td>\n",
       "      <td>77</td>\n",
       "      <td>0 days 00:01:30.158000</td>\n",
       "      <td>14</td>\n",
       "      <td>4</td>\n",
       "      <td>NaN</td>\n",
       "      <td>NaN</td>\n",
       "      <td>0 days 00:00:32.951000</td>\n",
       "      <td>0 days 00:00:28.900000</td>\n",
       "      <td>0 days 00:00:28.307000</td>\n",
       "      <td>0 days 00:59:33.867000</td>\n",
       "      <td>0 days 01:00:02.767000</td>\n",
       "      <td>0 days 01:00:31.074000</td>\n",
       "      <td>282.0</td>\n",
       "      <td>324.0</td>\n",
       "      <td>296.0</td>\n",
       "      <td>328.0</td>\n",
       "      <td>False</td>\n",
       "      <td>SOFT</td>\n",
       "      <td>7.0</td>\n",
       "      <td>True</td>\n",
       "      <td>0 days 00:59:00.916000</td>\n",
       "      <td>Alfa Romeo</td>\n",
       "      <td>BOT</td>\n",
       "      <td>1</td>\n",
       "      <td>True</td>\n",
       "      <td>2022-03-26 14:44:00.925000</td>\n",
       "      <td>Practice 3</td>\n",
       "    </tr>\n",
       "    <tr>\n",
       "      <th>337</th>\n",
       "      <td>0 days 01:13:48.102000</td>\n",
       "      <td>77</td>\n",
       "      <td>0 days 00:01:34.927000</td>\n",
       "      <td>18</td>\n",
       "      <td>6</td>\n",
       "      <td>NaN</td>\n",
       "      <td>NaN</td>\n",
       "      <td>0 days 00:00:35.084000</td>\n",
       "      <td>0 days 00:00:30.214000</td>\n",
       "      <td>0 days 00:00:29.629000</td>\n",
       "      <td>0 days 01:12:48.259000</td>\n",
       "      <td>0 days 01:13:18.473000</td>\n",
       "      <td>0 days 01:13:48.102000</td>\n",
       "      <td>275.0</td>\n",
       "      <td>302.0</td>\n",
       "      <td>279.0</td>\n",
       "      <td>306.0</td>\n",
       "      <td>False</td>\n",
       "      <td>SOFT</td>\n",
       "      <td>11.0</td>\n",
       "      <td>False</td>\n",
       "      <td>0 days 01:12:13.175000</td>\n",
       "      <td>Alfa Romeo</td>\n",
       "      <td>BOT</td>\n",
       "      <td>1</td>\n",
       "      <td>True</td>\n",
       "      <td>2022-03-26 14:57:13.184000</td>\n",
       "      <td>Practice 3</td>\n",
       "    </tr>\n",
       "    <tr>\n",
       "      <th>338</th>\n",
       "      <td>0 days 01:15:23.391000</td>\n",
       "      <td>77</td>\n",
       "      <td>0 days 00:01:35.289000</td>\n",
       "      <td>19</td>\n",
       "      <td>6</td>\n",
       "      <td>NaN</td>\n",
       "      <td>NaN</td>\n",
       "      <td>0 days 00:00:35.053000</td>\n",
       "      <td>0 days 00:00:30.338000</td>\n",
       "      <td>0 days 00:00:29.898000</td>\n",
       "      <td>0 days 01:14:23.155000</td>\n",
       "      <td>0 days 01:14:53.493000</td>\n",
       "      <td>0 days 01:15:23.391000</td>\n",
       "      <td>269.0</td>\n",
       "      <td>294.0</td>\n",
       "      <td>281.0</td>\n",
       "      <td>296.0</td>\n",
       "      <td>False</td>\n",
       "      <td>SOFT</td>\n",
       "      <td>12.0</td>\n",
       "      <td>False</td>\n",
       "      <td>0 days 01:13:48.102000</td>\n",
       "      <td>Alfa Romeo</td>\n",
       "      <td>BOT</td>\n",
       "      <td>1</td>\n",
       "      <td>True</td>\n",
       "      <td>2022-03-26 14:58:48.111000</td>\n",
       "      <td>Practice 3</td>\n",
       "    </tr>\n",
       "  </tbody>\n",
       "</table>\n",
       "<p>398 rows × 28 columns</p>\n",
       "</div>"
      ],
      "text/plain": [
       "                       Time  DriverNumber                 LapTime  LapNumber  \\\n",
       "1    0 days 00:19:49.757000             1  0 days 00:01:34.167000          2   \n",
       "3    0 days 00:23:19.557000             1  0 days 00:01:31.885000          4   \n",
       "5    0 days 00:27:10.263000             1  0 days 00:01:31.298000          6   \n",
       "7    0 days 00:30:59.102000             1  0 days 00:01:30.888000          8   \n",
       "14   0 days 01:04:01.265000             1  0 days 00:01:36.267000         15   \n",
       "..                      ...           ...                     ...        ...   \n",
       "329  0 days 00:53:13.399000            77  0 days 00:01:30.710000         10   \n",
       "331  0 days 00:56:45.821000            77  0 days 00:01:30.030000         12   \n",
       "333  0 days 01:00:31.074000            77  0 days 00:01:30.158000         14   \n",
       "337  0 days 01:13:48.102000            77  0 days 00:01:34.927000         18   \n",
       "338  0 days 01:15:23.391000            77  0 days 00:01:35.289000         19   \n",
       "\n",
       "     Stint PitOutTime PitInTime             Sector1Time  \\\n",
       "1        1        NaN       NaN  0 days 00:00:35.003000   \n",
       "3        1        NaN       NaN  0 days 00:00:33.945000   \n",
       "5        1        NaN       NaN  0 days 00:00:33.825000   \n",
       "7        1        NaN       NaN  0 days 00:00:33.507000   \n",
       "14       3        NaN       NaN  0 days 00:00:35.633000   \n",
       "..     ...        ...       ...                     ...   \n",
       "329      4        NaN       NaN  0 days 00:00:33.099000   \n",
       "331      4        NaN       NaN  0 days 00:00:32.920000   \n",
       "333      4        NaN       NaN  0 days 00:00:32.951000   \n",
       "337      6        NaN       NaN  0 days 00:00:35.084000   \n",
       "338      6        NaN       NaN  0 days 00:00:35.053000   \n",
       "\n",
       "                Sector2Time             Sector3Time      Sector1SessionTime  \\\n",
       "1    0 days 00:00:29.904000  0 days 00:00:29.260000  0 days 00:18:50.593000   \n",
       "3    0 days 00:00:29.226000  0 days 00:00:28.714000  0 days 00:22:21.617000   \n",
       "5    0 days 00:00:29.070000  0 days 00:00:28.403000  0 days 00:26:12.790000   \n",
       "7    0 days 00:00:28.980000  0 days 00:00:28.401000  0 days 00:30:01.721000   \n",
       "14   0 days 00:00:30.721000  0 days 00:00:29.913000  0 days 01:03:00.631000   \n",
       "..                      ...                     ...                     ...   \n",
       "329  0 days 00:00:28.988000  0 days 00:00:28.623000  0 days 00:52:15.788000   \n",
       "331  0 days 00:00:28.811000  0 days 00:00:28.299000  0 days 00:55:48.711000   \n",
       "333  0 days 00:00:28.900000  0 days 00:00:28.307000  0 days 00:59:33.867000   \n",
       "337  0 days 00:00:30.214000  0 days 00:00:29.629000  0 days 01:12:48.259000   \n",
       "338  0 days 00:00:30.338000  0 days 00:00:29.898000  0 days 01:14:23.155000   \n",
       "\n",
       "         Sector2SessionTime      Sector3SessionTime  SpeedI1  SpeedI2  \\\n",
       "1    0 days 00:19:20.497000  0 days 00:19:49.757000    277.0    321.0   \n",
       "3    0 days 00:22:50.843000  0 days 00:23:19.557000    279.0    327.0   \n",
       "5    0 days 00:26:41.860000  0 days 00:27:10.263000    279.0    325.0   \n",
       "7    0 days 00:30:30.701000  0 days 00:30:59.102000    282.0    324.0   \n",
       "14   0 days 01:03:31.352000  0 days 01:04:01.265000    276.0    299.0   \n",
       "..                      ...                     ...      ...      ...   \n",
       "329  0 days 00:52:44.776000  0 days 00:53:13.399000    279.0    322.0   \n",
       "331  0 days 00:56:17.522000  0 days 00:56:45.821000    283.0    327.0   \n",
       "333  0 days 01:00:02.767000  0 days 01:00:31.074000    282.0    324.0   \n",
       "337  0 days 01:13:18.473000  0 days 01:13:48.102000    275.0    302.0   \n",
       "338  0 days 01:14:53.493000  0 days 01:15:23.391000    269.0    294.0   \n",
       "\n",
       "     SpeedFL  SpeedST  IsPersonalBest Compound  TyreLife FreshTyre  \\\n",
       "1      294.0    327.0           False     HARD       2.0      True   \n",
       "3      297.0    331.0           False     HARD       4.0      True   \n",
       "5      296.0    330.0           False     HARD       6.0      True   \n",
       "7      297.0    329.0            True     HARD       8.0      True   \n",
       "14     281.0    305.0           False     SOFT       7.0     False   \n",
       "..       ...      ...             ...      ...       ...       ...   \n",
       "329    291.0    325.0           False     SOFT       3.0      True   \n",
       "331    296.0    329.0            True     SOFT       5.0      True   \n",
       "333    296.0    328.0           False     SOFT       7.0      True   \n",
       "337    279.0    306.0           False     SOFT      11.0     False   \n",
       "338    281.0    296.0           False     SOFT      12.0     False   \n",
       "\n",
       "               LapStartTime             Team Driver  TrackStatus  IsAccurate  \\\n",
       "1    0 days 00:18:15.590000  Red Bull Racing    VER            1        True   \n",
       "3    0 days 00:21:47.672000  Red Bull Racing    VER            1        True   \n",
       "5    0 days 00:25:38.965000  Red Bull Racing    VER            1        True   \n",
       "7    0 days 00:29:28.214000  Red Bull Racing    VER            1        True   \n",
       "14   0 days 01:02:24.998000  Red Bull Racing    VER            1        True   \n",
       "..                      ...              ...    ...          ...         ...   \n",
       "329  0 days 00:51:42.689000       Alfa Romeo    BOT            2        True   \n",
       "331  0 days 00:55:15.791000       Alfa Romeo    BOT            1        True   \n",
       "333  0 days 00:59:00.916000       Alfa Romeo    BOT            1        True   \n",
       "337  0 days 01:12:13.175000       Alfa Romeo    BOT            1        True   \n",
       "338  0 days 01:13:48.102000       Alfa Romeo    BOT            1        True   \n",
       "\n",
       "                   LapStartDate     Session  \n",
       "1    2022-03-25 14:03:17.023000  Practice 1  \n",
       "3    2022-03-25 14:06:49.105000  Practice 1  \n",
       "5    2022-03-25 14:10:40.398000  Practice 1  \n",
       "7    2022-03-25 14:14:29.647000  Practice 1  \n",
       "14   2022-03-25 14:47:26.431000  Practice 1  \n",
       "..                          ...         ...  \n",
       "329  2022-03-26 14:36:42.698000  Practice 3  \n",
       "331  2022-03-26 14:40:15.800000  Practice 3  \n",
       "333  2022-03-26 14:44:00.925000  Practice 3  \n",
       "337  2022-03-26 14:57:13.184000  Practice 3  \n",
       "338  2022-03-26 14:58:48.111000  Practice 3  \n",
       "\n",
       "[398 rows x 28 columns]"
      ]
     },
     "execution_count": 89,
     "metadata": {},
     "output_type": "execute_result"
    }
   ],
   "source": [
    "csv_name = f'full_data-round_{gp_round}.csv'\n",
    "dffp = pd.read_csv('/home/guillaume/Python_Projects/Jedha_F1_Project/data/' + csv_name, index_col=0)\n",
    "dffp"
   ]
  },
  {
   "cell_type": "code",
   "execution_count": 90,
   "metadata": {},
   "outputs": [],
   "source": [
    "dffp = dffp.drop(dffp.columns[[0,5,6,7,8,9,10,11,12,13,14,15,16,17,21,25,26]], axis=1)"
   ]
  },
  {
   "cell_type": "code",
   "execution_count": 91,
   "metadata": {},
   "outputs": [
    {
     "data": {
      "text/html": [
       "<div>\n",
       "<style scoped>\n",
       "    .dataframe tbody tr th:only-of-type {\n",
       "        vertical-align: middle;\n",
       "    }\n",
       "\n",
       "    .dataframe tbody tr th {\n",
       "        vertical-align: top;\n",
       "    }\n",
       "\n",
       "    .dataframe thead th {\n",
       "        text-align: right;\n",
       "    }\n",
       "</style>\n",
       "<table border=\"1\" class=\"dataframe\">\n",
       "  <thead>\n",
       "    <tr style=\"text-align: right;\">\n",
       "      <th></th>\n",
       "      <th>Compound</th>\n",
       "      <th>LapTime</th>\n",
       "    </tr>\n",
       "  </thead>\n",
       "  <tbody>\n",
       "    <tr>\n",
       "      <th>1</th>\n",
       "      <td>SOFT</td>\n",
       "      <td>0 days 00:01:32.629502415</td>\n",
       "    </tr>\n",
       "    <tr>\n",
       "      <th>2</th>\n",
       "      <td>MEDIUM</td>\n",
       "      <td>0 days 00:01:34.129508928</td>\n",
       "    </tr>\n",
       "    <tr>\n",
       "      <th>3</th>\n",
       "      <td>HARD</td>\n",
       "      <td>0 days 00:01:34.529641025</td>\n",
       "    </tr>\n",
       "  </tbody>\n",
       "</table>\n",
       "</div>"
      ],
      "text/plain": [
       "  Compound                   LapTime\n",
       "1     SOFT 0 days 00:01:32.629502415\n",
       "2   MEDIUM 0 days 00:01:34.129508928\n",
       "3     HARD 0 days 00:01:34.529641025"
      ]
     },
     "execution_count": 91,
     "metadata": {},
     "output_type": "execute_result"
    }
   ],
   "source": [
    "dffp_temp = dffp.copy()\n",
    "dffp_temp['LapTime'] = dffp_temp['LapTime'].apply(pd.to_timedelta)\n",
    "dffp_times = dffp_temp.groupby('Compound')['LapTime'].mean()\n",
    "dffp_times = pd.DataFrame(dffp_times).sort_values(by='LapTime').reset_index()\n",
    "dffp_times = dffp_times[dffp_times['Compound'] != 'UNKNOWN']\n",
    "dffp_times"
   ]
  },
  {
   "cell_type": "code",
   "execution_count": 92,
   "metadata": {},
   "outputs": [
    {
     "data": {
      "text/plain": [
       "Timedelta('0 days 00:00:01.425103957')"
      ]
     },
     "execution_count": 92,
     "metadata": {},
     "output_type": "execute_result"
    }
   ],
   "source": [
    "hard_to_soft = (dffp_times['LapTime'].iloc[2] - dffp_times['LapTime'].iloc[0]) * 0.75\n",
    "hard_to_soft"
   ]
  },
  {
   "cell_type": "code",
   "execution_count": 93,
   "metadata": {},
   "outputs": [
    {
     "data": {
      "text/plain": [
       "Timedelta('0 days 00:00:01.125004884')"
      ]
     },
     "execution_count": 93,
     "metadata": {},
     "output_type": "execute_result"
    }
   ],
   "source": [
    "medium_to_soft = (dffp_times['LapTime'].iloc[1] - dffp_times['LapTime'].iloc[0]) * 0.75\n",
    "medium_to_soft"
   ]
  },
  {
   "cell_type": "code",
   "execution_count": 94,
   "metadata": {},
   "outputs": [],
   "source": [
    "dffp = dffp[dffp['TyreLife'].notna()]"
   ]
  },
  {
   "cell_type": "code",
   "execution_count": 95,
   "metadata": {},
   "outputs": [],
   "source": [
    "dffp_copy = dffp.copy()\n",
    "dffp_copy['LapTime'] = dffp['LapTime'].apply(pd.to_timedelta)"
   ]
  },
  {
   "cell_type": "code",
   "execution_count": 96,
   "metadata": {},
   "outputs": [],
   "source": [
    "def time_to_seconds(string):\n",
    "    array = re.findall(r'[0-9]+', str(string))\n",
    "    array = array[1:]\n",
    "    array[0] = int(array[0]) * 3600\n",
    "    array[1] = int(array[1]) * 60\n",
    "    try : \n",
    "        array = float(str(array[0] + array[1] + int(array[2])) + \".\" + array[3])\n",
    "        return array\n",
    "    except :\n",
    "        return float(str(int(array[-2]) + int(array[-1])) + \".0\")\n",
    "\n",
    "dffp_copy[\"LapTimeSeconds\"] = dffp_copy[\"LapTime\"].apply(time_to_seconds)\n"
   ]
  },
  {
   "cell_type": "code",
   "execution_count": 97,
   "metadata": {},
   "outputs": [],
   "source": [
    "compound_colors = {\n",
    "    'SOFT': '#FF3333',\n",
    "    'MEDIUM': '#FFF200',\n",
    "    'HARD': '#EBEBEB',\n",
    "}"
   ]
  },
  {
   "cell_type": "code",
   "execution_count": 98,
   "metadata": {},
   "outputs": [
    {
     "data": {
      "text/html": [
       "<div>\n",
       "<style scoped>\n",
       "    .dataframe tbody tr th:only-of-type {\n",
       "        vertical-align: middle;\n",
       "    }\n",
       "\n",
       "    .dataframe tbody tr th {\n",
       "        vertical-align: top;\n",
       "    }\n",
       "\n",
       "    .dataframe thead th {\n",
       "        text-align: right;\n",
       "    }\n",
       "</style>\n",
       "<table border=\"1\" class=\"dataframe\">\n",
       "  <thead>\n",
       "    <tr style=\"text-align: right;\">\n",
       "      <th></th>\n",
       "      <th>TyreLife</th>\n",
       "      <th>Compound</th>\n",
       "      <th>LapTimeSeconds</th>\n",
       "    </tr>\n",
       "  </thead>\n",
       "  <tbody>\n",
       "    <tr>\n",
       "      <th>1</th>\n",
       "      <td>2.0</td>\n",
       "      <td>HARD</td>\n",
       "      <td>94.496833</td>\n",
       "    </tr>\n",
       "    <tr>\n",
       "      <th>5</th>\n",
       "      <td>3.0</td>\n",
       "      <td>HARD</td>\n",
       "      <td>95.533833</td>\n",
       "    </tr>\n",
       "    <tr>\n",
       "      <th>8</th>\n",
       "      <td>4.0</td>\n",
       "      <td>HARD</td>\n",
       "      <td>93.742625</td>\n",
       "    </tr>\n",
       "    <tr>\n",
       "      <th>11</th>\n",
       "      <td>5.0</td>\n",
       "      <td>HARD</td>\n",
       "      <td>94.382000</td>\n",
       "    </tr>\n",
       "    <tr>\n",
       "      <th>14</th>\n",
       "      <td>6.0</td>\n",
       "      <td>HARD</td>\n",
       "      <td>93.162500</td>\n",
       "    </tr>\n",
       "    <tr>\n",
       "      <th>17</th>\n",
       "      <td>7.0</td>\n",
       "      <td>HARD</td>\n",
       "      <td>93.039400</td>\n",
       "    </tr>\n",
       "    <tr>\n",
       "      <th>20</th>\n",
       "      <td>8.0</td>\n",
       "      <td>HARD</td>\n",
       "      <td>93.246600</td>\n",
       "    </tr>\n",
       "    <tr>\n",
       "      <th>23</th>\n",
       "      <td>9.0</td>\n",
       "      <td>HARD</td>\n",
       "      <td>93.703200</td>\n",
       "    </tr>\n",
       "    <tr>\n",
       "      <th>26</th>\n",
       "      <td>10.0</td>\n",
       "      <td>HARD</td>\n",
       "      <td>95.039000</td>\n",
       "    </tr>\n",
       "    <tr>\n",
       "      <th>29</th>\n",
       "      <td>11.0</td>\n",
       "      <td>HARD</td>\n",
       "      <td>94.772667</td>\n",
       "    </tr>\n",
       "    <tr>\n",
       "      <th>32</th>\n",
       "      <td>12.0</td>\n",
       "      <td>HARD</td>\n",
       "      <td>95.681500</td>\n",
       "    </tr>\n",
       "    <tr>\n",
       "      <th>35</th>\n",
       "      <td>13.0</td>\n",
       "      <td>HARD</td>\n",
       "      <td>95.189667</td>\n",
       "    </tr>\n",
       "    <tr>\n",
       "      <th>38</th>\n",
       "      <td>14.0</td>\n",
       "      <td>HARD</td>\n",
       "      <td>95.804600</td>\n",
       "    </tr>\n",
       "    <tr>\n",
       "      <th>41</th>\n",
       "      <td>15.0</td>\n",
       "      <td>HARD</td>\n",
       "      <td>95.854000</td>\n",
       "    </tr>\n",
       "    <tr>\n",
       "      <th>44</th>\n",
       "      <td>16.0</td>\n",
       "      <td>HARD</td>\n",
       "      <td>96.056333</td>\n",
       "    </tr>\n",
       "    <tr>\n",
       "      <th>47</th>\n",
       "      <td>17.0</td>\n",
       "      <td>HARD</td>\n",
       "      <td>95.811333</td>\n",
       "    </tr>\n",
       "    <tr>\n",
       "      <th>49</th>\n",
       "      <td>18.0</td>\n",
       "      <td>HARD</td>\n",
       "      <td>96.021500</td>\n",
       "    </tr>\n",
       "    <tr>\n",
       "      <th>2</th>\n",
       "      <td>2.0</td>\n",
       "      <td>MEDIUM</td>\n",
       "      <td>92.795267</td>\n",
       "    </tr>\n",
       "    <tr>\n",
       "      <th>6</th>\n",
       "      <td>3.0</td>\n",
       "      <td>MEDIUM</td>\n",
       "      <td>93.703750</td>\n",
       "    </tr>\n",
       "    <tr>\n",
       "      <th>9</th>\n",
       "      <td>4.0</td>\n",
       "      <td>MEDIUM</td>\n",
       "      <td>92.905857</td>\n",
       "    </tr>\n",
       "    <tr>\n",
       "      <th>12</th>\n",
       "      <td>5.0</td>\n",
       "      <td>MEDIUM</td>\n",
       "      <td>92.947000</td>\n",
       "    </tr>\n",
       "    <tr>\n",
       "      <th>15</th>\n",
       "      <td>6.0</td>\n",
       "      <td>MEDIUM</td>\n",
       "      <td>92.381167</td>\n",
       "    </tr>\n",
       "    <tr>\n",
       "      <th>18</th>\n",
       "      <td>7.0</td>\n",
       "      <td>MEDIUM</td>\n",
       "      <td>92.497000</td>\n",
       "    </tr>\n",
       "    <tr>\n",
       "      <th>21</th>\n",
       "      <td>8.0</td>\n",
       "      <td>MEDIUM</td>\n",
       "      <td>93.599778</td>\n",
       "    </tr>\n",
       "    <tr>\n",
       "      <th>24</th>\n",
       "      <td>9.0</td>\n",
       "      <td>MEDIUM</td>\n",
       "      <td>95.718000</td>\n",
       "    </tr>\n",
       "    <tr>\n",
       "      <th>27</th>\n",
       "      <td>10.0</td>\n",
       "      <td>MEDIUM</td>\n",
       "      <td>95.752833</td>\n",
       "    </tr>\n",
       "    <tr>\n",
       "      <th>30</th>\n",
       "      <td>11.0</td>\n",
       "      <td>MEDIUM</td>\n",
       "      <td>95.708000</td>\n",
       "    </tr>\n",
       "    <tr>\n",
       "      <th>33</th>\n",
       "      <td>12.0</td>\n",
       "      <td>MEDIUM</td>\n",
       "      <td>95.686667</td>\n",
       "    </tr>\n",
       "    <tr>\n",
       "      <th>36</th>\n",
       "      <td>13.0</td>\n",
       "      <td>MEDIUM</td>\n",
       "      <td>95.402800</td>\n",
       "    </tr>\n",
       "    <tr>\n",
       "      <th>39</th>\n",
       "      <td>14.0</td>\n",
       "      <td>MEDIUM</td>\n",
       "      <td>96.307500</td>\n",
       "    </tr>\n",
       "    <tr>\n",
       "      <th>42</th>\n",
       "      <td>15.0</td>\n",
       "      <td>MEDIUM</td>\n",
       "      <td>95.587400</td>\n",
       "    </tr>\n",
       "    <tr>\n",
       "      <th>45</th>\n",
       "      <td>16.0</td>\n",
       "      <td>MEDIUM</td>\n",
       "      <td>95.914333</td>\n",
       "    </tr>\n",
       "    <tr>\n",
       "      <th>48</th>\n",
       "      <td>17.0</td>\n",
       "      <td>MEDIUM</td>\n",
       "      <td>95.936500</td>\n",
       "    </tr>\n",
       "    <tr>\n",
       "      <th>50</th>\n",
       "      <td>18.0</td>\n",
       "      <td>MEDIUM</td>\n",
       "      <td>95.556000</td>\n",
       "    </tr>\n",
       "    <tr>\n",
       "      <th>51</th>\n",
       "      <td>19.0</td>\n",
       "      <td>MEDIUM</td>\n",
       "      <td>96.168000</td>\n",
       "    </tr>\n",
       "    <tr>\n",
       "      <th>0</th>\n",
       "      <td>1.0</td>\n",
       "      <td>SOFT</td>\n",
       "      <td>95.504500</td>\n",
       "    </tr>\n",
       "    <tr>\n",
       "      <th>3</th>\n",
       "      <td>2.0</td>\n",
       "      <td>SOFT</td>\n",
       "      <td>93.031000</td>\n",
       "    </tr>\n",
       "    <tr>\n",
       "      <th>7</th>\n",
       "      <td>3.0</td>\n",
       "      <td>SOFT</td>\n",
       "      <td>91.859098</td>\n",
       "    </tr>\n",
       "    <tr>\n",
       "      <th>10</th>\n",
       "      <td>4.0</td>\n",
       "      <td>SOFT</td>\n",
       "      <td>91.209522</td>\n",
       "    </tr>\n",
       "    <tr>\n",
       "      <th>13</th>\n",
       "      <td>5.0</td>\n",
       "      <td>SOFT</td>\n",
       "      <td>91.844906</td>\n",
       "    </tr>\n",
       "    <tr>\n",
       "      <th>16</th>\n",
       "      <td>6.0</td>\n",
       "      <td>SOFT</td>\n",
       "      <td>91.727300</td>\n",
       "    </tr>\n",
       "    <tr>\n",
       "      <th>19</th>\n",
       "      <td>7.0</td>\n",
       "      <td>SOFT</td>\n",
       "      <td>91.965227</td>\n",
       "    </tr>\n",
       "    <tr>\n",
       "      <th>22</th>\n",
       "      <td>8.0</td>\n",
       "      <td>SOFT</td>\n",
       "      <td>92.630556</td>\n",
       "    </tr>\n",
       "    <tr>\n",
       "      <th>25</th>\n",
       "      <td>9.0</td>\n",
       "      <td>SOFT</td>\n",
       "      <td>94.312182</td>\n",
       "    </tr>\n",
       "    <tr>\n",
       "      <th>28</th>\n",
       "      <td>10.0</td>\n",
       "      <td>SOFT</td>\n",
       "      <td>94.994750</td>\n",
       "    </tr>\n",
       "    <tr>\n",
       "      <th>31</th>\n",
       "      <td>11.0</td>\n",
       "      <td>SOFT</td>\n",
       "      <td>95.929429</td>\n",
       "    </tr>\n",
       "    <tr>\n",
       "      <th>34</th>\n",
       "      <td>12.0</td>\n",
       "      <td>SOFT</td>\n",
       "      <td>95.340667</td>\n",
       "    </tr>\n",
       "    <tr>\n",
       "      <th>37</th>\n",
       "      <td>13.0</td>\n",
       "      <td>SOFT</td>\n",
       "      <td>95.713000</td>\n",
       "    </tr>\n",
       "    <tr>\n",
       "      <th>40</th>\n",
       "      <td>14.0</td>\n",
       "      <td>SOFT</td>\n",
       "      <td>95.887600</td>\n",
       "    </tr>\n",
       "    <tr>\n",
       "      <th>43</th>\n",
       "      <td>15.0</td>\n",
       "      <td>SOFT</td>\n",
       "      <td>95.867500</td>\n",
       "    </tr>\n",
       "    <tr>\n",
       "      <th>46</th>\n",
       "      <td>16.0</td>\n",
       "      <td>SOFT</td>\n",
       "      <td>95.598000</td>\n",
       "    </tr>\n",
       "    <tr>\n",
       "      <th>4</th>\n",
       "      <td>2.0</td>\n",
       "      <td>UNKNOWN</td>\n",
       "      <td>91.580000</td>\n",
       "    </tr>\n",
       "  </tbody>\n",
       "</table>\n",
       "</div>"
      ],
      "text/plain": [
       "    TyreLife Compound  LapTimeSeconds\n",
       "1        2.0     HARD       94.496833\n",
       "5        3.0     HARD       95.533833\n",
       "8        4.0     HARD       93.742625\n",
       "11       5.0     HARD       94.382000\n",
       "14       6.0     HARD       93.162500\n",
       "17       7.0     HARD       93.039400\n",
       "20       8.0     HARD       93.246600\n",
       "23       9.0     HARD       93.703200\n",
       "26      10.0     HARD       95.039000\n",
       "29      11.0     HARD       94.772667\n",
       "32      12.0     HARD       95.681500\n",
       "35      13.0     HARD       95.189667\n",
       "38      14.0     HARD       95.804600\n",
       "41      15.0     HARD       95.854000\n",
       "44      16.0     HARD       96.056333\n",
       "47      17.0     HARD       95.811333\n",
       "49      18.0     HARD       96.021500\n",
       "2        2.0   MEDIUM       92.795267\n",
       "6        3.0   MEDIUM       93.703750\n",
       "9        4.0   MEDIUM       92.905857\n",
       "12       5.0   MEDIUM       92.947000\n",
       "15       6.0   MEDIUM       92.381167\n",
       "18       7.0   MEDIUM       92.497000\n",
       "21       8.0   MEDIUM       93.599778\n",
       "24       9.0   MEDIUM       95.718000\n",
       "27      10.0   MEDIUM       95.752833\n",
       "30      11.0   MEDIUM       95.708000\n",
       "33      12.0   MEDIUM       95.686667\n",
       "36      13.0   MEDIUM       95.402800\n",
       "39      14.0   MEDIUM       96.307500\n",
       "42      15.0   MEDIUM       95.587400\n",
       "45      16.0   MEDIUM       95.914333\n",
       "48      17.0   MEDIUM       95.936500\n",
       "50      18.0   MEDIUM       95.556000\n",
       "51      19.0   MEDIUM       96.168000\n",
       "0        1.0     SOFT       95.504500\n",
       "3        2.0     SOFT       93.031000\n",
       "7        3.0     SOFT       91.859098\n",
       "10       4.0     SOFT       91.209522\n",
       "13       5.0     SOFT       91.844906\n",
       "16       6.0     SOFT       91.727300\n",
       "19       7.0     SOFT       91.965227\n",
       "22       8.0     SOFT       92.630556\n",
       "25       9.0     SOFT       94.312182\n",
       "28      10.0     SOFT       94.994750\n",
       "31      11.0     SOFT       95.929429\n",
       "34      12.0     SOFT       95.340667\n",
       "37      13.0     SOFT       95.713000\n",
       "40      14.0     SOFT       95.887600\n",
       "43      15.0     SOFT       95.867500\n",
       "46      16.0     SOFT       95.598000\n",
       "4        2.0  UNKNOWN       91.580000"
      ]
     },
     "execution_count": 98,
     "metadata": {},
     "output_type": "execute_result"
    }
   ],
   "source": [
    "dffp_full = dffp_copy.groupby(['TyreLife','Compound'] ,as_index=False)[['LapTimeSeconds']].mean().sort_values(by= ['Compound','TyreLife'])\n",
    "dffp_full"
   ]
  },
  {
   "cell_type": "code",
   "execution_count": 99,
   "metadata": {},
   "outputs": [
    {
     "data": {
      "text/html": [
       "<div>\n",
       "<style scoped>\n",
       "    .dataframe tbody tr th:only-of-type {\n",
       "        vertical-align: middle;\n",
       "    }\n",
       "\n",
       "    .dataframe tbody tr th {\n",
       "        vertical-align: top;\n",
       "    }\n",
       "\n",
       "    .dataframe thead th {\n",
       "        text-align: right;\n",
       "    }\n",
       "</style>\n",
       "<table border=\"1\" class=\"dataframe\">\n",
       "  <thead>\n",
       "    <tr style=\"text-align: right;\">\n",
       "      <th></th>\n",
       "      <th>TyreLife</th>\n",
       "      <th>Compound</th>\n",
       "      <th>LapTimeSeconds</th>\n",
       "    </tr>\n",
       "  </thead>\n",
       "  <tbody>\n",
       "    <tr>\n",
       "      <th>14</th>\n",
       "      <td>6.0</td>\n",
       "      <td>HARD</td>\n",
       "      <td>93.162500</td>\n",
       "    </tr>\n",
       "    <tr>\n",
       "      <th>17</th>\n",
       "      <td>7.0</td>\n",
       "      <td>HARD</td>\n",
       "      <td>93.039400</td>\n",
       "    </tr>\n",
       "    <tr>\n",
       "      <th>20</th>\n",
       "      <td>8.0</td>\n",
       "      <td>HARD</td>\n",
       "      <td>93.246600</td>\n",
       "    </tr>\n",
       "    <tr>\n",
       "      <th>23</th>\n",
       "      <td>9.0</td>\n",
       "      <td>HARD</td>\n",
       "      <td>93.703200</td>\n",
       "    </tr>\n",
       "    <tr>\n",
       "      <th>26</th>\n",
       "      <td>10.0</td>\n",
       "      <td>HARD</td>\n",
       "      <td>95.039000</td>\n",
       "    </tr>\n",
       "    <tr>\n",
       "      <th>29</th>\n",
       "      <td>11.0</td>\n",
       "      <td>HARD</td>\n",
       "      <td>94.772667</td>\n",
       "    </tr>\n",
       "    <tr>\n",
       "      <th>32</th>\n",
       "      <td>12.0</td>\n",
       "      <td>HARD</td>\n",
       "      <td>95.681500</td>\n",
       "    </tr>\n",
       "    <tr>\n",
       "      <th>35</th>\n",
       "      <td>13.0</td>\n",
       "      <td>HARD</td>\n",
       "      <td>95.189667</td>\n",
       "    </tr>\n",
       "    <tr>\n",
       "      <th>38</th>\n",
       "      <td>14.0</td>\n",
       "      <td>HARD</td>\n",
       "      <td>95.804600</td>\n",
       "    </tr>\n",
       "    <tr>\n",
       "      <th>41</th>\n",
       "      <td>15.0</td>\n",
       "      <td>HARD</td>\n",
       "      <td>95.854000</td>\n",
       "    </tr>\n",
       "    <tr>\n",
       "      <th>44</th>\n",
       "      <td>16.0</td>\n",
       "      <td>HARD</td>\n",
       "      <td>96.056333</td>\n",
       "    </tr>\n",
       "    <tr>\n",
       "      <th>47</th>\n",
       "      <td>17.0</td>\n",
       "      <td>HARD</td>\n",
       "      <td>95.811333</td>\n",
       "    </tr>\n",
       "    <tr>\n",
       "      <th>49</th>\n",
       "      <td>18.0</td>\n",
       "      <td>HARD</td>\n",
       "      <td>96.021500</td>\n",
       "    </tr>\n",
       "    <tr>\n",
       "      <th>15</th>\n",
       "      <td>6.0</td>\n",
       "      <td>MEDIUM</td>\n",
       "      <td>92.381167</td>\n",
       "    </tr>\n",
       "    <tr>\n",
       "      <th>18</th>\n",
       "      <td>7.0</td>\n",
       "      <td>MEDIUM</td>\n",
       "      <td>92.497000</td>\n",
       "    </tr>\n",
       "    <tr>\n",
       "      <th>21</th>\n",
       "      <td>8.0</td>\n",
       "      <td>MEDIUM</td>\n",
       "      <td>93.599778</td>\n",
       "    </tr>\n",
       "    <tr>\n",
       "      <th>24</th>\n",
       "      <td>9.0</td>\n",
       "      <td>MEDIUM</td>\n",
       "      <td>95.718000</td>\n",
       "    </tr>\n",
       "    <tr>\n",
       "      <th>27</th>\n",
       "      <td>10.0</td>\n",
       "      <td>MEDIUM</td>\n",
       "      <td>95.752833</td>\n",
       "    </tr>\n",
       "    <tr>\n",
       "      <th>30</th>\n",
       "      <td>11.0</td>\n",
       "      <td>MEDIUM</td>\n",
       "      <td>95.708000</td>\n",
       "    </tr>\n",
       "    <tr>\n",
       "      <th>33</th>\n",
       "      <td>12.0</td>\n",
       "      <td>MEDIUM</td>\n",
       "      <td>95.686667</td>\n",
       "    </tr>\n",
       "    <tr>\n",
       "      <th>36</th>\n",
       "      <td>13.0</td>\n",
       "      <td>MEDIUM</td>\n",
       "      <td>95.402800</td>\n",
       "    </tr>\n",
       "    <tr>\n",
       "      <th>39</th>\n",
       "      <td>14.0</td>\n",
       "      <td>MEDIUM</td>\n",
       "      <td>96.307500</td>\n",
       "    </tr>\n",
       "    <tr>\n",
       "      <th>42</th>\n",
       "      <td>15.0</td>\n",
       "      <td>MEDIUM</td>\n",
       "      <td>95.587400</td>\n",
       "    </tr>\n",
       "    <tr>\n",
       "      <th>45</th>\n",
       "      <td>16.0</td>\n",
       "      <td>MEDIUM</td>\n",
       "      <td>95.914333</td>\n",
       "    </tr>\n",
       "    <tr>\n",
       "      <th>48</th>\n",
       "      <td>17.0</td>\n",
       "      <td>MEDIUM</td>\n",
       "      <td>95.936500</td>\n",
       "    </tr>\n",
       "    <tr>\n",
       "      <th>50</th>\n",
       "      <td>18.0</td>\n",
       "      <td>MEDIUM</td>\n",
       "      <td>95.556000</td>\n",
       "    </tr>\n",
       "    <tr>\n",
       "      <th>51</th>\n",
       "      <td>19.0</td>\n",
       "      <td>MEDIUM</td>\n",
       "      <td>96.168000</td>\n",
       "    </tr>\n",
       "    <tr>\n",
       "      <th>16</th>\n",
       "      <td>6.0</td>\n",
       "      <td>SOFT</td>\n",
       "      <td>91.727300</td>\n",
       "    </tr>\n",
       "    <tr>\n",
       "      <th>19</th>\n",
       "      <td>7.0</td>\n",
       "      <td>SOFT</td>\n",
       "      <td>91.965227</td>\n",
       "    </tr>\n",
       "    <tr>\n",
       "      <th>22</th>\n",
       "      <td>8.0</td>\n",
       "      <td>SOFT</td>\n",
       "      <td>92.630556</td>\n",
       "    </tr>\n",
       "    <tr>\n",
       "      <th>25</th>\n",
       "      <td>9.0</td>\n",
       "      <td>SOFT</td>\n",
       "      <td>94.312182</td>\n",
       "    </tr>\n",
       "    <tr>\n",
       "      <th>28</th>\n",
       "      <td>10.0</td>\n",
       "      <td>SOFT</td>\n",
       "      <td>94.994750</td>\n",
       "    </tr>\n",
       "    <tr>\n",
       "      <th>31</th>\n",
       "      <td>11.0</td>\n",
       "      <td>SOFT</td>\n",
       "      <td>95.929429</td>\n",
       "    </tr>\n",
       "    <tr>\n",
       "      <th>34</th>\n",
       "      <td>12.0</td>\n",
       "      <td>SOFT</td>\n",
       "      <td>95.340667</td>\n",
       "    </tr>\n",
       "    <tr>\n",
       "      <th>37</th>\n",
       "      <td>13.0</td>\n",
       "      <td>SOFT</td>\n",
       "      <td>95.713000</td>\n",
       "    </tr>\n",
       "    <tr>\n",
       "      <th>40</th>\n",
       "      <td>14.0</td>\n",
       "      <td>SOFT</td>\n",
       "      <td>95.887600</td>\n",
       "    </tr>\n",
       "    <tr>\n",
       "      <th>43</th>\n",
       "      <td>15.0</td>\n",
       "      <td>SOFT</td>\n",
       "      <td>95.867500</td>\n",
       "    </tr>\n",
       "    <tr>\n",
       "      <th>46</th>\n",
       "      <td>16.0</td>\n",
       "      <td>SOFT</td>\n",
       "      <td>95.598000</td>\n",
       "    </tr>\n",
       "  </tbody>\n",
       "</table>\n",
       "</div>"
      ],
      "text/plain": [
       "    TyreLife Compound  LapTimeSeconds\n",
       "14       6.0     HARD       93.162500\n",
       "17       7.0     HARD       93.039400\n",
       "20       8.0     HARD       93.246600\n",
       "23       9.0     HARD       93.703200\n",
       "26      10.0     HARD       95.039000\n",
       "29      11.0     HARD       94.772667\n",
       "32      12.0     HARD       95.681500\n",
       "35      13.0     HARD       95.189667\n",
       "38      14.0     HARD       95.804600\n",
       "41      15.0     HARD       95.854000\n",
       "44      16.0     HARD       96.056333\n",
       "47      17.0     HARD       95.811333\n",
       "49      18.0     HARD       96.021500\n",
       "15       6.0   MEDIUM       92.381167\n",
       "18       7.0   MEDIUM       92.497000\n",
       "21       8.0   MEDIUM       93.599778\n",
       "24       9.0   MEDIUM       95.718000\n",
       "27      10.0   MEDIUM       95.752833\n",
       "30      11.0   MEDIUM       95.708000\n",
       "33      12.0   MEDIUM       95.686667\n",
       "36      13.0   MEDIUM       95.402800\n",
       "39      14.0   MEDIUM       96.307500\n",
       "42      15.0   MEDIUM       95.587400\n",
       "45      16.0   MEDIUM       95.914333\n",
       "48      17.0   MEDIUM       95.936500\n",
       "50      18.0   MEDIUM       95.556000\n",
       "51      19.0   MEDIUM       96.168000\n",
       "16       6.0     SOFT       91.727300\n",
       "19       7.0     SOFT       91.965227\n",
       "22       8.0     SOFT       92.630556\n",
       "25       9.0     SOFT       94.312182\n",
       "28      10.0     SOFT       94.994750\n",
       "31      11.0     SOFT       95.929429\n",
       "34      12.0     SOFT       95.340667\n",
       "37      13.0     SOFT       95.713000\n",
       "40      14.0     SOFT       95.887600\n",
       "43      15.0     SOFT       95.867500\n",
       "46      16.0     SOFT       95.598000"
      ]
     },
     "execution_count": 99,
     "metadata": {},
     "output_type": "execute_result"
    }
   ],
   "source": [
    "# dffp_filtered = dffp_full.sort_values(by= ['Compound','TyreLife'])\n",
    "dffp_filtered = dffp_full[dffp_full['TyreLife'] > 5.0]\n",
    "dffp_filtered"
   ]
  },
  {
   "cell_type": "code",
   "execution_count": 100,
   "metadata": {},
   "outputs": [],
   "source": [
    "dffp_soft = dffp_filtered[dffp_filtered['Compound'] == 'SOFT'].reset_index(drop=True)\n",
    "dffp_medium = dffp_filtered[dffp_filtered['Compound'] == 'MEDIUM'].reset_index(drop=True)\n",
    "dffp_hard = dffp_filtered[dffp_filtered['Compound'] == 'HARD'].reset_index(drop=True)"
   ]
  },
  {
   "cell_type": "code",
   "execution_count": 101,
   "metadata": {},
   "outputs": [
    {
     "data": {
      "text/plain": [
       "91.7273"
      ]
     },
     "execution_count": 101,
     "metadata": {},
     "output_type": "execute_result"
    }
   ],
   "source": [
    "dffp_soft['LapTimeSeconds'].min()"
   ]
  },
  {
   "cell_type": "code",
   "execution_count": 102,
   "metadata": {},
   "outputs": [
    {
     "data": {
      "text/plain": [
       "3.8706999999999994"
      ]
     },
     "execution_count": 102,
     "metadata": {},
     "output_type": "execute_result"
    }
   ],
   "source": [
    "dffp_soft['LapTimeSeconds'].iloc[-1] - dffp_soft['LapTimeSeconds'].iloc[0]"
   ]
  },
  {
   "cell_type": "code",
   "execution_count": 103,
   "metadata": {},
   "outputs": [],
   "source": [
    "diff_soft = (dffp_soft['LapTimeSeconds'].iloc[-1] - dffp_soft['LapTimeSeconds'].iloc[0])\n",
    "diff_medium = (dffp_medium['LapTimeSeconds'].iloc[-1] - dffp_medium['LapTimeSeconds'].iloc[0])\n",
    "diff_hard = dffp_hard['LapTimeSeconds'].iloc[-1] - dffp_hard['LapTimeSeconds'].iloc[0]"
   ]
  },
  {
   "cell_type": "code",
   "execution_count": 104,
   "metadata": {},
   "outputs": [],
   "source": [
    "if 'WET' in dffp_filtered['Compound'].tolist() or 'INTERDMEDIATE' in dffp_filtered['Compound'].tolist() or diff_soft < 0 or diff_medium < 0 or diff_hard < 0:\n",
    "    diff_soft_per_lap = 0.25\n",
    "    diff_medium_per_lap = 0.15\n",
    "    diff_hard_per_lap = 0.09\n",
    "    \n",
    "else:\n",
    "    diff_soft_per_lap = diff_soft / len(dffp_soft)\n",
    "    diff_medium_per_lap = diff_medium / len(dffp_medium)\n",
    "    diff_hard_per_lap = diff_hard / len(dffp_hard)"
   ]
  },
  {
   "cell_type": "code",
   "execution_count": 105,
   "metadata": {},
   "outputs": [
    {
     "name": "stdout",
     "output_type": "stream",
     "text": [
      "0.35188181818181813\n",
      "0.2704880952380953\n",
      "0.2199230769230776\n"
     ]
    }
   ],
   "source": [
    "print(diff_soft_per_lap)\n",
    "print(diff_medium_per_lap)\n",
    "print(diff_hard_per_lap)"
   ]
  },
  {
   "cell_type": "code",
   "execution_count": 106,
   "metadata": {},
   "outputs": [
    {
     "data": {
      "text/plain": [
       "0.08820000000000001"
      ]
     },
     "execution_count": 106,
     "metadata": {},
     "output_type": "execute_result"
    }
   ],
   "source": [
    "fuel_per_lap_kg = 105 / nb_laps\n",
    "mean_laps = 60\n",
    "time_gain_per_kg = 0.035\n",
    "laps_coeff = mean_laps / nb_laps\n",
    "time_gained_per_lap = laps_coeff * time_gain_per_kg * fuel_per_lap_kg\n",
    "time_gained_per_lap"
   ]
  },
  {
   "cell_type": "code",
   "execution_count": 107,
   "metadata": {},
   "outputs": [],
   "source": [
    "dffp_soft['FuelGain'] = time_gained_per_lap\n",
    "dffp_soft['FuelGain'] = dffp_soft['FuelGain'].cumsum()\n",
    "dffp_soft['AdjustedTime'] = dffp_soft['LapTimeSeconds'] + dffp_soft['FuelGain']"
   ]
  },
  {
   "cell_type": "code",
   "execution_count": 108,
   "metadata": {},
   "outputs": [
    {
     "data": {
      "text/plain": [
       "{'TyreLife': 4.0, 'LapTimeSeconds': 91.20952173913044}"
      ]
     },
     "execution_count": 108,
     "metadata": {},
     "output_type": "execute_result"
    }
   ],
   "source": [
    "laptime_min_series = dffp_full[dffp_full['Compound'] == 'SOFT'].sort_values('LapTimeSeconds', ascending=True).iloc[0]\n",
    "laptime_min = {'TyreLife': laptime_min_series['TyreLife'], 'LapTimeSeconds': laptime_min_series['LapTimeSeconds']}\n",
    "laptime_min"
   ]
  },
  {
   "cell_type": "code",
   "execution_count": 109,
   "metadata": {},
   "outputs": [
    {
     "data": {
      "text/plain": [
       "94.56387628458498"
      ]
     },
     "execution_count": 109,
     "metadata": {},
     "output_type": "execute_result"
    }
   ],
   "source": [
    "laptime_min_calc_soft =  (laptime_min['LapTimeSeconds'] - ((laptime_min['TyreLife'] - 1) * diff_soft_per_lap)) + (nb_laps * time_gained_per_lap)\n",
    "laptime_min_calc_soft"
   ]
  },
  {
   "cell_type": "code",
   "execution_count": 110,
   "metadata": {},
   "outputs": [
    {
     "data": {
      "text/plain": [
       "95.68888116858498"
      ]
     },
     "execution_count": 110,
     "metadata": {},
     "output_type": "execute_result"
    }
   ],
   "source": [
    "laptime_min_calc_medium = (laptime_min_calc_soft + time_to_seconds(medium_to_soft))\n",
    "laptime_min_calc_medium"
   ]
  },
  {
   "cell_type": "code",
   "execution_count": 111,
   "metadata": {},
   "outputs": [
    {
     "data": {
      "text/plain": [
       "95.98898024158498"
      ]
     },
     "execution_count": 111,
     "metadata": {},
     "output_type": "execute_result"
    }
   ],
   "source": [
    "laptime_min_calc_hard = laptime_min_calc_soft + time_to_seconds(hard_to_soft)\n",
    "laptime_min_calc_hard"
   ]
  },
  {
   "cell_type": "code",
   "execution_count": 112,
   "metadata": {},
   "outputs": [],
   "source": [
    "def get_deg_values(dc, dr):\n",
    "    list_times = []\n",
    "\n",
    "    for i in range(1, nb_laps + 1):\n",
    "        dr = dr * (1 + dc)\n",
    "        list_times.append(dr)\n",
    "        \n",
    "    return list_times\n",
    "\n",
    "list_times_soft = get_deg_values(0.13, diff_soft_per_lap)\n",
    "list_times_medium = get_deg_values(0.085, diff_medium_per_lap)\n",
    "list_times_hard = get_deg_values(0.065, diff_medium_per_lap)"
   ]
  },
  {
   "cell_type": "code",
   "execution_count": 113,
   "metadata": {},
   "outputs": [],
   "source": [
    "df_times_soft = pd.DataFrame(columns=['Lap', 'Tyre', 'LapTimeSeconds', 'DeltaDeg', 'FuelDeg', 'AdjustedTime'])\n",
    "\n",
    "\n",
    "\n",
    "df_times_soft['Lap'] = list(range(1, nb_laps + 1))\n",
    "df_times_soft['Tyre'] = 'SOFT'\n",
    "df_times_soft['LapTimeSeconds'] = laptime_min_calc_soft\n",
    "df_times_soft['DeltaDeg'] = list_times_soft\n",
    "df_times_soft['FuelDeg'] = time_gained_per_lap * df_times_soft['Lap']\n",
    "df_times_soft['AdjustedTime'] = df_times_soft.apply(lambda row: row['LapTimeSeconds'] + row['DeltaDeg'], axis=1)\n",
    "df_times_soft['FinalLapTime'] = df_times_soft.apply(lambda row: row['AdjustedTime'] - row['FuelDeg'], axis=1)\n"
   ]
  },
  {
   "cell_type": "code",
   "execution_count": 114,
   "metadata": {},
   "outputs": [
    {
     "data": {
      "text/html": [
       "<div>\n",
       "<style scoped>\n",
       "    .dataframe tbody tr th:only-of-type {\n",
       "        vertical-align: middle;\n",
       "    }\n",
       "\n",
       "    .dataframe tbody tr th {\n",
       "        vertical-align: top;\n",
       "    }\n",
       "\n",
       "    .dataframe thead th {\n",
       "        text-align: right;\n",
       "    }\n",
       "</style>\n",
       "<table border=\"1\" class=\"dataframe\">\n",
       "  <thead>\n",
       "    <tr style=\"text-align: right;\">\n",
       "      <th></th>\n",
       "      <th>Lap</th>\n",
       "      <th>Tyre</th>\n",
       "      <th>LapTimeSeconds</th>\n",
       "      <th>DeltaDeg</th>\n",
       "      <th>FuelDeg</th>\n",
       "      <th>AdjustedTime</th>\n",
       "      <th>FinalLapTime</th>\n",
       "    </tr>\n",
       "  </thead>\n",
       "  <tbody>\n",
       "    <tr>\n",
       "      <th>0</th>\n",
       "      <td>1</td>\n",
       "      <td>MEDIUM</td>\n",
       "      <td>95.688881</td>\n",
       "      <td>0.293480</td>\n",
       "      <td>0.0882</td>\n",
       "      <td>95.982361</td>\n",
       "      <td>95.894161</td>\n",
       "    </tr>\n",
       "    <tr>\n",
       "      <th>1</th>\n",
       "      <td>2</td>\n",
       "      <td>MEDIUM</td>\n",
       "      <td>95.688881</td>\n",
       "      <td>0.318425</td>\n",
       "      <td>0.1764</td>\n",
       "      <td>96.007307</td>\n",
       "      <td>95.830907</td>\n",
       "    </tr>\n",
       "    <tr>\n",
       "      <th>2</th>\n",
       "      <td>3</td>\n",
       "      <td>MEDIUM</td>\n",
       "      <td>95.688881</td>\n",
       "      <td>0.345492</td>\n",
       "      <td>0.2646</td>\n",
       "      <td>96.034373</td>\n",
       "      <td>95.769773</td>\n",
       "    </tr>\n",
       "    <tr>\n",
       "      <th>3</th>\n",
       "      <td>4</td>\n",
       "      <td>MEDIUM</td>\n",
       "      <td>95.688881</td>\n",
       "      <td>0.374858</td>\n",
       "      <td>0.3528</td>\n",
       "      <td>96.063739</td>\n",
       "      <td>95.710939</td>\n",
       "    </tr>\n",
       "    <tr>\n",
       "      <th>4</th>\n",
       "      <td>5</td>\n",
       "      <td>MEDIUM</td>\n",
       "      <td>95.688881</td>\n",
       "      <td>0.406721</td>\n",
       "      <td>0.4410</td>\n",
       "      <td>96.095602</td>\n",
       "      <td>95.654602</td>\n",
       "    </tr>\n",
       "    <tr>\n",
       "      <th>5</th>\n",
       "      <td>6</td>\n",
       "      <td>MEDIUM</td>\n",
       "      <td>95.688881</td>\n",
       "      <td>0.441293</td>\n",
       "      <td>0.5292</td>\n",
       "      <td>96.130174</td>\n",
       "      <td>95.600974</td>\n",
       "    </tr>\n",
       "    <tr>\n",
       "      <th>6</th>\n",
       "      <td>7</td>\n",
       "      <td>MEDIUM</td>\n",
       "      <td>95.688881</td>\n",
       "      <td>0.478802</td>\n",
       "      <td>0.6174</td>\n",
       "      <td>96.167684</td>\n",
       "      <td>95.550284</td>\n",
       "    </tr>\n",
       "    <tr>\n",
       "      <th>7</th>\n",
       "      <td>8</td>\n",
       "      <td>MEDIUM</td>\n",
       "      <td>95.688881</td>\n",
       "      <td>0.519501</td>\n",
       "      <td>0.7056</td>\n",
       "      <td>96.208382</td>\n",
       "      <td>95.502782</td>\n",
       "    </tr>\n",
       "    <tr>\n",
       "      <th>8</th>\n",
       "      <td>9</td>\n",
       "      <td>MEDIUM</td>\n",
       "      <td>95.688881</td>\n",
       "      <td>0.563658</td>\n",
       "      <td>0.7938</td>\n",
       "      <td>96.252539</td>\n",
       "      <td>95.458739</td>\n",
       "    </tr>\n",
       "    <tr>\n",
       "      <th>9</th>\n",
       "      <td>10</td>\n",
       "      <td>MEDIUM</td>\n",
       "      <td>95.688881</td>\n",
       "      <td>0.611569</td>\n",
       "      <td>0.8820</td>\n",
       "      <td>96.300450</td>\n",
       "      <td>95.418450</td>\n",
       "    </tr>\n",
       "    <tr>\n",
       "      <th>10</th>\n",
       "      <td>11</td>\n",
       "      <td>MEDIUM</td>\n",
       "      <td>95.688881</td>\n",
       "      <td>0.663552</td>\n",
       "      <td>0.9702</td>\n",
       "      <td>96.352434</td>\n",
       "      <td>95.382234</td>\n",
       "    </tr>\n",
       "    <tr>\n",
       "      <th>11</th>\n",
       "      <td>12</td>\n",
       "      <td>MEDIUM</td>\n",
       "      <td>95.688881</td>\n",
       "      <td>0.719954</td>\n",
       "      <td>1.0584</td>\n",
       "      <td>96.408836</td>\n",
       "      <td>95.350436</td>\n",
       "    </tr>\n",
       "    <tr>\n",
       "      <th>12</th>\n",
       "      <td>13</td>\n",
       "      <td>MEDIUM</td>\n",
       "      <td>95.688881</td>\n",
       "      <td>0.781151</td>\n",
       "      <td>1.1466</td>\n",
       "      <td>96.470032</td>\n",
       "      <td>95.323432</td>\n",
       "    </tr>\n",
       "    <tr>\n",
       "      <th>13</th>\n",
       "      <td>14</td>\n",
       "      <td>MEDIUM</td>\n",
       "      <td>95.688881</td>\n",
       "      <td>0.847548</td>\n",
       "      <td>1.2348</td>\n",
       "      <td>96.536430</td>\n",
       "      <td>95.301630</td>\n",
       "    </tr>\n",
       "    <tr>\n",
       "      <th>14</th>\n",
       "      <td>15</td>\n",
       "      <td>MEDIUM</td>\n",
       "      <td>95.688881</td>\n",
       "      <td>0.919590</td>\n",
       "      <td>1.3230</td>\n",
       "      <td>96.608471</td>\n",
       "      <td>95.285471</td>\n",
       "    </tr>\n",
       "    <tr>\n",
       "      <th>15</th>\n",
       "      <td>16</td>\n",
       "      <td>MEDIUM</td>\n",
       "      <td>95.688881</td>\n",
       "      <td>0.997755</td>\n",
       "      <td>1.4112</td>\n",
       "      <td>96.686636</td>\n",
       "      <td>95.275436</td>\n",
       "    </tr>\n",
       "    <tr>\n",
       "      <th>16</th>\n",
       "      <td>17</td>\n",
       "      <td>MEDIUM</td>\n",
       "      <td>95.688881</td>\n",
       "      <td>1.082564</td>\n",
       "      <td>1.4994</td>\n",
       "      <td>96.771445</td>\n",
       "      <td>95.272045</td>\n",
       "    </tr>\n",
       "    <tr>\n",
       "      <th>17</th>\n",
       "      <td>18</td>\n",
       "      <td>MEDIUM</td>\n",
       "      <td>95.688881</td>\n",
       "      <td>1.174582</td>\n",
       "      <td>1.5876</td>\n",
       "      <td>96.863463</td>\n",
       "      <td>95.275863</td>\n",
       "    </tr>\n",
       "    <tr>\n",
       "      <th>18</th>\n",
       "      <td>19</td>\n",
       "      <td>MEDIUM</td>\n",
       "      <td>95.688881</td>\n",
       "      <td>1.274422</td>\n",
       "      <td>1.6758</td>\n",
       "      <td>96.963303</td>\n",
       "      <td>95.287503</td>\n",
       "    </tr>\n",
       "    <tr>\n",
       "      <th>19</th>\n",
       "      <td>20</td>\n",
       "      <td>MEDIUM</td>\n",
       "      <td>95.688881</td>\n",
       "      <td>1.382748</td>\n",
       "      <td>1.7640</td>\n",
       "      <td>97.071629</td>\n",
       "      <td>95.307629</td>\n",
       "    </tr>\n",
       "    <tr>\n",
       "      <th>20</th>\n",
       "      <td>21</td>\n",
       "      <td>MEDIUM</td>\n",
       "      <td>95.688881</td>\n",
       "      <td>1.500281</td>\n",
       "      <td>1.8522</td>\n",
       "      <td>97.189162</td>\n",
       "      <td>95.336962</td>\n",
       "    </tr>\n",
       "    <tr>\n",
       "      <th>21</th>\n",
       "      <td>22</td>\n",
       "      <td>MEDIUM</td>\n",
       "      <td>95.688881</td>\n",
       "      <td>1.627805</td>\n",
       "      <td>1.9404</td>\n",
       "      <td>97.316686</td>\n",
       "      <td>95.376286</td>\n",
       "    </tr>\n",
       "    <tr>\n",
       "      <th>22</th>\n",
       "      <td>23</td>\n",
       "      <td>MEDIUM</td>\n",
       "      <td>95.688881</td>\n",
       "      <td>1.766168</td>\n",
       "      <td>2.0286</td>\n",
       "      <td>97.455050</td>\n",
       "      <td>95.426450</td>\n",
       "    </tr>\n",
       "    <tr>\n",
       "      <th>23</th>\n",
       "      <td>24</td>\n",
       "      <td>MEDIUM</td>\n",
       "      <td>95.688881</td>\n",
       "      <td>1.916293</td>\n",
       "      <td>2.1168</td>\n",
       "      <td>97.605174</td>\n",
       "      <td>95.488374</td>\n",
       "    </tr>\n",
       "    <tr>\n",
       "      <th>24</th>\n",
       "      <td>25</td>\n",
       "      <td>MEDIUM</td>\n",
       "      <td>95.688881</td>\n",
       "      <td>2.079178</td>\n",
       "      <td>2.2050</td>\n",
       "      <td>97.768059</td>\n",
       "      <td>95.563059</td>\n",
       "    </tr>\n",
       "    <tr>\n",
       "      <th>25</th>\n",
       "      <td>26</td>\n",
       "      <td>MEDIUM</td>\n",
       "      <td>95.688881</td>\n",
       "      <td>2.255908</td>\n",
       "      <td>2.2932</td>\n",
       "      <td>97.944789</td>\n",
       "      <td>95.651589</td>\n",
       "    </tr>\n",
       "    <tr>\n",
       "      <th>26</th>\n",
       "      <td>27</td>\n",
       "      <td>MEDIUM</td>\n",
       "      <td>95.688881</td>\n",
       "      <td>2.447660</td>\n",
       "      <td>2.3814</td>\n",
       "      <td>98.136541</td>\n",
       "      <td>95.755141</td>\n",
       "    </tr>\n",
       "    <tr>\n",
       "      <th>27</th>\n",
       "      <td>28</td>\n",
       "      <td>MEDIUM</td>\n",
       "      <td>95.688881</td>\n",
       "      <td>2.655711</td>\n",
       "      <td>2.4696</td>\n",
       "      <td>98.344592</td>\n",
       "      <td>95.874992</td>\n",
       "    </tr>\n",
       "    <tr>\n",
       "      <th>28</th>\n",
       "      <td>29</td>\n",
       "      <td>MEDIUM</td>\n",
       "      <td>95.688881</td>\n",
       "      <td>2.881447</td>\n",
       "      <td>2.5578</td>\n",
       "      <td>98.570328</td>\n",
       "      <td>96.012528</td>\n",
       "    </tr>\n",
       "    <tr>\n",
       "      <th>29</th>\n",
       "      <td>30</td>\n",
       "      <td>MEDIUM</td>\n",
       "      <td>95.688881</td>\n",
       "      <td>3.126369</td>\n",
       "      <td>2.6460</td>\n",
       "      <td>98.815251</td>\n",
       "      <td>96.169251</td>\n",
       "    </tr>\n",
       "    <tr>\n",
       "      <th>30</th>\n",
       "      <td>31</td>\n",
       "      <td>MEDIUM</td>\n",
       "      <td>95.688881</td>\n",
       "      <td>3.392111</td>\n",
       "      <td>2.7342</td>\n",
       "      <td>99.080992</td>\n",
       "      <td>96.346792</td>\n",
       "    </tr>\n",
       "    <tr>\n",
       "      <th>31</th>\n",
       "      <td>32</td>\n",
       "      <td>MEDIUM</td>\n",
       "      <td>95.688881</td>\n",
       "      <td>3.680440</td>\n",
       "      <td>2.8224</td>\n",
       "      <td>99.369321</td>\n",
       "      <td>96.546921</td>\n",
       "    </tr>\n",
       "    <tr>\n",
       "      <th>32</th>\n",
       "      <td>33</td>\n",
       "      <td>MEDIUM</td>\n",
       "      <td>95.688881</td>\n",
       "      <td>3.993278</td>\n",
       "      <td>2.9106</td>\n",
       "      <td>99.682159</td>\n",
       "      <td>96.771559</td>\n",
       "    </tr>\n",
       "    <tr>\n",
       "      <th>33</th>\n",
       "      <td>34</td>\n",
       "      <td>MEDIUM</td>\n",
       "      <td>95.688881</td>\n",
       "      <td>4.332706</td>\n",
       "      <td>2.9988</td>\n",
       "      <td>100.021588</td>\n",
       "      <td>97.022788</td>\n",
       "    </tr>\n",
       "    <tr>\n",
       "      <th>34</th>\n",
       "      <td>35</td>\n",
       "      <td>MEDIUM</td>\n",
       "      <td>95.688881</td>\n",
       "      <td>4.700986</td>\n",
       "      <td>3.0870</td>\n",
       "      <td>100.389868</td>\n",
       "      <td>97.302868</td>\n",
       "    </tr>\n",
       "    <tr>\n",
       "      <th>35</th>\n",
       "      <td>36</td>\n",
       "      <td>MEDIUM</td>\n",
       "      <td>95.688881</td>\n",
       "      <td>5.100570</td>\n",
       "      <td>3.1752</td>\n",
       "      <td>100.789451</td>\n",
       "      <td>97.614251</td>\n",
       "    </tr>\n",
       "    <tr>\n",
       "      <th>36</th>\n",
       "      <td>37</td>\n",
       "      <td>MEDIUM</td>\n",
       "      <td>95.688881</td>\n",
       "      <td>5.534119</td>\n",
       "      <td>3.2634</td>\n",
       "      <td>101.223000</td>\n",
       "      <td>97.959600</td>\n",
       "    </tr>\n",
       "    <tr>\n",
       "      <th>37</th>\n",
       "      <td>38</td>\n",
       "      <td>MEDIUM</td>\n",
       "      <td>95.688881</td>\n",
       "      <td>6.004519</td>\n",
       "      <td>3.3516</td>\n",
       "      <td>101.693400</td>\n",
       "      <td>98.341800</td>\n",
       "    </tr>\n",
       "    <tr>\n",
       "      <th>38</th>\n",
       "      <td>39</td>\n",
       "      <td>MEDIUM</td>\n",
       "      <td>95.688881</td>\n",
       "      <td>6.514903</td>\n",
       "      <td>3.4398</td>\n",
       "      <td>102.203784</td>\n",
       "      <td>98.763984</td>\n",
       "    </tr>\n",
       "    <tr>\n",
       "      <th>39</th>\n",
       "      <td>40</td>\n",
       "      <td>MEDIUM</td>\n",
       "      <td>95.688881</td>\n",
       "      <td>7.068670</td>\n",
       "      <td>3.5280</td>\n",
       "      <td>102.757551</td>\n",
       "      <td>99.229551</td>\n",
       "    </tr>\n",
       "    <tr>\n",
       "      <th>40</th>\n",
       "      <td>41</td>\n",
       "      <td>MEDIUM</td>\n",
       "      <td>95.688881</td>\n",
       "      <td>7.669507</td>\n",
       "      <td>3.6162</td>\n",
       "      <td>103.358388</td>\n",
       "      <td>99.742188</td>\n",
       "    </tr>\n",
       "    <tr>\n",
       "      <th>41</th>\n",
       "      <td>42</td>\n",
       "      <td>MEDIUM</td>\n",
       "      <td>95.688881</td>\n",
       "      <td>8.321415</td>\n",
       "      <td>3.7044</td>\n",
       "      <td>104.010296</td>\n",
       "      <td>100.305896</td>\n",
       "    </tr>\n",
       "    <tr>\n",
       "      <th>42</th>\n",
       "      <td>43</td>\n",
       "      <td>MEDIUM</td>\n",
       "      <td>95.688881</td>\n",
       "      <td>9.028735</td>\n",
       "      <td>3.7926</td>\n",
       "      <td>104.717616</td>\n",
       "      <td>100.925016</td>\n",
       "    </tr>\n",
       "    <tr>\n",
       "      <th>43</th>\n",
       "      <td>44</td>\n",
       "      <td>MEDIUM</td>\n",
       "      <td>95.688881</td>\n",
       "      <td>9.796177</td>\n",
       "      <td>3.8808</td>\n",
       "      <td>105.485058</td>\n",
       "      <td>101.604258</td>\n",
       "    </tr>\n",
       "    <tr>\n",
       "      <th>44</th>\n",
       "      <td>45</td>\n",
       "      <td>MEDIUM</td>\n",
       "      <td>95.688881</td>\n",
       "      <td>10.628852</td>\n",
       "      <td>3.9690</td>\n",
       "      <td>106.317734</td>\n",
       "      <td>102.348734</td>\n",
       "    </tr>\n",
       "    <tr>\n",
       "      <th>45</th>\n",
       "      <td>46</td>\n",
       "      <td>MEDIUM</td>\n",
       "      <td>95.688881</td>\n",
       "      <td>11.532305</td>\n",
       "      <td>4.0572</td>\n",
       "      <td>107.221186</td>\n",
       "      <td>103.163986</td>\n",
       "    </tr>\n",
       "    <tr>\n",
       "      <th>46</th>\n",
       "      <td>47</td>\n",
       "      <td>MEDIUM</td>\n",
       "      <td>95.688881</td>\n",
       "      <td>12.512551</td>\n",
       "      <td>4.1454</td>\n",
       "      <td>108.201432</td>\n",
       "      <td>104.056032</td>\n",
       "    </tr>\n",
       "    <tr>\n",
       "      <th>47</th>\n",
       "      <td>48</td>\n",
       "      <td>MEDIUM</td>\n",
       "      <td>95.688881</td>\n",
       "      <td>13.576118</td>\n",
       "      <td>4.2336</td>\n",
       "      <td>109.264999</td>\n",
       "      <td>105.031399</td>\n",
       "    </tr>\n",
       "    <tr>\n",
       "      <th>48</th>\n",
       "      <td>49</td>\n",
       "      <td>MEDIUM</td>\n",
       "      <td>95.688881</td>\n",
       "      <td>14.730088</td>\n",
       "      <td>4.3218</td>\n",
       "      <td>110.418969</td>\n",
       "      <td>106.097169</td>\n",
       "    </tr>\n",
       "    <tr>\n",
       "      <th>49</th>\n",
       "      <td>50</td>\n",
       "      <td>MEDIUM</td>\n",
       "      <td>95.688881</td>\n",
       "      <td>15.982145</td>\n",
       "      <td>4.4100</td>\n",
       "      <td>111.671026</td>\n",
       "      <td>107.261026</td>\n",
       "    </tr>\n",
       "  </tbody>\n",
       "</table>\n",
       "</div>"
      ],
      "text/plain": [
       "    Lap    Tyre  LapTimeSeconds   DeltaDeg  FuelDeg  AdjustedTime  \\\n",
       "0     1  MEDIUM       95.688881   0.293480   0.0882     95.982361   \n",
       "1     2  MEDIUM       95.688881   0.318425   0.1764     96.007307   \n",
       "2     3  MEDIUM       95.688881   0.345492   0.2646     96.034373   \n",
       "3     4  MEDIUM       95.688881   0.374858   0.3528     96.063739   \n",
       "4     5  MEDIUM       95.688881   0.406721   0.4410     96.095602   \n",
       "5     6  MEDIUM       95.688881   0.441293   0.5292     96.130174   \n",
       "6     7  MEDIUM       95.688881   0.478802   0.6174     96.167684   \n",
       "7     8  MEDIUM       95.688881   0.519501   0.7056     96.208382   \n",
       "8     9  MEDIUM       95.688881   0.563658   0.7938     96.252539   \n",
       "9    10  MEDIUM       95.688881   0.611569   0.8820     96.300450   \n",
       "10   11  MEDIUM       95.688881   0.663552   0.9702     96.352434   \n",
       "11   12  MEDIUM       95.688881   0.719954   1.0584     96.408836   \n",
       "12   13  MEDIUM       95.688881   0.781151   1.1466     96.470032   \n",
       "13   14  MEDIUM       95.688881   0.847548   1.2348     96.536430   \n",
       "14   15  MEDIUM       95.688881   0.919590   1.3230     96.608471   \n",
       "15   16  MEDIUM       95.688881   0.997755   1.4112     96.686636   \n",
       "16   17  MEDIUM       95.688881   1.082564   1.4994     96.771445   \n",
       "17   18  MEDIUM       95.688881   1.174582   1.5876     96.863463   \n",
       "18   19  MEDIUM       95.688881   1.274422   1.6758     96.963303   \n",
       "19   20  MEDIUM       95.688881   1.382748   1.7640     97.071629   \n",
       "20   21  MEDIUM       95.688881   1.500281   1.8522     97.189162   \n",
       "21   22  MEDIUM       95.688881   1.627805   1.9404     97.316686   \n",
       "22   23  MEDIUM       95.688881   1.766168   2.0286     97.455050   \n",
       "23   24  MEDIUM       95.688881   1.916293   2.1168     97.605174   \n",
       "24   25  MEDIUM       95.688881   2.079178   2.2050     97.768059   \n",
       "25   26  MEDIUM       95.688881   2.255908   2.2932     97.944789   \n",
       "26   27  MEDIUM       95.688881   2.447660   2.3814     98.136541   \n",
       "27   28  MEDIUM       95.688881   2.655711   2.4696     98.344592   \n",
       "28   29  MEDIUM       95.688881   2.881447   2.5578     98.570328   \n",
       "29   30  MEDIUM       95.688881   3.126369   2.6460     98.815251   \n",
       "30   31  MEDIUM       95.688881   3.392111   2.7342     99.080992   \n",
       "31   32  MEDIUM       95.688881   3.680440   2.8224     99.369321   \n",
       "32   33  MEDIUM       95.688881   3.993278   2.9106     99.682159   \n",
       "33   34  MEDIUM       95.688881   4.332706   2.9988    100.021588   \n",
       "34   35  MEDIUM       95.688881   4.700986   3.0870    100.389868   \n",
       "35   36  MEDIUM       95.688881   5.100570   3.1752    100.789451   \n",
       "36   37  MEDIUM       95.688881   5.534119   3.2634    101.223000   \n",
       "37   38  MEDIUM       95.688881   6.004519   3.3516    101.693400   \n",
       "38   39  MEDIUM       95.688881   6.514903   3.4398    102.203784   \n",
       "39   40  MEDIUM       95.688881   7.068670   3.5280    102.757551   \n",
       "40   41  MEDIUM       95.688881   7.669507   3.6162    103.358388   \n",
       "41   42  MEDIUM       95.688881   8.321415   3.7044    104.010296   \n",
       "42   43  MEDIUM       95.688881   9.028735   3.7926    104.717616   \n",
       "43   44  MEDIUM       95.688881   9.796177   3.8808    105.485058   \n",
       "44   45  MEDIUM       95.688881  10.628852   3.9690    106.317734   \n",
       "45   46  MEDIUM       95.688881  11.532305   4.0572    107.221186   \n",
       "46   47  MEDIUM       95.688881  12.512551   4.1454    108.201432   \n",
       "47   48  MEDIUM       95.688881  13.576118   4.2336    109.264999   \n",
       "48   49  MEDIUM       95.688881  14.730088   4.3218    110.418969   \n",
       "49   50  MEDIUM       95.688881  15.982145   4.4100    111.671026   \n",
       "\n",
       "    FinalLapTime  \n",
       "0      95.894161  \n",
       "1      95.830907  \n",
       "2      95.769773  \n",
       "3      95.710939  \n",
       "4      95.654602  \n",
       "5      95.600974  \n",
       "6      95.550284  \n",
       "7      95.502782  \n",
       "8      95.458739  \n",
       "9      95.418450  \n",
       "10     95.382234  \n",
       "11     95.350436  \n",
       "12     95.323432  \n",
       "13     95.301630  \n",
       "14     95.285471  \n",
       "15     95.275436  \n",
       "16     95.272045  \n",
       "17     95.275863  \n",
       "18     95.287503  \n",
       "19     95.307629  \n",
       "20     95.336962  \n",
       "21     95.376286  \n",
       "22     95.426450  \n",
       "23     95.488374  \n",
       "24     95.563059  \n",
       "25     95.651589  \n",
       "26     95.755141  \n",
       "27     95.874992  \n",
       "28     96.012528  \n",
       "29     96.169251  \n",
       "30     96.346792  \n",
       "31     96.546921  \n",
       "32     96.771559  \n",
       "33     97.022788  \n",
       "34     97.302868  \n",
       "35     97.614251  \n",
       "36     97.959600  \n",
       "37     98.341800  \n",
       "38     98.763984  \n",
       "39     99.229551  \n",
       "40     99.742188  \n",
       "41    100.305896  \n",
       "42    100.925016  \n",
       "43    101.604258  \n",
       "44    102.348734  \n",
       "45    103.163986  \n",
       "46    104.056032  \n",
       "47    105.031399  \n",
       "48    106.097169  \n",
       "49    107.261026  "
      ]
     },
     "execution_count": 114,
     "metadata": {},
     "output_type": "execute_result"
    }
   ],
   "source": [
    "df_times_medium = pd.DataFrame(columns=['Lap', 'Tyre', 'LapTimeSeconds', 'DeltaDeg', 'FuelDeg', 'AdjustedTime'])\n",
    "\n",
    "df_times_medium['Lap'] = list(range(1, nb_laps + 1))\n",
    "df_times_medium['Tyre'] = 'MEDIUM'\n",
    "df_times_medium['LapTimeSeconds'] = laptime_min_calc_medium\n",
    "df_times_medium['DeltaDeg'] = list_times_medium\n",
    "df_times_medium['FuelDeg'] = time_gained_per_lap * df_times_medium['Lap']\n",
    "df_times_medium['AdjustedTime'] = df_times_medium.apply(lambda row: row['LapTimeSeconds'] + row['DeltaDeg'], axis=1)\n",
    "df_times_medium['FinalLapTime'] = df_times_medium.apply(lambda row: row['AdjustedTime'] - row['FuelDeg'], axis=1)\n",
    "\n",
    "\n",
    "df_times_medium"
   ]
  },
  {
   "cell_type": "code",
   "execution_count": 115,
   "metadata": {},
   "outputs": [
    {
     "data": {
      "text/html": [
       "<div>\n",
       "<style scoped>\n",
       "    .dataframe tbody tr th:only-of-type {\n",
       "        vertical-align: middle;\n",
       "    }\n",
       "\n",
       "    .dataframe tbody tr th {\n",
       "        vertical-align: top;\n",
       "    }\n",
       "\n",
       "    .dataframe thead th {\n",
       "        text-align: right;\n",
       "    }\n",
       "</style>\n",
       "<table border=\"1\" class=\"dataframe\">\n",
       "  <thead>\n",
       "    <tr style=\"text-align: right;\">\n",
       "      <th></th>\n",
       "      <th>Lap</th>\n",
       "      <th>Tyre</th>\n",
       "      <th>LapTimeSeconds</th>\n",
       "      <th>DeltaDeg</th>\n",
       "      <th>FuelDeg</th>\n",
       "      <th>AdjustedTime</th>\n",
       "      <th>FinalLapTime</th>\n",
       "    </tr>\n",
       "  </thead>\n",
       "  <tbody>\n",
       "    <tr>\n",
       "      <th>0</th>\n",
       "      <td>1</td>\n",
       "      <td>HARD</td>\n",
       "      <td>95.98898</td>\n",
       "      <td>0.288070</td>\n",
       "      <td>0.0882</td>\n",
       "      <td>96.277050</td>\n",
       "      <td>96.188850</td>\n",
       "    </tr>\n",
       "    <tr>\n",
       "      <th>1</th>\n",
       "      <td>2</td>\n",
       "      <td>HARD</td>\n",
       "      <td>95.98898</td>\n",
       "      <td>0.306794</td>\n",
       "      <td>0.1764</td>\n",
       "      <td>96.295775</td>\n",
       "      <td>96.119375</td>\n",
       "    </tr>\n",
       "    <tr>\n",
       "      <th>2</th>\n",
       "      <td>3</td>\n",
       "      <td>HARD</td>\n",
       "      <td>95.98898</td>\n",
       "      <td>0.326736</td>\n",
       "      <td>0.2646</td>\n",
       "      <td>96.315716</td>\n",
       "      <td>96.051116</td>\n",
       "    </tr>\n",
       "    <tr>\n",
       "      <th>3</th>\n",
       "      <td>4</td>\n",
       "      <td>HARD</td>\n",
       "      <td>95.98898</td>\n",
       "      <td>0.347974</td>\n",
       "      <td>0.3528</td>\n",
       "      <td>96.336954</td>\n",
       "      <td>95.984154</td>\n",
       "    </tr>\n",
       "    <tr>\n",
       "      <th>4</th>\n",
       "      <td>5</td>\n",
       "      <td>HARD</td>\n",
       "      <td>95.98898</td>\n",
       "      <td>0.370592</td>\n",
       "      <td>0.4410</td>\n",
       "      <td>96.359572</td>\n",
       "      <td>95.918572</td>\n",
       "    </tr>\n",
       "    <tr>\n",
       "      <th>5</th>\n",
       "      <td>6</td>\n",
       "      <td>HARD</td>\n",
       "      <td>95.98898</td>\n",
       "      <td>0.394681</td>\n",
       "      <td>0.5292</td>\n",
       "      <td>96.383661</td>\n",
       "      <td>95.854461</td>\n",
       "    </tr>\n",
       "    <tr>\n",
       "      <th>6</th>\n",
       "      <td>7</td>\n",
       "      <td>HARD</td>\n",
       "      <td>95.98898</td>\n",
       "      <td>0.420335</td>\n",
       "      <td>0.6174</td>\n",
       "      <td>96.409315</td>\n",
       "      <td>95.791915</td>\n",
       "    </tr>\n",
       "    <tr>\n",
       "      <th>7</th>\n",
       "      <td>8</td>\n",
       "      <td>HARD</td>\n",
       "      <td>95.98898</td>\n",
       "      <td>0.447657</td>\n",
       "      <td>0.7056</td>\n",
       "      <td>96.436637</td>\n",
       "      <td>95.731037</td>\n",
       "    </tr>\n",
       "    <tr>\n",
       "      <th>8</th>\n",
       "      <td>9</td>\n",
       "      <td>HARD</td>\n",
       "      <td>95.98898</td>\n",
       "      <td>0.476754</td>\n",
       "      <td>0.7938</td>\n",
       "      <td>96.465735</td>\n",
       "      <td>95.671935</td>\n",
       "    </tr>\n",
       "    <tr>\n",
       "      <th>9</th>\n",
       "      <td>10</td>\n",
       "      <td>HARD</td>\n",
       "      <td>95.98898</td>\n",
       "      <td>0.507743</td>\n",
       "      <td>0.8820</td>\n",
       "      <td>96.496724</td>\n",
       "      <td>95.614724</td>\n",
       "    </tr>\n",
       "    <tr>\n",
       "      <th>10</th>\n",
       "      <td>11</td>\n",
       "      <td>HARD</td>\n",
       "      <td>95.98898</td>\n",
       "      <td>0.540747</td>\n",
       "      <td>0.9702</td>\n",
       "      <td>96.529727</td>\n",
       "      <td>95.559527</td>\n",
       "    </tr>\n",
       "    <tr>\n",
       "      <th>11</th>\n",
       "      <td>12</td>\n",
       "      <td>HARD</td>\n",
       "      <td>95.98898</td>\n",
       "      <td>0.575895</td>\n",
       "      <td>1.0584</td>\n",
       "      <td>96.564875</td>\n",
       "      <td>95.506475</td>\n",
       "    </tr>\n",
       "    <tr>\n",
       "      <th>12</th>\n",
       "      <td>13</td>\n",
       "      <td>HARD</td>\n",
       "      <td>95.98898</td>\n",
       "      <td>0.613328</td>\n",
       "      <td>1.1466</td>\n",
       "      <td>96.602309</td>\n",
       "      <td>95.455709</td>\n",
       "    </tr>\n",
       "    <tr>\n",
       "      <th>13</th>\n",
       "      <td>14</td>\n",
       "      <td>HARD</td>\n",
       "      <td>95.98898</td>\n",
       "      <td>0.653195</td>\n",
       "      <td>1.2348</td>\n",
       "      <td>96.642175</td>\n",
       "      <td>95.407375</td>\n",
       "    </tr>\n",
       "    <tr>\n",
       "      <th>14</th>\n",
       "      <td>15</td>\n",
       "      <td>HARD</td>\n",
       "      <td>95.98898</td>\n",
       "      <td>0.695652</td>\n",
       "      <td>1.3230</td>\n",
       "      <td>96.684633</td>\n",
       "      <td>95.361633</td>\n",
       "    </tr>\n",
       "    <tr>\n",
       "      <th>15</th>\n",
       "      <td>16</td>\n",
       "      <td>HARD</td>\n",
       "      <td>95.98898</td>\n",
       "      <td>0.740870</td>\n",
       "      <td>1.4112</td>\n",
       "      <td>96.729850</td>\n",
       "      <td>95.318650</td>\n",
       "    </tr>\n",
       "    <tr>\n",
       "      <th>16</th>\n",
       "      <td>17</td>\n",
       "      <td>HARD</td>\n",
       "      <td>95.98898</td>\n",
       "      <td>0.789026</td>\n",
       "      <td>1.4994</td>\n",
       "      <td>96.778007</td>\n",
       "      <td>95.278607</td>\n",
       "    </tr>\n",
       "    <tr>\n",
       "      <th>17</th>\n",
       "      <td>18</td>\n",
       "      <td>HARD</td>\n",
       "      <td>95.98898</td>\n",
       "      <td>0.840313</td>\n",
       "      <td>1.5876</td>\n",
       "      <td>96.829293</td>\n",
       "      <td>95.241693</td>\n",
       "    </tr>\n",
       "    <tr>\n",
       "      <th>18</th>\n",
       "      <td>19</td>\n",
       "      <td>HARD</td>\n",
       "      <td>95.98898</td>\n",
       "      <td>0.894933</td>\n",
       "      <td>1.6758</td>\n",
       "      <td>96.883914</td>\n",
       "      <td>95.208114</td>\n",
       "    </tr>\n",
       "    <tr>\n",
       "      <th>19</th>\n",
       "      <td>20</td>\n",
       "      <td>HARD</td>\n",
       "      <td>95.98898</td>\n",
       "      <td>0.953104</td>\n",
       "      <td>1.7640</td>\n",
       "      <td>96.942084</td>\n",
       "      <td>95.178084</td>\n",
       "    </tr>\n",
       "    <tr>\n",
       "      <th>20</th>\n",
       "      <td>21</td>\n",
       "      <td>HARD</td>\n",
       "      <td>95.98898</td>\n",
       "      <td>1.015056</td>\n",
       "      <td>1.8522</td>\n",
       "      <td>97.004036</td>\n",
       "      <td>95.151836</td>\n",
       "    </tr>\n",
       "    <tr>\n",
       "      <th>21</th>\n",
       "      <td>22</td>\n",
       "      <td>HARD</td>\n",
       "      <td>95.98898</td>\n",
       "      <td>1.081034</td>\n",
       "      <td>1.9404</td>\n",
       "      <td>97.070015</td>\n",
       "      <td>95.129615</td>\n",
       "    </tr>\n",
       "    <tr>\n",
       "      <th>22</th>\n",
       "      <td>23</td>\n",
       "      <td>HARD</td>\n",
       "      <td>95.98898</td>\n",
       "      <td>1.151302</td>\n",
       "      <td>2.0286</td>\n",
       "      <td>97.140282</td>\n",
       "      <td>95.111682</td>\n",
       "    </tr>\n",
       "    <tr>\n",
       "      <th>23</th>\n",
       "      <td>24</td>\n",
       "      <td>HARD</td>\n",
       "      <td>95.98898</td>\n",
       "      <td>1.226136</td>\n",
       "      <td>2.1168</td>\n",
       "      <td>97.215117</td>\n",
       "      <td>95.098317</td>\n",
       "    </tr>\n",
       "    <tr>\n",
       "      <th>24</th>\n",
       "      <td>25</td>\n",
       "      <td>HARD</td>\n",
       "      <td>95.98898</td>\n",
       "      <td>1.305835</td>\n",
       "      <td>2.2050</td>\n",
       "      <td>97.294815</td>\n",
       "      <td>95.089815</td>\n",
       "    </tr>\n",
       "    <tr>\n",
       "      <th>25</th>\n",
       "      <td>26</td>\n",
       "      <td>HARD</td>\n",
       "      <td>95.98898</td>\n",
       "      <td>1.390714</td>\n",
       "      <td>2.2932</td>\n",
       "      <td>97.379695</td>\n",
       "      <td>95.086495</td>\n",
       "    </tr>\n",
       "    <tr>\n",
       "      <th>26</th>\n",
       "      <td>27</td>\n",
       "      <td>HARD</td>\n",
       "      <td>95.98898</td>\n",
       "      <td>1.481111</td>\n",
       "      <td>2.3814</td>\n",
       "      <td>97.470091</td>\n",
       "      <td>95.088691</td>\n",
       "    </tr>\n",
       "    <tr>\n",
       "      <th>27</th>\n",
       "      <td>28</td>\n",
       "      <td>HARD</td>\n",
       "      <td>95.98898</td>\n",
       "      <td>1.577383</td>\n",
       "      <td>2.4696</td>\n",
       "      <td>97.566363</td>\n",
       "      <td>95.096763</td>\n",
       "    </tr>\n",
       "    <tr>\n",
       "      <th>28</th>\n",
       "      <td>29</td>\n",
       "      <td>HARD</td>\n",
       "      <td>95.98898</td>\n",
       "      <td>1.679913</td>\n",
       "      <td>2.5578</td>\n",
       "      <td>97.668893</td>\n",
       "      <td>95.111093</td>\n",
       "    </tr>\n",
       "    <tr>\n",
       "      <th>29</th>\n",
       "      <td>30</td>\n",
       "      <td>HARD</td>\n",
       "      <td>95.98898</td>\n",
       "      <td>1.789107</td>\n",
       "      <td>2.6460</td>\n",
       "      <td>97.778088</td>\n",
       "      <td>95.132088</td>\n",
       "    </tr>\n",
       "    <tr>\n",
       "      <th>30</th>\n",
       "      <td>31</td>\n",
       "      <td>HARD</td>\n",
       "      <td>95.98898</td>\n",
       "      <td>1.905399</td>\n",
       "      <td>2.7342</td>\n",
       "      <td>97.894380</td>\n",
       "      <td>95.160180</td>\n",
       "    </tr>\n",
       "    <tr>\n",
       "      <th>31</th>\n",
       "      <td>32</td>\n",
       "      <td>HARD</td>\n",
       "      <td>95.98898</td>\n",
       "      <td>2.029250</td>\n",
       "      <td>2.8224</td>\n",
       "      <td>98.018230</td>\n",
       "      <td>95.195830</td>\n",
       "    </tr>\n",
       "    <tr>\n",
       "      <th>32</th>\n",
       "      <td>33</td>\n",
       "      <td>HARD</td>\n",
       "      <td>95.98898</td>\n",
       "      <td>2.161151</td>\n",
       "      <td>2.9106</td>\n",
       "      <td>98.150132</td>\n",
       "      <td>95.239532</td>\n",
       "    </tr>\n",
       "    <tr>\n",
       "      <th>33</th>\n",
       "      <td>34</td>\n",
       "      <td>HARD</td>\n",
       "      <td>95.98898</td>\n",
       "      <td>2.301626</td>\n",
       "      <td>2.9988</td>\n",
       "      <td>98.290607</td>\n",
       "      <td>95.291807</td>\n",
       "    </tr>\n",
       "    <tr>\n",
       "      <th>34</th>\n",
       "      <td>35</td>\n",
       "      <td>HARD</td>\n",
       "      <td>95.98898</td>\n",
       "      <td>2.451232</td>\n",
       "      <td>3.0870</td>\n",
       "      <td>98.440212</td>\n",
       "      <td>95.353212</td>\n",
       "    </tr>\n",
       "    <tr>\n",
       "      <th>35</th>\n",
       "      <td>36</td>\n",
       "      <td>HARD</td>\n",
       "      <td>95.98898</td>\n",
       "      <td>2.610562</td>\n",
       "      <td>3.1752</td>\n",
       "      <td>98.599542</td>\n",
       "      <td>95.424342</td>\n",
       "    </tr>\n",
       "    <tr>\n",
       "      <th>36</th>\n",
       "      <td>37</td>\n",
       "      <td>HARD</td>\n",
       "      <td>95.98898</td>\n",
       "      <td>2.780249</td>\n",
       "      <td>3.2634</td>\n",
       "      <td>98.769229</td>\n",
       "      <td>95.505829</td>\n",
       "    </tr>\n",
       "    <tr>\n",
       "      <th>37</th>\n",
       "      <td>38</td>\n",
       "      <td>HARD</td>\n",
       "      <td>95.98898</td>\n",
       "      <td>2.960965</td>\n",
       "      <td>3.3516</td>\n",
       "      <td>98.949945</td>\n",
       "      <td>95.598345</td>\n",
       "    </tr>\n",
       "    <tr>\n",
       "      <th>38</th>\n",
       "      <td>39</td>\n",
       "      <td>HARD</td>\n",
       "      <td>95.98898</td>\n",
       "      <td>3.153428</td>\n",
       "      <td>3.4398</td>\n",
       "      <td>99.142408</td>\n",
       "      <td>95.702608</td>\n",
       "    </tr>\n",
       "    <tr>\n",
       "      <th>39</th>\n",
       "      <td>40</td>\n",
       "      <td>HARD</td>\n",
       "      <td>95.98898</td>\n",
       "      <td>3.358400</td>\n",
       "      <td>3.5280</td>\n",
       "      <td>99.347381</td>\n",
       "      <td>95.819381</td>\n",
       "    </tr>\n",
       "    <tr>\n",
       "      <th>40</th>\n",
       "      <td>41</td>\n",
       "      <td>HARD</td>\n",
       "      <td>95.98898</td>\n",
       "      <td>3.576696</td>\n",
       "      <td>3.6162</td>\n",
       "      <td>99.565677</td>\n",
       "      <td>95.949477</td>\n",
       "    </tr>\n",
       "    <tr>\n",
       "      <th>41</th>\n",
       "      <td>42</td>\n",
       "      <td>HARD</td>\n",
       "      <td>95.98898</td>\n",
       "      <td>3.809182</td>\n",
       "      <td>3.7044</td>\n",
       "      <td>99.798162</td>\n",
       "      <td>96.093762</td>\n",
       "    </tr>\n",
       "    <tr>\n",
       "      <th>42</th>\n",
       "      <td>43</td>\n",
       "      <td>HARD</td>\n",
       "      <td>95.98898</td>\n",
       "      <td>4.056778</td>\n",
       "      <td>3.7926</td>\n",
       "      <td>100.045759</td>\n",
       "      <td>96.253159</td>\n",
       "    </tr>\n",
       "    <tr>\n",
       "      <th>43</th>\n",
       "      <td>44</td>\n",
       "      <td>HARD</td>\n",
       "      <td>95.98898</td>\n",
       "      <td>4.320469</td>\n",
       "      <td>3.8808</td>\n",
       "      <td>100.309449</td>\n",
       "      <td>96.428649</td>\n",
       "    </tr>\n",
       "    <tr>\n",
       "      <th>44</th>\n",
       "      <td>45</td>\n",
       "      <td>HARD</td>\n",
       "      <td>95.98898</td>\n",
       "      <td>4.601300</td>\n",
       "      <td>3.9690</td>\n",
       "      <td>100.590280</td>\n",
       "      <td>96.621280</td>\n",
       "    </tr>\n",
       "    <tr>\n",
       "      <th>45</th>\n",
       "      <td>46</td>\n",
       "      <td>HARD</td>\n",
       "      <td>95.98898</td>\n",
       "      <td>4.900384</td>\n",
       "      <td>4.0572</td>\n",
       "      <td>100.889364</td>\n",
       "      <td>96.832164</td>\n",
       "    </tr>\n",
       "    <tr>\n",
       "      <th>46</th>\n",
       "      <td>47</td>\n",
       "      <td>HARD</td>\n",
       "      <td>95.98898</td>\n",
       "      <td>5.218909</td>\n",
       "      <td>4.1454</td>\n",
       "      <td>101.207889</td>\n",
       "      <td>97.062489</td>\n",
       "    </tr>\n",
       "    <tr>\n",
       "      <th>47</th>\n",
       "      <td>48</td>\n",
       "      <td>HARD</td>\n",
       "      <td>95.98898</td>\n",
       "      <td>5.558138</td>\n",
       "      <td>4.2336</td>\n",
       "      <td>101.547118</td>\n",
       "      <td>97.313518</td>\n",
       "    </tr>\n",
       "    <tr>\n",
       "      <th>48</th>\n",
       "      <td>49</td>\n",
       "      <td>HARD</td>\n",
       "      <td>95.98898</td>\n",
       "      <td>5.919417</td>\n",
       "      <td>4.3218</td>\n",
       "      <td>101.908397</td>\n",
       "      <td>97.586597</td>\n",
       "    </tr>\n",
       "    <tr>\n",
       "      <th>49</th>\n",
       "      <td>50</td>\n",
       "      <td>HARD</td>\n",
       "      <td>95.98898</td>\n",
       "      <td>6.304179</td>\n",
       "      <td>4.4100</td>\n",
       "      <td>102.293159</td>\n",
       "      <td>97.883159</td>\n",
       "    </tr>\n",
       "  </tbody>\n",
       "</table>\n",
       "</div>"
      ],
      "text/plain": [
       "    Lap  Tyre  LapTimeSeconds  DeltaDeg  FuelDeg  AdjustedTime  FinalLapTime\n",
       "0     1  HARD        95.98898  0.288070   0.0882     96.277050     96.188850\n",
       "1     2  HARD        95.98898  0.306794   0.1764     96.295775     96.119375\n",
       "2     3  HARD        95.98898  0.326736   0.2646     96.315716     96.051116\n",
       "3     4  HARD        95.98898  0.347974   0.3528     96.336954     95.984154\n",
       "4     5  HARD        95.98898  0.370592   0.4410     96.359572     95.918572\n",
       "5     6  HARD        95.98898  0.394681   0.5292     96.383661     95.854461\n",
       "6     7  HARD        95.98898  0.420335   0.6174     96.409315     95.791915\n",
       "7     8  HARD        95.98898  0.447657   0.7056     96.436637     95.731037\n",
       "8     9  HARD        95.98898  0.476754   0.7938     96.465735     95.671935\n",
       "9    10  HARD        95.98898  0.507743   0.8820     96.496724     95.614724\n",
       "10   11  HARD        95.98898  0.540747   0.9702     96.529727     95.559527\n",
       "11   12  HARD        95.98898  0.575895   1.0584     96.564875     95.506475\n",
       "12   13  HARD        95.98898  0.613328   1.1466     96.602309     95.455709\n",
       "13   14  HARD        95.98898  0.653195   1.2348     96.642175     95.407375\n",
       "14   15  HARD        95.98898  0.695652   1.3230     96.684633     95.361633\n",
       "15   16  HARD        95.98898  0.740870   1.4112     96.729850     95.318650\n",
       "16   17  HARD        95.98898  0.789026   1.4994     96.778007     95.278607\n",
       "17   18  HARD        95.98898  0.840313   1.5876     96.829293     95.241693\n",
       "18   19  HARD        95.98898  0.894933   1.6758     96.883914     95.208114\n",
       "19   20  HARD        95.98898  0.953104   1.7640     96.942084     95.178084\n",
       "20   21  HARD        95.98898  1.015056   1.8522     97.004036     95.151836\n",
       "21   22  HARD        95.98898  1.081034   1.9404     97.070015     95.129615\n",
       "22   23  HARD        95.98898  1.151302   2.0286     97.140282     95.111682\n",
       "23   24  HARD        95.98898  1.226136   2.1168     97.215117     95.098317\n",
       "24   25  HARD        95.98898  1.305835   2.2050     97.294815     95.089815\n",
       "25   26  HARD        95.98898  1.390714   2.2932     97.379695     95.086495\n",
       "26   27  HARD        95.98898  1.481111   2.3814     97.470091     95.088691\n",
       "27   28  HARD        95.98898  1.577383   2.4696     97.566363     95.096763\n",
       "28   29  HARD        95.98898  1.679913   2.5578     97.668893     95.111093\n",
       "29   30  HARD        95.98898  1.789107   2.6460     97.778088     95.132088\n",
       "30   31  HARD        95.98898  1.905399   2.7342     97.894380     95.160180\n",
       "31   32  HARD        95.98898  2.029250   2.8224     98.018230     95.195830\n",
       "32   33  HARD        95.98898  2.161151   2.9106     98.150132     95.239532\n",
       "33   34  HARD        95.98898  2.301626   2.9988     98.290607     95.291807\n",
       "34   35  HARD        95.98898  2.451232   3.0870     98.440212     95.353212\n",
       "35   36  HARD        95.98898  2.610562   3.1752     98.599542     95.424342\n",
       "36   37  HARD        95.98898  2.780249   3.2634     98.769229     95.505829\n",
       "37   38  HARD        95.98898  2.960965   3.3516     98.949945     95.598345\n",
       "38   39  HARD        95.98898  3.153428   3.4398     99.142408     95.702608\n",
       "39   40  HARD        95.98898  3.358400   3.5280     99.347381     95.819381\n",
       "40   41  HARD        95.98898  3.576696   3.6162     99.565677     95.949477\n",
       "41   42  HARD        95.98898  3.809182   3.7044     99.798162     96.093762\n",
       "42   43  HARD        95.98898  4.056778   3.7926    100.045759     96.253159\n",
       "43   44  HARD        95.98898  4.320469   3.8808    100.309449     96.428649\n",
       "44   45  HARD        95.98898  4.601300   3.9690    100.590280     96.621280\n",
       "45   46  HARD        95.98898  4.900384   4.0572    100.889364     96.832164\n",
       "46   47  HARD        95.98898  5.218909   4.1454    101.207889     97.062489\n",
       "47   48  HARD        95.98898  5.558138   4.2336    101.547118     97.313518\n",
       "48   49  HARD        95.98898  5.919417   4.3218    101.908397     97.586597\n",
       "49   50  HARD        95.98898  6.304179   4.4100    102.293159     97.883159"
      ]
     },
     "execution_count": 115,
     "metadata": {},
     "output_type": "execute_result"
    }
   ],
   "source": [
    "df_times_hard = pd.DataFrame(columns=['Lap', 'Tyre', 'LapTimeSeconds', 'DeltaDeg', 'FuelDeg', 'AdjustedTime'])\n",
    "\n",
    "df_times_hard['Lap'] = list(range(1, nb_laps + 1))\n",
    "df_times_hard['Tyre'] = 'HARD'\n",
    "df_times_hard['LapTimeSeconds'] = laptime_min_calc_hard\n",
    "df_times_hard['DeltaDeg'] = list_times_hard\n",
    "df_times_hard['FuelDeg'] = time_gained_per_lap * df_times_hard['Lap']\n",
    "df_times_hard['AdjustedTime'] = df_times_hard.apply(lambda row: row['LapTimeSeconds'] + row['DeltaDeg'], axis=1)\n",
    "df_times_hard['FinalLapTime'] = df_times_hard.apply(lambda row: row['AdjustedTime'] - row['FuelDeg'], axis=1)\n",
    "\n",
    "\n",
    "df_times_hard"
   ]
  },
  {
   "cell_type": "code",
   "execution_count": 116,
   "metadata": {},
   "outputs": [
    {
     "data": {
      "text/html": [
       "<div>\n",
       "<style scoped>\n",
       "    .dataframe tbody tr th:only-of-type {\n",
       "        vertical-align: middle;\n",
       "    }\n",
       "\n",
       "    .dataframe tbody tr th {\n",
       "        vertical-align: top;\n",
       "    }\n",
       "\n",
       "    .dataframe thead th {\n",
       "        text-align: right;\n",
       "    }\n",
       "</style>\n",
       "<table border=\"1\" class=\"dataframe\">\n",
       "  <thead>\n",
       "    <tr style=\"text-align: right;\">\n",
       "      <th></th>\n",
       "      <th>Lap</th>\n",
       "      <th>Tyre</th>\n",
       "      <th>LapTimeSeconds</th>\n",
       "      <th>DeltaDeg</th>\n",
       "      <th>FuelDeg</th>\n",
       "      <th>AdjustedTime</th>\n",
       "      <th>FinalLapTime</th>\n",
       "      <th>TimeStr</th>\n",
       "    </tr>\n",
       "  </thead>\n",
       "  <tbody>\n",
       "    <tr>\n",
       "      <th>0</th>\n",
       "      <td>1</td>\n",
       "      <td>SOFT</td>\n",
       "      <td>94.563876</td>\n",
       "      <td>0.397626</td>\n",
       "      <td>0.0882</td>\n",
       "      <td>94.961503</td>\n",
       "      <td>94.873303</td>\n",
       "      <td>01:34.873</td>\n",
       "    </tr>\n",
       "    <tr>\n",
       "      <th>1</th>\n",
       "      <td>2</td>\n",
       "      <td>SOFT</td>\n",
       "      <td>94.563876</td>\n",
       "      <td>0.449318</td>\n",
       "      <td>0.1764</td>\n",
       "      <td>95.013194</td>\n",
       "      <td>94.836794</td>\n",
       "      <td>01:34.836</td>\n",
       "    </tr>\n",
       "    <tr>\n",
       "      <th>2</th>\n",
       "      <td>3</td>\n",
       "      <td>SOFT</td>\n",
       "      <td>94.563876</td>\n",
       "      <td>0.507729</td>\n",
       "      <td>0.2646</td>\n",
       "      <td>95.071606</td>\n",
       "      <td>94.807006</td>\n",
       "      <td>01:34.807</td>\n",
       "    </tr>\n",
       "    <tr>\n",
       "      <th>3</th>\n",
       "      <td>4</td>\n",
       "      <td>SOFT</td>\n",
       "      <td>94.563876</td>\n",
       "      <td>0.573734</td>\n",
       "      <td>0.3528</td>\n",
       "      <td>95.137610</td>\n",
       "      <td>94.784810</td>\n",
       "      <td>01:34.784</td>\n",
       "    </tr>\n",
       "    <tr>\n",
       "      <th>4</th>\n",
       "      <td>5</td>\n",
       "      <td>SOFT</td>\n",
       "      <td>94.563876</td>\n",
       "      <td>0.648319</td>\n",
       "      <td>0.4410</td>\n",
       "      <td>95.212196</td>\n",
       "      <td>94.771196</td>\n",
       "      <td>01:34.771</td>\n",
       "    </tr>\n",
       "    <tr>\n",
       "      <th>...</th>\n",
       "      <td>...</td>\n",
       "      <td>...</td>\n",
       "      <td>...</td>\n",
       "      <td>...</td>\n",
       "      <td>...</td>\n",
       "      <td>...</td>\n",
       "      <td>...</td>\n",
       "      <td>...</td>\n",
       "    </tr>\n",
       "    <tr>\n",
       "      <th>45</th>\n",
       "      <td>46</td>\n",
       "      <td>HARD</td>\n",
       "      <td>95.988980</td>\n",
       "      <td>4.900384</td>\n",
       "      <td>4.0572</td>\n",
       "      <td>100.889364</td>\n",
       "      <td>96.832164</td>\n",
       "      <td>01:36.832</td>\n",
       "    </tr>\n",
       "    <tr>\n",
       "      <th>46</th>\n",
       "      <td>47</td>\n",
       "      <td>HARD</td>\n",
       "      <td>95.988980</td>\n",
       "      <td>5.218909</td>\n",
       "      <td>4.1454</td>\n",
       "      <td>101.207889</td>\n",
       "      <td>97.062489</td>\n",
       "      <td>01:37.062</td>\n",
       "    </tr>\n",
       "    <tr>\n",
       "      <th>47</th>\n",
       "      <td>48</td>\n",
       "      <td>HARD</td>\n",
       "      <td>95.988980</td>\n",
       "      <td>5.558138</td>\n",
       "      <td>4.2336</td>\n",
       "      <td>101.547118</td>\n",
       "      <td>97.313518</td>\n",
       "      <td>01:37.313</td>\n",
       "    </tr>\n",
       "    <tr>\n",
       "      <th>48</th>\n",
       "      <td>49</td>\n",
       "      <td>HARD</td>\n",
       "      <td>95.988980</td>\n",
       "      <td>5.919417</td>\n",
       "      <td>4.3218</td>\n",
       "      <td>101.908397</td>\n",
       "      <td>97.586597</td>\n",
       "      <td>01:37.586</td>\n",
       "    </tr>\n",
       "    <tr>\n",
       "      <th>49</th>\n",
       "      <td>50</td>\n",
       "      <td>HARD</td>\n",
       "      <td>95.988980</td>\n",
       "      <td>6.304179</td>\n",
       "      <td>4.4100</td>\n",
       "      <td>102.293159</td>\n",
       "      <td>97.883159</td>\n",
       "      <td>01:37.883</td>\n",
       "    </tr>\n",
       "  </tbody>\n",
       "</table>\n",
       "<p>150 rows × 8 columns</p>\n",
       "</div>"
      ],
      "text/plain": [
       "    Lap  Tyre  LapTimeSeconds  DeltaDeg  FuelDeg  AdjustedTime  FinalLapTime  \\\n",
       "0     1  SOFT       94.563876  0.397626   0.0882     94.961503     94.873303   \n",
       "1     2  SOFT       94.563876  0.449318   0.1764     95.013194     94.836794   \n",
       "2     3  SOFT       94.563876  0.507729   0.2646     95.071606     94.807006   \n",
       "3     4  SOFT       94.563876  0.573734   0.3528     95.137610     94.784810   \n",
       "4     5  SOFT       94.563876  0.648319   0.4410     95.212196     94.771196   \n",
       "..  ...   ...             ...       ...      ...           ...           ...   \n",
       "45   46  HARD       95.988980  4.900384   4.0572    100.889364     96.832164   \n",
       "46   47  HARD       95.988980  5.218909   4.1454    101.207889     97.062489   \n",
       "47   48  HARD       95.988980  5.558138   4.2336    101.547118     97.313518   \n",
       "48   49  HARD       95.988980  5.919417   4.3218    101.908397     97.586597   \n",
       "49   50  HARD       95.988980  6.304179   4.4100    102.293159     97.883159   \n",
       "\n",
       "      TimeStr  \n",
       "0   01:34.873  \n",
       "1   01:34.836  \n",
       "2   01:34.807  \n",
       "3   01:34.784  \n",
       "4   01:34.771  \n",
       "..        ...  \n",
       "45  01:36.832  \n",
       "46  01:37.062  \n",
       "47  01:37.313  \n",
       "48  01:37.586  \n",
       "49  01:37.883  \n",
       "\n",
       "[150 rows x 8 columns]"
      ]
     },
     "execution_count": 116,
     "metadata": {},
     "output_type": "execute_result"
    }
   ],
   "source": [
    "df_times = pd.concat([df_times_soft, df_times_medium, df_times_hard])\n",
    "df_times['TimeStr'] = df_times['FinalLapTime'].apply(lambda x: str(datetime.timedelta(seconds=x))[2:-3])\n",
    "df_times"
   ]
  },
  {
   "cell_type": "code",
   "execution_count": 143,
   "metadata": {},
   "outputs": [
    {
     "data": {
      "application/vnd.plotly.v1+json": {
       "config": {
        "plotlyServerURL": "https://plot.ly"
       },
       "data": [
        {
         "customdata": [
          "01:34.873",
          "01:34.836",
          "01:34.807",
          "01:34.784",
          "01:34.771",
          "01:34.767",
          "01:34.774",
          "01:34.793",
          "01:34.827",
          "01:34.876",
          "01:34.943",
          "01:35.030",
          "01:35.140",
          "01:35.276",
          "01:35.441",
          "01:35.639",
          "01:35.874",
          "01:36.151",
          "01:36.476",
          "01:36.854",
          "01:37.293",
          "01:37.801",
          "01:38.385",
          "01:39.058",
          "01:39.829",
          "01:40.712",
          "01:41.721",
          "01:42.873",
          "01:44.186",
          "01:45.682",
          "01:47.383",
          "01:49.316",
          "01:51.513",
          "01:54.007",
          "01:56.836",
          "02:00.045",
          "02:03.682",
          "02:07.803",
          "02:12.472",
          "02:17.759",
          "02:23.745",
          "02:30.520",
          "02:38.188",
          "02:46.864",
          "02:56.679",
          "03:07.782",
          "03:20.340",
          "03:34.541",
          "03:50.601",
          "04:08.759"
         ],
         "hovertemplate": "<b>Lap:</b> %{x}<br><b>Time:</b> %{customdata}",
         "line": {
          "color": "#FF3333"
         },
         "mode": "lines",
         "name": "Soft",
         "type": "scatter",
         "x": [
          1,
          2,
          3,
          4,
          5,
          6,
          7,
          8,
          9,
          10,
          11,
          12,
          13,
          14,
          15,
          16,
          17,
          18,
          19,
          20,
          21,
          22,
          23,
          24,
          25,
          26,
          27,
          28,
          29,
          30,
          31,
          32,
          33,
          34,
          35,
          36,
          37,
          38,
          39,
          40,
          41,
          42,
          43,
          44,
          45,
          46,
          47,
          48,
          49,
          50
         ],
         "y": [
          94.87330273913044,
          94.83679417822134,
          94.80700550439407,
          94.78481030296925,
          94.7711957253592,
          94.76727725265985,
          94.77431537850958,
          94.79373446071979,
          94.82714402361731,
          94.87636282969152,
          94.94344608055536,
          95.03071615403151,
          95.14079733705957,
          95.27665507388126,
          95.44164031648978,
          95.63953964063741,
          95.87463187692423,
          96.15175210392833,
          96.47636396044297,
          96.8546413583045,
          97.29356081788804,
          97.80100580721744,
          98.38588464515965,
          99.05826373203435,
          99.82951810020278,
          100.71250153623308,
          101.72173881894733,
          102.87364294841444,
          104.18676061471227,
          105.68204957762882,
          107.3831921057245,
          109.31694916247265,
          111.51356063659804,
          114.00719760235974,
          116.83647337367044,
          120.04502099525156,
          123.68214580763821,
          127.80356284563514,
          132.47223009857166,
          137.7592900943899,
          143.74513388966457,
          150.52060337832492,
          158.18834990051107,
          166.86436947058147,
          176.679737584761,
          187.78256955378387,
          200.34023567877972,
          214.54186440002502,
          230.60117085503222,
          248.75965314919034
         ]
        },
        {
         "customdata": [
          "01:35.894",
          "01:35.830",
          "01:35.769",
          "01:35.710",
          "01:35.654",
          "01:35.600",
          "01:35.550",
          "01:35.502",
          "01:35.458",
          "01:35.418",
          "01:35.382",
          "01:35.350",
          "01:35.323",
          "01:35.301",
          "01:35.285",
          "01:35.275",
          "01:35.272",
          "01:35.275",
          "01:35.287",
          "01:35.307",
          "01:35.336",
          "01:35.376",
          "01:35.426",
          "01:35.488",
          "01:35.563",
          "01:35.651",
          "01:35.755",
          "01:35.874",
          "01:36.012",
          "01:36.169",
          "01:36.346",
          "01:36.546",
          "01:36.771",
          "01:37.022",
          "01:37.302",
          "01:37.614",
          "01:37.959",
          "01:38.341",
          "01:38.763",
          "01:39.229",
          "01:39.742",
          "01:40.305",
          "01:40.925",
          "01:41.604",
          "01:42.348",
          "01:43.163",
          "01:44.056",
          "01:45.031",
          "01:46.097",
          "01:47.261"
         ],
         "hovertemplate": "<b>Lap:</b> %{x}<br><b>Time:</b> %{customdata}",
         "line": {
          "color": "#FFF200"
         },
         "mode": "lines",
         "name": "Medium",
         "type": "scatter",
         "x": [
          1,
          2,
          3,
          4,
          5,
          6,
          7,
          8,
          9,
          10,
          11,
          12,
          13,
          14,
          15,
          16,
          17,
          18,
          19,
          20,
          21,
          22,
          23,
          24,
          25,
          26,
          27,
          28,
          29,
          30,
          31,
          32,
          33,
          34,
          35,
          36,
          37,
          38,
          39,
          40,
          41,
          42,
          43,
          44,
          45,
          46,
          47,
          48,
          49,
          50
         ],
         "y": [
          95.89416075191832,
          95.83090651650166,
          95.76977267107456,
          95.71093944878618,
          95.65460240260329,
          95.60097370749483,
          95.55028357330217,
          95.50278177770313,
          95.45873932947818,
          95.4184502731541,
          95.38223364704247,
          95.35043560771136,
          95.3234317350371,
          95.30162953318553,
          95.2854711441766,
          95.27543629210187,
          95.27204547760081,
          95.27586344386715,
          95.28750293726614,
          95.30762878760405,
          95.33696233522066,
          95.3762862343847,
          95.42644966497767,
          95.48837398717104,
          95.56305887675086,
          95.65158898194495,
          95.75514114608055,
          95.87499224416767,
          96.0125276855922,
          96.16925063953781,
          96.3467920445688,
          96.54692146902742,
          96.77155889456503,
          97.02278750127333,
          97.30286753955184,
          97.61425138108403,
          97.95959984914644,
          98.34179993699416,
          98.76398403230895,
          99.22955077572549,
          99.74218769233242,
          100.30589574685096,
          100.92501598600357,
          101.60425844548416,
          102.3487335140206,
          103.16398596338261,
          104.05603187094042,
          105.03139868064062,
          106.09716866916536,
          107.26102610671468
         ]
        },
        {
         "customdata": [
          "01:36.188",
          "01:36.119",
          "01:36.051",
          "01:35.984",
          "01:35.918",
          "01:35.854",
          "01:35.791",
          "01:35.731",
          "01:35.671",
          "01:35.614",
          "01:35.559",
          "01:35.506",
          "01:35.455",
          "01:35.407",
          "01:35.361",
          "01:35.318",
          "01:35.278",
          "01:35.241",
          "01:35.208",
          "01:35.178",
          "01:35.151",
          "01:35.129",
          "01:35.111",
          "01:35.098",
          "01:35.089",
          "01:35.086",
          "01:35.088",
          "01:35.096",
          "01:35.111",
          "01:35.132",
          "01:35.160",
          "01:35.195",
          "01:35.239",
          "01:35.291",
          "01:35.353",
          "01:35.424",
          "01:35.505",
          "01:35.598",
          "01:35.702",
          "01:35.819",
          "01:35.949",
          "01:36.093",
          "01:36.253",
          "01:36.428",
          "01:36.621",
          "01:36.832",
          "01:37.062",
          "01:37.313",
          "01:37.586",
          "01:37.883"
         ],
         "hovertemplate": "<b>Lap:</b> %{x}<br><b>Time:</b> %{customdata}",
         "line": {
          "color": "#EBEBEB"
         },
         "mode": "lines",
         "name": "Hard",
         "type": "scatter",
         "x": [
          1,
          2,
          3,
          4,
          5,
          6,
          7,
          8,
          9,
          10,
          11,
          12,
          13,
          14,
          15,
          16,
          17,
          18,
          19,
          20,
          21,
          22,
          23,
          24,
          25,
          26,
          27,
          28,
          29,
          30,
          31,
          32,
          33,
          34,
          35,
          36,
          37,
          38,
          39,
          40,
          41,
          42,
          43,
          44,
          45,
          46,
          47,
          48,
          49,
          50
         ],
         "y": [
          96.18885006301355,
          96.1193746014064,
          96.0511162347948,
          95.98415407435344,
          95.91857237348339,
          95.85446086205678,
          95.79191510238745,
          95.73103686833961,
          95.67193454907867,
          95.61472357906575,
          95.559526896002,
          95.5064754285391,
          95.45570861569112,
          95.40737496000803,
          95.36163261670553,
          95.31865002108837,
          95.27860655675609,
          95.24169326724221,
          95.20811361390993,
          95.17808428311105,
          95.15183604581024,
          95.12961467308489,
          95.11168191113238,
          95.09831651965297,
          95.08981537772738,
          95.08649466157664,
          95.0886910988761,
          95.09676330460002,
          95.11109320369599,
          95.13208754623321,
          95.16017952103535,
          95.19583047419961,
          95.23953173931956,
          95.29180658667231,
          95.35321229910299,
          95.42434238284166,
          95.50582892202334,
          95.59834508625183,
          95.70260780115518,
          95.81938059252724,
          95.94947661533848,
          96.09376187963247,
          96.25315868610555,
          96.42864928499938,
          96.62127977282134,
          96.8321642423517,
          97.06248920240154,
          97.31351828485461,
          97.58659725766714,
          97.88315936371247
         ]
        }
       ],
       "layout": {
        "height": 700,
        "hovermode": "x",
        "template": {
         "data": {
          "bar": [
           {
            "error_x": {
             "color": "#f2f5fa"
            },
            "error_y": {
             "color": "#f2f5fa"
            },
            "marker": {
             "line": {
              "color": "rgb(17,17,17)",
              "width": 0.5
             },
             "pattern": {
              "fillmode": "overlay",
              "size": 10,
              "solidity": 0.2
             }
            },
            "type": "bar"
           }
          ],
          "barpolar": [
           {
            "marker": {
             "line": {
              "color": "rgb(17,17,17)",
              "width": 0.5
             },
             "pattern": {
              "fillmode": "overlay",
              "size": 10,
              "solidity": 0.2
             }
            },
            "type": "barpolar"
           }
          ],
          "carpet": [
           {
            "aaxis": {
             "endlinecolor": "#A2B1C6",
             "gridcolor": "#506784",
             "linecolor": "#506784",
             "minorgridcolor": "#506784",
             "startlinecolor": "#A2B1C6"
            },
            "baxis": {
             "endlinecolor": "#A2B1C6",
             "gridcolor": "#506784",
             "linecolor": "#506784",
             "minorgridcolor": "#506784",
             "startlinecolor": "#A2B1C6"
            },
            "type": "carpet"
           }
          ],
          "choropleth": [
           {
            "colorbar": {
             "outlinewidth": 0,
             "ticks": ""
            },
            "type": "choropleth"
           }
          ],
          "contour": [
           {
            "colorbar": {
             "outlinewidth": 0,
             "ticks": ""
            },
            "colorscale": [
             [
              0,
              "#0d0887"
             ],
             [
              0.1111111111111111,
              "#46039f"
             ],
             [
              0.2222222222222222,
              "#7201a8"
             ],
             [
              0.3333333333333333,
              "#9c179e"
             ],
             [
              0.4444444444444444,
              "#bd3786"
             ],
             [
              0.5555555555555556,
              "#d8576b"
             ],
             [
              0.6666666666666666,
              "#ed7953"
             ],
             [
              0.7777777777777778,
              "#fb9f3a"
             ],
             [
              0.8888888888888888,
              "#fdca26"
             ],
             [
              1,
              "#f0f921"
             ]
            ],
            "type": "contour"
           }
          ],
          "contourcarpet": [
           {
            "colorbar": {
             "outlinewidth": 0,
             "ticks": ""
            },
            "type": "contourcarpet"
           }
          ],
          "heatmap": [
           {
            "colorbar": {
             "outlinewidth": 0,
             "ticks": ""
            },
            "colorscale": [
             [
              0,
              "#0d0887"
             ],
             [
              0.1111111111111111,
              "#46039f"
             ],
             [
              0.2222222222222222,
              "#7201a8"
             ],
             [
              0.3333333333333333,
              "#9c179e"
             ],
             [
              0.4444444444444444,
              "#bd3786"
             ],
             [
              0.5555555555555556,
              "#d8576b"
             ],
             [
              0.6666666666666666,
              "#ed7953"
             ],
             [
              0.7777777777777778,
              "#fb9f3a"
             ],
             [
              0.8888888888888888,
              "#fdca26"
             ],
             [
              1,
              "#f0f921"
             ]
            ],
            "type": "heatmap"
           }
          ],
          "heatmapgl": [
           {
            "colorbar": {
             "outlinewidth": 0,
             "ticks": ""
            },
            "colorscale": [
             [
              0,
              "#0d0887"
             ],
             [
              0.1111111111111111,
              "#46039f"
             ],
             [
              0.2222222222222222,
              "#7201a8"
             ],
             [
              0.3333333333333333,
              "#9c179e"
             ],
             [
              0.4444444444444444,
              "#bd3786"
             ],
             [
              0.5555555555555556,
              "#d8576b"
             ],
             [
              0.6666666666666666,
              "#ed7953"
             ],
             [
              0.7777777777777778,
              "#fb9f3a"
             ],
             [
              0.8888888888888888,
              "#fdca26"
             ],
             [
              1,
              "#f0f921"
             ]
            ],
            "type": "heatmapgl"
           }
          ],
          "histogram": [
           {
            "marker": {
             "pattern": {
              "fillmode": "overlay",
              "size": 10,
              "solidity": 0.2
             }
            },
            "type": "histogram"
           }
          ],
          "histogram2d": [
           {
            "colorbar": {
             "outlinewidth": 0,
             "ticks": ""
            },
            "colorscale": [
             [
              0,
              "#0d0887"
             ],
             [
              0.1111111111111111,
              "#46039f"
             ],
             [
              0.2222222222222222,
              "#7201a8"
             ],
             [
              0.3333333333333333,
              "#9c179e"
             ],
             [
              0.4444444444444444,
              "#bd3786"
             ],
             [
              0.5555555555555556,
              "#d8576b"
             ],
             [
              0.6666666666666666,
              "#ed7953"
             ],
             [
              0.7777777777777778,
              "#fb9f3a"
             ],
             [
              0.8888888888888888,
              "#fdca26"
             ],
             [
              1,
              "#f0f921"
             ]
            ],
            "type": "histogram2d"
           }
          ],
          "histogram2dcontour": [
           {
            "colorbar": {
             "outlinewidth": 0,
             "ticks": ""
            },
            "colorscale": [
             [
              0,
              "#0d0887"
             ],
             [
              0.1111111111111111,
              "#46039f"
             ],
             [
              0.2222222222222222,
              "#7201a8"
             ],
             [
              0.3333333333333333,
              "#9c179e"
             ],
             [
              0.4444444444444444,
              "#bd3786"
             ],
             [
              0.5555555555555556,
              "#d8576b"
             ],
             [
              0.6666666666666666,
              "#ed7953"
             ],
             [
              0.7777777777777778,
              "#fb9f3a"
             ],
             [
              0.8888888888888888,
              "#fdca26"
             ],
             [
              1,
              "#f0f921"
             ]
            ],
            "type": "histogram2dcontour"
           }
          ],
          "mesh3d": [
           {
            "colorbar": {
             "outlinewidth": 0,
             "ticks": ""
            },
            "type": "mesh3d"
           }
          ],
          "parcoords": [
           {
            "line": {
             "colorbar": {
              "outlinewidth": 0,
              "ticks": ""
             }
            },
            "type": "parcoords"
           }
          ],
          "pie": [
           {
            "automargin": true,
            "type": "pie"
           }
          ],
          "scatter": [
           {
            "marker": {
             "line": {
              "color": "#283442"
             }
            },
            "type": "scatter"
           }
          ],
          "scatter3d": [
           {
            "line": {
             "colorbar": {
              "outlinewidth": 0,
              "ticks": ""
             }
            },
            "marker": {
             "colorbar": {
              "outlinewidth": 0,
              "ticks": ""
             }
            },
            "type": "scatter3d"
           }
          ],
          "scattercarpet": [
           {
            "marker": {
             "colorbar": {
              "outlinewidth": 0,
              "ticks": ""
             }
            },
            "type": "scattercarpet"
           }
          ],
          "scattergeo": [
           {
            "marker": {
             "colorbar": {
              "outlinewidth": 0,
              "ticks": ""
             }
            },
            "type": "scattergeo"
           }
          ],
          "scattergl": [
           {
            "marker": {
             "line": {
              "color": "#283442"
             }
            },
            "type": "scattergl"
           }
          ],
          "scattermapbox": [
           {
            "marker": {
             "colorbar": {
              "outlinewidth": 0,
              "ticks": ""
             }
            },
            "type": "scattermapbox"
           }
          ],
          "scatterpolar": [
           {
            "marker": {
             "colorbar": {
              "outlinewidth": 0,
              "ticks": ""
             }
            },
            "type": "scatterpolar"
           }
          ],
          "scatterpolargl": [
           {
            "marker": {
             "colorbar": {
              "outlinewidth": 0,
              "ticks": ""
             }
            },
            "type": "scatterpolargl"
           }
          ],
          "scatterternary": [
           {
            "marker": {
             "colorbar": {
              "outlinewidth": 0,
              "ticks": ""
             }
            },
            "type": "scatterternary"
           }
          ],
          "surface": [
           {
            "colorbar": {
             "outlinewidth": 0,
             "ticks": ""
            },
            "colorscale": [
             [
              0,
              "#0d0887"
             ],
             [
              0.1111111111111111,
              "#46039f"
             ],
             [
              0.2222222222222222,
              "#7201a8"
             ],
             [
              0.3333333333333333,
              "#9c179e"
             ],
             [
              0.4444444444444444,
              "#bd3786"
             ],
             [
              0.5555555555555556,
              "#d8576b"
             ],
             [
              0.6666666666666666,
              "#ed7953"
             ],
             [
              0.7777777777777778,
              "#fb9f3a"
             ],
             [
              0.8888888888888888,
              "#fdca26"
             ],
             [
              1,
              "#f0f921"
             ]
            ],
            "type": "surface"
           }
          ],
          "table": [
           {
            "cells": {
             "fill": {
              "color": "#506784"
             },
             "line": {
              "color": "rgb(17,17,17)"
             }
            },
            "header": {
             "fill": {
              "color": "#2a3f5f"
             },
             "line": {
              "color": "rgb(17,17,17)"
             }
            },
            "type": "table"
           }
          ]
         },
         "layout": {
          "annotationdefaults": {
           "arrowcolor": "#f2f5fa",
           "arrowhead": 0,
           "arrowwidth": 1
          },
          "autotypenumbers": "strict",
          "coloraxis": {
           "colorbar": {
            "outlinewidth": 0,
            "ticks": ""
           }
          },
          "colorscale": {
           "diverging": [
            [
             0,
             "#8e0152"
            ],
            [
             0.1,
             "#c51b7d"
            ],
            [
             0.2,
             "#de77ae"
            ],
            [
             0.3,
             "#f1b6da"
            ],
            [
             0.4,
             "#fde0ef"
            ],
            [
             0.5,
             "#f7f7f7"
            ],
            [
             0.6,
             "#e6f5d0"
            ],
            [
             0.7,
             "#b8e186"
            ],
            [
             0.8,
             "#7fbc41"
            ],
            [
             0.9,
             "#4d9221"
            ],
            [
             1,
             "#276419"
            ]
           ],
           "sequential": [
            [
             0,
             "#0d0887"
            ],
            [
             0.1111111111111111,
             "#46039f"
            ],
            [
             0.2222222222222222,
             "#7201a8"
            ],
            [
             0.3333333333333333,
             "#9c179e"
            ],
            [
             0.4444444444444444,
             "#bd3786"
            ],
            [
             0.5555555555555556,
             "#d8576b"
            ],
            [
             0.6666666666666666,
             "#ed7953"
            ],
            [
             0.7777777777777778,
             "#fb9f3a"
            ],
            [
             0.8888888888888888,
             "#fdca26"
            ],
            [
             1,
             "#f0f921"
            ]
           ],
           "sequentialminus": [
            [
             0,
             "#0d0887"
            ],
            [
             0.1111111111111111,
             "#46039f"
            ],
            [
             0.2222222222222222,
             "#7201a8"
            ],
            [
             0.3333333333333333,
             "#9c179e"
            ],
            [
             0.4444444444444444,
             "#bd3786"
            ],
            [
             0.5555555555555556,
             "#d8576b"
            ],
            [
             0.6666666666666666,
             "#ed7953"
            ],
            [
             0.7777777777777778,
             "#fb9f3a"
            ],
            [
             0.8888888888888888,
             "#fdca26"
            ],
            [
             1,
             "#f0f921"
            ]
           ]
          },
          "colorway": [
           "#636efa",
           "#EF553B",
           "#00cc96",
           "#ab63fa",
           "#FFA15A",
           "#19d3f3",
           "#FF6692",
           "#B6E880",
           "#FF97FF",
           "#FECB52"
          ],
          "font": {
           "color": "#f2f5fa"
          },
          "geo": {
           "bgcolor": "rgb(17,17,17)",
           "lakecolor": "rgb(17,17,17)",
           "landcolor": "rgb(17,17,17)",
           "showlakes": true,
           "showland": true,
           "subunitcolor": "#506784"
          },
          "hoverlabel": {
           "align": "left"
          },
          "hovermode": "closest",
          "mapbox": {
           "style": "dark"
          },
          "paper_bgcolor": "rgb(17,17,17)",
          "plot_bgcolor": "rgb(17,17,17)",
          "polar": {
           "angularaxis": {
            "gridcolor": "#506784",
            "linecolor": "#506784",
            "ticks": ""
           },
           "bgcolor": "rgb(17,17,17)",
           "radialaxis": {
            "gridcolor": "#506784",
            "linecolor": "#506784",
            "ticks": ""
           }
          },
          "scene": {
           "xaxis": {
            "backgroundcolor": "rgb(17,17,17)",
            "gridcolor": "#506784",
            "gridwidth": 2,
            "linecolor": "#506784",
            "showbackground": true,
            "ticks": "",
            "zerolinecolor": "#C8D4E3"
           },
           "yaxis": {
            "backgroundcolor": "rgb(17,17,17)",
            "gridcolor": "#506784",
            "gridwidth": 2,
            "linecolor": "#506784",
            "showbackground": true,
            "ticks": "",
            "zerolinecolor": "#C8D4E3"
           },
           "zaxis": {
            "backgroundcolor": "rgb(17,17,17)",
            "gridcolor": "#506784",
            "gridwidth": 2,
            "linecolor": "#506784",
            "showbackground": true,
            "ticks": "",
            "zerolinecolor": "#C8D4E3"
           }
          },
          "shapedefaults": {
           "line": {
            "color": "#f2f5fa"
           }
          },
          "sliderdefaults": {
           "bgcolor": "#C8D4E3",
           "bordercolor": "rgb(17,17,17)",
           "borderwidth": 1,
           "tickwidth": 0
          },
          "ternary": {
           "aaxis": {
            "gridcolor": "#506784",
            "linecolor": "#506784",
            "ticks": ""
           },
           "baxis": {
            "gridcolor": "#506784",
            "linecolor": "#506784",
            "ticks": ""
           },
           "bgcolor": "rgb(17,17,17)",
           "caxis": {
            "gridcolor": "#506784",
            "linecolor": "#506784",
            "ticks": ""
           }
          },
          "title": {
           "x": 0.05
          },
          "updatemenudefaults": {
           "bgcolor": "#506784",
           "borderwidth": 0
          },
          "xaxis": {
           "automargin": true,
           "gridcolor": "#283442",
           "linecolor": "#506784",
           "ticks": "",
           "title": {
            "standoff": 15
           },
           "zerolinecolor": "#283442",
           "zerolinewidth": 2
          },
          "yaxis": {
           "automargin": true,
           "gridcolor": "#283442",
           "linecolor": "#506784",
           "ticks": "",
           "title": {
            "standoff": 15
           },
           "zerolinecolor": "#283442",
           "zerolinewidth": 2
          }
         }
        },
        "width": 1000,
        "xaxis": {
         "title": {
          "text": "Lap"
         }
        },
        "yaxis": {
         "range": [
          92.76727725265985,
          105.98898024158498
         ],
         "title": {
          "text": "Lap Time (seconds)"
         }
        }
       }
      }
     },
     "metadata": {},
     "output_type": "display_data"
    }
   ],
   "source": [
    "hovertemplate = '<b>Lap:</b> %{x}<br><b>Time:</b> %{customdata}'\n",
    "\n",
    "fig = go.Figure()\n",
    "fig.add_trace(go.Scatter(x=df_times[df_times['Tyre'] == 'SOFT']['Lap'],\n",
    "                         y=df_times[df_times['Tyre'] == 'SOFT']['FinalLapTime'],\n",
    "                         mode='lines',\n",
    "                         name='Soft',\n",
    "                         line_color=compound_colors['SOFT'],\n",
    "                         customdata=df_times[df_times['Tyre'] == 'SOFT']['TimeStr'],\n",
    "                         hovertemplate=hovertemplate))\n",
    "\n",
    "fig.add_trace(go.Scatter(x=df_times[df_times['Tyre'] == 'MEDIUM']['Lap'],\n",
    "                         y=df_times[df_times['Tyre'] == 'MEDIUM']['FinalLapTime'],\n",
    "                         mode='lines',\n",
    "                         name='Medium',\n",
    "                         line_color=compound_colors['MEDIUM'],\n",
    "                         customdata=df_times[df_times['Tyre'] == 'MEDIUM']['TimeStr'],\n",
    "                         hovertemplate=hovertemplate))\n",
    "\n",
    "fig.add_trace(go.Scatter(x=df_times[df_times['Tyre'] == 'HARD']['Lap'],\n",
    "                         y=df_times[df_times['Tyre'] == 'HARD']['FinalLapTime'],\n",
    "                         mode='lines',\n",
    "                         name='Hard',\n",
    "                         line_color=compound_colors['HARD'],\n",
    "                         customdata=df_times[df_times['Tyre'] == 'HARD']['TimeStr'],\n",
    "                         hovertemplate=hovertemplate))\n",
    "\n",
    "fig.update_yaxes(title_text=\"Lap Time (seconds)\")\n",
    "fig.update_xaxes(title_text=f\"Lap\")\n",
    "\n",
    "fig.update_layout(width=1000, height=700, template='plotly_dark', yaxis_range=[df_times['FinalLapTime'].min() - 2, df_times['LapTimeSeconds'].max() + 10], hovermode='x')\n",
    "fig.show()"
   ]
  },
  {
   "cell_type": "code",
   "execution_count": 121,
   "metadata": {},
   "outputs": [],
   "source": [
    "data = pd.read_csv('https://raw.githubusercontent.com/GuillaumeArp/Jedha_F1_Project/main/data/predicted_strategy_round_8.csv', index_col=0)"
   ]
  },
  {
   "cell_type": "code",
   "execution_count": 122,
   "metadata": {},
   "outputs": [
    {
     "data": {
      "text/html": [
       "<div>\n",
       "<style scoped>\n",
       "    .dataframe tbody tr th:only-of-type {\n",
       "        vertical-align: middle;\n",
       "    }\n",
       "\n",
       "    .dataframe tbody tr th {\n",
       "        vertical-align: top;\n",
       "    }\n",
       "\n",
       "    .dataframe thead th {\n",
       "        text-align: right;\n",
       "    }\n",
       "</style>\n",
       "<table border=\"1\" class=\"dataframe\">\n",
       "  <thead>\n",
       "    <tr style=\"text-align: right;\">\n",
       "      <th></th>\n",
       "      <th>combiTyre</th>\n",
       "      <th>Train1</th>\n",
       "      <th>Train2</th>\n",
       "      <th>Train3</th>\n",
       "      <th>TimeT1</th>\n",
       "      <th>TimeT2</th>\n",
       "      <th>TimeT3</th>\n",
       "      <th>Total_time</th>\n",
       "      <th>TotalTimeStr</th>\n",
       "    </tr>\n",
       "  </thead>\n",
       "  <tbody>\n",
       "    <tr>\n",
       "      <th>0</th>\n",
       "      <td>MS</td>\n",
       "      <td>34</td>\n",
       "      <td>17</td>\n",
       "      <td>0</td>\n",
       "      <td>3728.113327</td>\n",
       "      <td>1855.073749</td>\n",
       "      <td>0.000000</td>\n",
       "      <td>5490.775312</td>\n",
       "      <td>1:31:30.775</td>\n",
       "    </tr>\n",
       "    <tr>\n",
       "      <th>1</th>\n",
       "      <td>SMS</td>\n",
       "      <td>14</td>\n",
       "      <td>23</td>\n",
       "      <td>14</td>\n",
       "      <td>1524.281111</td>\n",
       "      <td>2515.206452</td>\n",
       "      <td>1524.281111</td>\n",
       "      <td>5491.356910</td>\n",
       "      <td>1:31:31.356</td>\n",
       "    </tr>\n",
       "  </tbody>\n",
       "</table>\n",
       "</div>"
      ],
      "text/plain": [
       "  combiTyre  Train1  Train2  Train3       TimeT1       TimeT2       TimeT3  \\\n",
       "0        MS      34      17       0  3728.113327  1855.073749     0.000000   \n",
       "1       SMS      14      23      14  1524.281111  2515.206452  1524.281111   \n",
       "\n",
       "    Total_time TotalTimeStr  \n",
       "0  5490.775312  1:31:30.775  \n",
       "1  5491.356910  1:31:31.356  "
      ]
     },
     "execution_count": 122,
     "metadata": {},
     "output_type": "execute_result"
    }
   ],
   "source": [
    "data.head()"
   ]
  },
  {
   "cell_type": "code",
   "execution_count": 123,
   "metadata": {},
   "outputs": [],
   "source": [
    "compound_colors = {\n",
    "    'SOFT': '#FF3333',\n",
    "    'MEDIUM': '#FFF200',\n",
    "    'HARD': '#EBEBEB',\n",
    "    'INTERMEDIATE': '#39B54A',\n",
    "    'WET': '#00AEEF',\n",
    "}"
   ]
  },
  {
   "cell_type": "code",
   "execution_count": 124,
   "metadata": {},
   "outputs": [],
   "source": [
    "data['CompoundT1'] = ['MEDIUM', 'SOFT']\n",
    "data['CompoundT2'] = ['SOFT','MEDIUM']\n",
    "data['CompoundT3'] = ['Nan', 'SOFT']"
   ]
  },
  {
   "cell_type": "code",
   "execution_count": 125,
   "metadata": {},
   "outputs": [
    {
     "data": {
      "text/html": [
       "<div>\n",
       "<style scoped>\n",
       "    .dataframe tbody tr th:only-of-type {\n",
       "        vertical-align: middle;\n",
       "    }\n",
       "\n",
       "    .dataframe tbody tr th {\n",
       "        vertical-align: top;\n",
       "    }\n",
       "\n",
       "    .dataframe thead th {\n",
       "        text-align: right;\n",
       "    }\n",
       "</style>\n",
       "<table border=\"1\" class=\"dataframe\">\n",
       "  <thead>\n",
       "    <tr style=\"text-align: right;\">\n",
       "      <th></th>\n",
       "      <th>combiTyre</th>\n",
       "      <th>Train1</th>\n",
       "      <th>Train2</th>\n",
       "      <th>Train3</th>\n",
       "      <th>TimeT1</th>\n",
       "      <th>TimeT2</th>\n",
       "      <th>TimeT3</th>\n",
       "      <th>Total_time</th>\n",
       "      <th>TotalTimeStr</th>\n",
       "      <th>CompoundT1</th>\n",
       "      <th>CompoundT2</th>\n",
       "      <th>CompoundT3</th>\n",
       "    </tr>\n",
       "  </thead>\n",
       "  <tbody>\n",
       "    <tr>\n",
       "      <th>0</th>\n",
       "      <td>MS</td>\n",
       "      <td>34</td>\n",
       "      <td>17</td>\n",
       "      <td>0</td>\n",
       "      <td>3728.113327</td>\n",
       "      <td>1855.073749</td>\n",
       "      <td>0.000000</td>\n",
       "      <td>5490.775312</td>\n",
       "      <td>1:31:30.775</td>\n",
       "      <td>MEDIUM</td>\n",
       "      <td>SOFT</td>\n",
       "      <td>Nan</td>\n",
       "    </tr>\n",
       "    <tr>\n",
       "      <th>1</th>\n",
       "      <td>SMS</td>\n",
       "      <td>14</td>\n",
       "      <td>23</td>\n",
       "      <td>14</td>\n",
       "      <td>1524.281111</td>\n",
       "      <td>2515.206452</td>\n",
       "      <td>1524.281111</td>\n",
       "      <td>5491.356910</td>\n",
       "      <td>1:31:31.356</td>\n",
       "      <td>SOFT</td>\n",
       "      <td>MEDIUM</td>\n",
       "      <td>SOFT</td>\n",
       "    </tr>\n",
       "  </tbody>\n",
       "</table>\n",
       "</div>"
      ],
      "text/plain": [
       "  combiTyre  Train1  Train2  Train3       TimeT1       TimeT2       TimeT3  \\\n",
       "0        MS      34      17       0  3728.113327  1855.073749     0.000000   \n",
       "1       SMS      14      23      14  1524.281111  2515.206452  1524.281111   \n",
       "\n",
       "    Total_time TotalTimeStr CompoundT1 CompoundT2 CompoundT3  \n",
       "0  5490.775312  1:31:30.775     MEDIUM       SOFT        Nan  \n",
       "1  5491.356910  1:31:31.356       SOFT     MEDIUM       SOFT  "
      ]
     },
     "execution_count": 125,
     "metadata": {},
     "output_type": "execute_result"
    }
   ],
   "source": [
    "data"
   ]
  },
  {
   "cell_type": "code",
   "execution_count": 127,
   "metadata": {},
   "outputs": [],
   "source": [
    "pit = {'strategy': ['MS','SMS','SMS', 'MS','SMS'], 'relais': [34,14,23,17,14],'Compound': ['MEDIUM','SOFT','MEDIUM','SOFT','SOFT']}\n",
    "pitstrat = pd.DataFrame(data=pit)"
   ]
  },
  {
   "cell_type": "code",
   "execution_count": 128,
   "metadata": {},
   "outputs": [],
   "source": [
    "pit2 = {'strategy': ['MS','SMS','SMS', 'MS','SMS'], 'relais': [34,14,23,17,14],'Compound': ['MEDIUM','SOFT','MEDIUM','SOFT','SOFT']}\n",
    "pitstrat2 = pd.DataFrame(data=pit2)"
   ]
  },
  {
   "cell_type": "code",
   "execution_count": 129,
   "metadata": {},
   "outputs": [
    {
     "data": {
      "text/html": [
       "<div>\n",
       "<style scoped>\n",
       "    .dataframe tbody tr th:only-of-type {\n",
       "        vertical-align: middle;\n",
       "    }\n",
       "\n",
       "    .dataframe tbody tr th {\n",
       "        vertical-align: top;\n",
       "    }\n",
       "\n",
       "    .dataframe thead th {\n",
       "        text-align: right;\n",
       "    }\n",
       "</style>\n",
       "<table border=\"1\" class=\"dataframe\">\n",
       "  <thead>\n",
       "    <tr style=\"text-align: right;\">\n",
       "      <th></th>\n",
       "      <th>strategy</th>\n",
       "      <th>relais</th>\n",
       "      <th>Compound</th>\n",
       "    </tr>\n",
       "  </thead>\n",
       "  <tbody>\n",
       "    <tr>\n",
       "      <th>0</th>\n",
       "      <td>MS</td>\n",
       "      <td>34</td>\n",
       "      <td>MEDIUM</td>\n",
       "    </tr>\n",
       "    <tr>\n",
       "      <th>1</th>\n",
       "      <td>SMS</td>\n",
       "      <td>14</td>\n",
       "      <td>SOFT</td>\n",
       "    </tr>\n",
       "    <tr>\n",
       "      <th>2</th>\n",
       "      <td>SMS</td>\n",
       "      <td>23</td>\n",
       "      <td>MEDIUM</td>\n",
       "    </tr>\n",
       "    <tr>\n",
       "      <th>3</th>\n",
       "      <td>MS</td>\n",
       "      <td>17</td>\n",
       "      <td>SOFT</td>\n",
       "    </tr>\n",
       "    <tr>\n",
       "      <th>4</th>\n",
       "      <td>SMS</td>\n",
       "      <td>14</td>\n",
       "      <td>SOFT</td>\n",
       "    </tr>\n",
       "  </tbody>\n",
       "</table>\n",
       "</div>"
      ],
      "text/plain": [
       "  strategy  relais Compound\n",
       "0       MS      34   MEDIUM\n",
       "1      SMS      14     SOFT\n",
       "2      SMS      23   MEDIUM\n",
       "3       MS      17     SOFT\n",
       "4      SMS      14     SOFT"
      ]
     },
     "execution_count": 129,
     "metadata": {},
     "output_type": "execute_result"
    }
   ],
   "source": [
    "pitstrat"
   ]
  },
  {
   "cell_type": "code",
   "execution_count": 130,
   "metadata": {},
   "outputs": [
    {
     "data": {
      "text/html": [
       "<div>\n",
       "<style scoped>\n",
       "    .dataframe tbody tr th:only-of-type {\n",
       "        vertical-align: middle;\n",
       "    }\n",
       "\n",
       "    .dataframe tbody tr th {\n",
       "        vertical-align: top;\n",
       "    }\n",
       "\n",
       "    .dataframe thead th {\n",
       "        text-align: right;\n",
       "    }\n",
       "</style>\n",
       "<table border=\"1\" class=\"dataframe\">\n",
       "  <thead>\n",
       "    <tr style=\"text-align: right;\">\n",
       "      <th></th>\n",
       "      <th>strategy</th>\n",
       "      <th>relais</th>\n",
       "      <th>Compound</th>\n",
       "    </tr>\n",
       "  </thead>\n",
       "  <tbody>\n",
       "    <tr>\n",
       "      <th>0</th>\n",
       "      <td>MS</td>\n",
       "      <td>34</td>\n",
       "      <td>MEDIUM</td>\n",
       "    </tr>\n",
       "    <tr>\n",
       "      <th>1</th>\n",
       "      <td>SMS</td>\n",
       "      <td>14</td>\n",
       "      <td>SOFT</td>\n",
       "    </tr>\n",
       "    <tr>\n",
       "      <th>2</th>\n",
       "      <td>SMS</td>\n",
       "      <td>23</td>\n",
       "      <td>MEDIUM</td>\n",
       "    </tr>\n",
       "    <tr>\n",
       "      <th>3</th>\n",
       "      <td>MS</td>\n",
       "      <td>17</td>\n",
       "      <td>SOFT</td>\n",
       "    </tr>\n",
       "    <tr>\n",
       "      <th>4</th>\n",
       "      <td>SMS</td>\n",
       "      <td>14</td>\n",
       "      <td>SOFT</td>\n",
       "    </tr>\n",
       "  </tbody>\n",
       "</table>\n",
       "</div>"
      ],
      "text/plain": [
       "  strategy  relais Compound\n",
       "0       MS      34   MEDIUM\n",
       "1      SMS      14     SOFT\n",
       "2      SMS      23   MEDIUM\n",
       "3       MS      17     SOFT\n",
       "4      SMS      14     SOFT"
      ]
     },
     "execution_count": 130,
     "metadata": {},
     "output_type": "execute_result"
    }
   ],
   "source": [
    "pitstrat2"
   ]
  },
  {
   "cell_type": "code",
   "execution_count": 134,
   "metadata": {},
   "outputs": [
    {
     "data": {
      "application/vnd.plotly.v1+json": {
       "config": {
        "plotlyServerURL": "https://plot.ly"
       },
       "data": [
        {
         "alignmentgroup": "True",
         "hovertemplate": "strategy=%{y}<br>relais=%{x}<extra></extra>",
         "legendgroup": "MS",
         "marker": {
          "color": "#19d3f3",
          "pattern": {
           "shape": ""
          }
         },
         "name": "MS",
         "offsetgroup": "MS",
         "orientation": "h",
         "showlegend": true,
         "textposition": "auto",
         "type": "bar",
         "x": [
          34,
          17
         ],
         "xaxis": "x",
         "y": [
          "MS",
          "MS"
         ],
         "yaxis": "y"
        },
        {
         "alignmentgroup": "True",
         "hovertemplate": "strategy=%{y}<br>relais=%{x}<extra></extra>",
         "legendgroup": "SMS",
         "marker": {
          "color": "#FF6692",
          "pattern": {
           "shape": ""
          }
         },
         "name": "SMS",
         "offsetgroup": "SMS",
         "orientation": "h",
         "showlegend": true,
         "textposition": "auto",
         "type": "bar",
         "x": [
          14,
          23,
          14
         ],
         "xaxis": "x",
         "y": [
          "SMS",
          "SMS",
          "SMS"
         ],
         "yaxis": "y"
        }
       ],
       "layout": {
        "barmode": "relative",
        "height": 700,
        "legend": {
         "title": {
          "text": "strategy"
         },
         "tracegroupgap": 0
        },
        "margin": {
         "t": 60
        },
        "template": {
         "data": {
          "bar": [
           {
            "error_x": {
             "color": "#f2f5fa"
            },
            "error_y": {
             "color": "#f2f5fa"
            },
            "marker": {
             "line": {
              "color": "rgb(17,17,17)",
              "width": 0.5
             },
             "pattern": {
              "fillmode": "overlay",
              "size": 10,
              "solidity": 0.2
             }
            },
            "type": "bar"
           }
          ],
          "barpolar": [
           {
            "marker": {
             "line": {
              "color": "rgb(17,17,17)",
              "width": 0.5
             },
             "pattern": {
              "fillmode": "overlay",
              "size": 10,
              "solidity": 0.2
             }
            },
            "type": "barpolar"
           }
          ],
          "carpet": [
           {
            "aaxis": {
             "endlinecolor": "#A2B1C6",
             "gridcolor": "#506784",
             "linecolor": "#506784",
             "minorgridcolor": "#506784",
             "startlinecolor": "#A2B1C6"
            },
            "baxis": {
             "endlinecolor": "#A2B1C6",
             "gridcolor": "#506784",
             "linecolor": "#506784",
             "minorgridcolor": "#506784",
             "startlinecolor": "#A2B1C6"
            },
            "type": "carpet"
           }
          ],
          "choropleth": [
           {
            "colorbar": {
             "outlinewidth": 0,
             "ticks": ""
            },
            "type": "choropleth"
           }
          ],
          "contour": [
           {
            "colorbar": {
             "outlinewidth": 0,
             "ticks": ""
            },
            "colorscale": [
             [
              0,
              "#0d0887"
             ],
             [
              0.1111111111111111,
              "#46039f"
             ],
             [
              0.2222222222222222,
              "#7201a8"
             ],
             [
              0.3333333333333333,
              "#9c179e"
             ],
             [
              0.4444444444444444,
              "#bd3786"
             ],
             [
              0.5555555555555556,
              "#d8576b"
             ],
             [
              0.6666666666666666,
              "#ed7953"
             ],
             [
              0.7777777777777778,
              "#fb9f3a"
             ],
             [
              0.8888888888888888,
              "#fdca26"
             ],
             [
              1,
              "#f0f921"
             ]
            ],
            "type": "contour"
           }
          ],
          "contourcarpet": [
           {
            "colorbar": {
             "outlinewidth": 0,
             "ticks": ""
            },
            "type": "contourcarpet"
           }
          ],
          "heatmap": [
           {
            "colorbar": {
             "outlinewidth": 0,
             "ticks": ""
            },
            "colorscale": [
             [
              0,
              "#0d0887"
             ],
             [
              0.1111111111111111,
              "#46039f"
             ],
             [
              0.2222222222222222,
              "#7201a8"
             ],
             [
              0.3333333333333333,
              "#9c179e"
             ],
             [
              0.4444444444444444,
              "#bd3786"
             ],
             [
              0.5555555555555556,
              "#d8576b"
             ],
             [
              0.6666666666666666,
              "#ed7953"
             ],
             [
              0.7777777777777778,
              "#fb9f3a"
             ],
             [
              0.8888888888888888,
              "#fdca26"
             ],
             [
              1,
              "#f0f921"
             ]
            ],
            "type": "heatmap"
           }
          ],
          "heatmapgl": [
           {
            "colorbar": {
             "outlinewidth": 0,
             "ticks": ""
            },
            "colorscale": [
             [
              0,
              "#0d0887"
             ],
             [
              0.1111111111111111,
              "#46039f"
             ],
             [
              0.2222222222222222,
              "#7201a8"
             ],
             [
              0.3333333333333333,
              "#9c179e"
             ],
             [
              0.4444444444444444,
              "#bd3786"
             ],
             [
              0.5555555555555556,
              "#d8576b"
             ],
             [
              0.6666666666666666,
              "#ed7953"
             ],
             [
              0.7777777777777778,
              "#fb9f3a"
             ],
             [
              0.8888888888888888,
              "#fdca26"
             ],
             [
              1,
              "#f0f921"
             ]
            ],
            "type": "heatmapgl"
           }
          ],
          "histogram": [
           {
            "marker": {
             "pattern": {
              "fillmode": "overlay",
              "size": 10,
              "solidity": 0.2
             }
            },
            "type": "histogram"
           }
          ],
          "histogram2d": [
           {
            "colorbar": {
             "outlinewidth": 0,
             "ticks": ""
            },
            "colorscale": [
             [
              0,
              "#0d0887"
             ],
             [
              0.1111111111111111,
              "#46039f"
             ],
             [
              0.2222222222222222,
              "#7201a8"
             ],
             [
              0.3333333333333333,
              "#9c179e"
             ],
             [
              0.4444444444444444,
              "#bd3786"
             ],
             [
              0.5555555555555556,
              "#d8576b"
             ],
             [
              0.6666666666666666,
              "#ed7953"
             ],
             [
              0.7777777777777778,
              "#fb9f3a"
             ],
             [
              0.8888888888888888,
              "#fdca26"
             ],
             [
              1,
              "#f0f921"
             ]
            ],
            "type": "histogram2d"
           }
          ],
          "histogram2dcontour": [
           {
            "colorbar": {
             "outlinewidth": 0,
             "ticks": ""
            },
            "colorscale": [
             [
              0,
              "#0d0887"
             ],
             [
              0.1111111111111111,
              "#46039f"
             ],
             [
              0.2222222222222222,
              "#7201a8"
             ],
             [
              0.3333333333333333,
              "#9c179e"
             ],
             [
              0.4444444444444444,
              "#bd3786"
             ],
             [
              0.5555555555555556,
              "#d8576b"
             ],
             [
              0.6666666666666666,
              "#ed7953"
             ],
             [
              0.7777777777777778,
              "#fb9f3a"
             ],
             [
              0.8888888888888888,
              "#fdca26"
             ],
             [
              1,
              "#f0f921"
             ]
            ],
            "type": "histogram2dcontour"
           }
          ],
          "mesh3d": [
           {
            "colorbar": {
             "outlinewidth": 0,
             "ticks": ""
            },
            "type": "mesh3d"
           }
          ],
          "parcoords": [
           {
            "line": {
             "colorbar": {
              "outlinewidth": 0,
              "ticks": ""
             }
            },
            "type": "parcoords"
           }
          ],
          "pie": [
           {
            "automargin": true,
            "type": "pie"
           }
          ],
          "scatter": [
           {
            "marker": {
             "line": {
              "color": "#283442"
             }
            },
            "type": "scatter"
           }
          ],
          "scatter3d": [
           {
            "line": {
             "colorbar": {
              "outlinewidth": 0,
              "ticks": ""
             }
            },
            "marker": {
             "colorbar": {
              "outlinewidth": 0,
              "ticks": ""
             }
            },
            "type": "scatter3d"
           }
          ],
          "scattercarpet": [
           {
            "marker": {
             "colorbar": {
              "outlinewidth": 0,
              "ticks": ""
             }
            },
            "type": "scattercarpet"
           }
          ],
          "scattergeo": [
           {
            "marker": {
             "colorbar": {
              "outlinewidth": 0,
              "ticks": ""
             }
            },
            "type": "scattergeo"
           }
          ],
          "scattergl": [
           {
            "marker": {
             "line": {
              "color": "#283442"
             }
            },
            "type": "scattergl"
           }
          ],
          "scattermapbox": [
           {
            "marker": {
             "colorbar": {
              "outlinewidth": 0,
              "ticks": ""
             }
            },
            "type": "scattermapbox"
           }
          ],
          "scatterpolar": [
           {
            "marker": {
             "colorbar": {
              "outlinewidth": 0,
              "ticks": ""
             }
            },
            "type": "scatterpolar"
           }
          ],
          "scatterpolargl": [
           {
            "marker": {
             "colorbar": {
              "outlinewidth": 0,
              "ticks": ""
             }
            },
            "type": "scatterpolargl"
           }
          ],
          "scatterternary": [
           {
            "marker": {
             "colorbar": {
              "outlinewidth": 0,
              "ticks": ""
             }
            },
            "type": "scatterternary"
           }
          ],
          "surface": [
           {
            "colorbar": {
             "outlinewidth": 0,
             "ticks": ""
            },
            "colorscale": [
             [
              0,
              "#0d0887"
             ],
             [
              0.1111111111111111,
              "#46039f"
             ],
             [
              0.2222222222222222,
              "#7201a8"
             ],
             [
              0.3333333333333333,
              "#9c179e"
             ],
             [
              0.4444444444444444,
              "#bd3786"
             ],
             [
              0.5555555555555556,
              "#d8576b"
             ],
             [
              0.6666666666666666,
              "#ed7953"
             ],
             [
              0.7777777777777778,
              "#fb9f3a"
             ],
             [
              0.8888888888888888,
              "#fdca26"
             ],
             [
              1,
              "#f0f921"
             ]
            ],
            "type": "surface"
           }
          ],
          "table": [
           {
            "cells": {
             "fill": {
              "color": "#506784"
             },
             "line": {
              "color": "rgb(17,17,17)"
             }
            },
            "header": {
             "fill": {
              "color": "#2a3f5f"
             },
             "line": {
              "color": "rgb(17,17,17)"
             }
            },
            "type": "table"
           }
          ]
         },
         "layout": {
          "annotationdefaults": {
           "arrowcolor": "#f2f5fa",
           "arrowhead": 0,
           "arrowwidth": 1
          },
          "autotypenumbers": "strict",
          "coloraxis": {
           "colorbar": {
            "outlinewidth": 0,
            "ticks": ""
           }
          },
          "colorscale": {
           "diverging": [
            [
             0,
             "#8e0152"
            ],
            [
             0.1,
             "#c51b7d"
            ],
            [
             0.2,
             "#de77ae"
            ],
            [
             0.3,
             "#f1b6da"
            ],
            [
             0.4,
             "#fde0ef"
            ],
            [
             0.5,
             "#f7f7f7"
            ],
            [
             0.6,
             "#e6f5d0"
            ],
            [
             0.7,
             "#b8e186"
            ],
            [
             0.8,
             "#7fbc41"
            ],
            [
             0.9,
             "#4d9221"
            ],
            [
             1,
             "#276419"
            ]
           ],
           "sequential": [
            [
             0,
             "#0d0887"
            ],
            [
             0.1111111111111111,
             "#46039f"
            ],
            [
             0.2222222222222222,
             "#7201a8"
            ],
            [
             0.3333333333333333,
             "#9c179e"
            ],
            [
             0.4444444444444444,
             "#bd3786"
            ],
            [
             0.5555555555555556,
             "#d8576b"
            ],
            [
             0.6666666666666666,
             "#ed7953"
            ],
            [
             0.7777777777777778,
             "#fb9f3a"
            ],
            [
             0.8888888888888888,
             "#fdca26"
            ],
            [
             1,
             "#f0f921"
            ]
           ],
           "sequentialminus": [
            [
             0,
             "#0d0887"
            ],
            [
             0.1111111111111111,
             "#46039f"
            ],
            [
             0.2222222222222222,
             "#7201a8"
            ],
            [
             0.3333333333333333,
             "#9c179e"
            ],
            [
             0.4444444444444444,
             "#bd3786"
            ],
            [
             0.5555555555555556,
             "#d8576b"
            ],
            [
             0.6666666666666666,
             "#ed7953"
            ],
            [
             0.7777777777777778,
             "#fb9f3a"
            ],
            [
             0.8888888888888888,
             "#fdca26"
            ],
            [
             1,
             "#f0f921"
            ]
           ]
          },
          "colorway": [
           "#636efa",
           "#EF553B",
           "#00cc96",
           "#ab63fa",
           "#FFA15A",
           "#19d3f3",
           "#FF6692",
           "#B6E880",
           "#FF97FF",
           "#FECB52"
          ],
          "font": {
           "color": "#f2f5fa"
          },
          "geo": {
           "bgcolor": "rgb(17,17,17)",
           "lakecolor": "rgb(17,17,17)",
           "landcolor": "rgb(17,17,17)",
           "showlakes": true,
           "showland": true,
           "subunitcolor": "#506784"
          },
          "hoverlabel": {
           "align": "left"
          },
          "hovermode": "closest",
          "mapbox": {
           "style": "dark"
          },
          "paper_bgcolor": "rgb(17,17,17)",
          "plot_bgcolor": "rgb(17,17,17)",
          "polar": {
           "angularaxis": {
            "gridcolor": "#506784",
            "linecolor": "#506784",
            "ticks": ""
           },
           "bgcolor": "rgb(17,17,17)",
           "radialaxis": {
            "gridcolor": "#506784",
            "linecolor": "#506784",
            "ticks": ""
           }
          },
          "scene": {
           "xaxis": {
            "backgroundcolor": "rgb(17,17,17)",
            "gridcolor": "#506784",
            "gridwidth": 2,
            "linecolor": "#506784",
            "showbackground": true,
            "ticks": "",
            "zerolinecolor": "#C8D4E3"
           },
           "yaxis": {
            "backgroundcolor": "rgb(17,17,17)",
            "gridcolor": "#506784",
            "gridwidth": 2,
            "linecolor": "#506784",
            "showbackground": true,
            "ticks": "",
            "zerolinecolor": "#C8D4E3"
           },
           "zaxis": {
            "backgroundcolor": "rgb(17,17,17)",
            "gridcolor": "#506784",
            "gridwidth": 2,
            "linecolor": "#506784",
            "showbackground": true,
            "ticks": "",
            "zerolinecolor": "#C8D4E3"
           }
          },
          "shapedefaults": {
           "line": {
            "color": "#f2f5fa"
           }
          },
          "sliderdefaults": {
           "bgcolor": "#C8D4E3",
           "bordercolor": "rgb(17,17,17)",
           "borderwidth": 1,
           "tickwidth": 0
          },
          "ternary": {
           "aaxis": {
            "gridcolor": "#506784",
            "linecolor": "#506784",
            "ticks": ""
           },
           "baxis": {
            "gridcolor": "#506784",
            "linecolor": "#506784",
            "ticks": ""
           },
           "bgcolor": "rgb(17,17,17)",
           "caxis": {
            "gridcolor": "#506784",
            "linecolor": "#506784",
            "ticks": ""
           }
          },
          "title": {
           "x": 0.05
          },
          "updatemenudefaults": {
           "bgcolor": "#506784",
           "borderwidth": 0
          },
          "xaxis": {
           "automargin": true,
           "gridcolor": "#283442",
           "linecolor": "#506784",
           "ticks": "",
           "title": {
            "standoff": 15
           },
           "zerolinecolor": "#283442",
           "zerolinewidth": 2
          },
          "yaxis": {
           "automargin": true,
           "gridcolor": "#283442",
           "linecolor": "#506784",
           "ticks": "",
           "title": {
            "standoff": 15
           },
           "zerolinecolor": "#283442",
           "zerolinewidth": 2
          }
         }
        },
        "width": 1000,
        "xaxis": {
         "anchor": "y",
         "domain": [
          0,
          1
         ],
         "title": {
          "text": "relais"
         }
        },
        "yaxis": {
         "anchor": "x",
         "categoryarray": [
          "SMS",
          "MS"
         ],
         "categoryorder": "total descending",
         "domain": [
          0,
          1
         ],
         "title": {
          "text": "strategy"
         }
        }
       }
      }
     },
     "metadata": {},
     "output_type": "display_data"
    }
   ],
   "source": [
    "fig = px.bar(pitstrat2, \n",
    "            x = 'relais',\n",
    "            y = \"strategy\",\n",
    "            color = 'strategy',\n",
    "            color_discrete_map=compound_colors)\n",
    "\n",
    "\n",
    "fig.update_yaxes(categoryorder='total descending')\n",
    "fig.update_layout(width=1000, height=700, template='plotly_dark')"
   ]
  },
  {
   "cell_type": "code",
   "execution_count": 137,
   "metadata": {},
   "outputs": [
    {
     "data": {
      "text/html": [
       "<div>\n",
       "<style scoped>\n",
       "    .dataframe tbody tr th:only-of-type {\n",
       "        vertical-align: middle;\n",
       "    }\n",
       "\n",
       "    .dataframe tbody tr th {\n",
       "        vertical-align: top;\n",
       "    }\n",
       "\n",
       "    .dataframe thead th {\n",
       "        text-align: right;\n",
       "    }\n",
       "</style>\n",
       "<table border=\"1\" class=\"dataframe\">\n",
       "  <thead>\n",
       "    <tr style=\"text-align: right;\">\n",
       "      <th></th>\n",
       "      <th>RoundNumber</th>\n",
       "      <th>Country</th>\n",
       "      <th>Location</th>\n",
       "      <th>OfficialEventName</th>\n",
       "      <th>EventDate</th>\n",
       "      <th>EventName</th>\n",
       "      <th>EventFormat</th>\n",
       "      <th>Session1</th>\n",
       "      <th>Session1Date</th>\n",
       "      <th>Session2</th>\n",
       "      <th>Session2Date</th>\n",
       "      <th>Session3</th>\n",
       "      <th>Session3Date</th>\n",
       "      <th>Session4</th>\n",
       "      <th>Session4Date</th>\n",
       "      <th>Session5</th>\n",
       "      <th>Session5Date</th>\n",
       "      <th>F1ApiSupport</th>\n",
       "    </tr>\n",
       "  </thead>\n",
       "  <tbody>\n",
       "    <tr>\n",
       "      <th>2</th>\n",
       "      <td>1</td>\n",
       "      <td>Bahrain</td>\n",
       "      <td>Sakhir</td>\n",
       "      <td>FORMULA 1 GULF AIR BAHRAIN GRAND PRIX 2022</td>\n",
       "      <td>2022-03-20 20:00:00</td>\n",
       "      <td>Bahrain Grand Prix</td>\n",
       "      <td>conventional</td>\n",
       "      <td>Practice 1</td>\n",
       "      <td>2022-03-18 15:00:00</td>\n",
       "      <td>Practice 2</td>\n",
       "      <td>2022-03-18 18:00:00</td>\n",
       "      <td>Practice 3</td>\n",
       "      <td>2022-03-19 15:00:00</td>\n",
       "      <td>Qualifying</td>\n",
       "      <td>2022-03-19 18:00:00</td>\n",
       "      <td>Race</td>\n",
       "      <td>2022-03-20 18:00:00</td>\n",
       "      <td>True</td>\n",
       "    </tr>\n",
       "    <tr>\n",
       "      <th>3</th>\n",
       "      <td>2</td>\n",
       "      <td>Saudi Arabia</td>\n",
       "      <td>Jeddah</td>\n",
       "      <td>FORMULA 1 STC SAUDI ARABIAN GRAND PRIX 2022</td>\n",
       "      <td>2022-03-27 22:00:00</td>\n",
       "      <td>Saudi Arabian Grand Prix</td>\n",
       "      <td>conventional</td>\n",
       "      <td>Practice 1</td>\n",
       "      <td>2022-03-25 17:00:00</td>\n",
       "      <td>Practice 2</td>\n",
       "      <td>2022-03-25 20:00:00</td>\n",
       "      <td>Practice 3</td>\n",
       "      <td>2022-03-26 17:00:00</td>\n",
       "      <td>Qualifying</td>\n",
       "      <td>2022-03-26 20:00:00</td>\n",
       "      <td>Race</td>\n",
       "      <td>2022-03-27 20:00:00</td>\n",
       "      <td>True</td>\n",
       "    </tr>\n",
       "    <tr>\n",
       "      <th>4</th>\n",
       "      <td>3</td>\n",
       "      <td>Australia</td>\n",
       "      <td>Melbourne</td>\n",
       "      <td>FORMULA 1 HEINEKEN AUSTRALIAN GRAND PRIX 2022</td>\n",
       "      <td>2022-04-10 17:00:00</td>\n",
       "      <td>Australian Grand Prix</td>\n",
       "      <td>conventional</td>\n",
       "      <td>Practice 1</td>\n",
       "      <td>2022-04-08 13:00:00</td>\n",
       "      <td>Practice 2</td>\n",
       "      <td>2022-04-08 16:00:00</td>\n",
       "      <td>Practice 3</td>\n",
       "      <td>2022-04-09 13:00:00</td>\n",
       "      <td>Qualifying</td>\n",
       "      <td>2022-04-09 16:00:00</td>\n",
       "      <td>Race</td>\n",
       "      <td>2022-04-10 15:00:00</td>\n",
       "      <td>True</td>\n",
       "    </tr>\n",
       "    <tr>\n",
       "      <th>5</th>\n",
       "      <td>4</td>\n",
       "      <td>Italy</td>\n",
       "      <td>Imola</td>\n",
       "      <td>FORMULA 1 ROLEX GRAN PREMIO DEL MADE IN ITALY ...</td>\n",
       "      <td>2022-04-24 17:00:00</td>\n",
       "      <td>Emilia Romagna Grand Prix</td>\n",
       "      <td>sprint</td>\n",
       "      <td>Practice 1</td>\n",
       "      <td>2022-04-22 13:30:00</td>\n",
       "      <td>Qualifying</td>\n",
       "      <td>2022-04-22 17:00:00</td>\n",
       "      <td>Practice 2</td>\n",
       "      <td>2022-04-23 12:30:00</td>\n",
       "      <td>Sprint</td>\n",
       "      <td>2022-04-23 16:30:00</td>\n",
       "      <td>Race</td>\n",
       "      <td>2022-04-24 15:00:00</td>\n",
       "      <td>True</td>\n",
       "    </tr>\n",
       "    <tr>\n",
       "      <th>6</th>\n",
       "      <td>5</td>\n",
       "      <td>United States</td>\n",
       "      <td>Miami</td>\n",
       "      <td>FORMULA 1 CRYPTO.COM MIAMI GRAND PRIX 2022</td>\n",
       "      <td>2022-05-08 17:30:00</td>\n",
       "      <td>Miami Grand Prix</td>\n",
       "      <td>conventional</td>\n",
       "      <td>Practice 1</td>\n",
       "      <td>2022-05-06 14:30:00</td>\n",
       "      <td>Practice 2</td>\n",
       "      <td>2022-05-06 17:30:00</td>\n",
       "      <td>Practice 3</td>\n",
       "      <td>2022-05-07 13:00:00</td>\n",
       "      <td>Qualifying</td>\n",
       "      <td>2022-05-07 16:00:00</td>\n",
       "      <td>Race</td>\n",
       "      <td>2022-05-08 15:30:00</td>\n",
       "      <td>True</td>\n",
       "    </tr>\n",
       "  </tbody>\n",
       "</table>\n",
       "</div>"
      ],
      "text/plain": [
       "   RoundNumber        Country   Location  \\\n",
       "2            1        Bahrain     Sakhir   \n",
       "3            2   Saudi Arabia     Jeddah   \n",
       "4            3      Australia  Melbourne   \n",
       "5            4          Italy      Imola   \n",
       "6            5  United States      Miami   \n",
       "\n",
       "                                   OfficialEventName           EventDate  \\\n",
       "2         FORMULA 1 GULF AIR BAHRAIN GRAND PRIX 2022 2022-03-20 20:00:00   \n",
       "3        FORMULA 1 STC SAUDI ARABIAN GRAND PRIX 2022 2022-03-27 22:00:00   \n",
       "4      FORMULA 1 HEINEKEN AUSTRALIAN GRAND PRIX 2022 2022-04-10 17:00:00   \n",
       "5  FORMULA 1 ROLEX GRAN PREMIO DEL MADE IN ITALY ... 2022-04-24 17:00:00   \n",
       "6         FORMULA 1 CRYPTO.COM MIAMI GRAND PRIX 2022 2022-05-08 17:30:00   \n",
       "\n",
       "                   EventName   EventFormat    Session1        Session1Date  \\\n",
       "2         Bahrain Grand Prix  conventional  Practice 1 2022-03-18 15:00:00   \n",
       "3   Saudi Arabian Grand Prix  conventional  Practice 1 2022-03-25 17:00:00   \n",
       "4      Australian Grand Prix  conventional  Practice 1 2022-04-08 13:00:00   \n",
       "5  Emilia Romagna Grand Prix        sprint  Practice 1 2022-04-22 13:30:00   \n",
       "6           Miami Grand Prix  conventional  Practice 1 2022-05-06 14:30:00   \n",
       "\n",
       "     Session2        Session2Date    Session3        Session3Date    Session4  \\\n",
       "2  Practice 2 2022-03-18 18:00:00  Practice 3 2022-03-19 15:00:00  Qualifying   \n",
       "3  Practice 2 2022-03-25 20:00:00  Practice 3 2022-03-26 17:00:00  Qualifying   \n",
       "4  Practice 2 2022-04-08 16:00:00  Practice 3 2022-04-09 13:00:00  Qualifying   \n",
       "5  Qualifying 2022-04-22 17:00:00  Practice 2 2022-04-23 12:30:00      Sprint   \n",
       "6  Practice 2 2022-05-06 17:30:00  Practice 3 2022-05-07 13:00:00  Qualifying   \n",
       "\n",
       "         Session4Date Session5        Session5Date  F1ApiSupport  \n",
       "2 2022-03-19 18:00:00     Race 2022-03-20 18:00:00          True  \n",
       "3 2022-03-26 20:00:00     Race 2022-03-27 20:00:00          True  \n",
       "4 2022-04-09 16:00:00     Race 2022-04-10 15:00:00          True  \n",
       "5 2022-04-23 16:30:00     Race 2022-04-24 15:00:00          True  \n",
       "6 2022-05-07 16:00:00     Race 2022-05-08 15:30:00          True  "
      ]
     },
     "execution_count": 137,
     "metadata": {},
     "output_type": "execute_result"
    }
   ],
   "source": [
    "events_list = ff1.get_event_schedule(2022)[2:]\n",
    "gp_round = 5\n",
    "events_list.head()"
   ]
  },
  {
   "cell_type": "code",
   "execution_count": 139,
   "metadata": {},
   "outputs": [
    {
     "data": {
      "text/plain": [
       "str"
      ]
     },
     "execution_count": 139,
     "metadata": {},
     "output_type": "execute_result"
    }
   ],
   "source": [
    "event_name = events_list.iloc[gp_round]['EventName']\n",
    "type(event_name)"
   ]
  },
  {
   "cell_type": "code",
   "execution_count": null,
   "metadata": {},
   "outputs": [],
   "source": []
  }
 ],
 "metadata": {
  "kernelspec": {
   "display_name": "Python 3.10.4 ('f1')",
   "language": "python",
   "name": "python3"
  },
  "language_info": {
   "codemirror_mode": {
    "name": "ipython",
    "version": 3
   },
   "file_extension": ".py",
   "mimetype": "text/x-python",
   "name": "python",
   "nbconvert_exporter": "python",
   "pygments_lexer": "ipython3",
   "version": "3.10.4"
  },
  "orig_nbformat": 4,
  "vscode": {
   "interpreter": {
    "hash": "58d25e9b89f7c00a2984fe1f72a3df1166d93a6c0266e208eb7f7006621d45ea"
   }
  }
 },
 "nbformat": 4,
 "nbformat_minor": 2
}
