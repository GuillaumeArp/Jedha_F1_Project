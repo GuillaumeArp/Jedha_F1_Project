{
 "cells": [
  {
   "cell_type": "code",
   "execution_count": 1,
   "metadata": {},
   "outputs": [],
   "source": [
    "\n",
    "import fastf1 as ff1\n",
    "from fastf1 import plotting\n",
    "from matplotlib import pyplot as plt\n",
    "from matplotlib.pyplot import figure\n",
    "import numpy as np\n",
    "import pandas as pd"
   ]
  },
  {
   "cell_type": "code",
   "execution_count": 3,
   "metadata": {},
   "outputs": [
    {
     "name": "stderr",
     "output_type": "stream",
     "text": [
      "/home/adrien/anaconda3/lib/python3.9/site-packages/fastf1/core.py:1127: FutureWarning: `Session.load_laps` is deprecated and will beremoved in a future version.\n",
      "Use `Session.load` instead.\n",
      "  warnings.warn(\"`Session.load_laps` is deprecated and will be\"\n",
      "core           INFO \tLoading data for Saudi Arabian Grand Prix - Race [v2.2.8]\n",
      "api            INFO \tUsing cached data for driver_info\n",
      "api            INFO \tUsing cached data for timing_data\n",
      "api            INFO \tUsing cached data for timing_app_data\n",
      "core           INFO \tProcessing timing data...\n",
      "api            INFO \tUsing cached data for session_status_data\n",
      "api            INFO \tUsing cached data for track_status_data\n",
      "core        WARNING \tNo lap data for driver 22\n",
      "api            INFO \tUsing cached data for car_data\n",
      "api            INFO \tUsing cached data for position_data\n",
      "api            INFO \tUsing cached data for weather_data\n",
      "api            INFO \tUsing cached data for race_control_messages\n",
      "core           INFO \tFinished loading data for 19 drivers: ['1', '16', '55', '11', '63', '31', '4', '10', '20', '44', '24', '27', '18', '23', '77', '14', '3', '6', '22']\n"
     ]
    }
   ],
   "source": [
    "ff1.Cache.enable_cache('../cache') \n",
    "\n",
    "year = 2022\n",
    "circuit = 2\n",
    "\n",
    "\n",
    "race = ff1.get_session(year, circuit, 'R')\n",
    "laps = race.load_laps(with_telemetry=True)"
   ]
  },
  {
   "cell_type": "code",
   "execution_count": 4,
   "metadata": {},
   "outputs": [],
   "source": [
    "driver_stints = laps[['Driver', 'Stint', 'Compound', 'LapNumber']].groupby(\n",
    "    ['Driver', 'Stint', 'Compound']\n",
    ").count().reset_index()"
   ]
  },
  {
   "cell_type": "code",
   "execution_count": 5,
   "metadata": {},
   "outputs": [],
   "source": [
    "driver_stints = driver_stints.rename(columns={'LapNumber': 'StintLength'})\n",
    "\n",
    "driver_stints = driver_stints.sort_values(by=['Stint'])"
   ]
  },
  {
   "cell_type": "code",
   "execution_count": 6,
   "metadata": {},
   "outputs": [],
   "source": [
    "\n",
    "compound_colors = {\n",
    "    'SOFT': '#FF3333',\n",
    "    'MEDIUM': '#FFF200',\n",
    "    'HARD': '#EBEBEB',\n",
    "    'INTERMEDIATE': '#39B54A',\n",
    "    'WET': '#00AEEF',\n",
    "}"
   ]
  },
  {
   "cell_type": "code",
   "execution_count": 8,
   "metadata": {},
   "outputs": [
    {
     "ename": "TypeError",
     "evalue": "string indices must be integers",
     "output_type": "error",
     "traceback": [
      "\u001b[0;31m---------------------------------------------------------------------------\u001b[0m",
      "\u001b[0;31mTypeError\u001b[0m                                 Traceback (most recent call last)",
      "\u001b[1;32m/home/adrien/ubuntucode/F1projet/cache/pneus.ipynb Cell 6'\u001b[0m in \u001b[0;36m<cell line: 6>\u001b[0;34m()\u001b[0m\n\u001b[1;32m      <a href='vscode-notebook-cell:/home/adrien/ubuntucode/F1projet/cache/pneus.ipynb#ch0000005?line=1'>2</a>\u001b[0m plt\u001b[39m.\u001b[39mrcParams[\u001b[39m\"\u001b[39m\u001b[39mfigure.autolayout\u001b[39m\u001b[39m\"\u001b[39m] \u001b[39m=\u001b[39m \u001b[39mTrue\u001b[39;00m\n\u001b[1;32m      <a href='vscode-notebook-cell:/home/adrien/ubuntucode/F1projet/cache/pneus.ipynb#ch0000005?line=3'>4</a>\u001b[0m fig, ax \u001b[39m=\u001b[39m plt\u001b[39m.\u001b[39msubplots()\n\u001b[0;32m----> <a href='vscode-notebook-cell:/home/adrien/ubuntucode/F1projet/cache/pneus.ipynb#ch0000005?line=5'>6</a>\u001b[0m \u001b[39mfor\u001b[39;00m driver \u001b[39min\u001b[39;00m [driver[\u001b[39m'\u001b[39m\u001b[39mDriver\u001b[39m\u001b[39m'\u001b[39m][\u001b[39m'\u001b[39m\u001b[39mcode\u001b[39m\u001b[39m'\u001b[39m] \u001b[39mfor\u001b[39;00m driver \u001b[39min\u001b[39;00m race\u001b[39m.\u001b[39mresults]:\n\u001b[1;32m      <a href='vscode-notebook-cell:/home/adrien/ubuntucode/F1projet/cache/pneus.ipynb#ch0000005?line=6'>7</a>\u001b[0m     stints \u001b[39m=\u001b[39m driver_stints\u001b[39m.\u001b[39mloc[driver_stints[\u001b[39m'\u001b[39m\u001b[39mDriver\u001b[39m\u001b[39m'\u001b[39m] \u001b[39m==\u001b[39m driver]\n\u001b[1;32m      <a href='vscode-notebook-cell:/home/adrien/ubuntucode/F1projet/cache/pneus.ipynb#ch0000005?line=8'>9</a>\u001b[0m     previous_stint_end \u001b[39m=\u001b[39m \u001b[39m0\u001b[39m\n",
      "\u001b[1;32m/home/adrien/ubuntucode/F1projet/cache/pneus.ipynb Cell 6'\u001b[0m in \u001b[0;36m<listcomp>\u001b[0;34m(.0)\u001b[0m\n\u001b[1;32m      <a href='vscode-notebook-cell:/home/adrien/ubuntucode/F1projet/cache/pneus.ipynb#ch0000005?line=1'>2</a>\u001b[0m plt\u001b[39m.\u001b[39mrcParams[\u001b[39m\"\u001b[39m\u001b[39mfigure.autolayout\u001b[39m\u001b[39m\"\u001b[39m] \u001b[39m=\u001b[39m \u001b[39mTrue\u001b[39;00m\n\u001b[1;32m      <a href='vscode-notebook-cell:/home/adrien/ubuntucode/F1projet/cache/pneus.ipynb#ch0000005?line=3'>4</a>\u001b[0m fig, ax \u001b[39m=\u001b[39m plt\u001b[39m.\u001b[39msubplots()\n\u001b[0;32m----> <a href='vscode-notebook-cell:/home/adrien/ubuntucode/F1projet/cache/pneus.ipynb#ch0000005?line=5'>6</a>\u001b[0m \u001b[39mfor\u001b[39;00m driver \u001b[39min\u001b[39;00m [driver[\u001b[39m'\u001b[39;49m\u001b[39mDriver\u001b[39;49m\u001b[39m'\u001b[39;49m][\u001b[39m'\u001b[39m\u001b[39mcode\u001b[39m\u001b[39m'\u001b[39m] \u001b[39mfor\u001b[39;00m driver \u001b[39min\u001b[39;00m race\u001b[39m.\u001b[39mresults]:\n\u001b[1;32m      <a href='vscode-notebook-cell:/home/adrien/ubuntucode/F1projet/cache/pneus.ipynb#ch0000005?line=6'>7</a>\u001b[0m     stints \u001b[39m=\u001b[39m driver_stints\u001b[39m.\u001b[39mloc[driver_stints[\u001b[39m'\u001b[39m\u001b[39mDriver\u001b[39m\u001b[39m'\u001b[39m] \u001b[39m==\u001b[39m driver]\n\u001b[1;32m      <a href='vscode-notebook-cell:/home/adrien/ubuntucode/F1projet/cache/pneus.ipynb#ch0000005?line=8'>9</a>\u001b[0m     previous_stint_end \u001b[39m=\u001b[39m \u001b[39m0\u001b[39m\n",
      "\u001b[0;31mTypeError\u001b[0m: string indices must be integers"
     ]
    },
    {
     "data": {
      "image/png": "[encoded data removed]",
      "text/plain": [
       "<Figure size 1080x720 with 1 Axes>"
      ]
     },
     "metadata": {
      "needs_background": "light"
     },
     "output_type": "display_data"
    }
   ],
   "source": [
    "\n",
    "plt.rcParams[\"figure.figsize\"] = [15, 10]\n",
    "plt.rcParams[\"figure.autolayout\"] = True\n",
    "\n",
    "fig, ax = plt.subplots()\n",
    "\n",
    "for driver in [driver['Driver']['code'] for driver in race.results]:\n",
    "    stints = driver_stints.loc[driver_stints['Driver'] == driver]\n",
    "    \n",
    "    previous_stint_end = 0\n",
    "    for _, stint in stints.iterrows():\n",
    "        plt.barh(\n",
    "            [driver], \n",
    "            stint['StintLength'], \n",
    "            left=previous_stint_end, \n",
    "            color=compound_colors[stint['Compound']], \n",
    "            edgecolor = \"black\"\n",
    "        )\n",
    "        \n",
    "        previous_stint_end = previous_stint_end + stint['StintLength']\n",
    "        \n",
    "# Set title\n",
    "plt.title(f'Race strategy - {circuit} {year}')\n",
    "        \n",
    "# Set x-label\n",
    "plt.xlabel('Lap')\n",
    "\n",
    "# Invert y-axis \n",
    "plt.gca().invert_yaxis()\n",
    "\n",
    "# Remove frame from plot\n",
    "ax.spines['top'].set_visible(False)\n",
    "ax.spines['right'].set_visible(False)\n",
    "ax.spines['left'].set_visible(False)\n",
    "\n",
    "plt.savefig('strategy2.png', dpi=300)\n",
    "\n",
    "plt.show()"
   ]
  },
  {
   "cell_type": "code",
   "execution_count": null,
   "metadata": {},
   "outputs": [],
   "source": []
  }
 ],
 "metadata": {
  "interpreter": {
   "hash": "249ac51cfb36c7eb45355907a5b48b6d1fa532162686b7b60062312490604c87"
  },
  "kernelspec": {
   "display_name": "Python 3.9.12 ('base')",
   "language": "python",
   "name": "python3"
  },
  "language_info": {
   "codemirror_mode": {
    "name": "ipython",
    "version": 3
   },
   "file_extension": ".py",
   "mimetype": "text/x-python",
   "name": "python",
   "nbconvert_exporter": "python",
   "pygments_lexer": "ipython3",
   "version": "3.9.12"
  },
  "orig_nbformat": 4
 },
 "nbformat": 4,
 "nbformat_minor": 2
}
