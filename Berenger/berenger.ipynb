{
 "cells": [
  {
   "cell_type": "code",
   "execution_count": 1,
   "metadata": {},
   "outputs": [],
   "source": [
    "import fastf1 as ff1\n",
    "from fastf1 import plotting\n",
    "from fastf1 import utils\n",
    "plotting.setup_mpl()\n",
    "ff1.Cache.enable_cache('cache/')\n",
    "import pandas as pd\n",
    "import numpy as np\n",
    "import plotly.express as px\n",
    "import plotly.graph_objects as go\n",
    "import plotly.io as pio\n",
    "from plotly.subplots import make_subplots\n",
    "import matplotlib as mpl\n",
    "import matplotlib.pyplot as plt\n",
    "from matplotlib.collections import LineCollection\n",
    "pio.templates.default = \"plotly_dark\"\n",
    "import warnings\n",
    "warnings.simplefilter(action='ignore', category=FutureWarning)\n",
    "\n",
    "from raceplotly.plots import barplot\n",
    "\n",
    "import pandas as pd\n",
    "pd.options.mode.chained_assignment = None  # default='warn'"
   ]
  },
  {
   "cell_type": "code",
   "execution_count": 2,
   "metadata": {},
   "outputs": [],
   "source": [
    "year = 2022\n",
    "gp_round = 7\n",
    "ses = 'FP3'\n",
    "driver_1 = 'LEC'\n",
    "driver_2 = 'GAS'"
   ]
  },
  {
   "cell_type": "code",
   "execution_count": 3,
   "metadata": {},
   "outputs": [
    {
     "name": "stderr",
     "output_type": "stream",
     "text": [
      "core           INFO \tLoading data for Monaco Grand Prix - Practice 3 [v2.2.8]\n",
      "api            INFO \tUsing cached data for driver_info\n",
      "api            INFO \tUsing cached data for timing_data\n",
      "api            INFO \tUsing cached data for timing_app_data\n",
      "core           INFO \tProcessing timing data...\n",
      "api            INFO \tUsing cached data for session_status_data\n",
      "api            INFO \tUsing cached data for track_status_data\n",
      "api            INFO \tUsing cached data for car_data\n",
      "api            INFO \tUsing cached data for position_data\n",
      "api            INFO \tUsing cached data for weather_data\n",
      "api            INFO \tUsing cached data for race_control_messages\n",
      "core           INFO \tFinished loading data for 20 drivers: ['1', '55', '47', '44', '31', '24', '23', '22', '20', '18', '16', '14', '11', '10', '6', '5', '4', '3', '63', '77']\n"
     ]
    }
   ],
   "source": [
    "events_list = ff1.get_event_schedule(2022)[2:]\n",
    "\n",
    "session = ff1.get_session(year, gp_round, ses)\n",
    "session.load(weather=True, telemetry=True)"
   ]
  },
  {
   "cell_type": "code",
   "execution_count": 4,
   "metadata": {},
   "outputs": [
    {
     "data": {
      "text/html": [
       "<div>\n",
       "<style scoped>\n",
       "    .dataframe tbody tr th:only-of-type {\n",
       "        vertical-align: middle;\n",
       "    }\n",
       "\n",
       "    .dataframe tbody tr th {\n",
       "        vertical-align: top;\n",
       "    }\n",
       "\n",
       "    .dataframe thead th {\n",
       "        text-align: right;\n",
       "    }\n",
       "</style>\n",
       "<table border=\"1\" class=\"dataframe\">\n",
       "  <thead>\n",
       "    <tr style=\"text-align: right;\">\n",
       "      <th></th>\n",
       "      <th>RoundNumber</th>\n",
       "      <th>Country</th>\n",
       "      <th>Location</th>\n",
       "      <th>OfficialEventName</th>\n",
       "      <th>EventDate</th>\n",
       "      <th>EventName</th>\n",
       "      <th>EventFormat</th>\n",
       "      <th>Session1</th>\n",
       "      <th>Session1Date</th>\n",
       "      <th>Session2</th>\n",
       "      <th>Session2Date</th>\n",
       "      <th>Session3</th>\n",
       "      <th>Session3Date</th>\n",
       "      <th>Session4</th>\n",
       "      <th>Session4Date</th>\n",
       "      <th>Session5</th>\n",
       "      <th>Session5Date</th>\n",
       "      <th>F1ApiSupport</th>\n",
       "    </tr>\n",
       "  </thead>\n",
       "  <tbody>\n",
       "    <tr>\n",
       "      <th>2</th>\n",
       "      <td>1</td>\n",
       "      <td>Bahrain</td>\n",
       "      <td>Sakhir</td>\n",
       "      <td>FORMULA 1 GULF AIR BAHRAIN GRAND PRIX 2022</td>\n",
       "      <td>2022-03-20 20:00:00</td>\n",
       "      <td>Bahrain Grand Prix</td>\n",
       "      <td>conventional</td>\n",
       "      <td>Practice 1</td>\n",
       "      <td>2022-03-18 15:00:00</td>\n",
       "      <td>Practice 2</td>\n",
       "      <td>2022-03-18 18:00:00</td>\n",
       "      <td>Practice 3</td>\n",
       "      <td>2022-03-19 15:00:00</td>\n",
       "      <td>Qualifying</td>\n",
       "      <td>2022-03-19 18:00:00</td>\n",
       "      <td>Race</td>\n",
       "      <td>2022-03-20 18:00:00</td>\n",
       "      <td>True</td>\n",
       "    </tr>\n",
       "    <tr>\n",
       "      <th>3</th>\n",
       "      <td>2</td>\n",
       "      <td>Saudi Arabia</td>\n",
       "      <td>Jeddah</td>\n",
       "      <td>FORMULA 1 STC SAUDI ARABIAN GRAND PRIX 2022</td>\n",
       "      <td>2022-03-27 22:00:00</td>\n",
       "      <td>Saudi Arabian Grand Prix</td>\n",
       "      <td>conventional</td>\n",
       "      <td>Practice 1</td>\n",
       "      <td>2022-03-25 17:00:00</td>\n",
       "      <td>Practice 2</td>\n",
       "      <td>2022-03-25 20:00:00</td>\n",
       "      <td>Practice 3</td>\n",
       "      <td>2022-03-26 17:00:00</td>\n",
       "      <td>Qualifying</td>\n",
       "      <td>2022-03-26 20:00:00</td>\n",
       "      <td>Race</td>\n",
       "      <td>2022-03-27 20:00:00</td>\n",
       "      <td>True</td>\n",
       "    </tr>\n",
       "    <tr>\n",
       "      <th>4</th>\n",
       "      <td>3</td>\n",
       "      <td>Australia</td>\n",
       "      <td>Melbourne</td>\n",
       "      <td>FORMULA 1 HEINEKEN AUSTRALIAN GRAND PRIX 2022</td>\n",
       "      <td>2022-04-10 17:00:00</td>\n",
       "      <td>Australian Grand Prix</td>\n",
       "      <td>conventional</td>\n",
       "      <td>Practice 1</td>\n",
       "      <td>2022-04-08 13:00:00</td>\n",
       "      <td>Practice 2</td>\n",
       "      <td>2022-04-08 16:00:00</td>\n",
       "      <td>Practice 3</td>\n",
       "      <td>2022-04-09 13:00:00</td>\n",
       "      <td>Qualifying</td>\n",
       "      <td>2022-04-09 16:00:00</td>\n",
       "      <td>Race</td>\n",
       "      <td>2022-04-10 15:00:00</td>\n",
       "      <td>True</td>\n",
       "    </tr>\n",
       "    <tr>\n",
       "      <th>5</th>\n",
       "      <td>4</td>\n",
       "      <td>Italy</td>\n",
       "      <td>Imola</td>\n",
       "      <td>FORMULA 1 ROLEX GRAN PREMIO DEL MADE IN ITALY ...</td>\n",
       "      <td>2022-04-24 17:00:00</td>\n",
       "      <td>Emilia Romagna Grand Prix</td>\n",
       "      <td>sprint</td>\n",
       "      <td>Practice 1</td>\n",
       "      <td>2022-04-22 13:30:00</td>\n",
       "      <td>Qualifying</td>\n",
       "      <td>2022-04-22 17:00:00</td>\n",
       "      <td>Practice 2</td>\n",
       "      <td>2022-04-23 12:30:00</td>\n",
       "      <td>Sprint</td>\n",
       "      <td>2022-04-23 16:30:00</td>\n",
       "      <td>Race</td>\n",
       "      <td>2022-04-24 15:00:00</td>\n",
       "      <td>True</td>\n",
       "    </tr>\n",
       "    <tr>\n",
       "      <th>6</th>\n",
       "      <td>5</td>\n",
       "      <td>United States</td>\n",
       "      <td>Miami</td>\n",
       "      <td>FORMULA 1 CRYPTO.COM MIAMI GRAND PRIX 2022</td>\n",
       "      <td>2022-05-08 17:30:00</td>\n",
       "      <td>Miami Grand Prix</td>\n",
       "      <td>conventional</td>\n",
       "      <td>Practice 1</td>\n",
       "      <td>2022-05-06 14:30:00</td>\n",
       "      <td>Practice 2</td>\n",
       "      <td>2022-05-06 17:30:00</td>\n",
       "      <td>Practice 3</td>\n",
       "      <td>2022-05-07 13:00:00</td>\n",
       "      <td>Qualifying</td>\n",
       "      <td>2022-05-07 16:00:00</td>\n",
       "      <td>Race</td>\n",
       "      <td>2022-05-08 15:30:00</td>\n",
       "      <td>True</td>\n",
       "    </tr>\n",
       "    <tr>\n",
       "      <th>7</th>\n",
       "      <td>6</td>\n",
       "      <td>Spain</td>\n",
       "      <td>Barcelona</td>\n",
       "      <td>FORMULA 1 PIRELLI GRAN PREMIO DE ESPAÑA 2022</td>\n",
       "      <td>2022-05-22 17:00:00</td>\n",
       "      <td>Spanish Grand Prix</td>\n",
       "      <td>conventional</td>\n",
       "      <td>Practice 1</td>\n",
       "      <td>2022-05-20 14:00:00</td>\n",
       "      <td>Practice 2</td>\n",
       "      <td>2022-05-20 17:00:00</td>\n",
       "      <td>Practice 3</td>\n",
       "      <td>2022-05-21 13:00:00</td>\n",
       "      <td>Qualifying</td>\n",
       "      <td>2022-05-21 16:00:00</td>\n",
       "      <td>Race</td>\n",
       "      <td>2022-05-22 15:00:00</td>\n",
       "      <td>True</td>\n",
       "    </tr>\n",
       "    <tr>\n",
       "      <th>8</th>\n",
       "      <td>7</td>\n",
       "      <td>Monaco</td>\n",
       "      <td>Monte Carlo</td>\n",
       "      <td>FORMULA 1 GRAND PRIX DE MONACO 2022</td>\n",
       "      <td>2022-05-29 17:00:00</td>\n",
       "      <td>Monaco Grand Prix</td>\n",
       "      <td>conventional</td>\n",
       "      <td>Practice 1</td>\n",
       "      <td>2022-05-27 14:00:00</td>\n",
       "      <td>Practice 2</td>\n",
       "      <td>2022-05-27 17:00:00</td>\n",
       "      <td>Practice 3</td>\n",
       "      <td>2022-05-28 13:00:00</td>\n",
       "      <td>Qualifying</td>\n",
       "      <td>2022-05-28 16:00:00</td>\n",
       "      <td>Race</td>\n",
       "      <td>2022-05-29 15:00:00</td>\n",
       "      <td>True</td>\n",
       "    </tr>\n",
       "    <tr>\n",
       "      <th>9</th>\n",
       "      <td>8</td>\n",
       "      <td>Azerbaijan</td>\n",
       "      <td>Baku</td>\n",
       "      <td>FORMULA 1 AZERBAIJAN GRAND PRIX 2022</td>\n",
       "      <td>2022-06-12 17:00:00</td>\n",
       "      <td>Azerbaijan Grand Prix</td>\n",
       "      <td>conventional</td>\n",
       "      <td>Practice 1</td>\n",
       "      <td>2022-06-10 15:00:00</td>\n",
       "      <td>Practice 2</td>\n",
       "      <td>2022-06-10 18:00:00</td>\n",
       "      <td>Practice 3</td>\n",
       "      <td>2022-06-11 15:00:00</td>\n",
       "      <td>Qualifying</td>\n",
       "      <td>2022-06-11 18:00:00</td>\n",
       "      <td>Race</td>\n",
       "      <td>2022-06-12 15:00:00</td>\n",
       "      <td>True</td>\n",
       "    </tr>\n",
       "    <tr>\n",
       "      <th>10</th>\n",
       "      <td>9</td>\n",
       "      <td>Canada</td>\n",
       "      <td>Montréal</td>\n",
       "      <td>FORMULA 1 GRAND PRIX DU CANADA 2022</td>\n",
       "      <td>2022-06-19 16:00:00</td>\n",
       "      <td>Canadian Grand Prix</td>\n",
       "      <td>conventional</td>\n",
       "      <td>Practice 1</td>\n",
       "      <td>2022-06-17 14:00:00</td>\n",
       "      <td>Practice 2</td>\n",
       "      <td>2022-06-17 17:00:00</td>\n",
       "      <td>Practice 3</td>\n",
       "      <td>2022-06-18 13:00:00</td>\n",
       "      <td>Qualifying</td>\n",
       "      <td>2022-06-18 16:00:00</td>\n",
       "      <td>Race</td>\n",
       "      <td>2022-06-19 14:00:00</td>\n",
       "      <td>True</td>\n",
       "    </tr>\n",
       "    <tr>\n",
       "      <th>11</th>\n",
       "      <td>10</td>\n",
       "      <td>Great Britain</td>\n",
       "      <td>Silverstone</td>\n",
       "      <td>FORMULA 1 BRITISH GRAND PRIX 2022</td>\n",
       "      <td>2022-07-03 17:00:00</td>\n",
       "      <td>British Grand Prix</td>\n",
       "      <td>conventional</td>\n",
       "      <td>Practice 1</td>\n",
       "      <td>2022-07-01 13:00:00</td>\n",
       "      <td>Practice 2</td>\n",
       "      <td>2022-07-01 16:00:00</td>\n",
       "      <td>Practice 3</td>\n",
       "      <td>2022-07-02 12:00:00</td>\n",
       "      <td>Qualifying</td>\n",
       "      <td>2022-07-02 15:00:00</td>\n",
       "      <td>Race</td>\n",
       "      <td>2022-07-03 15:00:00</td>\n",
       "      <td>True</td>\n",
       "    </tr>\n",
       "    <tr>\n",
       "      <th>12</th>\n",
       "      <td>11</td>\n",
       "      <td>Austria</td>\n",
       "      <td>Spielberg</td>\n",
       "      <td>FORMULA 1 GROSSER PREIS VON ÖSTERREICH 2022</td>\n",
       "      <td>2022-07-10 17:00:00</td>\n",
       "      <td>Austrian Grand Prix</td>\n",
       "      <td>sprint</td>\n",
       "      <td>Practice 1</td>\n",
       "      <td>2022-07-08 13:30:00</td>\n",
       "      <td>Qualifying</td>\n",
       "      <td>2022-07-08 17:00:00</td>\n",
       "      <td>Practice 2</td>\n",
       "      <td>2022-07-09 12:30:00</td>\n",
       "      <td>Sprint</td>\n",
       "      <td>2022-07-09 16:30:00</td>\n",
       "      <td>Race</td>\n",
       "      <td>2022-07-10 15:00:00</td>\n",
       "      <td>True</td>\n",
       "    </tr>\n",
       "    <tr>\n",
       "      <th>13</th>\n",
       "      <td>12</td>\n",
       "      <td>France</td>\n",
       "      <td>Le Castellet</td>\n",
       "      <td>FORMULA 1 GRAND PRIX DE FRANCE 2022</td>\n",
       "      <td>2022-07-24 17:00:00</td>\n",
       "      <td>French Grand Prix</td>\n",
       "      <td>conventional</td>\n",
       "      <td>Practice 1</td>\n",
       "      <td>2022-07-22 14:00:00</td>\n",
       "      <td>Practice 2</td>\n",
       "      <td>2022-07-22 17:00:00</td>\n",
       "      <td>Practice 3</td>\n",
       "      <td>2022-07-23 13:00:00</td>\n",
       "      <td>Qualifying</td>\n",
       "      <td>2022-07-23 16:00:00</td>\n",
       "      <td>Race</td>\n",
       "      <td>2022-07-24 15:00:00</td>\n",
       "      <td>True</td>\n",
       "    </tr>\n",
       "    <tr>\n",
       "      <th>14</th>\n",
       "      <td>13</td>\n",
       "      <td>Hungary</td>\n",
       "      <td>Budapest</td>\n",
       "      <td>FORMULA 1 MAGYAR NAGYDÍJ 2022</td>\n",
       "      <td>2022-07-31 17:00:00</td>\n",
       "      <td>Hungarian Grand Prix</td>\n",
       "      <td>conventional</td>\n",
       "      <td>Practice 1</td>\n",
       "      <td>2022-07-29 14:00:00</td>\n",
       "      <td>Practice 2</td>\n",
       "      <td>2022-07-29 17:00:00</td>\n",
       "      <td>Practice 3</td>\n",
       "      <td>2022-07-30 13:00:00</td>\n",
       "      <td>Qualifying</td>\n",
       "      <td>2022-07-30 16:00:00</td>\n",
       "      <td>Race</td>\n",
       "      <td>2022-07-31 15:00:00</td>\n",
       "      <td>True</td>\n",
       "    </tr>\n",
       "    <tr>\n",
       "      <th>15</th>\n",
       "      <td>14</td>\n",
       "      <td>Belgium</td>\n",
       "      <td>Spa-Francorchamps</td>\n",
       "      <td>FORMULA 1 ROLEX BELGIAN GRAND PRIX 2022</td>\n",
       "      <td>2022-08-28 17:00:00</td>\n",
       "      <td>Belgian Grand Prix</td>\n",
       "      <td>conventional</td>\n",
       "      <td>Practice 1</td>\n",
       "      <td>2022-08-26 14:00:00</td>\n",
       "      <td>Practice 2</td>\n",
       "      <td>2022-08-26 17:00:00</td>\n",
       "      <td>Practice 3</td>\n",
       "      <td>2022-08-27 13:00:00</td>\n",
       "      <td>Qualifying</td>\n",
       "      <td>2022-08-27 16:00:00</td>\n",
       "      <td>Race</td>\n",
       "      <td>2022-08-28 15:00:00</td>\n",
       "      <td>True</td>\n",
       "    </tr>\n",
       "    <tr>\n",
       "      <th>16</th>\n",
       "      <td>15</td>\n",
       "      <td>Netherlands</td>\n",
       "      <td>Zandvoort</td>\n",
       "      <td>FORMULA 1 HEINEKEN DUTCH GRAND PRIX 2022</td>\n",
       "      <td>2022-09-04 17:00:00</td>\n",
       "      <td>Dutch Grand Prix</td>\n",
       "      <td>conventional</td>\n",
       "      <td>Practice 1</td>\n",
       "      <td>2022-09-02 14:00:00</td>\n",
       "      <td>Practice 2</td>\n",
       "      <td>2022-09-02 17:00:00</td>\n",
       "      <td>Practice 3</td>\n",
       "      <td>2022-09-03 13:00:00</td>\n",
       "      <td>Qualifying</td>\n",
       "      <td>2022-09-03 16:00:00</td>\n",
       "      <td>Race</td>\n",
       "      <td>2022-09-04 15:00:00</td>\n",
       "      <td>True</td>\n",
       "    </tr>\n",
       "    <tr>\n",
       "      <th>17</th>\n",
       "      <td>16</td>\n",
       "      <td>Italy</td>\n",
       "      <td>Monza</td>\n",
       "      <td>FORMULA 1 PIRELLI GRAN PREMIO D’ITALIA 2022</td>\n",
       "      <td>2022-09-11 17:00:00</td>\n",
       "      <td>Italian Grand Prix</td>\n",
       "      <td>conventional</td>\n",
       "      <td>Practice 1</td>\n",
       "      <td>2022-09-09 14:00:00</td>\n",
       "      <td>Practice 2</td>\n",
       "      <td>2022-09-09 17:00:00</td>\n",
       "      <td>Practice 3</td>\n",
       "      <td>2022-09-10 13:00:00</td>\n",
       "      <td>Qualifying</td>\n",
       "      <td>2022-09-10 16:00:00</td>\n",
       "      <td>Race</td>\n",
       "      <td>2022-09-11 15:00:00</td>\n",
       "      <td>True</td>\n",
       "    </tr>\n",
       "    <tr>\n",
       "      <th>18</th>\n",
       "      <td>17</td>\n",
       "      <td>Singapore</td>\n",
       "      <td>Marina Bay</td>\n",
       "      <td>FORMULA 1 SINGAPORE GRAND PRIX 2022</td>\n",
       "      <td>2022-10-02 22:00:00</td>\n",
       "      <td>Singapore Grand Prix</td>\n",
       "      <td>conventional</td>\n",
       "      <td>Practice 1</td>\n",
       "      <td>2022-09-30 18:00:00</td>\n",
       "      <td>Practice 2</td>\n",
       "      <td>2022-09-30 21:00:00</td>\n",
       "      <td>Practice 3</td>\n",
       "      <td>2022-10-01 18:00:00</td>\n",
       "      <td>Qualifying</td>\n",
       "      <td>2022-10-01 21:00:00</td>\n",
       "      <td>Race</td>\n",
       "      <td>2022-10-02 20:00:00</td>\n",
       "      <td>True</td>\n",
       "    </tr>\n",
       "    <tr>\n",
       "      <th>19</th>\n",
       "      <td>18</td>\n",
       "      <td>Japan</td>\n",
       "      <td>Suzuka</td>\n",
       "      <td>FORMULA 1 JAPANESE GRAND PRIX 2022</td>\n",
       "      <td>2022-10-09 16:00:00</td>\n",
       "      <td>Japanese Grand Prix</td>\n",
       "      <td>conventional</td>\n",
       "      <td>Practice 1</td>\n",
       "      <td>2022-10-07 13:00:00</td>\n",
       "      <td>Practice 2</td>\n",
       "      <td>2022-10-07 16:00:00</td>\n",
       "      <td>Practice 3</td>\n",
       "      <td>2022-10-08 13:00:00</td>\n",
       "      <td>Qualifying</td>\n",
       "      <td>2022-10-08 16:00:00</td>\n",
       "      <td>Race</td>\n",
       "      <td>2022-10-09 14:00:00</td>\n",
       "      <td>True</td>\n",
       "    </tr>\n",
       "    <tr>\n",
       "      <th>20</th>\n",
       "      <td>19</td>\n",
       "      <td>United States</td>\n",
       "      <td>Austin</td>\n",
       "      <td>FORMULA 1 ARAMCO UNITED STATES GRAND PRIX 2022</td>\n",
       "      <td>2022-10-23 16:00:00</td>\n",
       "      <td>United States Grand Prix</td>\n",
       "      <td>conventional</td>\n",
       "      <td>Practice 1</td>\n",
       "      <td>2022-10-21 14:00:00</td>\n",
       "      <td>Practice 2</td>\n",
       "      <td>2022-10-21 17:00:00</td>\n",
       "      <td>Practice 3</td>\n",
       "      <td>2022-10-22 14:00:00</td>\n",
       "      <td>Qualifying</td>\n",
       "      <td>2022-10-22 17:00:00</td>\n",
       "      <td>Race</td>\n",
       "      <td>2022-10-23 14:00:00</td>\n",
       "      <td>True</td>\n",
       "    </tr>\n",
       "    <tr>\n",
       "      <th>21</th>\n",
       "      <td>20</td>\n",
       "      <td>Mexico</td>\n",
       "      <td>Mexico City</td>\n",
       "      <td>FORMULA 1 GRAN PREMIO DE LA CIUDAD DE MÉXICO 2022</td>\n",
       "      <td>2022-10-30 16:00:00</td>\n",
       "      <td>Mexico City Grand Prix</td>\n",
       "      <td>conventional</td>\n",
       "      <td>Practice 1</td>\n",
       "      <td>2022-10-28 13:00:00</td>\n",
       "      <td>Practice 2</td>\n",
       "      <td>2022-10-28 16:00:00</td>\n",
       "      <td>Practice 3</td>\n",
       "      <td>2022-10-29 12:00:00</td>\n",
       "      <td>Qualifying</td>\n",
       "      <td>2022-10-29 15:00:00</td>\n",
       "      <td>Race</td>\n",
       "      <td>2022-10-30 14:00:00</td>\n",
       "      <td>True</td>\n",
       "    </tr>\n",
       "    <tr>\n",
       "      <th>22</th>\n",
       "      <td>21</td>\n",
       "      <td>Brazil</td>\n",
       "      <td>São Paulo</td>\n",
       "      <td>FORMULA 1 HEINEKEN GRANDE PRÊMIO DE SÃO PAULO ...</td>\n",
       "      <td>2022-11-13 17:00:00</td>\n",
       "      <td>São Paulo Grand Prix</td>\n",
       "      <td>sprint</td>\n",
       "      <td>Practice 1</td>\n",
       "      <td>2022-11-11 12:30:00</td>\n",
       "      <td>Qualifying</td>\n",
       "      <td>2022-11-11 16:00:00</td>\n",
       "      <td>Practice 2</td>\n",
       "      <td>2022-11-12 12:30:00</td>\n",
       "      <td>Sprint</td>\n",
       "      <td>2022-11-12 16:30:00</td>\n",
       "      <td>Race</td>\n",
       "      <td>2022-11-13 15:00:00</td>\n",
       "      <td>True</td>\n",
       "    </tr>\n",
       "    <tr>\n",
       "      <th>23</th>\n",
       "      <td>22</td>\n",
       "      <td>Abu Dhabi</td>\n",
       "      <td>Yas Island</td>\n",
       "      <td>FORMULA 1 ETIHAD AIRWAYS ABU DHABI GRAND PRIX ...</td>\n",
       "      <td>2022-11-20 19:00:00</td>\n",
       "      <td>Abu Dhabi Grand Prix</td>\n",
       "      <td>conventional</td>\n",
       "      <td>Practice 1</td>\n",
       "      <td>2022-11-18 14:00:00</td>\n",
       "      <td>Practice 2</td>\n",
       "      <td>2022-11-18 17:00:00</td>\n",
       "      <td>Practice 3</td>\n",
       "      <td>2022-11-19 15:00:00</td>\n",
       "      <td>Qualifying</td>\n",
       "      <td>2022-11-19 18:00:00</td>\n",
       "      <td>Race</td>\n",
       "      <td>2022-11-20 17:00:00</td>\n",
       "      <td>True</td>\n",
       "    </tr>\n",
       "  </tbody>\n",
       "</table>\n",
       "</div>"
      ],
      "text/plain": [
       "    RoundNumber        Country           Location  \\\n",
       "2             1        Bahrain             Sakhir   \n",
       "3             2   Saudi Arabia             Jeddah   \n",
       "4             3      Australia          Melbourne   \n",
       "5             4          Italy              Imola   \n",
       "6             5  United States              Miami   \n",
       "7             6          Spain          Barcelona   \n",
       "8             7         Monaco        Monte Carlo   \n",
       "9             8     Azerbaijan               Baku   \n",
       "10            9         Canada           Montréal   \n",
       "11           10  Great Britain        Silverstone   \n",
       "12           11        Austria          Spielberg   \n",
       "13           12         France       Le Castellet   \n",
       "14           13        Hungary           Budapest   \n",
       "15           14        Belgium  Spa-Francorchamps   \n",
       "16           15    Netherlands          Zandvoort   \n",
       "17           16          Italy              Monza   \n",
       "18           17      Singapore         Marina Bay   \n",
       "19           18          Japan             Suzuka   \n",
       "20           19  United States             Austin   \n",
       "21           20         Mexico        Mexico City   \n",
       "22           21         Brazil          São Paulo   \n",
       "23           22      Abu Dhabi         Yas Island   \n",
       "\n",
       "                                    OfficialEventName           EventDate  \\\n",
       "2          FORMULA 1 GULF AIR BAHRAIN GRAND PRIX 2022 2022-03-20 20:00:00   \n",
       "3         FORMULA 1 STC SAUDI ARABIAN GRAND PRIX 2022 2022-03-27 22:00:00   \n",
       "4       FORMULA 1 HEINEKEN AUSTRALIAN GRAND PRIX 2022 2022-04-10 17:00:00   \n",
       "5   FORMULA 1 ROLEX GRAN PREMIO DEL MADE IN ITALY ... 2022-04-24 17:00:00   \n",
       "6          FORMULA 1 CRYPTO.COM MIAMI GRAND PRIX 2022 2022-05-08 17:30:00   \n",
       "7        FORMULA 1 PIRELLI GRAN PREMIO DE ESPAÑA 2022 2022-05-22 17:00:00   \n",
       "8                 FORMULA 1 GRAND PRIX DE MONACO 2022 2022-05-29 17:00:00   \n",
       "9                FORMULA 1 AZERBAIJAN GRAND PRIX 2022 2022-06-12 17:00:00   \n",
       "10                FORMULA 1 GRAND PRIX DU CANADA 2022 2022-06-19 16:00:00   \n",
       "11                  FORMULA 1 BRITISH GRAND PRIX 2022 2022-07-03 17:00:00   \n",
       "12        FORMULA 1 GROSSER PREIS VON ÖSTERREICH 2022 2022-07-10 17:00:00   \n",
       "13                FORMULA 1 GRAND PRIX DE FRANCE 2022 2022-07-24 17:00:00   \n",
       "14                      FORMULA 1 MAGYAR NAGYDÍJ 2022 2022-07-31 17:00:00   \n",
       "15            FORMULA 1 ROLEX BELGIAN GRAND PRIX 2022 2022-08-28 17:00:00   \n",
       "16           FORMULA 1 HEINEKEN DUTCH GRAND PRIX 2022 2022-09-04 17:00:00   \n",
       "17        FORMULA 1 PIRELLI GRAN PREMIO D’ITALIA 2022 2022-09-11 17:00:00   \n",
       "18                FORMULA 1 SINGAPORE GRAND PRIX 2022 2022-10-02 22:00:00   \n",
       "19                 FORMULA 1 JAPANESE GRAND PRIX 2022 2022-10-09 16:00:00   \n",
       "20     FORMULA 1 ARAMCO UNITED STATES GRAND PRIX 2022 2022-10-23 16:00:00   \n",
       "21  FORMULA 1 GRAN PREMIO DE LA CIUDAD DE MÉXICO 2022 2022-10-30 16:00:00   \n",
       "22  FORMULA 1 HEINEKEN GRANDE PRÊMIO DE SÃO PAULO ... 2022-11-13 17:00:00   \n",
       "23  FORMULA 1 ETIHAD AIRWAYS ABU DHABI GRAND PRIX ... 2022-11-20 19:00:00   \n",
       "\n",
       "                    EventName   EventFormat    Session1        Session1Date  \\\n",
       "2          Bahrain Grand Prix  conventional  Practice 1 2022-03-18 15:00:00   \n",
       "3    Saudi Arabian Grand Prix  conventional  Practice 1 2022-03-25 17:00:00   \n",
       "4       Australian Grand Prix  conventional  Practice 1 2022-04-08 13:00:00   \n",
       "5   Emilia Romagna Grand Prix        sprint  Practice 1 2022-04-22 13:30:00   \n",
       "6            Miami Grand Prix  conventional  Practice 1 2022-05-06 14:30:00   \n",
       "7          Spanish Grand Prix  conventional  Practice 1 2022-05-20 14:00:00   \n",
       "8           Monaco Grand Prix  conventional  Practice 1 2022-05-27 14:00:00   \n",
       "9       Azerbaijan Grand Prix  conventional  Practice 1 2022-06-10 15:00:00   \n",
       "10        Canadian Grand Prix  conventional  Practice 1 2022-06-17 14:00:00   \n",
       "11         British Grand Prix  conventional  Practice 1 2022-07-01 13:00:00   \n",
       "12        Austrian Grand Prix        sprint  Practice 1 2022-07-08 13:30:00   \n",
       "13          French Grand Prix  conventional  Practice 1 2022-07-22 14:00:00   \n",
       "14       Hungarian Grand Prix  conventional  Practice 1 2022-07-29 14:00:00   \n",
       "15         Belgian Grand Prix  conventional  Practice 1 2022-08-26 14:00:00   \n",
       "16           Dutch Grand Prix  conventional  Practice 1 2022-09-02 14:00:00   \n",
       "17         Italian Grand Prix  conventional  Practice 1 2022-09-09 14:00:00   \n",
       "18       Singapore Grand Prix  conventional  Practice 1 2022-09-30 18:00:00   \n",
       "19        Japanese Grand Prix  conventional  Practice 1 2022-10-07 13:00:00   \n",
       "20   United States Grand Prix  conventional  Practice 1 2022-10-21 14:00:00   \n",
       "21     Mexico City Grand Prix  conventional  Practice 1 2022-10-28 13:00:00   \n",
       "22       São Paulo Grand Prix        sprint  Practice 1 2022-11-11 12:30:00   \n",
       "23       Abu Dhabi Grand Prix  conventional  Practice 1 2022-11-18 14:00:00   \n",
       "\n",
       "      Session2        Session2Date    Session3        Session3Date  \\\n",
       "2   Practice 2 2022-03-18 18:00:00  Practice 3 2022-03-19 15:00:00   \n",
       "3   Practice 2 2022-03-25 20:00:00  Practice 3 2022-03-26 17:00:00   \n",
       "4   Practice 2 2022-04-08 16:00:00  Practice 3 2022-04-09 13:00:00   \n",
       "5   Qualifying 2022-04-22 17:00:00  Practice 2 2022-04-23 12:30:00   \n",
       "6   Practice 2 2022-05-06 17:30:00  Practice 3 2022-05-07 13:00:00   \n",
       "7   Practice 2 2022-05-20 17:00:00  Practice 3 2022-05-21 13:00:00   \n",
       "8   Practice 2 2022-05-27 17:00:00  Practice 3 2022-05-28 13:00:00   \n",
       "9   Practice 2 2022-06-10 18:00:00  Practice 3 2022-06-11 15:00:00   \n",
       "10  Practice 2 2022-06-17 17:00:00  Practice 3 2022-06-18 13:00:00   \n",
       "11  Practice 2 2022-07-01 16:00:00  Practice 3 2022-07-02 12:00:00   \n",
       "12  Qualifying 2022-07-08 17:00:00  Practice 2 2022-07-09 12:30:00   \n",
       "13  Practice 2 2022-07-22 17:00:00  Practice 3 2022-07-23 13:00:00   \n",
       "14  Practice 2 2022-07-29 17:00:00  Practice 3 2022-07-30 13:00:00   \n",
       "15  Practice 2 2022-08-26 17:00:00  Practice 3 2022-08-27 13:00:00   \n",
       "16  Practice 2 2022-09-02 17:00:00  Practice 3 2022-09-03 13:00:00   \n",
       "17  Practice 2 2022-09-09 17:00:00  Practice 3 2022-09-10 13:00:00   \n",
       "18  Practice 2 2022-09-30 21:00:00  Practice 3 2022-10-01 18:00:00   \n",
       "19  Practice 2 2022-10-07 16:00:00  Practice 3 2022-10-08 13:00:00   \n",
       "20  Practice 2 2022-10-21 17:00:00  Practice 3 2022-10-22 14:00:00   \n",
       "21  Practice 2 2022-10-28 16:00:00  Practice 3 2022-10-29 12:00:00   \n",
       "22  Qualifying 2022-11-11 16:00:00  Practice 2 2022-11-12 12:30:00   \n",
       "23  Practice 2 2022-11-18 17:00:00  Practice 3 2022-11-19 15:00:00   \n",
       "\n",
       "      Session4        Session4Date Session5        Session5Date  F1ApiSupport  \n",
       "2   Qualifying 2022-03-19 18:00:00     Race 2022-03-20 18:00:00          True  \n",
       "3   Qualifying 2022-03-26 20:00:00     Race 2022-03-27 20:00:00          True  \n",
       "4   Qualifying 2022-04-09 16:00:00     Race 2022-04-10 15:00:00          True  \n",
       "5       Sprint 2022-04-23 16:30:00     Race 2022-04-24 15:00:00          True  \n",
       "6   Qualifying 2022-05-07 16:00:00     Race 2022-05-08 15:30:00          True  \n",
       "7   Qualifying 2022-05-21 16:00:00     Race 2022-05-22 15:00:00          True  \n",
       "8   Qualifying 2022-05-28 16:00:00     Race 2022-05-29 15:00:00          True  \n",
       "9   Qualifying 2022-06-11 18:00:00     Race 2022-06-12 15:00:00          True  \n",
       "10  Qualifying 2022-06-18 16:00:00     Race 2022-06-19 14:00:00          True  \n",
       "11  Qualifying 2022-07-02 15:00:00     Race 2022-07-03 15:00:00          True  \n",
       "12      Sprint 2022-07-09 16:30:00     Race 2022-07-10 15:00:00          True  \n",
       "13  Qualifying 2022-07-23 16:00:00     Race 2022-07-24 15:00:00          True  \n",
       "14  Qualifying 2022-07-30 16:00:00     Race 2022-07-31 15:00:00          True  \n",
       "15  Qualifying 2022-08-27 16:00:00     Race 2022-08-28 15:00:00          True  \n",
       "16  Qualifying 2022-09-03 16:00:00     Race 2022-09-04 15:00:00          True  \n",
       "17  Qualifying 2022-09-10 16:00:00     Race 2022-09-11 15:00:00          True  \n",
       "18  Qualifying 2022-10-01 21:00:00     Race 2022-10-02 20:00:00          True  \n",
       "19  Qualifying 2022-10-08 16:00:00     Race 2022-10-09 14:00:00          True  \n",
       "20  Qualifying 2022-10-22 17:00:00     Race 2022-10-23 14:00:00          True  \n",
       "21  Qualifying 2022-10-29 15:00:00     Race 2022-10-30 14:00:00          True  \n",
       "22      Sprint 2022-11-12 16:30:00     Race 2022-11-13 15:00:00          True  \n",
       "23  Qualifying 2022-11-19 18:00:00     Race 2022-11-20 17:00:00          True  "
      ]
     },
     "execution_count": 4,
     "metadata": {},
     "output_type": "execute_result"
    }
   ],
   "source": [
    "events_list"
   ]
  },
  {
   "cell_type": "code",
   "execution_count": 5,
   "metadata": {},
   "outputs": [
    {
     "name": "stderr",
     "output_type": "stream",
     "text": [
      "core           INFO \tLoading data for Emilia Romagna Grand Prix - Race [v2.2.8]\n",
      "api            INFO \tUsing cached data for driver_info\n",
      "api            INFO \tUsing cached data for timing_data\n",
      "api            INFO \tUsing cached data for timing_app_data\n",
      "core           INFO \tProcessing timing data...\n",
      "api            INFO \tUsing cached data for session_status_data\n",
      "api            INFO \tUsing cached data for track_status_data\n",
      "api            INFO \tUsing cached data for race_control_messages\n",
      "core           INFO \tFinished loading data for 20 drivers: ['1', '11', '4', '63', '77', '16', '22', '5', '20', '18', '23', '10', '44', '31', '24', '6', '47', '3', '14', '55']\n"
     ]
    },
    {
     "data": {
      "text/html": [
       "<div>\n",
       "<style scoped>\n",
       "    .dataframe tbody tr th:only-of-type {\n",
       "        vertical-align: middle;\n",
       "    }\n",
       "\n",
       "    .dataframe tbody tr th {\n",
       "        vertical-align: top;\n",
       "    }\n",
       "\n",
       "    .dataframe thead th {\n",
       "        text-align: right;\n",
       "    }\n",
       "</style>\n",
       "<table border=\"1\" class=\"dataframe\">\n",
       "  <thead>\n",
       "    <tr style=\"text-align: right;\">\n",
       "      <th></th>\n",
       "      <th>DriverNumber</th>\n",
       "      <th>BroadcastName</th>\n",
       "      <th>Abbreviation</th>\n",
       "      <th>TeamName</th>\n",
       "      <th>TeamColor</th>\n",
       "      <th>FirstName</th>\n",
       "      <th>LastName</th>\n",
       "      <th>FullName</th>\n",
       "      <th>Position</th>\n",
       "      <th>GridPosition</th>\n",
       "      <th>Q1</th>\n",
       "      <th>Q2</th>\n",
       "      <th>Q3</th>\n",
       "      <th>Time</th>\n",
       "      <th>Status</th>\n",
       "      <th>Points</th>\n",
       "    </tr>\n",
       "  </thead>\n",
       "  <tbody>\n",
       "    <tr>\n",
       "      <th>1</th>\n",
       "      <td>1</td>\n",
       "      <td>M VERSTAPPEN</td>\n",
       "      <td>VER</td>\n",
       "      <td>Red Bull Racing</td>\n",
       "      <td>1e5bc6</td>\n",
       "      <td>Max</td>\n",
       "      <td>Verstappen</td>\n",
       "      <td>Max Verstappen</td>\n",
       "      <td>1.0</td>\n",
       "      <td>1.0</td>\n",
       "      <td>NaT</td>\n",
       "      <td>NaT</td>\n",
       "      <td>NaT</td>\n",
       "      <td>0 days 01:32:07.986000</td>\n",
       "      <td>Finished</td>\n",
       "      <td>26.0</td>\n",
       "    </tr>\n",
       "    <tr>\n",
       "      <th>11</th>\n",
       "      <td>11</td>\n",
       "      <td>S PEREZ</td>\n",
       "      <td>PER</td>\n",
       "      <td>Red Bull Racing</td>\n",
       "      <td>1e5bc6</td>\n",
       "      <td>Sergio</td>\n",
       "      <td>Perez</td>\n",
       "      <td>Sergio Perez</td>\n",
       "      <td>2.0</td>\n",
       "      <td>3.0</td>\n",
       "      <td>NaT</td>\n",
       "      <td>NaT</td>\n",
       "      <td>NaT</td>\n",
       "      <td>0 days 01:32:24.513000</td>\n",
       "      <td>Finished</td>\n",
       "      <td>18.0</td>\n",
       "    </tr>\n",
       "    <tr>\n",
       "      <th>4</th>\n",
       "      <td>4</td>\n",
       "      <td>L NORRIS</td>\n",
       "      <td>NOR</td>\n",
       "      <td>McLaren</td>\n",
       "      <td>f58020</td>\n",
       "      <td>Lando</td>\n",
       "      <td>Norris</td>\n",
       "      <td>Lando Norris</td>\n",
       "      <td>3.0</td>\n",
       "      <td>5.0</td>\n",
       "      <td>NaT</td>\n",
       "      <td>NaT</td>\n",
       "      <td>NaT</td>\n",
       "      <td>0 days 01:32:42.820000</td>\n",
       "      <td>Finished</td>\n",
       "      <td>15.0</td>\n",
       "    </tr>\n",
       "    <tr>\n",
       "      <th>63</th>\n",
       "      <td>63</td>\n",
       "      <td>G RUSSELL</td>\n",
       "      <td>RUS</td>\n",
       "      <td>Mercedes</td>\n",
       "      <td>6cd3bf</td>\n",
       "      <td>George</td>\n",
       "      <td>Russell</td>\n",
       "      <td>George Russell</td>\n",
       "      <td>4.0</td>\n",
       "      <td>11.0</td>\n",
       "      <td>NaT</td>\n",
       "      <td>NaT</td>\n",
       "      <td>NaT</td>\n",
       "      <td>0 days 01:32:50.492000</td>\n",
       "      <td>Finished</td>\n",
       "      <td>12.0</td>\n",
       "    </tr>\n",
       "    <tr>\n",
       "      <th>77</th>\n",
       "      <td>77</td>\n",
       "      <td>V BOTTAS</td>\n",
       "      <td>BOT</td>\n",
       "      <td>Alfa Romeo</td>\n",
       "      <td>b12039</td>\n",
       "      <td>Valtteri</td>\n",
       "      <td>Bottas</td>\n",
       "      <td>Valtteri Bottas</td>\n",
       "      <td>5.0</td>\n",
       "      <td>7.0</td>\n",
       "      <td>NaT</td>\n",
       "      <td>NaT</td>\n",
       "      <td>NaT</td>\n",
       "      <td>0 days 01:32:51.167000</td>\n",
       "      <td>Finished</td>\n",
       "      <td>10.0</td>\n",
       "    </tr>\n",
       "    <tr>\n",
       "      <th>16</th>\n",
       "      <td>16</td>\n",
       "      <td>C LECLERC</td>\n",
       "      <td>LEC</td>\n",
       "      <td>Ferrari</td>\n",
       "      <td>ed1c24</td>\n",
       "      <td>Charles</td>\n",
       "      <td>Leclerc</td>\n",
       "      <td>Charles Leclerc</td>\n",
       "      <td>6.0</td>\n",
       "      <td>2.0</td>\n",
       "      <td>NaT</td>\n",
       "      <td>NaT</td>\n",
       "      <td>NaT</td>\n",
       "      <td>0 days 01:33:04.058000</td>\n",
       "      <td>Finished</td>\n",
       "      <td>8.0</td>\n",
       "    </tr>\n",
       "    <tr>\n",
       "      <th>22</th>\n",
       "      <td>22</td>\n",
       "      <td>Y TSUNODA</td>\n",
       "      <td>TSU</td>\n",
       "      <td>AlphaTauri</td>\n",
       "      <td>4e7c9b</td>\n",
       "      <td>Yuki</td>\n",
       "      <td>Tsunoda</td>\n",
       "      <td>Yuki Tsunoda</td>\n",
       "      <td>7.0</td>\n",
       "      <td>12.0</td>\n",
       "      <td>NaT</td>\n",
       "      <td>NaT</td>\n",
       "      <td>NaT</td>\n",
       "      <td>0 days 01:33:09.096000</td>\n",
       "      <td>Finished</td>\n",
       "      <td>6.0</td>\n",
       "    </tr>\n",
       "    <tr>\n",
       "      <th>5</th>\n",
       "      <td>5</td>\n",
       "      <td>S VETTEL</td>\n",
       "      <td>VET</td>\n",
       "      <td>Aston Martin</td>\n",
       "      <td>2d826d</td>\n",
       "      <td>Sebastian</td>\n",
       "      <td>Vettel</td>\n",
       "      <td>Sebastian Vettel</td>\n",
       "      <td>8.0</td>\n",
       "      <td>13.0</td>\n",
       "      <td>NaT</td>\n",
       "      <td>NaT</td>\n",
       "      <td>NaT</td>\n",
       "      <td>0 days 01:33:18.878000</td>\n",
       "      <td>Finished</td>\n",
       "      <td>4.0</td>\n",
       "    </tr>\n",
       "    <tr>\n",
       "      <th>20</th>\n",
       "      <td>20</td>\n",
       "      <td>K MAGNUSSEN</td>\n",
       "      <td>MAG</td>\n",
       "      <td>Haas F1 Team</td>\n",
       "      <td>b6babd</td>\n",
       "      <td>Kevin</td>\n",
       "      <td>Magnussen</td>\n",
       "      <td>Kevin Magnussen</td>\n",
       "      <td>9.0</td>\n",
       "      <td>8.0</td>\n",
       "      <td>NaT</td>\n",
       "      <td>NaT</td>\n",
       "      <td>NaT</td>\n",
       "      <td>0 days 01:33:23.246000</td>\n",
       "      <td>Finished</td>\n",
       "      <td>2.0</td>\n",
       "    </tr>\n",
       "    <tr>\n",
       "      <th>18</th>\n",
       "      <td>18</td>\n",
       "      <td>L STROLL</td>\n",
       "      <td>STR</td>\n",
       "      <td>Aston Martin</td>\n",
       "      <td>2d826d</td>\n",
       "      <td>Lance</td>\n",
       "      <td>Stroll</td>\n",
       "      <td>Lance Stroll</td>\n",
       "      <td>10.0</td>\n",
       "      <td>15.0</td>\n",
       "      <td>NaT</td>\n",
       "      <td>NaT</td>\n",
       "      <td>NaT</td>\n",
       "      <td>NaT</td>\n",
       "      <td>+1 Lap</td>\n",
       "      <td>1.0</td>\n",
       "    </tr>\n",
       "    <tr>\n",
       "      <th>23</th>\n",
       "      <td>23</td>\n",
       "      <td>A ALBON</td>\n",
       "      <td>ALB</td>\n",
       "      <td>Williams</td>\n",
       "      <td>37bedd</td>\n",
       "      <td>Alexander</td>\n",
       "      <td>Albon</td>\n",
       "      <td>Alexander Albon</td>\n",
       "      <td>11.0</td>\n",
       "      <td>18.0</td>\n",
       "      <td>NaT</td>\n",
       "      <td>NaT</td>\n",
       "      <td>NaT</td>\n",
       "      <td>NaT</td>\n",
       "      <td>+1 Lap</td>\n",
       "      <td>0.0</td>\n",
       "    </tr>\n",
       "    <tr>\n",
       "      <th>10</th>\n",
       "      <td>10</td>\n",
       "      <td>P GASLY</td>\n",
       "      <td>GAS</td>\n",
       "      <td>AlphaTauri</td>\n",
       "      <td>4e7c9b</td>\n",
       "      <td>Pierre</td>\n",
       "      <td>Gasly</td>\n",
       "      <td>Pierre Gasly</td>\n",
       "      <td>12.0</td>\n",
       "      <td>17.0</td>\n",
       "      <td>NaT</td>\n",
       "      <td>NaT</td>\n",
       "      <td>NaT</td>\n",
       "      <td>NaT</td>\n",
       "      <td>+1 Lap</td>\n",
       "      <td>0.0</td>\n",
       "    </tr>\n",
       "    <tr>\n",
       "      <th>44</th>\n",
       "      <td>44</td>\n",
       "      <td>L HAMILTON</td>\n",
       "      <td>HAM</td>\n",
       "      <td>Mercedes</td>\n",
       "      <td>6cd3bf</td>\n",
       "      <td>Lewis</td>\n",
       "      <td>Hamilton</td>\n",
       "      <td>Lewis Hamilton</td>\n",
       "      <td>13.0</td>\n",
       "      <td>14.0</td>\n",
       "      <td>NaT</td>\n",
       "      <td>NaT</td>\n",
       "      <td>NaT</td>\n",
       "      <td>NaT</td>\n",
       "      <td>+1 Lap</td>\n",
       "      <td>0.0</td>\n",
       "    </tr>\n",
       "    <tr>\n",
       "      <th>31</th>\n",
       "      <td>31</td>\n",
       "      <td>E OCON</td>\n",
       "      <td>OCO</td>\n",
       "      <td>Alpine</td>\n",
       "      <td>2293d1</td>\n",
       "      <td>Esteban</td>\n",
       "      <td>Ocon</td>\n",
       "      <td>Esteban Ocon</td>\n",
       "      <td>14.0</td>\n",
       "      <td>16.0</td>\n",
       "      <td>NaT</td>\n",
       "      <td>NaT</td>\n",
       "      <td>NaT</td>\n",
       "      <td>NaT</td>\n",
       "      <td>+1 Lap</td>\n",
       "      <td>0.0</td>\n",
       "    </tr>\n",
       "    <tr>\n",
       "      <th>24</th>\n",
       "      <td>24</td>\n",
       "      <td>G ZHOU</td>\n",
       "      <td>ZHO</td>\n",
       "      <td>Alfa Romeo</td>\n",
       "      <td>b12039</td>\n",
       "      <td>Guanyu</td>\n",
       "      <td>Zhou</td>\n",
       "      <td>Guanyu Zhou</td>\n",
       "      <td>15.0</td>\n",
       "      <td>0.0</td>\n",
       "      <td>NaT</td>\n",
       "      <td>NaT</td>\n",
       "      <td>NaT</td>\n",
       "      <td>NaT</td>\n",
       "      <td>+1 Lap</td>\n",
       "      <td>0.0</td>\n",
       "    </tr>\n",
       "    <tr>\n",
       "      <th>6</th>\n",
       "      <td>6</td>\n",
       "      <td>N LATIFI</td>\n",
       "      <td>LAT</td>\n",
       "      <td>Williams</td>\n",
       "      <td>37bedd</td>\n",
       "      <td>Nicholas</td>\n",
       "      <td>Latifi</td>\n",
       "      <td>Nicholas Latifi</td>\n",
       "      <td>16.0</td>\n",
       "      <td>19.0</td>\n",
       "      <td>NaT</td>\n",
       "      <td>NaT</td>\n",
       "      <td>NaT</td>\n",
       "      <td>NaT</td>\n",
       "      <td>+1 Lap</td>\n",
       "      <td>0.0</td>\n",
       "    </tr>\n",
       "    <tr>\n",
       "      <th>47</th>\n",
       "      <td>47</td>\n",
       "      <td>M SCHUMACHER</td>\n",
       "      <td>MSC</td>\n",
       "      <td>Haas F1 Team</td>\n",
       "      <td>b6babd</td>\n",
       "      <td>Mick</td>\n",
       "      <td>Schumacher</td>\n",
       "      <td>Mick Schumacher</td>\n",
       "      <td>17.0</td>\n",
       "      <td>10.0</td>\n",
       "      <td>NaT</td>\n",
       "      <td>NaT</td>\n",
       "      <td>NaT</td>\n",
       "      <td>NaT</td>\n",
       "      <td>+1 Lap</td>\n",
       "      <td>0.0</td>\n",
       "    </tr>\n",
       "    <tr>\n",
       "      <th>3</th>\n",
       "      <td>3</td>\n",
       "      <td>D RICCIARDO</td>\n",
       "      <td>RIC</td>\n",
       "      <td>McLaren</td>\n",
       "      <td>f58020</td>\n",
       "      <td>Daniel</td>\n",
       "      <td>Ricciardo</td>\n",
       "      <td>Daniel Ricciardo</td>\n",
       "      <td>18.0</td>\n",
       "      <td>6.0</td>\n",
       "      <td>NaT</td>\n",
       "      <td>NaT</td>\n",
       "      <td>NaT</td>\n",
       "      <td>NaT</td>\n",
       "      <td>+1 Lap</td>\n",
       "      <td>0.0</td>\n",
       "    </tr>\n",
       "    <tr>\n",
       "      <th>14</th>\n",
       "      <td>14</td>\n",
       "      <td>F ALONSO</td>\n",
       "      <td>ALO</td>\n",
       "      <td>Alpine</td>\n",
       "      <td>2293d1</td>\n",
       "      <td>Fernando</td>\n",
       "      <td>Alonso</td>\n",
       "      <td>Fernando Alonso</td>\n",
       "      <td>19.0</td>\n",
       "      <td>9.0</td>\n",
       "      <td>NaT</td>\n",
       "      <td>NaT</td>\n",
       "      <td>NaT</td>\n",
       "      <td>NaT</td>\n",
       "      <td>Chassis</td>\n",
       "      <td>0.0</td>\n",
       "    </tr>\n",
       "    <tr>\n",
       "      <th>55</th>\n",
       "      <td>55</td>\n",
       "      <td>C SAINZ</td>\n",
       "      <td>SAI</td>\n",
       "      <td>Ferrari</td>\n",
       "      <td>ed1c24</td>\n",
       "      <td>Carlos</td>\n",
       "      <td>Sainz</td>\n",
       "      <td>Carlos Sainz</td>\n",
       "      <td>20.0</td>\n",
       "      <td>4.0</td>\n",
       "      <td>NaT</td>\n",
       "      <td>NaT</td>\n",
       "      <td>NaT</td>\n",
       "      <td>NaT</td>\n",
       "      <td>Collision</td>\n",
       "      <td>0.0</td>\n",
       "    </tr>\n",
       "  </tbody>\n",
       "</table>\n",
       "</div>"
      ],
      "text/plain": [
       "   DriverNumber BroadcastName Abbreviation         TeamName TeamColor  \\\n",
       "1             1  M VERSTAPPEN          VER  Red Bull Racing    1e5bc6   \n",
       "11           11       S PEREZ          PER  Red Bull Racing    1e5bc6   \n",
       "4             4      L NORRIS          NOR          McLaren    f58020   \n",
       "63           63     G RUSSELL          RUS         Mercedes    6cd3bf   \n",
       "77           77      V BOTTAS          BOT       Alfa Romeo    b12039   \n",
       "16           16     C LECLERC          LEC          Ferrari    ed1c24   \n",
       "22           22     Y TSUNODA          TSU       AlphaTauri    4e7c9b   \n",
       "5             5      S VETTEL          VET     Aston Martin    2d826d   \n",
       "20           20   K MAGNUSSEN          MAG     Haas F1 Team    b6babd   \n",
       "18           18      L STROLL          STR     Aston Martin    2d826d   \n",
       "23           23       A ALBON          ALB         Williams    37bedd   \n",
       "10           10       P GASLY          GAS       AlphaTauri    4e7c9b   \n",
       "44           44    L HAMILTON          HAM         Mercedes    6cd3bf   \n",
       "31           31        E OCON          OCO           Alpine    2293d1   \n",
       "24           24        G ZHOU          ZHO       Alfa Romeo    b12039   \n",
       "6             6      N LATIFI          LAT         Williams    37bedd   \n",
       "47           47  M SCHUMACHER          MSC     Haas F1 Team    b6babd   \n",
       "3             3   D RICCIARDO          RIC          McLaren    f58020   \n",
       "14           14      F ALONSO          ALO           Alpine    2293d1   \n",
       "55           55       C SAINZ          SAI          Ferrari    ed1c24   \n",
       "\n",
       "    FirstName    LastName          FullName  Position  GridPosition  Q1  Q2  \\\n",
       "1         Max  Verstappen    Max Verstappen       1.0           1.0 NaT NaT   \n",
       "11     Sergio       Perez      Sergio Perez       2.0           3.0 NaT NaT   \n",
       "4       Lando      Norris      Lando Norris       3.0           5.0 NaT NaT   \n",
       "63     George     Russell    George Russell       4.0          11.0 NaT NaT   \n",
       "77   Valtteri      Bottas   Valtteri Bottas       5.0           7.0 NaT NaT   \n",
       "16    Charles     Leclerc   Charles Leclerc       6.0           2.0 NaT NaT   \n",
       "22       Yuki     Tsunoda      Yuki Tsunoda       7.0          12.0 NaT NaT   \n",
       "5   Sebastian      Vettel  Sebastian Vettel       8.0          13.0 NaT NaT   \n",
       "20      Kevin   Magnussen   Kevin Magnussen       9.0           8.0 NaT NaT   \n",
       "18      Lance      Stroll      Lance Stroll      10.0          15.0 NaT NaT   \n",
       "23  Alexander       Albon   Alexander Albon      11.0          18.0 NaT NaT   \n",
       "10     Pierre       Gasly      Pierre Gasly      12.0          17.0 NaT NaT   \n",
       "44      Lewis    Hamilton    Lewis Hamilton      13.0          14.0 NaT NaT   \n",
       "31    Esteban        Ocon      Esteban Ocon      14.0          16.0 NaT NaT   \n",
       "24     Guanyu        Zhou       Guanyu Zhou      15.0           0.0 NaT NaT   \n",
       "6    Nicholas      Latifi   Nicholas Latifi      16.0          19.0 NaT NaT   \n",
       "47       Mick  Schumacher   Mick Schumacher      17.0          10.0 NaT NaT   \n",
       "3      Daniel   Ricciardo  Daniel Ricciardo      18.0           6.0 NaT NaT   \n",
       "14   Fernando      Alonso   Fernando Alonso      19.0           9.0 NaT NaT   \n",
       "55     Carlos       Sainz      Carlos Sainz      20.0           4.0 NaT NaT   \n",
       "\n",
       "    Q3                   Time     Status  Points  \n",
       "1  NaT 0 days 01:32:07.986000   Finished    26.0  \n",
       "11 NaT 0 days 01:32:24.513000   Finished    18.0  \n",
       "4  NaT 0 days 01:32:42.820000   Finished    15.0  \n",
       "63 NaT 0 days 01:32:50.492000   Finished    12.0  \n",
       "77 NaT 0 days 01:32:51.167000   Finished    10.0  \n",
       "16 NaT 0 days 01:33:04.058000   Finished     8.0  \n",
       "22 NaT 0 days 01:33:09.096000   Finished     6.0  \n",
       "5  NaT 0 days 01:33:18.878000   Finished     4.0  \n",
       "20 NaT 0 days 01:33:23.246000   Finished     2.0  \n",
       "18 NaT                    NaT     +1 Lap     1.0  \n",
       "23 NaT                    NaT     +1 Lap     0.0  \n",
       "10 NaT                    NaT     +1 Lap     0.0  \n",
       "44 NaT                    NaT     +1 Lap     0.0  \n",
       "31 NaT                    NaT     +1 Lap     0.0  \n",
       "24 NaT                    NaT     +1 Lap     0.0  \n",
       "6  NaT                    NaT     +1 Lap     0.0  \n",
       "47 NaT                    NaT     +1 Lap     0.0  \n",
       "3  NaT                    NaT     +1 Lap     0.0  \n",
       "14 NaT                    NaT    Chassis     0.0  \n",
       "55 NaT                    NaT  Collision     0.0  "
      ]
     },
     "execution_count": 5,
     "metadata": {},
     "output_type": "execute_result"
    }
   ],
   "source": [
    "session = ff1.get_session(2022, 4, 'R')\n",
    "session.load(weather=False, telemetry=False)\n",
    "session.results"
   ]
  },
  {
   "cell_type": "code",
   "execution_count": 6,
   "metadata": {},
   "outputs": [
    {
     "data": {
      "text/html": [
       "<div>\n",
       "<style scoped>\n",
       "    .dataframe tbody tr th:only-of-type {\n",
       "        vertical-align: middle;\n",
       "    }\n",
       "\n",
       "    .dataframe tbody tr th {\n",
       "        vertical-align: top;\n",
       "    }\n",
       "\n",
       "    .dataframe thead th {\n",
       "        text-align: right;\n",
       "    }\n",
       "</style>\n",
       "<table border=\"1\" class=\"dataframe\">\n",
       "  <thead>\n",
       "    <tr style=\"text-align: right;\">\n",
       "      <th></th>\n",
       "      <th>DriverNumber</th>\n",
       "      <th>BroadcastName</th>\n",
       "      <th>Abbreviation</th>\n",
       "      <th>TeamName</th>\n",
       "      <th>TeamColor</th>\n",
       "      <th>FirstName</th>\n",
       "      <th>LastName</th>\n",
       "      <th>FullName</th>\n",
       "      <th>Position</th>\n",
       "      <th>GridPosition</th>\n",
       "      <th>Q1</th>\n",
       "      <th>Q2</th>\n",
       "      <th>Q3</th>\n",
       "      <th>Time</th>\n",
       "      <th>Status</th>\n",
       "      <th>Points</th>\n",
       "    </tr>\n",
       "  </thead>\n",
       "  <tbody>\n",
       "    <tr>\n",
       "      <th>1</th>\n",
       "      <td>1</td>\n",
       "      <td>M VERSTAPPEN</td>\n",
       "      <td>VER</td>\n",
       "      <td>Red Bull Racing</td>\n",
       "      <td>1e5bc6</td>\n",
       "      <td>Max</td>\n",
       "      <td>Verstappen</td>\n",
       "      <td>Max Verstappen</td>\n",
       "      <td>1.0</td>\n",
       "      <td>1.0</td>\n",
       "      <td>NaT</td>\n",
       "      <td>NaT</td>\n",
       "      <td>NaT</td>\n",
       "      <td>0 days 01:32:07.986000</td>\n",
       "      <td>Finished</td>\n",
       "      <td>26.0</td>\n",
       "    </tr>\n",
       "    <tr>\n",
       "      <th>11</th>\n",
       "      <td>11</td>\n",
       "      <td>S PEREZ</td>\n",
       "      <td>PER</td>\n",
       "      <td>Red Bull Racing</td>\n",
       "      <td>1e5bc6</td>\n",
       "      <td>Sergio</td>\n",
       "      <td>Perez</td>\n",
       "      <td>Sergio Perez</td>\n",
       "      <td>2.0</td>\n",
       "      <td>3.0</td>\n",
       "      <td>NaT</td>\n",
       "      <td>NaT</td>\n",
       "      <td>NaT</td>\n",
       "      <td>0 days 01:32:24.513000</td>\n",
       "      <td>Finished</td>\n",
       "      <td>18.0</td>\n",
       "    </tr>\n",
       "    <tr>\n",
       "      <th>4</th>\n",
       "      <td>4</td>\n",
       "      <td>L NORRIS</td>\n",
       "      <td>NOR</td>\n",
       "      <td>McLaren</td>\n",
       "      <td>f58020</td>\n",
       "      <td>Lando</td>\n",
       "      <td>Norris</td>\n",
       "      <td>Lando Norris</td>\n",
       "      <td>3.0</td>\n",
       "      <td>5.0</td>\n",
       "      <td>NaT</td>\n",
       "      <td>NaT</td>\n",
       "      <td>NaT</td>\n",
       "      <td>0 days 01:32:42.820000</td>\n",
       "      <td>Finished</td>\n",
       "      <td>15.0</td>\n",
       "    </tr>\n",
       "    <tr>\n",
       "      <th>63</th>\n",
       "      <td>63</td>\n",
       "      <td>G RUSSELL</td>\n",
       "      <td>RUS</td>\n",
       "      <td>Mercedes</td>\n",
       "      <td>6cd3bf</td>\n",
       "      <td>George</td>\n",
       "      <td>Russell</td>\n",
       "      <td>George Russell</td>\n",
       "      <td>4.0</td>\n",
       "      <td>11.0</td>\n",
       "      <td>NaT</td>\n",
       "      <td>NaT</td>\n",
       "      <td>NaT</td>\n",
       "      <td>0 days 01:32:50.492000</td>\n",
       "      <td>Finished</td>\n",
       "      <td>12.0</td>\n",
       "    </tr>\n",
       "    <tr>\n",
       "      <th>77</th>\n",
       "      <td>77</td>\n",
       "      <td>V BOTTAS</td>\n",
       "      <td>BOT</td>\n",
       "      <td>Alfa Romeo</td>\n",
       "      <td>b12039</td>\n",
       "      <td>Valtteri</td>\n",
       "      <td>Bottas</td>\n",
       "      <td>Valtteri Bottas</td>\n",
       "      <td>5.0</td>\n",
       "      <td>7.0</td>\n",
       "      <td>NaT</td>\n",
       "      <td>NaT</td>\n",
       "      <td>NaT</td>\n",
       "      <td>0 days 01:32:51.167000</td>\n",
       "      <td>Finished</td>\n",
       "      <td>10.0</td>\n",
       "    </tr>\n",
       "    <tr>\n",
       "      <th>16</th>\n",
       "      <td>16</td>\n",
       "      <td>C LECLERC</td>\n",
       "      <td>LEC</td>\n",
       "      <td>Ferrari</td>\n",
       "      <td>ed1c24</td>\n",
       "      <td>Charles</td>\n",
       "      <td>Leclerc</td>\n",
       "      <td>Charles Leclerc</td>\n",
       "      <td>6.0</td>\n",
       "      <td>2.0</td>\n",
       "      <td>NaT</td>\n",
       "      <td>NaT</td>\n",
       "      <td>NaT</td>\n",
       "      <td>0 days 01:33:04.058000</td>\n",
       "      <td>Finished</td>\n",
       "      <td>8.0</td>\n",
       "    </tr>\n",
       "    <tr>\n",
       "      <th>22</th>\n",
       "      <td>22</td>\n",
       "      <td>Y TSUNODA</td>\n",
       "      <td>TSU</td>\n",
       "      <td>AlphaTauri</td>\n",
       "      <td>4e7c9b</td>\n",
       "      <td>Yuki</td>\n",
       "      <td>Tsunoda</td>\n",
       "      <td>Yuki Tsunoda</td>\n",
       "      <td>7.0</td>\n",
       "      <td>12.0</td>\n",
       "      <td>NaT</td>\n",
       "      <td>NaT</td>\n",
       "      <td>NaT</td>\n",
       "      <td>0 days 01:33:09.096000</td>\n",
       "      <td>Finished</td>\n",
       "      <td>6.0</td>\n",
       "    </tr>\n",
       "    <tr>\n",
       "      <th>5</th>\n",
       "      <td>5</td>\n",
       "      <td>S VETTEL</td>\n",
       "      <td>VET</td>\n",
       "      <td>Aston Martin</td>\n",
       "      <td>2d826d</td>\n",
       "      <td>Sebastian</td>\n",
       "      <td>Vettel</td>\n",
       "      <td>Sebastian Vettel</td>\n",
       "      <td>8.0</td>\n",
       "      <td>13.0</td>\n",
       "      <td>NaT</td>\n",
       "      <td>NaT</td>\n",
       "      <td>NaT</td>\n",
       "      <td>0 days 01:33:18.878000</td>\n",
       "      <td>Finished</td>\n",
       "      <td>4.0</td>\n",
       "    </tr>\n",
       "    <tr>\n",
       "      <th>20</th>\n",
       "      <td>20</td>\n",
       "      <td>K MAGNUSSEN</td>\n",
       "      <td>MAG</td>\n",
       "      <td>Haas F1 Team</td>\n",
       "      <td>b6babd</td>\n",
       "      <td>Kevin</td>\n",
       "      <td>Magnussen</td>\n",
       "      <td>Kevin Magnussen</td>\n",
       "      <td>9.0</td>\n",
       "      <td>8.0</td>\n",
       "      <td>NaT</td>\n",
       "      <td>NaT</td>\n",
       "      <td>NaT</td>\n",
       "      <td>0 days 01:33:23.246000</td>\n",
       "      <td>Finished</td>\n",
       "      <td>2.0</td>\n",
       "    </tr>\n",
       "    <tr>\n",
       "      <th>18</th>\n",
       "      <td>18</td>\n",
       "      <td>L STROLL</td>\n",
       "      <td>STR</td>\n",
       "      <td>Aston Martin</td>\n",
       "      <td>2d826d</td>\n",
       "      <td>Lance</td>\n",
       "      <td>Stroll</td>\n",
       "      <td>Lance Stroll</td>\n",
       "      <td>10.0</td>\n",
       "      <td>15.0</td>\n",
       "      <td>NaT</td>\n",
       "      <td>NaT</td>\n",
       "      <td>NaT</td>\n",
       "      <td>NaT</td>\n",
       "      <td>+1 Lap</td>\n",
       "      <td>1.0</td>\n",
       "    </tr>\n",
       "    <tr>\n",
       "      <th>23</th>\n",
       "      <td>23</td>\n",
       "      <td>A ALBON</td>\n",
       "      <td>ALB</td>\n",
       "      <td>Williams</td>\n",
       "      <td>37bedd</td>\n",
       "      <td>Alexander</td>\n",
       "      <td>Albon</td>\n",
       "      <td>Alexander Albon</td>\n",
       "      <td>11.0</td>\n",
       "      <td>18.0</td>\n",
       "      <td>NaT</td>\n",
       "      <td>NaT</td>\n",
       "      <td>NaT</td>\n",
       "      <td>NaT</td>\n",
       "      <td>+1 Lap</td>\n",
       "      <td>0.0</td>\n",
       "    </tr>\n",
       "    <tr>\n",
       "      <th>10</th>\n",
       "      <td>10</td>\n",
       "      <td>P GASLY</td>\n",
       "      <td>GAS</td>\n",
       "      <td>AlphaTauri</td>\n",
       "      <td>4e7c9b</td>\n",
       "      <td>Pierre</td>\n",
       "      <td>Gasly</td>\n",
       "      <td>Pierre Gasly</td>\n",
       "      <td>12.0</td>\n",
       "      <td>17.0</td>\n",
       "      <td>NaT</td>\n",
       "      <td>NaT</td>\n",
       "      <td>NaT</td>\n",
       "      <td>NaT</td>\n",
       "      <td>+1 Lap</td>\n",
       "      <td>0.0</td>\n",
       "    </tr>\n",
       "    <tr>\n",
       "      <th>44</th>\n",
       "      <td>44</td>\n",
       "      <td>L HAMILTON</td>\n",
       "      <td>HAM</td>\n",
       "      <td>Mercedes</td>\n",
       "      <td>6cd3bf</td>\n",
       "      <td>Lewis</td>\n",
       "      <td>Hamilton</td>\n",
       "      <td>Lewis Hamilton</td>\n",
       "      <td>13.0</td>\n",
       "      <td>14.0</td>\n",
       "      <td>NaT</td>\n",
       "      <td>NaT</td>\n",
       "      <td>NaT</td>\n",
       "      <td>NaT</td>\n",
       "      <td>+1 Lap</td>\n",
       "      <td>0.0</td>\n",
       "    </tr>\n",
       "    <tr>\n",
       "      <th>31</th>\n",
       "      <td>31</td>\n",
       "      <td>E OCON</td>\n",
       "      <td>OCO</td>\n",
       "      <td>Alpine</td>\n",
       "      <td>2293d1</td>\n",
       "      <td>Esteban</td>\n",
       "      <td>Ocon</td>\n",
       "      <td>Esteban Ocon</td>\n",
       "      <td>14.0</td>\n",
       "      <td>16.0</td>\n",
       "      <td>NaT</td>\n",
       "      <td>NaT</td>\n",
       "      <td>NaT</td>\n",
       "      <td>NaT</td>\n",
       "      <td>+1 Lap</td>\n",
       "      <td>0.0</td>\n",
       "    </tr>\n",
       "    <tr>\n",
       "      <th>24</th>\n",
       "      <td>24</td>\n",
       "      <td>G ZHOU</td>\n",
       "      <td>ZHO</td>\n",
       "      <td>Alfa Romeo</td>\n",
       "      <td>b12039</td>\n",
       "      <td>Guanyu</td>\n",
       "      <td>Zhou</td>\n",
       "      <td>Guanyu Zhou</td>\n",
       "      <td>15.0</td>\n",
       "      <td>0.0</td>\n",
       "      <td>NaT</td>\n",
       "      <td>NaT</td>\n",
       "      <td>NaT</td>\n",
       "      <td>NaT</td>\n",
       "      <td>+1 Lap</td>\n",
       "      <td>0.0</td>\n",
       "    </tr>\n",
       "    <tr>\n",
       "      <th>6</th>\n",
       "      <td>6</td>\n",
       "      <td>N LATIFI</td>\n",
       "      <td>LAT</td>\n",
       "      <td>Williams</td>\n",
       "      <td>37bedd</td>\n",
       "      <td>Nicholas</td>\n",
       "      <td>Latifi</td>\n",
       "      <td>Nicholas Latifi</td>\n",
       "      <td>16.0</td>\n",
       "      <td>19.0</td>\n",
       "      <td>NaT</td>\n",
       "      <td>NaT</td>\n",
       "      <td>NaT</td>\n",
       "      <td>NaT</td>\n",
       "      <td>+1 Lap</td>\n",
       "      <td>0.0</td>\n",
       "    </tr>\n",
       "    <tr>\n",
       "      <th>47</th>\n",
       "      <td>47</td>\n",
       "      <td>M SCHUMACHER</td>\n",
       "      <td>MSC</td>\n",
       "      <td>Haas F1 Team</td>\n",
       "      <td>b6babd</td>\n",
       "      <td>Mick</td>\n",
       "      <td>Schumacher</td>\n",
       "      <td>Mick Schumacher</td>\n",
       "      <td>17.0</td>\n",
       "      <td>10.0</td>\n",
       "      <td>NaT</td>\n",
       "      <td>NaT</td>\n",
       "      <td>NaT</td>\n",
       "      <td>NaT</td>\n",
       "      <td>+1 Lap</td>\n",
       "      <td>0.0</td>\n",
       "    </tr>\n",
       "    <tr>\n",
       "      <th>3</th>\n",
       "      <td>3</td>\n",
       "      <td>D RICCIARDO</td>\n",
       "      <td>RIC</td>\n",
       "      <td>McLaren</td>\n",
       "      <td>f58020</td>\n",
       "      <td>Daniel</td>\n",
       "      <td>Ricciardo</td>\n",
       "      <td>Daniel Ricciardo</td>\n",
       "      <td>18.0</td>\n",
       "      <td>6.0</td>\n",
       "      <td>NaT</td>\n",
       "      <td>NaT</td>\n",
       "      <td>NaT</td>\n",
       "      <td>NaT</td>\n",
       "      <td>+1 Lap</td>\n",
       "      <td>0.0</td>\n",
       "    </tr>\n",
       "    <tr>\n",
       "      <th>14</th>\n",
       "      <td>14</td>\n",
       "      <td>F ALONSO</td>\n",
       "      <td>ALO</td>\n",
       "      <td>Alpine</td>\n",
       "      <td>2293d1</td>\n",
       "      <td>Fernando</td>\n",
       "      <td>Alonso</td>\n",
       "      <td>Fernando Alonso</td>\n",
       "      <td>19.0</td>\n",
       "      <td>9.0</td>\n",
       "      <td>NaT</td>\n",
       "      <td>NaT</td>\n",
       "      <td>NaT</td>\n",
       "      <td>NaT</td>\n",
       "      <td>Chassis</td>\n",
       "      <td>0.0</td>\n",
       "    </tr>\n",
       "    <tr>\n",
       "      <th>55</th>\n",
       "      <td>55</td>\n",
       "      <td>C SAINZ</td>\n",
       "      <td>SAI</td>\n",
       "      <td>Ferrari</td>\n",
       "      <td>ed1c24</td>\n",
       "      <td>Carlos</td>\n",
       "      <td>Sainz</td>\n",
       "      <td>Carlos Sainz</td>\n",
       "      <td>20.0</td>\n",
       "      <td>4.0</td>\n",
       "      <td>NaT</td>\n",
       "      <td>NaT</td>\n",
       "      <td>NaT</td>\n",
       "      <td>NaT</td>\n",
       "      <td>Collision</td>\n",
       "      <td>0.0</td>\n",
       "    </tr>\n",
       "  </tbody>\n",
       "</table>\n",
       "</div>"
      ],
      "text/plain": [
       "   DriverNumber BroadcastName Abbreviation         TeamName TeamColor  \\\n",
       "1             1  M VERSTAPPEN          VER  Red Bull Racing    1e5bc6   \n",
       "11           11       S PEREZ          PER  Red Bull Racing    1e5bc6   \n",
       "4             4      L NORRIS          NOR          McLaren    f58020   \n",
       "63           63     G RUSSELL          RUS         Mercedes    6cd3bf   \n",
       "77           77      V BOTTAS          BOT       Alfa Romeo    b12039   \n",
       "16           16     C LECLERC          LEC          Ferrari    ed1c24   \n",
       "22           22     Y TSUNODA          TSU       AlphaTauri    4e7c9b   \n",
       "5             5      S VETTEL          VET     Aston Martin    2d826d   \n",
       "20           20   K MAGNUSSEN          MAG     Haas F1 Team    b6babd   \n",
       "18           18      L STROLL          STR     Aston Martin    2d826d   \n",
       "23           23       A ALBON          ALB         Williams    37bedd   \n",
       "10           10       P GASLY          GAS       AlphaTauri    4e7c9b   \n",
       "44           44    L HAMILTON          HAM         Mercedes    6cd3bf   \n",
       "31           31        E OCON          OCO           Alpine    2293d1   \n",
       "24           24        G ZHOU          ZHO       Alfa Romeo    b12039   \n",
       "6             6      N LATIFI          LAT         Williams    37bedd   \n",
       "47           47  M SCHUMACHER          MSC     Haas F1 Team    b6babd   \n",
       "3             3   D RICCIARDO          RIC          McLaren    f58020   \n",
       "14           14      F ALONSO          ALO           Alpine    2293d1   \n",
       "55           55       C SAINZ          SAI          Ferrari    ed1c24   \n",
       "\n",
       "    FirstName    LastName          FullName  Position  GridPosition  Q1  Q2  \\\n",
       "1         Max  Verstappen    Max Verstappen       1.0           1.0 NaT NaT   \n",
       "11     Sergio       Perez      Sergio Perez       2.0           3.0 NaT NaT   \n",
       "4       Lando      Norris      Lando Norris       3.0           5.0 NaT NaT   \n",
       "63     George     Russell    George Russell       4.0          11.0 NaT NaT   \n",
       "77   Valtteri      Bottas   Valtteri Bottas       5.0           7.0 NaT NaT   \n",
       "16    Charles     Leclerc   Charles Leclerc       6.0           2.0 NaT NaT   \n",
       "22       Yuki     Tsunoda      Yuki Tsunoda       7.0          12.0 NaT NaT   \n",
       "5   Sebastian      Vettel  Sebastian Vettel       8.0          13.0 NaT NaT   \n",
       "20      Kevin   Magnussen   Kevin Magnussen       9.0           8.0 NaT NaT   \n",
       "18      Lance      Stroll      Lance Stroll      10.0          15.0 NaT NaT   \n",
       "23  Alexander       Albon   Alexander Albon      11.0          18.0 NaT NaT   \n",
       "10     Pierre       Gasly      Pierre Gasly      12.0          17.0 NaT NaT   \n",
       "44      Lewis    Hamilton    Lewis Hamilton      13.0          14.0 NaT NaT   \n",
       "31    Esteban        Ocon      Esteban Ocon      14.0          16.0 NaT NaT   \n",
       "24     Guanyu        Zhou       Guanyu Zhou      15.0           0.0 NaT NaT   \n",
       "6    Nicholas      Latifi   Nicholas Latifi      16.0          19.0 NaT NaT   \n",
       "47       Mick  Schumacher   Mick Schumacher      17.0          10.0 NaT NaT   \n",
       "3      Daniel   Ricciardo  Daniel Ricciardo      18.0           6.0 NaT NaT   \n",
       "14   Fernando      Alonso   Fernando Alonso      19.0           9.0 NaT NaT   \n",
       "55     Carlos       Sainz      Carlos Sainz      20.0           4.0 NaT NaT   \n",
       "\n",
       "    Q3                   Time     Status  Points  \n",
       "1  NaT 0 days 01:32:07.986000   Finished    26.0  \n",
       "11 NaT 0 days 01:32:24.513000   Finished    18.0  \n",
       "4  NaT 0 days 01:32:42.820000   Finished    15.0  \n",
       "63 NaT 0 days 01:32:50.492000   Finished    12.0  \n",
       "77 NaT 0 days 01:32:51.167000   Finished    10.0  \n",
       "16 NaT 0 days 01:33:04.058000   Finished     8.0  \n",
       "22 NaT 0 days 01:33:09.096000   Finished     6.0  \n",
       "5  NaT 0 days 01:33:18.878000   Finished     4.0  \n",
       "20 NaT 0 days 01:33:23.246000   Finished     2.0  \n",
       "18 NaT                    NaT     +1 Lap     1.0  \n",
       "23 NaT                    NaT     +1 Lap     0.0  \n",
       "10 NaT                    NaT     +1 Lap     0.0  \n",
       "44 NaT                    NaT     +1 Lap     0.0  \n",
       "31 NaT                    NaT     +1 Lap     0.0  \n",
       "24 NaT                    NaT     +1 Lap     0.0  \n",
       "6  NaT                    NaT     +1 Lap     0.0  \n",
       "47 NaT                    NaT     +1 Lap     0.0  \n",
       "3  NaT                    NaT     +1 Lap     0.0  \n",
       "14 NaT                    NaT    Chassis     0.0  \n",
       "55 NaT                    NaT  Collision     0.0  "
      ]
     },
     "execution_count": 6,
     "metadata": {},
     "output_type": "execute_result"
    }
   ],
   "source": [
    "session.results"
   ]
  },
  {
   "cell_type": "code",
   "execution_count": 7,
   "metadata": {},
   "outputs": [
    {
     "data": {
      "text/html": [
       "<div>\n",
       "<style scoped>\n",
       "    .dataframe tbody tr th:only-of-type {\n",
       "        vertical-align: middle;\n",
       "    }\n",
       "\n",
       "    .dataframe tbody tr th {\n",
       "        vertical-align: top;\n",
       "    }\n",
       "\n",
       "    .dataframe thead th {\n",
       "        text-align: right;\n",
       "    }\n",
       "</style>\n",
       "<table border=\"1\" class=\"dataframe\">\n",
       "  <thead>\n",
       "    <tr style=\"text-align: right;\">\n",
       "      <th></th>\n",
       "      <th>Time</th>\n",
       "      <th>DriverNumber</th>\n",
       "      <th>LapTime</th>\n",
       "      <th>LapNumber</th>\n",
       "      <th>Stint</th>\n",
       "      <th>PitOutTime</th>\n",
       "      <th>PitInTime</th>\n",
       "      <th>Sector1Time</th>\n",
       "      <th>Sector2Time</th>\n",
       "      <th>Sector3Time</th>\n",
       "      <th>...</th>\n",
       "      <th>SpeedST</th>\n",
       "      <th>IsPersonalBest</th>\n",
       "      <th>Compound</th>\n",
       "      <th>TyreLife</th>\n",
       "      <th>FreshTyre</th>\n",
       "      <th>LapStartTime</th>\n",
       "      <th>Team</th>\n",
       "      <th>Driver</th>\n",
       "      <th>TrackStatus</th>\n",
       "      <th>IsAccurate</th>\n",
       "    </tr>\n",
       "  </thead>\n",
       "  <tbody>\n",
       "    <tr>\n",
       "      <th>21</th>\n",
       "      <td>0 days 01:38:38.589000</td>\n",
       "      <td>1</td>\n",
       "      <td>0 days 00:01:23.794000</td>\n",
       "      <td>22.0</td>\n",
       "      <td>2.0</td>\n",
       "      <td>NaT</td>\n",
       "      <td>NaT</td>\n",
       "      <td>0 days 00:00:27.070000</td>\n",
       "      <td>0 days 00:00:28.586000</td>\n",
       "      <td>0 days 00:00:28.138000</td>\n",
       "      <td>...</td>\n",
       "      <td>288.0</td>\n",
       "      <td>False</td>\n",
       "      <td>MEDIUM</td>\n",
       "      <td>3.0</td>\n",
       "      <td>True</td>\n",
       "      <td>0 days 01:37:14.795000</td>\n",
       "      <td>Red Bull Racing</td>\n",
       "      <td>VER</td>\n",
       "      <td>1</td>\n",
       "      <td>True</td>\n",
       "    </tr>\n",
       "    <tr>\n",
       "      <th>22</th>\n",
       "      <td>0 days 01:40:01.458000</td>\n",
       "      <td>1</td>\n",
       "      <td>0 days 00:01:22.869000</td>\n",
       "      <td>23.0</td>\n",
       "      <td>2.0</td>\n",
       "      <td>NaT</td>\n",
       "      <td>NaT</td>\n",
       "      <td>0 days 00:00:26.878000</td>\n",
       "      <td>0 days 00:00:28.284000</td>\n",
       "      <td>0 days 00:00:27.707000</td>\n",
       "      <td>...</td>\n",
       "      <td>279.0</td>\n",
       "      <td>False</td>\n",
       "      <td>MEDIUM</td>\n",
       "      <td>4.0</td>\n",
       "      <td>True</td>\n",
       "      <td>0 days 01:38:38.589000</td>\n",
       "      <td>Red Bull Racing</td>\n",
       "      <td>VER</td>\n",
       "      <td>1</td>\n",
       "      <td>True</td>\n",
       "    </tr>\n",
       "    <tr>\n",
       "      <th>23</th>\n",
       "      <td>0 days 01:41:23.909000</td>\n",
       "      <td>1</td>\n",
       "      <td>0 days 00:01:22.451000</td>\n",
       "      <td>24.0</td>\n",
       "      <td>2.0</td>\n",
       "      <td>NaT</td>\n",
       "      <td>NaT</td>\n",
       "      <td>0 days 00:00:26.411000</td>\n",
       "      <td>0 days 00:00:28.233000</td>\n",
       "      <td>0 days 00:00:27.807000</td>\n",
       "      <td>...</td>\n",
       "      <td>290.0</td>\n",
       "      <td>False</td>\n",
       "      <td>MEDIUM</td>\n",
       "      <td>5.0</td>\n",
       "      <td>True</td>\n",
       "      <td>0 days 01:40:01.458000</td>\n",
       "      <td>Red Bull Racing</td>\n",
       "      <td>VER</td>\n",
       "      <td>1</td>\n",
       "      <td>True</td>\n",
       "    </tr>\n",
       "    <tr>\n",
       "      <th>24</th>\n",
       "      <td>0 days 01:42:46.065000</td>\n",
       "      <td>1</td>\n",
       "      <td>0 days 00:01:22.156000</td>\n",
       "      <td>25.0</td>\n",
       "      <td>2.0</td>\n",
       "      <td>NaT</td>\n",
       "      <td>NaT</td>\n",
       "      <td>0 days 00:00:26.276000</td>\n",
       "      <td>0 days 00:00:27.926000</td>\n",
       "      <td>0 days 00:00:27.954000</td>\n",
       "      <td>...</td>\n",
       "      <td>291.0</td>\n",
       "      <td>False</td>\n",
       "      <td>MEDIUM</td>\n",
       "      <td>6.0</td>\n",
       "      <td>True</td>\n",
       "      <td>0 days 01:41:23.909000</td>\n",
       "      <td>Red Bull Racing</td>\n",
       "      <td>VER</td>\n",
       "      <td>2</td>\n",
       "      <td>True</td>\n",
       "    </tr>\n",
       "    <tr>\n",
       "      <th>25</th>\n",
       "      <td>0 days 01:44:07.718000</td>\n",
       "      <td>1</td>\n",
       "      <td>0 days 00:01:21.653000</td>\n",
       "      <td>26.0</td>\n",
       "      <td>2.0</td>\n",
       "      <td>NaT</td>\n",
       "      <td>NaT</td>\n",
       "      <td>0 days 00:00:26.236000</td>\n",
       "      <td>0 days 00:00:27.987000</td>\n",
       "      <td>0 days 00:00:27.430000</td>\n",
       "      <td>...</td>\n",
       "      <td>289.0</td>\n",
       "      <td>False</td>\n",
       "      <td>MEDIUM</td>\n",
       "      <td>7.0</td>\n",
       "      <td>True</td>\n",
       "      <td>0 days 01:42:46.065000</td>\n",
       "      <td>Red Bull Racing</td>\n",
       "      <td>VER</td>\n",
       "      <td>1</td>\n",
       "      <td>True</td>\n",
       "    </tr>\n",
       "    <tr>\n",
       "      <th>...</th>\n",
       "      <td>...</td>\n",
       "      <td>...</td>\n",
       "      <td>...</td>\n",
       "      <td>...</td>\n",
       "      <td>...</td>\n",
       "      <td>...</td>\n",
       "      <td>...</td>\n",
       "      <td>...</td>\n",
       "      <td>...</td>\n",
       "      <td>...</td>\n",
       "      <td>...</td>\n",
       "      <td>...</td>\n",
       "      <td>...</td>\n",
       "      <td>...</td>\n",
       "      <td>...</td>\n",
       "      <td>...</td>\n",
       "      <td>...</td>\n",
       "      <td>...</td>\n",
       "      <td>...</td>\n",
       "      <td>...</td>\n",
       "      <td>...</td>\n",
       "    </tr>\n",
       "    <tr>\n",
       "      <th>1119</th>\n",
       "      <td>0 days 02:28:21.061000</td>\n",
       "      <td>3</td>\n",
       "      <td>0 days 00:01:21.835000</td>\n",
       "      <td>57.0</td>\n",
       "      <td>4.0</td>\n",
       "      <td>NaT</td>\n",
       "      <td>NaT</td>\n",
       "      <td>0 days 00:00:26.040000</td>\n",
       "      <td>0 days 00:00:28.214000</td>\n",
       "      <td>0 days 00:00:27.581000</td>\n",
       "      <td>...</td>\n",
       "      <td>278.0</td>\n",
       "      <td>False</td>\n",
       "      <td>HARD</td>\n",
       "      <td>27.0</td>\n",
       "      <td>True</td>\n",
       "      <td>0 days 02:26:59.226000</td>\n",
       "      <td>McLaren</td>\n",
       "      <td>RIC</td>\n",
       "      <td>1</td>\n",
       "      <td>True</td>\n",
       "    </tr>\n",
       "    <tr>\n",
       "      <th>1120</th>\n",
       "      <td>0 days 02:29:42.670000</td>\n",
       "      <td>3</td>\n",
       "      <td>0 days 00:01:21.609000</td>\n",
       "      <td>58.0</td>\n",
       "      <td>4.0</td>\n",
       "      <td>NaT</td>\n",
       "      <td>NaT</td>\n",
       "      <td>0 days 00:00:25.976000</td>\n",
       "      <td>0 days 00:00:28.201000</td>\n",
       "      <td>0 days 00:00:27.432000</td>\n",
       "      <td>...</td>\n",
       "      <td>279.0</td>\n",
       "      <td>False</td>\n",
       "      <td>HARD</td>\n",
       "      <td>28.0</td>\n",
       "      <td>True</td>\n",
       "      <td>0 days 02:28:21.061000</td>\n",
       "      <td>McLaren</td>\n",
       "      <td>RIC</td>\n",
       "      <td>1</td>\n",
       "      <td>True</td>\n",
       "    </tr>\n",
       "    <tr>\n",
       "      <th>1121</th>\n",
       "      <td>0 days 02:31:04.352000</td>\n",
       "      <td>3</td>\n",
       "      <td>0 days 00:01:21.682000</td>\n",
       "      <td>59.0</td>\n",
       "      <td>4.0</td>\n",
       "      <td>NaT</td>\n",
       "      <td>NaT</td>\n",
       "      <td>0 days 00:00:25.939000</td>\n",
       "      <td>0 days 00:00:28.237000</td>\n",
       "      <td>0 days 00:00:27.506000</td>\n",
       "      <td>...</td>\n",
       "      <td>278.0</td>\n",
       "      <td>False</td>\n",
       "      <td>HARD</td>\n",
       "      <td>29.0</td>\n",
       "      <td>True</td>\n",
       "      <td>0 days 02:29:42.670000</td>\n",
       "      <td>McLaren</td>\n",
       "      <td>RIC</td>\n",
       "      <td>1</td>\n",
       "      <td>True</td>\n",
       "    </tr>\n",
       "    <tr>\n",
       "      <th>1122</th>\n",
       "      <td>0 days 02:32:26.122000</td>\n",
       "      <td>3</td>\n",
       "      <td>0 days 00:01:21.770000</td>\n",
       "      <td>60.0</td>\n",
       "      <td>4.0</td>\n",
       "      <td>NaT</td>\n",
       "      <td>NaT</td>\n",
       "      <td>0 days 00:00:26.053000</td>\n",
       "      <td>0 days 00:00:28.234000</td>\n",
       "      <td>0 days 00:00:27.483000</td>\n",
       "      <td>...</td>\n",
       "      <td>278.0</td>\n",
       "      <td>False</td>\n",
       "      <td>HARD</td>\n",
       "      <td>30.0</td>\n",
       "      <td>True</td>\n",
       "      <td>0 days 02:31:04.352000</td>\n",
       "      <td>McLaren</td>\n",
       "      <td>RIC</td>\n",
       "      <td>1</td>\n",
       "      <td>True</td>\n",
       "    </tr>\n",
       "    <tr>\n",
       "      <th>1123</th>\n",
       "      <td>0 days 02:33:47.699000</td>\n",
       "      <td>3</td>\n",
       "      <td>0 days 00:01:21.577000</td>\n",
       "      <td>61.0</td>\n",
       "      <td>4.0</td>\n",
       "      <td>NaT</td>\n",
       "      <td>NaT</td>\n",
       "      <td>0 days 00:00:25.993000</td>\n",
       "      <td>0 days 00:00:28.199000</td>\n",
       "      <td>0 days 00:00:27.385000</td>\n",
       "      <td>...</td>\n",
       "      <td>279.0</td>\n",
       "      <td>True</td>\n",
       "      <td>HARD</td>\n",
       "      <td>31.0</td>\n",
       "      <td>True</td>\n",
       "      <td>0 days 02:32:26.122000</td>\n",
       "      <td>McLaren</td>\n",
       "      <td>RIC</td>\n",
       "      <td>1</td>\n",
       "      <td>True</td>\n",
       "    </tr>\n",
       "  </tbody>\n",
       "</table>\n",
       "<p>687 rows × 26 columns</p>\n",
       "</div>"
      ],
      "text/plain": [
       "                       Time DriverNumber                LapTime  LapNumber  \\\n",
       "21   0 days 01:38:38.589000            1 0 days 00:01:23.794000       22.0   \n",
       "22   0 days 01:40:01.458000            1 0 days 00:01:22.869000       23.0   \n",
       "23   0 days 01:41:23.909000            1 0 days 00:01:22.451000       24.0   \n",
       "24   0 days 01:42:46.065000            1 0 days 00:01:22.156000       25.0   \n",
       "25   0 days 01:44:07.718000            1 0 days 00:01:21.653000       26.0   \n",
       "...                     ...          ...                    ...        ...   \n",
       "1119 0 days 02:28:21.061000            3 0 days 00:01:21.835000       57.0   \n",
       "1120 0 days 02:29:42.670000            3 0 days 00:01:21.609000       58.0   \n",
       "1121 0 days 02:31:04.352000            3 0 days 00:01:21.682000       59.0   \n",
       "1122 0 days 02:32:26.122000            3 0 days 00:01:21.770000       60.0   \n",
       "1123 0 days 02:33:47.699000            3 0 days 00:01:21.577000       61.0   \n",
       "\n",
       "      Stint PitOutTime PitInTime            Sector1Time  \\\n",
       "21      2.0        NaT       NaT 0 days 00:00:27.070000   \n",
       "22      2.0        NaT       NaT 0 days 00:00:26.878000   \n",
       "23      2.0        NaT       NaT 0 days 00:00:26.411000   \n",
       "24      2.0        NaT       NaT 0 days 00:00:26.276000   \n",
       "25      2.0        NaT       NaT 0 days 00:00:26.236000   \n",
       "...     ...        ...       ...                    ...   \n",
       "1119    4.0        NaT       NaT 0 days 00:00:26.040000   \n",
       "1120    4.0        NaT       NaT 0 days 00:00:25.976000   \n",
       "1121    4.0        NaT       NaT 0 days 00:00:25.939000   \n",
       "1122    4.0        NaT       NaT 0 days 00:00:26.053000   \n",
       "1123    4.0        NaT       NaT 0 days 00:00:25.993000   \n",
       "\n",
       "                Sector2Time            Sector3Time  ... SpeedST  \\\n",
       "21   0 days 00:00:28.586000 0 days 00:00:28.138000  ...   288.0   \n",
       "22   0 days 00:00:28.284000 0 days 00:00:27.707000  ...   279.0   \n",
       "23   0 days 00:00:28.233000 0 days 00:00:27.807000  ...   290.0   \n",
       "24   0 days 00:00:27.926000 0 days 00:00:27.954000  ...   291.0   \n",
       "25   0 days 00:00:27.987000 0 days 00:00:27.430000  ...   289.0   \n",
       "...                     ...                    ...  ...     ...   \n",
       "1119 0 days 00:00:28.214000 0 days 00:00:27.581000  ...   278.0   \n",
       "1120 0 days 00:00:28.201000 0 days 00:00:27.432000  ...   279.0   \n",
       "1121 0 days 00:00:28.237000 0 days 00:00:27.506000  ...   278.0   \n",
       "1122 0 days 00:00:28.234000 0 days 00:00:27.483000  ...   278.0   \n",
       "1123 0 days 00:00:28.199000 0 days 00:00:27.385000  ...   279.0   \n",
       "\n",
       "     IsPersonalBest Compound  TyreLife  FreshTyre           LapStartTime  \\\n",
       "21            False   MEDIUM       3.0       True 0 days 01:37:14.795000   \n",
       "22            False   MEDIUM       4.0       True 0 days 01:38:38.589000   \n",
       "23            False   MEDIUM       5.0       True 0 days 01:40:01.458000   \n",
       "24            False   MEDIUM       6.0       True 0 days 01:41:23.909000   \n",
       "25            False   MEDIUM       7.0       True 0 days 01:42:46.065000   \n",
       "...             ...      ...       ...        ...                    ...   \n",
       "1119          False     HARD      27.0       True 0 days 02:26:59.226000   \n",
       "1120          False     HARD      28.0       True 0 days 02:28:21.061000   \n",
       "1121          False     HARD      29.0       True 0 days 02:29:42.670000   \n",
       "1122          False     HARD      30.0       True 0 days 02:31:04.352000   \n",
       "1123           True     HARD      31.0       True 0 days 02:32:26.122000   \n",
       "\n",
       "                 Team  Driver TrackStatus  IsAccurate  \n",
       "21    Red Bull Racing     VER           1        True  \n",
       "22    Red Bull Racing     VER           1        True  \n",
       "23    Red Bull Racing     VER           1        True  \n",
       "24    Red Bull Racing     VER           2        True  \n",
       "25    Red Bull Racing     VER           1        True  \n",
       "...               ...     ...         ...         ...  \n",
       "1119          McLaren     RIC           1        True  \n",
       "1120          McLaren     RIC           1        True  \n",
       "1121          McLaren     RIC           1        True  \n",
       "1122          McLaren     RIC           1        True  \n",
       "1123          McLaren     RIC           1        True  \n",
       "\n",
       "[687 rows x 26 columns]"
      ]
     },
     "execution_count": 7,
     "metadata": {},
     "output_type": "execute_result"
    }
   ],
   "source": [
    "# Returns only laps quicker than 107% of the quickest lap of the session, removing outlaps and inlaps.\n",
    "session.laps.pick_quicklaps()"
   ]
  },
  {
   "cell_type": "code",
   "execution_count": 8,
   "metadata": {},
   "outputs": [
    {
     "data": {
      "text/html": [
       "<div>\n",
       "<style scoped>\n",
       "    .dataframe tbody tr th:only-of-type {\n",
       "        vertical-align: middle;\n",
       "    }\n",
       "\n",
       "    .dataframe tbody tr th {\n",
       "        vertical-align: top;\n",
       "    }\n",
       "\n",
       "    .dataframe thead th {\n",
       "        text-align: right;\n",
       "    }\n",
       "</style>\n",
       "<table border=\"1\" class=\"dataframe\">\n",
       "  <thead>\n",
       "    <tr style=\"text-align: right;\">\n",
       "      <th></th>\n",
       "      <th>Time</th>\n",
       "      <th>DriverNumber</th>\n",
       "      <th>LapTime</th>\n",
       "      <th>LapNumber</th>\n",
       "      <th>Stint</th>\n",
       "      <th>PitOutTime</th>\n",
       "      <th>PitInTime</th>\n",
       "      <th>Sector1Time</th>\n",
       "      <th>Sector2Time</th>\n",
       "      <th>Sector3Time</th>\n",
       "      <th>...</th>\n",
       "      <th>SpeedST</th>\n",
       "      <th>IsPersonalBest</th>\n",
       "      <th>Compound</th>\n",
       "      <th>TyreLife</th>\n",
       "      <th>FreshTyre</th>\n",
       "      <th>LapStartTime</th>\n",
       "      <th>Team</th>\n",
       "      <th>Driver</th>\n",
       "      <th>TrackStatus</th>\n",
       "      <th>IsAccurate</th>\n",
       "    </tr>\n",
       "  </thead>\n",
       "  <tbody>\n",
       "    <tr>\n",
       "      <th>0</th>\n",
       "      <td>0 days 01:03:54.806000</td>\n",
       "      <td>1</td>\n",
       "      <td>NaT</td>\n",
       "      <td>1.0</td>\n",
       "      <td>1.0</td>\n",
       "      <td>0 days 00:25:08.250000</td>\n",
       "      <td>NaT</td>\n",
       "      <td>NaT</td>\n",
       "      <td>0 days 00:00:31.809000</td>\n",
       "      <td>0 days 00:00:46.739000</td>\n",
       "      <td>...</td>\n",
       "      <td>100.0</td>\n",
       "      <td>False</td>\n",
       "      <td>INTERMEDIATE</td>\n",
       "      <td>1.0</td>\n",
       "      <td>True</td>\n",
       "      <td>0 days 01:02:03.225000</td>\n",
       "      <td>Red Bull Racing</td>\n",
       "      <td>VER</td>\n",
       "      <td>24</td>\n",
       "      <td>False</td>\n",
       "    </tr>\n",
       "    <tr>\n",
       "      <th>1</th>\n",
       "      <td>0 days 01:06:20.801000</td>\n",
       "      <td>1</td>\n",
       "      <td>0 days 00:02:25.995000</td>\n",
       "      <td>2.0</td>\n",
       "      <td>1.0</td>\n",
       "      <td>NaT</td>\n",
       "      <td>NaT</td>\n",
       "      <td>0 days 00:00:54.085000</td>\n",
       "      <td>0 days 00:00:47.410000</td>\n",
       "      <td>0 days 00:00:44.500000</td>\n",
       "      <td>...</td>\n",
       "      <td>133.0</td>\n",
       "      <td>False</td>\n",
       "      <td>INTERMEDIATE</td>\n",
       "      <td>2.0</td>\n",
       "      <td>True</td>\n",
       "      <td>0 days 01:03:54.806000</td>\n",
       "      <td>Red Bull Racing</td>\n",
       "      <td>VER</td>\n",
       "      <td>4</td>\n",
       "      <td>False</td>\n",
       "    </tr>\n",
       "    <tr>\n",
       "      <th>2</th>\n",
       "      <td>0 days 01:08:37.301000</td>\n",
       "      <td>1</td>\n",
       "      <td>0 days 00:02:16.500000</td>\n",
       "      <td>3.0</td>\n",
       "      <td>1.0</td>\n",
       "      <td>NaT</td>\n",
       "      <td>NaT</td>\n",
       "      <td>0 days 00:00:45.833000</td>\n",
       "      <td>0 days 00:00:46.168000</td>\n",
       "      <td>0 days 00:00:44.499000</td>\n",
       "      <td>...</td>\n",
       "      <td>164.0</td>\n",
       "      <td>False</td>\n",
       "      <td>INTERMEDIATE</td>\n",
       "      <td>3.0</td>\n",
       "      <td>True</td>\n",
       "      <td>0 days 01:06:20.801000</td>\n",
       "      <td>Red Bull Racing</td>\n",
       "      <td>VER</td>\n",
       "      <td>4</td>\n",
       "      <td>False</td>\n",
       "    </tr>\n",
       "    <tr>\n",
       "      <th>3</th>\n",
       "      <td>0 days 01:11:04.728000</td>\n",
       "      <td>1</td>\n",
       "      <td>0 days 00:02:27.427000</td>\n",
       "      <td>4.0</td>\n",
       "      <td>1.0</td>\n",
       "      <td>NaT</td>\n",
       "      <td>NaT</td>\n",
       "      <td>0 days 00:00:42.546000</td>\n",
       "      <td>0 days 00:00:48.335000</td>\n",
       "      <td>0 days 00:00:56.546000</td>\n",
       "      <td>...</td>\n",
       "      <td>101.0</td>\n",
       "      <td>False</td>\n",
       "      <td>INTERMEDIATE</td>\n",
       "      <td>4.0</td>\n",
       "      <td>True</td>\n",
       "      <td>0 days 01:08:37.301000</td>\n",
       "      <td>Red Bull Racing</td>\n",
       "      <td>VER</td>\n",
       "      <td>4</td>\n",
       "      <td>False</td>\n",
       "    </tr>\n",
       "    <tr>\n",
       "      <th>4</th>\n",
       "      <td>0 days 01:12:36.178000</td>\n",
       "      <td>1</td>\n",
       "      <td>0 days 00:01:31.450000</td>\n",
       "      <td>5.0</td>\n",
       "      <td>1.0</td>\n",
       "      <td>NaT</td>\n",
       "      <td>NaT</td>\n",
       "      <td>0 days 00:00:29.619000</td>\n",
       "      <td>0 days 00:00:30.801000</td>\n",
       "      <td>0 days 00:00:31.030000</td>\n",
       "      <td>...</td>\n",
       "      <td>273.0</td>\n",
       "      <td>False</td>\n",
       "      <td>INTERMEDIATE</td>\n",
       "      <td>5.0</td>\n",
       "      <td>True</td>\n",
       "      <td>0 days 01:11:04.728000</td>\n",
       "      <td>Red Bull Racing</td>\n",
       "      <td>VER</td>\n",
       "      <td>1</td>\n",
       "      <td>False</td>\n",
       "    </tr>\n",
       "  </tbody>\n",
       "</table>\n",
       "<p>5 rows × 26 columns</p>\n",
       "</div>"
      ],
      "text/plain": [
       "                    Time DriverNumber                LapTime  LapNumber  \\\n",
       "0 0 days 01:03:54.806000            1                    NaT        1.0   \n",
       "1 0 days 01:06:20.801000            1 0 days 00:02:25.995000        2.0   \n",
       "2 0 days 01:08:37.301000            1 0 days 00:02:16.500000        3.0   \n",
       "3 0 days 01:11:04.728000            1 0 days 00:02:27.427000        4.0   \n",
       "4 0 days 01:12:36.178000            1 0 days 00:01:31.450000        5.0   \n",
       "\n",
       "   Stint             PitOutTime PitInTime            Sector1Time  \\\n",
       "0    1.0 0 days 00:25:08.250000       NaT                    NaT   \n",
       "1    1.0                    NaT       NaT 0 days 00:00:54.085000   \n",
       "2    1.0                    NaT       NaT 0 days 00:00:45.833000   \n",
       "3    1.0                    NaT       NaT 0 days 00:00:42.546000   \n",
       "4    1.0                    NaT       NaT 0 days 00:00:29.619000   \n",
       "\n",
       "             Sector2Time            Sector3Time  ... SpeedST IsPersonalBest  \\\n",
       "0 0 days 00:00:31.809000 0 days 00:00:46.739000  ...   100.0          False   \n",
       "1 0 days 00:00:47.410000 0 days 00:00:44.500000  ...   133.0          False   \n",
       "2 0 days 00:00:46.168000 0 days 00:00:44.499000  ...   164.0          False   \n",
       "3 0 days 00:00:48.335000 0 days 00:00:56.546000  ...   101.0          False   \n",
       "4 0 days 00:00:30.801000 0 days 00:00:31.030000  ...   273.0          False   \n",
       "\n",
       "       Compound  TyreLife  FreshTyre           LapStartTime             Team  \\\n",
       "0  INTERMEDIATE       1.0       True 0 days 01:02:03.225000  Red Bull Racing   \n",
       "1  INTERMEDIATE       2.0       True 0 days 01:03:54.806000  Red Bull Racing   \n",
       "2  INTERMEDIATE       3.0       True 0 days 01:06:20.801000  Red Bull Racing   \n",
       "3  INTERMEDIATE       4.0       True 0 days 01:08:37.301000  Red Bull Racing   \n",
       "4  INTERMEDIATE       5.0       True 0 days 01:11:04.728000  Red Bull Racing   \n",
       "\n",
       "   Driver TrackStatus  IsAccurate  \n",
       "0     VER          24       False  \n",
       "1     VER           4       False  \n",
       "2     VER           4       False  \n",
       "3     VER           4       False  \n",
       "4     VER           1       False  \n",
       "\n",
       "[5 rows x 26 columns]"
      ]
     },
     "execution_count": 8,
     "metadata": {},
     "output_type": "execute_result"
    }
   ],
   "source": [
    "df = session.laps\n",
    "df.head()"
   ]
  },
  {
   "cell_type": "code",
   "execution_count": 9,
   "metadata": {},
   "outputs": [
    {
     "data": {
      "text/html": [
       "<div>\n",
       "<style scoped>\n",
       "    .dataframe tbody tr th:only-of-type {\n",
       "        vertical-align: middle;\n",
       "    }\n",
       "\n",
       "    .dataframe tbody tr th {\n",
       "        vertical-align: top;\n",
       "    }\n",
       "\n",
       "    .dataframe thead th {\n",
       "        text-align: right;\n",
       "    }\n",
       "</style>\n",
       "<table border=\"1\" class=\"dataframe\">\n",
       "  <thead>\n",
       "    <tr style=\"text-align: right;\">\n",
       "      <th></th>\n",
       "      <th>Time</th>\n",
       "      <th>LapNumber</th>\n",
       "      <th>Driver</th>\n",
       "    </tr>\n",
       "  </thead>\n",
       "  <tbody>\n",
       "    <tr>\n",
       "      <th>0</th>\n",
       "      <td>0 days 01:03:54.806000</td>\n",
       "      <td>1.0</td>\n",
       "      <td>VER</td>\n",
       "    </tr>\n",
       "    <tr>\n",
       "      <th>1</th>\n",
       "      <td>0 days 01:06:20.801000</td>\n",
       "      <td>2.0</td>\n",
       "      <td>VER</td>\n",
       "    </tr>\n",
       "    <tr>\n",
       "      <th>2</th>\n",
       "      <td>0 days 01:08:37.301000</td>\n",
       "      <td>3.0</td>\n",
       "      <td>VER</td>\n",
       "    </tr>\n",
       "    <tr>\n",
       "      <th>3</th>\n",
       "      <td>0 days 01:11:04.728000</td>\n",
       "      <td>4.0</td>\n",
       "      <td>VER</td>\n",
       "    </tr>\n",
       "    <tr>\n",
       "      <th>4</th>\n",
       "      <td>0 days 01:12:36.178000</td>\n",
       "      <td>5.0</td>\n",
       "      <td>VER</td>\n",
       "    </tr>\n",
       "  </tbody>\n",
       "</table>\n",
       "</div>"
      ],
      "text/plain": [
       "                    Time  LapNumber Driver\n",
       "0 0 days 01:03:54.806000        1.0    VER\n",
       "1 0 days 01:06:20.801000        2.0    VER\n",
       "2 0 days 01:08:37.301000        3.0    VER\n",
       "3 0 days 01:11:04.728000        4.0    VER\n",
       "4 0 days 01:12:36.178000        5.0    VER"
      ]
     },
     "execution_count": 9,
     "metadata": {},
     "output_type": "execute_result"
    }
   ],
   "source": [
    "df = df[[\"Time\", \"LapNumber\", \"Driver\"]]\n",
    "df.head()\n"
   ]
  },
  {
   "cell_type": "code",
   "execution_count": 10,
   "metadata": {},
   "outputs": [
    {
     "data": {
      "text/html": [
       "<div>\n",
       "<style scoped>\n",
       "    .dataframe tbody tr th:only-of-type {\n",
       "        vertical-align: middle;\n",
       "    }\n",
       "\n",
       "    .dataframe tbody tr th {\n",
       "        vertical-align: top;\n",
       "    }\n",
       "\n",
       "    .dataframe thead th {\n",
       "        text-align: right;\n",
       "    }\n",
       "</style>\n",
       "<table border=\"1\" class=\"dataframe\">\n",
       "  <thead>\n",
       "    <tr style=\"text-align: right;\">\n",
       "      <th></th>\n",
       "      <th>Time</th>\n",
       "      <th>LapNumber</th>\n",
       "      <th>Driver</th>\n",
       "    </tr>\n",
       "  </thead>\n",
       "  <tbody>\n",
       "    <tr>\n",
       "      <th>0</th>\n",
       "      <td>3834.806</td>\n",
       "      <td>1.0</td>\n",
       "      <td>VER</td>\n",
       "    </tr>\n",
       "    <tr>\n",
       "      <th>1</th>\n",
       "      <td>3980.801</td>\n",
       "      <td>2.0</td>\n",
       "      <td>VER</td>\n",
       "    </tr>\n",
       "    <tr>\n",
       "      <th>2</th>\n",
       "      <td>4117.301</td>\n",
       "      <td>3.0</td>\n",
       "      <td>VER</td>\n",
       "    </tr>\n",
       "    <tr>\n",
       "      <th>3</th>\n",
       "      <td>4264.728</td>\n",
       "      <td>4.0</td>\n",
       "      <td>VER</td>\n",
       "    </tr>\n",
       "    <tr>\n",
       "      <th>4</th>\n",
       "      <td>4356.178</td>\n",
       "      <td>5.0</td>\n",
       "      <td>VER</td>\n",
       "    </tr>\n",
       "  </tbody>\n",
       "</table>\n",
       "</div>"
      ],
      "text/plain": [
       "       Time  LapNumber Driver\n",
       "0  3834.806        1.0    VER\n",
       "1  3980.801        2.0    VER\n",
       "2  4117.301        3.0    VER\n",
       "3  4264.728        4.0    VER\n",
       "4  4356.178        5.0    VER"
      ]
     },
     "execution_count": 10,
     "metadata": {},
     "output_type": "execute_result"
    }
   ],
   "source": [
    "import re\n",
    "#Convert Time to seconds\n",
    "def time_to_seconds(string):\n",
    "    array = re.findall(r'[0-9]+', str(string))\n",
    "    array = array[1:]\n",
    "    array[0] = int(array[0]) * 3600\n",
    "    array[1] = int(array[1]) * 60\n",
    "    array = float(str(array[0] + array[1] + int(array[2])) + \".\" + array[3])\n",
    "    \n",
    "    return array\n",
    "\n",
    "df[\"Time\"] = df[\"Time\"].apply(time_to_seconds)\n",
    "df.head()\n",
    "\n"
   ]
  },
  {
   "cell_type": "code",
   "execution_count": 11,
   "metadata": {},
   "outputs": [],
   "source": [
    "# fig_bar = px.histogram(df, x=\"Driver\", y=\"Time2\", color=\"Driver\",\n",
    "#                  animation_frame=\"LapNumber\", animation_group=\"Driver\", \n",
    "#                  range_y=[0,30000],\n",
    "#                  color_discrete_sequence=px.colors.qualitative.T10)\n",
    "# fig_bar.update_yaxes(showgrid=False),\n",
    "# fig_bar.update_xaxes(categoryorder='total ascending')\n",
    "# fig_bar.update_traces(hovertemplate=None)\n",
    "# fig_bar.update_layout(margin=dict(t=70, b=0, l=70, r=40),\n",
    "#                         hovermode=\"x unified\",\n",
    "#                         xaxis_tickangle=360,\n",
    "#                         xaxis_title=' ', yaxis_title=\" \",\n",
    "#                         plot_bgcolor='#2d3035', paper_bgcolor='#2d3035',\n",
    "#                         title_font=dict(size=25, color='#a5a7ab', family=\"Lato, sans-serif\"),\n",
    "#                         font=dict(color='#8a8d93'),\n",
    "#                         legend=dict(orientation=\"h\", yanchor=\"bottom\", y=1.02, xanchor=\"right\", x=1)\n",
    "#                           )\n",
    "# fig_bar.show()"
   ]
  },
  {
   "cell_type": "code",
   "execution_count": 12,
   "metadata": {},
   "outputs": [],
   "source": [
    "df[\"LapNumber\"] = df[\"LapNumber\"].astype(int)\n",
    "LapNumber = max(df[\"LapNumber\"])\n"
   ]
  },
  {
   "cell_type": "code",
   "execution_count": 13,
   "metadata": {},
   "outputs": [],
   "source": [
    "df = df[df[\"LapNumber\"] != 0]"
   ]
  },
  {
   "cell_type": "code",
   "execution_count": 14,
   "metadata": {},
   "outputs": [
    {
     "data": {
      "text/html": [
       "<div>\n",
       "<style scoped>\n",
       "    .dataframe tbody tr th:only-of-type {\n",
       "        vertical-align: middle;\n",
       "    }\n",
       "\n",
       "    .dataframe tbody tr th {\n",
       "        vertical-align: top;\n",
       "    }\n",
       "\n",
       "    .dataframe thead th {\n",
       "        text-align: right;\n",
       "    }\n",
       "</style>\n",
       "<table border=\"1\" class=\"dataframe\">\n",
       "  <thead>\n",
       "    <tr style=\"text-align: right;\">\n",
       "      <th></th>\n",
       "      <th>Time</th>\n",
       "      <th>LapNumber</th>\n",
       "      <th>Driver</th>\n",
       "    </tr>\n",
       "  </thead>\n",
       "  <tbody>\n",
       "    <tr>\n",
       "      <th>0</th>\n",
       "      <td>3834.806</td>\n",
       "      <td>1</td>\n",
       "      <td>VER</td>\n",
       "    </tr>\n",
       "    <tr>\n",
       "      <th>63</th>\n",
       "      <td>3835.995</td>\n",
       "      <td>1</td>\n",
       "      <td>PER</td>\n",
       "    </tr>\n",
       "    <tr>\n",
       "      <th>126</th>\n",
       "      <td>3838.123</td>\n",
       "      <td>1</td>\n",
       "      <td>NOR</td>\n",
       "    </tr>\n",
       "    <tr>\n",
       "      <th>315</th>\n",
       "      <td>3839.435</td>\n",
       "      <td>1</td>\n",
       "      <td>LEC</td>\n",
       "    </tr>\n",
       "    <tr>\n",
       "      <th>504</th>\n",
       "      <td>3840.967</td>\n",
       "      <td>1</td>\n",
       "      <td>MAG</td>\n",
       "    </tr>\n",
       "    <tr>\n",
       "      <th>...</th>\n",
       "      <td>...</td>\n",
       "      <td>...</td>\n",
       "      <td>...</td>\n",
       "    </tr>\n",
       "    <tr>\n",
       "      <th>377</th>\n",
       "      <td>9307.565</td>\n",
       "      <td>63</td>\n",
       "      <td>LEC</td>\n",
       "    </tr>\n",
       "    <tr>\n",
       "      <th>440</th>\n",
       "      <td>9312.583</td>\n",
       "      <td>63</td>\n",
       "      <td>TSU</td>\n",
       "    </tr>\n",
       "    <tr>\n",
       "      <th>1124</th>\n",
       "      <td>9314.136</td>\n",
       "      <td>62</td>\n",
       "      <td>RIC</td>\n",
       "    </tr>\n",
       "    <tr>\n",
       "      <th>503</th>\n",
       "      <td>9322.378</td>\n",
       "      <td>63</td>\n",
       "      <td>VET</td>\n",
       "    </tr>\n",
       "    <tr>\n",
       "      <th>566</th>\n",
       "      <td>9326.758</td>\n",
       "      <td>63</td>\n",
       "      <td>MAG</td>\n",
       "    </tr>\n",
       "  </tbody>\n",
       "</table>\n",
       "<p>1131 rows × 3 columns</p>\n",
       "</div>"
      ],
      "text/plain": [
       "          Time  LapNumber Driver\n",
       "0     3834.806          1    VER\n",
       "63    3835.995          1    PER\n",
       "126   3838.123          1    NOR\n",
       "315   3839.435          1    LEC\n",
       "504   3840.967          1    MAG\n",
       "...        ...        ...    ...\n",
       "377   9307.565         63    LEC\n",
       "440   9312.583         63    TSU\n",
       "1124  9314.136         62    RIC\n",
       "503   9322.378         63    VET\n",
       "566   9326.758         63    MAG\n",
       "\n",
       "[1131 rows x 3 columns]"
      ]
     },
     "execution_count": 14,
     "metadata": {},
     "output_type": "execute_result"
    }
   ],
   "source": [
    "df.sort_values(by=['Time'])"
   ]
  },
  {
   "cell_type": "code",
   "execution_count": 15,
   "metadata": {},
   "outputs": [
    {
     "data": {
      "text/html": [
       "<div>\n",
       "<style scoped>\n",
       "    .dataframe tbody tr th:only-of-type {\n",
       "        vertical-align: middle;\n",
       "    }\n",
       "\n",
       "    .dataframe tbody tr th {\n",
       "        vertical-align: top;\n",
       "    }\n",
       "\n",
       "    .dataframe thead th {\n",
       "        text-align: right;\n",
       "    }\n",
       "</style>\n",
       "<table border=\"1\" class=\"dataframe\">\n",
       "  <thead>\n",
       "    <tr style=\"text-align: right;\">\n",
       "      <th></th>\n",
       "      <th>LapNumber</th>\n",
       "      <th>Driver</th>\n",
       "      <th>Time_Diff</th>\n",
       "    </tr>\n",
       "  </thead>\n",
       "  <tbody>\n",
       "    <tr>\n",
       "      <th>0</th>\n",
       "      <td>1</td>\n",
       "      <td>VER</td>\n",
       "      <td>0.000</td>\n",
       "    </tr>\n",
       "    <tr>\n",
       "      <th>63</th>\n",
       "      <td>1</td>\n",
       "      <td>PER</td>\n",
       "      <td>1.189</td>\n",
       "    </tr>\n",
       "    <tr>\n",
       "      <th>126</th>\n",
       "      <td>1</td>\n",
       "      <td>NOR</td>\n",
       "      <td>3.317</td>\n",
       "    </tr>\n",
       "    <tr>\n",
       "      <th>189</th>\n",
       "      <td>1</td>\n",
       "      <td>RUS</td>\n",
       "      <td>8.393</td>\n",
       "    </tr>\n",
       "    <tr>\n",
       "      <th>252</th>\n",
       "      <td>1</td>\n",
       "      <td>BOT</td>\n",
       "      <td>9.655</td>\n",
       "    </tr>\n",
       "  </tbody>\n",
       "</table>\n",
       "</div>"
      ],
      "text/plain": [
       "     LapNumber Driver  Time_Diff\n",
       "0            1    VER      0.000\n",
       "63           1    PER      1.189\n",
       "126          1    NOR      3.317\n",
       "189          1    RUS      8.393\n",
       "252          1    BOT      9.655"
      ]
     },
     "execution_count": 15,
     "metadata": {},
     "output_type": "execute_result"
    }
   ],
   "source": [
    "new_df = pd.DataFrame()\n",
    "for i in range (1, LapNumber):\n",
    "    df_i = df[df[\"LapNumber\"] == i]\n",
    "    minimum = min(df_i[\"Time\"])\n",
    "    df_i[\"Time_Diff\"] = df_i[\"Time\"] - minimum\n",
    "    df_i.sort_values(by=['Time'])\n",
    "    new_df = pd.concat([new_df, df_i])\n",
    "\n",
    "new_df = new_df[[\"LapNumber\", \"Driver\", \"Time_Diff\"]]\n",
    "# new_df = new_df.set_index('LapNumber')\n",
    "new_df.head(5)"
   ]
  },
  {
   "cell_type": "code",
   "execution_count": null,
   "metadata": {},
   "outputs": [],
   "source": []
  },
  {
   "cell_type": "code",
   "execution_count": 16,
   "metadata": {},
   "outputs": [
    {
     "data": {
      "application/vnd.plotly.v1+json": {
       "config": {
        "plotlyServerURL": "https://plot.ly"
       },
       "data": [
        {
         "cliponaxis": false,
         "hoverinfo": "all",
         "marker": {
          "color": [
           "rgb(232, 0, 104)",
           "rgb(29, 28, 224)",
           "rgb(161, 141, 0)",
           "rgb(97, 238, 231)",
           "rgb(162, 130, 237)",
           "rgb(205, 150, 7)",
           "rgb(133, 28, 83)",
           "rgb(6, 123, 186)",
           "rgb(77, 118, 120)",
           "rgb(247, 251, 55)"
          ]
         },
         "orientation": "h",
         "textangle": 0,
         "textposition": "outside",
         "texttemplate": "%{y}<br>%{x:.4s}",
         "type": "bar",
         "x": [
          14.320000000000164,
          16.36999999999989,
          18.14300000000003,
          19.253000000000156,
          20.360000000000127,
          21.61499999999978,
          23.087999999999738,
          24.26800000000003,
          27.184999999999945,
          28.146000000000186
         ],
         "y": [
          "TSU",
          "STR",
          "HAM",
          "OCO",
          "GAS",
          "ALB",
          "LAT",
          "MSC",
          "ZHO",
          "RIC"
         ]
        }
       ],
       "frames": [
        {
         "data": [
          {
           "cliponaxis": false,
           "hoverinfo": "all",
           "hovertemplate": "<extra></extra>",
           "marker": {
            "color": [
             "rgb(232, 0, 104)",
             "rgb(29, 28, 224)",
             "rgb(161, 141, 0)",
             "rgb(97, 238, 231)",
             "rgb(162, 130, 237)",
             "rgb(205, 150, 7)",
             "rgb(133, 28, 83)",
             "rgb(6, 123, 186)",
             "rgb(77, 118, 120)",
             "rgb(247, 251, 55)"
            ]
           },
           "orientation": "h",
           "textangle": 0,
           "textposition": "outside",
           "texttemplate": "%{y}<br>%{x:.4s}",
           "type": "bar",
           "x": [
            14.320000000000164,
            16.36999999999989,
            18.14300000000003,
            19.253000000000156,
            20.360000000000127,
            21.61499999999978,
            23.087999999999738,
            24.26800000000003,
            27.184999999999945,
            28.146000000000186
           ],
           "y": [
            "TSU",
            "STR",
            "HAM",
            "OCO",
            "GAS",
            "ALB",
            "LAT",
            "MSC",
            "ZHO",
            "RIC"
           ]
          }
         ],
         "layout": {
          "bargap": 0.15,
          "font": {
           "size": 14
          },
          "plot_bgcolor": "#FFFFFF",
          "xaxis": {
           "range": [
            0,
            142.8060000000005
           ],
           "showline": true,
           "visible": true
          },
          "yaxis": {
           "showline": false,
           "visible": true
          }
         },
         "name": "1"
        },
        {
         "data": [
          {
           "cliponaxis": false,
           "hoverinfo": "all",
           "hovertemplate": "<extra></extra>",
           "marker": {
            "color": [
             "rgb(232, 0, 104)",
             "rgb(29, 28, 224)",
             "rgb(161, 141, 0)",
             "rgb(97, 238, 231)",
             "rgb(162, 130, 237)",
             "rgb(205, 150, 7)",
             "rgb(133, 28, 83)",
             "rgb(6, 123, 186)",
             "rgb(77, 118, 120)",
             "rgb(247, 251, 55)"
            ]
           },
           "orientation": "h",
           "textangle": 0,
           "textposition": "outside",
           "texttemplate": "%{y}<br>%{x:.4s}",
           "type": "bar",
           "x": [
            16.146999999999935,
            18.742999999999938,
            21.79300000000012,
            22.86200000000008,
            25.153000000000247,
            25.64800000000014,
            27.85400000000027,
            28.579999999999927,
            29.59900000000016,
            32.30799999999999
           ],
           "y": [
            "TSU",
            "STR",
            "HAM",
            "OCO",
            "GAS",
            "ALB",
            "LAT",
            "MSC",
            "ZHO",
            "RIC"
           ]
          }
         ],
         "layout": {
          "bargap": 0.15,
          "font": {
           "size": 14
          },
          "plot_bgcolor": "#FFFFFF",
          "xaxis": {
           "range": [
            0,
            142.8060000000005
           ],
           "showline": true,
           "visible": true
          },
          "yaxis": {
           "showline": false,
           "visible": true
          }
         },
         "name": "2"
        },
        {
         "data": [
          {
           "cliponaxis": false,
           "hoverinfo": "all",
           "hovertemplate": "<extra></extra>",
           "marker": {
            "color": [
             "rgb(232, 0, 104)",
             "rgb(29, 28, 224)",
             "rgb(161, 141, 0)",
             "rgb(97, 238, 231)",
             "rgb(162, 130, 237)",
             "rgb(205, 150, 7)",
             "rgb(133, 28, 83)",
             "rgb(6, 123, 186)",
             "rgb(77, 118, 120)",
             "rgb(247, 251, 55)"
            ]
           },
           "orientation": "h",
           "textangle": 0,
           "textposition": "outside",
           "texttemplate": "%{y}<br>%{x:.4s}",
           "type": "bar",
           "x": [
            18.034999999999854,
            19.969999999999345,
            21.219999999999345,
            22.750999999999294,
            24.3149999999996,
            24.701999999999316,
            26.933999999999287,
            27.534999999999854,
            28.16699999999946,
            29.58599999999933
           ],
           "y": [
            "TSU",
            "STR",
            "HAM",
            "OCO",
            "GAS",
            "ALB",
            "LAT",
            "MSC",
            "ZHO",
            "RIC"
           ]
          }
         ],
         "layout": {
          "bargap": 0.15,
          "font": {
           "size": 14
          },
          "plot_bgcolor": "#FFFFFF",
          "xaxis": {
           "range": [
            0,
            142.8060000000005
           ],
           "showline": true,
           "visible": true
          },
          "yaxis": {
           "showline": false,
           "visible": true
          }
         },
         "name": "3"
        },
        {
         "data": [
          {
           "cliponaxis": false,
           "hoverinfo": "all",
           "hovertemplate": "<extra></extra>",
           "marker": {
            "color": [
             "rgb(232, 0, 104)",
             "rgb(29, 28, 224)",
             "rgb(161, 141, 0)",
             "rgb(97, 238, 231)",
             "rgb(162, 130, 237)",
             "rgb(205, 150, 7)",
             "rgb(133, 28, 83)",
             "rgb(6, 123, 186)",
             "rgb(77, 118, 120)",
             "rgb(247, 251, 55)"
            ]
           },
           "orientation": "h",
           "textangle": 0,
           "textposition": "outside",
           "texttemplate": "%{y}<br>%{x:.4s}",
           "type": "bar",
           "x": [
            4.335000000000036,
            5.201000000000022,
            5.356999999999971,
            5.778000000000247,
            6.045000000000073,
            6.653999999999542,
            7.269000000000233,
            7.533999999999651,
            8.385999999999513,
            8.661000000000058
           ],
           "y": [
            "TSU",
            "STR",
            "HAM",
            "OCO",
            "GAS",
            "ALB",
            "LAT",
            "MSC",
            "ZHO",
            "RIC"
           ]
          }
         ],
         "layout": {
          "bargap": 0.15,
          "font": {
           "size": 14
          },
          "plot_bgcolor": "#FFFFFF",
          "xaxis": {
           "range": [
            0,
            142.8060000000005
           ],
           "showline": true,
           "visible": true
          },
          "yaxis": {
           "showline": false,
           "visible": true
          }
         },
         "name": "4"
        },
        {
         "data": [
          {
           "cliponaxis": false,
           "hoverinfo": "all",
           "hovertemplate": "<extra></extra>",
           "marker": {
            "color": [
             "rgb(29, 28, 224)",
             "rgb(247, 0, 139)",
             "rgb(161, 141, 0)",
             "rgb(97, 238, 231)",
             "rgb(162, 130, 237)",
             "rgb(205, 150, 7)",
             "rgb(133, 28, 83)",
             "rgb(6, 123, 186)",
             "rgb(77, 118, 120)",
             "rgb(247, 251, 55)"
            ]
           },
           "orientation": "h",
           "textangle": 0,
           "textposition": "outside",
           "texttemplate": "%{y}<br>%{x:.4s}",
           "type": "bar",
           "x": [
            10.831000000000131,
            11.998999999999796,
            12.240999999999985,
            12.739999999999782,
            13.038000000000466,
            13.689000000000306,
            14.284999999999854,
            14.792999999999665,
            15.393000000000029,
            15.896999999999935
           ],
           "y": [
            "STR",
            "ALO",
            "HAM",
            "OCO",
            "GAS",
            "ALB",
            "LAT",
            "MSC",
            "ZHO",
            "RIC"
           ]
          }
         ],
         "layout": {
          "bargap": 0.15,
          "font": {
           "size": 14
          },
          "plot_bgcolor": "#FFFFFF",
          "xaxis": {
           "range": [
            0,
            142.8060000000005
           ],
           "showline": true,
           "visible": true
          },
          "yaxis": {
           "showline": false,
           "visible": true
          }
         },
         "name": "5"
        },
        {
         "data": [
          {
           "cliponaxis": false,
           "hoverinfo": "all",
           "hovertemplate": "<extra></extra>",
           "marker": {
            "color": [
             "rgb(29, 28, 224)",
             "rgb(161, 141, 0)",
             "rgb(97, 238, 231)",
             "rgb(162, 130, 237)",
             "rgb(205, 150, 7)",
             "rgb(133, 28, 83)",
             "rgb(6, 123, 186)",
             "rgb(77, 118, 120)",
             "rgb(247, 251, 55)",
             "rgb(247, 0, 139)"
            ]
           },
           "orientation": "h",
           "textangle": 0,
           "textposition": "outside",
           "texttemplate": "%{y}<br>%{x:.4s}",
           "type": "bar",
           "x": [
            14.148000000000138,
            15.435999999999694,
            17.461999999999534,
            17.804000000000087,
            18.268999999999323,
            19.02599999999984,
            19.329999999999927,
            20.10899999999947,
            20.9399999999996,
            21.799999999999272
           ],
           "y": [
            "STR",
            "HAM",
            "OCO",
            "GAS",
            "ALB",
            "LAT",
            "MSC",
            "ZHO",
            "RIC",
            "ALO"
           ]
          }
         ],
         "layout": {
          "bargap": 0.15,
          "font": {
           "size": 14
          },
          "plot_bgcolor": "#FFFFFF",
          "xaxis": {
           "range": [
            0,
            142.8060000000005
           ],
           "showline": true,
           "visible": true
          },
          "yaxis": {
           "showline": false,
           "visible": true
          }
         },
         "name": "6"
        },
        {
         "data": [
          {
           "cliponaxis": false,
           "hoverinfo": "all",
           "hovertemplate": "<extra></extra>",
           "marker": {
            "color": [
             "rgb(232, 0, 104)",
             "rgb(29, 28, 224)",
             "rgb(161, 141, 0)",
             "rgb(97, 238, 231)",
             "rgb(162, 130, 237)",
             "rgb(205, 150, 7)",
             "rgb(133, 28, 83)",
             "rgb(6, 123, 186)",
             "rgb(77, 118, 120)",
             "rgb(247, 251, 55)"
            ]
           },
           "orientation": "h",
           "textangle": 0,
           "textposition": "outside",
           "texttemplate": "%{y}<br>%{x:.4s}",
           "type": "bar",
           "x": [
            15.372999999999593,
            16.675000000000182,
            17.753999999999905,
            19.949999999999818,
            21.00799999999981,
            21.53399999999965,
            22.4399999999996,
            22.895000000000437,
            23.26800000000003,
            24.447000000000116
           ],
           "y": [
            "TSU",
            "STR",
            "HAM",
            "OCO",
            "GAS",
            "ALB",
            "LAT",
            "MSC",
            "ZHO",
            "RIC"
           ]
          }
         ],
         "layout": {
          "bargap": 0.15,
          "font": {
           "size": 14
          },
          "plot_bgcolor": "#FFFFFF",
          "xaxis": {
           "range": [
            0,
            142.8060000000005
           ],
           "showline": true,
           "visible": true
          },
          "yaxis": {
           "showline": false,
           "visible": true
          }
         },
         "name": "7"
        },
        {
         "data": [
          {
           "cliponaxis": false,
           "hoverinfo": "all",
           "hovertemplate": "<extra></extra>",
           "marker": {
            "color": [
             "rgb(232, 0, 104)",
             "rgb(29, 28, 224)",
             "rgb(161, 141, 0)",
             "rgb(97, 238, 231)",
             "rgb(162, 130, 237)",
             "rgb(205, 150, 7)",
             "rgb(133, 28, 83)",
             "rgb(6, 123, 186)",
             "rgb(77, 118, 120)",
             "rgb(247, 251, 55)"
            ]
           },
           "orientation": "h",
           "textangle": 0,
           "textposition": "outside",
           "texttemplate": "%{y}<br>%{x:.4s}",
           "type": "bar",
           "x": [
            17.389000000000124,
            18.78900000000067,
            19.624000000000706,
            22.490999999999985,
            23.75,
            24.275000000000546,
            24.921000000000276,
            25.48700000000008,
            26.145000000000437,
            27.353000000000065
           ],
           "y": [
            "TSU",
            "STR",
            "HAM",
            "OCO",
            "GAS",
            "ALB",
            "LAT",
            "MSC",
            "ZHO",
            "RIC"
           ]
          }
         ],
         "layout": {
          "bargap": 0.15,
          "font": {
           "size": 14
          },
          "plot_bgcolor": "#FFFFFF",
          "xaxis": {
           "range": [
            0,
            142.8060000000005
           ],
           "showline": true,
           "visible": true
          },
          "yaxis": {
           "showline": false,
           "visible": true
          }
         },
         "name": "8"
        },
        {
         "data": [
          {
           "cliponaxis": false,
           "hoverinfo": "all",
           "hovertemplate": "<extra></extra>",
           "marker": {
            "color": [
             "rgb(232, 0, 104)",
             "rgb(29, 28, 224)",
             "rgb(161, 141, 0)",
             "rgb(97, 238, 231)",
             "rgb(162, 130, 237)",
             "rgb(205, 150, 7)",
             "rgb(133, 28, 83)",
             "rgb(6, 123, 186)",
             "rgb(77, 118, 120)",
             "rgb(247, 251, 55)"
            ]
           },
           "orientation": "h",
           "textangle": 0,
           "textposition": "outside",
           "texttemplate": "%{y}<br>%{x:.4s}",
           "type": "bar",
           "x": [
            19.725999999999658,
            20.662000000000262,
            21.386999999999716,
            25.009000000000015,
            26.829999999999927,
            27.422999999999774,
            28.54200000000037,
            28.912000000000262,
            29.26299999999992,
            30.71900000000005
           ],
           "y": [
            "TSU",
            "STR",
            "HAM",
            "OCO",
            "GAS",
            "ALB",
            "LAT",
            "MSC",
            "ZHO",
            "RIC"
           ]
          }
         ],
         "layout": {
          "bargap": 0.15,
          "font": {
           "size": 14
          },
          "plot_bgcolor": "#FFFFFF",
          "xaxis": {
           "range": [
            0,
            142.8060000000005
           ],
           "showline": true,
           "visible": true
          },
          "yaxis": {
           "showline": false,
           "visible": true
          }
         },
         "name": "9"
        },
        {
         "data": [
          {
           "cliponaxis": false,
           "hoverinfo": "all",
           "hovertemplate": "<extra></extra>",
           "marker": {
            "color": [
             "rgb(232, 0, 104)",
             "rgb(29, 28, 224)",
             "rgb(161, 141, 0)",
             "rgb(97, 238, 231)",
             "rgb(162, 130, 237)",
             "rgb(205, 150, 7)",
             "rgb(133, 28, 83)",
             "rgb(6, 123, 186)",
             "rgb(77, 118, 120)",
             "rgb(247, 251, 55)"
            ]
           },
           "orientation": "h",
           "textangle": 0,
           "textposition": "outside",
           "texttemplate": "%{y}<br>%{x:.4s}",
           "type": "bar",
           "x": [
            21.700000000000728,
            22.631000000000313,
            23.416000000000167,
            27.121000000000095,
            29.442000000000007,
            30.041000000000167,
            31.459000000000742,
            31.77100000000064,
            32.392000000000735,
            33.97600000000057
           ],
           "y": [
            "TSU",
            "STR",
            "HAM",
            "OCO",
            "GAS",
            "ALB",
            "LAT",
            "MSC",
            "ZHO",
            "RIC"
           ]
          }
         ],
         "layout": {
          "bargap": 0.15,
          "font": {
           "size": 14
          },
          "plot_bgcolor": "#FFFFFF",
          "xaxis": {
           "range": [
            0,
            142.8060000000005
           ],
           "showline": true,
           "visible": true
          },
          "yaxis": {
           "showline": false,
           "visible": true
          }
         },
         "name": "10"
        },
        {
         "data": [
          {
           "cliponaxis": false,
           "hoverinfo": "all",
           "hovertemplate": "<extra></extra>",
           "marker": {
            "color": [
             "rgb(232, 0, 104)",
             "rgb(29, 28, 224)",
             "rgb(161, 141, 0)",
             "rgb(97, 238, 231)",
             "rgb(162, 130, 237)",
             "rgb(205, 150, 7)",
             "rgb(133, 28, 83)",
             "rgb(6, 123, 186)",
             "rgb(77, 118, 120)",
             "rgb(247, 251, 55)"
            ]
           },
           "orientation": "h",
           "textangle": 0,
           "textposition": "outside",
           "texttemplate": "%{y}<br>%{x:.4s}",
           "type": "bar",
           "x": [
            24.079000000000633,
            24.789999999999964,
            25.688000000000102,
            29.360000000000582,
            32.40599999999995,
            33.20600000000013,
            35.51000000000022,
            35.697000000000116,
            35.75300000000061,
            38.13300000000072
           ],
           "y": [
            "TSU",
            "STR",
            "HAM",
            "OCO",
            "GAS",
            "ALB",
            "LAT",
            "MSC",
            "ZHO",
            "RIC"
           ]
          }
         ],
         "layout": {
          "bargap": 0.15,
          "font": {
           "size": 14
          },
          "plot_bgcolor": "#FFFFFF",
          "xaxis": {
           "range": [
            0,
            142.8060000000005
           ],
           "showline": true,
           "visible": true
          },
          "yaxis": {
           "showline": false,
           "visible": true
          }
         },
         "name": "11"
        },
        {
         "data": [
          {
           "cliponaxis": false,
           "hoverinfo": "all",
           "hovertemplate": "<extra></extra>",
           "marker": {
            "color": [
             "rgb(232, 0, 104)",
             "rgb(29, 28, 224)",
             "rgb(161, 141, 0)",
             "rgb(97, 238, 231)",
             "rgb(162, 130, 237)",
             "rgb(205, 150, 7)",
             "rgb(133, 28, 83)",
             "rgb(6, 123, 186)",
             "rgb(77, 118, 120)",
             "rgb(247, 251, 55)"
            ]
           },
           "orientation": "h",
           "textangle": 0,
           "textposition": "outside",
           "texttemplate": "%{y}<br>%{x:.4s}",
           "type": "bar",
           "x": [
            26.86700000000019,
            27.259000000000015,
            28.057999999999993,
            31.652000000000044,
            35.85400000000027,
            37.02000000000044,
            38.39500000000044,
            39.41899999999987,
            40.02600000000075,
            42.44599999999991
           ],
           "y": [
            "TSU",
            "STR",
            "HAM",
            "OCO",
            "GAS",
            "ALB",
            "LAT",
            "MSC",
            "ZHO",
            "RIC"
           ]
          }
         ],
         "layout": {
          "bargap": 0.15,
          "font": {
           "size": 14
          },
          "plot_bgcolor": "#FFFFFF",
          "xaxis": {
           "range": [
            0,
            142.8060000000005
           ],
           "showline": true,
           "visible": true
          },
          "yaxis": {
           "showline": false,
           "visible": true
          }
         },
         "name": "12"
        },
        {
         "data": [
          {
           "cliponaxis": false,
           "hoverinfo": "all",
           "hovertemplate": "<extra></extra>",
           "marker": {
            "color": [
             "rgb(232, 0, 104)",
             "rgb(29, 28, 224)",
             "rgb(161, 141, 0)",
             "rgb(97, 238, 231)",
             "rgb(162, 130, 237)",
             "rgb(205, 150, 7)",
             "rgb(133, 28, 83)",
             "rgb(6, 123, 186)",
             "rgb(77, 118, 120)",
             "rgb(247, 251, 55)"
            ]
           },
           "orientation": "h",
           "textangle": 0,
           "textposition": "outside",
           "texttemplate": "%{y}<br>%{x:.4s}",
           "type": "bar",
           "x": [
            29.623999999999796,
            30.5679999999993,
            30.971999999999753,
            34.081999999999425,
            39.097999999999956,
            41.134000000000015,
            42.57099999999991,
            43.07299999999941,
            43.34899999999925,
            46.409999999999854
           ],
           "y": [
            "TSU",
            "STR",
            "HAM",
            "OCO",
            "GAS",
            "ALB",
            "LAT",
            "MSC",
            "ZHO",
            "RIC"
           ]
          }
         ],
         "layout": {
          "bargap": 0.15,
          "font": {
           "size": 14
          },
          "plot_bgcolor": "#FFFFFF",
          "xaxis": {
           "range": [
            0,
            142.8060000000005
           ],
           "showline": true,
           "visible": true
          },
          "yaxis": {
           "showline": false,
           "visible": true
          }
         },
         "name": "13"
        },
        {
         "data": [
          {
           "cliponaxis": false,
           "hoverinfo": "all",
           "hovertemplate": "<extra></extra>",
           "marker": {
            "color": [
             "rgb(232, 0, 104)",
             "rgb(29, 28, 224)",
             "rgb(161, 141, 0)",
             "rgb(97, 238, 231)",
             "rgb(162, 130, 237)",
             "rgb(205, 150, 7)",
             "rgb(133, 28, 83)",
             "rgb(77, 118, 120)",
             "rgb(6, 123, 186)",
             "rgb(247, 251, 55)"
            ]
           },
           "orientation": "h",
           "textangle": 0,
           "textposition": "outside",
           "texttemplate": "%{y}<br>%{x:.4s}",
           "type": "bar",
           "x": [
            33.108000000000175,
            33.91400000000067,
            34.47400000000016,
            36.95900000000074,
            42.30500000000029,
            44.55799999999999,
            46.10600000000068,
            46.577000000000226,
            48.1220000000003,
            50.65800000000036
           ],
           "y": [
            "TSU",
            "STR",
            "HAM",
            "OCO",
            "GAS",
            "ALB",
            "LAT",
            "ZHO",
            "MSC",
            "RIC"
           ]
          }
         ],
         "layout": {
          "bargap": 0.15,
          "font": {
           "size": 14
          },
          "plot_bgcolor": "#FFFFFF",
          "xaxis": {
           "range": [
            0,
            142.8060000000005
           ],
           "showline": true,
           "visible": true
          },
          "yaxis": {
           "showline": false,
           "visible": true
          }
         },
         "name": "14"
        },
        {
         "data": [
          {
           "cliponaxis": false,
           "hoverinfo": "all",
           "hovertemplate": "<extra></extra>",
           "marker": {
            "color": [
             "rgb(232, 0, 104)",
             "rgb(29, 28, 224)",
             "rgb(161, 141, 0)",
             "rgb(97, 238, 231)",
             "rgb(162, 130, 237)",
             "rgb(205, 150, 7)",
             "rgb(133, 28, 83)",
             "rgb(77, 118, 120)",
             "rgb(6, 123, 186)",
             "rgb(247, 251, 55)"
            ]
           },
           "orientation": "h",
           "textangle": 0,
           "textposition": "outside",
           "texttemplate": "%{y}<br>%{x:.4s}",
           "type": "bar",
           "x": [
            36.69499999999971,
            37.40399999999954,
            37.961999999999534,
            40.23099999999977,
            45.177999999999884,
            48.03099999999995,
            49.73999999999978,
            49.912999999999556,
            50.39599999999973,
            54.4369999999999
           ],
           "y": [
            "TSU",
            "STR",
            "HAM",
            "OCO",
            "GAS",
            "ALB",
            "LAT",
            "ZHO",
            "MSC",
            "RIC"
           ]
          }
         ],
         "layout": {
          "bargap": 0.15,
          "font": {
           "size": 14
          },
          "plot_bgcolor": "#FFFFFF",
          "xaxis": {
           "range": [
            0,
            142.8060000000005
           ],
           "showline": true,
           "visible": true
          },
          "yaxis": {
           "showline": false,
           "visible": true
          }
         },
         "name": "15"
        },
        {
         "data": [
          {
           "cliponaxis": false,
           "hoverinfo": "all",
           "hovertemplate": "<extra></extra>",
           "marker": {
            "color": [
             "rgb(232, 0, 104)",
             "rgb(29, 28, 224)",
             "rgb(161, 141, 0)",
             "rgb(97, 238, 231)",
             "rgb(162, 130, 237)",
             "rgb(205, 150, 7)",
             "rgb(133, 28, 83)",
             "rgb(77, 118, 120)",
             "rgb(6, 123, 186)",
             "rgb(247, 251, 55)"
            ]
           },
           "orientation": "h",
           "textangle": 0,
           "textposition": "outside",
           "texttemplate": "%{y}<br>%{x:.4s}",
           "type": "bar",
           "x": [
            40.59199999999964,
            41.10699999999997,
            41.748999999999796,
            42.54199999999946,
            48.27899999999954,
            51.30899999999929,
            53.201999999999316,
            53.60999999999967,
            54.610999999999876,
            63.69999999999982
           ],
           "y": [
            "TSU",
            "STR",
            "HAM",
            "OCO",
            "GAS",
            "ALB",
            "LAT",
            "ZHO",
            "MSC",
            "RIC"
           ]
          }
         ],
         "layout": {
          "bargap": 0.15,
          "font": {
           "size": 14
          },
          "plot_bgcolor": "#FFFFFF",
          "xaxis": {
           "range": [
            0,
            142.8060000000005
           ],
           "showline": true,
           "visible": true
          },
          "yaxis": {
           "showline": false,
           "visible": true
          }
         },
         "name": "16"
        },
        {
         "data": [
          {
           "cliponaxis": false,
           "hoverinfo": "all",
           "hovertemplate": "<extra></extra>",
           "marker": {
            "color": [
             "rgb(19, 145, 95)",
             "rgb(29, 28, 224)",
             "rgb(161, 141, 0)",
             "rgb(97, 238, 231)",
             "rgb(162, 130, 237)",
             "rgb(133, 28, 83)",
             "rgb(77, 118, 120)",
             "rgb(6, 123, 186)",
             "rgb(205, 150, 7)",
             "rgb(247, 251, 55)"
            ]
           },
           "orientation": "h",
           "textangle": 0,
           "textposition": "outside",
           "texttemplate": "%{y}<br>%{x:.4s}",
           "type": "bar",
           "x": [
            43.76099999999951,
            44.470000000000255,
            44.91399999999976,
            45.50500000000011,
            55.14099999999962,
            55.60099999999966,
            56.24299999999948,
            56.7519999999995,
            58.14400000000023,
            88.97699999999986
           ],
           "y": [
            "VET",
            "STR",
            "HAM",
            "OCO",
            "GAS",
            "LAT",
            "ZHO",
            "MSC",
            "ALB",
            "RIC"
           ]
          }
         ],
         "layout": {
          "bargap": 0.15,
          "font": {
           "size": 14
          },
          "plot_bgcolor": "#FFFFFF",
          "xaxis": {
           "range": [
            0,
            142.8060000000005
           ],
           "showline": true,
           "visible": true
          },
          "yaxis": {
           "showline": false,
           "visible": true
          }
         },
         "name": "17"
        },
        {
         "data": [
          {
           "cliponaxis": false,
           "hoverinfo": "all",
           "hovertemplate": "<extra></extra>",
           "marker": {
            "color": [
             "rgb(29, 28, 224)",
             "rgb(161, 141, 0)",
             "rgb(97, 238, 231)",
             "rgb(133, 28, 83)",
             "rgb(77, 118, 120)",
             "rgb(6, 123, 186)",
             "rgb(19, 145, 95)",
             "rgb(162, 130, 237)",
             "rgb(205, 150, 7)",
             "rgb(247, 251, 55)"
            ]
           },
           "orientation": "h",
           "textangle": 0,
           "textposition": "outside",
           "texttemplate": "%{y}<br>%{x:.4s}",
           "type": "bar",
           "x": [
            52.21799999999985,
            53.02000000000044,
            53.89600000000064,
            62.66700000000037,
            63.527000000000044,
            64.00799999999981,
            69.26100000000042,
            80.14400000000023,
            83.13400000000001,
            86.70600000000013
           ],
           "y": [
            "STR",
            "HAM",
            "OCO",
            "LAT",
            "ZHO",
            "MSC",
            "VET",
            "GAS",
            "ALB",
            "RIC"
           ]
          }
         ],
         "layout": {
          "bargap": 0.15,
          "font": {
           "size": 14
          },
          "plot_bgcolor": "#FFFFFF",
          "xaxis": {
           "range": [
            0,
            142.8060000000005
           ],
           "showline": true,
           "visible": true
          },
          "yaxis": {
           "showline": false,
           "visible": true
          }
         },
         "name": "18"
        },
        {
         "data": [
          {
           "cliponaxis": false,
           "hoverinfo": "all",
           "hovertemplate": "<extra></extra>",
           "marker": {
            "color": [
             "rgb(232, 0, 104)",
             "rgb(29, 28, 224)",
             "rgb(97, 238, 231)",
             "rgb(162, 130, 237)",
             "rgb(205, 150, 7)",
             "rgb(161, 141, 0)",
             "rgb(247, 251, 55)",
             "rgb(133, 28, 83)",
             "rgb(6, 123, 186)",
             "rgb(77, 118, 120)"
            ]
           },
           "orientation": "h",
           "textangle": 0,
           "textposition": "outside",
           "texttemplate": "%{y}<br>%{x:.4s}",
           "type": "bar",
           "x": [
            74.44599999999991,
            75.23400000000038,
            76.03999999999996,
            76.47100000000046,
            76.77100000000064,
            79.16300000000047,
            79.58200000000033,
            88.8690000000006,
            89.15500000000065,
            90.86200000000008
           ],
           "y": [
            "TSU",
            "STR",
            "OCO",
            "GAS",
            "ALB",
            "HAM",
            "RIC",
            "LAT",
            "MSC",
            "ZHO"
           ]
          }
         ],
         "layout": {
          "bargap": 0.15,
          "font": {
           "size": 14
          },
          "plot_bgcolor": "#FFFFFF",
          "xaxis": {
           "range": [
            0,
            142.8060000000005
           ],
           "showline": true,
           "visible": true
          },
          "yaxis": {
           "showline": false,
           "visible": true
          }
         },
         "name": "19"
        },
        {
         "data": [
          {
           "cliponaxis": false,
           "hoverinfo": "all",
           "hovertemplate": "<extra></extra>",
           "marker": {
            "color": [
             "rgb(232, 0, 104)",
             "rgb(29, 28, 224)",
             "rgb(97, 238, 231)",
             "rgb(205, 150, 7)",
             "rgb(162, 130, 237)",
             "rgb(161, 141, 0)",
             "rgb(247, 251, 55)",
             "rgb(133, 28, 83)",
             "rgb(6, 123, 186)",
             "rgb(77, 118, 120)"
            ]
           },
           "orientation": "h",
           "textangle": 0,
           "textposition": "outside",
           "texttemplate": "%{y}<br>%{x:.4s}",
           "type": "bar",
           "x": [
            47.097999999999956,
            47.774999999999636,
            48.29600000000028,
            48.76500000000033,
            49.73499999999967,
            51.11999999999989,
            51.97900000000027,
            63.26099999999951,
            63.69300000000021,
            64.30699999999979
           ],
           "y": [
            "TSU",
            "STR",
            "OCO",
            "ALB",
            "GAS",
            "HAM",
            "RIC",
            "LAT",
            "MSC",
            "ZHO"
           ]
          }
         ],
         "layout": {
          "bargap": 0.15,
          "font": {
           "size": 14
          },
          "plot_bgcolor": "#FFFFFF",
          "xaxis": {
           "range": [
            0,
            142.8060000000005
           ],
           "showline": true,
           "visible": true
          },
          "yaxis": {
           "showline": false,
           "visible": true
          }
         },
         "name": "20"
        },
        {
         "data": [
          {
           "cliponaxis": false,
           "hoverinfo": "all",
           "hovertemplate": "<extra></extra>",
           "marker": {
            "color": [
             "rgb(232, 0, 104)",
             "rgb(29, 28, 224)",
             "rgb(97, 238, 231)",
             "rgb(205, 150, 7)",
             "rgb(162, 130, 237)",
             "rgb(161, 141, 0)",
             "rgb(247, 251, 55)",
             "rgb(133, 28, 83)",
             "rgb(6, 123, 186)",
             "rgb(77, 118, 120)"
            ]
           },
           "orientation": "h",
           "textangle": 0,
           "textposition": "outside",
           "texttemplate": "%{y}<br>%{x:.4s}",
           "type": "bar",
           "x": [
            46.985999999999876,
            47.6909999999998,
            48.36899999999969,
            48.95899999999983,
            49.98999999999978,
            51.02099999999973,
            51.98400000000038,
            63.7529999999997,
            64.8119999999999,
            65.35499999999956
           ],
           "y": [
            "TSU",
            "STR",
            "OCO",
            "ALB",
            "GAS",
            "HAM",
            "RIC",
            "LAT",
            "MSC",
            "ZHO"
           ]
          }
         ],
         "layout": {
          "bargap": 0.15,
          "font": {
           "size": 14
          },
          "plot_bgcolor": "#FFFFFF",
          "xaxis": {
           "range": [
            0,
            142.8060000000005
           ],
           "showline": true,
           "visible": true
          },
          "yaxis": {
           "showline": false,
           "visible": true
          }
         },
         "name": "21"
        },
        {
         "data": [
          {
           "cliponaxis": false,
           "hoverinfo": "all",
           "hovertemplate": "<extra></extra>",
           "marker": {
            "color": [
             "rgb(232, 0, 104)",
             "rgb(29, 28, 224)",
             "rgb(97, 238, 231)",
             "rgb(205, 150, 7)",
             "rgb(162, 130, 237)",
             "rgb(161, 141, 0)",
             "rgb(247, 251, 55)",
             "rgb(133, 28, 83)",
             "rgb(6, 123, 186)",
             "rgb(77, 118, 120)"
            ]
           },
           "orientation": "h",
           "textangle": 0,
           "textposition": "outside",
           "texttemplate": "%{y}<br>%{x:.4s}",
           "type": "bar",
           "x": [
            47.69800000000032,
            48.569000000000415,
            49.35699999999997,
            50.02900000000045,
            50.931000000000495,
            51.628999999999905,
            52.702000000000226,
            65.15499999999975,
            65.92200000000048,
            66.68199999999979
           ],
           "y": [
            "TSU",
            "STR",
            "OCO",
            "ALB",
            "GAS",
            "HAM",
            "RIC",
            "LAT",
            "MSC",
            "ZHO"
           ]
          }
         ],
         "layout": {
          "bargap": 0.15,
          "font": {
           "size": 14
          },
          "plot_bgcolor": "#FFFFFF",
          "xaxis": {
           "range": [
            0,
            142.8060000000005
           ],
           "showline": true,
           "visible": true
          },
          "yaxis": {
           "showline": false,
           "visible": true
          }
         },
         "name": "22"
        },
        {
         "data": [
          {
           "cliponaxis": false,
           "hoverinfo": "all",
           "hovertemplate": "<extra></extra>",
           "marker": {
            "color": [
             "rgb(232, 0, 104)",
             "rgb(29, 28, 224)",
             "rgb(97, 238, 231)",
             "rgb(205, 150, 7)",
             "rgb(162, 130, 237)",
             "rgb(161, 141, 0)",
             "rgb(247, 251, 55)",
             "rgb(133, 28, 83)",
             "rgb(6, 123, 186)",
             "rgb(77, 118, 120)"
            ]
           },
           "orientation": "h",
           "textangle": 0,
           "textposition": "outside",
           "texttemplate": "%{y}<br>%{x:.4s}",
           "type": "bar",
           "x": [
            48.47100000000046,
            49.624000000000706,
            50.60500000000047,
            51.22200000000066,
            52.20900000000074,
            52.939000000000306,
            54.26299999999992,
            67.10300000000007,
            67.44800000000032,
            67.88000000000011
           ],
           "y": [
            "TSU",
            "STR",
            "OCO",
            "ALB",
            "GAS",
            "HAM",
            "RIC",
            "LAT",
            "MSC",
            "ZHO"
           ]
          }
         ],
         "layout": {
          "bargap": 0.15,
          "font": {
           "size": 14
          },
          "plot_bgcolor": "#FFFFFF",
          "xaxis": {
           "range": [
            0,
            142.8060000000005
           ],
           "showline": true,
           "visible": true
          },
          "yaxis": {
           "showline": false,
           "visible": true
          }
         },
         "name": "23"
        },
        {
         "data": [
          {
           "cliponaxis": false,
           "hoverinfo": "all",
           "hovertemplate": "<extra></extra>",
           "marker": {
            "color": [
             "rgb(232, 0, 104)",
             "rgb(29, 28, 224)",
             "rgb(97, 238, 231)",
             "rgb(205, 150, 7)",
             "rgb(162, 130, 237)",
             "rgb(161, 141, 0)",
             "rgb(247, 251, 55)",
             "rgb(133, 28, 83)",
             "rgb(77, 118, 120)",
             "rgb(6, 123, 186)"
            ]
           },
           "orientation": "h",
           "textangle": 0,
           "textposition": "outside",
           "texttemplate": "%{y}<br>%{x:.4s}",
           "type": "bar",
           "x": [
            49.353000000000065,
            50.45100000000002,
            51.490999999999985,
            52.374000000000706,
            53.51500000000033,
            53.91600000000017,
            55.07800000000043,
            69.16400000000067,
            70.16100000000006,
            78.85699999999997
           ],
           "y": [
            "TSU",
            "STR",
            "OCO",
            "ALB",
            "GAS",
            "HAM",
            "RIC",
            "LAT",
            "ZHO",
            "MSC"
           ]
          }
         ],
         "layout": {
          "bargap": 0.15,
          "font": {
           "size": 14
          },
          "plot_bgcolor": "#FFFFFF",
          "xaxis": {
           "range": [
            0,
            142.8060000000005
           ],
           "showline": true,
           "visible": true
          },
          "yaxis": {
           "showline": false,
           "visible": true
          }
         },
         "name": "24"
        },
        {
         "data": [
          {
           "cliponaxis": false,
           "hoverinfo": "all",
           "hovertemplate": "<extra></extra>",
           "marker": {
            "color": [
             "rgb(232, 0, 104)",
             "rgb(29, 28, 224)",
             "rgb(97, 238, 231)",
             "rgb(205, 150, 7)",
             "rgb(162, 130, 237)",
             "rgb(161, 141, 0)",
             "rgb(247, 251, 55)",
             "rgb(133, 28, 83)",
             "rgb(77, 118, 120)",
             "rgb(6, 123, 186)"
            ]
           },
           "orientation": "h",
           "textangle": 0,
           "textposition": "outside",
           "texttemplate": "%{y}<br>%{x:.4s}",
           "type": "bar",
           "x": [
            52.1220000000003,
            52.46700000000055,
            52.92399999999998,
            53.4340000000002,
            55.13500000000022,
            55.58800000000065,
            56.76300000000083,
            71.07800000000043,
            71.52600000000075,
            80.32100000000082
           ],
           "y": [
            "TSU",
            "STR",
            "OCO",
            "ALB",
            "GAS",
            "HAM",
            "RIC",
            "LAT",
            "ZHO",
            "MSC"
           ]
          }
         ],
         "layout": {
          "bargap": 0.15,
          "font": {
           "size": 14
          },
          "plot_bgcolor": "#FFFFFF",
          "xaxis": {
           "range": [
            0,
            142.8060000000005
           ],
           "showline": true,
           "visible": true
          },
          "yaxis": {
           "showline": false,
           "visible": true
          }
         },
         "name": "25"
        },
        {
         "data": [
          {
           "cliponaxis": false,
           "hoverinfo": "all",
           "hovertemplate": "<extra></extra>",
           "marker": {
            "color": [
             "rgb(232, 0, 104)",
             "rgb(29, 28, 224)",
             "rgb(97, 238, 231)",
             "rgb(205, 150, 7)",
             "rgb(162, 130, 237)",
             "rgb(161, 141, 0)",
             "rgb(247, 251, 55)",
             "rgb(133, 28, 83)",
             "rgb(77, 118, 120)",
             "rgb(6, 123, 186)"
            ]
           },
           "orientation": "h",
           "textangle": 0,
           "textposition": "outside",
           "texttemplate": "%{y}<br>%{x:.4s}",
           "type": "bar",
           "x": [
            53.960000000000036,
            55.414999999999964,
            55.840000000000146,
            56.34699999999975,
            57.293000000000575,
            57.72400000000016,
            58.71299999999974,
            72.88699999999972,
            73.67100000000028,
            83.16600000000017
           ],
           "y": [
            "TSU",
            "STR",
            "OCO",
            "ALB",
            "GAS",
            "HAM",
            "RIC",
            "LAT",
            "ZHO",
            "MSC"
           ]
          }
         ],
         "layout": {
          "bargap": 0.15,
          "font": {
           "size": 14
          },
          "plot_bgcolor": "#FFFFFF",
          "xaxis": {
           "range": [
            0,
            142.8060000000005
           ],
           "showline": true,
           "visible": true
          },
          "yaxis": {
           "showline": false,
           "visible": true
          }
         },
         "name": "26"
        },
        {
         "data": [
          {
           "cliponaxis": false,
           "hoverinfo": "all",
           "hovertemplate": "<extra></extra>",
           "marker": {
            "color": [
             "rgb(232, 0, 104)",
             "rgb(29, 28, 224)",
             "rgb(97, 238, 231)",
             "rgb(205, 150, 7)",
             "rgb(162, 130, 237)",
             "rgb(161, 141, 0)",
             "rgb(247, 251, 55)",
             "rgb(133, 28, 83)",
             "rgb(77, 118, 120)",
             "rgb(6, 123, 186)"
            ]
           },
           "orientation": "h",
           "textangle": 0,
           "textposition": "outside",
           "texttemplate": "%{y}<br>%{x:.4s}",
           "type": "bar",
           "x": [
            55.70299999999952,
            57.082000000000335,
            57.873999999999796,
            58.44999999999982,
            59.266999999999825,
            59.84199999999964,
            60.85199999999986,
            75.20799999999963,
            75.85199999999986,
            84.85599999999977
           ],
           "y": [
            "TSU",
            "STR",
            "OCO",
            "ALB",
            "GAS",
            "HAM",
            "RIC",
            "LAT",
            "ZHO",
            "MSC"
           ]
          }
         ],
         "layout": {
          "bargap": 0.15,
          "font": {
           "size": 14
          },
          "plot_bgcolor": "#FFFFFF",
          "xaxis": {
           "range": [
            0,
            142.8060000000005
           ],
           "showline": true,
           "visible": true
          },
          "yaxis": {
           "showline": false,
           "visible": true
          }
         },
         "name": "27"
        },
        {
         "data": [
          {
           "cliponaxis": false,
           "hoverinfo": "all",
           "hovertemplate": "<extra></extra>",
           "marker": {
            "color": [
             "rgb(232, 0, 104)",
             "rgb(29, 28, 224)",
             "rgb(97, 238, 231)",
             "rgb(205, 150, 7)",
             "rgb(162, 130, 237)",
             "rgb(161, 141, 0)",
             "rgb(247, 251, 55)",
             "rgb(133, 28, 83)",
             "rgb(77, 118, 120)",
             "rgb(6, 123, 186)"
            ]
           },
           "orientation": "h",
           "textangle": 0,
           "textposition": "outside",
           "texttemplate": "%{y}<br>%{x:.4s}",
           "type": "bar",
           "x": [
            57.29199999999946,
            59.18299999999999,
            60.04500000000007,
            60.777000000000044,
            61.52899999999954,
            61.98399999999947,
            62.96599999999944,
            77.39300000000003,
            77.96100000000024,
            86.69499999999971
           ],
           "y": [
            "TSU",
            "STR",
            "OCO",
            "ALB",
            "GAS",
            "HAM",
            "RIC",
            "LAT",
            "ZHO",
            "MSC"
           ]
          }
         ],
         "layout": {
          "bargap": 0.15,
          "font": {
           "size": 14
          },
          "plot_bgcolor": "#FFFFFF",
          "xaxis": {
           "range": [
            0,
            142.8060000000005
           ],
           "showline": true,
           "visible": true
          },
          "yaxis": {
           "showline": false,
           "visible": true
          }
         },
         "name": "28"
        },
        {
         "data": [
          {
           "cliponaxis": false,
           "hoverinfo": "all",
           "hovertemplate": "<extra></extra>",
           "marker": {
            "color": [
             "rgb(232, 0, 104)",
             "rgb(29, 28, 224)",
             "rgb(97, 238, 231)",
             "rgb(205, 150, 7)",
             "rgb(162, 130, 237)",
             "rgb(161, 141, 0)",
             "rgb(247, 251, 55)",
             "rgb(133, 28, 83)",
             "rgb(77, 118, 120)",
             "rgb(6, 123, 186)"
            ]
           },
           "orientation": "h",
           "textangle": 0,
           "textposition": "outside",
           "texttemplate": "%{y}<br>%{x:.4s}",
           "type": "bar",
           "x": [
            58.73999999999978,
            60.90800000000036,
            61.94800000000032,
            62.819000000000415,
            63.811000000000604,
            64.17399999999998,
            65.49099999999999,
            79.375,
            81.64199999999983,
            88.1869999999999
           ],
           "y": [
            "TSU",
            "STR",
            "OCO",
            "ALB",
            "GAS",
            "HAM",
            "RIC",
            "LAT",
            "ZHO",
            "MSC"
           ]
          }
         ],
         "layout": {
          "bargap": 0.15,
          "font": {
           "size": 14
          },
          "plot_bgcolor": "#FFFFFF",
          "xaxis": {
           "range": [
            0,
            142.8060000000005
           ],
           "showline": true,
           "visible": true
          },
          "yaxis": {
           "showline": false,
           "visible": true
          }
         },
         "name": "29"
        },
        {
         "data": [
          {
           "cliponaxis": false,
           "hoverinfo": "all",
           "hovertemplate": "<extra></extra>",
           "marker": {
            "color": [
             "rgb(232, 0, 104)",
             "rgb(29, 28, 224)",
             "rgb(97, 238, 231)",
             "rgb(205, 150, 7)",
             "rgb(162, 130, 237)",
             "rgb(161, 141, 0)",
             "rgb(247, 251, 55)",
             "rgb(133, 28, 83)",
             "rgb(77, 118, 120)",
             "rgb(6, 123, 186)"
            ]
           },
           "orientation": "h",
           "textangle": 0,
           "textposition": "outside",
           "texttemplate": "%{y}<br>%{x:.4s}",
           "type": "bar",
           "x": [
            59.853000000000065,
            62.345000000000255,
            63.472999999999956,
            64.56999999999971,
            65.70899999999983,
            66.13500000000022,
            71.57799999999952,
            82.72699999999986,
            83.20899999999983,
            89.5069999999996
           ],
           "y": [
            "TSU",
            "STR",
            "OCO",
            "ALB",
            "GAS",
            "HAM",
            "RIC",
            "LAT",
            "ZHO",
            "MSC"
           ]
          }
         ],
         "layout": {
          "bargap": 0.15,
          "font": {
           "size": 14
          },
          "plot_bgcolor": "#FFFFFF",
          "xaxis": {
           "range": [
            0,
            142.8060000000005
           ],
           "showline": true,
           "visible": true
          },
          "yaxis": {
           "showline": false,
           "visible": true
          }
         },
         "name": "30"
        },
        {
         "data": [
          {
           "cliponaxis": false,
           "hoverinfo": "all",
           "hovertemplate": "<extra></extra>",
           "marker": {
            "color": [
             "rgb(232, 0, 104)",
             "rgb(29, 28, 224)",
             "rgb(97, 238, 231)",
             "rgb(205, 150, 7)",
             "rgb(162, 130, 237)",
             "rgb(161, 141, 0)",
             "rgb(133, 28, 83)",
             "rgb(77, 118, 120)",
             "rgb(6, 123, 186)",
             "rgb(247, 251, 55)"
            ]
           },
           "orientation": "h",
           "textangle": 0,
           "textposition": "outside",
           "texttemplate": "%{y}<br>%{x:.4s}",
           "type": "bar",
           "x": [
            61.07100000000082,
            63.7440000000006,
            65.02200000000084,
            66.2470000000003,
            67.42700000000059,
            67.86500000000069,
            84.16900000000078,
            85.5560000000005,
            95.08500000000004,
            102.06200000000081
           ],
           "y": [
            "TSU",
            "STR",
            "OCO",
            "ALB",
            "GAS",
            "HAM",
            "LAT",
            "ZHO",
            "MSC",
            "RIC"
           ]
          }
         ],
         "layout": {
          "bargap": 0.15,
          "font": {
           "size": 14
          },
          "plot_bgcolor": "#FFFFFF",
          "xaxis": {
           "range": [
            0,
            142.8060000000005
           ],
           "showline": true,
           "visible": true
          },
          "yaxis": {
           "showline": false,
           "visible": true
          }
         },
         "name": "31"
        },
        {
         "data": [
          {
           "cliponaxis": false,
           "hoverinfo": "all",
           "hovertemplate": "<extra></extra>",
           "marker": {
            "color": [
             "rgb(232, 0, 104)",
             "rgb(29, 28, 224)",
             "rgb(97, 238, 231)",
             "rgb(205, 150, 7)",
             "rgb(162, 130, 237)",
             "rgb(161, 141, 0)",
             "rgb(133, 28, 83)",
             "rgb(77, 118, 120)",
             "rgb(6, 123, 186)",
             "rgb(247, 251, 55)"
            ]
           },
           "orientation": "h",
           "textangle": 0,
           "textposition": "outside",
           "texttemplate": "%{y}<br>%{x:.4s}",
           "type": "bar",
           "x": [
            62.555999999999585,
            65.46900000000005,
            66.72699999999986,
            68.04899999999998,
            69.1859999999997,
            69.5649999999996,
            86.14000000000033,
            86.78200000000015,
            96.5069999999996,
            105.6239999999998
           ],
           "y": [
            "TSU",
            "STR",
            "OCO",
            "ALB",
            "GAS",
            "HAM",
            "LAT",
            "ZHO",
            "MSC",
            "RIC"
           ]
          }
         ],
         "layout": {
          "bargap": 0.15,
          "font": {
           "size": 14
          },
          "plot_bgcolor": "#FFFFFF",
          "xaxis": {
           "range": [
            0,
            142.8060000000005
           ],
           "showline": true,
           "visible": true
          },
          "yaxis": {
           "showline": false,
           "visible": true
          }
         },
         "name": "32"
        },
        {
         "data": [
          {
           "cliponaxis": false,
           "hoverinfo": "all",
           "hovertemplate": "<extra></extra>",
           "marker": {
            "color": [
             "rgb(232, 0, 104)",
             "rgb(29, 28, 224)",
             "rgb(97, 238, 231)",
             "rgb(205, 150, 7)",
             "rgb(162, 130, 237)",
             "rgb(161, 141, 0)",
             "rgb(133, 28, 83)",
             "rgb(77, 118, 120)",
             "rgb(6, 123, 186)",
             "rgb(247, 251, 55)"
            ]
           },
           "orientation": "h",
           "textangle": 0,
           "textposition": "outside",
           "texttemplate": "%{y}<br>%{x:.4s}",
           "type": "bar",
           "x": [
            63.59400000000005,
            67.21799999999985,
            68.46999999999935,
            69.8109999999997,
            71.23499999999967,
            71.63400000000001,
            87.64199999999983,
            88.67000000000007,
            98.66399999999976,
            107.96799999999985
           ],
           "y": [
            "TSU",
            "STR",
            "OCO",
            "ALB",
            "GAS",
            "HAM",
            "LAT",
            "ZHO",
            "MSC",
            "RIC"
           ]
          }
         ],
         "layout": {
          "bargap": 0.15,
          "font": {
           "size": 14
          },
          "plot_bgcolor": "#FFFFFF",
          "xaxis": {
           "range": [
            0,
            142.8060000000005
           ],
           "showline": true,
           "visible": true
          },
          "yaxis": {
           "showline": false,
           "visible": true
          }
         },
         "name": "33"
        },
        {
         "data": [
          {
           "cliponaxis": false,
           "hoverinfo": "all",
           "hovertemplate": "<extra></extra>",
           "marker": {
            "color": [
             "rgb(232, 0, 104)",
             "rgb(29, 28, 224)",
             "rgb(97, 238, 231)",
             "rgb(205, 150, 7)",
             "rgb(162, 130, 237)",
             "rgb(161, 141, 0)",
             "rgb(133, 28, 83)",
             "rgb(77, 118, 120)",
             "rgb(6, 123, 186)",
             "rgb(247, 251, 55)"
            ]
           },
           "orientation": "h",
           "textangle": 0,
           "textposition": "outside",
           "texttemplate": "%{y}<br>%{x:.4s}",
           "type": "bar",
           "x": [
            64.70000000000073,
            68.84500000000025,
            69.99099999999999,
            71.4980000000005,
            72.38799999999992,
            73.03900000000067,
            89.14300000000003,
            90.13700000000063,
            100.28499999999985,
            110.14300000000003
           ],
           "y": [
            "TSU",
            "STR",
            "OCO",
            "ALB",
            "GAS",
            "HAM",
            "LAT",
            "ZHO",
            "MSC",
            "RIC"
           ]
          }
         ],
         "layout": {
          "bargap": 0.15,
          "font": {
           "size": 14
          },
          "plot_bgcolor": "#FFFFFF",
          "xaxis": {
           "range": [
            0,
            142.8060000000005
           ],
           "showline": true,
           "visible": true
          },
          "yaxis": {
           "showline": false,
           "visible": true
          }
         },
         "name": "34"
        },
        {
         "data": [
          {
           "cliponaxis": false,
           "hoverinfo": "all",
           "hovertemplate": "<extra></extra>",
           "marker": {
            "color": [
             "rgb(232, 0, 104)",
             "rgb(29, 28, 224)",
             "rgb(97, 238, 231)",
             "rgb(205, 150, 7)",
             "rgb(162, 130, 237)",
             "rgb(161, 141, 0)",
             "rgb(133, 28, 83)",
             "rgb(77, 118, 120)",
             "rgb(6, 123, 186)",
             "rgb(247, 251, 55)"
            ]
           },
           "orientation": "h",
           "textangle": 0,
           "textposition": "outside",
           "texttemplate": "%{y}<br>%{x:.4s}",
           "type": "bar",
           "x": [
            65.7430000000004,
            70.36599999999999,
            71.46200000000044,
            73.02800000000025,
            73.90500000000065,
            74.22100000000046,
            90.4350000000004,
            92.6240000000007,
            101.73599999999988,
            111.84200000000055
           ],
           "y": [
            "TSU",
            "STR",
            "OCO",
            "ALB",
            "GAS",
            "HAM",
            "LAT",
            "ZHO",
            "MSC",
            "RIC"
           ]
          }
         ],
         "layout": {
          "bargap": 0.15,
          "font": {
           "size": 14
          },
          "plot_bgcolor": "#FFFFFF",
          "xaxis": {
           "range": [
            0,
            142.8060000000005
           ],
           "showline": true,
           "visible": true
          },
          "yaxis": {
           "showline": false,
           "visible": true
          }
         },
         "name": "35"
        },
        {
         "data": [
          {
           "cliponaxis": false,
           "hoverinfo": "all",
           "hovertemplate": "<extra></extra>",
           "marker": {
            "color": [
             "rgb(232, 0, 104)",
             "rgb(29, 28, 224)",
             "rgb(97, 238, 231)",
             "rgb(205, 150, 7)",
             "rgb(162, 130, 237)",
             "rgb(161, 141, 0)",
             "rgb(133, 28, 83)",
             "rgb(77, 118, 120)",
             "rgb(6, 123, 186)",
             "rgb(247, 251, 55)"
            ]
           },
           "orientation": "h",
           "textangle": 0,
           "textposition": "outside",
           "texttemplate": "%{y}<br>%{x:.4s}",
           "type": "bar",
           "x": [
            66.94200000000001,
            72.01800000000003,
            73.21999999999935,
            74.85099999999966,
            75.48300000000017,
            75.98199999999997,
            93.8119999999999,
            94.24499999999989,
            103.37299999999959,
            115.74099999999999
           ],
           "y": [
            "TSU",
            "STR",
            "OCO",
            "ALB",
            "GAS",
            "HAM",
            "LAT",
            "ZHO",
            "MSC",
            "RIC"
           ]
          }
         ],
         "layout": {
          "bargap": 0.15,
          "font": {
           "size": 14
          },
          "plot_bgcolor": "#FFFFFF",
          "xaxis": {
           "range": [
            0,
            142.8060000000005
           ],
           "showline": true,
           "visible": true
          },
          "yaxis": {
           "showline": false,
           "visible": true
          }
         },
         "name": "36"
        },
        {
         "data": [
          {
           "cliponaxis": false,
           "hoverinfo": "all",
           "hovertemplate": "<extra></extra>",
           "marker": {
            "color": [
             "rgb(232, 0, 104)",
             "rgb(29, 28, 224)",
             "rgb(97, 238, 231)",
             "rgb(205, 150, 7)",
             "rgb(162, 130, 237)",
             "rgb(161, 141, 0)",
             "rgb(133, 28, 83)",
             "rgb(77, 118, 120)",
             "rgb(6, 123, 186)",
             "rgb(247, 251, 55)"
            ]
           },
           "orientation": "h",
           "textangle": 0,
           "textposition": "outside",
           "texttemplate": "%{y}<br>%{x:.4s}",
           "type": "bar",
           "x": [
            68.07200000000012,
            73.61899999999969,
            74.7460000000001,
            76.61099999999988,
            77.21500000000015,
            77.67199999999957,
            96.77099999999973,
            97.45799999999963,
            104.76599999999962,
            117.68099999999959
           ],
           "y": [
            "TSU",
            "STR",
            "OCO",
            "ALB",
            "GAS",
            "HAM",
            "LAT",
            "ZHO",
            "MSC",
            "RIC"
           ]
          }
         ],
         "layout": {
          "bargap": 0.15,
          "font": {
           "size": 14
          },
          "plot_bgcolor": "#FFFFFF",
          "xaxis": {
           "range": [
            0,
            142.8060000000005
           ],
           "showline": true,
           "visible": true
          },
          "yaxis": {
           "showline": false,
           "visible": true
          }
         },
         "name": "37"
        },
        {
         "data": [
          {
           "cliponaxis": false,
           "hoverinfo": "all",
           "hovertemplate": "<extra></extra>",
           "marker": {
            "color": [
             "rgb(232, 0, 104)",
             "rgb(29, 28, 224)",
             "rgb(97, 238, 231)",
             "rgb(205, 150, 7)",
             "rgb(162, 130, 237)",
             "rgb(161, 141, 0)",
             "rgb(133, 28, 83)",
             "rgb(77, 118, 120)",
             "rgb(6, 123, 186)",
             "rgb(247, 251, 55)"
            ]
           },
           "orientation": "h",
           "textangle": 0,
           "textposition": "outside",
           "texttemplate": "%{y}<br>%{x:.4s}",
           "type": "bar",
           "x": [
            69.01700000000073,
            74.9380000000001,
            76.19700000000012,
            78.06900000000041,
            78.76000000000022,
            79.14600000000064,
            97.91300000000047,
            98.9990000000007,
            105.94600000000082,
            119.37900000000081
           ],
           "y": [
            "TSU",
            "STR",
            "OCO",
            "ALB",
            "GAS",
            "HAM",
            "LAT",
            "ZHO",
            "MSC",
            "RIC"
           ]
          }
         ],
         "layout": {
          "bargap": 0.15,
          "font": {
           "size": 14
          },
          "plot_bgcolor": "#FFFFFF",
          "xaxis": {
           "range": [
            0,
            142.8060000000005
           ],
           "showline": true,
           "visible": true
          },
          "yaxis": {
           "showline": false,
           "visible": true
          }
         },
         "name": "38"
        },
        {
         "data": [
          {
           "cliponaxis": false,
           "hoverinfo": "all",
           "hovertemplate": "<extra></extra>",
           "marker": {
            "color": [
             "rgb(232, 0, 104)",
             "rgb(29, 28, 224)",
             "rgb(97, 238, 231)",
             "rgb(205, 150, 7)",
             "rgb(162, 130, 237)",
             "rgb(161, 141, 0)",
             "rgb(133, 28, 83)",
             "rgb(77, 118, 120)",
             "rgb(6, 123, 186)",
             "rgb(247, 251, 55)"
            ]
           },
           "orientation": "h",
           "textangle": 0,
           "textposition": "outside",
           "texttemplate": "%{y}<br>%{x:.4s}",
           "type": "bar",
           "x": [
            69.75,
            76.21600000000035,
            77.41100000000006,
            79.3700000000008,
            80.10400000000027,
            80.78600000000006,
            99.3090000000002,
            99.73900000000049,
            106.6240000000007,
            120.67399999999998
           ],
           "y": [
            "TSU",
            "STR",
            "OCO",
            "ALB",
            "GAS",
            "HAM",
            "LAT",
            "ZHO",
            "MSC",
            "RIC"
           ]
          }
         ],
         "layout": {
          "bargap": 0.15,
          "font": {
           "size": 14
          },
          "plot_bgcolor": "#FFFFFF",
          "xaxis": {
           "range": [
            0,
            142.8060000000005
           ],
           "showline": true,
           "visible": true
          },
          "yaxis": {
           "showline": false,
           "visible": true
          }
         },
         "name": "39"
        },
        {
         "data": [
          {
           "cliponaxis": false,
           "hoverinfo": "all",
           "hovertemplate": "<extra></extra>",
           "marker": {
            "color": [
             "rgb(232, 0, 104)",
             "rgb(29, 28, 224)",
             "rgb(97, 238, 231)",
             "rgb(205, 150, 7)",
             "rgb(162, 130, 237)",
             "rgb(161, 141, 0)",
             "rgb(77, 118, 120)",
             "rgb(133, 28, 83)",
             "rgb(6, 123, 186)",
             "rgb(247, 251, 55)"
            ]
           },
           "orientation": "h",
           "textangle": 0,
           "textposition": "outside",
           "texttemplate": "%{y}<br>%{x:.4s}",
           "type": "bar",
           "x": [
            70.14900000000034,
            77.05100000000039,
            78.36499999999978,
            80.44700000000012,
            81.88100000000031,
            82.27800000000025,
            100.0039999999999,
            101.16100000000006,
            107.52700000000004,
            122.4340000000002
           ],
           "y": [
            "TSU",
            "STR",
            "OCO",
            "ALB",
            "GAS",
            "HAM",
            "ZHO",
            "LAT",
            "MSC",
            "RIC"
           ]
          }
         ],
         "layout": {
          "bargap": 0.15,
          "font": {
           "size": 14
          },
          "plot_bgcolor": "#FFFFFF",
          "xaxis": {
           "range": [
            0,
            142.8060000000005
           ],
           "showline": true,
           "visible": true
          },
          "yaxis": {
           "showline": false,
           "visible": true
          }
         },
         "name": "40"
        },
        {
         "data": [
          {
           "cliponaxis": false,
           "hoverinfo": "all",
           "hovertemplate": "<extra></extra>",
           "marker": {
            "color": [
             "rgb(232, 0, 104)",
             "rgb(29, 28, 224)",
             "rgb(97, 238, 231)",
             "rgb(205, 150, 7)",
             "rgb(162, 130, 237)",
             "rgb(161, 141, 0)",
             "rgb(77, 118, 120)",
             "rgb(133, 28, 83)",
             "rgb(6, 123, 186)",
             "rgb(247, 251, 55)"
            ]
           },
           "orientation": "h",
           "textangle": 0,
           "textposition": "outside",
           "texttemplate": "%{y}<br>%{x:.4s}",
           "type": "bar",
           "x": [
            70.54199999999946,
            77.90399999999954,
            81.09099999999944,
            82.16299999999956,
            82.82099999999991,
            83.1289999999999,
            100.73199999999997,
            102.04799999999977,
            108.32299999999941,
            123.85199999999986
           ],
           "y": [
            "TSU",
            "STR",
            "OCO",
            "ALB",
            "GAS",
            "HAM",
            "ZHO",
            "LAT",
            "MSC",
            "RIC"
           ]
          }
         ],
         "layout": {
          "bargap": 0.15,
          "font": {
           "size": 14
          },
          "plot_bgcolor": "#FFFFFF",
          "xaxis": {
           "range": [
            0,
            142.8060000000005
           ],
           "showline": true,
           "visible": true
          },
          "yaxis": {
           "showline": false,
           "visible": true
          }
         },
         "name": "41"
        },
        {
         "data": [
          {
           "cliponaxis": false,
           "hoverinfo": "all",
           "hovertemplate": "<extra></extra>",
           "marker": {
            "color": [
             "rgb(232, 0, 104)",
             "rgb(29, 28, 224)",
             "rgb(97, 238, 231)",
             "rgb(205, 150, 7)",
             "rgb(162, 130, 237)",
             "rgb(161, 141, 0)",
             "rgb(77, 118, 120)",
             "rgb(133, 28, 83)",
             "rgb(6, 123, 186)",
             "rgb(247, 251, 55)"
            ]
           },
           "orientation": "h",
           "textangle": 0,
           "textposition": "outside",
           "texttemplate": "%{y}<br>%{x:.4s}",
           "type": "bar",
           "x": [
            71.8700000000008,
            81.57500000000073,
            82.82300000000032,
            83.9930000000004,
            84.71600000000035,
            85.09300000000076,
            102.16900000000078,
            104.57400000000052,
            109.60100000000057,
            128.01600000000053
           ],
           "y": [
            "TSU",
            "STR",
            "OCO",
            "ALB",
            "GAS",
            "HAM",
            "ZHO",
            "LAT",
            "MSC",
            "RIC"
           ]
          }
         ],
         "layout": {
          "bargap": 0.15,
          "font": {
           "size": 14
          },
          "plot_bgcolor": "#FFFFFF",
          "xaxis": {
           "range": [
            0,
            142.8060000000005
           ],
           "showline": true,
           "visible": true
          },
          "yaxis": {
           "showline": false,
           "visible": true
          }
         },
         "name": "42"
        },
        {
         "data": [
          {
           "cliponaxis": false,
           "hoverinfo": "all",
           "hovertemplate": "<extra></extra>",
           "marker": {
            "color": [
             "rgb(232, 0, 104)",
             "rgb(29, 28, 224)",
             "rgb(97, 238, 231)",
             "rgb(205, 150, 7)",
             "rgb(162, 130, 237)",
             "rgb(161, 141, 0)",
             "rgb(77, 118, 120)",
             "rgb(133, 28, 83)",
             "rgb(6, 123, 186)",
             "rgb(247, 251, 55)"
            ]
           },
           "orientation": "h",
           "textangle": 0,
           "textposition": "outside",
           "texttemplate": "%{y}<br>%{x:.4s}",
           "type": "bar",
           "x": [
            72.63900000000012,
            82.64100000000053,
            83.92399999999998,
            85.19999999999982,
            85.82400000000052,
            86.10400000000027,
            102.83500000000004,
            105.51200000000063,
            110.00700000000052,
            129.34299999999985
           ],
           "y": [
            "TSU",
            "STR",
            "OCO",
            "ALB",
            "GAS",
            "HAM",
            "ZHO",
            "LAT",
            "MSC",
            "RIC"
           ]
          }
         ],
         "layout": {
          "bargap": 0.15,
          "font": {
           "size": 14
          },
          "plot_bgcolor": "#FFFFFF",
          "xaxis": {
           "range": [
            0,
            142.8060000000005
           ],
           "showline": true,
           "visible": true
          },
          "yaxis": {
           "showline": false,
           "visible": true
          }
         },
         "name": "43"
        },
        {
         "data": [
          {
           "cliponaxis": false,
           "hoverinfo": "all",
           "hovertemplate": "<extra></extra>",
           "marker": {
            "color": [
             "rgb(232, 0, 104)",
             "rgb(29, 28, 224)",
             "rgb(97, 238, 231)",
             "rgb(205, 150, 7)",
             "rgb(162, 130, 237)",
             "rgb(161, 141, 0)",
             "rgb(77, 118, 120)",
             "rgb(133, 28, 83)",
             "rgb(6, 123, 186)",
             "rgb(247, 251, 55)"
            ]
           },
           "orientation": "h",
           "textangle": 0,
           "textposition": "outside",
           "texttemplate": "%{y}<br>%{x:.4s}",
           "type": "bar",
           "x": [
            73.60300000000007,
            83.93700000000081,
            85.45900000000074,
            86.92399999999998,
            87.43000000000029,
            87.64500000000044,
            103.63900000000012,
            106.83900000000085,
            111.03000000000065,
            130.92399999999998
           ],
           "y": [
            "TSU",
            "STR",
            "OCO",
            "ALB",
            "GAS",
            "HAM",
            "ZHO",
            "LAT",
            "MSC",
            "RIC"
           ]
          }
         ],
         "layout": {
          "bargap": 0.15,
          "font": {
           "size": 14
          },
          "plot_bgcolor": "#FFFFFF",
          "xaxis": {
           "range": [
            0,
            142.8060000000005
           ],
           "showline": true,
           "visible": true
          },
          "yaxis": {
           "showline": false,
           "visible": true
          }
         },
         "name": "44"
        },
        {
         "data": [
          {
           "cliponaxis": false,
           "hoverinfo": "all",
           "hovertemplate": "<extra></extra>",
           "marker": {
            "color": [
             "rgb(232, 0, 104)",
             "rgb(29, 28, 224)",
             "rgb(97, 238, 231)",
             "rgb(205, 150, 7)",
             "rgb(162, 130, 237)",
             "rgb(161, 141, 0)",
             "rgb(77, 118, 120)",
             "rgb(133, 28, 83)",
             "rgb(6, 123, 186)",
             "rgb(247, 251, 55)"
            ]
           },
           "orientation": "h",
           "textangle": 0,
           "textposition": "outside",
           "texttemplate": "%{y}<br>%{x:.4s}",
           "type": "bar",
           "x": [
            74.51600000000053,
            85.34300000000076,
            87.00800000000072,
            88.46200000000044,
            89.04400000000078,
            89.3710000000001,
            104.71900000000005,
            107.92700000000059,
            111.93700000000081,
            132.70600000000013
           ],
           "y": [
            "TSU",
            "STR",
            "OCO",
            "ALB",
            "GAS",
            "HAM",
            "ZHO",
            "LAT",
            "MSC",
            "RIC"
           ]
          }
         ],
         "layout": {
          "bargap": 0.15,
          "font": {
           "size": 14
          },
          "plot_bgcolor": "#FFFFFF",
          "xaxis": {
           "range": [
            0,
            142.8060000000005
           ],
           "showline": true,
           "visible": true
          },
          "yaxis": {
           "showline": false,
           "visible": true
          }
         },
         "name": "45"
        },
        {
         "data": [
          {
           "cliponaxis": false,
           "hoverinfo": "all",
           "hovertemplate": "<extra></extra>",
           "marker": {
            "color": [
             "rgb(232, 0, 104)",
             "rgb(29, 28, 224)",
             "rgb(97, 238, 231)",
             "rgb(205, 150, 7)",
             "rgb(162, 130, 237)",
             "rgb(161, 141, 0)",
             "rgb(77, 118, 120)",
             "rgb(133, 28, 83)",
             "rgb(6, 123, 186)",
             "rgb(247, 251, 55)"
            ]
           },
           "orientation": "h",
           "textangle": 0,
           "textposition": "outside",
           "texttemplate": "%{y}<br>%{x:.4s}",
           "type": "bar",
           "x": [
            75.52500000000055,
            86.65100000000075,
            88.46300000000065,
            89.97000000000025,
            90.5630000000001,
            90.96400000000085,
            105.82700000000023,
            109.4970000000003,
            112.96900000000005,
            136.90000000000055
           ],
           "y": [
            "TSU",
            "STR",
            "OCO",
            "ALB",
            "GAS",
            "HAM",
            "ZHO",
            "LAT",
            "MSC",
            "RIC"
           ]
          }
         ],
         "layout": {
          "bargap": 0.15,
          "font": {
           "size": 14
          },
          "plot_bgcolor": "#FFFFFF",
          "xaxis": {
           "range": [
            0,
            142.8060000000005
           ],
           "showline": true,
           "visible": true
          },
          "yaxis": {
           "showline": false,
           "visible": true
          }
         },
         "name": "46"
        },
        {
         "data": [
          {
           "cliponaxis": false,
           "hoverinfo": "all",
           "hovertemplate": "<extra></extra>",
           "marker": {
            "color": [
             "rgb(235, 112, 183)",
             "rgb(29, 28, 224)",
             "rgb(97, 238, 231)",
             "rgb(205, 150, 7)",
             "rgb(162, 130, 237)",
             "rgb(161, 141, 0)",
             "rgb(77, 118, 120)",
             "rgb(133, 28, 83)",
             "rgb(6, 123, 186)",
             "rgb(247, 251, 55)"
            ]
           },
           "orientation": "h",
           "textangle": 0,
           "textposition": "outside",
           "texttemplate": "%{y}<br>%{x:.4s}",
           "type": "bar",
           "x": [
            77.51499999999942,
            88.28299999999945,
            90.3189999999995,
            91.8119999999999,
            92.42000000000007,
            92.66600000000017,
            107.33399999999983,
            110.79399999999987,
            114.7539999999999,
            138.70100000000002
           ],
           "y": [
            "MAG",
            "STR",
            "OCO",
            "ALB",
            "GAS",
            "HAM",
            "ZHO",
            "LAT",
            "MSC",
            "RIC"
           ]
          }
         ],
         "layout": {
          "bargap": 0.15,
          "font": {
           "size": 14
          },
          "plot_bgcolor": "#FFFFFF",
          "xaxis": {
           "range": [
            0,
            142.8060000000005
           ],
           "showline": true,
           "visible": true
          },
          "yaxis": {
           "showline": false,
           "visible": true
          }
         },
         "name": "47"
        },
        {
         "data": [
          {
           "cliponaxis": false,
           "hoverinfo": "all",
           "hovertemplate": "<extra></extra>",
           "marker": {
            "color": [
             "rgb(235, 112, 183)",
             "rgb(29, 28, 224)",
             "rgb(97, 238, 231)",
             "rgb(205, 150, 7)",
             "rgb(162, 130, 237)",
             "rgb(161, 141, 0)",
             "rgb(77, 118, 120)",
             "rgb(133, 28, 83)",
             "rgb(6, 123, 186)",
             "rgb(247, 251, 55)"
            ]
           },
           "orientation": "h",
           "textangle": 0,
           "textposition": "outside",
           "texttemplate": "%{y}<br>%{x:.4s}",
           "type": "bar",
           "x": [
            78.73000000000047,
            89.45300000000043,
            91.65099999999984,
            93.11099999999988,
            93.86000000000058,
            95.42900000000009,
            108.58300000000054,
            111.67100000000028,
            115.65700000000015,
            140.3050000000003
           ],
           "y": [
            "MAG",
            "STR",
            "OCO",
            "ALB",
            "GAS",
            "HAM",
            "ZHO",
            "LAT",
            "MSC",
            "RIC"
           ]
          }
         ],
         "layout": {
          "bargap": 0.15,
          "font": {
           "size": 14
          },
          "plot_bgcolor": "#FFFFFF",
          "xaxis": {
           "range": [
            0,
            142.8060000000005
           ],
           "showline": true,
           "visible": true
          },
          "yaxis": {
           "showline": false,
           "visible": true
          }
         },
         "name": "48"
        },
        {
         "data": [
          {
           "cliponaxis": false,
           "hoverinfo": "all",
           "hovertemplate": "<extra></extra>",
           "marker": {
            "color": [
             "rgb(235, 112, 183)",
             "rgb(29, 28, 224)",
             "rgb(97, 238, 231)",
             "rgb(205, 150, 7)",
             "rgb(162, 130, 237)",
             "rgb(161, 141, 0)",
             "rgb(77, 118, 120)",
             "rgb(133, 28, 83)",
             "rgb(6, 123, 186)",
             "rgb(247, 251, 55)"
            ]
           },
           "orientation": "h",
           "textangle": 0,
           "textposition": "outside",
           "texttemplate": "%{y}<br>%{x:.4s}",
           "type": "bar",
           "x": [
            79.53600000000006,
            90.42799999999988,
            93.10000000000036,
            94.44599999999991,
            95.16899999999987,
            96.40200000000004,
            109.45299999999952,
            112.58899999999994,
            116.61599999999999,
            141.35000000000036
           ],
           "y": [
            "MAG",
            "STR",
            "OCO",
            "ALB",
            "GAS",
            "HAM",
            "ZHO",
            "LAT",
            "MSC",
            "RIC"
           ]
          }
         ],
         "layout": {
          "bargap": 0.15,
          "font": {
           "size": 14
          },
          "plot_bgcolor": "#FFFFFF",
          "xaxis": {
           "range": [
            0,
            142.8060000000005
           ],
           "showline": true,
           "visible": true
          },
          "yaxis": {
           "showline": false,
           "visible": true
          }
         },
         "name": "49"
        },
        {
         "data": [
          {
           "cliponaxis": false,
           "hoverinfo": "all",
           "hovertemplate": "<extra></extra>",
           "marker": {
            "color": [
             "rgb(235, 112, 183)",
             "rgb(29, 28, 224)",
             "rgb(97, 238, 231)",
             "rgb(205, 150, 7)",
             "rgb(162, 130, 237)",
             "rgb(161, 141, 0)",
             "rgb(77, 118, 120)",
             "rgb(133, 28, 83)",
             "rgb(6, 123, 186)",
             "rgb(247, 251, 55)"
            ]
           },
           "orientation": "h",
           "textangle": 0,
           "textposition": "outside",
           "texttemplate": "%{y}<br>%{x:.4s}",
           "type": "bar",
           "x": [
            82.47299999999996,
            91.26699999999983,
            94.13299999999981,
            95.48300000000017,
            96.20399999999972,
            96.80199999999968,
            110.10000000000036,
            113.44000000000051,
            117.4429999999993,
            142.27700000000004
           ],
           "y": [
            "MAG",
            "STR",
            "OCO",
            "ALB",
            "GAS",
            "HAM",
            "ZHO",
            "LAT",
            "MSC",
            "RIC"
           ]
          }
         ],
         "layout": {
          "bargap": 0.15,
          "font": {
           "size": 14
          },
          "plot_bgcolor": "#FFFFFF",
          "xaxis": {
           "range": [
            0,
            142.8060000000005
           ],
           "showline": true,
           "visible": true
          },
          "yaxis": {
           "showline": false,
           "visible": true
          }
         },
         "name": "50"
        },
        {
         "data": [
          {
           "cliponaxis": false,
           "hoverinfo": "all",
           "hovertemplate": "<extra></extra>",
           "marker": {
            "color": [
             "rgb(235, 112, 183)",
             "rgb(29, 28, 224)",
             "rgb(97, 238, 231)",
             "rgb(205, 150, 7)",
             "rgb(162, 130, 237)",
             "rgb(161, 141, 0)",
             "rgb(77, 118, 120)",
             "rgb(133, 28, 83)",
             "rgb(6, 123, 186)",
             "rgb(247, 251, 55)"
            ]
           },
           "orientation": "h",
           "textangle": 0,
           "textposition": "outside",
           "texttemplate": "%{y}<br>%{x:.4s}",
           "type": "bar",
           "x": [
            78.32699999999932,
            87.51900000000023,
            90.62799999999879,
            92.10000000000036,
            92.73899999999958,
            93.08200000000033,
            106.72400000000016,
            109.47199999999975,
            113.71099999999933,
            138.77900000000045
           ],
           "y": [
            "MAG",
            "STR",
            "OCO",
            "ALB",
            "GAS",
            "HAM",
            "ZHO",
            "LAT",
            "MSC",
            "RIC"
           ]
          }
         ],
         "layout": {
          "bargap": 0.15,
          "font": {
           "size": 14
          },
          "plot_bgcolor": "#FFFFFF",
          "xaxis": {
           "range": [
            0,
            142.8060000000005
           ],
           "showline": true,
           "visible": true
          },
          "yaxis": {
           "showline": false,
           "visible": true
          }
         },
         "name": "51"
        },
        {
         "data": [
          {
           "cliponaxis": false,
           "hoverinfo": "all",
           "hovertemplate": "<extra></extra>",
           "marker": {
            "color": [
             "rgb(235, 112, 183)",
             "rgb(29, 28, 224)",
             "rgb(97, 238, 231)",
             "rgb(205, 150, 7)",
             "rgb(162, 130, 237)",
             "rgb(161, 141, 0)",
             "rgb(77, 118, 120)",
             "rgb(133, 28, 83)",
             "rgb(6, 123, 186)",
             "rgb(247, 251, 55)"
            ]
           },
           "orientation": "h",
           "textangle": 0,
           "textposition": "outside",
           "texttemplate": "%{y}<br>%{x:.4s}",
           "type": "bar",
           "x": [
            55.89800000000105,
            65.4280000000017,
            68.40800000000127,
            69.91400000000067,
            70.51400000000103,
            71.03900000000067,
            84.29800000000068,
            86.75200000000041,
            95.84000000000015,
            116.871000000001
           ],
           "y": [
            "MAG",
            "STR",
            "OCO",
            "ALB",
            "GAS",
            "HAM",
            "ZHO",
            "LAT",
            "MSC",
            "RIC"
           ]
          }
         ],
         "layout": {
          "bargap": 0.15,
          "font": {
           "size": 14
          },
          "plot_bgcolor": "#FFFFFF",
          "xaxis": {
           "range": [
            0,
            142.8060000000005
           ],
           "showline": true,
           "visible": true
          },
          "yaxis": {
           "showline": false,
           "visible": true
          }
         },
         "name": "52"
        },
        {
         "data": [
          {
           "cliponaxis": false,
           "hoverinfo": "all",
           "hovertemplate": "<extra></extra>",
           "marker": {
            "color": [
             "rgb(235, 112, 183)",
             "rgb(29, 28, 224)",
             "rgb(97, 238, 231)",
             "rgb(205, 150, 7)",
             "rgb(162, 130, 237)",
             "rgb(161, 141, 0)",
             "rgb(77, 118, 120)",
             "rgb(133, 28, 83)",
             "rgb(247, 251, 55)",
             "rgb(6, 123, 186)"
            ]
           },
           "orientation": "h",
           "textangle": 0,
           "textposition": "outside",
           "texttemplate": "%{y}<br>%{x:.4s}",
           "type": "bar",
           "x": [
            58.052999999999884,
            68.14199999999983,
            71.15300000000025,
            72.71099999999933,
            73.30500000000029,
            73.59900000000016,
            86.46799999999894,
            88.90300000000025,
            119.60399999999936,
            121.71500000000015
           ],
           "y": [
            "MAG",
            "STR",
            "OCO",
            "ALB",
            "GAS",
            "HAM",
            "ZHO",
            "LAT",
            "RIC",
            "MSC"
           ]
          }
         ],
         "layout": {
          "bargap": 0.15,
          "font": {
           "size": 14
          },
          "plot_bgcolor": "#FFFFFF",
          "xaxis": {
           "range": [
            0,
            142.8060000000005
           ],
           "showline": true,
           "visible": true
          },
          "yaxis": {
           "showline": false,
           "visible": true
          }
         },
         "name": "53"
        },
        {
         "data": [
          {
           "cliponaxis": false,
           "hoverinfo": "all",
           "hovertemplate": "<extra></extra>",
           "marker": {
            "color": [
             "rgb(30, 162, 154)",
             "rgb(29, 28, 224)",
             "rgb(97, 238, 231)",
             "rgb(205, 150, 7)",
             "rgb(162, 130, 237)",
             "rgb(161, 141, 0)",
             "rgb(77, 118, 120)",
             "rgb(133, 28, 83)",
             "rgb(247, 251, 55)",
             "rgb(6, 123, 186)"
            ]
           },
           "orientation": "h",
           "textangle": 0,
           "textposition": "outside",
           "texttemplate": "%{y}<br>%{x:.4s}",
           "type": "bar",
           "x": [
            60.01299999999901,
            69.02900000000045,
            72.22400000000016,
            73.76599999999962,
            74.48599999999897,
            74.76000000000022,
            86.98400000000038,
            89.28299999999945,
            120.628999999999,
            120.68499999999949
           ],
           "y": [
            "LEC",
            "STR",
            "OCO",
            "ALB",
            "GAS",
            "HAM",
            "ZHO",
            "LAT",
            "RIC",
            "MSC"
           ]
          }
         ],
         "layout": {
          "bargap": 0.15,
          "font": {
           "size": 14
          },
          "plot_bgcolor": "#FFFFFF",
          "xaxis": {
           "range": [
            0,
            142.8060000000005
           ],
           "showline": true,
           "visible": true
          },
          "yaxis": {
           "showline": false,
           "visible": true
          }
         },
         "name": "54"
        },
        {
         "data": [
          {
           "cliponaxis": false,
           "hoverinfo": "all",
           "hovertemplate": "<extra></extra>",
           "marker": {
            "color": [
             "rgb(30, 162, 154)",
             "rgb(29, 28, 224)",
             "rgb(97, 238, 231)",
             "rgb(205, 150, 7)",
             "rgb(162, 130, 237)",
             "rgb(161, 141, 0)",
             "rgb(77, 118, 120)",
             "rgb(133, 28, 83)",
             "rgb(6, 123, 186)",
             "rgb(247, 251, 55)"
            ]
           },
           "orientation": "h",
           "textangle": 0,
           "textposition": "outside",
           "texttemplate": "%{y}<br>%{x:.4s}",
           "type": "bar",
           "x": [
            61.61499999999978,
            72.64699999999903,
            75.79099999999926,
            77.39099999999962,
            77.97899999999936,
            78.55199999999968,
            89.93299999999908,
            92.31999999999971,
            121.23799999999937,
            124.75900000000001
           ],
           "y": [
            "LEC",
            "STR",
            "OCO",
            "ALB",
            "GAS",
            "HAM",
            "ZHO",
            "LAT",
            "MSC",
            "RIC"
           ]
          }
         ],
         "layout": {
          "bargap": 0.15,
          "font": {
           "size": 14
          },
          "plot_bgcolor": "#FFFFFF",
          "xaxis": {
           "range": [
            0,
            142.8060000000005
           ],
           "showline": true,
           "visible": true
          },
          "yaxis": {
           "showline": false,
           "visible": true
          }
         },
         "name": "55"
        },
        {
         "data": [
          {
           "cliponaxis": false,
           "hoverinfo": "all",
           "hovertemplate": "<extra></extra>",
           "marker": {
            "color": [
             "rgb(235, 112, 183)",
             "rgb(29, 28, 224)",
             "rgb(97, 238, 231)",
             "rgb(205, 150, 7)",
             "rgb(162, 130, 237)",
             "rgb(161, 141, 0)",
             "rgb(77, 118, 120)",
             "rgb(133, 28, 83)",
             "rgb(6, 123, 186)",
             "rgb(247, 251, 55)"
            ]
           },
           "orientation": "h",
           "textangle": 0,
           "textposition": "outside",
           "texttemplate": "%{y}<br>%{x:.4s}",
           "type": "bar",
           "x": [
            64.00799999999981,
            75.07799999999952,
            78.32599999999911,
            80.13400000000001,
            81.51399999999921,
            81.86099999999897,
            92.11099999999897,
            95.93199999999888,
            121.20699999999852,
            127.06999999999971
           ],
           "y": [
            "MAG",
            "STR",
            "OCO",
            "ALB",
            "GAS",
            "HAM",
            "ZHO",
            "LAT",
            "MSC",
            "RIC"
           ]
          }
         ],
         "layout": {
          "bargap": 0.15,
          "font": {
           "size": 14
          },
          "plot_bgcolor": "#FFFFFF",
          "xaxis": {
           "range": [
            0,
            142.8060000000005
           ],
           "showline": true,
           "visible": true
          },
          "yaxis": {
           "showline": false,
           "visible": true
          }
         },
         "name": "56"
        },
        {
         "data": [
          {
           "cliponaxis": false,
           "hoverinfo": "all",
           "hovertemplate": "<extra></extra>",
           "marker": {
            "color": [
             "rgb(235, 112, 183)",
             "rgb(29, 28, 224)",
             "rgb(97, 238, 231)",
             "rgb(205, 150, 7)",
             "rgb(162, 130, 237)",
             "rgb(161, 141, 0)",
             "rgb(77, 118, 120)",
             "rgb(133, 28, 83)",
             "rgb(6, 123, 186)",
             "rgb(247, 251, 55)"
            ]
           },
           "orientation": "h",
           "textangle": 0,
           "textposition": "outside",
           "texttemplate": "%{y}<br>%{x:.4s}",
           "type": "bar",
           "x": [
            64.94400000000132,
            76.496000000001,
            81.17300000000068,
            82.34000000000015,
            82.94500000000153,
            83.32700000000114,
            94.82500000000073,
            97.21900000000096,
            120.3700000000008,
            128.32300000000032
           ],
           "y": [
            "MAG",
            "STR",
            "OCO",
            "ALB",
            "GAS",
            "HAM",
            "ZHO",
            "LAT",
            "MSC",
            "RIC"
           ]
          }
         ],
         "layout": {
          "bargap": 0.15,
          "font": {
           "size": 14
          },
          "plot_bgcolor": "#FFFFFF",
          "xaxis": {
           "range": [
            0,
            142.8060000000005
           ],
           "showline": true,
           "visible": true
          },
          "yaxis": {
           "showline": false,
           "visible": true
          }
         },
         "name": "57"
        },
        {
         "data": [
          {
           "cliponaxis": false,
           "hoverinfo": "all",
           "hovertemplate": "<extra></extra>",
           "marker": {
            "color": [
             "rgb(235, 112, 183)",
             "rgb(29, 28, 224)",
             "rgb(97, 238, 231)",
             "rgb(205, 150, 7)",
             "rgb(162, 130, 237)",
             "rgb(161, 141, 0)",
             "rgb(77, 118, 120)",
             "rgb(133, 28, 83)",
             "rgb(6, 123, 186)",
             "rgb(247, 251, 55)"
            ]
           },
           "orientation": "h",
           "textangle": 0,
           "textposition": "outside",
           "texttemplate": "%{y}<br>%{x:.4s}",
           "type": "bar",
           "x": [
            67.1180000000004,
            79.1239999999998,
            83.76900000000023,
            85.28099999999904,
            85.85199999999895,
            86.21500000000015,
            96.89699999999903,
            99.72400000000016,
            120.98500000000058,
            130.60599999999977
           ],
           "y": [
            "MAG",
            "STR",
            "OCO",
            "ALB",
            "GAS",
            "HAM",
            "ZHO",
            "LAT",
            "MSC",
            "RIC"
           ]
          }
         ],
         "layout": {
          "bargap": 0.15,
          "font": {
           "size": 14
          },
          "plot_bgcolor": "#FFFFFF",
          "xaxis": {
           "range": [
            0,
            142.8060000000005
           ],
           "showline": true,
           "visible": true
          },
          "yaxis": {
           "showline": false,
           "visible": true
          }
         },
         "name": "58"
        },
        {
         "data": [
          {
           "cliponaxis": false,
           "hoverinfo": "all",
           "hovertemplate": "<extra></extra>",
           "marker": {
            "color": [
             "rgb(235, 112, 183)",
             "rgb(29, 28, 224)",
             "rgb(97, 238, 231)",
             "rgb(205, 150, 7)",
             "rgb(162, 130, 237)",
             "rgb(161, 141, 0)",
             "rgb(77, 118, 120)",
             "rgb(133, 28, 83)",
             "rgb(6, 123, 186)",
             "rgb(247, 251, 55)"
            ]
           },
           "orientation": "h",
           "textangle": 0,
           "textposition": "outside",
           "texttemplate": "%{y}<br>%{x:.4s}",
           "type": "bar",
           "x": [
            68.78899999999885,
            82.78999999999905,
            85.86799999999857,
            87.45799999999872,
            88.09299999999894,
            88.50199999999859,
            98.75199999999859,
            101.52499999999964,
            120.89999999999964,
            132.44700000000012
           ],
           "y": [
            "MAG",
            "STR",
            "OCO",
            "ALB",
            "GAS",
            "HAM",
            "ZHO",
            "LAT",
            "MSC",
            "RIC"
           ]
          }
         ],
         "layout": {
          "bargap": 0.15,
          "font": {
           "size": 14
          },
          "plot_bgcolor": "#FFFFFF",
          "xaxis": {
           "range": [
            0,
            142.8060000000005
           ],
           "showline": true,
           "visible": true
          },
          "yaxis": {
           "showline": false,
           "visible": true
          }
         },
         "name": "59"
        },
        {
         "data": [
          {
           "cliponaxis": false,
           "hoverinfo": "all",
           "hovertemplate": "<extra></extra>",
           "marker": {
            "color": [
             "rgb(235, 112, 183)",
             "rgb(29, 28, 224)",
             "rgb(97, 238, 231)",
             "rgb(205, 150, 7)",
             "rgb(162, 130, 237)",
             "rgb(161, 141, 0)",
             "rgb(77, 118, 120)",
             "rgb(133, 28, 83)",
             "rgb(6, 123, 186)",
             "rgb(247, 251, 55)"
            ]
           },
           "orientation": "h",
           "textangle": 0,
           "textposition": "outside",
           "texttemplate": "%{y}<br>%{x:.4s}",
           "type": "bar",
           "x": [
            70.35500000000138,
            84.70800000000054,
            88.04500000000007,
            89.4950000000008,
            90.14400000000023,
            90.71600000000035,
            100.3680000000004,
            103.00900000000001,
            121.3760000000002,
            134.34799999999996
           ],
           "y": [
            "MAG",
            "STR",
            "OCO",
            "ALB",
            "GAS",
            "HAM",
            "ZHO",
            "LAT",
            "MSC",
            "RIC"
           ]
          }
         ],
         "layout": {
          "bargap": 0.15,
          "font": {
           "size": 14
          },
          "plot_bgcolor": "#FFFFFF",
          "xaxis": {
           "range": [
            0,
            142.8060000000005
           ],
           "showline": true,
           "visible": true
          },
          "yaxis": {
           "showline": false,
           "visible": true
          }
         },
         "name": "60"
        },
        {
         "data": [
          {
           "cliponaxis": false,
           "hoverinfo": "all",
           "hovertemplate": "<extra></extra>",
           "marker": {
            "color": [
             "rgb(235, 112, 183)",
             "rgb(29, 28, 224)",
             "rgb(97, 238, 231)",
             "rgb(205, 150, 7)",
             "rgb(162, 130, 237)",
             "rgb(161, 141, 0)",
             "rgb(77, 118, 120)",
             "rgb(133, 28, 83)",
             "rgb(6, 123, 186)",
             "rgb(247, 251, 55)"
            ]
           },
           "orientation": "h",
           "textangle": 0,
           "textposition": "outside",
           "texttemplate": "%{y}<br>%{x:.4s}",
           "type": "bar",
           "x": [
            71.64600000000064,
            86.77700000000004,
            90.07300000000032,
            91.30500000000029,
            91.9359999999997,
            92.60499999999956,
            101.70700000000033,
            104.45800000000054,
            122.3690000000006,
            135.97800000000097
           ],
           "y": [
            "MAG",
            "STR",
            "OCO",
            "ALB",
            "GAS",
            "HAM",
            "ZHO",
            "LAT",
            "MSC",
            "RIC"
           ]
          }
         ],
         "layout": {
          "bargap": 0.15,
          "font": {
           "size": 14
          },
          "plot_bgcolor": "#FFFFFF",
          "xaxis": {
           "range": [
            0,
            142.8060000000005
           ],
           "showline": true,
           "visible": true
          },
          "yaxis": {
           "showline": false,
           "visible": true
          }
         },
         "name": "61"
        },
        {
         "data": [
          {
           "cliponaxis": false,
           "hoverinfo": "all",
           "hovertemplate": "<extra></extra>",
           "marker": {
            "color": [
             "rgb(235, 112, 183)",
             "rgb(29, 28, 224)",
             "rgb(97, 238, 231)",
             "rgb(205, 150, 7)",
             "rgb(162, 130, 237)",
             "rgb(161, 141, 0)",
             "rgb(77, 118, 120)",
             "rgb(133, 28, 83)",
             "rgb(6, 123, 186)",
             "rgb(247, 251, 55)"
            ]
           },
           "orientation": "h",
           "textangle": 0,
           "textposition": "outside",
           "texttemplate": "%{y}<br>%{x:.4s}",
           "type": "bar",
           "x": [
            73.37099999999919,
            89.47199999999975,
            92.50900000000001,
            94.1299999999992,
            94.72600000000057,
            95.41699999999946,
            103.53399999999965,
            106.1869999999999,
            124.0609999999997,
            142.8060000000005
           ],
           "y": [
            "MAG",
            "STR",
            "OCO",
            "ALB",
            "GAS",
            "HAM",
            "ZHO",
            "LAT",
            "MSC",
            "RIC"
           ]
          }
         ],
         "layout": {
          "bargap": 0.15,
          "font": {
           "size": 14
          },
          "plot_bgcolor": "#FFFFFF",
          "xaxis": {
           "range": [
            0,
            142.8060000000005
           ],
           "showline": true,
           "visible": true
          },
          "yaxis": {
           "showline": false,
           "visible": true
          }
         },
         "name": "62"
        }
       ],
       "layout": {
        "bargap": 0.15,
        "font": {
         "size": 14
        },
        "plot_bgcolor": "#FFFFFF",
        "sliders": [
         {
          "active": 0,
          "currentvalue": {
           "font": {
            "size": 20
           },
           "prefix": "Date: ",
           "visible": true,
           "xanchor": "right"
          },
          "len": 0.9,
          "pad": {
           "b": 10,
           "t": 50
          },
          "steps": [
           {
            "args": [
             [
              "1"
             ],
             {
              "frame": {
               "duration": 600,
               "redraw": false
              },
              "mode": "immediate",
              "transition": {
               "duration": 600
              }
             }
            ],
            "label": "1",
            "method": "animate"
           },
           {
            "args": [
             [
              "2"
             ],
             {
              "frame": {
               "duration": 600,
               "redraw": false
              },
              "mode": "immediate",
              "transition": {
               "duration": 600
              }
             }
            ],
            "label": "2",
            "method": "animate"
           },
           {
            "args": [
             [
              "3"
             ],
             {
              "frame": {
               "duration": 600,
               "redraw": false
              },
              "mode": "immediate",
              "transition": {
               "duration": 600
              }
             }
            ],
            "label": "3",
            "method": "animate"
           },
           {
            "args": [
             [
              "4"
             ],
             {
              "frame": {
               "duration": 600,
               "redraw": false
              },
              "mode": "immediate",
              "transition": {
               "duration": 600
              }
             }
            ],
            "label": "4",
            "method": "animate"
           },
           {
            "args": [
             [
              "5"
             ],
             {
              "frame": {
               "duration": 600,
               "redraw": false
              },
              "mode": "immediate",
              "transition": {
               "duration": 600
              }
             }
            ],
            "label": "5",
            "method": "animate"
           },
           {
            "args": [
             [
              "6"
             ],
             {
              "frame": {
               "duration": 600,
               "redraw": false
              },
              "mode": "immediate",
              "transition": {
               "duration": 600
              }
             }
            ],
            "label": "6",
            "method": "animate"
           },
           {
            "args": [
             [
              "7"
             ],
             {
              "frame": {
               "duration": 600,
               "redraw": false
              },
              "mode": "immediate",
              "transition": {
               "duration": 600
              }
             }
            ],
            "label": "7",
            "method": "animate"
           },
           {
            "args": [
             [
              "8"
             ],
             {
              "frame": {
               "duration": 600,
               "redraw": false
              },
              "mode": "immediate",
              "transition": {
               "duration": 600
              }
             }
            ],
            "label": "8",
            "method": "animate"
           },
           {
            "args": [
             [
              "9"
             ],
             {
              "frame": {
               "duration": 600,
               "redraw": false
              },
              "mode": "immediate",
              "transition": {
               "duration": 600
              }
             }
            ],
            "label": "9",
            "method": "animate"
           },
           {
            "args": [
             [
              "10"
             ],
             {
              "frame": {
               "duration": 600,
               "redraw": false
              },
              "mode": "immediate",
              "transition": {
               "duration": 600
              }
             }
            ],
            "label": "10",
            "method": "animate"
           },
           {
            "args": [
             [
              "11"
             ],
             {
              "frame": {
               "duration": 600,
               "redraw": false
              },
              "mode": "immediate",
              "transition": {
               "duration": 600
              }
             }
            ],
            "label": "11",
            "method": "animate"
           },
           {
            "args": [
             [
              "12"
             ],
             {
              "frame": {
               "duration": 600,
               "redraw": false
              },
              "mode": "immediate",
              "transition": {
               "duration": 600
              }
             }
            ],
            "label": "12",
            "method": "animate"
           },
           {
            "args": [
             [
              "13"
             ],
             {
              "frame": {
               "duration": 600,
               "redraw": false
              },
              "mode": "immediate",
              "transition": {
               "duration": 600
              }
             }
            ],
            "label": "13",
            "method": "animate"
           },
           {
            "args": [
             [
              "14"
             ],
             {
              "frame": {
               "duration": 600,
               "redraw": false
              },
              "mode": "immediate",
              "transition": {
               "duration": 600
              }
             }
            ],
            "label": "14",
            "method": "animate"
           },
           {
            "args": [
             [
              "15"
             ],
             {
              "frame": {
               "duration": 600,
               "redraw": false
              },
              "mode": "immediate",
              "transition": {
               "duration": 600
              }
             }
            ],
            "label": "15",
            "method": "animate"
           },
           {
            "args": [
             [
              "16"
             ],
             {
              "frame": {
               "duration": 600,
               "redraw": false
              },
              "mode": "immediate",
              "transition": {
               "duration": 600
              }
             }
            ],
            "label": "16",
            "method": "animate"
           },
           {
            "args": [
             [
              "17"
             ],
             {
              "frame": {
               "duration": 600,
               "redraw": false
              },
              "mode": "immediate",
              "transition": {
               "duration": 600
              }
             }
            ],
            "label": "17",
            "method": "animate"
           },
           {
            "args": [
             [
              "18"
             ],
             {
              "frame": {
               "duration": 600,
               "redraw": false
              },
              "mode": "immediate",
              "transition": {
               "duration": 600
              }
             }
            ],
            "label": "18",
            "method": "animate"
           },
           {
            "args": [
             [
              "19"
             ],
             {
              "frame": {
               "duration": 600,
               "redraw": false
              },
              "mode": "immediate",
              "transition": {
               "duration": 600
              }
             }
            ],
            "label": "19",
            "method": "animate"
           },
           {
            "args": [
             [
              "20"
             ],
             {
              "frame": {
               "duration": 600,
               "redraw": false
              },
              "mode": "immediate",
              "transition": {
               "duration": 600
              }
             }
            ],
            "label": "20",
            "method": "animate"
           },
           {
            "args": [
             [
              "21"
             ],
             {
              "frame": {
               "duration": 600,
               "redraw": false
              },
              "mode": "immediate",
              "transition": {
               "duration": 600
              }
             }
            ],
            "label": "21",
            "method": "animate"
           },
           {
            "args": [
             [
              "22"
             ],
             {
              "frame": {
               "duration": 600,
               "redraw": false
              },
              "mode": "immediate",
              "transition": {
               "duration": 600
              }
             }
            ],
            "label": "22",
            "method": "animate"
           },
           {
            "args": [
             [
              "23"
             ],
             {
              "frame": {
               "duration": 600,
               "redraw": false
              },
              "mode": "immediate",
              "transition": {
               "duration": 600
              }
             }
            ],
            "label": "23",
            "method": "animate"
           },
           {
            "args": [
             [
              "24"
             ],
             {
              "frame": {
               "duration": 600,
               "redraw": false
              },
              "mode": "immediate",
              "transition": {
               "duration": 600
              }
             }
            ],
            "label": "24",
            "method": "animate"
           },
           {
            "args": [
             [
              "25"
             ],
             {
              "frame": {
               "duration": 600,
               "redraw": false
              },
              "mode": "immediate",
              "transition": {
               "duration": 600
              }
             }
            ],
            "label": "25",
            "method": "animate"
           },
           {
            "args": [
             [
              "26"
             ],
             {
              "frame": {
               "duration": 600,
               "redraw": false
              },
              "mode": "immediate",
              "transition": {
               "duration": 600
              }
             }
            ],
            "label": "26",
            "method": "animate"
           },
           {
            "args": [
             [
              "27"
             ],
             {
              "frame": {
               "duration": 600,
               "redraw": false
              },
              "mode": "immediate",
              "transition": {
               "duration": 600
              }
             }
            ],
            "label": "27",
            "method": "animate"
           },
           {
            "args": [
             [
              "28"
             ],
             {
              "frame": {
               "duration": 600,
               "redraw": false
              },
              "mode": "immediate",
              "transition": {
               "duration": 600
              }
             }
            ],
            "label": "28",
            "method": "animate"
           },
           {
            "args": [
             [
              "29"
             ],
             {
              "frame": {
               "duration": 600,
               "redraw": false
              },
              "mode": "immediate",
              "transition": {
               "duration": 600
              }
             }
            ],
            "label": "29",
            "method": "animate"
           },
           {
            "args": [
             [
              "30"
             ],
             {
              "frame": {
               "duration": 600,
               "redraw": false
              },
              "mode": "immediate",
              "transition": {
               "duration": 600
              }
             }
            ],
            "label": "30",
            "method": "animate"
           },
           {
            "args": [
             [
              "31"
             ],
             {
              "frame": {
               "duration": 600,
               "redraw": false
              },
              "mode": "immediate",
              "transition": {
               "duration": 600
              }
             }
            ],
            "label": "31",
            "method": "animate"
           },
           {
            "args": [
             [
              "32"
             ],
             {
              "frame": {
               "duration": 600,
               "redraw": false
              },
              "mode": "immediate",
              "transition": {
               "duration": 600
              }
             }
            ],
            "label": "32",
            "method": "animate"
           },
           {
            "args": [
             [
              "33"
             ],
             {
              "frame": {
               "duration": 600,
               "redraw": false
              },
              "mode": "immediate",
              "transition": {
               "duration": 600
              }
             }
            ],
            "label": "33",
            "method": "animate"
           },
           {
            "args": [
             [
              "34"
             ],
             {
              "frame": {
               "duration": 600,
               "redraw": false
              },
              "mode": "immediate",
              "transition": {
               "duration": 600
              }
             }
            ],
            "label": "34",
            "method": "animate"
           },
           {
            "args": [
             [
              "35"
             ],
             {
              "frame": {
               "duration": 600,
               "redraw": false
              },
              "mode": "immediate",
              "transition": {
               "duration": 600
              }
             }
            ],
            "label": "35",
            "method": "animate"
           },
           {
            "args": [
             [
              "36"
             ],
             {
              "frame": {
               "duration": 600,
               "redraw": false
              },
              "mode": "immediate",
              "transition": {
               "duration": 600
              }
             }
            ],
            "label": "36",
            "method": "animate"
           },
           {
            "args": [
             [
              "37"
             ],
             {
              "frame": {
               "duration": 600,
               "redraw": false
              },
              "mode": "immediate",
              "transition": {
               "duration": 600
              }
             }
            ],
            "label": "37",
            "method": "animate"
           },
           {
            "args": [
             [
              "38"
             ],
             {
              "frame": {
               "duration": 600,
               "redraw": false
              },
              "mode": "immediate",
              "transition": {
               "duration": 600
              }
             }
            ],
            "label": "38",
            "method": "animate"
           },
           {
            "args": [
             [
              "39"
             ],
             {
              "frame": {
               "duration": 600,
               "redraw": false
              },
              "mode": "immediate",
              "transition": {
               "duration": 600
              }
             }
            ],
            "label": "39",
            "method": "animate"
           },
           {
            "args": [
             [
              "40"
             ],
             {
              "frame": {
               "duration": 600,
               "redraw": false
              },
              "mode": "immediate",
              "transition": {
               "duration": 600
              }
             }
            ],
            "label": "40",
            "method": "animate"
           },
           {
            "args": [
             [
              "41"
             ],
             {
              "frame": {
               "duration": 600,
               "redraw": false
              },
              "mode": "immediate",
              "transition": {
               "duration": 600
              }
             }
            ],
            "label": "41",
            "method": "animate"
           },
           {
            "args": [
             [
              "42"
             ],
             {
              "frame": {
               "duration": 600,
               "redraw": false
              },
              "mode": "immediate",
              "transition": {
               "duration": 600
              }
             }
            ],
            "label": "42",
            "method": "animate"
           },
           {
            "args": [
             [
              "43"
             ],
             {
              "frame": {
               "duration": 600,
               "redraw": false
              },
              "mode": "immediate",
              "transition": {
               "duration": 600
              }
             }
            ],
            "label": "43",
            "method": "animate"
           },
           {
            "args": [
             [
              "44"
             ],
             {
              "frame": {
               "duration": 600,
               "redraw": false
              },
              "mode": "immediate",
              "transition": {
               "duration": 600
              }
             }
            ],
            "label": "44",
            "method": "animate"
           },
           {
            "args": [
             [
              "45"
             ],
             {
              "frame": {
               "duration": 600,
               "redraw": false
              },
              "mode": "immediate",
              "transition": {
               "duration": 600
              }
             }
            ],
            "label": "45",
            "method": "animate"
           },
           {
            "args": [
             [
              "46"
             ],
             {
              "frame": {
               "duration": 600,
               "redraw": false
              },
              "mode": "immediate",
              "transition": {
               "duration": 600
              }
             }
            ],
            "label": "46",
            "method": "animate"
           },
           {
            "args": [
             [
              "47"
             ],
             {
              "frame": {
               "duration": 600,
               "redraw": false
              },
              "mode": "immediate",
              "transition": {
               "duration": 600
              }
             }
            ],
            "label": "47",
            "method": "animate"
           },
           {
            "args": [
             [
              "48"
             ],
             {
              "frame": {
               "duration": 600,
               "redraw": false
              },
              "mode": "immediate",
              "transition": {
               "duration": 600
              }
             }
            ],
            "label": "48",
            "method": "animate"
           },
           {
            "args": [
             [
              "49"
             ],
             {
              "frame": {
               "duration": 600,
               "redraw": false
              },
              "mode": "immediate",
              "transition": {
               "duration": 600
              }
             }
            ],
            "label": "49",
            "method": "animate"
           },
           {
            "args": [
             [
              "50"
             ],
             {
              "frame": {
               "duration": 600,
               "redraw": false
              },
              "mode": "immediate",
              "transition": {
               "duration": 600
              }
             }
            ],
            "label": "50",
            "method": "animate"
           },
           {
            "args": [
             [
              "51"
             ],
             {
              "frame": {
               "duration": 600,
               "redraw": false
              },
              "mode": "immediate",
              "transition": {
               "duration": 600
              }
             }
            ],
            "label": "51",
            "method": "animate"
           },
           {
            "args": [
             [
              "52"
             ],
             {
              "frame": {
               "duration": 600,
               "redraw": false
              },
              "mode": "immediate",
              "transition": {
               "duration": 600
              }
             }
            ],
            "label": "52",
            "method": "animate"
           },
           {
            "args": [
             [
              "53"
             ],
             {
              "frame": {
               "duration": 600,
               "redraw": false
              },
              "mode": "immediate",
              "transition": {
               "duration": 600
              }
             }
            ],
            "label": "53",
            "method": "animate"
           },
           {
            "args": [
             [
              "54"
             ],
             {
              "frame": {
               "duration": 600,
               "redraw": false
              },
              "mode": "immediate",
              "transition": {
               "duration": 600
              }
             }
            ],
            "label": "54",
            "method": "animate"
           },
           {
            "args": [
             [
              "55"
             ],
             {
              "frame": {
               "duration": 600,
               "redraw": false
              },
              "mode": "immediate",
              "transition": {
               "duration": 600
              }
             }
            ],
            "label": "55",
            "method": "animate"
           },
           {
            "args": [
             [
              "56"
             ],
             {
              "frame": {
               "duration": 600,
               "redraw": false
              },
              "mode": "immediate",
              "transition": {
               "duration": 600
              }
             }
            ],
            "label": "56",
            "method": "animate"
           },
           {
            "args": [
             [
              "57"
             ],
             {
              "frame": {
               "duration": 600,
               "redraw": false
              },
              "mode": "immediate",
              "transition": {
               "duration": 600
              }
             }
            ],
            "label": "57",
            "method": "animate"
           },
           {
            "args": [
             [
              "58"
             ],
             {
              "frame": {
               "duration": 600,
               "redraw": false
              },
              "mode": "immediate",
              "transition": {
               "duration": 600
              }
             }
            ],
            "label": "58",
            "method": "animate"
           },
           {
            "args": [
             [
              "59"
             ],
             {
              "frame": {
               "duration": 600,
               "redraw": false
              },
              "mode": "immediate",
              "transition": {
               "duration": 600
              }
             }
            ],
            "label": "59",
            "method": "animate"
           },
           {
            "args": [
             [
              "60"
             ],
             {
              "frame": {
               "duration": 600,
               "redraw": false
              },
              "mode": "immediate",
              "transition": {
               "duration": 600
              }
             }
            ],
            "label": "60",
            "method": "animate"
           },
           {
            "args": [
             [
              "61"
             ],
             {
              "frame": {
               "duration": 600,
               "redraw": false
              },
              "mode": "immediate",
              "transition": {
               "duration": 600
              }
             }
            ],
            "label": "61",
            "method": "animate"
           },
           {
            "args": [
             [
              "62"
             ],
             {
              "frame": {
               "duration": 600,
               "redraw": false
              },
              "mode": "immediate",
              "transition": {
               "duration": 600
              }
             }
            ],
            "label": "62",
            "method": "animate"
           }
          ],
          "transition": {
           "duration": 300,
           "easing": "cubic-in-out"
          },
          "x": 0.1,
          "xanchor": "left",
          "y": 0,
          "yanchor": "top"
         }
        ],
        "template": {
         "data": {
          "bar": [
           {
            "error_x": {
             "color": "#f2f5fa"
            },
            "error_y": {
             "color": "#f2f5fa"
            },
            "marker": {
             "line": {
              "color": "rgb(17,17,17)",
              "width": 0.5
             },
             "pattern": {
              "fillmode": "overlay",
              "size": 10,
              "solidity": 0.2
             }
            },
            "type": "bar"
           }
          ],
          "barpolar": [
           {
            "marker": {
             "line": {
              "color": "rgb(17,17,17)",
              "width": 0.5
             },
             "pattern": {
              "fillmode": "overlay",
              "size": 10,
              "solidity": 0.2
             }
            },
            "type": "barpolar"
           }
          ],
          "carpet": [
           {
            "aaxis": {
             "endlinecolor": "#A2B1C6",
             "gridcolor": "#506784",
             "linecolor": "#506784",
             "minorgridcolor": "#506784",
             "startlinecolor": "#A2B1C6"
            },
            "baxis": {
             "endlinecolor": "#A2B1C6",
             "gridcolor": "#506784",
             "linecolor": "#506784",
             "minorgridcolor": "#506784",
             "startlinecolor": "#A2B1C6"
            },
            "type": "carpet"
           }
          ],
          "choropleth": [
           {
            "colorbar": {
             "outlinewidth": 0,
             "ticks": ""
            },
            "type": "choropleth"
           }
          ],
          "contour": [
           {
            "colorbar": {
             "outlinewidth": 0,
             "ticks": ""
            },
            "colorscale": [
             [
              0,
              "#0d0887"
             ],
             [
              0.1111111111111111,
              "#46039f"
             ],
             [
              0.2222222222222222,
              "#7201a8"
             ],
             [
              0.3333333333333333,
              "#9c179e"
             ],
             [
              0.4444444444444444,
              "#bd3786"
             ],
             [
              0.5555555555555556,
              "#d8576b"
             ],
             [
              0.6666666666666666,
              "#ed7953"
             ],
             [
              0.7777777777777778,
              "#fb9f3a"
             ],
             [
              0.8888888888888888,
              "#fdca26"
             ],
             [
              1,
              "#f0f921"
             ]
            ],
            "type": "contour"
           }
          ],
          "contourcarpet": [
           {
            "colorbar": {
             "outlinewidth": 0,
             "ticks": ""
            },
            "type": "contourcarpet"
           }
          ],
          "heatmap": [
           {
            "colorbar": {
             "outlinewidth": 0,
             "ticks": ""
            },
            "colorscale": [
             [
              0,
              "#0d0887"
             ],
             [
              0.1111111111111111,
              "#46039f"
             ],
             [
              0.2222222222222222,
              "#7201a8"
             ],
             [
              0.3333333333333333,
              "#9c179e"
             ],
             [
              0.4444444444444444,
              "#bd3786"
             ],
             [
              0.5555555555555556,
              "#d8576b"
             ],
             [
              0.6666666666666666,
              "#ed7953"
             ],
             [
              0.7777777777777778,
              "#fb9f3a"
             ],
             [
              0.8888888888888888,
              "#fdca26"
             ],
             [
              1,
              "#f0f921"
             ]
            ],
            "type": "heatmap"
           }
          ],
          "heatmapgl": [
           {
            "colorbar": {
             "outlinewidth": 0,
             "ticks": ""
            },
            "colorscale": [
             [
              0,
              "#0d0887"
             ],
             [
              0.1111111111111111,
              "#46039f"
             ],
             [
              0.2222222222222222,
              "#7201a8"
             ],
             [
              0.3333333333333333,
              "#9c179e"
             ],
             [
              0.4444444444444444,
              "#bd3786"
             ],
             [
              0.5555555555555556,
              "#d8576b"
             ],
             [
              0.6666666666666666,
              "#ed7953"
             ],
             [
              0.7777777777777778,
              "#fb9f3a"
             ],
             [
              0.8888888888888888,
              "#fdca26"
             ],
             [
              1,
              "#f0f921"
             ]
            ],
            "type": "heatmapgl"
           }
          ],
          "histogram": [
           {
            "marker": {
             "pattern": {
              "fillmode": "overlay",
              "size": 10,
              "solidity": 0.2
             }
            },
            "type": "histogram"
           }
          ],
          "histogram2d": [
           {
            "colorbar": {
             "outlinewidth": 0,
             "ticks": ""
            },
            "colorscale": [
             [
              0,
              "#0d0887"
             ],
             [
              0.1111111111111111,
              "#46039f"
             ],
             [
              0.2222222222222222,
              "#7201a8"
             ],
             [
              0.3333333333333333,
              "#9c179e"
             ],
             [
              0.4444444444444444,
              "#bd3786"
             ],
             [
              0.5555555555555556,
              "#d8576b"
             ],
             [
              0.6666666666666666,
              "#ed7953"
             ],
             [
              0.7777777777777778,
              "#fb9f3a"
             ],
             [
              0.8888888888888888,
              "#fdca26"
             ],
             [
              1,
              "#f0f921"
             ]
            ],
            "type": "histogram2d"
           }
          ],
          "histogram2dcontour": [
           {
            "colorbar": {
             "outlinewidth": 0,
             "ticks": ""
            },
            "colorscale": [
             [
              0,
              "#0d0887"
             ],
             [
              0.1111111111111111,
              "#46039f"
             ],
             [
              0.2222222222222222,
              "#7201a8"
             ],
             [
              0.3333333333333333,
              "#9c179e"
             ],
             [
              0.4444444444444444,
              "#bd3786"
             ],
             [
              0.5555555555555556,
              "#d8576b"
             ],
             [
              0.6666666666666666,
              "#ed7953"
             ],
             [
              0.7777777777777778,
              "#fb9f3a"
             ],
             [
              0.8888888888888888,
              "#fdca26"
             ],
             [
              1,
              "#f0f921"
             ]
            ],
            "type": "histogram2dcontour"
           }
          ],
          "mesh3d": [
           {
            "colorbar": {
             "outlinewidth": 0,
             "ticks": ""
            },
            "type": "mesh3d"
           }
          ],
          "parcoords": [
           {
            "line": {
             "colorbar": {
              "outlinewidth": 0,
              "ticks": ""
             }
            },
            "type": "parcoords"
           }
          ],
          "pie": [
           {
            "automargin": true,
            "type": "pie"
           }
          ],
          "scatter": [
           {
            "marker": {
             "line": {
              "color": "#283442"
             }
            },
            "type": "scatter"
           }
          ],
          "scatter3d": [
           {
            "line": {
             "colorbar": {
              "outlinewidth": 0,
              "ticks": ""
             }
            },
            "marker": {
             "colorbar": {
              "outlinewidth": 0,
              "ticks": ""
             }
            },
            "type": "scatter3d"
           }
          ],
          "scattercarpet": [
           {
            "marker": {
             "colorbar": {
              "outlinewidth": 0,
              "ticks": ""
             }
            },
            "type": "scattercarpet"
           }
          ],
          "scattergeo": [
           {
            "marker": {
             "colorbar": {
              "outlinewidth": 0,
              "ticks": ""
             }
            },
            "type": "scattergeo"
           }
          ],
          "scattergl": [
           {
            "marker": {
             "line": {
              "color": "#283442"
             }
            },
            "type": "scattergl"
           }
          ],
          "scattermapbox": [
           {
            "marker": {
             "colorbar": {
              "outlinewidth": 0,
              "ticks": ""
             }
            },
            "type": "scattermapbox"
           }
          ],
          "scatterpolar": [
           {
            "marker": {
             "colorbar": {
              "outlinewidth": 0,
              "ticks": ""
             }
            },
            "type": "scatterpolar"
           }
          ],
          "scatterpolargl": [
           {
            "marker": {
             "colorbar": {
              "outlinewidth": 0,
              "ticks": ""
             }
            },
            "type": "scatterpolargl"
           }
          ],
          "scatterternary": [
           {
            "marker": {
             "colorbar": {
              "outlinewidth": 0,
              "ticks": ""
             }
            },
            "type": "scatterternary"
           }
          ],
          "surface": [
           {
            "colorbar": {
             "outlinewidth": 0,
             "ticks": ""
            },
            "colorscale": [
             [
              0,
              "#0d0887"
             ],
             [
              0.1111111111111111,
              "#46039f"
             ],
             [
              0.2222222222222222,
              "#7201a8"
             ],
             [
              0.3333333333333333,
              "#9c179e"
             ],
             [
              0.4444444444444444,
              "#bd3786"
             ],
             [
              0.5555555555555556,
              "#d8576b"
             ],
             [
              0.6666666666666666,
              "#ed7953"
             ],
             [
              0.7777777777777778,
              "#fb9f3a"
             ],
             [
              0.8888888888888888,
              "#fdca26"
             ],
             [
              1,
              "#f0f921"
             ]
            ],
            "type": "surface"
           }
          ],
          "table": [
           {
            "cells": {
             "fill": {
              "color": "#506784"
             },
             "line": {
              "color": "rgb(17,17,17)"
             }
            },
            "header": {
             "fill": {
              "color": "#2a3f5f"
             },
             "line": {
              "color": "rgb(17,17,17)"
             }
            },
            "type": "table"
           }
          ]
         },
         "layout": {
          "annotationdefaults": {
           "arrowcolor": "#f2f5fa",
           "arrowhead": 0,
           "arrowwidth": 1
          },
          "autotypenumbers": "strict",
          "coloraxis": {
           "colorbar": {
            "outlinewidth": 0,
            "ticks": ""
           }
          },
          "colorscale": {
           "diverging": [
            [
             0,
             "#8e0152"
            ],
            [
             0.1,
             "#c51b7d"
            ],
            [
             0.2,
             "#de77ae"
            ],
            [
             0.3,
             "#f1b6da"
            ],
            [
             0.4,
             "#fde0ef"
            ],
            [
             0.5,
             "#f7f7f7"
            ],
            [
             0.6,
             "#e6f5d0"
            ],
            [
             0.7,
             "#b8e186"
            ],
            [
             0.8,
             "#7fbc41"
            ],
            [
             0.9,
             "#4d9221"
            ],
            [
             1,
             "#276419"
            ]
           ],
           "sequential": [
            [
             0,
             "#0d0887"
            ],
            [
             0.1111111111111111,
             "#46039f"
            ],
            [
             0.2222222222222222,
             "#7201a8"
            ],
            [
             0.3333333333333333,
             "#9c179e"
            ],
            [
             0.4444444444444444,
             "#bd3786"
            ],
            [
             0.5555555555555556,
             "#d8576b"
            ],
            [
             0.6666666666666666,
             "#ed7953"
            ],
            [
             0.7777777777777778,
             "#fb9f3a"
            ],
            [
             0.8888888888888888,
             "#fdca26"
            ],
            [
             1,
             "#f0f921"
            ]
           ],
           "sequentialminus": [
            [
             0,
             "#0d0887"
            ],
            [
             0.1111111111111111,
             "#46039f"
            ],
            [
             0.2222222222222222,
             "#7201a8"
            ],
            [
             0.3333333333333333,
             "#9c179e"
            ],
            [
             0.4444444444444444,
             "#bd3786"
            ],
            [
             0.5555555555555556,
             "#d8576b"
            ],
            [
             0.6666666666666666,
             "#ed7953"
            ],
            [
             0.7777777777777778,
             "#fb9f3a"
            ],
            [
             0.8888888888888888,
             "#fdca26"
            ],
            [
             1,
             "#f0f921"
            ]
           ]
          },
          "colorway": [
           "#636efa",
           "#EF553B",
           "#00cc96",
           "#ab63fa",
           "#FFA15A",
           "#19d3f3",
           "#FF6692",
           "#B6E880",
           "#FF97FF",
           "#FECB52"
          ],
          "font": {
           "color": "#f2f5fa"
          },
          "geo": {
           "bgcolor": "rgb(17,17,17)",
           "lakecolor": "rgb(17,17,17)",
           "landcolor": "rgb(17,17,17)",
           "showlakes": true,
           "showland": true,
           "subunitcolor": "#506784"
          },
          "hoverlabel": {
           "align": "left"
          },
          "hovermode": "closest",
          "mapbox": {
           "style": "dark"
          },
          "paper_bgcolor": "rgb(17,17,17)",
          "plot_bgcolor": "rgb(17,17,17)",
          "polar": {
           "angularaxis": {
            "gridcolor": "#506784",
            "linecolor": "#506784",
            "ticks": ""
           },
           "bgcolor": "rgb(17,17,17)",
           "radialaxis": {
            "gridcolor": "#506784",
            "linecolor": "#506784",
            "ticks": ""
           }
          },
          "scene": {
           "xaxis": {
            "backgroundcolor": "rgb(17,17,17)",
            "gridcolor": "#506784",
            "gridwidth": 2,
            "linecolor": "#506784",
            "showbackground": true,
            "ticks": "",
            "zerolinecolor": "#C8D4E3"
           },
           "yaxis": {
            "backgroundcolor": "rgb(17,17,17)",
            "gridcolor": "#506784",
            "gridwidth": 2,
            "linecolor": "#506784",
            "showbackground": true,
            "ticks": "",
            "zerolinecolor": "#C8D4E3"
           },
           "zaxis": {
            "backgroundcolor": "rgb(17,17,17)",
            "gridcolor": "#506784",
            "gridwidth": 2,
            "linecolor": "#506784",
            "showbackground": true,
            "ticks": "",
            "zerolinecolor": "#C8D4E3"
           }
          },
          "shapedefaults": {
           "line": {
            "color": "#f2f5fa"
           }
          },
          "sliderdefaults": {
           "bgcolor": "#C8D4E3",
           "bordercolor": "rgb(17,17,17)",
           "borderwidth": 1,
           "tickwidth": 0
          },
          "ternary": {
           "aaxis": {
            "gridcolor": "#506784",
            "linecolor": "#506784",
            "ticks": ""
           },
           "baxis": {
            "gridcolor": "#506784",
            "linecolor": "#506784",
            "ticks": ""
           },
           "bgcolor": "rgb(17,17,17)",
           "caxis": {
            "gridcolor": "#506784",
            "linecolor": "#506784",
            "ticks": ""
           }
          },
          "title": {
           "x": 0.05
          },
          "updatemenudefaults": {
           "bgcolor": "#506784",
           "borderwidth": 0
          },
          "xaxis": {
           "automargin": true,
           "gridcolor": "#283442",
           "linecolor": "#506784",
           "ticks": "",
           "title": {
            "standoff": 15
           },
           "zerolinecolor": "#283442",
           "zerolinewidth": 2
          },
          "yaxis": {
           "automargin": true,
           "gridcolor": "#283442",
           "linecolor": "#506784",
           "ticks": "",
           "title": {
            "standoff": 15
           },
           "zerolinecolor": "#283442",
           "zerolinewidth": 2
          }
         }
        },
        "updatemenus": [
         {
          "buttons": [
           {
            "args": [
             null,
             {
              "frame": {
               "duration": 600,
               "redraw": false
              },
              "fromcurrent": true,
              "transition": {
               "duration": 600,
               "easing": "quadratic-in-out"
              }
             }
            ],
            "label": "Play",
            "method": "animate"
           },
           {
            "args": [
             [
              null
             ],
             {
              "frame": {
               "duration": 0,
               "redraw": false
              },
              "mode": "immediate",
              "transition": {
               "duration": 0
              }
             }
            ],
            "label": "Pause",
            "method": "animate"
           }
          ],
          "direction": "left",
          "pad": {
           "r": 10,
           "t": 87
          },
          "showactive": true,
          "type": "buttons",
          "x": 0.1,
          "xanchor": "right",
          "y": 0,
          "yanchor": "top"
         }
        ],
        "xaxis": {
         "range": [
          0,
          142.8060000000005
         ],
         "showline": true,
         "showticklabels": true,
         "title": {
          "text": "pop"
         },
         "visible": true
        },
        "yaxis": {
         "showline": false,
         "showticklabels": false,
         "title": {
          "text": "Drivers"
         },
         "visible": true
        }
       }
      }
     },
     "metadata": {},
     "output_type": "display_data"
    }
   ],
   "source": [
    "my_raceplot = barplot(new_df,  item_column='Driver', value_column='Time_Diff', time_column='LapNumber')\n",
    "my_raceplot.plot(item_label = 'Drivers', value_label = 'pop', frame_duration = 600)"
   ]
  },
  {
   "cell_type": "code",
   "execution_count": 17,
   "metadata": {},
   "outputs": [
    {
     "data": {
      "text/html": [
       "<div>\n",
       "<style scoped>\n",
       "    .dataframe tbody tr th:only-of-type {\n",
       "        vertical-align: middle;\n",
       "    }\n",
       "\n",
       "    .dataframe tbody tr th {\n",
       "        vertical-align: top;\n",
       "    }\n",
       "\n",
       "    .dataframe thead th {\n",
       "        text-align: right;\n",
       "    }\n",
       "</style>\n",
       "<table border=\"1\" class=\"dataframe\">\n",
       "  <thead>\n",
       "    <tr style=\"text-align: right;\">\n",
       "      <th></th>\n",
       "      <th>LapNumber</th>\n",
       "      <th>Driver</th>\n",
       "      <th>Time_Diff</th>\n",
       "      <th>color</th>\n",
       "    </tr>\n",
       "  </thead>\n",
       "  <tbody>\n",
       "    <tr>\n",
       "      <th>0</th>\n",
       "      <td>1</td>\n",
       "      <td>VER</td>\n",
       "      <td>0.000</td>\n",
       "      <td>rgb(252, 58, 244)</td>\n",
       "    </tr>\n",
       "    <tr>\n",
       "      <th>63</th>\n",
       "      <td>1</td>\n",
       "      <td>PER</td>\n",
       "      <td>1.189</td>\n",
       "      <td>rgb(177, 141, 238)</td>\n",
       "    </tr>\n",
       "    <tr>\n",
       "      <th>126</th>\n",
       "      <td>1</td>\n",
       "      <td>NOR</td>\n",
       "      <td>3.317</td>\n",
       "      <td>rgb(143, 99, 201)</td>\n",
       "    </tr>\n",
       "    <tr>\n",
       "      <th>189</th>\n",
       "      <td>1</td>\n",
       "      <td>RUS</td>\n",
       "      <td>8.393</td>\n",
       "      <td>rgb(26, 65, 169)</td>\n",
       "    </tr>\n",
       "    <tr>\n",
       "      <th>252</th>\n",
       "      <td>1</td>\n",
       "      <td>BOT</td>\n",
       "      <td>9.655</td>\n",
       "      <td>rgb(21, 91, 66)</td>\n",
       "    </tr>\n",
       "  </tbody>\n",
       "</table>\n",
       "</div>"
      ],
      "text/plain": [
       "     LapNumber Driver  Time_Diff               color\n",
       "0            1    VER      0.000   rgb(252, 58, 244)\n",
       "63           1    PER      1.189  rgb(177, 141, 238)\n",
       "126          1    NOR      3.317   rgb(143, 99, 201)\n",
       "189          1    RUS      8.393    rgb(26, 65, 169)\n",
       "252          1    BOT      9.655     rgb(21, 91, 66)"
      ]
     },
     "execution_count": 17,
     "metadata": {},
     "output_type": "execute_result"
    }
   ],
   "source": [
    "new_df.head()"
   ]
  },
  {
   "cell_type": "code",
   "execution_count": 18,
   "metadata": {},
   "outputs": [
    {
     "data": {
      "text/html": [
       "<div>\n",
       "<style scoped>\n",
       "    .dataframe tbody tr th:only-of-type {\n",
       "        vertical-align: middle;\n",
       "    }\n",
       "\n",
       "    .dataframe tbody tr th {\n",
       "        vertical-align: top;\n",
       "    }\n",
       "\n",
       "    .dataframe thead th {\n",
       "        text-align: right;\n",
       "    }\n",
       "</style>\n",
       "<table border=\"1\" class=\"dataframe\">\n",
       "  <thead>\n",
       "    <tr style=\"text-align: right;\">\n",
       "      <th>Driver</th>\n",
       "      <th>ALB</th>\n",
       "      <th>ALO</th>\n",
       "      <th>BOT</th>\n",
       "      <th>GAS</th>\n",
       "      <th>HAM</th>\n",
       "      <th>LAT</th>\n",
       "      <th>LEC</th>\n",
       "      <th>MAG</th>\n",
       "      <th>MSC</th>\n",
       "      <th>NOR</th>\n",
       "      <th>OCO</th>\n",
       "      <th>PER</th>\n",
       "      <th>RIC</th>\n",
       "      <th>RUS</th>\n",
       "      <th>STR</th>\n",
       "      <th>TSU</th>\n",
       "      <th>VER</th>\n",
       "      <th>VET</th>\n",
       "      <th>ZHO</th>\n",
       "    </tr>\n",
       "    <tr>\n",
       "      <th>LapNumber</th>\n",
       "      <th></th>\n",
       "      <th></th>\n",
       "      <th></th>\n",
       "      <th></th>\n",
       "      <th></th>\n",
       "      <th></th>\n",
       "      <th></th>\n",
       "      <th></th>\n",
       "      <th></th>\n",
       "      <th></th>\n",
       "      <th></th>\n",
       "      <th></th>\n",
       "      <th></th>\n",
       "      <th></th>\n",
       "      <th></th>\n",
       "      <th></th>\n",
       "      <th></th>\n",
       "      <th></th>\n",
       "      <th></th>\n",
       "    </tr>\n",
       "  </thead>\n",
       "  <tbody>\n",
       "    <tr>\n",
       "      <th>1</th>\n",
       "      <td>21.615</td>\n",
       "      <td>11.305</td>\n",
       "      <td>9.655</td>\n",
       "      <td>20.360</td>\n",
       "      <td>18.143</td>\n",
       "      <td>23.088</td>\n",
       "      <td>4.629</td>\n",
       "      <td>6.161</td>\n",
       "      <td>24.268</td>\n",
       "      <td>3.317</td>\n",
       "      <td>19.253</td>\n",
       "      <td>1.189</td>\n",
       "      <td>28.146</td>\n",
       "      <td>8.393</td>\n",
       "      <td>16.370</td>\n",
       "      <td>14.320</td>\n",
       "      <td>0.0</td>\n",
       "      <td>12.802</td>\n",
       "      <td>27.185</td>\n",
       "    </tr>\n",
       "    <tr>\n",
       "      <th>2</th>\n",
       "      <td>25.648</td>\n",
       "      <td>11.679</td>\n",
       "      <td>10.599</td>\n",
       "      <td>25.153</td>\n",
       "      <td>21.793</td>\n",
       "      <td>27.854</td>\n",
       "      <td>5.148</td>\n",
       "      <td>6.993</td>\n",
       "      <td>28.580</td>\n",
       "      <td>3.693</td>\n",
       "      <td>22.862</td>\n",
       "      <td>1.196</td>\n",
       "      <td>32.308</td>\n",
       "      <td>9.052</td>\n",
       "      <td>18.743</td>\n",
       "      <td>16.147</td>\n",
       "      <td>0.0</td>\n",
       "      <td>14.360</td>\n",
       "      <td>29.599</td>\n",
       "    </tr>\n",
       "    <tr>\n",
       "      <th>3</th>\n",
       "      <td>24.702</td>\n",
       "      <td>14.223</td>\n",
       "      <td>13.019</td>\n",
       "      <td>24.315</td>\n",
       "      <td>21.220</td>\n",
       "      <td>26.934</td>\n",
       "      <td>7.920</td>\n",
       "      <td>9.274</td>\n",
       "      <td>27.535</td>\n",
       "      <td>5.551</td>\n",
       "      <td>22.751</td>\n",
       "      <td>2.506</td>\n",
       "      <td>29.586</td>\n",
       "      <td>11.089</td>\n",
       "      <td>19.970</td>\n",
       "      <td>18.035</td>\n",
       "      <td>0.0</td>\n",
       "      <td>16.593</td>\n",
       "      <td>28.167</td>\n",
       "    </tr>\n",
       "    <tr>\n",
       "      <th>4</th>\n",
       "      <td>6.654</td>\n",
       "      <td>3.764</td>\n",
       "      <td>3.304</td>\n",
       "      <td>6.045</td>\n",
       "      <td>5.357</td>\n",
       "      <td>7.269</td>\n",
       "      <td>1.641</td>\n",
       "      <td>2.083</td>\n",
       "      <td>7.534</td>\n",
       "      <td>1.275</td>\n",
       "      <td>5.778</td>\n",
       "      <td>0.509</td>\n",
       "      <td>8.661</td>\n",
       "      <td>2.457</td>\n",
       "      <td>5.201</td>\n",
       "      <td>4.335</td>\n",
       "      <td>0.0</td>\n",
       "      <td>4.149</td>\n",
       "      <td>8.386</td>\n",
       "    </tr>\n",
       "    <tr>\n",
       "      <th>5</th>\n",
       "      <td>13.689</td>\n",
       "      <td>11.999</td>\n",
       "      <td>7.640</td>\n",
       "      <td>13.038</td>\n",
       "      <td>12.241</td>\n",
       "      <td>14.285</td>\n",
       "      <td>3.783</td>\n",
       "      <td>5.023</td>\n",
       "      <td>14.793</td>\n",
       "      <td>3.220</td>\n",
       "      <td>12.740</td>\n",
       "      <td>1.768</td>\n",
       "      <td>15.897</td>\n",
       "      <td>6.391</td>\n",
       "      <td>10.831</td>\n",
       "      <td>9.469</td>\n",
       "      <td>0.0</td>\n",
       "      <td>9.029</td>\n",
       "      <td>15.393</td>\n",
       "    </tr>\n",
       "  </tbody>\n",
       "</table>\n",
       "</div>"
      ],
      "text/plain": [
       "Driver        ALB     ALO     BOT     GAS     HAM     LAT    LEC    MAG  \\\n",
       "LapNumber                                                                 \n",
       "1          21.615  11.305   9.655  20.360  18.143  23.088  4.629  6.161   \n",
       "2          25.648  11.679  10.599  25.153  21.793  27.854  5.148  6.993   \n",
       "3          24.702  14.223  13.019  24.315  21.220  26.934  7.920  9.274   \n",
       "4           6.654   3.764   3.304   6.045   5.357   7.269  1.641  2.083   \n",
       "5          13.689  11.999   7.640  13.038  12.241  14.285  3.783  5.023   \n",
       "\n",
       "Driver        MSC    NOR     OCO    PER     RIC     RUS     STR     TSU  VER  \\\n",
       "LapNumber                                                                      \n",
       "1          24.268  3.317  19.253  1.189  28.146   8.393  16.370  14.320  0.0   \n",
       "2          28.580  3.693  22.862  1.196  32.308   9.052  18.743  16.147  0.0   \n",
       "3          27.535  5.551  22.751  2.506  29.586  11.089  19.970  18.035  0.0   \n",
       "4           7.534  1.275   5.778  0.509   8.661   2.457   5.201   4.335  0.0   \n",
       "5          14.793  3.220  12.740  1.768  15.897   6.391  10.831   9.469  0.0   \n",
       "\n",
       "Driver        VET     ZHO  \n",
       "LapNumber                  \n",
       "1          12.802  27.185  \n",
       "2          14.360  29.599  \n",
       "3          16.593  28.167  \n",
       "4           4.149   8.386  \n",
       "5           9.029  15.393  "
      ]
     },
     "execution_count": 18,
     "metadata": {},
     "output_type": "execute_result"
    }
   ],
   "source": [
    "new_df2 = new_df.pivot_table(values='Time_Diff', index=df.LapNumber, columns=df.Driver)\n",
    "new_df2.head()"
   ]
  },
  {
   "cell_type": "code",
   "execution_count": 19,
   "metadata": {},
   "outputs": [
    {
     "name": "stderr",
     "output_type": "stream",
     "text": [
      "font_manager    WARNING \tfindfont: Font family ['Helvetica'] not found. Falling back to DejaVu Sans.\n",
      "font_manager    WARNING \tfindfont: Font family ['Helvetica'] not found. Falling back to DejaVu Sans.\n",
      "font_manager    WARNING \tfindfont: Font family ['Helvetica'] not found. Falling back to DejaVu Sans.\n",
      "c:\\Users\\Berenger\\anaconda3\\lib\\site-packages\\bar_chart_race\\_make_chart.py:286: UserWarning:\n",
      "\n",
      "FixedFormatter should only be used together with FixedLocator\n",
      "\n",
      "c:\\Users\\Berenger\\anaconda3\\lib\\site-packages\\bar_chart_race\\_make_chart.py:287: UserWarning:\n",
      "\n",
      "FixedFormatter should only be used together with FixedLocator\n",
      "\n",
      "animation    WARNING \tMovieWriter ffmpeg unavailable; using Pillow instead.\n",
      "animation       INFO \tAnimation.save using <class 'matplotlib.animation.PillowWriter'>\n"
     ]
    },
    {
     "ename": "Exception",
     "evalue": "You do not have ffmpeg installed on your machine. Download\n                            ffmpeg from here: https://www.ffmpeg.org/download.html.\n                            \n                            Matplotlib's original error message below:\n\n                            list index out of range\n                            ",
     "output_type": "error",
     "traceback": [
      "\u001b[1;31m---------------------------------------------------------------------------\u001b[0m",
      "\u001b[1;31mTypeError\u001b[0m                                 Traceback (most recent call last)",
      "\u001b[1;32mc:\\Users\\Berenger\\anaconda3\\lib\\site-packages\\matplotlib\\animation.py\u001b[0m in \u001b[0;36msaving\u001b[1;34m(self, fig, outfile, dpi, *args, **kwargs)\u001b[0m\n\u001b[0;32m    235\u001b[0m         \u001b[1;32mtry\u001b[0m\u001b[1;33m:\u001b[0m\u001b[1;33m\u001b[0m\u001b[1;33m\u001b[0m\u001b[0m\n\u001b[1;32m--> 236\u001b[1;33m             \u001b[1;32myield\u001b[0m \u001b[0mself\u001b[0m\u001b[1;33m\u001b[0m\u001b[1;33m\u001b[0m\u001b[0m\n\u001b[0m\u001b[0;32m    237\u001b[0m         \u001b[1;32mfinally\u001b[0m\u001b[1;33m:\u001b[0m\u001b[1;33m\u001b[0m\u001b[1;33m\u001b[0m\u001b[0m\n",
      "\u001b[1;32mc:\\Users\\Berenger\\anaconda3\\lib\\site-packages\\matplotlib\\animation.py\u001b[0m in \u001b[0;36msave\u001b[1;34m(self, filename, writer, fps, dpi, codec, bitrate, extra_args, metadata, extra_anim, savefig_kwargs, progress_callback)\u001b[0m\n\u001b[0;32m   1159\u001b[0m             \u001b[1;32mfor\u001b[0m \u001b[0manim\u001b[0m \u001b[1;32min\u001b[0m \u001b[0mall_anim\u001b[0m\u001b[1;33m:\u001b[0m\u001b[1;33m\u001b[0m\u001b[1;33m\u001b[0m\u001b[0m\n\u001b[1;32m-> 1160\u001b[1;33m                 \u001b[0manim\u001b[0m\u001b[1;33m.\u001b[0m\u001b[0m_init_draw\u001b[0m\u001b[1;33m(\u001b[0m\u001b[1;33m)\u001b[0m  \u001b[1;31m# Clear the initial frame\u001b[0m\u001b[1;33m\u001b[0m\u001b[1;33m\u001b[0m\u001b[0m\n\u001b[0m\u001b[0;32m   1161\u001b[0m             \u001b[0mframe_number\u001b[0m \u001b[1;33m=\u001b[0m \u001b[1;36m0\u001b[0m\u001b[1;33m\u001b[0m\u001b[1;33m\u001b[0m\u001b[0m\n",
      "\u001b[1;32mc:\\Users\\Berenger\\anaconda3\\lib\\site-packages\\matplotlib\\animation.py\u001b[0m in \u001b[0;36m_init_draw\u001b[1;34m(self)\u001b[0m\n\u001b[0;32m   1755\u001b[0m         \u001b[1;32melse\u001b[0m\u001b[1;33m:\u001b[0m\u001b[1;33m\u001b[0m\u001b[1;33m\u001b[0m\u001b[0m\n\u001b[1;32m-> 1756\u001b[1;33m             \u001b[0mself\u001b[0m\u001b[1;33m.\u001b[0m\u001b[0m_drawn_artists\u001b[0m \u001b[1;33m=\u001b[0m \u001b[0mself\u001b[0m\u001b[1;33m.\u001b[0m\u001b[0m_init_func\u001b[0m\u001b[1;33m(\u001b[0m\u001b[1;33m)\u001b[0m\u001b[1;33m\u001b[0m\u001b[1;33m\u001b[0m\u001b[0m\n\u001b[0m\u001b[0;32m   1757\u001b[0m             \u001b[1;32mif\u001b[0m \u001b[0mself\u001b[0m\u001b[1;33m.\u001b[0m\u001b[0m_blit\u001b[0m\u001b[1;33m:\u001b[0m\u001b[1;33m\u001b[0m\u001b[1;33m\u001b[0m\u001b[0m\n",
      "\u001b[1;32mc:\\Users\\Berenger\\anaconda3\\lib\\site-packages\\bar_chart_race\\_make_chart.py\u001b[0m in \u001b[0;36minit_func\u001b[1;34m()\u001b[0m\n\u001b[0;32m    419\u001b[0m         \u001b[1;32mdef\u001b[0m \u001b[0minit_func\u001b[0m\u001b[1;33m(\u001b[0m\u001b[1;33m)\u001b[0m\u001b[1;33m:\u001b[0m\u001b[1;33m\u001b[0m\u001b[1;33m\u001b[0m\u001b[0m\n\u001b[1;32m--> 420\u001b[1;33m             \u001b[0mself\u001b[0m\u001b[1;33m.\u001b[0m\u001b[0mplot_bars\u001b[0m\u001b[1;33m(\u001b[0m\u001b[1;36m0\u001b[0m\u001b[1;33m)\u001b[0m\u001b[1;33m\u001b[0m\u001b[1;33m\u001b[0m\u001b[0m\n\u001b[0m\u001b[0;32m    421\u001b[0m \u001b[1;33m\u001b[0m\u001b[0m\n",
      "\u001b[1;32mc:\\Users\\Berenger\\anaconda3\\lib\\site-packages\\bar_chart_race\\_make_chart.py\u001b[0m in \u001b[0;36mplot_bars\u001b[1;34m(self, i)\u001b[0m\n\u001b[0;32m    329\u001b[0m         \u001b[1;32mif\u001b[0m \u001b[0mself\u001b[0m\u001b[1;33m.\u001b[0m\u001b[0morientation\u001b[0m \u001b[1;33m==\u001b[0m \u001b[1;34m'h'\u001b[0m\u001b[1;33m:\u001b[0m\u001b[1;33m\u001b[0m\u001b[1;33m\u001b[0m\u001b[0m\n\u001b[1;32m--> 330\u001b[1;33m             self.ax.barh(bar_location, bar_length, tick_label=cols, \n\u001b[0m\u001b[0;32m    331\u001b[0m                          color=colors, **self.bar_kwargs)\n",
      "\u001b[1;32mc:\\Users\\Berenger\\anaconda3\\lib\\site-packages\\fastf1\\plotting.py\u001b[0m in \u001b[0;36m_bar_sorted_decorator\u001b[1;34m(*args, **kwargs)\u001b[0m\n\u001b[0;32m    386\u001b[0m                 \u001b[0mkwargs\u001b[0m\u001b[1;33m.\u001b[0m\u001b[0mpop\u001b[0m\u001b[1;33m(\u001b[0m\u001b[1;34m'sort'\u001b[0m\u001b[1;33m,\u001b[0m \u001b[1;32mNone\u001b[0m\u001b[1;33m)\u001b[0m\u001b[1;33m\u001b[0m\u001b[1;33m\u001b[0m\u001b[0m\n\u001b[1;32m--> 387\u001b[1;33m             \u001b[1;32mreturn\u001b[0m \u001b[0mbar\u001b[0m\u001b[1;33m(\u001b[0m\u001b[1;33m*\u001b[0m\u001b[0margs\u001b[0m\u001b[1;33m,\u001b[0m \u001b[1;33m**\u001b[0m\u001b[0mkwargs\u001b[0m\u001b[1;33m)\u001b[0m\u001b[1;33m\u001b[0m\u001b[1;33m\u001b[0m\u001b[0m\n\u001b[0m\u001b[0;32m    388\u001b[0m         \u001b[1;32mreturn\u001b[0m \u001b[0m_bar_sorted_decorator\u001b[0m\u001b[1;33m\u001b[0m\u001b[1;33m\u001b[0m\u001b[0m\n",
      "\u001b[1;32mc:\\Users\\Berenger\\anaconda3\\lib\\site-packages\\matplotlib\\axes\\_axes.py\u001b[0m in \u001b[0;36mbarh\u001b[1;34m(self, y, width, height, left, align, **kwargs)\u001b[0m\n\u001b[0;32m   2512\u001b[0m         \u001b[0mkwargs\u001b[0m\u001b[1;33m.\u001b[0m\u001b[0msetdefault\u001b[0m\u001b[1;33m(\u001b[0m\u001b[1;34m'orientation'\u001b[0m\u001b[1;33m,\u001b[0m \u001b[1;34m'horizontal'\u001b[0m\u001b[1;33m)\u001b[0m\u001b[1;33m\u001b[0m\u001b[1;33m\u001b[0m\u001b[0m\n\u001b[1;32m-> 2513\u001b[1;33m         patches = self.bar(x=left, height=height, width=width, bottom=y,\n\u001b[0m\u001b[0;32m   2514\u001b[0m                            align=align, **kwargs)\n",
      "\u001b[1;32mc:\\Users\\Berenger\\anaconda3\\lib\\site-packages\\fastf1\\plotting.py\u001b[0m in \u001b[0;36m_bar_sorted_decorator\u001b[1;34m(*args, **kwargs)\u001b[0m\n\u001b[0;32m    386\u001b[0m                 \u001b[0mkwargs\u001b[0m\u001b[1;33m.\u001b[0m\u001b[0mpop\u001b[0m\u001b[1;33m(\u001b[0m\u001b[1;34m'sort'\u001b[0m\u001b[1;33m,\u001b[0m \u001b[1;32mNone\u001b[0m\u001b[1;33m)\u001b[0m\u001b[1;33m\u001b[0m\u001b[1;33m\u001b[0m\u001b[0m\n\u001b[1;32m--> 387\u001b[1;33m             \u001b[1;32mreturn\u001b[0m \u001b[0mbar\u001b[0m\u001b[1;33m(\u001b[0m\u001b[1;33m*\u001b[0m\u001b[0margs\u001b[0m\u001b[1;33m,\u001b[0m \u001b[1;33m**\u001b[0m\u001b[0mkwargs\u001b[0m\u001b[1;33m)\u001b[0m\u001b[1;33m\u001b[0m\u001b[1;33m\u001b[0m\u001b[0m\n\u001b[0m\u001b[0;32m    388\u001b[0m         \u001b[1;32mreturn\u001b[0m \u001b[0m_bar_sorted_decorator\u001b[0m\u001b[1;33m\u001b[0m\u001b[1;33m\u001b[0m\u001b[0m\n",
      "\u001b[1;32mc:\\Users\\Berenger\\anaconda3\\lib\\site-packages\\matplotlib\\__init__.py\u001b[0m in \u001b[0;36minner\u001b[1;34m(ax, data, *args, **kwargs)\u001b[0m\n\u001b[0;32m   1360\u001b[0m         \u001b[1;32mif\u001b[0m \u001b[0mdata\u001b[0m \u001b[1;32mis\u001b[0m \u001b[1;32mNone\u001b[0m\u001b[1;33m:\u001b[0m\u001b[1;33m\u001b[0m\u001b[1;33m\u001b[0m\u001b[0m\n\u001b[1;32m-> 1361\u001b[1;33m             \u001b[1;32mreturn\u001b[0m \u001b[0mfunc\u001b[0m\u001b[1;33m(\u001b[0m\u001b[0max\u001b[0m\u001b[1;33m,\u001b[0m \u001b[1;33m*\u001b[0m\u001b[0mmap\u001b[0m\u001b[1;33m(\u001b[0m\u001b[0msanitize_sequence\u001b[0m\u001b[1;33m,\u001b[0m \u001b[0margs\u001b[0m\u001b[1;33m)\u001b[0m\u001b[1;33m,\u001b[0m \u001b[1;33m**\u001b[0m\u001b[0mkwargs\u001b[0m\u001b[1;33m)\u001b[0m\u001b[1;33m\u001b[0m\u001b[1;33m\u001b[0m\u001b[0m\n\u001b[0m\u001b[0;32m   1362\u001b[0m \u001b[1;33m\u001b[0m\u001b[0m\n",
      "\u001b[1;32mc:\\Users\\Berenger\\anaconda3\\lib\\site-packages\\matplotlib\\axes\\_axes.py\u001b[0m in \u001b[0;36mbar\u001b[1;34m(self, x, height, width, bottom, align, **kwargs)\u001b[0m\n\u001b[0;32m   2234\u001b[0m         \"\"\"\n\u001b[1;32m-> 2235\u001b[1;33m         \u001b[0mkwargs\u001b[0m \u001b[1;33m=\u001b[0m \u001b[0mcbook\u001b[0m\u001b[1;33m.\u001b[0m\u001b[0mnormalize_kwargs\u001b[0m\u001b[1;33m(\u001b[0m\u001b[0mkwargs\u001b[0m\u001b[1;33m,\u001b[0m \u001b[0mmpatches\u001b[0m\u001b[1;33m.\u001b[0m\u001b[0mPatch\u001b[0m\u001b[1;33m)\u001b[0m\u001b[1;33m\u001b[0m\u001b[1;33m\u001b[0m\u001b[0m\n\u001b[0m\u001b[0;32m   2236\u001b[0m         \u001b[0mcolor\u001b[0m \u001b[1;33m=\u001b[0m \u001b[0mkwargs\u001b[0m\u001b[1;33m.\u001b[0m\u001b[0mpop\u001b[0m\u001b[1;33m(\u001b[0m\u001b[1;34m'color'\u001b[0m\u001b[1;33m,\u001b[0m \u001b[1;32mNone\u001b[0m\u001b[1;33m)\u001b[0m\u001b[1;33m\u001b[0m\u001b[1;33m\u001b[0m\u001b[0m\n",
      "\u001b[1;32mc:\\Users\\Berenger\\anaconda3\\lib\\site-packages\\matplotlib\\_api\\deprecation.py\u001b[0m in \u001b[0;36mwrapper\u001b[1;34m(*inner_args, **inner_kwargs)\u001b[0m\n\u001b[0;32m    430\u001b[0m                 **kwargs)\n\u001b[1;32m--> 431\u001b[1;33m         \u001b[1;32mreturn\u001b[0m \u001b[0mfunc\u001b[0m\u001b[1;33m(\u001b[0m\u001b[1;33m*\u001b[0m\u001b[0minner_args\u001b[0m\u001b[1;33m,\u001b[0m \u001b[1;33m**\u001b[0m\u001b[0minner_kwargs\u001b[0m\u001b[1;33m)\u001b[0m\u001b[1;33m\u001b[0m\u001b[1;33m\u001b[0m\u001b[0m\n\u001b[0m\u001b[0;32m    432\u001b[0m \u001b[1;33m\u001b[0m\u001b[0m\n",
      "\u001b[1;32mc:\\Users\\Berenger\\anaconda3\\lib\\site-packages\\matplotlib\\_api\\deprecation.py\u001b[0m in \u001b[0;36mwrapper\u001b[1;34m(*inner_args, **inner_kwargs)\u001b[0m\n\u001b[0;32m    430\u001b[0m                 **kwargs)\n\u001b[1;32m--> 431\u001b[1;33m         \u001b[1;32mreturn\u001b[0m \u001b[0mfunc\u001b[0m\u001b[1;33m(\u001b[0m\u001b[1;33m*\u001b[0m\u001b[0minner_args\u001b[0m\u001b[1;33m,\u001b[0m \u001b[1;33m**\u001b[0m\u001b[0minner_kwargs\u001b[0m\u001b[1;33m)\u001b[0m\u001b[1;33m\u001b[0m\u001b[1;33m\u001b[0m\u001b[0m\n\u001b[0m\u001b[0;32m    432\u001b[0m \u001b[1;33m\u001b[0m\u001b[0m\n",
      "\u001b[1;32mc:\\Users\\Berenger\\anaconda3\\lib\\site-packages\\matplotlib\\_api\\deprecation.py\u001b[0m in \u001b[0;36mwrapper\u001b[1;34m(*inner_args, **inner_kwargs)\u001b[0m\n\u001b[0;32m    430\u001b[0m                 **kwargs)\n\u001b[1;32m--> 431\u001b[1;33m         \u001b[1;32mreturn\u001b[0m \u001b[0mfunc\u001b[0m\u001b[1;33m(\u001b[0m\u001b[1;33m*\u001b[0m\u001b[0minner_args\u001b[0m\u001b[1;33m,\u001b[0m \u001b[1;33m**\u001b[0m\u001b[0minner_kwargs\u001b[0m\u001b[1;33m)\u001b[0m\u001b[1;33m\u001b[0m\u001b[1;33m\u001b[0m\u001b[0m\n\u001b[0m\u001b[0;32m    432\u001b[0m \u001b[1;33m\u001b[0m\u001b[0m\n",
      "\u001b[1;32mc:\\Users\\Berenger\\anaconda3\\lib\\site-packages\\matplotlib\\cbook\\__init__.py\u001b[0m in \u001b[0;36mnormalize_kwargs\u001b[1;34m(kw, alias_mapping, required, forbidden, allowed)\u001b[0m\n\u001b[0;32m   1799\u001b[0m         \u001b[1;32mif\u001b[0m \u001b[0mcanonical\u001b[0m \u001b[1;32min\u001b[0m \u001b[0mcanonical_to_seen\u001b[0m\u001b[1;33m:\u001b[0m\u001b[1;33m\u001b[0m\u001b[1;33m\u001b[0m\u001b[0m\n\u001b[1;32m-> 1800\u001b[1;33m             raise TypeError(f\"Got both {canonical_to_seen[canonical]!r} and \"\n\u001b[0m\u001b[0;32m   1801\u001b[0m                             f\"{k!r}, which are aliases of one another\")\n",
      "\u001b[1;31mTypeError\u001b[0m: Got both 'ec' and 'edgecolor', which are aliases of one another",
      "\nDuring handling of the above exception, another exception occurred:\n",
      "\u001b[1;31mIndexError\u001b[0m                                Traceback (most recent call last)",
      "\u001b[1;32mc:\\Users\\Berenger\\anaconda3\\lib\\site-packages\\bar_chart_race\\_make_chart.py\u001b[0m in \u001b[0;36mmake_animation\u001b[1;34m(self)\u001b[0m\n\u001b[0;32m    434\u001b[0m             \u001b[1;32melse\u001b[0m\u001b[1;33m:\u001b[0m\u001b[1;33m\u001b[0m\u001b[1;33m\u001b[0m\u001b[0m\n\u001b[1;32m--> 435\u001b[1;33m                 \u001b[0mret_val\u001b[0m \u001b[1;33m=\u001b[0m \u001b[0manim\u001b[0m\u001b[1;33m.\u001b[0m\u001b[0msave\u001b[0m\u001b[1;33m(\u001b[0m\u001b[0mself\u001b[0m\u001b[1;33m.\u001b[0m\u001b[0mfilename\u001b[0m\u001b[1;33m,\u001b[0m \u001b[0mfps\u001b[0m\u001b[1;33m=\u001b[0m\u001b[0mself\u001b[0m\u001b[1;33m.\u001b[0m\u001b[0mfps\u001b[0m\u001b[1;33m,\u001b[0m \u001b[0mwriter\u001b[0m\u001b[1;33m=\u001b[0m\u001b[0mself\u001b[0m\u001b[1;33m.\u001b[0m\u001b[0mwriter\u001b[0m\u001b[1;33m)\u001b[0m\u001b[1;33m\u001b[0m\u001b[1;33m\u001b[0m\u001b[0m\n\u001b[0m\u001b[0;32m    436\u001b[0m         \u001b[1;32mexcept\u001b[0m \u001b[0mException\u001b[0m \u001b[1;32mas\u001b[0m \u001b[0me\u001b[0m\u001b[1;33m:\u001b[0m\u001b[1;33m\u001b[0m\u001b[1;33m\u001b[0m\u001b[0m\n",
      "\u001b[1;32mc:\\Users\\Berenger\\anaconda3\\lib\\site-packages\\matplotlib\\animation.py\u001b[0m in \u001b[0;36msave\u001b[1;34m(self, filename, writer, fps, dpi, codec, bitrate, extra_args, metadata, extra_anim, savefig_kwargs, progress_callback)\u001b[0m\n\u001b[0;32m   1176\u001b[0m                         \u001b[0mframe_number\u001b[0m \u001b[1;33m+=\u001b[0m \u001b[1;36m1\u001b[0m\u001b[1;33m\u001b[0m\u001b[1;33m\u001b[0m\u001b[0m\n\u001b[1;32m-> 1177\u001b[1;33m                 \u001b[0mwriter\u001b[0m\u001b[1;33m.\u001b[0m\u001b[0mgrab_frame\u001b[0m\u001b[1;33m(\u001b[0m\u001b[1;33m**\u001b[0m\u001b[0msavefig_kwargs\u001b[0m\u001b[1;33m)\u001b[0m\u001b[1;33m\u001b[0m\u001b[1;33m\u001b[0m\u001b[0m\n\u001b[0m\u001b[0;32m   1178\u001b[0m \u001b[1;33m\u001b[0m\u001b[0m\n",
      "\u001b[1;32mc:\\Users\\Berenger\\anaconda3\\lib\\contextlib.py\u001b[0m in \u001b[0;36m__exit__\u001b[1;34m(self, type, value, traceback)\u001b[0m\n\u001b[0;32m    130\u001b[0m             \u001b[1;32mtry\u001b[0m\u001b[1;33m:\u001b[0m\u001b[1;33m\u001b[0m\u001b[1;33m\u001b[0m\u001b[0m\n\u001b[1;32m--> 131\u001b[1;33m                 \u001b[0mself\u001b[0m\u001b[1;33m.\u001b[0m\u001b[0mgen\u001b[0m\u001b[1;33m.\u001b[0m\u001b[0mthrow\u001b[0m\u001b[1;33m(\u001b[0m\u001b[0mtype\u001b[0m\u001b[1;33m,\u001b[0m \u001b[0mvalue\u001b[0m\u001b[1;33m,\u001b[0m \u001b[0mtraceback\u001b[0m\u001b[1;33m)\u001b[0m\u001b[1;33m\u001b[0m\u001b[1;33m\u001b[0m\u001b[0m\n\u001b[0m\u001b[0;32m    132\u001b[0m             \u001b[1;32mexcept\u001b[0m \u001b[0mStopIteration\u001b[0m \u001b[1;32mas\u001b[0m \u001b[0mexc\u001b[0m\u001b[1;33m:\u001b[0m\u001b[1;33m\u001b[0m\u001b[1;33m\u001b[0m\u001b[0m\n",
      "\u001b[1;32mc:\\Users\\Berenger\\anaconda3\\lib\\site-packages\\matplotlib\\animation.py\u001b[0m in \u001b[0;36msaving\u001b[1;34m(self, fig, outfile, dpi, *args, **kwargs)\u001b[0m\n\u001b[0;32m    237\u001b[0m         \u001b[1;32mfinally\u001b[0m\u001b[1;33m:\u001b[0m\u001b[1;33m\u001b[0m\u001b[1;33m\u001b[0m\u001b[0m\n\u001b[1;32m--> 238\u001b[1;33m             \u001b[0mself\u001b[0m\u001b[1;33m.\u001b[0m\u001b[0mfinish\u001b[0m\u001b[1;33m(\u001b[0m\u001b[1;33m)\u001b[0m\u001b[1;33m\u001b[0m\u001b[1;33m\u001b[0m\u001b[0m\n\u001b[0m\u001b[0;32m    239\u001b[0m \u001b[1;33m\u001b[0m\u001b[0m\n",
      "\u001b[1;32mc:\\Users\\Berenger\\anaconda3\\lib\\site-packages\\matplotlib\\animation.py\u001b[0m in \u001b[0;36mfinish\u001b[1;34m(self)\u001b[0m\n\u001b[0;32m    539\u001b[0m     \u001b[1;32mdef\u001b[0m \u001b[0mfinish\u001b[0m\u001b[1;33m(\u001b[0m\u001b[0mself\u001b[0m\u001b[1;33m)\u001b[0m\u001b[1;33m:\u001b[0m\u001b[1;33m\u001b[0m\u001b[1;33m\u001b[0m\u001b[0m\n\u001b[1;32m--> 540\u001b[1;33m         self._frames[0].save(\n\u001b[0m\u001b[0;32m    541\u001b[0m             \u001b[0mself\u001b[0m\u001b[1;33m.\u001b[0m\u001b[0moutfile\u001b[0m\u001b[1;33m,\u001b[0m \u001b[0msave_all\u001b[0m\u001b[1;33m=\u001b[0m\u001b[1;32mTrue\u001b[0m\u001b[1;33m,\u001b[0m \u001b[0mappend_images\u001b[0m\u001b[1;33m=\u001b[0m\u001b[0mself\u001b[0m\u001b[1;33m.\u001b[0m\u001b[0m_frames\u001b[0m\u001b[1;33m[\u001b[0m\u001b[1;36m1\u001b[0m\u001b[1;33m:\u001b[0m\u001b[1;33m]\u001b[0m\u001b[1;33m,\u001b[0m\u001b[1;33m\u001b[0m\u001b[1;33m\u001b[0m\u001b[0m\n",
      "\u001b[1;31mIndexError\u001b[0m: list index out of range",
      "\nDuring handling of the above exception, another exception occurred:\n",
      "\u001b[1;31mException\u001b[0m                                 Traceback (most recent call last)",
      "\u001b[1;32m~\\AppData\\Local\\Temp/ipykernel_16396/1350622809.py\u001b[0m in \u001b[0;36m<module>\u001b[1;34m\u001b[0m\n\u001b[0;32m      1\u001b[0m \u001b[1;32mimport\u001b[0m \u001b[0mbar_chart_race\u001b[0m \u001b[1;32mas\u001b[0m \u001b[0mbcr\u001b[0m\u001b[1;33m\u001b[0m\u001b[1;33m\u001b[0m\u001b[0m\n\u001b[0;32m      2\u001b[0m \u001b[0mdf\u001b[0m \u001b[1;33m=\u001b[0m \u001b[0mbcr\u001b[0m\u001b[1;33m.\u001b[0m\u001b[0mload_dataset\u001b[0m\u001b[1;33m(\u001b[0m\u001b[1;34m'covid19_tutorial'\u001b[0m\u001b[1;33m)\u001b[0m\u001b[1;33m\u001b[0m\u001b[1;33m\u001b[0m\u001b[0m\n\u001b[1;32m----> 3\u001b[1;33m bcr.bar_chart_race(\n\u001b[0m\u001b[0;32m      4\u001b[0m     \u001b[0mdf\u001b[0m\u001b[1;33m=\u001b[0m\u001b[0mdf\u001b[0m\u001b[1;33m,\u001b[0m\u001b[1;33m\u001b[0m\u001b[1;33m\u001b[0m\u001b[0m\n\u001b[0;32m      5\u001b[0m     \u001b[0mfilename\u001b[0m\u001b[1;33m=\u001b[0m\u001b[1;34m'covid19_horiz.mp4'\u001b[0m\u001b[1;33m,\u001b[0m\u001b[1;33m\u001b[0m\u001b[1;33m\u001b[0m\u001b[0m\n",
      "\u001b[1;32mc:\\Users\\Berenger\\anaconda3\\lib\\site-packages\\bar_chart_race\\_make_chart.py\u001b[0m in \u001b[0;36mbar_chart_race\u001b[1;34m(df, filename, orientation, sort, n_bars, fixed_order, fixed_max, steps_per_period, period_length, interpolate_period, label_bars, bar_size, period_label, period_fmt, period_summary_func, perpendicular_bar_func, figsize, cmap, title, title_size, bar_label_size, tick_label_size, shared_fontdict, scale, writer, fig, dpi, bar_kwargs, filter_column_colors)\u001b[0m\n\u001b[0;32m    781\u001b[0m                         \u001b[0mfigsize\u001b[0m\u001b[1;33m,\u001b[0m \u001b[0mcmap\u001b[0m\u001b[1;33m,\u001b[0m \u001b[0mtitle\u001b[0m\u001b[1;33m,\u001b[0m \u001b[0mtitle_size\u001b[0m\u001b[1;33m,\u001b[0m \u001b[0mbar_label_size\u001b[0m\u001b[1;33m,\u001b[0m \u001b[0mtick_label_size\u001b[0m\u001b[1;33m,\u001b[0m\u001b[1;33m\u001b[0m\u001b[1;33m\u001b[0m\u001b[0m\n\u001b[0;32m    782\u001b[0m                         shared_fontdict, scale, writer, fig, dpi, bar_kwargs, filter_column_colors)\n\u001b[1;32m--> 783\u001b[1;33m     \u001b[1;32mreturn\u001b[0m \u001b[0mbcr\u001b[0m\u001b[1;33m.\u001b[0m\u001b[0mmake_animation\u001b[0m\u001b[1;33m(\u001b[0m\u001b[1;33m)\u001b[0m\u001b[1;33m\u001b[0m\u001b[1;33m\u001b[0m\u001b[0m\n\u001b[0m\u001b[0;32m    784\u001b[0m \u001b[1;33m\u001b[0m\u001b[0m\n\u001b[0;32m    785\u001b[0m \u001b[1;32mdef\u001b[0m \u001b[0mload_dataset\u001b[0m\u001b[1;33m(\u001b[0m\u001b[0mname\u001b[0m\u001b[1;33m=\u001b[0m\u001b[1;34m'covid19'\u001b[0m\u001b[1;33m)\u001b[0m\u001b[1;33m:\u001b[0m\u001b[1;33m\u001b[0m\u001b[1;33m\u001b[0m\u001b[0m\n",
      "\u001b[1;32mc:\\Users\\Berenger\\anaconda3\\lib\\site-packages\\bar_chart_race\\_make_chart.py\u001b[0m in \u001b[0;36mmake_animation\u001b[1;34m(self)\u001b[0m\n\u001b[0;32m    444\u001b[0m             \u001b[1;32melse\u001b[0m\u001b[1;33m:\u001b[0m\u001b[1;33m\u001b[0m\u001b[1;33m\u001b[0m\u001b[0m\n\u001b[0;32m    445\u001b[0m                 \u001b[0mmessage\u001b[0m \u001b[1;33m=\u001b[0m \u001b[0mstr\u001b[0m\u001b[1;33m(\u001b[0m\u001b[0me\u001b[0m\u001b[1;33m)\u001b[0m\u001b[1;33m\u001b[0m\u001b[1;33m\u001b[0m\u001b[0m\n\u001b[1;32m--> 446\u001b[1;33m             \u001b[1;32mraise\u001b[0m \u001b[0mException\u001b[0m\u001b[1;33m(\u001b[0m\u001b[0mmessage\u001b[0m\u001b[1;33m)\u001b[0m\u001b[1;33m\u001b[0m\u001b[1;33m\u001b[0m\u001b[0m\n\u001b[0m\u001b[0;32m    447\u001b[0m         \u001b[1;32mfinally\u001b[0m\u001b[1;33m:\u001b[0m\u001b[1;33m\u001b[0m\u001b[1;33m\u001b[0m\u001b[0m\n\u001b[0;32m    448\u001b[0m             \u001b[0mplt\u001b[0m\u001b[1;33m.\u001b[0m\u001b[0mrcParams\u001b[0m \u001b[1;33m=\u001b[0m \u001b[0mself\u001b[0m\u001b[1;33m.\u001b[0m\u001b[0morig_rcParams\u001b[0m\u001b[1;33m\u001b[0m\u001b[1;33m\u001b[0m\u001b[0m\n",
      "\u001b[1;31mException\u001b[0m: You do not have ffmpeg installed on your machine. Download\n                            ffmpeg from here: https://www.ffmpeg.org/download.html.\n                            \n                            Matplotlib's original error message below:\n\n                            list index out of range\n                            "
     ]
    }
   ],
   "source": [
    "import bar_chart_race as bcr\n",
    "df = bcr.load_dataset('covid19_tutorial')\n",
    "bcr.bar_chart_race(\n",
    "    df=df,\n",
    "    filename='covid19_horiz.mp4',\n",
    "    orientation='h',\n",
    "    sort='desc',\n",
    "    n_bars=6,\n",
    "    fixed_order=False,\n",
    "    fixed_max=True,\n",
    "    steps_per_period=10,\n",
    "    interpolate_period=False,\n",
    "    label_bars=True,\n",
    "    bar_size=.95,\n",
    "    period_label={'x': .99, 'y': .25, 'ha': 'right', 'va': 'center'},\n",
    "    period_fmt='%B %d, %Y',\n",
    "    period_summary_func=lambda v, r: {'x': .99, 'y': .18,\n",
    "                                      's': f'Total deaths: {v.nlargest(6).sum():,.0f}',\n",
    "                                      'ha': 'right', 'size': 8, 'family': 'Courier New'},\n",
    "    perpendicular_bar_func='median',\n",
    "    period_length=500,\n",
    "    figsize=(5, 3),\n",
    "    dpi=144,\n",
    "    cmap='dark12',\n",
    "    title='COVID-19 Deaths by Country',\n",
    "    title_size='',\n",
    "    bar_label_size=7,\n",
    "    tick_label_size=7,\n",
    "    shared_fontdict={'family' : 'Helvetica', 'color' : '.1'},\n",
    "    scale='linear',\n",
    "    writer=None,\n",
    "    fig=None,\n",
    "    bar_kwargs={'alpha': .7},\n",
    "    filter_column_colors=False)  "
   ]
  }
 ],
 "metadata": {
  "interpreter": {
   "hash": "5a55ff060dca2f919002028c6c65853c885111584988b328db325f9c1cd9b339"
  },
  "kernelspec": {
   "display_name": "Python 3.8.12 ('base')",
   "language": "python",
   "name": "python3"
  },
  "language_info": {
   "codemirror_mode": {
    "name": "ipython",
    "version": 3
   },
   "file_extension": ".py",
   "mimetype": "text/x-python",
   "name": "python",
   "nbconvert_exporter": "python",
   "pygments_lexer": "ipython3",
   "version": "3.8.12"
  },
  "orig_nbformat": 4
 },
 "nbformat": 4,
 "nbformat_minor": 2
}
