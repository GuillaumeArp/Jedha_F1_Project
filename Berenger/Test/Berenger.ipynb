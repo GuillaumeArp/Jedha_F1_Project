{
 "cells": [
  {
   "cell_type": "code",
   "execution_count": 1,
   "metadata": {},
   "outputs": [],
   "source": [
    "import fastf1 as ff1\n",
    "from fastf1 import plotting\n",
    "plotting.setup_mpl()\n",
    "import pandas as pd\n",
    "import numpy as np\n",
    "import plotly.express as px\n",
    "import plotly.graph_objects as go\n",
    "import plotly.io as pio\n",
    "from plotly.subplots import make_subplots\n",
    "import matplotlib.pyplot as plt\n",
    "pio.templates.default = \"plotly_dark\"\n",
    "import warnings\n",
    "warnings.simplefilter(action='ignore', category=FutureWarning)\n",
    "\n",
    "\n",
    "import pandas as pd\n",
    "pd.options.mode.chained_assignment = None  # default='warn'"
   ]
  },
  {
   "cell_type": "code",
   "execution_count": 2,
   "metadata": {},
   "outputs": [],
   "source": [
    "year = 2022\n",
    "gp_round = 7\n",
    "ses = 'FP3'\n",
    "driver_1 = 'LEC'\n",
    "driver_2 = 'GAS'"
   ]
  },
  {
   "cell_type": "code",
   "execution_count": 3,
   "metadata": {},
   "outputs": [
    {
     "name": "stderr",
     "output_type": "stream",
     "text": [
      "api         WARNING \t\n",
      "\n",
      "NO CACHE! Api caching has not been enabled! \n",
      "\tIt is highly recommended to enable this feature for much faster data loading!\n",
      "\tUse `fastf1.Cache.enable_cache('path/to/cache/')`\n",
      "\n",
      "core           INFO \tLoading data for Monaco Grand Prix - Practice 3 [v2.2.8]\n",
      "api            INFO \tFetching driver list...\n",
      "api            INFO \tFetching timing data...\n",
      "api            INFO \tParsing timing data...\n",
      "api            INFO \tFetching timing app data...\n",
      "core           INFO \tProcessing timing data...\n",
      "api            INFO \tFetching session status data...\n",
      "api            INFO \tFetching track status data...\n",
      "api            INFO \tFetching car data...\n",
      "api            INFO \tParsing car data...\n",
      "api            INFO \tFetching position data...\n",
      "api            INFO \tParsing position data...\n",
      "api            INFO \tFetching weather data...\n",
      "api            INFO \tFetching race control messages...\n",
      "core           INFO \tFinished loading data for 20 drivers: ['1', '55', '47', '44', '31', '24', '23', '22', '20', '18', '16', '14', '11', '10', '6', '5', '4', '3', '63', '77']\n"
     ]
    }
   ],
   "source": [
    "events_list = ff1.get_event_schedule(2022)[2:]\n",
    "\n",
    "session = ff1.get_session(year, gp_round, ses)\n",
    "session.load(weather=True, telemetry=True)"
   ]
  },
  {
   "cell_type": "code",
   "execution_count": 4,
   "metadata": {},
   "outputs": [
    {
     "data": {
      "text/html": [
       "<div>\n",
       "<style scoped>\n",
       "    .dataframe tbody tr th:only-of-type {\n",
       "        vertical-align: middle;\n",
       "    }\n",
       "\n",
       "    .dataframe tbody tr th {\n",
       "        vertical-align: top;\n",
       "    }\n",
       "\n",
       "    .dataframe thead th {\n",
       "        text-align: right;\n",
       "    }\n",
       "</style>\n",
       "<table border=\"1\" class=\"dataframe\">\n",
       "  <thead>\n",
       "    <tr style=\"text-align: right;\">\n",
       "      <th></th>\n",
       "      <th>RoundNumber</th>\n",
       "      <th>Country</th>\n",
       "      <th>Location</th>\n",
       "      <th>OfficialEventName</th>\n",
       "      <th>EventDate</th>\n",
       "      <th>EventName</th>\n",
       "      <th>EventFormat</th>\n",
       "      <th>Session1</th>\n",
       "      <th>Session1Date</th>\n",
       "      <th>Session2</th>\n",
       "      <th>Session2Date</th>\n",
       "      <th>Session3</th>\n",
       "      <th>Session3Date</th>\n",
       "      <th>Session4</th>\n",
       "      <th>Session4Date</th>\n",
       "      <th>Session5</th>\n",
       "      <th>Session5Date</th>\n",
       "      <th>F1ApiSupport</th>\n",
       "    </tr>\n",
       "  </thead>\n",
       "  <tbody>\n",
       "    <tr>\n",
       "      <th>2</th>\n",
       "      <td>1</td>\n",
       "      <td>Bahrain</td>\n",
       "      <td>Sakhir</td>\n",
       "      <td>FORMULA 1 GULF AIR BAHRAIN GRAND PRIX 2022</td>\n",
       "      <td>2022-03-20 20:00:00</td>\n",
       "      <td>Bahrain Grand Prix</td>\n",
       "      <td>conventional</td>\n",
       "      <td>Practice 1</td>\n",
       "      <td>2022-03-18 15:00:00</td>\n",
       "      <td>Practice 2</td>\n",
       "      <td>2022-03-18 18:00:00</td>\n",
       "      <td>Practice 3</td>\n",
       "      <td>2022-03-19 15:00:00</td>\n",
       "      <td>Qualifying</td>\n",
       "      <td>2022-03-19 18:00:00</td>\n",
       "      <td>Race</td>\n",
       "      <td>2022-03-20 18:00:00</td>\n",
       "      <td>True</td>\n",
       "    </tr>\n",
       "    <tr>\n",
       "      <th>3</th>\n",
       "      <td>2</td>\n",
       "      <td>Saudi Arabia</td>\n",
       "      <td>Jeddah</td>\n",
       "      <td>FORMULA 1 STC SAUDI ARABIAN GRAND PRIX 2022</td>\n",
       "      <td>2022-03-27 22:00:00</td>\n",
       "      <td>Saudi Arabian Grand Prix</td>\n",
       "      <td>conventional</td>\n",
       "      <td>Practice 1</td>\n",
       "      <td>2022-03-25 17:00:00</td>\n",
       "      <td>Practice 2</td>\n",
       "      <td>2022-03-25 20:00:00</td>\n",
       "      <td>Practice 3</td>\n",
       "      <td>2022-03-26 17:00:00</td>\n",
       "      <td>Qualifying</td>\n",
       "      <td>2022-03-26 20:00:00</td>\n",
       "      <td>Race</td>\n",
       "      <td>2022-03-27 20:00:00</td>\n",
       "      <td>True</td>\n",
       "    </tr>\n",
       "    <tr>\n",
       "      <th>4</th>\n",
       "      <td>3</td>\n",
       "      <td>Australia</td>\n",
       "      <td>Melbourne</td>\n",
       "      <td>FORMULA 1 HEINEKEN AUSTRALIAN GRAND PRIX 2022</td>\n",
       "      <td>2022-04-10 17:00:00</td>\n",
       "      <td>Australian Grand Prix</td>\n",
       "      <td>conventional</td>\n",
       "      <td>Practice 1</td>\n",
       "      <td>2022-04-08 13:00:00</td>\n",
       "      <td>Practice 2</td>\n",
       "      <td>2022-04-08 16:00:00</td>\n",
       "      <td>Practice 3</td>\n",
       "      <td>2022-04-09 13:00:00</td>\n",
       "      <td>Qualifying</td>\n",
       "      <td>2022-04-09 16:00:00</td>\n",
       "      <td>Race</td>\n",
       "      <td>2022-04-10 15:00:00</td>\n",
       "      <td>True</td>\n",
       "    </tr>\n",
       "    <tr>\n",
       "      <th>5</th>\n",
       "      <td>4</td>\n",
       "      <td>Italy</td>\n",
       "      <td>Imola</td>\n",
       "      <td>FORMULA 1 ROLEX GRAN PREMIO DEL MADE IN ITALY ...</td>\n",
       "      <td>2022-04-24 17:00:00</td>\n",
       "      <td>Emilia Romagna Grand Prix</td>\n",
       "      <td>sprint</td>\n",
       "      <td>Practice 1</td>\n",
       "      <td>2022-04-22 13:30:00</td>\n",
       "      <td>Qualifying</td>\n",
       "      <td>2022-04-22 17:00:00</td>\n",
       "      <td>Practice 2</td>\n",
       "      <td>2022-04-23 12:30:00</td>\n",
       "      <td>Sprint</td>\n",
       "      <td>2022-04-23 16:30:00</td>\n",
       "      <td>Race</td>\n",
       "      <td>2022-04-24 15:00:00</td>\n",
       "      <td>True</td>\n",
       "    </tr>\n",
       "    <tr>\n",
       "      <th>6</th>\n",
       "      <td>5</td>\n",
       "      <td>United States</td>\n",
       "      <td>Miami</td>\n",
       "      <td>FORMULA 1 CRYPTO.COM MIAMI GRAND PRIX 2022</td>\n",
       "      <td>2022-05-08 17:30:00</td>\n",
       "      <td>Miami Grand Prix</td>\n",
       "      <td>conventional</td>\n",
       "      <td>Practice 1</td>\n",
       "      <td>2022-05-06 14:30:00</td>\n",
       "      <td>Practice 2</td>\n",
       "      <td>2022-05-06 17:30:00</td>\n",
       "      <td>Practice 3</td>\n",
       "      <td>2022-05-07 13:00:00</td>\n",
       "      <td>Qualifying</td>\n",
       "      <td>2022-05-07 16:00:00</td>\n",
       "      <td>Race</td>\n",
       "      <td>2022-05-08 15:30:00</td>\n",
       "      <td>True</td>\n",
       "    </tr>\n",
       "  </tbody>\n",
       "</table>\n",
       "</div>"
      ],
      "text/plain": [
       "   RoundNumber        Country   Location  \\\n",
       "2            1        Bahrain     Sakhir   \n",
       "3            2   Saudi Arabia     Jeddah   \n",
       "4            3      Australia  Melbourne   \n",
       "5            4          Italy      Imola   \n",
       "6            5  United States      Miami   \n",
       "\n",
       "                                   OfficialEventName           EventDate  \\\n",
       "2         FORMULA 1 GULF AIR BAHRAIN GRAND PRIX 2022 2022-03-20 20:00:00   \n",
       "3        FORMULA 1 STC SAUDI ARABIAN GRAND PRIX 2022 2022-03-27 22:00:00   \n",
       "4      FORMULA 1 HEINEKEN AUSTRALIAN GRAND PRIX 2022 2022-04-10 17:00:00   \n",
       "5  FORMULA 1 ROLEX GRAN PREMIO DEL MADE IN ITALY ... 2022-04-24 17:00:00   \n",
       "6         FORMULA 1 CRYPTO.COM MIAMI GRAND PRIX 2022 2022-05-08 17:30:00   \n",
       "\n",
       "                   EventName   EventFormat    Session1        Session1Date  \\\n",
       "2         Bahrain Grand Prix  conventional  Practice 1 2022-03-18 15:00:00   \n",
       "3   Saudi Arabian Grand Prix  conventional  Practice 1 2022-03-25 17:00:00   \n",
       "4      Australian Grand Prix  conventional  Practice 1 2022-04-08 13:00:00   \n",
       "5  Emilia Romagna Grand Prix        sprint  Practice 1 2022-04-22 13:30:00   \n",
       "6           Miami Grand Prix  conventional  Practice 1 2022-05-06 14:30:00   \n",
       "\n",
       "     Session2        Session2Date    Session3        Session3Date    Session4  \\\n",
       "2  Practice 2 2022-03-18 18:00:00  Practice 3 2022-03-19 15:00:00  Qualifying   \n",
       "3  Practice 2 2022-03-25 20:00:00  Practice 3 2022-03-26 17:00:00  Qualifying   \n",
       "4  Practice 2 2022-04-08 16:00:00  Practice 3 2022-04-09 13:00:00  Qualifying   \n",
       "5  Qualifying 2022-04-22 17:00:00  Practice 2 2022-04-23 12:30:00      Sprint   \n",
       "6  Practice 2 2022-05-06 17:30:00  Practice 3 2022-05-07 13:00:00  Qualifying   \n",
       "\n",
       "         Session4Date Session5        Session5Date  F1ApiSupport  \n",
       "2 2022-03-19 18:00:00     Race 2022-03-20 18:00:00          True  \n",
       "3 2022-03-26 20:00:00     Race 2022-03-27 20:00:00          True  \n",
       "4 2022-04-09 16:00:00     Race 2022-04-10 15:00:00          True  \n",
       "5 2022-04-23 16:30:00     Race 2022-04-24 15:00:00          True  \n",
       "6 2022-05-07 16:00:00     Race 2022-05-08 15:30:00          True  "
      ]
     },
     "execution_count": 4,
     "metadata": {},
     "output_type": "execute_result"
    }
   ],
   "source": [
    "events_list.head()"
   ]
  },
  {
   "cell_type": "code",
   "execution_count": 5,
   "metadata": {},
   "outputs": [
    {
     "name": "stderr",
     "output_type": "stream",
     "text": [
      "core           INFO \tLoading data for Emilia Romagna Grand Prix - Race [v2.2.8]\n",
      "api            INFO \tFetching driver list...\n",
      "api            INFO \tFetching timing data...\n",
      "api            INFO \tParsing timing data...\n",
      "api            INFO \tFetching timing app data...\n",
      "core           INFO \tProcessing timing data...\n",
      "api            INFO \tFetching session status data...\n",
      "api            INFO \tFetching track status data...\n",
      "api            INFO \tFetching race control messages...\n",
      "core           INFO \tFinished loading data for 20 drivers: ['1', '11', '4', '63', '77', '16', '22', '5', '20', '18', '23', '10', '44', '31', '24', '6', '47', '3', '14', '55']\n"
     ]
    },
    {
     "data": {
      "text/html": [
       "<div>\n",
       "<style scoped>\n",
       "    .dataframe tbody tr th:only-of-type {\n",
       "        vertical-align: middle;\n",
       "    }\n",
       "\n",
       "    .dataframe tbody tr th {\n",
       "        vertical-align: top;\n",
       "    }\n",
       "\n",
       "    .dataframe thead th {\n",
       "        text-align: right;\n",
       "    }\n",
       "</style>\n",
       "<table border=\"1\" class=\"dataframe\">\n",
       "  <thead>\n",
       "    <tr style=\"text-align: right;\">\n",
       "      <th></th>\n",
       "      <th>DriverNumber</th>\n",
       "      <th>BroadcastName</th>\n",
       "      <th>Abbreviation</th>\n",
       "      <th>TeamName</th>\n",
       "      <th>TeamColor</th>\n",
       "      <th>FirstName</th>\n",
       "      <th>LastName</th>\n",
       "      <th>FullName</th>\n",
       "      <th>Position</th>\n",
       "      <th>GridPosition</th>\n",
       "      <th>Q1</th>\n",
       "      <th>Q2</th>\n",
       "      <th>Q3</th>\n",
       "      <th>Time</th>\n",
       "      <th>Status</th>\n",
       "      <th>Points</th>\n",
       "    </tr>\n",
       "  </thead>\n",
       "  <tbody>\n",
       "    <tr>\n",
       "      <th>1</th>\n",
       "      <td>1</td>\n",
       "      <td>M VERSTAPPEN</td>\n",
       "      <td>VER</td>\n",
       "      <td>Red Bull Racing</td>\n",
       "      <td>1e5bc6</td>\n",
       "      <td>Max</td>\n",
       "      <td>Verstappen</td>\n",
       "      <td>Max Verstappen</td>\n",
       "      <td>1.0</td>\n",
       "      <td>1.0</td>\n",
       "      <td>NaT</td>\n",
       "      <td>NaT</td>\n",
       "      <td>NaT</td>\n",
       "      <td>0 days 01:32:07.986000</td>\n",
       "      <td>Finished</td>\n",
       "      <td>26.0</td>\n",
       "    </tr>\n",
       "    <tr>\n",
       "      <th>11</th>\n",
       "      <td>11</td>\n",
       "      <td>S PEREZ</td>\n",
       "      <td>PER</td>\n",
       "      <td>Red Bull Racing</td>\n",
       "      <td>1e5bc6</td>\n",
       "      <td>Sergio</td>\n",
       "      <td>Perez</td>\n",
       "      <td>Sergio Perez</td>\n",
       "      <td>2.0</td>\n",
       "      <td>3.0</td>\n",
       "      <td>NaT</td>\n",
       "      <td>NaT</td>\n",
       "      <td>NaT</td>\n",
       "      <td>0 days 01:32:24.513000</td>\n",
       "      <td>Finished</td>\n",
       "      <td>18.0</td>\n",
       "    </tr>\n",
       "    <tr>\n",
       "      <th>4</th>\n",
       "      <td>4</td>\n",
       "      <td>L NORRIS</td>\n",
       "      <td>NOR</td>\n",
       "      <td>McLaren</td>\n",
       "      <td>f58020</td>\n",
       "      <td>Lando</td>\n",
       "      <td>Norris</td>\n",
       "      <td>Lando Norris</td>\n",
       "      <td>3.0</td>\n",
       "      <td>5.0</td>\n",
       "      <td>NaT</td>\n",
       "      <td>NaT</td>\n",
       "      <td>NaT</td>\n",
       "      <td>0 days 01:32:42.820000</td>\n",
       "      <td>Finished</td>\n",
       "      <td>15.0</td>\n",
       "    </tr>\n",
       "    <tr>\n",
       "      <th>63</th>\n",
       "      <td>63</td>\n",
       "      <td>G RUSSELL</td>\n",
       "      <td>RUS</td>\n",
       "      <td>Mercedes</td>\n",
       "      <td>6cd3bf</td>\n",
       "      <td>George</td>\n",
       "      <td>Russell</td>\n",
       "      <td>George Russell</td>\n",
       "      <td>4.0</td>\n",
       "      <td>11.0</td>\n",
       "      <td>NaT</td>\n",
       "      <td>NaT</td>\n",
       "      <td>NaT</td>\n",
       "      <td>0 days 01:32:50.492000</td>\n",
       "      <td>Finished</td>\n",
       "      <td>12.0</td>\n",
       "    </tr>\n",
       "    <tr>\n",
       "      <th>77</th>\n",
       "      <td>77</td>\n",
       "      <td>V BOTTAS</td>\n",
       "      <td>BOT</td>\n",
       "      <td>Alfa Romeo</td>\n",
       "      <td>b12039</td>\n",
       "      <td>Valtteri</td>\n",
       "      <td>Bottas</td>\n",
       "      <td>Valtteri Bottas</td>\n",
       "      <td>5.0</td>\n",
       "      <td>7.0</td>\n",
       "      <td>NaT</td>\n",
       "      <td>NaT</td>\n",
       "      <td>NaT</td>\n",
       "      <td>0 days 01:32:51.167000</td>\n",
       "      <td>Finished</td>\n",
       "      <td>10.0</td>\n",
       "    </tr>\n",
       "  </tbody>\n",
       "</table>\n",
       "</div>"
      ],
      "text/plain": [
       "   DriverNumber BroadcastName Abbreviation         TeamName TeamColor  \\\n",
       "1             1  M VERSTAPPEN          VER  Red Bull Racing    1e5bc6   \n",
       "11           11       S PEREZ          PER  Red Bull Racing    1e5bc6   \n",
       "4             4      L NORRIS          NOR          McLaren    f58020   \n",
       "63           63     G RUSSELL          RUS         Mercedes    6cd3bf   \n",
       "77           77      V BOTTAS          BOT       Alfa Romeo    b12039   \n",
       "\n",
       "   FirstName    LastName         FullName  Position  GridPosition  Q1  Q2  Q3  \\\n",
       "1        Max  Verstappen   Max Verstappen       1.0           1.0 NaT NaT NaT   \n",
       "11    Sergio       Perez     Sergio Perez       2.0           3.0 NaT NaT NaT   \n",
       "4      Lando      Norris     Lando Norris       3.0           5.0 NaT NaT NaT   \n",
       "63    George     Russell   George Russell       4.0          11.0 NaT NaT NaT   \n",
       "77  Valtteri      Bottas  Valtteri Bottas       5.0           7.0 NaT NaT NaT   \n",
       "\n",
       "                     Time    Status  Points  \n",
       "1  0 days 01:32:07.986000  Finished    26.0  \n",
       "11 0 days 01:32:24.513000  Finished    18.0  \n",
       "4  0 days 01:32:42.820000  Finished    15.0  \n",
       "63 0 days 01:32:50.492000  Finished    12.0  \n",
       "77 0 days 01:32:51.167000  Finished    10.0  "
      ]
     },
     "execution_count": 5,
     "metadata": {},
     "output_type": "execute_result"
    }
   ],
   "source": [
    "\n",
    "\n",
    "\n",
    "\n",
    "\n",
    "session = ff1.get_session(2022, 4, 'R')\n",
    "session.load(weather=False, telemetry=False)\n",
    "session.results.head()"
   ]
  },
  {
   "cell_type": "code",
   "execution_count": 6,
   "metadata": {},
   "outputs": [
    {
     "data": {
      "text/html": [
       "<div>\n",
       "<style scoped>\n",
       "    .dataframe tbody tr th:only-of-type {\n",
       "        vertical-align: middle;\n",
       "    }\n",
       "\n",
       "    .dataframe tbody tr th {\n",
       "        vertical-align: top;\n",
       "    }\n",
       "\n",
       "    .dataframe thead th {\n",
       "        text-align: right;\n",
       "    }\n",
       "</style>\n",
       "<table border=\"1\" class=\"dataframe\">\n",
       "  <thead>\n",
       "    <tr style=\"text-align: right;\">\n",
       "      <th></th>\n",
       "      <th>DriverNumber</th>\n",
       "      <th>BroadcastName</th>\n",
       "      <th>Abbreviation</th>\n",
       "      <th>TeamName</th>\n",
       "      <th>TeamColor</th>\n",
       "      <th>FirstName</th>\n",
       "      <th>LastName</th>\n",
       "      <th>FullName</th>\n",
       "      <th>Position</th>\n",
       "      <th>GridPosition</th>\n",
       "      <th>Q1</th>\n",
       "      <th>Q2</th>\n",
       "      <th>Q3</th>\n",
       "      <th>Time</th>\n",
       "      <th>Status</th>\n",
       "      <th>Points</th>\n",
       "    </tr>\n",
       "  </thead>\n",
       "  <tbody>\n",
       "    <tr>\n",
       "      <th>1</th>\n",
       "      <td>1</td>\n",
       "      <td>M VERSTAPPEN</td>\n",
       "      <td>VER</td>\n",
       "      <td>Red Bull Racing</td>\n",
       "      <td>1e5bc6</td>\n",
       "      <td>Max</td>\n",
       "      <td>Verstappen</td>\n",
       "      <td>Max Verstappen</td>\n",
       "      <td>1.0</td>\n",
       "      <td>1.0</td>\n",
       "      <td>NaT</td>\n",
       "      <td>NaT</td>\n",
       "      <td>NaT</td>\n",
       "      <td>0 days 01:32:07.986000</td>\n",
       "      <td>Finished</td>\n",
       "      <td>26.0</td>\n",
       "    </tr>\n",
       "    <tr>\n",
       "      <th>11</th>\n",
       "      <td>11</td>\n",
       "      <td>S PEREZ</td>\n",
       "      <td>PER</td>\n",
       "      <td>Red Bull Racing</td>\n",
       "      <td>1e5bc6</td>\n",
       "      <td>Sergio</td>\n",
       "      <td>Perez</td>\n",
       "      <td>Sergio Perez</td>\n",
       "      <td>2.0</td>\n",
       "      <td>3.0</td>\n",
       "      <td>NaT</td>\n",
       "      <td>NaT</td>\n",
       "      <td>NaT</td>\n",
       "      <td>0 days 01:32:24.513000</td>\n",
       "      <td>Finished</td>\n",
       "      <td>18.0</td>\n",
       "    </tr>\n",
       "    <tr>\n",
       "      <th>4</th>\n",
       "      <td>4</td>\n",
       "      <td>L NORRIS</td>\n",
       "      <td>NOR</td>\n",
       "      <td>McLaren</td>\n",
       "      <td>f58020</td>\n",
       "      <td>Lando</td>\n",
       "      <td>Norris</td>\n",
       "      <td>Lando Norris</td>\n",
       "      <td>3.0</td>\n",
       "      <td>5.0</td>\n",
       "      <td>NaT</td>\n",
       "      <td>NaT</td>\n",
       "      <td>NaT</td>\n",
       "      <td>0 days 01:32:42.820000</td>\n",
       "      <td>Finished</td>\n",
       "      <td>15.0</td>\n",
       "    </tr>\n",
       "    <tr>\n",
       "      <th>63</th>\n",
       "      <td>63</td>\n",
       "      <td>G RUSSELL</td>\n",
       "      <td>RUS</td>\n",
       "      <td>Mercedes</td>\n",
       "      <td>6cd3bf</td>\n",
       "      <td>George</td>\n",
       "      <td>Russell</td>\n",
       "      <td>George Russell</td>\n",
       "      <td>4.0</td>\n",
       "      <td>11.0</td>\n",
       "      <td>NaT</td>\n",
       "      <td>NaT</td>\n",
       "      <td>NaT</td>\n",
       "      <td>0 days 01:32:50.492000</td>\n",
       "      <td>Finished</td>\n",
       "      <td>12.0</td>\n",
       "    </tr>\n",
       "    <tr>\n",
       "      <th>77</th>\n",
       "      <td>77</td>\n",
       "      <td>V BOTTAS</td>\n",
       "      <td>BOT</td>\n",
       "      <td>Alfa Romeo</td>\n",
       "      <td>b12039</td>\n",
       "      <td>Valtteri</td>\n",
       "      <td>Bottas</td>\n",
       "      <td>Valtteri Bottas</td>\n",
       "      <td>5.0</td>\n",
       "      <td>7.0</td>\n",
       "      <td>NaT</td>\n",
       "      <td>NaT</td>\n",
       "      <td>NaT</td>\n",
       "      <td>0 days 01:32:51.167000</td>\n",
       "      <td>Finished</td>\n",
       "      <td>10.0</td>\n",
       "    </tr>\n",
       "    <tr>\n",
       "      <th>16</th>\n",
       "      <td>16</td>\n",
       "      <td>C LECLERC</td>\n",
       "      <td>LEC</td>\n",
       "      <td>Ferrari</td>\n",
       "      <td>ed1c24</td>\n",
       "      <td>Charles</td>\n",
       "      <td>Leclerc</td>\n",
       "      <td>Charles Leclerc</td>\n",
       "      <td>6.0</td>\n",
       "      <td>2.0</td>\n",
       "      <td>NaT</td>\n",
       "      <td>NaT</td>\n",
       "      <td>NaT</td>\n",
       "      <td>0 days 01:33:04.058000</td>\n",
       "      <td>Finished</td>\n",
       "      <td>8.0</td>\n",
       "    </tr>\n",
       "    <tr>\n",
       "      <th>22</th>\n",
       "      <td>22</td>\n",
       "      <td>Y TSUNODA</td>\n",
       "      <td>TSU</td>\n",
       "      <td>AlphaTauri</td>\n",
       "      <td>4e7c9b</td>\n",
       "      <td>Yuki</td>\n",
       "      <td>Tsunoda</td>\n",
       "      <td>Yuki Tsunoda</td>\n",
       "      <td>7.0</td>\n",
       "      <td>12.0</td>\n",
       "      <td>NaT</td>\n",
       "      <td>NaT</td>\n",
       "      <td>NaT</td>\n",
       "      <td>0 days 01:33:09.096000</td>\n",
       "      <td>Finished</td>\n",
       "      <td>6.0</td>\n",
       "    </tr>\n",
       "    <tr>\n",
       "      <th>5</th>\n",
       "      <td>5</td>\n",
       "      <td>S VETTEL</td>\n",
       "      <td>VET</td>\n",
       "      <td>Aston Martin</td>\n",
       "      <td>2d826d</td>\n",
       "      <td>Sebastian</td>\n",
       "      <td>Vettel</td>\n",
       "      <td>Sebastian Vettel</td>\n",
       "      <td>8.0</td>\n",
       "      <td>13.0</td>\n",
       "      <td>NaT</td>\n",
       "      <td>NaT</td>\n",
       "      <td>NaT</td>\n",
       "      <td>0 days 01:33:18.878000</td>\n",
       "      <td>Finished</td>\n",
       "      <td>4.0</td>\n",
       "    </tr>\n",
       "    <tr>\n",
       "      <th>20</th>\n",
       "      <td>20</td>\n",
       "      <td>K MAGNUSSEN</td>\n",
       "      <td>MAG</td>\n",
       "      <td>Haas F1 Team</td>\n",
       "      <td>b6babd</td>\n",
       "      <td>Kevin</td>\n",
       "      <td>Magnussen</td>\n",
       "      <td>Kevin Magnussen</td>\n",
       "      <td>9.0</td>\n",
       "      <td>8.0</td>\n",
       "      <td>NaT</td>\n",
       "      <td>NaT</td>\n",
       "      <td>NaT</td>\n",
       "      <td>0 days 01:33:23.246000</td>\n",
       "      <td>Finished</td>\n",
       "      <td>2.0</td>\n",
       "    </tr>\n",
       "    <tr>\n",
       "      <th>18</th>\n",
       "      <td>18</td>\n",
       "      <td>L STROLL</td>\n",
       "      <td>STR</td>\n",
       "      <td>Aston Martin</td>\n",
       "      <td>2d826d</td>\n",
       "      <td>Lance</td>\n",
       "      <td>Stroll</td>\n",
       "      <td>Lance Stroll</td>\n",
       "      <td>10.0</td>\n",
       "      <td>15.0</td>\n",
       "      <td>NaT</td>\n",
       "      <td>NaT</td>\n",
       "      <td>NaT</td>\n",
       "      <td>NaT</td>\n",
       "      <td>+1 Lap</td>\n",
       "      <td>1.0</td>\n",
       "    </tr>\n",
       "    <tr>\n",
       "      <th>23</th>\n",
       "      <td>23</td>\n",
       "      <td>A ALBON</td>\n",
       "      <td>ALB</td>\n",
       "      <td>Williams</td>\n",
       "      <td>37bedd</td>\n",
       "      <td>Alexander</td>\n",
       "      <td>Albon</td>\n",
       "      <td>Alexander Albon</td>\n",
       "      <td>11.0</td>\n",
       "      <td>18.0</td>\n",
       "      <td>NaT</td>\n",
       "      <td>NaT</td>\n",
       "      <td>NaT</td>\n",
       "      <td>NaT</td>\n",
       "      <td>+1 Lap</td>\n",
       "      <td>0.0</td>\n",
       "    </tr>\n",
       "    <tr>\n",
       "      <th>10</th>\n",
       "      <td>10</td>\n",
       "      <td>P GASLY</td>\n",
       "      <td>GAS</td>\n",
       "      <td>AlphaTauri</td>\n",
       "      <td>4e7c9b</td>\n",
       "      <td>Pierre</td>\n",
       "      <td>Gasly</td>\n",
       "      <td>Pierre Gasly</td>\n",
       "      <td>12.0</td>\n",
       "      <td>17.0</td>\n",
       "      <td>NaT</td>\n",
       "      <td>NaT</td>\n",
       "      <td>NaT</td>\n",
       "      <td>NaT</td>\n",
       "      <td>+1 Lap</td>\n",
       "      <td>0.0</td>\n",
       "    </tr>\n",
       "    <tr>\n",
       "      <th>44</th>\n",
       "      <td>44</td>\n",
       "      <td>L HAMILTON</td>\n",
       "      <td>HAM</td>\n",
       "      <td>Mercedes</td>\n",
       "      <td>6cd3bf</td>\n",
       "      <td>Lewis</td>\n",
       "      <td>Hamilton</td>\n",
       "      <td>Lewis Hamilton</td>\n",
       "      <td>13.0</td>\n",
       "      <td>14.0</td>\n",
       "      <td>NaT</td>\n",
       "      <td>NaT</td>\n",
       "      <td>NaT</td>\n",
       "      <td>NaT</td>\n",
       "      <td>+1 Lap</td>\n",
       "      <td>0.0</td>\n",
       "    </tr>\n",
       "    <tr>\n",
       "      <th>31</th>\n",
       "      <td>31</td>\n",
       "      <td>E OCON</td>\n",
       "      <td>OCO</td>\n",
       "      <td>Alpine</td>\n",
       "      <td>2293d1</td>\n",
       "      <td>Esteban</td>\n",
       "      <td>Ocon</td>\n",
       "      <td>Esteban Ocon</td>\n",
       "      <td>14.0</td>\n",
       "      <td>16.0</td>\n",
       "      <td>NaT</td>\n",
       "      <td>NaT</td>\n",
       "      <td>NaT</td>\n",
       "      <td>NaT</td>\n",
       "      <td>+1 Lap</td>\n",
       "      <td>0.0</td>\n",
       "    </tr>\n",
       "    <tr>\n",
       "      <th>24</th>\n",
       "      <td>24</td>\n",
       "      <td>G ZHOU</td>\n",
       "      <td>ZHO</td>\n",
       "      <td>Alfa Romeo</td>\n",
       "      <td>b12039</td>\n",
       "      <td>Guanyu</td>\n",
       "      <td>Zhou</td>\n",
       "      <td>Guanyu Zhou</td>\n",
       "      <td>15.0</td>\n",
       "      <td>0.0</td>\n",
       "      <td>NaT</td>\n",
       "      <td>NaT</td>\n",
       "      <td>NaT</td>\n",
       "      <td>NaT</td>\n",
       "      <td>+1 Lap</td>\n",
       "      <td>0.0</td>\n",
       "    </tr>\n",
       "    <tr>\n",
       "      <th>6</th>\n",
       "      <td>6</td>\n",
       "      <td>N LATIFI</td>\n",
       "      <td>LAT</td>\n",
       "      <td>Williams</td>\n",
       "      <td>37bedd</td>\n",
       "      <td>Nicholas</td>\n",
       "      <td>Latifi</td>\n",
       "      <td>Nicholas Latifi</td>\n",
       "      <td>16.0</td>\n",
       "      <td>19.0</td>\n",
       "      <td>NaT</td>\n",
       "      <td>NaT</td>\n",
       "      <td>NaT</td>\n",
       "      <td>NaT</td>\n",
       "      <td>+1 Lap</td>\n",
       "      <td>0.0</td>\n",
       "    </tr>\n",
       "    <tr>\n",
       "      <th>47</th>\n",
       "      <td>47</td>\n",
       "      <td>M SCHUMACHER</td>\n",
       "      <td>MSC</td>\n",
       "      <td>Haas F1 Team</td>\n",
       "      <td>b6babd</td>\n",
       "      <td>Mick</td>\n",
       "      <td>Schumacher</td>\n",
       "      <td>Mick Schumacher</td>\n",
       "      <td>17.0</td>\n",
       "      <td>10.0</td>\n",
       "      <td>NaT</td>\n",
       "      <td>NaT</td>\n",
       "      <td>NaT</td>\n",
       "      <td>NaT</td>\n",
       "      <td>+1 Lap</td>\n",
       "      <td>0.0</td>\n",
       "    </tr>\n",
       "    <tr>\n",
       "      <th>3</th>\n",
       "      <td>3</td>\n",
       "      <td>D RICCIARDO</td>\n",
       "      <td>RIC</td>\n",
       "      <td>McLaren</td>\n",
       "      <td>f58020</td>\n",
       "      <td>Daniel</td>\n",
       "      <td>Ricciardo</td>\n",
       "      <td>Daniel Ricciardo</td>\n",
       "      <td>18.0</td>\n",
       "      <td>6.0</td>\n",
       "      <td>NaT</td>\n",
       "      <td>NaT</td>\n",
       "      <td>NaT</td>\n",
       "      <td>NaT</td>\n",
       "      <td>+1 Lap</td>\n",
       "      <td>0.0</td>\n",
       "    </tr>\n",
       "    <tr>\n",
       "      <th>14</th>\n",
       "      <td>14</td>\n",
       "      <td>F ALONSO</td>\n",
       "      <td>ALO</td>\n",
       "      <td>Alpine</td>\n",
       "      <td>2293d1</td>\n",
       "      <td>Fernando</td>\n",
       "      <td>Alonso</td>\n",
       "      <td>Fernando Alonso</td>\n",
       "      <td>19.0</td>\n",
       "      <td>9.0</td>\n",
       "      <td>NaT</td>\n",
       "      <td>NaT</td>\n",
       "      <td>NaT</td>\n",
       "      <td>NaT</td>\n",
       "      <td>Chassis</td>\n",
       "      <td>0.0</td>\n",
       "    </tr>\n",
       "    <tr>\n",
       "      <th>55</th>\n",
       "      <td>55</td>\n",
       "      <td>C SAINZ</td>\n",
       "      <td>SAI</td>\n",
       "      <td>Ferrari</td>\n",
       "      <td>ed1c24</td>\n",
       "      <td>Carlos</td>\n",
       "      <td>Sainz</td>\n",
       "      <td>Carlos Sainz</td>\n",
       "      <td>20.0</td>\n",
       "      <td>4.0</td>\n",
       "      <td>NaT</td>\n",
       "      <td>NaT</td>\n",
       "      <td>NaT</td>\n",
       "      <td>NaT</td>\n",
       "      <td>Collision</td>\n",
       "      <td>0.0</td>\n",
       "    </tr>\n",
       "  </tbody>\n",
       "</table>\n",
       "</div>"
      ],
      "text/plain": [
       "   DriverNumber BroadcastName Abbreviation         TeamName TeamColor  \\\n",
       "1             1  M VERSTAPPEN          VER  Red Bull Racing    1e5bc6   \n",
       "11           11       S PEREZ          PER  Red Bull Racing    1e5bc6   \n",
       "4             4      L NORRIS          NOR          McLaren    f58020   \n",
       "63           63     G RUSSELL          RUS         Mercedes    6cd3bf   \n",
       "77           77      V BOTTAS          BOT       Alfa Romeo    b12039   \n",
       "16           16     C LECLERC          LEC          Ferrari    ed1c24   \n",
       "22           22     Y TSUNODA          TSU       AlphaTauri    4e7c9b   \n",
       "5             5      S VETTEL          VET     Aston Martin    2d826d   \n",
       "20           20   K MAGNUSSEN          MAG     Haas F1 Team    b6babd   \n",
       "18           18      L STROLL          STR     Aston Martin    2d826d   \n",
       "23           23       A ALBON          ALB         Williams    37bedd   \n",
       "10           10       P GASLY          GAS       AlphaTauri    4e7c9b   \n",
       "44           44    L HAMILTON          HAM         Mercedes    6cd3bf   \n",
       "31           31        E OCON          OCO           Alpine    2293d1   \n",
       "24           24        G ZHOU          ZHO       Alfa Romeo    b12039   \n",
       "6             6      N LATIFI          LAT         Williams    37bedd   \n",
       "47           47  M SCHUMACHER          MSC     Haas F1 Team    b6babd   \n",
       "3             3   D RICCIARDO          RIC          McLaren    f58020   \n",
       "14           14      F ALONSO          ALO           Alpine    2293d1   \n",
       "55           55       C SAINZ          SAI          Ferrari    ed1c24   \n",
       "\n",
       "    FirstName    LastName          FullName  Position  GridPosition  Q1  Q2  \\\n",
       "1         Max  Verstappen    Max Verstappen       1.0           1.0 NaT NaT   \n",
       "11     Sergio       Perez      Sergio Perez       2.0           3.0 NaT NaT   \n",
       "4       Lando      Norris      Lando Norris       3.0           5.0 NaT NaT   \n",
       "63     George     Russell    George Russell       4.0          11.0 NaT NaT   \n",
       "77   Valtteri      Bottas   Valtteri Bottas       5.0           7.0 NaT NaT   \n",
       "16    Charles     Leclerc   Charles Leclerc       6.0           2.0 NaT NaT   \n",
       "22       Yuki     Tsunoda      Yuki Tsunoda       7.0          12.0 NaT NaT   \n",
       "5   Sebastian      Vettel  Sebastian Vettel       8.0          13.0 NaT NaT   \n",
       "20      Kevin   Magnussen   Kevin Magnussen       9.0           8.0 NaT NaT   \n",
       "18      Lance      Stroll      Lance Stroll      10.0          15.0 NaT NaT   \n",
       "23  Alexander       Albon   Alexander Albon      11.0          18.0 NaT NaT   \n",
       "10     Pierre       Gasly      Pierre Gasly      12.0          17.0 NaT NaT   \n",
       "44      Lewis    Hamilton    Lewis Hamilton      13.0          14.0 NaT NaT   \n",
       "31    Esteban        Ocon      Esteban Ocon      14.0          16.0 NaT NaT   \n",
       "24     Guanyu        Zhou       Guanyu Zhou      15.0           0.0 NaT NaT   \n",
       "6    Nicholas      Latifi   Nicholas Latifi      16.0          19.0 NaT NaT   \n",
       "47       Mick  Schumacher   Mick Schumacher      17.0          10.0 NaT NaT   \n",
       "3      Daniel   Ricciardo  Daniel Ricciardo      18.0           6.0 NaT NaT   \n",
       "14   Fernando      Alonso   Fernando Alonso      19.0           9.0 NaT NaT   \n",
       "55     Carlos       Sainz      Carlos Sainz      20.0           4.0 NaT NaT   \n",
       "\n",
       "    Q3                   Time     Status  Points  \n",
       "1  NaT 0 days 01:32:07.986000   Finished    26.0  \n",
       "11 NaT 0 days 01:32:24.513000   Finished    18.0  \n",
       "4  NaT 0 days 01:32:42.820000   Finished    15.0  \n",
       "63 NaT 0 days 01:32:50.492000   Finished    12.0  \n",
       "77 NaT 0 days 01:32:51.167000   Finished    10.0  \n",
       "16 NaT 0 days 01:33:04.058000   Finished     8.0  \n",
       "22 NaT 0 days 01:33:09.096000   Finished     6.0  \n",
       "5  NaT 0 days 01:33:18.878000   Finished     4.0  \n",
       "20 NaT 0 days 01:33:23.246000   Finished     2.0  \n",
       "18 NaT                    NaT     +1 Lap     1.0  \n",
       "23 NaT                    NaT     +1 Lap     0.0  \n",
       "10 NaT                    NaT     +1 Lap     0.0  \n",
       "44 NaT                    NaT     +1 Lap     0.0  \n",
       "31 NaT                    NaT     +1 Lap     0.0  \n",
       "24 NaT                    NaT     +1 Lap     0.0  \n",
       "6  NaT                    NaT     +1 Lap     0.0  \n",
       "47 NaT                    NaT     +1 Lap     0.0  \n",
       "3  NaT                    NaT     +1 Lap     0.0  \n",
       "14 NaT                    NaT    Chassis     0.0  \n",
       "55 NaT                    NaT  Collision     0.0  "
      ]
     },
     "execution_count": 6,
     "metadata": {},
     "output_type": "execute_result"
    }
   ],
   "source": [
    "session.results"
   ]
  },
  {
   "cell_type": "code",
   "execution_count": 7,
   "metadata": {},
   "outputs": [
    {
     "data": {
      "text/html": [
       "<div>\n",
       "<style scoped>\n",
       "    .dataframe tbody tr th:only-of-type {\n",
       "        vertical-align: middle;\n",
       "    }\n",
       "\n",
       "    .dataframe tbody tr th {\n",
       "        vertical-align: top;\n",
       "    }\n",
       "\n",
       "    .dataframe thead th {\n",
       "        text-align: right;\n",
       "    }\n",
       "</style>\n",
       "<table border=\"1\" class=\"dataframe\">\n",
       "  <thead>\n",
       "    <tr style=\"text-align: right;\">\n",
       "      <th></th>\n",
       "      <th>Time</th>\n",
       "      <th>DriverNumber</th>\n",
       "      <th>LapTime</th>\n",
       "      <th>LapNumber</th>\n",
       "      <th>Stint</th>\n",
       "      <th>PitOutTime</th>\n",
       "      <th>PitInTime</th>\n",
       "      <th>Sector1Time</th>\n",
       "      <th>Sector2Time</th>\n",
       "      <th>Sector3Time</th>\n",
       "      <th>...</th>\n",
       "      <th>SpeedST</th>\n",
       "      <th>IsPersonalBest</th>\n",
       "      <th>Compound</th>\n",
       "      <th>TyreLife</th>\n",
       "      <th>FreshTyre</th>\n",
       "      <th>LapStartTime</th>\n",
       "      <th>Team</th>\n",
       "      <th>Driver</th>\n",
       "      <th>TrackStatus</th>\n",
       "      <th>IsAccurate</th>\n",
       "    </tr>\n",
       "  </thead>\n",
       "  <tbody>\n",
       "    <tr>\n",
       "      <th>21</th>\n",
       "      <td>0 days 01:38:38.589000</td>\n",
       "      <td>1</td>\n",
       "      <td>0 days 00:01:23.794000</td>\n",
       "      <td>22.0</td>\n",
       "      <td>2.0</td>\n",
       "      <td>NaT</td>\n",
       "      <td>NaT</td>\n",
       "      <td>0 days 00:00:27.070000</td>\n",
       "      <td>0 days 00:00:28.586000</td>\n",
       "      <td>0 days 00:00:28.138000</td>\n",
       "      <td>...</td>\n",
       "      <td>288.0</td>\n",
       "      <td>False</td>\n",
       "      <td>MEDIUM</td>\n",
       "      <td>3.0</td>\n",
       "      <td>True</td>\n",
       "      <td>0 days 01:37:14.795000</td>\n",
       "      <td>Red Bull Racing</td>\n",
       "      <td>VER</td>\n",
       "      <td>1</td>\n",
       "      <td>True</td>\n",
       "    </tr>\n",
       "    <tr>\n",
       "      <th>22</th>\n",
       "      <td>0 days 01:40:01.458000</td>\n",
       "      <td>1</td>\n",
       "      <td>0 days 00:01:22.869000</td>\n",
       "      <td>23.0</td>\n",
       "      <td>2.0</td>\n",
       "      <td>NaT</td>\n",
       "      <td>NaT</td>\n",
       "      <td>0 days 00:00:26.878000</td>\n",
       "      <td>0 days 00:00:28.284000</td>\n",
       "      <td>0 days 00:00:27.707000</td>\n",
       "      <td>...</td>\n",
       "      <td>279.0</td>\n",
       "      <td>False</td>\n",
       "      <td>MEDIUM</td>\n",
       "      <td>4.0</td>\n",
       "      <td>True</td>\n",
       "      <td>0 days 01:38:38.589000</td>\n",
       "      <td>Red Bull Racing</td>\n",
       "      <td>VER</td>\n",
       "      <td>1</td>\n",
       "      <td>True</td>\n",
       "    </tr>\n",
       "    <tr>\n",
       "      <th>23</th>\n",
       "      <td>0 days 01:41:23.909000</td>\n",
       "      <td>1</td>\n",
       "      <td>0 days 00:01:22.451000</td>\n",
       "      <td>24.0</td>\n",
       "      <td>2.0</td>\n",
       "      <td>NaT</td>\n",
       "      <td>NaT</td>\n",
       "      <td>0 days 00:00:26.411000</td>\n",
       "      <td>0 days 00:00:28.233000</td>\n",
       "      <td>0 days 00:00:27.807000</td>\n",
       "      <td>...</td>\n",
       "      <td>290.0</td>\n",
       "      <td>False</td>\n",
       "      <td>MEDIUM</td>\n",
       "      <td>5.0</td>\n",
       "      <td>True</td>\n",
       "      <td>0 days 01:40:01.458000</td>\n",
       "      <td>Red Bull Racing</td>\n",
       "      <td>VER</td>\n",
       "      <td>1</td>\n",
       "      <td>True</td>\n",
       "    </tr>\n",
       "    <tr>\n",
       "      <th>24</th>\n",
       "      <td>0 days 01:42:46.065000</td>\n",
       "      <td>1</td>\n",
       "      <td>0 days 00:01:22.156000</td>\n",
       "      <td>25.0</td>\n",
       "      <td>2.0</td>\n",
       "      <td>NaT</td>\n",
       "      <td>NaT</td>\n",
       "      <td>0 days 00:00:26.276000</td>\n",
       "      <td>0 days 00:00:27.926000</td>\n",
       "      <td>0 days 00:00:27.954000</td>\n",
       "      <td>...</td>\n",
       "      <td>291.0</td>\n",
       "      <td>False</td>\n",
       "      <td>MEDIUM</td>\n",
       "      <td>6.0</td>\n",
       "      <td>True</td>\n",
       "      <td>0 days 01:41:23.909000</td>\n",
       "      <td>Red Bull Racing</td>\n",
       "      <td>VER</td>\n",
       "      <td>2</td>\n",
       "      <td>True</td>\n",
       "    </tr>\n",
       "    <tr>\n",
       "      <th>25</th>\n",
       "      <td>0 days 01:44:07.718000</td>\n",
       "      <td>1</td>\n",
       "      <td>0 days 00:01:21.653000</td>\n",
       "      <td>26.0</td>\n",
       "      <td>2.0</td>\n",
       "      <td>NaT</td>\n",
       "      <td>NaT</td>\n",
       "      <td>0 days 00:00:26.236000</td>\n",
       "      <td>0 days 00:00:27.987000</td>\n",
       "      <td>0 days 00:00:27.430000</td>\n",
       "      <td>...</td>\n",
       "      <td>289.0</td>\n",
       "      <td>False</td>\n",
       "      <td>MEDIUM</td>\n",
       "      <td>7.0</td>\n",
       "      <td>True</td>\n",
       "      <td>0 days 01:42:46.065000</td>\n",
       "      <td>Red Bull Racing</td>\n",
       "      <td>VER</td>\n",
       "      <td>1</td>\n",
       "      <td>True</td>\n",
       "    </tr>\n",
       "    <tr>\n",
       "      <th>...</th>\n",
       "      <td>...</td>\n",
       "      <td>...</td>\n",
       "      <td>...</td>\n",
       "      <td>...</td>\n",
       "      <td>...</td>\n",
       "      <td>...</td>\n",
       "      <td>...</td>\n",
       "      <td>...</td>\n",
       "      <td>...</td>\n",
       "      <td>...</td>\n",
       "      <td>...</td>\n",
       "      <td>...</td>\n",
       "      <td>...</td>\n",
       "      <td>...</td>\n",
       "      <td>...</td>\n",
       "      <td>...</td>\n",
       "      <td>...</td>\n",
       "      <td>...</td>\n",
       "      <td>...</td>\n",
       "      <td>...</td>\n",
       "      <td>...</td>\n",
       "    </tr>\n",
       "    <tr>\n",
       "      <th>1119</th>\n",
       "      <td>0 days 02:28:21.061000</td>\n",
       "      <td>3</td>\n",
       "      <td>0 days 00:01:21.835000</td>\n",
       "      <td>57.0</td>\n",
       "      <td>4.0</td>\n",
       "      <td>NaT</td>\n",
       "      <td>NaT</td>\n",
       "      <td>0 days 00:00:26.040000</td>\n",
       "      <td>0 days 00:00:28.214000</td>\n",
       "      <td>0 days 00:00:27.581000</td>\n",
       "      <td>...</td>\n",
       "      <td>278.0</td>\n",
       "      <td>False</td>\n",
       "      <td>HARD</td>\n",
       "      <td>27.0</td>\n",
       "      <td>True</td>\n",
       "      <td>0 days 02:26:59.226000</td>\n",
       "      <td>McLaren</td>\n",
       "      <td>RIC</td>\n",
       "      <td>1</td>\n",
       "      <td>True</td>\n",
       "    </tr>\n",
       "    <tr>\n",
       "      <th>1120</th>\n",
       "      <td>0 days 02:29:42.670000</td>\n",
       "      <td>3</td>\n",
       "      <td>0 days 00:01:21.609000</td>\n",
       "      <td>58.0</td>\n",
       "      <td>4.0</td>\n",
       "      <td>NaT</td>\n",
       "      <td>NaT</td>\n",
       "      <td>0 days 00:00:25.976000</td>\n",
       "      <td>0 days 00:00:28.201000</td>\n",
       "      <td>0 days 00:00:27.432000</td>\n",
       "      <td>...</td>\n",
       "      <td>279.0</td>\n",
       "      <td>False</td>\n",
       "      <td>HARD</td>\n",
       "      <td>28.0</td>\n",
       "      <td>True</td>\n",
       "      <td>0 days 02:28:21.061000</td>\n",
       "      <td>McLaren</td>\n",
       "      <td>RIC</td>\n",
       "      <td>1</td>\n",
       "      <td>True</td>\n",
       "    </tr>\n",
       "    <tr>\n",
       "      <th>1121</th>\n",
       "      <td>0 days 02:31:04.352000</td>\n",
       "      <td>3</td>\n",
       "      <td>0 days 00:01:21.682000</td>\n",
       "      <td>59.0</td>\n",
       "      <td>4.0</td>\n",
       "      <td>NaT</td>\n",
       "      <td>NaT</td>\n",
       "      <td>0 days 00:00:25.939000</td>\n",
       "      <td>0 days 00:00:28.237000</td>\n",
       "      <td>0 days 00:00:27.506000</td>\n",
       "      <td>...</td>\n",
       "      <td>278.0</td>\n",
       "      <td>False</td>\n",
       "      <td>HARD</td>\n",
       "      <td>29.0</td>\n",
       "      <td>True</td>\n",
       "      <td>0 days 02:29:42.670000</td>\n",
       "      <td>McLaren</td>\n",
       "      <td>RIC</td>\n",
       "      <td>1</td>\n",
       "      <td>True</td>\n",
       "    </tr>\n",
       "    <tr>\n",
       "      <th>1122</th>\n",
       "      <td>0 days 02:32:26.122000</td>\n",
       "      <td>3</td>\n",
       "      <td>0 days 00:01:21.770000</td>\n",
       "      <td>60.0</td>\n",
       "      <td>4.0</td>\n",
       "      <td>NaT</td>\n",
       "      <td>NaT</td>\n",
       "      <td>0 days 00:00:26.053000</td>\n",
       "      <td>0 days 00:00:28.234000</td>\n",
       "      <td>0 days 00:00:27.483000</td>\n",
       "      <td>...</td>\n",
       "      <td>278.0</td>\n",
       "      <td>False</td>\n",
       "      <td>HARD</td>\n",
       "      <td>30.0</td>\n",
       "      <td>True</td>\n",
       "      <td>0 days 02:31:04.352000</td>\n",
       "      <td>McLaren</td>\n",
       "      <td>RIC</td>\n",
       "      <td>1</td>\n",
       "      <td>True</td>\n",
       "    </tr>\n",
       "    <tr>\n",
       "      <th>1123</th>\n",
       "      <td>0 days 02:33:47.699000</td>\n",
       "      <td>3</td>\n",
       "      <td>0 days 00:01:21.577000</td>\n",
       "      <td>61.0</td>\n",
       "      <td>4.0</td>\n",
       "      <td>NaT</td>\n",
       "      <td>NaT</td>\n",
       "      <td>0 days 00:00:25.993000</td>\n",
       "      <td>0 days 00:00:28.199000</td>\n",
       "      <td>0 days 00:00:27.385000</td>\n",
       "      <td>...</td>\n",
       "      <td>279.0</td>\n",
       "      <td>True</td>\n",
       "      <td>HARD</td>\n",
       "      <td>31.0</td>\n",
       "      <td>True</td>\n",
       "      <td>0 days 02:32:26.122000</td>\n",
       "      <td>McLaren</td>\n",
       "      <td>RIC</td>\n",
       "      <td>1</td>\n",
       "      <td>True</td>\n",
       "    </tr>\n",
       "  </tbody>\n",
       "</table>\n",
       "<p>687 rows × 26 columns</p>\n",
       "</div>"
      ],
      "text/plain": [
       "                       Time DriverNumber                LapTime  LapNumber  \\\n",
       "21   0 days 01:38:38.589000            1 0 days 00:01:23.794000       22.0   \n",
       "22   0 days 01:40:01.458000            1 0 days 00:01:22.869000       23.0   \n",
       "23   0 days 01:41:23.909000            1 0 days 00:01:22.451000       24.0   \n",
       "24   0 days 01:42:46.065000            1 0 days 00:01:22.156000       25.0   \n",
       "25   0 days 01:44:07.718000            1 0 days 00:01:21.653000       26.0   \n",
       "...                     ...          ...                    ...        ...   \n",
       "1119 0 days 02:28:21.061000            3 0 days 00:01:21.835000       57.0   \n",
       "1120 0 days 02:29:42.670000            3 0 days 00:01:21.609000       58.0   \n",
       "1121 0 days 02:31:04.352000            3 0 days 00:01:21.682000       59.0   \n",
       "1122 0 days 02:32:26.122000            3 0 days 00:01:21.770000       60.0   \n",
       "1123 0 days 02:33:47.699000            3 0 days 00:01:21.577000       61.0   \n",
       "\n",
       "      Stint PitOutTime PitInTime            Sector1Time  \\\n",
       "21      2.0        NaT       NaT 0 days 00:00:27.070000   \n",
       "22      2.0        NaT       NaT 0 days 00:00:26.878000   \n",
       "23      2.0        NaT       NaT 0 days 00:00:26.411000   \n",
       "24      2.0        NaT       NaT 0 days 00:00:26.276000   \n",
       "25      2.0        NaT       NaT 0 days 00:00:26.236000   \n",
       "...     ...        ...       ...                    ...   \n",
       "1119    4.0        NaT       NaT 0 days 00:00:26.040000   \n",
       "1120    4.0        NaT       NaT 0 days 00:00:25.976000   \n",
       "1121    4.0        NaT       NaT 0 days 00:00:25.939000   \n",
       "1122    4.0        NaT       NaT 0 days 00:00:26.053000   \n",
       "1123    4.0        NaT       NaT 0 days 00:00:25.993000   \n",
       "\n",
       "                Sector2Time            Sector3Time  ... SpeedST  \\\n",
       "21   0 days 00:00:28.586000 0 days 00:00:28.138000  ...   288.0   \n",
       "22   0 days 00:00:28.284000 0 days 00:00:27.707000  ...   279.0   \n",
       "23   0 days 00:00:28.233000 0 days 00:00:27.807000  ...   290.0   \n",
       "24   0 days 00:00:27.926000 0 days 00:00:27.954000  ...   291.0   \n",
       "25   0 days 00:00:27.987000 0 days 00:00:27.430000  ...   289.0   \n",
       "...                     ...                    ...  ...     ...   \n",
       "1119 0 days 00:00:28.214000 0 days 00:00:27.581000  ...   278.0   \n",
       "1120 0 days 00:00:28.201000 0 days 00:00:27.432000  ...   279.0   \n",
       "1121 0 days 00:00:28.237000 0 days 00:00:27.506000  ...   278.0   \n",
       "1122 0 days 00:00:28.234000 0 days 00:00:27.483000  ...   278.0   \n",
       "1123 0 days 00:00:28.199000 0 days 00:00:27.385000  ...   279.0   \n",
       "\n",
       "     IsPersonalBest Compound  TyreLife  FreshTyre           LapStartTime  \\\n",
       "21            False   MEDIUM       3.0       True 0 days 01:37:14.795000   \n",
       "22            False   MEDIUM       4.0       True 0 days 01:38:38.589000   \n",
       "23            False   MEDIUM       5.0       True 0 days 01:40:01.458000   \n",
       "24            False   MEDIUM       6.0       True 0 days 01:41:23.909000   \n",
       "25            False   MEDIUM       7.0       True 0 days 01:42:46.065000   \n",
       "...             ...      ...       ...        ...                    ...   \n",
       "1119          False     HARD      27.0       True 0 days 02:26:59.226000   \n",
       "1120          False     HARD      28.0       True 0 days 02:28:21.061000   \n",
       "1121          False     HARD      29.0       True 0 days 02:29:42.670000   \n",
       "1122          False     HARD      30.0       True 0 days 02:31:04.352000   \n",
       "1123           True     HARD      31.0       True 0 days 02:32:26.122000   \n",
       "\n",
       "                 Team  Driver TrackStatus  IsAccurate  \n",
       "21    Red Bull Racing     VER           1        True  \n",
       "22    Red Bull Racing     VER           1        True  \n",
       "23    Red Bull Racing     VER           1        True  \n",
       "24    Red Bull Racing     VER           2        True  \n",
       "25    Red Bull Racing     VER           1        True  \n",
       "...               ...     ...         ...         ...  \n",
       "1119          McLaren     RIC           1        True  \n",
       "1120          McLaren     RIC           1        True  \n",
       "1121          McLaren     RIC           1        True  \n",
       "1122          McLaren     RIC           1        True  \n",
       "1123          McLaren     RIC           1        True  \n",
       "\n",
       "[687 rows x 26 columns]"
      ]
     },
     "execution_count": 7,
     "metadata": {},
     "output_type": "execute_result"
    }
   ],
   "source": [
    "# Returns only laps quicker than 107% of the quickest lap of the session, removing outlaps and inlaps.\n",
    "session.laps.pick_quicklaps()"
   ]
  },
  {
   "cell_type": "code",
   "execution_count": 8,
   "metadata": {},
   "outputs": [
    {
     "data": {
      "text/html": [
       "<div>\n",
       "<style scoped>\n",
       "    .dataframe tbody tr th:only-of-type {\n",
       "        vertical-align: middle;\n",
       "    }\n",
       "\n",
       "    .dataframe tbody tr th {\n",
       "        vertical-align: top;\n",
       "    }\n",
       "\n",
       "    .dataframe thead th {\n",
       "        text-align: right;\n",
       "    }\n",
       "</style>\n",
       "<table border=\"1\" class=\"dataframe\">\n",
       "  <thead>\n",
       "    <tr style=\"text-align: right;\">\n",
       "      <th></th>\n",
       "      <th>Time</th>\n",
       "      <th>DriverNumber</th>\n",
       "      <th>LapTime</th>\n",
       "      <th>LapNumber</th>\n",
       "      <th>Stint</th>\n",
       "      <th>PitOutTime</th>\n",
       "      <th>PitInTime</th>\n",
       "      <th>Sector1Time</th>\n",
       "      <th>Sector2Time</th>\n",
       "      <th>Sector3Time</th>\n",
       "      <th>...</th>\n",
       "      <th>SpeedST</th>\n",
       "      <th>IsPersonalBest</th>\n",
       "      <th>Compound</th>\n",
       "      <th>TyreLife</th>\n",
       "      <th>FreshTyre</th>\n",
       "      <th>LapStartTime</th>\n",
       "      <th>Team</th>\n",
       "      <th>Driver</th>\n",
       "      <th>TrackStatus</th>\n",
       "      <th>IsAccurate</th>\n",
       "    </tr>\n",
       "  </thead>\n",
       "  <tbody>\n",
       "    <tr>\n",
       "      <th>0</th>\n",
       "      <td>0 days 01:03:54.806000</td>\n",
       "      <td>1</td>\n",
       "      <td>NaT</td>\n",
       "      <td>1.0</td>\n",
       "      <td>1.0</td>\n",
       "      <td>0 days 00:25:08.250000</td>\n",
       "      <td>NaT</td>\n",
       "      <td>NaT</td>\n",
       "      <td>0 days 00:00:31.809000</td>\n",
       "      <td>0 days 00:00:46.739000</td>\n",
       "      <td>...</td>\n",
       "      <td>100.0</td>\n",
       "      <td>False</td>\n",
       "      <td>INTERMEDIATE</td>\n",
       "      <td>1.0</td>\n",
       "      <td>True</td>\n",
       "      <td>0 days 01:02:03.225000</td>\n",
       "      <td>Red Bull Racing</td>\n",
       "      <td>VER</td>\n",
       "      <td>24</td>\n",
       "      <td>False</td>\n",
       "    </tr>\n",
       "    <tr>\n",
       "      <th>1</th>\n",
       "      <td>0 days 01:06:20.801000</td>\n",
       "      <td>1</td>\n",
       "      <td>0 days 00:02:25.995000</td>\n",
       "      <td>2.0</td>\n",
       "      <td>1.0</td>\n",
       "      <td>NaT</td>\n",
       "      <td>NaT</td>\n",
       "      <td>0 days 00:00:54.085000</td>\n",
       "      <td>0 days 00:00:47.410000</td>\n",
       "      <td>0 days 00:00:44.500000</td>\n",
       "      <td>...</td>\n",
       "      <td>133.0</td>\n",
       "      <td>False</td>\n",
       "      <td>INTERMEDIATE</td>\n",
       "      <td>2.0</td>\n",
       "      <td>True</td>\n",
       "      <td>0 days 01:03:54.806000</td>\n",
       "      <td>Red Bull Racing</td>\n",
       "      <td>VER</td>\n",
       "      <td>4</td>\n",
       "      <td>False</td>\n",
       "    </tr>\n",
       "    <tr>\n",
       "      <th>2</th>\n",
       "      <td>0 days 01:08:37.301000</td>\n",
       "      <td>1</td>\n",
       "      <td>0 days 00:02:16.500000</td>\n",
       "      <td>3.0</td>\n",
       "      <td>1.0</td>\n",
       "      <td>NaT</td>\n",
       "      <td>NaT</td>\n",
       "      <td>0 days 00:00:45.833000</td>\n",
       "      <td>0 days 00:00:46.168000</td>\n",
       "      <td>0 days 00:00:44.499000</td>\n",
       "      <td>...</td>\n",
       "      <td>164.0</td>\n",
       "      <td>False</td>\n",
       "      <td>INTERMEDIATE</td>\n",
       "      <td>3.0</td>\n",
       "      <td>True</td>\n",
       "      <td>0 days 01:06:20.801000</td>\n",
       "      <td>Red Bull Racing</td>\n",
       "      <td>VER</td>\n",
       "      <td>4</td>\n",
       "      <td>False</td>\n",
       "    </tr>\n",
       "    <tr>\n",
       "      <th>3</th>\n",
       "      <td>0 days 01:11:04.728000</td>\n",
       "      <td>1</td>\n",
       "      <td>0 days 00:02:27.427000</td>\n",
       "      <td>4.0</td>\n",
       "      <td>1.0</td>\n",
       "      <td>NaT</td>\n",
       "      <td>NaT</td>\n",
       "      <td>0 days 00:00:42.546000</td>\n",
       "      <td>0 days 00:00:48.335000</td>\n",
       "      <td>0 days 00:00:56.546000</td>\n",
       "      <td>...</td>\n",
       "      <td>101.0</td>\n",
       "      <td>False</td>\n",
       "      <td>INTERMEDIATE</td>\n",
       "      <td>4.0</td>\n",
       "      <td>True</td>\n",
       "      <td>0 days 01:08:37.301000</td>\n",
       "      <td>Red Bull Racing</td>\n",
       "      <td>VER</td>\n",
       "      <td>4</td>\n",
       "      <td>False</td>\n",
       "    </tr>\n",
       "    <tr>\n",
       "      <th>4</th>\n",
       "      <td>0 days 01:12:36.178000</td>\n",
       "      <td>1</td>\n",
       "      <td>0 days 00:01:31.450000</td>\n",
       "      <td>5.0</td>\n",
       "      <td>1.0</td>\n",
       "      <td>NaT</td>\n",
       "      <td>NaT</td>\n",
       "      <td>0 days 00:00:29.619000</td>\n",
       "      <td>0 days 00:00:30.801000</td>\n",
       "      <td>0 days 00:00:31.030000</td>\n",
       "      <td>...</td>\n",
       "      <td>273.0</td>\n",
       "      <td>False</td>\n",
       "      <td>INTERMEDIATE</td>\n",
       "      <td>5.0</td>\n",
       "      <td>True</td>\n",
       "      <td>0 days 01:11:04.728000</td>\n",
       "      <td>Red Bull Racing</td>\n",
       "      <td>VER</td>\n",
       "      <td>1</td>\n",
       "      <td>False</td>\n",
       "    </tr>\n",
       "  </tbody>\n",
       "</table>\n",
       "<p>5 rows × 26 columns</p>\n",
       "</div>"
      ],
      "text/plain": [
       "                    Time DriverNumber                LapTime  LapNumber  \\\n",
       "0 0 days 01:03:54.806000            1                    NaT        1.0   \n",
       "1 0 days 01:06:20.801000            1 0 days 00:02:25.995000        2.0   \n",
       "2 0 days 01:08:37.301000            1 0 days 00:02:16.500000        3.0   \n",
       "3 0 days 01:11:04.728000            1 0 days 00:02:27.427000        4.0   \n",
       "4 0 days 01:12:36.178000            1 0 days 00:01:31.450000        5.0   \n",
       "\n",
       "   Stint             PitOutTime PitInTime            Sector1Time  \\\n",
       "0    1.0 0 days 00:25:08.250000       NaT                    NaT   \n",
       "1    1.0                    NaT       NaT 0 days 00:00:54.085000   \n",
       "2    1.0                    NaT       NaT 0 days 00:00:45.833000   \n",
       "3    1.0                    NaT       NaT 0 days 00:00:42.546000   \n",
       "4    1.0                    NaT       NaT 0 days 00:00:29.619000   \n",
       "\n",
       "             Sector2Time            Sector3Time  ... SpeedST IsPersonalBest  \\\n",
       "0 0 days 00:00:31.809000 0 days 00:00:46.739000  ...   100.0          False   \n",
       "1 0 days 00:00:47.410000 0 days 00:00:44.500000  ...   133.0          False   \n",
       "2 0 days 00:00:46.168000 0 days 00:00:44.499000  ...   164.0          False   \n",
       "3 0 days 00:00:48.335000 0 days 00:00:56.546000  ...   101.0          False   \n",
       "4 0 days 00:00:30.801000 0 days 00:00:31.030000  ...   273.0          False   \n",
       "\n",
       "       Compound  TyreLife  FreshTyre           LapStartTime             Team  \\\n",
       "0  INTERMEDIATE       1.0       True 0 days 01:02:03.225000  Red Bull Racing   \n",
       "1  INTERMEDIATE       2.0       True 0 days 01:03:54.806000  Red Bull Racing   \n",
       "2  INTERMEDIATE       3.0       True 0 days 01:06:20.801000  Red Bull Racing   \n",
       "3  INTERMEDIATE       4.0       True 0 days 01:08:37.301000  Red Bull Racing   \n",
       "4  INTERMEDIATE       5.0       True 0 days 01:11:04.728000  Red Bull Racing   \n",
       "\n",
       "   Driver TrackStatus  IsAccurate  \n",
       "0     VER          24       False  \n",
       "1     VER           4       False  \n",
       "2     VER           4       False  \n",
       "3     VER           4       False  \n",
       "4     VER           1       False  \n",
       "\n",
       "[5 rows x 26 columns]"
      ]
     },
     "execution_count": 8,
     "metadata": {},
     "output_type": "execute_result"
    }
   ],
   "source": [
    "df = session.laps\n",
    "df.head()"
   ]
  },
  {
   "cell_type": "code",
   "execution_count": 9,
   "metadata": {},
   "outputs": [
    {
     "data": {
      "text/html": [
       "<div>\n",
       "<style scoped>\n",
       "    .dataframe tbody tr th:only-of-type {\n",
       "        vertical-align: middle;\n",
       "    }\n",
       "\n",
       "    .dataframe tbody tr th {\n",
       "        vertical-align: top;\n",
       "    }\n",
       "\n",
       "    .dataframe thead th {\n",
       "        text-align: right;\n",
       "    }\n",
       "</style>\n",
       "<table border=\"1\" class=\"dataframe\">\n",
       "  <thead>\n",
       "    <tr style=\"text-align: right;\">\n",
       "      <th></th>\n",
       "      <th>Time</th>\n",
       "      <th>LapNumber</th>\n",
       "      <th>Driver</th>\n",
       "    </tr>\n",
       "  </thead>\n",
       "  <tbody>\n",
       "    <tr>\n",
       "      <th>0</th>\n",
       "      <td>0 days 01:03:54.806000</td>\n",
       "      <td>1.0</td>\n",
       "      <td>VER</td>\n",
       "    </tr>\n",
       "    <tr>\n",
       "      <th>1</th>\n",
       "      <td>0 days 01:06:20.801000</td>\n",
       "      <td>2.0</td>\n",
       "      <td>VER</td>\n",
       "    </tr>\n",
       "    <tr>\n",
       "      <th>2</th>\n",
       "      <td>0 days 01:08:37.301000</td>\n",
       "      <td>3.0</td>\n",
       "      <td>VER</td>\n",
       "    </tr>\n",
       "    <tr>\n",
       "      <th>3</th>\n",
       "      <td>0 days 01:11:04.728000</td>\n",
       "      <td>4.0</td>\n",
       "      <td>VER</td>\n",
       "    </tr>\n",
       "    <tr>\n",
       "      <th>4</th>\n",
       "      <td>0 days 01:12:36.178000</td>\n",
       "      <td>5.0</td>\n",
       "      <td>VER</td>\n",
       "    </tr>\n",
       "  </tbody>\n",
       "</table>\n",
       "</div>"
      ],
      "text/plain": [
       "                    Time  LapNumber Driver\n",
       "0 0 days 01:03:54.806000        1.0    VER\n",
       "1 0 days 01:06:20.801000        2.0    VER\n",
       "2 0 days 01:08:37.301000        3.0    VER\n",
       "3 0 days 01:11:04.728000        4.0    VER\n",
       "4 0 days 01:12:36.178000        5.0    VER"
      ]
     },
     "execution_count": 9,
     "metadata": {},
     "output_type": "execute_result"
    }
   ],
   "source": [
    "df = df[[\"Time\", \"LapNumber\", \"Driver\"]]\n",
    "df.head()\n"
   ]
  },
  {
   "cell_type": "code",
   "execution_count": 10,
   "metadata": {},
   "outputs": [
    {
     "data": {
      "text/html": [
       "<div>\n",
       "<style scoped>\n",
       "    .dataframe tbody tr th:only-of-type {\n",
       "        vertical-align: middle;\n",
       "    }\n",
       "\n",
       "    .dataframe tbody tr th {\n",
       "        vertical-align: top;\n",
       "    }\n",
       "\n",
       "    .dataframe thead th {\n",
       "        text-align: right;\n",
       "    }\n",
       "</style>\n",
       "<table border=\"1\" class=\"dataframe\">\n",
       "  <thead>\n",
       "    <tr style=\"text-align: right;\">\n",
       "      <th></th>\n",
       "      <th>Time</th>\n",
       "      <th>LapNumber</th>\n",
       "      <th>Driver</th>\n",
       "    </tr>\n",
       "  </thead>\n",
       "  <tbody>\n",
       "    <tr>\n",
       "      <th>0</th>\n",
       "      <td>3834.806</td>\n",
       "      <td>1.0</td>\n",
       "      <td>VER</td>\n",
       "    </tr>\n",
       "    <tr>\n",
       "      <th>1</th>\n",
       "      <td>3980.801</td>\n",
       "      <td>2.0</td>\n",
       "      <td>VER</td>\n",
       "    </tr>\n",
       "    <tr>\n",
       "      <th>2</th>\n",
       "      <td>4117.301</td>\n",
       "      <td>3.0</td>\n",
       "      <td>VER</td>\n",
       "    </tr>\n",
       "    <tr>\n",
       "      <th>3</th>\n",
       "      <td>4264.728</td>\n",
       "      <td>4.0</td>\n",
       "      <td>VER</td>\n",
       "    </tr>\n",
       "    <tr>\n",
       "      <th>4</th>\n",
       "      <td>4356.178</td>\n",
       "      <td>5.0</td>\n",
       "      <td>VER</td>\n",
       "    </tr>\n",
       "  </tbody>\n",
       "</table>\n",
       "</div>"
      ],
      "text/plain": [
       "       Time  LapNumber Driver\n",
       "0  3834.806        1.0    VER\n",
       "1  3980.801        2.0    VER\n",
       "2  4117.301        3.0    VER\n",
       "3  4264.728        4.0    VER\n",
       "4  4356.178        5.0    VER"
      ]
     },
     "execution_count": 10,
     "metadata": {},
     "output_type": "execute_result"
    }
   ],
   "source": [
    "import re\n",
    "#Convert Time to seconds\n",
    "def time_to_seconds(string):\n",
    "    array = re.findall(r'[0-9]+', str(string))\n",
    "    array = array[1:]\n",
    "    array[0] = int(array[0]) * 3600\n",
    "    array[1] = int(array[1]) * 60\n",
    "    array = float(str(array[0] + array[1] + int(array[2])) + \".\" + array[3])\n",
    "    \n",
    "    return array\n",
    "\n",
    "df[\"Time\"] = df[\"Time\"].apply(time_to_seconds)\n",
    "df.head()\n",
    "\n"
   ]
  },
  {
   "cell_type": "code",
   "execution_count": 2,
   "metadata": {},
   "outputs": [
    {
     "data": {
      "application/vnd.plotly.v1+json": {
       "config": {
        "plotlyServerURL": "https://plot.ly"
       },
       "data": [
        {
         "cliponaxis": false,
         "hoverinfo": "all",
         "marker": {
          "color": [
           "rgb(52, 195, 207)",
           "rgb(200, 247, 106)",
           "rgb(217, 84, 231)",
           "rgb(103, 235, 169)",
           "rgb(96, 82, 89)",
           "rgb(212, 129, 9)",
           "rgb(112, 25, 110)",
           "rgb(223, 124, 21)",
           "rgb(184, 170, 80)",
           "rgb(119, 149, 114)"
          ]
         },
         "orientation": "h",
         "textangle": 0,
         "textposition": "outside",
         "texttemplate": "%{y}<br>%{x:.4s}",
         "type": "bar",
         "x": [
          71259839,
          72411104,
          98192635,
          143836304,
          160501987,
          205027583,
          215646633,
          222357231,
          270552196,
          447977522
         ],
         "y": [
          "Cassava",
          "Barley",
          "Sweet potatoes",
          "Rice, paddy (rice milled equivalent)",
          "Sugar beet",
          "Maize",
          "Rice, paddy",
          "Wheat",
          "Potatoes",
          "Sugar cane"
         ]
        }
       ],
       "frames": [
        {
         "data": [
          {
           "cliponaxis": false,
           "hoverinfo": "all",
           "hovertemplate": "<extra></extra>",
           "marker": {
            "color": [
             "rgb(52, 195, 207)",
             "rgb(200, 247, 106)",
             "rgb(217, 84, 231)",
             "rgb(103, 235, 169)",
             "rgb(96, 82, 89)",
             "rgb(212, 129, 9)",
             "rgb(112, 25, 110)",
             "rgb(223, 124, 21)",
             "rgb(184, 170, 80)",
             "rgb(119, 149, 114)"
            ]
           },
           "orientation": "h",
           "textangle": 0,
           "textposition": "outside",
           "texttemplate": "%{y}<br>%{x:.4s}",
           "type": "bar",
           "x": [
            71259839,
            72411104,
            98192635,
            143836304,
            160501987,
            205027583,
            215646633,
            222357231,
            270552196,
            447977522
           ],
           "y": [
            "Cassava",
            "Barley",
            "Sweet potatoes",
            "Rice, paddy (rice milled equivalent)",
            "Sugar beet",
            "Maize",
            "Rice, paddy",
            "Wheat",
            "Potatoes",
            "Sugar cane"
           ]
          }
         ],
         "layout": {
          "bargap": 0.15,
          "font": {
           "size": 14
          },
          "plot_bgcolor": "#FFFFFF",
          "xaxis": {
           "range": [
            0,
            1907024730
           ],
           "showline": true,
           "visible": true
          },
          "yaxis": {
           "showline": false,
           "visible": true
          }
         },
         "name": "1961"
        },
        {
         "data": [
          {
           "cliponaxis": false,
           "hoverinfo": "all",
           "hovertemplate": "<extra></extra>",
           "marker": {
            "color": [
             "rgb(52, 195, 207)",
             "rgb(200, 247, 106)",
             "rgb(217, 84, 231)",
             "rgb(96, 82, 89)",
             "rgb(103, 235, 169)",
             "rgb(212, 129, 9)",
             "rgb(112, 25, 110)",
             "rgb(223, 124, 21)",
             "rgb(184, 170, 80)",
             "rgb(119, 149, 114)"
            ]
           },
           "orientation": "h",
           "textangle": 0,
           "textposition": "outside",
           "texttemplate": "%{y}<br>%{x:.4s}",
           "type": "bar",
           "x": [
            74636680,
            88396959,
            105291106,
            149172711,
            151046350,
            204876937,
            226456297,
            250319146,
            252987460,
            436872640
           ],
           "y": [
            "Cassava",
            "Barley",
            "Sweet potatoes",
            "Sugar beet",
            "Rice, paddy (rice milled equivalent)",
            "Maize",
            "Rice, paddy",
            "Wheat",
            "Potatoes",
            "Sugar cane"
           ]
          }
         ],
         "layout": {
          "bargap": 0.15,
          "font": {
           "size": 14
          },
          "plot_bgcolor": "#FFFFFF",
          "xaxis": {
           "range": [
            0,
            1907024730
           ],
           "showline": true,
           "visible": true
          },
          "yaxis": {
           "showline": false,
           "visible": true
          }
         },
         "name": "1962"
        },
        {
         "data": [
          {
           "cliponaxis": false,
           "hoverinfo": "all",
           "hovertemplate": "<extra></extra>",
           "marker": {
            "color": [
             "rgb(52, 195, 207)",
             "rgb(200, 247, 106)",
             "rgb(217, 84, 231)",
             "rgb(103, 235, 169)",
             "rgb(96, 82, 89)",
             "rgb(212, 129, 9)",
             "rgb(223, 124, 21)",
             "rgb(112, 25, 110)",
             "rgb(184, 170, 80)",
             "rgb(119, 149, 114)"
            ]
           },
           "orientation": "h",
           "textangle": 0,
           "textposition": "outside",
           "texttemplate": "%{y}<br>%{x:.4s}",
           "type": "bar",
           "x": [
            77975688,
            90385850,
            98009159,
            164828514,
            164975629,
            220228333,
            233339473,
            247119211,
            269982498,
            439927902
           ],
           "y": [
            "Cassava",
            "Barley",
            "Sweet potatoes",
            "Rice, paddy (rice milled equivalent)",
            "Sugar beet",
            "Maize",
            "Wheat",
            "Rice, paddy",
            "Potatoes",
            "Sugar cane"
           ]
          }
         ],
         "layout": {
          "bargap": 0.15,
          "font": {
           "size": 14
          },
          "plot_bgcolor": "#FFFFFF",
          "xaxis": {
           "range": [
            0,
            1907024730
           ],
           "showline": true,
           "visible": true
          },
          "yaxis": {
           "showline": false,
           "visible": true
          }
         },
         "name": "1963"
        },
        {
         "data": [
          {
           "cliponaxis": false,
           "hoverinfo": "all",
           "hovertemplate": "<extra></extra>",
           "marker": {
            "color": [
             "rgb(52, 195, 207)",
             "rgb(217, 84, 231)",
             "rgb(200, 247, 106)",
             "rgb(103, 235, 169)",
             "rgb(212, 129, 9)",
             "rgb(96, 82, 89)",
             "rgb(112, 25, 110)",
             "rgb(223, 124, 21)",
             "rgb(184, 170, 80)",
             "rgb(119, 149, 114)"
            ]
           },
           "orientation": "h",
           "textangle": 0,
           "textposition": "outside",
           "texttemplate": "%{y}<br>%{x:.4s}",
           "type": "bar",
           "x": [
            82429399,
            93377412,
            95524923,
            175373614,
            215172627,
            216206931,
            262928956,
            268791657,
            284678614,
            480849768
           ],
           "y": [
            "Cassava",
            "Sweet potatoes",
            "Barley",
            "Rice, paddy (rice milled equivalent)",
            "Maize",
            "Sugar beet",
            "Rice, paddy",
            "Wheat",
            "Potatoes",
            "Sugar cane"
           ]
          }
         ],
         "layout": {
          "bargap": 0.15,
          "font": {
           "size": 14
          },
          "plot_bgcolor": "#FFFFFF",
          "xaxis": {
           "range": [
            0,
            1907024730
           ],
           "showline": true,
           "visible": true
          },
          "yaxis": {
           "showline": false,
           "visible": true
          }
         },
         "name": "1964"
        },
        {
         "data": [
          {
           "cliponaxis": false,
           "hoverinfo": "all",
           "hovertemplate": "<extra></extra>",
           "marker": {
            "color": [
             "rgb(52, 195, 207)",
             "rgb(200, 247, 106)",
             "rgb(217, 84, 231)",
             "rgb(103, 235, 169)",
             "rgb(96, 82, 89)",
             "rgb(212, 129, 9)",
             "rgb(112, 25, 110)",
             "rgb(223, 124, 21)",
             "rgb(184, 170, 80)",
             "rgb(119, 149, 114)"
            ]
           },
           "orientation": "h",
           "textangle": 0,
           "textposition": "outside",
           "texttemplate": "%{y}<br>%{x:.4s}",
           "type": "bar",
           "x": [
            85582843,
            92617012,
            108377879,
            169457796,
            197376224,
            226544256,
            254059664,
            263645963,
            270913502,
            531297486
           ],
           "y": [
            "Cassava",
            "Barley",
            "Sweet potatoes",
            "Rice, paddy (rice milled equivalent)",
            "Sugar beet",
            "Maize",
            "Rice, paddy",
            "Wheat",
            "Potatoes",
            "Sugar cane"
           ]
          }
         ],
         "layout": {
          "bargap": 0.15,
          "font": {
           "size": 14
          },
          "plot_bgcolor": "#FFFFFF",
          "xaxis": {
           "range": [
            0,
            1907024730
           ],
           "showline": true,
           "visible": true
          },
          "yaxis": {
           "showline": false,
           "visible": true
          }
         },
         "name": "1965"
        },
        {
         "data": [
          {
           "cliponaxis": false,
           "hoverinfo": "all",
           "hovertemplate": "<extra></extra>",
           "marker": {
            "color": [
             "rgb(52, 195, 207)",
             "rgb(200, 247, 106)",
             "rgb(217, 84, 231)",
             "rgb(103, 235, 169)",
             "rgb(96, 82, 89)",
             "rgb(212, 129, 9)",
             "rgb(112, 25, 110)",
             "rgb(184, 170, 80)",
             "rgb(223, 124, 21)",
             "rgb(119, 149, 114)"
            ]
           },
           "orientation": "h",
           "textangle": 0,
           "textposition": "outside",
           "texttemplate": "%{y}<br>%{x:.4s}",
           "type": "bar",
           "x": [
            84718809,
            100425696,
            119686566,
            174207899,
            212270253,
            245599160,
            261181258,
            281964109,
            303785460,
            531492823
           ],
           "y": [
            "Cassava",
            "Barley",
            "Sweet potatoes",
            "Rice, paddy (rice milled equivalent)",
            "Sugar beet",
            "Maize",
            "Rice, paddy",
            "Potatoes",
            "Wheat",
            "Sugar cane"
           ]
          }
         ],
         "layout": {
          "bargap": 0.15,
          "font": {
           "size": 14
          },
          "plot_bgcolor": "#FFFFFF",
          "xaxis": {
           "range": [
            0,
            1907024730
           ],
           "showline": true,
           "visible": true
          },
          "yaxis": {
           "showline": false,
           "visible": true
          }
         },
         "name": "1966"
        },
        {
         "data": [
          {
           "cliponaxis": false,
           "hoverinfo": "all",
           "hovertemplate": "<extra></extra>",
           "marker": {
            "color": [
             "rgb(52, 195, 207)",
             "rgb(200, 247, 106)",
             "rgb(217, 84, 231)",
             "rgb(103, 235, 169)",
             "rgb(96, 82, 89)",
             "rgb(212, 129, 9)",
             "rgb(112, 25, 110)",
             "rgb(223, 124, 21)",
             "rgb(184, 170, 80)",
             "rgb(119, 149, 114)"
            ]
           },
           "orientation": "h",
           "textangle": 0,
           "textposition": "outside",
           "texttemplate": "%{y}<br>%{x:.4s}",
           "type": "bar",
           "x": [
            88630176,
            103177495,
            118614438,
            185016704,
            233455177,
            272548473,
            277386363,
            294295876,
            296220305,
            518890895
           ],
           "y": [
            "Cassava",
            "Barley",
            "Sweet potatoes",
            "Rice, paddy (rice milled equivalent)",
            "Sugar beet",
            "Maize",
            "Rice, paddy",
            "Wheat",
            "Potatoes",
            "Sugar cane"
           ]
          }
         ],
         "layout": {
          "bargap": 0.15,
          "font": {
           "size": 14
          },
          "plot_bgcolor": "#FFFFFF",
          "xaxis": {
           "range": [
            0,
            1907024730
           ],
           "showline": true,
           "visible": true
          },
          "yaxis": {
           "showline": false,
           "visible": true
          }
         },
         "name": "1967"
        },
        {
         "data": [
          {
           "cliponaxis": false,
           "hoverinfo": "all",
           "hovertemplate": "<extra></extra>",
           "marker": {
            "color": [
             "rgb(52, 195, 207)",
             "rgb(200, 247, 106)",
             "rgb(217, 84, 231)",
             "rgb(103, 235, 169)",
             "rgb(96, 82, 89)",
             "rgb(212, 129, 9)",
             "rgb(112, 25, 110)",
             "rgb(184, 170, 80)",
             "rgb(223, 124, 21)",
             "rgb(119, 149, 114)"
            ]
           },
           "orientation": "h",
           "textangle": 0,
           "textposition": "outside",
           "texttemplate": "%{y}<br>%{x:.4s}",
           "type": "bar",
           "x": [
            93090059,
            113504505,
            118097469,
            192512413,
            248856658,
            255670551,
            288624308,
            303709120,
            326843941,
            506091880
           ],
           "y": [
            "Cassava",
            "Barley",
            "Sweet potatoes",
            "Rice, paddy (rice milled equivalent)",
            "Sugar beet",
            "Maize",
            "Rice, paddy",
            "Potatoes",
            "Wheat",
            "Sugar cane"
           ]
          }
         ],
         "layout": {
          "bargap": 0.15,
          "font": {
           "size": 14
          },
          "plot_bgcolor": "#FFFFFF",
          "xaxis": {
           "range": [
            0,
            1907024730
           ],
           "showline": true,
           "visible": true
          },
          "yaxis": {
           "showline": false,
           "visible": true
          }
         },
         "name": "1968"
        },
        {
         "data": [
          {
           "cliponaxis": false,
           "hoverinfo": "all",
           "hovertemplate": "<extra></extra>",
           "marker": {
            "color": [
             "rgb(52, 195, 207)",
             "rgb(200, 247, 106)",
             "rgb(217, 84, 231)",
             "rgb(103, 235, 169)",
             "rgb(96, 82, 89)",
             "rgb(212, 129, 9)",
             "rgb(184, 170, 80)",
             "rgb(112, 25, 110)",
             "rgb(223, 124, 21)",
             "rgb(119, 149, 114)"
            ]
           },
           "orientation": "h",
           "textangle": 0,
           "textposition": "outside",
           "texttemplate": "%{y}<br>%{x:.4s}",
           "type": "bar",
           "x": [
            95325330,
            118006371,
            126160704,
            197154789,
            216920772,
            269506068,
            278475710,
            295584391,
            308640283,
            538255737
           ],
           "y": [
            "Cassava",
            "Barley",
            "Sweet potatoes",
            "Rice, paddy (rice milled equivalent)",
            "Sugar beet",
            "Maize",
            "Potatoes",
            "Rice, paddy",
            "Wheat",
            "Sugar cane"
           ]
          }
         ],
         "layout": {
          "bargap": 0.15,
          "font": {
           "size": 14
          },
          "plot_bgcolor": "#FFFFFF",
          "xaxis": {
           "range": [
            0,
            1907024730
           ],
           "showline": true,
           "visible": true
          },
          "yaxis": {
           "showline": false,
           "visible": true
          }
         },
         "name": "1969"
        },
        {
         "data": [
          {
           "cliponaxis": false,
           "hoverinfo": "all",
           "hovertemplate": "<extra></extra>",
           "marker": {
            "color": [
             "rgb(52, 195, 207)",
             "rgb(200, 247, 106)",
             "rgb(217, 84, 231)",
             "rgb(103, 235, 169)",
             "rgb(96, 82, 89)",
             "rgb(212, 129, 9)",
             "rgb(184, 170, 80)",
             "rgb(223, 124, 21)",
             "rgb(112, 25, 110)",
             "rgb(119, 149, 114)"
            ]
           },
           "orientation": "h",
           "textangle": 0,
           "textposition": "outside",
           "texttemplate": "%{y}<br>%{x:.4s}",
           "type": "bar",
           "x": [
            98589699,
            119378695,
            136507488,
            211002584,
            224251952,
            265831145,
            298048017,
            310740954,
            316345703,
            608616105
           ],
           "y": [
            "Cassava",
            "Barley",
            "Sweet potatoes",
            "Rice, paddy (rice milled equivalent)",
            "Sugar beet",
            "Maize",
            "Potatoes",
            "Wheat",
            "Rice, paddy",
            "Sugar cane"
           ]
          }
         ],
         "layout": {
          "bargap": 0.15,
          "font": {
           "size": 14
          },
          "plot_bgcolor": "#FFFFFF",
          "xaxis": {
           "range": [
            0,
            1907024730
           ],
           "showline": true,
           "visible": true
          },
          "yaxis": {
           "showline": false,
           "visible": true
          }
         },
         "name": "1970"
        },
        {
         "data": [
          {
           "cliponaxis": false,
           "hoverinfo": "all",
           "hovertemplate": "<extra></extra>",
           "marker": {
            "color": [
             "rgb(52, 195, 207)",
             "rgb(217, 84, 231)",
             "rgb(200, 247, 106)",
             "rgb(103, 235, 169)",
             "rgb(96, 82, 89)",
             "rgb(184, 170, 80)",
             "rgb(212, 129, 9)",
             "rgb(112, 25, 110)",
             "rgb(223, 124, 21)",
             "rgb(119, 149, 114)"
            ]
           },
           "orientation": "h",
           "textangle": 0,
           "textposition": "outside",
           "texttemplate": "%{y}<br>%{x:.4s}",
           "type": "bar",
           "x": [
            98756434,
            127252781,
            131237044,
            211914188,
            227540795,
            279490572,
            313622622,
            317712426,
            347525581,
            582105426
           ],
           "y": [
            "Cassava",
            "Sweet potatoes",
            "Barley",
            "Rice, paddy (rice milled equivalent)",
            "Sugar beet",
            "Potatoes",
            "Maize",
            "Rice, paddy",
            "Wheat",
            "Sugar cane"
           ]
          }
         ],
         "layout": {
          "bargap": 0.15,
          "font": {
           "size": 14
          },
          "plot_bgcolor": "#FFFFFF",
          "xaxis": {
           "range": [
            0,
            1907024730
           ],
           "showline": true,
           "visible": true
          },
          "yaxis": {
           "showline": false,
           "visible": true
          }
         },
         "name": "1971"
        },
        {
         "data": [
          {
           "cliponaxis": false,
           "hoverinfo": "all",
           "hovertemplate": "<extra></extra>",
           "marker": {
            "color": [
             "rgb(52, 195, 207)",
             "rgb(217, 84, 231)",
             "rgb(200, 247, 106)",
             "rgb(103, 235, 169)",
             "rgb(96, 82, 89)",
             "rgb(184, 170, 80)",
             "rgb(112, 25, 110)",
             "rgb(212, 129, 9)",
             "rgb(223, 124, 21)",
             "rgb(119, 149, 114)"
            ]
           },
           "orientation": "h",
           "textangle": 0,
           "textposition": "outside",
           "texttemplate": "%{y}<br>%{x:.4s}",
           "type": "bar",
           "x": [
            101261515,
            121467494,
            132963909,
            204962388,
            240336963,
            272144812,
            307289937,
            308826290,
            343001429,
            569105570
           ],
           "y": [
            "Cassava",
            "Sweet potatoes",
            "Barley",
            "Rice, paddy (rice milled equivalent)",
            "Sugar beet",
            "Potatoes",
            "Rice, paddy",
            "Maize",
            "Wheat",
            "Sugar cane"
           ]
          }
         ],
         "layout": {
          "bargap": 0.15,
          "font": {
           "size": 14
          },
          "plot_bgcolor": "#FFFFFF",
          "xaxis": {
           "range": [
            0,
            1907024730
           ],
           "showline": true,
           "visible": true
          },
          "yaxis": {
           "showline": false,
           "visible": true
          }
         },
         "name": "1972"
        },
        {
         "data": [
          {
           "cliponaxis": false,
           "hoverinfo": "all",
           "hovertemplate": "<extra></extra>",
           "marker": {
            "color": [
             "rgb(52, 195, 207)",
             "rgb(200, 247, 106)",
             "rgb(217, 84, 231)",
             "rgb(103, 235, 169)",
             "rgb(96, 82, 89)",
             "rgb(184, 170, 80)",
             "rgb(212, 129, 9)",
             "rgb(112, 25, 110)",
             "rgb(223, 124, 21)",
             "rgb(119, 149, 114)"
            ]
           },
           "orientation": "h",
           "textangle": 0,
           "textposition": "outside",
           "texttemplate": "%{y}<br>%{x:.4s}",
           "type": "bar",
           "x": [
            101734795,
            146966081,
            152865329,
            223397535,
            250104320,
            307160130,
            318290469,
            334928838,
            369334126,
            600227145
           ],
           "y": [
            "Cassava",
            "Barley",
            "Sweet potatoes",
            "Rice, paddy (rice milled equivalent)",
            "Sugar beet",
            "Potatoes",
            "Maize",
            "Rice, paddy",
            "Wheat",
            "Sugar cane"
           ]
          }
         ],
         "layout": {
          "bargap": 0.15,
          "font": {
           "size": 14
          },
          "plot_bgcolor": "#FFFFFF",
          "xaxis": {
           "range": [
            0,
            1907024730
           ],
           "showline": true,
           "visible": true
          },
          "yaxis": {
           "showline": false,
           "visible": true
          }
         },
         "name": "1973"
        },
        {
         "data": [
          {
           "cliponaxis": false,
           "hoverinfo": "all",
           "hovertemplate": "<extra></extra>",
           "marker": {
            "color": [
             "rgb(52, 195, 207)",
             "rgb(217, 84, 231)",
             "rgb(200, 247, 106)",
             "rgb(103, 235, 169)",
             "rgb(96, 82, 89)",
             "rgb(184, 170, 80)",
             "rgb(212, 129, 9)",
             "rgb(112, 25, 110)",
             "rgb(223, 124, 21)",
             "rgb(119, 149, 114)"
            ]
           },
           "orientation": "h",
           "textangle": 0,
           "textposition": "outside",
           "texttemplate": "%{y}<br>%{x:.4s}",
           "type": "bar",
           "x": [
            104370567,
            137264243,
            148818870,
            221424400,
            234922029,
            284781339,
            306427347,
            331970614,
            358825442,
            648516497
           ],
           "y": [
            "Cassava",
            "Sweet potatoes",
            "Barley",
            "Rice, paddy (rice milled equivalent)",
            "Sugar beet",
            "Potatoes",
            "Maize",
            "Rice, paddy",
            "Wheat",
            "Sugar cane"
           ]
          }
         ],
         "layout": {
          "bargap": 0.15,
          "font": {
           "size": 14
          },
          "plot_bgcolor": "#FFFFFF",
          "xaxis": {
           "range": [
            0,
            1907024730
           ],
           "showline": true,
           "visible": true
          },
          "yaxis": {
           "showline": false,
           "visible": true
          }
         },
         "name": "1974"
        },
        {
         "data": [
          {
           "cliponaxis": false,
           "hoverinfo": "all",
           "hovertemplate": "<extra></extra>",
           "marker": {
            "color": [
             "rgb(52, 195, 207)",
             "rgb(200, 247, 106)",
             "rgb(217, 84, 231)",
             "rgb(103, 235, 169)",
             "rgb(96, 82, 89)",
             "rgb(184, 170, 80)",
             "rgb(212, 129, 9)",
             "rgb(223, 124, 21)",
             "rgb(112, 25, 110)",
             "rgb(119, 149, 114)"
            ]
           },
           "orientation": "h",
           "textangle": 0,
           "textposition": "outside",
           "texttemplate": "%{y}<br>%{x:.4s}",
           "type": "bar",
           "x": [
            110398445,
            135491720,
            141314403,
            238094381,
            251310276,
            270384075,
            341751971,
            355806146,
            356963090,
            655815792
           ],
           "y": [
            "Cassava",
            "Barley",
            "Sweet potatoes",
            "Rice, paddy (rice milled equivalent)",
            "Sugar beet",
            "Potatoes",
            "Maize",
            "Wheat",
            "Rice, paddy",
            "Sugar cane"
           ]
          }
         ],
         "layout": {
          "bargap": 0.15,
          "font": {
           "size": 14
          },
          "plot_bgcolor": "#FFFFFF",
          "xaxis": {
           "range": [
            0,
            1907024730
           ],
           "showline": true,
           "visible": true
          },
          "yaxis": {
           "showline": false,
           "visible": true
          }
         },
         "name": "1975"
        },
        {
         "data": [
          {
           "cliponaxis": false,
           "hoverinfo": "all",
           "hovertemplate": "<extra></extra>",
           "marker": {
            "color": [
             "rgb(52, 195, 207)",
             "rgb(217, 84, 231)",
             "rgb(200, 247, 106)",
             "rgb(103, 235, 169)",
             "rgb(184, 170, 80)",
             "rgb(96, 82, 89)",
             "rgb(112, 25, 110)",
             "rgb(212, 129, 9)",
             "rgb(223, 124, 21)",
             "rgb(119, 149, 114)"
            ]
           },
           "orientation": "h",
           "textangle": 0,
           "textposition": "outside",
           "texttemplate": "%{y}<br>%{x:.4s}",
           "type": "bar",
           "x": [
            113892497,
            133322031,
            166595806,
            231906870,
            272745276,
            296408369,
            347686462,
            352395866,
            419868031,
            687207538
           ],
           "y": [
            "Cassava",
            "Sweet potatoes",
            "Barley",
            "Rice, paddy (rice milled equivalent)",
            "Potatoes",
            "Sugar beet",
            "Rice, paddy",
            "Maize",
            "Wheat",
            "Sugar cane"
           ]
          }
         ],
         "layout": {
          "bargap": 0.15,
          "font": {
           "size": 14
          },
          "plot_bgcolor": "#FFFFFF",
          "xaxis": {
           "range": [
            0,
            1907024730
           ],
           "showline": true,
           "visible": true
          },
          "yaxis": {
           "showline": false,
           "visible": true
          }
         },
         "name": "1976"
        },
        {
         "data": [
          {
           "cliponaxis": false,
           "hoverinfo": "all",
           "hovertemplate": "<extra></extra>",
           "marker": {
            "color": [
             "rgb(52, 195, 207)",
             "rgb(217, 84, 231)",
             "rgb(200, 247, 106)",
             "rgb(103, 235, 169)",
             "rgb(184, 170, 80)",
             "rgb(96, 82, 89)",
             "rgb(112, 25, 110)",
             "rgb(212, 129, 9)",
             "rgb(223, 124, 21)",
             "rgb(119, 149, 114)"
            ]
           },
           "orientation": "h",
           "textangle": 0,
           "textposition": "outside",
           "texttemplate": "%{y}<br>%{x:.4s}",
           "type": "bar",
           "x": [
            118605256,
            143107584,
            156386493,
            246443929,
            279667694,
            288582476,
            369481153,
            371593355,
            382276677,
            734858286
           ],
           "y": [
            "Cassava",
            "Sweet potatoes",
            "Barley",
            "Rice, paddy (rice milled equivalent)",
            "Potatoes",
            "Sugar beet",
            "Rice, paddy",
            "Maize",
            "Wheat",
            "Sugar cane"
           ]
          }
         ],
         "layout": {
          "bargap": 0.15,
          "font": {
           "size": 14
          },
          "plot_bgcolor": "#FFFFFF",
          "xaxis": {
           "range": [
            0,
            1907024730
           ],
           "showline": true,
           "visible": true
          },
          "yaxis": {
           "showline": false,
           "visible": true
          }
         },
         "name": "1977"
        },
        {
         "data": [
          {
           "cliponaxis": false,
           "hoverinfo": "all",
           "hovertemplate": "<extra></extra>",
           "marker": {
            "color": [
             "rgb(52, 195, 207)",
             "rgb(217, 84, 231)",
             "rgb(200, 247, 106)",
             "rgb(103, 235, 169)",
             "rgb(96, 82, 89)",
             "rgb(184, 170, 80)",
             "rgb(112, 25, 110)",
             "rgb(212, 129, 9)",
             "rgb(223, 124, 21)",
             "rgb(119, 149, 114)"
            ]
           },
           "orientation": "h",
           "textangle": 0,
           "textposition": "outside",
           "texttemplate": "%{y}<br>%{x:.4s}",
           "type": "bar",
           "x": [
            123308473,
            151857764,
            174929309,
            256934233,
            282834069,
            291161652,
            385208745,
            393600091,
            443844880,
            774416858
           ],
           "y": [
            "Cassava",
            "Sweet potatoes",
            "Barley",
            "Rice, paddy (rice milled equivalent)",
            "Sugar beet",
            "Potatoes",
            "Rice, paddy",
            "Maize",
            "Wheat",
            "Sugar cane"
           ]
          }
         ],
         "layout": {
          "bargap": 0.15,
          "font": {
           "size": 14
          },
          "plot_bgcolor": "#FFFFFF",
          "xaxis": {
           "range": [
            0,
            1907024730
           ],
           "showline": true,
           "visible": true
          },
          "yaxis": {
           "showline": false,
           "visible": true
          }
         },
         "name": "1978"
        },
        {
         "data": [
          {
           "cliponaxis": false,
           "hoverinfo": "all",
           "hovertemplate": "<extra></extra>",
           "marker": {
            "color": [
             "rgb(52, 195, 207)",
             "rgb(217, 84, 231)",
             "rgb(200, 247, 106)",
             "rgb(103, 235, 169)",
             "rgb(96, 82, 89)",
             "rgb(184, 170, 80)",
             "rgb(112, 25, 110)",
             "rgb(212, 129, 9)",
             "rgb(223, 124, 21)",
             "rgb(119, 149, 114)"
            ]
           },
           "orientation": "h",
           "textangle": 0,
           "textposition": "outside",
           "texttemplate": "%{y}<br>%{x:.4s}",
           "type": "bar",
           "x": [
            119745423,
            137935647,
            154989948,
            250292923,
            262752809,
            297921605,
            375251758,
            418622993,
            422999301,
            770245178
           ],
           "y": [
            "Cassava",
            "Sweet potatoes",
            "Barley",
            "Rice, paddy (rice milled equivalent)",
            "Sugar beet",
            "Potatoes",
            "Rice, paddy",
            "Maize",
            "Wheat",
            "Sugar cane"
           ]
          }
         ],
         "layout": {
          "bargap": 0.15,
          "font": {
           "size": 14
          },
          "plot_bgcolor": "#FFFFFF",
          "xaxis": {
           "range": [
            0,
            1907024730
           ],
           "showline": true,
           "visible": true
          },
          "yaxis": {
           "showline": false,
           "visible": true
          }
         },
         "name": "1979"
        },
        {
         "data": [
          {
           "cliponaxis": false,
           "hoverinfo": "all",
           "hovertemplate": "<extra></extra>",
           "marker": {
            "color": [
             "rgb(52, 195, 207)",
             "rgb(217, 84, 231)",
             "rgb(200, 247, 106)",
             "rgb(184, 170, 80)",
             "rgb(103, 235, 169)",
             "rgb(96, 82, 89)",
             "rgb(212, 129, 9)",
             "rgb(112, 25, 110)",
             "rgb(223, 124, 21)",
             "rgb(119, 149, 114)"
            ]
           },
           "orientation": "h",
           "textangle": 0,
           "textposition": "outside",
           "texttemplate": "%{y}<br>%{x:.4s}",
           "type": "bar",
           "x": [
            124135066,
            137869239,
            156702822,
            240495788,
            264713164,
            267856451,
            396623388,
            396871310,
            440187901,
            734489200
           ],
           "y": [
            "Cassava",
            "Sweet potatoes",
            "Barley",
            "Potatoes",
            "Rice, paddy (rice milled equivalent)",
            "Sugar beet",
            "Maize",
            "Rice, paddy",
            "Wheat",
            "Sugar cane"
           ]
          }
         ],
         "layout": {
          "bargap": 0.15,
          "font": {
           "size": 14
          },
          "plot_bgcolor": "#FFFFFF",
          "xaxis": {
           "range": [
            0,
            1907024730
           ],
           "showline": true,
           "visible": true
          },
          "yaxis": {
           "showline": false,
           "visible": true
          }
         },
         "name": "1980"
        },
        {
         "data": [
          {
           "cliponaxis": false,
           "hoverinfo": "all",
           "hovertemplate": "<extra></extra>",
           "marker": {
            "color": [
             "rgb(217, 84, 231)",
             "rgb(52, 195, 207)",
             "rgb(200, 247, 106)",
             "rgb(184, 170, 80)",
             "rgb(103, 235, 169)",
             "rgb(96, 82, 89)",
             "rgb(112, 25, 110)",
             "rgb(212, 129, 9)",
             "rgb(223, 124, 21)",
             "rgb(119, 149, 114)"
            ]
           },
           "orientation": "h",
           "textangle": 0,
           "textposition": "outside",
           "texttemplate": "%{y}<br>%{x:.4s}",
           "type": "bar",
           "x": [
            125543727,
            127513877,
            149602582,
            267781520,
            273520179,
            287840286,
            410075231,
            446772517,
            449633986,
            799604214
           ],
           "y": [
            "Sweet potatoes",
            "Cassava",
            "Barley",
            "Potatoes",
            "Rice, paddy (rice milled equivalent)",
            "Sugar beet",
            "Rice, paddy",
            "Maize",
            "Wheat",
            "Sugar cane"
           ]
          }
         ],
         "layout": {
          "bargap": 0.15,
          "font": {
           "size": 14
          },
          "plot_bgcolor": "#FFFFFF",
          "xaxis": {
           "range": [
            0,
            1907024730
           ],
           "showline": true,
           "visible": true
          },
          "yaxis": {
           "showline": false,
           "visible": true
          }
         },
         "name": "1981"
        },
        {
         "data": [
          {
           "cliponaxis": false,
           "hoverinfo": "all",
           "hovertemplate": "<extra></extra>",
           "marker": {
            "color": [
             "rgb(52, 195, 207)",
             "rgb(217, 84, 231)",
             "rgb(200, 247, 106)",
             "rgb(184, 170, 80)",
             "rgb(103, 235, 169)",
             "rgb(96, 82, 89)",
             "rgb(112, 25, 110)",
             "rgb(212, 129, 9)",
             "rgb(223, 124, 21)",
             "rgb(119, 149, 114)"
            ]
           },
           "orientation": "h",
           "textangle": 0,
           "textposition": "outside",
           "texttemplate": "%{y}<br>%{x:.4s}",
           "type": "bar",
           "x": [
            128849568,
            129433910,
            161352537,
            265142602,
            281440016,
            291773194,
            421949049,
            448932280,
            476768609,
            907067880
           ],
           "y": [
            "Cassava",
            "Sweet potatoes",
            "Barley",
            "Potatoes",
            "Rice, paddy (rice milled equivalent)",
            "Sugar beet",
            "Rice, paddy",
            "Maize",
            "Wheat",
            "Sugar cane"
           ]
          }
         ],
         "layout": {
          "bargap": 0.15,
          "font": {
           "size": 14
          },
          "plot_bgcolor": "#FFFFFF",
          "xaxis": {
           "range": [
            0,
            1907024730
           ],
           "showline": true,
           "visible": true
          },
          "yaxis": {
           "showline": false,
           "visible": true
          }
         },
         "name": "1982"
        },
        {
         "data": [
          {
           "cliponaxis": false,
           "hoverinfo": "all",
           "hovertemplate": "<extra></extra>",
           "marker": {
            "color": [
             "rgb(52, 195, 207)",
             "rgb(217, 84, 231)",
             "rgb(200, 247, 106)",
             "rgb(184, 170, 80)",
             "rgb(96, 82, 89)",
             "rgb(103, 235, 169)",
             "rgb(212, 129, 9)",
             "rgb(112, 25, 110)",
             "rgb(223, 124, 21)",
             "rgb(119, 149, 114)"
            ]
           },
           "orientation": "h",
           "textangle": 0,
           "textposition": "outside",
           "texttemplate": "%{y}<br>%{x:.4s}",
           "type": "bar",
           "x": [
            126886287,
            137945719,
            159470171,
            264471009,
            274395485,
            298826869,
            347082034,
            448016295,
            489555281,
            903684353
           ],
           "y": [
            "Cassava",
            "Sweet potatoes",
            "Barley",
            "Potatoes",
            "Sugar beet",
            "Rice, paddy (rice milled equivalent)",
            "Maize",
            "Rice, paddy",
            "Wheat",
            "Sugar cane"
           ]
          }
         ],
         "layout": {
          "bargap": 0.15,
          "font": {
           "size": 14
          },
          "plot_bgcolor": "#FFFFFF",
          "xaxis": {
           "range": [
            0,
            1907024730
           ],
           "showline": true,
           "visible": true
          },
          "yaxis": {
           "showline": false,
           "visible": true
          }
         },
         "name": "1983"
        },
        {
         "data": [
          {
           "cliponaxis": false,
           "hoverinfo": "all",
           "hovertemplate": "<extra></extra>",
           "marker": {
            "color": [
             "rgb(217, 84, 231)",
             "rgb(52, 195, 207)",
             "rgb(200, 247, 106)",
             "rgb(184, 170, 80)",
             "rgb(96, 82, 89)",
             "rgb(103, 235, 169)",
             "rgb(212, 129, 9)",
             "rgb(112, 25, 110)",
             "rgb(223, 124, 21)",
             "rgb(119, 149, 114)"
            ]
           },
           "orientation": "h",
           "textangle": 0,
           "textposition": "outside",
           "texttemplate": "%{y}<br>%{x:.4s}",
           "type": "bar",
           "x": [
            133036563,
            133239818,
            169433845,
            290945972,
            296351939,
            310383713,
            450449992,
            465342898,
            512330225,
            929768246
           ],
           "y": [
            "Sweet potatoes",
            "Cassava",
            "Barley",
            "Potatoes",
            "Sugar beet",
            "Rice, paddy (rice milled equivalent)",
            "Maize",
            "Rice, paddy",
            "Wheat",
            "Sugar cane"
           ]
          }
         ],
         "layout": {
          "bargap": 0.15,
          "font": {
           "size": 14
          },
          "plot_bgcolor": "#FFFFFF",
          "xaxis": {
           "range": [
            0,
            1907024730
           ],
           "showline": true,
           "visible": true
          },
          "yaxis": {
           "showline": false,
           "visible": true
          }
         },
         "name": "1984"
        },
        {
         "data": [
          {
           "cliponaxis": false,
           "hoverinfo": "all",
           "hovertemplate": "<extra></extra>",
           "marker": {
            "color": [
             "rgb(217, 84, 231)",
             "rgb(52, 195, 207)",
             "rgb(200, 247, 106)",
             "rgb(184, 170, 80)",
             "rgb(96, 82, 89)",
             "rgb(103, 235, 169)",
             "rgb(112, 25, 110)",
             "rgb(212, 129, 9)",
             "rgb(223, 124, 21)",
             "rgb(119, 149, 114)"
            ]
           },
           "orientation": "h",
           "textangle": 0,
           "textposition": "outside",
           "texttemplate": "%{y}<br>%{x:.4s}",
           "type": "bar",
           "x": [
            122997023,
            135852865,
            172618338,
            281603760,
            284155160,
            312265770,
            468164572,
            485527301,
            499527392,
            933213589
           ],
           "y": [
            "Sweet potatoes",
            "Cassava",
            "Barley",
            "Potatoes",
            "Sugar beet",
            "Rice, paddy (rice milled equivalent)",
            "Rice, paddy",
            "Maize",
            "Wheat",
            "Sugar cane"
           ]
          }
         ],
         "layout": {
          "bargap": 0.15,
          "font": {
           "size": 14
          },
          "plot_bgcolor": "#FFFFFF",
          "xaxis": {
           "range": [
            0,
            1907024730
           ],
           "showline": true,
           "visible": true
          },
          "yaxis": {
           "showline": false,
           "visible": true
          }
         },
         "name": "1985"
        },
        {
         "data": [
          {
           "cliponaxis": false,
           "hoverinfo": "all",
           "hovertemplate": "<extra></extra>",
           "marker": {
            "color": [
             "rgb(108, 193, 138)",
             "rgb(52, 195, 207)",
             "rgb(200, 247, 106)",
             "rgb(96, 82, 89)",
             "rgb(184, 170, 80)",
             "rgb(103, 235, 169)",
             "rgb(112, 25, 110)",
             "rgb(212, 129, 9)",
             "rgb(223, 124, 21)",
             "rgb(119, 149, 114)"
            ]
           },
           "orientation": "h",
           "textangle": 0,
           "textposition": "outside",
           "texttemplate": "%{y}<br>%{x:.4s}",
           "type": "bar",
           "x": [
            129814219,
            134228164,
            177169275,
            286334048,
            286610518,
            312606386,
            468675242,
            478176622,
            528685222,
            934719186
           ],
           "y": [
            "Vegetables, fresh nes",
            "Cassava",
            "Barley",
            "Sugar beet",
            "Potatoes",
            "Rice, paddy (rice milled equivalent)",
            "Rice, paddy",
            "Maize",
            "Wheat",
            "Sugar cane"
           ]
          }
         ],
         "layout": {
          "bargap": 0.15,
          "font": {
           "size": 14
          },
          "plot_bgcolor": "#FFFFFF",
          "xaxis": {
           "range": [
            0,
            1907024730
           ],
           "showline": true,
           "visible": true
          },
          "yaxis": {
           "showline": false,
           "visible": true
          }
         },
         "name": "1986"
        },
        {
         "data": [
          {
           "cliponaxis": false,
           "hoverinfo": "all",
           "hovertemplate": "<extra></extra>",
           "marker": {
            "color": [
             "rgb(217, 84, 231)",
             "rgb(52, 195, 207)",
             "rgb(200, 247, 106)",
             "rgb(184, 170, 80)",
             "rgb(96, 82, 89)",
             "rgb(103, 235, 169)",
             "rgb(212, 129, 9)",
             "rgb(112, 25, 110)",
             "rgb(223, 124, 21)",
             "rgb(119, 149, 114)"
            ]
           },
           "orientation": "h",
           "textangle": 0,
           "textposition": "outside",
           "texttemplate": "%{y}<br>%{x:.4s}",
           "type": "bar",
           "x": [
            133652442,
            138134704,
            175288684,
            279415351,
            299751636,
            307780419,
            453115794,
            461439908,
            505075847,
            990319251
           ],
           "y": [
            "Sweet potatoes",
            "Cassava",
            "Barley",
            "Potatoes",
            "Sugar beet",
            "Rice, paddy (rice milled equivalent)",
            "Maize",
            "Rice, paddy",
            "Wheat",
            "Sugar cane"
           ]
          }
         ],
         "layout": {
          "bargap": 0.15,
          "font": {
           "size": 14
          },
          "plot_bgcolor": "#FFFFFF",
          "xaxis": {
           "range": [
            0,
            1907024730
           ],
           "showline": true,
           "visible": true
          },
          "yaxis": {
           "showline": false,
           "visible": true
          }
         },
         "name": "1987"
        },
        {
         "data": [
          {
           "cliponaxis": false,
           "hoverinfo": "all",
           "hovertemplate": "<extra></extra>",
           "marker": {
            "color": [
             "rgb(108, 193, 138)",
             "rgb(52, 195, 207)",
             "rgb(200, 247, 106)",
             "rgb(184, 170, 80)",
             "rgb(96, 82, 89)",
             "rgb(103, 235, 169)",
             "rgb(212, 129, 9)",
             "rgb(112, 25, 110)",
             "rgb(223, 124, 21)",
             "rgb(119, 149, 114)"
            ]
           },
           "orientation": "h",
           "textangle": 0,
           "textposition": "outside",
           "texttemplate": "%{y}<br>%{x:.4s}",
           "type": "bar",
           "x": [
            137997867,
            144878275,
            163396406,
            268603004,
            293570876,
            325134421,
            403050234,
            487457902,
            500656538,
            992982513
           ],
           "y": [
            "Vegetables, fresh nes",
            "Cassava",
            "Barley",
            "Potatoes",
            "Sugar beet",
            "Rice, paddy (rice milled equivalent)",
            "Maize",
            "Rice, paddy",
            "Wheat",
            "Sugar cane"
           ]
          }
         ],
         "layout": {
          "bargap": 0.15,
          "font": {
           "size": 14
          },
          "plot_bgcolor": "#FFFFFF",
          "xaxis": {
           "range": [
            0,
            1907024730
           ],
           "showline": true,
           "visible": true
          },
          "yaxis": {
           "showline": false,
           "visible": true
          }
         },
         "name": "1988"
        },
        {
         "data": [
          {
           "cliponaxis": false,
           "hoverinfo": "all",
           "hovertemplate": "<extra></extra>",
           "marker": {
            "color": [
             "rgb(108, 193, 138)",
             "rgb(52, 195, 207)",
             "rgb(200, 247, 106)",
             "rgb(184, 170, 80)",
             "rgb(96, 82, 89)",
             "rgb(103, 235, 169)",
             "rgb(212, 129, 9)",
             "rgb(112, 25, 110)",
             "rgb(223, 124, 21)",
             "rgb(119, 149, 114)"
            ]
           },
           "orientation": "h",
           "textangle": 0,
           "textposition": "outside",
           "texttemplate": "%{y}<br>%{x:.4s}",
           "type": "bar",
           "x": [
            138710355,
            152885746,
            164166455,
            276583863,
            314402899,
            343119234,
            476874503,
            514421640,
            538206114,
            1017998783
           ],
           "y": [
            "Vegetables, fresh nes",
            "Cassava",
            "Barley",
            "Potatoes",
            "Sugar beet",
            "Rice, paddy (rice milled equivalent)",
            "Maize",
            "Rice, paddy",
            "Wheat",
            "Sugar cane"
           ]
          }
         ],
         "layout": {
          "bargap": 0.15,
          "font": {
           "size": 14
          },
          "plot_bgcolor": "#FFFFFF",
          "xaxis": {
           "range": [
            0,
            1907024730
           ],
           "showline": true,
           "visible": true
          },
          "yaxis": {
           "showline": false,
           "visible": true
          }
         },
         "name": "1989"
        },
        {
         "data": [
          {
           "cliponaxis": false,
           "hoverinfo": "all",
           "hovertemplate": "<extra></extra>",
           "marker": {
            "color": [
             "rgb(108, 193, 138)",
             "rgb(52, 195, 207)",
             "rgb(200, 247, 106)",
             "rgb(184, 170, 80)",
             "rgb(96, 82, 89)",
             "rgb(103, 235, 169)",
             "rgb(212, 129, 9)",
             "rgb(112, 25, 110)",
             "rgb(223, 124, 21)",
             "rgb(119, 149, 114)"
            ]
           },
           "orientation": "h",
           "textangle": 0,
           "textposition": "outside",
           "texttemplate": "%{y}<br>%{x:.4s}",
           "type": "bar",
           "x": [
            140314879,
            152378682,
            178074020,
            266825273,
            309186724,
            345885292,
            483620724,
            518568653,
            591330111,
            1052997497
           ],
           "y": [
            "Vegetables, fresh nes",
            "Cassava",
            "Barley",
            "Potatoes",
            "Sugar beet",
            "Rice, paddy (rice milled equivalent)",
            "Maize",
            "Rice, paddy",
            "Wheat",
            "Sugar cane"
           ]
          }
         ],
         "layout": {
          "bargap": 0.15,
          "font": {
           "size": 14
          },
          "plot_bgcolor": "#FFFFFF",
          "xaxis": {
           "range": [
            0,
            1907024730
           ],
           "showline": true,
           "visible": true
          },
          "yaxis": {
           "showline": false,
           "visible": true
          }
         },
         "name": "1990"
        },
        {
         "data": [
          {
           "cliponaxis": false,
           "hoverinfo": "all",
           "hovertemplate": "<extra></extra>",
           "marker": {
            "color": [
             "rgb(108, 193, 138)",
             "rgb(52, 195, 207)",
             "rgb(200, 247, 106)",
             "rgb(184, 170, 80)",
             "rgb(96, 82, 89)",
             "rgb(103, 235, 169)",
             "rgb(212, 129, 9)",
             "rgb(112, 25, 110)",
             "rgb(223, 124, 21)",
             "rgb(119, 149, 114)"
            ]
           },
           "orientation": "h",
           "textangle": 0,
           "textposition": "outside",
           "texttemplate": "%{y}<br>%{x:.4s}",
           "type": "bar",
           "x": [
            135062201,
            160406516,
            169582274,
            256993281,
            285129013,
            345847886,
            494407622,
            518512573,
            547820731,
            1086955621
           ],
           "y": [
            "Vegetables, fresh nes",
            "Cassava",
            "Barley",
            "Potatoes",
            "Sugar beet",
            "Rice, paddy (rice milled equivalent)",
            "Maize",
            "Rice, paddy",
            "Wheat",
            "Sugar cane"
           ]
          }
         ],
         "layout": {
          "bargap": 0.15,
          "font": {
           "size": 14
          },
          "plot_bgcolor": "#FFFFFF",
          "xaxis": {
           "range": [
            0,
            1907024730
           ],
           "showline": true,
           "visible": true
          },
          "yaxis": {
           "showline": false,
           "visible": true
          }
         },
         "name": "1991"
        },
        {
         "data": [
          {
           "cliponaxis": false,
           "hoverinfo": "all",
           "hovertemplate": "<extra></extra>",
           "marker": {
            "color": [
             "rgb(108, 193, 138)",
             "rgb(52, 195, 207)",
             "rgb(200, 247, 106)",
             "rgb(184, 170, 80)",
             "rgb(96, 82, 89)",
             "rgb(103, 235, 169)",
             "rgb(112, 25, 110)",
             "rgb(212, 129, 9)",
             "rgb(223, 124, 21)",
             "rgb(119, 149, 114)"
            ]
           },
           "orientation": "h",
           "textangle": 0,
           "textposition": "outside",
           "texttemplate": "%{y}<br>%{x:.4s}",
           "type": "bar",
           "x": [
            144904166,
            162004349,
            165533308,
            278980652,
            281711850,
            352094665,
            527878059,
            533789336,
            565111947,
            1107576853
           ],
           "y": [
            "Vegetables, fresh nes",
            "Cassava",
            "Barley",
            "Potatoes",
            "Sugar beet",
            "Rice, paddy (rice milled equivalent)",
            "Rice, paddy",
            "Maize",
            "Wheat",
            "Sugar cane"
           ]
          }
         ],
         "layout": {
          "bargap": 0.15,
          "font": {
           "size": 14
          },
          "plot_bgcolor": "#FFFFFF",
          "xaxis": {
           "range": [
            0,
            1907024730
           ],
           "showline": true,
           "visible": true
          },
          "yaxis": {
           "showline": false,
           "visible": true
          }
         },
         "name": "1992"
        },
        {
         "data": [
          {
           "cliponaxis": false,
           "hoverinfo": "all",
           "hovertemplate": "<extra></extra>",
           "marker": {
            "color": [
             "rgb(108, 193, 138)",
             "rgb(52, 195, 207)",
             "rgb(200, 247, 106)",
             "rgb(96, 82, 89)",
             "rgb(184, 170, 80)",
             "rgb(103, 235, 169)",
             "rgb(212, 129, 9)",
             "rgb(112, 25, 110)",
             "rgb(223, 124, 21)",
             "rgb(119, 149, 114)"
            ]
           },
           "orientation": "h",
           "textangle": 0,
           "textposition": "outside",
           "texttemplate": "%{y}<br>%{x:.4s}",
           "type": "bar",
           "x": [
            155428142,
            163185199,
            169542965,
            282190576,
            304619922,
            353242902,
            477221153,
            529599553,
            564739765,
            1020881319
           ],
           "y": [
            "Vegetables, fresh nes",
            "Cassava",
            "Barley",
            "Sugar beet",
            "Potatoes",
            "Rice, paddy (rice milled equivalent)",
            "Maize",
            "Rice, paddy",
            "Wheat",
            "Sugar cane"
           ]
          }
         ],
         "layout": {
          "bargap": 0.15,
          "font": {
           "size": 14
          },
          "plot_bgcolor": "#FFFFFF",
          "xaxis": {
           "range": [
            0,
            1907024730
           ],
           "showline": true,
           "visible": true
          },
          "yaxis": {
           "showline": false,
           "visible": true
          }
         },
         "name": "1993"
        },
        {
         "data": [
          {
           "cliponaxis": false,
           "hoverinfo": "all",
           "hovertemplate": "<extra></extra>",
           "marker": {
            "color": [
             "rgb(200, 247, 106)",
             "rgb(108, 193, 138)",
             "rgb(52, 195, 207)",
             "rgb(96, 82, 89)",
             "rgb(184, 170, 80)",
             "rgb(103, 235, 169)",
             "rgb(223, 124, 21)",
             "rgb(112, 25, 110)",
             "rgb(212, 129, 9)",
             "rgb(119, 149, 114)"
            ]
           },
           "orientation": "h",
           "textangle": 0,
           "textposition": "outside",
           "texttemplate": "%{y}<br>%{x:.4s}",
           "type": "bar",
           "x": [
            161019263,
            161088312,
            164501121,
            254453796,
            270203771,
            359240229,
            525435323,
            538591048,
            568663564,
            1084097363
           ],
           "y": [
            "Barley",
            "Vegetables, fresh nes",
            "Cassava",
            "Sugar beet",
            "Potatoes",
            "Rice, paddy (rice milled equivalent)",
            "Wheat",
            "Rice, paddy",
            "Maize",
            "Sugar cane"
           ]
          }
         ],
         "layout": {
          "bargap": 0.15,
          "font": {
           "size": 14
          },
          "plot_bgcolor": "#FFFFFF",
          "xaxis": {
           "range": [
            0,
            1907024730
           ],
           "showline": true,
           "visible": true
          },
          "yaxis": {
           "showline": false,
           "visible": true
          }
         },
         "name": "1994"
        },
        {
         "data": [
          {
           "cliponaxis": false,
           "hoverinfo": "all",
           "hovertemplate": "<extra></extra>",
           "marker": {
            "color": [
             "rgb(200, 247, 106)",
             "rgb(52, 195, 207)",
             "rgb(108, 193, 138)",
             "rgb(96, 82, 89)",
             "rgb(184, 170, 80)",
             "rgb(103, 235, 169)",
             "rgb(212, 129, 9)",
             "rgb(223, 124, 21)",
             "rgb(112, 25, 110)",
             "rgb(119, 149, 114)"
            ]
           },
           "orientation": "h",
           "textangle": 0,
           "textposition": "outside",
           "texttemplate": "%{y}<br>%{x:.4s}",
           "type": "bar",
           "x": [
            140724630,
            161787472,
            165885731,
            264504934,
            285333037,
            364957060,
            517299059,
            544357532,
            547162009,
            1163366858
           ],
           "y": [
            "Barley",
            "Cassava",
            "Vegetables, fresh nes",
            "Sugar beet",
            "Potatoes",
            "Rice, paddy (rice milled equivalent)",
            "Maize",
            "Wheat",
            "Rice, paddy",
            "Sugar cane"
           ]
          }
         ],
         "layout": {
          "bargap": 0.15,
          "font": {
           "size": 14
          },
          "plot_bgcolor": "#FFFFFF",
          "xaxis": {
           "range": [
            0,
            1907024730
           ],
           "showline": true,
           "visible": true
          },
          "yaxis": {
           "showline": false,
           "visible": true
          }
         },
         "name": "1995"
        },
        {
         "data": [
          {
           "cliponaxis": false,
           "hoverinfo": "all",
           "hovertemplate": "<extra></extra>",
           "marker": {
            "color": [
             "rgb(200, 247, 106)",
             "rgb(52, 195, 207)",
             "rgb(108, 193, 138)",
             "rgb(96, 82, 89)",
             "rgb(184, 170, 80)",
             "rgb(103, 235, 169)",
             "rgb(112, 25, 110)",
             "rgb(223, 124, 21)",
             "rgb(212, 129, 9)",
             "rgb(119, 149, 114)"
            ]
           },
           "orientation": "h",
           "textangle": 0,
           "textposition": "outside",
           "texttemplate": "%{y}<br>%{x:.4s}",
           "type": "bar",
           "x": [
            155017318,
            158373490,
            171922447,
            264461343,
            310493658,
            379294907,
            568658031,
            578616933,
            586146163,
            1218890125
           ],
           "y": [
            "Barley",
            "Cassava",
            "Vegetables, fresh nes",
            "Sugar beet",
            "Potatoes",
            "Rice, paddy (rice milled equivalent)",
            "Rice, paddy",
            "Wheat",
            "Maize",
            "Sugar cane"
           ]
          }
         ],
         "layout": {
          "bargap": 0.15,
          "font": {
           "size": 14
          },
          "plot_bgcolor": "#FFFFFF",
          "xaxis": {
           "range": [
            0,
            1907024730
           ],
           "showline": true,
           "visible": true
          },
          "yaxis": {
           "showline": false,
           "visible": true
          }
         },
         "name": "1996"
        },
        {
         "data": [
          {
           "cliponaxis": false,
           "hoverinfo": "all",
           "hovertemplate": "<extra></extra>",
           "marker": {
            "color": [
             "rgb(200, 247, 106)",
             "rgb(52, 195, 207)",
             "rgb(108, 193, 138)",
             "rgb(96, 82, 89)",
             "rgb(184, 170, 80)",
             "rgb(103, 235, 169)",
             "rgb(112, 25, 110)",
             "rgb(212, 129, 9)",
             "rgb(223, 124, 21)",
             "rgb(119, 149, 114)"
            ]
           },
           "orientation": "h",
           "textangle": 0,
           "textposition": "outside",
           "texttemplate": "%{y}<br>%{x:.4s}",
           "type": "bar",
           "x": [
            154359212,
            161747290,
            175581351,
            267973956,
            301079129,
            384950308,
            577136893,
            584411894,
            614651780,
            1246425310
           ],
           "y": [
            "Barley",
            "Cassava",
            "Vegetables, fresh nes",
            "Sugar beet",
            "Potatoes",
            "Rice, paddy (rice milled equivalent)",
            "Rice, paddy",
            "Maize",
            "Wheat",
            "Sugar cane"
           ]
          }
         ],
         "layout": {
          "bargap": 0.15,
          "font": {
           "size": 14
          },
          "plot_bgcolor": "#FFFFFF",
          "xaxis": {
           "range": [
            0,
            1907024730
           ],
           "showline": true,
           "visible": true
          },
          "yaxis": {
           "showline": false,
           "visible": true
          }
         },
         "name": "1997"
        },
        {
         "data": [
          {
           "cliponaxis": false,
           "hoverinfo": "all",
           "hovertemplate": "<extra></extra>",
           "marker": {
            "color": [
             "rgb(145, 68, 70)",
             "rgb(52, 195, 207)",
             "rgb(108, 193, 138)",
             "rgb(96, 82, 89)",
             "rgb(184, 170, 80)",
             "rgb(103, 235, 169)",
             "rgb(112, 25, 110)",
             "rgb(223, 124, 21)",
             "rgb(212, 129, 9)",
             "rgb(119, 149, 114)"
            ]
           },
           "orientation": "h",
           "textangle": 0,
           "textposition": "outside",
           "texttemplate": "%{y}<br>%{x:.4s}",
           "type": "bar",
           "x": [
            160128822,
            162613417,
            178523814,
            263032522,
            297834904,
            386068923,
            578813977,
            596175815,
            615081853,
            1263674263
           ],
           "y": [
            "Soybeans",
            "Cassava",
            "Vegetables, fresh nes",
            "Sugar beet",
            "Potatoes",
            "Rice, paddy (rice milled equivalent)",
            "Rice, paddy",
            "Wheat",
            "Maize",
            "Sugar cane"
           ]
          }
         ],
         "layout": {
          "bargap": 0.15,
          "font": {
           "size": 14
          },
          "plot_bgcolor": "#FFFFFF",
          "xaxis": {
           "range": [
            0,
            1907024730
           ],
           "showline": true,
           "visible": true
          },
          "yaxis": {
           "showline": false,
           "visible": true
          }
         },
         "name": "1998"
        },
        {
         "data": [
          {
           "cliponaxis": false,
           "hoverinfo": "all",
           "hovertemplate": "<extra></extra>",
           "marker": {
            "color": [
             "rgb(145, 68, 70)",
             "rgb(52, 195, 207)",
             "rgb(108, 193, 138)",
             "rgb(96, 82, 89)",
             "rgb(184, 170, 80)",
             "rgb(103, 235, 169)",
             "rgb(223, 124, 21)",
             "rgb(212, 129, 9)",
             "rgb(112, 25, 110)",
             "rgb(119, 149, 114)"
            ]
           },
           "orientation": "h",
           "textangle": 0,
           "textposition": "outside",
           "texttemplate": "%{y}<br>%{x:.4s}",
           "type": "bar",
           "x": [
            157815479,
            168847321,
            188064527,
            260565420,
            296076184,
            407655445,
            584763438,
            607434709,
            611177579,
            1282128475
           ],
           "y": [
            "Soybeans",
            "Cassava",
            "Vegetables, fresh nes",
            "Sugar beet",
            "Potatoes",
            "Rice, paddy (rice milled equivalent)",
            "Wheat",
            "Maize",
            "Rice, paddy",
            "Sugar cane"
           ]
          }
         ],
         "layout": {
          "bargap": 0.15,
          "font": {
           "size": 14
          },
          "plot_bgcolor": "#FFFFFF",
          "xaxis": {
           "range": [
            0,
            1907024730
           ],
           "showline": true,
           "visible": true
          },
          "yaxis": {
           "showline": false,
           "visible": true
          }
         },
         "name": "1999"
        },
        {
         "data": [
          {
           "cliponaxis": false,
           "hoverinfo": "all",
           "hovertemplate": "<extra></extra>",
           "marker": {
            "color": [
             "rgb(145, 68, 70)",
             "rgb(52, 195, 207)",
             "rgb(108, 193, 138)",
             "rgb(96, 82, 89)",
             "rgb(184, 170, 80)",
             "rgb(103, 235, 169)",
             "rgb(223, 124, 21)",
             "rgb(212, 129, 9)",
             "rgb(112, 25, 110)",
             "rgb(119, 149, 114)"
            ]
           },
           "orientation": "h",
           "textangle": 0,
           "textposition": "outside",
           "texttemplate": "%{y}<br>%{x:.4s}",
           "type": "bar",
           "x": [
            161308383,
            175846840,
            211610549,
            250148505,
            322775223,
            399311670,
            584999160,
            592038698,
            598668171,
            1252668856
           ],
           "y": [
            "Soybeans",
            "Cassava",
            "Vegetables, fresh nes",
            "Sugar beet",
            "Potatoes",
            "Rice, paddy (rice milled equivalent)",
            "Wheat",
            "Maize",
            "Rice, paddy",
            "Sugar cane"
           ]
          }
         ],
         "layout": {
          "bargap": 0.15,
          "font": {
           "size": 14
          },
          "plot_bgcolor": "#FFFFFF",
          "xaxis": {
           "range": [
            0,
            1907024730
           ],
           "showline": true,
           "visible": true
          },
          "yaxis": {
           "showline": false,
           "visible": true
          }
         },
         "name": "2000"
        },
        {
         "data": [
          {
           "cliponaxis": false,
           "hoverinfo": "all",
           "hovertemplate": "<extra></extra>",
           "marker": {
            "color": [
             "rgb(145, 68, 70)",
             "rgb(52, 195, 207)",
             "rgb(108, 193, 138)",
             "rgb(96, 82, 89)",
             "rgb(184, 170, 80)",
             "rgb(103, 235, 169)",
             "rgb(223, 124, 21)",
             "rgb(112, 25, 110)",
             "rgb(212, 129, 9)",
             "rgb(119, 149, 114)"
            ]
           },
           "orientation": "h",
           "textangle": 0,
           "textposition": "outside",
           "texttemplate": "%{y}<br>%{x:.4s}",
           "type": "bar",
           "x": [
            177020743,
            181687057,
            227180655,
            230314950,
            305492291,
            400364493,
            588243664,
            600246617,
            615152413,
            1257665353
           ],
           "y": [
            "Soybeans",
            "Cassava",
            "Vegetables, fresh nes",
            "Sugar beet",
            "Potatoes",
            "Rice, paddy (rice milled equivalent)",
            "Wheat",
            "Rice, paddy",
            "Maize",
            "Sugar cane"
           ]
          }
         ],
         "layout": {
          "bargap": 0.15,
          "font": {
           "size": 14
          },
          "plot_bgcolor": "#FFFFFF",
          "xaxis": {
           "range": [
            0,
            1907024730
           ],
           "showline": true,
           "visible": true
          },
          "yaxis": {
           "showline": false,
           "visible": true
          }
         },
         "name": "2001"
        },
        {
         "data": [
          {
           "cliponaxis": false,
           "hoverinfo": "all",
           "hovertemplate": "<extra></extra>",
           "marker": {
            "color": [
             "rgb(145, 68, 70)",
             "rgb(52, 195, 207)",
             "rgb(108, 193, 138)",
             "rgb(96, 82, 89)",
             "rgb(184, 170, 80)",
             "rgb(103, 235, 169)",
             "rgb(112, 25, 110)",
             "rgb(223, 124, 21)",
             "rgb(212, 129, 9)",
             "rgb(119, 149, 114)"
            ]
           },
           "orientation": "h",
           "textangle": 0,
           "textposition": "outside",
           "texttemplate": "%{y}<br>%{x:.4s}",
           "type": "bar",
           "x": [
            180950733,
            182642727,
            226692031,
            259606962,
            309800226,
            380891169,
            571051228,
            592045286,
            603551954,
            1326773955
           ],
           "y": [
            "Soybeans",
            "Cassava",
            "Vegetables, fresh nes",
            "Sugar beet",
            "Potatoes",
            "Rice, paddy (rice milled equivalent)",
            "Rice, paddy",
            "Wheat",
            "Maize",
            "Sugar cane"
           ]
          }
         ],
         "layout": {
          "bargap": 0.15,
          "font": {
           "size": 14
          },
          "plot_bgcolor": "#FFFFFF",
          "xaxis": {
           "range": [
            0,
            1907024730
           ],
           "showline": true,
           "visible": true
          },
          "yaxis": {
           "showline": false,
           "visible": true
          }
         },
         "name": "2002"
        },
        {
         "data": [
          {
           "cliponaxis": false,
           "hoverinfo": "all",
           "hovertemplate": "<extra></extra>",
           "marker": {
            "color": [
             "rgb(145, 68, 70)",
             "rgb(52, 195, 207)",
             "rgb(96, 82, 89)",
             "rgb(108, 193, 138)",
             "rgb(184, 170, 80)",
             "rgb(103, 235, 169)",
             "rgb(223, 124, 21)",
             "rgb(112, 25, 110)",
             "rgb(212, 129, 9)",
             "rgb(119, 149, 114)"
            ]
           },
           "orientation": "h",
           "textangle": 0,
           "textposition": "outside",
           "texttemplate": "%{y}<br>%{x:.4s}",
           "type": "bar",
           "x": [
            190573528,
            192215569,
            232734248,
            237183104,
            307591201,
            391483259,
            549974473,
            586931423,
            645055272,
            1371880978
           ],
           "y": [
            "Soybeans",
            "Cassava",
            "Sugar beet",
            "Vegetables, fresh nes",
            "Potatoes",
            "Rice, paddy (rice milled equivalent)",
            "Wheat",
            "Rice, paddy",
            "Maize",
            "Sugar cane"
           ]
          }
         ],
         "layout": {
          "bargap": 0.15,
          "font": {
           "size": 14
          },
          "plot_bgcolor": "#FFFFFF",
          "xaxis": {
           "range": [
            0,
            1907024730
           ],
           "showline": true,
           "visible": true
          },
          "yaxis": {
           "showline": false,
           "visible": true
          }
         },
         "name": "2003"
        },
        {
         "data": [
          {
           "cliponaxis": false,
           "hoverinfo": "all",
           "hovertemplate": "<extra></extra>",
           "marker": {
            "color": [
             "rgb(52, 195, 207)",
             "rgb(145, 68, 70)",
             "rgb(108, 193, 138)",
             "rgb(96, 82, 89)",
             "rgb(184, 170, 80)",
             "rgb(103, 235, 169)",
             "rgb(112, 25, 110)",
             "rgb(223, 124, 21)",
             "rgb(212, 129, 9)",
             "rgb(119, 149, 114)"
            ]
           },
           "orientation": "h",
           "textangle": 0,
           "textposition": "outside",
           "texttemplate": "%{y}<br>%{x:.4s}",
           "type": "bar",
           "x": [
            203831956,
            205548134,
            224325418,
            251589379,
            328165612,
            405101582,
            607348698,
            634666010,
            729517951,
            1333138427
           ],
           "y": [
            "Cassava",
            "Soybeans",
            "Vegetables, fresh nes",
            "Sugar beet",
            "Potatoes",
            "Rice, paddy (rice milled equivalent)",
            "Rice, paddy",
            "Wheat",
            "Maize",
            "Sugar cane"
           ]
          }
         ],
         "layout": {
          "bargap": 0.15,
          "font": {
           "size": 14
          },
          "plot_bgcolor": "#FFFFFF",
          "xaxis": {
           "range": [
            0,
            1907024730
           ],
           "showline": true,
           "visible": true
          },
          "yaxis": {
           "showline": false,
           "visible": true
          }
         },
         "name": "2004"
        },
        {
         "data": [
          {
           "cliponaxis": false,
           "hoverinfo": "all",
           "hovertemplate": "<extra></extra>",
           "marker": {
            "color": [
             "rgb(52, 195, 207)",
             "rgb(145, 68, 70)",
             "rgb(108, 193, 138)",
             "rgb(96, 82, 89)",
             "rgb(184, 170, 80)",
             "rgb(103, 235, 169)",
             "rgb(223, 124, 21)",
             "rgb(112, 25, 110)",
             "rgb(212, 129, 9)",
             "rgb(119, 149, 114)"
            ]
           },
           "orientation": "h",
           "textangle": 0,
           "textposition": "outside",
           "texttemplate": "%{y}<br>%{x:.4s}",
           "type": "bar",
           "x": [
            206533771,
            214542761,
            231771630,
            253737449,
            317675179,
            423028136,
            627020836,
            634225091,
            714191174,
            1306307695
           ],
           "y": [
            "Cassava",
            "Soybeans",
            "Vegetables, fresh nes",
            "Sugar beet",
            "Potatoes",
            "Rice, paddy (rice milled equivalent)",
            "Wheat",
            "Rice, paddy",
            "Maize",
            "Sugar cane"
           ]
          }
         ],
         "layout": {
          "bargap": 0.15,
          "font": {
           "size": 14
          },
          "plot_bgcolor": "#FFFFFF",
          "xaxis": {
           "range": [
            0,
            1907024730
           ],
           "showline": true,
           "visible": true
          },
          "yaxis": {
           "showline": false,
           "visible": true
          }
         },
         "name": "2005"
        },
        {
         "data": [
          {
           "cliponaxis": false,
           "hoverinfo": "all",
           "hovertemplate": "<extra></extra>",
           "marker": {
            "color": [
             "rgb(145, 68, 70)",
             "rgb(52, 195, 207)",
             "rgb(108, 193, 138)",
             "rgb(96, 82, 89)",
             "rgb(184, 170, 80)",
             "rgb(103, 235, 169)",
             "rgb(223, 124, 21)",
             "rgb(112, 25, 110)",
             "rgb(212, 129, 9)",
             "rgb(119, 149, 114)"
            ]
           },
           "orientation": "h",
           "textangle": 0,
           "textposition": "outside",
           "texttemplate": "%{y}<br>%{x:.4s}",
           "type": "bar",
           "x": [
            221558922,
            223636615,
            241884277,
            254025175,
            307572166,
            427350243,
            614381123,
            640705012,
            707937211,
            1417376025
           ],
           "y": [
            "Soybeans",
            "Cassava",
            "Vegetables, fresh nes",
            "Sugar beet",
            "Potatoes",
            "Rice, paddy (rice milled equivalent)",
            "Wheat",
            "Rice, paddy",
            "Maize",
            "Sugar cane"
           ]
          }
         ],
         "layout": {
          "bargap": 0.15,
          "font": {
           "size": 14
          },
          "plot_bgcolor": "#FFFFFF",
          "xaxis": {
           "range": [
            0,
            1907024730
           ],
           "showline": true,
           "visible": true
          },
          "yaxis": {
           "showline": false,
           "visible": true
          }
         },
         "name": "2006"
        },
        {
         "data": [
          {
           "cliponaxis": false,
           "hoverinfo": "all",
           "hovertemplate": "<extra></extra>",
           "marker": {
            "color": [
             "rgb(145, 68, 70)",
             "rgb(52, 195, 207)",
             "rgb(108, 193, 138)",
             "rgb(96, 82, 89)",
             "rgb(184, 170, 80)",
             "rgb(103, 235, 169)",
             "rgb(223, 124, 21)",
             "rgb(112, 25, 110)",
             "rgb(212, 129, 9)",
             "rgb(119, 149, 114)"
            ]
           },
           "orientation": "h",
           "textangle": 0,
           "textposition": "outside",
           "texttemplate": "%{y}<br>%{x:.4s}",
           "type": "bar",
           "x": [
            219793075,
            226974274,
            244610984,
            246945604,
            313191368,
            437923034,
            606595140,
            656556273,
            792732888,
            1605136205
           ],
           "y": [
            "Soybeans",
            "Cassava",
            "Vegetables, fresh nes",
            "Sugar beet",
            "Potatoes",
            "Rice, paddy (rice milled equivalent)",
            "Wheat",
            "Rice, paddy",
            "Maize",
            "Sugar cane"
           ]
          }
         ],
         "layout": {
          "bargap": 0.15,
          "font": {
           "size": 14
          },
          "plot_bgcolor": "#FFFFFF",
          "xaxis": {
           "range": [
            0,
            1907024730
           ],
           "showline": true,
           "visible": true
          },
          "yaxis": {
           "showline": false,
           "visible": true
          }
         },
         "name": "2007"
        },
        {
         "data": [
          {
           "cliponaxis": false,
           "hoverinfo": "all",
           "hovertemplate": "<extra></extra>",
           "marker": {
            "color": [
             "rgb(96, 82, 89)",
             "rgb(52, 195, 207)",
             "rgb(145, 68, 70)",
             "rgb(108, 193, 138)",
             "rgb(184, 170, 80)",
             "rgb(103, 235, 169)",
             "rgb(223, 124, 21)",
             "rgb(112, 25, 110)",
             "rgb(212, 129, 9)",
             "rgb(119, 149, 114)"
            ]
           },
           "orientation": "h",
           "textangle": 0,
           "textposition": "outside",
           "texttemplate": "%{y}<br>%{x:.4s}",
           "type": "bar",
           "x": [
            221199239,
            230081674,
            231223485,
            249305237,
            327188473,
            458262606,
            680294443,
            687050383,
            829240208,
            1721251508
           ],
           "y": [
            "Sugar beet",
            "Cassava",
            "Soybeans",
            "Vegetables, fresh nes",
            "Potatoes",
            "Rice, paddy (rice milled equivalent)",
            "Wheat",
            "Rice, paddy",
            "Maize",
            "Sugar cane"
           ]
          }
         ],
         "layout": {
          "bargap": 0.15,
          "font": {
           "size": 14
          },
          "plot_bgcolor": "#FFFFFF",
          "xaxis": {
           "range": [
            0,
            1907024730
           ],
           "showline": true,
           "visible": true
          },
          "yaxis": {
           "showline": false,
           "visible": true
          }
         },
         "name": "2008"
        },
        {
         "data": [
          {
           "cliponaxis": false,
           "hoverinfo": "all",
           "hovertemplate": "<extra></extra>",
           "marker": {
            "color": [
             "rgb(145, 68, 70)",
             "rgb(96, 82, 89)",
             "rgb(52, 195, 207)",
             "rgb(108, 193, 138)",
             "rgb(184, 170, 80)",
             "rgb(103, 235, 169)",
             "rgb(223, 124, 21)",
             "rgb(112, 25, 110)",
             "rgb(212, 129, 9)",
             "rgb(119, 149, 114)"
            ]
           },
           "orientation": "h",
           "textangle": 0,
           "textposition": "outside",
           "texttemplate": "%{y}<br>%{x:.4s}",
           "type": "bar",
           "x": [
            223380802,
            227985771,
            233794346,
            248581509,
            330740148,
            457333039,
            683639171,
            685656731,
            820072448,
            1677610596
           ],
           "y": [
            "Soybeans",
            "Sugar beet",
            "Cassava",
            "Vegetables, fresh nes",
            "Potatoes",
            "Rice, paddy (rice milled equivalent)",
            "Wheat",
            "Rice, paddy",
            "Maize",
            "Sugar cane"
           ]
          }
         ],
         "layout": {
          "bargap": 0.15,
          "font": {
           "size": 14
          },
          "plot_bgcolor": "#FFFFFF",
          "xaxis": {
           "range": [
            0,
            1907024730
           ],
           "showline": true,
           "visible": true
          },
          "yaxis": {
           "showline": false,
           "visible": true
          }
         },
         "name": "2009"
        },
        {
         "data": [
          {
           "cliponaxis": false,
           "hoverinfo": "all",
           "hovertemplate": "<extra></extra>",
           "marker": {
            "color": [
             "rgb(96, 82, 89)",
             "rgb(52, 195, 207)",
             "rgb(108, 193, 138)",
             "rgb(145, 68, 70)",
             "rgb(184, 170, 80)",
             "rgb(103, 235, 169)",
             "rgb(223, 124, 21)",
             "rgb(112, 25, 110)",
             "rgb(212, 129, 9)",
             "rgb(119, 149, 114)"
            ]
           },
           "orientation": "h",
           "textangle": 0,
           "textposition": "outside",
           "texttemplate": "%{y}<br>%{x:.4s}",
           "type": "bar",
           "x": [
            228408922,
            239296357,
            259746276,
            265088429,
            328616920,
            467659411,
            640802665,
            701138548,
            851679519,
            1682839957
           ],
           "y": [
            "Sugar beet",
            "Cassava",
            "Vegetables, fresh nes",
            "Soybeans",
            "Potatoes",
            "Rice, paddy (rice milled equivalent)",
            "Wheat",
            "Rice, paddy",
            "Maize",
            "Sugar cane"
           ]
          }
         ],
         "layout": {
          "bargap": 0.15,
          "font": {
           "size": 14
          },
          "plot_bgcolor": "#FFFFFF",
          "xaxis": {
           "range": [
            0,
            1907024730
           ],
           "showline": true,
           "visible": true
          },
          "yaxis": {
           "showline": false,
           "visible": true
          }
         },
         "name": "2010"
        },
        {
         "data": [
          {
           "cliponaxis": false,
           "hoverinfo": "all",
           "hovertemplate": "<extra></extra>",
           "marker": {
            "color": [
             "rgb(52, 195, 207)",
             "rgb(108, 193, 138)",
             "rgb(145, 68, 70)",
             "rgb(96, 82, 89)",
             "rgb(184, 170, 80)",
             "rgb(103, 235, 169)",
             "rgb(223, 124, 21)",
             "rgb(112, 25, 110)",
             "rgb(212, 129, 9)",
             "rgb(119, 149, 114)"
            ]
           },
           "orientation": "h",
           "textangle": 0,
           "textposition": "outside",
           "texttemplate": "%{y}<br>%{x:.4s}",
           "type": "bar",
           "x": [
            251822205,
            260842101,
            261601653,
            278833260,
            367889898,
            484492968,
            696898368,
            726376264,
            886680581,
            1794120501
           ],
           "y": [
            "Cassava",
            "Vegetables, fresh nes",
            "Soybeans",
            "Sugar beet",
            "Potatoes",
            "Rice, paddy (rice milled equivalent)",
            "Wheat",
            "Rice, paddy",
            "Maize",
            "Sugar cane"
           ]
          }
         ],
         "layout": {
          "bargap": 0.15,
          "font": {
           "size": 14
          },
          "plot_bgcolor": "#FFFFFF",
          "xaxis": {
           "range": [
            0,
            1907024730
           ],
           "showline": true,
           "visible": true
          },
          "yaxis": {
           "showline": false,
           "visible": true
          }
         },
         "name": "2011"
        },
        {
         "data": [
          {
           "cliponaxis": false,
           "hoverinfo": "all",
           "hovertemplate": "<extra></extra>",
           "marker": {
            "color": [
             "rgb(186, 67, 134)",
             "rgb(96, 82, 89)",
             "rgb(108, 193, 138)",
             "rgb(52, 195, 207)",
             "rgb(184, 170, 80)",
             "rgb(103, 235, 169)",
             "rgb(223, 124, 21)",
             "rgb(112, 25, 110)",
             "rgb(212, 129, 9)",
             "rgb(119, 149, 114)"
            ]
           },
           "orientation": "h",
           "textangle": 0,
           "textposition": "outside",
           "texttemplate": "%{y}<br>%{x:.4s}",
           "type": "bar",
           "x": [
            256568919,
            269637113,
            272044780,
            277683210,
            361003266,
            491310036,
            673728907,
            736596755,
            875039160,
            1831008220
           ],
           "y": [
            "Oil palm fruit",
            "Sugar beet",
            "Vegetables, fresh nes",
            "Cassava",
            "Potatoes",
            "Rice, paddy (rice milled equivalent)",
            "Wheat",
            "Rice, paddy",
            "Maize",
            "Sugar cane"
           ]
          }
         ],
         "layout": {
          "bargap": 0.15,
          "font": {
           "size": 14
          },
          "plot_bgcolor": "#FFFFFF",
          "xaxis": {
           "range": [
            0,
            1907024730
           ],
           "showline": true,
           "visible": true
          },
          "yaxis": {
           "showline": false,
           "visible": true
          }
         },
         "name": "2012"
        },
        {
         "data": [
          {
           "cliponaxis": false,
           "hoverinfo": "all",
           "hovertemplate": "<extra></extra>",
           "marker": {
            "color": [
             "rgb(186, 67, 134)",
             "rgb(145, 68, 70)",
             "rgb(108, 193, 138)",
             "rgb(52, 195, 207)",
             "rgb(184, 170, 80)",
             "rgb(103, 235, 169)",
             "rgb(223, 124, 21)",
             "rgb(112, 25, 110)",
             "rgb(212, 129, 9)",
             "rgb(119, 149, 114)"
            ]
           },
           "orientation": "h",
           "textangle": 0,
           "textposition": "outside",
           "texttemplate": "%{y}<br>%{x:.4s}",
           "type": "bar",
           "x": [
            265060825,
            277672608,
            277982471,
            278454322,
            365087514,
            495250794,
            710397103,
            742504938,
            1016207182,
            1901868866
           ],
           "y": [
            "Oil palm fruit",
            "Soybeans",
            "Vegetables, fresh nes",
            "Cassava",
            "Potatoes",
            "Rice, paddy (rice milled equivalent)",
            "Wheat",
            "Rice, paddy",
            "Maize",
            "Sugar cane"
           ]
          }
         ],
         "layout": {
          "bargap": 0.15,
          "font": {
           "size": 14
          },
          "plot_bgcolor": "#FFFFFF",
          "xaxis": {
           "range": [
            0,
            1907024730
           ],
           "showline": true,
           "visible": true
          },
          "yaxis": {
           "showline": false,
           "visible": true
          }
         },
         "name": "2013"
        },
        {
         "data": [
          {
           "cliponaxis": false,
           "hoverinfo": "all",
           "hovertemplate": "<extra></extra>",
           "marker": {
            "color": [
             "rgb(108, 193, 138)",
             "rgb(186, 67, 134)",
             "rgb(52, 195, 207)",
             "rgb(145, 68, 70)",
             "rgb(184, 170, 80)",
             "rgb(103, 235, 169)",
             "rgb(223, 124, 21)",
             "rgb(112, 25, 110)",
             "rgb(212, 129, 9)",
             "rgb(119, 149, 114)"
            ]
           },
           "orientation": "h",
           "textangle": 0,
           "textposition": "outside",
           "texttemplate": "%{y}<br>%{x:.4s}",
           "type": "bar",
           "x": [
            285693443,
            285916764,
            290942989,
            306348530,
            369966532,
            495216917,
            728730126,
            742454148,
            1039226655,
            1885955643
           ],
           "y": [
            "Vegetables, fresh nes",
            "Oil palm fruit",
            "Cassava",
            "Soybeans",
            "Potatoes",
            "Rice, paddy (rice milled equivalent)",
            "Wheat",
            "Rice, paddy",
            "Maize",
            "Sugar cane"
           ]
          }
         ],
         "layout": {
          "bargap": 0.15,
          "font": {
           "size": 14
          },
          "plot_bgcolor": "#FFFFFF",
          "xaxis": {
           "range": [
            0,
            1907024730
           ],
           "showline": true,
           "visible": true
          },
          "yaxis": {
           "showline": false,
           "visible": true
          }
         },
         "name": "2014"
        },
        {
         "data": [
          {
           "cliponaxis": false,
           "hoverinfo": "all",
           "hovertemplate": "<extra></extra>",
           "marker": {
            "color": [
             "rgb(108, 193, 138)",
             "rgb(52, 195, 207)",
             "rgb(186, 67, 134)",
             "rgb(145, 68, 70)",
             "rgb(184, 170, 80)",
             "rgb(103, 235, 169)",
             "rgb(223, 124, 21)",
             "rgb(112, 25, 110)",
             "rgb(212, 129, 9)",
             "rgb(119, 149, 114)"
            ]
           },
           "orientation": "h",
           "textangle": 0,
           "textposition": "outside",
           "texttemplate": "%{y}<br>%{x:.4s}",
           "type": "bar",
           "x": [
            288931169,
            293010305,
            300284643,
            323306702,
            365748227,
            497518927,
            741643258,
            745905437,
            1052127378,
            1875060932
           ],
           "y": [
            "Vegetables, fresh nes",
            "Cassava",
            "Oil palm fruit",
            "Soybeans",
            "Potatoes",
            "Rice, paddy (rice milled equivalent)",
            "Wheat",
            "Rice, paddy",
            "Maize",
            "Sugar cane"
           ]
          }
         ],
         "layout": {
          "bargap": 0.15,
          "font": {
           "size": 14
          },
          "plot_bgcolor": "#FFFFFF",
          "xaxis": {
           "range": [
            0,
            1907024730
           ],
           "showline": true,
           "visible": true
          },
          "yaxis": {
           "showline": false,
           "visible": true
          }
         },
         "name": "2015"
        },
        {
         "data": [
          {
           "cliponaxis": false,
           "hoverinfo": "all",
           "hovertemplate": "<extra></extra>",
           "marker": {
            "color": [
             "rgb(96, 82, 89)",
             "rgb(52, 195, 207)",
             "rgb(108, 193, 138)",
             "rgb(145, 68, 70)",
             "rgb(184, 170, 80)",
             "rgb(103, 235, 169)",
             "rgb(223, 124, 21)",
             "rgb(112, 25, 110)",
             "rgb(212, 129, 9)",
             "rgb(119, 149, 114)"
            ]
           },
           "orientation": "h",
           "textangle": 0,
           "textposition": "outside",
           "texttemplate": "%{y}<br>%{x:.4s}",
           "type": "bar",
           "x": [
            278702349,
            288497460,
            292920885,
            335613801,
            356952488,
            501507373,
            748392150,
            751885117,
            1126990585,
            1874611396
           ],
           "y": [
            "Sugar beet",
            "Cassava",
            "Vegetables, fresh nes",
            "Soybeans",
            "Potatoes",
            "Rice, paddy (rice milled equivalent)",
            "Wheat",
            "Rice, paddy",
            "Maize",
            "Sugar cane"
           ]
          }
         ],
         "layout": {
          "bargap": 0.15,
          "font": {
           "size": 14
          },
          "plot_bgcolor": "#FFFFFF",
          "xaxis": {
           "range": [
            0,
            1907024730
           ],
           "showline": true,
           "visible": true
          },
          "yaxis": {
           "showline": false,
           "visible": true
          }
         },
         "name": "2016"
        },
        {
         "data": [
          {
           "cliponaxis": false,
           "hoverinfo": "all",
           "hovertemplate": "<extra></extra>",
           "marker": {
            "color": [
             "rgb(52, 195, 207)",
             "rgb(108, 193, 138)",
             "rgb(96, 82, 89)",
             "rgb(145, 68, 70)",
             "rgb(184, 170, 80)",
             "rgb(103, 235, 169)",
             "rgb(112, 25, 110)",
             "rgb(223, 124, 21)",
             "rgb(212, 129, 9)",
             "rgb(119, 149, 114)"
            ]
           },
           "orientation": "h",
           "textangle": 0,
           "textposition": "outside",
           "texttemplate": "%{y}<br>%{x:.4s}",
           "type": "bar",
           "x": [
            279304523,
            294934038,
            310374816,
            353026796,
            373774234,
            513476024,
            769829121,
            773476524,
            1164400832,
            1851333716
           ],
           "y": [
            "Cassava",
            "Vegetables, fresh nes",
            "Sugar beet",
            "Soybeans",
            "Potatoes",
            "Rice, paddy (rice milled equivalent)",
            "Rice, paddy",
            "Wheat",
            "Maize",
            "Sugar cane"
           ]
          }
         ],
         "layout": {
          "bargap": 0.15,
          "font": {
           "size": 14
          },
          "plot_bgcolor": "#FFFFFF",
          "xaxis": {
           "range": [
            0,
            1907024730
           ],
           "showline": true,
           "visible": true
          },
          "yaxis": {
           "showline": false,
           "visible": true
          }
         },
         "name": "2017"
        },
        {
         "data": [
          {
           "cliponaxis": false,
           "hoverinfo": "all",
           "hovertemplate": "<extra></extra>",
           "marker": {
            "color": [
             "rgb(96, 82, 89)",
             "rgb(52, 195, 207)",
             "rgb(108, 193, 138)",
             "rgb(145, 68, 70)",
             "rgb(184, 170, 80)",
             "rgb(103, 235, 169)",
             "rgb(223, 124, 21)",
             "rgb(112, 25, 110)",
             "rgb(212, 129, 9)",
             "rgb(119, 149, 114)"
            ]
           },
           "orientation": "h",
           "textangle": 0,
           "textposition": "outside",
           "texttemplate": "%{y}<br>%{x:.4s}",
           "type": "bar",
           "x": [
            274886306,
            277808759,
            297596674,
            348712311,
            368168914,
            521594098,
            734045174,
            782000147,
            1147621938,
            1907024730
           ],
           "y": [
            "Sugar beet",
            "Cassava",
            "Vegetables, fresh nes",
            "Soybeans",
            "Potatoes",
            "Rice, paddy (rice milled equivalent)",
            "Wheat",
            "Rice, paddy",
            "Maize",
            "Sugar cane"
           ]
          }
         ],
         "layout": {
          "bargap": 0.15,
          "font": {
           "size": 14
          },
          "plot_bgcolor": "#FFFFFF",
          "xaxis": {
           "range": [
            0,
            1907024730
           ],
           "showline": true,
           "visible": true
          },
          "yaxis": {
           "showline": false,
           "visible": true
          }
         },
         "name": "2018"
        }
       ],
       "layout": {
        "bargap": 0.15,
        "font": {
         "size": 14
        },
        "plot_bgcolor": "#FFFFFF",
        "sliders": [
         {
          "active": 0,
          "currentvalue": {
           "font": {
            "size": 20
           },
           "prefix": "Date: ",
           "visible": true,
           "xanchor": "right"
          },
          "len": 0.9,
          "pad": {
           "b": 10,
           "t": 50
          },
          "steps": [
           {
            "args": [
             [
              "1961"
             ],
             {
              "frame": {
               "duration": 800,
               "redraw": false
              },
              "mode": "immediate",
              "transition": {
               "duration": 800
              }
             }
            ],
            "label": "1961",
            "method": "animate"
           },
           {
            "args": [
             [
              "1962"
             ],
             {
              "frame": {
               "duration": 800,
               "redraw": false
              },
              "mode": "immediate",
              "transition": {
               "duration": 800
              }
             }
            ],
            "label": "1962",
            "method": "animate"
           },
           {
            "args": [
             [
              "1963"
             ],
             {
              "frame": {
               "duration": 800,
               "redraw": false
              },
              "mode": "immediate",
              "transition": {
               "duration": 800
              }
             }
            ],
            "label": "1963",
            "method": "animate"
           },
           {
            "args": [
             [
              "1964"
             ],
             {
              "frame": {
               "duration": 800,
               "redraw": false
              },
              "mode": "immediate",
              "transition": {
               "duration": 800
              }
             }
            ],
            "label": "1964",
            "method": "animate"
           },
           {
            "args": [
             [
              "1965"
             ],
             {
              "frame": {
               "duration": 800,
               "redraw": false
              },
              "mode": "immediate",
              "transition": {
               "duration": 800
              }
             }
            ],
            "label": "1965",
            "method": "animate"
           },
           {
            "args": [
             [
              "1966"
             ],
             {
              "frame": {
               "duration": 800,
               "redraw": false
              },
              "mode": "immediate",
              "transition": {
               "duration": 800
              }
             }
            ],
            "label": "1966",
            "method": "animate"
           },
           {
            "args": [
             [
              "1967"
             ],
             {
              "frame": {
               "duration": 800,
               "redraw": false
              },
              "mode": "immediate",
              "transition": {
               "duration": 800
              }
             }
            ],
            "label": "1967",
            "method": "animate"
           },
           {
            "args": [
             [
              "1968"
             ],
             {
              "frame": {
               "duration": 800,
               "redraw": false
              },
              "mode": "immediate",
              "transition": {
               "duration": 800
              }
             }
            ],
            "label": "1968",
            "method": "animate"
           },
           {
            "args": [
             [
              "1969"
             ],
             {
              "frame": {
               "duration": 800,
               "redraw": false
              },
              "mode": "immediate",
              "transition": {
               "duration": 800
              }
             }
            ],
            "label": "1969",
            "method": "animate"
           },
           {
            "args": [
             [
              "1970"
             ],
             {
              "frame": {
               "duration": 800,
               "redraw": false
              },
              "mode": "immediate",
              "transition": {
               "duration": 800
              }
             }
            ],
            "label": "1970",
            "method": "animate"
           },
           {
            "args": [
             [
              "1971"
             ],
             {
              "frame": {
               "duration": 800,
               "redraw": false
              },
              "mode": "immediate",
              "transition": {
               "duration": 800
              }
             }
            ],
            "label": "1971",
            "method": "animate"
           },
           {
            "args": [
             [
              "1972"
             ],
             {
              "frame": {
               "duration": 800,
               "redraw": false
              },
              "mode": "immediate",
              "transition": {
               "duration": 800
              }
             }
            ],
            "label": "1972",
            "method": "animate"
           },
           {
            "args": [
             [
              "1973"
             ],
             {
              "frame": {
               "duration": 800,
               "redraw": false
              },
              "mode": "immediate",
              "transition": {
               "duration": 800
              }
             }
            ],
            "label": "1973",
            "method": "animate"
           },
           {
            "args": [
             [
              "1974"
             ],
             {
              "frame": {
               "duration": 800,
               "redraw": false
              },
              "mode": "immediate",
              "transition": {
               "duration": 800
              }
             }
            ],
            "label": "1974",
            "method": "animate"
           },
           {
            "args": [
             [
              "1975"
             ],
             {
              "frame": {
               "duration": 800,
               "redraw": false
              },
              "mode": "immediate",
              "transition": {
               "duration": 800
              }
             }
            ],
            "label": "1975",
            "method": "animate"
           },
           {
            "args": [
             [
              "1976"
             ],
             {
              "frame": {
               "duration": 800,
               "redraw": false
              },
              "mode": "immediate",
              "transition": {
               "duration": 800
              }
             }
            ],
            "label": "1976",
            "method": "animate"
           },
           {
            "args": [
             [
              "1977"
             ],
             {
              "frame": {
               "duration": 800,
               "redraw": false
              },
              "mode": "immediate",
              "transition": {
               "duration": 800
              }
             }
            ],
            "label": "1977",
            "method": "animate"
           },
           {
            "args": [
             [
              "1978"
             ],
             {
              "frame": {
               "duration": 800,
               "redraw": false
              },
              "mode": "immediate",
              "transition": {
               "duration": 800
              }
             }
            ],
            "label": "1978",
            "method": "animate"
           },
           {
            "args": [
             [
              "1979"
             ],
             {
              "frame": {
               "duration": 800,
               "redraw": false
              },
              "mode": "immediate",
              "transition": {
               "duration": 800
              }
             }
            ],
            "label": "1979",
            "method": "animate"
           },
           {
            "args": [
             [
              "1980"
             ],
             {
              "frame": {
               "duration": 800,
               "redraw": false
              },
              "mode": "immediate",
              "transition": {
               "duration": 800
              }
             }
            ],
            "label": "1980",
            "method": "animate"
           },
           {
            "args": [
             [
              "1981"
             ],
             {
              "frame": {
               "duration": 800,
               "redraw": false
              },
              "mode": "immediate",
              "transition": {
               "duration": 800
              }
             }
            ],
            "label": "1981",
            "method": "animate"
           },
           {
            "args": [
             [
              "1982"
             ],
             {
              "frame": {
               "duration": 800,
               "redraw": false
              },
              "mode": "immediate",
              "transition": {
               "duration": 800
              }
             }
            ],
            "label": "1982",
            "method": "animate"
           },
           {
            "args": [
             [
              "1983"
             ],
             {
              "frame": {
               "duration": 800,
               "redraw": false
              },
              "mode": "immediate",
              "transition": {
               "duration": 800
              }
             }
            ],
            "label": "1983",
            "method": "animate"
           },
           {
            "args": [
             [
              "1984"
             ],
             {
              "frame": {
               "duration": 800,
               "redraw": false
              },
              "mode": "immediate",
              "transition": {
               "duration": 800
              }
             }
            ],
            "label": "1984",
            "method": "animate"
           },
           {
            "args": [
             [
              "1985"
             ],
             {
              "frame": {
               "duration": 800,
               "redraw": false
              },
              "mode": "immediate",
              "transition": {
               "duration": 800
              }
             }
            ],
            "label": "1985",
            "method": "animate"
           },
           {
            "args": [
             [
              "1986"
             ],
             {
              "frame": {
               "duration": 800,
               "redraw": false
              },
              "mode": "immediate",
              "transition": {
               "duration": 800
              }
             }
            ],
            "label": "1986",
            "method": "animate"
           },
           {
            "args": [
             [
              "1987"
             ],
             {
              "frame": {
               "duration": 800,
               "redraw": false
              },
              "mode": "immediate",
              "transition": {
               "duration": 800
              }
             }
            ],
            "label": "1987",
            "method": "animate"
           },
           {
            "args": [
             [
              "1988"
             ],
             {
              "frame": {
               "duration": 800,
               "redraw": false
              },
              "mode": "immediate",
              "transition": {
               "duration": 800
              }
             }
            ],
            "label": "1988",
            "method": "animate"
           },
           {
            "args": [
             [
              "1989"
             ],
             {
              "frame": {
               "duration": 800,
               "redraw": false
              },
              "mode": "immediate",
              "transition": {
               "duration": 800
              }
             }
            ],
            "label": "1989",
            "method": "animate"
           },
           {
            "args": [
             [
              "1990"
             ],
             {
              "frame": {
               "duration": 800,
               "redraw": false
              },
              "mode": "immediate",
              "transition": {
               "duration": 800
              }
             }
            ],
            "label": "1990",
            "method": "animate"
           },
           {
            "args": [
             [
              "1991"
             ],
             {
              "frame": {
               "duration": 800,
               "redraw": false
              },
              "mode": "immediate",
              "transition": {
               "duration": 800
              }
             }
            ],
            "label": "1991",
            "method": "animate"
           },
           {
            "args": [
             [
              "1992"
             ],
             {
              "frame": {
               "duration": 800,
               "redraw": false
              },
              "mode": "immediate",
              "transition": {
               "duration": 800
              }
             }
            ],
            "label": "1992",
            "method": "animate"
           },
           {
            "args": [
             [
              "1993"
             ],
             {
              "frame": {
               "duration": 800,
               "redraw": false
              },
              "mode": "immediate",
              "transition": {
               "duration": 800
              }
             }
            ],
            "label": "1993",
            "method": "animate"
           },
           {
            "args": [
             [
              "1994"
             ],
             {
              "frame": {
               "duration": 800,
               "redraw": false
              },
              "mode": "immediate",
              "transition": {
               "duration": 800
              }
             }
            ],
            "label": "1994",
            "method": "animate"
           },
           {
            "args": [
             [
              "1995"
             ],
             {
              "frame": {
               "duration": 800,
               "redraw": false
              },
              "mode": "immediate",
              "transition": {
               "duration": 800
              }
             }
            ],
            "label": "1995",
            "method": "animate"
           },
           {
            "args": [
             [
              "1996"
             ],
             {
              "frame": {
               "duration": 800,
               "redraw": false
              },
              "mode": "immediate",
              "transition": {
               "duration": 800
              }
             }
            ],
            "label": "1996",
            "method": "animate"
           },
           {
            "args": [
             [
              "1997"
             ],
             {
              "frame": {
               "duration": 800,
               "redraw": false
              },
              "mode": "immediate",
              "transition": {
               "duration": 800
              }
             }
            ],
            "label": "1997",
            "method": "animate"
           },
           {
            "args": [
             [
              "1998"
             ],
             {
              "frame": {
               "duration": 800,
               "redraw": false
              },
              "mode": "immediate",
              "transition": {
               "duration": 800
              }
             }
            ],
            "label": "1998",
            "method": "animate"
           },
           {
            "args": [
             [
              "1999"
             ],
             {
              "frame": {
               "duration": 800,
               "redraw": false
              },
              "mode": "immediate",
              "transition": {
               "duration": 800
              }
             }
            ],
            "label": "1999",
            "method": "animate"
           },
           {
            "args": [
             [
              "2000"
             ],
             {
              "frame": {
               "duration": 800,
               "redraw": false
              },
              "mode": "immediate",
              "transition": {
               "duration": 800
              }
             }
            ],
            "label": "2000",
            "method": "animate"
           },
           {
            "args": [
             [
              "2001"
             ],
             {
              "frame": {
               "duration": 800,
               "redraw": false
              },
              "mode": "immediate",
              "transition": {
               "duration": 800
              }
             }
            ],
            "label": "2001",
            "method": "animate"
           },
           {
            "args": [
             [
              "2002"
             ],
             {
              "frame": {
               "duration": 800,
               "redraw": false
              },
              "mode": "immediate",
              "transition": {
               "duration": 800
              }
             }
            ],
            "label": "2002",
            "method": "animate"
           },
           {
            "args": [
             [
              "2003"
             ],
             {
              "frame": {
               "duration": 800,
               "redraw": false
              },
              "mode": "immediate",
              "transition": {
               "duration": 800
              }
             }
            ],
            "label": "2003",
            "method": "animate"
           },
           {
            "args": [
             [
              "2004"
             ],
             {
              "frame": {
               "duration": 800,
               "redraw": false
              },
              "mode": "immediate",
              "transition": {
               "duration": 800
              }
             }
            ],
            "label": "2004",
            "method": "animate"
           },
           {
            "args": [
             [
              "2005"
             ],
             {
              "frame": {
               "duration": 800,
               "redraw": false
              },
              "mode": "immediate",
              "transition": {
               "duration": 800
              }
             }
            ],
            "label": "2005",
            "method": "animate"
           },
           {
            "args": [
             [
              "2006"
             ],
             {
              "frame": {
               "duration": 800,
               "redraw": false
              },
              "mode": "immediate",
              "transition": {
               "duration": 800
              }
             }
            ],
            "label": "2006",
            "method": "animate"
           },
           {
            "args": [
             [
              "2007"
             ],
             {
              "frame": {
               "duration": 800,
               "redraw": false
              },
              "mode": "immediate",
              "transition": {
               "duration": 800
              }
             }
            ],
            "label": "2007",
            "method": "animate"
           },
           {
            "args": [
             [
              "2008"
             ],
             {
              "frame": {
               "duration": 800,
               "redraw": false
              },
              "mode": "immediate",
              "transition": {
               "duration": 800
              }
             }
            ],
            "label": "2008",
            "method": "animate"
           },
           {
            "args": [
             [
              "2009"
             ],
             {
              "frame": {
               "duration": 800,
               "redraw": false
              },
              "mode": "immediate",
              "transition": {
               "duration": 800
              }
             }
            ],
            "label": "2009",
            "method": "animate"
           },
           {
            "args": [
             [
              "2010"
             ],
             {
              "frame": {
               "duration": 800,
               "redraw": false
              },
              "mode": "immediate",
              "transition": {
               "duration": 800
              }
             }
            ],
            "label": "2010",
            "method": "animate"
           },
           {
            "args": [
             [
              "2011"
             ],
             {
              "frame": {
               "duration": 800,
               "redraw": false
              },
              "mode": "immediate",
              "transition": {
               "duration": 800
              }
             }
            ],
            "label": "2011",
            "method": "animate"
           },
           {
            "args": [
             [
              "2012"
             ],
             {
              "frame": {
               "duration": 800,
               "redraw": false
              },
              "mode": "immediate",
              "transition": {
               "duration": 800
              }
             }
            ],
            "label": "2012",
            "method": "animate"
           },
           {
            "args": [
             [
              "2013"
             ],
             {
              "frame": {
               "duration": 800,
               "redraw": false
              },
              "mode": "immediate",
              "transition": {
               "duration": 800
              }
             }
            ],
            "label": "2013",
            "method": "animate"
           },
           {
            "args": [
             [
              "2014"
             ],
             {
              "frame": {
               "duration": 800,
               "redraw": false
              },
              "mode": "immediate",
              "transition": {
               "duration": 800
              }
             }
            ],
            "label": "2014",
            "method": "animate"
           },
           {
            "args": [
             [
              "2015"
             ],
             {
              "frame": {
               "duration": 800,
               "redraw": false
              },
              "mode": "immediate",
              "transition": {
               "duration": 800
              }
             }
            ],
            "label": "2015",
            "method": "animate"
           },
           {
            "args": [
             [
              "2016"
             ],
             {
              "frame": {
               "duration": 800,
               "redraw": false
              },
              "mode": "immediate",
              "transition": {
               "duration": 800
              }
             }
            ],
            "label": "2016",
            "method": "animate"
           },
           {
            "args": [
             [
              "2017"
             ],
             {
              "frame": {
               "duration": 800,
               "redraw": false
              },
              "mode": "immediate",
              "transition": {
               "duration": 800
              }
             }
            ],
            "label": "2017",
            "method": "animate"
           },
           {
            "args": [
             [
              "2018"
             ],
             {
              "frame": {
               "duration": 800,
               "redraw": false
              },
              "mode": "immediate",
              "transition": {
               "duration": 800
              }
             }
            ],
            "label": "2018",
            "method": "animate"
           }
          ],
          "transition": {
           "duration": 300,
           "easing": "cubic-in-out"
          },
          "x": 0.1,
          "xanchor": "left",
          "y": 0,
          "yanchor": "top"
         }
        ],
        "template": {
         "data": {
          "bar": [
           {
            "error_x": {
             "color": "#2a3f5f"
            },
            "error_y": {
             "color": "#2a3f5f"
            },
            "marker": {
             "line": {
              "color": "#E5ECF6",
              "width": 0.5
             },
             "pattern": {
              "fillmode": "overlay",
              "size": 10,
              "solidity": 0.2
             }
            },
            "type": "bar"
           }
          ],
          "barpolar": [
           {
            "marker": {
             "line": {
              "color": "#E5ECF6",
              "width": 0.5
             },
             "pattern": {
              "fillmode": "overlay",
              "size": 10,
              "solidity": 0.2
             }
            },
            "type": "barpolar"
           }
          ],
          "carpet": [
           {
            "aaxis": {
             "endlinecolor": "#2a3f5f",
             "gridcolor": "white",
             "linecolor": "white",
             "minorgridcolor": "white",
             "startlinecolor": "#2a3f5f"
            },
            "baxis": {
             "endlinecolor": "#2a3f5f",
             "gridcolor": "white",
             "linecolor": "white",
             "minorgridcolor": "white",
             "startlinecolor": "#2a3f5f"
            },
            "type": "carpet"
           }
          ],
          "choropleth": [
           {
            "colorbar": {
             "outlinewidth": 0,
             "ticks": ""
            },
            "type": "choropleth"
           }
          ],
          "contour": [
           {
            "colorbar": {
             "outlinewidth": 0,
             "ticks": ""
            },
            "colorscale": [
             [
              0,
              "#0d0887"
             ],
             [
              0.1111111111111111,
              "#46039f"
             ],
             [
              0.2222222222222222,
              "#7201a8"
             ],
             [
              0.3333333333333333,
              "#9c179e"
             ],
             [
              0.4444444444444444,
              "#bd3786"
             ],
             [
              0.5555555555555556,
              "#d8576b"
             ],
             [
              0.6666666666666666,
              "#ed7953"
             ],
             [
              0.7777777777777778,
              "#fb9f3a"
             ],
             [
              0.8888888888888888,
              "#fdca26"
             ],
             [
              1,
              "#f0f921"
             ]
            ],
            "type": "contour"
           }
          ],
          "contourcarpet": [
           {
            "colorbar": {
             "outlinewidth": 0,
             "ticks": ""
            },
            "type": "contourcarpet"
           }
          ],
          "heatmap": [
           {
            "colorbar": {
             "outlinewidth": 0,
             "ticks": ""
            },
            "colorscale": [
             [
              0,
              "#0d0887"
             ],
             [
              0.1111111111111111,
              "#46039f"
             ],
             [
              0.2222222222222222,
              "#7201a8"
             ],
             [
              0.3333333333333333,
              "#9c179e"
             ],
             [
              0.4444444444444444,
              "#bd3786"
             ],
             [
              0.5555555555555556,
              "#d8576b"
             ],
             [
              0.6666666666666666,
              "#ed7953"
             ],
             [
              0.7777777777777778,
              "#fb9f3a"
             ],
             [
              0.8888888888888888,
              "#fdca26"
             ],
             [
              1,
              "#f0f921"
             ]
            ],
            "type": "heatmap"
           }
          ],
          "heatmapgl": [
           {
            "colorbar": {
             "outlinewidth": 0,
             "ticks": ""
            },
            "colorscale": [
             [
              0,
              "#0d0887"
             ],
             [
              0.1111111111111111,
              "#46039f"
             ],
             [
              0.2222222222222222,
              "#7201a8"
             ],
             [
              0.3333333333333333,
              "#9c179e"
             ],
             [
              0.4444444444444444,
              "#bd3786"
             ],
             [
              0.5555555555555556,
              "#d8576b"
             ],
             [
              0.6666666666666666,
              "#ed7953"
             ],
             [
              0.7777777777777778,
              "#fb9f3a"
             ],
             [
              0.8888888888888888,
              "#fdca26"
             ],
             [
              1,
              "#f0f921"
             ]
            ],
            "type": "heatmapgl"
           }
          ],
          "histogram": [
           {
            "marker": {
             "pattern": {
              "fillmode": "overlay",
              "size": 10,
              "solidity": 0.2
             }
            },
            "type": "histogram"
           }
          ],
          "histogram2d": [
           {
            "colorbar": {
             "outlinewidth": 0,
             "ticks": ""
            },
            "colorscale": [
             [
              0,
              "#0d0887"
             ],
             [
              0.1111111111111111,
              "#46039f"
             ],
             [
              0.2222222222222222,
              "#7201a8"
             ],
             [
              0.3333333333333333,
              "#9c179e"
             ],
             [
              0.4444444444444444,
              "#bd3786"
             ],
             [
              0.5555555555555556,
              "#d8576b"
             ],
             [
              0.6666666666666666,
              "#ed7953"
             ],
             [
              0.7777777777777778,
              "#fb9f3a"
             ],
             [
              0.8888888888888888,
              "#fdca26"
             ],
             [
              1,
              "#f0f921"
             ]
            ],
            "type": "histogram2d"
           }
          ],
          "histogram2dcontour": [
           {
            "colorbar": {
             "outlinewidth": 0,
             "ticks": ""
            },
            "colorscale": [
             [
              0,
              "#0d0887"
             ],
             [
              0.1111111111111111,
              "#46039f"
             ],
             [
              0.2222222222222222,
              "#7201a8"
             ],
             [
              0.3333333333333333,
              "#9c179e"
             ],
             [
              0.4444444444444444,
              "#bd3786"
             ],
             [
              0.5555555555555556,
              "#d8576b"
             ],
             [
              0.6666666666666666,
              "#ed7953"
             ],
             [
              0.7777777777777778,
              "#fb9f3a"
             ],
             [
              0.8888888888888888,
              "#fdca26"
             ],
             [
              1,
              "#f0f921"
             ]
            ],
            "type": "histogram2dcontour"
           }
          ],
          "mesh3d": [
           {
            "colorbar": {
             "outlinewidth": 0,
             "ticks": ""
            },
            "type": "mesh3d"
           }
          ],
          "parcoords": [
           {
            "line": {
             "colorbar": {
              "outlinewidth": 0,
              "ticks": ""
             }
            },
            "type": "parcoords"
           }
          ],
          "pie": [
           {
            "automargin": true,
            "type": "pie"
           }
          ],
          "scatter": [
           {
            "fillpattern": {
             "fillmode": "overlay",
             "size": 10,
             "solidity": 0.2
            },
            "type": "scatter"
           }
          ],
          "scatter3d": [
           {
            "line": {
             "colorbar": {
              "outlinewidth": 0,
              "ticks": ""
             }
            },
            "marker": {
             "colorbar": {
              "outlinewidth": 0,
              "ticks": ""
             }
            },
            "type": "scatter3d"
           }
          ],
          "scattercarpet": [
           {
            "marker": {
             "colorbar": {
              "outlinewidth": 0,
              "ticks": ""
             }
            },
            "type": "scattercarpet"
           }
          ],
          "scattergeo": [
           {
            "marker": {
             "colorbar": {
              "outlinewidth": 0,
              "ticks": ""
             }
            },
            "type": "scattergeo"
           }
          ],
          "scattergl": [
           {
            "marker": {
             "colorbar": {
              "outlinewidth": 0,
              "ticks": ""
             }
            },
            "type": "scattergl"
           }
          ],
          "scattermapbox": [
           {
            "marker": {
             "colorbar": {
              "outlinewidth": 0,
              "ticks": ""
             }
            },
            "type": "scattermapbox"
           }
          ],
          "scatterpolar": [
           {
            "marker": {
             "colorbar": {
              "outlinewidth": 0,
              "ticks": ""
             }
            },
            "type": "scatterpolar"
           }
          ],
          "scatterpolargl": [
           {
            "marker": {
             "colorbar": {
              "outlinewidth": 0,
              "ticks": ""
             }
            },
            "type": "scatterpolargl"
           }
          ],
          "scatterternary": [
           {
            "marker": {
             "colorbar": {
              "outlinewidth": 0,
              "ticks": ""
             }
            },
            "type": "scatterternary"
           }
          ],
          "surface": [
           {
            "colorbar": {
             "outlinewidth": 0,
             "ticks": ""
            },
            "colorscale": [
             [
              0,
              "#0d0887"
             ],
             [
              0.1111111111111111,
              "#46039f"
             ],
             [
              0.2222222222222222,
              "#7201a8"
             ],
             [
              0.3333333333333333,
              "#9c179e"
             ],
             [
              0.4444444444444444,
              "#bd3786"
             ],
             [
              0.5555555555555556,
              "#d8576b"
             ],
             [
              0.6666666666666666,
              "#ed7953"
             ],
             [
              0.7777777777777778,
              "#fb9f3a"
             ],
             [
              0.8888888888888888,
              "#fdca26"
             ],
             [
              1,
              "#f0f921"
             ]
            ],
            "type": "surface"
           }
          ],
          "table": [
           {
            "cells": {
             "fill": {
              "color": "#EBF0F8"
             },
             "line": {
              "color": "white"
             }
            },
            "header": {
             "fill": {
              "color": "#C8D4E3"
             },
             "line": {
              "color": "white"
             }
            },
            "type": "table"
           }
          ]
         },
         "layout": {
          "annotationdefaults": {
           "arrowcolor": "#2a3f5f",
           "arrowhead": 0,
           "arrowwidth": 1
          },
          "autotypenumbers": "strict",
          "coloraxis": {
           "colorbar": {
            "outlinewidth": 0,
            "ticks": ""
           }
          },
          "colorscale": {
           "diverging": [
            [
             0,
             "#8e0152"
            ],
            [
             0.1,
             "#c51b7d"
            ],
            [
             0.2,
             "#de77ae"
            ],
            [
             0.3,
             "#f1b6da"
            ],
            [
             0.4,
             "#fde0ef"
            ],
            [
             0.5,
             "#f7f7f7"
            ],
            [
             0.6,
             "#e6f5d0"
            ],
            [
             0.7,
             "#b8e186"
            ],
            [
             0.8,
             "#7fbc41"
            ],
            [
             0.9,
             "#4d9221"
            ],
            [
             1,
             "#276419"
            ]
           ],
           "sequential": [
            [
             0,
             "#0d0887"
            ],
            [
             0.1111111111111111,
             "#46039f"
            ],
            [
             0.2222222222222222,
             "#7201a8"
            ],
            [
             0.3333333333333333,
             "#9c179e"
            ],
            [
             0.4444444444444444,
             "#bd3786"
            ],
            [
             0.5555555555555556,
             "#d8576b"
            ],
            [
             0.6666666666666666,
             "#ed7953"
            ],
            [
             0.7777777777777778,
             "#fb9f3a"
            ],
            [
             0.8888888888888888,
             "#fdca26"
            ],
            [
             1,
             "#f0f921"
            ]
           ],
           "sequentialminus": [
            [
             0,
             "#0d0887"
            ],
            [
             0.1111111111111111,
             "#46039f"
            ],
            [
             0.2222222222222222,
             "#7201a8"
            ],
            [
             0.3333333333333333,
             "#9c179e"
            ],
            [
             0.4444444444444444,
             "#bd3786"
            ],
            [
             0.5555555555555556,
             "#d8576b"
            ],
            [
             0.6666666666666666,
             "#ed7953"
            ],
            [
             0.7777777777777778,
             "#fb9f3a"
            ],
            [
             0.8888888888888888,
             "#fdca26"
            ],
            [
             1,
             "#f0f921"
            ]
           ]
          },
          "colorway": [
           "#636efa",
           "#EF553B",
           "#00cc96",
           "#ab63fa",
           "#FFA15A",
           "#19d3f3",
           "#FF6692",
           "#B6E880",
           "#FF97FF",
           "#FECB52"
          ],
          "font": {
           "color": "#2a3f5f"
          },
          "geo": {
           "bgcolor": "white",
           "lakecolor": "white",
           "landcolor": "#E5ECF6",
           "showlakes": true,
           "showland": true,
           "subunitcolor": "white"
          },
          "hoverlabel": {
           "align": "left"
          },
          "hovermode": "closest",
          "mapbox": {
           "style": "light"
          },
          "paper_bgcolor": "white",
          "plot_bgcolor": "#E5ECF6",
          "polar": {
           "angularaxis": {
            "gridcolor": "white",
            "linecolor": "white",
            "ticks": ""
           },
           "bgcolor": "#E5ECF6",
           "radialaxis": {
            "gridcolor": "white",
            "linecolor": "white",
            "ticks": ""
           }
          },
          "scene": {
           "xaxis": {
            "backgroundcolor": "#E5ECF6",
            "gridcolor": "white",
            "gridwidth": 2,
            "linecolor": "white",
            "showbackground": true,
            "ticks": "",
            "zerolinecolor": "white"
           },
           "yaxis": {
            "backgroundcolor": "#E5ECF6",
            "gridcolor": "white",
            "gridwidth": 2,
            "linecolor": "white",
            "showbackground": true,
            "ticks": "",
            "zerolinecolor": "white"
           },
           "zaxis": {
            "backgroundcolor": "#E5ECF6",
            "gridcolor": "white",
            "gridwidth": 2,
            "linecolor": "white",
            "showbackground": true,
            "ticks": "",
            "zerolinecolor": "white"
           }
          },
          "shapedefaults": {
           "line": {
            "color": "#2a3f5f"
           }
          },
          "ternary": {
           "aaxis": {
            "gridcolor": "white",
            "linecolor": "white",
            "ticks": ""
           },
           "baxis": {
            "gridcolor": "white",
            "linecolor": "white",
            "ticks": ""
           },
           "bgcolor": "#E5ECF6",
           "caxis": {
            "gridcolor": "white",
            "linecolor": "white",
            "ticks": ""
           }
          },
          "title": {
           "x": 0.05
          },
          "xaxis": {
           "automargin": true,
           "gridcolor": "white",
           "linecolor": "white",
           "ticks": "",
           "title": {
            "standoff": 15
           },
           "zerolinecolor": "white",
           "zerolinewidth": 2
          },
          "yaxis": {
           "automargin": true,
           "gridcolor": "white",
           "linecolor": "white",
           "ticks": "",
           "title": {
            "standoff": 15
           },
           "zerolinecolor": "white",
           "zerolinewidth": 2
          }
         }
        },
        "updatemenus": [
         {
          "buttons": [
           {
            "args": [
             null,
             {
              "frame": {
               "duration": 800,
               "redraw": false
              },
              "fromcurrent": true,
              "transition": {
               "duration": 800,
               "easing": "quadratic-in-out"
              }
             }
            ],
            "label": "Play",
            "method": "animate"
           },
           {
            "args": [
             [
              null
             ],
             {
              "frame": {
               "duration": 0,
               "redraw": false
              },
              "mode": "immediate",
              "transition": {
               "duration": 0
              }
             }
            ],
            "label": "Pause",
            "method": "animate"
           }
          ],
          "direction": "left",
          "pad": {
           "r": 10,
           "t": 87
          },
          "showactive": true,
          "type": "buttons",
          "x": 0.1,
          "xanchor": "right",
          "y": 0,
          "yanchor": "top"
         }
        ],
        "xaxis": {
         "range": [
          0,
          1907024730
         ],
         "showline": true,
         "showticklabels": true,
         "title": {
          "text": "Production quantity (tonnes)"
         },
         "visible": true
        },
        "yaxis": {
         "showline": false,
         "showticklabels": false,
         "title": {
          "text": "Top 10 crops"
         },
         "visible": true
        }
       }
      }
     },
     "metadata": {},
     "output_type": "display_data"
    }
   ],
   "source": [
    "import pandas as pd\n",
    "from raceplotly.plots import barplot\n",
    "\n",
    "data = pd.read_csv('https://raw.githubusercontent.com/lc5415/raceplotly/main/example/FAOSTAT_data.csv')\n",
    "\n",
    "my_raceplot = barplot(data,  item_column='Item', value_column='Value', time_column='Year')\n",
    "\n",
    "my_raceplot.plot(item_label = 'Top 10 crops', value_label = 'Production quantity (tonnes)', frame_duration = 800)"
   ]
  },
  {
   "cell_type": "code",
   "execution_count": 11,
   "metadata": {},
   "outputs": [],
   "source": [
    "# fig_bar = px.histogram(df, x=\"Driver\", y=\"Time2\", color=\"Driver\",\n",
    "#                  animation_frame=\"LapNumber\", animation_group=\"Driver\", \n",
    "#                  range_y=[0,30000],\n",
    "#                  color_discrete_sequence=px.colors.qualitative.T10)\n",
    "# fig_bar.update_yaxes(showgrid=False),\n",
    "# fig_bar.update_xaxes(categoryorder='total ascending')\n",
    "# fig_bar.update_traces(hovertemplate=None)\n",
    "# fig_bar.update_layout(margin=dict(t=70, b=0, l=70, r=40),\n",
    "#                         hovermode=\"x unified\",\n",
    "#                         xaxis_tickangle=360,\n",
    "#                         xaxis_title=' ', yaxis_title=\" \",\n",
    "#                         plot_bgcolor='#2d3035', paper_bgcolor='#2d3035',\n",
    "#                         title_font=dict(size=25, color='#a5a7ab', family=\"Lato, sans-serif\"),\n",
    "#                         font=dict(color='#8a8d93'),\n",
    "#                         legend=dict(orientation=\"h\", yanchor=\"bottom\", y=1.02, xanchor=\"right\", x=1)\n",
    "#                           )\n",
    "# fig_bar.show()"
   ]
  },
  {
   "cell_type": "code",
   "execution_count": 12,
   "metadata": {},
   "outputs": [],
   "source": [
    "df[\"LapNumber\"] = df[\"LapNumber\"].astype(int)\n",
    "LapNumber = max(df[\"LapNumber\"])"
   ]
  },
  {
   "cell_type": "code",
   "execution_count": 13,
   "metadata": {},
   "outputs": [],
   "source": [
    "df = df[df[\"LapNumber\"] != 0]"
   ]
  },
  {
   "cell_type": "code",
   "execution_count": 14,
   "metadata": {},
   "outputs": [
    {
     "data": {
      "text/html": [
       "<div>\n",
       "<style scoped>\n",
       "    .dataframe tbody tr th:only-of-type {\n",
       "        vertical-align: middle;\n",
       "    }\n",
       "\n",
       "    .dataframe tbody tr th {\n",
       "        vertical-align: top;\n",
       "    }\n",
       "\n",
       "    .dataframe thead th {\n",
       "        text-align: right;\n",
       "    }\n",
       "</style>\n",
       "<table border=\"1\" class=\"dataframe\">\n",
       "  <thead>\n",
       "    <tr style=\"text-align: right;\">\n",
       "      <th></th>\n",
       "      <th>Time</th>\n",
       "      <th>LapNumber</th>\n",
       "      <th>Driver</th>\n",
       "      <th>Time_Diff</th>\n",
       "    </tr>\n",
       "  </thead>\n",
       "  <tbody>\n",
       "    <tr>\n",
       "      <th>0</th>\n",
       "      <td>3834.806</td>\n",
       "      <td>1</td>\n",
       "      <td>VER</td>\n",
       "      <td>0.000</td>\n",
       "    </tr>\n",
       "    <tr>\n",
       "      <th>63</th>\n",
       "      <td>3835.995</td>\n",
       "      <td>1</td>\n",
       "      <td>PER</td>\n",
       "      <td>1.189</td>\n",
       "    </tr>\n",
       "    <tr>\n",
       "      <th>126</th>\n",
       "      <td>3838.123</td>\n",
       "      <td>1</td>\n",
       "      <td>NOR</td>\n",
       "      <td>3.317</td>\n",
       "    </tr>\n",
       "    <tr>\n",
       "      <th>189</th>\n",
       "      <td>3843.199</td>\n",
       "      <td>1</td>\n",
       "      <td>RUS</td>\n",
       "      <td>8.393</td>\n",
       "    </tr>\n",
       "    <tr>\n",
       "      <th>252</th>\n",
       "      <td>3844.461</td>\n",
       "      <td>1</td>\n",
       "      <td>BOT</td>\n",
       "      <td>9.655</td>\n",
       "    </tr>\n",
       "  </tbody>\n",
       "</table>\n",
       "</div>"
      ],
      "text/plain": [
       "         Time  LapNumber Driver  Time_Diff\n",
       "0    3834.806          1    VER      0.000\n",
       "63   3835.995          1    PER      1.189\n",
       "126  3838.123          1    NOR      3.317\n",
       "189  3843.199          1    RUS      8.393\n",
       "252  3844.461          1    BOT      9.655"
      ]
     },
     "metadata": {},
     "output_type": "display_data"
    },
    {
     "data": {
      "text/html": [
       "<div>\n",
       "<style scoped>\n",
       "    .dataframe tbody tr th:only-of-type {\n",
       "        vertical-align: middle;\n",
       "    }\n",
       "\n",
       "    .dataframe tbody tr th {\n",
       "        vertical-align: top;\n",
       "    }\n",
       "\n",
       "    .dataframe thead th {\n",
       "        text-align: right;\n",
       "    }\n",
       "</style>\n",
       "<table border=\"1\" class=\"dataframe\">\n",
       "  <thead>\n",
       "    <tr style=\"text-align: right;\">\n",
       "      <th>Driver</th>\n",
       "      <th>ALB</th>\n",
       "      <th>ALO</th>\n",
       "      <th>BOT</th>\n",
       "      <th>GAS</th>\n",
       "      <th>HAM</th>\n",
       "      <th>LAT</th>\n",
       "      <th>LEC</th>\n",
       "      <th>MAG</th>\n",
       "      <th>MSC</th>\n",
       "      <th>NOR</th>\n",
       "      <th>OCO</th>\n",
       "      <th>PER</th>\n",
       "      <th>RIC</th>\n",
       "      <th>RUS</th>\n",
       "      <th>STR</th>\n",
       "      <th>TSU</th>\n",
       "      <th>VER</th>\n",
       "      <th>VET</th>\n",
       "      <th>ZHO</th>\n",
       "    </tr>\n",
       "    <tr>\n",
       "      <th>LapNumber</th>\n",
       "      <th></th>\n",
       "      <th></th>\n",
       "      <th></th>\n",
       "      <th></th>\n",
       "      <th></th>\n",
       "      <th></th>\n",
       "      <th></th>\n",
       "      <th></th>\n",
       "      <th></th>\n",
       "      <th></th>\n",
       "      <th></th>\n",
       "      <th></th>\n",
       "      <th></th>\n",
       "      <th></th>\n",
       "      <th></th>\n",
       "      <th></th>\n",
       "      <th></th>\n",
       "      <th></th>\n",
       "      <th></th>\n",
       "    </tr>\n",
       "  </thead>\n",
       "  <tbody>\n",
       "    <tr>\n",
       "      <th>1</th>\n",
       "      <td>21.615</td>\n",
       "      <td>11.305</td>\n",
       "      <td>9.655</td>\n",
       "      <td>20.360</td>\n",
       "      <td>18.143</td>\n",
       "      <td>23.088</td>\n",
       "      <td>4.629</td>\n",
       "      <td>6.161</td>\n",
       "      <td>24.268</td>\n",
       "      <td>3.317</td>\n",
       "      <td>19.253</td>\n",
       "      <td>1.189</td>\n",
       "      <td>28.146</td>\n",
       "      <td>8.393</td>\n",
       "      <td>16.370</td>\n",
       "      <td>14.320</td>\n",
       "      <td>0.0</td>\n",
       "      <td>12.802</td>\n",
       "      <td>27.185</td>\n",
       "    </tr>\n",
       "    <tr>\n",
       "      <th>2</th>\n",
       "      <td>25.648</td>\n",
       "      <td>11.679</td>\n",
       "      <td>10.599</td>\n",
       "      <td>25.153</td>\n",
       "      <td>21.793</td>\n",
       "      <td>27.854</td>\n",
       "      <td>5.148</td>\n",
       "      <td>6.993</td>\n",
       "      <td>28.580</td>\n",
       "      <td>3.693</td>\n",
       "      <td>22.862</td>\n",
       "      <td>1.196</td>\n",
       "      <td>32.308</td>\n",
       "      <td>9.052</td>\n",
       "      <td>18.743</td>\n",
       "      <td>16.147</td>\n",
       "      <td>0.0</td>\n",
       "      <td>14.360</td>\n",
       "      <td>29.599</td>\n",
       "    </tr>\n",
       "    <tr>\n",
       "      <th>3</th>\n",
       "      <td>24.702</td>\n",
       "      <td>14.223</td>\n",
       "      <td>13.019</td>\n",
       "      <td>24.315</td>\n",
       "      <td>21.220</td>\n",
       "      <td>26.934</td>\n",
       "      <td>7.920</td>\n",
       "      <td>9.274</td>\n",
       "      <td>27.535</td>\n",
       "      <td>5.551</td>\n",
       "      <td>22.751</td>\n",
       "      <td>2.506</td>\n",
       "      <td>29.586</td>\n",
       "      <td>11.089</td>\n",
       "      <td>19.970</td>\n",
       "      <td>18.035</td>\n",
       "      <td>0.0</td>\n",
       "      <td>16.593</td>\n",
       "      <td>28.167</td>\n",
       "    </tr>\n",
       "    <tr>\n",
       "      <th>4</th>\n",
       "      <td>6.654</td>\n",
       "      <td>3.764</td>\n",
       "      <td>3.304</td>\n",
       "      <td>6.045</td>\n",
       "      <td>5.357</td>\n",
       "      <td>7.269</td>\n",
       "      <td>1.641</td>\n",
       "      <td>2.083</td>\n",
       "      <td>7.534</td>\n",
       "      <td>1.275</td>\n",
       "      <td>5.778</td>\n",
       "      <td>0.509</td>\n",
       "      <td>8.661</td>\n",
       "      <td>2.457</td>\n",
       "      <td>5.201</td>\n",
       "      <td>4.335</td>\n",
       "      <td>0.0</td>\n",
       "      <td>4.149</td>\n",
       "      <td>8.386</td>\n",
       "    </tr>\n",
       "    <tr>\n",
       "      <th>5</th>\n",
       "      <td>13.689</td>\n",
       "      <td>11.999</td>\n",
       "      <td>7.640</td>\n",
       "      <td>13.038</td>\n",
       "      <td>12.241</td>\n",
       "      <td>14.285</td>\n",
       "      <td>3.783</td>\n",
       "      <td>5.023</td>\n",
       "      <td>14.793</td>\n",
       "      <td>3.220</td>\n",
       "      <td>12.740</td>\n",
       "      <td>1.768</td>\n",
       "      <td>15.897</td>\n",
       "      <td>6.391</td>\n",
       "      <td>10.831</td>\n",
       "      <td>9.469</td>\n",
       "      <td>0.0</td>\n",
       "      <td>9.029</td>\n",
       "      <td>15.393</td>\n",
       "    </tr>\n",
       "  </tbody>\n",
       "</table>\n",
       "</div>"
      ],
      "text/plain": [
       "Driver        ALB     ALO     BOT     GAS     HAM     LAT    LEC    MAG  \\\n",
       "LapNumber                                                                 \n",
       "1          21.615  11.305   9.655  20.360  18.143  23.088  4.629  6.161   \n",
       "2          25.648  11.679  10.599  25.153  21.793  27.854  5.148  6.993   \n",
       "3          24.702  14.223  13.019  24.315  21.220  26.934  7.920  9.274   \n",
       "4           6.654   3.764   3.304   6.045   5.357   7.269  1.641  2.083   \n",
       "5          13.689  11.999   7.640  13.038  12.241  14.285  3.783  5.023   \n",
       "\n",
       "Driver        MSC    NOR     OCO    PER     RIC     RUS     STR     TSU  VER  \\\n",
       "LapNumber                                                                      \n",
       "1          24.268  3.317  19.253  1.189  28.146   8.393  16.370  14.320  0.0   \n",
       "2          28.580  3.693  22.862  1.196  32.308   9.052  18.743  16.147  0.0   \n",
       "3          27.535  5.551  22.751  2.506  29.586  11.089  19.970  18.035  0.0   \n",
       "4           7.534  1.275   5.778  0.509   8.661   2.457   5.201   4.335  0.0   \n",
       "5          14.793  3.220  12.740  1.768  15.897   6.391  10.831   9.469  0.0   \n",
       "\n",
       "Driver        VET     ZHO  \n",
       "LapNumber                  \n",
       "1          12.802  27.185  \n",
       "2          14.360  29.599  \n",
       "3          16.593  28.167  \n",
       "4           4.149   8.386  \n",
       "5           9.029  15.393  "
      ]
     },
     "metadata": {},
     "output_type": "display_data"
    }
   ],
   "source": [
    "new_df = pd.DataFrame()\n",
    "for i in range(1, LapNumber):\n",
    "    df_i = df[df[\"LapNumber\"] == i]\n",
    "    minimum = min(df_i[\"Time\"])\n",
    "    df_i[\"Time_Diff\"] = df_i[\"Time\"] - minimum\n",
    "    #concatenate new dataframe\n",
    "    new_df = pd.concat([new_df, df_i])\n",
    "\n",
    "display (new_df.head())\n",
    "\n",
    "new_df2 = new_df.pivot_table(values='Time_Diff', index=df.LapNumber, columns=df.Driver)\n",
    "display (new_df2.head())"
   ]
  },
  {
   "cell_type": "code",
   "execution_count": 15,
   "metadata": {},
   "outputs": [
    {
     "data": {
      "text/html": [
       "<div>\n",
       "<style scoped>\n",
       "    .dataframe tbody tr th:only-of-type {\n",
       "        vertical-align: middle;\n",
       "    }\n",
       "\n",
       "    .dataframe tbody tr th {\n",
       "        vertical-align: top;\n",
       "    }\n",
       "\n",
       "    .dataframe thead th {\n",
       "        text-align: right;\n",
       "    }\n",
       "</style>\n",
       "<table border=\"1\" class=\"dataframe\">\n",
       "  <thead>\n",
       "    <tr style=\"text-align: right;\">\n",
       "      <th>Driver</th>\n",
       "      <th>ALB</th>\n",
       "      <th>ALO</th>\n",
       "      <th>BOT</th>\n",
       "      <th>GAS</th>\n",
       "      <th>HAM</th>\n",
       "      <th>LAT</th>\n",
       "      <th>LEC</th>\n",
       "      <th>MAG</th>\n",
       "      <th>MSC</th>\n",
       "      <th>NOR</th>\n",
       "      <th>OCO</th>\n",
       "      <th>PER</th>\n",
       "      <th>RIC</th>\n",
       "      <th>RUS</th>\n",
       "      <th>STR</th>\n",
       "      <th>TSU</th>\n",
       "      <th>VER</th>\n",
       "      <th>VET</th>\n",
       "      <th>ZHO</th>\n",
       "    </tr>\n",
       "    <tr>\n",
       "      <th>LapNumber</th>\n",
       "      <th></th>\n",
       "      <th></th>\n",
       "      <th></th>\n",
       "      <th></th>\n",
       "      <th></th>\n",
       "      <th></th>\n",
       "      <th></th>\n",
       "      <th></th>\n",
       "      <th></th>\n",
       "      <th></th>\n",
       "      <th></th>\n",
       "      <th></th>\n",
       "      <th></th>\n",
       "      <th></th>\n",
       "      <th></th>\n",
       "      <th></th>\n",
       "      <th></th>\n",
       "      <th></th>\n",
       "      <th></th>\n",
       "    </tr>\n",
       "  </thead>\n",
       "  <tbody>\n",
       "    <tr>\n",
       "      <th>1</th>\n",
       "      <td>21.615</td>\n",
       "      <td>11.305</td>\n",
       "      <td>9.655</td>\n",
       "      <td>20.360</td>\n",
       "      <td>18.143</td>\n",
       "      <td>23.088</td>\n",
       "      <td>4.629</td>\n",
       "      <td>6.161</td>\n",
       "      <td>24.268</td>\n",
       "      <td>3.317</td>\n",
       "      <td>19.253</td>\n",
       "      <td>1.189</td>\n",
       "      <td>28.146</td>\n",
       "      <td>8.393</td>\n",
       "      <td>16.370</td>\n",
       "      <td>14.320</td>\n",
       "      <td>0.0</td>\n",
       "      <td>12.802</td>\n",
       "      <td>27.185</td>\n",
       "    </tr>\n",
       "    <tr>\n",
       "      <th>2</th>\n",
       "      <td>25.648</td>\n",
       "      <td>11.679</td>\n",
       "      <td>10.599</td>\n",
       "      <td>25.153</td>\n",
       "      <td>21.793</td>\n",
       "      <td>27.854</td>\n",
       "      <td>5.148</td>\n",
       "      <td>6.993</td>\n",
       "      <td>28.580</td>\n",
       "      <td>3.693</td>\n",
       "      <td>22.862</td>\n",
       "      <td>1.196</td>\n",
       "      <td>32.308</td>\n",
       "      <td>9.052</td>\n",
       "      <td>18.743</td>\n",
       "      <td>16.147</td>\n",
       "      <td>0.0</td>\n",
       "      <td>14.360</td>\n",
       "      <td>29.599</td>\n",
       "    </tr>\n",
       "    <tr>\n",
       "      <th>3</th>\n",
       "      <td>24.702</td>\n",
       "      <td>14.223</td>\n",
       "      <td>13.019</td>\n",
       "      <td>24.315</td>\n",
       "      <td>21.220</td>\n",
       "      <td>26.934</td>\n",
       "      <td>7.920</td>\n",
       "      <td>9.274</td>\n",
       "      <td>27.535</td>\n",
       "      <td>5.551</td>\n",
       "      <td>22.751</td>\n",
       "      <td>2.506</td>\n",
       "      <td>29.586</td>\n",
       "      <td>11.089</td>\n",
       "      <td>19.970</td>\n",
       "      <td>18.035</td>\n",
       "      <td>0.0</td>\n",
       "      <td>16.593</td>\n",
       "      <td>28.167</td>\n",
       "    </tr>\n",
       "    <tr>\n",
       "      <th>4</th>\n",
       "      <td>6.654</td>\n",
       "      <td>3.764</td>\n",
       "      <td>3.304</td>\n",
       "      <td>6.045</td>\n",
       "      <td>5.357</td>\n",
       "      <td>7.269</td>\n",
       "      <td>1.641</td>\n",
       "      <td>2.083</td>\n",
       "      <td>7.534</td>\n",
       "      <td>1.275</td>\n",
       "      <td>5.778</td>\n",
       "      <td>0.509</td>\n",
       "      <td>8.661</td>\n",
       "      <td>2.457</td>\n",
       "      <td>5.201</td>\n",
       "      <td>4.335</td>\n",
       "      <td>0.0</td>\n",
       "      <td>4.149</td>\n",
       "      <td>8.386</td>\n",
       "    </tr>\n",
       "    <tr>\n",
       "      <th>5</th>\n",
       "      <td>13.689</td>\n",
       "      <td>11.999</td>\n",
       "      <td>7.640</td>\n",
       "      <td>13.038</td>\n",
       "      <td>12.241</td>\n",
       "      <td>14.285</td>\n",
       "      <td>3.783</td>\n",
       "      <td>5.023</td>\n",
       "      <td>14.793</td>\n",
       "      <td>3.220</td>\n",
       "      <td>12.740</td>\n",
       "      <td>1.768</td>\n",
       "      <td>15.897</td>\n",
       "      <td>6.391</td>\n",
       "      <td>10.831</td>\n",
       "      <td>9.469</td>\n",
       "      <td>0.0</td>\n",
       "      <td>9.029</td>\n",
       "      <td>15.393</td>\n",
       "    </tr>\n",
       "  </tbody>\n",
       "</table>\n",
       "</div>"
      ],
      "text/plain": [
       "Driver        ALB     ALO     BOT     GAS     HAM     LAT    LEC    MAG  \\\n",
       "LapNumber                                                                 \n",
       "1          21.615  11.305   9.655  20.360  18.143  23.088  4.629  6.161   \n",
       "2          25.648  11.679  10.599  25.153  21.793  27.854  5.148  6.993   \n",
       "3          24.702  14.223  13.019  24.315  21.220  26.934  7.920  9.274   \n",
       "4           6.654   3.764   3.304   6.045   5.357   7.269  1.641  2.083   \n",
       "5          13.689  11.999   7.640  13.038  12.241  14.285  3.783  5.023   \n",
       "\n",
       "Driver        MSC    NOR     OCO    PER     RIC     RUS     STR     TSU  VER  \\\n",
       "LapNumber                                                                      \n",
       "1          24.268  3.317  19.253  1.189  28.146   8.393  16.370  14.320  0.0   \n",
       "2          28.580  3.693  22.862  1.196  32.308   9.052  18.743  16.147  0.0   \n",
       "3          27.535  5.551  22.751  2.506  29.586  11.089  19.970  18.035  0.0   \n",
       "4           7.534  1.275   5.778  0.509   8.661   2.457   5.201   4.335  0.0   \n",
       "5          14.793  3.220  12.740  1.768  15.897   6.391  10.831   9.469  0.0   \n",
       "\n",
       "Driver        VET     ZHO  \n",
       "LapNumber                  \n",
       "1          12.802  27.185  \n",
       "2          14.360  29.599  \n",
       "3          16.593  28.167  \n",
       "4           4.149   8.386  \n",
       "5           9.029  15.393  "
      ]
     },
     "execution_count": 15,
     "metadata": {},
     "output_type": "execute_result"
    }
   ],
   "source": [
    "new_df2 = new_df.pivot_table(values='Time_Diff', index=df.LapNumber, columns=df.Driver)\n",
    "new_df2.head()"
   ]
  },
  {
   "cell_type": "code",
   "execution_count": 16,
   "metadata": {},
   "outputs": [],
   "source": [
    "from matplotlib.animation import FuncAnimation"
   ]
  },
  {
   "cell_type": "code",
   "execution_count": 17,
   "metadata": {},
   "outputs": [
    {
     "data": {
      "text/html": [
       "<div>\n",
       "<style scoped>\n",
       "    .dataframe tbody tr th:only-of-type {\n",
       "        vertical-align: middle;\n",
       "    }\n",
       "\n",
       "    .dataframe tbody tr th {\n",
       "        vertical-align: top;\n",
       "    }\n",
       "\n",
       "    .dataframe thead th {\n",
       "        text-align: right;\n",
       "    }\n",
       "</style>\n",
       "<table border=\"1\" class=\"dataframe\">\n",
       "  <thead>\n",
       "    <tr style=\"text-align: right;\">\n",
       "      <th></th>\n",
       "      <th>Yamcha</th>\n",
       "      <th>Krilin</th>\n",
       "      <th>Goku</th>\n",
       "      <th>Master Shen</th>\n",
       "      <th>Chiaotzu</th>\n",
       "      <th>Tien Shinhan</th>\n",
       "    </tr>\n",
       "  </thead>\n",
       "  <tbody>\n",
       "    <tr>\n",
       "      <th>0</th>\n",
       "      <td>978</td>\n",
       "      <td>347</td>\n",
       "      <td>446</td>\n",
       "      <td>715</td>\n",
       "      <td>621</td>\n",
       "      <td>723</td>\n",
       "    </tr>\n",
       "    <tr>\n",
       "      <th>1</th>\n",
       "      <td>1375</td>\n",
       "      <td>954</td>\n",
       "      <td>1118</td>\n",
       "      <td>1659</td>\n",
       "      <td>656</td>\n",
       "      <td>988</td>\n",
       "    </tr>\n",
       "    <tr>\n",
       "      <th>2</th>\n",
       "      <td>1641</td>\n",
       "      <td>1784</td>\n",
       "      <td>1637</td>\n",
       "      <td>2235</td>\n",
       "      <td>1300</td>\n",
       "      <td>1701</td>\n",
       "    </tr>\n",
       "    <tr>\n",
       "      <th>3</th>\n",
       "      <td>2472</td>\n",
       "      <td>2160</td>\n",
       "      <td>1737</td>\n",
       "      <td>2778</td>\n",
       "      <td>1651</td>\n",
       "      <td>1889</td>\n",
       "    </tr>\n",
       "    <tr>\n",
       "      <th>4</th>\n",
       "      <td>3346</td>\n",
       "      <td>2926</td>\n",
       "      <td>2197</td>\n",
       "      <td>3103</td>\n",
       "      <td>1842</td>\n",
       "      <td>2006</td>\n",
       "    </tr>\n",
       "  </tbody>\n",
       "</table>\n",
       "</div>"
      ],
      "text/plain": [
       "   Yamcha  Krilin  Goku  Master Shen  Chiaotzu  Tien Shinhan\n",
       "0     978     347   446          715       621           723\n",
       "1    1375     954  1118         1659       656           988\n",
       "2    1641    1784  1637         2235      1300          1701\n",
       "3    2472    2160  1737         2778      1651          1889\n",
       "4    3346    2926  2197         3103      1842          2006"
      ]
     },
     "execution_count": 17,
     "metadata": {},
     "output_type": "execute_result"
    }
   ],
   "source": [
    "db = pd.read_csv('https://raw.githubusercontent.com/pythoninoffice/pythonio_examples/main/matplotlib_bar_chart_race/dragon_ball_pl.csv')\n",
    "\n",
    "db.head()"
   ]
  },
  {
   "cell_type": "code",
   "execution_count": 18,
   "metadata": {},
   "outputs": [],
   "source": [
    "one_row = db.iloc[0]\n",
    "one_row_ascending = one_row.sort_values()\n",
    "characters = db.columns\n",
    "\n",
    "# fix, ax = plt.subplots(figsize=(10,10))\n",
    "# ax.barh(y = range(len(characters)), \n",
    "#         tick_label = one_row_ascending.index,\n",
    "#         width = one_row_ascending.values, \n",
    "#         align='center',\n",
    "#         color = plt.cm.Set1(range(len(characters))))"
   ]
  },
  {
   "cell_type": "code",
   "execution_count": 19,
   "metadata": {},
   "outputs": [
    {
     "data": {
      "text/plain": [
       "Yamcha          978\n",
       "Krilin          347\n",
       "Goku            446\n",
       "Master Shen     715\n",
       "Chiaotzu        621\n",
       "Tien Shinhan    723\n",
       "Name: 0, dtype: int64"
      ]
     },
     "execution_count": 19,
     "metadata": {},
     "output_type": "execute_result"
    }
   ],
   "source": [
    "one_row"
   ]
  },
  {
   "cell_type": "code",
   "execution_count": 20,
   "metadata": {},
   "outputs": [],
   "source": [
    "db.head(3)\n",
    "\n",
    "\n",
    "num = 3\n",
    "# fig, axs = plt.subplots(nrows = 1, ncols = num, figsize = (10, 5), tight_layout = True)\n",
    "# for i, ax in enumerate(axs):\n",
    "#     ax.barh(y=db.iloc[i].rank(),\n",
    "#             tick_label = db.iloc[i].index,\n",
    "#             width = db.iloc[i].values,\n",
    "#             color = plt.cm.Set1(range(6)))\n",
    "#     ax.set_title(f'{i}-th row', fontsize='larger')\n",
    "#     [spine.set_visible(False) for spine in ax.spines.values()]  # remove chart outlines"
   ]
  },
  {
   "cell_type": "code",
   "execution_count": 21,
   "metadata": {},
   "outputs": [],
   "source": [
    "from matplotlib.animation import FuncAnimation\n",
    "\n",
    "# def update(i):\n",
    "#     ax.clear()\n",
    "#     ax.set_facecolor(plt.cm.Greys(0.2))\n",
    "#     [spine.set_visible(False) for spine in ax.spines.values()]\n",
    "#     hbars = ax.barh(y = db.iloc[i].rank().values,\n",
    "#            tick_label=db.iloc[i].index,\n",
    "#            width = db.iloc[i].values,\n",
    "#            height = 0.8,\n",
    "#            color = plt.cm.Set1(range(11))\n",
    "#            )\n",
    "#     ax.set_title(f'Frame: {i}')\n",
    "#     #ax.bar_label(hbars, fmt='%.2d')\n",
    "    \n",
    "\n",
    "# fig,ax = plt.subplots(#figsize=(10,7),\n",
    "#                       facecolor = plt.cm.Greys(0.2),\n",
    "#                       dpi = 150,\n",
    "#                       tight_layout=True\n",
    "#                      )\n",
    "\n",
    "# data_anime = FuncAnimation(\n",
    "#     fig = fig,\n",
    "#     func = update,\n",
    "#     frames= len(db),\n",
    "#     interval=300\n",
    "# )\n",
    "\n"
   ]
  },
  {
   "cell_type": "code",
   "execution_count": 22,
   "metadata": {},
   "outputs": [
    {
     "name": "stdout",
     "output_type": "stream",
     "text": [
      "[0, 10, 20, 30, 40, 50, 60, 70, 80, 90, 100, 110, 120, 130, 140, 150, 160, 170, 180, 190, 200]\n"
     ]
    }
   ],
   "source": [
    "db.index = range(0,21*10,10)\n",
    "print(list(db.index))\n",
    "[0, 10, 20, 30, 40, 50, 60, 70, 80, 90, 100, 110, 120, 130, 140, 150, 160, 170, 180, 190, 200]\n",
    "\n",
    "row_nums = [i for i in range(0,210) if i % 10 != 0 ]\n",
    "empty = pd.DataFrame(np.nan, index= row_nums, columns = db.columns)\n",
    "\n",
    "expand_df = pd.concat([db, empty]).sort_index()\n",
    "\n",
    "rank_df = expand_df.rank(axis=1)"
   ]
  },
  {
   "cell_type": "code",
   "execution_count": 23,
   "metadata": {},
   "outputs": [],
   "source": [
    "expand_df = expand_df.interpolate()\n",
    "rank_df = rank_df.interpolate()"
   ]
  },
  {
   "cell_type": "code",
   "execution_count": 24,
   "metadata": {},
   "outputs": [],
   "source": [
    "num = 3\n",
    "# fig, axs = plt.subplots(nrows = 1, ncols = num, figsize = (10, 5), tight_layout = True)\n",
    "# for i, ax in enumerate(axs):\n",
    "#     ax.barh(y=rank_df.iloc[i].values,\n",
    "#             tick_label = expand_df.iloc[i].index,\n",
    "#             width = expand_df.iloc[i].values,\n",
    "#             color = plt.cm.Set1(range(6)))\n",
    "#     ax.set_title(f'{i}-th row', fontsize='larger')\n",
    "#     [spine.set_visible(False) for spine in ax.spines.values()]  # remove chart outlines"
   ]
  },
  {
   "cell_type": "code",
   "execution_count": 25,
   "metadata": {},
   "outputs": [
    {
     "data": {
      "image/png": "[encoded data removed]",
      "text/plain": [
       "<Figure size 900x600 with 1 Axes>"
      ]
     },
     "metadata": {},
     "output_type": "display_data"
    }
   ],
   "source": [
    "def update(i):\n",
    "    ax.clear()\n",
    "    ax.set_facecolor(plt.cm.Dark2(0.9))\n",
    "    [spine.set_visible(False) for spine in ax.spines.values()]\n",
    "    hbars = ax.barh(y = rank_df.iloc[i].values,\n",
    "           tick_label=expand_df.iloc[i].index,\n",
    "           width = expand_df.iloc[i].values,\n",
    "           height = 0.8,\n",
    "           color = plt.cm.Dark2(range(11))\n",
    "           )\n",
    "    ax.set_title(f'Frame: {i}')\n",
    "    ax.bar_label(hbars, fmt='%.2d')\n",
    "    \n",
    "\n",
    "fig,ax = plt.subplots(#figsize=(10,7),\n",
    "                      facecolor = plt.cm.Dark2(0.9),\n",
    "                      dpi = 150,\n",
    "                      tight_layout=True\n",
    "                     )\n",
    "\n",
    "\n",
    "data_anime = FuncAnimation(\n",
    "    fig = fig,\n",
    "    func = update,\n",
    "    frames= len(expand_df),\n",
    "    interval=1\n",
    ")"
   ]
  },
  {
   "cell_type": "code",
   "execution_count": 26,
   "metadata": {},
   "outputs": [
    {
     "name": "stderr",
     "output_type": "stream",
     "text": [
      "animation       INFO \tAnimation.save using <class 'matplotlib.animation.FFMpegWriter'>\n",
      "animation       INFO \tMovieWriter._run: running command: ffmpeg -f rawvideo -vcodec rawvideo -s 900x600 -pix_fmt rgba -r 1000.0 -loglevel error -i pipe: -filter_complex 'split [a][b];[a] palettegen [p];[b][p] paletteuse' -y test.gif\n"
     ]
    }
   ],
   "source": [
    "data_anime.save(\"test.gif\")"
   ]
  },
  {
   "cell_type": "code",
   "execution_count": 27,
   "metadata": {},
   "outputs": [],
   "source": [
    "plt.show(\"test.gif\")"
   ]
  },
  {
   "cell_type": "code",
   "execution_count": 28,
   "metadata": {},
   "outputs": [
    {
     "data": {
      "text/html": [
       "<div>\n",
       "<style scoped>\n",
       "    .dataframe tbody tr th:only-of-type {\n",
       "        vertical-align: middle;\n",
       "    }\n",
       "\n",
       "    .dataframe tbody tr th {\n",
       "        vertical-align: top;\n",
       "    }\n",
       "\n",
       "    .dataframe thead th {\n",
       "        text-align: right;\n",
       "    }\n",
       "</style>\n",
       "<table border=\"1\" class=\"dataframe\">\n",
       "  <thead>\n",
       "    <tr style=\"text-align: right;\">\n",
       "      <th>Driver</th>\n",
       "      <th>ALB</th>\n",
       "      <th>ALO</th>\n",
       "      <th>BOT</th>\n",
       "      <th>GAS</th>\n",
       "      <th>HAM</th>\n",
       "      <th>LAT</th>\n",
       "      <th>LEC</th>\n",
       "      <th>MAG</th>\n",
       "      <th>MSC</th>\n",
       "      <th>NOR</th>\n",
       "      <th>OCO</th>\n",
       "      <th>PER</th>\n",
       "      <th>RIC</th>\n",
       "      <th>RUS</th>\n",
       "      <th>STR</th>\n",
       "      <th>TSU</th>\n",
       "      <th>VER</th>\n",
       "      <th>VET</th>\n",
       "      <th>ZHO</th>\n",
       "    </tr>\n",
       "    <tr>\n",
       "      <th>LapNumber</th>\n",
       "      <th></th>\n",
       "      <th></th>\n",
       "      <th></th>\n",
       "      <th></th>\n",
       "      <th></th>\n",
       "      <th></th>\n",
       "      <th></th>\n",
       "      <th></th>\n",
       "      <th></th>\n",
       "      <th></th>\n",
       "      <th></th>\n",
       "      <th></th>\n",
       "      <th></th>\n",
       "      <th></th>\n",
       "      <th></th>\n",
       "      <th></th>\n",
       "      <th></th>\n",
       "      <th></th>\n",
       "      <th></th>\n",
       "    </tr>\n",
       "  </thead>\n",
       "  <tbody>\n",
       "    <tr>\n",
       "      <th>1</th>\n",
       "      <td>21.615</td>\n",
       "      <td>11.305</td>\n",
       "      <td>9.655</td>\n",
       "      <td>20.360</td>\n",
       "      <td>18.143</td>\n",
       "      <td>23.088</td>\n",
       "      <td>4.629</td>\n",
       "      <td>6.161</td>\n",
       "      <td>24.268</td>\n",
       "      <td>3.317</td>\n",
       "      <td>19.253</td>\n",
       "      <td>1.189</td>\n",
       "      <td>28.146</td>\n",
       "      <td>8.393</td>\n",
       "      <td>16.370</td>\n",
       "      <td>14.320</td>\n",
       "      <td>0.0</td>\n",
       "      <td>12.802</td>\n",
       "      <td>27.185</td>\n",
       "    </tr>\n",
       "    <tr>\n",
       "      <th>2</th>\n",
       "      <td>25.648</td>\n",
       "      <td>11.679</td>\n",
       "      <td>10.599</td>\n",
       "      <td>25.153</td>\n",
       "      <td>21.793</td>\n",
       "      <td>27.854</td>\n",
       "      <td>5.148</td>\n",
       "      <td>6.993</td>\n",
       "      <td>28.580</td>\n",
       "      <td>3.693</td>\n",
       "      <td>22.862</td>\n",
       "      <td>1.196</td>\n",
       "      <td>32.308</td>\n",
       "      <td>9.052</td>\n",
       "      <td>18.743</td>\n",
       "      <td>16.147</td>\n",
       "      <td>0.0</td>\n",
       "      <td>14.360</td>\n",
       "      <td>29.599</td>\n",
       "    </tr>\n",
       "    <tr>\n",
       "      <th>3</th>\n",
       "      <td>24.702</td>\n",
       "      <td>14.223</td>\n",
       "      <td>13.019</td>\n",
       "      <td>24.315</td>\n",
       "      <td>21.220</td>\n",
       "      <td>26.934</td>\n",
       "      <td>7.920</td>\n",
       "      <td>9.274</td>\n",
       "      <td>27.535</td>\n",
       "      <td>5.551</td>\n",
       "      <td>22.751</td>\n",
       "      <td>2.506</td>\n",
       "      <td>29.586</td>\n",
       "      <td>11.089</td>\n",
       "      <td>19.970</td>\n",
       "      <td>18.035</td>\n",
       "      <td>0.0</td>\n",
       "      <td>16.593</td>\n",
       "      <td>28.167</td>\n",
       "    </tr>\n",
       "    <tr>\n",
       "      <th>4</th>\n",
       "      <td>6.654</td>\n",
       "      <td>3.764</td>\n",
       "      <td>3.304</td>\n",
       "      <td>6.045</td>\n",
       "      <td>5.357</td>\n",
       "      <td>7.269</td>\n",
       "      <td>1.641</td>\n",
       "      <td>2.083</td>\n",
       "      <td>7.534</td>\n",
       "      <td>1.275</td>\n",
       "      <td>5.778</td>\n",
       "      <td>0.509</td>\n",
       "      <td>8.661</td>\n",
       "      <td>2.457</td>\n",
       "      <td>5.201</td>\n",
       "      <td>4.335</td>\n",
       "      <td>0.0</td>\n",
       "      <td>4.149</td>\n",
       "      <td>8.386</td>\n",
       "    </tr>\n",
       "    <tr>\n",
       "      <th>5</th>\n",
       "      <td>13.689</td>\n",
       "      <td>11.999</td>\n",
       "      <td>7.640</td>\n",
       "      <td>13.038</td>\n",
       "      <td>12.241</td>\n",
       "      <td>14.285</td>\n",
       "      <td>3.783</td>\n",
       "      <td>5.023</td>\n",
       "      <td>14.793</td>\n",
       "      <td>3.220</td>\n",
       "      <td>12.740</td>\n",
       "      <td>1.768</td>\n",
       "      <td>15.897</td>\n",
       "      <td>6.391</td>\n",
       "      <td>10.831</td>\n",
       "      <td>9.469</td>\n",
       "      <td>0.0</td>\n",
       "      <td>9.029</td>\n",
       "      <td>15.393</td>\n",
       "    </tr>\n",
       "    <tr>\n",
       "      <th>...</th>\n",
       "      <td>...</td>\n",
       "      <td>...</td>\n",
       "      <td>...</td>\n",
       "      <td>...</td>\n",
       "      <td>...</td>\n",
       "      <td>...</td>\n",
       "      <td>...</td>\n",
       "      <td>...</td>\n",
       "      <td>...</td>\n",
       "      <td>...</td>\n",
       "      <td>...</td>\n",
       "      <td>...</td>\n",
       "      <td>...</td>\n",
       "      <td>...</td>\n",
       "      <td>...</td>\n",
       "      <td>...</td>\n",
       "      <td>...</td>\n",
       "      <td>...</td>\n",
       "      <td>...</td>\n",
       "    </tr>\n",
       "    <tr>\n",
       "      <th>58</th>\n",
       "      <td>85.281</td>\n",
       "      <td>NaN</td>\n",
       "      <td>35.651</td>\n",
       "      <td>85.852</td>\n",
       "      <td>86.215</td>\n",
       "      <td>99.724</td>\n",
       "      <td>60.345</td>\n",
       "      <td>67.118</td>\n",
       "      <td>120.985</td>\n",
       "      <td>28.916</td>\n",
       "      <td>83.769</td>\n",
       "      <td>13.565</td>\n",
       "      <td>130.606</td>\n",
       "      <td>34.963</td>\n",
       "      <td>79.124</td>\n",
       "      <td>55.491</td>\n",
       "      <td>0.0</td>\n",
       "      <td>60.155</td>\n",
       "      <td>96.897</td>\n",
       "    </tr>\n",
       "    <tr>\n",
       "      <th>59</th>\n",
       "      <td>87.458</td>\n",
       "      <td>NaN</td>\n",
       "      <td>37.555</td>\n",
       "      <td>88.093</td>\n",
       "      <td>88.502</td>\n",
       "      <td>101.525</td>\n",
       "      <td>59.238</td>\n",
       "      <td>68.789</td>\n",
       "      <td>120.900</td>\n",
       "      <td>30.118</td>\n",
       "      <td>85.868</td>\n",
       "      <td>13.564</td>\n",
       "      <td>132.447</td>\n",
       "      <td>36.634</td>\n",
       "      <td>82.790</td>\n",
       "      <td>56.376</td>\n",
       "      <td>0.0</td>\n",
       "      <td>63.299</td>\n",
       "      <td>98.752</td>\n",
       "    </tr>\n",
       "    <tr>\n",
       "      <th>60</th>\n",
       "      <td>89.495</td>\n",
       "      <td>NaN</td>\n",
       "      <td>38.524</td>\n",
       "      <td>90.144</td>\n",
       "      <td>90.716</td>\n",
       "      <td>103.009</td>\n",
       "      <td>58.489</td>\n",
       "      <td>70.355</td>\n",
       "      <td>121.376</td>\n",
       "      <td>31.296</td>\n",
       "      <td>88.045</td>\n",
       "      <td>13.611</td>\n",
       "      <td>134.348</td>\n",
       "      <td>37.847</td>\n",
       "      <td>84.708</td>\n",
       "      <td>57.211</td>\n",
       "      <td>0.0</td>\n",
       "      <td>65.309</td>\n",
       "      <td>100.368</td>\n",
       "    </tr>\n",
       "    <tr>\n",
       "      <th>61</th>\n",
       "      <td>91.305</td>\n",
       "      <td>NaN</td>\n",
       "      <td>40.064</td>\n",
       "      <td>91.936</td>\n",
       "      <td>92.605</td>\n",
       "      <td>104.458</td>\n",
       "      <td>58.157</td>\n",
       "      <td>71.646</td>\n",
       "      <td>122.369</td>\n",
       "      <td>32.252</td>\n",
       "      <td>90.073</td>\n",
       "      <td>13.768</td>\n",
       "      <td>135.978</td>\n",
       "      <td>39.403</td>\n",
       "      <td>86.777</td>\n",
       "      <td>57.808</td>\n",
       "      <td>0.0</td>\n",
       "      <td>66.972</td>\n",
       "      <td>101.707</td>\n",
       "    </tr>\n",
       "    <tr>\n",
       "      <th>62</th>\n",
       "      <td>94.130</td>\n",
       "      <td>NaN</td>\n",
       "      <td>42.072</td>\n",
       "      <td>94.726</td>\n",
       "      <td>95.417</td>\n",
       "      <td>106.187</td>\n",
       "      <td>57.661</td>\n",
       "      <td>73.371</td>\n",
       "      <td>124.061</td>\n",
       "      <td>33.859</td>\n",
       "      <td>92.509</td>\n",
       "      <td>14.911</td>\n",
       "      <td>142.806</td>\n",
       "      <td>41.373</td>\n",
       "      <td>89.472</td>\n",
       "      <td>60.067</td>\n",
       "      <td>0.0</td>\n",
       "      <td>69.080</td>\n",
       "      <td>103.534</td>\n",
       "    </tr>\n",
       "  </tbody>\n",
       "</table>\n",
       "<p>62 rows × 19 columns</p>\n",
       "</div>"
      ],
      "text/plain": [
       "Driver        ALB     ALO     BOT     GAS     HAM      LAT     LEC     MAG  \\\n",
       "LapNumber                                                                    \n",
       "1          21.615  11.305   9.655  20.360  18.143   23.088   4.629   6.161   \n",
       "2          25.648  11.679  10.599  25.153  21.793   27.854   5.148   6.993   \n",
       "3          24.702  14.223  13.019  24.315  21.220   26.934   7.920   9.274   \n",
       "4           6.654   3.764   3.304   6.045   5.357    7.269   1.641   2.083   \n",
       "5          13.689  11.999   7.640  13.038  12.241   14.285   3.783   5.023   \n",
       "...           ...     ...     ...     ...     ...      ...     ...     ...   \n",
       "58         85.281     NaN  35.651  85.852  86.215   99.724  60.345  67.118   \n",
       "59         87.458     NaN  37.555  88.093  88.502  101.525  59.238  68.789   \n",
       "60         89.495     NaN  38.524  90.144  90.716  103.009  58.489  70.355   \n",
       "61         91.305     NaN  40.064  91.936  92.605  104.458  58.157  71.646   \n",
       "62         94.130     NaN  42.072  94.726  95.417  106.187  57.661  73.371   \n",
       "\n",
       "Driver         MSC     NOR     OCO     PER      RIC     RUS     STR     TSU  \\\n",
       "LapNumber                                                                     \n",
       "1           24.268   3.317  19.253   1.189   28.146   8.393  16.370  14.320   \n",
       "2           28.580   3.693  22.862   1.196   32.308   9.052  18.743  16.147   \n",
       "3           27.535   5.551  22.751   2.506   29.586  11.089  19.970  18.035   \n",
       "4            7.534   1.275   5.778   0.509    8.661   2.457   5.201   4.335   \n",
       "5           14.793   3.220  12.740   1.768   15.897   6.391  10.831   9.469   \n",
       "...            ...     ...     ...     ...      ...     ...     ...     ...   \n",
       "58         120.985  28.916  83.769  13.565  130.606  34.963  79.124  55.491   \n",
       "59         120.900  30.118  85.868  13.564  132.447  36.634  82.790  56.376   \n",
       "60         121.376  31.296  88.045  13.611  134.348  37.847  84.708  57.211   \n",
       "61         122.369  32.252  90.073  13.768  135.978  39.403  86.777  57.808   \n",
       "62         124.061  33.859  92.509  14.911  142.806  41.373  89.472  60.067   \n",
       "\n",
       "Driver     VER     VET      ZHO  \n",
       "LapNumber                        \n",
       "1          0.0  12.802   27.185  \n",
       "2          0.0  14.360   29.599  \n",
       "3          0.0  16.593   28.167  \n",
       "4          0.0   4.149    8.386  \n",
       "5          0.0   9.029   15.393  \n",
       "...        ...     ...      ...  \n",
       "58         0.0  60.155   96.897  \n",
       "59         0.0  63.299   98.752  \n",
       "60         0.0  65.309  100.368  \n",
       "61         0.0  66.972  101.707  \n",
       "62         0.0  69.080  103.534  \n",
       "\n",
       "[62 rows x 19 columns]"
      ]
     },
     "execution_count": 28,
     "metadata": {},
     "output_type": "execute_result"
    }
   ],
   "source": [
    "new_df2"
   ]
  },
  {
   "cell_type": "code",
   "execution_count": 29,
   "metadata": {},
   "outputs": [
    {
     "name": "stderr",
     "output_type": "stream",
     "text": [
      "animation       INFO \tAnimation.save using <class 'matplotlib.animation.FFMpegWriter'>\n",
      "animation       INFO \tMovieWriter._run: running command: ffmpeg -f rawvideo -vcodec rawvideo -s 900x600 -pix_fmt rgba -r 1000.0 -loglevel error -i pipe: -filter_complex 'split [a][b];[a] palettegen [p];[b][p] paletteuse' -y f1.gif\n"
     ]
    },
    {
     "name": "stdout",
     "output_type": "stream",
     "text": [
      "[0, 10, 20, 30, 40, 50, 60, 70, 80, 90, 100, 110, 120, 130, 140, 150, 160, 170, 180, 190, 200, 210, 220, 230, 240, 250, 260, 270, 280, 290, 300, 310, 320, 330, 340, 350, 360, 370, 380, 390, 400, 410, 420, 430, 440, 450, 460, 470, 480, 490, 500, 510, 520, 530, 540, 550, 560, 570, 580, 590, 600, 610]\n"
     ]
    },
    {
     "data": {
      "image/png": "[encoded data removed]",
      "text/plain": [
       "<Figure size 900x600 with 1 Axes>"
      ]
     },
     "metadata": {},
     "output_type": "display_data"
    }
   ],
   "source": [
    "\n",
    "one_row = new_df2.iloc[0]\n",
    "one_row_ascending = one_row.sort_values()\n",
    "characters = new_df2.columns\n",
    "\n",
    "new_df2.index = range(0,new_df2.shape[0]*10,10)\n",
    "print(list(new_df2.index))\n",
    "[0, 10, 20, 30, 40, 50, 60, 70, 80, 90, 100, 110, 120, 130, 140, 150, 160, 170, 180, 190, 200]\n",
    "\n",
    "row_nums = [i for i in range(0,210) if i % 10 != 0 ]\n",
    "empty = pd.DataFrame(np.nan, index= row_nums, columns = new_df2.columns)\n",
    "\n",
    "expand_df = pd.concat([new_df2, empty]).sort_index()\n",
    "\n",
    "rank_df = expand_df.rank(axis=1)\n",
    "\n",
    "expand_df = expand_df.interpolate()\n",
    "rank_df = rank_df.interpolate()\n",
    "\n",
    "def update(i):\n",
    "    ax.clear()\n",
    "    ax.set_facecolor(plt.cm.Dark2(0.9))\n",
    "    [spine.set_visible(False) for spine in ax.spines.values()]\n",
    "    hbars = ax.barh(y = rank_df.iloc[i].values,\n",
    "           tick_label=expand_df.iloc[i].index,\n",
    "           width = expand_df.iloc[i].values,\n",
    "           height = 0.8,\n",
    "           color = plt.cm.Dark2(range(11))\n",
    "           )\n",
    "    ax.set_title(f'Frame: {i}')\n",
    "    ax.bar_label(hbars, fmt='%.2d')\n",
    "    \n",
    "\n",
    "fig,ax = plt.subplots(#figsize=(10,7),\n",
    "                      facecolor = plt.cm.Dark2(0.9),\n",
    "                      dpi = 150,\n",
    "                      tight_layout=True\n",
    "                     )\n",
    "\n",
    "\n",
    "data_anime = FuncAnimation(\n",
    "    fig = fig,\n",
    "    func = update,\n",
    "    frames= len(expand_df),\n",
    "    interval=1\n",
    ")\n",
    "\n",
    "data_anime.save(\"f1.gif\")"
   ]
  },
  {
   "cell_type": "code",
   "execution_count": null,
   "metadata": {},
   "outputs": [],
   "source": []
  },
  {
   "cell_type": "code",
   "execution_count": 30,
   "metadata": {},
   "outputs": [
    {
     "data": {
      "text/html": [
       "<div>\n",
       "<style scoped>\n",
       "    .dataframe tbody tr th:only-of-type {\n",
       "        vertical-align: middle;\n",
       "    }\n",
       "\n",
       "    .dataframe tbody tr th {\n",
       "        vertical-align: top;\n",
       "    }\n",
       "\n",
       "    .dataframe thead th {\n",
       "        text-align: right;\n",
       "    }\n",
       "</style>\n",
       "<table border=\"1\" class=\"dataframe\">\n",
       "  <thead>\n",
       "    <tr style=\"text-align: right;\">\n",
       "      <th></th>\n",
       "      <th>Time</th>\n",
       "      <th>LapNumber</th>\n",
       "      <th>Driver</th>\n",
       "      <th>Time_Diff</th>\n",
       "    </tr>\n",
       "  </thead>\n",
       "  <tbody>\n",
       "    <tr>\n",
       "      <th>0</th>\n",
       "      <td>3834.806</td>\n",
       "      <td>1</td>\n",
       "      <td>VER</td>\n",
       "      <td>28.146</td>\n",
       "    </tr>\n",
       "    <tr>\n",
       "      <th>63</th>\n",
       "      <td>3835.995</td>\n",
       "      <td>1</td>\n",
       "      <td>PER</td>\n",
       "      <td>26.957</td>\n",
       "    </tr>\n",
       "    <tr>\n",
       "      <th>126</th>\n",
       "      <td>3838.123</td>\n",
       "      <td>1</td>\n",
       "      <td>NOR</td>\n",
       "      <td>24.829</td>\n",
       "    </tr>\n",
       "    <tr>\n",
       "      <th>189</th>\n",
       "      <td>3843.199</td>\n",
       "      <td>1</td>\n",
       "      <td>RUS</td>\n",
       "      <td>19.753</td>\n",
       "    </tr>\n",
       "    <tr>\n",
       "      <th>252</th>\n",
       "      <td>3844.461</td>\n",
       "      <td>1</td>\n",
       "      <td>BOT</td>\n",
       "      <td>18.491</td>\n",
       "    </tr>\n",
       "  </tbody>\n",
       "</table>\n",
       "</div>"
      ],
      "text/plain": [
       "         Time  LapNumber Driver  Time_Diff\n",
       "0    3834.806          1    VER     28.146\n",
       "63   3835.995          1    PER     26.957\n",
       "126  3838.123          1    NOR     24.829\n",
       "189  3843.199          1    RUS     19.753\n",
       "252  3844.461          1    BOT     18.491"
      ]
     },
     "metadata": {},
     "output_type": "display_data"
    },
    {
     "data": {
      "text/html": [
       "<div>\n",
       "<style scoped>\n",
       "    .dataframe tbody tr th:only-of-type {\n",
       "        vertical-align: middle;\n",
       "    }\n",
       "\n",
       "    .dataframe tbody tr th {\n",
       "        vertical-align: top;\n",
       "    }\n",
       "\n",
       "    .dataframe thead th {\n",
       "        text-align: right;\n",
       "    }\n",
       "</style>\n",
       "<table border=\"1\" class=\"dataframe\">\n",
       "  <thead>\n",
       "    <tr style=\"text-align: right;\">\n",
       "      <th>Driver</th>\n",
       "      <th>ALB</th>\n",
       "      <th>ALO</th>\n",
       "      <th>BOT</th>\n",
       "      <th>GAS</th>\n",
       "      <th>HAM</th>\n",
       "      <th>LAT</th>\n",
       "      <th>LEC</th>\n",
       "      <th>MAG</th>\n",
       "      <th>MSC</th>\n",
       "      <th>NOR</th>\n",
       "      <th>OCO</th>\n",
       "      <th>PER</th>\n",
       "      <th>RIC</th>\n",
       "      <th>RUS</th>\n",
       "      <th>STR</th>\n",
       "      <th>TSU</th>\n",
       "      <th>VER</th>\n",
       "      <th>VET</th>\n",
       "      <th>ZHO</th>\n",
       "    </tr>\n",
       "    <tr>\n",
       "      <th>LapNumber</th>\n",
       "      <th></th>\n",
       "      <th></th>\n",
       "      <th></th>\n",
       "      <th></th>\n",
       "      <th></th>\n",
       "      <th></th>\n",
       "      <th></th>\n",
       "      <th></th>\n",
       "      <th></th>\n",
       "      <th></th>\n",
       "      <th></th>\n",
       "      <th></th>\n",
       "      <th></th>\n",
       "      <th></th>\n",
       "      <th></th>\n",
       "      <th></th>\n",
       "      <th></th>\n",
       "      <th></th>\n",
       "      <th></th>\n",
       "    </tr>\n",
       "  </thead>\n",
       "  <tbody>\n",
       "    <tr>\n",
       "      <th>1</th>\n",
       "      <td>6.531</td>\n",
       "      <td>16.841</td>\n",
       "      <td>18.491</td>\n",
       "      <td>7.786</td>\n",
       "      <td>10.003</td>\n",
       "      <td>5.058</td>\n",
       "      <td>23.517</td>\n",
       "      <td>21.985</td>\n",
       "      <td>3.878</td>\n",
       "      <td>24.829</td>\n",
       "      <td>8.893</td>\n",
       "      <td>26.957</td>\n",
       "      <td>0.0</td>\n",
       "      <td>19.753</td>\n",
       "      <td>11.776</td>\n",
       "      <td>13.826</td>\n",
       "      <td>28.146</td>\n",
       "      <td>15.344</td>\n",
       "      <td>0.961</td>\n",
       "    </tr>\n",
       "    <tr>\n",
       "      <th>2</th>\n",
       "      <td>6.660</td>\n",
       "      <td>20.629</td>\n",
       "      <td>21.709</td>\n",
       "      <td>7.155</td>\n",
       "      <td>10.515</td>\n",
       "      <td>4.454</td>\n",
       "      <td>27.160</td>\n",
       "      <td>25.315</td>\n",
       "      <td>3.728</td>\n",
       "      <td>28.615</td>\n",
       "      <td>9.446</td>\n",
       "      <td>31.112</td>\n",
       "      <td>0.0</td>\n",
       "      <td>23.256</td>\n",
       "      <td>13.565</td>\n",
       "      <td>16.161</td>\n",
       "      <td>32.308</td>\n",
       "      <td>17.948</td>\n",
       "      <td>2.709</td>\n",
       "    </tr>\n",
       "    <tr>\n",
       "      <th>3</th>\n",
       "      <td>4.884</td>\n",
       "      <td>15.363</td>\n",
       "      <td>16.567</td>\n",
       "      <td>5.271</td>\n",
       "      <td>8.366</td>\n",
       "      <td>2.652</td>\n",
       "      <td>21.666</td>\n",
       "      <td>20.312</td>\n",
       "      <td>2.051</td>\n",
       "      <td>24.035</td>\n",
       "      <td>6.835</td>\n",
       "      <td>27.080</td>\n",
       "      <td>0.0</td>\n",
       "      <td>18.497</td>\n",
       "      <td>9.616</td>\n",
       "      <td>11.551</td>\n",
       "      <td>29.586</td>\n",
       "      <td>12.993</td>\n",
       "      <td>1.419</td>\n",
       "    </tr>\n",
       "    <tr>\n",
       "      <th>4</th>\n",
       "      <td>2.007</td>\n",
       "      <td>4.897</td>\n",
       "      <td>5.357</td>\n",
       "      <td>2.616</td>\n",
       "      <td>3.304</td>\n",
       "      <td>1.392</td>\n",
       "      <td>7.020</td>\n",
       "      <td>6.578</td>\n",
       "      <td>1.127</td>\n",
       "      <td>7.386</td>\n",
       "      <td>2.883</td>\n",
       "      <td>8.152</td>\n",
       "      <td>0.0</td>\n",
       "      <td>6.204</td>\n",
       "      <td>3.460</td>\n",
       "      <td>4.326</td>\n",
       "      <td>8.661</td>\n",
       "      <td>4.512</td>\n",
       "      <td>0.275</td>\n",
       "    </tr>\n",
       "    <tr>\n",
       "      <th>5</th>\n",
       "      <td>2.208</td>\n",
       "      <td>3.898</td>\n",
       "      <td>8.257</td>\n",
       "      <td>2.859</td>\n",
       "      <td>3.656</td>\n",
       "      <td>1.612</td>\n",
       "      <td>12.114</td>\n",
       "      <td>10.874</td>\n",
       "      <td>1.104</td>\n",
       "      <td>12.677</td>\n",
       "      <td>3.157</td>\n",
       "      <td>14.129</td>\n",
       "      <td>0.0</td>\n",
       "      <td>9.506</td>\n",
       "      <td>5.066</td>\n",
       "      <td>6.428</td>\n",
       "      <td>15.897</td>\n",
       "      <td>6.868</td>\n",
       "      <td>0.504</td>\n",
       "    </tr>\n",
       "  </tbody>\n",
       "</table>\n",
       "</div>"
      ],
      "text/plain": [
       "Driver       ALB     ALO     BOT    GAS     HAM    LAT     LEC     MAG    MSC  \\\n",
       "LapNumber                                                                       \n",
       "1          6.531  16.841  18.491  7.786  10.003  5.058  23.517  21.985  3.878   \n",
       "2          6.660  20.629  21.709  7.155  10.515  4.454  27.160  25.315  3.728   \n",
       "3          4.884  15.363  16.567  5.271   8.366  2.652  21.666  20.312  2.051   \n",
       "4          2.007   4.897   5.357  2.616   3.304  1.392   7.020   6.578  1.127   \n",
       "5          2.208   3.898   8.257  2.859   3.656  1.612  12.114  10.874  1.104   \n",
       "\n",
       "Driver        NOR    OCO     PER  RIC     RUS     STR     TSU     VER     VET  \\\n",
       "LapNumber                                                                       \n",
       "1          24.829  8.893  26.957  0.0  19.753  11.776  13.826  28.146  15.344   \n",
       "2          28.615  9.446  31.112  0.0  23.256  13.565  16.161  32.308  17.948   \n",
       "3          24.035  6.835  27.080  0.0  18.497   9.616  11.551  29.586  12.993   \n",
       "4           7.386  2.883   8.152  0.0   6.204   3.460   4.326   8.661   4.512   \n",
       "5          12.677  3.157  14.129  0.0   9.506   5.066   6.428  15.897   6.868   \n",
       "\n",
       "Driver       ZHO  \n",
       "LapNumber         \n",
       "1          0.961  \n",
       "2          2.709  \n",
       "3          1.419  \n",
       "4          0.275  \n",
       "5          0.504  "
      ]
     },
     "metadata": {},
     "output_type": "display_data"
    }
   ],
   "source": [
    "new_df = pd.DataFrame()\n",
    "for i in range(1, LapNumber):\n",
    "    df_i = df[df[\"LapNumber\"] == i]\n",
    "    maximum = max(df_i[\"Time\"])\n",
    "    df_i[\"Time_Diff\"] = maximum - df_i[\"Time\"]\n",
    "    #concatenate new dataframe\n",
    "    new_df = pd.concat([new_df, df_i])\n",
    "\n",
    "display (new_df.head())\n",
    "\n",
    "new_df2 = new_df.pivot_table(values='Time_Diff', index=df.LapNumber, columns=df.Driver)\n",
    "display (new_df2.head())"
   ]
  },
  {
   "cell_type": "code",
   "execution_count": 31,
   "metadata": {},
   "outputs": [
    {
     "name": "stderr",
     "output_type": "stream",
     "text": [
      "animation       INFO \tAnimation.save using <class 'matplotlib.animation.FFMpegWriter'>\n",
      "animation       INFO \tMovieWriter._run: running command: ffmpeg -f rawvideo -vcodec rawvideo -s 900x600 -pix_fmt rgba -r 1000.0 -loglevel error -i pipe: -filter_complex 'split [a][b];[a] palettegen [p];[b][p] paletteuse' -y f1.gif\n"
     ]
    },
    {
     "name": "stdout",
     "output_type": "stream",
     "text": [
      "[0, 10, 20, 30, 40, 50, 60, 70, 80, 90, 100, 110, 120, 130, 140, 150, 160, 170, 180, 190, 200, 210, 220, 230, 240, 250, 260, 270, 280, 290, 300, 310, 320, 330, 340, 350, 360, 370, 380, 390, 400, 410, 420, 430, 440, 450, 460, 470, 480, 490, 500, 510, 520, 530, 540, 550, 560, 570, 580, 590, 600, 610]\n"
     ]
    },
    {
     "data": {
      "image/png": "[encoded data removed]",
      "text/plain": [
       "<Figure size 900x600 with 1 Axes>"
      ]
     },
     "metadata": {},
     "output_type": "display_data"
    }
   ],
   "source": [
    "\n",
    "one_row = new_df2.iloc[0]\n",
    "one_row_ascending = one_row.sort_values()\n",
    "characters = new_df2.columns\n",
    "\n",
    "new_df2.index = range(0,new_df2.shape[0]*10,10)\n",
    "print(list(new_df2.index))\n",
    "[0, 10, 20, 30, 40, 50, 60, 70, 80, 90, 100, 110, 120, 130, 140, 150, 160, 170, 180, 190, 200]\n",
    "\n",
    "row_nums = [i for i in range(0,210) if i % 10 != 0 ]\n",
    "empty = pd.DataFrame(np.nan, index= row_nums, columns = new_df2.columns)\n",
    "\n",
    "expand_df = pd.concat([new_df2, empty]).sort_index()\n",
    "\n",
    "rank_df = expand_df.rank(axis=1)\n",
    "\n",
    "expand_df = expand_df.interpolate()\n",
    "rank_df = rank_df.interpolate()\n",
    "\n",
    "def update(i):\n",
    "    ax.clear()\n",
    "    ax.set_facecolor(plt.cm.Dark2(0.9))\n",
    "    [spine.set_visible(False) for spine in ax.spines.values()]\n",
    "    hbars = ax.barh(y = rank_df.iloc[i].values,\n",
    "           tick_label=expand_df.iloc[i].index,\n",
    "           width = expand_df.iloc[i].values,\n",
    "           height = 0.8,\n",
    "           color = plt.cm.Dark2(range(11))\n",
    "           )\n",
    "    ax.set_title(f'Frame: {i}')\n",
    "    ax.bar_label(hbars, fmt='%.2d')\n",
    "    \n",
    "\n",
    "fig,ax = plt.subplots(#figsize=(10,7),\n",
    "                      facecolor = plt.cm.Dark2(0.9),\n",
    "                      dpi = 150,\n",
    "                      tight_layout=True\n",
    "                     )\n",
    "\n",
    "\n",
    "data_anime = FuncAnimation(\n",
    "    fig = fig,\n",
    "    func = update,\n",
    "    frames= len(expand_df),\n",
    "    interval=1\n",
    ")\n",
    "\n",
    "data_anime.save(\"f1.gif\")"
   ]
  },
  {
   "cell_type": "code",
   "execution_count": 32,
   "metadata": {},
   "outputs": [
    {
     "data": {
      "text/html": [
       "<div>\n",
       "<style scoped>\n",
       "    .dataframe tbody tr th:only-of-type {\n",
       "        vertical-align: middle;\n",
       "    }\n",
       "\n",
       "    .dataframe tbody tr th {\n",
       "        vertical-align: top;\n",
       "    }\n",
       "\n",
       "    .dataframe thead th {\n",
       "        text-align: right;\n",
       "    }\n",
       "</style>\n",
       "<table border=\"1\" class=\"dataframe\">\n",
       "  <thead>\n",
       "    <tr style=\"text-align: right;\">\n",
       "      <th>Driver</th>\n",
       "      <th>ALB</th>\n",
       "      <th>ALO</th>\n",
       "      <th>BOT</th>\n",
       "      <th>GAS</th>\n",
       "      <th>HAM</th>\n",
       "      <th>LAT</th>\n",
       "      <th>LEC</th>\n",
       "      <th>MAG</th>\n",
       "      <th>MSC</th>\n",
       "      <th>NOR</th>\n",
       "      <th>OCO</th>\n",
       "      <th>PER</th>\n",
       "      <th>RIC</th>\n",
       "      <th>RUS</th>\n",
       "      <th>STR</th>\n",
       "      <th>TSU</th>\n",
       "      <th>VER</th>\n",
       "      <th>VET</th>\n",
       "      <th>ZHO</th>\n",
       "    </tr>\n",
       "  </thead>\n",
       "  <tbody>\n",
       "    <tr>\n",
       "      <th>0</th>\n",
       "      <td>6.531</td>\n",
       "      <td>16.841</td>\n",
       "      <td>18.491</td>\n",
       "      <td>7.786</td>\n",
       "      <td>10.003</td>\n",
       "      <td>5.058</td>\n",
       "      <td>23.517</td>\n",
       "      <td>21.985</td>\n",
       "      <td>3.878</td>\n",
       "      <td>24.829</td>\n",
       "      <td>8.893</td>\n",
       "      <td>26.957</td>\n",
       "      <td>0.000</td>\n",
       "      <td>19.753</td>\n",
       "      <td>11.776</td>\n",
       "      <td>13.826</td>\n",
       "      <td>28.146</td>\n",
       "      <td>15.344</td>\n",
       "      <td>0.961</td>\n",
       "    </tr>\n",
       "    <tr>\n",
       "      <th>10</th>\n",
       "      <td>6.660</td>\n",
       "      <td>20.629</td>\n",
       "      <td>21.709</td>\n",
       "      <td>7.155</td>\n",
       "      <td>10.515</td>\n",
       "      <td>4.454</td>\n",
       "      <td>27.160</td>\n",
       "      <td>25.315</td>\n",
       "      <td>3.728</td>\n",
       "      <td>28.615</td>\n",
       "      <td>9.446</td>\n",
       "      <td>31.112</td>\n",
       "      <td>0.000</td>\n",
       "      <td>23.256</td>\n",
       "      <td>13.565</td>\n",
       "      <td>16.161</td>\n",
       "      <td>32.308</td>\n",
       "      <td>17.948</td>\n",
       "      <td>2.709</td>\n",
       "    </tr>\n",
       "    <tr>\n",
       "      <th>20</th>\n",
       "      <td>4.884</td>\n",
       "      <td>15.363</td>\n",
       "      <td>16.567</td>\n",
       "      <td>5.271</td>\n",
       "      <td>8.366</td>\n",
       "      <td>2.652</td>\n",
       "      <td>21.666</td>\n",
       "      <td>20.312</td>\n",
       "      <td>2.051</td>\n",
       "      <td>24.035</td>\n",
       "      <td>6.835</td>\n",
       "      <td>27.080</td>\n",
       "      <td>0.000</td>\n",
       "      <td>18.497</td>\n",
       "      <td>9.616</td>\n",
       "      <td>11.551</td>\n",
       "      <td>29.586</td>\n",
       "      <td>12.993</td>\n",
       "      <td>1.419</td>\n",
       "    </tr>\n",
       "    <tr>\n",
       "      <th>30</th>\n",
       "      <td>2.007</td>\n",
       "      <td>4.897</td>\n",
       "      <td>5.357</td>\n",
       "      <td>2.616</td>\n",
       "      <td>3.304</td>\n",
       "      <td>1.392</td>\n",
       "      <td>7.020</td>\n",
       "      <td>6.578</td>\n",
       "      <td>1.127</td>\n",
       "      <td>7.386</td>\n",
       "      <td>2.883</td>\n",
       "      <td>8.152</td>\n",
       "      <td>0.000</td>\n",
       "      <td>6.204</td>\n",
       "      <td>3.460</td>\n",
       "      <td>4.326</td>\n",
       "      <td>8.661</td>\n",
       "      <td>4.512</td>\n",
       "      <td>0.275</td>\n",
       "    </tr>\n",
       "    <tr>\n",
       "      <th>40</th>\n",
       "      <td>2.208</td>\n",
       "      <td>3.898</td>\n",
       "      <td>8.257</td>\n",
       "      <td>2.859</td>\n",
       "      <td>3.656</td>\n",
       "      <td>1.612</td>\n",
       "      <td>12.114</td>\n",
       "      <td>10.874</td>\n",
       "      <td>1.104</td>\n",
       "      <td>12.677</td>\n",
       "      <td>3.157</td>\n",
       "      <td>14.129</td>\n",
       "      <td>0.000</td>\n",
       "      <td>9.506</td>\n",
       "      <td>5.066</td>\n",
       "      <td>6.428</td>\n",
       "      <td>15.897</td>\n",
       "      <td>6.868</td>\n",
       "      <td>0.504</td>\n",
       "    </tr>\n",
       "    <tr>\n",
       "      <th>50</th>\n",
       "      <td>3.531</td>\n",
       "      <td>0.000</td>\n",
       "      <td>11.482</td>\n",
       "      <td>3.996</td>\n",
       "      <td>6.364</td>\n",
       "      <td>2.774</td>\n",
       "      <td>16.946</td>\n",
       "      <td>14.276</td>\n",
       "      <td>2.470</td>\n",
       "      <td>17.765</td>\n",
       "      <td>4.338</td>\n",
       "      <td>19.472</td>\n",
       "      <td>0.860</td>\n",
       "      <td>12.952</td>\n",
       "      <td>7.652</td>\n",
       "      <td>8.843</td>\n",
       "      <td>21.800</td>\n",
       "      <td>9.694</td>\n",
       "      <td>1.691</td>\n",
       "    </tr>\n",
       "    <tr>\n",
       "      <th>60</th>\n",
       "      <td>2.913</td>\n",
       "      <td>NaN</td>\n",
       "      <td>11.954</td>\n",
       "      <td>3.439</td>\n",
       "      <td>6.693</td>\n",
       "      <td>2.007</td>\n",
       "      <td>18.847</td>\n",
       "      <td>15.453</td>\n",
       "      <td>1.552</td>\n",
       "      <td>19.316</td>\n",
       "      <td>4.497</td>\n",
       "      <td>21.240</td>\n",
       "      <td>0.000</td>\n",
       "      <td>13.643</td>\n",
       "      <td>7.772</td>\n",
       "      <td>9.074</td>\n",
       "      <td>24.447</td>\n",
       "      <td>10.299</td>\n",
       "      <td>1.179</td>\n",
       "    </tr>\n",
       "    <tr>\n",
       "      <th>70</th>\n",
       "      <td>3.078</td>\n",
       "      <td>NaN</td>\n",
       "      <td>13.167</td>\n",
       "      <td>3.603</td>\n",
       "      <td>7.729</td>\n",
       "      <td>2.432</td>\n",
       "      <td>21.308</td>\n",
       "      <td>16.872</td>\n",
       "      <td>1.866</td>\n",
       "      <td>19.237</td>\n",
       "      <td>4.862</td>\n",
       "      <td>24.103</td>\n",
       "      <td>0.000</td>\n",
       "      <td>15.708</td>\n",
       "      <td>8.564</td>\n",
       "      <td>9.964</td>\n",
       "      <td>27.353</td>\n",
       "      <td>11.414</td>\n",
       "      <td>1.208</td>\n",
       "    </tr>\n",
       "    <tr>\n",
       "      <th>80</th>\n",
       "      <td>3.296</td>\n",
       "      <td>NaN</td>\n",
       "      <td>15.455</td>\n",
       "      <td>3.889</td>\n",
       "      <td>9.332</td>\n",
       "      <td>2.177</td>\n",
       "      <td>24.531</td>\n",
       "      <td>18.868</td>\n",
       "      <td>1.807</td>\n",
       "      <td>21.482</td>\n",
       "      <td>5.710</td>\n",
       "      <td>26.824</td>\n",
       "      <td>0.000</td>\n",
       "      <td>18.441</td>\n",
       "      <td>10.057</td>\n",
       "      <td>10.993</td>\n",
       "      <td>30.719</td>\n",
       "      <td>13.278</td>\n",
       "      <td>1.456</td>\n",
       "    </tr>\n",
       "    <tr>\n",
       "      <th>90</th>\n",
       "      <td>3.935</td>\n",
       "      <td>NaN</td>\n",
       "      <td>17.856</td>\n",
       "      <td>4.534</td>\n",
       "      <td>10.560</td>\n",
       "      <td>2.517</td>\n",
       "      <td>27.632</td>\n",
       "      <td>20.605</td>\n",
       "      <td>2.205</td>\n",
       "      <td>23.674</td>\n",
       "      <td>6.855</td>\n",
       "      <td>30.035</td>\n",
       "      <td>0.000</td>\n",
       "      <td>20.274</td>\n",
       "      <td>11.345</td>\n",
       "      <td>12.276</td>\n",
       "      <td>33.976</td>\n",
       "      <td>15.208</td>\n",
       "      <td>1.584</td>\n",
       "    </tr>\n",
       "    <tr>\n",
       "      <th>100</th>\n",
       "      <td>4.927</td>\n",
       "      <td>NaN</td>\n",
       "      <td>20.602</td>\n",
       "      <td>5.727</td>\n",
       "      <td>12.445</td>\n",
       "      <td>2.623</td>\n",
       "      <td>30.893</td>\n",
       "      <td>21.979</td>\n",
       "      <td>2.436</td>\n",
       "      <td>25.533</td>\n",
       "      <td>8.773</td>\n",
       "      <td>33.502</td>\n",
       "      <td>0.000</td>\n",
       "      <td>21.705</td>\n",
       "      <td>13.343</td>\n",
       "      <td>14.054</td>\n",
       "      <td>38.133</td>\n",
       "      <td>17.349</td>\n",
       "      <td>2.380</td>\n",
       "    </tr>\n",
       "    <tr>\n",
       "      <th>110</th>\n",
       "      <td>5.426</td>\n",
       "      <td>NaN</td>\n",
       "      <td>21.990</td>\n",
       "      <td>6.592</td>\n",
       "      <td>14.388</td>\n",
       "      <td>4.051</td>\n",
       "      <td>34.625</td>\n",
       "      <td>22.317</td>\n",
       "      <td>3.027</td>\n",
       "      <td>27.847</td>\n",
       "      <td>10.794</td>\n",
       "      <td>36.987</td>\n",
       "      <td>0.000</td>\n",
       "      <td>23.236</td>\n",
       "      <td>15.187</td>\n",
       "      <td>15.579</td>\n",
       "      <td>42.446</td>\n",
       "      <td>19.702</td>\n",
       "      <td>2.420</td>\n",
       "    </tr>\n",
       "    <tr>\n",
       "      <th>120</th>\n",
       "      <td>5.276</td>\n",
       "      <td>NaN</td>\n",
       "      <td>23.416</td>\n",
       "      <td>7.312</td>\n",
       "      <td>15.438</td>\n",
       "      <td>3.839</td>\n",
       "      <td>38.931</td>\n",
       "      <td>22.665</td>\n",
       "      <td>3.337</td>\n",
       "      <td>30.327</td>\n",
       "      <td>12.328</td>\n",
       "      <td>40.807</td>\n",
       "      <td>0.000</td>\n",
       "      <td>25.996</td>\n",
       "      <td>15.842</td>\n",
       "      <td>16.786</td>\n",
       "      <td>46.410</td>\n",
       "      <td>20.859</td>\n",
       "      <td>3.061</td>\n",
       "    </tr>\n",
       "    <tr>\n",
       "      <th>130</th>\n",
       "      <td>6.100</td>\n",
       "      <td>NaN</td>\n",
       "      <td>27.025</td>\n",
       "      <td>8.353</td>\n",
       "      <td>16.184</td>\n",
       "      <td>4.552</td>\n",
       "      <td>43.222</td>\n",
       "      <td>22.955</td>\n",
       "      <td>2.536</td>\n",
       "      <td>33.780</td>\n",
       "      <td>13.699</td>\n",
       "      <td>45.142</td>\n",
       "      <td>0.000</td>\n",
       "      <td>28.808</td>\n",
       "      <td>16.744</td>\n",
       "      <td>17.550</td>\n",
       "      <td>50.658</td>\n",
       "      <td>21.360</td>\n",
       "      <td>4.081</td>\n",
       "    </tr>\n",
       "    <tr>\n",
       "      <th>140</th>\n",
       "      <td>6.406</td>\n",
       "      <td>NaN</td>\n",
       "      <td>29.818</td>\n",
       "      <td>9.259</td>\n",
       "      <td>16.475</td>\n",
       "      <td>4.697</td>\n",
       "      <td>46.849</td>\n",
       "      <td>23.089</td>\n",
       "      <td>4.041</td>\n",
       "      <td>36.546</td>\n",
       "      <td>14.206</td>\n",
       "      <td>48.212</td>\n",
       "      <td>0.000</td>\n",
       "      <td>31.670</td>\n",
       "      <td>17.033</td>\n",
       "      <td>17.742</td>\n",
       "      <td>54.437</td>\n",
       "      <td>21.646</td>\n",
       "      <td>4.524</td>\n",
       "    </tr>\n",
       "    <tr>\n",
       "      <th>150</th>\n",
       "      <td>12.391</td>\n",
       "      <td>NaN</td>\n",
       "      <td>37.793</td>\n",
       "      <td>15.421</td>\n",
       "      <td>21.951</td>\n",
       "      <td>10.498</td>\n",
       "      <td>55.874</td>\n",
       "      <td>30.221</td>\n",
       "      <td>9.089</td>\n",
       "      <td>45.240</td>\n",
       "      <td>21.158</td>\n",
       "      <td>57.261</td>\n",
       "      <td>0.000</td>\n",
       "      <td>39.402</td>\n",
       "      <td>22.593</td>\n",
       "      <td>23.108</td>\n",
       "      <td>63.700</td>\n",
       "      <td>27.303</td>\n",
       "      <td>10.090</td>\n",
       "    </tr>\n",
       "    <tr>\n",
       "      <th>160</th>\n",
       "      <td>30.833</td>\n",
       "      <td>NaN</td>\n",
       "      <td>61.776</td>\n",
       "      <td>33.836</td>\n",
       "      <td>44.063</td>\n",
       "      <td>33.376</td>\n",
       "      <td>81.348</td>\n",
       "      <td>54.110</td>\n",
       "      <td>32.225</td>\n",
       "      <td>70.776</td>\n",
       "      <td>43.472</td>\n",
       "      <td>82.295</td>\n",
       "      <td>0.000</td>\n",
       "      <td>63.138</td>\n",
       "      <td>44.507</td>\n",
       "      <td>45.357</td>\n",
       "      <td>88.977</td>\n",
       "      <td>45.216</td>\n",
       "      <td>32.734</td>\n",
       "    </tr>\n",
       "    <tr>\n",
       "      <th>170</th>\n",
       "      <td>3.572</td>\n",
       "      <td>NaN</td>\n",
       "      <td>53.569</td>\n",
       "      <td>6.562</td>\n",
       "      <td>33.686</td>\n",
       "      <td>24.039</td>\n",
       "      <td>78.698</td>\n",
       "      <td>44.426</td>\n",
       "      <td>22.698</td>\n",
       "      <td>68.522</td>\n",
       "      <td>32.810</td>\n",
       "      <td>74.570</td>\n",
       "      <td>0.000</td>\n",
       "      <td>55.093</td>\n",
       "      <td>34.488</td>\n",
       "      <td>35.163</td>\n",
       "      <td>86.706</td>\n",
       "      <td>17.445</td>\n",
       "      <td>23.179</td>\n",
       "    </tr>\n",
       "    <tr>\n",
       "      <th>180</th>\n",
       "      <td>14.091</td>\n",
       "      <td>NaN</td>\n",
       "      <td>27.602</td>\n",
       "      <td>14.391</td>\n",
       "      <td>11.699</td>\n",
       "      <td>1.993</td>\n",
       "      <td>83.683</td>\n",
       "      <td>21.328</td>\n",
       "      <td>1.707</td>\n",
       "      <td>72.994</td>\n",
       "      <td>14.822</td>\n",
       "      <td>56.923</td>\n",
       "      <td>11.280</td>\n",
       "      <td>38.077</td>\n",
       "      <td>15.628</td>\n",
       "      <td>16.416</td>\n",
       "      <td>90.862</td>\n",
       "      <td>26.831</td>\n",
       "      <td>0.000</td>\n",
       "    </tr>\n",
       "    <tr>\n",
       "      <th>190</th>\n",
       "      <td>15.542</td>\n",
       "      <td>NaN</td>\n",
       "      <td>28.830</td>\n",
       "      <td>14.572</td>\n",
       "      <td>13.187</td>\n",
       "      <td>1.046</td>\n",
       "      <td>55.182</td>\n",
       "      <td>22.081</td>\n",
       "      <td>0.614</td>\n",
       "      <td>45.453</td>\n",
       "      <td>16.011</td>\n",
       "      <td>56.756</td>\n",
       "      <td>12.328</td>\n",
       "      <td>38.612</td>\n",
       "      <td>16.532</td>\n",
       "      <td>17.209</td>\n",
       "      <td>64.307</td>\n",
       "      <td>27.649</td>\n",
       "      <td>0.000</td>\n",
       "    </tr>\n",
       "    <tr>\n",
       "      <th>200</th>\n",
       "      <td>16.396</td>\n",
       "      <td>NaN</td>\n",
       "      <td>29.640</td>\n",
       "      <td>15.365</td>\n",
       "      <td>14.334</td>\n",
       "      <td>1.602</td>\n",
       "      <td>57.246</td>\n",
       "      <td>23.025</td>\n",
       "      <td>0.543</td>\n",
       "      <td>46.329</td>\n",
       "      <td>16.986</td>\n",
       "      <td>57.727</td>\n",
       "      <td>13.371</td>\n",
       "      <td>40.406</td>\n",
       "      <td>17.664</td>\n",
       "      <td>18.369</td>\n",
       "      <td>65.355</td>\n",
       "      <td>28.080</td>\n",
       "      <td>0.000</td>\n",
       "    </tr>\n",
       "    <tr>\n",
       "      <th>210</th>\n",
       "      <td>16.653</td>\n",
       "      <td>NaN</td>\n",
       "      <td>29.831</td>\n",
       "      <td>15.751</td>\n",
       "      <td>15.053</td>\n",
       "      <td>1.527</td>\n",
       "      <td>58.274</td>\n",
       "      <td>23.178</td>\n",
       "      <td>0.760</td>\n",
       "      <td>47.570</td>\n",
       "      <td>17.325</td>\n",
       "      <td>58.646</td>\n",
       "      <td>13.980</td>\n",
       "      <td>41.678</td>\n",
       "      <td>18.113</td>\n",
       "      <td>18.984</td>\n",
       "      <td>66.682</td>\n",
       "      <td>28.025</td>\n",
       "      <td>0.000</td>\n",
       "    </tr>\n",
       "    <tr>\n",
       "      <th>220</th>\n",
       "      <td>16.658</td>\n",
       "      <td>NaN</td>\n",
       "      <td>30.213</td>\n",
       "      <td>15.671</td>\n",
       "      <td>14.941</td>\n",
       "      <td>0.777</td>\n",
       "      <td>59.250</td>\n",
       "      <td>23.051</td>\n",
       "      <td>0.432</td>\n",
       "      <td>48.198</td>\n",
       "      <td>17.275</td>\n",
       "      <td>60.130</td>\n",
       "      <td>13.617</td>\n",
       "      <td>42.426</td>\n",
       "      <td>18.256</td>\n",
       "      <td>19.409</td>\n",
       "      <td>67.880</td>\n",
       "      <td>27.452</td>\n",
       "      <td>0.000</td>\n",
       "    </tr>\n",
       "    <tr>\n",
       "      <th>230</th>\n",
       "      <td>26.483</td>\n",
       "      <td>NaN</td>\n",
       "      <td>40.390</td>\n",
       "      <td>25.342</td>\n",
       "      <td>24.941</td>\n",
       "      <td>9.693</td>\n",
       "      <td>70.252</td>\n",
       "      <td>32.296</td>\n",
       "      <td>0.000</td>\n",
       "      <td>58.653</td>\n",
       "      <td>27.366</td>\n",
       "      <td>71.681</td>\n",
       "      <td>23.779</td>\n",
       "      <td>52.841</td>\n",
       "      <td>28.406</td>\n",
       "      <td>29.504</td>\n",
       "      <td>78.857</td>\n",
       "      <td>36.886</td>\n",
       "      <td>8.696</td>\n",
       "    </tr>\n",
       "    <tr>\n",
       "      <th>240</th>\n",
       "      <td>26.887</td>\n",
       "      <td>NaN</td>\n",
       "      <td>40.951</td>\n",
       "      <td>25.186</td>\n",
       "      <td>24.733</td>\n",
       "      <td>9.243</td>\n",
       "      <td>71.970</td>\n",
       "      <td>32.550</td>\n",
       "      <td>0.000</td>\n",
       "      <td>59.472</td>\n",
       "      <td>27.397</td>\n",
       "      <td>73.319</td>\n",
       "      <td>23.558</td>\n",
       "      <td>53.949</td>\n",
       "      <td>27.854</td>\n",
       "      <td>28.199</td>\n",
       "      <td>80.321</td>\n",
       "      <td>36.933</td>\n",
       "      <td>8.795</td>\n",
       "    </tr>\n",
       "    <tr>\n",
       "      <th>250</th>\n",
       "      <td>26.819</td>\n",
       "      <td>NaN</td>\n",
       "      <td>43.033</td>\n",
       "      <td>25.873</td>\n",
       "      <td>25.442</td>\n",
       "      <td>10.279</td>\n",
       "      <td>75.071</td>\n",
       "      <td>33.594</td>\n",
       "      <td>0.000</td>\n",
       "      <td>61.610</td>\n",
       "      <td>27.326</td>\n",
       "      <td>76.480</td>\n",
       "      <td>24.453</td>\n",
       "      <td>56.304</td>\n",
       "      <td>27.751</td>\n",
       "      <td>29.206</td>\n",
       "      <td>83.166</td>\n",
       "      <td>38.334</td>\n",
       "      <td>9.495</td>\n",
       "    </tr>\n",
       "    <tr>\n",
       "      <th>260</th>\n",
       "      <td>26.406</td>\n",
       "      <td>NaN</td>\n",
       "      <td>44.010</td>\n",
       "      <td>25.589</td>\n",
       "      <td>25.014</td>\n",
       "      <td>9.648</td>\n",
       "      <td>76.691</td>\n",
       "      <td>33.298</td>\n",
       "      <td>0.000</td>\n",
       "      <td>62.065</td>\n",
       "      <td>26.982</td>\n",
       "      <td>78.084</td>\n",
       "      <td>24.004</td>\n",
       "      <td>56.792</td>\n",
       "      <td>27.774</td>\n",
       "      <td>29.153</td>\n",
       "      <td>84.856</td>\n",
       "      <td>38.161</td>\n",
       "      <td>9.004</td>\n",
       "    </tr>\n",
       "    <tr>\n",
       "      <th>270</th>\n",
       "      <td>25.918</td>\n",
       "      <td>NaN</td>\n",
       "      <td>44.594</td>\n",
       "      <td>25.166</td>\n",
       "      <td>24.711</td>\n",
       "      <td>9.302</td>\n",
       "      <td>77.498</td>\n",
       "      <td>33.274</td>\n",
       "      <td>0.000</td>\n",
       "      <td>62.828</td>\n",
       "      <td>26.650</td>\n",
       "      <td>77.810</td>\n",
       "      <td>23.729</td>\n",
       "      <td>57.135</td>\n",
       "      <td>27.512</td>\n",
       "      <td>29.403</td>\n",
       "      <td>86.695</td>\n",
       "      <td>37.759</td>\n",
       "      <td>8.734</td>\n",
       "    </tr>\n",
       "    <tr>\n",
       "      <th>280</th>\n",
       "      <td>25.368</td>\n",
       "      <td>NaN</td>\n",
       "      <td>44.949</td>\n",
       "      <td>24.376</td>\n",
       "      <td>24.013</td>\n",
       "      <td>8.812</td>\n",
       "      <td>77.496</td>\n",
       "      <td>33.173</td>\n",
       "      <td>0.000</td>\n",
       "      <td>63.263</td>\n",
       "      <td>26.239</td>\n",
       "      <td>78.685</td>\n",
       "      <td>22.696</td>\n",
       "      <td>56.984</td>\n",
       "      <td>27.279</td>\n",
       "      <td>29.447</td>\n",
       "      <td>88.187</td>\n",
       "      <td>37.339</td>\n",
       "      <td>6.545</td>\n",
       "    </tr>\n",
       "    <tr>\n",
       "      <th>290</th>\n",
       "      <td>24.937</td>\n",
       "      <td>NaN</td>\n",
       "      <td>45.346</td>\n",
       "      <td>23.798</td>\n",
       "      <td>23.372</td>\n",
       "      <td>6.780</td>\n",
       "      <td>78.198</td>\n",
       "      <td>33.130</td>\n",
       "      <td>0.000</td>\n",
       "      <td>63.654</td>\n",
       "      <td>26.034</td>\n",
       "      <td>79.534</td>\n",
       "      <td>17.929</td>\n",
       "      <td>57.228</td>\n",
       "      <td>27.162</td>\n",
       "      <td>29.654</td>\n",
       "      <td>89.507</td>\n",
       "      <td>37.036</td>\n",
       "      <td>6.298</td>\n",
       "    </tr>\n",
       "    <tr>\n",
       "      <th>300</th>\n",
       "      <td>35.815</td>\n",
       "      <td>NaN</td>\n",
       "      <td>56.869</td>\n",
       "      <td>34.635</td>\n",
       "      <td>34.197</td>\n",
       "      <td>17.893</td>\n",
       "      <td>90.478</td>\n",
       "      <td>44.391</td>\n",
       "      <td>6.977</td>\n",
       "      <td>75.121</td>\n",
       "      <td>37.040</td>\n",
       "      <td>91.746</td>\n",
       "      <td>0.000</td>\n",
       "      <td>68.649</td>\n",
       "      <td>38.318</td>\n",
       "      <td>40.991</td>\n",
       "      <td>102.062</td>\n",
       "      <td>47.985</td>\n",
       "      <td>16.506</td>\n",
       "    </tr>\n",
       "    <tr>\n",
       "      <th>310</th>\n",
       "      <td>37.575</td>\n",
       "      <td>NaN</td>\n",
       "      <td>59.196</td>\n",
       "      <td>36.438</td>\n",
       "      <td>36.059</td>\n",
       "      <td>19.484</td>\n",
       "      <td>93.038</td>\n",
       "      <td>46.340</td>\n",
       "      <td>9.117</td>\n",
       "      <td>77.481</td>\n",
       "      <td>38.897</td>\n",
       "      <td>95.017</td>\n",
       "      <td>0.000</td>\n",
       "      <td>71.052</td>\n",
       "      <td>40.155</td>\n",
       "      <td>43.068</td>\n",
       "      <td>105.624</td>\n",
       "      <td>49.865</td>\n",
       "      <td>18.842</td>\n",
       "    </tr>\n",
       "    <tr>\n",
       "      <th>320</th>\n",
       "      <td>38.157</td>\n",
       "      <td>NaN</td>\n",
       "      <td>60.607</td>\n",
       "      <td>36.733</td>\n",
       "      <td>36.334</td>\n",
       "      <td>20.326</td>\n",
       "      <td>95.283</td>\n",
       "      <td>46.992</td>\n",
       "      <td>9.304</td>\n",
       "      <td>78.738</td>\n",
       "      <td>39.498</td>\n",
       "      <td>97.100</td>\n",
       "      <td>0.000</td>\n",
       "      <td>72.049</td>\n",
       "      <td>40.750</td>\n",
       "      <td>44.374</td>\n",
       "      <td>107.968</td>\n",
       "      <td>50.614</td>\n",
       "      <td>19.298</td>\n",
       "    </tr>\n",
       "    <tr>\n",
       "      <th>330</th>\n",
       "      <td>38.645</td>\n",
       "      <td>NaN</td>\n",
       "      <td>61.854</td>\n",
       "      <td>37.755</td>\n",
       "      <td>37.104</td>\n",
       "      <td>21.000</td>\n",
       "      <td>97.193</td>\n",
       "      <td>47.654</td>\n",
       "      <td>9.858</td>\n",
       "      <td>79.898</td>\n",
       "      <td>40.152</td>\n",
       "      <td>99.150</td>\n",
       "      <td>0.000</td>\n",
       "      <td>73.049</td>\n",
       "      <td>41.298</td>\n",
       "      <td>45.443</td>\n",
       "      <td>110.143</td>\n",
       "      <td>51.253</td>\n",
       "      <td>20.006</td>\n",
       "    </tr>\n",
       "    <tr>\n",
       "      <th>340</th>\n",
       "      <td>38.814</td>\n",
       "      <td>NaN</td>\n",
       "      <td>62.674</td>\n",
       "      <td>37.937</td>\n",
       "      <td>37.621</td>\n",
       "      <td>21.407</td>\n",
       "      <td>98.688</td>\n",
       "      <td>48.168</td>\n",
       "      <td>10.106</td>\n",
       "      <td>80.537</td>\n",
       "      <td>40.380</td>\n",
       "      <td>100.752</td>\n",
       "      <td>0.000</td>\n",
       "      <td>73.707</td>\n",
       "      <td>41.476</td>\n",
       "      <td>46.099</td>\n",
       "      <td>111.842</td>\n",
       "      <td>51.633</td>\n",
       "      <td>19.218</td>\n",
       "    </tr>\n",
       "    <tr>\n",
       "      <th>350</th>\n",
       "      <td>40.890</td>\n",
       "      <td>NaN</td>\n",
       "      <td>65.453</td>\n",
       "      <td>40.258</td>\n",
       "      <td>39.759</td>\n",
       "      <td>21.929</td>\n",
       "      <td>102.097</td>\n",
       "      <td>50.779</td>\n",
       "      <td>12.368</td>\n",
       "      <td>83.289</td>\n",
       "      <td>42.521</td>\n",
       "      <td>104.093</td>\n",
       "      <td>0.000</td>\n",
       "      <td>76.076</td>\n",
       "      <td>43.723</td>\n",
       "      <td>48.799</td>\n",
       "      <td>115.741</td>\n",
       "      <td>53.835</td>\n",
       "      <td>21.496</td>\n",
       "    </tr>\n",
       "    <tr>\n",
       "      <th>360</th>\n",
       "      <td>41.070</td>\n",
       "      <td>NaN</td>\n",
       "      <td>66.439</td>\n",
       "      <td>40.466</td>\n",
       "      <td>40.009</td>\n",
       "      <td>20.910</td>\n",
       "      <td>103.146</td>\n",
       "      <td>51.655</td>\n",
       "      <td>12.915</td>\n",
       "      <td>84.138</td>\n",
       "      <td>42.935</td>\n",
       "      <td>105.046</td>\n",
       "      <td>0.000</td>\n",
       "      <td>76.593</td>\n",
       "      <td>44.062</td>\n",
       "      <td>49.609</td>\n",
       "      <td>117.681</td>\n",
       "      <td>54.351</td>\n",
       "      <td>20.223</td>\n",
       "    </tr>\n",
       "    <tr>\n",
       "      <th>370</th>\n",
       "      <td>41.310</td>\n",
       "      <td>NaN</td>\n",
       "      <td>67.761</td>\n",
       "      <td>40.619</td>\n",
       "      <td>40.233</td>\n",
       "      <td>21.466</td>\n",
       "      <td>104.454</td>\n",
       "      <td>52.456</td>\n",
       "      <td>13.433</td>\n",
       "      <td>85.135</td>\n",
       "      <td>43.182</td>\n",
       "      <td>106.678</td>\n",
       "      <td>0.000</td>\n",
       "      <td>77.380</td>\n",
       "      <td>44.441</td>\n",
       "      <td>50.362</td>\n",
       "      <td>119.379</td>\n",
       "      <td>54.881</td>\n",
       "      <td>20.380</td>\n",
       "    </tr>\n",
       "    <tr>\n",
       "      <th>380</th>\n",
       "      <td>41.304</td>\n",
       "      <td>NaN</td>\n",
       "      <td>68.680</td>\n",
       "      <td>40.570</td>\n",
       "      <td>39.888</td>\n",
       "      <td>21.365</td>\n",
       "      <td>105.844</td>\n",
       "      <td>53.006</td>\n",
       "      <td>14.050</td>\n",
       "      <td>85.454</td>\n",
       "      <td>43.263</td>\n",
       "      <td>108.296</td>\n",
       "      <td>0.000</td>\n",
       "      <td>77.820</td>\n",
       "      <td>44.458</td>\n",
       "      <td>50.924</td>\n",
       "      <td>120.674</td>\n",
       "      <td>55.127</td>\n",
       "      <td>20.935</td>\n",
       "    </tr>\n",
       "    <tr>\n",
       "      <th>390</th>\n",
       "      <td>41.987</td>\n",
       "      <td>NaN</td>\n",
       "      <td>70.641</td>\n",
       "      <td>40.553</td>\n",
       "      <td>40.156</td>\n",
       "      <td>21.273</td>\n",
       "      <td>108.231</td>\n",
       "      <td>54.282</td>\n",
       "      <td>14.907</td>\n",
       "      <td>86.721</td>\n",
       "      <td>44.069</td>\n",
       "      <td>110.717</td>\n",
       "      <td>0.000</td>\n",
       "      <td>79.211</td>\n",
       "      <td>45.383</td>\n",
       "      <td>52.285</td>\n",
       "      <td>122.434</td>\n",
       "      <td>56.193</td>\n",
       "      <td>22.430</td>\n",
       "    </tr>\n",
       "    <tr>\n",
       "      <th>400</th>\n",
       "      <td>41.689</td>\n",
       "      <td>NaN</td>\n",
       "      <td>72.140</td>\n",
       "      <td>41.031</td>\n",
       "      <td>40.723</td>\n",
       "      <td>21.804</td>\n",
       "      <td>110.068</td>\n",
       "      <td>54.831</td>\n",
       "      <td>15.529</td>\n",
       "      <td>87.522</td>\n",
       "      <td>42.761</td>\n",
       "      <td>112.350</td>\n",
       "      <td>0.000</td>\n",
       "      <td>80.199</td>\n",
       "      <td>45.948</td>\n",
       "      <td>53.310</td>\n",
       "      <td>123.852</td>\n",
       "      <td>56.772</td>\n",
       "      <td>23.120</td>\n",
       "    </tr>\n",
       "    <tr>\n",
       "      <th>410</th>\n",
       "      <td>44.023</td>\n",
       "      <td>NaN</td>\n",
       "      <td>75.613</td>\n",
       "      <td>43.300</td>\n",
       "      <td>42.923</td>\n",
       "      <td>23.442</td>\n",
       "      <td>113.709</td>\n",
       "      <td>57.476</td>\n",
       "      <td>18.415</td>\n",
       "      <td>90.181</td>\n",
       "      <td>45.193</td>\n",
       "      <td>116.260</td>\n",
       "      <td>0.000</td>\n",
       "      <td>83.012</td>\n",
       "      <td>46.441</td>\n",
       "      <td>56.146</td>\n",
       "      <td>128.016</td>\n",
       "      <td>59.376</td>\n",
       "      <td>25.847</td>\n",
       "    </tr>\n",
       "    <tr>\n",
       "      <th>420</th>\n",
       "      <td>44.143</td>\n",
       "      <td>NaN</td>\n",
       "      <td>77.156</td>\n",
       "      <td>43.519</td>\n",
       "      <td>43.239</td>\n",
       "      <td>23.831</td>\n",
       "      <td>115.059</td>\n",
       "      <td>58.008</td>\n",
       "      <td>19.336</td>\n",
       "      <td>90.855</td>\n",
       "      <td>45.419</td>\n",
       "      <td>117.995</td>\n",
       "      <td>0.000</td>\n",
       "      <td>83.471</td>\n",
       "      <td>46.702</td>\n",
       "      <td>56.704</td>\n",
       "      <td>129.343</td>\n",
       "      <td>60.083</td>\n",
       "      <td>26.508</td>\n",
       "    </tr>\n",
       "    <tr>\n",
       "      <th>430</th>\n",
       "      <td>44.000</td>\n",
       "      <td>NaN</td>\n",
       "      <td>77.999</td>\n",
       "      <td>43.494</td>\n",
       "      <td>43.279</td>\n",
       "      <td>24.085</td>\n",
       "      <td>116.122</td>\n",
       "      <td>58.365</td>\n",
       "      <td>19.894</td>\n",
       "      <td>91.429</td>\n",
       "      <td>45.465</td>\n",
       "      <td>119.452</td>\n",
       "      <td>0.000</td>\n",
       "      <td>83.472</td>\n",
       "      <td>46.987</td>\n",
       "      <td>57.321</td>\n",
       "      <td>130.924</td>\n",
       "      <td>60.574</td>\n",
       "      <td>27.285</td>\n",
       "    </tr>\n",
       "    <tr>\n",
       "      <th>440</th>\n",
       "      <td>44.244</td>\n",
       "      <td>NaN</td>\n",
       "      <td>78.997</td>\n",
       "      <td>43.662</td>\n",
       "      <td>43.335</td>\n",
       "      <td>24.779</td>\n",
       "      <td>117.439</td>\n",
       "      <td>58.955</td>\n",
       "      <td>20.769</td>\n",
       "      <td>92.092</td>\n",
       "      <td>45.698</td>\n",
       "      <td>120.733</td>\n",
       "      <td>0.000</td>\n",
       "      <td>84.149</td>\n",
       "      <td>47.363</td>\n",
       "      <td>58.190</td>\n",
       "      <td>132.706</td>\n",
       "      <td>61.291</td>\n",
       "      <td>27.987</td>\n",
       "    </tr>\n",
       "    <tr>\n",
       "      <th>450</th>\n",
       "      <td>46.930</td>\n",
       "      <td>NaN</td>\n",
       "      <td>82.686</td>\n",
       "      <td>46.337</td>\n",
       "      <td>45.936</td>\n",
       "      <td>27.403</td>\n",
       "      <td>121.350</td>\n",
       "      <td>61.825</td>\n",
       "      <td>23.931</td>\n",
       "      <td>95.154</td>\n",
       "      <td>48.437</td>\n",
       "      <td>124.499</td>\n",
       "      <td>0.000</td>\n",
       "      <td>87.510</td>\n",
       "      <td>50.249</td>\n",
       "      <td>61.375</td>\n",
       "      <td>136.900</td>\n",
       "      <td>64.451</td>\n",
       "      <td>31.073</td>\n",
       "    </tr>\n",
       "    <tr>\n",
       "      <th>460</th>\n",
       "      <td>46.889</td>\n",
       "      <td>NaN</td>\n",
       "      <td>83.669</td>\n",
       "      <td>46.281</td>\n",
       "      <td>46.035</td>\n",
       "      <td>27.907</td>\n",
       "      <td>122.688</td>\n",
       "      <td>61.186</td>\n",
       "      <td>23.947</td>\n",
       "      <td>95.907</td>\n",
       "      <td>48.382</td>\n",
       "      <td>125.748</td>\n",
       "      <td>0.000</td>\n",
       "      <td>88.233</td>\n",
       "      <td>50.418</td>\n",
       "      <td>62.882</td>\n",
       "      <td>138.701</td>\n",
       "      <td>65.397</td>\n",
       "      <td>31.367</td>\n",
       "    </tr>\n",
       "    <tr>\n",
       "      <th>470</th>\n",
       "      <td>47.194</td>\n",
       "      <td>NaN</td>\n",
       "      <td>85.034</td>\n",
       "      <td>46.445</td>\n",
       "      <td>44.876</td>\n",
       "      <td>28.634</td>\n",
       "      <td>124.005</td>\n",
       "      <td>61.575</td>\n",
       "      <td>24.648</td>\n",
       "      <td>96.618</td>\n",
       "      <td>48.654</td>\n",
       "      <td>126.773</td>\n",
       "      <td>0.000</td>\n",
       "      <td>89.022</td>\n",
       "      <td>50.852</td>\n",
       "      <td>63.964</td>\n",
       "      <td>140.305</td>\n",
       "      <td>66.227</td>\n",
       "      <td>31.722</td>\n",
       "    </tr>\n",
       "    <tr>\n",
       "      <th>480</th>\n",
       "      <td>46.904</td>\n",
       "      <td>NaN</td>\n",
       "      <td>85.979</td>\n",
       "      <td>46.181</td>\n",
       "      <td>44.948</td>\n",
       "      <td>28.761</td>\n",
       "      <td>120.222</td>\n",
       "      <td>61.814</td>\n",
       "      <td>24.734</td>\n",
       "      <td>96.930</td>\n",
       "      <td>48.250</td>\n",
       "      <td>127.121</td>\n",
       "      <td>0.000</td>\n",
       "      <td>89.148</td>\n",
       "      <td>50.922</td>\n",
       "      <td>64.833</td>\n",
       "      <td>141.350</td>\n",
       "      <td>66.616</td>\n",
       "      <td>31.897</td>\n",
       "    </tr>\n",
       "    <tr>\n",
       "      <th>490</th>\n",
       "      <td>46.794</td>\n",
       "      <td>NaN</td>\n",
       "      <td>86.908</td>\n",
       "      <td>46.073</td>\n",
       "      <td>45.475</td>\n",
       "      <td>28.837</td>\n",
       "      <td>96.486</td>\n",
       "      <td>59.804</td>\n",
       "      <td>24.834</td>\n",
       "      <td>96.970</td>\n",
       "      <td>48.144</td>\n",
       "      <td>122.989</td>\n",
       "      <td>0.000</td>\n",
       "      <td>89.320</td>\n",
       "      <td>51.010</td>\n",
       "      <td>65.660</td>\n",
       "      <td>142.277</td>\n",
       "      <td>67.203</td>\n",
       "      <td>32.177</td>\n",
       "    </tr>\n",
       "  </tbody>\n",
       "</table>\n",
       "</div>"
      ],
      "text/plain": [
       "Driver     ALB     ALO     BOT     GAS     HAM     LAT      LEC     MAG  \\\n",
       "0        6.531  16.841  18.491   7.786  10.003   5.058   23.517  21.985   \n",
       "10       6.660  20.629  21.709   7.155  10.515   4.454   27.160  25.315   \n",
       "20       4.884  15.363  16.567   5.271   8.366   2.652   21.666  20.312   \n",
       "30       2.007   4.897   5.357   2.616   3.304   1.392    7.020   6.578   \n",
       "40       2.208   3.898   8.257   2.859   3.656   1.612   12.114  10.874   \n",
       "50       3.531   0.000  11.482   3.996   6.364   2.774   16.946  14.276   \n",
       "60       2.913     NaN  11.954   3.439   6.693   2.007   18.847  15.453   \n",
       "70       3.078     NaN  13.167   3.603   7.729   2.432   21.308  16.872   \n",
       "80       3.296     NaN  15.455   3.889   9.332   2.177   24.531  18.868   \n",
       "90       3.935     NaN  17.856   4.534  10.560   2.517   27.632  20.605   \n",
       "100      4.927     NaN  20.602   5.727  12.445   2.623   30.893  21.979   \n",
       "110      5.426     NaN  21.990   6.592  14.388   4.051   34.625  22.317   \n",
       "120      5.276     NaN  23.416   7.312  15.438   3.839   38.931  22.665   \n",
       "130      6.100     NaN  27.025   8.353  16.184   4.552   43.222  22.955   \n",
       "140      6.406     NaN  29.818   9.259  16.475   4.697   46.849  23.089   \n",
       "150     12.391     NaN  37.793  15.421  21.951  10.498   55.874  30.221   \n",
       "160     30.833     NaN  61.776  33.836  44.063  33.376   81.348  54.110   \n",
       "170      3.572     NaN  53.569   6.562  33.686  24.039   78.698  44.426   \n",
       "180     14.091     NaN  27.602  14.391  11.699   1.993   83.683  21.328   \n",
       "190     15.542     NaN  28.830  14.572  13.187   1.046   55.182  22.081   \n",
       "200     16.396     NaN  29.640  15.365  14.334   1.602   57.246  23.025   \n",
       "210     16.653     NaN  29.831  15.751  15.053   1.527   58.274  23.178   \n",
       "220     16.658     NaN  30.213  15.671  14.941   0.777   59.250  23.051   \n",
       "230     26.483     NaN  40.390  25.342  24.941   9.693   70.252  32.296   \n",
       "240     26.887     NaN  40.951  25.186  24.733   9.243   71.970  32.550   \n",
       "250     26.819     NaN  43.033  25.873  25.442  10.279   75.071  33.594   \n",
       "260     26.406     NaN  44.010  25.589  25.014   9.648   76.691  33.298   \n",
       "270     25.918     NaN  44.594  25.166  24.711   9.302   77.498  33.274   \n",
       "280     25.368     NaN  44.949  24.376  24.013   8.812   77.496  33.173   \n",
       "290     24.937     NaN  45.346  23.798  23.372   6.780   78.198  33.130   \n",
       "300     35.815     NaN  56.869  34.635  34.197  17.893   90.478  44.391   \n",
       "310     37.575     NaN  59.196  36.438  36.059  19.484   93.038  46.340   \n",
       "320     38.157     NaN  60.607  36.733  36.334  20.326   95.283  46.992   \n",
       "330     38.645     NaN  61.854  37.755  37.104  21.000   97.193  47.654   \n",
       "340     38.814     NaN  62.674  37.937  37.621  21.407   98.688  48.168   \n",
       "350     40.890     NaN  65.453  40.258  39.759  21.929  102.097  50.779   \n",
       "360     41.070     NaN  66.439  40.466  40.009  20.910  103.146  51.655   \n",
       "370     41.310     NaN  67.761  40.619  40.233  21.466  104.454  52.456   \n",
       "380     41.304     NaN  68.680  40.570  39.888  21.365  105.844  53.006   \n",
       "390     41.987     NaN  70.641  40.553  40.156  21.273  108.231  54.282   \n",
       "400     41.689     NaN  72.140  41.031  40.723  21.804  110.068  54.831   \n",
       "410     44.023     NaN  75.613  43.300  42.923  23.442  113.709  57.476   \n",
       "420     44.143     NaN  77.156  43.519  43.239  23.831  115.059  58.008   \n",
       "430     44.000     NaN  77.999  43.494  43.279  24.085  116.122  58.365   \n",
       "440     44.244     NaN  78.997  43.662  43.335  24.779  117.439  58.955   \n",
       "450     46.930     NaN  82.686  46.337  45.936  27.403  121.350  61.825   \n",
       "460     46.889     NaN  83.669  46.281  46.035  27.907  122.688  61.186   \n",
       "470     47.194     NaN  85.034  46.445  44.876  28.634  124.005  61.575   \n",
       "480     46.904     NaN  85.979  46.181  44.948  28.761  120.222  61.814   \n",
       "490     46.794     NaN  86.908  46.073  45.475  28.837   96.486  59.804   \n",
       "\n",
       "Driver     MSC     NOR     OCO      PER     RIC     RUS     STR     TSU  \\\n",
       "0        3.878  24.829   8.893   26.957   0.000  19.753  11.776  13.826   \n",
       "10       3.728  28.615   9.446   31.112   0.000  23.256  13.565  16.161   \n",
       "20       2.051  24.035   6.835   27.080   0.000  18.497   9.616  11.551   \n",
       "30       1.127   7.386   2.883    8.152   0.000   6.204   3.460   4.326   \n",
       "40       1.104  12.677   3.157   14.129   0.000   9.506   5.066   6.428   \n",
       "50       2.470  17.765   4.338   19.472   0.860  12.952   7.652   8.843   \n",
       "60       1.552  19.316   4.497   21.240   0.000  13.643   7.772   9.074   \n",
       "70       1.866  19.237   4.862   24.103   0.000  15.708   8.564   9.964   \n",
       "80       1.807  21.482   5.710   26.824   0.000  18.441  10.057  10.993   \n",
       "90       2.205  23.674   6.855   30.035   0.000  20.274  11.345  12.276   \n",
       "100      2.436  25.533   8.773   33.502   0.000  21.705  13.343  14.054   \n",
       "110      3.027  27.847  10.794   36.987   0.000  23.236  15.187  15.579   \n",
       "120      3.337  30.327  12.328   40.807   0.000  25.996  15.842  16.786   \n",
       "130      2.536  33.780  13.699   45.142   0.000  28.808  16.744  17.550   \n",
       "140      4.041  36.546  14.206   48.212   0.000  31.670  17.033  17.742   \n",
       "150      9.089  45.240  21.158   57.261   0.000  39.402  22.593  23.108   \n",
       "160     32.225  70.776  43.472   82.295   0.000  63.138  44.507  45.357   \n",
       "170     22.698  68.522  32.810   74.570   0.000  55.093  34.488  35.163   \n",
       "180      1.707  72.994  14.822   56.923  11.280  38.077  15.628  16.416   \n",
       "190      0.614  45.453  16.011   56.756  12.328  38.612  16.532  17.209   \n",
       "200      0.543  46.329  16.986   57.727  13.371  40.406  17.664  18.369   \n",
       "210      0.760  47.570  17.325   58.646  13.980  41.678  18.113  18.984   \n",
       "220      0.432  48.198  17.275   60.130  13.617  42.426  18.256  19.409   \n",
       "230      0.000  58.653  27.366   71.681  23.779  52.841  28.406  29.504   \n",
       "240      0.000  59.472  27.397   73.319  23.558  53.949  27.854  28.199   \n",
       "250      0.000  61.610  27.326   76.480  24.453  56.304  27.751  29.206   \n",
       "260      0.000  62.065  26.982   78.084  24.004  56.792  27.774  29.153   \n",
       "270      0.000  62.828  26.650   77.810  23.729  57.135  27.512  29.403   \n",
       "280      0.000  63.263  26.239   78.685  22.696  56.984  27.279  29.447   \n",
       "290      0.000  63.654  26.034   79.534  17.929  57.228  27.162  29.654   \n",
       "300      6.977  75.121  37.040   91.746   0.000  68.649  38.318  40.991   \n",
       "310      9.117  77.481  38.897   95.017   0.000  71.052  40.155  43.068   \n",
       "320      9.304  78.738  39.498   97.100   0.000  72.049  40.750  44.374   \n",
       "330      9.858  79.898  40.152   99.150   0.000  73.049  41.298  45.443   \n",
       "340     10.106  80.537  40.380  100.752   0.000  73.707  41.476  46.099   \n",
       "350     12.368  83.289  42.521  104.093   0.000  76.076  43.723  48.799   \n",
       "360     12.915  84.138  42.935  105.046   0.000  76.593  44.062  49.609   \n",
       "370     13.433  85.135  43.182  106.678   0.000  77.380  44.441  50.362   \n",
       "380     14.050  85.454  43.263  108.296   0.000  77.820  44.458  50.924   \n",
       "390     14.907  86.721  44.069  110.717   0.000  79.211  45.383  52.285   \n",
       "400     15.529  87.522  42.761  112.350   0.000  80.199  45.948  53.310   \n",
       "410     18.415  90.181  45.193  116.260   0.000  83.012  46.441  56.146   \n",
       "420     19.336  90.855  45.419  117.995   0.000  83.471  46.702  56.704   \n",
       "430     19.894  91.429  45.465  119.452   0.000  83.472  46.987  57.321   \n",
       "440     20.769  92.092  45.698  120.733   0.000  84.149  47.363  58.190   \n",
       "450     23.931  95.154  48.437  124.499   0.000  87.510  50.249  61.375   \n",
       "460     23.947  95.907  48.382  125.748   0.000  88.233  50.418  62.882   \n",
       "470     24.648  96.618  48.654  126.773   0.000  89.022  50.852  63.964   \n",
       "480     24.734  96.930  48.250  127.121   0.000  89.148  50.922  64.833   \n",
       "490     24.834  96.970  48.144  122.989   0.000  89.320  51.010  65.660   \n",
       "\n",
       "Driver      VER     VET     ZHO  \n",
       "0        28.146  15.344   0.961  \n",
       "10       32.308  17.948   2.709  \n",
       "20       29.586  12.993   1.419  \n",
       "30        8.661   4.512   0.275  \n",
       "40       15.897   6.868   0.504  \n",
       "50       21.800   9.694   1.691  \n",
       "60       24.447  10.299   1.179  \n",
       "70       27.353  11.414   1.208  \n",
       "80       30.719  13.278   1.456  \n",
       "90       33.976  15.208   1.584  \n",
       "100      38.133  17.349   2.380  \n",
       "110      42.446  19.702   2.420  \n",
       "120      46.410  20.859   3.061  \n",
       "130      50.658  21.360   4.081  \n",
       "140      54.437  21.646   4.524  \n",
       "150      63.700  27.303  10.090  \n",
       "160      88.977  45.216  32.734  \n",
       "170      86.706  17.445  23.179  \n",
       "180      90.862  26.831   0.000  \n",
       "190      64.307  27.649   0.000  \n",
       "200      65.355  28.080   0.000  \n",
       "210      66.682  28.025   0.000  \n",
       "220      67.880  27.452   0.000  \n",
       "230      78.857  36.886   8.696  \n",
       "240      80.321  36.933   8.795  \n",
       "250      83.166  38.334   9.495  \n",
       "260      84.856  38.161   9.004  \n",
       "270      86.695  37.759   8.734  \n",
       "280      88.187  37.339   6.545  \n",
       "290      89.507  37.036   6.298  \n",
       "300     102.062  47.985  16.506  \n",
       "310     105.624  49.865  18.842  \n",
       "320     107.968  50.614  19.298  \n",
       "330     110.143  51.253  20.006  \n",
       "340     111.842  51.633  19.218  \n",
       "350     115.741  53.835  21.496  \n",
       "360     117.681  54.351  20.223  \n",
       "370     119.379  54.881  20.380  \n",
       "380     120.674  55.127  20.935  \n",
       "390     122.434  56.193  22.430  \n",
       "400     123.852  56.772  23.120  \n",
       "410     128.016  59.376  25.847  \n",
       "420     129.343  60.083  26.508  \n",
       "430     130.924  60.574  27.285  \n",
       "440     132.706  61.291  27.987  \n",
       "450     136.900  64.451  31.073  \n",
       "460     138.701  65.397  31.367  \n",
       "470     140.305  66.227  31.722  \n",
       "480     141.350  66.616  31.897  \n",
       "490     142.277  67.203  32.177  "
      ]
     },
     "execution_count": 32,
     "metadata": {},
     "output_type": "execute_result"
    }
   ],
   "source": [
    "new_df2.head(50)"
   ]
  },
  {
   "cell_type": "code",
   "execution_count": 4,
   "metadata": {},
   "outputs": [
    {
     "data": {
      "text/html": [
       "<div>\n",
       "<style scoped>\n",
       "    .dataframe tbody tr th:only-of-type {\n",
       "        vertical-align: middle;\n",
       "    }\n",
       "\n",
       "    .dataframe tbody tr th {\n",
       "        vertical-align: top;\n",
       "    }\n",
       "\n",
       "    .dataframe thead th {\n",
       "        text-align: right;\n",
       "    }\n",
       "</style>\n",
       "<table border=\"1\" class=\"dataframe\">\n",
       "  <thead>\n",
       "    <tr style=\"text-align: right;\">\n",
       "      <th></th>\n",
       "      <th>1</th>\n",
       "      <th>2</th>\n",
       "      <th>3</th>\n",
       "      <th>4</th>\n",
       "      <th>5</th>\n",
       "      <th>6</th>\n",
       "      <th>7</th>\n",
       "      <th>8</th>\n",
       "    </tr>\n",
       "  </thead>\n",
       "  <tbody>\n",
       "    <tr>\n",
       "      <th>VER</th>\n",
       "      <td>0</td>\n",
       "      <td>25</td>\n",
       "      <td>25</td>\n",
       "      <td>59</td>\n",
       "      <td>85</td>\n",
       "      <td>110</td>\n",
       "      <td>125</td>\n",
       "      <td>150</td>\n",
       "    </tr>\n",
       "    <tr>\n",
       "      <th>PER</th>\n",
       "      <td>0</td>\n",
       "      <td>12</td>\n",
       "      <td>30</td>\n",
       "      <td>54</td>\n",
       "      <td>66</td>\n",
       "      <td>85</td>\n",
       "      <td>110</td>\n",
       "      <td>129</td>\n",
       "    </tr>\n",
       "    <tr>\n",
       "      <th>LEC</th>\n",
       "      <td>26</td>\n",
       "      <td>45</td>\n",
       "      <td>71</td>\n",
       "      <td>86</td>\n",
       "      <td>104</td>\n",
       "      <td>104</td>\n",
       "      <td>116</td>\n",
       "      <td>116</td>\n",
       "    </tr>\n",
       "    <tr>\n",
       "      <th>RUS</th>\n",
       "      <td>12</td>\n",
       "      <td>22</td>\n",
       "      <td>37</td>\n",
       "      <td>49</td>\n",
       "      <td>59</td>\n",
       "      <td>74</td>\n",
       "      <td>84</td>\n",
       "      <td>99</td>\n",
       "    </tr>\n",
       "    <tr>\n",
       "      <th>SAI</th>\n",
       "      <td>18</td>\n",
       "      <td>33</td>\n",
       "      <td>33</td>\n",
       "      <td>38</td>\n",
       "      <td>53</td>\n",
       "      <td>65</td>\n",
       "      <td>83</td>\n",
       "      <td>83</td>\n",
       "    </tr>\n",
       "  </tbody>\n",
       "</table>\n",
       "</div>"
      ],
      "text/plain": [
       "      1   2   3   4    5    6    7    8\n",
       "VER   0  25  25  59   85  110  125  150\n",
       "PER   0  12  30  54   66   85  110  129\n",
       "LEC  26  45  71  86  104  104  116  116\n",
       "RUS  12  22  37  49   59   74   84   99\n",
       "SAI  18  33  33  38   53   65   83   83"
      ]
     },
     "execution_count": 4,
     "metadata": {},
     "output_type": "execute_result"
    }
   ],
   "source": [
    "drivers_standings = pd.read_csv('https://f1-jedha-bucket.s3.eu-west-3.amazonaws.com/data/drivers_standings.csv', index_col=0)\n",
    "drivers_standings.head()"
   ]
  },
  {
   "cell_type": "code",
   "execution_count": 5,
   "metadata": {},
   "outputs": [
    {
     "data": {
      "text/html": [
       "<div>\n",
       "<style scoped>\n",
       "    .dataframe tbody tr th:only-of-type {\n",
       "        vertical-align: middle;\n",
       "    }\n",
       "\n",
       "    .dataframe tbody tr th {\n",
       "        vertical-align: top;\n",
       "    }\n",
       "\n",
       "    .dataframe thead th {\n",
       "        text-align: right;\n",
       "    }\n",
       "</style>\n",
       "<table border=\"1\" class=\"dataframe\">\n",
       "  <thead>\n",
       "    <tr style=\"text-align: right;\">\n",
       "      <th></th>\n",
       "      <th>1</th>\n",
       "      <th>2</th>\n",
       "      <th>3</th>\n",
       "      <th>4</th>\n",
       "      <th>5</th>\n",
       "      <th>6</th>\n",
       "      <th>7</th>\n",
       "      <th>8</th>\n",
       "    </tr>\n",
       "  </thead>\n",
       "  <tbody>\n",
       "    <tr>\n",
       "      <th>Red Bull</th>\n",
       "      <td>0</td>\n",
       "      <td>37</td>\n",
       "      <td>55</td>\n",
       "      <td>113</td>\n",
       "      <td>151</td>\n",
       "      <td>195</td>\n",
       "      <td>235</td>\n",
       "      <td>279</td>\n",
       "    </tr>\n",
       "    <tr>\n",
       "      <th>Ferrari</th>\n",
       "      <td>44</td>\n",
       "      <td>78</td>\n",
       "      <td>104</td>\n",
       "      <td>124</td>\n",
       "      <td>157</td>\n",
       "      <td>169</td>\n",
       "      <td>199</td>\n",
       "      <td>199</td>\n",
       "    </tr>\n",
       "    <tr>\n",
       "      <th>Mercedes</th>\n",
       "      <td>27</td>\n",
       "      <td>38</td>\n",
       "      <td>65</td>\n",
       "      <td>77</td>\n",
       "      <td>95</td>\n",
       "      <td>120</td>\n",
       "      <td>134</td>\n",
       "      <td>161</td>\n",
       "    </tr>\n",
       "    <tr>\n",
       "      <th>McLaren</th>\n",
       "      <td>0</td>\n",
       "      <td>6</td>\n",
       "      <td>24</td>\n",
       "      <td>46</td>\n",
       "      <td>46</td>\n",
       "      <td>50</td>\n",
       "      <td>59</td>\n",
       "      <td>65</td>\n",
       "    </tr>\n",
       "    <tr>\n",
       "      <th>Alpine F1 Team</th>\n",
       "      <td>8</td>\n",
       "      <td>16</td>\n",
       "      <td>22</td>\n",
       "      <td>22</td>\n",
       "      <td>26</td>\n",
       "      <td>34</td>\n",
       "      <td>40</td>\n",
       "      <td>47</td>\n",
       "    </tr>\n",
       "  </tbody>\n",
       "</table>\n",
       "</div>"
      ],
      "text/plain": [
       "                 1   2    3    4    5    6    7    8\n",
       "Red Bull         0  37   55  113  151  195  235  279\n",
       "Ferrari         44  78  104  124  157  169  199  199\n",
       "Mercedes        27  38   65   77   95  120  134  161\n",
       "McLaren          0   6   24   46   46   50   59   65\n",
       "Alpine F1 Team   8  16   22   22   26   34   40   47"
      ]
     },
     "execution_count": 5,
     "metadata": {},
     "output_type": "execute_result"
    }
   ],
   "source": [
    "constructors_standings = pd.read_csv('https://f1-jedha-bucket.s3.eu-west-3.amazonaws.com/data/constructors_standings.csv', index_col=0)\n",
    "constructors_standings.head()"
   ]
  }
 ],
 "metadata": {
  "interpreter": {
   "hash": "bd3f638786f9d50f661aac0164b340514111e5a1a41bf1f2b4aa363e178ebb8b"
  },
  "kernelspec": {
   "display_name": "Python 3.10.4 ('new_base')",
   "language": "python",
   "name": "python3"
  },
  "language_info": {
   "codemirror_mode": {
    "name": "ipython",
    "version": 3
   },
   "file_extension": ".py",
   "mimetype": "text/x-python",
   "name": "python",
   "nbconvert_exporter": "python",
   "pygments_lexer": "ipython3",
   "version": "3.10.4"
  },
  "orig_nbformat": 4
 },
 "nbformat": 4,
 "nbformat_minor": 2
}
