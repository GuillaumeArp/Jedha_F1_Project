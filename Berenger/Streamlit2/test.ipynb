{
 "cells": [
  {
   "cell_type": "code",
   "execution_count": 2,
   "metadata": {},
   "outputs": [
    {
     "name": "stderr",
     "output_type": "stream",
     "text": [
      "core           INFO \tLoading data for Australian Grand Prix - Race [v2.2.8]\n",
      "api            INFO \tUsing cached data for driver_info\n",
      "api            INFO \tUsing cached data for timing_data\n",
      "api            INFO \tUsing cached data for timing_app_data\n",
      "core           INFO \tProcessing timing data...\n",
      "api            INFO \tUsing cached data for session_status_data\n",
      "api            INFO \tUsing cached data for track_status_data\n",
      "api            INFO \tUsing cached data for car_data\n",
      "api            INFO \tUsing cached data for position_data\n",
      "api            INFO \tUsing cached data for weather_data\n",
      "api            INFO \tUsing cached data for race_control_messages\n",
      "core           INFO \tFinished loading data for 20 drivers: ['16', '11', '63', '44', '4', '3', '31', '77', '10', '23', '24', '18', '47', '20', '22', '6', '14', '1', '5', '55']\n"
     ]
    },
    {
     "data": {
      "text/html": [
       "<div>\n",
       "<style scoped>\n",
       "    .dataframe tbody tr th:only-of-type {\n",
       "        vertical-align: middle;\n",
       "    }\n",
       "\n",
       "    .dataframe tbody tr th {\n",
       "        vertical-align: top;\n",
       "    }\n",
       "\n",
       "    .dataframe thead th {\n",
       "        text-align: right;\n",
       "    }\n",
       "</style>\n",
       "<table border=\"1\" class=\"dataframe\">\n",
       "  <thead>\n",
       "    <tr style=\"text-align: right;\">\n",
       "      <th></th>\n",
       "      <th>DriverNumber</th>\n",
       "      <th>BroadcastName</th>\n",
       "      <th>Abbreviation</th>\n",
       "      <th>TeamName</th>\n",
       "      <th>TeamColor</th>\n",
       "      <th>FirstName</th>\n",
       "      <th>LastName</th>\n",
       "      <th>FullName</th>\n",
       "      <th>Position</th>\n",
       "      <th>GridPosition</th>\n",
       "      <th>Q1</th>\n",
       "      <th>Q2</th>\n",
       "      <th>Q3</th>\n",
       "      <th>Time</th>\n",
       "      <th>Status</th>\n",
       "      <th>Points</th>\n",
       "    </tr>\n",
       "  </thead>\n",
       "  <tbody>\n",
       "    <tr>\n",
       "      <th>16</th>\n",
       "      <td>16</td>\n",
       "      <td>C LECLERC</td>\n",
       "      <td>LEC</td>\n",
       "      <td>Ferrari</td>\n",
       "      <td>ed1c24</td>\n",
       "      <td>Charles</td>\n",
       "      <td>Leclerc</td>\n",
       "      <td>Charles Leclerc</td>\n",
       "      <td>1.0</td>\n",
       "      <td>1.0</td>\n",
       "      <td>NaT</td>\n",
       "      <td>NaT</td>\n",
       "      <td>NaT</td>\n",
       "      <td>0 days 01:27:46.548000</td>\n",
       "      <td>Finished</td>\n",
       "      <td>26.0</td>\n",
       "    </tr>\n",
       "    <tr>\n",
       "      <th>11</th>\n",
       "      <td>11</td>\n",
       "      <td>S PEREZ</td>\n",
       "      <td>PER</td>\n",
       "      <td>Red Bull Racing</td>\n",
       "      <td>1e5bc6</td>\n",
       "      <td>Sergio</td>\n",
       "      <td>Perez</td>\n",
       "      <td>Sergio Perez</td>\n",
       "      <td>2.0</td>\n",
       "      <td>3.0</td>\n",
       "      <td>NaT</td>\n",
       "      <td>NaT</td>\n",
       "      <td>NaT</td>\n",
       "      <td>0 days 01:28:07.072000</td>\n",
       "      <td>Finished</td>\n",
       "      <td>18.0</td>\n",
       "    </tr>\n",
       "    <tr>\n",
       "      <th>63</th>\n",
       "      <td>63</td>\n",
       "      <td>G RUSSELL</td>\n",
       "      <td>RUS</td>\n",
       "      <td>Mercedes</td>\n",
       "      <td>6cd3bf</td>\n",
       "      <td>George</td>\n",
       "      <td>Russell</td>\n",
       "      <td>George Russell</td>\n",
       "      <td>3.0</td>\n",
       "      <td>6.0</td>\n",
       "      <td>NaT</td>\n",
       "      <td>NaT</td>\n",
       "      <td>NaT</td>\n",
       "      <td>0 days 01:28:12.141000</td>\n",
       "      <td>Finished</td>\n",
       "      <td>15.0</td>\n",
       "    </tr>\n",
       "    <tr>\n",
       "      <th>44</th>\n",
       "      <td>44</td>\n",
       "      <td>L HAMILTON</td>\n",
       "      <td>HAM</td>\n",
       "      <td>Mercedes</td>\n",
       "      <td>6cd3bf</td>\n",
       "      <td>Lewis</td>\n",
       "      <td>Hamilton</td>\n",
       "      <td>Lewis Hamilton</td>\n",
       "      <td>4.0</td>\n",
       "      <td>5.0</td>\n",
       "      <td>NaT</td>\n",
       "      <td>NaT</td>\n",
       "      <td>NaT</td>\n",
       "      <td>0 days 01:28:15.091000</td>\n",
       "      <td>Finished</td>\n",
       "      <td>12.0</td>\n",
       "    </tr>\n",
       "    <tr>\n",
       "      <th>4</th>\n",
       "      <td>4</td>\n",
       "      <td>L NORRIS</td>\n",
       "      <td>NOR</td>\n",
       "      <td>McLaren</td>\n",
       "      <td>f58020</td>\n",
       "      <td>Lando</td>\n",
       "      <td>Norris</td>\n",
       "      <td>Lando Norris</td>\n",
       "      <td>5.0</td>\n",
       "      <td>4.0</td>\n",
       "      <td>NaT</td>\n",
       "      <td>NaT</td>\n",
       "      <td>NaT</td>\n",
       "      <td>0 days 01:28:39.851000</td>\n",
       "      <td>Finished</td>\n",
       "      <td>10.0</td>\n",
       "    </tr>\n",
       "    <tr>\n",
       "      <th>3</th>\n",
       "      <td>3</td>\n",
       "      <td>D RICCIARDO</td>\n",
       "      <td>RIC</td>\n",
       "      <td>McLaren</td>\n",
       "      <td>f58020</td>\n",
       "      <td>Daniel</td>\n",
       "      <td>Ricciardo</td>\n",
       "      <td>Daniel Ricciardo</td>\n",
       "      <td>6.0</td>\n",
       "      <td>7.0</td>\n",
       "      <td>NaT</td>\n",
       "      <td>NaT</td>\n",
       "      <td>NaT</td>\n",
       "      <td>0 days 01:28:40.285000</td>\n",
       "      <td>Finished</td>\n",
       "      <td>8.0</td>\n",
       "    </tr>\n",
       "    <tr>\n",
       "      <th>31</th>\n",
       "      <td>31</td>\n",
       "      <td>E OCON</td>\n",
       "      <td>OCO</td>\n",
       "      <td>Alpine</td>\n",
       "      <td>2293d1</td>\n",
       "      <td>Esteban</td>\n",
       "      <td>Ocon</td>\n",
       "      <td>Esteban Ocon</td>\n",
       "      <td>7.0</td>\n",
       "      <td>8.0</td>\n",
       "      <td>NaT</td>\n",
       "      <td>NaT</td>\n",
       "      <td>NaT</td>\n",
       "      <td>0 days 01:28:48.231000</td>\n",
       "      <td>Finished</td>\n",
       "      <td>6.0</td>\n",
       "    </tr>\n",
       "    <tr>\n",
       "      <th>77</th>\n",
       "      <td>77</td>\n",
       "      <td>V BOTTAS</td>\n",
       "      <td>BOT</td>\n",
       "      <td>Alfa Romeo</td>\n",
       "      <td>b12039</td>\n",
       "      <td>Valtteri</td>\n",
       "      <td>Bottas</td>\n",
       "      <td>Valtteri Bottas</td>\n",
       "      <td>8.0</td>\n",
       "      <td>12.0</td>\n",
       "      <td>NaT</td>\n",
       "      <td>NaT</td>\n",
       "      <td>NaT</td>\n",
       "      <td>0 days 01:28:54.987000</td>\n",
       "      <td>Finished</td>\n",
       "      <td>4.0</td>\n",
       "    </tr>\n",
       "    <tr>\n",
       "      <th>10</th>\n",
       "      <td>10</td>\n",
       "      <td>P GASLY</td>\n",
       "      <td>GAS</td>\n",
       "      <td>AlphaTauri</td>\n",
       "      <td>4e7c9b</td>\n",
       "      <td>Pierre</td>\n",
       "      <td>Gasly</td>\n",
       "      <td>Pierre Gasly</td>\n",
       "      <td>9.0</td>\n",
       "      <td>11.0</td>\n",
       "      <td>NaT</td>\n",
       "      <td>NaT</td>\n",
       "      <td>NaT</td>\n",
       "      <td>0 days 01:29:02.769000</td>\n",
       "      <td>Finished</td>\n",
       "      <td>2.0</td>\n",
       "    </tr>\n",
       "    <tr>\n",
       "      <th>23</th>\n",
       "      <td>23</td>\n",
       "      <td>A ALBON</td>\n",
       "      <td>ALB</td>\n",
       "      <td>Williams</td>\n",
       "      <td>37bedd</td>\n",
       "      <td>Alexander</td>\n",
       "      <td>Albon</td>\n",
       "      <td>Alexander Albon</td>\n",
       "      <td>10.0</td>\n",
       "      <td>20.0</td>\n",
       "      <td>NaT</td>\n",
       "      <td>NaT</td>\n",
       "      <td>NaT</td>\n",
       "      <td>0 days 01:29:05.930000</td>\n",
       "      <td>Finished</td>\n",
       "      <td>1.0</td>\n",
       "    </tr>\n",
       "    <tr>\n",
       "      <th>24</th>\n",
       "      <td>24</td>\n",
       "      <td>G ZHOU</td>\n",
       "      <td>ZHO</td>\n",
       "      <td>Alfa Romeo</td>\n",
       "      <td>b12039</td>\n",
       "      <td>Guanyu</td>\n",
       "      <td>Zhou</td>\n",
       "      <td>Guanyu Zhou</td>\n",
       "      <td>11.0</td>\n",
       "      <td>14.0</td>\n",
       "      <td>NaT</td>\n",
       "      <td>NaT</td>\n",
       "      <td>NaT</td>\n",
       "      <td>0 days 01:29:08.243000</td>\n",
       "      <td>Finished</td>\n",
       "      <td>0.0</td>\n",
       "    </tr>\n",
       "    <tr>\n",
       "      <th>18</th>\n",
       "      <td>18</td>\n",
       "      <td>L STROLL</td>\n",
       "      <td>STR</td>\n",
       "      <td>Aston Martin</td>\n",
       "      <td>2d826d</td>\n",
       "      <td>Lance</td>\n",
       "      <td>Stroll</td>\n",
       "      <td>Lance Stroll</td>\n",
       "      <td>12.0</td>\n",
       "      <td>19.0</td>\n",
       "      <td>NaT</td>\n",
       "      <td>NaT</td>\n",
       "      <td>NaT</td>\n",
       "      <td>0 days 01:29:15.146000</td>\n",
       "      <td>Finished</td>\n",
       "      <td>0.0</td>\n",
       "    </tr>\n",
       "    <tr>\n",
       "      <th>47</th>\n",
       "      <td>47</td>\n",
       "      <td>M SCHUMACHER</td>\n",
       "      <td>MSC</td>\n",
       "      <td>Haas F1 Team</td>\n",
       "      <td>b6babd</td>\n",
       "      <td>Mick</td>\n",
       "      <td>Schumacher</td>\n",
       "      <td>Mick Schumacher</td>\n",
       "      <td>13.0</td>\n",
       "      <td>15.0</td>\n",
       "      <td>NaT</td>\n",
       "      <td>NaT</td>\n",
       "      <td>NaT</td>\n",
       "      <td>NaT</td>\n",
       "      <td>+1 Lap</td>\n",
       "      <td>0.0</td>\n",
       "    </tr>\n",
       "    <tr>\n",
       "      <th>20</th>\n",
       "      <td>20</td>\n",
       "      <td>K MAGNUSSEN</td>\n",
       "      <td>MAG</td>\n",
       "      <td>Haas F1 Team</td>\n",
       "      <td>b6babd</td>\n",
       "      <td>Kevin</td>\n",
       "      <td>Magnussen</td>\n",
       "      <td>Kevin Magnussen</td>\n",
       "      <td>14.0</td>\n",
       "      <td>16.0</td>\n",
       "      <td>NaT</td>\n",
       "      <td>NaT</td>\n",
       "      <td>NaT</td>\n",
       "      <td>NaT</td>\n",
       "      <td>+1 Lap</td>\n",
       "      <td>0.0</td>\n",
       "    </tr>\n",
       "    <tr>\n",
       "      <th>22</th>\n",
       "      <td>22</td>\n",
       "      <td>Y TSUNODA</td>\n",
       "      <td>TSU</td>\n",
       "      <td>AlphaTauri</td>\n",
       "      <td>4e7c9b</td>\n",
       "      <td>Yuki</td>\n",
       "      <td>Tsunoda</td>\n",
       "      <td>Yuki Tsunoda</td>\n",
       "      <td>15.0</td>\n",
       "      <td>13.0</td>\n",
       "      <td>NaT</td>\n",
       "      <td>NaT</td>\n",
       "      <td>NaT</td>\n",
       "      <td>NaT</td>\n",
       "      <td>+1 Lap</td>\n",
       "      <td>0.0</td>\n",
       "    </tr>\n",
       "    <tr>\n",
       "      <th>6</th>\n",
       "      <td>6</td>\n",
       "      <td>N LATIFI</td>\n",
       "      <td>LAT</td>\n",
       "      <td>Williams</td>\n",
       "      <td>37bedd</td>\n",
       "      <td>Nicholas</td>\n",
       "      <td>Latifi</td>\n",
       "      <td>Nicholas Latifi</td>\n",
       "      <td>16.0</td>\n",
       "      <td>18.0</td>\n",
       "      <td>NaT</td>\n",
       "      <td>NaT</td>\n",
       "      <td>NaT</td>\n",
       "      <td>NaT</td>\n",
       "      <td>+1 Lap</td>\n",
       "      <td>0.0</td>\n",
       "    </tr>\n",
       "    <tr>\n",
       "      <th>14</th>\n",
       "      <td>14</td>\n",
       "      <td>F ALONSO</td>\n",
       "      <td>ALO</td>\n",
       "      <td>Alpine</td>\n",
       "      <td>2293d1</td>\n",
       "      <td>Fernando</td>\n",
       "      <td>Alonso</td>\n",
       "      <td>Fernando Alonso</td>\n",
       "      <td>17.0</td>\n",
       "      <td>10.0</td>\n",
       "      <td>NaT</td>\n",
       "      <td>NaT</td>\n",
       "      <td>NaT</td>\n",
       "      <td>NaT</td>\n",
       "      <td>+1 Lap</td>\n",
       "      <td>0.0</td>\n",
       "    </tr>\n",
       "    <tr>\n",
       "      <th>1</th>\n",
       "      <td>1</td>\n",
       "      <td>M VERSTAPPEN</td>\n",
       "      <td>VER</td>\n",
       "      <td>Red Bull Racing</td>\n",
       "      <td>1e5bc6</td>\n",
       "      <td>Max</td>\n",
       "      <td>Verstappen</td>\n",
       "      <td>Max Verstappen</td>\n",
       "      <td>18.0</td>\n",
       "      <td>2.0</td>\n",
       "      <td>NaT</td>\n",
       "      <td>NaT</td>\n",
       "      <td>NaT</td>\n",
       "      <td>NaT</td>\n",
       "      <td>Hydraulics</td>\n",
       "      <td>0.0</td>\n",
       "    </tr>\n",
       "    <tr>\n",
       "      <th>5</th>\n",
       "      <td>5</td>\n",
       "      <td>S VETTEL</td>\n",
       "      <td>VET</td>\n",
       "      <td>Aston Martin</td>\n",
       "      <td>2d826d</td>\n",
       "      <td>Sebastian</td>\n",
       "      <td>Vettel</td>\n",
       "      <td>Sebastian Vettel</td>\n",
       "      <td>19.0</td>\n",
       "      <td>17.0</td>\n",
       "      <td>NaT</td>\n",
       "      <td>NaT</td>\n",
       "      <td>NaT</td>\n",
       "      <td>NaT</td>\n",
       "      <td>Accident</td>\n",
       "      <td>0.0</td>\n",
       "    </tr>\n",
       "    <tr>\n",
       "      <th>55</th>\n",
       "      <td>55</td>\n",
       "      <td>C SAINZ</td>\n",
       "      <td>SAI</td>\n",
       "      <td>Ferrari</td>\n",
       "      <td>ed1c24</td>\n",
       "      <td>Carlos</td>\n",
       "      <td>Sainz</td>\n",
       "      <td>Carlos Sainz</td>\n",
       "      <td>20.0</td>\n",
       "      <td>9.0</td>\n",
       "      <td>NaT</td>\n",
       "      <td>NaT</td>\n",
       "      <td>NaT</td>\n",
       "      <td>NaT</td>\n",
       "      <td>Spun off</td>\n",
       "      <td>0.0</td>\n",
       "    </tr>\n",
       "  </tbody>\n",
       "</table>\n",
       "</div>"
      ],
      "text/plain": [
       "   DriverNumber BroadcastName Abbreviation         TeamName TeamColor  \\\n",
       "16           16     C LECLERC          LEC          Ferrari    ed1c24   \n",
       "11           11       S PEREZ          PER  Red Bull Racing    1e5bc6   \n",
       "63           63     G RUSSELL          RUS         Mercedes    6cd3bf   \n",
       "44           44    L HAMILTON          HAM         Mercedes    6cd3bf   \n",
       "4             4      L NORRIS          NOR          McLaren    f58020   \n",
       "3             3   D RICCIARDO          RIC          McLaren    f58020   \n",
       "31           31        E OCON          OCO           Alpine    2293d1   \n",
       "77           77      V BOTTAS          BOT       Alfa Romeo    b12039   \n",
       "10           10       P GASLY          GAS       AlphaTauri    4e7c9b   \n",
       "23           23       A ALBON          ALB         Williams    37bedd   \n",
       "24           24        G ZHOU          ZHO       Alfa Romeo    b12039   \n",
       "18           18      L STROLL          STR     Aston Martin    2d826d   \n",
       "47           47  M SCHUMACHER          MSC     Haas F1 Team    b6babd   \n",
       "20           20   K MAGNUSSEN          MAG     Haas F1 Team    b6babd   \n",
       "22           22     Y TSUNODA          TSU       AlphaTauri    4e7c9b   \n",
       "6             6      N LATIFI          LAT         Williams    37bedd   \n",
       "14           14      F ALONSO          ALO           Alpine    2293d1   \n",
       "1             1  M VERSTAPPEN          VER  Red Bull Racing    1e5bc6   \n",
       "5             5      S VETTEL          VET     Aston Martin    2d826d   \n",
       "55           55       C SAINZ          SAI          Ferrari    ed1c24   \n",
       "\n",
       "    FirstName    LastName          FullName  Position  GridPosition  Q1  Q2  \\\n",
       "16    Charles     Leclerc   Charles Leclerc       1.0           1.0 NaT NaT   \n",
       "11     Sergio       Perez      Sergio Perez       2.0           3.0 NaT NaT   \n",
       "63     George     Russell    George Russell       3.0           6.0 NaT NaT   \n",
       "44      Lewis    Hamilton    Lewis Hamilton       4.0           5.0 NaT NaT   \n",
       "4       Lando      Norris      Lando Norris       5.0           4.0 NaT NaT   \n",
       "3      Daniel   Ricciardo  Daniel Ricciardo       6.0           7.0 NaT NaT   \n",
       "31    Esteban        Ocon      Esteban Ocon       7.0           8.0 NaT NaT   \n",
       "77   Valtteri      Bottas   Valtteri Bottas       8.0          12.0 NaT NaT   \n",
       "10     Pierre       Gasly      Pierre Gasly       9.0          11.0 NaT NaT   \n",
       "23  Alexander       Albon   Alexander Albon      10.0          20.0 NaT NaT   \n",
       "24     Guanyu        Zhou       Guanyu Zhou      11.0          14.0 NaT NaT   \n",
       "18      Lance      Stroll      Lance Stroll      12.0          19.0 NaT NaT   \n",
       "47       Mick  Schumacher   Mick Schumacher      13.0          15.0 NaT NaT   \n",
       "20      Kevin   Magnussen   Kevin Magnussen      14.0          16.0 NaT NaT   \n",
       "22       Yuki     Tsunoda      Yuki Tsunoda      15.0          13.0 NaT NaT   \n",
       "6    Nicholas      Latifi   Nicholas Latifi      16.0          18.0 NaT NaT   \n",
       "14   Fernando      Alonso   Fernando Alonso      17.0          10.0 NaT NaT   \n",
       "1         Max  Verstappen    Max Verstappen      18.0           2.0 NaT NaT   \n",
       "5   Sebastian      Vettel  Sebastian Vettel      19.0          17.0 NaT NaT   \n",
       "55     Carlos       Sainz      Carlos Sainz      20.0           9.0 NaT NaT   \n",
       "\n",
       "    Q3                   Time      Status  Points  \n",
       "16 NaT 0 days 01:27:46.548000    Finished    26.0  \n",
       "11 NaT 0 days 01:28:07.072000    Finished    18.0  \n",
       "63 NaT 0 days 01:28:12.141000    Finished    15.0  \n",
       "44 NaT 0 days 01:28:15.091000    Finished    12.0  \n",
       "4  NaT 0 days 01:28:39.851000    Finished    10.0  \n",
       "3  NaT 0 days 01:28:40.285000    Finished     8.0  \n",
       "31 NaT 0 days 01:28:48.231000    Finished     6.0  \n",
       "77 NaT 0 days 01:28:54.987000    Finished     4.0  \n",
       "10 NaT 0 days 01:29:02.769000    Finished     2.0  \n",
       "23 NaT 0 days 01:29:05.930000    Finished     1.0  \n",
       "24 NaT 0 days 01:29:08.243000    Finished     0.0  \n",
       "18 NaT 0 days 01:29:15.146000    Finished     0.0  \n",
       "47 NaT                    NaT      +1 Lap     0.0  \n",
       "20 NaT                    NaT      +1 Lap     0.0  \n",
       "22 NaT                    NaT      +1 Lap     0.0  \n",
       "6  NaT                    NaT      +1 Lap     0.0  \n",
       "14 NaT                    NaT      +1 Lap     0.0  \n",
       "1  NaT                    NaT  Hydraulics     0.0  \n",
       "5  NaT                    NaT    Accident     0.0  \n",
       "55 NaT                    NaT    Spun off     0.0  "
      ]
     },
     "execution_count": 2,
     "metadata": {},
     "output_type": "execute_result"
    }
   ],
   "source": [
    "#Import des librairies\n",
    "\n",
    "import fastf1 as ff1\n",
    "from fastf1 import plotting\n",
    "from fastf1 import utils\n",
    "ff1.Cache.enable_cache('cache/')\n",
    "import plotly.express as px\n",
    "import plotly.graph_objects as go\n",
    "import plotly.io as pio\n",
    "from plotly.subplots import make_subplots\n",
    "pio.templates.default = \"plotly_dark\"\n",
    "import warnings\n",
    "warnings.simplefilter(action='ignore', category=FutureWarning)\n",
    "import requests\n",
    "\n",
    "import pandas as pd\n",
    "\n",
    "#Récupération des noms et des couleurs à partir d'une course\n",
    "\n",
    "year = 2022\n",
    "gp_round = 3\n",
    "ses = 'R'\n",
    "\n",
    "def get_session(year, gp_round, ses):\n",
    "    session = ff1.get_session(year, gp_round, ses)\n",
    "    session.load()\n",
    "    return session\n",
    "\n",
    "def champ_pos(year, gp_round, ses):\n",
    "    session = get_session(year, gp_round, ses)\n",
    "    param = session.results\n",
    "    return param\n",
    "\n",
    "champ_pos(year, gp_round, ses)  \n"
   ]
  },
  {
   "cell_type": "code",
   "execution_count": 3,
   "metadata": {},
   "outputs": [
    {
     "name": "stderr",
     "output_type": "stream",
     "text": [
      "core           INFO \tLoading data for Miami Grand Prix - Race [v2.2.8]\n",
      "api            INFO \tUsing cached data for driver_info\n",
      "api            INFO \tUsing cached data for timing_data\n",
      "api            INFO \tUsing cached data for timing_app_data\n",
      "core           INFO \tProcessing timing data...\n",
      "api            INFO \tUsing cached data for session_status_data\n",
      "api            INFO \tUsing cached data for track_status_data\n",
      "api            INFO \tUsing cached data for car_data\n",
      "api            INFO \tUsing cached data for position_data\n",
      "api            INFO \tUsing cached data for weather_data\n",
      "api            INFO \tUsing cached data for race_control_messages\n",
      "core           INFO \tFinished loading data for 20 drivers: ['1', '16', '55', '11', '63', '44', '77', '31', '23', '18', '14', '22', '3', '6', '47', '20', '5', '10', '4', '24']\n"
     ]
    },
    {
     "data": {
      "application/vnd.plotly.v1+json": {
       "config": {
        "plotlyServerURL": "https://plot.ly"
       },
       "data": [
        {
         "hovertemplate": "Finishing place : %{text}<br>Difference from Grid : %{x:.0f} position(s)",
         "marker": {
          "color": [
           "#b12039",
           "#f58020",
           "#4e7c9b",
           "#2d826d",
           "#b6babd",
           "#b6babd",
           "#37bedd",
           "#f58020",
           "#4e7c9b",
           "#2293d1",
           "#2d826d",
           "#37bedd",
           "#2293d1",
           "#b12039",
           "#6cd3bf",
           "#6cd3bf",
           "#1e5bc6",
           "#ed1c24",
           "#ed1c24",
           "#1e5bc6"
          ]
         },
         "name": "",
         "orientation": "h",
         "text": [
          20,
          19,
          18,
          17,
          16,
          15,
          14,
          13,
          12,
          11,
          10,
          9,
          8,
          7,
          6,
          5,
          4,
          3,
          2,
          1
         ],
         "textposition": "outside",
         "type": "bar",
         "x": [
          -2.9,
          -10.9,
          -10.9,
          -16.9,
          0.1,
          0.1,
          5.1,
          1.1,
          -2.9,
          0.1,
          -9.9,
          9.1,
          12.1,
          -1.9,
          0.1,
          7.1,
          0.1,
          -0.9,
          -0.9,
          2.1
         ],
         "y": [
          "Guanyu Zhou",
          "Lando Norris",
          "Pierre Gasly",
          "Sebastian Vettel",
          "Kevin Magnussen",
          "Mick Schumacher",
          "Nicholas Latifi",
          "Daniel Ricciardo",
          "Yuki Tsunoda",
          "Fernando Alonso",
          "Lance Stroll",
          "Alexander Albon",
          "Esteban Ocon",
          "Valtteri Bottas",
          "Lewis Hamilton",
          "George Russell",
          "Sergio Perez",
          "Carlos Sainz",
          "Charles Leclerc",
          "Max Verstappen"
         ]
        }
       ],
       "layout": {
        "height": 600,
        "hovermode": "y unified",
        "template": {
         "data": {
          "bar": [
           {
            "error_x": {
             "color": "#f2f5fa"
            },
            "error_y": {
             "color": "#f2f5fa"
            },
            "marker": {
             "line": {
              "color": "rgb(17,17,17)",
              "width": 0.5
             },
             "pattern": {
              "fillmode": "overlay",
              "size": 10,
              "solidity": 0.2
             }
            },
            "type": "bar"
           }
          ],
          "barpolar": [
           {
            "marker": {
             "line": {
              "color": "rgb(17,17,17)",
              "width": 0.5
             },
             "pattern": {
              "fillmode": "overlay",
              "size": 10,
              "solidity": 0.2
             }
            },
            "type": "barpolar"
           }
          ],
          "carpet": [
           {
            "aaxis": {
             "endlinecolor": "#A2B1C6",
             "gridcolor": "#506784",
             "linecolor": "#506784",
             "minorgridcolor": "#506784",
             "startlinecolor": "#A2B1C6"
            },
            "baxis": {
             "endlinecolor": "#A2B1C6",
             "gridcolor": "#506784",
             "linecolor": "#506784",
             "minorgridcolor": "#506784",
             "startlinecolor": "#A2B1C6"
            },
            "type": "carpet"
           }
          ],
          "choropleth": [
           {
            "colorbar": {
             "outlinewidth": 0,
             "ticks": ""
            },
            "type": "choropleth"
           }
          ],
          "contour": [
           {
            "colorbar": {
             "outlinewidth": 0,
             "ticks": ""
            },
            "colorscale": [
             [
              0,
              "#0d0887"
             ],
             [
              0.1111111111111111,
              "#46039f"
             ],
             [
              0.2222222222222222,
              "#7201a8"
             ],
             [
              0.3333333333333333,
              "#9c179e"
             ],
             [
              0.4444444444444444,
              "#bd3786"
             ],
             [
              0.5555555555555556,
              "#d8576b"
             ],
             [
              0.6666666666666666,
              "#ed7953"
             ],
             [
              0.7777777777777778,
              "#fb9f3a"
             ],
             [
              0.8888888888888888,
              "#fdca26"
             ],
             [
              1,
              "#f0f921"
             ]
            ],
            "type": "contour"
           }
          ],
          "contourcarpet": [
           {
            "colorbar": {
             "outlinewidth": 0,
             "ticks": ""
            },
            "type": "contourcarpet"
           }
          ],
          "heatmap": [
           {
            "colorbar": {
             "outlinewidth": 0,
             "ticks": ""
            },
            "colorscale": [
             [
              0,
              "#0d0887"
             ],
             [
              0.1111111111111111,
              "#46039f"
             ],
             [
              0.2222222222222222,
              "#7201a8"
             ],
             [
              0.3333333333333333,
              "#9c179e"
             ],
             [
              0.4444444444444444,
              "#bd3786"
             ],
             [
              0.5555555555555556,
              "#d8576b"
             ],
             [
              0.6666666666666666,
              "#ed7953"
             ],
             [
              0.7777777777777778,
              "#fb9f3a"
             ],
             [
              0.8888888888888888,
              "#fdca26"
             ],
             [
              1,
              "#f0f921"
             ]
            ],
            "type": "heatmap"
           }
          ],
          "heatmapgl": [
           {
            "colorbar": {
             "outlinewidth": 0,
             "ticks": ""
            },
            "colorscale": [
             [
              0,
              "#0d0887"
             ],
             [
              0.1111111111111111,
              "#46039f"
             ],
             [
              0.2222222222222222,
              "#7201a8"
             ],
             [
              0.3333333333333333,
              "#9c179e"
             ],
             [
              0.4444444444444444,
              "#bd3786"
             ],
             [
              0.5555555555555556,
              "#d8576b"
             ],
             [
              0.6666666666666666,
              "#ed7953"
             ],
             [
              0.7777777777777778,
              "#fb9f3a"
             ],
             [
              0.8888888888888888,
              "#fdca26"
             ],
             [
              1,
              "#f0f921"
             ]
            ],
            "type": "heatmapgl"
           }
          ],
          "histogram": [
           {
            "marker": {
             "pattern": {
              "fillmode": "overlay",
              "size": 10,
              "solidity": 0.2
             }
            },
            "type": "histogram"
           }
          ],
          "histogram2d": [
           {
            "colorbar": {
             "outlinewidth": 0,
             "ticks": ""
            },
            "colorscale": [
             [
              0,
              "#0d0887"
             ],
             [
              0.1111111111111111,
              "#46039f"
             ],
             [
              0.2222222222222222,
              "#7201a8"
             ],
             [
              0.3333333333333333,
              "#9c179e"
             ],
             [
              0.4444444444444444,
              "#bd3786"
             ],
             [
              0.5555555555555556,
              "#d8576b"
             ],
             [
              0.6666666666666666,
              "#ed7953"
             ],
             [
              0.7777777777777778,
              "#fb9f3a"
             ],
             [
              0.8888888888888888,
              "#fdca26"
             ],
             [
              1,
              "#f0f921"
             ]
            ],
            "type": "histogram2d"
           }
          ],
          "histogram2dcontour": [
           {
            "colorbar": {
             "outlinewidth": 0,
             "ticks": ""
            },
            "colorscale": [
             [
              0,
              "#0d0887"
             ],
             [
              0.1111111111111111,
              "#46039f"
             ],
             [
              0.2222222222222222,
              "#7201a8"
             ],
             [
              0.3333333333333333,
              "#9c179e"
             ],
             [
              0.4444444444444444,
              "#bd3786"
             ],
             [
              0.5555555555555556,
              "#d8576b"
             ],
             [
              0.6666666666666666,
              "#ed7953"
             ],
             [
              0.7777777777777778,
              "#fb9f3a"
             ],
             [
              0.8888888888888888,
              "#fdca26"
             ],
             [
              1,
              "#f0f921"
             ]
            ],
            "type": "histogram2dcontour"
           }
          ],
          "mesh3d": [
           {
            "colorbar": {
             "outlinewidth": 0,
             "ticks": ""
            },
            "type": "mesh3d"
           }
          ],
          "parcoords": [
           {
            "line": {
             "colorbar": {
              "outlinewidth": 0,
              "ticks": ""
             }
            },
            "type": "parcoords"
           }
          ],
          "pie": [
           {
            "automargin": true,
            "type": "pie"
           }
          ],
          "scatter": [
           {
            "marker": {
             "line": {
              "color": "#283442"
             }
            },
            "type": "scatter"
           }
          ],
          "scatter3d": [
           {
            "line": {
             "colorbar": {
              "outlinewidth": 0,
              "ticks": ""
             }
            },
            "marker": {
             "colorbar": {
              "outlinewidth": 0,
              "ticks": ""
             }
            },
            "type": "scatter3d"
           }
          ],
          "scattercarpet": [
           {
            "marker": {
             "colorbar": {
              "outlinewidth": 0,
              "ticks": ""
             }
            },
            "type": "scattercarpet"
           }
          ],
          "scattergeo": [
           {
            "marker": {
             "colorbar": {
              "outlinewidth": 0,
              "ticks": ""
             }
            },
            "type": "scattergeo"
           }
          ],
          "scattergl": [
           {
            "marker": {
             "line": {
              "color": "#283442"
             }
            },
            "type": "scattergl"
           }
          ],
          "scattermapbox": [
           {
            "marker": {
             "colorbar": {
              "outlinewidth": 0,
              "ticks": ""
             }
            },
            "type": "scattermapbox"
           }
          ],
          "scatterpolar": [
           {
            "marker": {
             "colorbar": {
              "outlinewidth": 0,
              "ticks": ""
             }
            },
            "type": "scatterpolar"
           }
          ],
          "scatterpolargl": [
           {
            "marker": {
             "colorbar": {
              "outlinewidth": 0,
              "ticks": ""
             }
            },
            "type": "scatterpolargl"
           }
          ],
          "scatterternary": [
           {
            "marker": {
             "colorbar": {
              "outlinewidth": 0,
              "ticks": ""
             }
            },
            "type": "scatterternary"
           }
          ],
          "surface": [
           {
            "colorbar": {
             "outlinewidth": 0,
             "ticks": ""
            },
            "colorscale": [
             [
              0,
              "#0d0887"
             ],
             [
              0.1111111111111111,
              "#46039f"
             ],
             [
              0.2222222222222222,
              "#7201a8"
             ],
             [
              0.3333333333333333,
              "#9c179e"
             ],
             [
              0.4444444444444444,
              "#bd3786"
             ],
             [
              0.5555555555555556,
              "#d8576b"
             ],
             [
              0.6666666666666666,
              "#ed7953"
             ],
             [
              0.7777777777777778,
              "#fb9f3a"
             ],
             [
              0.8888888888888888,
              "#fdca26"
             ],
             [
              1,
              "#f0f921"
             ]
            ],
            "type": "surface"
           }
          ],
          "table": [
           {
            "cells": {
             "fill": {
              "color": "#506784"
             },
             "line": {
              "color": "rgb(17,17,17)"
             }
            },
            "header": {
             "fill": {
              "color": "#2a3f5f"
             },
             "line": {
              "color": "rgb(17,17,17)"
             }
            },
            "type": "table"
           }
          ]
         },
         "layout": {
          "annotationdefaults": {
           "arrowcolor": "#f2f5fa",
           "arrowhead": 0,
           "arrowwidth": 1
          },
          "autotypenumbers": "strict",
          "coloraxis": {
           "colorbar": {
            "outlinewidth": 0,
            "ticks": ""
           }
          },
          "colorscale": {
           "diverging": [
            [
             0,
             "#8e0152"
            ],
            [
             0.1,
             "#c51b7d"
            ],
            [
             0.2,
             "#de77ae"
            ],
            [
             0.3,
             "#f1b6da"
            ],
            [
             0.4,
             "#fde0ef"
            ],
            [
             0.5,
             "#f7f7f7"
            ],
            [
             0.6,
             "#e6f5d0"
            ],
            [
             0.7,
             "#b8e186"
            ],
            [
             0.8,
             "#7fbc41"
            ],
            [
             0.9,
             "#4d9221"
            ],
            [
             1,
             "#276419"
            ]
           ],
           "sequential": [
            [
             0,
             "#0d0887"
            ],
            [
             0.1111111111111111,
             "#46039f"
            ],
            [
             0.2222222222222222,
             "#7201a8"
            ],
            [
             0.3333333333333333,
             "#9c179e"
            ],
            [
             0.4444444444444444,
             "#bd3786"
            ],
            [
             0.5555555555555556,
             "#d8576b"
            ],
            [
             0.6666666666666666,
             "#ed7953"
            ],
            [
             0.7777777777777778,
             "#fb9f3a"
            ],
            [
             0.8888888888888888,
             "#fdca26"
            ],
            [
             1,
             "#f0f921"
            ]
           ],
           "sequentialminus": [
            [
             0,
             "#0d0887"
            ],
            [
             0.1111111111111111,
             "#46039f"
            ],
            [
             0.2222222222222222,
             "#7201a8"
            ],
            [
             0.3333333333333333,
             "#9c179e"
            ],
            [
             0.4444444444444444,
             "#bd3786"
            ],
            [
             0.5555555555555556,
             "#d8576b"
            ],
            [
             0.6666666666666666,
             "#ed7953"
            ],
            [
             0.7777777777777778,
             "#fb9f3a"
            ],
            [
             0.8888888888888888,
             "#fdca26"
            ],
            [
             1,
             "#f0f921"
            ]
           ]
          },
          "colorway": [
           "#636efa",
           "#EF553B",
           "#00cc96",
           "#ab63fa",
           "#FFA15A",
           "#19d3f3",
           "#FF6692",
           "#B6E880",
           "#FF97FF",
           "#FECB52"
          ],
          "font": {
           "color": "#f2f5fa"
          },
          "geo": {
           "bgcolor": "rgb(17,17,17)",
           "lakecolor": "rgb(17,17,17)",
           "landcolor": "rgb(17,17,17)",
           "showlakes": true,
           "showland": true,
           "subunitcolor": "#506784"
          },
          "hoverlabel": {
           "align": "left"
          },
          "hovermode": "closest",
          "mapbox": {
           "style": "dark"
          },
          "paper_bgcolor": "rgb(17,17,17)",
          "plot_bgcolor": "rgb(17,17,17)",
          "polar": {
           "angularaxis": {
            "gridcolor": "#506784",
            "linecolor": "#506784",
            "ticks": ""
           },
           "bgcolor": "rgb(17,17,17)",
           "radialaxis": {
            "gridcolor": "#506784",
            "linecolor": "#506784",
            "ticks": ""
           }
          },
          "scene": {
           "xaxis": {
            "backgroundcolor": "rgb(17,17,17)",
            "gridcolor": "#506784",
            "gridwidth": 2,
            "linecolor": "#506784",
            "showbackground": true,
            "ticks": "",
            "zerolinecolor": "#C8D4E3"
           },
           "yaxis": {
            "backgroundcolor": "rgb(17,17,17)",
            "gridcolor": "#506784",
            "gridwidth": 2,
            "linecolor": "#506784",
            "showbackground": true,
            "ticks": "",
            "zerolinecolor": "#C8D4E3"
           },
           "zaxis": {
            "backgroundcolor": "rgb(17,17,17)",
            "gridcolor": "#506784",
            "gridwidth": 2,
            "linecolor": "#506784",
            "showbackground": true,
            "ticks": "",
            "zerolinecolor": "#C8D4E3"
           }
          },
          "shapedefaults": {
           "line": {
            "color": "#f2f5fa"
           }
          },
          "sliderdefaults": {
           "bgcolor": "#C8D4E3",
           "bordercolor": "rgb(17,17,17)",
           "borderwidth": 1,
           "tickwidth": 0
          },
          "ternary": {
           "aaxis": {
            "gridcolor": "#506784",
            "linecolor": "#506784",
            "ticks": ""
           },
           "baxis": {
            "gridcolor": "#506784",
            "linecolor": "#506784",
            "ticks": ""
           },
           "bgcolor": "rgb(17,17,17)",
           "caxis": {
            "gridcolor": "#506784",
            "linecolor": "#506784",
            "ticks": ""
           }
          },
          "title": {
           "x": 0.05
          },
          "updatemenudefaults": {
           "bgcolor": "#506784",
           "borderwidth": 0
          },
          "xaxis": {
           "automargin": true,
           "gridcolor": "#283442",
           "linecolor": "#506784",
           "ticks": "",
           "title": {
            "standoff": 15
           },
           "zerolinecolor": "#283442",
           "zerolinewidth": 2
          },
          "yaxis": {
           "automargin": true,
           "gridcolor": "#283442",
           "linecolor": "#506784",
           "ticks": "",
           "title": {
            "standoff": 15
           },
           "zerolinecolor": "#283442",
           "zerolinewidth": 2
          }
         }
        },
        "title": {
         "text": "FORMULA 1 CRYPTO.COM MIAMI GRAND PRIX 2022<br>Position at finish and gap from grid position",
         "x": 0.5
        },
        "width": 800
       }
      }
     },
     "metadata": {},
     "output_type": "display_data"
    }
   ],
   "source": [
    "#Chargement du calendrier\n",
    "events_list = ff1.get_event_schedule(2022)[2:]\n",
    "\n",
    "#Numéro de la course\n",
    "#round_number = input(\"Quel est le numéro de la course ?\")\n",
    "round_number = 5\n",
    "\n",
    "#Recherche le nom du GP\n",
    "event_name = events_list[events_list['RoundNumber'] == round_number].iloc[0,3]\n",
    "\n",
    "year = 1\n",
    "gp_round = 2\n",
    "ses = 3\n",
    "\n",
    "#Chargement des données pour une course\n",
    "race = ff1.get_session(year, gp_round, ses)\n",
    "race.load(weather=True, telemetry=True)\n",
    "\n",
    "#Calcul le gain de position entre la grille de départ et l'arrivée\n",
    "df = race.results\n",
    "df['Nombre de places gagnées'] = df['GridPosition'] - df['Position']\n",
    "\n",
    "#Affichage du graphique\n",
    "def dif_start_end(df):\n",
    "    hovertemplate_gap = 'Finishing place : %{text}'+'<br>Difference from Grid : %{x:.0f} position(s)'\n",
    "    df = df.sort_values(by = 'Position', ascending = False)\n",
    "\n",
    "    fig = go.Figure(\n",
    "        data = go.Bar(\n",
    "            x = df['Nombre de places gagnées']+0.1, \n",
    "            y = df['FullName'],\n",
    "            text = df['Position'], marker_color=\"#\" + df['TeamColor'], textposition = \"outside\", hovertemplate = hovertemplate_gap,\n",
    "            name = \"\", \n",
    "            orientation = 'h'),    \n",
    "        layout = go.Layout(\n",
    "            title = go.layout.Title(text = (event_name + \"<br>Position at finish and gap from grid position\"), x = 0.5), width = 800, height = 600, template = 'plotly_dark'\n",
    "        )\n",
    "    )\n",
    "            \n",
    "    fig.update_layout(hovermode='y unified')\n",
    "\n",
    "    return fig\n",
    "    \n",
    "dif_start_end(df)"
   ]
  }
 ],
 "metadata": {
  "interpreter": {
   "hash": "bd3f638786f9d50f661aac0164b340514111e5a1a41bf1f2b4aa363e178ebb8b"
  },
  "kernelspec": {
   "display_name": "Python 3.10.4 ('new_base')",
   "language": "python",
   "name": "python3"
  },
  "language_info": {
   "codemirror_mode": {
    "name": "ipython",
    "version": 3
   },
   "file_extension": ".py",
   "mimetype": "text/x-python",
   "name": "python",
   "nbconvert_exporter": "python",
   "pygments_lexer": "ipython3",
   "version": "3.10.4"
  },
  "orig_nbformat": 4
 },
 "nbformat": 4,
 "nbformat_minor": 2
}
