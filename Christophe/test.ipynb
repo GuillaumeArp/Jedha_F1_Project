{
 "cells": [
  {
   "cell_type": "code",
   "execution_count": 1,
   "metadata": {},
   "outputs": [],
   "source": [
    "import fastf1 as ff1\n",
    "from fastf1 import plotting\n",
    "from fastf1 import utils\n",
    "ff1.Cache.enable_cache('D:\\Data analyst\\Jedha\\Projet\\Projet F1\\doc_cache')\n",
    "import plotly.express as px\n",
    "import plotly.graph_objects as go\n",
    "import plotly.io as pio\n",
    "from plotly.subplots import make_subplots\n",
    "pio.templates.default = \"plotly_dark\"\n",
    "import warnings\n",
    "warnings.simplefilter(action='ignore', category=FutureWarning)"
   ]
  },
  {
   "cell_type": "code",
   "execution_count": 2,
   "metadata": {},
   "outputs": [
    {
     "name": "stderr",
     "output_type": "stream",
     "text": [
      "Loading data for Miami Grand Prix - Practice 1 [v2.2.8]\n",
      "Using cached data for driver_info\n",
      "Using cached data for timing_data\n",
      "Using cached data for timing_app_data\n",
      "Processing timing data...\n",
      "Using cached data for session_status_data\n",
      "Using cached data for track_status_data\n",
      "Using cached data for car_data\n",
      "Using cached data for position_data\n",
      "Using cached data for weather_data\n",
      "Using cached data for race_control_messages\n",
      "Finished loading data for 20 drivers: ['1', '55', '47', '44', '31', '24', '23', '22', '20', '18', '16', '14', '11', '10', '6', '5', '4', '3', '63', '77']\n"
     ]
    }
   ],
   "source": [
    "events_list = ff1.get_event_schedule(2022)[2:]\n",
    "\n",
    "fp1 = ff1.get_session(2022, 5, 'FP1')\n",
    "fp1.load(weather=True, telemetry=True)"
   ]
  },
  {
   "cell_type": "code",
   "execution_count": 3,
   "metadata": {},
   "outputs": [
    {
     "data": {
      "text/html": [
       "<div><div id=e4f1d276-d4e9-4408-af6e-fd2d138ae71c style=\"display:none; background-color:#9D6CFF; color:white; width:200px; height:30px; padding-left:5px; border-radius:4px; flex-direction:row; justify-content:space-around; align-items:center;\" onmouseover=\"this.style.backgroundColor='#BA9BF8'\" onmouseout=\"this.style.backgroundColor='#9D6CFF'\" onclick=\"window.commands?.execute('create-mitosheet-from-dataframe-output');\">See Full Dataframe in Mito</div> <script> if (window.commands.hasCommand('create-mitosheet-from-dataframe-output')) document.getElementById('e4f1d276-d4e9-4408-af6e-fd2d138ae71c').style.display = 'flex' </script> <table border=\"1\" class=\"dataframe\">\n",
       "  <thead>\n",
       "    <tr style=\"text-align: right;\">\n",
       "      <th></th>\n",
       "      <th>RoundNumber</th>\n",
       "      <th>Country</th>\n",
       "      <th>Location</th>\n",
       "      <th>OfficialEventName</th>\n",
       "      <th>EventDate</th>\n",
       "      <th>EventName</th>\n",
       "      <th>EventFormat</th>\n",
       "      <th>Session1</th>\n",
       "      <th>Session1Date</th>\n",
       "      <th>Session2</th>\n",
       "      <th>Session2Date</th>\n",
       "      <th>Session3</th>\n",
       "      <th>Session3Date</th>\n",
       "      <th>Session4</th>\n",
       "      <th>Session4Date</th>\n",
       "      <th>Session5</th>\n",
       "      <th>Session5Date</th>\n",
       "      <th>F1ApiSupport</th>\n",
       "    </tr>\n",
       "  </thead>\n",
       "  <tbody>\n",
       "    <tr>\n",
       "      <th>2</th>\n",
       "      <td>1</td>\n",
       "      <td>Bahrain</td>\n",
       "      <td>Sakhir</td>\n",
       "      <td>FORMULA 1 GULF AIR BAHRAIN GRAND PRIX 2022</td>\n",
       "      <td>2022-03-20 20:00:00</td>\n",
       "      <td>Bahrain Grand Prix</td>\n",
       "      <td>conventional</td>\n",
       "      <td>Practice 1</td>\n",
       "      <td>2022-03-18 15:00:00</td>\n",
       "      <td>Practice 2</td>\n",
       "      <td>2022-03-18 18:00:00</td>\n",
       "      <td>Practice 3</td>\n",
       "      <td>2022-03-19 15:00:00</td>\n",
       "      <td>Qualifying</td>\n",
       "      <td>2022-03-19 18:00:00</td>\n",
       "      <td>Race</td>\n",
       "      <td>2022-03-20 18:00:00</td>\n",
       "      <td>True</td>\n",
       "    </tr>\n",
       "    <tr>\n",
       "      <th>3</th>\n",
       "      <td>2</td>\n",
       "      <td>Saudi Arabia</td>\n",
       "      <td>Jeddah</td>\n",
       "      <td>FORMULA 1 STC SAUDI ARABIAN GRAND PRIX 2022</td>\n",
       "      <td>2022-03-27 22:00:00</td>\n",
       "      <td>Saudi Arabian Grand Prix</td>\n",
       "      <td>conventional</td>\n",
       "      <td>Practice 1</td>\n",
       "      <td>2022-03-25 17:00:00</td>\n",
       "      <td>Practice 2</td>\n",
       "      <td>2022-03-25 20:00:00</td>\n",
       "      <td>Practice 3</td>\n",
       "      <td>2022-03-26 17:00:00</td>\n",
       "      <td>Qualifying</td>\n",
       "      <td>2022-03-26 20:00:00</td>\n",
       "      <td>Race</td>\n",
       "      <td>2022-03-27 20:00:00</td>\n",
       "      <td>True</td>\n",
       "    </tr>\n",
       "    <tr>\n",
       "      <th>4</th>\n",
       "      <td>3</td>\n",
       "      <td>Australia</td>\n",
       "      <td>Melbourne</td>\n",
       "      <td>FORMULA 1 HEINEKEN AUSTRALIAN GRAND PRIX 2022</td>\n",
       "      <td>2022-04-10 17:00:00</td>\n",
       "      <td>Australian Grand Prix</td>\n",
       "      <td>conventional</td>\n",
       "      <td>Practice 1</td>\n",
       "      <td>2022-04-08 13:00:00</td>\n",
       "      <td>Practice 2</td>\n",
       "      <td>2022-04-08 16:00:00</td>\n",
       "      <td>Practice 3</td>\n",
       "      <td>2022-04-09 13:00:00</td>\n",
       "      <td>Qualifying</td>\n",
       "      <td>2022-04-09 16:00:00</td>\n",
       "      <td>Race</td>\n",
       "      <td>2022-04-10 15:00:00</td>\n",
       "      <td>True</td>\n",
       "    </tr>\n",
       "    <tr>\n",
       "      <th>5</th>\n",
       "      <td>4</td>\n",
       "      <td>Italy</td>\n",
       "      <td>Imola</td>\n",
       "      <td>FORMULA 1 ROLEX GRAN PREMIO DEL MADE IN ITALY E DELL'EMILIA-ROMAGNA 2022</td>\n",
       "      <td>2022-04-24 17:00:00</td>\n",
       "      <td>Emilia Romagna Grand Prix</td>\n",
       "      <td>sprint</td>\n",
       "      <td>Practice 1</td>\n",
       "      <td>2022-04-22 13:30:00</td>\n",
       "      <td>Qualifying</td>\n",
       "      <td>2022-04-22 17:00:00</td>\n",
       "      <td>Practice 2</td>\n",
       "      <td>2022-04-23 12:30:00</td>\n",
       "      <td>Sprint</td>\n",
       "      <td>2022-04-23 16:30:00</td>\n",
       "      <td>Race</td>\n",
       "      <td>2022-04-24 15:00:00</td>\n",
       "      <td>True</td>\n",
       "    </tr>\n",
       "    <tr>\n",
       "      <th>6</th>\n",
       "      <td>5</td>\n",
       "      <td>United States</td>\n",
       "      <td>Miami</td>\n",
       "      <td>FORMULA 1 CRYPTO.COM MIAMI GRAND PRIX 2022</td>\n",
       "      <td>2022-05-08 17:30:00</td>\n",
       "      <td>Miami Grand Prix</td>\n",
       "      <td>conventional</td>\n",
       "      <td>Practice 1</td>\n",
       "      <td>2022-05-06 14:30:00</td>\n",
       "      <td>Practice 2</td>\n",
       "      <td>2022-05-06 17:30:00</td>\n",
       "      <td>Practice 3</td>\n",
       "      <td>2022-05-07 13:00:00</td>\n",
       "      <td>Qualifying</td>\n",
       "      <td>2022-05-07 16:00:00</td>\n",
       "      <td>Race</td>\n",
       "      <td>2022-05-08 15:30:00</td>\n",
       "      <td>True</td>\n",
       "    </tr>\n",
       "  </tbody>\n",
       "</table></div>"
      ],
      "text/plain": [
       "   RoundNumber        Country   Location  \\\n",
       "2            1        Bahrain     Sakhir   \n",
       "3            2   Saudi Arabia     Jeddah   \n",
       "4            3      Australia  Melbourne   \n",
       "5            4          Italy      Imola   \n",
       "6            5  United States      Miami   \n",
       "\n",
       "                                   OfficialEventName           EventDate  \\\n",
       "2         FORMULA 1 GULF AIR BAHRAIN GRAND PRIX 2022 2022-03-20 20:00:00   \n",
       "3        FORMULA 1 STC SAUDI ARABIAN GRAND PRIX 2022 2022-03-27 22:00:00   \n",
       "4      FORMULA 1 HEINEKEN AUSTRALIAN GRAND PRIX 2022 2022-04-10 17:00:00   \n",
       "5  FORMULA 1 ROLEX GRAN PREMIO DEL MADE IN ITALY ... 2022-04-24 17:00:00   \n",
       "6         FORMULA 1 CRYPTO.COM MIAMI GRAND PRIX 2022 2022-05-08 17:30:00   \n",
       "\n",
       "                   EventName   EventFormat    Session1        Session1Date  \\\n",
       "2         Bahrain Grand Prix  conventional  Practice 1 2022-03-18 15:00:00   \n",
       "3   Saudi Arabian Grand Prix  conventional  Practice 1 2022-03-25 17:00:00   \n",
       "4      Australian Grand Prix  conventional  Practice 1 2022-04-08 13:00:00   \n",
       "5  Emilia Romagna Grand Prix        sprint  Practice 1 2022-04-22 13:30:00   \n",
       "6           Miami Grand Prix  conventional  Practice 1 2022-05-06 14:30:00   \n",
       "\n",
       "     Session2        Session2Date    Session3        Session3Date    Session4  \\\n",
       "2  Practice 2 2022-03-18 18:00:00  Practice 3 2022-03-19 15:00:00  Qualifying   \n",
       "3  Practice 2 2022-03-25 20:00:00  Practice 3 2022-03-26 17:00:00  Qualifying   \n",
       "4  Practice 2 2022-04-08 16:00:00  Practice 3 2022-04-09 13:00:00  Qualifying   \n",
       "5  Qualifying 2022-04-22 17:00:00  Practice 2 2022-04-23 12:30:00      Sprint   \n",
       "6  Practice 2 2022-05-06 17:30:00  Practice 3 2022-05-07 13:00:00  Qualifying   \n",
       "\n",
       "         Session4Date Session5        Session5Date  F1ApiSupport  \n",
       "2 2022-03-19 18:00:00     Race 2022-03-20 18:00:00          True  \n",
       "3 2022-03-26 20:00:00     Race 2022-03-27 20:00:00          True  \n",
       "4 2022-04-09 16:00:00     Race 2022-04-10 15:00:00          True  \n",
       "5 2022-04-23 16:30:00     Race 2022-04-24 15:00:00          True  \n",
       "6 2022-05-07 16:00:00     Race 2022-05-08 15:30:00          True  "
      ]
     },
     "execution_count": 3,
     "metadata": {},
     "output_type": "execute_result"
    }
   ],
   "source": [
    "events_list.head()"
   ]
  },
  {
   "cell_type": "code",
   "execution_count": 4,
   "metadata": {},
   "outputs": [
    {
     "data": {
      "text/html": [
       "<div><div id=f664bf68-23c2-4e06-95f9-e430f48e1e4f style=\"display:none; background-color:#9D6CFF; color:white; width:200px; height:30px; padding-left:5px; border-radius:4px; flex-direction:row; justify-content:space-around; align-items:center;\" onmouseover=\"this.style.backgroundColor='#BA9BF8'\" onmouseout=\"this.style.backgroundColor='#9D6CFF'\" onclick=\"window.commands?.execute('create-mitosheet-from-dataframe-output');\">See Full Dataframe in Mito</div> <script> if (window.commands.hasCommand('create-mitosheet-from-dataframe-output')) document.getElementById('f664bf68-23c2-4e06-95f9-e430f48e1e4f').style.display = 'flex' </script> <table border=\"1\" class=\"dataframe\">\n",
       "  <thead>\n",
       "    <tr style=\"text-align: right;\">\n",
       "      <th></th>\n",
       "      <th>Date</th>\n",
       "      <th>SessionTime</th>\n",
       "      <th>DriverAhead</th>\n",
       "      <th>DistanceToDriverAhead</th>\n",
       "      <th>Time</th>\n",
       "      <th>RPM</th>\n",
       "      <th>Speed</th>\n",
       "      <th>nGear</th>\n",
       "      <th>Throttle</th>\n",
       "      <th>Brake</th>\n",
       "      <th>DRS</th>\n",
       "      <th>Source</th>\n",
       "      <th>Distance</th>\n",
       "      <th>RelativeDistance</th>\n",
       "      <th>Status</th>\n",
       "      <th>X</th>\n",
       "      <th>Y</th>\n",
       "      <th>Z</th>\n",
       "    </tr>\n",
       "  </thead>\n",
       "  <tbody>\n",
       "    <tr>\n",
       "      <th>2</th>\n",
       "      <td>2022-05-06 19:25:23.985</td>\n",
       "      <td>0 days 01:10:23.810000</td>\n",
       "      <td></td>\n",
       "      <td>1581.635556</td>\n",
       "      <td>0 days 00:00:00</td>\n",
       "      <td>11418</td>\n",
       "      <td>284</td>\n",
       "      <td>7</td>\n",
       "      <td>99</td>\n",
       "      <td>False</td>\n",
       "      <td>12</td>\n",
       "      <td>interpolation</td>\n",
       "      <td>0.046327</td>\n",
       "      <td>0.000009</td>\n",
       "      <td>OnTrack</td>\n",
       "      <td>1833</td>\n",
       "      <td>128</td>\n",
       "      <td>248</td>\n",
       "    </tr>\n",
       "    <tr>\n",
       "      <th>3</th>\n",
       "      <td>2022-05-06 19:25:24.086</td>\n",
       "      <td>0 days 01:10:23.911000</td>\n",
       "      <td></td>\n",
       "      <td>1581.635556</td>\n",
       "      <td>0 days 00:00:00.101000</td>\n",
       "      <td>11446</td>\n",
       "      <td>285</td>\n",
       "      <td>7</td>\n",
       "      <td>99</td>\n",
       "      <td>False</td>\n",
       "      <td>12</td>\n",
       "      <td>car</td>\n",
       "      <td>8.050833</td>\n",
       "      <td>0.001508</td>\n",
       "      <td>OnTrack</td>\n",
       "      <td>1901</td>\n",
       "      <td>86</td>\n",
       "      <td>249</td>\n",
       "    </tr>\n",
       "    <tr>\n",
       "      <th>4</th>\n",
       "      <td>2022-05-06 19:25:24.167</td>\n",
       "      <td>0 days 01:10:23.992000</td>\n",
       "      <td></td>\n",
       "      <td>1581.635556</td>\n",
       "      <td>0 days 00:00:00.182000</td>\n",
       "      <td>11491</td>\n",
       "      <td>285</td>\n",
       "      <td>7</td>\n",
       "      <td>99</td>\n",
       "      <td>False</td>\n",
       "      <td>12</td>\n",
       "      <td>pos</td>\n",
       "      <td>14.483235</td>\n",
       "      <td>0.002714</td>\n",
       "      <td>OnTrack</td>\n",
       "      <td>1956</td>\n",
       "      <td>53</td>\n",
       "      <td>250</td>\n",
       "    </tr>\n",
       "    <tr>\n",
       "      <th>5</th>\n",
       "      <td>2022-05-06 19:25:24.326</td>\n",
       "      <td>0 days 01:10:24.151000</td>\n",
       "      <td></td>\n",
       "      <td>1581.635556</td>\n",
       "      <td>0 days 00:00:00.341000</td>\n",
       "      <td>11536</td>\n",
       "      <td>286</td>\n",
       "      <td>7</td>\n",
       "      <td>99</td>\n",
       "      <td>False</td>\n",
       "      <td>12</td>\n",
       "      <td>pos</td>\n",
       "      <td>27.162584</td>\n",
       "      <td>0.005089</td>\n",
       "      <td>OnTrack</td>\n",
       "      <td>2064</td>\n",
       "      <td>-14</td>\n",
       "      <td>250</td>\n",
       "    </tr>\n",
       "    <tr>\n",
       "      <th>6</th>\n",
       "      <td>2022-05-06 19:25:24.366</td>\n",
       "      <td>0 days 01:10:24.191000</td>\n",
       "      <td>14</td>\n",
       "      <td>1581.635556</td>\n",
       "      <td>0 days 00:00:00.381000</td>\n",
       "      <td>11582</td>\n",
       "      <td>287</td>\n",
       "      <td>7</td>\n",
       "      <td>99</td>\n",
       "      <td>False</td>\n",
       "      <td>12</td>\n",
       "      <td>car</td>\n",
       "      <td>30.373056</td>\n",
       "      <td>0.005691</td>\n",
       "      <td>OnTrack</td>\n",
       "      <td>2092</td>\n",
       "      <td>-31</td>\n",
       "      <td>250</td>\n",
       "    </tr>\n",
       "  </tbody>\n",
       "</table></div>"
      ],
      "text/plain": [
       "                     Date            SessionTime DriverAhead  \\\n",
       "2 2022-05-06 19:25:23.985 0 days 01:10:23.810000               \n",
       "3 2022-05-06 19:25:24.086 0 days 01:10:23.911000               \n",
       "4 2022-05-06 19:25:24.167 0 days 01:10:23.992000               \n",
       "5 2022-05-06 19:25:24.326 0 days 01:10:24.151000               \n",
       "6 2022-05-06 19:25:24.366 0 days 01:10:24.191000          14   \n",
       "\n",
       "   DistanceToDriverAhead                   Time    RPM  Speed  nGear  \\\n",
       "2            1581.635556        0 days 00:00:00  11418    284      7   \n",
       "3            1581.635556 0 days 00:00:00.101000  11446    285      7   \n",
       "4            1581.635556 0 days 00:00:00.182000  11491    285      7   \n",
       "5            1581.635556 0 days 00:00:00.341000  11536    286      7   \n",
       "6            1581.635556 0 days 00:00:00.381000  11582    287      7   \n",
       "\n",
       "   Throttle  Brake  DRS         Source   Distance  RelativeDistance   Status  \\\n",
       "2        99  False   12  interpolation   0.046327          0.000009  OnTrack   \n",
       "3        99  False   12            car   8.050833          0.001508  OnTrack   \n",
       "4        99  False   12            pos  14.483235          0.002714  OnTrack   \n",
       "5        99  False   12            pos  27.162584          0.005089  OnTrack   \n",
       "6        99  False   12            car  30.373056          0.005691  OnTrack   \n",
       "\n",
       "      X    Y    Z  \n",
       "2  1833  128  248  \n",
       "3  1901   86  249  \n",
       "4  1956   53  250  \n",
       "5  2064  -14  250  \n",
       "6  2092  -31  250  "
      ]
     },
     "execution_count": 4,
     "metadata": {},
     "output_type": "execute_result"
    }
   ],
   "source": [
    "fastest_lap = fp1.laps.pick_fastest()\n",
    "tel = fastest_lap.telemetry\n",
    "tel.head()"
   ]
  },
  {
   "cell_type": "code",
   "execution_count": 5,
   "metadata": {},
   "outputs": [
    {
     "data": {
      "text/html": [
       "<div><div id=78a0a81a-9c74-4747-b75f-84229680e075 style=\"display:none; background-color:#9D6CFF; color:white; width:200px; height:30px; padding-left:5px; border-radius:4px; flex-direction:row; justify-content:space-around; align-items:center;\" onmouseover=\"this.style.backgroundColor='#BA9BF8'\" onmouseout=\"this.style.backgroundColor='#9D6CFF'\" onclick=\"window.commands?.execute('create-mitosheet-from-dataframe-output');\">See Full Dataframe in Mito</div> <script> if (window.commands.hasCommand('create-mitosheet-from-dataframe-output')) document.getElementById('78a0a81a-9c74-4747-b75f-84229680e075').style.display = 'flex' </script> <table border=\"1\" class=\"dataframe\">\n",
       "  <thead>\n",
       "    <tr style=\"text-align: right;\">\n",
       "      <th></th>\n",
       "      <th>Time</th>\n",
       "      <th>AirTemp</th>\n",
       "      <th>Humidity</th>\n",
       "      <th>Pressure</th>\n",
       "      <th>Rainfall</th>\n",
       "      <th>TrackTemp</th>\n",
       "      <th>WindDirection</th>\n",
       "      <th>WindSpeed</th>\n",
       "    </tr>\n",
       "  </thead>\n",
       "  <tbody>\n",
       "    <tr>\n",
       "      <th>0</th>\n",
       "      <td>0 days 00:00:22.648000</td>\n",
       "      <td>33.7</td>\n",
       "      <td>42.0</td>\n",
       "      <td>1014.0</td>\n",
       "      <td>False</td>\n",
       "      <td>52.9</td>\n",
       "      <td>50</td>\n",
       "      <td>1.0</td>\n",
       "    </tr>\n",
       "    <tr>\n",
       "      <th>1</th>\n",
       "      <td>0 days 00:01:22.656000</td>\n",
       "      <td>33.5</td>\n",
       "      <td>43.0</td>\n",
       "      <td>1014.0</td>\n",
       "      <td>False</td>\n",
       "      <td>52.8</td>\n",
       "      <td>34</td>\n",
       "      <td>1.1</td>\n",
       "    </tr>\n",
       "    <tr>\n",
       "      <th>2</th>\n",
       "      <td>0 days 00:02:22.663000</td>\n",
       "      <td>33.2</td>\n",
       "      <td>45.0</td>\n",
       "      <td>1014.0</td>\n",
       "      <td>False</td>\n",
       "      <td>50.2</td>\n",
       "      <td>229</td>\n",
       "      <td>0.0</td>\n",
       "    </tr>\n",
       "    <tr>\n",
       "      <th>3</th>\n",
       "      <td>0 days 00:03:22.679000</td>\n",
       "      <td>33.3</td>\n",
       "      <td>44.0</td>\n",
       "      <td>1014.0</td>\n",
       "      <td>False</td>\n",
       "      <td>51.7</td>\n",
       "      <td>177</td>\n",
       "      <td>0.4</td>\n",
       "    </tr>\n",
       "    <tr>\n",
       "      <th>4</th>\n",
       "      <td>0 days 00:04:22.680000</td>\n",
       "      <td>33.4</td>\n",
       "      <td>45.0</td>\n",
       "      <td>1013.9</td>\n",
       "      <td>False</td>\n",
       "      <td>51.7</td>\n",
       "      <td>155</td>\n",
       "      <td>1.7</td>\n",
       "    </tr>\n",
       "  </tbody>\n",
       "</table></div>"
      ],
      "text/plain": [
       "                    Time  AirTemp  Humidity  Pressure  Rainfall  TrackTemp  \\\n",
       "0 0 days 00:00:22.648000     33.7      42.0    1014.0     False       52.9   \n",
       "1 0 days 00:01:22.656000     33.5      43.0    1014.0     False       52.8   \n",
       "2 0 days 00:02:22.663000     33.2      45.0    1014.0     False       50.2   \n",
       "3 0 days 00:03:22.679000     33.3      44.0    1014.0     False       51.7   \n",
       "4 0 days 00:04:22.680000     33.4      45.0    1013.9     False       51.7   \n",
       "\n",
       "   WindDirection  WindSpeed  \n",
       "0             50        1.0  \n",
       "1             34        1.1  \n",
       "2            229        0.0  \n",
       "3            177        0.4  \n",
       "4            155        1.7  "
      ]
     },
     "execution_count": 5,
     "metadata": {},
     "output_type": "execute_result"
    }
   ],
   "source": [
    "fp1_weather = fp1.weather_data\n",
    "fp1_weather.head()"
   ]
  },
  {
   "cell_type": "code",
   "execution_count": 7,
   "metadata": {},
   "outputs": [],
   "source": [
    "# Function to format timedelta Series as string if necessary\n",
    "def format_time(timedelta_series):\n",
    "    t_list_str = []\n",
    "    for i in timedelta_series:\n",
    "        i = str(i)\n",
    "        t_list_str.append(i[10:-3])\n",
    "        \n",
    "    return t_list_str"
   ]
  },
  {
   "cell_type": "code",
   "execution_count": 6,
   "metadata": {},
   "outputs": [],
   "source": [
    "driver_1 = 'LEC'\n",
    "driver_2 = 'HAM'"
   ]
  },
  {
   "cell_type": "code",
   "execution_count": 7,
   "metadata": {},
   "outputs": [],
   "source": [
    "fastest_driver_1 = fp1.laps.pick_driver(driver_1).pick_fastest()\n",
    "fastest_driver_2 = fp1.laps.pick_driver(driver_2).pick_fastest()"
   ]
  },
  {
   "cell_type": "code",
   "execution_count": 8,
   "metadata": {},
   "outputs": [],
   "source": [
    "car_data_1 = fastest_driver_1.get_car_data().add_distance()\n",
    "car_data_1['Distance'] = round(car_data_1['Distance'])\n",
    "car_data_2 = fastest_driver_2.get_car_data().add_distance()\n",
    "car_data_2['Distance'] = round(car_data_2['Distance'])\n",
    "\n",
    "# t_list_lec = format_time(t_lec)\n",
    "# t_list_msc = format_time(t_msc)"
   ]
  },
  {
   "cell_type": "code",
   "execution_count": 9,
   "metadata": {},
   "outputs": [],
   "source": [
    "delta_time, ref_tel, compare_tel = utils.delta_time(fastest_driver_1, fastest_driver_2)\n",
    "plot_title = f\"{fp1.event.year} {fp1.event.EventName} - {fp1.name} - {driver_1} vs {driver_2}\""
   ]
  },
  {
   "cell_type": "code",
   "execution_count": 11,
   "metadata": {},
   "outputs": [
    {
     "data": {
      "application/vnd.plotly.v1+json": {
       "config": {
        "plotlyServerURL": "https://plot.ly"
       },
       "data": [
        {
         "hovertemplate": "Speed: %{y} km/h<br>Distance: %{x} meters",
         "line": {
          "color": "#dc0000"
         },
         "name": "LEC",
         "opacity": 0.8,
         "type": "scatter",
         "x": [
          8,
          30,
          60,
          76,
          92,
          109,
          125,
          145,
          172,
          196,
          223,
          254,
          285,
          295,
          304,
          315,
          330,
          338,
          348,
          360,
          373,
          382,
          386,
          394,
          405,
          412,
          426,
          440,
          454,
          462,
          469,
          478,
          491,
          510,
          522,
          534,
          545,
          556,
          569,
          595,
          620,
          634,
          660,
          673,
          683,
          699,
          721,
          735,
          746,
          760,
          777,
          795,
          809,
          827,
          842,
          856,
          881,
          893,
          911,
          936,
          948,
          964,
          989,
          1005,
          1018,
          1040,
          1053,
          1087,
          1104,
          1130,
          1142,
          1161,
          1187,
          1201,
          1214,
          1235,
          1247,
          1267,
          1284,
          1309,
          1326,
          1350,
          1360,
          1378,
          1394,
          1404,
          1417,
          1433,
          1445,
          1466,
          1486,
          1503,
          1521,
          1542,
          1549,
          1565,
          1576,
          1588,
          1600,
          1606,
          1612,
          1622,
          1637,
          1643,
          1653,
          1667,
          1684,
          1694,
          1713,
          1722,
          1743,
          1753,
          1770,
          1785,
          1801,
          1822,
          1844,
          1875,
          1895,
          1925,
          1943,
          1970,
          1982,
          1994,
          2009,
          2028,
          2053,
          2078,
          2091,
          2113,
          2132,
          2168,
          2194,
          2207,
          2236,
          2256,
          2275,
          2292,
          2316,
          2332,
          2349,
          2373,
          2400,
          2435,
          2452,
          2480,
          2504,
          2525,
          2543,
          2567,
          2602,
          2620,
          2638,
          2659,
          2680,
          2701,
          2726,
          2748,
          2762,
          2784,
          2813,
          2845,
          2867,
          2888,
          2910,
          2924,
          2964,
          2993,
          3004,
          3023,
          3038,
          3050,
          3056,
          3062,
          3067,
          3078,
          3085,
          3095,
          3100,
          3108,
          3112,
          3121,
          3132,
          3138,
          3143,
          3150,
          3162,
          3171,
          3183,
          3195,
          3204,
          3214,
          3227,
          3237,
          3245,
          3258,
          3267,
          3275,
          3286,
          3295,
          3307,
          3320,
          3335,
          3345,
          3355,
          3367,
          3379,
          3386,
          3393,
          3396,
          3402,
          3408,
          3412,
          3416,
          3424,
          3429,
          3437,
          3445,
          3455,
          3462,
          3473,
          3479,
          3487,
          3494,
          3498,
          3505,
          3510,
          3515,
          3523,
          3527,
          3533,
          3539,
          3548,
          3554,
          3565,
          3576,
          3594,
          3601,
          3615,
          3625,
          3638,
          3652,
          3670,
          3685,
          3700,
          3721,
          3742,
          3758,
          3781,
          3792,
          3806,
          3832,
          3847,
          3871,
          3889,
          3907,
          3919,
          3932,
          3950,
          3963,
          3981,
          4007,
          4019,
          4035,
          4058,
          4081,
          4097,
          4124,
          4137,
          4157,
          4174,
          4191,
          4215,
          4236,
          4270,
          4284,
          4305,
          4322,
          4353,
          4371,
          4392,
          4409,
          4434,
          4470,
          4487,
          4501,
          4516,
          4544,
          4569,
          4587,
          4615,
          4630,
          4658,
          4694,
          4711,
          4730,
          4744,
          4758,
          4777,
          4784,
          4792,
          4800,
          4809,
          4815,
          4819,
          4825,
          4828,
          4834,
          4839,
          4844,
          4848,
          4854,
          4859,
          4866,
          4874,
          4886,
          4894,
          4900,
          4909,
          4922,
          4931,
          4941,
          4949,
          4960,
          4973,
          4986,
          4995,
          5014,
          5023,
          5043,
          5075,
          5099,
          5110,
          5124,
          5135,
          5158,
          5175,
          5193,
          5208,
          5235,
          5253,
          5280,
          5293,
          5312
         ],
         "xaxis": "x",
         "y": [
          285,
          287,
          292,
          293,
          296,
          298,
          300,
          300,
          303,
          306,
          306,
          306,
          251,
          222,
          208,
          173,
          148,
          136,
          122,
          107,
          102,
          98,
          95,
          95,
          103,
          111,
          128,
          143,
          150,
          150,
          159,
          159,
          170,
          183,
          194,
          199,
          199,
          203,
          203,
          212,
          220,
          221,
          229,
          232,
          238,
          241,
          245,
          249,
          249,
          254,
          256,
          260,
          262,
          264,
          265,
          269,
          272,
          273,
          275,
          279,
          280,
          281,
          284,
          286,
          286,
          288,
          286,
          277,
          266,
          258,
          255,
          252,
          253,
          253,
          244,
          231,
          223,
          220,
          219,
          224,
          227,
          233,
          238,
          235,
          236,
          232,
          232,
          230,
          229,
          232,
          226,
          217,
          205,
          170,
          162,
          154,
          145,
          139,
          134,
          131,
          129,
          127,
          137,
          141,
          149,
          158,
          171,
          179,
          193,
          200,
          211,
          217,
          223,
          228,
          233,
          239,
          248,
          254,
          258,
          264,
          267,
          271,
          274,
          275,
          275,
          279,
          282,
          283,
          283,
          287,
          288,
          290,
          291,
          292,
          293,
          296,
          298,
          300,
          302,
          303,
          303,
          305,
          309,
          310,
          310,
          311,
          313,
          314,
          315,
          316,
          316,
          317,
          318,
          319,
          319,
          320,
          321,
          322,
          323,
          323,
          324,
          324,
          324,
          324,
          325,
          325,
          324,
          289,
          253,
          210,
          176,
          148,
          142,
          130,
          120,
          110,
          98,
          90,
          87,
          88,
          90,
          96,
          107,
          115,
          120,
          126,
          127,
          125,
          119,
          116,
          112,
          106,
          102,
          102,
          105,
          114,
          124,
          133,
          147,
          151,
          158,
          165,
          170,
          155,
          144,
          119,
          104,
          100,
          86,
          82,
          76,
          72,
          70,
          69,
          69,
          70,
          71,
          80,
          90,
          100,
          111,
          107,
          96,
          89,
          87,
          81,
          78,
          74,
          75,
          75,
          78,
          87,
          99,
          108,
          124,
          140,
          160,
          169,
          177,
          185,
          196,
          202,
          211,
          220,
          224,
          230,
          241,
          245,
          250,
          254,
          257,
          262,
          265,
          268,
          271,
          273,
          275,
          276,
          279,
          279,
          282,
          285,
          286,
          288,
          292,
          294,
          296,
          299,
          299,
          302,
          303,
          305,
          306,
          308,
          310,
          310,
          311,
          313,
          314,
          315,
          316,
          317,
          318,
          318,
          319,
          319,
          319,
          320,
          321,
          320,
          321,
          322,
          321,
          319,
          317,
          285,
          248,
          217,
          167,
          148,
          123,
          111,
          100,
          93,
          86,
          82,
          80,
          74,
          71,
          69,
          69,
          73,
          80,
          84,
          99,
          113,
          126,
          126,
          147,
          161,
          170,
          174,
          181,
          188,
          194,
          201,
          204,
          209,
          209,
          225,
          238,
          246,
          249,
          251,
          251,
          255,
          260,
          263,
          265,
          270,
          272,
          277,
          279,
          282
         ],
         "yaxis": "y"
        },
        {
         "hovertemplate": "Speed: %{y} km/h<br>Distance: %{x} meters",
         "line": {
          "color": "#00d2be"
         },
         "name": "HAM",
         "opacity": 0.8,
         "type": "scatter",
         "x": [
          14,
          34,
          50,
          66,
          79,
          93,
          129,
          143,
          160,
          177,
          197,
          218,
          246,
          273,
          285,
          303,
          316,
          329,
          337,
          345,
          354,
          362,
          368,
          373,
          379,
          387,
          394,
          398,
          406,
          417,
          429,
          444,
          453,
          460,
          470,
          482,
          489,
          506,
          522,
          543,
          552,
          561,
          574,
          585,
          598,
          608,
          617,
          639,
          652,
          674,
          690,
          706,
          736,
          755,
          778,
          795,
          809,
          836,
          857,
          878,
          902,
          936,
          951,
          973,
          995,
          1014,
          1033,
          1058,
          1071,
          1088,
          1103,
          1125,
          1144,
          1155,
          1180,
          1194,
          1215,
          1228,
          1243,
          1252,
          1269,
          1283,
          1309,
          1332,
          1344,
          1354,
          1369,
          1382,
          1395,
          1421,
          1452,
          1462,
          1487,
          1497,
          1510,
          1518,
          1532,
          1541,
          1548,
          1561,
          1570,
          1581,
          1594,
          1607,
          1615,
          1624,
          1636,
          1654,
          1671,
          1678,
          1694,
          1704,
          1719,
          1728,
          1742,
          1759,
          1768,
          1781,
          1796,
          1817,
          1839,
          1858,
          1883,
          1895,
          1915,
          1944,
          1956,
          1974,
          1989,
          2005,
          2020,
          2042,
          2057,
          2082,
          2104,
          2120,
          2139,
          2165,
          2181,
          2194,
          2210,
          2233,
          2250,
          2263,
          2286,
          2303,
          2340,
          2374,
          2398,
          2419,
          2433,
          2453,
          2481,
          2520,
          2559,
          2573,
          2587,
          2612,
          2651,
          2676,
          2702,
          2720,
          2734,
          2756,
          2796,
          2825,
          2839,
          2876,
          2909,
          2927,
          2949,
          2967,
          2992,
          3008,
          3017,
          3030,
          3037,
          3046,
          3061,
          3067,
          3075,
          3081,
          3087,
          3092,
          3098,
          3102,
          3112,
          3122,
          3128,
          3138,
          3145,
          3154,
          3159,
          3166,
          3174,
          3180,
          3187,
          3194,
          3198,
          3205,
          3219,
          3225,
          3235,
          3242,
          3250,
          3255,
          3264,
          3275,
          3283,
          3296,
          3316,
          3323,
          3334,
          3347,
          3355,
          3363,
          3369,
          3376,
          3386,
          3392,
          3400,
          3407,
          3414,
          3418,
          3423,
          3428,
          3431,
          3436,
          3440,
          3444,
          3450,
          3456,
          3466,
          3476,
          3483,
          3491,
          3495,
          3503,
          3507,
          3511,
          3515,
          3520,
          3524,
          3528,
          3532,
          3540,
          3547,
          3552,
          3568,
          3578,
          3585,
          3592,
          3607,
          3626,
          3640,
          3649,
          3665,
          3679,
          3692,
          3702,
          3725,
          3747,
          3757,
          3768,
          3780,
          3799,
          3811,
          3825,
          3842,
          3860,
          3896,
          3909,
          3924,
          3952,
          3970,
          3992,
          4005,
          4030,
          4056,
          4076,
          4109,
          4139,
          4155,
          4169,
          4193,
          4206,
          4223,
          4251,
          4271,
          4306,
          4324,
          4338,
          4362,
          4387,
          4412,
          4451,
          4472,
          4494,
          4519,
          4537,
          4566,
          4591,
          4620,
          4649,
          4667,
          4685,
          4712,
          4725,
          4739,
          4751,
          4763,
          4772,
          4782,
          4788,
          4794,
          4802,
          4808,
          4812,
          4821,
          4824,
          4828,
          4835,
          4841,
          4851,
          4856,
          4860,
          4866,
          4870,
          4882,
          4889,
          4894,
          4946,
          4958,
          4973,
          4988,
          5000,
          5011,
          5026,
          5048,
          5072,
          5082,
          5101,
          5117,
          5145,
          5171,
          5188,
          5200,
          5227,
          5251,
          5272,
          5291,
          5316,
          5328
         ],
         "xaxis": "x",
         "y": [
          287,
          290,
          292,
          294,
          297,
          297,
          302,
          303,
          304,
          307,
          309,
          310,
          312,
          308,
          275,
          226,
          197,
          166,
          151,
          140,
          131,
          119,
          113,
          110,
          106,
          101,
          95,
          96,
          101,
          109,
          115,
          137,
          142,
          145,
          150,
          155,
          157,
          170,
          181,
          191,
          197,
          196,
          196,
          199,
          205,
          210,
          212,
          220,
          223,
          227,
          233,
          238,
          246,
          251,
          255,
          256,
          258,
          265,
          268,
          269,
          273,
          278,
          278,
          279,
          283,
          285,
          286,
          283,
          283,
          264,
          258,
          252,
          248,
          247,
          248,
          249,
          238,
          229,
          221,
          217,
          210,
          211,
          219,
          221,
          224,
          228,
          230,
          232,
          232,
          232,
          230,
          230,
          228,
          219,
          195,
          189,
          173,
          165,
          157,
          147,
          142,
          136,
          131,
          125,
          123,
          130,
          136,
          147,
          160,
          160,
          176,
          184,
          194,
          200,
          206,
          215,
          217,
          222,
          230,
          236,
          242,
          248,
          254,
          255,
          260,
          266,
          268,
          270,
          272,
          274,
          275,
          278,
          280,
          282,
          284,
          286,
          287,
          290,
          291,
          291,
          291,
          294,
          296,
          297,
          299,
          301,
          304,
          307,
          309,
          310,
          311,
          312,
          314,
          316,
          318,
          319,
          319,
          320,
          321,
          323,
          324,
          325,
          325,
          325,
          327,
          328,
          329,
          329,
          330,
          329,
          330,
          318,
          252,
          208,
          196,
          173,
          147,
          135,
          120,
          114,
          107,
          104,
          97,
          93,
          89,
          87,
          92,
          92,
          105,
          119,
          130,
          125,
          124,
          120,
          115,
          114,
          112,
          110,
          109,
          104,
          103,
          101,
          105,
          108,
          111,
          115,
          122,
          135,
          140,
          153,
          159,
          161,
          159,
          152,
          138,
          126,
          110,
          102,
          90,
          86,
          77,
          72,
          70,
          75,
          72,
          71,
          72,
          76,
          80,
          85,
          90,
          95,
          109,
          102,
          89,
          80,
          78,
          70,
          67,
          69,
          71,
          75,
          75,
          81,
          86,
          94,
          103,
          110,
          132,
          147,
          153,
          162,
          174,
          190,
          196,
          203,
          212,
          215,
          220,
          227,
          234,
          241,
          244,
          248,
          250,
          255,
          258,
          258,
          258,
          266,
          272,
          274,
          276,
          278,
          280,
          282,
          283,
          286,
          291,
          293,
          297,
          300,
          301,
          302,
          305,
          306,
          307,
          309,
          310,
          313,
          314,
          315,
          317,
          317,
          319,
          321,
          321,
          322,
          323,
          324,
          324,
          324,
          325,
          325,
          325,
          325,
          301,
          301,
          247,
          216,
          179,
          161,
          140,
          130,
          119,
          103,
          96,
          90,
          81,
          80,
          74,
          68,
          69,
          76,
          79,
          84,
          91,
          94,
          109,
          117,
          125,
          173,
          181,
          191,
          197,
          202,
          211,
          216,
          225,
          233,
          237,
          243,
          246,
          252,
          258,
          260,
          264,
          266,
          271,
          275,
          278,
          281,
          284
         ],
         "yaxis": "y"
        },
        {
         "hovertemplate": "Delta Time: %{y:.3f} sec",
         "line": {
          "color": "white",
          "width": 1
         },
         "name": "Delta Time",
         "opacity": 0.8,
         "type": "scatter",
         "x": [
          0,
          7.9958333333333345,
          30.318055555555556,
          59.518055555555556,
          75.79583333333333,
          92.24027777777778,
          108.79583333333335,
          125.4625,
          145.4625,
          172.39583333333331,
          196.19583333333333,
          223.39583333333331,
          253.99583333333334,
          284.6736111111111,
          294.54027777777776,
          303.7269444444444,
          315.2602777777778,
          330.06027777777774,
          337.6158333333333,
          348.4602777777777,
          360.3788888888888,
          372.8455555555555,
          381.5566666666666,
          385.77888888888884,
          394.2233333333333,
          404.5233333333333,
          411.9233333333333,
          426.1455555555555,
          440.44555555555553,
          453.7788888888889,
          462.1122222222222,
          469.1788888888889,
          478.0122222222222,
          491.2344444444445,
          509.53444444444443,
          522.4677777777778,
          533.5233333333333,
          544.578888888889,
          555.8566666666667,
          569.3336111111112,
          595.2447222222222,
          619.6891666666667,
          634.4838888888888,
          659.9283333333333,
          672.8172222222221,
          683.3949999999999,
          699.4616666666666,
          721.2394444444444,
          735.0727777777777,
          746.1394444444444,
          760.2505555555556,
          777.3172222222223,
          794.6505555555557,
          809.2061111111112,
          826.8061111111112,
          841.5283333333334,
          856.472777777778,
          880.6505555555558,
          892.783888888889,
          911.1172222222224,
          935.9172222222224,
          948.3616666666669,
          963.972777777778,
          989.2172222222224,
          1005.1061111111112,
          1017.8172222222223,
          1040.1372222222224,
          1052.8483333333336,
          1086.7038888888892,
          1104.4372222222223,
          1130.308888888889,
          1141.6422222222222,
          1161.2422222222224,
          1186.5422222222223,
          1200.5977777777778,
          1214.1533333333332,
          1234.6866666666665,
          1247.0755555555556,
          1266.6311111111113,
          1283.6644444444444,
          1308.5533333333333,
          1326.2088888888886,
          1349.5088888888886,
          1360.0866666666664,
          1378.3644444444442,
          1394.0977777777778,
          1404.408888888889,
          1417.2977777777778,
          1432.631111111111,
          1445.3533333333332,
          1465.9755555555555,
          1486.0644444444445,
          1502.8819444444443,
          1521.1041666666665,
          1541.9291666666666,
          1549.1291666666666,
          1564.5291666666667,
          1575.8069444444443,
          1588.1625,
          1600.073611111111,
          1605.8958333333333,
          1611.6291666666666,
          1621.5069444444443,
          1636.7291666666665,
          1642.9958333333332,
          1652.9291666666666,
          1666.973611111111,
          1684.073611111111,
          1694.0180555555553,
          1713.3180555555552,
          1722.2069444444442,
          1743.306944444444,
          1752.9513888888885,
          1770.295833333333,
          1785.4958333333327,
          1801.0291666666662,
          1822.2072222222218,
          1844.2516666666663,
          1875.3666666666663,
          1895.4333333333332,
          1924.7666666666667,
          1942.5666666666664,
          1969.6666666666663,
          1981.8444444444444,
          1994.0666666666664,
          2009.3444444444444,
          2027.9444444444446,
          2053.0111111111114,
          2078.166666666667,
          2090.7444444444445,
          2113.066666666667,
          2132.2666666666673,
          2167.7111111111117,
          2193.5777777777785,
          2206.555555555556,
          2235.8555555555567,
          2255.58888888889,
          2275.4555555555567,
          2292.1222222222236,
          2315.611111111112,
          2332.360277777779,
          2349.193611111112,
          2372.9158333333344,
          2400.468333333334,
          2434.912777777779,
          2452.1350000000007,
          2479.7794444444453,
          2504.1238888888897,
          2525.057222222223,
          2542.5572222222227,
          2567.1350000000007,
          2602.2461111111115,
          2619.857222222223,
          2637.52388888889,
          2658.7905555555562,
          2680.057222222223,
          2701.3905555555566,
          2726.3572222222233,
          2747.8238888888895,
          2762.1794444444454,
          2783.7127777777787,
          2812.512777777779,
          2844.912777777779,
          2866.5127777777784,
          2888.112777777779,
          2909.7794444444457,
          2924.1336111111123,
          2963.8236111111123,
          2992.7236111111124,
          3003.9680555555565,
          3022.634722222223,
          3038.2791666666676,
          3049.7902777777786,
          3056.1013888888897,
          3061.8791666666675,
          3067.2125000000005,
          3078.2125000000005,
          3084.745833333334,
          3094.745833333334,
          3099.5791666666673,
          3108.3791666666675,
          3112.3791666666675,
          3120.912500000001,
          3131.6125000000006,
          3138.0013888888893,
          3143.334722222223,
          3150.334722222223,
          3161.6236111111116,
          3171.3458333333338,
          3183.245833333334,
          3194.8136111111116,
          3203.524722222223,
          3214.154166666667,
          3226.620833333334,
          3236.8208333333337,
          3244.9875,
          3257.654166666667,
          3267.2986111111113,
          3274.6875000000005,
          3286.120833333334,
          3294.509722222223,
          3306.7986111111118,
          3319.6319444444453,
          3334.7430555555566,
          3345.07638888889,
          3354.67638888889,
          3366.57638888889,
          3379.2875000000013,
          3385.954166666668,
          3392.6430555555567,
          3396.287500000001,
          3402.198611111112,
          3407.7986111111118,
          3412.445833333334,
          3415.5125000000007,
          3423.9650000000006,
          3428.631666666667,
          3436.520555555556,
          3445.4094444444445,
          3455.4094444444445,
          3462.076111111111,
          3473.176111111111,
          3479.1205555555553,
          3486.587222222222,
          3494.498333333333,
          3498.365,
          3504.665,
          3509.865,
          3514.798333333333,
          3523.1316666666667,
          3527.298333333333,
          3533.365,
          3539.165,
          3547.965,
          3553.965,
          3564.987222222222,
          3575.876111111111,
          3593.653888888889,
          3601.1650000000004,
          3614.9316666666664,
          3625.209444444444,
          3638.2761111111113,
          3651.7427777777775,
          3670.4983333333325,
          3685.165,
          3700.098333333333,
          3720.5427777777777,
          3741.9649999999997,
          3758.2983333333327,
          3780.5205555555553,
          3791.809444444444,
          3806.087222222222,
          3832.2872222222218,
          3847.0094444444444,
          3870.831666666666,
          3888.8983333333335,
          3907.0983333333334,
          3919.3205555555555,
          3931.587222222223,
          3950.1872222222223,
          3962.587222222222,
          3981.3872222222217,
          4006.7205555555556,
          4019.4316666666664,
          4035.4316666666664,
          4058.1427777777776,
          4081.0094444444444,
          4097.453888888889,
          4124.031666666667,
          4137.320555555555,
          4157.453888888889,
          4174.287222222223,
          4191.231666666667,
          4215.031666666667,
          4235.5650000000005,
          4270.009444444444,
          4283.787222222221,
          4304.520555555556,
          4321.9094444444445,
          4353.309444444444,
          4370.809444444443,
          4391.876111111111,
          4409.487222222222,
          4434.220555555556,
          4469.553888888888,
          4487.27611111111,
          4501.453888888888,
          4515.631666666666,
          4544.0761111111115,
          4569.042777777779,
          4586.820555555557,
          4615.35388888889,
          4629.665000000001,
          4658.198333333335,
          4693.642777777778,
          4711.253888888889,
          4730.25388888889,
          4744.031666666668,
          4758.498333333335,
          4777.05388888889,
          4783.631666666668,
          4791.831666666668,
          4800.465000000001,
          4809.35388888889,
          4814.520555555557,
          4819.298333333335,
          4824.765000000001,
          4828.320555555557,
          4834.076111111112,
          4838.809444444446,
          4844.176111111113,
          4848.009444444446,
          4853.687222222224,
          4859.020555555557,
          4865.5538888888905,
          4874.353888888891,
          4885.685277777779,
          4894.050277777779,
          4899.650277777779,
          4909.450277777779,
          4921.972500000001,
          4931.416944444445,
          4941.083611111112,
          4949.128055555557,
          4959.572500000001,
          4972.5058333333345,
          4985.905833333335,
          4994.972500000002,
          5013.550277777779,
          5022.8391666666685,
          5042.8391666666685,
          5074.572500000002,
          5099.172500000002,
          5110.239166666669,
          5124.183611111113,
          5135.3391666666685,
          5158.005833333335,
          5175.3391666666685,
          5192.872500000001,
          5207.594722222224,
          5234.594722222224,
          5252.728055555557,
          5280.428055555558,
          5292.905555555557,
          5311.627222222224,
          5330.32388888889
         ],
         "xaxis": "x",
         "y": [
          0,
          -0.0007038327526132232,
          -0.0027965517241378968,
          -0.003343537414965958,
          -0.005215488215488229,
          -0.0058888888888888324,
          -0.008473509933774714,
          -0.009798013245033044,
          -0.012115131578947391,
          -0.014622149837133946,
          -0.017000000000000348,
          -0.021480769230769692,
          -0.02717532467532502,
          -0.09247636363636369,
          -0.097362831858407,
          -0.10826395939086275,
          -0.1375025380710655,
          -0.17719205298013208,
          -0.19667142857142927,
          -0.2320305343511464,
          -0.28759663865546425,
          -0.3287000000000031,
          -0.34861386138614137,
          -0.3581188118811909,
          -0.3603645833333351,
          -0.3454455445544564,
          -0.3364587155963319,
          -0.2821913043478279,
          -0.25354744525547623,
          -0.23249655172413775,
          -0.2274799999999999,
          -0.21788000000000096,
          -0.21220645161290363,
          -0.19201176470588166,
          -0.169254143646409,
          -0.15259162303664908,
          -0.1442146596858649,
          -0.13666497461928984,
          -0.1302040816326535,
          -0.12166836734694009,
          -0.09729268292683102,
          -0.08043181818181999,
          -0.07933636363636687,
          -0.06993392070484816,
          -0.06552863436123602,
          -0.06151502145922905,
          -0.056420168067228715,
          -0.05468292682926901,
          -0.05224390243902555,
          -0.053334661354581314,
          -0.05207450980392103,
          -0.05113333333333081,
          -0.04735156249999761,
          -0.04421705426356404,
          -0.045064150943394665,
          -0.04592537313432743,
          -0.045179104477609755,
          -0.04219047619047522,
          -0.04219047619047522,
          -0.042618705035970095,
          -0.041467625899278104,
          -0.04031654676258789,
          -0.0387491039426493,
          -0.03598233215547353,
          -0.034768421052628895,
          -0.03437762237761888,
          -0.03147703180211536,
          -0.029780918727908556,
          -0.02450757575757123,
          -0.01700793650793031,
          -0.007209677419350413,
          -0.002693548387096456,
          0.0024677419354830477,
          0.009353413654618947,
          0.016983193277312125,
          0.022025210084031244,
          0.028113122171941285,
          0.03126728110598975,
          0.04364761904761849,
          0.05382191780821799,
          0.06295433789954075,
          0.07069230769230472,
          0.08477631578947253,
          0.09097826086956218,
          0.09586637931034048,
          0.1000043103448256,
          0.1000043103448256,
          0.10000431034482915,
          0.09950869565217602,
          0.09863913043478334,
          0.10198684210526565,
          0.09917982456140706,
          0.10794871794871597,
          0.13580346820808842,
          0.1394840764331171,
          0.14645578231291978,
          0.16664788732393987,
          0.17854411764705347,
          0.19280152671755246,
          0.20795999999999282,
          0.21563999999999695,
          0.2230975609756065,
          0.22169230769230097,
          0.22493877551019636,
          0.21840816326529833,
          0.22167346938774557,
          0.2189999999999941,
          0.23231818181817943,
          0.23572727272726723,
          0.2443917525773145,
          0.2477699999999956,
          0.25873953488371626,
          0.2602279069767377,
          0.2681441441441379,
          0.27193043478260037,
          0.27307627118643296,
          0.2751694214875968,
          0.28104435483870205,
          0.28569685039369475,
          0.2891884615384548,
          0.29222180451127144,
          0.29312406015036885,
          0.29599629629628765,
          0.2976213235294054,
          0.29893065693429577,
          0.2994327272727233,
          0.3017913669064711,
          0.30533571428571094,
          0.3068439716311957,
          0.3066408450704188,
          0.3088181818181823,
          0.3099651567944264,
          0.31076288659794216,
          0.31076288659794216,
          0.31131271477663347,
          0.3103277027027005,
          0.3100808080808122,
          0.30985953177258097,
          0.31003986710963716,
          0.30945065789474313,
          0.3087960526315783,
          0.3070618892508179,
          0.3052377850162884,
          0.30522903225806886,
          0.30453525641025436,
          0.3032532051282004,
          0.30028343949044256,
          0.2977310126582253,
          0.2958396226415019,
          0.29395283018867246,
          0.2918934169278913,
          0.28759999999999053,
          0.2854517133956307,
          0.28358255451712466,
          0.28156656346748576,
          0.27846913580246024,
          0.2755061728394992,
          0.27206769230768657,
          0.26985230769229673,
          0.2684342507645141,
          0.26549847094799617,
          0.2619969512195013,
          0.2569361702127537,
          0.25328875379938154,
          0.24923939393939065,
          0.2456291793313028,
          0.2436960486322164,
          0.24177358490565837,
          0.2871826923076952,
          0.3217980769230806,
          0.35375144508670786,
          0.39076296296295965,
          0.4303166666666627,
          0.45964999999999634,
          0.47487719298245423,
          0.4836448598130687,
          0.4964999999999904,
          0.4916494845360688,
          0.481191011235957,
          0.4785057471264409,
          0.469347826086981,
          0.4658695652174103,
          0.4797826086956718,
          0.47568067226891486,
          0.46895798319327753,
          0.4573307692307722,
          0.45654400000000095,
          0.4656916666666646,
          0.4843304347826063,
          0.5013125000000045,
          0.5187981651376177,
          0.5346057692307724,
          0.544504854368931,
          0.5428380952380891,
          0.5310092592592497,
          0.5209009009008909,
          0.5179262295081912,
          0.5143777777777672,
          0.5114148148148132,
          0.518202614379085,
          0.5155882352941248,
          0.5154276729559797,
          0.5249006211180145,
          0.5474144736842206,
          0.5521513157894944,
          0.5579347826087044,
          0.5526090909091081,
          0.5703000000000387,
          0.5969666666666953,
          0.6016363636364019,
          0.6120259740259968,
          0.614736111111128,
          0.6152428571428672,
          0.6152428571428743,
          0.6066266666666777,
          0.5845492957746501,
          0.5808333333333238,
          0.5594499999999982,
          0.5413999999999888,
          0.5295894736842044,
          0.5132935779816492,
          0.5364999999999966,
          0.5621235955056036,
          0.6005874999999818,
          0.6406538461538318,
          0.6752428571428482,
          0.7228805970149281,
          0.7575217391304321,
          0.7699295774647936,
          0.771426666666656,
          0.7585061728394962,
          0.7297872340425471,
          0.7119148936170205,
          0.7017454545454598,
          0.687924242424252,
          0.6685303030303018,
          0.6642244897959344,
          0.670574712643699,
          0.6659770114942631,
          0.6578526315789617,
          0.6525894736842162,
          0.6533367346938803,
          0.6505943396226428,
          0.6477999999999895,
          0.6512136363636358,
          0.6513348017621183,
          0.6466623931623872,
          0.6487344398340156,
          0.6503669354838593,
          0.6512823529411662,
          0.6506549019607775,
          0.6511279069767397,
          0.6567093023255808,
          0.660206766917284,
          0.6594007352941134,
          0.6585183823529377,
          0.6583613138686104,
          0.6579166666666652,
          0.6571906474820111,
          0.6580539568345216,
          0.6576178571428528,
          0.6583226950354515,
          0.6608216783216676,
          0.6608216783216676,
          0.6610996563573792,
          0.6618907849829299,
          0.661959595959587,
          0.6612861952861806,
          0.6615766666666616,
          0.6610433333333248,
          0.661811258278135,
          0.6618295081967176,
          0.6618295081967176,
          0.6615439739413773,
          0.6613915857605264,
          0.66196129032258,
          0.6605814696485623,
          0.6590479233226887,
          0.6584713375796127,
          0.6562586750788597,
          0.6549968454258561,
          0.6538871473354106,
          0.6526332288401164,
          0.6501744548286439,
          0.646436137071646,
          0.6446677018633409,
          0.6429102167182634,
          0.6409287925696532,
          0.6370895061728419,
          0.6344969135802643,
          0.6320277777777932,
          0.6282276923077035,
          0.6267507692307817,
          0.6228123076923282,
          0.6232757475083162,
          0.6339069767441998,
          0.6351740890688546,
          0.6473194444444772,
          0.6753910614525438,
          0.6995214285714724,
          0.7110230769231265,
          0.7073529411765378,
          0.7212330097088255,
          0.7354777777778736,
          0.7537160493828168,
          0.7660617283951865,
          0.7722297297298439,
          0.7876029411765728,
          0.8123088235294915,
          0.8196231884058989,
          0.8028026315790555,
          0.7843815789474462,
          0.7681518987342741,
          0.763202380952464,
          0.744263736263818,
          0.7390275229358707,
          0.7443247863248814,
          0.7521040000000738,
          0.7099942196532112,
          0.6739248554913786,
          0.6545028901734469,
          0.6510346820809616,
          0.6521907514451328,
          0.6568232044199362,
          0.6631675392670644,
          0.6669371727749223,
          0.6721472081218849,
          0.6748663366337126,
          0.6745138888889386,
          0.6693287037037408,
          0.6712755555555958,
          0.6837679324894879,
          0.6910329218107591,
          0.6933130081301329,
          0.6950119047619552,
          0.6943769841270324,
          0.6939961240310595,
          0.6954038461538943,
          0.6972462121212573,
          0.6972443609023031,
          0.7007084870849098,
          0.7012363636364114,
          0.7027014388489619,
          0.7029893238434681,
          0.7038398576513032,
          0.7044014084507495
         ],
         "yaxis": "y2"
        }
       ],
       "layout": {
        "height": 600,
        "template": {
         "data": {
          "bar": [
           {
            "error_x": {
             "color": "#f2f5fa"
            },
            "error_y": {
             "color": "#f2f5fa"
            },
            "marker": {
             "line": {
              "color": "rgb(17,17,17)",
              "width": 0.5
             },
             "pattern": {
              "fillmode": "overlay",
              "size": 10,
              "solidity": 0.2
             }
            },
            "type": "bar"
           }
          ],
          "barpolar": [
           {
            "marker": {
             "line": {
              "color": "rgb(17,17,17)",
              "width": 0.5
             },
             "pattern": {
              "fillmode": "overlay",
              "size": 10,
              "solidity": 0.2
             }
            },
            "type": "barpolar"
           }
          ],
          "carpet": [
           {
            "aaxis": {
             "endlinecolor": "#A2B1C6",
             "gridcolor": "#506784",
             "linecolor": "#506784",
             "minorgridcolor": "#506784",
             "startlinecolor": "#A2B1C6"
            },
            "baxis": {
             "endlinecolor": "#A2B1C6",
             "gridcolor": "#506784",
             "linecolor": "#506784",
             "minorgridcolor": "#506784",
             "startlinecolor": "#A2B1C6"
            },
            "type": "carpet"
           }
          ],
          "choropleth": [
           {
            "colorbar": {
             "outlinewidth": 0,
             "ticks": ""
            },
            "type": "choropleth"
           }
          ],
          "contour": [
           {
            "colorbar": {
             "outlinewidth": 0,
             "ticks": ""
            },
            "colorscale": [
             [
              0,
              "#0d0887"
             ],
             [
              0.1111111111111111,
              "#46039f"
             ],
             [
              0.2222222222222222,
              "#7201a8"
             ],
             [
              0.3333333333333333,
              "#9c179e"
             ],
             [
              0.4444444444444444,
              "#bd3786"
             ],
             [
              0.5555555555555556,
              "#d8576b"
             ],
             [
              0.6666666666666666,
              "#ed7953"
             ],
             [
              0.7777777777777778,
              "#fb9f3a"
             ],
             [
              0.8888888888888888,
              "#fdca26"
             ],
             [
              1,
              "#f0f921"
             ]
            ],
            "type": "contour"
           }
          ],
          "contourcarpet": [
           {
            "colorbar": {
             "outlinewidth": 0,
             "ticks": ""
            },
            "type": "contourcarpet"
           }
          ],
          "heatmap": [
           {
            "colorbar": {
             "outlinewidth": 0,
             "ticks": ""
            },
            "colorscale": [
             [
              0,
              "#0d0887"
             ],
             [
              0.1111111111111111,
              "#46039f"
             ],
             [
              0.2222222222222222,
              "#7201a8"
             ],
             [
              0.3333333333333333,
              "#9c179e"
             ],
             [
              0.4444444444444444,
              "#bd3786"
             ],
             [
              0.5555555555555556,
              "#d8576b"
             ],
             [
              0.6666666666666666,
              "#ed7953"
             ],
             [
              0.7777777777777778,
              "#fb9f3a"
             ],
             [
              0.8888888888888888,
              "#fdca26"
             ],
             [
              1,
              "#f0f921"
             ]
            ],
            "type": "heatmap"
           }
          ],
          "heatmapgl": [
           {
            "colorbar": {
             "outlinewidth": 0,
             "ticks": ""
            },
            "colorscale": [
             [
              0,
              "#0d0887"
             ],
             [
              0.1111111111111111,
              "#46039f"
             ],
             [
              0.2222222222222222,
              "#7201a8"
             ],
             [
              0.3333333333333333,
              "#9c179e"
             ],
             [
              0.4444444444444444,
              "#bd3786"
             ],
             [
              0.5555555555555556,
              "#d8576b"
             ],
             [
              0.6666666666666666,
              "#ed7953"
             ],
             [
              0.7777777777777778,
              "#fb9f3a"
             ],
             [
              0.8888888888888888,
              "#fdca26"
             ],
             [
              1,
              "#f0f921"
             ]
            ],
            "type": "heatmapgl"
           }
          ],
          "histogram": [
           {
            "marker": {
             "pattern": {
              "fillmode": "overlay",
              "size": 10,
              "solidity": 0.2
             }
            },
            "type": "histogram"
           }
          ],
          "histogram2d": [
           {
            "colorbar": {
             "outlinewidth": 0,
             "ticks": ""
            },
            "colorscale": [
             [
              0,
              "#0d0887"
             ],
             [
              0.1111111111111111,
              "#46039f"
             ],
             [
              0.2222222222222222,
              "#7201a8"
             ],
             [
              0.3333333333333333,
              "#9c179e"
             ],
             [
              0.4444444444444444,
              "#bd3786"
             ],
             [
              0.5555555555555556,
              "#d8576b"
             ],
             [
              0.6666666666666666,
              "#ed7953"
             ],
             [
              0.7777777777777778,
              "#fb9f3a"
             ],
             [
              0.8888888888888888,
              "#fdca26"
             ],
             [
              1,
              "#f0f921"
             ]
            ],
            "type": "histogram2d"
           }
          ],
          "histogram2dcontour": [
           {
            "colorbar": {
             "outlinewidth": 0,
             "ticks": ""
            },
            "colorscale": [
             [
              0,
              "#0d0887"
             ],
             [
              0.1111111111111111,
              "#46039f"
             ],
             [
              0.2222222222222222,
              "#7201a8"
             ],
             [
              0.3333333333333333,
              "#9c179e"
             ],
             [
              0.4444444444444444,
              "#bd3786"
             ],
             [
              0.5555555555555556,
              "#d8576b"
             ],
             [
              0.6666666666666666,
              "#ed7953"
             ],
             [
              0.7777777777777778,
              "#fb9f3a"
             ],
             [
              0.8888888888888888,
              "#fdca26"
             ],
             [
              1,
              "#f0f921"
             ]
            ],
            "type": "histogram2dcontour"
           }
          ],
          "mesh3d": [
           {
            "colorbar": {
             "outlinewidth": 0,
             "ticks": ""
            },
            "type": "mesh3d"
           }
          ],
          "parcoords": [
           {
            "line": {
             "colorbar": {
              "outlinewidth": 0,
              "ticks": ""
             }
            },
            "type": "parcoords"
           }
          ],
          "pie": [
           {
            "automargin": true,
            "type": "pie"
           }
          ],
          "scatter": [
           {
            "marker": {
             "line": {
              "color": "#283442"
             }
            },
            "type": "scatter"
           }
          ],
          "scatter3d": [
           {
            "line": {
             "colorbar": {
              "outlinewidth": 0,
              "ticks": ""
             }
            },
            "marker": {
             "colorbar": {
              "outlinewidth": 0,
              "ticks": ""
             }
            },
            "type": "scatter3d"
           }
          ],
          "scattercarpet": [
           {
            "marker": {
             "colorbar": {
              "outlinewidth": 0,
              "ticks": ""
             }
            },
            "type": "scattercarpet"
           }
          ],
          "scattergeo": [
           {
            "marker": {
             "colorbar": {
              "outlinewidth": 0,
              "ticks": ""
             }
            },
            "type": "scattergeo"
           }
          ],
          "scattergl": [
           {
            "marker": {
             "line": {
              "color": "#283442"
             }
            },
            "type": "scattergl"
           }
          ],
          "scattermapbox": [
           {
            "marker": {
             "colorbar": {
              "outlinewidth": 0,
              "ticks": ""
             }
            },
            "type": "scattermapbox"
           }
          ],
          "scatterpolar": [
           {
            "marker": {
             "colorbar": {
              "outlinewidth": 0,
              "ticks": ""
             }
            },
            "type": "scatterpolar"
           }
          ],
          "scatterpolargl": [
           {
            "marker": {
             "colorbar": {
              "outlinewidth": 0,
              "ticks": ""
             }
            },
            "type": "scatterpolargl"
           }
          ],
          "scatterternary": [
           {
            "marker": {
             "colorbar": {
              "outlinewidth": 0,
              "ticks": ""
             }
            },
            "type": "scatterternary"
           }
          ],
          "surface": [
           {
            "colorbar": {
             "outlinewidth": 0,
             "ticks": ""
            },
            "colorscale": [
             [
              0,
              "#0d0887"
             ],
             [
              0.1111111111111111,
              "#46039f"
             ],
             [
              0.2222222222222222,
              "#7201a8"
             ],
             [
              0.3333333333333333,
              "#9c179e"
             ],
             [
              0.4444444444444444,
              "#bd3786"
             ],
             [
              0.5555555555555556,
              "#d8576b"
             ],
             [
              0.6666666666666666,
              "#ed7953"
             ],
             [
              0.7777777777777778,
              "#fb9f3a"
             ],
             [
              0.8888888888888888,
              "#fdca26"
             ],
             [
              1,
              "#f0f921"
             ]
            ],
            "type": "surface"
           }
          ],
          "table": [
           {
            "cells": {
             "fill": {
              "color": "#506784"
             },
             "line": {
              "color": "rgb(17,17,17)"
             }
            },
            "header": {
             "fill": {
              "color": "#2a3f5f"
             },
             "line": {
              "color": "rgb(17,17,17)"
             }
            },
            "type": "table"
           }
          ]
         },
         "layout": {
          "annotationdefaults": {
           "arrowcolor": "#f2f5fa",
           "arrowhead": 0,
           "arrowwidth": 1
          },
          "autotypenumbers": "strict",
          "coloraxis": {
           "colorbar": {
            "outlinewidth": 0,
            "ticks": ""
           }
          },
          "colorscale": {
           "diverging": [
            [
             0,
             "#8e0152"
            ],
            [
             0.1,
             "#c51b7d"
            ],
            [
             0.2,
             "#de77ae"
            ],
            [
             0.3,
             "#f1b6da"
            ],
            [
             0.4,
             "#fde0ef"
            ],
            [
             0.5,
             "#f7f7f7"
            ],
            [
             0.6,
             "#e6f5d0"
            ],
            [
             0.7,
             "#b8e186"
            ],
            [
             0.8,
             "#7fbc41"
            ],
            [
             0.9,
             "#4d9221"
            ],
            [
             1,
             "#276419"
            ]
           ],
           "sequential": [
            [
             0,
             "#0d0887"
            ],
            [
             0.1111111111111111,
             "#46039f"
            ],
            [
             0.2222222222222222,
             "#7201a8"
            ],
            [
             0.3333333333333333,
             "#9c179e"
            ],
            [
             0.4444444444444444,
             "#bd3786"
            ],
            [
             0.5555555555555556,
             "#d8576b"
            ],
            [
             0.6666666666666666,
             "#ed7953"
            ],
            [
             0.7777777777777778,
             "#fb9f3a"
            ],
            [
             0.8888888888888888,
             "#fdca26"
            ],
            [
             1,
             "#f0f921"
            ]
           ],
           "sequentialminus": [
            [
             0,
             "#0d0887"
            ],
            [
             0.1111111111111111,
             "#46039f"
            ],
            [
             0.2222222222222222,
             "#7201a8"
            ],
            [
             0.3333333333333333,
             "#9c179e"
            ],
            [
             0.4444444444444444,
             "#bd3786"
            ],
            [
             0.5555555555555556,
             "#d8576b"
            ],
            [
             0.6666666666666666,
             "#ed7953"
            ],
            [
             0.7777777777777778,
             "#fb9f3a"
            ],
            [
             0.8888888888888888,
             "#fdca26"
            ],
            [
             1,
             "#f0f921"
            ]
           ]
          },
          "colorway": [
           "#636efa",
           "#EF553B",
           "#00cc96",
           "#ab63fa",
           "#FFA15A",
           "#19d3f3",
           "#FF6692",
           "#B6E880",
           "#FF97FF",
           "#FECB52"
          ],
          "font": {
           "color": "#f2f5fa"
          },
          "geo": {
           "bgcolor": "rgb(17,17,17)",
           "lakecolor": "rgb(17,17,17)",
           "landcolor": "rgb(17,17,17)",
           "showlakes": true,
           "showland": true,
           "subunitcolor": "#506784"
          },
          "hoverlabel": {
           "align": "left"
          },
          "hovermode": "closest",
          "mapbox": {
           "style": "dark"
          },
          "paper_bgcolor": "rgb(17,17,17)",
          "plot_bgcolor": "rgb(17,17,17)",
          "polar": {
           "angularaxis": {
            "gridcolor": "#506784",
            "linecolor": "#506784",
            "ticks": ""
           },
           "bgcolor": "rgb(17,17,17)",
           "radialaxis": {
            "gridcolor": "#506784",
            "linecolor": "#506784",
            "ticks": ""
           }
          },
          "scene": {
           "xaxis": {
            "backgroundcolor": "rgb(17,17,17)",
            "gridcolor": "#506784",
            "gridwidth": 2,
            "linecolor": "#506784",
            "showbackground": true,
            "ticks": "",
            "zerolinecolor": "#C8D4E3"
           },
           "yaxis": {
            "backgroundcolor": "rgb(17,17,17)",
            "gridcolor": "#506784",
            "gridwidth": 2,
            "linecolor": "#506784",
            "showbackground": true,
            "ticks": "",
            "zerolinecolor": "#C8D4E3"
           },
           "zaxis": {
            "backgroundcolor": "rgb(17,17,17)",
            "gridcolor": "#506784",
            "gridwidth": 2,
            "linecolor": "#506784",
            "showbackground": true,
            "ticks": "",
            "zerolinecolor": "#C8D4E3"
           }
          },
          "shapedefaults": {
           "line": {
            "color": "#f2f5fa"
           }
          },
          "sliderdefaults": {
           "bgcolor": "#C8D4E3",
           "bordercolor": "rgb(17,17,17)",
           "borderwidth": 1,
           "tickwidth": 0
          },
          "ternary": {
           "aaxis": {
            "gridcolor": "#506784",
            "linecolor": "#506784",
            "ticks": ""
           },
           "baxis": {
            "gridcolor": "#506784",
            "linecolor": "#506784",
            "ticks": ""
           },
           "bgcolor": "rgb(17,17,17)",
           "caxis": {
            "gridcolor": "#506784",
            "linecolor": "#506784",
            "ticks": ""
           }
          },
          "title": {
           "x": 0.05
          },
          "updatemenudefaults": {
           "bgcolor": "#506784",
           "borderwidth": 0
          },
          "xaxis": {
           "automargin": true,
           "gridcolor": "#283442",
           "linecolor": "#506784",
           "ticks": "",
           "title": {
            "standoff": 15
           },
           "zerolinecolor": "#283442",
           "zerolinewidth": 2
          },
          "yaxis": {
           "automargin": true,
           "gridcolor": "#283442",
           "linecolor": "#506784",
           "ticks": "",
           "title": {
            "standoff": 15
           },
           "zerolinecolor": "#283442",
           "zerolinewidth": 2
          }
         }
        },
        "title": {
         "text": "2022 Miami Grand Prix - Practice 1 - LEC vs HAM",
         "x": 0.5
        },
        "width": 1000,
        "xaxis": {
         "anchor": "y",
         "domain": [
          0,
          0.94
         ],
         "title": {
          "text": "Distance (m)"
         }
        },
        "yaxis": {
         "anchor": "x",
         "domain": [
          0,
          1
         ],
         "title": {
          "text": "Speed (km/h)"
         }
        },
        "yaxis2": {
         "anchor": "x",
         "overlaying": "y",
         "side": "right",
         "title": {
          "text": "<-- HAM ahead | LEC ahead -->"
         }
        }
       }
      }
     },
     "metadata": {},
     "output_type": "display_data"
    }
   ],
   "source": [
    "hovertemplate_speed = 'Speed: %{y} km/h'+'<br>Distance: %{x} meters'\n",
    "hovertemplate_gear = 'Gear: %{y}'+'<br>Distance: %{x} meters'\n",
    "fig = make_subplots(specs=[[{\"secondary_y\": True}]])\n",
    "\n",
    "fig.add_trace(go.Scatter(x=car_data_1['Distance'], y=car_data_1['Speed'], name=driver_1, line_color=ff1.plotting.driver_color(driver_1), hovertemplate = hovertemplate_speed, opacity=0.8), secondary_y=False)\n",
    "fig.add_trace(go.Scatter(x=car_data_2['Distance'], y=car_data_2['Speed'], name=driver_2, line_color=ff1.plotting.driver_color(driver_2), hovertemplate = hovertemplate_speed, opacity=0.8), secondary_y=False)\n",
    "fig.add_trace(go.Scatter(x=ref_tel['Distance'], y=delta_time, line_color='white', name='Delta Time', hovertemplate = 'Delta Time: %{y:.3f} sec', opacity=0.8, line_width=1), secondary_y=True)\n",
    "\n",
    "fig.update_yaxes(title_text=\"Speed (km/h)\", secondary_y=False)\n",
    "fig.update_yaxes(title_text=f\"<-- {driver_2} ahead | {driver_1} ahead -->\", secondary_y=True)\n",
    "fig.update_layout(width=1000, height=600, title_text=plot_title, xaxis_title='Distance (m)', title_x=0.5)\n",
    "fig.show()"
   ]
  },
  {
   "cell_type": "code",
   "execution_count": 12,
   "metadata": {},
   "outputs": [
    {
     "data": {
      "application/vnd.plotly.v1+json": {
       "config": {
        "plotlyServerURL": "https://plot.ly"
       },
       "data": [
        {
         "hovertemplate": "Speed: %{y} km/h<br>Distance: %{x} meters",
         "line": {
          "color": "#dc0000"
         },
         "name": "LEC",
         "opacity": 0.8,
         "type": "scatter",
         "x": [
          8,
          30,
          60,
          76,
          92,
          109,
          125,
          145,
          172,
          196,
          223,
          254,
          285,
          295,
          304,
          315,
          330,
          338,
          348,
          360,
          373,
          382,
          386,
          394,
          405,
          412,
          426,
          440,
          454,
          462,
          469,
          478,
          491,
          510,
          522,
          534,
          545,
          556,
          569,
          595,
          620,
          634,
          660,
          673,
          683,
          699,
          721,
          735,
          746,
          760,
          777,
          795,
          809,
          827,
          842,
          856,
          881,
          893,
          911,
          936,
          948,
          964,
          989,
          1005,
          1018,
          1040,
          1053,
          1087,
          1104,
          1130,
          1142,
          1161,
          1187,
          1201,
          1214,
          1235,
          1247,
          1267,
          1284,
          1309,
          1326,
          1350,
          1360,
          1378,
          1394,
          1404,
          1417,
          1433,
          1445,
          1466,
          1486,
          1503,
          1521,
          1542,
          1549,
          1565,
          1576,
          1588,
          1600,
          1606,
          1612,
          1622,
          1637,
          1643,
          1653,
          1667,
          1684,
          1694,
          1713,
          1722,
          1743,
          1753,
          1770,
          1785,
          1801,
          1822,
          1844,
          1875,
          1895,
          1925,
          1943,
          1970,
          1982,
          1994,
          2009,
          2028,
          2053,
          2078,
          2091,
          2113,
          2132,
          2168,
          2194,
          2207,
          2236,
          2256,
          2275,
          2292,
          2316,
          2332,
          2349,
          2373,
          2400,
          2435,
          2452,
          2480,
          2504,
          2525,
          2543,
          2567,
          2602,
          2620,
          2638,
          2659,
          2680,
          2701,
          2726,
          2748,
          2762,
          2784,
          2813,
          2845,
          2867,
          2888,
          2910,
          2924,
          2964,
          2993,
          3004,
          3023,
          3038,
          3050,
          3056,
          3062,
          3067,
          3078,
          3085,
          3095,
          3100,
          3108,
          3112,
          3121,
          3132,
          3138,
          3143,
          3150,
          3162,
          3171,
          3183,
          3195,
          3204,
          3214,
          3227,
          3237,
          3245,
          3258,
          3267,
          3275,
          3286,
          3295,
          3307,
          3320,
          3335,
          3345,
          3355,
          3367,
          3379,
          3386,
          3393,
          3396,
          3402,
          3408,
          3412,
          3416,
          3424,
          3429,
          3437,
          3445,
          3455,
          3462,
          3473,
          3479,
          3487,
          3494,
          3498,
          3505,
          3510,
          3515,
          3523,
          3527,
          3533,
          3539,
          3548,
          3554,
          3565,
          3576,
          3594,
          3601,
          3615,
          3625,
          3638,
          3652,
          3670,
          3685,
          3700,
          3721,
          3742,
          3758,
          3781,
          3792,
          3806,
          3832,
          3847,
          3871,
          3889,
          3907,
          3919,
          3932,
          3950,
          3963,
          3981,
          4007,
          4019,
          4035,
          4058,
          4081,
          4097,
          4124,
          4137,
          4157,
          4174,
          4191,
          4215,
          4236,
          4270,
          4284,
          4305,
          4322,
          4353,
          4371,
          4392,
          4409,
          4434,
          4470,
          4487,
          4501,
          4516,
          4544,
          4569,
          4587,
          4615,
          4630,
          4658,
          4694,
          4711,
          4730,
          4744,
          4758,
          4777,
          4784,
          4792,
          4800,
          4809,
          4815,
          4819,
          4825,
          4828,
          4834,
          4839,
          4844,
          4848,
          4854,
          4859,
          4866,
          4874,
          4886,
          4894,
          4900,
          4909,
          4922,
          4931,
          4941,
          4949,
          4960,
          4973,
          4986,
          4995,
          5014,
          5023,
          5043,
          5075,
          5099,
          5110,
          5124,
          5135,
          5158,
          5175,
          5193,
          5208,
          5235,
          5253,
          5280,
          5293,
          5312
         ],
         "xaxis": "x",
         "y": [
          285,
          287,
          292,
          293,
          296,
          298,
          300,
          300,
          303,
          306,
          306,
          306,
          251,
          222,
          208,
          173,
          148,
          136,
          122,
          107,
          102,
          98,
          95,
          95,
          103,
          111,
          128,
          143,
          150,
          150,
          159,
          159,
          170,
          183,
          194,
          199,
          199,
          203,
          203,
          212,
          220,
          221,
          229,
          232,
          238,
          241,
          245,
          249,
          249,
          254,
          256,
          260,
          262,
          264,
          265,
          269,
          272,
          273,
          275,
          279,
          280,
          281,
          284,
          286,
          286,
          288,
          286,
          277,
          266,
          258,
          255,
          252,
          253,
          253,
          244,
          231,
          223,
          220,
          219,
          224,
          227,
          233,
          238,
          235,
          236,
          232,
          232,
          230,
          229,
          232,
          226,
          217,
          205,
          170,
          162,
          154,
          145,
          139,
          134,
          131,
          129,
          127,
          137,
          141,
          149,
          158,
          171,
          179,
          193,
          200,
          211,
          217,
          223,
          228,
          233,
          239,
          248,
          254,
          258,
          264,
          267,
          271,
          274,
          275,
          275,
          279,
          282,
          283,
          283,
          287,
          288,
          290,
          291,
          292,
          293,
          296,
          298,
          300,
          302,
          303,
          303,
          305,
          309,
          310,
          310,
          311,
          313,
          314,
          315,
          316,
          316,
          317,
          318,
          319,
          319,
          320,
          321,
          322,
          323,
          323,
          324,
          324,
          324,
          324,
          325,
          325,
          324,
          289,
          253,
          210,
          176,
          148,
          142,
          130,
          120,
          110,
          98,
          90,
          87,
          88,
          90,
          96,
          107,
          115,
          120,
          126,
          127,
          125,
          119,
          116,
          112,
          106,
          102,
          102,
          105,
          114,
          124,
          133,
          147,
          151,
          158,
          165,
          170,
          155,
          144,
          119,
          104,
          100,
          86,
          82,
          76,
          72,
          70,
          69,
          69,
          70,
          71,
          80,
          90,
          100,
          111,
          107,
          96,
          89,
          87,
          81,
          78,
          74,
          75,
          75,
          78,
          87,
          99,
          108,
          124,
          140,
          160,
          169,
          177,
          185,
          196,
          202,
          211,
          220,
          224,
          230,
          241,
          245,
          250,
          254,
          257,
          262,
          265,
          268,
          271,
          273,
          275,
          276,
          279,
          279,
          282,
          285,
          286,
          288,
          292,
          294,
          296,
          299,
          299,
          302,
          303,
          305,
          306,
          308,
          310,
          310,
          311,
          313,
          314,
          315,
          316,
          317,
          318,
          318,
          319,
          319,
          319,
          320,
          321,
          320,
          321,
          322,
          321,
          319,
          317,
          285,
          248,
          217,
          167,
          148,
          123,
          111,
          100,
          93,
          86,
          82,
          80,
          74,
          71,
          69,
          69,
          73,
          80,
          84,
          99,
          113,
          126,
          126,
          147,
          161,
          170,
          174,
          181,
          188,
          194,
          201,
          204,
          209,
          209,
          225,
          238,
          246,
          249,
          251,
          251,
          255,
          260,
          263,
          265,
          270,
          272,
          277,
          279,
          282
         ],
         "yaxis": "y"
        },
        {
         "hovertemplate": "Speed: %{y} km/h<br>Distance: %{x} meters",
         "line": {
          "color": "#00d2be"
         },
         "name": "HAM",
         "opacity": 0.8,
         "type": "scatter",
         "x": [
          14,
          34,
          50,
          66,
          79,
          93,
          129,
          143,
          160,
          177,
          197,
          218,
          246,
          273,
          285,
          303,
          316,
          329,
          337,
          345,
          354,
          362,
          368,
          373,
          379,
          387,
          394,
          398,
          406,
          417,
          429,
          444,
          453,
          460,
          470,
          482,
          489,
          506,
          522,
          543,
          552,
          561,
          574,
          585,
          598,
          608,
          617,
          639,
          652,
          674,
          690,
          706,
          736,
          755,
          778,
          795,
          809,
          836,
          857,
          878,
          902,
          936,
          951,
          973,
          995,
          1014,
          1033,
          1058,
          1071,
          1088,
          1103,
          1125,
          1144,
          1155,
          1180,
          1194,
          1215,
          1228,
          1243,
          1252,
          1269,
          1283,
          1309,
          1332,
          1344,
          1354,
          1369,
          1382,
          1395,
          1421,
          1452,
          1462,
          1487,
          1497,
          1510,
          1518,
          1532,
          1541,
          1548,
          1561,
          1570,
          1581,
          1594,
          1607,
          1615,
          1624,
          1636,
          1654,
          1671,
          1678,
          1694,
          1704,
          1719,
          1728,
          1742,
          1759,
          1768,
          1781,
          1796,
          1817,
          1839,
          1858,
          1883,
          1895,
          1915,
          1944,
          1956,
          1974,
          1989,
          2005,
          2020,
          2042,
          2057,
          2082,
          2104,
          2120,
          2139,
          2165,
          2181,
          2194,
          2210,
          2233,
          2250,
          2263,
          2286,
          2303,
          2340,
          2374,
          2398,
          2419,
          2433,
          2453,
          2481,
          2520,
          2559,
          2573,
          2587,
          2612,
          2651,
          2676,
          2702,
          2720,
          2734,
          2756,
          2796,
          2825,
          2839,
          2876,
          2909,
          2927,
          2949,
          2967,
          2992,
          3008,
          3017,
          3030,
          3037,
          3046,
          3061,
          3067,
          3075,
          3081,
          3087,
          3092,
          3098,
          3102,
          3112,
          3122,
          3128,
          3138,
          3145,
          3154,
          3159,
          3166,
          3174,
          3180,
          3187,
          3194,
          3198,
          3205,
          3219,
          3225,
          3235,
          3242,
          3250,
          3255,
          3264,
          3275,
          3283,
          3296,
          3316,
          3323,
          3334,
          3347,
          3355,
          3363,
          3369,
          3376,
          3386,
          3392,
          3400,
          3407,
          3414,
          3418,
          3423,
          3428,
          3431,
          3436,
          3440,
          3444,
          3450,
          3456,
          3466,
          3476,
          3483,
          3491,
          3495,
          3503,
          3507,
          3511,
          3515,
          3520,
          3524,
          3528,
          3532,
          3540,
          3547,
          3552,
          3568,
          3578,
          3585,
          3592,
          3607,
          3626,
          3640,
          3649,
          3665,
          3679,
          3692,
          3702,
          3725,
          3747,
          3757,
          3768,
          3780,
          3799,
          3811,
          3825,
          3842,
          3860,
          3896,
          3909,
          3924,
          3952,
          3970,
          3992,
          4005,
          4030,
          4056,
          4076,
          4109,
          4139,
          4155,
          4169,
          4193,
          4206,
          4223,
          4251,
          4271,
          4306,
          4324,
          4338,
          4362,
          4387,
          4412,
          4451,
          4472,
          4494,
          4519,
          4537,
          4566,
          4591,
          4620,
          4649,
          4667,
          4685,
          4712,
          4725,
          4739,
          4751,
          4763,
          4772,
          4782,
          4788,
          4794,
          4802,
          4808,
          4812,
          4821,
          4824,
          4828,
          4835,
          4841,
          4851,
          4856,
          4860,
          4866,
          4870,
          4882,
          4889,
          4894,
          4946,
          4958,
          4973,
          4988,
          5000,
          5011,
          5026,
          5048,
          5072,
          5082,
          5101,
          5117,
          5145,
          5171,
          5188,
          5200,
          5227,
          5251,
          5272,
          5291,
          5316,
          5328
         ],
         "xaxis": "x",
         "y": [
          287,
          290,
          292,
          294,
          297,
          297,
          302,
          303,
          304,
          307,
          309,
          310,
          312,
          308,
          275,
          226,
          197,
          166,
          151,
          140,
          131,
          119,
          113,
          110,
          106,
          101,
          95,
          96,
          101,
          109,
          115,
          137,
          142,
          145,
          150,
          155,
          157,
          170,
          181,
          191,
          197,
          196,
          196,
          199,
          205,
          210,
          212,
          220,
          223,
          227,
          233,
          238,
          246,
          251,
          255,
          256,
          258,
          265,
          268,
          269,
          273,
          278,
          278,
          279,
          283,
          285,
          286,
          283,
          283,
          264,
          258,
          252,
          248,
          247,
          248,
          249,
          238,
          229,
          221,
          217,
          210,
          211,
          219,
          221,
          224,
          228,
          230,
          232,
          232,
          232,
          230,
          230,
          228,
          219,
          195,
          189,
          173,
          165,
          157,
          147,
          142,
          136,
          131,
          125,
          123,
          130,
          136,
          147,
          160,
          160,
          176,
          184,
          194,
          200,
          206,
          215,
          217,
          222,
          230,
          236,
          242,
          248,
          254,
          255,
          260,
          266,
          268,
          270,
          272,
          274,
          275,
          278,
          280,
          282,
          284,
          286,
          287,
          290,
          291,
          291,
          291,
          294,
          296,
          297,
          299,
          301,
          304,
          307,
          309,
          310,
          311,
          312,
          314,
          316,
          318,
          319,
          319,
          320,
          321,
          323,
          324,
          325,
          325,
          325,
          327,
          328,
          329,
          329,
          330,
          329,
          330,
          318,
          252,
          208,
          196,
          173,
          147,
          135,
          120,
          114,
          107,
          104,
          97,
          93,
          89,
          87,
          92,
          92,
          105,
          119,
          130,
          125,
          124,
          120,
          115,
          114,
          112,
          110,
          109,
          104,
          103,
          101,
          105,
          108,
          111,
          115,
          122,
          135,
          140,
          153,
          159,
          161,
          159,
          152,
          138,
          126,
          110,
          102,
          90,
          86,
          77,
          72,
          70,
          75,
          72,
          71,
          72,
          76,
          80,
          85,
          90,
          95,
          109,
          102,
          89,
          80,
          78,
          70,
          67,
          69,
          71,
          75,
          75,
          81,
          86,
          94,
          103,
          110,
          132,
          147,
          153,
          162,
          174,
          190,
          196,
          203,
          212,
          215,
          220,
          227,
          234,
          241,
          244,
          248,
          250,
          255,
          258,
          258,
          258,
          266,
          272,
          274,
          276,
          278,
          280,
          282,
          283,
          286,
          291,
          293,
          297,
          300,
          301,
          302,
          305,
          306,
          307,
          309,
          310,
          313,
          314,
          315,
          317,
          317,
          319,
          321,
          321,
          322,
          323,
          324,
          324,
          324,
          325,
          325,
          325,
          325,
          301,
          301,
          247,
          216,
          179,
          161,
          140,
          130,
          119,
          103,
          96,
          90,
          81,
          80,
          74,
          68,
          69,
          76,
          79,
          84,
          91,
          94,
          109,
          117,
          125,
          173,
          181,
          191,
          197,
          202,
          211,
          216,
          225,
          233,
          237,
          243,
          246,
          252,
          258,
          260,
          264,
          266,
          271,
          275,
          278,
          281,
          284
         ],
         "yaxis": "y"
        },
        {
         "hovertemplate": "Gear: %{y}<br>Distance: %{x} meters",
         "line": {
          "color": "#dc0000"
         },
         "name": "LEC",
         "opacity": 0.8,
         "showlegend": false,
         "type": "scatter",
         "x": [
          8,
          30,
          60,
          76,
          92,
          109,
          125,
          145,
          172,
          196,
          223,
          254,
          285,
          295,
          304,
          315,
          330,
          338,
          348,
          360,
          373,
          382,
          386,
          394,
          405,
          412,
          426,
          440,
          454,
          462,
          469,
          478,
          491,
          510,
          522,
          534,
          545,
          556,
          569,
          595,
          620,
          634,
          660,
          673,
          683,
          699,
          721,
          735,
          746,
          760,
          777,
          795,
          809,
          827,
          842,
          856,
          881,
          893,
          911,
          936,
          948,
          964,
          989,
          1005,
          1018,
          1040,
          1053,
          1087,
          1104,
          1130,
          1142,
          1161,
          1187,
          1201,
          1214,
          1235,
          1247,
          1267,
          1284,
          1309,
          1326,
          1350,
          1360,
          1378,
          1394,
          1404,
          1417,
          1433,
          1445,
          1466,
          1486,
          1503,
          1521,
          1542,
          1549,
          1565,
          1576,
          1588,
          1600,
          1606,
          1612,
          1622,
          1637,
          1643,
          1653,
          1667,
          1684,
          1694,
          1713,
          1722,
          1743,
          1753,
          1770,
          1785,
          1801,
          1822,
          1844,
          1875,
          1895,
          1925,
          1943,
          1970,
          1982,
          1994,
          2009,
          2028,
          2053,
          2078,
          2091,
          2113,
          2132,
          2168,
          2194,
          2207,
          2236,
          2256,
          2275,
          2292,
          2316,
          2332,
          2349,
          2373,
          2400,
          2435,
          2452,
          2480,
          2504,
          2525,
          2543,
          2567,
          2602,
          2620,
          2638,
          2659,
          2680,
          2701,
          2726,
          2748,
          2762,
          2784,
          2813,
          2845,
          2867,
          2888,
          2910,
          2924,
          2964,
          2993,
          3004,
          3023,
          3038,
          3050,
          3056,
          3062,
          3067,
          3078,
          3085,
          3095,
          3100,
          3108,
          3112,
          3121,
          3132,
          3138,
          3143,
          3150,
          3162,
          3171,
          3183,
          3195,
          3204,
          3214,
          3227,
          3237,
          3245,
          3258,
          3267,
          3275,
          3286,
          3295,
          3307,
          3320,
          3335,
          3345,
          3355,
          3367,
          3379,
          3386,
          3393,
          3396,
          3402,
          3408,
          3412,
          3416,
          3424,
          3429,
          3437,
          3445,
          3455,
          3462,
          3473,
          3479,
          3487,
          3494,
          3498,
          3505,
          3510,
          3515,
          3523,
          3527,
          3533,
          3539,
          3548,
          3554,
          3565,
          3576,
          3594,
          3601,
          3615,
          3625,
          3638,
          3652,
          3670,
          3685,
          3700,
          3721,
          3742,
          3758,
          3781,
          3792,
          3806,
          3832,
          3847,
          3871,
          3889,
          3907,
          3919,
          3932,
          3950,
          3963,
          3981,
          4007,
          4019,
          4035,
          4058,
          4081,
          4097,
          4124,
          4137,
          4157,
          4174,
          4191,
          4215,
          4236,
          4270,
          4284,
          4305,
          4322,
          4353,
          4371,
          4392,
          4409,
          4434,
          4470,
          4487,
          4501,
          4516,
          4544,
          4569,
          4587,
          4615,
          4630,
          4658,
          4694,
          4711,
          4730,
          4744,
          4758,
          4777,
          4784,
          4792,
          4800,
          4809,
          4815,
          4819,
          4825,
          4828,
          4834,
          4839,
          4844,
          4848,
          4854,
          4859,
          4866,
          4874,
          4886,
          4894,
          4900,
          4909,
          4922,
          4931,
          4941,
          4949,
          4960,
          4973,
          4986,
          4995,
          5014,
          5023,
          5043,
          5075,
          5099,
          5110,
          5124,
          5135,
          5158,
          5175,
          5193,
          5208,
          5235,
          5253,
          5280,
          5293,
          5312
         ],
         "xaxis": "x2",
         "y": [
          7,
          7,
          7,
          8,
          8,
          8,
          8,
          8,
          8,
          8,
          8,
          8,
          8,
          8,
          8,
          6,
          6,
          5,
          3,
          3,
          3,
          3,
          3,
          3,
          3,
          3,
          3,
          3,
          4,
          4,
          4,
          4,
          4,
          4,
          5,
          5,
          5,
          5,
          5,
          5,
          5,
          5,
          6,
          6,
          6,
          6,
          6,
          6,
          6,
          6,
          6,
          7,
          7,
          7,
          7,
          7,
          7,
          7,
          7,
          7,
          7,
          7,
          7,
          7,
          7,
          7,
          7,
          7,
          6,
          6,
          6,
          6,
          6,
          6,
          6,
          6,
          6,
          6,
          6,
          6,
          6,
          6,
          6,
          6,
          6,
          6,
          6,
          6,
          6,
          6,
          6,
          6,
          5,
          4,
          4,
          4,
          4,
          4,
          4,
          4,
          4,
          4,
          4,
          4,
          4,
          4,
          4,
          4,
          5,
          5,
          5,
          5,
          5,
          6,
          6,
          6,
          6,
          6,
          7,
          7,
          7,
          7,
          7,
          7,
          7,
          7,
          7,
          7,
          7,
          7,
          7,
          7,
          8,
          8,
          8,
          8,
          8,
          8,
          8,
          8,
          8,
          8,
          8,
          8,
          8,
          8,
          8,
          8,
          8,
          8,
          8,
          8,
          8,
          8,
          8,
          8,
          8,
          8,
          8,
          8,
          8,
          8,
          8,
          8,
          8,
          8,
          8,
          8,
          8,
          7,
          7,
          6,
          5,
          3,
          3,
          3,
          3,
          3,
          3,
          3,
          3,
          3,
          3,
          3,
          3,
          3,
          3,
          3,
          3,
          3,
          3,
          3,
          3,
          3,
          3,
          3,
          3,
          3,
          3,
          3,
          4,
          4,
          4,
          4,
          3,
          3,
          2,
          2,
          2,
          2,
          2,
          2,
          2,
          2,
          2,
          2,
          2,
          2,
          2,
          2,
          2,
          2,
          2,
          2,
          2,
          2,
          2,
          2,
          2,
          2,
          2,
          2,
          2,
          2,
          2,
          3,
          3,
          4,
          4,
          4,
          5,
          5,
          5,
          5,
          6,
          6,
          6,
          6,
          6,
          6,
          6,
          7,
          7,
          7,
          7,
          7,
          7,
          7,
          7,
          7,
          7,
          7,
          7,
          7,
          7,
          8,
          8,
          8,
          8,
          8,
          8,
          8,
          8,
          8,
          8,
          8,
          8,
          8,
          8,
          8,
          8,
          8,
          8,
          8,
          8,
          8,
          8,
          8,
          8,
          8,
          8,
          8,
          8,
          8,
          8,
          8,
          7,
          7,
          7,
          5,
          3,
          3,
          2,
          2,
          2,
          2,
          2,
          2,
          2,
          2,
          2,
          2,
          2,
          2,
          2,
          2,
          3,
          3,
          3,
          4,
          4,
          4,
          4,
          4,
          5,
          5,
          5,
          5,
          5,
          6,
          6,
          6,
          6,
          6,
          6,
          7,
          7,
          7,
          7,
          7,
          7,
          7,
          7,
          7
         ],
         "yaxis": "y2"
        },
        {
         "hovertemplate": "Gear: %{y}<br>Distance: %{x} meters",
         "line": {
          "color": "#00d2be"
         },
         "name": "HAM",
         "opacity": 0.8,
         "showlegend": false,
         "type": "scatter",
         "x": [
          14,
          34,
          50,
          66,
          79,
          93,
          129,
          143,
          160,
          177,
          197,
          218,
          246,
          273,
          285,
          303,
          316,
          329,
          337,
          345,
          354,
          362,
          368,
          373,
          379,
          387,
          394,
          398,
          406,
          417,
          429,
          444,
          453,
          460,
          470,
          482,
          489,
          506,
          522,
          543,
          552,
          561,
          574,
          585,
          598,
          608,
          617,
          639,
          652,
          674,
          690,
          706,
          736,
          755,
          778,
          795,
          809,
          836,
          857,
          878,
          902,
          936,
          951,
          973,
          995,
          1014,
          1033,
          1058,
          1071,
          1088,
          1103,
          1125,
          1144,
          1155,
          1180,
          1194,
          1215,
          1228,
          1243,
          1252,
          1269,
          1283,
          1309,
          1332,
          1344,
          1354,
          1369,
          1382,
          1395,
          1421,
          1452,
          1462,
          1487,
          1497,
          1510,
          1518,
          1532,
          1541,
          1548,
          1561,
          1570,
          1581,
          1594,
          1607,
          1615,
          1624,
          1636,
          1654,
          1671,
          1678,
          1694,
          1704,
          1719,
          1728,
          1742,
          1759,
          1768,
          1781,
          1796,
          1817,
          1839,
          1858,
          1883,
          1895,
          1915,
          1944,
          1956,
          1974,
          1989,
          2005,
          2020,
          2042,
          2057,
          2082,
          2104,
          2120,
          2139,
          2165,
          2181,
          2194,
          2210,
          2233,
          2250,
          2263,
          2286,
          2303,
          2340,
          2374,
          2398,
          2419,
          2433,
          2453,
          2481,
          2520,
          2559,
          2573,
          2587,
          2612,
          2651,
          2676,
          2702,
          2720,
          2734,
          2756,
          2796,
          2825,
          2839,
          2876,
          2909,
          2927,
          2949,
          2967,
          2992,
          3008,
          3017,
          3030,
          3037,
          3046,
          3061,
          3067,
          3075,
          3081,
          3087,
          3092,
          3098,
          3102,
          3112,
          3122,
          3128,
          3138,
          3145,
          3154,
          3159,
          3166,
          3174,
          3180,
          3187,
          3194,
          3198,
          3205,
          3219,
          3225,
          3235,
          3242,
          3250,
          3255,
          3264,
          3275,
          3283,
          3296,
          3316,
          3323,
          3334,
          3347,
          3355,
          3363,
          3369,
          3376,
          3386,
          3392,
          3400,
          3407,
          3414,
          3418,
          3423,
          3428,
          3431,
          3436,
          3440,
          3444,
          3450,
          3456,
          3466,
          3476,
          3483,
          3491,
          3495,
          3503,
          3507,
          3511,
          3515,
          3520,
          3524,
          3528,
          3532,
          3540,
          3547,
          3552,
          3568,
          3578,
          3585,
          3592,
          3607,
          3626,
          3640,
          3649,
          3665,
          3679,
          3692,
          3702,
          3725,
          3747,
          3757,
          3768,
          3780,
          3799,
          3811,
          3825,
          3842,
          3860,
          3896,
          3909,
          3924,
          3952,
          3970,
          3992,
          4005,
          4030,
          4056,
          4076,
          4109,
          4139,
          4155,
          4169,
          4193,
          4206,
          4223,
          4251,
          4271,
          4306,
          4324,
          4338,
          4362,
          4387,
          4412,
          4451,
          4472,
          4494,
          4519,
          4537,
          4566,
          4591,
          4620,
          4649,
          4667,
          4685,
          4712,
          4725,
          4739,
          4751,
          4763,
          4772,
          4782,
          4788,
          4794,
          4802,
          4808,
          4812,
          4821,
          4824,
          4828,
          4835,
          4841,
          4851,
          4856,
          4860,
          4866,
          4870,
          4882,
          4889,
          4894,
          4946,
          4958,
          4973,
          4988,
          5000,
          5011,
          5026,
          5048,
          5072,
          5082,
          5101,
          5117,
          5145,
          5171,
          5188,
          5200,
          5227,
          5251,
          5272,
          5291,
          5316,
          5328
         ],
         "xaxis": "x2",
         "y": [
          8,
          8,
          8,
          8,
          8,
          8,
          8,
          8,
          8,
          8,
          8,
          8,
          8,
          8,
          8,
          8,
          8,
          8,
          7,
          5,
          3,
          3,
          3,
          3,
          3,
          3,
          3,
          3,
          3,
          3,
          3,
          3,
          4,
          4,
          4,
          4,
          4,
          4,
          4,
          4,
          5,
          5,
          5,
          5,
          5,
          5,
          5,
          5,
          6,
          6,
          6,
          6,
          6,
          6,
          7,
          7,
          7,
          7,
          7,
          7,
          7,
          7,
          7,
          7,
          7,
          7,
          7,
          7,
          7,
          7,
          7,
          7,
          7,
          7,
          7,
          7,
          7,
          6,
          6,
          5,
          5,
          5,
          5,
          6,
          6,
          6,
          6,
          6,
          6,
          6,
          6,
          6,
          6,
          6,
          6,
          6,
          5,
          5,
          4,
          3,
          3,
          3,
          3,
          3,
          3,
          3,
          3,
          3,
          3,
          3,
          4,
          4,
          4,
          5,
          5,
          5,
          5,
          5,
          6,
          6,
          6,
          6,
          7,
          7,
          7,
          7,
          7,
          7,
          7,
          7,
          7,
          7,
          7,
          8,
          8,
          8,
          8,
          8,
          8,
          8,
          8,
          8,
          8,
          8,
          8,
          8,
          8,
          8,
          8,
          8,
          8,
          8,
          8,
          8,
          8,
          8,
          8,
          8,
          8,
          8,
          8,
          8,
          8,
          8,
          8,
          8,
          8,
          8,
          8,
          8,
          8,
          8,
          8,
          8,
          8,
          8,
          8,
          8,
          5,
          3,
          3,
          3,
          3,
          3,
          3,
          3,
          3,
          3,
          3,
          3,
          3,
          3,
          3,
          3,
          3,
          3,
          3,
          3,
          3,
          3,
          3,
          3,
          3,
          3,
          3,
          3,
          3,
          3,
          3,
          3,
          4,
          4,
          4,
          4,
          4,
          3,
          3,
          2,
          2,
          2,
          2,
          2,
          2,
          2,
          2,
          2,
          2,
          2,
          2,
          2,
          2,
          2,
          2,
          2,
          2,
          2,
          2,
          2,
          2,
          2,
          2,
          2,
          2,
          2,
          2,
          2,
          2,
          2,
          2,
          3,
          3,
          3,
          4,
          4,
          4,
          5,
          5,
          5,
          5,
          5,
          6,
          6,
          6,
          6,
          6,
          7,
          7,
          7,
          7,
          7,
          7,
          7,
          7,
          7,
          7,
          7,
          8,
          8,
          8,
          8,
          8,
          8,
          8,
          8,
          8,
          8,
          8,
          8,
          8,
          8,
          8,
          8,
          8,
          8,
          8,
          8,
          8,
          8,
          8,
          8,
          8,
          8,
          8,
          8,
          8,
          8,
          8,
          8,
          8,
          8,
          7,
          7,
          7,
          7,
          7,
          7,
          4,
          3,
          2,
          2,
          2,
          2,
          2,
          2,
          2,
          2,
          2,
          2,
          2,
          2,
          2,
          3,
          4,
          4,
          5,
          5,
          5,
          5,
          6,
          6,
          6,
          6,
          6,
          6,
          7,
          7,
          7,
          7,
          7,
          7,
          7,
          7,
          7
         ],
         "yaxis": "y2"
        },
        {
         "hovertemplate": "Delta Time: %{y:.3f} sec",
         "line": {
          "color": "white"
         },
         "mode": "lines",
         "name": "Delta Time",
         "opacity": 0.8,
         "type": "scatter",
         "x": [
          0,
          7.9958333333333345,
          30.318055555555556,
          59.518055555555556,
          75.79583333333333,
          92.24027777777778,
          108.79583333333335,
          125.4625,
          145.4625,
          172.39583333333331,
          196.19583333333333,
          223.39583333333331,
          253.99583333333334,
          284.6736111111111,
          294.54027777777776,
          303.7269444444444,
          315.2602777777778,
          330.06027777777774,
          337.6158333333333,
          348.4602777777777,
          360.3788888888888,
          372.8455555555555,
          381.5566666666666,
          385.77888888888884,
          394.2233333333333,
          404.5233333333333,
          411.9233333333333,
          426.1455555555555,
          440.44555555555553,
          453.7788888888889,
          462.1122222222222,
          469.1788888888889,
          478.0122222222222,
          491.2344444444445,
          509.53444444444443,
          522.4677777777778,
          533.5233333333333,
          544.578888888889,
          555.8566666666667,
          569.3336111111112,
          595.2447222222222,
          619.6891666666667,
          634.4838888888888,
          659.9283333333333,
          672.8172222222221,
          683.3949999999999,
          699.4616666666666,
          721.2394444444444,
          735.0727777777777,
          746.1394444444444,
          760.2505555555556,
          777.3172222222223,
          794.6505555555557,
          809.2061111111112,
          826.8061111111112,
          841.5283333333334,
          856.472777777778,
          880.6505555555558,
          892.783888888889,
          911.1172222222224,
          935.9172222222224,
          948.3616666666669,
          963.972777777778,
          989.2172222222224,
          1005.1061111111112,
          1017.8172222222223,
          1040.1372222222224,
          1052.8483333333336,
          1086.7038888888892,
          1104.4372222222223,
          1130.308888888889,
          1141.6422222222222,
          1161.2422222222224,
          1186.5422222222223,
          1200.5977777777778,
          1214.1533333333332,
          1234.6866666666665,
          1247.0755555555556,
          1266.6311111111113,
          1283.6644444444444,
          1308.5533333333333,
          1326.2088888888886,
          1349.5088888888886,
          1360.0866666666664,
          1378.3644444444442,
          1394.0977777777778,
          1404.408888888889,
          1417.2977777777778,
          1432.631111111111,
          1445.3533333333332,
          1465.9755555555555,
          1486.0644444444445,
          1502.8819444444443,
          1521.1041666666665,
          1541.9291666666666,
          1549.1291666666666,
          1564.5291666666667,
          1575.8069444444443,
          1588.1625,
          1600.073611111111,
          1605.8958333333333,
          1611.6291666666666,
          1621.5069444444443,
          1636.7291666666665,
          1642.9958333333332,
          1652.9291666666666,
          1666.973611111111,
          1684.073611111111,
          1694.0180555555553,
          1713.3180555555552,
          1722.2069444444442,
          1743.306944444444,
          1752.9513888888885,
          1770.295833333333,
          1785.4958333333327,
          1801.0291666666662,
          1822.2072222222218,
          1844.2516666666663,
          1875.3666666666663,
          1895.4333333333332,
          1924.7666666666667,
          1942.5666666666664,
          1969.6666666666663,
          1981.8444444444444,
          1994.0666666666664,
          2009.3444444444444,
          2027.9444444444446,
          2053.0111111111114,
          2078.166666666667,
          2090.7444444444445,
          2113.066666666667,
          2132.2666666666673,
          2167.7111111111117,
          2193.5777777777785,
          2206.555555555556,
          2235.8555555555567,
          2255.58888888889,
          2275.4555555555567,
          2292.1222222222236,
          2315.611111111112,
          2332.360277777779,
          2349.193611111112,
          2372.9158333333344,
          2400.468333333334,
          2434.912777777779,
          2452.1350000000007,
          2479.7794444444453,
          2504.1238888888897,
          2525.057222222223,
          2542.5572222222227,
          2567.1350000000007,
          2602.2461111111115,
          2619.857222222223,
          2637.52388888889,
          2658.7905555555562,
          2680.057222222223,
          2701.3905555555566,
          2726.3572222222233,
          2747.8238888888895,
          2762.1794444444454,
          2783.7127777777787,
          2812.512777777779,
          2844.912777777779,
          2866.5127777777784,
          2888.112777777779,
          2909.7794444444457,
          2924.1336111111123,
          2963.8236111111123,
          2992.7236111111124,
          3003.9680555555565,
          3022.634722222223,
          3038.2791666666676,
          3049.7902777777786,
          3056.1013888888897,
          3061.8791666666675,
          3067.2125000000005,
          3078.2125000000005,
          3084.745833333334,
          3094.745833333334,
          3099.5791666666673,
          3108.3791666666675,
          3112.3791666666675,
          3120.912500000001,
          3131.6125000000006,
          3138.0013888888893,
          3143.334722222223,
          3150.334722222223,
          3161.6236111111116,
          3171.3458333333338,
          3183.245833333334,
          3194.8136111111116,
          3203.524722222223,
          3214.154166666667,
          3226.620833333334,
          3236.8208333333337,
          3244.9875,
          3257.654166666667,
          3267.2986111111113,
          3274.6875000000005,
          3286.120833333334,
          3294.509722222223,
          3306.7986111111118,
          3319.6319444444453,
          3334.7430555555566,
          3345.07638888889,
          3354.67638888889,
          3366.57638888889,
          3379.2875000000013,
          3385.954166666668,
          3392.6430555555567,
          3396.287500000001,
          3402.198611111112,
          3407.7986111111118,
          3412.445833333334,
          3415.5125000000007,
          3423.9650000000006,
          3428.631666666667,
          3436.520555555556,
          3445.4094444444445,
          3455.4094444444445,
          3462.076111111111,
          3473.176111111111,
          3479.1205555555553,
          3486.587222222222,
          3494.498333333333,
          3498.365,
          3504.665,
          3509.865,
          3514.798333333333,
          3523.1316666666667,
          3527.298333333333,
          3533.365,
          3539.165,
          3547.965,
          3553.965,
          3564.987222222222,
          3575.876111111111,
          3593.653888888889,
          3601.1650000000004,
          3614.9316666666664,
          3625.209444444444,
          3638.2761111111113,
          3651.7427777777775,
          3670.4983333333325,
          3685.165,
          3700.098333333333,
          3720.5427777777777,
          3741.9649999999997,
          3758.2983333333327,
          3780.5205555555553,
          3791.809444444444,
          3806.087222222222,
          3832.2872222222218,
          3847.0094444444444,
          3870.831666666666,
          3888.8983333333335,
          3907.0983333333334,
          3919.3205555555555,
          3931.587222222223,
          3950.1872222222223,
          3962.587222222222,
          3981.3872222222217,
          4006.7205555555556,
          4019.4316666666664,
          4035.4316666666664,
          4058.1427777777776,
          4081.0094444444444,
          4097.453888888889,
          4124.031666666667,
          4137.320555555555,
          4157.453888888889,
          4174.287222222223,
          4191.231666666667,
          4215.031666666667,
          4235.5650000000005,
          4270.009444444444,
          4283.787222222221,
          4304.520555555556,
          4321.9094444444445,
          4353.309444444444,
          4370.809444444443,
          4391.876111111111,
          4409.487222222222,
          4434.220555555556,
          4469.553888888888,
          4487.27611111111,
          4501.453888888888,
          4515.631666666666,
          4544.0761111111115,
          4569.042777777779,
          4586.820555555557,
          4615.35388888889,
          4629.665000000001,
          4658.198333333335,
          4693.642777777778,
          4711.253888888889,
          4730.25388888889,
          4744.031666666668,
          4758.498333333335,
          4777.05388888889,
          4783.631666666668,
          4791.831666666668,
          4800.465000000001,
          4809.35388888889,
          4814.520555555557,
          4819.298333333335,
          4824.765000000001,
          4828.320555555557,
          4834.076111111112,
          4838.809444444446,
          4844.176111111113,
          4848.009444444446,
          4853.687222222224,
          4859.020555555557,
          4865.5538888888905,
          4874.353888888891,
          4885.685277777779,
          4894.050277777779,
          4899.650277777779,
          4909.450277777779,
          4921.972500000001,
          4931.416944444445,
          4941.083611111112,
          4949.128055555557,
          4959.572500000001,
          4972.5058333333345,
          4985.905833333335,
          4994.972500000002,
          5013.550277777779,
          5022.8391666666685,
          5042.8391666666685,
          5074.572500000002,
          5099.172500000002,
          5110.239166666669,
          5124.183611111113,
          5135.3391666666685,
          5158.005833333335,
          5175.3391666666685,
          5192.872500000001,
          5207.594722222224,
          5234.594722222224,
          5252.728055555557,
          5280.428055555558,
          5292.905555555557,
          5311.627222222224,
          5330.32388888889
         ],
         "xaxis": "x3",
         "y": [
          0,
          -0.0007038327526132232,
          -0.0027965517241378968,
          -0.003343537414965958,
          -0.005215488215488229,
          -0.0058888888888888324,
          -0.008473509933774714,
          -0.009798013245033044,
          -0.012115131578947391,
          -0.014622149837133946,
          -0.017000000000000348,
          -0.021480769230769692,
          -0.02717532467532502,
          -0.09247636363636369,
          -0.097362831858407,
          -0.10826395939086275,
          -0.1375025380710655,
          -0.17719205298013208,
          -0.19667142857142927,
          -0.2320305343511464,
          -0.28759663865546425,
          -0.3287000000000031,
          -0.34861386138614137,
          -0.3581188118811909,
          -0.3603645833333351,
          -0.3454455445544564,
          -0.3364587155963319,
          -0.2821913043478279,
          -0.25354744525547623,
          -0.23249655172413775,
          -0.2274799999999999,
          -0.21788000000000096,
          -0.21220645161290363,
          -0.19201176470588166,
          -0.169254143646409,
          -0.15259162303664908,
          -0.1442146596858649,
          -0.13666497461928984,
          -0.1302040816326535,
          -0.12166836734694009,
          -0.09729268292683102,
          -0.08043181818181999,
          -0.07933636363636687,
          -0.06993392070484816,
          -0.06552863436123602,
          -0.06151502145922905,
          -0.056420168067228715,
          -0.05468292682926901,
          -0.05224390243902555,
          -0.053334661354581314,
          -0.05207450980392103,
          -0.05113333333333081,
          -0.04735156249999761,
          -0.04421705426356404,
          -0.045064150943394665,
          -0.04592537313432743,
          -0.045179104477609755,
          -0.04219047619047522,
          -0.04219047619047522,
          -0.042618705035970095,
          -0.041467625899278104,
          -0.04031654676258789,
          -0.0387491039426493,
          -0.03598233215547353,
          -0.034768421052628895,
          -0.03437762237761888,
          -0.03147703180211536,
          -0.029780918727908556,
          -0.02450757575757123,
          -0.01700793650793031,
          -0.007209677419350413,
          -0.002693548387096456,
          0.0024677419354830477,
          0.009353413654618947,
          0.016983193277312125,
          0.022025210084031244,
          0.028113122171941285,
          0.03126728110598975,
          0.04364761904761849,
          0.05382191780821799,
          0.06295433789954075,
          0.07069230769230472,
          0.08477631578947253,
          0.09097826086956218,
          0.09586637931034048,
          0.1000043103448256,
          0.1000043103448256,
          0.10000431034482915,
          0.09950869565217602,
          0.09863913043478334,
          0.10198684210526565,
          0.09917982456140706,
          0.10794871794871597,
          0.13580346820808842,
          0.1394840764331171,
          0.14645578231291978,
          0.16664788732393987,
          0.17854411764705347,
          0.19280152671755246,
          0.20795999999999282,
          0.21563999999999695,
          0.2230975609756065,
          0.22169230769230097,
          0.22493877551019636,
          0.21840816326529833,
          0.22167346938774557,
          0.2189999999999941,
          0.23231818181817943,
          0.23572727272726723,
          0.2443917525773145,
          0.2477699999999956,
          0.25873953488371626,
          0.2602279069767377,
          0.2681441441441379,
          0.27193043478260037,
          0.27307627118643296,
          0.2751694214875968,
          0.28104435483870205,
          0.28569685039369475,
          0.2891884615384548,
          0.29222180451127144,
          0.29312406015036885,
          0.29599629629628765,
          0.2976213235294054,
          0.29893065693429577,
          0.2994327272727233,
          0.3017913669064711,
          0.30533571428571094,
          0.3068439716311957,
          0.3066408450704188,
          0.3088181818181823,
          0.3099651567944264,
          0.31076288659794216,
          0.31076288659794216,
          0.31131271477663347,
          0.3103277027027005,
          0.3100808080808122,
          0.30985953177258097,
          0.31003986710963716,
          0.30945065789474313,
          0.3087960526315783,
          0.3070618892508179,
          0.3052377850162884,
          0.30522903225806886,
          0.30453525641025436,
          0.3032532051282004,
          0.30028343949044256,
          0.2977310126582253,
          0.2958396226415019,
          0.29395283018867246,
          0.2918934169278913,
          0.28759999999999053,
          0.2854517133956307,
          0.28358255451712466,
          0.28156656346748576,
          0.27846913580246024,
          0.2755061728394992,
          0.27206769230768657,
          0.26985230769229673,
          0.2684342507645141,
          0.26549847094799617,
          0.2619969512195013,
          0.2569361702127537,
          0.25328875379938154,
          0.24923939393939065,
          0.2456291793313028,
          0.2436960486322164,
          0.24177358490565837,
          0.2871826923076952,
          0.3217980769230806,
          0.35375144508670786,
          0.39076296296295965,
          0.4303166666666627,
          0.45964999999999634,
          0.47487719298245423,
          0.4836448598130687,
          0.4964999999999904,
          0.4916494845360688,
          0.481191011235957,
          0.4785057471264409,
          0.469347826086981,
          0.4658695652174103,
          0.4797826086956718,
          0.47568067226891486,
          0.46895798319327753,
          0.4573307692307722,
          0.45654400000000095,
          0.4656916666666646,
          0.4843304347826063,
          0.5013125000000045,
          0.5187981651376177,
          0.5346057692307724,
          0.544504854368931,
          0.5428380952380891,
          0.5310092592592497,
          0.5209009009008909,
          0.5179262295081912,
          0.5143777777777672,
          0.5114148148148132,
          0.518202614379085,
          0.5155882352941248,
          0.5154276729559797,
          0.5249006211180145,
          0.5474144736842206,
          0.5521513157894944,
          0.5579347826087044,
          0.5526090909091081,
          0.5703000000000387,
          0.5969666666666953,
          0.6016363636364019,
          0.6120259740259968,
          0.614736111111128,
          0.6152428571428672,
          0.6152428571428743,
          0.6066266666666777,
          0.5845492957746501,
          0.5808333333333238,
          0.5594499999999982,
          0.5413999999999888,
          0.5295894736842044,
          0.5132935779816492,
          0.5364999999999966,
          0.5621235955056036,
          0.6005874999999818,
          0.6406538461538318,
          0.6752428571428482,
          0.7228805970149281,
          0.7575217391304321,
          0.7699295774647936,
          0.771426666666656,
          0.7585061728394962,
          0.7297872340425471,
          0.7119148936170205,
          0.7017454545454598,
          0.687924242424252,
          0.6685303030303018,
          0.6642244897959344,
          0.670574712643699,
          0.6659770114942631,
          0.6578526315789617,
          0.6525894736842162,
          0.6533367346938803,
          0.6505943396226428,
          0.6477999999999895,
          0.6512136363636358,
          0.6513348017621183,
          0.6466623931623872,
          0.6487344398340156,
          0.6503669354838593,
          0.6512823529411662,
          0.6506549019607775,
          0.6511279069767397,
          0.6567093023255808,
          0.660206766917284,
          0.6594007352941134,
          0.6585183823529377,
          0.6583613138686104,
          0.6579166666666652,
          0.6571906474820111,
          0.6580539568345216,
          0.6576178571428528,
          0.6583226950354515,
          0.6608216783216676,
          0.6608216783216676,
          0.6610996563573792,
          0.6618907849829299,
          0.661959595959587,
          0.6612861952861806,
          0.6615766666666616,
          0.6610433333333248,
          0.661811258278135,
          0.6618295081967176,
          0.6618295081967176,
          0.6615439739413773,
          0.6613915857605264,
          0.66196129032258,
          0.6605814696485623,
          0.6590479233226887,
          0.6584713375796127,
          0.6562586750788597,
          0.6549968454258561,
          0.6538871473354106,
          0.6526332288401164,
          0.6501744548286439,
          0.646436137071646,
          0.6446677018633409,
          0.6429102167182634,
          0.6409287925696532,
          0.6370895061728419,
          0.6344969135802643,
          0.6320277777777932,
          0.6282276923077035,
          0.6267507692307817,
          0.6228123076923282,
          0.6232757475083162,
          0.6339069767441998,
          0.6351740890688546,
          0.6473194444444772,
          0.6753910614525438,
          0.6995214285714724,
          0.7110230769231265,
          0.7073529411765378,
          0.7212330097088255,
          0.7354777777778736,
          0.7537160493828168,
          0.7660617283951865,
          0.7722297297298439,
          0.7876029411765728,
          0.8123088235294915,
          0.8196231884058989,
          0.8028026315790555,
          0.7843815789474462,
          0.7681518987342741,
          0.763202380952464,
          0.744263736263818,
          0.7390275229358707,
          0.7443247863248814,
          0.7521040000000738,
          0.7099942196532112,
          0.6739248554913786,
          0.6545028901734469,
          0.6510346820809616,
          0.6521907514451328,
          0.6568232044199362,
          0.6631675392670644,
          0.6669371727749223,
          0.6721472081218849,
          0.6748663366337126,
          0.6745138888889386,
          0.6693287037037408,
          0.6712755555555958,
          0.6837679324894879,
          0.6910329218107591,
          0.6933130081301329,
          0.6950119047619552,
          0.6943769841270324,
          0.6939961240310595,
          0.6954038461538943,
          0.6972462121212573,
          0.6972443609023031,
          0.7007084870849098,
          0.7012363636364114,
          0.7027014388489619,
          0.7029893238434681,
          0.7038398576513032,
          0.7044014084507495
         ],
         "yaxis": "y3"
        }
       ],
       "layout": {
        "annotations": [
         {
          "font": {
           "size": 16
          },
          "showarrow": false,
          "text": "Speed",
          "x": 0.5,
          "xanchor": "center",
          "xref": "paper",
          "y": 1,
          "yanchor": "bottom",
          "yref": "paper"
         },
         {
          "font": {
           "size": 16
          },
          "showarrow": false,
          "text": "Gear",
          "x": 0.5,
          "xanchor": "center",
          "xref": "paper",
          "y": 0.6333333333333333,
          "yanchor": "bottom",
          "yref": "paper"
         },
         {
          "font": {
           "size": 16
          },
          "showarrow": false,
          "text": "Delta Time",
          "x": 0.5,
          "xanchor": "center",
          "xref": "paper",
          "y": 0.26666666666666666,
          "yanchor": "bottom",
          "yref": "paper"
         }
        ],
        "height": 1200,
        "template": {
         "data": {
          "bar": [
           {
            "error_x": {
             "color": "#f2f5fa"
            },
            "error_y": {
             "color": "#f2f5fa"
            },
            "marker": {
             "line": {
              "color": "rgb(17,17,17)",
              "width": 0.5
             },
             "pattern": {
              "fillmode": "overlay",
              "size": 10,
              "solidity": 0.2
             }
            },
            "type": "bar"
           }
          ],
          "barpolar": [
           {
            "marker": {
             "line": {
              "color": "rgb(17,17,17)",
              "width": 0.5
             },
             "pattern": {
              "fillmode": "overlay",
              "size": 10,
              "solidity": 0.2
             }
            },
            "type": "barpolar"
           }
          ],
          "carpet": [
           {
            "aaxis": {
             "endlinecolor": "#A2B1C6",
             "gridcolor": "#506784",
             "linecolor": "#506784",
             "minorgridcolor": "#506784",
             "startlinecolor": "#A2B1C6"
            },
            "baxis": {
             "endlinecolor": "#A2B1C6",
             "gridcolor": "#506784",
             "linecolor": "#506784",
             "minorgridcolor": "#506784",
             "startlinecolor": "#A2B1C6"
            },
            "type": "carpet"
           }
          ],
          "choropleth": [
           {
            "colorbar": {
             "outlinewidth": 0,
             "ticks": ""
            },
            "type": "choropleth"
           }
          ],
          "contour": [
           {
            "colorbar": {
             "outlinewidth": 0,
             "ticks": ""
            },
            "colorscale": [
             [
              0,
              "#0d0887"
             ],
             [
              0.1111111111111111,
              "#46039f"
             ],
             [
              0.2222222222222222,
              "#7201a8"
             ],
             [
              0.3333333333333333,
              "#9c179e"
             ],
             [
              0.4444444444444444,
              "#bd3786"
             ],
             [
              0.5555555555555556,
              "#d8576b"
             ],
             [
              0.6666666666666666,
              "#ed7953"
             ],
             [
              0.7777777777777778,
              "#fb9f3a"
             ],
             [
              0.8888888888888888,
              "#fdca26"
             ],
             [
              1,
              "#f0f921"
             ]
            ],
            "type": "contour"
           }
          ],
          "contourcarpet": [
           {
            "colorbar": {
             "outlinewidth": 0,
             "ticks": ""
            },
            "type": "contourcarpet"
           }
          ],
          "heatmap": [
           {
            "colorbar": {
             "outlinewidth": 0,
             "ticks": ""
            },
            "colorscale": [
             [
              0,
              "#0d0887"
             ],
             [
              0.1111111111111111,
              "#46039f"
             ],
             [
              0.2222222222222222,
              "#7201a8"
             ],
             [
              0.3333333333333333,
              "#9c179e"
             ],
             [
              0.4444444444444444,
              "#bd3786"
             ],
             [
              0.5555555555555556,
              "#d8576b"
             ],
             [
              0.6666666666666666,
              "#ed7953"
             ],
             [
              0.7777777777777778,
              "#fb9f3a"
             ],
             [
              0.8888888888888888,
              "#fdca26"
             ],
             [
              1,
              "#f0f921"
             ]
            ],
            "type": "heatmap"
           }
          ],
          "heatmapgl": [
           {
            "colorbar": {
             "outlinewidth": 0,
             "ticks": ""
            },
            "colorscale": [
             [
              0,
              "#0d0887"
             ],
             [
              0.1111111111111111,
              "#46039f"
             ],
             [
              0.2222222222222222,
              "#7201a8"
             ],
             [
              0.3333333333333333,
              "#9c179e"
             ],
             [
              0.4444444444444444,
              "#bd3786"
             ],
             [
              0.5555555555555556,
              "#d8576b"
             ],
             [
              0.6666666666666666,
              "#ed7953"
             ],
             [
              0.7777777777777778,
              "#fb9f3a"
             ],
             [
              0.8888888888888888,
              "#fdca26"
             ],
             [
              1,
              "#f0f921"
             ]
            ],
            "type": "heatmapgl"
           }
          ],
          "histogram": [
           {
            "marker": {
             "pattern": {
              "fillmode": "overlay",
              "size": 10,
              "solidity": 0.2
             }
            },
            "type": "histogram"
           }
          ],
          "histogram2d": [
           {
            "colorbar": {
             "outlinewidth": 0,
             "ticks": ""
            },
            "colorscale": [
             [
              0,
              "#0d0887"
             ],
             [
              0.1111111111111111,
              "#46039f"
             ],
             [
              0.2222222222222222,
              "#7201a8"
             ],
             [
              0.3333333333333333,
              "#9c179e"
             ],
             [
              0.4444444444444444,
              "#bd3786"
             ],
             [
              0.5555555555555556,
              "#d8576b"
             ],
             [
              0.6666666666666666,
              "#ed7953"
             ],
             [
              0.7777777777777778,
              "#fb9f3a"
             ],
             [
              0.8888888888888888,
              "#fdca26"
             ],
             [
              1,
              "#f0f921"
             ]
            ],
            "type": "histogram2d"
           }
          ],
          "histogram2dcontour": [
           {
            "colorbar": {
             "outlinewidth": 0,
             "ticks": ""
            },
            "colorscale": [
             [
              0,
              "#0d0887"
             ],
             [
              0.1111111111111111,
              "#46039f"
             ],
             [
              0.2222222222222222,
              "#7201a8"
             ],
             [
              0.3333333333333333,
              "#9c179e"
             ],
             [
              0.4444444444444444,
              "#bd3786"
             ],
             [
              0.5555555555555556,
              "#d8576b"
             ],
             [
              0.6666666666666666,
              "#ed7953"
             ],
             [
              0.7777777777777778,
              "#fb9f3a"
             ],
             [
              0.8888888888888888,
              "#fdca26"
             ],
             [
              1,
              "#f0f921"
             ]
            ],
            "type": "histogram2dcontour"
           }
          ],
          "mesh3d": [
           {
            "colorbar": {
             "outlinewidth": 0,
             "ticks": ""
            },
            "type": "mesh3d"
           }
          ],
          "parcoords": [
           {
            "line": {
             "colorbar": {
              "outlinewidth": 0,
              "ticks": ""
             }
            },
            "type": "parcoords"
           }
          ],
          "pie": [
           {
            "automargin": true,
            "type": "pie"
           }
          ],
          "scatter": [
           {
            "marker": {
             "line": {
              "color": "#283442"
             }
            },
            "type": "scatter"
           }
          ],
          "scatter3d": [
           {
            "line": {
             "colorbar": {
              "outlinewidth": 0,
              "ticks": ""
             }
            },
            "marker": {
             "colorbar": {
              "outlinewidth": 0,
              "ticks": ""
             }
            },
            "type": "scatter3d"
           }
          ],
          "scattercarpet": [
           {
            "marker": {
             "colorbar": {
              "outlinewidth": 0,
              "ticks": ""
             }
            },
            "type": "scattercarpet"
           }
          ],
          "scattergeo": [
           {
            "marker": {
             "colorbar": {
              "outlinewidth": 0,
              "ticks": ""
             }
            },
            "type": "scattergeo"
           }
          ],
          "scattergl": [
           {
            "marker": {
             "line": {
              "color": "#283442"
             }
            },
            "type": "scattergl"
           }
          ],
          "scattermapbox": [
           {
            "marker": {
             "colorbar": {
              "outlinewidth": 0,
              "ticks": ""
             }
            },
            "type": "scattermapbox"
           }
          ],
          "scatterpolar": [
           {
            "marker": {
             "colorbar": {
              "outlinewidth": 0,
              "ticks": ""
             }
            },
            "type": "scatterpolar"
           }
          ],
          "scatterpolargl": [
           {
            "marker": {
             "colorbar": {
              "outlinewidth": 0,
              "ticks": ""
             }
            },
            "type": "scatterpolargl"
           }
          ],
          "scatterternary": [
           {
            "marker": {
             "colorbar": {
              "outlinewidth": 0,
              "ticks": ""
             }
            },
            "type": "scatterternary"
           }
          ],
          "surface": [
           {
            "colorbar": {
             "outlinewidth": 0,
             "ticks": ""
            },
            "colorscale": [
             [
              0,
              "#0d0887"
             ],
             [
              0.1111111111111111,
              "#46039f"
             ],
             [
              0.2222222222222222,
              "#7201a8"
             ],
             [
              0.3333333333333333,
              "#9c179e"
             ],
             [
              0.4444444444444444,
              "#bd3786"
             ],
             [
              0.5555555555555556,
              "#d8576b"
             ],
             [
              0.6666666666666666,
              "#ed7953"
             ],
             [
              0.7777777777777778,
              "#fb9f3a"
             ],
             [
              0.8888888888888888,
              "#fdca26"
             ],
             [
              1,
              "#f0f921"
             ]
            ],
            "type": "surface"
           }
          ],
          "table": [
           {
            "cells": {
             "fill": {
              "color": "#506784"
             },
             "line": {
              "color": "rgb(17,17,17)"
             }
            },
            "header": {
             "fill": {
              "color": "#2a3f5f"
             },
             "line": {
              "color": "rgb(17,17,17)"
             }
            },
            "type": "table"
           }
          ]
         },
         "layout": {
          "annotationdefaults": {
           "arrowcolor": "#f2f5fa",
           "arrowhead": 0,
           "arrowwidth": 1
          },
          "autotypenumbers": "strict",
          "coloraxis": {
           "colorbar": {
            "outlinewidth": 0,
            "ticks": ""
           }
          },
          "colorscale": {
           "diverging": [
            [
             0,
             "#8e0152"
            ],
            [
             0.1,
             "#c51b7d"
            ],
            [
             0.2,
             "#de77ae"
            ],
            [
             0.3,
             "#f1b6da"
            ],
            [
             0.4,
             "#fde0ef"
            ],
            [
             0.5,
             "#f7f7f7"
            ],
            [
             0.6,
             "#e6f5d0"
            ],
            [
             0.7,
             "#b8e186"
            ],
            [
             0.8,
             "#7fbc41"
            ],
            [
             0.9,
             "#4d9221"
            ],
            [
             1,
             "#276419"
            ]
           ],
           "sequential": [
            [
             0,
             "#0d0887"
            ],
            [
             0.1111111111111111,
             "#46039f"
            ],
            [
             0.2222222222222222,
             "#7201a8"
            ],
            [
             0.3333333333333333,
             "#9c179e"
            ],
            [
             0.4444444444444444,
             "#bd3786"
            ],
            [
             0.5555555555555556,
             "#d8576b"
            ],
            [
             0.6666666666666666,
             "#ed7953"
            ],
            [
             0.7777777777777778,
             "#fb9f3a"
            ],
            [
             0.8888888888888888,
             "#fdca26"
            ],
            [
             1,
             "#f0f921"
            ]
           ],
           "sequentialminus": [
            [
             0,
             "#0d0887"
            ],
            [
             0.1111111111111111,
             "#46039f"
            ],
            [
             0.2222222222222222,
             "#7201a8"
            ],
            [
             0.3333333333333333,
             "#9c179e"
            ],
            [
             0.4444444444444444,
             "#bd3786"
            ],
            [
             0.5555555555555556,
             "#d8576b"
            ],
            [
             0.6666666666666666,
             "#ed7953"
            ],
            [
             0.7777777777777778,
             "#fb9f3a"
            ],
            [
             0.8888888888888888,
             "#fdca26"
            ],
            [
             1,
             "#f0f921"
            ]
           ]
          },
          "colorway": [
           "#636efa",
           "#EF553B",
           "#00cc96",
           "#ab63fa",
           "#FFA15A",
           "#19d3f3",
           "#FF6692",
           "#B6E880",
           "#FF97FF",
           "#FECB52"
          ],
          "font": {
           "color": "#f2f5fa"
          },
          "geo": {
           "bgcolor": "rgb(17,17,17)",
           "lakecolor": "rgb(17,17,17)",
           "landcolor": "rgb(17,17,17)",
           "showlakes": true,
           "showland": true,
           "subunitcolor": "#506784"
          },
          "hoverlabel": {
           "align": "left"
          },
          "hovermode": "closest",
          "mapbox": {
           "style": "dark"
          },
          "paper_bgcolor": "rgb(17,17,17)",
          "plot_bgcolor": "rgb(17,17,17)",
          "polar": {
           "angularaxis": {
            "gridcolor": "#506784",
            "linecolor": "#506784",
            "ticks": ""
           },
           "bgcolor": "rgb(17,17,17)",
           "radialaxis": {
            "gridcolor": "#506784",
            "linecolor": "#506784",
            "ticks": ""
           }
          },
          "scene": {
           "xaxis": {
            "backgroundcolor": "rgb(17,17,17)",
            "gridcolor": "#506784",
            "gridwidth": 2,
            "linecolor": "#506784",
            "showbackground": true,
            "ticks": "",
            "zerolinecolor": "#C8D4E3"
           },
           "yaxis": {
            "backgroundcolor": "rgb(17,17,17)",
            "gridcolor": "#506784",
            "gridwidth": 2,
            "linecolor": "#506784",
            "showbackground": true,
            "ticks": "",
            "zerolinecolor": "#C8D4E3"
           },
           "zaxis": {
            "backgroundcolor": "rgb(17,17,17)",
            "gridcolor": "#506784",
            "gridwidth": 2,
            "linecolor": "#506784",
            "showbackground": true,
            "ticks": "",
            "zerolinecolor": "#C8D4E3"
           }
          },
          "shapedefaults": {
           "line": {
            "color": "#f2f5fa"
           }
          },
          "sliderdefaults": {
           "bgcolor": "#C8D4E3",
           "bordercolor": "rgb(17,17,17)",
           "borderwidth": 1,
           "tickwidth": 0
          },
          "ternary": {
           "aaxis": {
            "gridcolor": "#506784",
            "linecolor": "#506784",
            "ticks": ""
           },
           "baxis": {
            "gridcolor": "#506784",
            "linecolor": "#506784",
            "ticks": ""
           },
           "bgcolor": "rgb(17,17,17)",
           "caxis": {
            "gridcolor": "#506784",
            "linecolor": "#506784",
            "ticks": ""
           }
          },
          "title": {
           "x": 0.05
          },
          "updatemenudefaults": {
           "bgcolor": "#506784",
           "borderwidth": 0
          },
          "xaxis": {
           "automargin": true,
           "gridcolor": "#283442",
           "linecolor": "#506784",
           "ticks": "",
           "title": {
            "standoff": 15
           },
           "zerolinecolor": "#283442",
           "zerolinewidth": 2
          },
          "yaxis": {
           "automargin": true,
           "gridcolor": "#283442",
           "linecolor": "#506784",
           "ticks": "",
           "title": {
            "standoff": 15
           },
           "zerolinecolor": "#283442",
           "zerolinewidth": 2
          }
         }
        },
        "title": {
         "text": "2022 Miami Grand Prix - Practice 1 - LEC vs HAM",
         "x": 0.1
        },
        "width": 1200,
        "xaxis": {
         "anchor": "y",
         "domain": [
          0,
          1
         ],
         "matches": "x3",
         "showticklabels": false
        },
        "xaxis2": {
         "anchor": "y2",
         "domain": [
          0,
          1
         ],
         "matches": "x3",
         "showticklabels": false
        },
        "xaxis3": {
         "anchor": "y3",
         "domain": [
          0,
          1
         ],
         "title": {
          "text": "Distance (m)"
         }
        },
        "yaxis": {
         "anchor": "x",
         "domain": [
          0.7333333333333334,
          1
         ],
         "title": {
          "text": "Speed (km/h)"
         }
        },
        "yaxis2": {
         "anchor": "x2",
         "domain": [
          0.3666666666666667,
          0.6333333333333333
         ],
         "title": {
          "text": "Gear"
         }
        },
        "yaxis3": {
         "anchor": "x3",
         "domain": [
          0,
          0.26666666666666666
         ],
         "title": {
          "text": "<-- HAM ahead | LEC ahead -->"
         }
        }
       }
      }
     },
     "metadata": {},
     "output_type": "display_data"
    }
   ],
   "source": [
    "fig = make_subplots(rows=3, cols=1, shared_xaxes=True, subplot_titles=('Speed', 'Gear', 'Delta Time'), vertical_spacing=0.1)\n",
    "\n",
    "fig.append_trace(go.Scatter(x=car_data_1['Distance'], y=car_data_1['Speed'], name=driver_1, line_color=ff1.plotting.driver_color(driver_1), hovertemplate = hovertemplate_speed, opacity=0.8), 1, 1)\n",
    "fig.append_trace(go.Scatter(x=car_data_2['Distance'], y=car_data_2['Speed'], name=driver_2, line_color=ff1.plotting.driver_color(driver_2), hovertemplate = hovertemplate_speed, opacity=0.8), 1, 1)\n",
    "\n",
    "fig.append_trace(go.Scatter(x=car_data_1['Distance'], y=car_data_1['nGear'], name=driver_1, line_color=ff1.plotting.driver_color(driver_1), hovertemplate = hovertemplate_gear, opacity=0.8, showlegend=False), 2, 1)\n",
    "fig.append_trace(go.Scatter(x=car_data_2['Distance'], y=car_data_2['nGear'], name=driver_2, line_color=ff1.plotting.driver_color(driver_2), hovertemplate = hovertemplate_gear, opacity=0.8, showlegend=False), 2, 1)\n",
    "\n",
    "fig.append_trace(go.Scatter(x=ref_tel['Distance'], y=delta_time, line_color='white', mode='lines', name='Delta Time', hovertemplate = 'Delta Time: %{y:.3f} sec', opacity=0.8), 3, 1)\n",
    "\n",
    "fig.update_yaxes(title_text=\"Speed (km/h)\", row=1, col=1)\n",
    "fig.update_yaxes(title_text=\"Gear\", row=2, col=1)\n",
    "fig.update_yaxes(title_text=f\"<-- {driver_2} ahead | {driver_1} ahead -->\", row=3, col=1)\n",
    "fig.update_xaxes(title_text=\"Distance (m)\", row=3, col=1)\n",
    "\n",
    "fig.update_layout(width=1200, height=1200, title_text=plot_title, title_x=0.1)\n",
    "fig.show()"
   ]
  },
  {
   "cell_type": "code",
   "execution_count": 13,
   "metadata": {},
   "outputs": [
    {
     "data": {
      "text/html": [
       "<div><div id=062c70e2-a9d2-47e1-8029-3442643ee7ab style=\"display:none; background-color:#9D6CFF; color:white; width:200px; height:30px; padding-left:5px; border-radius:4px; flex-direction:row; justify-content:space-around; align-items:center;\" onmouseover=\"this.style.backgroundColor='#BA9BF8'\" onmouseout=\"this.style.backgroundColor='#9D6CFF'\" onclick=\"window.commands?.execute('create-mitosheet-from-dataframe-output');\">See Full Dataframe in Mito</div> <script> if (window.commands.hasCommand('create-mitosheet-from-dataframe-output')) document.getElementById('062c70e2-a9d2-47e1-8029-3442643ee7ab').style.display = 'flex' </script> <table border=\"1\" class=\"dataframe\">\n",
       "  <thead>\n",
       "    <tr style=\"text-align: right;\">\n",
       "      <th></th>\n",
       "      <th>Time</th>\n",
       "      <th>DriverNumber</th>\n",
       "      <th>LapTime</th>\n",
       "      <th>LapNumber</th>\n",
       "      <th>Stint</th>\n",
       "      <th>PitOutTime</th>\n",
       "      <th>PitInTime</th>\n",
       "      <th>Sector1Time</th>\n",
       "      <th>Sector2Time</th>\n",
       "      <th>Sector3Time</th>\n",
       "      <th>...</th>\n",
       "      <th>IsPersonalBest</th>\n",
       "      <th>Compound</th>\n",
       "      <th>TyreLife</th>\n",
       "      <th>FreshTyre</th>\n",
       "      <th>LapStartTime</th>\n",
       "      <th>Team</th>\n",
       "      <th>Driver</th>\n",
       "      <th>TrackStatus</th>\n",
       "      <th>IsAccurate</th>\n",
       "      <th>LapStartDate</th>\n",
       "    </tr>\n",
       "  </thead>\n",
       "  <tbody>\n",
       "    <tr>\n",
       "      <th>1</th>\n",
       "      <td>0 days 00:20:04.061000</td>\n",
       "      <td>1</td>\n",
       "      <td>0 days 00:01:36.099000</td>\n",
       "      <td>2</td>\n",
       "      <td>1</td>\n",
       "      <td>NaT</td>\n",
       "      <td>NaT</td>\n",
       "      <td>0 days 00:00:33.258000</td>\n",
       "      <td>0 days 00:00:36.295000</td>\n",
       "      <td>0 days 00:00:26.546000</td>\n",
       "      <td>...</td>\n",
       "      <td>False</td>\n",
       "      <td>SOFT</td>\n",
       "      <td>2.0</td>\n",
       "      <td>True</td>\n",
       "      <td>0 days 00:18:27.962000</td>\n",
       "      <td>Red Bull Racing</td>\n",
       "      <td>VER</td>\n",
       "      <td>1</td>\n",
       "      <td>True</td>\n",
       "      <td>2022-05-06 18:33:28.137</td>\n",
       "    </tr>\n",
       "    <tr>\n",
       "      <th>3</th>\n",
       "      <td>0 days 00:23:20.893000</td>\n",
       "      <td>1</td>\n",
       "      <td>0 days 00:01:33.449000</td>\n",
       "      <td>4</td>\n",
       "      <td>1</td>\n",
       "      <td>NaT</td>\n",
       "      <td>NaT</td>\n",
       "      <td>0 days 00:00:31.897000</td>\n",
       "      <td>0 days 00:00:35.663000</td>\n",
       "      <td>0 days 00:00:25.889000</td>\n",
       "      <td>...</td>\n",
       "      <td>False</td>\n",
       "      <td>SOFT</td>\n",
       "      <td>4.0</td>\n",
       "      <td>True</td>\n",
       "      <td>0 days 00:21:47.444000</td>\n",
       "      <td>Red Bull Racing</td>\n",
       "      <td>VER</td>\n",
       "      <td>2</td>\n",
       "      <td>True</td>\n",
       "      <td>2022-05-06 18:36:47.619</td>\n",
       "    </tr>\n",
       "    <tr>\n",
       "      <th>6</th>\n",
       "      <td>0 days 00:35:35.585000</td>\n",
       "      <td>1</td>\n",
       "      <td>0 days 00:01:33.193000</td>\n",
       "      <td>7</td>\n",
       "      <td>2</td>\n",
       "      <td>NaT</td>\n",
       "      <td>NaT</td>\n",
       "      <td>0 days 00:00:31.227000</td>\n",
       "      <td>0 days 00:00:36.078000</td>\n",
       "      <td>0 days 00:00:25.888000</td>\n",
       "      <td>...</td>\n",
       "      <td>False</td>\n",
       "      <td>SOFT</td>\n",
       "      <td>8.0</td>\n",
       "      <td>None</td>\n",
       "      <td>0 days 00:34:02.392000</td>\n",
       "      <td>Red Bull Racing</td>\n",
       "      <td>VER</td>\n",
       "      <td>1</td>\n",
       "      <td>True</td>\n",
       "      <td>2022-05-06 18:49:02.567</td>\n",
       "    </tr>\n",
       "    <tr>\n",
       "      <th>10</th>\n",
       "      <td>0 days 01:03:58.334000</td>\n",
       "      <td>1</td>\n",
       "      <td>0 days 00:01:31.350000</td>\n",
       "      <td>11</td>\n",
       "      <td>3</td>\n",
       "      <td>NaT</td>\n",
       "      <td>NaT</td>\n",
       "      <td>0 days 00:00:30.590000</td>\n",
       "      <td>0 days 00:00:35.158000</td>\n",
       "      <td>0 days 00:00:25.602000</td>\n",
       "      <td>...</td>\n",
       "      <td>False</td>\n",
       "      <td>SOFT</td>\n",
       "      <td>3.0</td>\n",
       "      <td>True</td>\n",
       "      <td>0 days 01:02:26.984000</td>\n",
       "      <td>Red Bull Racing</td>\n",
       "      <td>VER</td>\n",
       "      <td>1</td>\n",
       "      <td>True</td>\n",
       "      <td>2022-05-06 19:17:27.159</td>\n",
       "    </tr>\n",
       "    <tr>\n",
       "      <th>12</th>\n",
       "      <td>0 days 01:07:23.184000</td>\n",
       "      <td>1</td>\n",
       "      <td>0 days 00:01:31.277000</td>\n",
       "      <td>13</td>\n",
       "      <td>3</td>\n",
       "      <td>NaT</td>\n",
       "      <td>NaT</td>\n",
       "      <td>0 days 00:00:30.343000</td>\n",
       "      <td>0 days 00:00:35.406000</td>\n",
       "      <td>0 days 00:00:25.528000</td>\n",
       "      <td>...</td>\n",
       "      <td>True</td>\n",
       "      <td>SOFT</td>\n",
       "      <td>5.0</td>\n",
       "      <td>True</td>\n",
       "      <td>0 days 01:05:51.907000</td>\n",
       "      <td>Red Bull Racing</td>\n",
       "      <td>VER</td>\n",
       "      <td>1</td>\n",
       "      <td>True</td>\n",
       "      <td>2022-05-06 19:20:52.082</td>\n",
       "    </tr>\n",
       "  </tbody>\n",
       "</table></div>"
      ],
      "text/plain": [
       "                     Time DriverNumber                LapTime  LapNumber  \\\n",
       "1  0 days 00:20:04.061000            1 0 days 00:01:36.099000          2   \n",
       "3  0 days 00:23:20.893000            1 0 days 00:01:33.449000          4   \n",
       "6  0 days 00:35:35.585000            1 0 days 00:01:33.193000          7   \n",
       "10 0 days 01:03:58.334000            1 0 days 00:01:31.350000         11   \n",
       "12 0 days 01:07:23.184000            1 0 days 00:01:31.277000         13   \n",
       "\n",
       "    Stint PitOutTime PitInTime            Sector1Time            Sector2Time  \\\n",
       "1       1        NaT       NaT 0 days 00:00:33.258000 0 days 00:00:36.295000   \n",
       "3       1        NaT       NaT 0 days 00:00:31.897000 0 days 00:00:35.663000   \n",
       "6       2        NaT       NaT 0 days 00:00:31.227000 0 days 00:00:36.078000   \n",
       "10      3        NaT       NaT 0 days 00:00:30.590000 0 days 00:00:35.158000   \n",
       "12      3        NaT       NaT 0 days 00:00:30.343000 0 days 00:00:35.406000   \n",
       "\n",
       "              Sector3Time  ... IsPersonalBest Compound TyreLife  FreshTyre  \\\n",
       "1  0 days 00:00:26.546000  ...          False     SOFT      2.0       True   \n",
       "3  0 days 00:00:25.889000  ...          False     SOFT      4.0       True   \n",
       "6  0 days 00:00:25.888000  ...          False     SOFT      8.0       None   \n",
       "10 0 days 00:00:25.602000  ...          False     SOFT      3.0       True   \n",
       "12 0 days 00:00:25.528000  ...           True     SOFT      5.0       True   \n",
       "\n",
       "             LapStartTime             Team  Driver TrackStatus IsAccurate  \\\n",
       "1  0 days 00:18:27.962000  Red Bull Racing     VER           1       True   \n",
       "3  0 days 00:21:47.444000  Red Bull Racing     VER           2       True   \n",
       "6  0 days 00:34:02.392000  Red Bull Racing     VER           1       True   \n",
       "10 0 days 01:02:26.984000  Red Bull Racing     VER           1       True   \n",
       "12 0 days 01:05:51.907000  Red Bull Racing     VER           1       True   \n",
       "\n",
       "              LapStartDate  \n",
       "1  2022-05-06 18:33:28.137  \n",
       "3  2022-05-06 18:36:47.619  \n",
       "6  2022-05-06 18:49:02.567  \n",
       "10 2022-05-06 19:17:27.159  \n",
       "12 2022-05-06 19:20:52.082  \n",
       "\n",
       "[5 rows x 27 columns]"
      ]
     },
     "execution_count": 13,
     "metadata": {},
     "output_type": "execute_result"
    }
   ],
   "source": [
    "# Returns only laps quicker than 107% of the quickest lap of the session, removing outlaps and inlaps.\n",
    "fp1.laps.pick_quicklaps().head()"
   ]
  },
  {
   "cell_type": "code",
   "execution_count": 14,
   "metadata": {},
   "outputs": [
    {
     "name": "stderr",
     "output_type": "stream",
     "text": [
      "Loading data for Miami Grand Prix - Race [v2.2.8]\n",
      "Using cached data for driver_info\n",
      "Using cached data for timing_data\n",
      "Using cached data for timing_app_data\n",
      "Processing timing data...\n",
      "Using cached data for session_status_data\n",
      "Using cached data for track_status_data\n",
      "Using cached data for car_data\n",
      "Using cached data for position_data\n",
      "Using cached data for weather_data\n",
      "Using cached data for race_control_messages\n",
      "Finished loading data for 20 drivers: ['1', '16', '55', '11', '63', '44', '77', '31', '23', '18', '14', '22', '3', '6', '47', '20', '5', '10', '4', '24']\n"
     ]
    }
   ],
   "source": [
    "race = ff1.get_session(2022, 5, 'R')\n",
    "race.load(weather=True, telemetry=True)"
   ]
  },
  {
   "cell_type": "code",
   "execution_count": 15,
   "metadata": {},
   "outputs": [
    {
     "data": {
      "text/html": [
       "<div><div id=a8cd4f5d-385d-418b-9347-03476b5d2aa1 style=\"display:none; background-color:#9D6CFF; color:white; width:200px; height:30px; padding-left:5px; border-radius:4px; flex-direction:row; justify-content:space-around; align-items:center;\" onmouseover=\"this.style.backgroundColor='#BA9BF8'\" onmouseout=\"this.style.backgroundColor='#9D6CFF'\" onclick=\"window.commands?.execute('create-mitosheet-from-dataframe-output');\">See Full Dataframe in Mito</div> <script> if (window.commands.hasCommand('create-mitosheet-from-dataframe-output')) document.getElementById('a8cd4f5d-385d-418b-9347-03476b5d2aa1').style.display = 'flex' </script> <table border=\"1\" class=\"dataframe\">\n",
       "  <thead>\n",
       "    <tr style=\"text-align: right;\">\n",
       "      <th></th>\n",
       "      <th>1</th>\n",
       "      <th>16</th>\n",
       "      <th>55</th>\n",
       "      <th>11</th>\n",
       "      <th>63</th>\n",
       "      <th>44</th>\n",
       "      <th>77</th>\n",
       "      <th>31</th>\n",
       "      <th>23</th>\n",
       "      <th>18</th>\n",
       "      <th>14</th>\n",
       "      <th>22</th>\n",
       "      <th>3</th>\n",
       "      <th>6</th>\n",
       "      <th>47</th>\n",
       "      <th>20</th>\n",
       "      <th>5</th>\n",
       "      <th>10</th>\n",
       "      <th>4</th>\n",
       "      <th>24</th>\n",
       "    </tr>\n",
       "  </thead>\n",
       "  <tbody>\n",
       "    <tr>\n",
       "      <th>DriverNumber</th>\n",
       "      <td>1</td>\n",
       "      <td>16</td>\n",
       "      <td>55</td>\n",
       "      <td>11</td>\n",
       "      <td>63</td>\n",
       "      <td>44</td>\n",
       "      <td>77</td>\n",
       "      <td>31</td>\n",
       "      <td>23</td>\n",
       "      <td>18</td>\n",
       "      <td>14</td>\n",
       "      <td>22</td>\n",
       "      <td>3</td>\n",
       "      <td>6</td>\n",
       "      <td>47</td>\n",
       "      <td>20</td>\n",
       "      <td>5</td>\n",
       "      <td>10</td>\n",
       "      <td>4</td>\n",
       "      <td>24</td>\n",
       "    </tr>\n",
       "    <tr>\n",
       "      <th>BroadcastName</th>\n",
       "      <td>M VERSTAPPEN</td>\n",
       "      <td>C LECLERC</td>\n",
       "      <td>C SAINZ</td>\n",
       "      <td>S PEREZ</td>\n",
       "      <td>G RUSSELL</td>\n",
       "      <td>L HAMILTON</td>\n",
       "      <td>V BOTTAS</td>\n",
       "      <td>E OCON</td>\n",
       "      <td>A ALBON</td>\n",
       "      <td>L STROLL</td>\n",
       "      <td>F ALONSO</td>\n",
       "      <td>Y TSUNODA</td>\n",
       "      <td>D RICCIARDO</td>\n",
       "      <td>N LATIFI</td>\n",
       "      <td>M SCHUMACHER</td>\n",
       "      <td>K MAGNUSSEN</td>\n",
       "      <td>S VETTEL</td>\n",
       "      <td>P GASLY</td>\n",
       "      <td>L NORRIS</td>\n",
       "      <td>G ZHOU</td>\n",
       "    </tr>\n",
       "    <tr>\n",
       "      <th>Abbreviation</th>\n",
       "      <td>VER</td>\n",
       "      <td>LEC</td>\n",
       "      <td>SAI</td>\n",
       "      <td>PER</td>\n",
       "      <td>RUS</td>\n",
       "      <td>HAM</td>\n",
       "      <td>BOT</td>\n",
       "      <td>OCO</td>\n",
       "      <td>ALB</td>\n",
       "      <td>STR</td>\n",
       "      <td>ALO</td>\n",
       "      <td>TSU</td>\n",
       "      <td>RIC</td>\n",
       "      <td>LAT</td>\n",
       "      <td>MSC</td>\n",
       "      <td>MAG</td>\n",
       "      <td>VET</td>\n",
       "      <td>GAS</td>\n",
       "      <td>NOR</td>\n",
       "      <td>ZHO</td>\n",
       "    </tr>\n",
       "    <tr>\n",
       "      <th>TeamName</th>\n",
       "      <td>Red Bull Racing</td>\n",
       "      <td>Ferrari</td>\n",
       "      <td>Ferrari</td>\n",
       "      <td>Red Bull Racing</td>\n",
       "      <td>Mercedes</td>\n",
       "      <td>Mercedes</td>\n",
       "      <td>Alfa Romeo</td>\n",
       "      <td>Alpine</td>\n",
       "      <td>Williams</td>\n",
       "      <td>Aston Martin</td>\n",
       "      <td>Alpine</td>\n",
       "      <td>AlphaTauri</td>\n",
       "      <td>McLaren</td>\n",
       "      <td>Williams</td>\n",
       "      <td>Haas F1 Team</td>\n",
       "      <td>Haas F1 Team</td>\n",
       "      <td>Aston Martin</td>\n",
       "      <td>AlphaTauri</td>\n",
       "      <td>McLaren</td>\n",
       "      <td>Alfa Romeo</td>\n",
       "    </tr>\n",
       "    <tr>\n",
       "      <th>TeamColor</th>\n",
       "      <td>1e5bc6</td>\n",
       "      <td>ed1c24</td>\n",
       "      <td>ed1c24</td>\n",
       "      <td>1e5bc6</td>\n",
       "      <td>6cd3bf</td>\n",
       "      <td>6cd3bf</td>\n",
       "      <td>b12039</td>\n",
       "      <td>2293d1</td>\n",
       "      <td>37bedd</td>\n",
       "      <td>2d826d</td>\n",
       "      <td>2293d1</td>\n",
       "      <td>4e7c9b</td>\n",
       "      <td>f58020</td>\n",
       "      <td>37bedd</td>\n",
       "      <td>b6babd</td>\n",
       "      <td>b6babd</td>\n",
       "      <td>2d826d</td>\n",
       "      <td>4e7c9b</td>\n",
       "      <td>f58020</td>\n",
       "      <td>b12039</td>\n",
       "    </tr>\n",
       "    <tr>\n",
       "      <th>FirstName</th>\n",
       "      <td>Max</td>\n",
       "      <td>Charles</td>\n",
       "      <td>Carlos</td>\n",
       "      <td>Sergio</td>\n",
       "      <td>George</td>\n",
       "      <td>Lewis</td>\n",
       "      <td>Valtteri</td>\n",
       "      <td>Esteban</td>\n",
       "      <td>Alexander</td>\n",
       "      <td>Lance</td>\n",
       "      <td>Fernando</td>\n",
       "      <td>Yuki</td>\n",
       "      <td>Daniel</td>\n",
       "      <td>Nicholas</td>\n",
       "      <td>Mick</td>\n",
       "      <td>Kevin</td>\n",
       "      <td>Sebastian</td>\n",
       "      <td>Pierre</td>\n",
       "      <td>Lando</td>\n",
       "      <td>Guanyu</td>\n",
       "    </tr>\n",
       "    <tr>\n",
       "      <th>LastName</th>\n",
       "      <td>Verstappen</td>\n",
       "      <td>Leclerc</td>\n",
       "      <td>Sainz</td>\n",
       "      <td>Perez</td>\n",
       "      <td>Russell</td>\n",
       "      <td>Hamilton</td>\n",
       "      <td>Bottas</td>\n",
       "      <td>Ocon</td>\n",
       "      <td>Albon</td>\n",
       "      <td>Stroll</td>\n",
       "      <td>Alonso</td>\n",
       "      <td>Tsunoda</td>\n",
       "      <td>Ricciardo</td>\n",
       "      <td>Latifi</td>\n",
       "      <td>Schumacher</td>\n",
       "      <td>Magnussen</td>\n",
       "      <td>Vettel</td>\n",
       "      <td>Gasly</td>\n",
       "      <td>Norris</td>\n",
       "      <td>Zhou</td>\n",
       "    </tr>\n",
       "    <tr>\n",
       "      <th>FullName</th>\n",
       "      <td>Max Verstappen</td>\n",
       "      <td>Charles Leclerc</td>\n",
       "      <td>Carlos Sainz</td>\n",
       "      <td>Sergio Perez</td>\n",
       "      <td>George Russell</td>\n",
       "      <td>Lewis Hamilton</td>\n",
       "      <td>Valtteri Bottas</td>\n",
       "      <td>Esteban Ocon</td>\n",
       "      <td>Alexander Albon</td>\n",
       "      <td>Lance Stroll</td>\n",
       "      <td>Fernando Alonso</td>\n",
       "      <td>Yuki Tsunoda</td>\n",
       "      <td>Daniel Ricciardo</td>\n",
       "      <td>Nicholas Latifi</td>\n",
       "      <td>Mick Schumacher</td>\n",
       "      <td>Kevin Magnussen</td>\n",
       "      <td>Sebastian Vettel</td>\n",
       "      <td>Pierre Gasly</td>\n",
       "      <td>Lando Norris</td>\n",
       "      <td>Guanyu Zhou</td>\n",
       "    </tr>\n",
       "    <tr>\n",
       "      <th>Position</th>\n",
       "      <td>1.0</td>\n",
       "      <td>2.0</td>\n",
       "      <td>3.0</td>\n",
       "      <td>4.0</td>\n",
       "      <td>5.0</td>\n",
       "      <td>6.0</td>\n",
       "      <td>7.0</td>\n",
       "      <td>8.0</td>\n",
       "      <td>9.0</td>\n",
       "      <td>10.0</td>\n",
       "      <td>11.0</td>\n",
       "      <td>12.0</td>\n",
       "      <td>13.0</td>\n",
       "      <td>14.0</td>\n",
       "      <td>15.0</td>\n",
       "      <td>16.0</td>\n",
       "      <td>17.0</td>\n",
       "      <td>18.0</td>\n",
       "      <td>19.0</td>\n",
       "      <td>20.0</td>\n",
       "    </tr>\n",
       "    <tr>\n",
       "      <th>GridPosition</th>\n",
       "      <td>3.0</td>\n",
       "      <td>1.0</td>\n",
       "      <td>2.0</td>\n",
       "      <td>4.0</td>\n",
       "      <td>12.0</td>\n",
       "      <td>6.0</td>\n",
       "      <td>5.0</td>\n",
       "      <td>20.0</td>\n",
       "      <td>18.0</td>\n",
       "      <td>0.0</td>\n",
       "      <td>11.0</td>\n",
       "      <td>9.0</td>\n",
       "      <td>14.0</td>\n",
       "      <td>19.0</td>\n",
       "      <td>15.0</td>\n",
       "      <td>16.0</td>\n",
       "      <td>0.0</td>\n",
       "      <td>7.0</td>\n",
       "      <td>8.0</td>\n",
       "      <td>17.0</td>\n",
       "    </tr>\n",
       "    <tr>\n",
       "      <th>Q1</th>\n",
       "      <td>NaT</td>\n",
       "      <td>NaT</td>\n",
       "      <td>NaT</td>\n",
       "      <td>NaT</td>\n",
       "      <td>NaT</td>\n",
       "      <td>NaT</td>\n",
       "      <td>NaT</td>\n",
       "      <td>NaT</td>\n",
       "      <td>NaT</td>\n",
       "      <td>NaT</td>\n",
       "      <td>NaT</td>\n",
       "      <td>NaT</td>\n",
       "      <td>NaT</td>\n",
       "      <td>NaT</td>\n",
       "      <td>NaT</td>\n",
       "      <td>NaT</td>\n",
       "      <td>NaT</td>\n",
       "      <td>NaT</td>\n",
       "      <td>NaT</td>\n",
       "      <td>NaT</td>\n",
       "    </tr>\n",
       "    <tr>\n",
       "      <th>Q2</th>\n",
       "      <td>NaT</td>\n",
       "      <td>NaT</td>\n",
       "      <td>NaT</td>\n",
       "      <td>NaT</td>\n",
       "      <td>NaT</td>\n",
       "      <td>NaT</td>\n",
       "      <td>NaT</td>\n",
       "      <td>NaT</td>\n",
       "      <td>NaT</td>\n",
       "      <td>NaT</td>\n",
       "      <td>NaT</td>\n",
       "      <td>NaT</td>\n",
       "      <td>NaT</td>\n",
       "      <td>NaT</td>\n",
       "      <td>NaT</td>\n",
       "      <td>NaT</td>\n",
       "      <td>NaT</td>\n",
       "      <td>NaT</td>\n",
       "      <td>NaT</td>\n",
       "      <td>NaT</td>\n",
       "    </tr>\n",
       "    <tr>\n",
       "      <th>Q3</th>\n",
       "      <td>NaT</td>\n",
       "      <td>NaT</td>\n",
       "      <td>NaT</td>\n",
       "      <td>NaT</td>\n",
       "      <td>NaT</td>\n",
       "      <td>NaT</td>\n",
       "      <td>NaT</td>\n",
       "      <td>NaT</td>\n",
       "      <td>NaT</td>\n",
       "      <td>NaT</td>\n",
       "      <td>NaT</td>\n",
       "      <td>NaT</td>\n",
       "      <td>NaT</td>\n",
       "      <td>NaT</td>\n",
       "      <td>NaT</td>\n",
       "      <td>NaT</td>\n",
       "      <td>NaT</td>\n",
       "      <td>NaT</td>\n",
       "      <td>NaT</td>\n",
       "      <td>NaT</td>\n",
       "    </tr>\n",
       "    <tr>\n",
       "      <th>Time</th>\n",
       "      <td>0 days 01:34:24.258000</td>\n",
       "      <td>0 days 01:34:28.044000</td>\n",
       "      <td>0 days 01:34:32.487000</td>\n",
       "      <td>0 days 01:34:34.896000</td>\n",
       "      <td>0 days 01:34:42.840000</td>\n",
       "      <td>0 days 01:34:45.626000</td>\n",
       "      <td>0 days 01:34:49.331000</td>\n",
       "      <td>0 days 01:34:52.644000</td>\n",
       "      <td>0 days 01:34:56.623000</td>\n",
       "      <td>0 days 01:35:01.284000</td>\n",
       "      <td>0 days 01:35:01.386000</td>\n",
       "      <td>0 days 01:35:04.404000</td>\n",
       "      <td>0 days 01:35:05.160000</td>\n",
       "      <td>0 days 01:35:14.194000</td>\n",
       "      <td>0 days 01:35:37.563000</td>\n",
       "      <td>NaT</td>\n",
       "      <td>NaT</td>\n",
       "      <td>NaT</td>\n",
       "      <td>NaT</td>\n",
       "      <td>NaT</td>\n",
       "    </tr>\n",
       "    <tr>\n",
       "      <th>Status</th>\n",
       "      <td>Finished</td>\n",
       "      <td>Finished</td>\n",
       "      <td>Finished</td>\n",
       "      <td>Finished</td>\n",
       "      <td>Finished</td>\n",
       "      <td>Finished</td>\n",
       "      <td>Finished</td>\n",
       "      <td>Finished</td>\n",
       "      <td>Finished</td>\n",
       "      <td>Finished</td>\n",
       "      <td>Finished</td>\n",
       "      <td>Finished</td>\n",
       "      <td>Finished</td>\n",
       "      <td>Finished</td>\n",
       "      <td>Finished</td>\n",
       "      <td>Front wing</td>\n",
       "      <td>Collision</td>\n",
       "      <td>Suspension</td>\n",
       "      <td>Collision</td>\n",
       "      <td>Water leak</td>\n",
       "    </tr>\n",
       "    <tr>\n",
       "      <th>Points</th>\n",
       "      <td>26.0</td>\n",
       "      <td>18.0</td>\n",
       "      <td>15.0</td>\n",
       "      <td>12.0</td>\n",
       "      <td>10.0</td>\n",
       "      <td>8.0</td>\n",
       "      <td>6.0</td>\n",
       "      <td>4.0</td>\n",
       "      <td>2.0</td>\n",
       "      <td>1.0</td>\n",
       "      <td>0.0</td>\n",
       "      <td>0.0</td>\n",
       "      <td>0.0</td>\n",
       "      <td>0.0</td>\n",
       "      <td>0.0</td>\n",
       "      <td>0.0</td>\n",
       "      <td>0.0</td>\n",
       "      <td>0.0</td>\n",
       "      <td>0.0</td>\n",
       "      <td>0.0</td>\n",
       "    </tr>\n",
       "  </tbody>\n",
       "</table></div>"
      ],
      "text/plain": [
       "                                    1                      16  \\\n",
       "DriverNumber                        1                      16   \n",
       "BroadcastName            M VERSTAPPEN               C LECLERC   \n",
       "Abbreviation                      VER                     LEC   \n",
       "TeamName              Red Bull Racing                 Ferrari   \n",
       "TeamColor                      1e5bc6                  ed1c24   \n",
       "FirstName                         Max                 Charles   \n",
       "LastName                   Verstappen                 Leclerc   \n",
       "FullName               Max Verstappen         Charles Leclerc   \n",
       "Position                          1.0                     2.0   \n",
       "GridPosition                      3.0                     1.0   \n",
       "Q1                                NaT                     NaT   \n",
       "Q2                                NaT                     NaT   \n",
       "Q3                                NaT                     NaT   \n",
       "Time           0 days 01:34:24.258000  0 days 01:34:28.044000   \n",
       "Status                       Finished                Finished   \n",
       "Points                           26.0                    18.0   \n",
       "\n",
       "                                   55                      11  \\\n",
       "DriverNumber                       55                      11   \n",
       "BroadcastName                 C SAINZ                 S PEREZ   \n",
       "Abbreviation                      SAI                     PER   \n",
       "TeamName                      Ferrari         Red Bull Racing   \n",
       "TeamColor                      ed1c24                  1e5bc6   \n",
       "FirstName                      Carlos                  Sergio   \n",
       "LastName                        Sainz                   Perez   \n",
       "FullName                 Carlos Sainz            Sergio Perez   \n",
       "Position                          3.0                     4.0   \n",
       "GridPosition                      2.0                     4.0   \n",
       "Q1                                NaT                     NaT   \n",
       "Q2                                NaT                     NaT   \n",
       "Q3                                NaT                     NaT   \n",
       "Time           0 days 01:34:32.487000  0 days 01:34:34.896000   \n",
       "Status                       Finished                Finished   \n",
       "Points                           15.0                    12.0   \n",
       "\n",
       "                                   63                      44  \\\n",
       "DriverNumber                       63                      44   \n",
       "BroadcastName               G RUSSELL              L HAMILTON   \n",
       "Abbreviation                      RUS                     HAM   \n",
       "TeamName                     Mercedes                Mercedes   \n",
       "TeamColor                      6cd3bf                  6cd3bf   \n",
       "FirstName                      George                   Lewis   \n",
       "LastName                      Russell                Hamilton   \n",
       "FullName               George Russell          Lewis Hamilton   \n",
       "Position                          5.0                     6.0   \n",
       "GridPosition                     12.0                     6.0   \n",
       "Q1                                NaT                     NaT   \n",
       "Q2                                NaT                     NaT   \n",
       "Q3                                NaT                     NaT   \n",
       "Time           0 days 01:34:42.840000  0 days 01:34:45.626000   \n",
       "Status                       Finished                Finished   \n",
       "Points                           10.0                     8.0   \n",
       "\n",
       "                                   77                      31  \\\n",
       "DriverNumber                       77                      31   \n",
       "BroadcastName                V BOTTAS                  E OCON   \n",
       "Abbreviation                      BOT                     OCO   \n",
       "TeamName                   Alfa Romeo                  Alpine   \n",
       "TeamColor                      b12039                  2293d1   \n",
       "FirstName                    Valtteri                 Esteban   \n",
       "LastName                       Bottas                    Ocon   \n",
       "FullName              Valtteri Bottas            Esteban Ocon   \n",
       "Position                          7.0                     8.0   \n",
       "GridPosition                      5.0                    20.0   \n",
       "Q1                                NaT                     NaT   \n",
       "Q2                                NaT                     NaT   \n",
       "Q3                                NaT                     NaT   \n",
       "Time           0 days 01:34:49.331000  0 days 01:34:52.644000   \n",
       "Status                       Finished                Finished   \n",
       "Points                            6.0                     4.0   \n",
       "\n",
       "                                   23                      18  \\\n",
       "DriverNumber                       23                      18   \n",
       "BroadcastName                 A ALBON                L STROLL   \n",
       "Abbreviation                      ALB                     STR   \n",
       "TeamName                     Williams            Aston Martin   \n",
       "TeamColor                      37bedd                  2d826d   \n",
       "FirstName                   Alexander                   Lance   \n",
       "LastName                        Albon                  Stroll   \n",
       "FullName              Alexander Albon            Lance Stroll   \n",
       "Position                          9.0                    10.0   \n",
       "GridPosition                     18.0                     0.0   \n",
       "Q1                                NaT                     NaT   \n",
       "Q2                                NaT                     NaT   \n",
       "Q3                                NaT                     NaT   \n",
       "Time           0 days 01:34:56.623000  0 days 01:35:01.284000   \n",
       "Status                       Finished                Finished   \n",
       "Points                            2.0                     1.0   \n",
       "\n",
       "                                   14                      22  \\\n",
       "DriverNumber                       14                      22   \n",
       "BroadcastName                F ALONSO               Y TSUNODA   \n",
       "Abbreviation                      ALO                     TSU   \n",
       "TeamName                       Alpine              AlphaTauri   \n",
       "TeamColor                      2293d1                  4e7c9b   \n",
       "FirstName                    Fernando                    Yuki   \n",
       "LastName                       Alonso                 Tsunoda   \n",
       "FullName              Fernando Alonso            Yuki Tsunoda   \n",
       "Position                         11.0                    12.0   \n",
       "GridPosition                     11.0                     9.0   \n",
       "Q1                                NaT                     NaT   \n",
       "Q2                                NaT                     NaT   \n",
       "Q3                                NaT                     NaT   \n",
       "Time           0 days 01:35:01.386000  0 days 01:35:04.404000   \n",
       "Status                       Finished                Finished   \n",
       "Points                            0.0                     0.0   \n",
       "\n",
       "                                    3                       6  \\\n",
       "DriverNumber                        3                       6   \n",
       "BroadcastName             D RICCIARDO                N LATIFI   \n",
       "Abbreviation                      RIC                     LAT   \n",
       "TeamName                      McLaren                Williams   \n",
       "TeamColor                      f58020                  37bedd   \n",
       "FirstName                      Daniel                Nicholas   \n",
       "LastName                    Ricciardo                  Latifi   \n",
       "FullName             Daniel Ricciardo         Nicholas Latifi   \n",
       "Position                         13.0                    14.0   \n",
       "GridPosition                     14.0                    19.0   \n",
       "Q1                                NaT                     NaT   \n",
       "Q2                                NaT                     NaT   \n",
       "Q3                                NaT                     NaT   \n",
       "Time           0 days 01:35:05.160000  0 days 01:35:14.194000   \n",
       "Status                       Finished                Finished   \n",
       "Points                            0.0                     0.0   \n",
       "\n",
       "                                   47               20                 5  \\\n",
       "DriverNumber                       47               20                 5   \n",
       "BroadcastName            M SCHUMACHER      K MAGNUSSEN          S VETTEL   \n",
       "Abbreviation                      MSC              MAG               VET   \n",
       "TeamName                 Haas F1 Team     Haas F1 Team      Aston Martin   \n",
       "TeamColor                      b6babd           b6babd            2d826d   \n",
       "FirstName                        Mick            Kevin         Sebastian   \n",
       "LastName                   Schumacher        Magnussen            Vettel   \n",
       "FullName              Mick Schumacher  Kevin Magnussen  Sebastian Vettel   \n",
       "Position                         15.0             16.0              17.0   \n",
       "GridPosition                     15.0             16.0               0.0   \n",
       "Q1                                NaT              NaT               NaT   \n",
       "Q2                                NaT              NaT               NaT   \n",
       "Q3                                NaT              NaT               NaT   \n",
       "Time           0 days 01:35:37.563000              NaT               NaT   \n",
       "Status                       Finished       Front wing         Collision   \n",
       "Points                            0.0              0.0               0.0   \n",
       "\n",
       "                         10             4           24  \n",
       "DriverNumber             10             4           24  \n",
       "BroadcastName       P GASLY      L NORRIS       G ZHOU  \n",
       "Abbreviation            GAS           NOR          ZHO  \n",
       "TeamName         AlphaTauri       McLaren   Alfa Romeo  \n",
       "TeamColor            4e7c9b        f58020       b12039  \n",
       "FirstName            Pierre         Lando       Guanyu  \n",
       "LastName              Gasly        Norris         Zhou  \n",
       "FullName       Pierre Gasly  Lando Norris  Guanyu Zhou  \n",
       "Position               18.0          19.0         20.0  \n",
       "GridPosition            7.0           8.0         17.0  \n",
       "Q1                      NaT           NaT          NaT  \n",
       "Q2                      NaT           NaT          NaT  \n",
       "Q3                      NaT           NaT          NaT  \n",
       "Time                    NaT           NaT          NaT  \n",
       "Status           Suspension     Collision   Water leak  \n",
       "Points                  0.0           0.0          0.0  "
      ]
     },
     "execution_count": 15,
     "metadata": {},
     "output_type": "execute_result"
    }
   ],
   "source": [
    "race.results.T"
   ]
  },
  {
   "cell_type": "code",
   "execution_count": 16,
   "metadata": {},
   "outputs": [
    {
     "data": {
      "text/html": [
       "<div><div id=843797fa-d20a-48b0-9a46-d138bf934dad style=\"display:none; background-color:#9D6CFF; color:white; width:200px; height:30px; padding-left:5px; border-radius:4px; flex-direction:row; justify-content:space-around; align-items:center;\" onmouseover=\"this.style.backgroundColor='#BA9BF8'\" onmouseout=\"this.style.backgroundColor='#9D6CFF'\" onclick=\"window.commands?.execute('create-mitosheet-from-dataframe-output');\">See Full Dataframe in Mito</div> <script> if (window.commands.hasCommand('create-mitosheet-from-dataframe-output')) document.getElementById('843797fa-d20a-48b0-9a46-d138bf934dad').style.display = 'flex' </script> <table border=\"1\" class=\"dataframe\">\n",
       "  <thead>\n",
       "    <tr style=\"text-align: right;\">\n",
       "      <th></th>\n",
       "      <th>1</th>\n",
       "      <th>55</th>\n",
       "      <th>47</th>\n",
       "      <th>44</th>\n",
       "      <th>31</th>\n",
       "      <th>24</th>\n",
       "      <th>23</th>\n",
       "      <th>22</th>\n",
       "      <th>20</th>\n",
       "      <th>18</th>\n",
       "      <th>16</th>\n",
       "      <th>14</th>\n",
       "      <th>11</th>\n",
       "      <th>10</th>\n",
       "      <th>6</th>\n",
       "      <th>5</th>\n",
       "      <th>4</th>\n",
       "      <th>3</th>\n",
       "      <th>63</th>\n",
       "      <th>77</th>\n",
       "    </tr>\n",
       "  </thead>\n",
       "  <tbody>\n",
       "    <tr>\n",
       "      <th>DriverNumber</th>\n",
       "      <td>1</td>\n",
       "      <td>55</td>\n",
       "      <td>47</td>\n",
       "      <td>44</td>\n",
       "      <td>31</td>\n",
       "      <td>24</td>\n",
       "      <td>23</td>\n",
       "      <td>22</td>\n",
       "      <td>20</td>\n",
       "      <td>18</td>\n",
       "      <td>16</td>\n",
       "      <td>14</td>\n",
       "      <td>11</td>\n",
       "      <td>10</td>\n",
       "      <td>6</td>\n",
       "      <td>5</td>\n",
       "      <td>4</td>\n",
       "      <td>3</td>\n",
       "      <td>63</td>\n",
       "      <td>77</td>\n",
       "    </tr>\n",
       "    <tr>\n",
       "      <th>BroadcastName</th>\n",
       "      <td>M VERSTAPPEN</td>\n",
       "      <td>C SAINZ</td>\n",
       "      <td>M SCHUMACHER</td>\n",
       "      <td>L HAMILTON</td>\n",
       "      <td>E OCON</td>\n",
       "      <td>G ZHOU</td>\n",
       "      <td>A ALBON</td>\n",
       "      <td>Y TSUNODA</td>\n",
       "      <td>K MAGNUSSEN</td>\n",
       "      <td>L STROLL</td>\n",
       "      <td>C LECLERC</td>\n",
       "      <td>F ALONSO</td>\n",
       "      <td>S PEREZ</td>\n",
       "      <td>P GASLY</td>\n",
       "      <td>N LATIFI</td>\n",
       "      <td>S VETTEL</td>\n",
       "      <td>L NORRIS</td>\n",
       "      <td>D RICCIARDO</td>\n",
       "      <td>G RUSSELL</td>\n",
       "      <td>V BOTTAS</td>\n",
       "    </tr>\n",
       "    <tr>\n",
       "      <th>Abbreviation</th>\n",
       "      <td>VER</td>\n",
       "      <td>SAI</td>\n",
       "      <td>MSC</td>\n",
       "      <td>HAM</td>\n",
       "      <td>OCO</td>\n",
       "      <td>ZHO</td>\n",
       "      <td>ALB</td>\n",
       "      <td>TSU</td>\n",
       "      <td>MAG</td>\n",
       "      <td>STR</td>\n",
       "      <td>LEC</td>\n",
       "      <td>ALO</td>\n",
       "      <td>PER</td>\n",
       "      <td>GAS</td>\n",
       "      <td>LAT</td>\n",
       "      <td>VET</td>\n",
       "      <td>NOR</td>\n",
       "      <td>RIC</td>\n",
       "      <td>RUS</td>\n",
       "      <td>BOT</td>\n",
       "    </tr>\n",
       "    <tr>\n",
       "      <th>TeamName</th>\n",
       "      <td>Red Bull Racing</td>\n",
       "      <td>Ferrari</td>\n",
       "      <td>Haas F1 Team</td>\n",
       "      <td>Mercedes</td>\n",
       "      <td>Alpine</td>\n",
       "      <td>Alfa Romeo</td>\n",
       "      <td>Williams</td>\n",
       "      <td>AlphaTauri</td>\n",
       "      <td>Haas F1 Team</td>\n",
       "      <td>Aston Martin</td>\n",
       "      <td>Ferrari</td>\n",
       "      <td>Alpine</td>\n",
       "      <td>Red Bull Racing</td>\n",
       "      <td>AlphaTauri</td>\n",
       "      <td>Williams</td>\n",
       "      <td>Aston Martin</td>\n",
       "      <td>McLaren</td>\n",
       "      <td>McLaren</td>\n",
       "      <td>Mercedes</td>\n",
       "      <td>Alfa Romeo</td>\n",
       "    </tr>\n",
       "    <tr>\n",
       "      <th>TeamColor</th>\n",
       "      <td>1e5bc6</td>\n",
       "      <td>ed1c24</td>\n",
       "      <td>b6babd</td>\n",
       "      <td>6cd3bf</td>\n",
       "      <td>2293d1</td>\n",
       "      <td>b12039</td>\n",
       "      <td>37bedd</td>\n",
       "      <td>4e7c9b</td>\n",
       "      <td>b6babd</td>\n",
       "      <td>2d826d</td>\n",
       "      <td>ed1c24</td>\n",
       "      <td>2293d1</td>\n",
       "      <td>1e5bc6</td>\n",
       "      <td>4e7c9b</td>\n",
       "      <td>37bedd</td>\n",
       "      <td>2d826d</td>\n",
       "      <td>f58020</td>\n",
       "      <td>f58020</td>\n",
       "      <td>6cd3bf</td>\n",
       "      <td>b12039</td>\n",
       "    </tr>\n",
       "    <tr>\n",
       "      <th>FirstName</th>\n",
       "      <td>Max</td>\n",
       "      <td>Carlos</td>\n",
       "      <td>Mick</td>\n",
       "      <td>Lewis</td>\n",
       "      <td>Esteban</td>\n",
       "      <td>Guanyu</td>\n",
       "      <td>Alexander</td>\n",
       "      <td>Yuki</td>\n",
       "      <td>Kevin</td>\n",
       "      <td>Lance</td>\n",
       "      <td>Charles</td>\n",
       "      <td>Fernando</td>\n",
       "      <td>Sergio</td>\n",
       "      <td>Pierre</td>\n",
       "      <td>Nicholas</td>\n",
       "      <td>Sebastian</td>\n",
       "      <td>Lando</td>\n",
       "      <td>Daniel</td>\n",
       "      <td>George</td>\n",
       "      <td>Valtteri</td>\n",
       "    </tr>\n",
       "    <tr>\n",
       "      <th>LastName</th>\n",
       "      <td>Verstappen</td>\n",
       "      <td>Sainz</td>\n",
       "      <td>Schumacher</td>\n",
       "      <td>Hamilton</td>\n",
       "      <td>Ocon</td>\n",
       "      <td>Zhou</td>\n",
       "      <td>Albon</td>\n",
       "      <td>Tsunoda</td>\n",
       "      <td>Magnussen</td>\n",
       "      <td>Stroll</td>\n",
       "      <td>Leclerc</td>\n",
       "      <td>Alonso</td>\n",
       "      <td>Perez</td>\n",
       "      <td>Gasly</td>\n",
       "      <td>Latifi</td>\n",
       "      <td>Vettel</td>\n",
       "      <td>Norris</td>\n",
       "      <td>Ricciardo</td>\n",
       "      <td>Russell</td>\n",
       "      <td>Bottas</td>\n",
       "    </tr>\n",
       "    <tr>\n",
       "      <th>FullName</th>\n",
       "      <td>Max Verstappen</td>\n",
       "      <td>Carlos Sainz</td>\n",
       "      <td>Mick Schumacher</td>\n",
       "      <td>Lewis Hamilton</td>\n",
       "      <td>Esteban Ocon</td>\n",
       "      <td>Guanyu Zhou</td>\n",
       "      <td>Alexander Albon</td>\n",
       "      <td>Yuki Tsunoda</td>\n",
       "      <td>Kevin Magnussen</td>\n",
       "      <td>Lance Stroll</td>\n",
       "      <td>Charles Leclerc</td>\n",
       "      <td>Fernando Alonso</td>\n",
       "      <td>Sergio Perez</td>\n",
       "      <td>Pierre Gasly</td>\n",
       "      <td>Nicholas Latifi</td>\n",
       "      <td>Sebastian Vettel</td>\n",
       "      <td>Lando Norris</td>\n",
       "      <td>Daniel Ricciardo</td>\n",
       "      <td>George Russell</td>\n",
       "      <td>Valtteri Bottas</td>\n",
       "    </tr>\n",
       "    <tr>\n",
       "      <th>Position</th>\n",
       "      <td>0.0</td>\n",
       "      <td>0.0</td>\n",
       "      <td>0.0</td>\n",
       "      <td>0.0</td>\n",
       "      <td>0.0</td>\n",
       "      <td>0.0</td>\n",
       "      <td>0.0</td>\n",
       "      <td>0.0</td>\n",
       "      <td>0.0</td>\n",
       "      <td>0.0</td>\n",
       "      <td>0.0</td>\n",
       "      <td>0.0</td>\n",
       "      <td>0.0</td>\n",
       "      <td>0.0</td>\n",
       "      <td>0.0</td>\n",
       "      <td>0.0</td>\n",
       "      <td>0.0</td>\n",
       "      <td>0.0</td>\n",
       "      <td>0.0</td>\n",
       "      <td>0.0</td>\n",
       "    </tr>\n",
       "    <tr>\n",
       "      <th>GridPosition</th>\n",
       "      <td>0.0</td>\n",
       "      <td>0.0</td>\n",
       "      <td>0.0</td>\n",
       "      <td>0.0</td>\n",
       "      <td>0.0</td>\n",
       "      <td>0.0</td>\n",
       "      <td>0.0</td>\n",
       "      <td>0.0</td>\n",
       "      <td>0.0</td>\n",
       "      <td>0.0</td>\n",
       "      <td>0.0</td>\n",
       "      <td>0.0</td>\n",
       "      <td>0.0</td>\n",
       "      <td>0.0</td>\n",
       "      <td>0.0</td>\n",
       "      <td>0.0</td>\n",
       "      <td>0.0</td>\n",
       "      <td>0.0</td>\n",
       "      <td>0.0</td>\n",
       "      <td>0.0</td>\n",
       "    </tr>\n",
       "    <tr>\n",
       "      <th>Q1</th>\n",
       "      <td>NaT</td>\n",
       "      <td>NaT</td>\n",
       "      <td>NaT</td>\n",
       "      <td>NaT</td>\n",
       "      <td>NaT</td>\n",
       "      <td>NaT</td>\n",
       "      <td>NaT</td>\n",
       "      <td>NaT</td>\n",
       "      <td>NaT</td>\n",
       "      <td>NaT</td>\n",
       "      <td>NaT</td>\n",
       "      <td>NaT</td>\n",
       "      <td>NaT</td>\n",
       "      <td>NaT</td>\n",
       "      <td>NaT</td>\n",
       "      <td>NaT</td>\n",
       "      <td>NaT</td>\n",
       "      <td>NaT</td>\n",
       "      <td>NaT</td>\n",
       "      <td>NaT</td>\n",
       "    </tr>\n",
       "    <tr>\n",
       "      <th>Q2</th>\n",
       "      <td>NaT</td>\n",
       "      <td>NaT</td>\n",
       "      <td>NaT</td>\n",
       "      <td>NaT</td>\n",
       "      <td>NaT</td>\n",
       "      <td>NaT</td>\n",
       "      <td>NaT</td>\n",
       "      <td>NaT</td>\n",
       "      <td>NaT</td>\n",
       "      <td>NaT</td>\n",
       "      <td>NaT</td>\n",
       "      <td>NaT</td>\n",
       "      <td>NaT</td>\n",
       "      <td>NaT</td>\n",
       "      <td>NaT</td>\n",
       "      <td>NaT</td>\n",
       "      <td>NaT</td>\n",
       "      <td>NaT</td>\n",
       "      <td>NaT</td>\n",
       "      <td>NaT</td>\n",
       "    </tr>\n",
       "    <tr>\n",
       "      <th>Q3</th>\n",
       "      <td>NaT</td>\n",
       "      <td>NaT</td>\n",
       "      <td>NaT</td>\n",
       "      <td>NaT</td>\n",
       "      <td>NaT</td>\n",
       "      <td>NaT</td>\n",
       "      <td>NaT</td>\n",
       "      <td>NaT</td>\n",
       "      <td>NaT</td>\n",
       "      <td>NaT</td>\n",
       "      <td>NaT</td>\n",
       "      <td>NaT</td>\n",
       "      <td>NaT</td>\n",
       "      <td>NaT</td>\n",
       "      <td>NaT</td>\n",
       "      <td>NaT</td>\n",
       "      <td>NaT</td>\n",
       "      <td>NaT</td>\n",
       "      <td>NaT</td>\n",
       "      <td>NaT</td>\n",
       "    </tr>\n",
       "    <tr>\n",
       "      <th>Time</th>\n",
       "      <td>NaT</td>\n",
       "      <td>NaT</td>\n",
       "      <td>NaT</td>\n",
       "      <td>NaT</td>\n",
       "      <td>NaT</td>\n",
       "      <td>NaT</td>\n",
       "      <td>NaT</td>\n",
       "      <td>NaT</td>\n",
       "      <td>NaT</td>\n",
       "      <td>NaT</td>\n",
       "      <td>NaT</td>\n",
       "      <td>NaT</td>\n",
       "      <td>NaT</td>\n",
       "      <td>NaT</td>\n",
       "      <td>NaT</td>\n",
       "      <td>NaT</td>\n",
       "      <td>NaT</td>\n",
       "      <td>NaT</td>\n",
       "      <td>NaT</td>\n",
       "      <td>NaT</td>\n",
       "    </tr>\n",
       "    <tr>\n",
       "      <th>Status</th>\n",
       "      <td></td>\n",
       "      <td></td>\n",
       "      <td></td>\n",
       "      <td></td>\n",
       "      <td></td>\n",
       "      <td></td>\n",
       "      <td></td>\n",
       "      <td></td>\n",
       "      <td></td>\n",
       "      <td></td>\n",
       "      <td></td>\n",
       "      <td></td>\n",
       "      <td></td>\n",
       "      <td></td>\n",
       "      <td></td>\n",
       "      <td></td>\n",
       "      <td></td>\n",
       "      <td></td>\n",
       "      <td></td>\n",
       "      <td></td>\n",
       "    </tr>\n",
       "    <tr>\n",
       "      <th>Points</th>\n",
       "      <td>0.0</td>\n",
       "      <td>0.0</td>\n",
       "      <td>0.0</td>\n",
       "      <td>0.0</td>\n",
       "      <td>0.0</td>\n",
       "      <td>0.0</td>\n",
       "      <td>0.0</td>\n",
       "      <td>0.0</td>\n",
       "      <td>0.0</td>\n",
       "      <td>0.0</td>\n",
       "      <td>0.0</td>\n",
       "      <td>0.0</td>\n",
       "      <td>0.0</td>\n",
       "      <td>0.0</td>\n",
       "      <td>0.0</td>\n",
       "      <td>0.0</td>\n",
       "      <td>0.0</td>\n",
       "      <td>0.0</td>\n",
       "      <td>0.0</td>\n",
       "      <td>0.0</td>\n",
       "    </tr>\n",
       "  </tbody>\n",
       "</table></div>"
      ],
      "text/plain": [
       "                             1            55               47              44  \\\n",
       "DriverNumber                 1            55               47              44   \n",
       "BroadcastName     M VERSTAPPEN       C SAINZ     M SCHUMACHER      L HAMILTON   \n",
       "Abbreviation               VER           SAI              MSC             HAM   \n",
       "TeamName       Red Bull Racing       Ferrari     Haas F1 Team        Mercedes   \n",
       "TeamColor               1e5bc6        ed1c24           b6babd          6cd3bf   \n",
       "FirstName                  Max        Carlos             Mick           Lewis   \n",
       "LastName            Verstappen         Sainz       Schumacher        Hamilton   \n",
       "FullName        Max Verstappen  Carlos Sainz  Mick Schumacher  Lewis Hamilton   \n",
       "Position                   0.0           0.0              0.0             0.0   \n",
       "GridPosition               0.0           0.0              0.0             0.0   \n",
       "Q1                         NaT           NaT              NaT             NaT   \n",
       "Q2                         NaT           NaT              NaT             NaT   \n",
       "Q3                         NaT           NaT              NaT             NaT   \n",
       "Time                       NaT           NaT              NaT             NaT   \n",
       "Status                                                                          \n",
       "Points                     0.0           0.0              0.0             0.0   \n",
       "\n",
       "                         31           24               23            22  \\\n",
       "DriverNumber             31           24               23            22   \n",
       "BroadcastName        E OCON       G ZHOU          A ALBON     Y TSUNODA   \n",
       "Abbreviation            OCO          ZHO              ALB           TSU   \n",
       "TeamName             Alpine   Alfa Romeo         Williams    AlphaTauri   \n",
       "TeamColor            2293d1       b12039           37bedd        4e7c9b   \n",
       "FirstName           Esteban       Guanyu        Alexander          Yuki   \n",
       "LastName               Ocon         Zhou            Albon       Tsunoda   \n",
       "FullName       Esteban Ocon  Guanyu Zhou  Alexander Albon  Yuki Tsunoda   \n",
       "Position                0.0          0.0              0.0           0.0   \n",
       "GridPosition            0.0          0.0              0.0           0.0   \n",
       "Q1                      NaT          NaT              NaT           NaT   \n",
       "Q2                      NaT          NaT              NaT           NaT   \n",
       "Q3                      NaT          NaT              NaT           NaT   \n",
       "Time                    NaT          NaT              NaT           NaT   \n",
       "Status                                                                    \n",
       "Points                  0.0          0.0              0.0           0.0   \n",
       "\n",
       "                            20            18               16  \\\n",
       "DriverNumber                20            18               16   \n",
       "BroadcastName      K MAGNUSSEN      L STROLL        C LECLERC   \n",
       "Abbreviation               MAG           STR              LEC   \n",
       "TeamName          Haas F1 Team  Aston Martin          Ferrari   \n",
       "TeamColor               b6babd        2d826d           ed1c24   \n",
       "FirstName                Kevin         Lance          Charles   \n",
       "LastName             Magnussen        Stroll          Leclerc   \n",
       "FullName       Kevin Magnussen  Lance Stroll  Charles Leclerc   \n",
       "Position                   0.0           0.0              0.0   \n",
       "GridPosition               0.0           0.0              0.0   \n",
       "Q1                         NaT           NaT              NaT   \n",
       "Q2                         NaT           NaT              NaT   \n",
       "Q3                         NaT           NaT              NaT   \n",
       "Time                       NaT           NaT              NaT   \n",
       "Status                                                          \n",
       "Points                     0.0           0.0              0.0   \n",
       "\n",
       "                            14               11            10  \\\n",
       "DriverNumber                14               11            10   \n",
       "BroadcastName         F ALONSO          S PEREZ       P GASLY   \n",
       "Abbreviation               ALO              PER           GAS   \n",
       "TeamName                Alpine  Red Bull Racing    AlphaTauri   \n",
       "TeamColor               2293d1           1e5bc6        4e7c9b   \n",
       "FirstName             Fernando           Sergio        Pierre   \n",
       "LastName                Alonso            Perez         Gasly   \n",
       "FullName       Fernando Alonso     Sergio Perez  Pierre Gasly   \n",
       "Position                   0.0              0.0           0.0   \n",
       "GridPosition               0.0              0.0           0.0   \n",
       "Q1                         NaT              NaT           NaT   \n",
       "Q2                         NaT              NaT           NaT   \n",
       "Q3                         NaT              NaT           NaT   \n",
       "Time                       NaT              NaT           NaT   \n",
       "Status                                                          \n",
       "Points                     0.0              0.0           0.0   \n",
       "\n",
       "                             6                 5             4  \\\n",
       "DriverNumber                 6                 5             4   \n",
       "BroadcastName         N LATIFI          S VETTEL      L NORRIS   \n",
       "Abbreviation               LAT               VET           NOR   \n",
       "TeamName              Williams      Aston Martin       McLaren   \n",
       "TeamColor               37bedd            2d826d        f58020   \n",
       "FirstName             Nicholas         Sebastian         Lando   \n",
       "LastName                Latifi            Vettel        Norris   \n",
       "FullName       Nicholas Latifi  Sebastian Vettel  Lando Norris   \n",
       "Position                   0.0               0.0           0.0   \n",
       "GridPosition               0.0               0.0           0.0   \n",
       "Q1                         NaT               NaT           NaT   \n",
       "Q2                         NaT               NaT           NaT   \n",
       "Q3                         NaT               NaT           NaT   \n",
       "Time                       NaT               NaT           NaT   \n",
       "Status                                                           \n",
       "Points                     0.0               0.0           0.0   \n",
       "\n",
       "                              3              63               77  \n",
       "DriverNumber                  3              63               77  \n",
       "BroadcastName       D RICCIARDO       G RUSSELL         V BOTTAS  \n",
       "Abbreviation                RIC             RUS              BOT  \n",
       "TeamName                McLaren        Mercedes       Alfa Romeo  \n",
       "TeamColor                f58020          6cd3bf           b12039  \n",
       "FirstName                Daniel          George         Valtteri  \n",
       "LastName              Ricciardo         Russell           Bottas  \n",
       "FullName       Daniel Ricciardo  George Russell  Valtteri Bottas  \n",
       "Position                    0.0             0.0              0.0  \n",
       "GridPosition                0.0             0.0              0.0  \n",
       "Q1                          NaT             NaT              NaT  \n",
       "Q2                          NaT             NaT              NaT  \n",
       "Q3                          NaT             NaT              NaT  \n",
       "Time                        NaT             NaT              NaT  \n",
       "Status                                                            \n",
       "Points                      0.0             0.0              0.0  "
      ]
     },
     "execution_count": 16,
     "metadata": {},
     "output_type": "execute_result"
    }
   ],
   "source": [
    "fp1.results.T"
   ]
  },
  {
   "cell_type": "code",
   "execution_count": 17,
   "metadata": {},
   "outputs": [
    {
     "data": {
      "text/plain": [
       "'#dc0000'"
      ]
     },
     "execution_count": 17,
     "metadata": {},
     "output_type": "execute_result"
    }
   ],
   "source": [
    "ff1.plotting.driver_color('charles leclerc')"
   ]
  },
  {
   "cell_type": "code",
   "execution_count": 18,
   "metadata": {},
   "outputs": [
    {
     "data": {
      "text/html": [
       "<div><div id=90544c9e-02cc-4adf-b72e-af0a3e3ecbf6 style=\"display:none; background-color:#9D6CFF; color:white; width:200px; height:30px; padding-left:5px; border-radius:4px; flex-direction:row; justify-content:space-around; align-items:center;\" onmouseover=\"this.style.backgroundColor='#BA9BF8'\" onmouseout=\"this.style.backgroundColor='#9D6CFF'\" onclick=\"window.commands?.execute('create-mitosheet-from-dataframe-output');\">See Full Dataframe in Mito</div> <script> if (window.commands.hasCommand('create-mitosheet-from-dataframe-output')) document.getElementById('90544c9e-02cc-4adf-b72e-af0a3e3ecbf6').style.display = 'flex' </script> <table border=\"1\" class=\"dataframe\">\n",
       "  <thead>\n",
       "    <tr style=\"text-align: right;\">\n",
       "      <th></th>\n",
       "      <th>2</th>\n",
       "      <th>3</th>\n",
       "      <th>4</th>\n",
       "      <th>5</th>\n",
       "      <th>6</th>\n",
       "      <th>7</th>\n",
       "      <th>8</th>\n",
       "      <th>9</th>\n",
       "      <th>10</th>\n",
       "      <th>11</th>\n",
       "      <th>...</th>\n",
       "      <th>689</th>\n",
       "      <th>690</th>\n",
       "      <th>691</th>\n",
       "      <th>692</th>\n",
       "      <th>693</th>\n",
       "      <th>694</th>\n",
       "      <th>695</th>\n",
       "      <th>696</th>\n",
       "      <th>697</th>\n",
       "      <th>698</th>\n",
       "    </tr>\n",
       "  </thead>\n",
       "  <tbody>\n",
       "    <tr>\n",
       "      <th>Date</th>\n",
       "      <td>2022-05-06 19:25:23.985000</td>\n",
       "      <td>2022-05-06 19:25:24.086000</td>\n",
       "      <td>2022-05-06 19:25:24.167000</td>\n",
       "      <td>2022-05-06 19:25:24.326000</td>\n",
       "      <td>2022-05-06 19:25:24.366000</td>\n",
       "      <td>2022-05-06 19:25:24.546000</td>\n",
       "      <td>2022-05-06 19:25:24.706000</td>\n",
       "      <td>2022-05-06 19:25:24.726000</td>\n",
       "      <td>2022-05-06 19:25:24.926000</td>\n",
       "      <td>2022-05-06 19:25:24.986000</td>\n",
       "      <td>...</td>\n",
       "      <td>2022-05-06 19:26:53.846000</td>\n",
       "      <td>2022-05-06 19:26:54.007000</td>\n",
       "      <td>2022-05-06 19:26:54.086000</td>\n",
       "      <td>2022-05-06 19:26:54.247000</td>\n",
       "      <td>2022-05-06 19:26:54.446000</td>\n",
       "      <td>2022-05-06 19:26:54.507000</td>\n",
       "      <td>2022-05-06 19:26:54.607000</td>\n",
       "      <td>2022-05-06 19:26:54.846000</td>\n",
       "      <td>2022-05-06 19:26:54.887000</td>\n",
       "      <td>2022-05-06 19:26:55.083000</td>\n",
       "    </tr>\n",
       "    <tr>\n",
       "      <th>SessionTime</th>\n",
       "      <td>0 days 01:10:23.810000</td>\n",
       "      <td>0 days 01:10:23.911000</td>\n",
       "      <td>0 days 01:10:23.992000</td>\n",
       "      <td>0 days 01:10:24.151000</td>\n",
       "      <td>0 days 01:10:24.191000</td>\n",
       "      <td>0 days 01:10:24.371000</td>\n",
       "      <td>0 days 01:10:24.531000</td>\n",
       "      <td>0 days 01:10:24.551000</td>\n",
       "      <td>0 days 01:10:24.751000</td>\n",
       "      <td>0 days 01:10:24.811000</td>\n",
       "      <td>...</td>\n",
       "      <td>0 days 01:11:53.671000</td>\n",
       "      <td>0 days 01:11:53.832000</td>\n",
       "      <td>0 days 01:11:53.911000</td>\n",
       "      <td>0 days 01:11:54.072000</td>\n",
       "      <td>0 days 01:11:54.271000</td>\n",
       "      <td>0 days 01:11:54.332000</td>\n",
       "      <td>0 days 01:11:54.432000</td>\n",
       "      <td>0 days 01:11:54.671000</td>\n",
       "      <td>0 days 01:11:54.712000</td>\n",
       "      <td>0 days 01:11:54.908000</td>\n",
       "    </tr>\n",
       "    <tr>\n",
       "      <th>DriverAhead</th>\n",
       "      <td></td>\n",
       "      <td></td>\n",
       "      <td></td>\n",
       "      <td></td>\n",
       "      <td>14</td>\n",
       "      <td>14</td>\n",
       "      <td>14</td>\n",
       "      <td>14</td>\n",
       "      <td>14</td>\n",
       "      <td>14</td>\n",
       "      <td>...</td>\n",
       "      <td>14</td>\n",
       "      <td>14</td>\n",
       "      <td>14</td>\n",
       "      <td>14</td>\n",
       "      <td>14</td>\n",
       "      <td>14</td>\n",
       "      <td>14</td>\n",
       "      <td>14</td>\n",
       "      <td>14</td>\n",
       "      <td>14</td>\n",
       "    </tr>\n",
       "    <tr>\n",
       "      <th>DistanceToDriverAhead</th>\n",
       "      <td>1581.635556</td>\n",
       "      <td>1581.635556</td>\n",
       "      <td>1581.635556</td>\n",
       "      <td>1581.635556</td>\n",
       "      <td>1581.635556</td>\n",
       "      <td>1575.835556</td>\n",
       "      <td>1570.035556</td>\n",
       "      <td>1564.235556</td>\n",
       "      <td>1554.624444</td>\n",
       "      <td>1549.735556</td>\n",
       "      <td>...</td>\n",
       "      <td>1343.639167</td>\n",
       "      <td>1341.205833</td>\n",
       "      <td>1338.7725</td>\n",
       "      <td>1334.4725</td>\n",
       "      <td>1330.1725</td>\n",
       "      <td>1328.227083</td>\n",
       "      <td>1326.281667</td>\n",
       "      <td>1320.240278</td>\n",
       "      <td>1320.240278</td>\n",
       "      <td>1320.240278</td>\n",
       "    </tr>\n",
       "    <tr>\n",
       "      <th>Time</th>\n",
       "      <td>0 days 00:00:00</td>\n",
       "      <td>0 days 00:00:00.101000</td>\n",
       "      <td>0 days 00:00:00.182000</td>\n",
       "      <td>0 days 00:00:00.341000</td>\n",
       "      <td>0 days 00:00:00.381000</td>\n",
       "      <td>0 days 00:00:00.561000</td>\n",
       "      <td>0 days 00:00:00.721000</td>\n",
       "      <td>0 days 00:00:00.741000</td>\n",
       "      <td>0 days 00:00:00.941000</td>\n",
       "      <td>0 days 00:00:01.001000</td>\n",
       "      <td>...</td>\n",
       "      <td>0 days 00:01:29.861000</td>\n",
       "      <td>0 days 00:01:30.022000</td>\n",
       "      <td>0 days 00:01:30.101000</td>\n",
       "      <td>0 days 00:01:30.262000</td>\n",
       "      <td>0 days 00:01:30.461000</td>\n",
       "      <td>0 days 00:01:30.522000</td>\n",
       "      <td>0 days 00:01:30.622000</td>\n",
       "      <td>0 days 00:01:30.861000</td>\n",
       "      <td>0 days 00:01:30.902000</td>\n",
       "      <td>0 days 00:01:31.098000</td>\n",
       "    </tr>\n",
       "    <tr>\n",
       "      <th>RPM</th>\n",
       "      <td>11418</td>\n",
       "      <td>11446</td>\n",
       "      <td>11491</td>\n",
       "      <td>11536</td>\n",
       "      <td>11582</td>\n",
       "      <td>11619</td>\n",
       "      <td>11656</td>\n",
       "      <td>11694</td>\n",
       "      <td>10434</td>\n",
       "      <td>10386</td>\n",
       "      <td>...</td>\n",
       "      <td>10951</td>\n",
       "      <td>11023</td>\n",
       "      <td>11096</td>\n",
       "      <td>11140</td>\n",
       "      <td>11185</td>\n",
       "      <td>11226</td>\n",
       "      <td>11267</td>\n",
       "      <td>11386</td>\n",
       "      <td>11432</td>\n",
       "      <td>11455</td>\n",
       "    </tr>\n",
       "    <tr>\n",
       "      <th>Speed</th>\n",
       "      <td>284</td>\n",
       "      <td>285</td>\n",
       "      <td>285</td>\n",
       "      <td>286</td>\n",
       "      <td>287</td>\n",
       "      <td>288</td>\n",
       "      <td>290</td>\n",
       "      <td>292</td>\n",
       "      <td>293</td>\n",
       "      <td>294</td>\n",
       "      <td>...</td>\n",
       "      <td>270</td>\n",
       "      <td>271</td>\n",
       "      <td>272</td>\n",
       "      <td>274</td>\n",
       "      <td>277</td>\n",
       "      <td>278</td>\n",
       "      <td>279</td>\n",
       "      <td>282</td>\n",
       "      <td>283</td>\n",
       "      <td>283</td>\n",
       "    </tr>\n",
       "    <tr>\n",
       "      <th>nGear</th>\n",
       "      <td>7</td>\n",
       "      <td>7</td>\n",
       "      <td>7</td>\n",
       "      <td>7</td>\n",
       "      <td>7</td>\n",
       "      <td>7</td>\n",
       "      <td>7</td>\n",
       "      <td>7</td>\n",
       "      <td>8</td>\n",
       "      <td>8</td>\n",
       "      <td>...</td>\n",
       "      <td>7</td>\n",
       "      <td>7</td>\n",
       "      <td>7</td>\n",
       "      <td>7</td>\n",
       "      <td>7</td>\n",
       "      <td>7</td>\n",
       "      <td>7</td>\n",
       "      <td>7</td>\n",
       "      <td>7</td>\n",
       "      <td>7</td>\n",
       "    </tr>\n",
       "    <tr>\n",
       "      <th>Throttle</th>\n",
       "      <td>99</td>\n",
       "      <td>99</td>\n",
       "      <td>99</td>\n",
       "      <td>99</td>\n",
       "      <td>99</td>\n",
       "      <td>99</td>\n",
       "      <td>99</td>\n",
       "      <td>99</td>\n",
       "      <td>99</td>\n",
       "      <td>99</td>\n",
       "      <td>...</td>\n",
       "      <td>100</td>\n",
       "      <td>99</td>\n",
       "      <td>99</td>\n",
       "      <td>99</td>\n",
       "      <td>100</td>\n",
       "      <td>99</td>\n",
       "      <td>99</td>\n",
       "      <td>99</td>\n",
       "      <td>99</td>\n",
       "      <td>99</td>\n",
       "    </tr>\n",
       "    <tr>\n",
       "      <th>Brake</th>\n",
       "      <td>False</td>\n",
       "      <td>False</td>\n",
       "      <td>False</td>\n",
       "      <td>False</td>\n",
       "      <td>False</td>\n",
       "      <td>False</td>\n",
       "      <td>False</td>\n",
       "      <td>False</td>\n",
       "      <td>False</td>\n",
       "      <td>False</td>\n",
       "      <td>...</td>\n",
       "      <td>False</td>\n",
       "      <td>False</td>\n",
       "      <td>False</td>\n",
       "      <td>False</td>\n",
       "      <td>False</td>\n",
       "      <td>False</td>\n",
       "      <td>False</td>\n",
       "      <td>False</td>\n",
       "      <td>False</td>\n",
       "      <td>False</td>\n",
       "    </tr>\n",
       "    <tr>\n",
       "      <th>DRS</th>\n",
       "      <td>12</td>\n",
       "      <td>12</td>\n",
       "      <td>12</td>\n",
       "      <td>12</td>\n",
       "      <td>12</td>\n",
       "      <td>12</td>\n",
       "      <td>12</td>\n",
       "      <td>12</td>\n",
       "      <td>12</td>\n",
       "      <td>12</td>\n",
       "      <td>...</td>\n",
       "      <td>12</td>\n",
       "      <td>12</td>\n",
       "      <td>12</td>\n",
       "      <td>12</td>\n",
       "      <td>12</td>\n",
       "      <td>12</td>\n",
       "      <td>12</td>\n",
       "      <td>12</td>\n",
       "      <td>12</td>\n",
       "      <td>12</td>\n",
       "    </tr>\n",
       "    <tr>\n",
       "      <th>Source</th>\n",
       "      <td>interpolation</td>\n",
       "      <td>car</td>\n",
       "      <td>pos</td>\n",
       "      <td>pos</td>\n",
       "      <td>car</td>\n",
       "      <td>pos</td>\n",
       "      <td>pos</td>\n",
       "      <td>car</td>\n",
       "      <td>car</td>\n",
       "      <td>pos</td>\n",
       "      <td>...</td>\n",
       "      <td>car</td>\n",
       "      <td>pos</td>\n",
       "      <td>car</td>\n",
       "      <td>pos</td>\n",
       "      <td>car</td>\n",
       "      <td>pos</td>\n",
       "      <td>car</td>\n",
       "      <td>car</td>\n",
       "      <td>pos</td>\n",
       "      <td>interpolation</td>\n",
       "    </tr>\n",
       "    <tr>\n",
       "      <th>Distance</th>\n",
       "      <td>0.046327</td>\n",
       "      <td>8.050833</td>\n",
       "      <td>14.483235</td>\n",
       "      <td>27.162584</td>\n",
       "      <td>30.373056</td>\n",
       "      <td>44.931584</td>\n",
       "      <td>57.947023</td>\n",
       "      <td>59.573056</td>\n",
       "      <td>75.850833</td>\n",
       "      <td>80.766566</td>\n",
       "      <td>...</td>\n",
       "      <td>5234.649722</td>\n",
       "      <td>5246.789567</td>\n",
       "      <td>5252.783056</td>\n",
       "      <td>5265.111928</td>\n",
       "      <td>5280.483056</td>\n",
       "      <td>5285.203023</td>\n",
       "      <td>5292.960556</td>\n",
       "      <td>5311.682222</td>\n",
       "      <td>5314.91716</td>\n",
       "      <td>5330.472238</td>\n",
       "    </tr>\n",
       "    <tr>\n",
       "      <th>RelativeDistance</th>\n",
       "      <td>0.000009</td>\n",
       "      <td>0.001508</td>\n",
       "      <td>0.002714</td>\n",
       "      <td>0.005089</td>\n",
       "      <td>0.005691</td>\n",
       "      <td>0.008419</td>\n",
       "      <td>0.010857</td>\n",
       "      <td>0.011162</td>\n",
       "      <td>0.014212</td>\n",
       "      <td>0.015133</td>\n",
       "      <td>...</td>\n",
       "      <td>0.980803</td>\n",
       "      <td>0.983078</td>\n",
       "      <td>0.984201</td>\n",
       "      <td>0.986511</td>\n",
       "      <td>0.989391</td>\n",
       "      <td>0.990275</td>\n",
       "      <td>0.991729</td>\n",
       "      <td>0.995237</td>\n",
       "      <td>0.995843</td>\n",
       "      <td>0.998757</td>\n",
       "    </tr>\n",
       "    <tr>\n",
       "      <th>Status</th>\n",
       "      <td>OnTrack</td>\n",
       "      <td>OnTrack</td>\n",
       "      <td>OnTrack</td>\n",
       "      <td>OnTrack</td>\n",
       "      <td>OnTrack</td>\n",
       "      <td>OnTrack</td>\n",
       "      <td>OnTrack</td>\n",
       "      <td>OnTrack</td>\n",
       "      <td>OnTrack</td>\n",
       "      <td>OnTrack</td>\n",
       "      <td>...</td>\n",
       "      <td>OnTrack</td>\n",
       "      <td>OnTrack</td>\n",
       "      <td>OnTrack</td>\n",
       "      <td>OnTrack</td>\n",
       "      <td>OnTrack</td>\n",
       "      <td>OnTrack</td>\n",
       "      <td>OnTrack</td>\n",
       "      <td>OnTrack</td>\n",
       "      <td>OnTrack</td>\n",
       "      <td>OnTrack</td>\n",
       "    </tr>\n",
       "    <tr>\n",
       "      <th>X</th>\n",
       "      <td>1833</td>\n",
       "      <td>1901</td>\n",
       "      <td>1956</td>\n",
       "      <td>2064</td>\n",
       "      <td>2092</td>\n",
       "      <td>2226</td>\n",
       "      <td>2336</td>\n",
       "      <td>2348</td>\n",
       "      <td>2477</td>\n",
       "      <td>2529</td>\n",
       "      <td>...</td>\n",
       "      <td>928</td>\n",
       "      <td>1053</td>\n",
       "      <td>1105</td>\n",
       "      <td>1223</td>\n",
       "      <td>1470</td>\n",
       "      <td>1535</td>\n",
       "      <td>1610</td>\n",
       "      <td>1695</td>\n",
       "      <td>1715</td>\n",
       "      <td>1846</td>\n",
       "    </tr>\n",
       "    <tr>\n",
       "      <th>Y</th>\n",
       "      <td>128</td>\n",
       "      <td>86</td>\n",
       "      <td>53</td>\n",
       "      <td>-14</td>\n",
       "      <td>-31</td>\n",
       "      <td>-116</td>\n",
       "      <td>-185</td>\n",
       "      <td>-193</td>\n",
       "      <td>-274</td>\n",
       "      <td>-307</td>\n",
       "      <td>...</td>\n",
       "      <td>544</td>\n",
       "      <td>503</td>\n",
       "      <td>481</td>\n",
       "      <td>430</td>\n",
       "      <td>334</td>\n",
       "      <td>309</td>\n",
       "      <td>275</td>\n",
       "      <td>220</td>\n",
       "      <td>207</td>\n",
       "      <td>123</td>\n",
       "    </tr>\n",
       "    <tr>\n",
       "      <th>Z</th>\n",
       "      <td>248</td>\n",
       "      <td>249</td>\n",
       "      <td>250</td>\n",
       "      <td>250</td>\n",
       "      <td>250</td>\n",
       "      <td>251</td>\n",
       "      <td>251</td>\n",
       "      <td>250</td>\n",
       "      <td>251</td>\n",
       "      <td>251</td>\n",
       "      <td>...</td>\n",
       "      <td>244</td>\n",
       "      <td>245</td>\n",
       "      <td>245</td>\n",
       "      <td>246</td>\n",
       "      <td>248</td>\n",
       "      <td>249</td>\n",
       "      <td>249</td>\n",
       "      <td>248</td>\n",
       "      <td>249</td>\n",
       "      <td>250</td>\n",
       "    </tr>\n",
       "  </tbody>\n",
       "</table></div>"
      ],
      "text/plain": [
       "                                              2                           3    \\\n",
       "Date                   2022-05-06 19:25:23.985000  2022-05-06 19:25:24.086000   \n",
       "SessionTime                0 days 01:10:23.810000      0 days 01:10:23.911000   \n",
       "DriverAhead                                                                     \n",
       "DistanceToDriverAhead                 1581.635556                 1581.635556   \n",
       "Time                              0 days 00:00:00      0 days 00:00:00.101000   \n",
       "RPM                                         11418                       11446   \n",
       "Speed                                         284                         285   \n",
       "nGear                                           7                           7   \n",
       "Throttle                                       99                          99   \n",
       "Brake                                       False                       False   \n",
       "DRS                                            12                          12   \n",
       "Source                              interpolation                         car   \n",
       "Distance                                 0.046327                    8.050833   \n",
       "RelativeDistance                         0.000009                    0.001508   \n",
       "Status                                    OnTrack                     OnTrack   \n",
       "X                                            1833                        1901   \n",
       "Y                                             128                          86   \n",
       "Z                                             248                         249   \n",
       "\n",
       "                                              4                           5    \\\n",
       "Date                   2022-05-06 19:25:24.167000  2022-05-06 19:25:24.326000   \n",
       "SessionTime                0 days 01:10:23.992000      0 days 01:10:24.151000   \n",
       "DriverAhead                                                                     \n",
       "DistanceToDriverAhead                 1581.635556                 1581.635556   \n",
       "Time                       0 days 00:00:00.182000      0 days 00:00:00.341000   \n",
       "RPM                                         11491                       11536   \n",
       "Speed                                         285                         286   \n",
       "nGear                                           7                           7   \n",
       "Throttle                                       99                          99   \n",
       "Brake                                       False                       False   \n",
       "DRS                                            12                          12   \n",
       "Source                                        pos                         pos   \n",
       "Distance                                14.483235                   27.162584   \n",
       "RelativeDistance                         0.002714                    0.005089   \n",
       "Status                                    OnTrack                     OnTrack   \n",
       "X                                            1956                        2064   \n",
       "Y                                              53                         -14   \n",
       "Z                                             250                         250   \n",
       "\n",
       "                                              6                           7    \\\n",
       "Date                   2022-05-06 19:25:24.366000  2022-05-06 19:25:24.546000   \n",
       "SessionTime                0 days 01:10:24.191000      0 days 01:10:24.371000   \n",
       "DriverAhead                                    14                          14   \n",
       "DistanceToDriverAhead                 1581.635556                 1575.835556   \n",
       "Time                       0 days 00:00:00.381000      0 days 00:00:00.561000   \n",
       "RPM                                         11582                       11619   \n",
       "Speed                                         287                         288   \n",
       "nGear                                           7                           7   \n",
       "Throttle                                       99                          99   \n",
       "Brake                                       False                       False   \n",
       "DRS                                            12                          12   \n",
       "Source                                        car                         pos   \n",
       "Distance                                30.373056                   44.931584   \n",
       "RelativeDistance                         0.005691                    0.008419   \n",
       "Status                                    OnTrack                     OnTrack   \n",
       "X                                            2092                        2226   \n",
       "Y                                             -31                        -116   \n",
       "Z                                             250                         251   \n",
       "\n",
       "                                              8                           9    \\\n",
       "Date                   2022-05-06 19:25:24.706000  2022-05-06 19:25:24.726000   \n",
       "SessionTime                0 days 01:10:24.531000      0 days 01:10:24.551000   \n",
       "DriverAhead                                    14                          14   \n",
       "DistanceToDriverAhead                 1570.035556                 1564.235556   \n",
       "Time                       0 days 00:00:00.721000      0 days 00:00:00.741000   \n",
       "RPM                                         11656                       11694   \n",
       "Speed                                         290                         292   \n",
       "nGear                                           7                           7   \n",
       "Throttle                                       99                          99   \n",
       "Brake                                       False                       False   \n",
       "DRS                                            12                          12   \n",
       "Source                                        pos                         car   \n",
       "Distance                                57.947023                   59.573056   \n",
       "RelativeDistance                         0.010857                    0.011162   \n",
       "Status                                    OnTrack                     OnTrack   \n",
       "X                                            2336                        2348   \n",
       "Y                                            -185                        -193   \n",
       "Z                                             251                         250   \n",
       "\n",
       "                                              10                          11   \\\n",
       "Date                   2022-05-06 19:25:24.926000  2022-05-06 19:25:24.986000   \n",
       "SessionTime                0 days 01:10:24.751000      0 days 01:10:24.811000   \n",
       "DriverAhead                                    14                          14   \n",
       "DistanceToDriverAhead                 1554.624444                 1549.735556   \n",
       "Time                       0 days 00:00:00.941000      0 days 00:00:01.001000   \n",
       "RPM                                         10434                       10386   \n",
       "Speed                                         293                         294   \n",
       "nGear                                           8                           8   \n",
       "Throttle                                       99                          99   \n",
       "Brake                                       False                       False   \n",
       "DRS                                            12                          12   \n",
       "Source                                        car                         pos   \n",
       "Distance                                75.850833                   80.766566   \n",
       "RelativeDistance                         0.014212                    0.015133   \n",
       "Status                                    OnTrack                     OnTrack   \n",
       "X                                            2477                        2529   \n",
       "Y                                            -274                        -307   \n",
       "Z                                             251                         251   \n",
       "\n",
       "                       ...                         689  \\\n",
       "Date                   ...  2022-05-06 19:26:53.846000   \n",
       "SessionTime            ...      0 days 01:11:53.671000   \n",
       "DriverAhead            ...                          14   \n",
       "DistanceToDriverAhead  ...                 1343.639167   \n",
       "Time                   ...      0 days 00:01:29.861000   \n",
       "RPM                    ...                       10951   \n",
       "Speed                  ...                         270   \n",
       "nGear                  ...                           7   \n",
       "Throttle               ...                         100   \n",
       "Brake                  ...                       False   \n",
       "DRS                    ...                          12   \n",
       "Source                 ...                         car   \n",
       "Distance               ...                 5234.649722   \n",
       "RelativeDistance       ...                    0.980803   \n",
       "Status                 ...                     OnTrack   \n",
       "X                      ...                         928   \n",
       "Y                      ...                         544   \n",
       "Z                      ...                         244   \n",
       "\n",
       "                                              690                         691  \\\n",
       "Date                   2022-05-06 19:26:54.007000  2022-05-06 19:26:54.086000   \n",
       "SessionTime                0 days 01:11:53.832000      0 days 01:11:53.911000   \n",
       "DriverAhead                                    14                          14   \n",
       "DistanceToDriverAhead                 1341.205833                   1338.7725   \n",
       "Time                       0 days 00:01:30.022000      0 days 00:01:30.101000   \n",
       "RPM                                         11023                       11096   \n",
       "Speed                                         271                         272   \n",
       "nGear                                           7                           7   \n",
       "Throttle                                       99                          99   \n",
       "Brake                                       False                       False   \n",
       "DRS                                            12                          12   \n",
       "Source                                        pos                         car   \n",
       "Distance                              5246.789567                 5252.783056   \n",
       "RelativeDistance                         0.983078                    0.984201   \n",
       "Status                                    OnTrack                     OnTrack   \n",
       "X                                            1053                        1105   \n",
       "Y                                             503                         481   \n",
       "Z                                             245                         245   \n",
       "\n",
       "                                              692                         693  \\\n",
       "Date                   2022-05-06 19:26:54.247000  2022-05-06 19:26:54.446000   \n",
       "SessionTime                0 days 01:11:54.072000      0 days 01:11:54.271000   \n",
       "DriverAhead                                    14                          14   \n",
       "DistanceToDriverAhead                   1334.4725                   1330.1725   \n",
       "Time                       0 days 00:01:30.262000      0 days 00:01:30.461000   \n",
       "RPM                                         11140                       11185   \n",
       "Speed                                         274                         277   \n",
       "nGear                                           7                           7   \n",
       "Throttle                                       99                         100   \n",
       "Brake                                       False                       False   \n",
       "DRS                                            12                          12   \n",
       "Source                                        pos                         car   \n",
       "Distance                              5265.111928                 5280.483056   \n",
       "RelativeDistance                         0.986511                    0.989391   \n",
       "Status                                    OnTrack                     OnTrack   \n",
       "X                                            1223                        1470   \n",
       "Y                                             430                         334   \n",
       "Z                                             246                         248   \n",
       "\n",
       "                                              694                         695  \\\n",
       "Date                   2022-05-06 19:26:54.507000  2022-05-06 19:26:54.607000   \n",
       "SessionTime                0 days 01:11:54.332000      0 days 01:11:54.432000   \n",
       "DriverAhead                                    14                          14   \n",
       "DistanceToDriverAhead                 1328.227083                 1326.281667   \n",
       "Time                       0 days 00:01:30.522000      0 days 00:01:30.622000   \n",
       "RPM                                         11226                       11267   \n",
       "Speed                                         278                         279   \n",
       "nGear                                           7                           7   \n",
       "Throttle                                       99                          99   \n",
       "Brake                                       False                       False   \n",
       "DRS                                            12                          12   \n",
       "Source                                        pos                         car   \n",
       "Distance                              5285.203023                 5292.960556   \n",
       "RelativeDistance                         0.990275                    0.991729   \n",
       "Status                                    OnTrack                     OnTrack   \n",
       "X                                            1535                        1610   \n",
       "Y                                             309                         275   \n",
       "Z                                             249                         249   \n",
       "\n",
       "                                              696                         697  \\\n",
       "Date                   2022-05-06 19:26:54.846000  2022-05-06 19:26:54.887000   \n",
       "SessionTime                0 days 01:11:54.671000      0 days 01:11:54.712000   \n",
       "DriverAhead                                    14                          14   \n",
       "DistanceToDriverAhead                 1320.240278                 1320.240278   \n",
       "Time                       0 days 00:01:30.861000      0 days 00:01:30.902000   \n",
       "RPM                                         11386                       11432   \n",
       "Speed                                         282                         283   \n",
       "nGear                                           7                           7   \n",
       "Throttle                                       99                          99   \n",
       "Brake                                       False                       False   \n",
       "DRS                                            12                          12   \n",
       "Source                                        car                         pos   \n",
       "Distance                              5311.682222                  5314.91716   \n",
       "RelativeDistance                         0.995237                    0.995843   \n",
       "Status                                    OnTrack                     OnTrack   \n",
       "X                                            1695                        1715   \n",
       "Y                                             220                         207   \n",
       "Z                                             248                         249   \n",
       "\n",
       "                                              698  \n",
       "Date                   2022-05-06 19:26:55.083000  \n",
       "SessionTime                0 days 01:11:54.908000  \n",
       "DriverAhead                                    14  \n",
       "DistanceToDriverAhead                 1320.240278  \n",
       "Time                       0 days 00:01:31.098000  \n",
       "RPM                                         11455  \n",
       "Speed                                         283  \n",
       "nGear                                           7  \n",
       "Throttle                                       99  \n",
       "Brake                                       False  \n",
       "DRS                                            12  \n",
       "Source                              interpolation  \n",
       "Distance                              5330.472238  \n",
       "RelativeDistance                         0.998757  \n",
       "Status                                    OnTrack  \n",
       "X                                            1846  \n",
       "Y                                             123  \n",
       "Z                                             250  \n",
       "\n",
       "[18 rows x 697 columns]"
      ]
     },
     "execution_count": 18,
     "metadata": {},
     "output_type": "execute_result"
    }
   ],
   "source": [
    "fastest_lap = fp1.laps.pick_fastest()\n",
    "tel = fastest_lap.telemetry\n",
    "tel.T"
   ]
  },
  {
   "cell_type": "code",
   "execution_count": 19,
   "metadata": {},
   "outputs": [],
   "source": [
    "import plotly_express as px\n",
    "import plotly.graph_objects as go"
   ]
  },
  {
   "cell_type": "code",
   "execution_count": 20,
   "metadata": {},
   "outputs": [
    {
     "data": {
      "application/vnd.plotly.v1+json": {
       "config": {
        "plotlyServerURL": "https://plot.ly"
       },
       "data": [
        {
         "hovertemplate": "X=%{x}<br>Y=%{y}<extra></extra>",
         "legendgroup": "",
         "line": {
          "color": "#636efa",
          "dash": "solid"
         },
         "marker": {
          "symbol": "circle"
         },
         "mode": "lines",
         "name": "",
         "orientation": "v",
         "showlegend": false,
         "type": "scatter",
         "x": [
          1833,
          1901,
          1956,
          2064,
          2092,
          2226,
          2336,
          2348,
          2477,
          2529,
          2678,
          2752,
          2812,
          2864,
          2897,
          3048,
          3077,
          3263,
          3303,
          3422,
          3531,
          3629,
          3836,
          3930,
          4049,
          4110,
          4292,
          4347,
          4497,
          4498,
          4567,
          4611,
          4617,
          4686,
          4748,
          4753,
          4809,
          4837,
          4871,
          4896,
          4937,
          4971,
          4973,
          4992,
          5009,
          5010,
          5011,
          5003,
          4999,
          4990,
          4983,
          4938,
          4934,
          4851,
          4839,
          4826,
          4817,
          4762,
          4741,
          4663,
          4646,
          4619,
          4572,
          4562,
          4515,
          4507,
          4480,
          4461,
          4444,
          4418,
          4416,
          4412,
          4413,
          4411,
          4411,
          4406,
          4399,
          4383,
          4378,
          4349,
          4339,
          4273,
          4273,
          4188,
          4136,
          4032,
          3890,
          3777,
          3777,
          3626,
          3592,
          3429,
          3392,
          3265,
          3143,
          3135,
          3038,
          3016,
          2890,
          2876,
          2766,
          2752,
          2626,
          2584,
          2458,
          2417,
          2293,
          2280,
          2158,
          1932,
          1855,
          1803,
          1736,
          1727,
          1548,
          1534,
          1412,
          1382,
          1239,
          1083,
          1006,
          885,
          847,
          773,
          600,
          537,
          357,
          335,
          245,
          186,
          152,
          51,
          38,
          -139,
          -321,
          -356,
          -437,
          -466,
          -605,
          -676,
          -786,
          -828,
          -936,
          -974,
          -1039,
          -1171,
          -1191,
          -1297,
          -1327,
          -1458,
          -1459,
          -1567,
          -1632,
          -1752,
          -1765,
          -1862,
          -1937,
          -1995,
          -2188,
          -2403,
          -2410,
          -2469,
          -2494,
          -2683,
          -2693,
          -2739,
          -2799,
          -2830,
          -2905,
          -2968,
          -3065,
          -3082,
          -3264,
          -3282,
          -3376,
          -3422,
          -3465,
          -3563,
          -3707,
          -3794,
          -3886,
          -3962,
          -3989,
          -3997,
          -4103,
          -4122,
          -4156,
          -4229,
          -4271,
          -4309,
          -4320,
          -4340,
          -4353,
          -4355,
          -4368,
          -4368,
          -4366,
          -4364,
          -4358,
          -4345,
          -4340,
          -4318,
          -4280,
          -4255,
          -4228,
          -4186,
          -4168,
          -4128,
          -4068,
          -4061,
          -3971,
          -3938,
          -3868,
          -3821,
          -3734,
          -3659,
          -3570,
          -3403,
          -3293,
          -3208,
          -3149,
          -2972,
          -2875,
          -2856,
          -2770,
          -2737,
          -2650,
          -2591,
          -2441,
          -2392,
          -2277,
          -2250,
          -2120,
          -2069,
          -1846,
          -1761,
          -1688,
          -1508,
          -1384,
          -1276,
          -1267,
          -1117,
          -1015,
          -878,
          -817,
          -728,
          -697,
          -569,
          -514,
          -453,
          -439,
          -268,
          -235,
          -97,
          11,
          58,
          231,
          260,
          381,
          453,
          656,
          692,
          816,
          866,
          1134,
          1149,
          1244,
          1400,
          1462,
          1523,
          1631,
          1754,
          1797,
          1931,
          2022,
          2137,
          2234,
          2311,
          2334,
          2557,
          2600,
          2783,
          2828,
          2976,
          3175,
          3177,
          3399,
          3448,
          3550,
          3722,
          3741,
          3978,
          4085,
          4238,
          4359,
          4444,
          4446,
          4636,
          4652,
          4824,
          4877,
          5067,
          5083,
          5270,
          5320,
          5422,
          5556,
          5571,
          5724,
          5740,
          5859,
          5942,
          6144,
          6161,
          6228,
          6390,
          6633,
          6688,
          6787,
          6802,
          6920,
          6938,
          7103,
          7224,
          7458,
          7479,
          7693,
          7723,
          7805,
          7884,
          7953,
          8116,
          8345,
          8360,
          8459,
          8589,
          8638,
          8766,
          8798,
          9003,
          9029,
          9130,
          9194,
          9274,
          9303,
          9392,
          9467,
          9486,
          9503,
          9552,
          9573,
          9589,
          9611,
          9622,
          9644,
          9656,
          9668,
          9673,
          9677,
          9668,
          9659,
          9636,
          9597,
          9570,
          9552,
          9539,
          9499,
          9485,
          9394,
          9388,
          9339,
          9302,
          9294,
          9265,
          9232,
          9207,
          9192,
          9161,
          9159,
          9124,
          9124,
          9121,
          9119,
          9122,
          9127,
          9137,
          9158,
          9202,
          9203,
          9226,
          9256,
          9297,
          9338,
          9343,
          9410,
          9411,
          9499,
          9540,
          9563,
          9617,
          9646,
          9693,
          9745,
          9819,
          9861,
          9894,
          9981,
          10022,
          10124,
          10173,
          10206,
          10257,
          10281,
          10338,
          10372,
          10402,
          10434,
          10468,
          10476,
          10520,
          10542,
          10547,
          10549,
          10553,
          10555,
          10555,
          10552,
          10552,
          10530,
          10524,
          10497,
          10494,
          10471,
          10454,
          10442,
          10430,
          10414,
          10399,
          10396,
          10400,
          10400,
          10406,
          10411,
          10422,
          10427,
          10432,
          10442,
          10445,
          10461,
          10461,
          10470,
          10476,
          10493,
          10496,
          10502,
          10505,
          10509,
          10510,
          10510,
          10510,
          10507,
          10504,
          10497,
          10491,
          10473,
          10461,
          10427,
          10388,
          10368,
          10365,
          10318,
          10285,
          10263,
          10180,
          10122,
          10096,
          10078,
          9977,
          9937,
          9885,
          9866,
          9738,
          9719,
          9656,
          9648,
          9597,
          9482,
          9319,
          9300,
          9256,
          9245,
          9140,
          9064,
          8947,
          8911,
          8814,
          8802,
          8677,
          8639,
          8447,
          8376,
          8315,
          8223,
          8059,
          8017,
          7879,
          7858,
          7767,
          7639,
          7563,
          7437,
          7313,
          7277,
          7193,
          7114,
          6952,
          6906,
          6778,
          6762,
          6638,
          6576,
          6500,
          6455,
          6347,
          6332,
          6146,
          6115,
          6022,
          5928,
          5834,
          5802,
          5629,
          5581,
          5452,
          5406,
          5305,
          5246,
          5003,
          4955,
          4719,
          4611,
          4561,
          4297,
          4296,
          4230,
          4163,
          4085,
          3995,
          3909,
          3742,
          3725,
          3590,
          3504,
          3453,
          3300,
          3232,
          3025,
          2953,
          2806,
          2788,
          2650,
          2598,
          2424,
          2407,
          2267,
          2110,
          2075,
          1970,
          1935,
          1777,
          1725,
          1567,
          1549,
          1285,
          1267,
          1073,
          952,
          825,
          772,
          683,
          629,
          487,
          417,
          204,
          204,
          115,
          -46,
          -133,
          -210,
          -294,
          -454,
          -507,
          -648,
          -650,
          -1014,
          -1034,
          -1344,
          -1359,
          -1474,
          -1623,
          -1636,
          -1681,
          -1767,
          -1872,
          -1940,
          -2058,
          -2128,
          -2168,
          -2188,
          -2287,
          -2322,
          -2368,
          -2388,
          -2438,
          -2445,
          -2503,
          -2508,
          -2533,
          -2543,
          -2561,
          -2583,
          -2586,
          -2603,
          -2605,
          -2610,
          -2613,
          -2613,
          -2609,
          -2605,
          -2599,
          -2593,
          -2579,
          -2577,
          -2564,
          -2540,
          -2503,
          -2483,
          -2442,
          -2434,
          -2394,
          -2391,
          -2382,
          -2313,
          -2282,
          -2218,
          -2171,
          -2119,
          -2083,
          -2065,
          -2051,
          -1979,
          -1942,
          -1890,
          -1843,
          -1810,
          -1679,
          -1653,
          -1522,
          -1433,
          -1370,
          -1273,
          -1197,
          -1147,
          -1104,
          -1028,
          -832,
          -802,
          -717,
          -629,
          -519,
          -417,
          -391,
          -313,
          -287,
          -153,
          -125,
          -41,
          -13,
          183,
          199,
          242,
          346,
          489,
          552,
          778,
          794,
          881,
          928,
          1053,
          1105,
          1223,
          1470,
          1535,
          1610,
          1695,
          1715,
          1846
         ],
         "xaxis": "x",
         "y": [
          128,
          86,
          53,
          -14,
          -31,
          -116,
          -185,
          -193,
          -274,
          -307,
          -400,
          -447,
          -485,
          -517,
          -537,
          -631,
          -648,
          -762,
          -786,
          -857,
          -922,
          -980,
          -1095,
          -1145,
          -1207,
          -1239,
          -1335,
          -1364,
          -1442,
          -1443,
          -1480,
          -1503,
          -1506,
          -1542,
          -1581,
          -1585,
          -1626,
          -1647,
          -1672,
          -1692,
          -1730,
          -1776,
          -1780,
          -1816,
          -1881,
          -1897,
          -1942,
          -1984,
          -2000,
          -2023,
          -2039,
          -2109,
          -2116,
          -2210,
          -2224,
          -2236,
          -2246,
          -2303,
          -2323,
          -2404,
          -2421,
          -2451,
          -2508,
          -2521,
          -2589,
          -2605,
          -2654,
          -2698,
          -2743,
          -2877,
          -2896,
          -3039,
          -3050,
          -3165,
          -3177,
          -3230,
          -3273,
          -3360,
          -3379,
          -3483,
          -3510,
          -3650,
          -3652,
          -3774,
          -3825,
          -3921,
          -4017,
          -4075,
          -4076,
          -4143,
          -4155,
          -4210,
          -4220,
          -4249,
          -4266,
          -4266,
          -4276,
          -4277,
          -4281,
          -4280,
          -4276,
          -4276,
          -4264,
          -4258,
          -4233,
          -4223,
          -4186,
          -4182,
          -4135,
          -4022,
          -3981,
          -3951,
          -3909,
          -3903,
          -3791,
          -3782,
          -3703,
          -3684,
          -3593,
          -3494,
          -3445,
          -3367,
          -3343,
          -3295,
          -3184,
          -3145,
          -3032,
          -3019,
          -2963,
          -2926,
          -2905,
          -2842,
          -2834,
          -2731,
          -2651,
          -2638,
          -2614,
          -2611,
          -2598,
          -2599,
          -2617,
          -2628,
          -2665,
          -2681,
          -2713,
          -2797,
          -2812,
          -2899,
          -2924,
          -3026,
          -3027,
          -3092,
          -3120,
          -3158,
          -3161,
          -3176,
          -3182,
          -3177,
          -3130,
          -2986,
          -2981,
          -2924,
          -2899,
          -2700,
          -2690,
          -2641,
          -2594,
          -2571,
          -2522,
          -2484,
          -2449,
          -2446,
          -2419,
          -2418,
          -2421,
          -2434,
          -2445,
          -2473,
          -2526,
          -2564,
          -2612,
          -2668,
          -2690,
          -2696,
          -2802,
          -2824,
          -2868,
          -2982,
          -3063,
          -3152,
          -3182,
          -3249,
          -3306,
          -3315,
          -3412,
          -3421,
          -3544,
          -3577,
          -3604,
          -3657,
          -3675,
          -3727,
          -3796,
          -3835,
          -3865,
          -3895,
          -3906,
          -3923,
          -3938,
          -3939,
          -3938,
          -3934,
          -3919,
          -3907,
          -3886,
          -3868,
          -3858,
          -3845,
          -3842,
          -3847,
          -3855,
          -3888,
          -3911,
          -3917,
          -3945,
          -3957,
          -3985,
          -4004,
          -4051,
          -4067,
          -4101,
          -4110,
          -4143,
          -4151,
          -4174,
          -4176,
          -4171,
          -4157,
          -4148,
          -4138,
          -4138,
          -4125,
          -4118,
          -4110,
          -4107,
          -4104,
          -4103,
          -4101,
          -4101,
          -4100,
          -4099,
          -4098,
          -4097,
          -4095,
          -4093,
          -4093,
          -4091,
          -4090,
          -4088,
          -4088,
          -4090,
          -4091,
          -4097,
          -4103,
          -4149,
          -4152,
          -4178,
          -4226,
          -4248,
          -4269,
          -4308,
          -4352,
          -4367,
          -4413,
          -4443,
          -4481,
          -4512,
          -4536,
          -4543,
          -4609,
          -4621,
          -4668,
          -4680,
          -4713,
          -4746,
          -4747,
          -4774,
          -4779,
          -4786,
          -4793,
          -4793,
          -4790,
          -4787,
          -4778,
          -4768,
          -4760,
          -4760,
          -4737,
          -4734,
          -4707,
          -4698,
          -4658,
          -4655,
          -4606,
          -4592,
          -4561,
          -4519,
          -4513,
          -4464,
          -4458,
          -4418,
          -4389,
          -4321,
          -4316,
          -4293,
          -4237,
          -4156,
          -4137,
          -4102,
          -4098,
          -4056,
          -4051,
          -3992,
          -3946,
          -3853,
          -3844,
          -3753,
          -3740,
          -3703,
          -3667,
          -3637,
          -3560,
          -3453,
          -3445,
          -3398,
          -3336,
          -3312,
          -3247,
          -3231,
          -3122,
          -3107,
          -3050,
          -3013,
          -2964,
          -2944,
          -2884,
          -2829,
          -2808,
          -2789,
          -2738,
          -2716,
          -2697,
          -2666,
          -2648,
          -2606,
          -2578,
          -2542,
          -2506,
          -2449,
          -2413,
          -2398,
          -2364,
          -2308,
          -2275,
          -2260,
          -2249,
          -2213,
          -2202,
          -2129,
          -2124,
          -2081,
          -2047,
          -2040,
          -2012,
          -1974,
          -1941,
          -1918,
          -1864,
          -1858,
          -1746,
          -1746,
          -1726,
          -1662,
          -1630,
          -1599,
          -1551,
          -1499,
          -1416,
          -1416,
          -1384,
          -1351,
          -1312,
          -1282,
          -1279,
          -1245,
          -1245,
          -1218,
          -1210,
          -1208,
          -1202,
          -1201,
          -1199,
          -1199,
          -1196,
          -1196,
          -1196,
          -1185,
          -1173,
          -1142,
          -1122,
          -1098,
          -1060,
          -1043,
          -988,
          -952,
          -914,
          -873,
          -821,
          -806,
          -728,
          -672,
          -644,
          -625,
          -594,
          -556,
          -543,
          -521,
          -517,
          -466,
          -456,
          -427,
          -424,
          -406,
          -393,
          -383,
          -372,
          -355,
          -323,
          -293,
          -240,
          -233,
          -196,
          -163,
          -103,
          -73,
          -53,
          -5,
          13,
          83,
          87,
          126,
          158,
          243,
          257,
          298,
          318,
          366,
          372,
          405,
          415,
          456,
          468,
          497,
          514,
          549,
          562,
          596,
          621,
          629,
          630,
          647,
          654,
          659,
          671,
          671,
          671,
          671,
          666,
          665,
          664,
          665,
          667,
          667,
          668,
          667,
          667,
          671,
          680,
          681,
          681,
          682,
          683,
          684,
          684,
          685,
          686,
          686,
          688,
          688,
          691,
          691,
          693,
          694,
          697,
          697,
          699,
          699,
          700,
          702,
          703,
          705,
          707,
          708,
          709,
          710,
          712,
          714,
          718,
          718,
          723,
          725,
          729,
          731,
          737,
          737,
          745,
          747,
          749,
          752,
          753,
          754,
          756,
          756,
          758,
          760,
          762,
          765,
          776,
          778,
          790,
          797,
          799,
          813,
          814,
          817,
          821,
          825,
          830,
          834,
          844,
          845,
          852,
          856,
          859,
          867,
          871,
          882,
          885,
          890,
          891,
          894,
          895,
          898,
          899,
          902,
          904,
          905,
          907,
          907,
          911,
          911,
          915,
          915,
          920,
          921,
          924,
          926,
          929,
          930,
          932,
          933,
          935,
          937,
          940,
          941,
          942,
          945,
          947,
          948,
          950,
          953,
          954,
          957,
          958,
          977,
          978,
          1008,
          1010,
          1021,
          1037,
          1038,
          1043,
          1052,
          1062,
          1067,
          1077,
          1081,
          1080,
          1079,
          1074,
          1071,
          1063,
          1059,
          1046,
          1044,
          1019,
          1016,
          999,
          990,
          969,
          938,
          935,
          893,
          885,
          865,
          837,
          814,
          783,
          765,
          746,
          728,
          698,
          694,
          673,
          641,
          597,
          575,
          543,
          537,
          505,
          503,
          497,
          455,
          439,
          406,
          383,
          357,
          338,
          328,
          321,
          284,
          266,
          241,
          222,
          210,
          177,
          173,
          164,
          168,
          174,
          190,
          206,
          217,
          232,
          263,
          342,
          355,
          389,
          424,
          468,
          505,
          513,
          539,
          546,
          580,
          586,
          599,
          604,
          620,
          621,
          622,
          626,
          623,
          616,
          583,
          581,
          559,
          544,
          503,
          481,
          430,
          334,
          309,
          275,
          220,
          207,
          123
         ],
         "yaxis": "y"
        }
       ],
       "layout": {
        "legend": {
         "tracegroupgap": 0
        },
        "margin": {
         "t": 60
        },
        "template": {
         "data": {
          "bar": [
           {
            "error_x": {
             "color": "#f2f5fa"
            },
            "error_y": {
             "color": "#f2f5fa"
            },
            "marker": {
             "line": {
              "color": "rgb(17,17,17)",
              "width": 0.5
             },
             "pattern": {
              "fillmode": "overlay",
              "size": 10,
              "solidity": 0.2
             }
            },
            "type": "bar"
           }
          ],
          "barpolar": [
           {
            "marker": {
             "line": {
              "color": "rgb(17,17,17)",
              "width": 0.5
             },
             "pattern": {
              "fillmode": "overlay",
              "size": 10,
              "solidity": 0.2
             }
            },
            "type": "barpolar"
           }
          ],
          "carpet": [
           {
            "aaxis": {
             "endlinecolor": "#A2B1C6",
             "gridcolor": "#506784",
             "linecolor": "#506784",
             "minorgridcolor": "#506784",
             "startlinecolor": "#A2B1C6"
            },
            "baxis": {
             "endlinecolor": "#A2B1C6",
             "gridcolor": "#506784",
             "linecolor": "#506784",
             "minorgridcolor": "#506784",
             "startlinecolor": "#A2B1C6"
            },
            "type": "carpet"
           }
          ],
          "choropleth": [
           {
            "colorbar": {
             "outlinewidth": 0,
             "ticks": ""
            },
            "type": "choropleth"
           }
          ],
          "contour": [
           {
            "colorbar": {
             "outlinewidth": 0,
             "ticks": ""
            },
            "colorscale": [
             [
              0,
              "#0d0887"
             ],
             [
              0.1111111111111111,
              "#46039f"
             ],
             [
              0.2222222222222222,
              "#7201a8"
             ],
             [
              0.3333333333333333,
              "#9c179e"
             ],
             [
              0.4444444444444444,
              "#bd3786"
             ],
             [
              0.5555555555555556,
              "#d8576b"
             ],
             [
              0.6666666666666666,
              "#ed7953"
             ],
             [
              0.7777777777777778,
              "#fb9f3a"
             ],
             [
              0.8888888888888888,
              "#fdca26"
             ],
             [
              1,
              "#f0f921"
             ]
            ],
            "type": "contour"
           }
          ],
          "contourcarpet": [
           {
            "colorbar": {
             "outlinewidth": 0,
             "ticks": ""
            },
            "type": "contourcarpet"
           }
          ],
          "heatmap": [
           {
            "colorbar": {
             "outlinewidth": 0,
             "ticks": ""
            },
            "colorscale": [
             [
              0,
              "#0d0887"
             ],
             [
              0.1111111111111111,
              "#46039f"
             ],
             [
              0.2222222222222222,
              "#7201a8"
             ],
             [
              0.3333333333333333,
              "#9c179e"
             ],
             [
              0.4444444444444444,
              "#bd3786"
             ],
             [
              0.5555555555555556,
              "#d8576b"
             ],
             [
              0.6666666666666666,
              "#ed7953"
             ],
             [
              0.7777777777777778,
              "#fb9f3a"
             ],
             [
              0.8888888888888888,
              "#fdca26"
             ],
             [
              1,
              "#f0f921"
             ]
            ],
            "type": "heatmap"
           }
          ],
          "heatmapgl": [
           {
            "colorbar": {
             "outlinewidth": 0,
             "ticks": ""
            },
            "colorscale": [
             [
              0,
              "#0d0887"
             ],
             [
              0.1111111111111111,
              "#46039f"
             ],
             [
              0.2222222222222222,
              "#7201a8"
             ],
             [
              0.3333333333333333,
              "#9c179e"
             ],
             [
              0.4444444444444444,
              "#bd3786"
             ],
             [
              0.5555555555555556,
              "#d8576b"
             ],
             [
              0.6666666666666666,
              "#ed7953"
             ],
             [
              0.7777777777777778,
              "#fb9f3a"
             ],
             [
              0.8888888888888888,
              "#fdca26"
             ],
             [
              1,
              "#f0f921"
             ]
            ],
            "type": "heatmapgl"
           }
          ],
          "histogram": [
           {
            "marker": {
             "pattern": {
              "fillmode": "overlay",
              "size": 10,
              "solidity": 0.2
             }
            },
            "type": "histogram"
           }
          ],
          "histogram2d": [
           {
            "colorbar": {
             "outlinewidth": 0,
             "ticks": ""
            },
            "colorscale": [
             [
              0,
              "#0d0887"
             ],
             [
              0.1111111111111111,
              "#46039f"
             ],
             [
              0.2222222222222222,
              "#7201a8"
             ],
             [
              0.3333333333333333,
              "#9c179e"
             ],
             [
              0.4444444444444444,
              "#bd3786"
             ],
             [
              0.5555555555555556,
              "#d8576b"
             ],
             [
              0.6666666666666666,
              "#ed7953"
             ],
             [
              0.7777777777777778,
              "#fb9f3a"
             ],
             [
              0.8888888888888888,
              "#fdca26"
             ],
             [
              1,
              "#f0f921"
             ]
            ],
            "type": "histogram2d"
           }
          ],
          "histogram2dcontour": [
           {
            "colorbar": {
             "outlinewidth": 0,
             "ticks": ""
            },
            "colorscale": [
             [
              0,
              "#0d0887"
             ],
             [
              0.1111111111111111,
              "#46039f"
             ],
             [
              0.2222222222222222,
              "#7201a8"
             ],
             [
              0.3333333333333333,
              "#9c179e"
             ],
             [
              0.4444444444444444,
              "#bd3786"
             ],
             [
              0.5555555555555556,
              "#d8576b"
             ],
             [
              0.6666666666666666,
              "#ed7953"
             ],
             [
              0.7777777777777778,
              "#fb9f3a"
             ],
             [
              0.8888888888888888,
              "#fdca26"
             ],
             [
              1,
              "#f0f921"
             ]
            ],
            "type": "histogram2dcontour"
           }
          ],
          "mesh3d": [
           {
            "colorbar": {
             "outlinewidth": 0,
             "ticks": ""
            },
            "type": "mesh3d"
           }
          ],
          "parcoords": [
           {
            "line": {
             "colorbar": {
              "outlinewidth": 0,
              "ticks": ""
             }
            },
            "type": "parcoords"
           }
          ],
          "pie": [
           {
            "automargin": true,
            "type": "pie"
           }
          ],
          "scatter": [
           {
            "marker": {
             "line": {
              "color": "#283442"
             }
            },
            "type": "scatter"
           }
          ],
          "scatter3d": [
           {
            "line": {
             "colorbar": {
              "outlinewidth": 0,
              "ticks": ""
             }
            },
            "marker": {
             "colorbar": {
              "outlinewidth": 0,
              "ticks": ""
             }
            },
            "type": "scatter3d"
           }
          ],
          "scattercarpet": [
           {
            "marker": {
             "colorbar": {
              "outlinewidth": 0,
              "ticks": ""
             }
            },
            "type": "scattercarpet"
           }
          ],
          "scattergeo": [
           {
            "marker": {
             "colorbar": {
              "outlinewidth": 0,
              "ticks": ""
             }
            },
            "type": "scattergeo"
           }
          ],
          "scattergl": [
           {
            "marker": {
             "line": {
              "color": "#283442"
             }
            },
            "type": "scattergl"
           }
          ],
          "scattermapbox": [
           {
            "marker": {
             "colorbar": {
              "outlinewidth": 0,
              "ticks": ""
             }
            },
            "type": "scattermapbox"
           }
          ],
          "scatterpolar": [
           {
            "marker": {
             "colorbar": {
              "outlinewidth": 0,
              "ticks": ""
             }
            },
            "type": "scatterpolar"
           }
          ],
          "scatterpolargl": [
           {
            "marker": {
             "colorbar": {
              "outlinewidth": 0,
              "ticks": ""
             }
            },
            "type": "scatterpolargl"
           }
          ],
          "scatterternary": [
           {
            "marker": {
             "colorbar": {
              "outlinewidth": 0,
              "ticks": ""
             }
            },
            "type": "scatterternary"
           }
          ],
          "surface": [
           {
            "colorbar": {
             "outlinewidth": 0,
             "ticks": ""
            },
            "colorscale": [
             [
              0,
              "#0d0887"
             ],
             [
              0.1111111111111111,
              "#46039f"
             ],
             [
              0.2222222222222222,
              "#7201a8"
             ],
             [
              0.3333333333333333,
              "#9c179e"
             ],
             [
              0.4444444444444444,
              "#bd3786"
             ],
             [
              0.5555555555555556,
              "#d8576b"
             ],
             [
              0.6666666666666666,
              "#ed7953"
             ],
             [
              0.7777777777777778,
              "#fb9f3a"
             ],
             [
              0.8888888888888888,
              "#fdca26"
             ],
             [
              1,
              "#f0f921"
             ]
            ],
            "type": "surface"
           }
          ],
          "table": [
           {
            "cells": {
             "fill": {
              "color": "#506784"
             },
             "line": {
              "color": "rgb(17,17,17)"
             }
            },
            "header": {
             "fill": {
              "color": "#2a3f5f"
             },
             "line": {
              "color": "rgb(17,17,17)"
             }
            },
            "type": "table"
           }
          ]
         },
         "layout": {
          "annotationdefaults": {
           "arrowcolor": "#f2f5fa",
           "arrowhead": 0,
           "arrowwidth": 1
          },
          "autotypenumbers": "strict",
          "coloraxis": {
           "colorbar": {
            "outlinewidth": 0,
            "ticks": ""
           }
          },
          "colorscale": {
           "diverging": [
            [
             0,
             "#8e0152"
            ],
            [
             0.1,
             "#c51b7d"
            ],
            [
             0.2,
             "#de77ae"
            ],
            [
             0.3,
             "#f1b6da"
            ],
            [
             0.4,
             "#fde0ef"
            ],
            [
             0.5,
             "#f7f7f7"
            ],
            [
             0.6,
             "#e6f5d0"
            ],
            [
             0.7,
             "#b8e186"
            ],
            [
             0.8,
             "#7fbc41"
            ],
            [
             0.9,
             "#4d9221"
            ],
            [
             1,
             "#276419"
            ]
           ],
           "sequential": [
            [
             0,
             "#0d0887"
            ],
            [
             0.1111111111111111,
             "#46039f"
            ],
            [
             0.2222222222222222,
             "#7201a8"
            ],
            [
             0.3333333333333333,
             "#9c179e"
            ],
            [
             0.4444444444444444,
             "#bd3786"
            ],
            [
             0.5555555555555556,
             "#d8576b"
            ],
            [
             0.6666666666666666,
             "#ed7953"
            ],
            [
             0.7777777777777778,
             "#fb9f3a"
            ],
            [
             0.8888888888888888,
             "#fdca26"
            ],
            [
             1,
             "#f0f921"
            ]
           ],
           "sequentialminus": [
            [
             0,
             "#0d0887"
            ],
            [
             0.1111111111111111,
             "#46039f"
            ],
            [
             0.2222222222222222,
             "#7201a8"
            ],
            [
             0.3333333333333333,
             "#9c179e"
            ],
            [
             0.4444444444444444,
             "#bd3786"
            ],
            [
             0.5555555555555556,
             "#d8576b"
            ],
            [
             0.6666666666666666,
             "#ed7953"
            ],
            [
             0.7777777777777778,
             "#fb9f3a"
            ],
            [
             0.8888888888888888,
             "#fdca26"
            ],
            [
             1,
             "#f0f921"
            ]
           ]
          },
          "colorway": [
           "#636efa",
           "#EF553B",
           "#00cc96",
           "#ab63fa",
           "#FFA15A",
           "#19d3f3",
           "#FF6692",
           "#B6E880",
           "#FF97FF",
           "#FECB52"
          ],
          "font": {
           "color": "#f2f5fa"
          },
          "geo": {
           "bgcolor": "rgb(17,17,17)",
           "lakecolor": "rgb(17,17,17)",
           "landcolor": "rgb(17,17,17)",
           "showlakes": true,
           "showland": true,
           "subunitcolor": "#506784"
          },
          "hoverlabel": {
           "align": "left"
          },
          "hovermode": "closest",
          "mapbox": {
           "style": "dark"
          },
          "paper_bgcolor": "rgb(17,17,17)",
          "plot_bgcolor": "rgb(17,17,17)",
          "polar": {
           "angularaxis": {
            "gridcolor": "#506784",
            "linecolor": "#506784",
            "ticks": ""
           },
           "bgcolor": "rgb(17,17,17)",
           "radialaxis": {
            "gridcolor": "#506784",
            "linecolor": "#506784",
            "ticks": ""
           }
          },
          "scene": {
           "xaxis": {
            "backgroundcolor": "rgb(17,17,17)",
            "gridcolor": "#506784",
            "gridwidth": 2,
            "linecolor": "#506784",
            "showbackground": true,
            "ticks": "",
            "zerolinecolor": "#C8D4E3"
           },
           "yaxis": {
            "backgroundcolor": "rgb(17,17,17)",
            "gridcolor": "#506784",
            "gridwidth": 2,
            "linecolor": "#506784",
            "showbackground": true,
            "ticks": "",
            "zerolinecolor": "#C8D4E3"
           },
           "zaxis": {
            "backgroundcolor": "rgb(17,17,17)",
            "gridcolor": "#506784",
            "gridwidth": 2,
            "linecolor": "#506784",
            "showbackground": true,
            "ticks": "",
            "zerolinecolor": "#C8D4E3"
           }
          },
          "shapedefaults": {
           "line": {
            "color": "#f2f5fa"
           }
          },
          "sliderdefaults": {
           "bgcolor": "#C8D4E3",
           "bordercolor": "rgb(17,17,17)",
           "borderwidth": 1,
           "tickwidth": 0
          },
          "ternary": {
           "aaxis": {
            "gridcolor": "#506784",
            "linecolor": "#506784",
            "ticks": ""
           },
           "baxis": {
            "gridcolor": "#506784",
            "linecolor": "#506784",
            "ticks": ""
           },
           "bgcolor": "rgb(17,17,17)",
           "caxis": {
            "gridcolor": "#506784",
            "linecolor": "#506784",
            "ticks": ""
           }
          },
          "title": {
           "x": 0.05
          },
          "updatemenudefaults": {
           "bgcolor": "#506784",
           "borderwidth": 0
          },
          "xaxis": {
           "automargin": true,
           "gridcolor": "#283442",
           "linecolor": "#506784",
           "ticks": "",
           "title": {
            "standoff": 15
           },
           "zerolinecolor": "#283442",
           "zerolinewidth": 2
          },
          "yaxis": {
           "automargin": true,
           "gridcolor": "#283442",
           "linecolor": "#506784",
           "ticks": "",
           "title": {
            "standoff": 15
           },
           "zerolinecolor": "#283442",
           "zerolinewidth": 2
          }
         }
        },
        "width": 800,
        "xaxis": {
         "anchor": "y",
         "domain": [
          0,
          1
         ],
         "title": {
          "text": "X"
         }
        },
        "yaxis": {
         "anchor": "x",
         "domain": [
          0,
          1
         ],
         "title": {
          "text": "Y"
         }
        }
       }
      }
     },
     "metadata": {},
     "output_type": "display_data"
    }
   ],
   "source": [
    "px.line(tel, x=\"X\", y=\"Y\",  width = 800)        "
   ]
  },
  {
   "cell_type": "code",
   "execution_count": 21,
   "metadata": {},
   "outputs": [],
   "source": [
    "tous_les_tours = race.laps.pick_driver('BOT').get_telemetry()"
   ]
  },
  {
   "cell_type": "code",
   "execution_count": 27,
   "metadata": {},
   "outputs": [
    {
     "data": {
      "text/html": [
       "<div><div id=2fd66939-13d4-4d54-9456-c4242e4012bb style=\"display:none; background-color:#9D6CFF; color:white; width:200px; height:30px; padding-left:5px; border-radius:4px; flex-direction:row; justify-content:space-around; align-items:center;\" onmouseover=\"this.style.backgroundColor='#BA9BF8'\" onmouseout=\"this.style.backgroundColor='#9D6CFF'\" onclick=\"window.commands?.execute('create-mitosheet-from-dataframe-output');\">See Full Dataframe in Mito</div> <script> if (window.commands.hasCommand('create-mitosheet-from-dataframe-output')) document.getElementById('2fd66939-13d4-4d54-9456-c4242e4012bb').style.display = 'flex' </script> <table border=\"1\" class=\"dataframe\">\n",
       "  <thead>\n",
       "    <tr style=\"text-align: right;\">\n",
       "      <th></th>\n",
       "      <th>DriverNumber</th>\n",
       "      <th>BroadcastName</th>\n",
       "      <th>Abbreviation</th>\n",
       "      <th>TeamName</th>\n",
       "      <th>TeamColor</th>\n",
       "      <th>FirstName</th>\n",
       "      <th>LastName</th>\n",
       "      <th>FullName</th>\n",
       "      <th>Position</th>\n",
       "      <th>GridPosition</th>\n",
       "      <th>Q1</th>\n",
       "      <th>Q2</th>\n",
       "      <th>Q3</th>\n",
       "      <th>Time</th>\n",
       "      <th>Status</th>\n",
       "      <th>Points</th>\n",
       "      <th>Nombre de places gagnées</th>\n",
       "    </tr>\n",
       "  </thead>\n",
       "  <tbody>\n",
       "    <tr>\n",
       "      <th>1</th>\n",
       "      <td>1</td>\n",
       "      <td>M VERSTAPPEN</td>\n",
       "      <td>VER</td>\n",
       "      <td>Red Bull Racing</td>\n",
       "      <td>1e5bc6</td>\n",
       "      <td>Max</td>\n",
       "      <td>Verstappen</td>\n",
       "      <td>Max Verstappen</td>\n",
       "      <td>1.0</td>\n",
       "      <td>3.0</td>\n",
       "      <td>NaT</td>\n",
       "      <td>NaT</td>\n",
       "      <td>NaT</td>\n",
       "      <td>0 days 01:34:24.258000</td>\n",
       "      <td>Finished</td>\n",
       "      <td>26.0</td>\n",
       "      <td>2.0</td>\n",
       "    </tr>\n",
       "    <tr>\n",
       "      <th>16</th>\n",
       "      <td>16</td>\n",
       "      <td>C LECLERC</td>\n",
       "      <td>LEC</td>\n",
       "      <td>Ferrari</td>\n",
       "      <td>ed1c24</td>\n",
       "      <td>Charles</td>\n",
       "      <td>Leclerc</td>\n",
       "      <td>Charles Leclerc</td>\n",
       "      <td>2.0</td>\n",
       "      <td>1.0</td>\n",
       "      <td>NaT</td>\n",
       "      <td>NaT</td>\n",
       "      <td>NaT</td>\n",
       "      <td>0 days 01:34:28.044000</td>\n",
       "      <td>Finished</td>\n",
       "      <td>18.0</td>\n",
       "      <td>-1.0</td>\n",
       "    </tr>\n",
       "    <tr>\n",
       "      <th>55</th>\n",
       "      <td>55</td>\n",
       "      <td>C SAINZ</td>\n",
       "      <td>SAI</td>\n",
       "      <td>Ferrari</td>\n",
       "      <td>ed1c24</td>\n",
       "      <td>Carlos</td>\n",
       "      <td>Sainz</td>\n",
       "      <td>Carlos Sainz</td>\n",
       "      <td>3.0</td>\n",
       "      <td>2.0</td>\n",
       "      <td>NaT</td>\n",
       "      <td>NaT</td>\n",
       "      <td>NaT</td>\n",
       "      <td>0 days 01:34:32.487000</td>\n",
       "      <td>Finished</td>\n",
       "      <td>15.0</td>\n",
       "      <td>-1.0</td>\n",
       "    </tr>\n",
       "    <tr>\n",
       "      <th>11</th>\n",
       "      <td>11</td>\n",
       "      <td>S PEREZ</td>\n",
       "      <td>PER</td>\n",
       "      <td>Red Bull Racing</td>\n",
       "      <td>1e5bc6</td>\n",
       "      <td>Sergio</td>\n",
       "      <td>Perez</td>\n",
       "      <td>Sergio Perez</td>\n",
       "      <td>4.0</td>\n",
       "      <td>4.0</td>\n",
       "      <td>NaT</td>\n",
       "      <td>NaT</td>\n",
       "      <td>NaT</td>\n",
       "      <td>0 days 01:34:34.896000</td>\n",
       "      <td>Finished</td>\n",
       "      <td>12.0</td>\n",
       "      <td>0.0</td>\n",
       "    </tr>\n",
       "    <tr>\n",
       "      <th>63</th>\n",
       "      <td>63</td>\n",
       "      <td>G RUSSELL</td>\n",
       "      <td>RUS</td>\n",
       "      <td>Mercedes</td>\n",
       "      <td>6cd3bf</td>\n",
       "      <td>George</td>\n",
       "      <td>Russell</td>\n",
       "      <td>George Russell</td>\n",
       "      <td>5.0</td>\n",
       "      <td>12.0</td>\n",
       "      <td>NaT</td>\n",
       "      <td>NaT</td>\n",
       "      <td>NaT</td>\n",
       "      <td>0 days 01:34:42.840000</td>\n",
       "      <td>Finished</td>\n",
       "      <td>10.0</td>\n",
       "      <td>7.0</td>\n",
       "    </tr>\n",
       "    <tr>\n",
       "      <th>44</th>\n",
       "      <td>44</td>\n",
       "      <td>L HAMILTON</td>\n",
       "      <td>HAM</td>\n",
       "      <td>Mercedes</td>\n",
       "      <td>6cd3bf</td>\n",
       "      <td>Lewis</td>\n",
       "      <td>Hamilton</td>\n",
       "      <td>Lewis Hamilton</td>\n",
       "      <td>6.0</td>\n",
       "      <td>6.0</td>\n",
       "      <td>NaT</td>\n",
       "      <td>NaT</td>\n",
       "      <td>NaT</td>\n",
       "      <td>0 days 01:34:45.626000</td>\n",
       "      <td>Finished</td>\n",
       "      <td>8.0</td>\n",
       "      <td>0.0</td>\n",
       "    </tr>\n",
       "    <tr>\n",
       "      <th>77</th>\n",
       "      <td>77</td>\n",
       "      <td>V BOTTAS</td>\n",
       "      <td>BOT</td>\n",
       "      <td>Alfa Romeo</td>\n",
       "      <td>b12039</td>\n",
       "      <td>Valtteri</td>\n",
       "      <td>Bottas</td>\n",
       "      <td>Valtteri Bottas</td>\n",
       "      <td>7.0</td>\n",
       "      <td>5.0</td>\n",
       "      <td>NaT</td>\n",
       "      <td>NaT</td>\n",
       "      <td>NaT</td>\n",
       "      <td>0 days 01:34:49.331000</td>\n",
       "      <td>Finished</td>\n",
       "      <td>6.0</td>\n",
       "      <td>-2.0</td>\n",
       "    </tr>\n",
       "    <tr>\n",
       "      <th>31</th>\n",
       "      <td>31</td>\n",
       "      <td>E OCON</td>\n",
       "      <td>OCO</td>\n",
       "      <td>Alpine</td>\n",
       "      <td>2293d1</td>\n",
       "      <td>Esteban</td>\n",
       "      <td>Ocon</td>\n",
       "      <td>Esteban Ocon</td>\n",
       "      <td>8.0</td>\n",
       "      <td>20.0</td>\n",
       "      <td>NaT</td>\n",
       "      <td>NaT</td>\n",
       "      <td>NaT</td>\n",
       "      <td>0 days 01:34:52.644000</td>\n",
       "      <td>Finished</td>\n",
       "      <td>4.0</td>\n",
       "      <td>12.0</td>\n",
       "    </tr>\n",
       "    <tr>\n",
       "      <th>23</th>\n",
       "      <td>23</td>\n",
       "      <td>A ALBON</td>\n",
       "      <td>ALB</td>\n",
       "      <td>Williams</td>\n",
       "      <td>37bedd</td>\n",
       "      <td>Alexander</td>\n",
       "      <td>Albon</td>\n",
       "      <td>Alexander Albon</td>\n",
       "      <td>9.0</td>\n",
       "      <td>18.0</td>\n",
       "      <td>NaT</td>\n",
       "      <td>NaT</td>\n",
       "      <td>NaT</td>\n",
       "      <td>0 days 01:34:56.623000</td>\n",
       "      <td>Finished</td>\n",
       "      <td>2.0</td>\n",
       "      <td>9.0</td>\n",
       "    </tr>\n",
       "    <tr>\n",
       "      <th>18</th>\n",
       "      <td>18</td>\n",
       "      <td>L STROLL</td>\n",
       "      <td>STR</td>\n",
       "      <td>Aston Martin</td>\n",
       "      <td>2d826d</td>\n",
       "      <td>Lance</td>\n",
       "      <td>Stroll</td>\n",
       "      <td>Lance Stroll</td>\n",
       "      <td>10.0</td>\n",
       "      <td>0.0</td>\n",
       "      <td>NaT</td>\n",
       "      <td>NaT</td>\n",
       "      <td>NaT</td>\n",
       "      <td>0 days 01:35:01.284000</td>\n",
       "      <td>Finished</td>\n",
       "      <td>1.0</td>\n",
       "      <td>-10.0</td>\n",
       "    </tr>\n",
       "    <tr>\n",
       "      <th>14</th>\n",
       "      <td>14</td>\n",
       "      <td>F ALONSO</td>\n",
       "      <td>ALO</td>\n",
       "      <td>Alpine</td>\n",
       "      <td>2293d1</td>\n",
       "      <td>Fernando</td>\n",
       "      <td>Alonso</td>\n",
       "      <td>Fernando Alonso</td>\n",
       "      <td>11.0</td>\n",
       "      <td>11.0</td>\n",
       "      <td>NaT</td>\n",
       "      <td>NaT</td>\n",
       "      <td>NaT</td>\n",
       "      <td>0 days 01:35:01.386000</td>\n",
       "      <td>Finished</td>\n",
       "      <td>0.0</td>\n",
       "      <td>0.0</td>\n",
       "    </tr>\n",
       "    <tr>\n",
       "      <th>22</th>\n",
       "      <td>22</td>\n",
       "      <td>Y TSUNODA</td>\n",
       "      <td>TSU</td>\n",
       "      <td>AlphaTauri</td>\n",
       "      <td>4e7c9b</td>\n",
       "      <td>Yuki</td>\n",
       "      <td>Tsunoda</td>\n",
       "      <td>Yuki Tsunoda</td>\n",
       "      <td>12.0</td>\n",
       "      <td>9.0</td>\n",
       "      <td>NaT</td>\n",
       "      <td>NaT</td>\n",
       "      <td>NaT</td>\n",
       "      <td>0 days 01:35:04.404000</td>\n",
       "      <td>Finished</td>\n",
       "      <td>0.0</td>\n",
       "      <td>-3.0</td>\n",
       "    </tr>\n",
       "    <tr>\n",
       "      <th>3</th>\n",
       "      <td>3</td>\n",
       "      <td>D RICCIARDO</td>\n",
       "      <td>RIC</td>\n",
       "      <td>McLaren</td>\n",
       "      <td>f58020</td>\n",
       "      <td>Daniel</td>\n",
       "      <td>Ricciardo</td>\n",
       "      <td>Daniel Ricciardo</td>\n",
       "      <td>13.0</td>\n",
       "      <td>14.0</td>\n",
       "      <td>NaT</td>\n",
       "      <td>NaT</td>\n",
       "      <td>NaT</td>\n",
       "      <td>0 days 01:35:05.160000</td>\n",
       "      <td>Finished</td>\n",
       "      <td>0.0</td>\n",
       "      <td>1.0</td>\n",
       "    </tr>\n",
       "    <tr>\n",
       "      <th>6</th>\n",
       "      <td>6</td>\n",
       "      <td>N LATIFI</td>\n",
       "      <td>LAT</td>\n",
       "      <td>Williams</td>\n",
       "      <td>37bedd</td>\n",
       "      <td>Nicholas</td>\n",
       "      <td>Latifi</td>\n",
       "      <td>Nicholas Latifi</td>\n",
       "      <td>14.0</td>\n",
       "      <td>19.0</td>\n",
       "      <td>NaT</td>\n",
       "      <td>NaT</td>\n",
       "      <td>NaT</td>\n",
       "      <td>0 days 01:35:14.194000</td>\n",
       "      <td>Finished</td>\n",
       "      <td>0.0</td>\n",
       "      <td>5.0</td>\n",
       "    </tr>\n",
       "    <tr>\n",
       "      <th>47</th>\n",
       "      <td>47</td>\n",
       "      <td>M SCHUMACHER</td>\n",
       "      <td>MSC</td>\n",
       "      <td>Haas F1 Team</td>\n",
       "      <td>b6babd</td>\n",
       "      <td>Mick</td>\n",
       "      <td>Schumacher</td>\n",
       "      <td>Mick Schumacher</td>\n",
       "      <td>15.0</td>\n",
       "      <td>15.0</td>\n",
       "      <td>NaT</td>\n",
       "      <td>NaT</td>\n",
       "      <td>NaT</td>\n",
       "      <td>0 days 01:35:37.563000</td>\n",
       "      <td>Finished</td>\n",
       "      <td>0.0</td>\n",
       "      <td>0.0</td>\n",
       "    </tr>\n",
       "    <tr>\n",
       "      <th>20</th>\n",
       "      <td>20</td>\n",
       "      <td>K MAGNUSSEN</td>\n",
       "      <td>MAG</td>\n",
       "      <td>Haas F1 Team</td>\n",
       "      <td>b6babd</td>\n",
       "      <td>Kevin</td>\n",
       "      <td>Magnussen</td>\n",
       "      <td>Kevin Magnussen</td>\n",
       "      <td>16.0</td>\n",
       "      <td>16.0</td>\n",
       "      <td>NaT</td>\n",
       "      <td>NaT</td>\n",
       "      <td>NaT</td>\n",
       "      <td>NaT</td>\n",
       "      <td>Front wing</td>\n",
       "      <td>0.0</td>\n",
       "      <td>0.0</td>\n",
       "    </tr>\n",
       "    <tr>\n",
       "      <th>5</th>\n",
       "      <td>5</td>\n",
       "      <td>S VETTEL</td>\n",
       "      <td>VET</td>\n",
       "      <td>Aston Martin</td>\n",
       "      <td>2d826d</td>\n",
       "      <td>Sebastian</td>\n",
       "      <td>Vettel</td>\n",
       "      <td>Sebastian Vettel</td>\n",
       "      <td>17.0</td>\n",
       "      <td>0.0</td>\n",
       "      <td>NaT</td>\n",
       "      <td>NaT</td>\n",
       "      <td>NaT</td>\n",
       "      <td>NaT</td>\n",
       "      <td>Collision</td>\n",
       "      <td>0.0</td>\n",
       "      <td>-17.0</td>\n",
       "    </tr>\n",
       "    <tr>\n",
       "      <th>10</th>\n",
       "      <td>10</td>\n",
       "      <td>P GASLY</td>\n",
       "      <td>GAS</td>\n",
       "      <td>AlphaTauri</td>\n",
       "      <td>4e7c9b</td>\n",
       "      <td>Pierre</td>\n",
       "      <td>Gasly</td>\n",
       "      <td>Pierre Gasly</td>\n",
       "      <td>18.0</td>\n",
       "      <td>7.0</td>\n",
       "      <td>NaT</td>\n",
       "      <td>NaT</td>\n",
       "      <td>NaT</td>\n",
       "      <td>NaT</td>\n",
       "      <td>Suspension</td>\n",
       "      <td>0.0</td>\n",
       "      <td>-11.0</td>\n",
       "    </tr>\n",
       "    <tr>\n",
       "      <th>4</th>\n",
       "      <td>4</td>\n",
       "      <td>L NORRIS</td>\n",
       "      <td>NOR</td>\n",
       "      <td>McLaren</td>\n",
       "      <td>f58020</td>\n",
       "      <td>Lando</td>\n",
       "      <td>Norris</td>\n",
       "      <td>Lando Norris</td>\n",
       "      <td>19.0</td>\n",
       "      <td>8.0</td>\n",
       "      <td>NaT</td>\n",
       "      <td>NaT</td>\n",
       "      <td>NaT</td>\n",
       "      <td>NaT</td>\n",
       "      <td>Collision</td>\n",
       "      <td>0.0</td>\n",
       "      <td>-11.0</td>\n",
       "    </tr>\n",
       "    <tr>\n",
       "      <th>24</th>\n",
       "      <td>24</td>\n",
       "      <td>G ZHOU</td>\n",
       "      <td>ZHO</td>\n",
       "      <td>Alfa Romeo</td>\n",
       "      <td>b12039</td>\n",
       "      <td>Guanyu</td>\n",
       "      <td>Zhou</td>\n",
       "      <td>Guanyu Zhou</td>\n",
       "      <td>20.0</td>\n",
       "      <td>17.0</td>\n",
       "      <td>NaT</td>\n",
       "      <td>NaT</td>\n",
       "      <td>NaT</td>\n",
       "      <td>NaT</td>\n",
       "      <td>Water leak</td>\n",
       "      <td>0.0</td>\n",
       "      <td>-3.0</td>\n",
       "    </tr>\n",
       "  </tbody>\n",
       "</table></div>"
      ],
      "text/plain": [
       "   DriverNumber BroadcastName Abbreviation         TeamName TeamColor  \\\n",
       "1             1  M VERSTAPPEN          VER  Red Bull Racing    1e5bc6   \n",
       "16           16     C LECLERC          LEC          Ferrari    ed1c24   \n",
       "55           55       C SAINZ          SAI          Ferrari    ed1c24   \n",
       "11           11       S PEREZ          PER  Red Bull Racing    1e5bc6   \n",
       "63           63     G RUSSELL          RUS         Mercedes    6cd3bf   \n",
       "44           44    L HAMILTON          HAM         Mercedes    6cd3bf   \n",
       "77           77      V BOTTAS          BOT       Alfa Romeo    b12039   \n",
       "31           31        E OCON          OCO           Alpine    2293d1   \n",
       "23           23       A ALBON          ALB         Williams    37bedd   \n",
       "18           18      L STROLL          STR     Aston Martin    2d826d   \n",
       "14           14      F ALONSO          ALO           Alpine    2293d1   \n",
       "22           22     Y TSUNODA          TSU       AlphaTauri    4e7c9b   \n",
       "3             3   D RICCIARDO          RIC          McLaren    f58020   \n",
       "6             6      N LATIFI          LAT         Williams    37bedd   \n",
       "47           47  M SCHUMACHER          MSC     Haas F1 Team    b6babd   \n",
       "20           20   K MAGNUSSEN          MAG     Haas F1 Team    b6babd   \n",
       "5             5      S VETTEL          VET     Aston Martin    2d826d   \n",
       "10           10       P GASLY          GAS       AlphaTauri    4e7c9b   \n",
       "4             4      L NORRIS          NOR          McLaren    f58020   \n",
       "24           24        G ZHOU          ZHO       Alfa Romeo    b12039   \n",
       "\n",
       "    FirstName    LastName          FullName  Position  GridPosition  Q1  Q2  \\\n",
       "1         Max  Verstappen    Max Verstappen       1.0           3.0 NaT NaT   \n",
       "16    Charles     Leclerc   Charles Leclerc       2.0           1.0 NaT NaT   \n",
       "55     Carlos       Sainz      Carlos Sainz       3.0           2.0 NaT NaT   \n",
       "11     Sergio       Perez      Sergio Perez       4.0           4.0 NaT NaT   \n",
       "63     George     Russell    George Russell       5.0          12.0 NaT NaT   \n",
       "44      Lewis    Hamilton    Lewis Hamilton       6.0           6.0 NaT NaT   \n",
       "77   Valtteri      Bottas   Valtteri Bottas       7.0           5.0 NaT NaT   \n",
       "31    Esteban        Ocon      Esteban Ocon       8.0          20.0 NaT NaT   \n",
       "23  Alexander       Albon   Alexander Albon       9.0          18.0 NaT NaT   \n",
       "18      Lance      Stroll      Lance Stroll      10.0           0.0 NaT NaT   \n",
       "14   Fernando      Alonso   Fernando Alonso      11.0          11.0 NaT NaT   \n",
       "22       Yuki     Tsunoda      Yuki Tsunoda      12.0           9.0 NaT NaT   \n",
       "3      Daniel   Ricciardo  Daniel Ricciardo      13.0          14.0 NaT NaT   \n",
       "6    Nicholas      Latifi   Nicholas Latifi      14.0          19.0 NaT NaT   \n",
       "47       Mick  Schumacher   Mick Schumacher      15.0          15.0 NaT NaT   \n",
       "20      Kevin   Magnussen   Kevin Magnussen      16.0          16.0 NaT NaT   \n",
       "5   Sebastian      Vettel  Sebastian Vettel      17.0           0.0 NaT NaT   \n",
       "10     Pierre       Gasly      Pierre Gasly      18.0           7.0 NaT NaT   \n",
       "4       Lando      Norris      Lando Norris      19.0           8.0 NaT NaT   \n",
       "24     Guanyu        Zhou       Guanyu Zhou      20.0          17.0 NaT NaT   \n",
       "\n",
       "    Q3                   Time      Status  Points  Nombre de places gagnées  \n",
       "1  NaT 0 days 01:34:24.258000    Finished    26.0                       2.0  \n",
       "16 NaT 0 days 01:34:28.044000    Finished    18.0                      -1.0  \n",
       "55 NaT 0 days 01:34:32.487000    Finished    15.0                      -1.0  \n",
       "11 NaT 0 days 01:34:34.896000    Finished    12.0                       0.0  \n",
       "63 NaT 0 days 01:34:42.840000    Finished    10.0                       7.0  \n",
       "44 NaT 0 days 01:34:45.626000    Finished     8.0                       0.0  \n",
       "77 NaT 0 days 01:34:49.331000    Finished     6.0                      -2.0  \n",
       "31 NaT 0 days 01:34:52.644000    Finished     4.0                      12.0  \n",
       "23 NaT 0 days 01:34:56.623000    Finished     2.0                       9.0  \n",
       "18 NaT 0 days 01:35:01.284000    Finished     1.0                     -10.0  \n",
       "14 NaT 0 days 01:35:01.386000    Finished     0.0                       0.0  \n",
       "22 NaT 0 days 01:35:04.404000    Finished     0.0                      -3.0  \n",
       "3  NaT 0 days 01:35:05.160000    Finished     0.0                       1.0  \n",
       "6  NaT 0 days 01:35:14.194000    Finished     0.0                       5.0  \n",
       "47 NaT 0 days 01:35:37.563000    Finished     0.0                       0.0  \n",
       "20 NaT                    NaT  Front wing     0.0                       0.0  \n",
       "5  NaT                    NaT   Collision     0.0                     -17.0  \n",
       "10 NaT                    NaT  Suspension     0.0                     -11.0  \n",
       "4  NaT                    NaT   Collision     0.0                     -11.0  \n",
       "24 NaT                    NaT  Water leak     0.0                      -3.0  "
      ]
     },
     "execution_count": 27,
     "metadata": {},
     "output_type": "execute_result"
    }
   ],
   "source": [
    "df = race.results\n",
    "df['Nombre de places gagnées'] = df['GridPosition'] - df['Position']\n",
    "df = df.sort_values(by = ['Position'], ascending = True)\n",
    "df"
   ]
  },
  {
   "cell_type": "code",
   "execution_count": 28,
   "metadata": {},
   "outputs": [
    {
     "data": {
      "application/vnd.plotly.v1+json": {
       "config": {
        "plotlyServerURL": "https://plot.ly"
       },
       "data": [
        {
         "alignmentgroup": "True",
         "hovertemplate": "Abbreviation=%{x}<br>Position=%{y}<extra></extra>",
         "legendgroup": "",
         "marker": {
          "color": "#636efa",
          "pattern": {
           "shape": ""
          }
         },
         "name": "",
         "offsetgroup": "",
         "orientation": "v",
         "showlegend": false,
         "textposition": "auto",
         "type": "bar",
         "x": [
          "VER",
          "LEC",
          "SAI",
          "PER",
          "RUS",
          "HAM",
          "BOT",
          "OCO",
          "ALB",
          "STR",
          "ALO",
          "TSU",
          "RIC",
          "LAT",
          "MSC",
          "MAG",
          "VET",
          "GAS",
          "NOR",
          "ZHO"
         ],
         "xaxis": "x",
         "y": [
          1,
          2,
          3,
          4,
          5,
          6,
          7,
          8,
          9,
          10,
          11,
          12,
          13,
          14,
          15,
          16,
          17,
          18,
          19,
          20
         ],
         "yaxis": "y"
        }
       ],
       "layout": {
        "barmode": "relative",
        "legend": {
         "tracegroupgap": 0
        },
        "margin": {
         "t": 60
        },
        "template": {
         "data": {
          "bar": [
           {
            "error_x": {
             "color": "#f2f5fa"
            },
            "error_y": {
             "color": "#f2f5fa"
            },
            "marker": {
             "line": {
              "color": "rgb(17,17,17)",
              "width": 0.5
             },
             "pattern": {
              "fillmode": "overlay",
              "size": 10,
              "solidity": 0.2
             }
            },
            "type": "bar"
           }
          ],
          "barpolar": [
           {
            "marker": {
             "line": {
              "color": "rgb(17,17,17)",
              "width": 0.5
             },
             "pattern": {
              "fillmode": "overlay",
              "size": 10,
              "solidity": 0.2
             }
            },
            "type": "barpolar"
           }
          ],
          "carpet": [
           {
            "aaxis": {
             "endlinecolor": "#A2B1C6",
             "gridcolor": "#506784",
             "linecolor": "#506784",
             "minorgridcolor": "#506784",
             "startlinecolor": "#A2B1C6"
            },
            "baxis": {
             "endlinecolor": "#A2B1C6",
             "gridcolor": "#506784",
             "linecolor": "#506784",
             "minorgridcolor": "#506784",
             "startlinecolor": "#A2B1C6"
            },
            "type": "carpet"
           }
          ],
          "choropleth": [
           {
            "colorbar": {
             "outlinewidth": 0,
             "ticks": ""
            },
            "type": "choropleth"
           }
          ],
          "contour": [
           {
            "colorbar": {
             "outlinewidth": 0,
             "ticks": ""
            },
            "colorscale": [
             [
              0,
              "#0d0887"
             ],
             [
              0.1111111111111111,
              "#46039f"
             ],
             [
              0.2222222222222222,
              "#7201a8"
             ],
             [
              0.3333333333333333,
              "#9c179e"
             ],
             [
              0.4444444444444444,
              "#bd3786"
             ],
             [
              0.5555555555555556,
              "#d8576b"
             ],
             [
              0.6666666666666666,
              "#ed7953"
             ],
             [
              0.7777777777777778,
              "#fb9f3a"
             ],
             [
              0.8888888888888888,
              "#fdca26"
             ],
             [
              1,
              "#f0f921"
             ]
            ],
            "type": "contour"
           }
          ],
          "contourcarpet": [
           {
            "colorbar": {
             "outlinewidth": 0,
             "ticks": ""
            },
            "type": "contourcarpet"
           }
          ],
          "heatmap": [
           {
            "colorbar": {
             "outlinewidth": 0,
             "ticks": ""
            },
            "colorscale": [
             [
              0,
              "#0d0887"
             ],
             [
              0.1111111111111111,
              "#46039f"
             ],
             [
              0.2222222222222222,
              "#7201a8"
             ],
             [
              0.3333333333333333,
              "#9c179e"
             ],
             [
              0.4444444444444444,
              "#bd3786"
             ],
             [
              0.5555555555555556,
              "#d8576b"
             ],
             [
              0.6666666666666666,
              "#ed7953"
             ],
             [
              0.7777777777777778,
              "#fb9f3a"
             ],
             [
              0.8888888888888888,
              "#fdca26"
             ],
             [
              1,
              "#f0f921"
             ]
            ],
            "type": "heatmap"
           }
          ],
          "heatmapgl": [
           {
            "colorbar": {
             "outlinewidth": 0,
             "ticks": ""
            },
            "colorscale": [
             [
              0,
              "#0d0887"
             ],
             [
              0.1111111111111111,
              "#46039f"
             ],
             [
              0.2222222222222222,
              "#7201a8"
             ],
             [
              0.3333333333333333,
              "#9c179e"
             ],
             [
              0.4444444444444444,
              "#bd3786"
             ],
             [
              0.5555555555555556,
              "#d8576b"
             ],
             [
              0.6666666666666666,
              "#ed7953"
             ],
             [
              0.7777777777777778,
              "#fb9f3a"
             ],
             [
              0.8888888888888888,
              "#fdca26"
             ],
             [
              1,
              "#f0f921"
             ]
            ],
            "type": "heatmapgl"
           }
          ],
          "histogram": [
           {
            "marker": {
             "pattern": {
              "fillmode": "overlay",
              "size": 10,
              "solidity": 0.2
             }
            },
            "type": "histogram"
           }
          ],
          "histogram2d": [
           {
            "colorbar": {
             "outlinewidth": 0,
             "ticks": ""
            },
            "colorscale": [
             [
              0,
              "#0d0887"
             ],
             [
              0.1111111111111111,
              "#46039f"
             ],
             [
              0.2222222222222222,
              "#7201a8"
             ],
             [
              0.3333333333333333,
              "#9c179e"
             ],
             [
              0.4444444444444444,
              "#bd3786"
             ],
             [
              0.5555555555555556,
              "#d8576b"
             ],
             [
              0.6666666666666666,
              "#ed7953"
             ],
             [
              0.7777777777777778,
              "#fb9f3a"
             ],
             [
              0.8888888888888888,
              "#fdca26"
             ],
             [
              1,
              "#f0f921"
             ]
            ],
            "type": "histogram2d"
           }
          ],
          "histogram2dcontour": [
           {
            "colorbar": {
             "outlinewidth": 0,
             "ticks": ""
            },
            "colorscale": [
             [
              0,
              "#0d0887"
             ],
             [
              0.1111111111111111,
              "#46039f"
             ],
             [
              0.2222222222222222,
              "#7201a8"
             ],
             [
              0.3333333333333333,
              "#9c179e"
             ],
             [
              0.4444444444444444,
              "#bd3786"
             ],
             [
              0.5555555555555556,
              "#d8576b"
             ],
             [
              0.6666666666666666,
              "#ed7953"
             ],
             [
              0.7777777777777778,
              "#fb9f3a"
             ],
             [
              0.8888888888888888,
              "#fdca26"
             ],
             [
              1,
              "#f0f921"
             ]
            ],
            "type": "histogram2dcontour"
           }
          ],
          "mesh3d": [
           {
            "colorbar": {
             "outlinewidth": 0,
             "ticks": ""
            },
            "type": "mesh3d"
           }
          ],
          "parcoords": [
           {
            "line": {
             "colorbar": {
              "outlinewidth": 0,
              "ticks": ""
             }
            },
            "type": "parcoords"
           }
          ],
          "pie": [
           {
            "automargin": true,
            "type": "pie"
           }
          ],
          "scatter": [
           {
            "marker": {
             "line": {
              "color": "#283442"
             }
            },
            "type": "scatter"
           }
          ],
          "scatter3d": [
           {
            "line": {
             "colorbar": {
              "outlinewidth": 0,
              "ticks": ""
             }
            },
            "marker": {
             "colorbar": {
              "outlinewidth": 0,
              "ticks": ""
             }
            },
            "type": "scatter3d"
           }
          ],
          "scattercarpet": [
           {
            "marker": {
             "colorbar": {
              "outlinewidth": 0,
              "ticks": ""
             }
            },
            "type": "scattercarpet"
           }
          ],
          "scattergeo": [
           {
            "marker": {
             "colorbar": {
              "outlinewidth": 0,
              "ticks": ""
             }
            },
            "type": "scattergeo"
           }
          ],
          "scattergl": [
           {
            "marker": {
             "line": {
              "color": "#283442"
             }
            },
            "type": "scattergl"
           }
          ],
          "scattermapbox": [
           {
            "marker": {
             "colorbar": {
              "outlinewidth": 0,
              "ticks": ""
             }
            },
            "type": "scattermapbox"
           }
          ],
          "scatterpolar": [
           {
            "marker": {
             "colorbar": {
              "outlinewidth": 0,
              "ticks": ""
             }
            },
            "type": "scatterpolar"
           }
          ],
          "scatterpolargl": [
           {
            "marker": {
             "colorbar": {
              "outlinewidth": 0,
              "ticks": ""
             }
            },
            "type": "scatterpolargl"
           }
          ],
          "scatterternary": [
           {
            "marker": {
             "colorbar": {
              "outlinewidth": 0,
              "ticks": ""
             }
            },
            "type": "scatterternary"
           }
          ],
          "surface": [
           {
            "colorbar": {
             "outlinewidth": 0,
             "ticks": ""
            },
            "colorscale": [
             [
              0,
              "#0d0887"
             ],
             [
              0.1111111111111111,
              "#46039f"
             ],
             [
              0.2222222222222222,
              "#7201a8"
             ],
             [
              0.3333333333333333,
              "#9c179e"
             ],
             [
              0.4444444444444444,
              "#bd3786"
             ],
             [
              0.5555555555555556,
              "#d8576b"
             ],
             [
              0.6666666666666666,
              "#ed7953"
             ],
             [
              0.7777777777777778,
              "#fb9f3a"
             ],
             [
              0.8888888888888888,
              "#fdca26"
             ],
             [
              1,
              "#f0f921"
             ]
            ],
            "type": "surface"
           }
          ],
          "table": [
           {
            "cells": {
             "fill": {
              "color": "#506784"
             },
             "line": {
              "color": "rgb(17,17,17)"
             }
            },
            "header": {
             "fill": {
              "color": "#2a3f5f"
             },
             "line": {
              "color": "rgb(17,17,17)"
             }
            },
            "type": "table"
           }
          ]
         },
         "layout": {
          "annotationdefaults": {
           "arrowcolor": "#f2f5fa",
           "arrowhead": 0,
           "arrowwidth": 1
          },
          "autotypenumbers": "strict",
          "coloraxis": {
           "colorbar": {
            "outlinewidth": 0,
            "ticks": ""
           }
          },
          "colorscale": {
           "diverging": [
            [
             0,
             "#8e0152"
            ],
            [
             0.1,
             "#c51b7d"
            ],
            [
             0.2,
             "#de77ae"
            ],
            [
             0.3,
             "#f1b6da"
            ],
            [
             0.4,
             "#fde0ef"
            ],
            [
             0.5,
             "#f7f7f7"
            ],
            [
             0.6,
             "#e6f5d0"
            ],
            [
             0.7,
             "#b8e186"
            ],
            [
             0.8,
             "#7fbc41"
            ],
            [
             0.9,
             "#4d9221"
            ],
            [
             1,
             "#276419"
            ]
           ],
           "sequential": [
            [
             0,
             "#0d0887"
            ],
            [
             0.1111111111111111,
             "#46039f"
            ],
            [
             0.2222222222222222,
             "#7201a8"
            ],
            [
             0.3333333333333333,
             "#9c179e"
            ],
            [
             0.4444444444444444,
             "#bd3786"
            ],
            [
             0.5555555555555556,
             "#d8576b"
            ],
            [
             0.6666666666666666,
             "#ed7953"
            ],
            [
             0.7777777777777778,
             "#fb9f3a"
            ],
            [
             0.8888888888888888,
             "#fdca26"
            ],
            [
             1,
             "#f0f921"
            ]
           ],
           "sequentialminus": [
            [
             0,
             "#0d0887"
            ],
            [
             0.1111111111111111,
             "#46039f"
            ],
            [
             0.2222222222222222,
             "#7201a8"
            ],
            [
             0.3333333333333333,
             "#9c179e"
            ],
            [
             0.4444444444444444,
             "#bd3786"
            ],
            [
             0.5555555555555556,
             "#d8576b"
            ],
            [
             0.6666666666666666,
             "#ed7953"
            ],
            [
             0.7777777777777778,
             "#fb9f3a"
            ],
            [
             0.8888888888888888,
             "#fdca26"
            ],
            [
             1,
             "#f0f921"
            ]
           ]
          },
          "colorway": [
           "#636efa",
           "#EF553B",
           "#00cc96",
           "#ab63fa",
           "#FFA15A",
           "#19d3f3",
           "#FF6692",
           "#B6E880",
           "#FF97FF",
           "#FECB52"
          ],
          "font": {
           "color": "#f2f5fa"
          },
          "geo": {
           "bgcolor": "rgb(17,17,17)",
           "lakecolor": "rgb(17,17,17)",
           "landcolor": "rgb(17,17,17)",
           "showlakes": true,
           "showland": true,
           "subunitcolor": "#506784"
          },
          "hoverlabel": {
           "align": "left"
          },
          "hovermode": "closest",
          "mapbox": {
           "style": "dark"
          },
          "paper_bgcolor": "rgb(17,17,17)",
          "plot_bgcolor": "rgb(17,17,17)",
          "polar": {
           "angularaxis": {
            "gridcolor": "#506784",
            "linecolor": "#506784",
            "ticks": ""
           },
           "bgcolor": "rgb(17,17,17)",
           "radialaxis": {
            "gridcolor": "#506784",
            "linecolor": "#506784",
            "ticks": ""
           }
          },
          "scene": {
           "xaxis": {
            "backgroundcolor": "rgb(17,17,17)",
            "gridcolor": "#506784",
            "gridwidth": 2,
            "linecolor": "#506784",
            "showbackground": true,
            "ticks": "",
            "zerolinecolor": "#C8D4E3"
           },
           "yaxis": {
            "backgroundcolor": "rgb(17,17,17)",
            "gridcolor": "#506784",
            "gridwidth": 2,
            "linecolor": "#506784",
            "showbackground": true,
            "ticks": "",
            "zerolinecolor": "#C8D4E3"
           },
           "zaxis": {
            "backgroundcolor": "rgb(17,17,17)",
            "gridcolor": "#506784",
            "gridwidth": 2,
            "linecolor": "#506784",
            "showbackground": true,
            "ticks": "",
            "zerolinecolor": "#C8D4E3"
           }
          },
          "shapedefaults": {
           "line": {
            "color": "#f2f5fa"
           }
          },
          "sliderdefaults": {
           "bgcolor": "#C8D4E3",
           "bordercolor": "rgb(17,17,17)",
           "borderwidth": 1,
           "tickwidth": 0
          },
          "ternary": {
           "aaxis": {
            "gridcolor": "#506784",
            "linecolor": "#506784",
            "ticks": ""
           },
           "baxis": {
            "gridcolor": "#506784",
            "linecolor": "#506784",
            "ticks": ""
           },
           "bgcolor": "rgb(17,17,17)",
           "caxis": {
            "gridcolor": "#506784",
            "linecolor": "#506784",
            "ticks": ""
           }
          },
          "title": {
           "x": 0.05
          },
          "updatemenudefaults": {
           "bgcolor": "#506784",
           "borderwidth": 0
          },
          "xaxis": {
           "automargin": true,
           "gridcolor": "#283442",
           "linecolor": "#506784",
           "ticks": "",
           "title": {
            "standoff": 15
           },
           "zerolinecolor": "#283442",
           "zerolinewidth": 2
          },
          "yaxis": {
           "automargin": true,
           "gridcolor": "#283442",
           "linecolor": "#506784",
           "ticks": "",
           "title": {
            "standoff": 15
           },
           "zerolinecolor": "#283442",
           "zerolinewidth": 2
          }
         }
        },
        "xaxis": {
         "anchor": "y",
         "domain": [
          0,
          1
         ],
         "title": {
          "text": "Abbreviation"
         }
        },
        "yaxis": {
         "anchor": "x",
         "domain": [
          0,
          1
         ],
         "title": {
          "text": "Position"
         }
        }
       }
      }
     },
     "metadata": {},
     "output_type": "display_data"
    }
   ],
   "source": [
    "\n",
    "\n",
    "px.bar(df, x = \"Abbreviation\", y = \"Position\")"
   ]
  },
  {
   "cell_type": "code",
   "execution_count": 29,
   "metadata": {},
   "outputs": [
    {
     "data": {
      "application/vnd.plotly.v1+json": {
       "config": {
        "plotlyServerURL": "https://plot.ly"
       },
       "data": [
        {
         "marker": {
          "size": 20
         },
         "mode": "markers",
         "name": "Place à l'arrivée",
         "type": "scatter",
         "x": [
          "VER",
          "LEC",
          "SAI",
          "PER",
          "RUS",
          "HAM",
          "BOT",
          "OCO",
          "ALB",
          "STR",
          "ALO",
          "TSU",
          "RIC",
          "LAT",
          "MSC",
          "MAG",
          "VET",
          "GAS",
          "NOR",
          "ZHO"
         ],
         "y": [
          1,
          2,
          3,
          4,
          5,
          6,
          7,
          8,
          9,
          10,
          11,
          12,
          13,
          14,
          15,
          16,
          17,
          18,
          19,
          20
         ]
        }
       ],
       "layout": {
        "height": 600,
        "legend": {
         "x": 0,
         "y": -0.25
        },
        "template": {
         "data": {
          "bar": [
           {
            "error_x": {
             "color": "#f2f5fa"
            },
            "error_y": {
             "color": "#f2f5fa"
            },
            "marker": {
             "line": {
              "color": "rgb(17,17,17)",
              "width": 0.5
             },
             "pattern": {
              "fillmode": "overlay",
              "size": 10,
              "solidity": 0.2
             }
            },
            "type": "bar"
           }
          ],
          "barpolar": [
           {
            "marker": {
             "line": {
              "color": "rgb(17,17,17)",
              "width": 0.5
             },
             "pattern": {
              "fillmode": "overlay",
              "size": 10,
              "solidity": 0.2
             }
            },
            "type": "barpolar"
           }
          ],
          "carpet": [
           {
            "aaxis": {
             "endlinecolor": "#A2B1C6",
             "gridcolor": "#506784",
             "linecolor": "#506784",
             "minorgridcolor": "#506784",
             "startlinecolor": "#A2B1C6"
            },
            "baxis": {
             "endlinecolor": "#A2B1C6",
             "gridcolor": "#506784",
             "linecolor": "#506784",
             "minorgridcolor": "#506784",
             "startlinecolor": "#A2B1C6"
            },
            "type": "carpet"
           }
          ],
          "choropleth": [
           {
            "colorbar": {
             "outlinewidth": 0,
             "ticks": ""
            },
            "type": "choropleth"
           }
          ],
          "contour": [
           {
            "colorbar": {
             "outlinewidth": 0,
             "ticks": ""
            },
            "colorscale": [
             [
              0,
              "#0d0887"
             ],
             [
              0.1111111111111111,
              "#46039f"
             ],
             [
              0.2222222222222222,
              "#7201a8"
             ],
             [
              0.3333333333333333,
              "#9c179e"
             ],
             [
              0.4444444444444444,
              "#bd3786"
             ],
             [
              0.5555555555555556,
              "#d8576b"
             ],
             [
              0.6666666666666666,
              "#ed7953"
             ],
             [
              0.7777777777777778,
              "#fb9f3a"
             ],
             [
              0.8888888888888888,
              "#fdca26"
             ],
             [
              1,
              "#f0f921"
             ]
            ],
            "type": "contour"
           }
          ],
          "contourcarpet": [
           {
            "colorbar": {
             "outlinewidth": 0,
             "ticks": ""
            },
            "type": "contourcarpet"
           }
          ],
          "heatmap": [
           {
            "colorbar": {
             "outlinewidth": 0,
             "ticks": ""
            },
            "colorscale": [
             [
              0,
              "#0d0887"
             ],
             [
              0.1111111111111111,
              "#46039f"
             ],
             [
              0.2222222222222222,
              "#7201a8"
             ],
             [
              0.3333333333333333,
              "#9c179e"
             ],
             [
              0.4444444444444444,
              "#bd3786"
             ],
             [
              0.5555555555555556,
              "#d8576b"
             ],
             [
              0.6666666666666666,
              "#ed7953"
             ],
             [
              0.7777777777777778,
              "#fb9f3a"
             ],
             [
              0.8888888888888888,
              "#fdca26"
             ],
             [
              1,
              "#f0f921"
             ]
            ],
            "type": "heatmap"
           }
          ],
          "heatmapgl": [
           {
            "colorbar": {
             "outlinewidth": 0,
             "ticks": ""
            },
            "colorscale": [
             [
              0,
              "#0d0887"
             ],
             [
              0.1111111111111111,
              "#46039f"
             ],
             [
              0.2222222222222222,
              "#7201a8"
             ],
             [
              0.3333333333333333,
              "#9c179e"
             ],
             [
              0.4444444444444444,
              "#bd3786"
             ],
             [
              0.5555555555555556,
              "#d8576b"
             ],
             [
              0.6666666666666666,
              "#ed7953"
             ],
             [
              0.7777777777777778,
              "#fb9f3a"
             ],
             [
              0.8888888888888888,
              "#fdca26"
             ],
             [
              1,
              "#f0f921"
             ]
            ],
            "type": "heatmapgl"
           }
          ],
          "histogram": [
           {
            "marker": {
             "pattern": {
              "fillmode": "overlay",
              "size": 10,
              "solidity": 0.2
             }
            },
            "type": "histogram"
           }
          ],
          "histogram2d": [
           {
            "colorbar": {
             "outlinewidth": 0,
             "ticks": ""
            },
            "colorscale": [
             [
              0,
              "#0d0887"
             ],
             [
              0.1111111111111111,
              "#46039f"
             ],
             [
              0.2222222222222222,
              "#7201a8"
             ],
             [
              0.3333333333333333,
              "#9c179e"
             ],
             [
              0.4444444444444444,
              "#bd3786"
             ],
             [
              0.5555555555555556,
              "#d8576b"
             ],
             [
              0.6666666666666666,
              "#ed7953"
             ],
             [
              0.7777777777777778,
              "#fb9f3a"
             ],
             [
              0.8888888888888888,
              "#fdca26"
             ],
             [
              1,
              "#f0f921"
             ]
            ],
            "type": "histogram2d"
           }
          ],
          "histogram2dcontour": [
           {
            "colorbar": {
             "outlinewidth": 0,
             "ticks": ""
            },
            "colorscale": [
             [
              0,
              "#0d0887"
             ],
             [
              0.1111111111111111,
              "#46039f"
             ],
             [
              0.2222222222222222,
              "#7201a8"
             ],
             [
              0.3333333333333333,
              "#9c179e"
             ],
             [
              0.4444444444444444,
              "#bd3786"
             ],
             [
              0.5555555555555556,
              "#d8576b"
             ],
             [
              0.6666666666666666,
              "#ed7953"
             ],
             [
              0.7777777777777778,
              "#fb9f3a"
             ],
             [
              0.8888888888888888,
              "#fdca26"
             ],
             [
              1,
              "#f0f921"
             ]
            ],
            "type": "histogram2dcontour"
           }
          ],
          "mesh3d": [
           {
            "colorbar": {
             "outlinewidth": 0,
             "ticks": ""
            },
            "type": "mesh3d"
           }
          ],
          "parcoords": [
           {
            "line": {
             "colorbar": {
              "outlinewidth": 0,
              "ticks": ""
             }
            },
            "type": "parcoords"
           }
          ],
          "pie": [
           {
            "automargin": true,
            "type": "pie"
           }
          ],
          "scatter": [
           {
            "marker": {
             "line": {
              "color": "#283442"
             }
            },
            "type": "scatter"
           }
          ],
          "scatter3d": [
           {
            "line": {
             "colorbar": {
              "outlinewidth": 0,
              "ticks": ""
             }
            },
            "marker": {
             "colorbar": {
              "outlinewidth": 0,
              "ticks": ""
             }
            },
            "type": "scatter3d"
           }
          ],
          "scattercarpet": [
           {
            "marker": {
             "colorbar": {
              "outlinewidth": 0,
              "ticks": ""
             }
            },
            "type": "scattercarpet"
           }
          ],
          "scattergeo": [
           {
            "marker": {
             "colorbar": {
              "outlinewidth": 0,
              "ticks": ""
             }
            },
            "type": "scattergeo"
           }
          ],
          "scattergl": [
           {
            "marker": {
             "line": {
              "color": "#283442"
             }
            },
            "type": "scattergl"
           }
          ],
          "scattermapbox": [
           {
            "marker": {
             "colorbar": {
              "outlinewidth": 0,
              "ticks": ""
             }
            },
            "type": "scattermapbox"
           }
          ],
          "scatterpolar": [
           {
            "marker": {
             "colorbar": {
              "outlinewidth": 0,
              "ticks": ""
             }
            },
            "type": "scatterpolar"
           }
          ],
          "scatterpolargl": [
           {
            "marker": {
             "colorbar": {
              "outlinewidth": 0,
              "ticks": ""
             }
            },
            "type": "scatterpolargl"
           }
          ],
          "scatterternary": [
           {
            "marker": {
             "colorbar": {
              "outlinewidth": 0,
              "ticks": ""
             }
            },
            "type": "scatterternary"
           }
          ],
          "surface": [
           {
            "colorbar": {
             "outlinewidth": 0,
             "ticks": ""
            },
            "colorscale": [
             [
              0,
              "#0d0887"
             ],
             [
              0.1111111111111111,
              "#46039f"
             ],
             [
              0.2222222222222222,
              "#7201a8"
             ],
             [
              0.3333333333333333,
              "#9c179e"
             ],
             [
              0.4444444444444444,
              "#bd3786"
             ],
             [
              0.5555555555555556,
              "#d8576b"
             ],
             [
              0.6666666666666666,
              "#ed7953"
             ],
             [
              0.7777777777777778,
              "#fb9f3a"
             ],
             [
              0.8888888888888888,
              "#fdca26"
             ],
             [
              1,
              "#f0f921"
             ]
            ],
            "type": "surface"
           }
          ],
          "table": [
           {
            "cells": {
             "fill": {
              "color": "#506784"
             },
             "line": {
              "color": "rgb(17,17,17)"
             }
            },
            "header": {
             "fill": {
              "color": "#2a3f5f"
             },
             "line": {
              "color": "rgb(17,17,17)"
             }
            },
            "type": "table"
           }
          ]
         },
         "layout": {
          "annotationdefaults": {
           "arrowcolor": "#f2f5fa",
           "arrowhead": 0,
           "arrowwidth": 1
          },
          "autotypenumbers": "strict",
          "coloraxis": {
           "colorbar": {
            "outlinewidth": 0,
            "ticks": ""
           }
          },
          "colorscale": {
           "diverging": [
            [
             0,
             "#8e0152"
            ],
            [
             0.1,
             "#c51b7d"
            ],
            [
             0.2,
             "#de77ae"
            ],
            [
             0.3,
             "#f1b6da"
            ],
            [
             0.4,
             "#fde0ef"
            ],
            [
             0.5,
             "#f7f7f7"
            ],
            [
             0.6,
             "#e6f5d0"
            ],
            [
             0.7,
             "#b8e186"
            ],
            [
             0.8,
             "#7fbc41"
            ],
            [
             0.9,
             "#4d9221"
            ],
            [
             1,
             "#276419"
            ]
           ],
           "sequential": [
            [
             0,
             "#0d0887"
            ],
            [
             0.1111111111111111,
             "#46039f"
            ],
            [
             0.2222222222222222,
             "#7201a8"
            ],
            [
             0.3333333333333333,
             "#9c179e"
            ],
            [
             0.4444444444444444,
             "#bd3786"
            ],
            [
             0.5555555555555556,
             "#d8576b"
            ],
            [
             0.6666666666666666,
             "#ed7953"
            ],
            [
             0.7777777777777778,
             "#fb9f3a"
            ],
            [
             0.8888888888888888,
             "#fdca26"
            ],
            [
             1,
             "#f0f921"
            ]
           ],
           "sequentialminus": [
            [
             0,
             "#0d0887"
            ],
            [
             0.1111111111111111,
             "#46039f"
            ],
            [
             0.2222222222222222,
             "#7201a8"
            ],
            [
             0.3333333333333333,
             "#9c179e"
            ],
            [
             0.4444444444444444,
             "#bd3786"
            ],
            [
             0.5555555555555556,
             "#d8576b"
            ],
            [
             0.6666666666666666,
             "#ed7953"
            ],
            [
             0.7777777777777778,
             "#fb9f3a"
            ],
            [
             0.8888888888888888,
             "#fdca26"
            ],
            [
             1,
             "#f0f921"
            ]
           ]
          },
          "colorway": [
           "#636efa",
           "#EF553B",
           "#00cc96",
           "#ab63fa",
           "#FFA15A",
           "#19d3f3",
           "#FF6692",
           "#B6E880",
           "#FF97FF",
           "#FECB52"
          ],
          "font": {
           "color": "#f2f5fa"
          },
          "geo": {
           "bgcolor": "rgb(17,17,17)",
           "lakecolor": "rgb(17,17,17)",
           "landcolor": "rgb(17,17,17)",
           "showlakes": true,
           "showland": true,
           "subunitcolor": "#506784"
          },
          "hoverlabel": {
           "align": "left"
          },
          "hovermode": "closest",
          "mapbox": {
           "style": "dark"
          },
          "paper_bgcolor": "rgb(17,17,17)",
          "plot_bgcolor": "rgb(17,17,17)",
          "polar": {
           "angularaxis": {
            "gridcolor": "#506784",
            "linecolor": "#506784",
            "ticks": ""
           },
           "bgcolor": "rgb(17,17,17)",
           "radialaxis": {
            "gridcolor": "#506784",
            "linecolor": "#506784",
            "ticks": ""
           }
          },
          "scene": {
           "xaxis": {
            "backgroundcolor": "rgb(17,17,17)",
            "gridcolor": "#506784",
            "gridwidth": 2,
            "linecolor": "#506784",
            "showbackground": true,
            "ticks": "",
            "zerolinecolor": "#C8D4E3"
           },
           "yaxis": {
            "backgroundcolor": "rgb(17,17,17)",
            "gridcolor": "#506784",
            "gridwidth": 2,
            "linecolor": "#506784",
            "showbackground": true,
            "ticks": "",
            "zerolinecolor": "#C8D4E3"
           },
           "zaxis": {
            "backgroundcolor": "rgb(17,17,17)",
            "gridcolor": "#506784",
            "gridwidth": 2,
            "linecolor": "#506784",
            "showbackground": true,
            "ticks": "",
            "zerolinecolor": "#C8D4E3"
           }
          },
          "shapedefaults": {
           "line": {
            "color": "#f2f5fa"
           }
          },
          "sliderdefaults": {
           "bgcolor": "#C8D4E3",
           "bordercolor": "rgb(17,17,17)",
           "borderwidth": 1,
           "tickwidth": 0
          },
          "ternary": {
           "aaxis": {
            "gridcolor": "#506784",
            "linecolor": "#506784",
            "ticks": ""
           },
           "baxis": {
            "gridcolor": "#506784",
            "linecolor": "#506784",
            "ticks": ""
           },
           "bgcolor": "rgb(17,17,17)",
           "caxis": {
            "gridcolor": "#506784",
            "linecolor": "#506784",
            "ticks": ""
           }
          },
          "title": {
           "x": 0.05
          },
          "updatemenudefaults": {
           "bgcolor": "#506784",
           "borderwidth": 0
          },
          "xaxis": {
           "automargin": true,
           "gridcolor": "#283442",
           "linecolor": "#506784",
           "ticks": "",
           "title": {
            "standoff": 15
           },
           "zerolinecolor": "#283442",
           "zerolinewidth": 2
          },
          "yaxis": {
           "automargin": true,
           "gridcolor": "#283442",
           "linecolor": "#506784",
           "ticks": "",
           "title": {
            "standoff": 15
           },
           "zerolinecolor": "#283442",
           "zerolinewidth": 2
          }
         }
        },
        "title": {
         "text": "Position à l'arrivée et écart par rapport à la position sur la grille",
         "x": 0.5
        },
        "width": 800
       }
      }
     },
     "metadata": {},
     "output_type": "display_data"
    },
    {
     "data": {
      "application/vnd.plotly.v1+json": {
       "config": {
        "plotlyServerURL": "https://plot.ly"
       },
       "data": [
        {
         "marker": {
          "size": 20
         },
         "mode": "markers",
         "name": "Place à l'arrivée",
         "type": "scatter",
         "x": [
          "VER",
          "LEC",
          "SAI",
          "PER",
          "RUS",
          "HAM",
          "BOT",
          "OCO",
          "ALB",
          "STR",
          "ALO",
          "TSU",
          "RIC",
          "LAT",
          "MSC",
          "MAG",
          "VET",
          "GAS",
          "NOR",
          "ZHO"
         ],
         "y": [
          1,
          2,
          3,
          4,
          5,
          6,
          7,
          8,
          9,
          10,
          11,
          12,
          13,
          14,
          15,
          16,
          17,
          18,
          19,
          20
         ]
        },
        {
         "name": "Ecart par rapport à la position sur la grille",
         "text": [
          1,
          2,
          3,
          4,
          5,
          6,
          7,
          8,
          9,
          10,
          11,
          12,
          13,
          14,
          15,
          16,
          17,
          18,
          19,
          20
         ],
         "type": "bar",
         "x": [
          "VER",
          "LEC",
          "SAI",
          "PER",
          "RUS",
          "HAM",
          "BOT",
          "OCO",
          "ALB",
          "STR",
          "ALO",
          "TSU",
          "RIC",
          "LAT",
          "MSC",
          "MAG",
          "VET",
          "GAS",
          "NOR",
          "ZHO"
         ],
         "y": [
          2,
          -1,
          -1,
          0,
          7,
          0,
          -2,
          12,
          9,
          -10,
          0,
          -3,
          1,
          5,
          0,
          0,
          -17,
          -11,
          -11,
          -3
         ]
        }
       ],
       "layout": {
        "height": 600,
        "legend": {
         "x": 0,
         "y": -0.25
        },
        "template": {
         "data": {
          "bar": [
           {
            "error_x": {
             "color": "#f2f5fa"
            },
            "error_y": {
             "color": "#f2f5fa"
            },
            "marker": {
             "line": {
              "color": "rgb(17,17,17)",
              "width": 0.5
             },
             "pattern": {
              "fillmode": "overlay",
              "size": 10,
              "solidity": 0.2
             }
            },
            "type": "bar"
           }
          ],
          "barpolar": [
           {
            "marker": {
             "line": {
              "color": "rgb(17,17,17)",
              "width": 0.5
             },
             "pattern": {
              "fillmode": "overlay",
              "size": 10,
              "solidity": 0.2
             }
            },
            "type": "barpolar"
           }
          ],
          "carpet": [
           {
            "aaxis": {
             "endlinecolor": "#A2B1C6",
             "gridcolor": "#506784",
             "linecolor": "#506784",
             "minorgridcolor": "#506784",
             "startlinecolor": "#A2B1C6"
            },
            "baxis": {
             "endlinecolor": "#A2B1C6",
             "gridcolor": "#506784",
             "linecolor": "#506784",
             "minorgridcolor": "#506784",
             "startlinecolor": "#A2B1C6"
            },
            "type": "carpet"
           }
          ],
          "choropleth": [
           {
            "colorbar": {
             "outlinewidth": 0,
             "ticks": ""
            },
            "type": "choropleth"
           }
          ],
          "contour": [
           {
            "colorbar": {
             "outlinewidth": 0,
             "ticks": ""
            },
            "colorscale": [
             [
              0,
              "#0d0887"
             ],
             [
              0.1111111111111111,
              "#46039f"
             ],
             [
              0.2222222222222222,
              "#7201a8"
             ],
             [
              0.3333333333333333,
              "#9c179e"
             ],
             [
              0.4444444444444444,
              "#bd3786"
             ],
             [
              0.5555555555555556,
              "#d8576b"
             ],
             [
              0.6666666666666666,
              "#ed7953"
             ],
             [
              0.7777777777777778,
              "#fb9f3a"
             ],
             [
              0.8888888888888888,
              "#fdca26"
             ],
             [
              1,
              "#f0f921"
             ]
            ],
            "type": "contour"
           }
          ],
          "contourcarpet": [
           {
            "colorbar": {
             "outlinewidth": 0,
             "ticks": ""
            },
            "type": "contourcarpet"
           }
          ],
          "heatmap": [
           {
            "colorbar": {
             "outlinewidth": 0,
             "ticks": ""
            },
            "colorscale": [
             [
              0,
              "#0d0887"
             ],
             [
              0.1111111111111111,
              "#46039f"
             ],
             [
              0.2222222222222222,
              "#7201a8"
             ],
             [
              0.3333333333333333,
              "#9c179e"
             ],
             [
              0.4444444444444444,
              "#bd3786"
             ],
             [
              0.5555555555555556,
              "#d8576b"
             ],
             [
              0.6666666666666666,
              "#ed7953"
             ],
             [
              0.7777777777777778,
              "#fb9f3a"
             ],
             [
              0.8888888888888888,
              "#fdca26"
             ],
             [
              1,
              "#f0f921"
             ]
            ],
            "type": "heatmap"
           }
          ],
          "heatmapgl": [
           {
            "colorbar": {
             "outlinewidth": 0,
             "ticks": ""
            },
            "colorscale": [
             [
              0,
              "#0d0887"
             ],
             [
              0.1111111111111111,
              "#46039f"
             ],
             [
              0.2222222222222222,
              "#7201a8"
             ],
             [
              0.3333333333333333,
              "#9c179e"
             ],
             [
              0.4444444444444444,
              "#bd3786"
             ],
             [
              0.5555555555555556,
              "#d8576b"
             ],
             [
              0.6666666666666666,
              "#ed7953"
             ],
             [
              0.7777777777777778,
              "#fb9f3a"
             ],
             [
              0.8888888888888888,
              "#fdca26"
             ],
             [
              1,
              "#f0f921"
             ]
            ],
            "type": "heatmapgl"
           }
          ],
          "histogram": [
           {
            "marker": {
             "pattern": {
              "fillmode": "overlay",
              "size": 10,
              "solidity": 0.2
             }
            },
            "type": "histogram"
           }
          ],
          "histogram2d": [
           {
            "colorbar": {
             "outlinewidth": 0,
             "ticks": ""
            },
            "colorscale": [
             [
              0,
              "#0d0887"
             ],
             [
              0.1111111111111111,
              "#46039f"
             ],
             [
              0.2222222222222222,
              "#7201a8"
             ],
             [
              0.3333333333333333,
              "#9c179e"
             ],
             [
              0.4444444444444444,
              "#bd3786"
             ],
             [
              0.5555555555555556,
              "#d8576b"
             ],
             [
              0.6666666666666666,
              "#ed7953"
             ],
             [
              0.7777777777777778,
              "#fb9f3a"
             ],
             [
              0.8888888888888888,
              "#fdca26"
             ],
             [
              1,
              "#f0f921"
             ]
            ],
            "type": "histogram2d"
           }
          ],
          "histogram2dcontour": [
           {
            "colorbar": {
             "outlinewidth": 0,
             "ticks": ""
            },
            "colorscale": [
             [
              0,
              "#0d0887"
             ],
             [
              0.1111111111111111,
              "#46039f"
             ],
             [
              0.2222222222222222,
              "#7201a8"
             ],
             [
              0.3333333333333333,
              "#9c179e"
             ],
             [
              0.4444444444444444,
              "#bd3786"
             ],
             [
              0.5555555555555556,
              "#d8576b"
             ],
             [
              0.6666666666666666,
              "#ed7953"
             ],
             [
              0.7777777777777778,
              "#fb9f3a"
             ],
             [
              0.8888888888888888,
              "#fdca26"
             ],
             [
              1,
              "#f0f921"
             ]
            ],
            "type": "histogram2dcontour"
           }
          ],
          "mesh3d": [
           {
            "colorbar": {
             "outlinewidth": 0,
             "ticks": ""
            },
            "type": "mesh3d"
           }
          ],
          "parcoords": [
           {
            "line": {
             "colorbar": {
              "outlinewidth": 0,
              "ticks": ""
             }
            },
            "type": "parcoords"
           }
          ],
          "pie": [
           {
            "automargin": true,
            "type": "pie"
           }
          ],
          "scatter": [
           {
            "marker": {
             "line": {
              "color": "#283442"
             }
            },
            "type": "scatter"
           }
          ],
          "scatter3d": [
           {
            "line": {
             "colorbar": {
              "outlinewidth": 0,
              "ticks": ""
             }
            },
            "marker": {
             "colorbar": {
              "outlinewidth": 0,
              "ticks": ""
             }
            },
            "type": "scatter3d"
           }
          ],
          "scattercarpet": [
           {
            "marker": {
             "colorbar": {
              "outlinewidth": 0,
              "ticks": ""
             }
            },
            "type": "scattercarpet"
           }
          ],
          "scattergeo": [
           {
            "marker": {
             "colorbar": {
              "outlinewidth": 0,
              "ticks": ""
             }
            },
            "type": "scattergeo"
           }
          ],
          "scattergl": [
           {
            "marker": {
             "line": {
              "color": "#283442"
             }
            },
            "type": "scattergl"
           }
          ],
          "scattermapbox": [
           {
            "marker": {
             "colorbar": {
              "outlinewidth": 0,
              "ticks": ""
             }
            },
            "type": "scattermapbox"
           }
          ],
          "scatterpolar": [
           {
            "marker": {
             "colorbar": {
              "outlinewidth": 0,
              "ticks": ""
             }
            },
            "type": "scatterpolar"
           }
          ],
          "scatterpolargl": [
           {
            "marker": {
             "colorbar": {
              "outlinewidth": 0,
              "ticks": ""
             }
            },
            "type": "scatterpolargl"
           }
          ],
          "scatterternary": [
           {
            "marker": {
             "colorbar": {
              "outlinewidth": 0,
              "ticks": ""
             }
            },
            "type": "scatterternary"
           }
          ],
          "surface": [
           {
            "colorbar": {
             "outlinewidth": 0,
             "ticks": ""
            },
            "colorscale": [
             [
              0,
              "#0d0887"
             ],
             [
              0.1111111111111111,
              "#46039f"
             ],
             [
              0.2222222222222222,
              "#7201a8"
             ],
             [
              0.3333333333333333,
              "#9c179e"
             ],
             [
              0.4444444444444444,
              "#bd3786"
             ],
             [
              0.5555555555555556,
              "#d8576b"
             ],
             [
              0.6666666666666666,
              "#ed7953"
             ],
             [
              0.7777777777777778,
              "#fb9f3a"
             ],
             [
              0.8888888888888888,
              "#fdca26"
             ],
             [
              1,
              "#f0f921"
             ]
            ],
            "type": "surface"
           }
          ],
          "table": [
           {
            "cells": {
             "fill": {
              "color": "#506784"
             },
             "line": {
              "color": "rgb(17,17,17)"
             }
            },
            "header": {
             "fill": {
              "color": "#2a3f5f"
             },
             "line": {
              "color": "rgb(17,17,17)"
             }
            },
            "type": "table"
           }
          ]
         },
         "layout": {
          "annotationdefaults": {
           "arrowcolor": "#f2f5fa",
           "arrowhead": 0,
           "arrowwidth": 1
          },
          "autotypenumbers": "strict",
          "coloraxis": {
           "colorbar": {
            "outlinewidth": 0,
            "ticks": ""
           }
          },
          "colorscale": {
           "diverging": [
            [
             0,
             "#8e0152"
            ],
            [
             0.1,
             "#c51b7d"
            ],
            [
             0.2,
             "#de77ae"
            ],
            [
             0.3,
             "#f1b6da"
            ],
            [
             0.4,
             "#fde0ef"
            ],
            [
             0.5,
             "#f7f7f7"
            ],
            [
             0.6,
             "#e6f5d0"
            ],
            [
             0.7,
             "#b8e186"
            ],
            [
             0.8,
             "#7fbc41"
            ],
            [
             0.9,
             "#4d9221"
            ],
            [
             1,
             "#276419"
            ]
           ],
           "sequential": [
            [
             0,
             "#0d0887"
            ],
            [
             0.1111111111111111,
             "#46039f"
            ],
            [
             0.2222222222222222,
             "#7201a8"
            ],
            [
             0.3333333333333333,
             "#9c179e"
            ],
            [
             0.4444444444444444,
             "#bd3786"
            ],
            [
             0.5555555555555556,
             "#d8576b"
            ],
            [
             0.6666666666666666,
             "#ed7953"
            ],
            [
             0.7777777777777778,
             "#fb9f3a"
            ],
            [
             0.8888888888888888,
             "#fdca26"
            ],
            [
             1,
             "#f0f921"
            ]
           ],
           "sequentialminus": [
            [
             0,
             "#0d0887"
            ],
            [
             0.1111111111111111,
             "#46039f"
            ],
            [
             0.2222222222222222,
             "#7201a8"
            ],
            [
             0.3333333333333333,
             "#9c179e"
            ],
            [
             0.4444444444444444,
             "#bd3786"
            ],
            [
             0.5555555555555556,
             "#d8576b"
            ],
            [
             0.6666666666666666,
             "#ed7953"
            ],
            [
             0.7777777777777778,
             "#fb9f3a"
            ],
            [
             0.8888888888888888,
             "#fdca26"
            ],
            [
             1,
             "#f0f921"
            ]
           ]
          },
          "colorway": [
           "#636efa",
           "#EF553B",
           "#00cc96",
           "#ab63fa",
           "#FFA15A",
           "#19d3f3",
           "#FF6692",
           "#B6E880",
           "#FF97FF",
           "#FECB52"
          ],
          "font": {
           "color": "#f2f5fa"
          },
          "geo": {
           "bgcolor": "rgb(17,17,17)",
           "lakecolor": "rgb(17,17,17)",
           "landcolor": "rgb(17,17,17)",
           "showlakes": true,
           "showland": true,
           "subunitcolor": "#506784"
          },
          "hoverlabel": {
           "align": "left"
          },
          "hovermode": "closest",
          "mapbox": {
           "style": "dark"
          },
          "paper_bgcolor": "rgb(17,17,17)",
          "plot_bgcolor": "rgb(17,17,17)",
          "polar": {
           "angularaxis": {
            "gridcolor": "#506784",
            "linecolor": "#506784",
            "ticks": ""
           },
           "bgcolor": "rgb(17,17,17)",
           "radialaxis": {
            "gridcolor": "#506784",
            "linecolor": "#506784",
            "ticks": ""
           }
          },
          "scene": {
           "xaxis": {
            "backgroundcolor": "rgb(17,17,17)",
            "gridcolor": "#506784",
            "gridwidth": 2,
            "linecolor": "#506784",
            "showbackground": true,
            "ticks": "",
            "zerolinecolor": "#C8D4E3"
           },
           "yaxis": {
            "backgroundcolor": "rgb(17,17,17)",
            "gridcolor": "#506784",
            "gridwidth": 2,
            "linecolor": "#506784",
            "showbackground": true,
            "ticks": "",
            "zerolinecolor": "#C8D4E3"
           },
           "zaxis": {
            "backgroundcolor": "rgb(17,17,17)",
            "gridcolor": "#506784",
            "gridwidth": 2,
            "linecolor": "#506784",
            "showbackground": true,
            "ticks": "",
            "zerolinecolor": "#C8D4E3"
           }
          },
          "shapedefaults": {
           "line": {
            "color": "#f2f5fa"
           }
          },
          "sliderdefaults": {
           "bgcolor": "#C8D4E3",
           "bordercolor": "rgb(17,17,17)",
           "borderwidth": 1,
           "tickwidth": 0
          },
          "ternary": {
           "aaxis": {
            "gridcolor": "#506784",
            "linecolor": "#506784",
            "ticks": ""
           },
           "baxis": {
            "gridcolor": "#506784",
            "linecolor": "#506784",
            "ticks": ""
           },
           "bgcolor": "rgb(17,17,17)",
           "caxis": {
            "gridcolor": "#506784",
            "linecolor": "#506784",
            "ticks": ""
           }
          },
          "title": {
           "x": 0.05
          },
          "updatemenudefaults": {
           "bgcolor": "#506784",
           "borderwidth": 0
          },
          "xaxis": {
           "automargin": true,
           "gridcolor": "#283442",
           "linecolor": "#506784",
           "ticks": "",
           "title": {
            "standoff": 15
           },
           "zerolinecolor": "#283442",
           "zerolinewidth": 2
          },
          "yaxis": {
           "automargin": true,
           "gridcolor": "#283442",
           "linecolor": "#506784",
           "ticks": "",
           "title": {
            "standoff": 15
           },
           "zerolinecolor": "#283442",
           "zerolinewidth": 2
          }
         }
        },
        "title": {
         "text": "Position à l'arrivée et écart par rapport à la position sur la grille",
         "x": 0.5
        },
        "width": 800
       }
      }
     },
     "metadata": {},
     "output_type": "display_data"
    }
   ],
   "source": [
    "fig = go.Figure(\n",
    "    data = go.Scatter(\n",
    "        x = df['Abbreviation'], \n",
    "        y = df['Position'],mode='markers', marker_size = 20,\n",
    "        name = \"Place à l'arrivée\"),\n",
    "    layout = go.Layout(\n",
    "        title = go.layout.Title(text = \"Position à l'arrivée et écart par rapport à la position sur la grille\", x = 0.5), width = 800, height = 600, template = 'plotly_dark',legend=dict(\n",
    "        x=0,\n",
    "        y=-0.25)\n",
    "        \n",
    "    )\n",
    ")\n",
    "\n",
    "fig.show()\n",
    "\n",
    "fig.add_trace(\n",
    "    go.Bar(\n",
    "        x = df['Abbreviation'], \n",
    "        y = df['Nombre de places gagnées'], text = df['Position'],\n",
    "        name = \"Ecart par rapport à la position sur la grille\"\n",
    "    )\n",
    ")"
   ]
  },
  {
   "cell_type": "code",
   "execution_count": 32,
   "metadata": {},
   "outputs": [
    {
     "data": {
      "application/vnd.plotly.v1+json": {
       "config": {
        "plotlyServerURL": "https://plot.ly"
       },
       "data": [
        {
         "alignmentgroup": "True",
         "hovertemplate": "TeamColor=b12039<br>Nombre de places gagnées=%{x}<br>FullName=%{y}<br>Position=%{text}<extra></extra>",
         "legendgroup": "b12039",
         "marker": {
          "color": "#636efa",
          "pattern": {
           "shape": ""
          }
         },
         "name": "b12039",
         "offsetgroup": "b12039",
         "orientation": "h",
         "showlegend": true,
         "text": [
          20,
          7
         ],
         "textposition": "auto",
         "type": "bar",
         "x": [
          -3,
          -2
         ],
         "xaxis": "x",
         "y": [
          "Guanyu Zhou",
          "Valtteri Bottas"
         ],
         "yaxis": "y"
        },
        {
         "alignmentgroup": "True",
         "hovertemplate": "TeamColor=f58020<br>Nombre de places gagnées=%{x}<br>FullName=%{y}<br>Position=%{text}<extra></extra>",
         "legendgroup": "f58020",
         "marker": {
          "color": "#EF553B",
          "pattern": {
           "shape": ""
          }
         },
         "name": "f58020",
         "offsetgroup": "f58020",
         "orientation": "h",
         "showlegend": true,
         "text": [
          19,
          13
         ],
         "textposition": "auto",
         "type": "bar",
         "x": [
          -11,
          1
         ],
         "xaxis": "x",
         "y": [
          "Lando Norris",
          "Daniel Ricciardo"
         ],
         "yaxis": "y"
        },
        {
         "alignmentgroup": "True",
         "hovertemplate": "TeamColor=4e7c9b<br>Nombre de places gagnées=%{x}<br>FullName=%{y}<br>Position=%{text}<extra></extra>",
         "legendgroup": "4e7c9b",
         "marker": {
          "color": "#00cc96",
          "pattern": {
           "shape": ""
          }
         },
         "name": "4e7c9b",
         "offsetgroup": "4e7c9b",
         "orientation": "h",
         "showlegend": true,
         "text": [
          18,
          12
         ],
         "textposition": "auto",
         "type": "bar",
         "x": [
          -11,
          -3
         ],
         "xaxis": "x",
         "y": [
          "Pierre Gasly",
          "Yuki Tsunoda"
         ],
         "yaxis": "y"
        },
        {
         "alignmentgroup": "True",
         "hovertemplate": "TeamColor=2d826d<br>Nombre de places gagnées=%{x}<br>FullName=%{y}<br>Position=%{text}<extra></extra>",
         "legendgroup": "2d826d",
         "marker": {
          "color": "#ab63fa",
          "pattern": {
           "shape": ""
          }
         },
         "name": "2d826d",
         "offsetgroup": "2d826d",
         "orientation": "h",
         "showlegend": true,
         "text": [
          17,
          10
         ],
         "textposition": "auto",
         "type": "bar",
         "x": [
          -17,
          -10
         ],
         "xaxis": "x",
         "y": [
          "Sebastian Vettel",
          "Lance Stroll"
         ],
         "yaxis": "y"
        },
        {
         "alignmentgroup": "True",
         "hovertemplate": "TeamColor=b6babd<br>Nombre de places gagnées=%{x}<br>FullName=%{y}<br>Position=%{text}<extra></extra>",
         "legendgroup": "b6babd",
         "marker": {
          "color": "#FFA15A",
          "pattern": {
           "shape": ""
          }
         },
         "name": "b6babd",
         "offsetgroup": "b6babd",
         "orientation": "h",
         "showlegend": true,
         "text": [
          16,
          15
         ],
         "textposition": "auto",
         "type": "bar",
         "x": [
          0,
          0
         ],
         "xaxis": "x",
         "y": [
          "Kevin Magnussen",
          "Mick Schumacher"
         ],
         "yaxis": "y"
        },
        {
         "alignmentgroup": "True",
         "hovertemplate": "TeamColor=37bedd<br>Nombre de places gagnées=%{x}<br>FullName=%{y}<br>Position=%{text}<extra></extra>",
         "legendgroup": "37bedd",
         "marker": {
          "color": "#19d3f3",
          "pattern": {
           "shape": ""
          }
         },
         "name": "37bedd",
         "offsetgroup": "37bedd",
         "orientation": "h",
         "showlegend": true,
         "text": [
          14,
          9
         ],
         "textposition": "auto",
         "type": "bar",
         "x": [
          5,
          9
         ],
         "xaxis": "x",
         "y": [
          "Nicholas Latifi",
          "Alexander Albon"
         ],
         "yaxis": "y"
        },
        {
         "alignmentgroup": "True",
         "hovertemplate": "TeamColor=2293d1<br>Nombre de places gagnées=%{x}<br>FullName=%{y}<br>Position=%{text}<extra></extra>",
         "legendgroup": "2293d1",
         "marker": {
          "color": "#FF6692",
          "pattern": {
           "shape": ""
          }
         },
         "name": "2293d1",
         "offsetgroup": "2293d1",
         "orientation": "h",
         "showlegend": true,
         "text": [
          11,
          8
         ],
         "textposition": "auto",
         "type": "bar",
         "x": [
          0,
          12
         ],
         "xaxis": "x",
         "y": [
          "Fernando Alonso",
          "Esteban Ocon"
         ],
         "yaxis": "y"
        },
        {
         "alignmentgroup": "True",
         "hovertemplate": "TeamColor=6cd3bf<br>Nombre de places gagnées=%{x}<br>FullName=%{y}<br>Position=%{text}<extra></extra>",
         "legendgroup": "6cd3bf",
         "marker": {
          "color": "#B6E880",
          "pattern": {
           "shape": ""
          }
         },
         "name": "6cd3bf",
         "offsetgroup": "6cd3bf",
         "orientation": "h",
         "showlegend": true,
         "text": [
          6,
          5
         ],
         "textposition": "auto",
         "type": "bar",
         "x": [
          0,
          7
         ],
         "xaxis": "x",
         "y": [
          "Lewis Hamilton",
          "George Russell"
         ],
         "yaxis": "y"
        },
        {
         "alignmentgroup": "True",
         "hovertemplate": "TeamColor=1e5bc6<br>Nombre de places gagnées=%{x}<br>FullName=%{y}<br>Position=%{text}<extra></extra>",
         "legendgroup": "1e5bc6",
         "marker": {
          "color": "#FF97FF",
          "pattern": {
           "shape": ""
          }
         },
         "name": "1e5bc6",
         "offsetgroup": "1e5bc6",
         "orientation": "h",
         "showlegend": true,
         "text": [
          4,
          1
         ],
         "textposition": "auto",
         "type": "bar",
         "x": [
          0,
          2
         ],
         "xaxis": "x",
         "y": [
          "Sergio Perez",
          "Max Verstappen"
         ],
         "yaxis": "y"
        },
        {
         "alignmentgroup": "True",
         "hovertemplate": "TeamColor=ed1c24<br>Nombre de places gagnées=%{x}<br>FullName=%{y}<br>Position=%{text}<extra></extra>",
         "legendgroup": "ed1c24",
         "marker": {
          "color": "#FECB52",
          "pattern": {
           "shape": ""
          }
         },
         "name": "ed1c24",
         "offsetgroup": "ed1c24",
         "orientation": "h",
         "showlegend": true,
         "text": [
          3,
          2
         ],
         "textposition": "auto",
         "type": "bar",
         "x": [
          -1,
          -1
         ],
         "xaxis": "x",
         "y": [
          "Carlos Sainz",
          "Charles Leclerc"
         ],
         "yaxis": "y"
        }
       ],
       "layout": {
        "barmode": "relative",
        "height": 600,
        "legend": {
         "title": {
          "text": "TeamColor"
         },
         "tracegroupgap": 0
        },
        "showlegend": false,
        "template": {
         "data": {
          "bar": [
           {
            "error_x": {
             "color": "#f2f5fa"
            },
            "error_y": {
             "color": "#f2f5fa"
            },
            "marker": {
             "line": {
              "color": "rgb(17,17,17)",
              "width": 0.5
             },
             "pattern": {
              "fillmode": "overlay",
              "size": 10,
              "solidity": 0.2
             }
            },
            "type": "bar"
           }
          ],
          "barpolar": [
           {
            "marker": {
             "line": {
              "color": "rgb(17,17,17)",
              "width": 0.5
             },
             "pattern": {
              "fillmode": "overlay",
              "size": 10,
              "solidity": 0.2
             }
            },
            "type": "barpolar"
           }
          ],
          "carpet": [
           {
            "aaxis": {
             "endlinecolor": "#A2B1C6",
             "gridcolor": "#506784",
             "linecolor": "#506784",
             "minorgridcolor": "#506784",
             "startlinecolor": "#A2B1C6"
            },
            "baxis": {
             "endlinecolor": "#A2B1C6",
             "gridcolor": "#506784",
             "linecolor": "#506784",
             "minorgridcolor": "#506784",
             "startlinecolor": "#A2B1C6"
            },
            "type": "carpet"
           }
          ],
          "choropleth": [
           {
            "colorbar": {
             "outlinewidth": 0,
             "ticks": ""
            },
            "type": "choropleth"
           }
          ],
          "contour": [
           {
            "colorbar": {
             "outlinewidth": 0,
             "ticks": ""
            },
            "colorscale": [
             [
              0,
              "#0d0887"
             ],
             [
              0.1111111111111111,
              "#46039f"
             ],
             [
              0.2222222222222222,
              "#7201a8"
             ],
             [
              0.3333333333333333,
              "#9c179e"
             ],
             [
              0.4444444444444444,
              "#bd3786"
             ],
             [
              0.5555555555555556,
              "#d8576b"
             ],
             [
              0.6666666666666666,
              "#ed7953"
             ],
             [
              0.7777777777777778,
              "#fb9f3a"
             ],
             [
              0.8888888888888888,
              "#fdca26"
             ],
             [
              1,
              "#f0f921"
             ]
            ],
            "type": "contour"
           }
          ],
          "contourcarpet": [
           {
            "colorbar": {
             "outlinewidth": 0,
             "ticks": ""
            },
            "type": "contourcarpet"
           }
          ],
          "heatmap": [
           {
            "colorbar": {
             "outlinewidth": 0,
             "ticks": ""
            },
            "colorscale": [
             [
              0,
              "#0d0887"
             ],
             [
              0.1111111111111111,
              "#46039f"
             ],
             [
              0.2222222222222222,
              "#7201a8"
             ],
             [
              0.3333333333333333,
              "#9c179e"
             ],
             [
              0.4444444444444444,
              "#bd3786"
             ],
             [
              0.5555555555555556,
              "#d8576b"
             ],
             [
              0.6666666666666666,
              "#ed7953"
             ],
             [
              0.7777777777777778,
              "#fb9f3a"
             ],
             [
              0.8888888888888888,
              "#fdca26"
             ],
             [
              1,
              "#f0f921"
             ]
            ],
            "type": "heatmap"
           }
          ],
          "heatmapgl": [
           {
            "colorbar": {
             "outlinewidth": 0,
             "ticks": ""
            },
            "colorscale": [
             [
              0,
              "#0d0887"
             ],
             [
              0.1111111111111111,
              "#46039f"
             ],
             [
              0.2222222222222222,
              "#7201a8"
             ],
             [
              0.3333333333333333,
              "#9c179e"
             ],
             [
              0.4444444444444444,
              "#bd3786"
             ],
             [
              0.5555555555555556,
              "#d8576b"
             ],
             [
              0.6666666666666666,
              "#ed7953"
             ],
             [
              0.7777777777777778,
              "#fb9f3a"
             ],
             [
              0.8888888888888888,
              "#fdca26"
             ],
             [
              1,
              "#f0f921"
             ]
            ],
            "type": "heatmapgl"
           }
          ],
          "histogram": [
           {
            "marker": {
             "pattern": {
              "fillmode": "overlay",
              "size": 10,
              "solidity": 0.2
             }
            },
            "type": "histogram"
           }
          ],
          "histogram2d": [
           {
            "colorbar": {
             "outlinewidth": 0,
             "ticks": ""
            },
            "colorscale": [
             [
              0,
              "#0d0887"
             ],
             [
              0.1111111111111111,
              "#46039f"
             ],
             [
              0.2222222222222222,
              "#7201a8"
             ],
             [
              0.3333333333333333,
              "#9c179e"
             ],
             [
              0.4444444444444444,
              "#bd3786"
             ],
             [
              0.5555555555555556,
              "#d8576b"
             ],
             [
              0.6666666666666666,
              "#ed7953"
             ],
             [
              0.7777777777777778,
              "#fb9f3a"
             ],
             [
              0.8888888888888888,
              "#fdca26"
             ],
             [
              1,
              "#f0f921"
             ]
            ],
            "type": "histogram2d"
           }
          ],
          "histogram2dcontour": [
           {
            "colorbar": {
             "outlinewidth": 0,
             "ticks": ""
            },
            "colorscale": [
             [
              0,
              "#0d0887"
             ],
             [
              0.1111111111111111,
              "#46039f"
             ],
             [
              0.2222222222222222,
              "#7201a8"
             ],
             [
              0.3333333333333333,
              "#9c179e"
             ],
             [
              0.4444444444444444,
              "#bd3786"
             ],
             [
              0.5555555555555556,
              "#d8576b"
             ],
             [
              0.6666666666666666,
              "#ed7953"
             ],
             [
              0.7777777777777778,
              "#fb9f3a"
             ],
             [
              0.8888888888888888,
              "#fdca26"
             ],
             [
              1,
              "#f0f921"
             ]
            ],
            "type": "histogram2dcontour"
           }
          ],
          "mesh3d": [
           {
            "colorbar": {
             "outlinewidth": 0,
             "ticks": ""
            },
            "type": "mesh3d"
           }
          ],
          "parcoords": [
           {
            "line": {
             "colorbar": {
              "outlinewidth": 0,
              "ticks": ""
             }
            },
            "type": "parcoords"
           }
          ],
          "pie": [
           {
            "automargin": true,
            "type": "pie"
           }
          ],
          "scatter": [
           {
            "marker": {
             "line": {
              "color": "#283442"
             }
            },
            "type": "scatter"
           }
          ],
          "scatter3d": [
           {
            "line": {
             "colorbar": {
              "outlinewidth": 0,
              "ticks": ""
             }
            },
            "marker": {
             "colorbar": {
              "outlinewidth": 0,
              "ticks": ""
             }
            },
            "type": "scatter3d"
           }
          ],
          "scattercarpet": [
           {
            "marker": {
             "colorbar": {
              "outlinewidth": 0,
              "ticks": ""
             }
            },
            "type": "scattercarpet"
           }
          ],
          "scattergeo": [
           {
            "marker": {
             "colorbar": {
              "outlinewidth": 0,
              "ticks": ""
             }
            },
            "type": "scattergeo"
           }
          ],
          "scattergl": [
           {
            "marker": {
             "line": {
              "color": "#283442"
             }
            },
            "type": "scattergl"
           }
          ],
          "scattermapbox": [
           {
            "marker": {
             "colorbar": {
              "outlinewidth": 0,
              "ticks": ""
             }
            },
            "type": "scattermapbox"
           }
          ],
          "scatterpolar": [
           {
            "marker": {
             "colorbar": {
              "outlinewidth": 0,
              "ticks": ""
             }
            },
            "type": "scatterpolar"
           }
          ],
          "scatterpolargl": [
           {
            "marker": {
             "colorbar": {
              "outlinewidth": 0,
              "ticks": ""
             }
            },
            "type": "scatterpolargl"
           }
          ],
          "scatterternary": [
           {
            "marker": {
             "colorbar": {
              "outlinewidth": 0,
              "ticks": ""
             }
            },
            "type": "scatterternary"
           }
          ],
          "surface": [
           {
            "colorbar": {
             "outlinewidth": 0,
             "ticks": ""
            },
            "colorscale": [
             [
              0,
              "#0d0887"
             ],
             [
              0.1111111111111111,
              "#46039f"
             ],
             [
              0.2222222222222222,
              "#7201a8"
             ],
             [
              0.3333333333333333,
              "#9c179e"
             ],
             [
              0.4444444444444444,
              "#bd3786"
             ],
             [
              0.5555555555555556,
              "#d8576b"
             ],
             [
              0.6666666666666666,
              "#ed7953"
             ],
             [
              0.7777777777777778,
              "#fb9f3a"
             ],
             [
              0.8888888888888888,
              "#fdca26"
             ],
             [
              1,
              "#f0f921"
             ]
            ],
            "type": "surface"
           }
          ],
          "table": [
           {
            "cells": {
             "fill": {
              "color": "#506784"
             },
             "line": {
              "color": "rgb(17,17,17)"
             }
            },
            "header": {
             "fill": {
              "color": "#2a3f5f"
             },
             "line": {
              "color": "rgb(17,17,17)"
             }
            },
            "type": "table"
           }
          ]
         },
         "layout": {
          "annotationdefaults": {
           "arrowcolor": "#f2f5fa",
           "arrowhead": 0,
           "arrowwidth": 1
          },
          "autotypenumbers": "strict",
          "coloraxis": {
           "colorbar": {
            "outlinewidth": 0,
            "ticks": ""
           }
          },
          "colorscale": {
           "diverging": [
            [
             0,
             "#8e0152"
            ],
            [
             0.1,
             "#c51b7d"
            ],
            [
             0.2,
             "#de77ae"
            ],
            [
             0.3,
             "#f1b6da"
            ],
            [
             0.4,
             "#fde0ef"
            ],
            [
             0.5,
             "#f7f7f7"
            ],
            [
             0.6,
             "#e6f5d0"
            ],
            [
             0.7,
             "#b8e186"
            ],
            [
             0.8,
             "#7fbc41"
            ],
            [
             0.9,
             "#4d9221"
            ],
            [
             1,
             "#276419"
            ]
           ],
           "sequential": [
            [
             0,
             "#0d0887"
            ],
            [
             0.1111111111111111,
             "#46039f"
            ],
            [
             0.2222222222222222,
             "#7201a8"
            ],
            [
             0.3333333333333333,
             "#9c179e"
            ],
            [
             0.4444444444444444,
             "#bd3786"
            ],
            [
             0.5555555555555556,
             "#d8576b"
            ],
            [
             0.6666666666666666,
             "#ed7953"
            ],
            [
             0.7777777777777778,
             "#fb9f3a"
            ],
            [
             0.8888888888888888,
             "#fdca26"
            ],
            [
             1,
             "#f0f921"
            ]
           ],
           "sequentialminus": [
            [
             0,
             "#0d0887"
            ],
            [
             0.1111111111111111,
             "#46039f"
            ],
            [
             0.2222222222222222,
             "#7201a8"
            ],
            [
             0.3333333333333333,
             "#9c179e"
            ],
            [
             0.4444444444444444,
             "#bd3786"
            ],
            [
             0.5555555555555556,
             "#d8576b"
            ],
            [
             0.6666666666666666,
             "#ed7953"
            ],
            [
             0.7777777777777778,
             "#fb9f3a"
            ],
            [
             0.8888888888888888,
             "#fdca26"
            ],
            [
             1,
             "#f0f921"
            ]
           ]
          },
          "colorway": [
           "#636efa",
           "#EF553B",
           "#00cc96",
           "#ab63fa",
           "#FFA15A",
           "#19d3f3",
           "#FF6692",
           "#B6E880",
           "#FF97FF",
           "#FECB52"
          ],
          "font": {
           "color": "#f2f5fa"
          },
          "geo": {
           "bgcolor": "rgb(17,17,17)",
           "lakecolor": "rgb(17,17,17)",
           "landcolor": "rgb(17,17,17)",
           "showlakes": true,
           "showland": true,
           "subunitcolor": "#506784"
          },
          "hoverlabel": {
           "align": "left"
          },
          "hovermode": "closest",
          "mapbox": {
           "style": "dark"
          },
          "paper_bgcolor": "rgb(17,17,17)",
          "plot_bgcolor": "rgb(17,17,17)",
          "polar": {
           "angularaxis": {
            "gridcolor": "#506784",
            "linecolor": "#506784",
            "ticks": ""
           },
           "bgcolor": "rgb(17,17,17)",
           "radialaxis": {
            "gridcolor": "#506784",
            "linecolor": "#506784",
            "ticks": ""
           }
          },
          "scene": {
           "xaxis": {
            "backgroundcolor": "rgb(17,17,17)",
            "gridcolor": "#506784",
            "gridwidth": 2,
            "linecolor": "#506784",
            "showbackground": true,
            "ticks": "",
            "zerolinecolor": "#C8D4E3"
           },
           "yaxis": {
            "backgroundcolor": "rgb(17,17,17)",
            "gridcolor": "#506784",
            "gridwidth": 2,
            "linecolor": "#506784",
            "showbackground": true,
            "ticks": "",
            "zerolinecolor": "#C8D4E3"
           },
           "zaxis": {
            "backgroundcolor": "rgb(17,17,17)",
            "gridcolor": "#506784",
            "gridwidth": 2,
            "linecolor": "#506784",
            "showbackground": true,
            "ticks": "",
            "zerolinecolor": "#C8D4E3"
           }
          },
          "shapedefaults": {
           "line": {
            "color": "#f2f5fa"
           }
          },
          "sliderdefaults": {
           "bgcolor": "#C8D4E3",
           "bordercolor": "rgb(17,17,17)",
           "borderwidth": 1,
           "tickwidth": 0
          },
          "ternary": {
           "aaxis": {
            "gridcolor": "#506784",
            "linecolor": "#506784",
            "ticks": ""
           },
           "baxis": {
            "gridcolor": "#506784",
            "linecolor": "#506784",
            "ticks": ""
           },
           "bgcolor": "rgb(17,17,17)",
           "caxis": {
            "gridcolor": "#506784",
            "linecolor": "#506784",
            "ticks": ""
           }
          },
          "title": {
           "x": 0.05
          },
          "updatemenudefaults": {
           "bgcolor": "#506784",
           "borderwidth": 0
          },
          "xaxis": {
           "automargin": true,
           "gridcolor": "#283442",
           "linecolor": "#506784",
           "ticks": "",
           "title": {
            "standoff": 15
           },
           "zerolinecolor": "#283442",
           "zerolinewidth": 2
          },
          "yaxis": {
           "automargin": true,
           "gridcolor": "#283442",
           "linecolor": "#506784",
           "ticks": "",
           "title": {
            "standoff": 15
           },
           "zerolinecolor": "#283442",
           "zerolinewidth": 2
          }
         }
        },
        "title": {
         "text": "Nombre de place gagnées entre la ligne de départ et l'arrivée"
        },
        "width": 800,
        "xaxis": {
         "anchor": "y",
         "domain": [
          0,
          1
         ],
         "title": {
          "text": "Nombre de places gagnées"
         }
        },
        "yaxis": {
         "anchor": "x",
         "domain": [
          0,
          1
         ],
         "title": {
          "text": "FullName"
         }
        }
       }
      }
     },
     "metadata": {},
     "output_type": "display_data"
    }
   ],
   "source": [
    "df = df.sort_values(by = 'Position', ascending = False)\n",
    "\n",
    "fig = px.bar(df, x= 'Nombre de places gagnées', y = 'FullName', text = 'Position', \n",
    "             width = 800, height = 600, color = 'TeamColor', orientation='h', \n",
    "             title = \"Nombre de place gagnées entre la ligne de départ et l'arrivée\")\n",
    "\n",
    "fig.update(layout_showlegend=False)"
   ]
  },
  {
   "cell_type": "code",
   "execution_count": 75,
   "metadata": {},
   "outputs": [
    {
     "data": {
      "text/plain": [
       "24    20.0\n",
       "4     19.0\n",
       "10    18.0\n",
       "5     17.0\n",
       "20    16.0\n",
       "47    15.0\n",
       "6     14.0\n",
       "3     13.0\n",
       "22    12.0\n",
       "14    11.0\n",
       "18    10.0\n",
       "23     9.0\n",
       "31     8.0\n",
       "77     7.0\n",
       "44     6.0\n",
       "63     5.0\n",
       "11     4.0\n",
       "55     3.0\n",
       "16     2.0\n",
       "1      1.0\n",
       "Name: Position, dtype: float64"
      ]
     },
     "execution_count": 75,
     "metadata": {},
     "output_type": "execute_result"
    }
   ],
   "source": [
    "a = df['Position']\n",
    "a"
   ]
  },
  {
   "cell_type": "code",
   "execution_count": 100,
   "metadata": {},
   "outputs": [],
   "source": [
    "\n",
    "hovertemplate_gap = 'Finishing place : %{text}'+'<br>Difference from Grid : %{x:.0f} position(s)'"
   ]
  },
  {
   "cell_type": "code",
   "execution_count": 103,
   "metadata": {},
   "outputs": [
    {
     "data": {
      "application/vnd.plotly.v1+json": {
       "config": {
        "plotlyServerURL": "https://plot.ly"
       },
       "data": [
        {
         "hovertemplate": "Finishing place : %{text}<br>Difference from Grid : %{x:.0f} position(s)",
         "marker": {
          "color": [
           "#b12039",
           "#f58020",
           "#4e7c9b",
           "#2d826d",
           "#b6babd",
           "#b6babd",
           "#37bedd",
           "#f58020",
           "#4e7c9b",
           "#2293d1",
           "#2d826d",
           "#37bedd",
           "#2293d1",
           "#b12039",
           "#6cd3bf",
           "#6cd3bf",
           "#1e5bc6",
           "#ed1c24",
           "#ed1c24",
           "#1e5bc6"
          ]
         },
         "name": "",
         "orientation": "h",
         "text": [
          20,
          19,
          18,
          17,
          16,
          15,
          14,
          13,
          12,
          11,
          10,
          9,
          8,
          7,
          6,
          5,
          4,
          3,
          2,
          1
         ],
         "textposition": "outside",
         "type": "bar",
         "x": [
          -2.9,
          -10.9,
          -10.9,
          -16.9,
          0.1,
          0.1,
          5.1,
          1.1,
          -2.9,
          0.1,
          -9.9,
          9.1,
          12.1,
          -1.9,
          0.1,
          7.1,
          0.1,
          -0.9,
          -0.9,
          2.1
         ],
         "y": [
          "Guanyu Zhou",
          "Lando Norris",
          "Pierre Gasly",
          "Sebastian Vettel",
          "Kevin Magnussen",
          "Mick Schumacher",
          "Nicholas Latifi",
          "Daniel Ricciardo",
          "Yuki Tsunoda",
          "Fernando Alonso",
          "Lance Stroll",
          "Alexander Albon",
          "Esteban Ocon",
          "Valtteri Bottas",
          "Lewis Hamilton",
          "George Russell",
          "Sergio Perez",
          "Carlos Sainz",
          "Charles Leclerc",
          "Max Verstappen"
         ]
        }
       ],
       "layout": {
        "height": 600,
        "hovermode": "y unified",
        "template": {
         "data": {
          "bar": [
           {
            "error_x": {
             "color": "#f2f5fa"
            },
            "error_y": {
             "color": "#f2f5fa"
            },
            "marker": {
             "line": {
              "color": "rgb(17,17,17)",
              "width": 0.5
             },
             "pattern": {
              "fillmode": "overlay",
              "size": 10,
              "solidity": 0.2
             }
            },
            "type": "bar"
           }
          ],
          "barpolar": [
           {
            "marker": {
             "line": {
              "color": "rgb(17,17,17)",
              "width": 0.5
             },
             "pattern": {
              "fillmode": "overlay",
              "size": 10,
              "solidity": 0.2
             }
            },
            "type": "barpolar"
           }
          ],
          "carpet": [
           {
            "aaxis": {
             "endlinecolor": "#A2B1C6",
             "gridcolor": "#506784",
             "linecolor": "#506784",
             "minorgridcolor": "#506784",
             "startlinecolor": "#A2B1C6"
            },
            "baxis": {
             "endlinecolor": "#A2B1C6",
             "gridcolor": "#506784",
             "linecolor": "#506784",
             "minorgridcolor": "#506784",
             "startlinecolor": "#A2B1C6"
            },
            "type": "carpet"
           }
          ],
          "choropleth": [
           {
            "colorbar": {
             "outlinewidth": 0,
             "ticks": ""
            },
            "type": "choropleth"
           }
          ],
          "contour": [
           {
            "colorbar": {
             "outlinewidth": 0,
             "ticks": ""
            },
            "colorscale": [
             [
              0,
              "#0d0887"
             ],
             [
              0.1111111111111111,
              "#46039f"
             ],
             [
              0.2222222222222222,
              "#7201a8"
             ],
             [
              0.3333333333333333,
              "#9c179e"
             ],
             [
              0.4444444444444444,
              "#bd3786"
             ],
             [
              0.5555555555555556,
              "#d8576b"
             ],
             [
              0.6666666666666666,
              "#ed7953"
             ],
             [
              0.7777777777777778,
              "#fb9f3a"
             ],
             [
              0.8888888888888888,
              "#fdca26"
             ],
             [
              1,
              "#f0f921"
             ]
            ],
            "type": "contour"
           }
          ],
          "contourcarpet": [
           {
            "colorbar": {
             "outlinewidth": 0,
             "ticks": ""
            },
            "type": "contourcarpet"
           }
          ],
          "heatmap": [
           {
            "colorbar": {
             "outlinewidth": 0,
             "ticks": ""
            },
            "colorscale": [
             [
              0,
              "#0d0887"
             ],
             [
              0.1111111111111111,
              "#46039f"
             ],
             [
              0.2222222222222222,
              "#7201a8"
             ],
             [
              0.3333333333333333,
              "#9c179e"
             ],
             [
              0.4444444444444444,
              "#bd3786"
             ],
             [
              0.5555555555555556,
              "#d8576b"
             ],
             [
              0.6666666666666666,
              "#ed7953"
             ],
             [
              0.7777777777777778,
              "#fb9f3a"
             ],
             [
              0.8888888888888888,
              "#fdca26"
             ],
             [
              1,
              "#f0f921"
             ]
            ],
            "type": "heatmap"
           }
          ],
          "heatmapgl": [
           {
            "colorbar": {
             "outlinewidth": 0,
             "ticks": ""
            },
            "colorscale": [
             [
              0,
              "#0d0887"
             ],
             [
              0.1111111111111111,
              "#46039f"
             ],
             [
              0.2222222222222222,
              "#7201a8"
             ],
             [
              0.3333333333333333,
              "#9c179e"
             ],
             [
              0.4444444444444444,
              "#bd3786"
             ],
             [
              0.5555555555555556,
              "#d8576b"
             ],
             [
              0.6666666666666666,
              "#ed7953"
             ],
             [
              0.7777777777777778,
              "#fb9f3a"
             ],
             [
              0.8888888888888888,
              "#fdca26"
             ],
             [
              1,
              "#f0f921"
             ]
            ],
            "type": "heatmapgl"
           }
          ],
          "histogram": [
           {
            "marker": {
             "pattern": {
              "fillmode": "overlay",
              "size": 10,
              "solidity": 0.2
             }
            },
            "type": "histogram"
           }
          ],
          "histogram2d": [
           {
            "colorbar": {
             "outlinewidth": 0,
             "ticks": ""
            },
            "colorscale": [
             [
              0,
              "#0d0887"
             ],
             [
              0.1111111111111111,
              "#46039f"
             ],
             [
              0.2222222222222222,
              "#7201a8"
             ],
             [
              0.3333333333333333,
              "#9c179e"
             ],
             [
              0.4444444444444444,
              "#bd3786"
             ],
             [
              0.5555555555555556,
              "#d8576b"
             ],
             [
              0.6666666666666666,
              "#ed7953"
             ],
             [
              0.7777777777777778,
              "#fb9f3a"
             ],
             [
              0.8888888888888888,
              "#fdca26"
             ],
             [
              1,
              "#f0f921"
             ]
            ],
            "type": "histogram2d"
           }
          ],
          "histogram2dcontour": [
           {
            "colorbar": {
             "outlinewidth": 0,
             "ticks": ""
            },
            "colorscale": [
             [
              0,
              "#0d0887"
             ],
             [
              0.1111111111111111,
              "#46039f"
             ],
             [
              0.2222222222222222,
              "#7201a8"
             ],
             [
              0.3333333333333333,
              "#9c179e"
             ],
             [
              0.4444444444444444,
              "#bd3786"
             ],
             [
              0.5555555555555556,
              "#d8576b"
             ],
             [
              0.6666666666666666,
              "#ed7953"
             ],
             [
              0.7777777777777778,
              "#fb9f3a"
             ],
             [
              0.8888888888888888,
              "#fdca26"
             ],
             [
              1,
              "#f0f921"
             ]
            ],
            "type": "histogram2dcontour"
           }
          ],
          "mesh3d": [
           {
            "colorbar": {
             "outlinewidth": 0,
             "ticks": ""
            },
            "type": "mesh3d"
           }
          ],
          "parcoords": [
           {
            "line": {
             "colorbar": {
              "outlinewidth": 0,
              "ticks": ""
             }
            },
            "type": "parcoords"
           }
          ],
          "pie": [
           {
            "automargin": true,
            "type": "pie"
           }
          ],
          "scatter": [
           {
            "marker": {
             "line": {
              "color": "#283442"
             }
            },
            "type": "scatter"
           }
          ],
          "scatter3d": [
           {
            "line": {
             "colorbar": {
              "outlinewidth": 0,
              "ticks": ""
             }
            },
            "marker": {
             "colorbar": {
              "outlinewidth": 0,
              "ticks": ""
             }
            },
            "type": "scatter3d"
           }
          ],
          "scattercarpet": [
           {
            "marker": {
             "colorbar": {
              "outlinewidth": 0,
              "ticks": ""
             }
            },
            "type": "scattercarpet"
           }
          ],
          "scattergeo": [
           {
            "marker": {
             "colorbar": {
              "outlinewidth": 0,
              "ticks": ""
             }
            },
            "type": "scattergeo"
           }
          ],
          "scattergl": [
           {
            "marker": {
             "line": {
              "color": "#283442"
             }
            },
            "type": "scattergl"
           }
          ],
          "scattermapbox": [
           {
            "marker": {
             "colorbar": {
              "outlinewidth": 0,
              "ticks": ""
             }
            },
            "type": "scattermapbox"
           }
          ],
          "scatterpolar": [
           {
            "marker": {
             "colorbar": {
              "outlinewidth": 0,
              "ticks": ""
             }
            },
            "type": "scatterpolar"
           }
          ],
          "scatterpolargl": [
           {
            "marker": {
             "colorbar": {
              "outlinewidth": 0,
              "ticks": ""
             }
            },
            "type": "scatterpolargl"
           }
          ],
          "scatterternary": [
           {
            "marker": {
             "colorbar": {
              "outlinewidth": 0,
              "ticks": ""
             }
            },
            "type": "scatterternary"
           }
          ],
          "surface": [
           {
            "colorbar": {
             "outlinewidth": 0,
             "ticks": ""
            },
            "colorscale": [
             [
              0,
              "#0d0887"
             ],
             [
              0.1111111111111111,
              "#46039f"
             ],
             [
              0.2222222222222222,
              "#7201a8"
             ],
             [
              0.3333333333333333,
              "#9c179e"
             ],
             [
              0.4444444444444444,
              "#bd3786"
             ],
             [
              0.5555555555555556,
              "#d8576b"
             ],
             [
              0.6666666666666666,
              "#ed7953"
             ],
             [
              0.7777777777777778,
              "#fb9f3a"
             ],
             [
              0.8888888888888888,
              "#fdca26"
             ],
             [
              1,
              "#f0f921"
             ]
            ],
            "type": "surface"
           }
          ],
          "table": [
           {
            "cells": {
             "fill": {
              "color": "#506784"
             },
             "line": {
              "color": "rgb(17,17,17)"
             }
            },
            "header": {
             "fill": {
              "color": "#2a3f5f"
             },
             "line": {
              "color": "rgb(17,17,17)"
             }
            },
            "type": "table"
           }
          ]
         },
         "layout": {
          "annotationdefaults": {
           "arrowcolor": "#f2f5fa",
           "arrowhead": 0,
           "arrowwidth": 1
          },
          "autotypenumbers": "strict",
          "coloraxis": {
           "colorbar": {
            "outlinewidth": 0,
            "ticks": ""
           }
          },
          "colorscale": {
           "diverging": [
            [
             0,
             "#8e0152"
            ],
            [
             0.1,
             "#c51b7d"
            ],
            [
             0.2,
             "#de77ae"
            ],
            [
             0.3,
             "#f1b6da"
            ],
            [
             0.4,
             "#fde0ef"
            ],
            [
             0.5,
             "#f7f7f7"
            ],
            [
             0.6,
             "#e6f5d0"
            ],
            [
             0.7,
             "#b8e186"
            ],
            [
             0.8,
             "#7fbc41"
            ],
            [
             0.9,
             "#4d9221"
            ],
            [
             1,
             "#276419"
            ]
           ],
           "sequential": [
            [
             0,
             "#0d0887"
            ],
            [
             0.1111111111111111,
             "#46039f"
            ],
            [
             0.2222222222222222,
             "#7201a8"
            ],
            [
             0.3333333333333333,
             "#9c179e"
            ],
            [
             0.4444444444444444,
             "#bd3786"
            ],
            [
             0.5555555555555556,
             "#d8576b"
            ],
            [
             0.6666666666666666,
             "#ed7953"
            ],
            [
             0.7777777777777778,
             "#fb9f3a"
            ],
            [
             0.8888888888888888,
             "#fdca26"
            ],
            [
             1,
             "#f0f921"
            ]
           ],
           "sequentialminus": [
            [
             0,
             "#0d0887"
            ],
            [
             0.1111111111111111,
             "#46039f"
            ],
            [
             0.2222222222222222,
             "#7201a8"
            ],
            [
             0.3333333333333333,
             "#9c179e"
            ],
            [
             0.4444444444444444,
             "#bd3786"
            ],
            [
             0.5555555555555556,
             "#d8576b"
            ],
            [
             0.6666666666666666,
             "#ed7953"
            ],
            [
             0.7777777777777778,
             "#fb9f3a"
            ],
            [
             0.8888888888888888,
             "#fdca26"
            ],
            [
             1,
             "#f0f921"
            ]
           ]
          },
          "colorway": [
           "#636efa",
           "#EF553B",
           "#00cc96",
           "#ab63fa",
           "#FFA15A",
           "#19d3f3",
           "#FF6692",
           "#B6E880",
           "#FF97FF",
           "#FECB52"
          ],
          "font": {
           "color": "#f2f5fa"
          },
          "geo": {
           "bgcolor": "rgb(17,17,17)",
           "lakecolor": "rgb(17,17,17)",
           "landcolor": "rgb(17,17,17)",
           "showlakes": true,
           "showland": true,
           "subunitcolor": "#506784"
          },
          "hoverlabel": {
           "align": "left"
          },
          "hovermode": "closest",
          "mapbox": {
           "style": "dark"
          },
          "paper_bgcolor": "rgb(17,17,17)",
          "plot_bgcolor": "rgb(17,17,17)",
          "polar": {
           "angularaxis": {
            "gridcolor": "#506784",
            "linecolor": "#506784",
            "ticks": ""
           },
           "bgcolor": "rgb(17,17,17)",
           "radialaxis": {
            "gridcolor": "#506784",
            "linecolor": "#506784",
            "ticks": ""
           }
          },
          "scene": {
           "xaxis": {
            "backgroundcolor": "rgb(17,17,17)",
            "gridcolor": "#506784",
            "gridwidth": 2,
            "linecolor": "#506784",
            "showbackground": true,
            "ticks": "",
            "zerolinecolor": "#C8D4E3"
           },
           "yaxis": {
            "backgroundcolor": "rgb(17,17,17)",
            "gridcolor": "#506784",
            "gridwidth": 2,
            "linecolor": "#506784",
            "showbackground": true,
            "ticks": "",
            "zerolinecolor": "#C8D4E3"
           },
           "zaxis": {
            "backgroundcolor": "rgb(17,17,17)",
            "gridcolor": "#506784",
            "gridwidth": 2,
            "linecolor": "#506784",
            "showbackground": true,
            "ticks": "",
            "zerolinecolor": "#C8D4E3"
           }
          },
          "shapedefaults": {
           "line": {
            "color": "#f2f5fa"
           }
          },
          "sliderdefaults": {
           "bgcolor": "#C8D4E3",
           "bordercolor": "rgb(17,17,17)",
           "borderwidth": 1,
           "tickwidth": 0
          },
          "ternary": {
           "aaxis": {
            "gridcolor": "#506784",
            "linecolor": "#506784",
            "ticks": ""
           },
           "baxis": {
            "gridcolor": "#506784",
            "linecolor": "#506784",
            "ticks": ""
           },
           "bgcolor": "rgb(17,17,17)",
           "caxis": {
            "gridcolor": "#506784",
            "linecolor": "#506784",
            "ticks": ""
           }
          },
          "title": {
           "x": 0.05
          },
          "updatemenudefaults": {
           "bgcolor": "#506784",
           "borderwidth": 0
          },
          "xaxis": {
           "automargin": true,
           "gridcolor": "#283442",
           "linecolor": "#506784",
           "ticks": "",
           "title": {
            "standoff": 15
           },
           "zerolinecolor": "#283442",
           "zerolinewidth": 2
          },
          "yaxis": {
           "automargin": true,
           "gridcolor": "#283442",
           "linecolor": "#506784",
           "ticks": "",
           "title": {
            "standoff": 15
           },
           "zerolinecolor": "#283442",
           "zerolinewidth": 2
          }
         }
        },
        "title": {
         "text": "Position at finish and gap from grid position",
         "x": 0.5
        },
        "width": 800
       }
      }
     },
     "metadata": {},
     "output_type": "display_data"
    }
   ],
   "source": [
    "fig = go.Figure(\n",
    "    data = go.Bar(\n",
    "        x = df['Nombre de places gagnées']+0.1, \n",
    "        y = df['FullName'],\n",
    "        text = df['Position'], marker_color=\"#\" + df['TeamColor'], textposition = \"outside\", hovertemplate = hovertemplate_gap,\n",
    "        name = \"\", \n",
    "        orientation = 'h'),    \n",
    "    layout = go.Layout(\n",
    "        title = go.layout.Title(text = \"Position at finish and gap from grid position\", x = 0.5), width = 800, height = 600, template = 'plotly_dark'\n",
    "    )\n",
    ")\n",
    "        \n",
    "fig.update_layout(hovermode='y unified')\n",
    "\n",
    "fig.show()\n"
   ]
  },
  {
   "cell_type": "code",
   "execution_count": null,
   "metadata": {},
   "outputs": [
    {
     "data": {
      "text/plain": [
       "'#ff8181'"
      ]
     },
     "execution_count": 143,
     "metadata": {},
     "output_type": "execute_result"
    }
   ],
   "source": [
    "ff1.plotting.driver_color('SAI')"
   ]
  },
  {
   "cell_type": "code",
   "execution_count": null,
   "metadata": {},
   "outputs": [],
   "source": [
    "def couleur(pilote) :\n",
    "    hexa = ff1.plotting.driver_color(pilote)\n",
    "    \n",
    "    return hexa"
   ]
  },
  {
   "cell_type": "code",
   "execution_count": null,
   "metadata": {},
   "outputs": [
    {
     "data": {
      "text/plain": [
       "'#ff8181'"
      ]
     },
     "execution_count": 144,
     "metadata": {},
     "output_type": "execute_result"
    }
   ],
   "source": [
    "couleur('sai')"
   ]
  },
  {
   "cell_type": "code",
   "execution_count": null,
   "metadata": {},
   "outputs": [],
   "source": [
    "df['couleur_pilote'] = df['Abbreviation'].apply(couleur)"
   ]
  },
  {
   "cell_type": "code",
   "execution_count": null,
   "metadata": {},
   "outputs": [
    {
     "data": {
      "text/html": [
       "<div><div id=d4789237-fb1a-464c-b6b5-36bd4ccf4a00 style=\"display:none; background-color:#9D6CFF; color:white; width:200px; height:30px; padding-left:5px; border-radius:4px; flex-direction:row; justify-content:space-around; align-items:center;\" onmouseover=\"this.style.backgroundColor='#BA9BF8'\" onmouseout=\"this.style.backgroundColor='#9D6CFF'\" onclick=\"window.commands?.execute('create-mitosheet-from-dataframe-output');\">See Full Dataframe in Mito</div> <script> if (window.commands.hasCommand('create-mitosheet-from-dataframe-output')) document.getElementById('d4789237-fb1a-464c-b6b5-36bd4ccf4a00').style.display = 'flex' </script> <table border=\"1\" class=\"dataframe\">\n",
       "  <thead>\n",
       "    <tr style=\"text-align: right;\">\n",
       "      <th></th>\n",
       "      <th>DriverNumber</th>\n",
       "      <th>BroadcastName</th>\n",
       "      <th>Abbreviation</th>\n",
       "      <th>TeamName</th>\n",
       "      <th>TeamColor</th>\n",
       "      <th>FirstName</th>\n",
       "      <th>LastName</th>\n",
       "      <th>FullName</th>\n",
       "      <th>Position</th>\n",
       "      <th>GridPosition</th>\n",
       "      <th>Q1</th>\n",
       "      <th>Q2</th>\n",
       "      <th>Q3</th>\n",
       "      <th>Time</th>\n",
       "      <th>Status</th>\n",
       "      <th>Points</th>\n",
       "      <th>Nombre de places gagnées</th>\n",
       "      <th>couleur_pilote</th>\n",
       "    </tr>\n",
       "  </thead>\n",
       "  <tbody>\n",
       "    <tr>\n",
       "      <th>1</th>\n",
       "      <td>1</td>\n",
       "      <td>M VERSTAPPEN</td>\n",
       "      <td>VER</td>\n",
       "      <td>Red Bull Racing</td>\n",
       "      <td>1e5bc6</td>\n",
       "      <td>Max</td>\n",
       "      <td>Verstappen</td>\n",
       "      <td>Max Verstappen</td>\n",
       "      <td>1.0</td>\n",
       "      <td>3.0</td>\n",
       "      <td>NaT</td>\n",
       "      <td>NaT</td>\n",
       "      <td>NaT</td>\n",
       "      <td>0 days 01:34:24.258000</td>\n",
       "      <td>Finished</td>\n",
       "      <td>26.0</td>\n",
       "      <td>2.0</td>\n",
       "      <td>#0600ef</td>\n",
       "    </tr>\n",
       "    <tr>\n",
       "      <th>16</th>\n",
       "      <td>16</td>\n",
       "      <td>C LECLERC</td>\n",
       "      <td>LEC</td>\n",
       "      <td>Ferrari</td>\n",
       "      <td>ed1c24</td>\n",
       "      <td>Charles</td>\n",
       "      <td>Leclerc</td>\n",
       "      <td>Charles Leclerc</td>\n",
       "      <td>2.0</td>\n",
       "      <td>1.0</td>\n",
       "      <td>NaT</td>\n",
       "      <td>NaT</td>\n",
       "      <td>NaT</td>\n",
       "      <td>0 days 01:34:28.044000</td>\n",
       "      <td>Finished</td>\n",
       "      <td>18.0</td>\n",
       "      <td>-1.0</td>\n",
       "      <td>#dc0000</td>\n",
       "    </tr>\n",
       "    <tr>\n",
       "      <th>55</th>\n",
       "      <td>55</td>\n",
       "      <td>C SAINZ</td>\n",
       "      <td>SAI</td>\n",
       "      <td>Ferrari</td>\n",
       "      <td>ed1c24</td>\n",
       "      <td>Carlos</td>\n",
       "      <td>Sainz</td>\n",
       "      <td>Carlos Sainz</td>\n",
       "      <td>3.0</td>\n",
       "      <td>2.0</td>\n",
       "      <td>NaT</td>\n",
       "      <td>NaT</td>\n",
       "      <td>NaT</td>\n",
       "      <td>0 days 01:34:32.487000</td>\n",
       "      <td>Finished</td>\n",
       "      <td>15.0</td>\n",
       "      <td>-1.0</td>\n",
       "      <td>#ff8181</td>\n",
       "    </tr>\n",
       "    <tr>\n",
       "      <th>11</th>\n",
       "      <td>11</td>\n",
       "      <td>S PEREZ</td>\n",
       "      <td>PER</td>\n",
       "      <td>Red Bull Racing</td>\n",
       "      <td>1e5bc6</td>\n",
       "      <td>Sergio</td>\n",
       "      <td>Perez</td>\n",
       "      <td>Sergio Perez</td>\n",
       "      <td>4.0</td>\n",
       "      <td>4.0</td>\n",
       "      <td>NaT</td>\n",
       "      <td>NaT</td>\n",
       "      <td>NaT</td>\n",
       "      <td>0 days 01:34:34.896000</td>\n",
       "      <td>Finished</td>\n",
       "      <td>12.0</td>\n",
       "      <td>0.0</td>\n",
       "      <td>#716de2</td>\n",
       "    </tr>\n",
       "    <tr>\n",
       "      <th>63</th>\n",
       "      <td>63</td>\n",
       "      <td>G RUSSELL</td>\n",
       "      <td>RUS</td>\n",
       "      <td>Mercedes</td>\n",
       "      <td>6cd3bf</td>\n",
       "      <td>George</td>\n",
       "      <td>Russell</td>\n",
       "      <td>George Russell</td>\n",
       "      <td>5.0</td>\n",
       "      <td>12.0</td>\n",
       "      <td>NaT</td>\n",
       "      <td>NaT</td>\n",
       "      <td>NaT</td>\n",
       "      <td>0 days 01:34:42.840000</td>\n",
       "      <td>Finished</td>\n",
       "      <td>10.0</td>\n",
       "      <td>7.0</td>\n",
       "      <td>#24ffff</td>\n",
       "    </tr>\n",
       "    <tr>\n",
       "      <th>44</th>\n",
       "      <td>44</td>\n",
       "      <td>L HAMILTON</td>\n",
       "      <td>HAM</td>\n",
       "      <td>Mercedes</td>\n",
       "      <td>6cd3bf</td>\n",
       "      <td>Lewis</td>\n",
       "      <td>Hamilton</td>\n",
       "      <td>Lewis Hamilton</td>\n",
       "      <td>6.0</td>\n",
       "      <td>6.0</td>\n",
       "      <td>NaT</td>\n",
       "      <td>NaT</td>\n",
       "      <td>NaT</td>\n",
       "      <td>0 days 01:34:45.626000</td>\n",
       "      <td>Finished</td>\n",
       "      <td>8.0</td>\n",
       "      <td>0.0</td>\n",
       "      <td>#00d2be</td>\n",
       "    </tr>\n",
       "    <tr>\n",
       "      <th>77</th>\n",
       "      <td>77</td>\n",
       "      <td>V BOTTAS</td>\n",
       "      <td>BOT</td>\n",
       "      <td>Alfa Romeo</td>\n",
       "      <td>b12039</td>\n",
       "      <td>Valtteri</td>\n",
       "      <td>Bottas</td>\n",
       "      <td>Valtteri Bottas</td>\n",
       "      <td>7.0</td>\n",
       "      <td>5.0</td>\n",
       "      <td>NaT</td>\n",
       "      <td>NaT</td>\n",
       "      <td>NaT</td>\n",
       "      <td>0 days 01:34:49.331000</td>\n",
       "      <td>Finished</td>\n",
       "      <td>6.0</td>\n",
       "      <td>-2.0</td>\n",
       "      <td>#900000</td>\n",
       "    </tr>\n",
       "    <tr>\n",
       "      <th>31</th>\n",
       "      <td>31</td>\n",
       "      <td>E OCON</td>\n",
       "      <td>OCO</td>\n",
       "      <td>Alpine</td>\n",
       "      <td>2293d1</td>\n",
       "      <td>Esteban</td>\n",
       "      <td>Ocon</td>\n",
       "      <td>Esteban Ocon</td>\n",
       "      <td>8.0</td>\n",
       "      <td>20.0</td>\n",
       "      <td>NaT</td>\n",
       "      <td>NaT</td>\n",
       "      <td>NaT</td>\n",
       "      <td>0 days 01:34:52.644000</td>\n",
       "      <td>Finished</td>\n",
       "      <td>4.0</td>\n",
       "      <td>12.0</td>\n",
       "      <td>#70c2ff</td>\n",
       "    </tr>\n",
       "    <tr>\n",
       "      <th>23</th>\n",
       "      <td>23</td>\n",
       "      <td>A ALBON</td>\n",
       "      <td>ALB</td>\n",
       "      <td>Williams</td>\n",
       "      <td>37bedd</td>\n",
       "      <td>Alexander</td>\n",
       "      <td>Albon</td>\n",
       "      <td>Alexander Albon</td>\n",
       "      <td>9.0</td>\n",
       "      <td>18.0</td>\n",
       "      <td>NaT</td>\n",
       "      <td>NaT</td>\n",
       "      <td>NaT</td>\n",
       "      <td>0 days 01:34:56.623000</td>\n",
       "      <td>Finished</td>\n",
       "      <td>2.0</td>\n",
       "      <td>9.0</td>\n",
       "      <td>#005aff</td>\n",
       "    </tr>\n",
       "    <tr>\n",
       "      <th>18</th>\n",
       "      <td>18</td>\n",
       "      <td>L STROLL</td>\n",
       "      <td>STR</td>\n",
       "      <td>Aston Martin</td>\n",
       "      <td>2d826d</td>\n",
       "      <td>Lance</td>\n",
       "      <td>Stroll</td>\n",
       "      <td>Lance Stroll</td>\n",
       "      <td>10.0</td>\n",
       "      <td>0.0</td>\n",
       "      <td>NaT</td>\n",
       "      <td>NaT</td>\n",
       "      <td>NaT</td>\n",
       "      <td>0 days 01:35:01.284000</td>\n",
       "      <td>Finished</td>\n",
       "      <td>1.0</td>\n",
       "      <td>-10.0</td>\n",
       "      <td>#25a617</td>\n",
       "    </tr>\n",
       "    <tr>\n",
       "      <th>14</th>\n",
       "      <td>14</td>\n",
       "      <td>F ALONSO</td>\n",
       "      <td>ALO</td>\n",
       "      <td>Alpine</td>\n",
       "      <td>2293d1</td>\n",
       "      <td>Fernando</td>\n",
       "      <td>Alonso</td>\n",
       "      <td>Fernando Alonso</td>\n",
       "      <td>11.0</td>\n",
       "      <td>11.0</td>\n",
       "      <td>NaT</td>\n",
       "      <td>NaT</td>\n",
       "      <td>NaT</td>\n",
       "      <td>0 days 01:35:01.386000</td>\n",
       "      <td>Finished</td>\n",
       "      <td>0.0</td>\n",
       "      <td>0.0</td>\n",
       "      <td>#0090ff</td>\n",
       "    </tr>\n",
       "    <tr>\n",
       "      <th>22</th>\n",
       "      <td>22</td>\n",
       "      <td>Y TSUNODA</td>\n",
       "      <td>TSU</td>\n",
       "      <td>AlphaTauri</td>\n",
       "      <td>4e7c9b</td>\n",
       "      <td>Yuki</td>\n",
       "      <td>Tsunoda</td>\n",
       "      <td>Yuki Tsunoda</td>\n",
       "      <td>12.0</td>\n",
       "      <td>9.0</td>\n",
       "      <td>NaT</td>\n",
       "      <td>NaT</td>\n",
       "      <td>NaT</td>\n",
       "      <td>0 days 01:35:04.404000</td>\n",
       "      <td>Finished</td>\n",
       "      <td>0.0</td>\n",
       "      <td>-3.0</td>\n",
       "      <td>#356cac</td>\n",
       "    </tr>\n",
       "    <tr>\n",
       "      <th>3</th>\n",
       "      <td>3</td>\n",
       "      <td>D RICCIARDO</td>\n",
       "      <td>RIC</td>\n",
       "      <td>McLaren</td>\n",
       "      <td>f58020</td>\n",
       "      <td>Daniel</td>\n",
       "      <td>Ricciardo</td>\n",
       "      <td>Daniel Ricciardo</td>\n",
       "      <td>13.0</td>\n",
       "      <td>14.0</td>\n",
       "      <td>NaT</td>\n",
       "      <td>NaT</td>\n",
       "      <td>NaT</td>\n",
       "      <td>0 days 01:35:05.160000</td>\n",
       "      <td>Finished</td>\n",
       "      <td>0.0</td>\n",
       "      <td>1.0</td>\n",
       "      <td>#ff8700</td>\n",
       "    </tr>\n",
       "    <tr>\n",
       "      <th>6</th>\n",
       "      <td>6</td>\n",
       "      <td>N LATIFI</td>\n",
       "      <td>LAT</td>\n",
       "      <td>Williams</td>\n",
       "      <td>37bedd</td>\n",
       "      <td>Nicholas</td>\n",
       "      <td>Latifi</td>\n",
       "      <td>Nicholas Latifi</td>\n",
       "      <td>14.0</td>\n",
       "      <td>19.0</td>\n",
       "      <td>NaT</td>\n",
       "      <td>NaT</td>\n",
       "      <td>NaT</td>\n",
       "      <td>0 days 01:35:14.194000</td>\n",
       "      <td>Finished</td>\n",
       "      <td>0.0</td>\n",
       "      <td>5.0</td>\n",
       "      <td>#012564</td>\n",
       "    </tr>\n",
       "    <tr>\n",
       "      <th>47</th>\n",
       "      <td>47</td>\n",
       "      <td>M SCHUMACHER</td>\n",
       "      <td>MSC</td>\n",
       "      <td>Haas F1 Team</td>\n",
       "      <td>b6babd</td>\n",
       "      <td>Mick</td>\n",
       "      <td>Schumacher</td>\n",
       "      <td>Mick Schumacher</td>\n",
       "      <td>15.0</td>\n",
       "      <td>15.0</td>\n",
       "      <td>NaT</td>\n",
       "      <td>NaT</td>\n",
       "      <td>NaT</td>\n",
       "      <td>0 days 01:35:37.563000</td>\n",
       "      <td>Finished</td>\n",
       "      <td>0.0</td>\n",
       "      <td>0.0</td>\n",
       "      <td>#cacaca</td>\n",
       "    </tr>\n",
       "    <tr>\n",
       "      <th>20</th>\n",
       "      <td>20</td>\n",
       "      <td>K MAGNUSSEN</td>\n",
       "      <td>MAG</td>\n",
       "      <td>Haas F1 Team</td>\n",
       "      <td>b6babd</td>\n",
       "      <td>Kevin</td>\n",
       "      <td>Magnussen</td>\n",
       "      <td>Kevin Magnussen</td>\n",
       "      <td>16.0</td>\n",
       "      <td>16.0</td>\n",
       "      <td>NaT</td>\n",
       "      <td>NaT</td>\n",
       "      <td>NaT</td>\n",
       "      <td>NaT</td>\n",
       "      <td>Front wing</td>\n",
       "      <td>0.0</td>\n",
       "      <td>0.0</td>\n",
       "      <td>#ffffff</td>\n",
       "    </tr>\n",
       "    <tr>\n",
       "      <th>5</th>\n",
       "      <td>5</td>\n",
       "      <td>S VETTEL</td>\n",
       "      <td>VET</td>\n",
       "      <td>Aston Martin</td>\n",
       "      <td>2d826d</td>\n",
       "      <td>Sebastian</td>\n",
       "      <td>Vettel</td>\n",
       "      <td>Sebastian Vettel</td>\n",
       "      <td>17.0</td>\n",
       "      <td>0.0</td>\n",
       "      <td>NaT</td>\n",
       "      <td>NaT</td>\n",
       "      <td>NaT</td>\n",
       "      <td>NaT</td>\n",
       "      <td>Collision</td>\n",
       "      <td>0.0</td>\n",
       "      <td>-17.0</td>\n",
       "      <td>#006f62</td>\n",
       "    </tr>\n",
       "    <tr>\n",
       "      <th>10</th>\n",
       "      <td>10</td>\n",
       "      <td>P GASLY</td>\n",
       "      <td>GAS</td>\n",
       "      <td>AlphaTauri</td>\n",
       "      <td>4e7c9b</td>\n",
       "      <td>Pierre</td>\n",
       "      <td>Gasly</td>\n",
       "      <td>Pierre Gasly</td>\n",
       "      <td>18.0</td>\n",
       "      <td>7.0</td>\n",
       "      <td>NaT</td>\n",
       "      <td>NaT</td>\n",
       "      <td>NaT</td>\n",
       "      <td>NaT</td>\n",
       "      <td>Suspension</td>\n",
       "      <td>0.0</td>\n",
       "      <td>-11.0</td>\n",
       "      <td>#2b4562</td>\n",
       "    </tr>\n",
       "    <tr>\n",
       "      <th>4</th>\n",
       "      <td>4</td>\n",
       "      <td>L NORRIS</td>\n",
       "      <td>NOR</td>\n",
       "      <td>McLaren</td>\n",
       "      <td>f58020</td>\n",
       "      <td>Lando</td>\n",
       "      <td>Norris</td>\n",
       "      <td>Lando Norris</td>\n",
       "      <td>19.0</td>\n",
       "      <td>8.0</td>\n",
       "      <td>NaT</td>\n",
       "      <td>NaT</td>\n",
       "      <td>NaT</td>\n",
       "      <td>NaT</td>\n",
       "      <td>Collision</td>\n",
       "      <td>0.0</td>\n",
       "      <td>-11.0</td>\n",
       "      <td>#eeb370</td>\n",
       "    </tr>\n",
       "    <tr>\n",
       "      <th>24</th>\n",
       "      <td>24</td>\n",
       "      <td>G ZHOU</td>\n",
       "      <td>ZHO</td>\n",
       "      <td>Alfa Romeo</td>\n",
       "      <td>b12039</td>\n",
       "      <td>Guanyu</td>\n",
       "      <td>Zhou</td>\n",
       "      <td>Guanyu Zhou</td>\n",
       "      <td>20.0</td>\n",
       "      <td>17.0</td>\n",
       "      <td>NaT</td>\n",
       "      <td>NaT</td>\n",
       "      <td>NaT</td>\n",
       "      <td>NaT</td>\n",
       "      <td>Water leak</td>\n",
       "      <td>0.0</td>\n",
       "      <td>-3.0</td>\n",
       "      <td>#500000</td>\n",
       "    </tr>\n",
       "  </tbody>\n",
       "</table></div>"
      ],
      "text/plain": [
       "   DriverNumber BroadcastName Abbreviation         TeamName TeamColor  \\\n",
       "1             1  M VERSTAPPEN          VER  Red Bull Racing    1e5bc6   \n",
       "16           16     C LECLERC          LEC          Ferrari    ed1c24   \n",
       "55           55       C SAINZ          SAI          Ferrari    ed1c24   \n",
       "11           11       S PEREZ          PER  Red Bull Racing    1e5bc6   \n",
       "63           63     G RUSSELL          RUS         Mercedes    6cd3bf   \n",
       "44           44    L HAMILTON          HAM         Mercedes    6cd3bf   \n",
       "77           77      V BOTTAS          BOT       Alfa Romeo    b12039   \n",
       "31           31        E OCON          OCO           Alpine    2293d1   \n",
       "23           23       A ALBON          ALB         Williams    37bedd   \n",
       "18           18      L STROLL          STR     Aston Martin    2d826d   \n",
       "14           14      F ALONSO          ALO           Alpine    2293d1   \n",
       "22           22     Y TSUNODA          TSU       AlphaTauri    4e7c9b   \n",
       "3             3   D RICCIARDO          RIC          McLaren    f58020   \n",
       "6             6      N LATIFI          LAT         Williams    37bedd   \n",
       "47           47  M SCHUMACHER          MSC     Haas F1 Team    b6babd   \n",
       "20           20   K MAGNUSSEN          MAG     Haas F1 Team    b6babd   \n",
       "5             5      S VETTEL          VET     Aston Martin    2d826d   \n",
       "10           10       P GASLY          GAS       AlphaTauri    4e7c9b   \n",
       "4             4      L NORRIS          NOR          McLaren    f58020   \n",
       "24           24        G ZHOU          ZHO       Alfa Romeo    b12039   \n",
       "\n",
       "    FirstName    LastName          FullName  Position  GridPosition  Q1  Q2  \\\n",
       "1         Max  Verstappen    Max Verstappen       1.0           3.0 NaT NaT   \n",
       "16    Charles     Leclerc   Charles Leclerc       2.0           1.0 NaT NaT   \n",
       "55     Carlos       Sainz      Carlos Sainz       3.0           2.0 NaT NaT   \n",
       "11     Sergio       Perez      Sergio Perez       4.0           4.0 NaT NaT   \n",
       "63     George     Russell    George Russell       5.0          12.0 NaT NaT   \n",
       "44      Lewis    Hamilton    Lewis Hamilton       6.0           6.0 NaT NaT   \n",
       "77   Valtteri      Bottas   Valtteri Bottas       7.0           5.0 NaT NaT   \n",
       "31    Esteban        Ocon      Esteban Ocon       8.0          20.0 NaT NaT   \n",
       "23  Alexander       Albon   Alexander Albon       9.0          18.0 NaT NaT   \n",
       "18      Lance      Stroll      Lance Stroll      10.0           0.0 NaT NaT   \n",
       "14   Fernando      Alonso   Fernando Alonso      11.0          11.0 NaT NaT   \n",
       "22       Yuki     Tsunoda      Yuki Tsunoda      12.0           9.0 NaT NaT   \n",
       "3      Daniel   Ricciardo  Daniel Ricciardo      13.0          14.0 NaT NaT   \n",
       "6    Nicholas      Latifi   Nicholas Latifi      14.0          19.0 NaT NaT   \n",
       "47       Mick  Schumacher   Mick Schumacher      15.0          15.0 NaT NaT   \n",
       "20      Kevin   Magnussen   Kevin Magnussen      16.0          16.0 NaT NaT   \n",
       "5   Sebastian      Vettel  Sebastian Vettel      17.0           0.0 NaT NaT   \n",
       "10     Pierre       Gasly      Pierre Gasly      18.0           7.0 NaT NaT   \n",
       "4       Lando      Norris      Lando Norris      19.0           8.0 NaT NaT   \n",
       "24     Guanyu        Zhou       Guanyu Zhou      20.0          17.0 NaT NaT   \n",
       "\n",
       "    Q3                   Time      Status  Points  Nombre de places gagnées  \\\n",
       "1  NaT 0 days 01:34:24.258000    Finished    26.0                       2.0   \n",
       "16 NaT 0 days 01:34:28.044000    Finished    18.0                      -1.0   \n",
       "55 NaT 0 days 01:34:32.487000    Finished    15.0                      -1.0   \n",
       "11 NaT 0 days 01:34:34.896000    Finished    12.0                       0.0   \n",
       "63 NaT 0 days 01:34:42.840000    Finished    10.0                       7.0   \n",
       "44 NaT 0 days 01:34:45.626000    Finished     8.0                       0.0   \n",
       "77 NaT 0 days 01:34:49.331000    Finished     6.0                      -2.0   \n",
       "31 NaT 0 days 01:34:52.644000    Finished     4.0                      12.0   \n",
       "23 NaT 0 days 01:34:56.623000    Finished     2.0                       9.0   \n",
       "18 NaT 0 days 01:35:01.284000    Finished     1.0                     -10.0   \n",
       "14 NaT 0 days 01:35:01.386000    Finished     0.0                       0.0   \n",
       "22 NaT 0 days 01:35:04.404000    Finished     0.0                      -3.0   \n",
       "3  NaT 0 days 01:35:05.160000    Finished     0.0                       1.0   \n",
       "6  NaT 0 days 01:35:14.194000    Finished     0.0                       5.0   \n",
       "47 NaT 0 days 01:35:37.563000    Finished     0.0                       0.0   \n",
       "20 NaT                    NaT  Front wing     0.0                       0.0   \n",
       "5  NaT                    NaT   Collision     0.0                     -17.0   \n",
       "10 NaT                    NaT  Suspension     0.0                     -11.0   \n",
       "4  NaT                    NaT   Collision     0.0                     -11.0   \n",
       "24 NaT                    NaT  Water leak     0.0                      -3.0   \n",
       "\n",
       "   couleur_pilote  \n",
       "1         #0600ef  \n",
       "16        #dc0000  \n",
       "55        #ff8181  \n",
       "11        #716de2  \n",
       "63        #24ffff  \n",
       "44        #00d2be  \n",
       "77        #900000  \n",
       "31        #70c2ff  \n",
       "23        #005aff  \n",
       "18        #25a617  \n",
       "14        #0090ff  \n",
       "22        #356cac  \n",
       "3         #ff8700  \n",
       "6         #012564  \n",
       "47        #cacaca  \n",
       "20        #ffffff  \n",
       "5         #006f62  \n",
       "10        #2b4562  \n",
       "4         #eeb370  \n",
       "24        #500000  "
      ]
     },
     "execution_count": 141,
     "metadata": {},
     "output_type": "execute_result"
    }
   ],
   "source": [
    "df"
   ]
  },
  {
   "cell_type": "code",
   "execution_count": 81,
   "metadata": {},
   "outputs": [
    {
     "data": {
      "text/html": [
       "<div><div id=46f653d1-d1a3-4795-96ff-4dec492e79eb style=\"display:none; background-color:#9D6CFF; color:white; width:200px; height:30px; padding-left:5px; border-radius:4px; flex-direction:row; justify-content:space-around; align-items:center;\" onmouseover=\"this.style.backgroundColor='#BA9BF8'\" onmouseout=\"this.style.backgroundColor='#9D6CFF'\" onclick=\"window.commands?.execute('create-mitosheet-from-dataframe-output');\">See Full Dataframe in Mito</div> <script> if (window.commands.hasCommand('create-mitosheet-from-dataframe-output')) document.getElementById('46f653d1-d1a3-4795-96ff-4dec492e79eb').style.display = 'flex' </script> <table border=\"1\" class=\"dataframe\">\n",
       "  <thead>\n",
       "    <tr style=\"text-align: right;\">\n",
       "      <th></th>\n",
       "      <th>Time</th>\n",
       "      <th>DriverNumber</th>\n",
       "      <th>LapTime</th>\n",
       "      <th>LapNumber</th>\n",
       "      <th>Stint</th>\n",
       "      <th>PitOutTime</th>\n",
       "      <th>PitInTime</th>\n",
       "      <th>Sector1Time</th>\n",
       "      <th>Sector2Time</th>\n",
       "      <th>Sector3Time</th>\n",
       "      <th>...</th>\n",
       "      <th>IsPersonalBest</th>\n",
       "      <th>Compound</th>\n",
       "      <th>TyreLife</th>\n",
       "      <th>FreshTyre</th>\n",
       "      <th>LapStartTime</th>\n",
       "      <th>Team</th>\n",
       "      <th>Driver</th>\n",
       "      <th>TrackStatus</th>\n",
       "      <th>IsAccurate</th>\n",
       "      <th>LapStartDate</th>\n",
       "    </tr>\n",
       "  </thead>\n",
       "  <tbody>\n",
       "    <tr>\n",
       "      <th>0</th>\n",
       "      <td>0 days 01:03:53.401000</td>\n",
       "      <td>1</td>\n",
       "      <td>NaT</td>\n",
       "      <td>1</td>\n",
       "      <td>1</td>\n",
       "      <td>0 days 00:23:51.168000</td>\n",
       "      <td>NaT</td>\n",
       "      <td>NaT</td>\n",
       "      <td>0 days 00:00:35.848000</td>\n",
       "      <td>0 days 00:00:26.431000</td>\n",
       "      <td>...</td>\n",
       "      <td>False</td>\n",
       "      <td>MEDIUM</td>\n",
       "      <td>1.0</td>\n",
       "      <td>True</td>\n",
       "      <td>0 days 01:02:16.435000</td>\n",
       "      <td>Red Bull Racing</td>\n",
       "      <td>VER</td>\n",
       "      <td>1</td>\n",
       "      <td>False</td>\n",
       "      <td>2022-05-08 19:33:16.443</td>\n",
       "    </tr>\n",
       "    <tr>\n",
       "      <th>1</th>\n",
       "      <td>0 days 01:05:27.943000</td>\n",
       "      <td>1</td>\n",
       "      <td>0 days 00:01:34.542000</td>\n",
       "      <td>2</td>\n",
       "      <td>1</td>\n",
       "      <td>NaT</td>\n",
       "      <td>NaT</td>\n",
       "      <td>0 days 00:00:32.267000</td>\n",
       "      <td>0 days 00:00:35.970000</td>\n",
       "      <td>0 days 00:00:26.305000</td>\n",
       "      <td>...</td>\n",
       "      <td>False</td>\n",
       "      <td>MEDIUM</td>\n",
       "      <td>2.0</td>\n",
       "      <td>True</td>\n",
       "      <td>0 days 01:03:53.401000</td>\n",
       "      <td>Red Bull Racing</td>\n",
       "      <td>VER</td>\n",
       "      <td>1</td>\n",
       "      <td>True</td>\n",
       "      <td>2022-05-08 19:34:53.409</td>\n",
       "    </tr>\n",
       "    <tr>\n",
       "      <th>2</th>\n",
       "      <td>0 days 01:07:02.493000</td>\n",
       "      <td>1</td>\n",
       "      <td>0 days 00:01:34.550000</td>\n",
       "      <td>3</td>\n",
       "      <td>1</td>\n",
       "      <td>NaT</td>\n",
       "      <td>NaT</td>\n",
       "      <td>0 days 00:00:32.182000</td>\n",
       "      <td>0 days 00:00:36.062000</td>\n",
       "      <td>0 days 00:00:26.306000</td>\n",
       "      <td>...</td>\n",
       "      <td>False</td>\n",
       "      <td>MEDIUM</td>\n",
       "      <td>3.0</td>\n",
       "      <td>True</td>\n",
       "      <td>0 days 01:05:27.943000</td>\n",
       "      <td>Red Bull Racing</td>\n",
       "      <td>VER</td>\n",
       "      <td>1</td>\n",
       "      <td>True</td>\n",
       "      <td>2022-05-08 19:36:27.951</td>\n",
       "    </tr>\n",
       "    <tr>\n",
       "      <th>3</th>\n",
       "      <td>0 days 01:08:36.780000</td>\n",
       "      <td>1</td>\n",
       "      <td>0 days 00:01:34.287000</td>\n",
       "      <td>4</td>\n",
       "      <td>1</td>\n",
       "      <td>NaT</td>\n",
       "      <td>NaT</td>\n",
       "      <td>0 days 00:00:32.092000</td>\n",
       "      <td>0 days 00:00:35.968000</td>\n",
       "      <td>0 days 00:00:26.227000</td>\n",
       "      <td>...</td>\n",
       "      <td>False</td>\n",
       "      <td>MEDIUM</td>\n",
       "      <td>4.0</td>\n",
       "      <td>True</td>\n",
       "      <td>0 days 01:07:02.493000</td>\n",
       "      <td>Red Bull Racing</td>\n",
       "      <td>VER</td>\n",
       "      <td>1</td>\n",
       "      <td>True</td>\n",
       "      <td>2022-05-08 19:38:02.501</td>\n",
       "    </tr>\n",
       "    <tr>\n",
       "      <th>4</th>\n",
       "      <td>0 days 01:10:11.100000</td>\n",
       "      <td>1</td>\n",
       "      <td>0 days 00:01:34.320000</td>\n",
       "      <td>5</td>\n",
       "      <td>1</td>\n",
       "      <td>NaT</td>\n",
       "      <td>NaT</td>\n",
       "      <td>0 days 00:00:32.028000</td>\n",
       "      <td>0 days 00:00:35.942000</td>\n",
       "      <td>0 days 00:00:26.350000</td>\n",
       "      <td>...</td>\n",
       "      <td>False</td>\n",
       "      <td>MEDIUM</td>\n",
       "      <td>5.0</td>\n",
       "      <td>True</td>\n",
       "      <td>0 days 01:08:36.780000</td>\n",
       "      <td>Red Bull Racing</td>\n",
       "      <td>VER</td>\n",
       "      <td>1</td>\n",
       "      <td>True</td>\n",
       "      <td>2022-05-08 19:39:36.788</td>\n",
       "    </tr>\n",
       "  </tbody>\n",
       "</table></div>"
      ],
      "text/plain": [
       "                    Time DriverNumber                LapTime  LapNumber  \\\n",
       "0 0 days 01:03:53.401000            1                    NaT          1   \n",
       "1 0 days 01:05:27.943000            1 0 days 00:01:34.542000          2   \n",
       "2 0 days 01:07:02.493000            1 0 days 00:01:34.550000          3   \n",
       "3 0 days 01:08:36.780000            1 0 days 00:01:34.287000          4   \n",
       "4 0 days 01:10:11.100000            1 0 days 00:01:34.320000          5   \n",
       "\n",
       "   Stint             PitOutTime PitInTime            Sector1Time  \\\n",
       "0      1 0 days 00:23:51.168000       NaT                    NaT   \n",
       "1      1                    NaT       NaT 0 days 00:00:32.267000   \n",
       "2      1                    NaT       NaT 0 days 00:00:32.182000   \n",
       "3      1                    NaT       NaT 0 days 00:00:32.092000   \n",
       "4      1                    NaT       NaT 0 days 00:00:32.028000   \n",
       "\n",
       "             Sector2Time            Sector3Time  ... IsPersonalBest Compound  \\\n",
       "0 0 days 00:00:35.848000 0 days 00:00:26.431000  ...          False   MEDIUM   \n",
       "1 0 days 00:00:35.970000 0 days 00:00:26.305000  ...          False   MEDIUM   \n",
       "2 0 days 00:00:36.062000 0 days 00:00:26.306000  ...          False   MEDIUM   \n",
       "3 0 days 00:00:35.968000 0 days 00:00:26.227000  ...          False   MEDIUM   \n",
       "4 0 days 00:00:35.942000 0 days 00:00:26.350000  ...          False   MEDIUM   \n",
       "\n",
       "  TyreLife  FreshTyre           LapStartTime             Team  Driver  \\\n",
       "0      1.0       True 0 days 01:02:16.435000  Red Bull Racing     VER   \n",
       "1      2.0       True 0 days 01:03:53.401000  Red Bull Racing     VER   \n",
       "2      3.0       True 0 days 01:05:27.943000  Red Bull Racing     VER   \n",
       "3      4.0       True 0 days 01:07:02.493000  Red Bull Racing     VER   \n",
       "4      5.0       True 0 days 01:08:36.780000  Red Bull Racing     VER   \n",
       "\n",
       "   TrackStatus IsAccurate            LapStartDate  \n",
       "0            1      False 2022-05-08 19:33:16.443  \n",
       "1            1       True 2022-05-08 19:34:53.409  \n",
       "2            1       True 2022-05-08 19:36:27.951  \n",
       "3            1       True 2022-05-08 19:38:02.501  \n",
       "4            1       True 2022-05-08 19:39:36.788  \n",
       "\n",
       "[5 rows x 27 columns]"
      ]
     },
     "execution_count": 81,
     "metadata": {},
     "output_type": "execute_result"
    }
   ],
   "source": [
    "race.laps.head()"
   ]
  },
  {
   "cell_type": "code",
   "execution_count": null,
   "metadata": {},
   "outputs": [],
   "source": []
  }
 ],
 "metadata": {
  "interpreter": {
   "hash": "25093d32268296aa22b13942be9550a932bc930111fd7b8a8b47dc6b3bcb8f2a"
  },
  "kernelspec": {
   "display_name": "Python 3.9.7 ('base')",
   "language": "python",
   "name": "python3"
  },
  "language_info": {
   "codemirror_mode": {
    "name": "ipython",
    "version": 3
   },
   "file_extension": ".py",
   "mimetype": "text/x-python",
   "name": "python",
   "nbconvert_exporter": "python",
   "pygments_lexer": "ipython3",
   "version": "3.9.7"
  },
  "orig_nbformat": 4
 },
 "nbformat": 4,
 "nbformat_minor": 2
}
