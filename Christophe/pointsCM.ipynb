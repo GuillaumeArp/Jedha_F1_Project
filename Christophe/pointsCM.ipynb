{
 "cells": [
  {
   "cell_type": "code",
   "execution_count": 1,
   "metadata": {},
   "outputs": [],
   "source": [
    "import fastf1 as ff1\n",
    "from fastf1 import plotting\n",
    "from fastf1 import utils\n",
    "ff1.Cache.enable_cache('D:\\Data analyst\\Jedha\\Projet\\Projet F1\\doc_cache')\n",
    "import plotly.express as px\n",
    "import plotly.graph_objects as go\n",
    "import plotly.io as pio\n",
    "from plotly.subplots import make_subplots\n",
    "pio.templates.default = \"plotly_dark\"\n",
    "import warnings\n",
    "warnings.simplefilter(action='ignore', category=FutureWarning)\n",
    "\n",
    "import pandas as pd"
   ]
  },
  {
   "cell_type": "code",
   "execution_count": 2,
   "metadata": {},
   "outputs": [
    {
     "data": {
      "text/html": [
       "<div><div id=16fa0327-f4fe-4b1f-a96e-eb28fbf91797 style=\"display:none; background-color:#9D6CFF; color:white; width:200px; height:30px; padding-left:5px; border-radius:4px; flex-direction:row; justify-content:space-around; align-items:center;\" onmouseover=\"this.style.backgroundColor='#BA9BF8'\" onmouseout=\"this.style.backgroundColor='#9D6CFF'\" onclick=\"window.commands?.execute('create-mitosheet-from-dataframe-output');\">See Full Dataframe in Mito</div> <script> if (window.commands.hasCommand('create-mitosheet-from-dataframe-output')) document.getElementById('16fa0327-f4fe-4b1f-a96e-eb28fbf91797').style.display = 'flex' </script> <table border=\"1\" class=\"dataframe\">\n",
       "  <thead>\n",
       "    <tr style=\"text-align: right;\">\n",
       "      <th></th>\n",
       "      <th>RoundNumber</th>\n",
       "      <th>Country</th>\n",
       "      <th>Location</th>\n",
       "      <th>OfficialEventName</th>\n",
       "      <th>EventDate</th>\n",
       "      <th>EventName</th>\n",
       "      <th>EventFormat</th>\n",
       "      <th>Session1</th>\n",
       "      <th>Session1Date</th>\n",
       "      <th>Session2</th>\n",
       "      <th>Session2Date</th>\n",
       "      <th>Session3</th>\n",
       "      <th>Session3Date</th>\n",
       "      <th>Session4</th>\n",
       "      <th>Session4Date</th>\n",
       "      <th>Session5</th>\n",
       "      <th>Session5Date</th>\n",
       "      <th>F1ApiSupport</th>\n",
       "    </tr>\n",
       "  </thead>\n",
       "  <tbody>\n",
       "    <tr>\n",
       "      <th>2</th>\n",
       "      <td>1</td>\n",
       "      <td>Bahrain</td>\n",
       "      <td>Sakhir</td>\n",
       "      <td>FORMULA 1 GULF AIR BAHRAIN GRAND PRIX 2022</td>\n",
       "      <td>2022-03-20 20:00:00</td>\n",
       "      <td>Bahrain Grand Prix</td>\n",
       "      <td>conventional</td>\n",
       "      <td>Practice 1</td>\n",
       "      <td>2022-03-18 15:00:00</td>\n",
       "      <td>Practice 2</td>\n",
       "      <td>2022-03-18 18:00:00</td>\n",
       "      <td>Practice 3</td>\n",
       "      <td>2022-03-19 15:00:00</td>\n",
       "      <td>Qualifying</td>\n",
       "      <td>2022-03-19 18:00:00</td>\n",
       "      <td>Race</td>\n",
       "      <td>2022-03-20 18:00:00</td>\n",
       "      <td>True</td>\n",
       "    </tr>\n",
       "    <tr>\n",
       "      <th>3</th>\n",
       "      <td>2</td>\n",
       "      <td>Saudi Arabia</td>\n",
       "      <td>Jeddah</td>\n",
       "      <td>FORMULA 1 STC SAUDI ARABIAN GRAND PRIX 2022</td>\n",
       "      <td>2022-03-27 22:00:00</td>\n",
       "      <td>Saudi Arabian Grand Prix</td>\n",
       "      <td>conventional</td>\n",
       "      <td>Practice 1</td>\n",
       "      <td>2022-03-25 17:00:00</td>\n",
       "      <td>Practice 2</td>\n",
       "      <td>2022-03-25 20:00:00</td>\n",
       "      <td>Practice 3</td>\n",
       "      <td>2022-03-26 17:00:00</td>\n",
       "      <td>Qualifying</td>\n",
       "      <td>2022-03-26 20:00:00</td>\n",
       "      <td>Race</td>\n",
       "      <td>2022-03-27 20:00:00</td>\n",
       "      <td>True</td>\n",
       "    </tr>\n",
       "    <tr>\n",
       "      <th>4</th>\n",
       "      <td>3</td>\n",
       "      <td>Australia</td>\n",
       "      <td>Melbourne</td>\n",
       "      <td>FORMULA 1 HEINEKEN AUSTRALIAN GRAND PRIX 2022</td>\n",
       "      <td>2022-04-10 17:00:00</td>\n",
       "      <td>Australian Grand Prix</td>\n",
       "      <td>conventional</td>\n",
       "      <td>Practice 1</td>\n",
       "      <td>2022-04-08 13:00:00</td>\n",
       "      <td>Practice 2</td>\n",
       "      <td>2022-04-08 16:00:00</td>\n",
       "      <td>Practice 3</td>\n",
       "      <td>2022-04-09 13:00:00</td>\n",
       "      <td>Qualifying</td>\n",
       "      <td>2022-04-09 16:00:00</td>\n",
       "      <td>Race</td>\n",
       "      <td>2022-04-10 15:00:00</td>\n",
       "      <td>True</td>\n",
       "    </tr>\n",
       "    <tr>\n",
       "      <th>5</th>\n",
       "      <td>4</td>\n",
       "      <td>Italy</td>\n",
       "      <td>Imola</td>\n",
       "      <td>FORMULA 1 ROLEX GRAN PREMIO DEL MADE IN ITALY E DELL'EMILIA-ROMAGNA 2022</td>\n",
       "      <td>2022-04-24 17:00:00</td>\n",
       "      <td>Emilia Romagna Grand Prix</td>\n",
       "      <td>sprint</td>\n",
       "      <td>Practice 1</td>\n",
       "      <td>2022-04-22 13:30:00</td>\n",
       "      <td>Qualifying</td>\n",
       "      <td>2022-04-22 17:00:00</td>\n",
       "      <td>Practice 2</td>\n",
       "      <td>2022-04-23 12:30:00</td>\n",
       "      <td>Sprint</td>\n",
       "      <td>2022-04-23 16:30:00</td>\n",
       "      <td>Race</td>\n",
       "      <td>2022-04-24 15:00:00</td>\n",
       "      <td>True</td>\n",
       "    </tr>\n",
       "    <tr>\n",
       "      <th>6</th>\n",
       "      <td>5</td>\n",
       "      <td>United States</td>\n",
       "      <td>Miami</td>\n",
       "      <td>FORMULA 1 CRYPTO.COM MIAMI GRAND PRIX 2022</td>\n",
       "      <td>2022-05-08 17:30:00</td>\n",
       "      <td>Miami Grand Prix</td>\n",
       "      <td>conventional</td>\n",
       "      <td>Practice 1</td>\n",
       "      <td>2022-05-06 14:30:00</td>\n",
       "      <td>Practice 2</td>\n",
       "      <td>2022-05-06 17:30:00</td>\n",
       "      <td>Practice 3</td>\n",
       "      <td>2022-05-07 13:00:00</td>\n",
       "      <td>Qualifying</td>\n",
       "      <td>2022-05-07 16:00:00</td>\n",
       "      <td>Race</td>\n",
       "      <td>2022-05-08 15:30:00</td>\n",
       "      <td>True</td>\n",
       "    </tr>\n",
       "    <tr>\n",
       "      <th>7</th>\n",
       "      <td>6</td>\n",
       "      <td>Spain</td>\n",
       "      <td>Barcelona</td>\n",
       "      <td>FORMULA 1 PIRELLI GRAN PREMIO DE ESPAÑA 2022</td>\n",
       "      <td>2022-05-22 17:00:00</td>\n",
       "      <td>Spanish Grand Prix</td>\n",
       "      <td>conventional</td>\n",
       "      <td>Practice 1</td>\n",
       "      <td>2022-05-20 14:00:00</td>\n",
       "      <td>Practice 2</td>\n",
       "      <td>2022-05-20 17:00:00</td>\n",
       "      <td>Practice 3</td>\n",
       "      <td>2022-05-21 13:00:00</td>\n",
       "      <td>Qualifying</td>\n",
       "      <td>2022-05-21 16:00:00</td>\n",
       "      <td>Race</td>\n",
       "      <td>2022-05-22 15:00:00</td>\n",
       "      <td>True</td>\n",
       "    </tr>\n",
       "    <tr>\n",
       "      <th>8</th>\n",
       "      <td>7</td>\n",
       "      <td>Monaco</td>\n",
       "      <td>Monte Carlo</td>\n",
       "      <td>FORMULA 1 GRAND PRIX DE MONACO 2022</td>\n",
       "      <td>2022-05-29 17:00:00</td>\n",
       "      <td>Monaco Grand Prix</td>\n",
       "      <td>conventional</td>\n",
       "      <td>Practice 1</td>\n",
       "      <td>2022-05-27 14:00:00</td>\n",
       "      <td>Practice 2</td>\n",
       "      <td>2022-05-27 17:00:00</td>\n",
       "      <td>Practice 3</td>\n",
       "      <td>2022-05-28 13:00:00</td>\n",
       "      <td>Qualifying</td>\n",
       "      <td>2022-05-28 16:00:00</td>\n",
       "      <td>Race</td>\n",
       "      <td>2022-05-29 15:00:00</td>\n",
       "      <td>True</td>\n",
       "    </tr>\n",
       "    <tr>\n",
       "      <th>9</th>\n",
       "      <td>8</td>\n",
       "      <td>Azerbaijan</td>\n",
       "      <td>Baku</td>\n",
       "      <td>FORMULA 1 AZERBAIJAN GRAND PRIX 2022</td>\n",
       "      <td>2022-06-12 17:00:00</td>\n",
       "      <td>Azerbaijan Grand Prix</td>\n",
       "      <td>conventional</td>\n",
       "      <td>Practice 1</td>\n",
       "      <td>2022-06-10 15:00:00</td>\n",
       "      <td>Practice 2</td>\n",
       "      <td>2022-06-10 18:00:00</td>\n",
       "      <td>Practice 3</td>\n",
       "      <td>2022-06-11 15:00:00</td>\n",
       "      <td>Qualifying</td>\n",
       "      <td>2022-06-11 18:00:00</td>\n",
       "      <td>Race</td>\n",
       "      <td>2022-06-12 15:00:00</td>\n",
       "      <td>True</td>\n",
       "    </tr>\n",
       "    <tr>\n",
       "      <th>10</th>\n",
       "      <td>9</td>\n",
       "      <td>Canada</td>\n",
       "      <td>Montréal</td>\n",
       "      <td>FORMULA 1 GRAND PRIX DU CANADA 2022</td>\n",
       "      <td>2022-06-19 16:00:00</td>\n",
       "      <td>Canadian Grand Prix</td>\n",
       "      <td>conventional</td>\n",
       "      <td>Practice 1</td>\n",
       "      <td>2022-06-17 14:00:00</td>\n",
       "      <td>Practice 2</td>\n",
       "      <td>2022-06-17 17:00:00</td>\n",
       "      <td>Practice 3</td>\n",
       "      <td>2022-06-18 13:00:00</td>\n",
       "      <td>Qualifying</td>\n",
       "      <td>2022-06-18 16:00:00</td>\n",
       "      <td>Race</td>\n",
       "      <td>2022-06-19 14:00:00</td>\n",
       "      <td>True</td>\n",
       "    </tr>\n",
       "    <tr>\n",
       "      <th>11</th>\n",
       "      <td>10</td>\n",
       "      <td>Great Britain</td>\n",
       "      <td>Silverstone</td>\n",
       "      <td>FORMULA 1 BRITISH GRAND PRIX 2022</td>\n",
       "      <td>2022-07-03 17:00:00</td>\n",
       "      <td>British Grand Prix</td>\n",
       "      <td>conventional</td>\n",
       "      <td>Practice 1</td>\n",
       "      <td>2022-07-01 13:00:00</td>\n",
       "      <td>Practice 2</td>\n",
       "      <td>2022-07-01 16:00:00</td>\n",
       "      <td>Practice 3</td>\n",
       "      <td>2022-07-02 12:00:00</td>\n",
       "      <td>Qualifying</td>\n",
       "      <td>2022-07-02 15:00:00</td>\n",
       "      <td>Race</td>\n",
       "      <td>2022-07-03 15:00:00</td>\n",
       "      <td>True</td>\n",
       "    </tr>\n",
       "    <tr>\n",
       "      <th>12</th>\n",
       "      <td>11</td>\n",
       "      <td>Austria</td>\n",
       "      <td>Spielberg</td>\n",
       "      <td>FORMULA 1 GROSSER PREIS VON ÖSTERREICH 2022</td>\n",
       "      <td>2022-07-10 17:00:00</td>\n",
       "      <td>Austrian Grand Prix</td>\n",
       "      <td>sprint</td>\n",
       "      <td>Practice 1</td>\n",
       "      <td>2022-07-08 13:30:00</td>\n",
       "      <td>Qualifying</td>\n",
       "      <td>2022-07-08 17:00:00</td>\n",
       "      <td>Practice 2</td>\n",
       "      <td>2022-07-09 12:30:00</td>\n",
       "      <td>Sprint</td>\n",
       "      <td>2022-07-09 16:30:00</td>\n",
       "      <td>Race</td>\n",
       "      <td>2022-07-10 15:00:00</td>\n",
       "      <td>True</td>\n",
       "    </tr>\n",
       "    <tr>\n",
       "      <th>13</th>\n",
       "      <td>12</td>\n",
       "      <td>France</td>\n",
       "      <td>Le Castellet</td>\n",
       "      <td>FORMULA 1 GRAND PRIX DE FRANCE 2022</td>\n",
       "      <td>2022-07-24 17:00:00</td>\n",
       "      <td>French Grand Prix</td>\n",
       "      <td>conventional</td>\n",
       "      <td>Practice 1</td>\n",
       "      <td>2022-07-22 14:00:00</td>\n",
       "      <td>Practice 2</td>\n",
       "      <td>2022-07-22 17:00:00</td>\n",
       "      <td>Practice 3</td>\n",
       "      <td>2022-07-23 13:00:00</td>\n",
       "      <td>Qualifying</td>\n",
       "      <td>2022-07-23 16:00:00</td>\n",
       "      <td>Race</td>\n",
       "      <td>2022-07-24 15:00:00</td>\n",
       "      <td>True</td>\n",
       "    </tr>\n",
       "    <tr>\n",
       "      <th>14</th>\n",
       "      <td>13</td>\n",
       "      <td>Hungary</td>\n",
       "      <td>Budapest</td>\n",
       "      <td>FORMULA 1 MAGYAR NAGYDÍJ 2022</td>\n",
       "      <td>2022-07-31 17:00:00</td>\n",
       "      <td>Hungarian Grand Prix</td>\n",
       "      <td>conventional</td>\n",
       "      <td>Practice 1</td>\n",
       "      <td>2022-07-29 14:00:00</td>\n",
       "      <td>Practice 2</td>\n",
       "      <td>2022-07-29 17:00:00</td>\n",
       "      <td>Practice 3</td>\n",
       "      <td>2022-07-30 13:00:00</td>\n",
       "      <td>Qualifying</td>\n",
       "      <td>2022-07-30 16:00:00</td>\n",
       "      <td>Race</td>\n",
       "      <td>2022-07-31 15:00:00</td>\n",
       "      <td>True</td>\n",
       "    </tr>\n",
       "    <tr>\n",
       "      <th>15</th>\n",
       "      <td>14</td>\n",
       "      <td>Belgium</td>\n",
       "      <td>Spa-Francorchamps</td>\n",
       "      <td>FORMULA 1 ROLEX BELGIAN GRAND PRIX 2022</td>\n",
       "      <td>2022-08-28 17:00:00</td>\n",
       "      <td>Belgian Grand Prix</td>\n",
       "      <td>conventional</td>\n",
       "      <td>Practice 1</td>\n",
       "      <td>2022-08-26 14:00:00</td>\n",
       "      <td>Practice 2</td>\n",
       "      <td>2022-08-26 17:00:00</td>\n",
       "      <td>Practice 3</td>\n",
       "      <td>2022-08-27 13:00:00</td>\n",
       "      <td>Qualifying</td>\n",
       "      <td>2022-08-27 16:00:00</td>\n",
       "      <td>Race</td>\n",
       "      <td>2022-08-28 15:00:00</td>\n",
       "      <td>True</td>\n",
       "    </tr>\n",
       "    <tr>\n",
       "      <th>16</th>\n",
       "      <td>15</td>\n",
       "      <td>Netherlands</td>\n",
       "      <td>Zandvoort</td>\n",
       "      <td>FORMULA 1 HEINEKEN DUTCH GRAND PRIX 2022</td>\n",
       "      <td>2022-09-04 17:00:00</td>\n",
       "      <td>Dutch Grand Prix</td>\n",
       "      <td>conventional</td>\n",
       "      <td>Practice 1</td>\n",
       "      <td>2022-09-02 14:00:00</td>\n",
       "      <td>Practice 2</td>\n",
       "      <td>2022-09-02 17:00:00</td>\n",
       "      <td>Practice 3</td>\n",
       "      <td>2022-09-03 13:00:00</td>\n",
       "      <td>Qualifying</td>\n",
       "      <td>2022-09-03 16:00:00</td>\n",
       "      <td>Race</td>\n",
       "      <td>2022-09-04 15:00:00</td>\n",
       "      <td>True</td>\n",
       "    </tr>\n",
       "    <tr>\n",
       "      <th>17</th>\n",
       "      <td>16</td>\n",
       "      <td>Italy</td>\n",
       "      <td>Monza</td>\n",
       "      <td>FORMULA 1 PIRELLI GRAN PREMIO D’ITALIA 2022</td>\n",
       "      <td>2022-09-11 17:00:00</td>\n",
       "      <td>Italian Grand Prix</td>\n",
       "      <td>conventional</td>\n",
       "      <td>Practice 1</td>\n",
       "      <td>2022-09-09 14:00:00</td>\n",
       "      <td>Practice 2</td>\n",
       "      <td>2022-09-09 17:00:00</td>\n",
       "      <td>Practice 3</td>\n",
       "      <td>2022-09-10 13:00:00</td>\n",
       "      <td>Qualifying</td>\n",
       "      <td>2022-09-10 16:00:00</td>\n",
       "      <td>Race</td>\n",
       "      <td>2022-09-11 15:00:00</td>\n",
       "      <td>True</td>\n",
       "    </tr>\n",
       "    <tr>\n",
       "      <th>18</th>\n",
       "      <td>17</td>\n",
       "      <td>Singapore</td>\n",
       "      <td>Marina Bay</td>\n",
       "      <td>FORMULA 1 SINGAPORE GRAND PRIX 2022</td>\n",
       "      <td>2022-10-02 22:00:00</td>\n",
       "      <td>Singapore Grand Prix</td>\n",
       "      <td>conventional</td>\n",
       "      <td>Practice 1</td>\n",
       "      <td>2022-09-30 18:00:00</td>\n",
       "      <td>Practice 2</td>\n",
       "      <td>2022-09-30 21:00:00</td>\n",
       "      <td>Practice 3</td>\n",
       "      <td>2022-10-01 18:00:00</td>\n",
       "      <td>Qualifying</td>\n",
       "      <td>2022-10-01 21:00:00</td>\n",
       "      <td>Race</td>\n",
       "      <td>2022-10-02 20:00:00</td>\n",
       "      <td>True</td>\n",
       "    </tr>\n",
       "    <tr>\n",
       "      <th>19</th>\n",
       "      <td>18</td>\n",
       "      <td>Japan</td>\n",
       "      <td>Suzuka</td>\n",
       "      <td>FORMULA 1 JAPANESE GRAND PRIX 2022</td>\n",
       "      <td>2022-10-09 16:00:00</td>\n",
       "      <td>Japanese Grand Prix</td>\n",
       "      <td>conventional</td>\n",
       "      <td>Practice 1</td>\n",
       "      <td>2022-10-07 13:00:00</td>\n",
       "      <td>Practice 2</td>\n",
       "      <td>2022-10-07 16:00:00</td>\n",
       "      <td>Practice 3</td>\n",
       "      <td>2022-10-08 13:00:00</td>\n",
       "      <td>Qualifying</td>\n",
       "      <td>2022-10-08 16:00:00</td>\n",
       "      <td>Race</td>\n",
       "      <td>2022-10-09 14:00:00</td>\n",
       "      <td>True</td>\n",
       "    </tr>\n",
       "    <tr>\n",
       "      <th>20</th>\n",
       "      <td>19</td>\n",
       "      <td>United States</td>\n",
       "      <td>Austin</td>\n",
       "      <td>FORMULA 1 ARAMCO UNITED STATES GRAND PRIX 2022</td>\n",
       "      <td>2022-10-23 16:00:00</td>\n",
       "      <td>United States Grand Prix</td>\n",
       "      <td>conventional</td>\n",
       "      <td>Practice 1</td>\n",
       "      <td>2022-10-21 14:00:00</td>\n",
       "      <td>Practice 2</td>\n",
       "      <td>2022-10-21 17:00:00</td>\n",
       "      <td>Practice 3</td>\n",
       "      <td>2022-10-22 14:00:00</td>\n",
       "      <td>Qualifying</td>\n",
       "      <td>2022-10-22 17:00:00</td>\n",
       "      <td>Race</td>\n",
       "      <td>2022-10-23 14:00:00</td>\n",
       "      <td>True</td>\n",
       "    </tr>\n",
       "    <tr>\n",
       "      <th>21</th>\n",
       "      <td>20</td>\n",
       "      <td>Mexico</td>\n",
       "      <td>Mexico City</td>\n",
       "      <td>FORMULA 1 GRAN PREMIO DE LA CIUDAD DE MÉXICO 2022</td>\n",
       "      <td>2022-10-30 16:00:00</td>\n",
       "      <td>Mexico City Grand Prix</td>\n",
       "      <td>conventional</td>\n",
       "      <td>Practice 1</td>\n",
       "      <td>2022-10-28 13:00:00</td>\n",
       "      <td>Practice 2</td>\n",
       "      <td>2022-10-28 16:00:00</td>\n",
       "      <td>Practice 3</td>\n",
       "      <td>2022-10-29 12:00:00</td>\n",
       "      <td>Qualifying</td>\n",
       "      <td>2022-10-29 15:00:00</td>\n",
       "      <td>Race</td>\n",
       "      <td>2022-10-30 14:00:00</td>\n",
       "      <td>True</td>\n",
       "    </tr>\n",
       "    <tr>\n",
       "      <th>22</th>\n",
       "      <td>21</td>\n",
       "      <td>Brazil</td>\n",
       "      <td>São Paulo</td>\n",
       "      <td>FORMULA 1 HEINEKEN GRANDE PRÊMIO DE SÃO PAULO 2022</td>\n",
       "      <td>2022-11-13 17:00:00</td>\n",
       "      <td>São Paulo Grand Prix</td>\n",
       "      <td>sprint</td>\n",
       "      <td>Practice 1</td>\n",
       "      <td>2022-11-11 12:30:00</td>\n",
       "      <td>Qualifying</td>\n",
       "      <td>2022-11-11 16:00:00</td>\n",
       "      <td>Practice 2</td>\n",
       "      <td>2022-11-12 12:30:00</td>\n",
       "      <td>Sprint</td>\n",
       "      <td>2022-11-12 16:30:00</td>\n",
       "      <td>Race</td>\n",
       "      <td>2022-11-13 15:00:00</td>\n",
       "      <td>True</td>\n",
       "    </tr>\n",
       "    <tr>\n",
       "      <th>23</th>\n",
       "      <td>22</td>\n",
       "      <td>Abu Dhabi</td>\n",
       "      <td>Yas Island</td>\n",
       "      <td>FORMULA 1 ETIHAD AIRWAYS ABU DHABI GRAND PRIX 2022</td>\n",
       "      <td>2022-11-20 19:00:00</td>\n",
       "      <td>Abu Dhabi Grand Prix</td>\n",
       "      <td>conventional</td>\n",
       "      <td>Practice 1</td>\n",
       "      <td>2022-11-18 14:00:00</td>\n",
       "      <td>Practice 2</td>\n",
       "      <td>2022-11-18 17:00:00</td>\n",
       "      <td>Practice 3</td>\n",
       "      <td>2022-11-19 15:00:00</td>\n",
       "      <td>Qualifying</td>\n",
       "      <td>2022-11-19 18:00:00</td>\n",
       "      <td>Race</td>\n",
       "      <td>2022-11-20 17:00:00</td>\n",
       "      <td>True</td>\n",
       "    </tr>\n",
       "  </tbody>\n",
       "</table></div>"
      ],
      "text/plain": [
       "    RoundNumber        Country           Location  \\\n",
       "2             1        Bahrain             Sakhir   \n",
       "3             2   Saudi Arabia             Jeddah   \n",
       "4             3      Australia          Melbourne   \n",
       "5             4          Italy              Imola   \n",
       "6             5  United States              Miami   \n",
       "7             6          Spain          Barcelona   \n",
       "8             7         Monaco        Monte Carlo   \n",
       "9             8     Azerbaijan               Baku   \n",
       "10            9         Canada           Montréal   \n",
       "11           10  Great Britain        Silverstone   \n",
       "12           11        Austria          Spielberg   \n",
       "13           12         France       Le Castellet   \n",
       "14           13        Hungary           Budapest   \n",
       "15           14        Belgium  Spa-Francorchamps   \n",
       "16           15    Netherlands          Zandvoort   \n",
       "17           16          Italy              Monza   \n",
       "18           17      Singapore         Marina Bay   \n",
       "19           18          Japan             Suzuka   \n",
       "20           19  United States             Austin   \n",
       "21           20         Mexico        Mexico City   \n",
       "22           21         Brazil          São Paulo   \n",
       "23           22      Abu Dhabi         Yas Island   \n",
       "\n",
       "                                    OfficialEventName           EventDate  \\\n",
       "2          FORMULA 1 GULF AIR BAHRAIN GRAND PRIX 2022 2022-03-20 20:00:00   \n",
       "3         FORMULA 1 STC SAUDI ARABIAN GRAND PRIX 2022 2022-03-27 22:00:00   \n",
       "4       FORMULA 1 HEINEKEN AUSTRALIAN GRAND PRIX 2022 2022-04-10 17:00:00   \n",
       "5   FORMULA 1 ROLEX GRAN PREMIO DEL MADE IN ITALY ... 2022-04-24 17:00:00   \n",
       "6          FORMULA 1 CRYPTO.COM MIAMI GRAND PRIX 2022 2022-05-08 17:30:00   \n",
       "7        FORMULA 1 PIRELLI GRAN PREMIO DE ESPAÑA 2022 2022-05-22 17:00:00   \n",
       "8                 FORMULA 1 GRAND PRIX DE MONACO 2022 2022-05-29 17:00:00   \n",
       "9                FORMULA 1 AZERBAIJAN GRAND PRIX 2022 2022-06-12 17:00:00   \n",
       "10                FORMULA 1 GRAND PRIX DU CANADA 2022 2022-06-19 16:00:00   \n",
       "11                  FORMULA 1 BRITISH GRAND PRIX 2022 2022-07-03 17:00:00   \n",
       "12        FORMULA 1 GROSSER PREIS VON ÖSTERREICH 2022 2022-07-10 17:00:00   \n",
       "13                FORMULA 1 GRAND PRIX DE FRANCE 2022 2022-07-24 17:00:00   \n",
       "14                      FORMULA 1 MAGYAR NAGYDÍJ 2022 2022-07-31 17:00:00   \n",
       "15            FORMULA 1 ROLEX BELGIAN GRAND PRIX 2022 2022-08-28 17:00:00   \n",
       "16           FORMULA 1 HEINEKEN DUTCH GRAND PRIX 2022 2022-09-04 17:00:00   \n",
       "17        FORMULA 1 PIRELLI GRAN PREMIO D’ITALIA 2022 2022-09-11 17:00:00   \n",
       "18                FORMULA 1 SINGAPORE GRAND PRIX 2022 2022-10-02 22:00:00   \n",
       "19                 FORMULA 1 JAPANESE GRAND PRIX 2022 2022-10-09 16:00:00   \n",
       "20     FORMULA 1 ARAMCO UNITED STATES GRAND PRIX 2022 2022-10-23 16:00:00   \n",
       "21  FORMULA 1 GRAN PREMIO DE LA CIUDAD DE MÉXICO 2022 2022-10-30 16:00:00   \n",
       "22  FORMULA 1 HEINEKEN GRANDE PRÊMIO DE SÃO PAULO ... 2022-11-13 17:00:00   \n",
       "23  FORMULA 1 ETIHAD AIRWAYS ABU DHABI GRAND PRIX ... 2022-11-20 19:00:00   \n",
       "\n",
       "                    EventName   EventFormat    Session1        Session1Date  \\\n",
       "2          Bahrain Grand Prix  conventional  Practice 1 2022-03-18 15:00:00   \n",
       "3    Saudi Arabian Grand Prix  conventional  Practice 1 2022-03-25 17:00:00   \n",
       "4       Australian Grand Prix  conventional  Practice 1 2022-04-08 13:00:00   \n",
       "5   Emilia Romagna Grand Prix        sprint  Practice 1 2022-04-22 13:30:00   \n",
       "6            Miami Grand Prix  conventional  Practice 1 2022-05-06 14:30:00   \n",
       "7          Spanish Grand Prix  conventional  Practice 1 2022-05-20 14:00:00   \n",
       "8           Monaco Grand Prix  conventional  Practice 1 2022-05-27 14:00:00   \n",
       "9       Azerbaijan Grand Prix  conventional  Practice 1 2022-06-10 15:00:00   \n",
       "10        Canadian Grand Prix  conventional  Practice 1 2022-06-17 14:00:00   \n",
       "11         British Grand Prix  conventional  Practice 1 2022-07-01 13:00:00   \n",
       "12        Austrian Grand Prix        sprint  Practice 1 2022-07-08 13:30:00   \n",
       "13          French Grand Prix  conventional  Practice 1 2022-07-22 14:00:00   \n",
       "14       Hungarian Grand Prix  conventional  Practice 1 2022-07-29 14:00:00   \n",
       "15         Belgian Grand Prix  conventional  Practice 1 2022-08-26 14:00:00   \n",
       "16           Dutch Grand Prix  conventional  Practice 1 2022-09-02 14:00:00   \n",
       "17         Italian Grand Prix  conventional  Practice 1 2022-09-09 14:00:00   \n",
       "18       Singapore Grand Prix  conventional  Practice 1 2022-09-30 18:00:00   \n",
       "19        Japanese Grand Prix  conventional  Practice 1 2022-10-07 13:00:00   \n",
       "20   United States Grand Prix  conventional  Practice 1 2022-10-21 14:00:00   \n",
       "21     Mexico City Grand Prix  conventional  Practice 1 2022-10-28 13:00:00   \n",
       "22       São Paulo Grand Prix        sprint  Practice 1 2022-11-11 12:30:00   \n",
       "23       Abu Dhabi Grand Prix  conventional  Practice 1 2022-11-18 14:00:00   \n",
       "\n",
       "      Session2        Session2Date    Session3        Session3Date  \\\n",
       "2   Practice 2 2022-03-18 18:00:00  Practice 3 2022-03-19 15:00:00   \n",
       "3   Practice 2 2022-03-25 20:00:00  Practice 3 2022-03-26 17:00:00   \n",
       "4   Practice 2 2022-04-08 16:00:00  Practice 3 2022-04-09 13:00:00   \n",
       "5   Qualifying 2022-04-22 17:00:00  Practice 2 2022-04-23 12:30:00   \n",
       "6   Practice 2 2022-05-06 17:30:00  Practice 3 2022-05-07 13:00:00   \n",
       "7   Practice 2 2022-05-20 17:00:00  Practice 3 2022-05-21 13:00:00   \n",
       "8   Practice 2 2022-05-27 17:00:00  Practice 3 2022-05-28 13:00:00   \n",
       "9   Practice 2 2022-06-10 18:00:00  Practice 3 2022-06-11 15:00:00   \n",
       "10  Practice 2 2022-06-17 17:00:00  Practice 3 2022-06-18 13:00:00   \n",
       "11  Practice 2 2022-07-01 16:00:00  Practice 3 2022-07-02 12:00:00   \n",
       "12  Qualifying 2022-07-08 17:00:00  Practice 2 2022-07-09 12:30:00   \n",
       "13  Practice 2 2022-07-22 17:00:00  Practice 3 2022-07-23 13:00:00   \n",
       "14  Practice 2 2022-07-29 17:00:00  Practice 3 2022-07-30 13:00:00   \n",
       "15  Practice 2 2022-08-26 17:00:00  Practice 3 2022-08-27 13:00:00   \n",
       "16  Practice 2 2022-09-02 17:00:00  Practice 3 2022-09-03 13:00:00   \n",
       "17  Practice 2 2022-09-09 17:00:00  Practice 3 2022-09-10 13:00:00   \n",
       "18  Practice 2 2022-09-30 21:00:00  Practice 3 2022-10-01 18:00:00   \n",
       "19  Practice 2 2022-10-07 16:00:00  Practice 3 2022-10-08 13:00:00   \n",
       "20  Practice 2 2022-10-21 17:00:00  Practice 3 2022-10-22 14:00:00   \n",
       "21  Practice 2 2022-10-28 16:00:00  Practice 3 2022-10-29 12:00:00   \n",
       "22  Qualifying 2022-11-11 16:00:00  Practice 2 2022-11-12 12:30:00   \n",
       "23  Practice 2 2022-11-18 17:00:00  Practice 3 2022-11-19 15:00:00   \n",
       "\n",
       "      Session4        Session4Date Session5        Session5Date  F1ApiSupport  \n",
       "2   Qualifying 2022-03-19 18:00:00     Race 2022-03-20 18:00:00          True  \n",
       "3   Qualifying 2022-03-26 20:00:00     Race 2022-03-27 20:00:00          True  \n",
       "4   Qualifying 2022-04-09 16:00:00     Race 2022-04-10 15:00:00          True  \n",
       "5       Sprint 2022-04-23 16:30:00     Race 2022-04-24 15:00:00          True  \n",
       "6   Qualifying 2022-05-07 16:00:00     Race 2022-05-08 15:30:00          True  \n",
       "7   Qualifying 2022-05-21 16:00:00     Race 2022-05-22 15:00:00          True  \n",
       "8   Qualifying 2022-05-28 16:00:00     Race 2022-05-29 15:00:00          True  \n",
       "9   Qualifying 2022-06-11 18:00:00     Race 2022-06-12 15:00:00          True  \n",
       "10  Qualifying 2022-06-18 16:00:00     Race 2022-06-19 14:00:00          True  \n",
       "11  Qualifying 2022-07-02 15:00:00     Race 2022-07-03 15:00:00          True  \n",
       "12      Sprint 2022-07-09 16:30:00     Race 2022-07-10 15:00:00          True  \n",
       "13  Qualifying 2022-07-23 16:00:00     Race 2022-07-24 15:00:00          True  \n",
       "14  Qualifying 2022-07-30 16:00:00     Race 2022-07-31 15:00:00          True  \n",
       "15  Qualifying 2022-08-27 16:00:00     Race 2022-08-28 15:00:00          True  \n",
       "16  Qualifying 2022-09-03 16:00:00     Race 2022-09-04 15:00:00          True  \n",
       "17  Qualifying 2022-09-10 16:00:00     Race 2022-09-11 15:00:00          True  \n",
       "18  Qualifying 2022-10-01 21:00:00     Race 2022-10-02 20:00:00          True  \n",
       "19  Qualifying 2022-10-08 16:00:00     Race 2022-10-09 14:00:00          True  \n",
       "20  Qualifying 2022-10-22 17:00:00     Race 2022-10-23 14:00:00          True  \n",
       "21  Qualifying 2022-10-29 15:00:00     Race 2022-10-30 14:00:00          True  \n",
       "22      Sprint 2022-11-12 16:30:00     Race 2022-11-13 15:00:00          True  \n",
       "23  Qualifying 2022-11-19 18:00:00     Race 2022-11-20 17:00:00          True  "
      ]
     },
     "execution_count": 2,
     "metadata": {},
     "output_type": "execute_result"
    }
   ],
   "source": [
    "events_list = ff1.get_event_schedule(2022)[2:]\n",
    "events_list"
   ]
  },
  {
   "cell_type": "code",
   "execution_count": 3,
   "metadata": {},
   "outputs": [
    {
     "name": "stderr",
     "output_type": "stream",
     "text": [
      "Loading data for Bahrain Grand Prix - Race [v2.2.8]\n",
      "Using cached data for driver_info\n",
      "Using cached data for timing_data\n",
      "Using cached data for timing_app_data\n",
      "Processing timing data...\n",
      "Using cached data for session_status_data\n",
      "Using cached data for track_status_data\n",
      "Using cached data for car_data\n",
      "Using cached data for position_data\n",
      "Using cached data for weather_data\n",
      "Using cached data for race_control_messages\n",
      "Finished loading data for 20 drivers: ['16', '55', '44', '63', '20', '77', '31', '22', '14', '24', '47', '18', '23', '3', '4', '6', '27', '11', '1', '10']\n",
      "Loading data for Saudi Arabian Grand Prix - Race [v2.2.8]\n",
      "Using cached data for driver_info\n",
      "Using cached data for timing_data\n",
      "Using cached data for timing_app_data\n",
      "Processing timing data...\n",
      "Using cached data for session_status_data\n",
      "Using cached data for track_status_data\n",
      "No lap data for driver 22\n",
      "Using cached data for car_data\n",
      "Using cached data for position_data\n",
      "Using cached data for weather_data\n",
      "Using cached data for race_control_messages\n",
      "Finished loading data for 19 drivers: ['1', '16', '55', '11', '63', '31', '4', '10', '20', '44', '24', '27', '18', '23', '77', '14', '3', '6', '22']\n",
      "Loading data for Australian Grand Prix - Race [v2.2.8]\n",
      "Using cached data for driver_info\n",
      "Using cached data for timing_data\n",
      "Using cached data for timing_app_data\n",
      "Processing timing data...\n",
      "Using cached data for session_status_data\n",
      "Using cached data for track_status_data\n",
      "Using cached data for car_data\n",
      "Using cached data for position_data\n",
      "Using cached data for weather_data\n",
      "Using cached data for race_control_messages\n",
      "Finished loading data for 20 drivers: ['16', '11', '63', '44', '4', '3', '31', '77', '10', '23', '24', '18', '47', '20', '22', '6', '14', '1', '5', '55']\n",
      "Loading data for Emilia Romagna Grand Prix - Race [v2.2.8]\n",
      "Using cached data for driver_info\n",
      "Using cached data for timing_data\n",
      "Using cached data for timing_app_data\n",
      "Processing timing data...\n",
      "Using cached data for session_status_data\n",
      "Using cached data for track_status_data\n",
      "Using cached data for car_data\n",
      "Using cached data for position_data\n",
      "Using cached data for weather_data\n",
      "Using cached data for race_control_messages\n",
      "Finished loading data for 20 drivers: ['1', '11', '4', '63', '77', '16', '22', '5', '20', '18', '23', '10', '44', '31', '24', '6', '47', '3', '14', '55']\n",
      "Loading data for Miami Grand Prix - Race [v2.2.8]\n",
      "Using cached data for driver_info\n",
      "Using cached data for timing_data\n",
      "Using cached data for timing_app_data\n",
      "Processing timing data...\n",
      "Using cached data for session_status_data\n",
      "Using cached data for track_status_data\n",
      "Using cached data for car_data\n",
      "Using cached data for position_data\n",
      "Using cached data for weather_data\n",
      "Using cached data for race_control_messages\n",
      "Finished loading data for 20 drivers: ['1', '16', '55', '11', '63', '44', '77', '31', '23', '18', '14', '22', '3', '6', '47', '20', '5', '10', '4', '24']\n",
      "Loading data for Spanish Grand Prix - Race [v2.2.8]\n",
      "Using cached data for driver_info\n",
      "Using cached data for timing_data\n",
      "Using cached data for timing_app_data\n",
      "Processing timing data...\n",
      "Using cached data for session_status_data\n",
      "Using cached data for track_status_data\n",
      "Using cached data for car_data\n",
      "Using cached data for position_data\n",
      "Using cached data for weather_data\n",
      "Using cached data for race_control_messages\n",
      "Finished loading data for 20 drivers: ['1', '11', '63', '55', '44', '77', '31', '4', '14', '22', '5', '3', '10', '47', '18', '6', '20', '23', '24', '16']\n",
      "Loading data for Monaco Grand Prix - Race [v2.2.8]\n",
      "Using cached data for driver_info\n",
      "Using cached data for timing_data\n",
      "Using cached data for timing_app_data\n",
      "Processing timing data...\n",
      "Using cached data for session_status_data\n",
      "Using cached data for track_status_data\n",
      "Using cached data for car_data\n",
      "Using cached data for position_data\n",
      "Using cached data for weather_data\n",
      "Using cached data for race_control_messages\n",
      "Finished loading data for 20 drivers: ['11', '55', '1', '16', '63', '4', '14', '44', '77', '5', '10', '31', '3', '18', '6', '24', '22', '23', '47', '20']\n"
     ]
    }
   ],
   "source": [
    "\n",
    "\n",
    "for i in range(1,8):\n",
    "    v = \"race\"+str(i)\n",
    "    v = ff1.get_session(2022, i, 'R')\n",
    "    v.load()\n",
    "    v.results['type_race'] = \"R\"\n",
    "    v.results['no_race'] = i\n",
    "    \n",
    "    if i == 1:\n",
    "        dfr = v.results\n",
    "    else :\n",
    "        dfr = dfr.append(v.results)\n",
    "        \n",
    "dfr = dfr[['Abbreviation','FullName','Points','type_race','no_race', 'TeamColor']]\n",
    "    "
   ]
  },
  {
   "cell_type": "code",
   "execution_count": 4,
   "metadata": {},
   "outputs": [
    {
     "data": {
      "text/html": [
       "<div><div id=b3463d39-bc29-46e8-a0fd-253b5f66c0c1 style=\"display:none; background-color:#9D6CFF; color:white; width:200px; height:30px; padding-left:5px; border-radius:4px; flex-direction:row; justify-content:space-around; align-items:center;\" onmouseover=\"this.style.backgroundColor='#BA9BF8'\" onmouseout=\"this.style.backgroundColor='#9D6CFF'\" onclick=\"window.commands?.execute('create-mitosheet-from-dataframe-output');\">See Full Dataframe in Mito</div> <script> if (window.commands.hasCommand('create-mitosheet-from-dataframe-output')) document.getElementById('b3463d39-bc29-46e8-a0fd-253b5f66c0c1').style.display = 'flex' </script> <table border=\"1\" class=\"dataframe\">\n",
       "  <thead>\n",
       "    <tr style=\"text-align: right;\">\n",
       "      <th></th>\n",
       "      <th>Abbreviation</th>\n",
       "      <th>FullName</th>\n",
       "      <th>Points</th>\n",
       "      <th>type_race</th>\n",
       "      <th>no_race</th>\n",
       "      <th>TeamColor</th>\n",
       "    </tr>\n",
       "  </thead>\n",
       "  <tbody>\n",
       "    <tr>\n",
       "      <th>16</th>\n",
       "      <td>LEC</td>\n",
       "      <td>Charles Leclerc</td>\n",
       "      <td>26.0</td>\n",
       "      <td>R</td>\n",
       "      <td>1</td>\n",
       "      <td>ed1c24</td>\n",
       "    </tr>\n",
       "    <tr>\n",
       "      <th>55</th>\n",
       "      <td>SAI</td>\n",
       "      <td>Carlos Sainz</td>\n",
       "      <td>18.0</td>\n",
       "      <td>R</td>\n",
       "      <td>1</td>\n",
       "      <td>ed1c24</td>\n",
       "    </tr>\n",
       "    <tr>\n",
       "      <th>44</th>\n",
       "      <td>HAM</td>\n",
       "      <td>Lewis Hamilton</td>\n",
       "      <td>15.0</td>\n",
       "      <td>R</td>\n",
       "      <td>1</td>\n",
       "      <td>6cd3bf</td>\n",
       "    </tr>\n",
       "    <tr>\n",
       "      <th>63</th>\n",
       "      <td>RUS</td>\n",
       "      <td>George Russell</td>\n",
       "      <td>12.0</td>\n",
       "      <td>R</td>\n",
       "      <td>1</td>\n",
       "      <td>6cd3bf</td>\n",
       "    </tr>\n",
       "    <tr>\n",
       "      <th>20</th>\n",
       "      <td>MAG</td>\n",
       "      <td>Kevin Magnussen</td>\n",
       "      <td>10.0</td>\n",
       "      <td>R</td>\n",
       "      <td>1</td>\n",
       "      <td>b6babd</td>\n",
       "    </tr>\n",
       "    <tr>\n",
       "      <th>77</th>\n",
       "      <td>BOT</td>\n",
       "      <td>Valtteri Bottas</td>\n",
       "      <td>8.0</td>\n",
       "      <td>R</td>\n",
       "      <td>1</td>\n",
       "      <td>b12039</td>\n",
       "    </tr>\n",
       "    <tr>\n",
       "      <th>31</th>\n",
       "      <td>OCO</td>\n",
       "      <td>Esteban Ocon</td>\n",
       "      <td>6.0</td>\n",
       "      <td>R</td>\n",
       "      <td>1</td>\n",
       "      <td>2293d1</td>\n",
       "    </tr>\n",
       "    <tr>\n",
       "      <th>22</th>\n",
       "      <td>TSU</td>\n",
       "      <td>Yuki Tsunoda</td>\n",
       "      <td>4.0</td>\n",
       "      <td>R</td>\n",
       "      <td>1</td>\n",
       "      <td>4e7c9b</td>\n",
       "    </tr>\n",
       "    <tr>\n",
       "      <th>14</th>\n",
       "      <td>ALO</td>\n",
       "      <td>Fernando Alonso</td>\n",
       "      <td>2.0</td>\n",
       "      <td>R</td>\n",
       "      <td>1</td>\n",
       "      <td>2293d1</td>\n",
       "    </tr>\n",
       "    <tr>\n",
       "      <th>24</th>\n",
       "      <td>ZHO</td>\n",
       "      <td>Guanyu Zhou</td>\n",
       "      <td>1.0</td>\n",
       "      <td>R</td>\n",
       "      <td>1</td>\n",
       "      <td>b12039</td>\n",
       "    </tr>\n",
       "    <tr>\n",
       "      <th>47</th>\n",
       "      <td>MSC</td>\n",
       "      <td>Mick Schumacher</td>\n",
       "      <td>0.0</td>\n",
       "      <td>R</td>\n",
       "      <td>1</td>\n",
       "      <td>b6babd</td>\n",
       "    </tr>\n",
       "    <tr>\n",
       "      <th>18</th>\n",
       "      <td>STR</td>\n",
       "      <td>Lance Stroll</td>\n",
       "      <td>0.0</td>\n",
       "      <td>R</td>\n",
       "      <td>1</td>\n",
       "      <td>2d826d</td>\n",
       "    </tr>\n",
       "    <tr>\n",
       "      <th>23</th>\n",
       "      <td>ALB</td>\n",
       "      <td>Alexander Albon</td>\n",
       "      <td>0.0</td>\n",
       "      <td>R</td>\n",
       "      <td>1</td>\n",
       "      <td>37bedd</td>\n",
       "    </tr>\n",
       "    <tr>\n",
       "      <th>3</th>\n",
       "      <td>RIC</td>\n",
       "      <td>Daniel Ricciardo</td>\n",
       "      <td>0.0</td>\n",
       "      <td>R</td>\n",
       "      <td>1</td>\n",
       "      <td>f58020</td>\n",
       "    </tr>\n",
       "    <tr>\n",
       "      <th>4</th>\n",
       "      <td>NOR</td>\n",
       "      <td>Lando Norris</td>\n",
       "      <td>0.0</td>\n",
       "      <td>R</td>\n",
       "      <td>1</td>\n",
       "      <td>f58020</td>\n",
       "    </tr>\n",
       "    <tr>\n",
       "      <th>6</th>\n",
       "      <td>LAT</td>\n",
       "      <td>Nicholas Latifi</td>\n",
       "      <td>0.0</td>\n",
       "      <td>R</td>\n",
       "      <td>1</td>\n",
       "      <td>37bedd</td>\n",
       "    </tr>\n",
       "    <tr>\n",
       "      <th>27</th>\n",
       "      <td>HUL</td>\n",
       "      <td>Nico Hulkenberg</td>\n",
       "      <td>0.0</td>\n",
       "      <td>R</td>\n",
       "      <td>1</td>\n",
       "      <td>2d826d</td>\n",
       "    </tr>\n",
       "    <tr>\n",
       "      <th>11</th>\n",
       "      <td>PER</td>\n",
       "      <td>Sergio Perez</td>\n",
       "      <td>0.0</td>\n",
       "      <td>R</td>\n",
       "      <td>1</td>\n",
       "      <td>1e5bc6</td>\n",
       "    </tr>\n",
       "    <tr>\n",
       "      <th>1</th>\n",
       "      <td>VER</td>\n",
       "      <td>Max Verstappen</td>\n",
       "      <td>0.0</td>\n",
       "      <td>R</td>\n",
       "      <td>1</td>\n",
       "      <td>1e5bc6</td>\n",
       "    </tr>\n",
       "    <tr>\n",
       "      <th>10</th>\n",
       "      <td>GAS</td>\n",
       "      <td>Pierre Gasly</td>\n",
       "      <td>0.0</td>\n",
       "      <td>R</td>\n",
       "      <td>1</td>\n",
       "      <td>4e7c9b</td>\n",
       "    </tr>\n",
       "    <tr>\n",
       "      <th>1</th>\n",
       "      <td>VER</td>\n",
       "      <td>Max Verstappen</td>\n",
       "      <td>25.0</td>\n",
       "      <td>R</td>\n",
       "      <td>2</td>\n",
       "      <td>1e5bc6</td>\n",
       "    </tr>\n",
       "    <tr>\n",
       "      <th>16</th>\n",
       "      <td>LEC</td>\n",
       "      <td>Charles Leclerc</td>\n",
       "      <td>19.0</td>\n",
       "      <td>R</td>\n",
       "      <td>2</td>\n",
       "      <td>ed1c24</td>\n",
       "    </tr>\n",
       "    <tr>\n",
       "      <th>55</th>\n",
       "      <td>SAI</td>\n",
       "      <td>Carlos Sainz</td>\n",
       "      <td>15.0</td>\n",
       "      <td>R</td>\n",
       "      <td>2</td>\n",
       "      <td>ed1c24</td>\n",
       "    </tr>\n",
       "    <tr>\n",
       "      <th>11</th>\n",
       "      <td>PER</td>\n",
       "      <td>Sergio Perez</td>\n",
       "      <td>12.0</td>\n",
       "      <td>R</td>\n",
       "      <td>2</td>\n",
       "      <td>1e5bc6</td>\n",
       "    </tr>\n",
       "    <tr>\n",
       "      <th>63</th>\n",
       "      <td>RUS</td>\n",
       "      <td>George Russell</td>\n",
       "      <td>10.0</td>\n",
       "      <td>R</td>\n",
       "      <td>2</td>\n",
       "      <td>6cd3bf</td>\n",
       "    </tr>\n",
       "    <tr>\n",
       "      <th>31</th>\n",
       "      <td>OCO</td>\n",
       "      <td>Esteban Ocon</td>\n",
       "      <td>8.0</td>\n",
       "      <td>R</td>\n",
       "      <td>2</td>\n",
       "      <td>2293d1</td>\n",
       "    </tr>\n",
       "    <tr>\n",
       "      <th>4</th>\n",
       "      <td>NOR</td>\n",
       "      <td>Lando Norris</td>\n",
       "      <td>6.0</td>\n",
       "      <td>R</td>\n",
       "      <td>2</td>\n",
       "      <td>f58020</td>\n",
       "    </tr>\n",
       "    <tr>\n",
       "      <th>10</th>\n",
       "      <td>GAS</td>\n",
       "      <td>Pierre Gasly</td>\n",
       "      <td>4.0</td>\n",
       "      <td>R</td>\n",
       "      <td>2</td>\n",
       "      <td>4e7c9b</td>\n",
       "    </tr>\n",
       "    <tr>\n",
       "      <th>20</th>\n",
       "      <td>MAG</td>\n",
       "      <td>Kevin Magnussen</td>\n",
       "      <td>2.0</td>\n",
       "      <td>R</td>\n",
       "      <td>2</td>\n",
       "      <td>b6babd</td>\n",
       "    </tr>\n",
       "    <tr>\n",
       "      <th>44</th>\n",
       "      <td>HAM</td>\n",
       "      <td>Lewis Hamilton</td>\n",
       "      <td>1.0</td>\n",
       "      <td>R</td>\n",
       "      <td>2</td>\n",
       "      <td>6cd3bf</td>\n",
       "    </tr>\n",
       "    <tr>\n",
       "      <th>...</th>\n",
       "      <td>...</td>\n",
       "      <td>...</td>\n",
       "      <td>...</td>\n",
       "      <td>...</td>\n",
       "      <td>...</td>\n",
       "      <td>...</td>\n",
       "    </tr>\n",
       "    <tr>\n",
       "      <th>5</th>\n",
       "      <td>VET</td>\n",
       "      <td>Sebastian Vettel</td>\n",
       "      <td>0.0</td>\n",
       "      <td>R</td>\n",
       "      <td>6</td>\n",
       "      <td>2d826d</td>\n",
       "    </tr>\n",
       "    <tr>\n",
       "      <th>3</th>\n",
       "      <td>RIC</td>\n",
       "      <td>Daniel Ricciardo</td>\n",
       "      <td>0.0</td>\n",
       "      <td>R</td>\n",
       "      <td>6</td>\n",
       "      <td>f58020</td>\n",
       "    </tr>\n",
       "    <tr>\n",
       "      <th>10</th>\n",
       "      <td>GAS</td>\n",
       "      <td>Pierre Gasly</td>\n",
       "      <td>0.0</td>\n",
       "      <td>R</td>\n",
       "      <td>6</td>\n",
       "      <td>4e7c9b</td>\n",
       "    </tr>\n",
       "    <tr>\n",
       "      <th>47</th>\n",
       "      <td>MSC</td>\n",
       "      <td>Mick Schumacher</td>\n",
       "      <td>0.0</td>\n",
       "      <td>R</td>\n",
       "      <td>6</td>\n",
       "      <td>b6babd</td>\n",
       "    </tr>\n",
       "    <tr>\n",
       "      <th>18</th>\n",
       "      <td>STR</td>\n",
       "      <td>Lance Stroll</td>\n",
       "      <td>0.0</td>\n",
       "      <td>R</td>\n",
       "      <td>6</td>\n",
       "      <td>2d826d</td>\n",
       "    </tr>\n",
       "    <tr>\n",
       "      <th>6</th>\n",
       "      <td>LAT</td>\n",
       "      <td>Nicholas Latifi</td>\n",
       "      <td>0.0</td>\n",
       "      <td>R</td>\n",
       "      <td>6</td>\n",
       "      <td>37bedd</td>\n",
       "    </tr>\n",
       "    <tr>\n",
       "      <th>20</th>\n",
       "      <td>MAG</td>\n",
       "      <td>Kevin Magnussen</td>\n",
       "      <td>0.0</td>\n",
       "      <td>R</td>\n",
       "      <td>6</td>\n",
       "      <td>b6babd</td>\n",
       "    </tr>\n",
       "    <tr>\n",
       "      <th>23</th>\n",
       "      <td>ALB</td>\n",
       "      <td>Alexander Albon</td>\n",
       "      <td>0.0</td>\n",
       "      <td>R</td>\n",
       "      <td>6</td>\n",
       "      <td>37bedd</td>\n",
       "    </tr>\n",
       "    <tr>\n",
       "      <th>24</th>\n",
       "      <td>ZHO</td>\n",
       "      <td>Guanyu Zhou</td>\n",
       "      <td>0.0</td>\n",
       "      <td>R</td>\n",
       "      <td>6</td>\n",
       "      <td>b12039</td>\n",
       "    </tr>\n",
       "    <tr>\n",
       "      <th>16</th>\n",
       "      <td>LEC</td>\n",
       "      <td>Charles Leclerc</td>\n",
       "      <td>0.0</td>\n",
       "      <td>R</td>\n",
       "      <td>6</td>\n",
       "      <td>ed1c24</td>\n",
       "    </tr>\n",
       "    <tr>\n",
       "      <th>11</th>\n",
       "      <td>PER</td>\n",
       "      <td>Sergio Perez</td>\n",
       "      <td>25.0</td>\n",
       "      <td>R</td>\n",
       "      <td>7</td>\n",
       "      <td>1e5bc6</td>\n",
       "    </tr>\n",
       "    <tr>\n",
       "      <th>55</th>\n",
       "      <td>SAI</td>\n",
       "      <td>Carlos Sainz</td>\n",
       "      <td>18.0</td>\n",
       "      <td>R</td>\n",
       "      <td>7</td>\n",
       "      <td>ed1c24</td>\n",
       "    </tr>\n",
       "    <tr>\n",
       "      <th>1</th>\n",
       "      <td>VER</td>\n",
       "      <td>Max Verstappen</td>\n",
       "      <td>15.0</td>\n",
       "      <td>R</td>\n",
       "      <td>7</td>\n",
       "      <td>1e5bc6</td>\n",
       "    </tr>\n",
       "    <tr>\n",
       "      <th>16</th>\n",
       "      <td>LEC</td>\n",
       "      <td>Charles Leclerc</td>\n",
       "      <td>12.0</td>\n",
       "      <td>R</td>\n",
       "      <td>7</td>\n",
       "      <td>ed1c24</td>\n",
       "    </tr>\n",
       "    <tr>\n",
       "      <th>63</th>\n",
       "      <td>RUS</td>\n",
       "      <td>George Russell</td>\n",
       "      <td>10.0</td>\n",
       "      <td>R</td>\n",
       "      <td>7</td>\n",
       "      <td>6cd3bf</td>\n",
       "    </tr>\n",
       "    <tr>\n",
       "      <th>4</th>\n",
       "      <td>NOR</td>\n",
       "      <td>Lando Norris</td>\n",
       "      <td>9.0</td>\n",
       "      <td>R</td>\n",
       "      <td>7</td>\n",
       "      <td>f58020</td>\n",
       "    </tr>\n",
       "    <tr>\n",
       "      <th>14</th>\n",
       "      <td>ALO</td>\n",
       "      <td>Fernando Alonso</td>\n",
       "      <td>6.0</td>\n",
       "      <td>R</td>\n",
       "      <td>7</td>\n",
       "      <td>2293d1</td>\n",
       "    </tr>\n",
       "    <tr>\n",
       "      <th>44</th>\n",
       "      <td>HAM</td>\n",
       "      <td>Lewis Hamilton</td>\n",
       "      <td>4.0</td>\n",
       "      <td>R</td>\n",
       "      <td>7</td>\n",
       "      <td>6cd3bf</td>\n",
       "    </tr>\n",
       "    <tr>\n",
       "      <th>77</th>\n",
       "      <td>BOT</td>\n",
       "      <td>Valtteri Bottas</td>\n",
       "      <td>2.0</td>\n",
       "      <td>R</td>\n",
       "      <td>7</td>\n",
       "      <td>b12039</td>\n",
       "    </tr>\n",
       "    <tr>\n",
       "      <th>5</th>\n",
       "      <td>VET</td>\n",
       "      <td>Sebastian Vettel</td>\n",
       "      <td>1.0</td>\n",
       "      <td>R</td>\n",
       "      <td>7</td>\n",
       "      <td>2d826d</td>\n",
       "    </tr>\n",
       "    <tr>\n",
       "      <th>10</th>\n",
       "      <td>GAS</td>\n",
       "      <td>Pierre Gasly</td>\n",
       "      <td>0.0</td>\n",
       "      <td>R</td>\n",
       "      <td>7</td>\n",
       "      <td>4e7c9b</td>\n",
       "    </tr>\n",
       "    <tr>\n",
       "      <th>31</th>\n",
       "      <td>OCO</td>\n",
       "      <td>Esteban Ocon</td>\n",
       "      <td>0.0</td>\n",
       "      <td>R</td>\n",
       "      <td>7</td>\n",
       "      <td>2293d1</td>\n",
       "    </tr>\n",
       "    <tr>\n",
       "      <th>3</th>\n",
       "      <td>RIC</td>\n",
       "      <td>Daniel Ricciardo</td>\n",
       "      <td>0.0</td>\n",
       "      <td>R</td>\n",
       "      <td>7</td>\n",
       "      <td>f58020</td>\n",
       "    </tr>\n",
       "    <tr>\n",
       "      <th>18</th>\n",
       "      <td>STR</td>\n",
       "      <td>Lance Stroll</td>\n",
       "      <td>0.0</td>\n",
       "      <td>R</td>\n",
       "      <td>7</td>\n",
       "      <td>2d826d</td>\n",
       "    </tr>\n",
       "    <tr>\n",
       "      <th>6</th>\n",
       "      <td>LAT</td>\n",
       "      <td>Nicholas Latifi</td>\n",
       "      <td>0.0</td>\n",
       "      <td>R</td>\n",
       "      <td>7</td>\n",
       "      <td>37bedd</td>\n",
       "    </tr>\n",
       "    <tr>\n",
       "      <th>24</th>\n",
       "      <td>ZHO</td>\n",
       "      <td>Guanyu Zhou</td>\n",
       "      <td>0.0</td>\n",
       "      <td>R</td>\n",
       "      <td>7</td>\n",
       "      <td>b12039</td>\n",
       "    </tr>\n",
       "    <tr>\n",
       "      <th>22</th>\n",
       "      <td>TSU</td>\n",
       "      <td>Yuki Tsunoda</td>\n",
       "      <td>0.0</td>\n",
       "      <td>R</td>\n",
       "      <td>7</td>\n",
       "      <td>4e7c9b</td>\n",
       "    </tr>\n",
       "    <tr>\n",
       "      <th>23</th>\n",
       "      <td>ALB</td>\n",
       "      <td>Alexander Albon</td>\n",
       "      <td>0.0</td>\n",
       "      <td>R</td>\n",
       "      <td>7</td>\n",
       "      <td>37bedd</td>\n",
       "    </tr>\n",
       "    <tr>\n",
       "      <th>47</th>\n",
       "      <td>MSC</td>\n",
       "      <td>Mick Schumacher</td>\n",
       "      <td>0.0</td>\n",
       "      <td>R</td>\n",
       "      <td>7</td>\n",
       "      <td>b6babd</td>\n",
       "    </tr>\n",
       "    <tr>\n",
       "      <th>20</th>\n",
       "      <td>MAG</td>\n",
       "      <td>Kevin Magnussen</td>\n",
       "      <td>0.0</td>\n",
       "      <td>R</td>\n",
       "      <td>7</td>\n",
       "      <td>b6babd</td>\n",
       "    </tr>\n",
       "  </tbody>\n",
       "</table></div>"
      ],
      "text/plain": [
       "   Abbreviation         FullName  Points type_race  no_race TeamColor\n",
       "16          LEC  Charles Leclerc    26.0         R        1    ed1c24\n",
       "55          SAI     Carlos Sainz    18.0         R        1    ed1c24\n",
       "44          HAM   Lewis Hamilton    15.0         R        1    6cd3bf\n",
       "63          RUS   George Russell    12.0         R        1    6cd3bf\n",
       "20          MAG  Kevin Magnussen    10.0         R        1    b6babd\n",
       "..          ...              ...     ...       ...      ...       ...\n",
       "24          ZHO      Guanyu Zhou     0.0         R        7    b12039\n",
       "22          TSU     Yuki Tsunoda     0.0         R        7    4e7c9b\n",
       "23          ALB  Alexander Albon     0.0         R        7    37bedd\n",
       "47          MSC  Mick Schumacher     0.0         R        7    b6babd\n",
       "20          MAG  Kevin Magnussen     0.0         R        7    b6babd\n",
       "\n",
       "[139 rows x 6 columns]"
      ]
     },
     "execution_count": 4,
     "metadata": {},
     "output_type": "execute_result"
    }
   ],
   "source": [
    "dfr"
   ]
  },
  {
   "cell_type": "code",
   "execution_count": 5,
   "metadata": {},
   "outputs": [
    {
     "name": "stderr",
     "output_type": "stream",
     "text": [
      "Loading data for Emilia Romagna Grand Prix - Sprint [v2.2.8]\n",
      "Using cached data for driver_info\n",
      "Using cached data for timing_data\n",
      "Using cached data for timing_app_data\n",
      "Processing timing data...\n",
      "Using cached data for session_status_data\n",
      "Using cached data for track_status_data\n",
      "Using cached data for car_data\n",
      "Using cached data for position_data\n",
      "Using cached data for weather_data\n",
      "Using cached data for race_control_messages\n",
      "Finished loading data for 20 drivers: ['1', '16', '11', '55', '4', '3', '77', '20', '14', '47', '63', '22', '5', '44', '18', '31', '10', '23', '6', '24']\n"
     ]
    }
   ],
   "source": [
    "for i in [4]:\n",
    "    v = \"sprint\"+str(i)\n",
    "    v = ff1.get_session(2022, i, 'S')\n",
    "    v.load()\n",
    "    v.results['type_race'] = \"S\"\n",
    "    v.results['no_race'] = i\n",
    "    \n",
    "    if i == 4:\n",
    "        dfs = v.results\n",
    "    else :\n",
    "        dfs = dfs.append(v.results)\n",
    "        \n",
    "dfs = dfs[['Abbreviation','FullName','Points','type_race','no_race', 'TeamColor']]"
   ]
  },
  {
   "cell_type": "code",
   "execution_count": 6,
   "metadata": {},
   "outputs": [
    {
     "data": {
      "text/html": [
       "<div><div id=cbd107f5-3417-4da6-831d-03ae43e9e3e3 style=\"display:none; background-color:#9D6CFF; color:white; width:200px; height:30px; padding-left:5px; border-radius:4px; flex-direction:row; justify-content:space-around; align-items:center;\" onmouseover=\"this.style.backgroundColor='#BA9BF8'\" onmouseout=\"this.style.backgroundColor='#9D6CFF'\" onclick=\"window.commands?.execute('create-mitosheet-from-dataframe-output');\">See Full Dataframe in Mito</div> <script> if (window.commands.hasCommand('create-mitosheet-from-dataframe-output')) document.getElementById('cbd107f5-3417-4da6-831d-03ae43e9e3e3').style.display = 'flex' </script> <table border=\"1\" class=\"dataframe\">\n",
       "  <thead>\n",
       "    <tr style=\"text-align: right;\">\n",
       "      <th></th>\n",
       "      <th>Abbreviation</th>\n",
       "      <th>FullName</th>\n",
       "      <th>Points</th>\n",
       "      <th>type_race</th>\n",
       "      <th>no_race</th>\n",
       "      <th>TeamColor</th>\n",
       "    </tr>\n",
       "  </thead>\n",
       "  <tbody>\n",
       "    <tr>\n",
       "      <th>1</th>\n",
       "      <td>VER</td>\n",
       "      <td>Max Verstappen</td>\n",
       "      <td>8.0</td>\n",
       "      <td>S</td>\n",
       "      <td>4</td>\n",
       "      <td>1e5bc6</td>\n",
       "    </tr>\n",
       "    <tr>\n",
       "      <th>16</th>\n",
       "      <td>LEC</td>\n",
       "      <td>Charles Leclerc</td>\n",
       "      <td>7.0</td>\n",
       "      <td>S</td>\n",
       "      <td>4</td>\n",
       "      <td>ed1c24</td>\n",
       "    </tr>\n",
       "    <tr>\n",
       "      <th>11</th>\n",
       "      <td>PER</td>\n",
       "      <td>Sergio Perez</td>\n",
       "      <td>6.0</td>\n",
       "      <td>S</td>\n",
       "      <td>4</td>\n",
       "      <td>1e5bc6</td>\n",
       "    </tr>\n",
       "    <tr>\n",
       "      <th>55</th>\n",
       "      <td>SAI</td>\n",
       "      <td>Carlos Sainz</td>\n",
       "      <td>5.0</td>\n",
       "      <td>S</td>\n",
       "      <td>4</td>\n",
       "      <td>ed1c24</td>\n",
       "    </tr>\n",
       "    <tr>\n",
       "      <th>4</th>\n",
       "      <td>NOR</td>\n",
       "      <td>Lando Norris</td>\n",
       "      <td>4.0</td>\n",
       "      <td>S</td>\n",
       "      <td>4</td>\n",
       "      <td>f58020</td>\n",
       "    </tr>\n",
       "    <tr>\n",
       "      <th>3</th>\n",
       "      <td>RIC</td>\n",
       "      <td>Daniel Ricciardo</td>\n",
       "      <td>3.0</td>\n",
       "      <td>S</td>\n",
       "      <td>4</td>\n",
       "      <td>f58020</td>\n",
       "    </tr>\n",
       "    <tr>\n",
       "      <th>77</th>\n",
       "      <td>BOT</td>\n",
       "      <td>Valtteri Bottas</td>\n",
       "      <td>2.0</td>\n",
       "      <td>S</td>\n",
       "      <td>4</td>\n",
       "      <td>b12039</td>\n",
       "    </tr>\n",
       "    <tr>\n",
       "      <th>20</th>\n",
       "      <td>MAG</td>\n",
       "      <td>Kevin Magnussen</td>\n",
       "      <td>1.0</td>\n",
       "      <td>S</td>\n",
       "      <td>4</td>\n",
       "      <td>b6babd</td>\n",
       "    </tr>\n",
       "    <tr>\n",
       "      <th>14</th>\n",
       "      <td>ALO</td>\n",
       "      <td>Fernando Alonso</td>\n",
       "      <td>0.0</td>\n",
       "      <td>S</td>\n",
       "      <td>4</td>\n",
       "      <td>2293d1</td>\n",
       "    </tr>\n",
       "    <tr>\n",
       "      <th>47</th>\n",
       "      <td>MSC</td>\n",
       "      <td>Mick Schumacher</td>\n",
       "      <td>0.0</td>\n",
       "      <td>S</td>\n",
       "      <td>4</td>\n",
       "      <td>b6babd</td>\n",
       "    </tr>\n",
       "    <tr>\n",
       "      <th>63</th>\n",
       "      <td>RUS</td>\n",
       "      <td>George Russell</td>\n",
       "      <td>0.0</td>\n",
       "      <td>S</td>\n",
       "      <td>4</td>\n",
       "      <td>6cd3bf</td>\n",
       "    </tr>\n",
       "    <tr>\n",
       "      <th>22</th>\n",
       "      <td>TSU</td>\n",
       "      <td>Yuki Tsunoda</td>\n",
       "      <td>0.0</td>\n",
       "      <td>S</td>\n",
       "      <td>4</td>\n",
       "      <td>4e7c9b</td>\n",
       "    </tr>\n",
       "    <tr>\n",
       "      <th>5</th>\n",
       "      <td>VET</td>\n",
       "      <td>Sebastian Vettel</td>\n",
       "      <td>0.0</td>\n",
       "      <td>S</td>\n",
       "      <td>4</td>\n",
       "      <td>2d826d</td>\n",
       "    </tr>\n",
       "    <tr>\n",
       "      <th>44</th>\n",
       "      <td>HAM</td>\n",
       "      <td>Lewis Hamilton</td>\n",
       "      <td>0.0</td>\n",
       "      <td>S</td>\n",
       "      <td>4</td>\n",
       "      <td>6cd3bf</td>\n",
       "    </tr>\n",
       "    <tr>\n",
       "      <th>18</th>\n",
       "      <td>STR</td>\n",
       "      <td>Lance Stroll</td>\n",
       "      <td>0.0</td>\n",
       "      <td>S</td>\n",
       "      <td>4</td>\n",
       "      <td>2d826d</td>\n",
       "    </tr>\n",
       "    <tr>\n",
       "      <th>31</th>\n",
       "      <td>OCO</td>\n",
       "      <td>Esteban Ocon</td>\n",
       "      <td>0.0</td>\n",
       "      <td>S</td>\n",
       "      <td>4</td>\n",
       "      <td>2293d1</td>\n",
       "    </tr>\n",
       "    <tr>\n",
       "      <th>10</th>\n",
       "      <td>GAS</td>\n",
       "      <td>Pierre Gasly</td>\n",
       "      <td>0.0</td>\n",
       "      <td>S</td>\n",
       "      <td>4</td>\n",
       "      <td>4e7c9b</td>\n",
       "    </tr>\n",
       "    <tr>\n",
       "      <th>23</th>\n",
       "      <td>ALB</td>\n",
       "      <td>Alexander Albon</td>\n",
       "      <td>0.0</td>\n",
       "      <td>S</td>\n",
       "      <td>4</td>\n",
       "      <td>37bedd</td>\n",
       "    </tr>\n",
       "    <tr>\n",
       "      <th>6</th>\n",
       "      <td>LAT</td>\n",
       "      <td>Nicholas Latifi</td>\n",
       "      <td>0.0</td>\n",
       "      <td>S</td>\n",
       "      <td>4</td>\n",
       "      <td>37bedd</td>\n",
       "    </tr>\n",
       "    <tr>\n",
       "      <th>24</th>\n",
       "      <td>ZHO</td>\n",
       "      <td>Guanyu Zhou</td>\n",
       "      <td>0.0</td>\n",
       "      <td>S</td>\n",
       "      <td>4</td>\n",
       "      <td>b12039</td>\n",
       "    </tr>\n",
       "  </tbody>\n",
       "</table></div>"
      ],
      "text/plain": [
       "   Abbreviation          FullName  Points type_race  no_race TeamColor\n",
       "1           VER    Max Verstappen     8.0         S        4    1e5bc6\n",
       "16          LEC   Charles Leclerc     7.0         S        4    ed1c24\n",
       "11          PER      Sergio Perez     6.0         S        4    1e5bc6\n",
       "55          SAI      Carlos Sainz     5.0         S        4    ed1c24\n",
       "4           NOR      Lando Norris     4.0         S        4    f58020\n",
       "3           RIC  Daniel Ricciardo     3.0         S        4    f58020\n",
       "77          BOT   Valtteri Bottas     2.0         S        4    b12039\n",
       "20          MAG   Kevin Magnussen     1.0         S        4    b6babd\n",
       "14          ALO   Fernando Alonso     0.0         S        4    2293d1\n",
       "47          MSC   Mick Schumacher     0.0         S        4    b6babd\n",
       "63          RUS    George Russell     0.0         S        4    6cd3bf\n",
       "22          TSU      Yuki Tsunoda     0.0         S        4    4e7c9b\n",
       "5           VET  Sebastian Vettel     0.0         S        4    2d826d\n",
       "44          HAM    Lewis Hamilton     0.0         S        4    6cd3bf\n",
       "18          STR      Lance Stroll     0.0         S        4    2d826d\n",
       "31          OCO      Esteban Ocon     0.0         S        4    2293d1\n",
       "10          GAS      Pierre Gasly     0.0         S        4    4e7c9b\n",
       "23          ALB   Alexander Albon     0.0         S        4    37bedd\n",
       "6           LAT   Nicholas Latifi     0.0         S        4    37bedd\n",
       "24          ZHO       Guanyu Zhou     0.0         S        4    b12039"
      ]
     },
     "execution_count": 6,
     "metadata": {},
     "output_type": "execute_result"
    }
   ],
   "source": [
    "dfs"
   ]
  },
  {
   "cell_type": "code",
   "execution_count": 7,
   "metadata": {},
   "outputs": [
    {
     "data": {
      "text/plain": [
       "159"
      ]
     },
     "execution_count": 7,
     "metadata": {},
     "output_type": "execute_result"
    }
   ],
   "source": [
    "df = pd.concat([dfr, dfs])\n",
    "len(df)"
   ]
  },
  {
   "cell_type": "code",
   "execution_count": 8,
   "metadata": {},
   "outputs": [
    {
     "data": {
      "text/html": [
       "<div><div id=61a1a431-7d4f-40b1-a5ae-b9cd69caf64e style=\"display:none; background-color:#9D6CFF; color:white; width:200px; height:30px; padding-left:5px; border-radius:4px; flex-direction:row; justify-content:space-around; align-items:center;\" onmouseover=\"this.style.backgroundColor='#BA9BF8'\" onmouseout=\"this.style.backgroundColor='#9D6CFF'\" onclick=\"window.commands?.execute('create-mitosheet-from-dataframe-output');\">See Full Dataframe in Mito</div> <script> if (window.commands.hasCommand('create-mitosheet-from-dataframe-output')) document.getElementById('61a1a431-7d4f-40b1-a5ae-b9cd69caf64e').style.display = 'flex' </script> <table border=\"1\" class=\"dataframe\">\n",
       "  <thead>\n",
       "    <tr style=\"text-align: right;\">\n",
       "      <th></th>\n",
       "      <th>Abbreviation</th>\n",
       "      <th>FullName</th>\n",
       "      <th>Points</th>\n",
       "      <th>type_race</th>\n",
       "      <th>no_race</th>\n",
       "      <th>TeamColor</th>\n",
       "    </tr>\n",
       "  </thead>\n",
       "  <tbody>\n",
       "    <tr>\n",
       "      <th>16</th>\n",
       "      <td>LEC</td>\n",
       "      <td>Charles Leclerc</td>\n",
       "      <td>26.0</td>\n",
       "      <td>R</td>\n",
       "      <td>1</td>\n",
       "      <td>ed1c24</td>\n",
       "    </tr>\n",
       "    <tr>\n",
       "      <th>55</th>\n",
       "      <td>SAI</td>\n",
       "      <td>Carlos Sainz</td>\n",
       "      <td>18.0</td>\n",
       "      <td>R</td>\n",
       "      <td>1</td>\n",
       "      <td>ed1c24</td>\n",
       "    </tr>\n",
       "    <tr>\n",
       "      <th>44</th>\n",
       "      <td>HAM</td>\n",
       "      <td>Lewis Hamilton</td>\n",
       "      <td>15.0</td>\n",
       "      <td>R</td>\n",
       "      <td>1</td>\n",
       "      <td>6cd3bf</td>\n",
       "    </tr>\n",
       "    <tr>\n",
       "      <th>63</th>\n",
       "      <td>RUS</td>\n",
       "      <td>George Russell</td>\n",
       "      <td>12.0</td>\n",
       "      <td>R</td>\n",
       "      <td>1</td>\n",
       "      <td>6cd3bf</td>\n",
       "    </tr>\n",
       "    <tr>\n",
       "      <th>20</th>\n",
       "      <td>MAG</td>\n",
       "      <td>Kevin Magnussen</td>\n",
       "      <td>10.0</td>\n",
       "      <td>R</td>\n",
       "      <td>1</td>\n",
       "      <td>b6babd</td>\n",
       "    </tr>\n",
       "  </tbody>\n",
       "</table></div>"
      ],
      "text/plain": [
       "   Abbreviation         FullName  Points type_race  no_race TeamColor\n",
       "16          LEC  Charles Leclerc    26.0         R        1    ed1c24\n",
       "55          SAI     Carlos Sainz    18.0         R        1    ed1c24\n",
       "44          HAM   Lewis Hamilton    15.0         R        1    6cd3bf\n",
       "63          RUS   George Russell    12.0         R        1    6cd3bf\n",
       "20          MAG  Kevin Magnussen    10.0         R        1    b6babd"
      ]
     },
     "execution_count": 8,
     "metadata": {},
     "output_type": "execute_result"
    }
   ],
   "source": [
    "df.head()"
   ]
  },
  {
   "cell_type": "code",
   "execution_count": 9,
   "metadata": {},
   "outputs": [],
   "source": [
    "df2 = df.groupby(['Abbreviation', 'FullName','no_race', 'TeamColor']).sum().reset_index()"
   ]
  },
  {
   "cell_type": "code",
   "execution_count": 10,
   "metadata": {},
   "outputs": [
    {
     "data": {
      "text/html": [
       "<div><div id=94b01f49-4fd2-436c-bb25-fb33f64810d3 style=\"display:none; background-color:#9D6CFF; color:white; width:200px; height:30px; padding-left:5px; border-radius:4px; flex-direction:row; justify-content:space-around; align-items:center;\" onmouseover=\"this.style.backgroundColor='#BA9BF8'\" onmouseout=\"this.style.backgroundColor='#9D6CFF'\" onclick=\"window.commands?.execute('create-mitosheet-from-dataframe-output');\">See Full Dataframe in Mito</div> <script> if (window.commands.hasCommand('create-mitosheet-from-dataframe-output')) document.getElementById('94b01f49-4fd2-436c-bb25-fb33f64810d3').style.display = 'flex' </script> <table border=\"1\" class=\"dataframe\">\n",
       "  <thead>\n",
       "    <tr style=\"text-align: right;\">\n",
       "      <th></th>\n",
       "      <th>Abbreviation</th>\n",
       "      <th>FullName</th>\n",
       "      <th>no_race</th>\n",
       "      <th>TeamColor</th>\n",
       "      <th>Points</th>\n",
       "    </tr>\n",
       "  </thead>\n",
       "  <tbody>\n",
       "    <tr>\n",
       "      <th>0</th>\n",
       "      <td>ALB</td>\n",
       "      <td>Alexander Albon</td>\n",
       "      <td>1</td>\n",
       "      <td>#37bedd</td>\n",
       "      <td>0.0</td>\n",
       "    </tr>\n",
       "    <tr>\n",
       "      <th>1</th>\n",
       "      <td>ALB</td>\n",
       "      <td>Alexander Albon</td>\n",
       "      <td>2</td>\n",
       "      <td>#37bedd</td>\n",
       "      <td>0.0</td>\n",
       "    </tr>\n",
       "    <tr>\n",
       "      <th>2</th>\n",
       "      <td>ALB</td>\n",
       "      <td>Alexander Albon</td>\n",
       "      <td>3</td>\n",
       "      <td>#37bedd</td>\n",
       "      <td>1.0</td>\n",
       "    </tr>\n",
       "    <tr>\n",
       "      <th>3</th>\n",
       "      <td>ALB</td>\n",
       "      <td>Alexander Albon</td>\n",
       "      <td>4</td>\n",
       "      <td>#37bedd</td>\n",
       "      <td>0.0</td>\n",
       "    </tr>\n",
       "    <tr>\n",
       "      <th>4</th>\n",
       "      <td>ALB</td>\n",
       "      <td>Alexander Albon</td>\n",
       "      <td>5</td>\n",
       "      <td>#37bedd</td>\n",
       "      <td>2.0</td>\n",
       "    </tr>\n",
       "  </tbody>\n",
       "</table></div>"
      ],
      "text/plain": [
       "  Abbreviation         FullName  no_race TeamColor  Points\n",
       "0          ALB  Alexander Albon        1   #37bedd     0.0\n",
       "1          ALB  Alexander Albon        2   #37bedd     0.0\n",
       "2          ALB  Alexander Albon        3   #37bedd     1.0\n",
       "3          ALB  Alexander Albon        4   #37bedd     0.0\n",
       "4          ALB  Alexander Albon        5   #37bedd     2.0"
      ]
     },
     "execution_count": 10,
     "metadata": {},
     "output_type": "execute_result"
    }
   ],
   "source": [
    "df2 = df2.sort_values(by=['Abbreviation','no_race'])\n",
    "df2['TeamColor'] = '#'+df2['TeamColor']\n",
    "df2.head()"
   ]
  },
  {
   "cell_type": "code",
   "execution_count": 11,
   "metadata": {},
   "outputs": [],
   "source": [
    "df2['cumul_points'] = 0"
   ]
  },
  {
   "cell_type": "code",
   "execution_count": 12,
   "metadata": {},
   "outputs": [
    {
     "data": {
      "text/html": [
       "<div><div id=6538238d-46e1-45e2-a299-ffdf23e1f761 style=\"display:none; background-color:#9D6CFF; color:white; width:200px; height:30px; padding-left:5px; border-radius:4px; flex-direction:row; justify-content:space-around; align-items:center;\" onmouseover=\"this.style.backgroundColor='#BA9BF8'\" onmouseout=\"this.style.backgroundColor='#9D6CFF'\" onclick=\"window.commands?.execute('create-mitosheet-from-dataframe-output');\">See Full Dataframe in Mito</div> <script> if (window.commands.hasCommand('create-mitosheet-from-dataframe-output')) document.getElementById('6538238d-46e1-45e2-a299-ffdf23e1f761').style.display = 'flex' </script> <table border=\"1\" class=\"dataframe\">\n",
       "  <thead>\n",
       "    <tr style=\"text-align: right;\">\n",
       "      <th></th>\n",
       "      <th>Abbreviation</th>\n",
       "      <th>FullName</th>\n",
       "      <th>no_race</th>\n",
       "      <th>TeamColor</th>\n",
       "      <th>Points</th>\n",
       "      <th>cumul_points</th>\n",
       "    </tr>\n",
       "  </thead>\n",
       "  <tbody>\n",
       "    <tr>\n",
       "      <th>0</th>\n",
       "      <td>ALB</td>\n",
       "      <td>Alexander Albon</td>\n",
       "      <td>1</td>\n",
       "      <td>#37bedd</td>\n",
       "      <td>0.0</td>\n",
       "      <td>0</td>\n",
       "    </tr>\n",
       "    <tr>\n",
       "      <th>1</th>\n",
       "      <td>ALB</td>\n",
       "      <td>Alexander Albon</td>\n",
       "      <td>2</td>\n",
       "      <td>#37bedd</td>\n",
       "      <td>0.0</td>\n",
       "      <td>0</td>\n",
       "    </tr>\n",
       "    <tr>\n",
       "      <th>2</th>\n",
       "      <td>ALB</td>\n",
       "      <td>Alexander Albon</td>\n",
       "      <td>3</td>\n",
       "      <td>#37bedd</td>\n",
       "      <td>1.0</td>\n",
       "      <td>0</td>\n",
       "    </tr>\n",
       "    <tr>\n",
       "      <th>3</th>\n",
       "      <td>ALB</td>\n",
       "      <td>Alexander Albon</td>\n",
       "      <td>4</td>\n",
       "      <td>#37bedd</td>\n",
       "      <td>0.0</td>\n",
       "      <td>0</td>\n",
       "    </tr>\n",
       "    <tr>\n",
       "      <th>4</th>\n",
       "      <td>ALB</td>\n",
       "      <td>Alexander Albon</td>\n",
       "      <td>5</td>\n",
       "      <td>#37bedd</td>\n",
       "      <td>2.0</td>\n",
       "      <td>0</td>\n",
       "    </tr>\n",
       "  </tbody>\n",
       "</table></div>"
      ],
      "text/plain": [
       "  Abbreviation         FullName  no_race TeamColor  Points  cumul_points\n",
       "0          ALB  Alexander Albon        1   #37bedd     0.0             0\n",
       "1          ALB  Alexander Albon        2   #37bedd     0.0             0\n",
       "2          ALB  Alexander Albon        3   #37bedd     1.0             0\n",
       "3          ALB  Alexander Albon        4   #37bedd     0.0             0\n",
       "4          ALB  Alexander Albon        5   #37bedd     2.0             0"
      ]
     },
     "execution_count": 12,
     "metadata": {},
     "output_type": "execute_result"
    }
   ],
   "source": [
    "df2.head()"
   ]
  },
  {
   "cell_type": "code",
   "execution_count": 13,
   "metadata": {},
   "outputs": [],
   "source": [
    "\n",
    "longueur = len(df2)\n",
    "\n",
    "df2.iloc[0,5] = df2.iloc[0,4]\n",
    "\n",
    "\n",
    "for i in range(1,longueur -1):\n",
    "    if df2.iloc[i,0] == df2.iloc[i-1,0]:\n",
    "        df2.iloc[i,5] = df2.iloc[i-1,5] +  df2.iloc[i,4]\n",
    "    else :\n",
    "        df2.iloc[i,5] = df2.iloc[i,4]\n",
    "\n"
   ]
  },
  {
   "cell_type": "code",
   "execution_count": 14,
   "metadata": {},
   "outputs": [
    {
     "data": {
      "text/html": [
       "<div><div id=a5cf1016-3f0a-4dea-a9d8-fcb7ff4e9794 style=\"display:none; background-color:#9D6CFF; color:white; width:200px; height:30px; padding-left:5px; border-radius:4px; flex-direction:row; justify-content:space-around; align-items:center;\" onmouseover=\"this.style.backgroundColor='#BA9BF8'\" onmouseout=\"this.style.backgroundColor='#9D6CFF'\" onclick=\"window.commands?.execute('create-mitosheet-from-dataframe-output');\">See Full Dataframe in Mito</div> <script> if (window.commands.hasCommand('create-mitosheet-from-dataframe-output')) document.getElementById('a5cf1016-3f0a-4dea-a9d8-fcb7ff4e9794').style.display = 'flex' </script> <table border=\"1\" class=\"dataframe\">\n",
       "  <thead>\n",
       "    <tr style=\"text-align: right;\">\n",
       "      <th></th>\n",
       "      <th>Abbreviation</th>\n",
       "      <th>FullName</th>\n",
       "      <th>no_race</th>\n",
       "      <th>TeamColor</th>\n",
       "      <th>Points</th>\n",
       "      <th>cumul_points</th>\n",
       "      <th>classement</th>\n",
       "    </tr>\n",
       "  </thead>\n",
       "  <tbody>\n",
       "    <tr>\n",
       "      <th>44</th>\n",
       "      <td>LEC</td>\n",
       "      <td>Charles Leclerc</td>\n",
       "      <td>1</td>\n",
       "      <td>#ed1c24</td>\n",
       "      <td>26.0</td>\n",
       "      <td>26</td>\n",
       "      <td>0</td>\n",
       "    </tr>\n",
       "    <tr>\n",
       "      <th>99</th>\n",
       "      <td>SAI</td>\n",
       "      <td>Carlos Sainz</td>\n",
       "      <td>1</td>\n",
       "      <td>#ed1c24</td>\n",
       "      <td>18.0</td>\n",
       "      <td>18</td>\n",
       "      <td>0</td>\n",
       "    </tr>\n",
       "    <tr>\n",
       "      <th>28</th>\n",
       "      <td>HAM</td>\n",
       "      <td>Lewis Hamilton</td>\n",
       "      <td>1</td>\n",
       "      <td>#6cd3bf</td>\n",
       "      <td>15.0</td>\n",
       "      <td>15</td>\n",
       "      <td>0</td>\n",
       "    </tr>\n",
       "    <tr>\n",
       "      <th>92</th>\n",
       "      <td>RUS</td>\n",
       "      <td>George Russell</td>\n",
       "      <td>1</td>\n",
       "      <td>#6cd3bf</td>\n",
       "      <td>12.0</td>\n",
       "      <td>12</td>\n",
       "      <td>0</td>\n",
       "    </tr>\n",
       "    <tr>\n",
       "      <th>51</th>\n",
       "      <td>MAG</td>\n",
       "      <td>Kevin Magnussen</td>\n",
       "      <td>1</td>\n",
       "      <td>#b6babd</td>\n",
       "      <td>10.0</td>\n",
       "      <td>10</td>\n",
       "      <td>0</td>\n",
       "    </tr>\n",
       "  </tbody>\n",
       "</table></div>"
      ],
      "text/plain": [
       "   Abbreviation         FullName  no_race TeamColor  Points  cumul_points  \\\n",
       "44          LEC  Charles Leclerc        1   #ed1c24    26.0            26   \n",
       "99          SAI     Carlos Sainz        1   #ed1c24    18.0            18   \n",
       "28          HAM   Lewis Hamilton        1   #6cd3bf    15.0            15   \n",
       "92          RUS   George Russell        1   #6cd3bf    12.0            12   \n",
       "51          MAG  Kevin Magnussen        1   #b6babd    10.0            10   \n",
       "\n",
       "    classement  \n",
       "44           0  \n",
       "99           0  \n",
       "28           0  \n",
       "92           0  \n",
       "51           0  "
      ]
     },
     "execution_count": 14,
     "metadata": {},
     "output_type": "execute_result"
    }
   ],
   "source": [
    "df2 = df2.sort_values(by=['no_race', 'cumul_points'], ascending = [True, False])\n",
    "df2['classement']=0\n",
    "df2.head()\n"
   ]
  },
  {
   "cell_type": "code",
   "execution_count": 15,
   "metadata": {},
   "outputs": [],
   "source": [
    "df2.iloc[0,6] = 1\n",
    "\n",
    "\n",
    "for i in range(1,longueur -1):\n",
    "    if df2.iloc[i,2] == df2.iloc[i-1,2]:\n",
    "        df2.iloc[i,6] = df2.iloc[i-1,6] +  1\n",
    "    else :\n",
    "        df2.iloc[i,6] = 1"
   ]
  },
  {
   "cell_type": "code",
   "execution_count": 16,
   "metadata": {},
   "outputs": [
    {
     "data": {
      "text/html": [
       "<div><div id=0550259a-4d9d-4148-bbb5-73fee8ad6f9a style=\"display:none; background-color:#9D6CFF; color:white; width:200px; height:30px; padding-left:5px; border-radius:4px; flex-direction:row; justify-content:space-around; align-items:center;\" onmouseover=\"this.style.backgroundColor='#BA9BF8'\" onmouseout=\"this.style.backgroundColor='#9D6CFF'\" onclick=\"window.commands?.execute('create-mitosheet-from-dataframe-output');\">See Full Dataframe in Mito</div> <script> if (window.commands.hasCommand('create-mitosheet-from-dataframe-output')) document.getElementById('0550259a-4d9d-4148-bbb5-73fee8ad6f9a').style.display = 'flex' </script> <table border=\"1\" class=\"dataframe\">\n",
       "  <thead>\n",
       "    <tr style=\"text-align: right;\">\n",
       "      <th></th>\n",
       "      <th>Abbreviation</th>\n",
       "      <th>FullName</th>\n",
       "      <th>no_race</th>\n",
       "      <th>TeamColor</th>\n",
       "      <th>Points</th>\n",
       "      <th>cumul_points</th>\n",
       "      <th>classement</th>\n",
       "    </tr>\n",
       "  </thead>\n",
       "  <tbody>\n",
       "    <tr>\n",
       "      <th>44</th>\n",
       "      <td>LEC</td>\n",
       "      <td>Charles Leclerc</td>\n",
       "      <td>1</td>\n",
       "      <td>#ed1c24</td>\n",
       "      <td>26.0</td>\n",
       "      <td>26</td>\n",
       "      <td>1</td>\n",
       "    </tr>\n",
       "    <tr>\n",
       "      <th>99</th>\n",
       "      <td>SAI</td>\n",
       "      <td>Carlos Sainz</td>\n",
       "      <td>1</td>\n",
       "      <td>#ed1c24</td>\n",
       "      <td>18.0</td>\n",
       "      <td>18</td>\n",
       "      <td>2</td>\n",
       "    </tr>\n",
       "    <tr>\n",
       "      <th>28</th>\n",
       "      <td>HAM</td>\n",
       "      <td>Lewis Hamilton</td>\n",
       "      <td>1</td>\n",
       "      <td>#6cd3bf</td>\n",
       "      <td>15.0</td>\n",
       "      <td>15</td>\n",
       "      <td>3</td>\n",
       "    </tr>\n",
       "    <tr>\n",
       "      <th>92</th>\n",
       "      <td>RUS</td>\n",
       "      <td>George Russell</td>\n",
       "      <td>1</td>\n",
       "      <td>#6cd3bf</td>\n",
       "      <td>12.0</td>\n",
       "      <td>12</td>\n",
       "      <td>4</td>\n",
       "    </tr>\n",
       "    <tr>\n",
       "      <th>51</th>\n",
       "      <td>MAG</td>\n",
       "      <td>Kevin Magnussen</td>\n",
       "      <td>1</td>\n",
       "      <td>#b6babd</td>\n",
       "      <td>10.0</td>\n",
       "      <td>10</td>\n",
       "      <td>5</td>\n",
       "    </tr>\n",
       "    <tr>\n",
       "      <th>14</th>\n",
       "      <td>BOT</td>\n",
       "      <td>Valtteri Bottas</td>\n",
       "      <td>1</td>\n",
       "      <td>#b12039</td>\n",
       "      <td>8.0</td>\n",
       "      <td>8</td>\n",
       "      <td>6</td>\n",
       "    </tr>\n",
       "    <tr>\n",
       "      <th>71</th>\n",
       "      <td>OCO</td>\n",
       "      <td>Esteban Ocon</td>\n",
       "      <td>1</td>\n",
       "      <td>#2293d1</td>\n",
       "      <td>6.0</td>\n",
       "      <td>6</td>\n",
       "      <td>7</td>\n",
       "    </tr>\n",
       "    <tr>\n",
       "      <th>113</th>\n",
       "      <td>TSU</td>\n",
       "      <td>Yuki Tsunoda</td>\n",
       "      <td>1</td>\n",
       "      <td>#4e7c9b</td>\n",
       "      <td>4.0</td>\n",
       "      <td>4</td>\n",
       "      <td>8</td>\n",
       "    </tr>\n",
       "    <tr>\n",
       "      <th>7</th>\n",
       "      <td>ALO</td>\n",
       "      <td>Fernando Alonso</td>\n",
       "      <td>1</td>\n",
       "      <td>#2293d1</td>\n",
       "      <td>2.0</td>\n",
       "      <td>2</td>\n",
       "      <td>9</td>\n",
       "    </tr>\n",
       "    <tr>\n",
       "      <th>132</th>\n",
       "      <td>ZHO</td>\n",
       "      <td>Guanyu Zhou</td>\n",
       "      <td>1</td>\n",
       "      <td>#b12039</td>\n",
       "      <td>1.0</td>\n",
       "      <td>1</td>\n",
       "      <td>10</td>\n",
       "    </tr>\n",
       "    <tr>\n",
       "      <th>0</th>\n",
       "      <td>ALB</td>\n",
       "      <td>Alexander Albon</td>\n",
       "      <td>1</td>\n",
       "      <td>#37bedd</td>\n",
       "      <td>0.0</td>\n",
       "      <td>0</td>\n",
       "      <td>11</td>\n",
       "    </tr>\n",
       "    <tr>\n",
       "      <th>21</th>\n",
       "      <td>GAS</td>\n",
       "      <td>Pierre Gasly</td>\n",
       "      <td>1</td>\n",
       "      <td>#4e7c9b</td>\n",
       "      <td>0.0</td>\n",
       "      <td>0</td>\n",
       "      <td>12</td>\n",
       "    </tr>\n",
       "    <tr>\n",
       "      <th>35</th>\n",
       "      <td>HUL</td>\n",
       "      <td>Nico Hulkenberg</td>\n",
       "      <td>1</td>\n",
       "      <td>#2d826d</td>\n",
       "      <td>0.0</td>\n",
       "      <td>0</td>\n",
       "      <td>13</td>\n",
       "    </tr>\n",
       "    <tr>\n",
       "      <th>37</th>\n",
       "      <td>LAT</td>\n",
       "      <td>Nicholas Latifi</td>\n",
       "      <td>1</td>\n",
       "      <td>#37bedd</td>\n",
       "      <td>0.0</td>\n",
       "      <td>0</td>\n",
       "      <td>14</td>\n",
       "    </tr>\n",
       "    <tr>\n",
       "      <th>58</th>\n",
       "      <td>MSC</td>\n",
       "      <td>Mick Schumacher</td>\n",
       "      <td>1</td>\n",
       "      <td>#b6babd</td>\n",
       "      <td>0.0</td>\n",
       "      <td>0</td>\n",
       "      <td>15</td>\n",
       "    </tr>\n",
       "    <tr>\n",
       "      <th>64</th>\n",
       "      <td>NOR</td>\n",
       "      <td>Lando Norris</td>\n",
       "      <td>1</td>\n",
       "      <td>#f58020</td>\n",
       "      <td>0.0</td>\n",
       "      <td>0</td>\n",
       "      <td>16</td>\n",
       "    </tr>\n",
       "    <tr>\n",
       "      <th>78</th>\n",
       "      <td>PER</td>\n",
       "      <td>Sergio Perez</td>\n",
       "      <td>1</td>\n",
       "      <td>#1e5bc6</td>\n",
       "      <td>0.0</td>\n",
       "      <td>0</td>\n",
       "      <td>17</td>\n",
       "    </tr>\n",
       "    <tr>\n",
       "      <th>85</th>\n",
       "      <td>RIC</td>\n",
       "      <td>Daniel Ricciardo</td>\n",
       "      <td>1</td>\n",
       "      <td>#f58020</td>\n",
       "      <td>0.0</td>\n",
       "      <td>0</td>\n",
       "      <td>18</td>\n",
       "    </tr>\n",
       "    <tr>\n",
       "      <th>106</th>\n",
       "      <td>STR</td>\n",
       "      <td>Lance Stroll</td>\n",
       "      <td>1</td>\n",
       "      <td>#2d826d</td>\n",
       "      <td>0.0</td>\n",
       "      <td>0</td>\n",
       "      <td>19</td>\n",
       "    </tr>\n",
       "    <tr>\n",
       "      <th>120</th>\n",
       "      <td>VER</td>\n",
       "      <td>Max Verstappen</td>\n",
       "      <td>1</td>\n",
       "      <td>#1e5bc6</td>\n",
       "      <td>0.0</td>\n",
       "      <td>0</td>\n",
       "      <td>20</td>\n",
       "    </tr>\n",
       "    <tr>\n",
       "      <th>45</th>\n",
       "      <td>LEC</td>\n",
       "      <td>Charles Leclerc</td>\n",
       "      <td>2</td>\n",
       "      <td>#ed1c24</td>\n",
       "      <td>19.0</td>\n",
       "      <td>45</td>\n",
       "      <td>1</td>\n",
       "    </tr>\n",
       "    <tr>\n",
       "      <th>100</th>\n",
       "      <td>SAI</td>\n",
       "      <td>Carlos Sainz</td>\n",
       "      <td>2</td>\n",
       "      <td>#ed1c24</td>\n",
       "      <td>15.0</td>\n",
       "      <td>33</td>\n",
       "      <td>2</td>\n",
       "    </tr>\n",
       "    <tr>\n",
       "      <th>121</th>\n",
       "      <td>VER</td>\n",
       "      <td>Max Verstappen</td>\n",
       "      <td>2</td>\n",
       "      <td>#1e5bc6</td>\n",
       "      <td>25.0</td>\n",
       "      <td>25</td>\n",
       "      <td>3</td>\n",
       "    </tr>\n",
       "    <tr>\n",
       "      <th>93</th>\n",
       "      <td>RUS</td>\n",
       "      <td>George Russell</td>\n",
       "      <td>2</td>\n",
       "      <td>#6cd3bf</td>\n",
       "      <td>10.0</td>\n",
       "      <td>22</td>\n",
       "      <td>4</td>\n",
       "    </tr>\n",
       "    <tr>\n",
       "      <th>29</th>\n",
       "      <td>HAM</td>\n",
       "      <td>Lewis Hamilton</td>\n",
       "      <td>2</td>\n",
       "      <td>#6cd3bf</td>\n",
       "      <td>1.0</td>\n",
       "      <td>16</td>\n",
       "      <td>5</td>\n",
       "    </tr>\n",
       "    <tr>\n",
       "      <th>72</th>\n",
       "      <td>OCO</td>\n",
       "      <td>Esteban Ocon</td>\n",
       "      <td>2</td>\n",
       "      <td>#2293d1</td>\n",
       "      <td>8.0</td>\n",
       "      <td>14</td>\n",
       "      <td>6</td>\n",
       "    </tr>\n",
       "    <tr>\n",
       "      <th>52</th>\n",
       "      <td>MAG</td>\n",
       "      <td>Kevin Magnussen</td>\n",
       "      <td>2</td>\n",
       "      <td>#b6babd</td>\n",
       "      <td>2.0</td>\n",
       "      <td>12</td>\n",
       "      <td>7</td>\n",
       "    </tr>\n",
       "    <tr>\n",
       "      <th>79</th>\n",
       "      <td>PER</td>\n",
       "      <td>Sergio Perez</td>\n",
       "      <td>2</td>\n",
       "      <td>#1e5bc6</td>\n",
       "      <td>12.0</td>\n",
       "      <td>12</td>\n",
       "      <td>8</td>\n",
       "    </tr>\n",
       "    <tr>\n",
       "      <th>15</th>\n",
       "      <td>BOT</td>\n",
       "      <td>Valtteri Bottas</td>\n",
       "      <td>2</td>\n",
       "      <td>#b12039</td>\n",
       "      <td>0.0</td>\n",
       "      <td>8</td>\n",
       "      <td>9</td>\n",
       "    </tr>\n",
       "    <tr>\n",
       "      <th>65</th>\n",
       "      <td>NOR</td>\n",
       "      <td>Lando Norris</td>\n",
       "      <td>2</td>\n",
       "      <td>#f58020</td>\n",
       "      <td>6.0</td>\n",
       "      <td>6</td>\n",
       "      <td>10</td>\n",
       "    </tr>\n",
       "    <tr>\n",
       "      <th>...</th>\n",
       "      <td>...</td>\n",
       "      <td>...</td>\n",
       "      <td>...</td>\n",
       "      <td>...</td>\n",
       "      <td>...</td>\n",
       "      <td>...</td>\n",
       "      <td>...</td>\n",
       "    </tr>\n",
       "    <tr>\n",
       "      <th>90</th>\n",
       "      <td>RIC</td>\n",
       "      <td>Daniel Ricciardo</td>\n",
       "      <td>6</td>\n",
       "      <td>#f58020</td>\n",
       "      <td>0.0</td>\n",
       "      <td>11</td>\n",
       "      <td>11</td>\n",
       "    </tr>\n",
       "    <tr>\n",
       "      <th>118</th>\n",
       "      <td>TSU</td>\n",
       "      <td>Yuki Tsunoda</td>\n",
       "      <td>6</td>\n",
       "      <td>#4e7c9b</td>\n",
       "      <td>1.0</td>\n",
       "      <td>11</td>\n",
       "      <td>12</td>\n",
       "    </tr>\n",
       "    <tr>\n",
       "      <th>26</th>\n",
       "      <td>GAS</td>\n",
       "      <td>Pierre Gasly</td>\n",
       "      <td>6</td>\n",
       "      <td>#4e7c9b</td>\n",
       "      <td>0.0</td>\n",
       "      <td>6</td>\n",
       "      <td>13</td>\n",
       "    </tr>\n",
       "    <tr>\n",
       "      <th>12</th>\n",
       "      <td>ALO</td>\n",
       "      <td>Fernando Alonso</td>\n",
       "      <td>6</td>\n",
       "      <td>#2293d1</td>\n",
       "      <td>2.0</td>\n",
       "      <td>4</td>\n",
       "      <td>14</td>\n",
       "    </tr>\n",
       "    <tr>\n",
       "      <th>130</th>\n",
       "      <td>VET</td>\n",
       "      <td>Sebastian Vettel</td>\n",
       "      <td>6</td>\n",
       "      <td>#2d826d</td>\n",
       "      <td>0.0</td>\n",
       "      <td>4</td>\n",
       "      <td>15</td>\n",
       "    </tr>\n",
       "    <tr>\n",
       "      <th>5</th>\n",
       "      <td>ALB</td>\n",
       "      <td>Alexander Albon</td>\n",
       "      <td>6</td>\n",
       "      <td>#37bedd</td>\n",
       "      <td>0.0</td>\n",
       "      <td>3</td>\n",
       "      <td>16</td>\n",
       "    </tr>\n",
       "    <tr>\n",
       "      <th>111</th>\n",
       "      <td>STR</td>\n",
       "      <td>Lance Stroll</td>\n",
       "      <td>6</td>\n",
       "      <td>#2d826d</td>\n",
       "      <td>0.0</td>\n",
       "      <td>2</td>\n",
       "      <td>17</td>\n",
       "    </tr>\n",
       "    <tr>\n",
       "      <th>137</th>\n",
       "      <td>ZHO</td>\n",
       "      <td>Guanyu Zhou</td>\n",
       "      <td>6</td>\n",
       "      <td>#b12039</td>\n",
       "      <td>0.0</td>\n",
       "      <td>1</td>\n",
       "      <td>18</td>\n",
       "    </tr>\n",
       "    <tr>\n",
       "      <th>42</th>\n",
       "      <td>LAT</td>\n",
       "      <td>Nicholas Latifi</td>\n",
       "      <td>6</td>\n",
       "      <td>#37bedd</td>\n",
       "      <td>0.0</td>\n",
       "      <td>0</td>\n",
       "      <td>19</td>\n",
       "    </tr>\n",
       "    <tr>\n",
       "      <th>62</th>\n",
       "      <td>MSC</td>\n",
       "      <td>Mick Schumacher</td>\n",
       "      <td>6</td>\n",
       "      <td>#b6babd</td>\n",
       "      <td>0.0</td>\n",
       "      <td>0</td>\n",
       "      <td>20</td>\n",
       "    </tr>\n",
       "    <tr>\n",
       "      <th>126</th>\n",
       "      <td>VER</td>\n",
       "      <td>Max Verstappen</td>\n",
       "      <td>7</td>\n",
       "      <td>#1e5bc6</td>\n",
       "      <td>15.0</td>\n",
       "      <td>125</td>\n",
       "      <td>1</td>\n",
       "    </tr>\n",
       "    <tr>\n",
       "      <th>50</th>\n",
       "      <td>LEC</td>\n",
       "      <td>Charles Leclerc</td>\n",
       "      <td>7</td>\n",
       "      <td>#ed1c24</td>\n",
       "      <td>12.0</td>\n",
       "      <td>116</td>\n",
       "      <td>2</td>\n",
       "    </tr>\n",
       "    <tr>\n",
       "      <th>84</th>\n",
       "      <td>PER</td>\n",
       "      <td>Sergio Perez</td>\n",
       "      <td>7</td>\n",
       "      <td>#1e5bc6</td>\n",
       "      <td>25.0</td>\n",
       "      <td>110</td>\n",
       "      <td>3</td>\n",
       "    </tr>\n",
       "    <tr>\n",
       "      <th>98</th>\n",
       "      <td>RUS</td>\n",
       "      <td>George Russell</td>\n",
       "      <td>7</td>\n",
       "      <td>#6cd3bf</td>\n",
       "      <td>10.0</td>\n",
       "      <td>84</td>\n",
       "      <td>4</td>\n",
       "    </tr>\n",
       "    <tr>\n",
       "      <th>105</th>\n",
       "      <td>SAI</td>\n",
       "      <td>Carlos Sainz</td>\n",
       "      <td>7</td>\n",
       "      <td>#ed1c24</td>\n",
       "      <td>18.0</td>\n",
       "      <td>83</td>\n",
       "      <td>5</td>\n",
       "    </tr>\n",
       "    <tr>\n",
       "      <th>34</th>\n",
       "      <td>HAM</td>\n",
       "      <td>Lewis Hamilton</td>\n",
       "      <td>7</td>\n",
       "      <td>#6cd3bf</td>\n",
       "      <td>4.0</td>\n",
       "      <td>50</td>\n",
       "      <td>6</td>\n",
       "    </tr>\n",
       "    <tr>\n",
       "      <th>70</th>\n",
       "      <td>NOR</td>\n",
       "      <td>Lando Norris</td>\n",
       "      <td>7</td>\n",
       "      <td>#f58020</td>\n",
       "      <td>9.0</td>\n",
       "      <td>48</td>\n",
       "      <td>7</td>\n",
       "    </tr>\n",
       "    <tr>\n",
       "      <th>20</th>\n",
       "      <td>BOT</td>\n",
       "      <td>Valtteri Bottas</td>\n",
       "      <td>7</td>\n",
       "      <td>#b12039</td>\n",
       "      <td>2.0</td>\n",
       "      <td>40</td>\n",
       "      <td>8</td>\n",
       "    </tr>\n",
       "    <tr>\n",
       "      <th>77</th>\n",
       "      <td>OCO</td>\n",
       "      <td>Esteban Ocon</td>\n",
       "      <td>7</td>\n",
       "      <td>#2293d1</td>\n",
       "      <td>0.0</td>\n",
       "      <td>30</td>\n",
       "      <td>9</td>\n",
       "    </tr>\n",
       "    <tr>\n",
       "      <th>57</th>\n",
       "      <td>MAG</td>\n",
       "      <td>Kevin Magnussen</td>\n",
       "      <td>7</td>\n",
       "      <td>#b6babd</td>\n",
       "      <td>0.0</td>\n",
       "      <td>15</td>\n",
       "      <td>10</td>\n",
       "    </tr>\n",
       "    <tr>\n",
       "      <th>91</th>\n",
       "      <td>RIC</td>\n",
       "      <td>Daniel Ricciardo</td>\n",
       "      <td>7</td>\n",
       "      <td>#f58020</td>\n",
       "      <td>0.0</td>\n",
       "      <td>11</td>\n",
       "      <td>11</td>\n",
       "    </tr>\n",
       "    <tr>\n",
       "      <th>119</th>\n",
       "      <td>TSU</td>\n",
       "      <td>Yuki Tsunoda</td>\n",
       "      <td>7</td>\n",
       "      <td>#4e7c9b</td>\n",
       "      <td>0.0</td>\n",
       "      <td>11</td>\n",
       "      <td>12</td>\n",
       "    </tr>\n",
       "    <tr>\n",
       "      <th>13</th>\n",
       "      <td>ALO</td>\n",
       "      <td>Fernando Alonso</td>\n",
       "      <td>7</td>\n",
       "      <td>#2293d1</td>\n",
       "      <td>6.0</td>\n",
       "      <td>10</td>\n",
       "      <td>13</td>\n",
       "    </tr>\n",
       "    <tr>\n",
       "      <th>27</th>\n",
       "      <td>GAS</td>\n",
       "      <td>Pierre Gasly</td>\n",
       "      <td>7</td>\n",
       "      <td>#4e7c9b</td>\n",
       "      <td>0.0</td>\n",
       "      <td>6</td>\n",
       "      <td>14</td>\n",
       "    </tr>\n",
       "    <tr>\n",
       "      <th>131</th>\n",
       "      <td>VET</td>\n",
       "      <td>Sebastian Vettel</td>\n",
       "      <td>7</td>\n",
       "      <td>#2d826d</td>\n",
       "      <td>1.0</td>\n",
       "      <td>5</td>\n",
       "      <td>15</td>\n",
       "    </tr>\n",
       "    <tr>\n",
       "      <th>6</th>\n",
       "      <td>ALB</td>\n",
       "      <td>Alexander Albon</td>\n",
       "      <td>7</td>\n",
       "      <td>#37bedd</td>\n",
       "      <td>0.0</td>\n",
       "      <td>3</td>\n",
       "      <td>16</td>\n",
       "    </tr>\n",
       "    <tr>\n",
       "      <th>112</th>\n",
       "      <td>STR</td>\n",
       "      <td>Lance Stroll</td>\n",
       "      <td>7</td>\n",
       "      <td>#2d826d</td>\n",
       "      <td>0.0</td>\n",
       "      <td>2</td>\n",
       "      <td>17</td>\n",
       "    </tr>\n",
       "    <tr>\n",
       "      <th>43</th>\n",
       "      <td>LAT</td>\n",
       "      <td>Nicholas Latifi</td>\n",
       "      <td>7</td>\n",
       "      <td>#37bedd</td>\n",
       "      <td>0.0</td>\n",
       "      <td>0</td>\n",
       "      <td>18</td>\n",
       "    </tr>\n",
       "    <tr>\n",
       "      <th>63</th>\n",
       "      <td>MSC</td>\n",
       "      <td>Mick Schumacher</td>\n",
       "      <td>7</td>\n",
       "      <td>#b6babd</td>\n",
       "      <td>0.0</td>\n",
       "      <td>0</td>\n",
       "      <td>19</td>\n",
       "    </tr>\n",
       "    <tr>\n",
       "      <th>138</th>\n",
       "      <td>ZHO</td>\n",
       "      <td>Guanyu Zhou</td>\n",
       "      <td>7</td>\n",
       "      <td>#b12039</td>\n",
       "      <td>0.0</td>\n",
       "      <td>0</td>\n",
       "      <td>0</td>\n",
       "    </tr>\n",
       "  </tbody>\n",
       "</table></div>"
      ],
      "text/plain": [
       "    Abbreviation         FullName  no_race TeamColor  Points  cumul_points  \\\n",
       "44           LEC  Charles Leclerc        1   #ed1c24    26.0            26   \n",
       "99           SAI     Carlos Sainz        1   #ed1c24    18.0            18   \n",
       "28           HAM   Lewis Hamilton        1   #6cd3bf    15.0            15   \n",
       "92           RUS   George Russell        1   #6cd3bf    12.0            12   \n",
       "51           MAG  Kevin Magnussen        1   #b6babd    10.0            10   \n",
       "..           ...              ...      ...       ...     ...           ...   \n",
       "6            ALB  Alexander Albon        7   #37bedd     0.0             3   \n",
       "112          STR     Lance Stroll        7   #2d826d     0.0             2   \n",
       "43           LAT  Nicholas Latifi        7   #37bedd     0.0             0   \n",
       "63           MSC  Mick Schumacher        7   #b6babd     0.0             0   \n",
       "138          ZHO      Guanyu Zhou        7   #b12039     0.0             0   \n",
       "\n",
       "     classement  \n",
       "44            1  \n",
       "99            2  \n",
       "28            3  \n",
       "92            4  \n",
       "51            5  \n",
       "..          ...  \n",
       "6            16  \n",
       "112          17  \n",
       "43           18  \n",
       "63           19  \n",
       "138           0  \n",
       "\n",
       "[139 rows x 7 columns]"
      ]
     },
     "execution_count": 16,
     "metadata": {},
     "output_type": "execute_result"
    }
   ],
   "source": [
    "df2"
   ]
  },
  {
   "cell_type": "code",
   "execution_count": 17,
   "metadata": {},
   "outputs": [],
   "source": [
    "maxY = df2['cumul_points'].max()"
   ]
  },
  {
   "cell_type": "code",
   "execution_count": 18,
   "metadata": {},
   "outputs": [
    {
     "data": {
      "text/plain": [
       "125"
      ]
     },
     "execution_count": 18,
     "metadata": {},
     "output_type": "execute_result"
    }
   ],
   "source": [
    "maxY"
   ]
  },
  {
   "cell_type": "code",
   "execution_count": null,
   "metadata": {},
   "outputs": [],
   "source": []
  },
  {
   "cell_type": "code",
   "execution_count": 20,
   "metadata": {},
   "outputs": [
    {
     "data": {
      "application/vnd.plotly.v1+json": {
       "config": {
        "plotlyServerURL": "https://plot.ly"
       },
       "data": [
        {
         "alignmentgroup": "True",
         "hovertemplate": "TeamColor=#ed1c24<br>Race=1<br>Name=%{x}<br>cumul_points=%{y}<br>Classement=%{text}<extra></extra>",
         "legendgroup": "#ed1c24",
         "marker": {
          "color": "#636efa",
          "pattern": {
           "shape": ""
          }
         },
         "name": "#ed1c24",
         "offsetgroup": "#ed1c24",
         "orientation": "v",
         "showlegend": true,
         "text": [
          1,
          2
         ],
         "textposition": "inside",
         "type": "bar",
         "x": [
          "LEC",
          "SAI"
         ],
         "xaxis": "x",
         "y": [
          26,
          18
         ],
         "yaxis": "y"
        },
        {
         "alignmentgroup": "True",
         "hovertemplate": "TeamColor=#6cd3bf<br>Race=1<br>Name=%{x}<br>cumul_points=%{y}<br>Classement=%{text}<extra></extra>",
         "legendgroup": "#6cd3bf",
         "marker": {
          "color": "#EF553B",
          "pattern": {
           "shape": ""
          }
         },
         "name": "#6cd3bf",
         "offsetgroup": "#6cd3bf",
         "orientation": "v",
         "showlegend": true,
         "text": [
          3,
          4
         ],
         "textposition": "inside",
         "type": "bar",
         "x": [
          "HAM",
          "RUS"
         ],
         "xaxis": "x",
         "y": [
          15,
          12
         ],
         "yaxis": "y"
        },
        {
         "alignmentgroup": "True",
         "hovertemplate": "TeamColor=#b6babd<br>Race=1<br>Name=%{x}<br>cumul_points=%{y}<br>Classement=%{text}<extra></extra>",
         "legendgroup": "#b6babd",
         "marker": {
          "color": "#00cc96",
          "pattern": {
           "shape": ""
          }
         },
         "name": "#b6babd",
         "offsetgroup": "#b6babd",
         "orientation": "v",
         "showlegend": true,
         "text": [
          5,
          15
         ],
         "textposition": "inside",
         "type": "bar",
         "x": [
          "MAG",
          "MSC"
         ],
         "xaxis": "x",
         "y": [
          10,
          0
         ],
         "yaxis": "y"
        },
        {
         "alignmentgroup": "True",
         "hovertemplate": "TeamColor=#b12039<br>Race=1<br>Name=%{x}<br>cumul_points=%{y}<br>Classement=%{text}<extra></extra>",
         "legendgroup": "#b12039",
         "marker": {
          "color": "#ab63fa",
          "pattern": {
           "shape": ""
          }
         },
         "name": "#b12039",
         "offsetgroup": "#b12039",
         "orientation": "v",
         "showlegend": true,
         "text": [
          6,
          10
         ],
         "textposition": "inside",
         "type": "bar",
         "x": [
          "BOT",
          "ZHO"
         ],
         "xaxis": "x",
         "y": [
          8,
          1
         ],
         "yaxis": "y"
        },
        {
         "alignmentgroup": "True",
         "hovertemplate": "TeamColor=#2293d1<br>Race=1<br>Name=%{x}<br>cumul_points=%{y}<br>Classement=%{text}<extra></extra>",
         "legendgroup": "#2293d1",
         "marker": {
          "color": "#FFA15A",
          "pattern": {
           "shape": ""
          }
         },
         "name": "#2293d1",
         "offsetgroup": "#2293d1",
         "orientation": "v",
         "showlegend": true,
         "text": [
          7,
          9
         ],
         "textposition": "inside",
         "type": "bar",
         "x": [
          "OCO",
          "ALO"
         ],
         "xaxis": "x",
         "y": [
          6,
          2
         ],
         "yaxis": "y"
        },
        {
         "alignmentgroup": "True",
         "hovertemplate": "TeamColor=#4e7c9b<br>Race=1<br>Name=%{x}<br>cumul_points=%{y}<br>Classement=%{text}<extra></extra>",
         "legendgroup": "#4e7c9b",
         "marker": {
          "color": "#19d3f3",
          "pattern": {
           "shape": ""
          }
         },
         "name": "#4e7c9b",
         "offsetgroup": "#4e7c9b",
         "orientation": "v",
         "showlegend": true,
         "text": [
          8,
          12
         ],
         "textposition": "inside",
         "type": "bar",
         "x": [
          "TSU",
          "GAS"
         ],
         "xaxis": "x",
         "y": [
          4,
          0
         ],
         "yaxis": "y"
        },
        {
         "alignmentgroup": "True",
         "hovertemplate": "TeamColor=#37bedd<br>Race=1<br>Name=%{x}<br>cumul_points=%{y}<br>Classement=%{text}<extra></extra>",
         "legendgroup": "#37bedd",
         "marker": {
          "color": "#FF6692",
          "pattern": {
           "shape": ""
          }
         },
         "name": "#37bedd",
         "offsetgroup": "#37bedd",
         "orientation": "v",
         "showlegend": true,
         "text": [
          11,
          14
         ],
         "textposition": "inside",
         "type": "bar",
         "x": [
          "ALB",
          "LAT"
         ],
         "xaxis": "x",
         "y": [
          0,
          0
         ],
         "yaxis": "y"
        },
        {
         "alignmentgroup": "True",
         "hovertemplate": "TeamColor=#2d826d<br>Race=1<br>Name=%{x}<br>cumul_points=%{y}<br>Classement=%{text}<extra></extra>",
         "legendgroup": "#2d826d",
         "marker": {
          "color": "#B6E880",
          "pattern": {
           "shape": ""
          }
         },
         "name": "#2d826d",
         "offsetgroup": "#2d826d",
         "orientation": "v",
         "showlegend": true,
         "text": [
          13,
          19
         ],
         "textposition": "inside",
         "type": "bar",
         "x": [
          "HUL",
          "STR"
         ],
         "xaxis": "x",
         "y": [
          0,
          0
         ],
         "yaxis": "y"
        },
        {
         "alignmentgroup": "True",
         "hovertemplate": "TeamColor=#f58020<br>Race=1<br>Name=%{x}<br>cumul_points=%{y}<br>Classement=%{text}<extra></extra>",
         "legendgroup": "#f58020",
         "marker": {
          "color": "#FF97FF",
          "pattern": {
           "shape": ""
          }
         },
         "name": "#f58020",
         "offsetgroup": "#f58020",
         "orientation": "v",
         "showlegend": true,
         "text": [
          16,
          18
         ],
         "textposition": "inside",
         "type": "bar",
         "x": [
          "NOR",
          "RIC"
         ],
         "xaxis": "x",
         "y": [
          0,
          0
         ],
         "yaxis": "y"
        },
        {
         "alignmentgroup": "True",
         "hovertemplate": "TeamColor=#1e5bc6<br>Race=1<br>Name=%{x}<br>cumul_points=%{y}<br>Classement=%{text}<extra></extra>",
         "legendgroup": "#1e5bc6",
         "marker": {
          "color": "#FECB52",
          "pattern": {
           "shape": ""
          }
         },
         "name": "#1e5bc6",
         "offsetgroup": "#1e5bc6",
         "orientation": "v",
         "showlegend": true,
         "text": [
          17,
          20
         ],
         "textposition": "inside",
         "type": "bar",
         "x": [
          "PER",
          "VER"
         ],
         "xaxis": "x",
         "y": [
          0,
          0
         ],
         "yaxis": "y"
        }
       ],
       "frames": [
        {
         "data": [
          {
           "alignmentgroup": "True",
           "hovertemplate": "TeamColor=#ed1c24<br>Race=1<br>Name=%{x}<br>cumul_points=%{y}<br>Classement=%{text}<extra></extra>",
           "legendgroup": "#ed1c24",
           "marker": {
            "color": "#636efa",
            "pattern": {
             "shape": ""
            }
           },
           "name": "#ed1c24",
           "offsetgroup": "#ed1c24",
           "orientation": "v",
           "showlegend": true,
           "text": [
            1,
            2
           ],
           "textposition": "auto",
           "type": "bar",
           "x": [
            "LEC",
            "SAI"
           ],
           "xaxis": "x",
           "y": [
            26,
            18
           ],
           "yaxis": "y"
          },
          {
           "alignmentgroup": "True",
           "hovertemplate": "TeamColor=#6cd3bf<br>Race=1<br>Name=%{x}<br>cumul_points=%{y}<br>Classement=%{text}<extra></extra>",
           "legendgroup": "#6cd3bf",
           "marker": {
            "color": "#EF553B",
            "pattern": {
             "shape": ""
            }
           },
           "name": "#6cd3bf",
           "offsetgroup": "#6cd3bf",
           "orientation": "v",
           "showlegend": true,
           "text": [
            3,
            4
           ],
           "textposition": "auto",
           "type": "bar",
           "x": [
            "HAM",
            "RUS"
           ],
           "xaxis": "x",
           "y": [
            15,
            12
           ],
           "yaxis": "y"
          },
          {
           "alignmentgroup": "True",
           "hovertemplate": "TeamColor=#b6babd<br>Race=1<br>Name=%{x}<br>cumul_points=%{y}<br>Classement=%{text}<extra></extra>",
           "legendgroup": "#b6babd",
           "marker": {
            "color": "#00cc96",
            "pattern": {
             "shape": ""
            }
           },
           "name": "#b6babd",
           "offsetgroup": "#b6babd",
           "orientation": "v",
           "showlegend": true,
           "text": [
            5,
            15
           ],
           "textposition": "auto",
           "type": "bar",
           "x": [
            "MAG",
            "MSC"
           ],
           "xaxis": "x",
           "y": [
            10,
            0
           ],
           "yaxis": "y"
          },
          {
           "alignmentgroup": "True",
           "hovertemplate": "TeamColor=#b12039<br>Race=1<br>Name=%{x}<br>cumul_points=%{y}<br>Classement=%{text}<extra></extra>",
           "legendgroup": "#b12039",
           "marker": {
            "color": "#ab63fa",
            "pattern": {
             "shape": ""
            }
           },
           "name": "#b12039",
           "offsetgroup": "#b12039",
           "orientation": "v",
           "showlegend": true,
           "text": [
            6,
            10
           ],
           "textposition": "auto",
           "type": "bar",
           "x": [
            "BOT",
            "ZHO"
           ],
           "xaxis": "x",
           "y": [
            8,
            1
           ],
           "yaxis": "y"
          },
          {
           "alignmentgroup": "True",
           "hovertemplate": "TeamColor=#2293d1<br>Race=1<br>Name=%{x}<br>cumul_points=%{y}<br>Classement=%{text}<extra></extra>",
           "legendgroup": "#2293d1",
           "marker": {
            "color": "#FFA15A",
            "pattern": {
             "shape": ""
            }
           },
           "name": "#2293d1",
           "offsetgroup": "#2293d1",
           "orientation": "v",
           "showlegend": true,
           "text": [
            7,
            9
           ],
           "textposition": "auto",
           "type": "bar",
           "x": [
            "OCO",
            "ALO"
           ],
           "xaxis": "x",
           "y": [
            6,
            2
           ],
           "yaxis": "y"
          },
          {
           "alignmentgroup": "True",
           "hovertemplate": "TeamColor=#4e7c9b<br>Race=1<br>Name=%{x}<br>cumul_points=%{y}<br>Classement=%{text}<extra></extra>",
           "legendgroup": "#4e7c9b",
           "marker": {
            "color": "#19d3f3",
            "pattern": {
             "shape": ""
            }
           },
           "name": "#4e7c9b",
           "offsetgroup": "#4e7c9b",
           "orientation": "v",
           "showlegend": true,
           "text": [
            8,
            12
           ],
           "textposition": "auto",
           "type": "bar",
           "x": [
            "TSU",
            "GAS"
           ],
           "xaxis": "x",
           "y": [
            4,
            0
           ],
           "yaxis": "y"
          },
          {
           "alignmentgroup": "True",
           "hovertemplate": "TeamColor=#37bedd<br>Race=1<br>Name=%{x}<br>cumul_points=%{y}<br>Classement=%{text}<extra></extra>",
           "legendgroup": "#37bedd",
           "marker": {
            "color": "#FF6692",
            "pattern": {
             "shape": ""
            }
           },
           "name": "#37bedd",
           "offsetgroup": "#37bedd",
           "orientation": "v",
           "showlegend": true,
           "text": [
            11,
            14
           ],
           "textposition": "auto",
           "type": "bar",
           "x": [
            "ALB",
            "LAT"
           ],
           "xaxis": "x",
           "y": [
            0,
            0
           ],
           "yaxis": "y"
          },
          {
           "alignmentgroup": "True",
           "hovertemplate": "TeamColor=#2d826d<br>Race=1<br>Name=%{x}<br>cumul_points=%{y}<br>Classement=%{text}<extra></extra>",
           "legendgroup": "#2d826d",
           "marker": {
            "color": "#B6E880",
            "pattern": {
             "shape": ""
            }
           },
           "name": "#2d826d",
           "offsetgroup": "#2d826d",
           "orientation": "v",
           "showlegend": true,
           "text": [
            13,
            19
           ],
           "textposition": "auto",
           "type": "bar",
           "x": [
            "HUL",
            "STR"
           ],
           "xaxis": "x",
           "y": [
            0,
            0
           ],
           "yaxis": "y"
          },
          {
           "alignmentgroup": "True",
           "hovertemplate": "TeamColor=#f58020<br>Race=1<br>Name=%{x}<br>cumul_points=%{y}<br>Classement=%{text}<extra></extra>",
           "legendgroup": "#f58020",
           "marker": {
            "color": "#FF97FF",
            "pattern": {
             "shape": ""
            }
           },
           "name": "#f58020",
           "offsetgroup": "#f58020",
           "orientation": "v",
           "showlegend": true,
           "text": [
            16,
            18
           ],
           "textposition": "auto",
           "type": "bar",
           "x": [
            "NOR",
            "RIC"
           ],
           "xaxis": "x",
           "y": [
            0,
            0
           ],
           "yaxis": "y"
          },
          {
           "alignmentgroup": "True",
           "hovertemplate": "TeamColor=#1e5bc6<br>Race=1<br>Name=%{x}<br>cumul_points=%{y}<br>Classement=%{text}<extra></extra>",
           "legendgroup": "#1e5bc6",
           "marker": {
            "color": "#FECB52",
            "pattern": {
             "shape": ""
            }
           },
           "name": "#1e5bc6",
           "offsetgroup": "#1e5bc6",
           "orientation": "v",
           "showlegend": true,
           "text": [
            17,
            20
           ],
           "textposition": "auto",
           "type": "bar",
           "x": [
            "PER",
            "VER"
           ],
           "xaxis": "x",
           "y": [
            0,
            0
           ],
           "yaxis": "y"
          }
         ],
         "name": "1"
        },
        {
         "data": [
          {
           "alignmentgroup": "True",
           "hovertemplate": "TeamColor=#ed1c24<br>Race=2<br>Name=%{x}<br>cumul_points=%{y}<br>Classement=%{text}<extra></extra>",
           "legendgroup": "#ed1c24",
           "marker": {
            "color": "#636efa",
            "pattern": {
             "shape": ""
            }
           },
           "name": "#ed1c24",
           "offsetgroup": "#ed1c24",
           "orientation": "v",
           "showlegend": true,
           "text": [
            1,
            2
           ],
           "textposition": "auto",
           "type": "bar",
           "x": [
            "LEC",
            "SAI"
           ],
           "xaxis": "x",
           "y": [
            45,
            33
           ],
           "yaxis": "y"
          },
          {
           "alignmentgroup": "True",
           "hovertemplate": "TeamColor=#6cd3bf<br>Race=2<br>Name=%{x}<br>cumul_points=%{y}<br>Classement=%{text}<extra></extra>",
           "legendgroup": "#6cd3bf",
           "marker": {
            "color": "#EF553B",
            "pattern": {
             "shape": ""
            }
           },
           "name": "#6cd3bf",
           "offsetgroup": "#6cd3bf",
           "orientation": "v",
           "showlegend": true,
           "text": [
            4,
            5
           ],
           "textposition": "auto",
           "type": "bar",
           "x": [
            "RUS",
            "HAM"
           ],
           "xaxis": "x",
           "y": [
            22,
            16
           ],
           "yaxis": "y"
          },
          {
           "alignmentgroup": "True",
           "hovertemplate": "TeamColor=#b6babd<br>Race=2<br>Name=%{x}<br>cumul_points=%{y}<br>Classement=%{text}<extra></extra>",
           "legendgroup": "#b6babd",
           "marker": {
            "color": "#00cc96",
            "pattern": {
             "shape": ""
            }
           },
           "name": "#b6babd",
           "offsetgroup": "#b6babd",
           "orientation": "v",
           "showlegend": true,
           "text": [
            7
           ],
           "textposition": "auto",
           "type": "bar",
           "x": [
            "MAG"
           ],
           "xaxis": "x",
           "y": [
            12
           ],
           "yaxis": "y"
          },
          {
           "alignmentgroup": "True",
           "hovertemplate": "TeamColor=#b12039<br>Race=2<br>Name=%{x}<br>cumul_points=%{y}<br>Classement=%{text}<extra></extra>",
           "legendgroup": "#b12039",
           "marker": {
            "color": "#ab63fa",
            "pattern": {
             "shape": ""
            }
           },
           "name": "#b12039",
           "offsetgroup": "#b12039",
           "orientation": "v",
           "showlegend": true,
           "text": [
            9,
            14
           ],
           "textposition": "auto",
           "type": "bar",
           "x": [
            "BOT",
            "ZHO"
           ],
           "xaxis": "x",
           "y": [
            8,
            1
           ],
           "yaxis": "y"
          },
          {
           "alignmentgroup": "True",
           "hovertemplate": "TeamColor=#2293d1<br>Race=2<br>Name=%{x}<br>cumul_points=%{y}<br>Classement=%{text}<extra></extra>",
           "legendgroup": "#2293d1",
           "marker": {
            "color": "#FFA15A",
            "pattern": {
             "shape": ""
            }
           },
           "name": "#2293d1",
           "offsetgroup": "#2293d1",
           "orientation": "v",
           "showlegend": true,
           "text": [
            6,
            13
           ],
           "textposition": "auto",
           "type": "bar",
           "x": [
            "OCO",
            "ALO"
           ],
           "xaxis": "x",
           "y": [
            14,
            2
           ],
           "yaxis": "y"
          },
          {
           "alignmentgroup": "True",
           "hovertemplate": "TeamColor=#4e7c9b<br>Race=2<br>Name=%{x}<br>cumul_points=%{y}<br>Classement=%{text}<extra></extra>",
           "legendgroup": "#4e7c9b",
           "marker": {
            "color": "#19d3f3",
            "pattern": {
             "shape": ""
            }
           },
           "name": "#4e7c9b",
           "offsetgroup": "#4e7c9b",
           "orientation": "v",
           "showlegend": true,
           "text": [
            11,
            12
           ],
           "textposition": "auto",
           "type": "bar",
           "x": [
            "GAS",
            "TSU"
           ],
           "xaxis": "x",
           "y": [
            4,
            4
           ],
           "yaxis": "y"
          },
          {
           "alignmentgroup": "True",
           "hovertemplate": "TeamColor=#37bedd<br>Race=2<br>Name=%{x}<br>cumul_points=%{y}<br>Classement=%{text}<extra></extra>",
           "legendgroup": "#37bedd",
           "marker": {
            "color": "#FF6692",
            "pattern": {
             "shape": ""
            }
           },
           "name": "#37bedd",
           "offsetgroup": "#37bedd",
           "orientation": "v",
           "showlegend": true,
           "text": [
            15,
            17
           ],
           "textposition": "auto",
           "type": "bar",
           "x": [
            "ALB",
            "LAT"
           ],
           "xaxis": "x",
           "y": [
            0,
            0
           ],
           "yaxis": "y"
          },
          {
           "alignmentgroup": "True",
           "hovertemplate": "TeamColor=#2d826d<br>Race=2<br>Name=%{x}<br>cumul_points=%{y}<br>Classement=%{text}<extra></extra>",
           "legendgroup": "#2d826d",
           "marker": {
            "color": "#B6E880",
            "pattern": {
             "shape": ""
            }
           },
           "name": "#2d826d",
           "offsetgroup": "#2d826d",
           "orientation": "v",
           "showlegend": true,
           "text": [
            16,
            19
           ],
           "textposition": "auto",
           "type": "bar",
           "x": [
            "HUL",
            "STR"
           ],
           "xaxis": "x",
           "y": [
            0,
            0
           ],
           "yaxis": "y"
          },
          {
           "alignmentgroup": "True",
           "hovertemplate": "TeamColor=#f58020<br>Race=2<br>Name=%{x}<br>cumul_points=%{y}<br>Classement=%{text}<extra></extra>",
           "legendgroup": "#f58020",
           "marker": {
            "color": "#FF97FF",
            "pattern": {
             "shape": ""
            }
           },
           "name": "#f58020",
           "offsetgroup": "#f58020",
           "orientation": "v",
           "showlegend": true,
           "text": [
            10,
            18
           ],
           "textposition": "auto",
           "type": "bar",
           "x": [
            "NOR",
            "RIC"
           ],
           "xaxis": "x",
           "y": [
            6,
            0
           ],
           "yaxis": "y"
          },
          {
           "alignmentgroup": "True",
           "hovertemplate": "TeamColor=#1e5bc6<br>Race=2<br>Name=%{x}<br>cumul_points=%{y}<br>Classement=%{text}<extra></extra>",
           "legendgroup": "#1e5bc6",
           "marker": {
            "color": "#FECB52",
            "pattern": {
             "shape": ""
            }
           },
           "name": "#1e5bc6",
           "offsetgroup": "#1e5bc6",
           "orientation": "v",
           "showlegend": true,
           "text": [
            3,
            8
           ],
           "textposition": "auto",
           "type": "bar",
           "x": [
            "VER",
            "PER"
           ],
           "xaxis": "x",
           "y": [
            25,
            12
           ],
           "yaxis": "y"
          }
         ],
         "name": "2"
        },
        {
         "data": [
          {
           "alignmentgroup": "True",
           "hovertemplate": "TeamColor=#ed1c24<br>Race=3<br>Name=%{x}<br>cumul_points=%{y}<br>Classement=%{text}<extra></extra>",
           "legendgroup": "#ed1c24",
           "marker": {
            "color": "#636efa",
            "pattern": {
             "shape": ""
            }
           },
           "name": "#ed1c24",
           "offsetgroup": "#ed1c24",
           "orientation": "v",
           "showlegend": true,
           "text": [
            1,
            3
           ],
           "textposition": "auto",
           "type": "bar",
           "x": [
            "LEC",
            "SAI"
           ],
           "xaxis": "x",
           "y": [
            71,
            33
           ],
           "yaxis": "y"
          },
          {
           "alignmentgroup": "True",
           "hovertemplate": "TeamColor=#6cd3bf<br>Race=3<br>Name=%{x}<br>cumul_points=%{y}<br>Classement=%{text}<extra></extra>",
           "legendgroup": "#6cd3bf",
           "marker": {
            "color": "#EF553B",
            "pattern": {
             "shape": ""
            }
           },
           "name": "#6cd3bf",
           "offsetgroup": "#6cd3bf",
           "orientation": "v",
           "showlegend": true,
           "text": [
            2,
            5
           ],
           "textposition": "auto",
           "type": "bar",
           "x": [
            "RUS",
            "HAM"
           ],
           "xaxis": "x",
           "y": [
            37,
            28
           ],
           "yaxis": "y"
          },
          {
           "alignmentgroup": "True",
           "hovertemplate": "TeamColor=#b6babd<br>Race=3<br>Name=%{x}<br>cumul_points=%{y}<br>Classement=%{text}<extra></extra>",
           "legendgroup": "#b6babd",
           "marker": {
            "color": "#00cc96",
            "pattern": {
             "shape": ""
            }
           },
           "name": "#b6babd",
           "offsetgroup": "#b6babd",
           "orientation": "v",
           "showlegend": true,
           "text": [
            10,
            18
           ],
           "textposition": "auto",
           "type": "bar",
           "x": [
            "MAG",
            "MSC"
           ],
           "xaxis": "x",
           "y": [
            12,
            0
           ],
           "yaxis": "y"
          },
          {
           "alignmentgroup": "True",
           "hovertemplate": "TeamColor=#b12039<br>Race=3<br>Name=%{x}<br>cumul_points=%{y}<br>Classement=%{text}<extra></extra>",
           "legendgroup": "#b12039",
           "marker": {
            "color": "#ab63fa",
            "pattern": {
             "shape": ""
            }
           },
           "name": "#b12039",
           "offsetgroup": "#b12039",
           "orientation": "v",
           "showlegend": true,
           "text": [
            9,
            16
           ],
           "textposition": "auto",
           "type": "bar",
           "x": [
            "BOT",
            "ZHO"
           ],
           "xaxis": "x",
           "y": [
            12,
            1
           ],
           "yaxis": "y"
          },
          {
           "alignmentgroup": "True",
           "hovertemplate": "TeamColor=#2293d1<br>Race=3<br>Name=%{x}<br>cumul_points=%{y}<br>Classement=%{text}<extra></extra>",
           "legendgroup": "#2293d1",
           "marker": {
            "color": "#FFA15A",
            "pattern": {
             "shape": ""
            }
           },
           "name": "#2293d1",
           "offsetgroup": "#2293d1",
           "orientation": "v",
           "showlegend": true,
           "text": [
            7,
            14
           ],
           "textposition": "auto",
           "type": "bar",
           "x": [
            "OCO",
            "ALO"
           ],
           "xaxis": "x",
           "y": [
            20,
            2
           ],
           "yaxis": "y"
          },
          {
           "alignmentgroup": "True",
           "hovertemplate": "TeamColor=#4e7c9b<br>Race=3<br>Name=%{x}<br>cumul_points=%{y}<br>Classement=%{text}<extra></extra>",
           "legendgroup": "#4e7c9b",
           "marker": {
            "color": "#19d3f3",
            "pattern": {
             "shape": ""
            }
           },
           "name": "#4e7c9b",
           "offsetgroup": "#4e7c9b",
           "orientation": "v",
           "showlegend": true,
           "text": [
            12,
            13
           ],
           "textposition": "auto",
           "type": "bar",
           "x": [
            "GAS",
            "TSU"
           ],
           "xaxis": "x",
           "y": [
            6,
            4
           ],
           "yaxis": "y"
          },
          {
           "alignmentgroup": "True",
           "hovertemplate": "TeamColor=#37bedd<br>Race=3<br>Name=%{x}<br>cumul_points=%{y}<br>Classement=%{text}<extra></extra>",
           "legendgroup": "#37bedd",
           "marker": {
            "color": "#FF6692",
            "pattern": {
             "shape": ""
            }
           },
           "name": "#37bedd",
           "offsetgroup": "#37bedd",
           "orientation": "v",
           "showlegend": true,
           "text": [
            15,
            17
           ],
           "textposition": "auto",
           "type": "bar",
           "x": [
            "ALB",
            "LAT"
           ],
           "xaxis": "x",
           "y": [
            1,
            0
           ],
           "yaxis": "y"
          },
          {
           "alignmentgroup": "True",
           "hovertemplate": "TeamColor=#2d826d<br>Race=3<br>Name=%{x}<br>cumul_points=%{y}<br>Classement=%{text}<extra></extra>",
           "legendgroup": "#2d826d",
           "marker": {
            "color": "#B6E880",
            "pattern": {
             "shape": ""
            }
           },
           "name": "#2d826d",
           "offsetgroup": "#2d826d",
           "orientation": "v",
           "showlegend": true,
           "text": [
            19,
            20
           ],
           "textposition": "auto",
           "type": "bar",
           "x": [
            "STR",
            "VET"
           ],
           "xaxis": "x",
           "y": [
            0,
            0
           ],
           "yaxis": "y"
          },
          {
           "alignmentgroup": "True",
           "hovertemplate": "TeamColor=#f58020<br>Race=3<br>Name=%{x}<br>cumul_points=%{y}<br>Classement=%{text}<extra></extra>",
           "legendgroup": "#f58020",
           "marker": {
            "color": "#FF97FF",
            "pattern": {
             "shape": ""
            }
           },
           "name": "#f58020",
           "offsetgroup": "#f58020",
           "orientation": "v",
           "showlegend": true,
           "text": [
            8,
            11
           ],
           "textposition": "auto",
           "type": "bar",
           "x": [
            "NOR",
            "RIC"
           ],
           "xaxis": "x",
           "y": [
            16,
            8
           ],
           "yaxis": "y"
          },
          {
           "alignmentgroup": "True",
           "hovertemplate": "TeamColor=#1e5bc6<br>Race=3<br>Name=%{x}<br>cumul_points=%{y}<br>Classement=%{text}<extra></extra>",
           "legendgroup": "#1e5bc6",
           "marker": {
            "color": "#FECB52",
            "pattern": {
             "shape": ""
            }
           },
           "name": "#1e5bc6",
           "offsetgroup": "#1e5bc6",
           "orientation": "v",
           "showlegend": true,
           "text": [
            4,
            6
           ],
           "textposition": "auto",
           "type": "bar",
           "x": [
            "PER",
            "VER"
           ],
           "xaxis": "x",
           "y": [
            30,
            25
           ],
           "yaxis": "y"
          }
         ],
         "name": "3"
        },
        {
         "data": [
          {
           "alignmentgroup": "True",
           "hovertemplate": "TeamColor=#ed1c24<br>Race=4<br>Name=%{x}<br>cumul_points=%{y}<br>Classement=%{text}<extra></extra>",
           "legendgroup": "#ed1c24",
           "marker": {
            "color": "#636efa",
            "pattern": {
             "shape": ""
            }
           },
           "name": "#ed1c24",
           "offsetgroup": "#ed1c24",
           "orientation": "v",
           "showlegend": true,
           "text": [
            1,
            5
           ],
           "textposition": "auto",
           "type": "bar",
           "x": [
            "LEC",
            "SAI"
           ],
           "xaxis": "x",
           "y": [
            86,
            38
           ],
           "yaxis": "y"
          },
          {
           "alignmentgroup": "True",
           "hovertemplate": "TeamColor=#6cd3bf<br>Race=4<br>Name=%{x}<br>cumul_points=%{y}<br>Classement=%{text}<extra></extra>",
           "legendgroup": "#6cd3bf",
           "marker": {
            "color": "#EF553B",
            "pattern": {
             "shape": ""
            }
           },
           "name": "#6cd3bf",
           "offsetgroup": "#6cd3bf",
           "orientation": "v",
           "showlegend": true,
           "text": [
            4,
            7
           ],
           "textposition": "auto",
           "type": "bar",
           "x": [
            "RUS",
            "HAM"
           ],
           "xaxis": "x",
           "y": [
            49,
            28
           ],
           "yaxis": "y"
          },
          {
           "alignmentgroup": "True",
           "hovertemplate": "TeamColor=#b6babd<br>Race=4<br>Name=%{x}<br>cumul_points=%{y}<br>Classement=%{text}<extra></extra>",
           "legendgroup": "#b6babd",
           "marker": {
            "color": "#00cc96",
            "pattern": {
             "shape": ""
            }
           },
           "name": "#b6babd",
           "offsetgroup": "#b6babd",
           "orientation": "v",
           "showlegend": true,
           "text": [
            10,
            20
           ],
           "textposition": "auto",
           "type": "bar",
           "x": [
            "MAG",
            "MSC"
           ],
           "xaxis": "x",
           "y": [
            15,
            0
           ],
           "yaxis": "y"
          },
          {
           "alignmentgroup": "True",
           "hovertemplate": "TeamColor=#b12039<br>Race=4<br>Name=%{x}<br>cumul_points=%{y}<br>Classement=%{text}<extra></extra>",
           "legendgroup": "#b12039",
           "marker": {
            "color": "#ab63fa",
            "pattern": {
             "shape": ""
            }
           },
           "name": "#b12039",
           "offsetgroup": "#b12039",
           "orientation": "v",
           "showlegend": true,
           "text": [
            8,
            18
           ],
           "textposition": "auto",
           "type": "bar",
           "x": [
            "BOT",
            "ZHO"
           ],
           "xaxis": "x",
           "y": [
            24,
            1
           ],
           "yaxis": "y"
          },
          {
           "alignmentgroup": "True",
           "hovertemplate": "TeamColor=#2293d1<br>Race=4<br>Name=%{x}<br>cumul_points=%{y}<br>Classement=%{text}<extra></extra>",
           "legendgroup": "#2293d1",
           "marker": {
            "color": "#FFA15A",
            "pattern": {
             "shape": ""
            }
           },
           "name": "#2293d1",
           "offsetgroup": "#2293d1",
           "orientation": "v",
           "showlegend": true,
           "text": [
            9,
            15
           ],
           "textposition": "auto",
           "type": "bar",
           "x": [
            "OCO",
            "ALO"
           ],
           "xaxis": "x",
           "y": [
            20,
            2
           ],
           "yaxis": "y"
          },
          {
           "alignmentgroup": "True",
           "hovertemplate": "TeamColor=#4e7c9b<br>Race=4<br>Name=%{x}<br>cumul_points=%{y}<br>Classement=%{text}<extra></extra>",
           "legendgroup": "#4e7c9b",
           "marker": {
            "color": "#19d3f3",
            "pattern": {
             "shape": ""
            }
           },
           "name": "#4e7c9b",
           "offsetgroup": "#4e7c9b",
           "orientation": "v",
           "showlegend": true,
           "text": [
            12,
            13
           ],
           "textposition": "auto",
           "type": "bar",
           "x": [
            "TSU",
            "GAS"
           ],
           "xaxis": "x",
           "y": [
            10,
            6
           ],
           "yaxis": "y"
          },
          {
           "alignmentgroup": "True",
           "hovertemplate": "TeamColor=#37bedd<br>Race=4<br>Name=%{x}<br>cumul_points=%{y}<br>Classement=%{text}<extra></extra>",
           "legendgroup": "#37bedd",
           "marker": {
            "color": "#FF6692",
            "pattern": {
             "shape": ""
            }
           },
           "name": "#37bedd",
           "offsetgroup": "#37bedd",
           "orientation": "v",
           "showlegend": true,
           "text": [
            16,
            19
           ],
           "textposition": "auto",
           "type": "bar",
           "x": [
            "ALB",
            "LAT"
           ],
           "xaxis": "x",
           "y": [
            1,
            0
           ],
           "yaxis": "y"
          },
          {
           "alignmentgroup": "True",
           "hovertemplate": "TeamColor=#2d826d<br>Race=4<br>Name=%{x}<br>cumul_points=%{y}<br>Classement=%{text}<extra></extra>",
           "legendgroup": "#2d826d",
           "marker": {
            "color": "#B6E880",
            "pattern": {
             "shape": ""
            }
           },
           "name": "#2d826d",
           "offsetgroup": "#2d826d",
           "orientation": "v",
           "showlegend": true,
           "text": [
            14,
            17
           ],
           "textposition": "auto",
           "type": "bar",
           "x": [
            "VET",
            "STR"
           ],
           "xaxis": "x",
           "y": [
            4,
            1
           ],
           "yaxis": "y"
          },
          {
           "alignmentgroup": "True",
           "hovertemplate": "TeamColor=#f58020<br>Race=4<br>Name=%{x}<br>cumul_points=%{y}<br>Classement=%{text}<extra></extra>",
           "legendgroup": "#f58020",
           "marker": {
            "color": "#FF97FF",
            "pattern": {
             "shape": ""
            }
           },
           "name": "#f58020",
           "offsetgroup": "#f58020",
           "orientation": "v",
           "showlegend": true,
           "text": [
            6,
            11
           ],
           "textposition": "auto",
           "type": "bar",
           "x": [
            "NOR",
            "RIC"
           ],
           "xaxis": "x",
           "y": [
            35,
            11
           ],
           "yaxis": "y"
          },
          {
           "alignmentgroup": "True",
           "hovertemplate": "TeamColor=#1e5bc6<br>Race=4<br>Name=%{x}<br>cumul_points=%{y}<br>Classement=%{text}<extra></extra>",
           "legendgroup": "#1e5bc6",
           "marker": {
            "color": "#FECB52",
            "pattern": {
             "shape": ""
            }
           },
           "name": "#1e5bc6",
           "offsetgroup": "#1e5bc6",
           "orientation": "v",
           "showlegend": true,
           "text": [
            2,
            3
           ],
           "textposition": "auto",
           "type": "bar",
           "x": [
            "VER",
            "PER"
           ],
           "xaxis": "x",
           "y": [
            59,
            54
           ],
           "yaxis": "y"
          }
         ],
         "name": "4"
        },
        {
         "data": [
          {
           "alignmentgroup": "True",
           "hovertemplate": "TeamColor=#ed1c24<br>Race=5<br>Name=%{x}<br>cumul_points=%{y}<br>Classement=%{text}<extra></extra>",
           "legendgroup": "#ed1c24",
           "marker": {
            "color": "#636efa",
            "pattern": {
             "shape": ""
            }
           },
           "name": "#ed1c24",
           "offsetgroup": "#ed1c24",
           "orientation": "v",
           "showlegend": true,
           "text": [
            1,
            5
           ],
           "textposition": "auto",
           "type": "bar",
           "x": [
            "LEC",
            "SAI"
           ],
           "xaxis": "x",
           "y": [
            104,
            53
           ],
           "yaxis": "y"
          },
          {
           "alignmentgroup": "True",
           "hovertemplate": "TeamColor=#6cd3bf<br>Race=5<br>Name=%{x}<br>cumul_points=%{y}<br>Classement=%{text}<extra></extra>",
           "legendgroup": "#6cd3bf",
           "marker": {
            "color": "#EF553B",
            "pattern": {
             "shape": ""
            }
           },
           "name": "#6cd3bf",
           "offsetgroup": "#6cd3bf",
           "orientation": "v",
           "showlegend": true,
           "text": [
            4,
            6
           ],
           "textposition": "auto",
           "type": "bar",
           "x": [
            "RUS",
            "HAM"
           ],
           "xaxis": "x",
           "y": [
            59,
            36
           ],
           "yaxis": "y"
          },
          {
           "alignmentgroup": "True",
           "hovertemplate": "TeamColor=#b6babd<br>Race=5<br>Name=%{x}<br>cumul_points=%{y}<br>Classement=%{text}<extra></extra>",
           "legendgroup": "#b6babd",
           "marker": {
            "color": "#00cc96",
            "pattern": {
             "shape": ""
            }
           },
           "name": "#b6babd",
           "offsetgroup": "#b6babd",
           "orientation": "v",
           "showlegend": true,
           "text": [
            10,
            20
           ],
           "textposition": "auto",
           "type": "bar",
           "x": [
            "MAG",
            "MSC"
           ],
           "xaxis": "x",
           "y": [
            15,
            0
           ],
           "yaxis": "y"
          },
          {
           "alignmentgroup": "True",
           "hovertemplate": "TeamColor=#b12039<br>Race=5<br>Name=%{x}<br>cumul_points=%{y}<br>Classement=%{text}<extra></extra>",
           "legendgroup": "#b12039",
           "marker": {
            "color": "#ab63fa",
            "pattern": {
             "shape": ""
            }
           },
           "name": "#b12039",
           "offsetgroup": "#b12039",
           "orientation": "v",
           "showlegend": true,
           "text": [
            8,
            18
           ],
           "textposition": "auto",
           "type": "bar",
           "x": [
            "BOT",
            "ZHO"
           ],
           "xaxis": "x",
           "y": [
            30,
            1
           ],
           "yaxis": "y"
          },
          {
           "alignmentgroup": "True",
           "hovertemplate": "TeamColor=#2293d1<br>Race=5<br>Name=%{x}<br>cumul_points=%{y}<br>Classement=%{text}<extra></extra>",
           "legendgroup": "#2293d1",
           "marker": {
            "color": "#FFA15A",
            "pattern": {
             "shape": ""
            }
           },
           "name": "#2293d1",
           "offsetgroup": "#2293d1",
           "orientation": "v",
           "showlegend": true,
           "text": [
            9,
            16
           ],
           "textposition": "auto",
           "type": "bar",
           "x": [
            "OCO",
            "ALO"
           ],
           "xaxis": "x",
           "y": [
            24,
            2
           ],
           "yaxis": "y"
          },
          {
           "alignmentgroup": "True",
           "hovertemplate": "TeamColor=#4e7c9b<br>Race=5<br>Name=%{x}<br>cumul_points=%{y}<br>Classement=%{text}<extra></extra>",
           "legendgroup": "#4e7c9b",
           "marker": {
            "color": "#19d3f3",
            "pattern": {
             "shape": ""
            }
           },
           "name": "#4e7c9b",
           "offsetgroup": "#4e7c9b",
           "orientation": "v",
           "showlegend": true,
           "text": [
            12,
            13
           ],
           "textposition": "auto",
           "type": "bar",
           "x": [
            "TSU",
            "GAS"
           ],
           "xaxis": "x",
           "y": [
            10,
            6
           ],
           "yaxis": "y"
          },
          {
           "alignmentgroup": "True",
           "hovertemplate": "TeamColor=#37bedd<br>Race=5<br>Name=%{x}<br>cumul_points=%{y}<br>Classement=%{text}<extra></extra>",
           "legendgroup": "#37bedd",
           "marker": {
            "color": "#FF6692",
            "pattern": {
             "shape": ""
            }
           },
           "name": "#37bedd",
           "offsetgroup": "#37bedd",
           "orientation": "v",
           "showlegend": true,
           "text": [
            15,
            19
           ],
           "textposition": "auto",
           "type": "bar",
           "x": [
            "ALB",
            "LAT"
           ],
           "xaxis": "x",
           "y": [
            3,
            0
           ],
           "yaxis": "y"
          },
          {
           "alignmentgroup": "True",
           "hovertemplate": "TeamColor=#2d826d<br>Race=5<br>Name=%{x}<br>cumul_points=%{y}<br>Classement=%{text}<extra></extra>",
           "legendgroup": "#2d826d",
           "marker": {
            "color": "#B6E880",
            "pattern": {
             "shape": ""
            }
           },
           "name": "#2d826d",
           "offsetgroup": "#2d826d",
           "orientation": "v",
           "showlegend": true,
           "text": [
            14,
            17
           ],
           "textposition": "auto",
           "type": "bar",
           "x": [
            "VET",
            "STR"
           ],
           "xaxis": "x",
           "y": [
            4,
            2
           ],
           "yaxis": "y"
          },
          {
           "alignmentgroup": "True",
           "hovertemplate": "TeamColor=#f58020<br>Race=5<br>Name=%{x}<br>cumul_points=%{y}<br>Classement=%{text}<extra></extra>",
           "legendgroup": "#f58020",
           "marker": {
            "color": "#FF97FF",
            "pattern": {
             "shape": ""
            }
           },
           "name": "#f58020",
           "offsetgroup": "#f58020",
           "orientation": "v",
           "showlegend": true,
           "text": [
            7,
            11
           ],
           "textposition": "auto",
           "type": "bar",
           "x": [
            "NOR",
            "RIC"
           ],
           "xaxis": "x",
           "y": [
            35,
            11
           ],
           "yaxis": "y"
          },
          {
           "alignmentgroup": "True",
           "hovertemplate": "TeamColor=#1e5bc6<br>Race=5<br>Name=%{x}<br>cumul_points=%{y}<br>Classement=%{text}<extra></extra>",
           "legendgroup": "#1e5bc6",
           "marker": {
            "color": "#FECB52",
            "pattern": {
             "shape": ""
            }
           },
           "name": "#1e5bc6",
           "offsetgroup": "#1e5bc6",
           "orientation": "v",
           "showlegend": true,
           "text": [
            2,
            3
           ],
           "textposition": "auto",
           "type": "bar",
           "x": [
            "VER",
            "PER"
           ],
           "xaxis": "x",
           "y": [
            85,
            66
           ],
           "yaxis": "y"
          }
         ],
         "name": "5"
        },
        {
         "data": [
          {
           "alignmentgroup": "True",
           "hovertemplate": "TeamColor=#ed1c24<br>Race=6<br>Name=%{x}<br>cumul_points=%{y}<br>Classement=%{text}<extra></extra>",
           "legendgroup": "#ed1c24",
           "marker": {
            "color": "#636efa",
            "pattern": {
             "shape": ""
            }
           },
           "name": "#ed1c24",
           "offsetgroup": "#ed1c24",
           "orientation": "v",
           "showlegend": true,
           "text": [
            2,
            5
           ],
           "textposition": "auto",
           "type": "bar",
           "x": [
            "LEC",
            "SAI"
           ],
           "xaxis": "x",
           "y": [
            104,
            65
           ],
           "yaxis": "y"
          },
          {
           "alignmentgroup": "True",
           "hovertemplate": "TeamColor=#6cd3bf<br>Race=6<br>Name=%{x}<br>cumul_points=%{y}<br>Classement=%{text}<extra></extra>",
           "legendgroup": "#6cd3bf",
           "marker": {
            "color": "#EF553B",
            "pattern": {
             "shape": ""
            }
           },
           "name": "#6cd3bf",
           "offsetgroup": "#6cd3bf",
           "orientation": "v",
           "showlegend": true,
           "text": [
            4,
            6
           ],
           "textposition": "auto",
           "type": "bar",
           "x": [
            "RUS",
            "HAM"
           ],
           "xaxis": "x",
           "y": [
            74,
            46
           ],
           "yaxis": "y"
          },
          {
           "alignmentgroup": "True",
           "hovertemplate": "TeamColor=#b6babd<br>Race=6<br>Name=%{x}<br>cumul_points=%{y}<br>Classement=%{text}<extra></extra>",
           "legendgroup": "#b6babd",
           "marker": {
            "color": "#00cc96",
            "pattern": {
             "shape": ""
            }
           },
           "name": "#b6babd",
           "offsetgroup": "#b6babd",
           "orientation": "v",
           "showlegend": true,
           "text": [
            10,
            20
           ],
           "textposition": "auto",
           "type": "bar",
           "x": [
            "MAG",
            "MSC"
           ],
           "xaxis": "x",
           "y": [
            15,
            0
           ],
           "yaxis": "y"
          },
          {
           "alignmentgroup": "True",
           "hovertemplate": "TeamColor=#b12039<br>Race=6<br>Name=%{x}<br>cumul_points=%{y}<br>Classement=%{text}<extra></extra>",
           "legendgroup": "#b12039",
           "marker": {
            "color": "#ab63fa",
            "pattern": {
             "shape": ""
            }
           },
           "name": "#b12039",
           "offsetgroup": "#b12039",
           "orientation": "v",
           "showlegend": true,
           "text": [
            8,
            18
           ],
           "textposition": "auto",
           "type": "bar",
           "x": [
            "BOT",
            "ZHO"
           ],
           "xaxis": "x",
           "y": [
            38,
            1
           ],
           "yaxis": "y"
          },
          {
           "alignmentgroup": "True",
           "hovertemplate": "TeamColor=#2293d1<br>Race=6<br>Name=%{x}<br>cumul_points=%{y}<br>Classement=%{text}<extra></extra>",
           "legendgroup": "#2293d1",
           "marker": {
            "color": "#FFA15A",
            "pattern": {
             "shape": ""
            }
           },
           "name": "#2293d1",
           "offsetgroup": "#2293d1",
           "orientation": "v",
           "showlegend": true,
           "text": [
            9,
            14
           ],
           "textposition": "auto",
           "type": "bar",
           "x": [
            "OCO",
            "ALO"
           ],
           "xaxis": "x",
           "y": [
            30,
            4
           ],
           "yaxis": "y"
          },
          {
           "alignmentgroup": "True",
           "hovertemplate": "TeamColor=#4e7c9b<br>Race=6<br>Name=%{x}<br>cumul_points=%{y}<br>Classement=%{text}<extra></extra>",
           "legendgroup": "#4e7c9b",
           "marker": {
            "color": "#19d3f3",
            "pattern": {
             "shape": ""
            }
           },
           "name": "#4e7c9b",
           "offsetgroup": "#4e7c9b",
           "orientation": "v",
           "showlegend": true,
           "text": [
            12,
            13
           ],
           "textposition": "auto",
           "type": "bar",
           "x": [
            "TSU",
            "GAS"
           ],
           "xaxis": "x",
           "y": [
            11,
            6
           ],
           "yaxis": "y"
          },
          {
           "alignmentgroup": "True",
           "hovertemplate": "TeamColor=#37bedd<br>Race=6<br>Name=%{x}<br>cumul_points=%{y}<br>Classement=%{text}<extra></extra>",
           "legendgroup": "#37bedd",
           "marker": {
            "color": "#FF6692",
            "pattern": {
             "shape": ""
            }
           },
           "name": "#37bedd",
           "offsetgroup": "#37bedd",
           "orientation": "v",
           "showlegend": true,
           "text": [
            16,
            19
           ],
           "textposition": "auto",
           "type": "bar",
           "x": [
            "ALB",
            "LAT"
           ],
           "xaxis": "x",
           "y": [
            3,
            0
           ],
           "yaxis": "y"
          },
          {
           "alignmentgroup": "True",
           "hovertemplate": "TeamColor=#2d826d<br>Race=6<br>Name=%{x}<br>cumul_points=%{y}<br>Classement=%{text}<extra></extra>",
           "legendgroup": "#2d826d",
           "marker": {
            "color": "#B6E880",
            "pattern": {
             "shape": ""
            }
           },
           "name": "#2d826d",
           "offsetgroup": "#2d826d",
           "orientation": "v",
           "showlegend": true,
           "text": [
            15,
            17
           ],
           "textposition": "auto",
           "type": "bar",
           "x": [
            "VET",
            "STR"
           ],
           "xaxis": "x",
           "y": [
            4,
            2
           ],
           "yaxis": "y"
          },
          {
           "alignmentgroup": "True",
           "hovertemplate": "TeamColor=#f58020<br>Race=6<br>Name=%{x}<br>cumul_points=%{y}<br>Classement=%{text}<extra></extra>",
           "legendgroup": "#f58020",
           "marker": {
            "color": "#FF97FF",
            "pattern": {
             "shape": ""
            }
           },
           "name": "#f58020",
           "offsetgroup": "#f58020",
           "orientation": "v",
           "showlegend": true,
           "text": [
            7,
            11
           ],
           "textposition": "auto",
           "type": "bar",
           "x": [
            "NOR",
            "RIC"
           ],
           "xaxis": "x",
           "y": [
            39,
            11
           ],
           "yaxis": "y"
          },
          {
           "alignmentgroup": "True",
           "hovertemplate": "TeamColor=#1e5bc6<br>Race=6<br>Name=%{x}<br>cumul_points=%{y}<br>Classement=%{text}<extra></extra>",
           "legendgroup": "#1e5bc6",
           "marker": {
            "color": "#FECB52",
            "pattern": {
             "shape": ""
            }
           },
           "name": "#1e5bc6",
           "offsetgroup": "#1e5bc6",
           "orientation": "v",
           "showlegend": true,
           "text": [
            1,
            3
           ],
           "textposition": "auto",
           "type": "bar",
           "x": [
            "VER",
            "PER"
           ],
           "xaxis": "x",
           "y": [
            110,
            85
           ],
           "yaxis": "y"
          }
         ],
         "name": "6"
        },
        {
         "data": [
          {
           "alignmentgroup": "True",
           "hovertemplate": "TeamColor=#ed1c24<br>Race=7<br>Name=%{x}<br>cumul_points=%{y}<br>Classement=%{text}<extra></extra>",
           "legendgroup": "#ed1c24",
           "marker": {
            "color": "#636efa",
            "pattern": {
             "shape": ""
            }
           },
           "name": "#ed1c24",
           "offsetgroup": "#ed1c24",
           "orientation": "v",
           "showlegend": true,
           "text": [
            2,
            5
           ],
           "textposition": "auto",
           "type": "bar",
           "x": [
            "LEC",
            "SAI"
           ],
           "xaxis": "x",
           "y": [
            116,
            83
           ],
           "yaxis": "y"
          },
          {
           "alignmentgroup": "True",
           "hovertemplate": "TeamColor=#6cd3bf<br>Race=7<br>Name=%{x}<br>cumul_points=%{y}<br>Classement=%{text}<extra></extra>",
           "legendgroup": "#6cd3bf",
           "marker": {
            "color": "#EF553B",
            "pattern": {
             "shape": ""
            }
           },
           "name": "#6cd3bf",
           "offsetgroup": "#6cd3bf",
           "orientation": "v",
           "showlegend": true,
           "text": [
            4,
            6
           ],
           "textposition": "auto",
           "type": "bar",
           "x": [
            "RUS",
            "HAM"
           ],
           "xaxis": "x",
           "y": [
            84,
            50
           ],
           "yaxis": "y"
          },
          {
           "alignmentgroup": "True",
           "hovertemplate": "TeamColor=#b6babd<br>Race=7<br>Name=%{x}<br>cumul_points=%{y}<br>Classement=%{text}<extra></extra>",
           "legendgroup": "#b6babd",
           "marker": {
            "color": "#00cc96",
            "pattern": {
             "shape": ""
            }
           },
           "name": "#b6babd",
           "offsetgroup": "#b6babd",
           "orientation": "v",
           "showlegend": true,
           "text": [
            10,
            19
           ],
           "textposition": "auto",
           "type": "bar",
           "x": [
            "MAG",
            "MSC"
           ],
           "xaxis": "x",
           "y": [
            15,
            0
           ],
           "yaxis": "y"
          },
          {
           "alignmentgroup": "True",
           "hovertemplate": "TeamColor=#b12039<br>Race=7<br>Name=%{x}<br>cumul_points=%{y}<br>Classement=%{text}<extra></extra>",
           "legendgroup": "#b12039",
           "marker": {
            "color": "#ab63fa",
            "pattern": {
             "shape": ""
            }
           },
           "name": "#b12039",
           "offsetgroup": "#b12039",
           "orientation": "v",
           "showlegend": true,
           "text": [
            8,
            0
           ],
           "textposition": "auto",
           "type": "bar",
           "x": [
            "BOT",
            "ZHO"
           ],
           "xaxis": "x",
           "y": [
            40,
            0
           ],
           "yaxis": "y"
          },
          {
           "alignmentgroup": "True",
           "hovertemplate": "TeamColor=#2293d1<br>Race=7<br>Name=%{x}<br>cumul_points=%{y}<br>Classement=%{text}<extra></extra>",
           "legendgroup": "#2293d1",
           "marker": {
            "color": "#FFA15A",
            "pattern": {
             "shape": ""
            }
           },
           "name": "#2293d1",
           "offsetgroup": "#2293d1",
           "orientation": "v",
           "showlegend": true,
           "text": [
            9,
            13
           ],
           "textposition": "auto",
           "type": "bar",
           "x": [
            "OCO",
            "ALO"
           ],
           "xaxis": "x",
           "y": [
            30,
            10
           ],
           "yaxis": "y"
          },
          {
           "alignmentgroup": "True",
           "hovertemplate": "TeamColor=#4e7c9b<br>Race=7<br>Name=%{x}<br>cumul_points=%{y}<br>Classement=%{text}<extra></extra>",
           "legendgroup": "#4e7c9b",
           "marker": {
            "color": "#19d3f3",
            "pattern": {
             "shape": ""
            }
           },
           "name": "#4e7c9b",
           "offsetgroup": "#4e7c9b",
           "orientation": "v",
           "showlegend": true,
           "text": [
            12,
            14
           ],
           "textposition": "auto",
           "type": "bar",
           "x": [
            "TSU",
            "GAS"
           ],
           "xaxis": "x",
           "y": [
            11,
            6
           ],
           "yaxis": "y"
          },
          {
           "alignmentgroup": "True",
           "hovertemplate": "TeamColor=#37bedd<br>Race=7<br>Name=%{x}<br>cumul_points=%{y}<br>Classement=%{text}<extra></extra>",
           "legendgroup": "#37bedd",
           "marker": {
            "color": "#FF6692",
            "pattern": {
             "shape": ""
            }
           },
           "name": "#37bedd",
           "offsetgroup": "#37bedd",
           "orientation": "v",
           "showlegend": true,
           "text": [
            16,
            18
           ],
           "textposition": "auto",
           "type": "bar",
           "x": [
            "ALB",
            "LAT"
           ],
           "xaxis": "x",
           "y": [
            3,
            0
           ],
           "yaxis": "y"
          },
          {
           "alignmentgroup": "True",
           "hovertemplate": "TeamColor=#2d826d<br>Race=7<br>Name=%{x}<br>cumul_points=%{y}<br>Classement=%{text}<extra></extra>",
           "legendgroup": "#2d826d",
           "marker": {
            "color": "#B6E880",
            "pattern": {
             "shape": ""
            }
           },
           "name": "#2d826d",
           "offsetgroup": "#2d826d",
           "orientation": "v",
           "showlegend": true,
           "text": [
            15,
            17
           ],
           "textposition": "auto",
           "type": "bar",
           "x": [
            "VET",
            "STR"
           ],
           "xaxis": "x",
           "y": [
            5,
            2
           ],
           "yaxis": "y"
          },
          {
           "alignmentgroup": "True",
           "hovertemplate": "TeamColor=#f58020<br>Race=7<br>Name=%{x}<br>cumul_points=%{y}<br>Classement=%{text}<extra></extra>",
           "legendgroup": "#f58020",
           "marker": {
            "color": "#FF97FF",
            "pattern": {
             "shape": ""
            }
           },
           "name": "#f58020",
           "offsetgroup": "#f58020",
           "orientation": "v",
           "showlegend": true,
           "text": [
            7,
            11
           ],
           "textposition": "auto",
           "type": "bar",
           "x": [
            "NOR",
            "RIC"
           ],
           "xaxis": "x",
           "y": [
            48,
            11
           ],
           "yaxis": "y"
          },
          {
           "alignmentgroup": "True",
           "hovertemplate": "TeamColor=#1e5bc6<br>Race=7<br>Name=%{x}<br>cumul_points=%{y}<br>Classement=%{text}<extra></extra>",
           "legendgroup": "#1e5bc6",
           "marker": {
            "color": "#FECB52",
            "pattern": {
             "shape": ""
            }
           },
           "name": "#1e5bc6",
           "offsetgroup": "#1e5bc6",
           "orientation": "v",
           "showlegend": true,
           "text": [
            1,
            3
           ],
           "textposition": "auto",
           "type": "bar",
           "x": [
            "VER",
            "PER"
           ],
           "xaxis": "x",
           "y": [
            125,
            110
           ],
           "yaxis": "y"
          }
         ],
         "name": "7"
        }
       ],
       "layout": {
        "barmode": "relative",
        "height": 600,
        "legend": {
         "title": {
          "text": "TeamColor"
         },
         "tracegroupgap": 0
        },
        "margin": {
         "t": 60
        },
        "sliders": [
         {
          "active": 0,
          "currentvalue": {
           "prefix": "Race="
          },
          "len": 0.9,
          "pad": {
           "b": 10,
           "t": 60
          },
          "steps": [
           {
            "args": [
             [
              "1"
             ],
             {
              "frame": {
               "duration": 0,
               "redraw": true
              },
              "fromcurrent": true,
              "mode": "immediate",
              "transition": {
               "duration": 0,
               "easing": "linear"
              }
             }
            ],
            "label": "1",
            "method": "animate"
           },
           {
            "args": [
             [
              "2"
             ],
             {
              "frame": {
               "duration": 0,
               "redraw": true
              },
              "fromcurrent": true,
              "mode": "immediate",
              "transition": {
               "duration": 0,
               "easing": "linear"
              }
             }
            ],
            "label": "2",
            "method": "animate"
           },
           {
            "args": [
             [
              "3"
             ],
             {
              "frame": {
               "duration": 0,
               "redraw": true
              },
              "fromcurrent": true,
              "mode": "immediate",
              "transition": {
               "duration": 0,
               "easing": "linear"
              }
             }
            ],
            "label": "3",
            "method": "animate"
           },
           {
            "args": [
             [
              "4"
             ],
             {
              "frame": {
               "duration": 0,
               "redraw": true
              },
              "fromcurrent": true,
              "mode": "immediate",
              "transition": {
               "duration": 0,
               "easing": "linear"
              }
             }
            ],
            "label": "4",
            "method": "animate"
           },
           {
            "args": [
             [
              "5"
             ],
             {
              "frame": {
               "duration": 0,
               "redraw": true
              },
              "fromcurrent": true,
              "mode": "immediate",
              "transition": {
               "duration": 0,
               "easing": "linear"
              }
             }
            ],
            "label": "5",
            "method": "animate"
           },
           {
            "args": [
             [
              "6"
             ],
             {
              "frame": {
               "duration": 0,
               "redraw": true
              },
              "fromcurrent": true,
              "mode": "immediate",
              "transition": {
               "duration": 0,
               "easing": "linear"
              }
             }
            ],
            "label": "6",
            "method": "animate"
           },
           {
            "args": [
             [
              "7"
             ],
             {
              "frame": {
               "duration": 0,
               "redraw": true
              },
              "fromcurrent": true,
              "mode": "immediate",
              "transition": {
               "duration": 0,
               "easing": "linear"
              }
             }
            ],
            "label": "7",
            "method": "animate"
           }
          ],
          "x": 0.1,
          "xanchor": "left",
          "y": 0,
          "yanchor": "top"
         }
        ],
        "template": {
         "data": {
          "bar": [
           {
            "error_x": {
             "color": "#f2f5fa"
            },
            "error_y": {
             "color": "#f2f5fa"
            },
            "marker": {
             "line": {
              "color": "rgb(17,17,17)",
              "width": 0.5
             },
             "pattern": {
              "fillmode": "overlay",
              "size": 10,
              "solidity": 0.2
             }
            },
            "type": "bar"
           }
          ],
          "barpolar": [
           {
            "marker": {
             "line": {
              "color": "rgb(17,17,17)",
              "width": 0.5
             },
             "pattern": {
              "fillmode": "overlay",
              "size": 10,
              "solidity": 0.2
             }
            },
            "type": "barpolar"
           }
          ],
          "carpet": [
           {
            "aaxis": {
             "endlinecolor": "#A2B1C6",
             "gridcolor": "#506784",
             "linecolor": "#506784",
             "minorgridcolor": "#506784",
             "startlinecolor": "#A2B1C6"
            },
            "baxis": {
             "endlinecolor": "#A2B1C6",
             "gridcolor": "#506784",
             "linecolor": "#506784",
             "minorgridcolor": "#506784",
             "startlinecolor": "#A2B1C6"
            },
            "type": "carpet"
           }
          ],
          "choropleth": [
           {
            "colorbar": {
             "outlinewidth": 0,
             "ticks": ""
            },
            "type": "choropleth"
           }
          ],
          "contour": [
           {
            "colorbar": {
             "outlinewidth": 0,
             "ticks": ""
            },
            "colorscale": [
             [
              0,
              "#0d0887"
             ],
             [
              0.1111111111111111,
              "#46039f"
             ],
             [
              0.2222222222222222,
              "#7201a8"
             ],
             [
              0.3333333333333333,
              "#9c179e"
             ],
             [
              0.4444444444444444,
              "#bd3786"
             ],
             [
              0.5555555555555556,
              "#d8576b"
             ],
             [
              0.6666666666666666,
              "#ed7953"
             ],
             [
              0.7777777777777778,
              "#fb9f3a"
             ],
             [
              0.8888888888888888,
              "#fdca26"
             ],
             [
              1,
              "#f0f921"
             ]
            ],
            "type": "contour"
           }
          ],
          "contourcarpet": [
           {
            "colorbar": {
             "outlinewidth": 0,
             "ticks": ""
            },
            "type": "contourcarpet"
           }
          ],
          "heatmap": [
           {
            "colorbar": {
             "outlinewidth": 0,
             "ticks": ""
            },
            "colorscale": [
             [
              0,
              "#0d0887"
             ],
             [
              0.1111111111111111,
              "#46039f"
             ],
             [
              0.2222222222222222,
              "#7201a8"
             ],
             [
              0.3333333333333333,
              "#9c179e"
             ],
             [
              0.4444444444444444,
              "#bd3786"
             ],
             [
              0.5555555555555556,
              "#d8576b"
             ],
             [
              0.6666666666666666,
              "#ed7953"
             ],
             [
              0.7777777777777778,
              "#fb9f3a"
             ],
             [
              0.8888888888888888,
              "#fdca26"
             ],
             [
              1,
              "#f0f921"
             ]
            ],
            "type": "heatmap"
           }
          ],
          "heatmapgl": [
           {
            "colorbar": {
             "outlinewidth": 0,
             "ticks": ""
            },
            "colorscale": [
             [
              0,
              "#0d0887"
             ],
             [
              0.1111111111111111,
              "#46039f"
             ],
             [
              0.2222222222222222,
              "#7201a8"
             ],
             [
              0.3333333333333333,
              "#9c179e"
             ],
             [
              0.4444444444444444,
              "#bd3786"
             ],
             [
              0.5555555555555556,
              "#d8576b"
             ],
             [
              0.6666666666666666,
              "#ed7953"
             ],
             [
              0.7777777777777778,
              "#fb9f3a"
             ],
             [
              0.8888888888888888,
              "#fdca26"
             ],
             [
              1,
              "#f0f921"
             ]
            ],
            "type": "heatmapgl"
           }
          ],
          "histogram": [
           {
            "marker": {
             "pattern": {
              "fillmode": "overlay",
              "size": 10,
              "solidity": 0.2
             }
            },
            "type": "histogram"
           }
          ],
          "histogram2d": [
           {
            "colorbar": {
             "outlinewidth": 0,
             "ticks": ""
            },
            "colorscale": [
             [
              0,
              "#0d0887"
             ],
             [
              0.1111111111111111,
              "#46039f"
             ],
             [
              0.2222222222222222,
              "#7201a8"
             ],
             [
              0.3333333333333333,
              "#9c179e"
             ],
             [
              0.4444444444444444,
              "#bd3786"
             ],
             [
              0.5555555555555556,
              "#d8576b"
             ],
             [
              0.6666666666666666,
              "#ed7953"
             ],
             [
              0.7777777777777778,
              "#fb9f3a"
             ],
             [
              0.8888888888888888,
              "#fdca26"
             ],
             [
              1,
              "#f0f921"
             ]
            ],
            "type": "histogram2d"
           }
          ],
          "histogram2dcontour": [
           {
            "colorbar": {
             "outlinewidth": 0,
             "ticks": ""
            },
            "colorscale": [
             [
              0,
              "#0d0887"
             ],
             [
              0.1111111111111111,
              "#46039f"
             ],
             [
              0.2222222222222222,
              "#7201a8"
             ],
             [
              0.3333333333333333,
              "#9c179e"
             ],
             [
              0.4444444444444444,
              "#bd3786"
             ],
             [
              0.5555555555555556,
              "#d8576b"
             ],
             [
              0.6666666666666666,
              "#ed7953"
             ],
             [
              0.7777777777777778,
              "#fb9f3a"
             ],
             [
              0.8888888888888888,
              "#fdca26"
             ],
             [
              1,
              "#f0f921"
             ]
            ],
            "type": "histogram2dcontour"
           }
          ],
          "mesh3d": [
           {
            "colorbar": {
             "outlinewidth": 0,
             "ticks": ""
            },
            "type": "mesh3d"
           }
          ],
          "parcoords": [
           {
            "line": {
             "colorbar": {
              "outlinewidth": 0,
              "ticks": ""
             }
            },
            "type": "parcoords"
           }
          ],
          "pie": [
           {
            "automargin": true,
            "type": "pie"
           }
          ],
          "scatter": [
           {
            "marker": {
             "line": {
              "color": "#283442"
             }
            },
            "type": "scatter"
           }
          ],
          "scatter3d": [
           {
            "line": {
             "colorbar": {
              "outlinewidth": 0,
              "ticks": ""
             }
            },
            "marker": {
             "colorbar": {
              "outlinewidth": 0,
              "ticks": ""
             }
            },
            "type": "scatter3d"
           }
          ],
          "scattercarpet": [
           {
            "marker": {
             "colorbar": {
              "outlinewidth": 0,
              "ticks": ""
             }
            },
            "type": "scattercarpet"
           }
          ],
          "scattergeo": [
           {
            "marker": {
             "colorbar": {
              "outlinewidth": 0,
              "ticks": ""
             }
            },
            "type": "scattergeo"
           }
          ],
          "scattergl": [
           {
            "marker": {
             "line": {
              "color": "#283442"
             }
            },
            "type": "scattergl"
           }
          ],
          "scattermapbox": [
           {
            "marker": {
             "colorbar": {
              "outlinewidth": 0,
              "ticks": ""
             }
            },
            "type": "scattermapbox"
           }
          ],
          "scatterpolar": [
           {
            "marker": {
             "colorbar": {
              "outlinewidth": 0,
              "ticks": ""
             }
            },
            "type": "scatterpolar"
           }
          ],
          "scatterpolargl": [
           {
            "marker": {
             "colorbar": {
              "outlinewidth": 0,
              "ticks": ""
             }
            },
            "type": "scatterpolargl"
           }
          ],
          "scatterternary": [
           {
            "marker": {
             "colorbar": {
              "outlinewidth": 0,
              "ticks": ""
             }
            },
            "type": "scatterternary"
           }
          ],
          "surface": [
           {
            "colorbar": {
             "outlinewidth": 0,
             "ticks": ""
            },
            "colorscale": [
             [
              0,
              "#0d0887"
             ],
             [
              0.1111111111111111,
              "#46039f"
             ],
             [
              0.2222222222222222,
              "#7201a8"
             ],
             [
              0.3333333333333333,
              "#9c179e"
             ],
             [
              0.4444444444444444,
              "#bd3786"
             ],
             [
              0.5555555555555556,
              "#d8576b"
             ],
             [
              0.6666666666666666,
              "#ed7953"
             ],
             [
              0.7777777777777778,
              "#fb9f3a"
             ],
             [
              0.8888888888888888,
              "#fdca26"
             ],
             [
              1,
              "#f0f921"
             ]
            ],
            "type": "surface"
           }
          ],
          "table": [
           {
            "cells": {
             "fill": {
              "color": "#506784"
             },
             "line": {
              "color": "rgb(17,17,17)"
             }
            },
            "header": {
             "fill": {
              "color": "#2a3f5f"
             },
             "line": {
              "color": "rgb(17,17,17)"
             }
            },
            "type": "table"
           }
          ]
         },
         "layout": {
          "annotationdefaults": {
           "arrowcolor": "#f2f5fa",
           "arrowhead": 0,
           "arrowwidth": 1
          },
          "autotypenumbers": "strict",
          "coloraxis": {
           "colorbar": {
            "outlinewidth": 0,
            "ticks": ""
           }
          },
          "colorscale": {
           "diverging": [
            [
             0,
             "#8e0152"
            ],
            [
             0.1,
             "#c51b7d"
            ],
            [
             0.2,
             "#de77ae"
            ],
            [
             0.3,
             "#f1b6da"
            ],
            [
             0.4,
             "#fde0ef"
            ],
            [
             0.5,
             "#f7f7f7"
            ],
            [
             0.6,
             "#e6f5d0"
            ],
            [
             0.7,
             "#b8e186"
            ],
            [
             0.8,
             "#7fbc41"
            ],
            [
             0.9,
             "#4d9221"
            ],
            [
             1,
             "#276419"
            ]
           ],
           "sequential": [
            [
             0,
             "#0d0887"
            ],
            [
             0.1111111111111111,
             "#46039f"
            ],
            [
             0.2222222222222222,
             "#7201a8"
            ],
            [
             0.3333333333333333,
             "#9c179e"
            ],
            [
             0.4444444444444444,
             "#bd3786"
            ],
            [
             0.5555555555555556,
             "#d8576b"
            ],
            [
             0.6666666666666666,
             "#ed7953"
            ],
            [
             0.7777777777777778,
             "#fb9f3a"
            ],
            [
             0.8888888888888888,
             "#fdca26"
            ],
            [
             1,
             "#f0f921"
            ]
           ],
           "sequentialminus": [
            [
             0,
             "#0d0887"
            ],
            [
             0.1111111111111111,
             "#46039f"
            ],
            [
             0.2222222222222222,
             "#7201a8"
            ],
            [
             0.3333333333333333,
             "#9c179e"
            ],
            [
             0.4444444444444444,
             "#bd3786"
            ],
            [
             0.5555555555555556,
             "#d8576b"
            ],
            [
             0.6666666666666666,
             "#ed7953"
            ],
            [
             0.7777777777777778,
             "#fb9f3a"
            ],
            [
             0.8888888888888888,
             "#fdca26"
            ],
            [
             1,
             "#f0f921"
            ]
           ]
          },
          "colorway": [
           "#636efa",
           "#EF553B",
           "#00cc96",
           "#ab63fa",
           "#FFA15A",
           "#19d3f3",
           "#FF6692",
           "#B6E880",
           "#FF97FF",
           "#FECB52"
          ],
          "font": {
           "color": "#f2f5fa"
          },
          "geo": {
           "bgcolor": "rgb(17,17,17)",
           "lakecolor": "rgb(17,17,17)",
           "landcolor": "rgb(17,17,17)",
           "showlakes": true,
           "showland": true,
           "subunitcolor": "#506784"
          },
          "hoverlabel": {
           "align": "left"
          },
          "hovermode": "closest",
          "mapbox": {
           "style": "dark"
          },
          "paper_bgcolor": "rgb(17,17,17)",
          "plot_bgcolor": "rgb(17,17,17)",
          "polar": {
           "angularaxis": {
            "gridcolor": "#506784",
            "linecolor": "#506784",
            "ticks": ""
           },
           "bgcolor": "rgb(17,17,17)",
           "radialaxis": {
            "gridcolor": "#506784",
            "linecolor": "#506784",
            "ticks": ""
           }
          },
          "scene": {
           "xaxis": {
            "backgroundcolor": "rgb(17,17,17)",
            "gridcolor": "#506784",
            "gridwidth": 2,
            "linecolor": "#506784",
            "showbackground": true,
            "ticks": "",
            "zerolinecolor": "#C8D4E3"
           },
           "yaxis": {
            "backgroundcolor": "rgb(17,17,17)",
            "gridcolor": "#506784",
            "gridwidth": 2,
            "linecolor": "#506784",
            "showbackground": true,
            "ticks": "",
            "zerolinecolor": "#C8D4E3"
           },
           "zaxis": {
            "backgroundcolor": "rgb(17,17,17)",
            "gridcolor": "#506784",
            "gridwidth": 2,
            "linecolor": "#506784",
            "showbackground": true,
            "ticks": "",
            "zerolinecolor": "#C8D4E3"
           }
          },
          "shapedefaults": {
           "line": {
            "color": "#f2f5fa"
           }
          },
          "sliderdefaults": {
           "bgcolor": "#C8D4E3",
           "bordercolor": "rgb(17,17,17)",
           "borderwidth": 1,
           "tickwidth": 0
          },
          "ternary": {
           "aaxis": {
            "gridcolor": "#506784",
            "linecolor": "#506784",
            "ticks": ""
           },
           "baxis": {
            "gridcolor": "#506784",
            "linecolor": "#506784",
            "ticks": ""
           },
           "bgcolor": "rgb(17,17,17)",
           "caxis": {
            "gridcolor": "#506784",
            "linecolor": "#506784",
            "ticks": ""
           }
          },
          "title": {
           "x": 0.05
          },
          "updatemenudefaults": {
           "bgcolor": "#506784",
           "borderwidth": 0
          },
          "xaxis": {
           "automargin": true,
           "gridcolor": "#283442",
           "linecolor": "#506784",
           "ticks": "",
           "title": {
            "standoff": 15
           },
           "zerolinecolor": "#283442",
           "zerolinewidth": 2
          },
          "yaxis": {
           "automargin": true,
           "gridcolor": "#283442",
           "linecolor": "#506784",
           "ticks": "",
           "title": {
            "standoff": 15
           },
           "zerolinecolor": "#283442",
           "zerolinewidth": 2
          }
         }
        },
        "title": {
         "text": "Evolution des points au championnat",
         "x": 0.5
        },
        "updatemenus": [
         {
          "buttons": [
           {
            "args": [
             null,
             {
              "frame": {
               "duration": 500,
               "redraw": true
              },
              "fromcurrent": true,
              "mode": "immediate",
              "transition": {
               "duration": 500,
               "easing": "linear"
              }
             }
            ],
            "label": "&#9654;",
            "method": "animate"
           },
           {
            "args": [
             [
              null
             ],
             {
              "frame": {
               "duration": 0,
               "redraw": true
              },
              "fromcurrent": true,
              "mode": "immediate",
              "transition": {
               "duration": 0,
               "easing": "linear"
              }
             }
            ],
            "label": "&#9724;",
            "method": "animate"
           }
          ],
          "direction": "left",
          "pad": {
           "r": 10,
           "t": 70
          },
          "showactive": false,
          "type": "buttons",
          "x": 0.1,
          "xanchor": "right",
          "y": 0,
          "yanchor": "top"
         }
        ],
        "width": 1000,
        "xaxis": {
         "anchor": "y",
         "domain": [
          0,
          1
         ],
         "title": {
          "text": "Name"
         }
        },
        "yaxis": {
         "anchor": "x",
         "domain": [
          0,
          1
         ],
         "range": [
          0,
          125
         ],
         "title": {
          "text": "cumul_points"
         }
        }
       }
      }
     },
     "metadata": {},
     "output_type": "display_data"
    }
   ],
   "source": [
    "maxY = df2['cumul_points'].max()\n",
    "\n",
    "fig = px.bar(df2, x=\"Abbreviation\", y=\"cumul_points\", color = \"TeamColor\", animation_frame=\"no_race\", \n",
    "             labels=dict(Abbreviation=\"Name\", classement=\"Classement\", FullName = \"Pilote\", no_race='Race'), width = 1000, height=600, text = df2['classement'])\n",
    "\n",
    "\n",
    "fig.update_layout(title_text='Evolution des points au championnat', title_x=0.5)\n",
    "\n",
    "fig.update_traces(textposition='inside')\n",
    "\n",
    "fig.update_yaxes(range=[0, maxY])\n",
    "\n",
    "fig.show()\n",
    "\n",
    "#marker_color=\"#\" + df['TeamColor']"
   ]
  },
  {
   "cell_type": "code",
   "execution_count": null,
   "metadata": {},
   "outputs": [],
   "source": []
  }
 ],
 "metadata": {
  "interpreter": {
   "hash": "25093d32268296aa22b13942be9550a932bc930111fd7b8a8b47dc6b3bcb8f2a"
  },
  "kernelspec": {
   "display_name": "Python 3.9.7 ('base')",
   "language": "python",
   "name": "python3"
  },
  "language_info": {
   "codemirror_mode": {
    "name": "ipython",
    "version": 3
   },
   "file_extension": ".py",
   "mimetype": "text/x-python",
   "name": "python",
   "nbconvert_exporter": "python",
   "pygments_lexer": "ipython3",
   "version": "3.9.7"
  },
  "orig_nbformat": 4
 },
 "nbformat": 4,
 "nbformat_minor": 2
}
